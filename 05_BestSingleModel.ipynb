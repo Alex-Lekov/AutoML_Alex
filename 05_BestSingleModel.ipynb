{
 "cells": [
  {
   "cell_type": "code",
   "execution_count": 1,
   "metadata": {
    "ExecuteTime": {
     "end_time": "2020-05-07T01:04:07.223678Z",
     "start_time": "2020-05-07T01:04:07.203114Z"
    }
   },
   "outputs": [],
   "source": [
    "# If you run this notebook on Google Colaboratory, uncomment the below to install automl_alex.\n",
    "#!pip install -q -U automl_alex"
   ]
  },
  {
   "cell_type": "code",
   "execution_count": 1,
   "metadata": {
    "ExecuteTime": {
     "end_time": "2020-05-07T01:05:50.878720Z",
     "start_time": "2020-05-07T01:05:50.874642Z"
    },
    "tags": []
   },
   "outputs": [
    {
     "output_type": "stream",
     "name": "stdout",
     "text": [
      "AutoML-Alex version: 1.3.8\n"
     ]
    }
   ],
   "source": [
    "import sklearn\n",
    "import pandas as pd\n",
    "import time\n",
    "import automl_alex\n",
    "from automl_alex import DataPrepare\n",
    "from automl_alex import Stacking, StackingClassifier, StackingRegressor\n",
    "print('AutoML-Alex version:', automl_alex.__version__)"
   ]
  },
  {
   "cell_type": "code",
   "execution_count": 2,
   "metadata": {
    "ExecuteTime": {
     "end_time": "2020-05-07T01:05:52.553896Z",
     "start_time": "2020-05-07T01:05:52.549132Z"
    }
   },
   "outputs": [],
   "source": [
    "RANDOM_SEED = 42"
   ]
  },
  {
   "cell_type": "markdown",
   "metadata": {},
   "source": [
    "# Classifier"
   ]
  },
  {
   "cell_type": "markdown",
   "metadata": {},
   "source": [
    "## Data"
   ]
  },
  {
   "cell_type": "code",
   "execution_count": 3,
   "metadata": {
    "ExecuteTime": {
     "end_time": "2020-05-07T01:05:55.127924Z",
     "start_time": "2020-05-07T01:05:55.037616Z"
    }
   },
   "outputs": [
    {
     "output_type": "execute_result",
     "data": {
      "text/plain": [
       "  age         workclass    fnlwgt  education  education-num  \\\n",
       "0   2         State-gov   77516.0  Bachelors           13.0   \n",
       "1   3  Self-emp-not-inc   83311.0  Bachelors           13.0   \n",
       "2   2           Private  215646.0    HS-grad            9.0   \n",
       "3   3           Private  234721.0       11th            7.0   \n",
       "4   1           Private  338409.0  Bachelors           13.0   \n",
       "\n",
       "       marital-status         occupation   relationship   race     sex  \\\n",
       "0       Never-married       Adm-clerical  Not-in-family  White    Male   \n",
       "1  Married-civ-spouse    Exec-managerial        Husband  White    Male   \n",
       "2            Divorced  Handlers-cleaners  Not-in-family  White    Male   \n",
       "3  Married-civ-spouse  Handlers-cleaners        Husband  Black    Male   \n",
       "4  Married-civ-spouse     Prof-specialty           Wife  Black  Female   \n",
       "\n",
       "  capitalgain capitalloss hoursperweek native-country  \n",
       "0           1           0            2  United-States  \n",
       "1           0           0            0  United-States  \n",
       "2           0           0            2  United-States  \n",
       "3           0           0            2  United-States  \n",
       "4           0           0            2           Cuba  "
      ],
      "text/html": "<div>\n<style scoped>\n    .dataframe tbody tr th:only-of-type {\n        vertical-align: middle;\n    }\n\n    .dataframe tbody tr th {\n        vertical-align: top;\n    }\n\n    .dataframe thead th {\n        text-align: right;\n    }\n</style>\n<table border=\"1\" class=\"dataframe\">\n  <thead>\n    <tr style=\"text-align: right;\">\n      <th></th>\n      <th>age</th>\n      <th>workclass</th>\n      <th>fnlwgt</th>\n      <th>education</th>\n      <th>education-num</th>\n      <th>marital-status</th>\n      <th>occupation</th>\n      <th>relationship</th>\n      <th>race</th>\n      <th>sex</th>\n      <th>capitalgain</th>\n      <th>capitalloss</th>\n      <th>hoursperweek</th>\n      <th>native-country</th>\n    </tr>\n  </thead>\n  <tbody>\n    <tr>\n      <th>0</th>\n      <td>2</td>\n      <td>State-gov</td>\n      <td>77516.0</td>\n      <td>Bachelors</td>\n      <td>13.0</td>\n      <td>Never-married</td>\n      <td>Adm-clerical</td>\n      <td>Not-in-family</td>\n      <td>White</td>\n      <td>Male</td>\n      <td>1</td>\n      <td>0</td>\n      <td>2</td>\n      <td>United-States</td>\n    </tr>\n    <tr>\n      <th>1</th>\n      <td>3</td>\n      <td>Self-emp-not-inc</td>\n      <td>83311.0</td>\n      <td>Bachelors</td>\n      <td>13.0</td>\n      <td>Married-civ-spouse</td>\n      <td>Exec-managerial</td>\n      <td>Husband</td>\n      <td>White</td>\n      <td>Male</td>\n      <td>0</td>\n      <td>0</td>\n      <td>0</td>\n      <td>United-States</td>\n    </tr>\n    <tr>\n      <th>2</th>\n      <td>2</td>\n      <td>Private</td>\n      <td>215646.0</td>\n      <td>HS-grad</td>\n      <td>9.0</td>\n      <td>Divorced</td>\n      <td>Handlers-cleaners</td>\n      <td>Not-in-family</td>\n      <td>White</td>\n      <td>Male</td>\n      <td>0</td>\n      <td>0</td>\n      <td>2</td>\n      <td>United-States</td>\n    </tr>\n    <tr>\n      <th>3</th>\n      <td>3</td>\n      <td>Private</td>\n      <td>234721.0</td>\n      <td>11th</td>\n      <td>7.0</td>\n      <td>Married-civ-spouse</td>\n      <td>Handlers-cleaners</td>\n      <td>Husband</td>\n      <td>Black</td>\n      <td>Male</td>\n      <td>0</td>\n      <td>0</td>\n      <td>2</td>\n      <td>United-States</td>\n    </tr>\n    <tr>\n      <th>4</th>\n      <td>1</td>\n      <td>Private</td>\n      <td>338409.0</td>\n      <td>Bachelors</td>\n      <td>13.0</td>\n      <td>Married-civ-spouse</td>\n      <td>Prof-specialty</td>\n      <td>Wife</td>\n      <td>Black</td>\n      <td>Female</td>\n      <td>0</td>\n      <td>0</td>\n      <td>2</td>\n      <td>Cuba</td>\n    </tr>\n  </tbody>\n</table>\n</div>"
     },
     "metadata": {},
     "execution_count": 3
    }
   ],
   "source": [
    "from sklearn.datasets import fetch_openml\n",
    "from sklearn.model_selection import train_test_split\n",
    "# https://www.openml.org/d/179\n",
    "dataset = fetch_openml(data_id=179, as_frame=True)\n",
    "dataset.target = dataset.target.astype('category').cat.codes\n",
    "dataset.data.head(5)"
   ]
  },
  {
   "cell_type": "code",
   "execution_count": 4,
   "metadata": {
    "ExecuteTime": {
     "end_time": "2020-05-07T01:05:56.756465Z",
     "start_time": "2020-05-07T01:05:56.734220Z"
    }
   },
   "outputs": [
    {
     "output_type": "execute_result",
     "data": {
      "text/plain": [
       "((39073, 14), (9769, 14))"
      ]
     },
     "metadata": {},
     "execution_count": 4
    }
   ],
   "source": [
    "X_train, X_test, y_train, y_test = train_test_split(dataset.data, \n",
    "                                                    dataset.target,\n",
    "                                                    test_size=0.2, \n",
    "                                                    random_state=RANDOM_SEED,)\n",
    "X_train.shape, X_test.shape"
   ]
  },
  {
   "source": [
    "## Stacking"
   ],
   "cell_type": "markdown",
   "metadata": {}
  },
  {
   "cell_type": "code",
   "execution_count": 5,
   "metadata": {
    "tags": []
   },
   "outputs": [
    {
     "output_type": "stream",
     "name": "stderr",
     "text": [
      "18:58:06 | metric is None! Default metric will be used. classifier: AUC, regression: MSE\n"
     ]
    }
   ],
   "source": [
    "model = StackingClassifier(\n",
    "    clean_and_encod_data=True,\n",
    "    opt_data_prepare=True,\n",
    "    models_names = ['LightGBM', 'ExtraTrees', 'LinearModel', 'RandomForest',],\n",
    "    cat_encoder_names= [\n",
    "            \"HelmertEncoder\",\n",
    "            \"OneHotEncoder\",\n",
    "            \"CountEncoder\",\n",
    "            \"HashingEncoder\",\n",
    "            \"BackwardDifferenceEncoder\",\n",
    "        ],\n",
    "    target_encoders_names= [\n",
    "            \"TargetEncoder\",\n",
    "            \"JamesSteinEncoder\",\n",
    "            \"CatBoostEncoder\",\n",
    "        ],\n",
    "    clean_outliers = [True, False],\n",
    "    num_generator_select_operations = True,\n",
    "    num_generator_operations = [\"/\", \"*\", \"-\"],\n",
    "    auto_parameters=True,\n",
    "    feature_selection=False,\n",
    "    random_state=RANDOM_SEED,)"
   ]
  },
  {
   "cell_type": "code",
   "execution_count": 6,
   "metadata": {
    "tags": []
   },
   "outputs": [
    {
     "output_type": "stream",
     "name": "stderr",
     "text": [
      "18:58:06 | ##################################################\n",
      "18:58:07 | > Step 1: calc parameters and pruned score: get test 10 trials\n",
      "ALL MODELS MEAN Score: 0.9091, std: 0.00145\n",
      "TOP10 MODELS MEAN Score: 0.9091, std: 0.00145\n",
      "##################################################\n",
      "ALL MODELS MEAN Score: 0.9098, std: 0.00095\n",
      "TOP10 MODELS MEAN Score: 0.9098, std: 0.00095\n",
      "##################################################\n",
      "ALL MODELS MEAN Score: 0.9103, std: 0.0007\n",
      "TOP10 MODELS MEAN Score: 0.9103, std: 0.0007\n",
      "##################################################\n",
      "ALL MODELS MEAN Score: 0.91, std: 0.00055\n",
      "TOP10 MODELS MEAN Score: 0.91, std: 0.00055\n",
      "##################################################\n",
      "ALL MODELS MEAN Score: 0.9114, std: 0.0013\n",
      "TOP10 MODELS MEAN Score: 0.9114, std: 0.0013\n",
      "##################################################\n",
      "ALL MODELS MEAN Score: 0.9114, std: 0.00105\n",
      "TOP10 MODELS MEAN Score: 0.9114, std: 0.00105\n",
      "##################################################\n",
      "ALL MODELS MEAN Score: 0.911, std: 0.00095\n",
      "TOP10 MODELS MEAN Score: 0.911, std: 0.00095\n",
      "##################################################\n",
      "ALL MODELS MEAN Score: 0.9112, std: 0.0014\n",
      "TOP10 MODELS MEAN Score: 0.9112, std: 0.0014\n",
      "##################################################\n",
      "ALL MODELS MEAN Score: 0.912, std: 0.00145\n",
      "TOP10 MODELS MEAN Score: 0.912, std: 0.00145\n",
      "##################################################\n",
      "ALL MODELS MEAN Score: 0.912, std: 0.00135\n",
      "TOP10 MODELS MEAN Score: 0.912, std: 0.00135\n",
      "##################################################\n",
      "18:59:57 |  One iteration ~ 11.0 sec\n",
      "18:59:57 |  Possible iters ~ 54.0\n",
      "18:59:57 | ! Not enough time to find the optimal parameters. \n",
      "                     Possible iters < 100. \n",
      "                     Please, Increase the 'timeout' parameter for normal optimization.\n",
      "18:59:57 | --------------------------------------------------\n",
      "18:59:57 |   Pruned Threshold Score: 0.9056\n",
      "18:59:57 | ##################################################\n",
      "18:59:57 | > Step 2: Full opt with Threshold Score Pruner\n",
      "18:59:57 | ##################################################\n",
      "18:59:57 | > Start optimization with the parameters:\n",
      "18:59:57 | CV_Folds = 7\n",
      "18:59:57 | Score_CV_Folds = 3\n",
      "18:59:57 | Feature_Selection = False\n",
      "18:59:57 | Opt_lvl = 1\n",
      "18:59:57 | Cold_start = 15\n",
      "18:59:57 | Early_stoping = 25\n",
      "18:59:57 | Metric = roc_auc_score\n",
      "18:59:57 | Direction = maximize\n",
      "18:59:57 | ##################################################\n",
      "Optimize: : 0it [00:00, ?it/s]ALL MODELS MEAN Score: 0.9084, std: 0.005293\n",
      "TOP10 MODELS MEAN Score: 0.9082, std: 0.00511\n",
      "##################################################\n",
      "Optimize: : 1it [00:15, 15.98s/it, | Model: ExtraTrees | OptScore: 0.902 | Best roc_auc_score: 0.9116 ]ALL MODELS MEAN Score: 0.912, std: 0.001517\n",
      "TOP10 MODELS MEAN Score: 0.9116, std: 0.000946\n",
      "##################################################\n",
      "Optimize: : 2it [00:29, 15.27s/it, | Model: LightGBM | OptScore: 0.913 | Best roc_auc_score: 0.9116 ]ALL MODELS MEAN Score: 0.9118, std: 0.001657\n",
      "TOP10 MODELS MEAN Score: 0.912, std: 0.00068\n",
      "##################################################\n",
      "Optimize: : 3it [00:54, 18.05s/it, | Model: ExtraTrees | OptScore: 0.9056 | Best roc_auc_score: 0.913 ]ALL MODELS MEAN Score: 0.9126, std: 0.001396\n",
      "TOP10 MODELS MEAN Score: 0.913, std: 0.000748\n",
      "##################################################\n",
      "Optimize: : 4it [01:22, 21.10s/it, | Model: LightGBM | OptScore: 0.912 | Best roc_auc_score: 0.913 ]ALL MODELS MEAN Score: 0.913, std: 0.001391\n",
      "TOP10 MODELS MEAN Score: 0.9135, std: 0.000974\n",
      "##################################################\n",
      "Optimize: : 5it [01:52, 23.88s/it, | Model: LightGBM | OptScore: 0.9119 | Best roc_auc_score: 0.913 ]ALL MODELS MEAN Score: 0.9133, std: 0.001391\n",
      "TOP10 MODELS MEAN Score: 0.914, std: 0.00125\n",
      "##################################################\n",
      "Optimize: : 6it [02:36, 29.89s/it, | Model: LightGBM | OptScore: 0.9121 | Best roc_auc_score: 0.913 ]ALL MODELS MEAN Score: 0.9136, std: 0.001414\n",
      "TOP10 MODELS MEAN Score: 0.9144, std: 0.00137\n",
      "##################################################\n",
      "Optimize: : 7it [02:51, 25.43s/it, | Model: LightGBM | OptScore: 0.9131 | Best roc_auc_score: 0.913 ]ALL MODELS MEAN Score: 0.9138, std: 0.001414\n",
      "TOP10 MODELS MEAN Score: 0.9146, std: 0.001674\n",
      "##################################################\n",
      "Optimize: : 8it [03:06, 22.15s/it, | Model: LightGBM | OptScore: 0.9107 | Best roc_auc_score: 0.9131 ]ALL MODELS MEAN Score: 0.9138, std: 0.001417\n",
      "TOP10 MODELS MEAN Score: 0.9146, std: 0.001752\n",
      "##################################################\n",
      "Optimize: : 9it [03:19, 19.48s/it, | Model: LightGBM | OptScore: 0.9091 | Best roc_auc_score: 0.9131 ]ALL MODELS MEAN Score: 0.9139, std: 0.00149\n",
      "TOP10 MODELS MEAN Score: 0.9148, std: 0.001772\n",
      "##################################################\n",
      "Optimize: : 10it [03:35, 18.34s/it, | Model: LightGBM | OptScore: 0.9126 | Best roc_auc_score: 0.9131 ]ALL MODELS MEAN Score: 0.914, std: 0.00147\n",
      "TOP10 MODELS MEAN Score: 0.9147, std: 0.001768\n",
      "##################################################\n",
      "Optimize: : 11it [03:49, 17.29s/it, | Model: LightGBM | OptScore: 0.9126 | Best roc_auc_score: 0.9131 ]ALL MODELS MEAN Score: 0.9141, std: 0.00149\n",
      "TOP10 MODELS MEAN Score: 0.9148, std: 0.001793\n",
      "##################################################\n",
      "Optimize: : 12it [04:04, 16.34s/it, | Model: LightGBM | OptScore: 0.9125 | Best roc_auc_score: 0.9131 ]ALL MODELS MEAN Score: 0.9142, std: 0.00149\n",
      "TOP10 MODELS MEAN Score: 0.9149, std: 0.001721\n",
      "##################################################\n",
      "Optimize: : 13it [04:36, 21.27s/it, | Model: LightGBM | OptScore: 0.9124 | Best roc_auc_score: 0.9131 ]ALL MODELS MEAN Score: 0.9143, std: 0.001443\n",
      "TOP10 MODELS MEAN Score: 0.9149, std: 0.001697\n",
      "##################################################\n",
      "Optimize: : 14it [04:56, 20.85s/it, | Model: LightGBM | OptScore: 0.9131 | Best roc_auc_score: 0.9131 ]ALL MODELS MEAN Score: 0.9143, std: 0.00149\n",
      "TOP10 MODELS MEAN Score: 0.9149, std: 0.001744\n",
      "##################################################\n",
      "Optimize: : 15it [05:14, 19.89s/it, | Model: LightGBM | OptScore: 0.913 | Best roc_auc_score: 0.9131 ]ALL MODELS MEAN Score: 0.9144, std: 0.001443\n",
      "TOP10 MODELS MEAN Score: 0.9149, std: 0.001674\n",
      "##################################################\n",
      "Optimize: : 16it [05:35, 20.28s/it, | Model: LightGBM | OptScore: 0.9128 | Best roc_auc_score: 0.9131 ]ALL MODELS MEAN Score: 0.9145, std: 0.001443\n",
      "TOP10 MODELS MEAN Score: 0.915, std: 0.001627\n",
      "##################################################\n",
      "Optimize: : 17it [05:58, 21.00s/it, | Model: LightGBM | OptScore: 0.9134 | Best roc_auc_score: 0.9131 ]ALL MODELS MEAN Score: 0.9145, std: 0.001443\n",
      "TOP10 MODELS MEAN Score: 0.915, std: 0.001558\n",
      "##################################################\n",
      "Optimize: : 18it [06:50, 30.39s/it, | Model: LightGBM | OptScore: 0.9133 | Best roc_auc_score: 0.9134 ]ALL MODELS MEAN Score: 0.9145, std: 0.00147\n",
      "TOP10 MODELS MEAN Score: 0.915, std: 0.001558\n",
      "##################################################\n",
      "Optimize: : 19it [07:24, 23.42s/it, | Model: LightGBM | OptScore: 0.913 | Best roc_auc_score: 0.9134 ]\n",
      "19:07:22 | > Finish Opt!\n",
      "ALL MODELS MEAN Score: 0.9145, std: 0.00147\n",
      "TOP10 MODELS MEAN Score: 0.915, std: 0.00149\n",
      "##################################################\n",
      "19:07:44 | Best Score: 0.9134 roc_auc_score\n"
     ]
    },
    {
     "output_type": "error",
     "ename": "AttributeError",
     "evalue": "'tuple' object has no attribute 'estimator'",
     "traceback": [
      "\u001b[0;31m---------------------------------------------------------------------------\u001b[0m",
      "\u001b[0;31mAttributeError\u001b[0m                            Traceback (most recent call last)",
      "\u001b[0;32m<ipython-input-6-8ede416baae7>\u001b[0m in \u001b[0;36m<module>\u001b[0;34m\u001b[0m\n\u001b[0;32m----> 1\u001b[0;31m \u001b[0mhistory\u001b[0m \u001b[0;34m=\u001b[0m \u001b[0mmodel\u001b[0m\u001b[0;34m.\u001b[0m\u001b[0mopt\u001b[0m\u001b[0;34m(\u001b[0m\u001b[0mX_train\u001b[0m\u001b[0;34m,\u001b[0m \u001b[0my_train\u001b[0m\u001b[0;34m,\u001b[0m \u001b[0mtimeout\u001b[0m\u001b[0;34m=\u001b[0m\u001b[0;36m600\u001b[0m\u001b[0;34m,\u001b[0m \u001b[0mverbose\u001b[0m\u001b[0;34m=\u001b[0m\u001b[0;36m3\u001b[0m\u001b[0;34m)\u001b[0m\u001b[0;34m\u001b[0m\u001b[0;34m\u001b[0m\u001b[0m\n\u001b[0m",
      "\u001b[0;32m~/Documents/AutoML/AutoML_Alex/automl_alex/optimizer.py\u001b[0m in \u001b[0;36mopt\u001b[0;34m(self, X, y, timeout, verbose)\u001b[0m\n\u001b[1;32m    685\u001b[0m         \u001b[0mlogger\u001b[0m\u001b[0;34m.\u001b[0m\u001b[0minfo\u001b[0m\u001b[0;34m(\u001b[0m\u001b[0;34mf\"Best Score: {self.study.best_value} {self.metric.__name__}\"\u001b[0m\u001b[0;34m)\u001b[0m\u001b[0;34m\u001b[0m\u001b[0;34m\u001b[0m\u001b[0m\n\u001b[1;32m    686\u001b[0m \u001b[0;34m\u001b[0m\u001b[0m\n\u001b[0;32m--> 687\u001b[0;31m         \u001b[0mself\u001b[0m\u001b[0;34m.\u001b[0m\u001b[0mbest_model_name\u001b[0m \u001b[0;34m=\u001b[0m \u001b[0mself\u001b[0m\u001b[0;34m.\u001b[0m\u001b[0mcv_model\u001b[0m\u001b[0;34m.\u001b[0m\u001b[0mestimator\u001b[0m\u001b[0;34m.\u001b[0m\u001b[0m__name__\u001b[0m\u001b[0;34m\u001b[0m\u001b[0;34m\u001b[0m\u001b[0m\n\u001b[0m\u001b[1;32m    688\u001b[0m         \u001b[0mself\u001b[0m\u001b[0;34m.\u001b[0m\u001b[0mbest_model_param\u001b[0m \u001b[0;34m=\u001b[0m \u001b[0mself\u001b[0m\u001b[0;34m.\u001b[0m\u001b[0mcv_model\u001b[0m\u001b[0;34m.\u001b[0m\u001b[0mestimator\u001b[0m\u001b[0;34m.\u001b[0m\u001b[0mmodel_param\u001b[0m\u001b[0;34m\u001b[0m\u001b[0;34m\u001b[0m\u001b[0m\n\u001b[1;32m    689\u001b[0m         \u001b[0;32mreturn\u001b[0m \u001b[0mself\u001b[0m\u001b[0;34m.\u001b[0m\u001b[0mstudy\u001b[0m\u001b[0;34m.\u001b[0m\u001b[0mtrials_dataframe\u001b[0m\u001b[0;34m(\u001b[0m\u001b[0;34m)\u001b[0m\u001b[0;34m\u001b[0m\u001b[0;34m\u001b[0m\u001b[0m\n",
      "\u001b[0;31mAttributeError\u001b[0m: 'tuple' object has no attribute 'estimator'"
     ]
    }
   ],
   "source": [
    "history = model.opt(X_train, y_train, timeout=600, verbose=3)"
   ]
  },
  {
   "cell_type": "code",
   "execution_count": 7,
   "metadata": {},
   "outputs": [
    {
     "output_type": "execute_result",
     "data": {
      "text/plain": [
       "    trial_number  model_score  score_std    model_name  \\\n",
       "29             0       0.9147   0.001327      LightGBM   \n",
       "26            28       0.9147   0.001327      LightGBM   \n",
       "28            30       0.9146   0.001605      LightGBM   \n",
       "27            29       0.9146   0.001302      LightGBM   \n",
       "23            25       0.9145   0.001389      LightGBM   \n",
       "16            18       0.9145   0.001389      LightGBM   \n",
       "25            27       0.9144   0.001639      LightGBM   \n",
       "24            26       0.9144   0.001406      LightGBM   \n",
       "11            12       0.9142   0.001173      LightGBM   \n",
       "13            15       0.9142   0.002210      LightGBM   \n",
       "15            17       0.9142   0.002083      LightGBM   \n",
       "20            22       0.9141   0.001482      LightGBM   \n",
       "19            21       0.9141   0.001517      LightGBM   \n",
       "14            16       0.9141   0.002195      LightGBM   \n",
       "8              8       0.9140   0.002400      LightGBM   \n",
       "22            24       0.9138   0.001443      LightGBM   \n",
       "21            23       0.9137   0.001158      LightGBM   \n",
       "17            19       0.9126   0.001866      LightGBM   \n",
       "18            20       0.9106   0.001461      LightGBM   \n",
       "0              0       0.9091   0.001450  RandomForest   \n",
       "12            14       0.9073   0.001650    ExtraTrees   \n",
       "9              9       0.9068   0.000700  RandomForest   \n",
       "5              5       0.9067   0.000300  RandomForest   \n",
       "2              2       0.9061   0.000400    ExtraTrees   \n",
       "3              3       0.9057   0.000100    ExtraTrees   \n",
       "1              1       0.9056   0.000750  RandomForest   \n",
       "6              6       0.9048   0.000850  RandomForest   \n",
       "10            11       0.9043   0.002299    ExtraTrees   \n",
       "4              4       0.9024   0.004050      LightGBM   \n",
       "7              7       0.9012   0.003650      LightGBM   \n",
       "\n",
       "                                          model_param columns  folds  \\\n",
       "29  {'random_seed': 42, 'num_iterations': 300, 've...    None      7   \n",
       "26  {'random_seed': 42, 'num_iterations': 300, 've...    None      7   \n",
       "28  {'random_seed': 42, 'num_iterations': 300, 've...    None      7   \n",
       "27  {'random_seed': 42, 'num_iterations': 300, 've...    None      7   \n",
       "23  {'random_seed': 42, 'num_iterations': 300, 've...    None      7   \n",
       "16  {'random_seed': 42, 'num_iterations': 300, 've...    None      7   \n",
       "25  {'random_seed': 42, 'num_iterations': 300, 've...    None      7   \n",
       "24  {'random_seed': 42, 'num_iterations': 300, 've...    None      7   \n",
       "11  {'random_seed': 42, 'num_iterations': 300, 've...    None      7   \n",
       "13  {'random_seed': 42, 'num_iterations': 300, 've...    None      7   \n",
       "15  {'random_seed': 42, 'num_iterations': 300, 've...    None      7   \n",
       "20  {'random_seed': 42, 'num_iterations': 300, 've...    None      7   \n",
       "19  {'random_seed': 42, 'num_iterations': 300, 've...    None      7   \n",
       "14  {'random_seed': 42, 'num_iterations': 300, 've...    None      7   \n",
       "8   {'random_seed': 42, 'num_iterations': 300, 've...    None      7   \n",
       "22  {'random_seed': 42, 'num_iterations': 300, 've...    None      7   \n",
       "21  {'random_seed': 42, 'num_iterations': 300, 've...    None      7   \n",
       "17  {'random_seed': 42, 'num_iterations': 300, 've...    None      7   \n",
       "18  {'random_seed': 42, 'num_iterations': 300, 've...    None      7   \n",
       "0   {'verbose': 0, 'random_state': 42, 'n_jobs': -...    None      7   \n",
       "12  {'verbose': 0, 'random_state': 42, 'n_jobs': -...    None      7   \n",
       "9   {'verbose': 0, 'random_state': 42, 'n_jobs': -...    None      7   \n",
       "5   {'verbose': 0, 'random_state': 42, 'n_jobs': -...    None      7   \n",
       "2   {'verbose': 0, 'random_state': 42, 'n_jobs': -...    None      7   \n",
       "3   {'verbose': 0, 'random_state': 42, 'n_jobs': -...    None      7   \n",
       "1   {'verbose': 0, 'random_state': 42, 'n_jobs': -...    None      7   \n",
       "6   {'verbose': 0, 'random_state': 42, 'n_jobs': -...    None      7   \n",
       "10  {'verbose': 0, 'random_state': 42, 'n_jobs': -...    None      7   \n",
       "4   {'random_seed': 42, 'num_iterations': 300, 've...    None      7   \n",
       "7   {'random_seed': 42, 'num_iterations': 300, 've...    None      7   \n",
       "\n",
       "    score_folds                                      y_pred_fold_0  \\\n",
       "29            3  [0.2947912706787872, 0.6408696078733724, 0.348...   \n",
       "26            3  [0.2947912706787872, 0.6408696078733724, 0.348...   \n",
       "28            3  [0.29490974351468585, 0.648356590416068, 0.362...   \n",
       "27            3  [0.28820996266175397, 0.6429942373345546, 0.35...   \n",
       "23            3  [0.28720455266892964, 0.6398578779102114, 0.36...   \n",
       "16            3  [0.29212539354342254, 0.6552168001215664, 0.33...   \n",
       "25            3  [0.2861682683411354, 0.6194171940467799, 0.373...   \n",
       "24            3  [0.2848615228430659, 0.6421341468086584, 0.350...   \n",
       "11            3  [0.30290325738092483, 0.6592076773438541, 0.35...   \n",
       "13            3  [0.2933998299259204, 0.6001209372331096, 0.361...   \n",
       "15            3  [0.29946212259039784, 0.6463021776799821, 0.34...   \n",
       "20            3  [0.28172075979283395, 0.6340673342885824, 0.31...   \n",
       "19            3  [0.2885410640182852, 0.6539106176546847, 0.330...   \n",
       "14            3  [0.2792157197143897, 0.5408988481304422, 0.357...   \n",
       "8             2  [0.3026171616547064, 0.6227073931064678, 0.374...   \n",
       "22            3  [0.25871408215767877, 0.653753145478009, 0.302...   \n",
       "21            3  [0.28099188676305714, 0.643626558614505, 0.335...   \n",
       "17            3  [0.2720462325554734, 0.6525418982452381, 0.343...   \n",
       "18            3  [0.3376998110034188, 0.6273208035881152, 0.410...   \n",
       "0             2  [0.2577317492200407, 0.6926235463536368, 0.388...   \n",
       "12            3  [0.2843551616872547, 0.6681856185684443, 0.397...   \n",
       "9             2  [0.3483097332938372, 0.6744331625901387, 0.393...   \n",
       "5             2  [0.33294462905329003, 0.6993026521697595, 0.35...   \n",
       "2             2  [0.39251813593869644, 0.6580863907686003, 0.41...   \n",
       "3             2  [0.3107431479223007, 0.7225983041884091, 0.351...   \n",
       "1             2  [0.17674101184319377, 0.7123519072965024, 0.36...   \n",
       "6             2  [0.28594242682755633, 0.7499191590637699, 0.37...   \n",
       "10            3  [0.4512767999231692, 0.6711856960724495, 0.463...   \n",
       "4             2  [0.2952521521795356, 0.6332507946539534, 0.330...   \n",
       "7             2  [0.12075603556520498, 0.6582385174169662, 0.44...   \n",
       "\n",
       "                                        y_pred_fold_1  \\\n",
       "29  [0.8636942399973465, 0.9944626629172326, 0.403...   \n",
       "26  [0.8636942399973465, 0.9944626629172326, 0.403...   \n",
       "28  [0.876331220849079, 0.9951188203506157, 0.4000...   \n",
       "27  [0.8736047449598587, 0.9942296708715281, 0.395...   \n",
       "23  [0.8762826225432682, 0.99425581010214, 0.40655...   \n",
       "16  [0.8528324618740729, 0.9946954024474262, 0.414...   \n",
       "25  [0.7382277485500333, 0.9958456230286437, 0.373...   \n",
       "24  [0.8825215972594904, 0.9943551509840027, 0.408...   \n",
       "11  [0.5996874528110255, 0.9956006996054263, 0.408...   \n",
       "13  [0.7606375808282824, 0.9964298175199703, 0.423...   \n",
       "15  [0.8496657894758802, 0.9959770895434561, 0.412...   \n",
       "20  [0.7968609397817323, 0.9948095665366602, 0.404...   \n",
       "19  [0.8571440571492815, 0.9935036075110252, 0.420...   \n",
       "14  [0.644721203915343, 0.9961473866386642, 0.4431...   \n",
       "8   [0.8392409491796072, 0.9909417478547903, 0.424...   \n",
       "22  [0.8233590556052875, 0.9962747926962381, 0.393...   \n",
       "21  [0.769059047124139, 0.9945014836518672, 0.4143...   \n",
       "17  [0.7402124013339936, 0.9963409441067319, 0.388...   \n",
       "18  [0.9584590563405565, 0.9904866915148757, 0.481...   \n",
       "0   [0.932807693317492, 0.9951397587105016, 0.4480...   \n",
       "12  [0.9391959926508838, 0.9971581167045751, 0.496...   \n",
       "9   [0.9348843778280639, 0.991428873883833, 0.4425...   \n",
       "5   [0.8957201690246164, 0.9966318823845122, 0.399...   \n",
       "2   [0.9395699717693856, 0.9915216093209135, 0.441...   \n",
       "3   [0.9309803118298793, 0.9933979871038374, 0.439...   \n",
       "1   [0.8044377961810731, 0.9992105263157894, 0.433...   \n",
       "6   [0.8429958300616801, 0.9917368421052631, 0.429...   \n",
       "10  [0.9016585452995024, 0.9711639378094569, 0.521...   \n",
       "4   [0.9615041222845758, 0.999937473114331, 0.3024...   \n",
       "7   [0.9719964156741003, 0.9999705351579836, 0.403...   \n",
       "\n",
       "                                        y_pred_fold_2  \n",
       "29  [0.27375135912269233, 0.92143763061316, 0.0533...  \n",
       "26  [0.27375135912269233, 0.92143763061316, 0.0533...  \n",
       "28  [0.27296606877655977, 0.9091873873127332, 0.05...  \n",
       "27  [0.2653680315318857, 0.9084161001031708, 0.047...  \n",
       "23  [0.2656387934682116, 0.9118932823868392, 0.057...  \n",
       "16  [0.2776528474545949, 0.9040526507422194, 0.055...  \n",
       "25  [0.255733966698499, 0.927889734940262, 0.06549...  \n",
       "24  [0.2692785658012025, 0.912814533535276, 0.0547...  \n",
       "11  [0.262166713892124, 0.8860454860792766, 0.0420...  \n",
       "13  [0.2676067437994037, 0.9192836052458169, 0.034...  \n",
       "15  [0.26507764372985215, 0.9307780096455575, 0.03...  \n",
       "20  [0.2850437890307913, 0.9164981797105437, 0.051...  \n",
       "19  [0.2687683786750885, 0.9067962318514191, 0.054...  \n",
       "14  [0.2576085665093636, 0.9303608362139149, 0.025...  \n",
       "8                                                 NaN  \n",
       "22  [0.28447466256325926, 0.9295539123535504, 0.07...  \n",
       "21  [0.26623220201156256, 0.8859518239626083, 0.03...  \n",
       "17  [0.25375861024779156, 0.8902702036091749, 0.04...  \n",
       "18  [0.2835934716655262, 0.9115415217861484, 0.074...  \n",
       "0                                                 NaN  \n",
       "12  [0.2896184287902368, 0.9546893903582437, 0.323...  \n",
       "9                                                 NaN  \n",
       "5                                                 NaN  \n",
       "2                                                 NaN  \n",
       "3                                                 NaN  \n",
       "1                                                 NaN  \n",
       "6                                                 NaN  \n",
       "10  [0.4469123512293016, 0.9221978758303502, 0.398...  \n",
       "4                                                 NaN  \n",
       "7                                                 NaN  "
      ],
      "text/html": "<div>\n<style scoped>\n    .dataframe tbody tr th:only-of-type {\n        vertical-align: middle;\n    }\n\n    .dataframe tbody tr th {\n        vertical-align: top;\n    }\n\n    .dataframe thead th {\n        text-align: right;\n    }\n</style>\n<table border=\"1\" class=\"dataframe\">\n  <thead>\n    <tr style=\"text-align: right;\">\n      <th></th>\n      <th>trial_number</th>\n      <th>model_score</th>\n      <th>score_std</th>\n      <th>model_name</th>\n      <th>model_param</th>\n      <th>columns</th>\n      <th>folds</th>\n      <th>score_folds</th>\n      <th>y_pred_fold_0</th>\n      <th>y_pred_fold_1</th>\n      <th>y_pred_fold_2</th>\n    </tr>\n  </thead>\n  <tbody>\n    <tr>\n      <th>29</th>\n      <td>0</td>\n      <td>0.9147</td>\n      <td>0.001327</td>\n      <td>LightGBM</td>\n      <td>{'random_seed': 42, 'num_iterations': 300, 've...</td>\n      <td>None</td>\n      <td>7</td>\n      <td>3</td>\n      <td>[0.2947912706787872, 0.6408696078733724, 0.348...</td>\n      <td>[0.8636942399973465, 0.9944626629172326, 0.403...</td>\n      <td>[0.27375135912269233, 0.92143763061316, 0.0533...</td>\n    </tr>\n    <tr>\n      <th>26</th>\n      <td>28</td>\n      <td>0.9147</td>\n      <td>0.001327</td>\n      <td>LightGBM</td>\n      <td>{'random_seed': 42, 'num_iterations': 300, 've...</td>\n      <td>None</td>\n      <td>7</td>\n      <td>3</td>\n      <td>[0.2947912706787872, 0.6408696078733724, 0.348...</td>\n      <td>[0.8636942399973465, 0.9944626629172326, 0.403...</td>\n      <td>[0.27375135912269233, 0.92143763061316, 0.0533...</td>\n    </tr>\n    <tr>\n      <th>28</th>\n      <td>30</td>\n      <td>0.9146</td>\n      <td>0.001605</td>\n      <td>LightGBM</td>\n      <td>{'random_seed': 42, 'num_iterations': 300, 've...</td>\n      <td>None</td>\n      <td>7</td>\n      <td>3</td>\n      <td>[0.29490974351468585, 0.648356590416068, 0.362...</td>\n      <td>[0.876331220849079, 0.9951188203506157, 0.4000...</td>\n      <td>[0.27296606877655977, 0.9091873873127332, 0.05...</td>\n    </tr>\n    <tr>\n      <th>27</th>\n      <td>29</td>\n      <td>0.9146</td>\n      <td>0.001302</td>\n      <td>LightGBM</td>\n      <td>{'random_seed': 42, 'num_iterations': 300, 've...</td>\n      <td>None</td>\n      <td>7</td>\n      <td>3</td>\n      <td>[0.28820996266175397, 0.6429942373345546, 0.35...</td>\n      <td>[0.8736047449598587, 0.9942296708715281, 0.395...</td>\n      <td>[0.2653680315318857, 0.9084161001031708, 0.047...</td>\n    </tr>\n    <tr>\n      <th>23</th>\n      <td>25</td>\n      <td>0.9145</td>\n      <td>0.001389</td>\n      <td>LightGBM</td>\n      <td>{'random_seed': 42, 'num_iterations': 300, 've...</td>\n      <td>None</td>\n      <td>7</td>\n      <td>3</td>\n      <td>[0.28720455266892964, 0.6398578779102114, 0.36...</td>\n      <td>[0.8762826225432682, 0.99425581010214, 0.40655...</td>\n      <td>[0.2656387934682116, 0.9118932823868392, 0.057...</td>\n    </tr>\n    <tr>\n      <th>16</th>\n      <td>18</td>\n      <td>0.9145</td>\n      <td>0.001389</td>\n      <td>LightGBM</td>\n      <td>{'random_seed': 42, 'num_iterations': 300, 've...</td>\n      <td>None</td>\n      <td>7</td>\n      <td>3</td>\n      <td>[0.29212539354342254, 0.6552168001215664, 0.33...</td>\n      <td>[0.8528324618740729, 0.9946954024474262, 0.414...</td>\n      <td>[0.2776528474545949, 0.9040526507422194, 0.055...</td>\n    </tr>\n    <tr>\n      <th>25</th>\n      <td>27</td>\n      <td>0.9144</td>\n      <td>0.001639</td>\n      <td>LightGBM</td>\n      <td>{'random_seed': 42, 'num_iterations': 300, 've...</td>\n      <td>None</td>\n      <td>7</td>\n      <td>3</td>\n      <td>[0.2861682683411354, 0.6194171940467799, 0.373...</td>\n      <td>[0.7382277485500333, 0.9958456230286437, 0.373...</td>\n      <td>[0.255733966698499, 0.927889734940262, 0.06549...</td>\n    </tr>\n    <tr>\n      <th>24</th>\n      <td>26</td>\n      <td>0.9144</td>\n      <td>0.001406</td>\n      <td>LightGBM</td>\n      <td>{'random_seed': 42, 'num_iterations': 300, 've...</td>\n      <td>None</td>\n      <td>7</td>\n      <td>3</td>\n      <td>[0.2848615228430659, 0.6421341468086584, 0.350...</td>\n      <td>[0.8825215972594904, 0.9943551509840027, 0.408...</td>\n      <td>[0.2692785658012025, 0.912814533535276, 0.0547...</td>\n    </tr>\n    <tr>\n      <th>11</th>\n      <td>12</td>\n      <td>0.9142</td>\n      <td>0.001173</td>\n      <td>LightGBM</td>\n      <td>{'random_seed': 42, 'num_iterations': 300, 've...</td>\n      <td>None</td>\n      <td>7</td>\n      <td>3</td>\n      <td>[0.30290325738092483, 0.6592076773438541, 0.35...</td>\n      <td>[0.5996874528110255, 0.9956006996054263, 0.408...</td>\n      <td>[0.262166713892124, 0.8860454860792766, 0.0420...</td>\n    </tr>\n    <tr>\n      <th>13</th>\n      <td>15</td>\n      <td>0.9142</td>\n      <td>0.002210</td>\n      <td>LightGBM</td>\n      <td>{'random_seed': 42, 'num_iterations': 300, 've...</td>\n      <td>None</td>\n      <td>7</td>\n      <td>3</td>\n      <td>[0.2933998299259204, 0.6001209372331096, 0.361...</td>\n      <td>[0.7606375808282824, 0.9964298175199703, 0.423...</td>\n      <td>[0.2676067437994037, 0.9192836052458169, 0.034...</td>\n    </tr>\n    <tr>\n      <th>15</th>\n      <td>17</td>\n      <td>0.9142</td>\n      <td>0.002083</td>\n      <td>LightGBM</td>\n      <td>{'random_seed': 42, 'num_iterations': 300, 've...</td>\n      <td>None</td>\n      <td>7</td>\n      <td>3</td>\n      <td>[0.29946212259039784, 0.6463021776799821, 0.34...</td>\n      <td>[0.8496657894758802, 0.9959770895434561, 0.412...</td>\n      <td>[0.26507764372985215, 0.9307780096455575, 0.03...</td>\n    </tr>\n    <tr>\n      <th>20</th>\n      <td>22</td>\n      <td>0.9141</td>\n      <td>0.001482</td>\n      <td>LightGBM</td>\n      <td>{'random_seed': 42, 'num_iterations': 300, 've...</td>\n      <td>None</td>\n      <td>7</td>\n      <td>3</td>\n      <td>[0.28172075979283395, 0.6340673342885824, 0.31...</td>\n      <td>[0.7968609397817323, 0.9948095665366602, 0.404...</td>\n      <td>[0.2850437890307913, 0.9164981797105437, 0.051...</td>\n    </tr>\n    <tr>\n      <th>19</th>\n      <td>21</td>\n      <td>0.9141</td>\n      <td>0.001517</td>\n      <td>LightGBM</td>\n      <td>{'random_seed': 42, 'num_iterations': 300, 've...</td>\n      <td>None</td>\n      <td>7</td>\n      <td>3</td>\n      <td>[0.2885410640182852, 0.6539106176546847, 0.330...</td>\n      <td>[0.8571440571492815, 0.9935036075110252, 0.420...</td>\n      <td>[0.2687683786750885, 0.9067962318514191, 0.054...</td>\n    </tr>\n    <tr>\n      <th>14</th>\n      <td>16</td>\n      <td>0.9141</td>\n      <td>0.002195</td>\n      <td>LightGBM</td>\n      <td>{'random_seed': 42, 'num_iterations': 300, 've...</td>\n      <td>None</td>\n      <td>7</td>\n      <td>3</td>\n      <td>[0.2792157197143897, 0.5408988481304422, 0.357...</td>\n      <td>[0.644721203915343, 0.9961473866386642, 0.4431...</td>\n      <td>[0.2576085665093636, 0.9303608362139149, 0.025...</td>\n    </tr>\n    <tr>\n      <th>8</th>\n      <td>8</td>\n      <td>0.9140</td>\n      <td>0.002400</td>\n      <td>LightGBM</td>\n      <td>{'random_seed': 42, 'num_iterations': 300, 've...</td>\n      <td>None</td>\n      <td>7</td>\n      <td>2</td>\n      <td>[0.3026171616547064, 0.6227073931064678, 0.374...</td>\n      <td>[0.8392409491796072, 0.9909417478547903, 0.424...</td>\n      <td>NaN</td>\n    </tr>\n    <tr>\n      <th>22</th>\n      <td>24</td>\n      <td>0.9138</td>\n      <td>0.001443</td>\n      <td>LightGBM</td>\n      <td>{'random_seed': 42, 'num_iterations': 300, 've...</td>\n      <td>None</td>\n      <td>7</td>\n      <td>3</td>\n      <td>[0.25871408215767877, 0.653753145478009, 0.302...</td>\n      <td>[0.8233590556052875, 0.9962747926962381, 0.393...</td>\n      <td>[0.28447466256325926, 0.9295539123535504, 0.07...</td>\n    </tr>\n    <tr>\n      <th>21</th>\n      <td>23</td>\n      <td>0.9137</td>\n      <td>0.001158</td>\n      <td>LightGBM</td>\n      <td>{'random_seed': 42, 'num_iterations': 300, 've...</td>\n      <td>None</td>\n      <td>7</td>\n      <td>3</td>\n      <td>[0.28099188676305714, 0.643626558614505, 0.335...</td>\n      <td>[0.769059047124139, 0.9945014836518672, 0.4143...</td>\n      <td>[0.26623220201156256, 0.8859518239626083, 0.03...</td>\n    </tr>\n    <tr>\n      <th>17</th>\n      <td>19</td>\n      <td>0.9126</td>\n      <td>0.001866</td>\n      <td>LightGBM</td>\n      <td>{'random_seed': 42, 'num_iterations': 300, 've...</td>\n      <td>None</td>\n      <td>7</td>\n      <td>3</td>\n      <td>[0.2720462325554734, 0.6525418982452381, 0.343...</td>\n      <td>[0.7402124013339936, 0.9963409441067319, 0.388...</td>\n      <td>[0.25375861024779156, 0.8902702036091749, 0.04...</td>\n    </tr>\n    <tr>\n      <th>18</th>\n      <td>20</td>\n      <td>0.9106</td>\n      <td>0.001461</td>\n      <td>LightGBM</td>\n      <td>{'random_seed': 42, 'num_iterations': 300, 've...</td>\n      <td>None</td>\n      <td>7</td>\n      <td>3</td>\n      <td>[0.3376998110034188, 0.6273208035881152, 0.410...</td>\n      <td>[0.9584590563405565, 0.9904866915148757, 0.481...</td>\n      <td>[0.2835934716655262, 0.9115415217861484, 0.074...</td>\n    </tr>\n    <tr>\n      <th>0</th>\n      <td>0</td>\n      <td>0.9091</td>\n      <td>0.001450</td>\n      <td>RandomForest</td>\n      <td>{'verbose': 0, 'random_state': 42, 'n_jobs': -...</td>\n      <td>None</td>\n      <td>7</td>\n      <td>2</td>\n      <td>[0.2577317492200407, 0.6926235463536368, 0.388...</td>\n      <td>[0.932807693317492, 0.9951397587105016, 0.4480...</td>\n      <td>NaN</td>\n    </tr>\n    <tr>\n      <th>12</th>\n      <td>14</td>\n      <td>0.9073</td>\n      <td>0.001650</td>\n      <td>ExtraTrees</td>\n      <td>{'verbose': 0, 'random_state': 42, 'n_jobs': -...</td>\n      <td>None</td>\n      <td>7</td>\n      <td>3</td>\n      <td>[0.2843551616872547, 0.6681856185684443, 0.397...</td>\n      <td>[0.9391959926508838, 0.9971581167045751, 0.496...</td>\n      <td>[0.2896184287902368, 0.9546893903582437, 0.323...</td>\n    </tr>\n    <tr>\n      <th>9</th>\n      <td>9</td>\n      <td>0.9068</td>\n      <td>0.000700</td>\n      <td>RandomForest</td>\n      <td>{'verbose': 0, 'random_state': 42, 'n_jobs': -...</td>\n      <td>None</td>\n      <td>7</td>\n      <td>2</td>\n      <td>[0.3483097332938372, 0.6744331625901387, 0.393...</td>\n      <td>[0.9348843778280639, 0.991428873883833, 0.4425...</td>\n      <td>NaN</td>\n    </tr>\n    <tr>\n      <th>5</th>\n      <td>5</td>\n      <td>0.9067</td>\n      <td>0.000300</td>\n      <td>RandomForest</td>\n      <td>{'verbose': 0, 'random_state': 42, 'n_jobs': -...</td>\n      <td>None</td>\n      <td>7</td>\n      <td>2</td>\n      <td>[0.33294462905329003, 0.6993026521697595, 0.35...</td>\n      <td>[0.8957201690246164, 0.9966318823845122, 0.399...</td>\n      <td>NaN</td>\n    </tr>\n    <tr>\n      <th>2</th>\n      <td>2</td>\n      <td>0.9061</td>\n      <td>0.000400</td>\n      <td>ExtraTrees</td>\n      <td>{'verbose': 0, 'random_state': 42, 'n_jobs': -...</td>\n      <td>None</td>\n      <td>7</td>\n      <td>2</td>\n      <td>[0.39251813593869644, 0.6580863907686003, 0.41...</td>\n      <td>[0.9395699717693856, 0.9915216093209135, 0.441...</td>\n      <td>NaN</td>\n    </tr>\n    <tr>\n      <th>3</th>\n      <td>3</td>\n      <td>0.9057</td>\n      <td>0.000100</td>\n      <td>ExtraTrees</td>\n      <td>{'verbose': 0, 'random_state': 42, 'n_jobs': -...</td>\n      <td>None</td>\n      <td>7</td>\n      <td>2</td>\n      <td>[0.3107431479223007, 0.7225983041884091, 0.351...</td>\n      <td>[0.9309803118298793, 0.9933979871038374, 0.439...</td>\n      <td>NaN</td>\n    </tr>\n    <tr>\n      <th>1</th>\n      <td>1</td>\n      <td>0.9056</td>\n      <td>0.000750</td>\n      <td>RandomForest</td>\n      <td>{'verbose': 0, 'random_state': 42, 'n_jobs': -...</td>\n      <td>None</td>\n      <td>7</td>\n      <td>2</td>\n      <td>[0.17674101184319377, 0.7123519072965024, 0.36...</td>\n      <td>[0.8044377961810731, 0.9992105263157894, 0.433...</td>\n      <td>NaN</td>\n    </tr>\n    <tr>\n      <th>6</th>\n      <td>6</td>\n      <td>0.9048</td>\n      <td>0.000850</td>\n      <td>RandomForest</td>\n      <td>{'verbose': 0, 'random_state': 42, 'n_jobs': -...</td>\n      <td>None</td>\n      <td>7</td>\n      <td>2</td>\n      <td>[0.28594242682755633, 0.7499191590637699, 0.37...</td>\n      <td>[0.8429958300616801, 0.9917368421052631, 0.429...</td>\n      <td>NaN</td>\n    </tr>\n    <tr>\n      <th>10</th>\n      <td>11</td>\n      <td>0.9043</td>\n      <td>0.002299</td>\n      <td>ExtraTrees</td>\n      <td>{'verbose': 0, 'random_state': 42, 'n_jobs': -...</td>\n      <td>None</td>\n      <td>7</td>\n      <td>3</td>\n      <td>[0.4512767999231692, 0.6711856960724495, 0.463...</td>\n      <td>[0.9016585452995024, 0.9711639378094569, 0.521...</td>\n      <td>[0.4469123512293016, 0.9221978758303502, 0.398...</td>\n    </tr>\n    <tr>\n      <th>4</th>\n      <td>4</td>\n      <td>0.9024</td>\n      <td>0.004050</td>\n      <td>LightGBM</td>\n      <td>{'random_seed': 42, 'num_iterations': 300, 've...</td>\n      <td>None</td>\n      <td>7</td>\n      <td>2</td>\n      <td>[0.2952521521795356, 0.6332507946539534, 0.330...</td>\n      <td>[0.9615041222845758, 0.999937473114331, 0.3024...</td>\n      <td>NaN</td>\n    </tr>\n    <tr>\n      <th>7</th>\n      <td>7</td>\n      <td>0.9012</td>\n      <td>0.003650</td>\n      <td>LightGBM</td>\n      <td>{'random_seed': 42, 'num_iterations': 300, 've...</td>\n      <td>None</td>\n      <td>7</td>\n      <td>2</td>\n      <td>[0.12075603556520498, 0.6582385174169662, 0.44...</td>\n      <td>[0.9719964156741003, 0.9999705351579836, 0.403...</td>\n      <td>NaN</td>\n    </tr>\n  </tbody>\n</table>\n</div>"
     },
     "metadata": {},
     "execution_count": 7
    }
   ],
   "source": [
    "model.history_trials_dataframe"
   ]
  },
  {
   "cell_type": "code",
   "execution_count": null,
   "metadata": {},
   "outputs": [],
   "source": [
    "pd.DataFrame(self.history_trials).sort_values('model_score', ascending=True)"
   ]
  },
  {
   "cell_type": "code",
   "execution_count": 7,
   "metadata": {
    "tags": []
   },
   "outputs": [],
   "source": [
    "predicts = model.predict(X_test)"
   ]
  },
  {
   "cell_type": "code",
   "execution_count": 8,
   "metadata": {},
   "outputs": [
    {
     "output_type": "stream",
     "name": "stdout",
     "text": [
      "Test AUC:  0.9122\n"
     ]
    }
   ],
   "source": [
    "print('Test AUC: ', round(sklearn.metrics.roc_auc_score(y_test, predicts),4))"
   ]
  },
  {
   "cell_type": "code",
   "execution_count": 9,
   "metadata": {},
   "outputs": [
    {
     "output_type": "execute_result",
     "data": {
      "text/plain": [
       "'LightGBM'"
      ]
     },
     "metadata": {},
     "execution_count": 9
    }
   ],
   "source": [
    "model.best_model_name"
   ]
  },
  {
   "cell_type": "code",
   "execution_count": 10,
   "metadata": {},
   "outputs": [
    {
     "output_type": "execute_result",
     "data": {
      "text/plain": [
       "{'random_seed': 42,\n",
       " 'num_iterations': 300,\n",
       " 'verbose': -1,\n",
       " 'device_type': 'cpu',\n",
       " 'objective': 'binary',\n",
       " 'num_leaves': 4,\n",
       " 'learning_rate': 0.2104512193446279}"
      ]
     },
     "metadata": {},
     "execution_count": 10
    }
   ],
   "source": [
    "model.best_model_param"
   ]
  },
  {
   "cell_type": "code",
   "execution_count": null,
   "metadata": {},
   "outputs": [],
   "source": [
    "# select Features \n",
    "# if feature_selection=True\n",
    "#model.select_columns[:10]"
   ]
  },
  {
   "cell_type": "code",
   "execution_count": 22,
   "metadata": {},
   "outputs": [
    {
     "output_type": "execute_result",
     "data": {
      "text/plain": [
       "{'*': True,\n",
       " '-': True,\n",
       " '/': True,\n",
       " 'BackwardDifferenceEncoder': False,\n",
       " 'CatBoostEncoder': True,\n",
       " 'CountEncoder': True,\n",
       " 'HashingEncoder': False,\n",
       " 'HelmertEncoder': True,\n",
       " 'JamesSteinEncoder': True,\n",
       " 'OneHotEncoder': False,\n",
       " 'TargetEncoder': False,\n",
       " 'de_clean_outliers': True,\n",
       " 'lgbm_learning_rate': 0.2104512193446279,\n",
       " 'lgbm_num_leaves': 4,\n",
       " 'model_name': 'LightGBM'}"
      ]
     },
     "metadata": {},
     "execution_count": 22
    }
   ],
   "source": [
    "model.study.best_params"
   ]
  },
  {
   "cell_type": "code",
   "execution_count": 35,
   "metadata": {},
   "outputs": [
    {
     "output_type": "execute_result",
     "data": {
      "text/plain": [
       "    number   value             datetime_start          datetime_complete  \\\n",
       "12      12  0.9131 2021-03-06 17:51:04.898592 2021-03-06 17:51:18.432278   \n",
       "8        8  0.9116 2021-03-06 17:50:14.236088 2021-03-06 17:50:42.930326   \n",
       "0        0  0.9078 2021-03-06 17:48:07.752162 2021-03-06 17:48:26.015151   \n",
       "5        5  0.9066 2021-03-06 17:49:15.035773 2021-03-06 17:49:17.897428   \n",
       "9        9  0.9061 2021-03-06 17:50:42.997106 2021-03-06 17:50:51.803024   \n",
       "\n",
       "                 duration  params_*  params_-  params_/  \\\n",
       "12 0 days 00:00:13.533686      True      True      True   \n",
       "8  0 days 00:00:28.694238      True     False      True   \n",
       "0  0 days 00:00:18.262989     False     False      True   \n",
       "5  0 days 00:00:02.861655     False      True     False   \n",
       "9  0 days 00:00:08.805918     False     False     False   \n",
       "\n",
       "    params_BackwardDifferenceEncoder  params_CatBoostEncoder  ...  \\\n",
       "12                             False                    True  ...   \n",
       "8                              False                    True  ...   \n",
       "0                               True                    True  ...   \n",
       "5                              False                   False  ...   \n",
       "9                              False                    True  ...   \n",
       "\n",
       "    params_TargetEncoder  params_de_clean_outliers  params_ext_max_depth  \\\n",
       "12                 False                      True                   NaN   \n",
       "8                  False                      True                   NaN   \n",
       "0                   True                     False                   NaN   \n",
       "5                  False                     False                   NaN   \n",
       "9                   True                      True                   NaN   \n",
       "\n",
       "    params_ext_min_samples_split  params_lgbm_learning_rate  \\\n",
       "12                           NaN                   0.210451   \n",
       "8                            NaN                   0.012886   \n",
       "0                            NaN                        NaN   \n",
       "5                            NaN                        NaN   \n",
       "9                            NaN                        NaN   \n",
       "\n",
       "    params_lgbm_num_leaves  params_model_name  params_rf_max_depth  \\\n",
       "12                     4.0           LightGBM                  NaN   \n",
       "8                     44.0           LightGBM                  NaN   \n",
       "0                      NaN       RandomForest                 80.0   \n",
       "5                      NaN       RandomForest                 10.0   \n",
       "9                      NaN       RandomForest                 10.0   \n",
       "\n",
       "    params_rf_min_samples_split     state  \n",
       "12                          NaN  COMPLETE  \n",
       "8                           NaN  COMPLETE  \n",
       "0                          53.0  COMPLETE  \n",
       "5                          36.0  COMPLETE  \n",
       "9                          36.0  COMPLETE  \n",
       "\n",
       "[5 rows x 25 columns]"
      ],
      "text/html": "<div>\n<style scoped>\n    .dataframe tbody tr th:only-of-type {\n        vertical-align: middle;\n    }\n\n    .dataframe tbody tr th {\n        vertical-align: top;\n    }\n\n    .dataframe thead th {\n        text-align: right;\n    }\n</style>\n<table border=\"1\" class=\"dataframe\">\n  <thead>\n    <tr style=\"text-align: right;\">\n      <th></th>\n      <th>number</th>\n      <th>value</th>\n      <th>datetime_start</th>\n      <th>datetime_complete</th>\n      <th>duration</th>\n      <th>params_*</th>\n      <th>params_-</th>\n      <th>params_/</th>\n      <th>params_BackwardDifferenceEncoder</th>\n      <th>params_CatBoostEncoder</th>\n      <th>...</th>\n      <th>params_TargetEncoder</th>\n      <th>params_de_clean_outliers</th>\n      <th>params_ext_max_depth</th>\n      <th>params_ext_min_samples_split</th>\n      <th>params_lgbm_learning_rate</th>\n      <th>params_lgbm_num_leaves</th>\n      <th>params_model_name</th>\n      <th>params_rf_max_depth</th>\n      <th>params_rf_min_samples_split</th>\n      <th>state</th>\n    </tr>\n  </thead>\n  <tbody>\n    <tr>\n      <th>12</th>\n      <td>12</td>\n      <td>0.9131</td>\n      <td>2021-03-06 17:51:04.898592</td>\n      <td>2021-03-06 17:51:18.432278</td>\n      <td>0 days 00:00:13.533686</td>\n      <td>True</td>\n      <td>True</td>\n      <td>True</td>\n      <td>False</td>\n      <td>True</td>\n      <td>...</td>\n      <td>False</td>\n      <td>True</td>\n      <td>NaN</td>\n      <td>NaN</td>\n      <td>0.210451</td>\n      <td>4.0</td>\n      <td>LightGBM</td>\n      <td>NaN</td>\n      <td>NaN</td>\n      <td>COMPLETE</td>\n    </tr>\n    <tr>\n      <th>8</th>\n      <td>8</td>\n      <td>0.9116</td>\n      <td>2021-03-06 17:50:14.236088</td>\n      <td>2021-03-06 17:50:42.930326</td>\n      <td>0 days 00:00:28.694238</td>\n      <td>True</td>\n      <td>False</td>\n      <td>True</td>\n      <td>False</td>\n      <td>True</td>\n      <td>...</td>\n      <td>False</td>\n      <td>True</td>\n      <td>NaN</td>\n      <td>NaN</td>\n      <td>0.012886</td>\n      <td>44.0</td>\n      <td>LightGBM</td>\n      <td>NaN</td>\n      <td>NaN</td>\n      <td>COMPLETE</td>\n    </tr>\n    <tr>\n      <th>0</th>\n      <td>0</td>\n      <td>0.9078</td>\n      <td>2021-03-06 17:48:07.752162</td>\n      <td>2021-03-06 17:48:26.015151</td>\n      <td>0 days 00:00:18.262989</td>\n      <td>False</td>\n      <td>False</td>\n      <td>True</td>\n      <td>True</td>\n      <td>True</td>\n      <td>...</td>\n      <td>True</td>\n      <td>False</td>\n      <td>NaN</td>\n      <td>NaN</td>\n      <td>NaN</td>\n      <td>NaN</td>\n      <td>RandomForest</td>\n      <td>80.0</td>\n      <td>53.0</td>\n      <td>COMPLETE</td>\n    </tr>\n    <tr>\n      <th>5</th>\n      <td>5</td>\n      <td>0.9066</td>\n      <td>2021-03-06 17:49:15.035773</td>\n      <td>2021-03-06 17:49:17.897428</td>\n      <td>0 days 00:00:02.861655</td>\n      <td>False</td>\n      <td>True</td>\n      <td>False</td>\n      <td>False</td>\n      <td>False</td>\n      <td>...</td>\n      <td>False</td>\n      <td>False</td>\n      <td>NaN</td>\n      <td>NaN</td>\n      <td>NaN</td>\n      <td>NaN</td>\n      <td>RandomForest</td>\n      <td>10.0</td>\n      <td>36.0</td>\n      <td>COMPLETE</td>\n    </tr>\n    <tr>\n      <th>9</th>\n      <td>9</td>\n      <td>0.9061</td>\n      <td>2021-03-06 17:50:42.997106</td>\n      <td>2021-03-06 17:50:51.803024</td>\n      <td>0 days 00:00:08.805918</td>\n      <td>False</td>\n      <td>False</td>\n      <td>False</td>\n      <td>False</td>\n      <td>True</td>\n      <td>...</td>\n      <td>True</td>\n      <td>True</td>\n      <td>NaN</td>\n      <td>NaN</td>\n      <td>NaN</td>\n      <td>NaN</td>\n      <td>RandomForest</td>\n      <td>10.0</td>\n      <td>36.0</td>\n      <td>COMPLETE</td>\n    </tr>\n  </tbody>\n</table>\n<p>5 rows × 25 columns</p>\n</div>"
     },
     "metadata": {},
     "execution_count": 35
    }
   ],
   "source": [
    "history.sort_values('value', ascending=False).head(5)"
   ]
  },
  {
   "cell_type": "code",
   "execution_count": 29,
   "metadata": {},
   "outputs": [
    {
     "output_type": "execute_result",
     "data": {
      "text/plain": [
       "{'model_name': 'LightGBM',\n",
       " 'lgbm_num_leaves': 44,\n",
       " 'lgbm_learning_rate': 0.012886065671894011,\n",
       " 'HelmertEncoder': True,\n",
       " 'OneHotEncoder': True,\n",
       " 'CountEncoder': False,\n",
       " 'HashingEncoder': True,\n",
       " 'BackwardDifferenceEncoder': False,\n",
       " 'TargetEncoder': False,\n",
       " 'JamesSteinEncoder': False,\n",
       " 'CatBoostEncoder': True,\n",
       " 'de_clean_outliers': True,\n",
       " '/': True,\n",
       " '*': True,\n",
       " '-': False}"
      ]
     },
     "metadata": {},
     "execution_count": 29
    }
   ],
   "source": [
    "model.study.trials[8].params"
   ]
  },
  {
   "cell_type": "code",
   "execution_count": 24,
   "metadata": {},
   "outputs": [
    {
     "output_type": "stream",
     "name": "stdout",
     "text": [
      "Finished loading model, total used 300 iterations\n",
      "Finished loading model, total used 300 iterations\n",
      "Finished loading model, total used 300 iterations\n",
      "Finished loading model, total used 300 iterations\n",
      "Finished loading model, total used 300 iterations\n",
      "Finished loading model, total used 300 iterations\n",
      "Finished loading model, total used 300 iterations\n"
     ]
    }
   ],
   "source": [
    "model = model.get_model_from_iter(X_train, y_train, model.study.trials[8].params)"
   ]
  },
  {
   "cell_type": "code",
   "execution_count": 25,
   "metadata": {},
   "outputs": [
    {
     "output_type": "stream",
     "name": "stdout",
     "text": [
      "Test AUC:  0.9097\n"
     ]
    }
   ],
   "source": [
    "predicts = model.predict(X_test)\n",
    "print('Test AUC: ', round(sklearn.metrics.roc_auc_score(y_test, predicts),4))"
   ]
  },
  {
   "source": [
    "## Save & Load"
   ],
   "cell_type": "markdown",
   "metadata": {}
  },
  {
   "cell_type": "code",
   "execution_count": 26,
   "metadata": {},
   "outputs": [
    {
     "output_type": "stream",
     "name": "stdout",
     "text": [
      "Save model\n"
     ]
    }
   ],
   "source": [
    "model.save('model_1')"
   ]
  },
  {
   "cell_type": "code",
   "execution_count": 27,
   "metadata": {},
   "outputs": [
    {
     "output_type": "stream",
     "name": "stderr",
     "text": [
      "18:03:27 | Load DataPrepare\n",
      "18:03:28 | Load Model\n",
      "Finished loading model, total used 300 iterations\n",
      "18:03:28 | Load Model\n",
      "Finished loading model, total used 300 iterations\n",
      "18:03:28 | Load Model\n",
      "Finished loading model, total used 300 iterations\n",
      "18:03:28 | Load Model\n",
      "Finished loading model, total used 300 iterations\n",
      "18:03:28 | Load Model\n",
      "Finished loading model, total used 300 iterations\n",
      "18:03:28 | Load Model\n",
      "Finished loading model, total used 300 iterations\n",
      "18:03:28 | Load Model\n",
      "Finished loading model, total used 300 iterations\n",
      "Load CrossValidation\n",
      "Load model\n"
     ]
    }
   ],
   "source": [
    "model_new = BestSingleModelClassifier(random_state=RANDOM_SEED,)\n",
    "model_new = model_new.load('model_1')"
   ]
  },
  {
   "cell_type": "code",
   "execution_count": 28,
   "metadata": {},
   "outputs": [
    {
     "output_type": "stream",
     "name": "stdout",
     "text": [
      "Test AUC:  0.9097\n"
     ]
    }
   ],
   "source": [
    "predicts = model_new.predict(X_test)\n",
    "print('Test AUC: ', round(sklearn.metrics.roc_auc_score(y_test, predicts),4))"
   ]
  },
  {
   "cell_type": "code",
   "execution_count": null,
   "metadata": {},
   "outputs": [],
   "source": []
  }
 ],
 "metadata": {
  "kernelspec": {
   "name": "python3",
   "display_name": "Python 3",
   "language": "python"
  },
  "language_info": {
   "codemirror_mode": {
    "name": "ipython",
    "version": 3
   },
   "file_extension": ".py",
   "mimetype": "text/x-python",
   "name": "python",
   "nbconvert_exporter": "python",
   "pygments_lexer": "ipython3",
   "version": "3.8.3-final"
  },
  "toc": {
   "base_numbering": 1,
   "nav_menu": {},
   "number_sections": false,
   "sideBar": true,
   "skip_h1_title": false,
   "title_cell": "Table of Contents",
   "title_sidebar": "Contents",
   "toc_cell": false,
   "toc_position": {
    "height": "calc(100% - 180px)",
    "left": "10px",
    "top": "150px",
    "width": "165px"
   },
   "toc_section_display": true,
   "toc_window_display": true
  }
 },
 "nbformat": 4,
 "nbformat_minor": 4
}