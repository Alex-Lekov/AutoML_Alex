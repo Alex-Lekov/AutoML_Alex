{
  "cells": [
    {
      "cell_type": "code",
      "metadata": {
        "ExecuteTime": {
          "end_time": "2020-05-07T08:40:27.950196Z",
          "start_time": "2020-05-07T08:40:27.947264Z"
        },
        "id": "JWu_N5HFbV4v",
        "colab_type": "code",
        "colab": {
          "base_uri": "https://localhost:8080/",
          "height": 972
        },
        "outputId": "1a501a70-5ec4-49cf-d38e-cfde0567f306"
      },
      "source": [
        "# If you run this notebook on Google Colaboratory, uncomment the below to install automl_alex.\n",
        "#!pip install -U -q automl-alex"
      ],
      "execution_count": 1,
      "outputs": []
    },
    {
      "cell_type": "code",
      "metadata": {
        "ExecuteTime": {
          "end_time": "2020-05-07T08:40:30.084237Z",
          "start_time": "2020-05-07T08:40:28.530481Z"
        },
        "id": "im_z95sdbV46",
        "colab_type": "code",
        "colab": {
          "base_uri": "https://localhost:8080/",
          "height": 34
        },
        "outputId": "d0ed0122-7cfa-4d56-85f3-863b4e92973c",
        "tags": []
      },
      "source": [
        "import sklearn\n",
        "import pandas as pd\n",
        "from sklearn.model_selection import train_test_split\n",
        "from sklearn.datasets import fetch_openml\n",
        "\n",
        "import automl_alex\n",
        "from automl_alex import DataPrepare\n",
        "from automl_alex import CrossValidation\n",
        "print(automl_alex.__version__)"
      ],
      "execution_count": 1,
      "outputs": [
        {
          "output_type": "stream",
          "name": "stdout",
          "text": [
            "1.2.27b\n"
          ]
        }
      ]
    },
    {
      "cell_type": "code",
      "execution_count": 2,
      "metadata": {},
      "outputs": [
        {
          "output_type": "execute_result",
          "data": {
            "text/plain": [
              "{'LightGBM': automl_alex.models.model_lightgbm.LightGBM,\n",
              " 'KNeighbors': automl_alex.models.sklearn_models.KNeighbors,\n",
              " 'LinearModel': automl_alex.models.sklearn_models.LinearModel,\n",
              " 'SGD': automl_alex.models.sklearn_models.SGD,\n",
              " 'RandomForest': automl_alex.models.sklearn_models.RandomForest,\n",
              " 'ExtraTrees': automl_alex.models.sklearn_models.ExtraTrees,\n",
              " 'XGBoost': automl_alex.models.model_xgboost.XGBoost,\n",
              " 'CatBoost': automl_alex.models.model_catboost.CatBoost,\n",
              " 'MLP': automl_alex.models.sklearn_models.MLP}"
            ]
          },
          "metadata": {},
          "execution_count": 2
        }
      ],
      "source": [
        "automl_alex.models.all_models"
      ]
    },
    {
      "cell_type": "code",
      "metadata": {
        "ExecuteTime": {
          "end_time": "2020-05-07T08:40:30.989504Z",
          "start_time": "2020-05-07T08:40:30.985837Z"
        },
        "id": "MLtO5wRAbV5A",
        "colab_type": "code",
        "colab": {}
      },
      "source": [
        "RANDOM_SEED = 42"
      ],
      "execution_count": 3,
      "outputs": []
    },
    {
      "cell_type": "markdown",
      "metadata": {
        "id": "rIom-hsebV5H",
        "colab_type": "text"
      },
      "source": [
        "## Data"
      ]
    },
    {
      "cell_type": "code",
      "metadata": {
        "ExecuteTime": {
          "end_time": "2020-05-07T08:40:43.537111Z",
          "start_time": "2020-05-07T08:40:43.487884Z"
        },
        "id": "N2J9L7o5bV5H",
        "colab_type": "code",
        "colab": {
          "base_uri": "https://localhost:8080/",
          "height": 34
        },
        "outputId": "d3e84afd-71dc-475d-c393-47d4e00fc295"
      },
      "source": [
        "# add dataset whis more num features\n",
        "dataset = fetch_openml(name='credit-g', version=1, as_frame=True)\n",
        "dataset.target = dataset.target.astype('category').cat.codes\n",
        "\n",
        "X_train, X_test, y_train, y_test = train_test_split(dataset.data, dataset.target, test_size=0.2, random_state=RANDOM_SEED,)\n",
        "X_train.shape, X_test.shape"
      ],
      "execution_count": 4,
      "outputs": [
        {
          "output_type": "execute_result",
          "data": {
            "text/plain": [
              "((800, 20), (200, 20))"
            ]
          },
          "metadata": {},
          "execution_count": 4
        }
      ]
    },
    {
      "cell_type": "code",
      "execution_count": 5,
      "metadata": {},
      "outputs": [
        {
          "output_type": "execute_result",
          "data": {
            "text/plain": [
              "    checking_status  duration                  credit_history    purpose  \\\n",
              "29               <0      60.0              delayed previously   business   \n",
              "535           >=200      21.0  critical/other existing credit  education   \n",
              "695     no checking       6.0                   existing paid   used car   \n",
              "\n",
              "     credit_amount savings_status employment  installment_commitment  \\\n",
              "29          6836.0           <100        >=7                     3.0   \n",
              "535         2319.0           <100         <1                     2.0   \n",
              "695         1236.0    500<=X<1000     1<=X<4                     2.0   \n",
              "\n",
              "    personal_status other_parties  residence_since property_magnitude   age  \\\n",
              "29      male single          none              4.0  no known property  63.0   \n",
              "535    male div/sep          none              1.0                car  33.0   \n",
              "695     male single          none              4.0     life insurance  50.0   \n",
              "\n",
              "    other_payment_plans housing  existing_credits      job  num_dependents  \\\n",
              "29                 none     own               2.0  skilled             1.0   \n",
              "535                none    rent               1.0  skilled             1.0   \n",
              "695                none    rent               1.0  skilled             1.0   \n",
              "\n",
              "    own_telephone foreign_worker  \n",
              "29            yes            yes  \n",
              "535          none            yes  \n",
              "695          none            yes  "
            ],
            "text/html": "<div>\n<style scoped>\n    .dataframe tbody tr th:only-of-type {\n        vertical-align: middle;\n    }\n\n    .dataframe tbody tr th {\n        vertical-align: top;\n    }\n\n    .dataframe thead th {\n        text-align: right;\n    }\n</style>\n<table border=\"1\" class=\"dataframe\">\n  <thead>\n    <tr style=\"text-align: right;\">\n      <th></th>\n      <th>checking_status</th>\n      <th>duration</th>\n      <th>credit_history</th>\n      <th>purpose</th>\n      <th>credit_amount</th>\n      <th>savings_status</th>\n      <th>employment</th>\n      <th>installment_commitment</th>\n      <th>personal_status</th>\n      <th>other_parties</th>\n      <th>residence_since</th>\n      <th>property_magnitude</th>\n      <th>age</th>\n      <th>other_payment_plans</th>\n      <th>housing</th>\n      <th>existing_credits</th>\n      <th>job</th>\n      <th>num_dependents</th>\n      <th>own_telephone</th>\n      <th>foreign_worker</th>\n    </tr>\n  </thead>\n  <tbody>\n    <tr>\n      <th>29</th>\n      <td>&lt;0</td>\n      <td>60.0</td>\n      <td>delayed previously</td>\n      <td>business</td>\n      <td>6836.0</td>\n      <td>&lt;100</td>\n      <td>&gt;=7</td>\n      <td>3.0</td>\n      <td>male single</td>\n      <td>none</td>\n      <td>4.0</td>\n      <td>no known property</td>\n      <td>63.0</td>\n      <td>none</td>\n      <td>own</td>\n      <td>2.0</td>\n      <td>skilled</td>\n      <td>1.0</td>\n      <td>yes</td>\n      <td>yes</td>\n    </tr>\n    <tr>\n      <th>535</th>\n      <td>&gt;=200</td>\n      <td>21.0</td>\n      <td>critical/other existing credit</td>\n      <td>education</td>\n      <td>2319.0</td>\n      <td>&lt;100</td>\n      <td>&lt;1</td>\n      <td>2.0</td>\n      <td>male div/sep</td>\n      <td>none</td>\n      <td>1.0</td>\n      <td>car</td>\n      <td>33.0</td>\n      <td>none</td>\n      <td>rent</td>\n      <td>1.0</td>\n      <td>skilled</td>\n      <td>1.0</td>\n      <td>none</td>\n      <td>yes</td>\n    </tr>\n    <tr>\n      <th>695</th>\n      <td>no checking</td>\n      <td>6.0</td>\n      <td>existing paid</td>\n      <td>used car</td>\n      <td>1236.0</td>\n      <td>500&lt;=X&lt;1000</td>\n      <td>1&lt;=X&lt;4</td>\n      <td>2.0</td>\n      <td>male single</td>\n      <td>none</td>\n      <td>4.0</td>\n      <td>life insurance</td>\n      <td>50.0</td>\n      <td>none</td>\n      <td>rent</td>\n      <td>1.0</td>\n      <td>skilled</td>\n      <td>1.0</td>\n      <td>none</td>\n      <td>yes</td>\n    </tr>\n  </tbody>\n</table>\n</div>"
          },
          "metadata": {},
          "execution_count": 5
        }
      ],
      "source": [
        "X_train.head(3)"
      ]
    },
    {
      "cell_type": "code",
      "execution_count": 6,
      "metadata": {},
      "outputs": [
        {
          "output_type": "stream",
          "name": "stderr",
          "text": [
            "00:40:18 | Source data shape: (800, 20)\n",
            "00:40:18 | ##################################################\n",
            "00:40:18 | ! START preprocessing Data\n",
            "00:40:18 | - Auto detect cat features: 13\n",
            "00:40:18 | > Binary Features\n",
            "00:40:18 | > Clean Categorical Features\n",
            "00:40:18 | > Transform Categorical Features.\n",
            "00:40:18 |  - Encoder: HelmertEncoder ADD features: 39\n",
            "00:40:19 |  - Encoder: CountEncoder ADD features: 13\n",
            "00:40:19 | > CleanOutliers\n",
            "00:40:19 | Num of outlier detected: 10 in Feature duration\n",
            "00:40:19 | Proportion of outlier detected: 1.2 %\n",
            "00:40:19 | Num of outlier detected: 6 in Feature age\n",
            "00:40:19 | Proportion of outlier detected: 0.8 %\n",
            "00:40:19 | Num of outlier detected: 38 in Feature credit_amount\n",
            "00:40:19 | Proportion of outlier detected: 4.8 %\n",
            "00:40:19 |   No nans features\n",
            "00:40:19 | > Generate interaction Num Features\n",
            "00:40:19 |  ADD features: 45\n",
            "00:40:19 | ##################################################\n",
            "00:40:19 | Final data shape: (800, 123)\n",
            "00:40:19 | Total ADD columns: 103\n",
            "00:40:19 | ##################################################\n",
            "00:40:19 | ##################################################\n",
            "00:40:19 | ! Start Transform Data\n",
            "00:40:19 | > Clean Binary Features\n",
            "00:40:19 | > Clean Categorical Features\n",
            "00:40:19 | > Transform Categorical Features.\n",
            "00:40:19 |  - Encoder: HelmertEncoder ADD features: 39\n",
            "00:40:19 |  - Encoder: CountEncoder ADD features: 13\n",
            "00:40:19 | > Generate interaction Num Features\n",
            "00:40:19 |  ADD features: 45\n",
            "00:40:19 | ##################################################\n",
            "00:40:19 | Final data shape: (200, 123)\n",
            "00:40:19 | Total ADD columns: 103\n",
            "00:40:19 | ##################################################\n"
          ]
        },
        {
          "output_type": "execute_result",
          "data": {
            "text/plain": [
              "((800, 123), (200, 123))"
            ]
          },
          "metadata": {},
          "execution_count": 6
        }
      ],
      "source": [
        "de = DataPrepare(\n",
        "    normalization=False, # if you use Linar based models -> True (for Tree based models normalization is not needed)\n",
        "    random_state=RANDOM_SEED,\n",
        "    )\n",
        "X_train = de.fit_transform(X_train)\n",
        "X_test = de.transform(X_test)\n",
        "X_train.shape, X_test.shape"
      ]
    },
    {
      "cell_type": "code",
      "execution_count": 7,
      "metadata": {},
      "outputs": [
        {
          "output_type": "execute_result",
          "data": {
            "text/plain": [
              "   checking_status  duration  credit_history  purpose  credit_amount  \\\n",
              "0                1      48.0               1        1         6836.0   \n",
              "1                2      21.0               2        2         2319.0   \n",
              "2                3       6.0               3        3         1236.0   \n",
              "3                3      21.0               4        4         5003.0   \n",
              "4                3      12.0               3        5          886.0   \n",
              "\n",
              "   savings_status  employment  installment_commitment  personal_status  \\\n",
              "0               1           1                     3.0                1   \n",
              "1               1           2                     2.0                2   \n",
              "2               2           3                     2.0                1   \n",
              "3               3           3                     1.0                3   \n",
              "4               3           3                     4.0                3   \n",
              "\n",
              "   other_parties  ...  age_-_credit_amount  \\\n",
              "0              1  ...              -6773.0   \n",
              "1              1  ...              -2286.0   \n",
              "2              1  ...              -1186.0   \n",
              "3              1  ...              -4974.0   \n",
              "4              1  ...               -865.0   \n",
              "\n",
              "   existing_credits_/_residence_since  existing_credits_*_residence_since  \\\n",
              "0                                0.50                                 8.0   \n",
              "1                                1.00                                 1.0   \n",
              "2                                0.25                                 4.0   \n",
              "3                                0.50                                 8.0   \n",
              "4                                0.50                                 2.0   \n",
              "\n",
              "   existing_credits_-_residence_since  existing_credits_/_credit_amount  \\\n",
              "0                                -2.0                          0.000293   \n",
              "1                                 0.0                          0.000431   \n",
              "2                                -3.0                          0.000809   \n",
              "3                                -2.0                          0.000400   \n",
              "4                                -1.0                          0.001129   \n",
              "\n",
              "   existing_credits_*_credit_amount  existing_credits_-_credit_amount  \\\n",
              "0                           13672.0                           -6834.0   \n",
              "1                            2319.0                           -2318.0   \n",
              "2                            1236.0                           -1235.0   \n",
              "3                           10006.0                           -5001.0   \n",
              "4                             886.0                            -885.0   \n",
              "\n",
              "   residence_since_/_credit_amount  residence_since_*_credit_amount  \\\n",
              "0                         0.000585                          27344.0   \n",
              "1                         0.000431                           2319.0   \n",
              "2                         0.003236                           4944.0   \n",
              "3                         0.000800                          20012.0   \n",
              "4                         0.002257                           1772.0   \n",
              "\n",
              "   residence_since_-_credit_amount  \n",
              "0                          -6832.0  \n",
              "1                          -2318.0  \n",
              "2                          -1232.0  \n",
              "3                          -4999.0  \n",
              "4                           -884.0  \n",
              "\n",
              "[5 rows x 123 columns]"
            ],
            "text/html": "<div>\n<style scoped>\n    .dataframe tbody tr th:only-of-type {\n        vertical-align: middle;\n    }\n\n    .dataframe tbody tr th {\n        vertical-align: top;\n    }\n\n    .dataframe thead th {\n        text-align: right;\n    }\n</style>\n<table border=\"1\" class=\"dataframe\">\n  <thead>\n    <tr style=\"text-align: right;\">\n      <th></th>\n      <th>checking_status</th>\n      <th>duration</th>\n      <th>credit_history</th>\n      <th>purpose</th>\n      <th>credit_amount</th>\n      <th>savings_status</th>\n      <th>employment</th>\n      <th>installment_commitment</th>\n      <th>personal_status</th>\n      <th>other_parties</th>\n      <th>...</th>\n      <th>age_-_credit_amount</th>\n      <th>existing_credits_/_residence_since</th>\n      <th>existing_credits_*_residence_since</th>\n      <th>existing_credits_-_residence_since</th>\n      <th>existing_credits_/_credit_amount</th>\n      <th>existing_credits_*_credit_amount</th>\n      <th>existing_credits_-_credit_amount</th>\n      <th>residence_since_/_credit_amount</th>\n      <th>residence_since_*_credit_amount</th>\n      <th>residence_since_-_credit_amount</th>\n    </tr>\n  </thead>\n  <tbody>\n    <tr>\n      <th>0</th>\n      <td>1</td>\n      <td>48.0</td>\n      <td>1</td>\n      <td>1</td>\n      <td>6836.0</td>\n      <td>1</td>\n      <td>1</td>\n      <td>3.0</td>\n      <td>1</td>\n      <td>1</td>\n      <td>...</td>\n      <td>-6773.0</td>\n      <td>0.50</td>\n      <td>8.0</td>\n      <td>-2.0</td>\n      <td>0.000293</td>\n      <td>13672.0</td>\n      <td>-6834.0</td>\n      <td>0.000585</td>\n      <td>27344.0</td>\n      <td>-6832.0</td>\n    </tr>\n    <tr>\n      <th>1</th>\n      <td>2</td>\n      <td>21.0</td>\n      <td>2</td>\n      <td>2</td>\n      <td>2319.0</td>\n      <td>1</td>\n      <td>2</td>\n      <td>2.0</td>\n      <td>2</td>\n      <td>1</td>\n      <td>...</td>\n      <td>-2286.0</td>\n      <td>1.00</td>\n      <td>1.0</td>\n      <td>0.0</td>\n      <td>0.000431</td>\n      <td>2319.0</td>\n      <td>-2318.0</td>\n      <td>0.000431</td>\n      <td>2319.0</td>\n      <td>-2318.0</td>\n    </tr>\n    <tr>\n      <th>2</th>\n      <td>3</td>\n      <td>6.0</td>\n      <td>3</td>\n      <td>3</td>\n      <td>1236.0</td>\n      <td>2</td>\n      <td>3</td>\n      <td>2.0</td>\n      <td>1</td>\n      <td>1</td>\n      <td>...</td>\n      <td>-1186.0</td>\n      <td>0.25</td>\n      <td>4.0</td>\n      <td>-3.0</td>\n      <td>0.000809</td>\n      <td>1236.0</td>\n      <td>-1235.0</td>\n      <td>0.003236</td>\n      <td>4944.0</td>\n      <td>-1232.0</td>\n    </tr>\n    <tr>\n      <th>3</th>\n      <td>3</td>\n      <td>21.0</td>\n      <td>4</td>\n      <td>4</td>\n      <td>5003.0</td>\n      <td>3</td>\n      <td>3</td>\n      <td>1.0</td>\n      <td>3</td>\n      <td>1</td>\n      <td>...</td>\n      <td>-4974.0</td>\n      <td>0.50</td>\n      <td>8.0</td>\n      <td>-2.0</td>\n      <td>0.000400</td>\n      <td>10006.0</td>\n      <td>-5001.0</td>\n      <td>0.000800</td>\n      <td>20012.0</td>\n      <td>-4999.0</td>\n    </tr>\n    <tr>\n      <th>4</th>\n      <td>3</td>\n      <td>12.0</td>\n      <td>3</td>\n      <td>5</td>\n      <td>886.0</td>\n      <td>3</td>\n      <td>3</td>\n      <td>4.0</td>\n      <td>3</td>\n      <td>1</td>\n      <td>...</td>\n      <td>-865.0</td>\n      <td>0.50</td>\n      <td>2.0</td>\n      <td>-1.0</td>\n      <td>0.001129</td>\n      <td>886.0</td>\n      <td>-885.0</td>\n      <td>0.002257</td>\n      <td>1772.0</td>\n      <td>-884.0</td>\n    </tr>\n  </tbody>\n</table>\n<p>5 rows × 123 columns</p>\n</div>"
          },
          "metadata": {},
          "execution_count": 7
        }
      ],
      "source": [
        "X_train.head(5)"
      ]
    },
    {
      "source": [
        "# Classifier"
      ],
      "cell_type": "markdown",
      "metadata": {}
    },
    {
      "cell_type": "markdown",
      "metadata": {
        "id": "dp1LnCd8bV5L",
        "colab_type": "text"
      },
      "source": [
        "## Model"
      ]
    },
    {
      "cell_type": "code",
      "metadata": {
        "ExecuteTime": {
          "end_time": "2020-05-07T08:40:44.210481Z",
          "start_time": "2020-05-07T08:40:44.203520Z"
        },
        "id": "_bPRxyuwbV5L",
        "colab_type": "code",
        "colab": {
          "base_uri": "https://localhost:8080/",
          "height": 170
        },
        "outputId": "4408921c-e14a-42cc-de56-8b9bad8eb6d3"
      },
      "source": [
        "# Libraries are currently available:\n",
        "automl_alex.models.all_models"
      ],
      "execution_count": 8,
      "outputs": [
        {
          "output_type": "execute_result",
          "data": {
            "text/plain": [
              "{'LightGBM': automl_alex.models.model_lightgbm.LightGBM,\n",
              " 'KNeighbors': automl_alex.models.sklearn_models.KNeighbors,\n",
              " 'LinearModel': automl_alex.models.sklearn_models.LinearModel,\n",
              " 'SGD': automl_alex.models.sklearn_models.SGD,\n",
              " 'RandomForest': automl_alex.models.sklearn_models.RandomForest,\n",
              " 'ExtraTrees': automl_alex.models.sklearn_models.ExtraTrees,\n",
              " 'XGBoost': automl_alex.models.model_xgboost.XGBoost,\n",
              " 'CatBoost': automl_alex.models.model_catboost.CatBoost,\n",
              " 'MLP': automl_alex.models.sklearn_models.MLP}"
            ]
          },
          "metadata": {},
          "execution_count": 8
        }
      ]
    },
    {
      "cell_type": "markdown",
      "metadata": {
        "id": "gZt0Owq1bV5O",
        "colab_type": "text"
      },
      "source": [
        "You can add a library if you wish.    \n",
        "let's try LightGBM"
      ]
    },
    {
      "cell_type": "code",
      "metadata": {
        "ExecuteTime": {
          "end_time": "2020-05-07T08:40:45.348064Z",
          "start_time": "2020-05-07T08:40:45.287480Z"
        },
        "id": "cH0AUcRAbV5P",
        "colab_type": "code",
        "colab": {}
      },
      "source": [
        "from automl_alex import LightGBM, LightGBMClassifier\n",
        "\n",
        "# We will use LightGBM for this dataset\n",
        "model = LightGBM(type_of_estimator='classifier', random_state=RANDOM_SEED)\n",
        "\n",
        "# or Simply\n",
        "model = LightGBMClassifier(random_state=RANDOM_SEED)"
      ],
      "execution_count": 9,
      "outputs": []
    },
    {
      "source": [
        "it's simple, the logic is like in sklearn (.fit() => .predict())"
      ],
      "cell_type": "markdown",
      "metadata": {}
    },
    {
      "cell_type": "code",
      "execution_count": 10,
      "metadata": {},
      "outputs": [],
      "source": [
        "model.fit(X_train, y_train)"
      ]
    },
    {
      "cell_type": "code",
      "execution_count": 11,
      "metadata": {},
      "outputs": [
        {
          "output_type": "stream",
          "name": "stdout",
          "text": [
            "Test AUC:  0.8062\n"
          ]
        }
      ],
      "source": [
        "predicts = model.predict_proba(X_test)\n",
        "print('Test AUC: ', round(sklearn.metrics.roc_auc_score(y_test, predicts),4))"
      ]
    },
    {
      "cell_type": "code",
      "execution_count": 12,
      "metadata": {},
      "outputs": [
        {
          "output_type": "stream",
          "name": "stderr",
          "text": [
            "00:40:28 | roc_auc_score: 0.8062\n"
          ]
        }
      ],
      "source": [
        "# or just use .score()\n",
        "score = model.score(\n",
        "    X_test, y_test,\n",
        "    metric=sklearn.metrics.roc_auc_score,\n",
        "    metric_round=4,\n",
        "    print_metric=True,\n",
        "    )"
      ]
    },
    {
      "cell_type": "code",
      "execution_count": 13,
      "metadata": {},
      "outputs": [
        {
          "output_type": "execute_result",
          "data": {
            "text/plain": [
              "{'random_seed': 42,\n",
              " 'num_iterations': 300,\n",
              " 'verbose': -1,\n",
              " 'device_type': 'cpu',\n",
              " 'objective': 'binary'}"
            ]
          },
          "metadata": {},
          "execution_count": 13
        }
      ],
      "source": [
        "model.model_param"
      ]
    },
    {
      "cell_type": "code",
      "execution_count": 14,
      "metadata": {},
      "outputs": [],
      "source": [
        "feature_importance = model.get_feature_importance(X_train)"
      ]
    },
    {
      "cell_type": "code",
      "execution_count": 15,
      "metadata": {},
      "outputs": [
        {
          "output_type": "execute_result",
          "data": {
            "text/plain": [
              "<matplotlib.axes._subplots.AxesSubplot at 0x7fbe052325b0>"
            ]
          },
          "metadata": {},
          "execution_count": 15
        },
        {
          "output_type": "display_data",
          "data": {
            "text/plain": "<Figure size 432x288 with 1 Axes>",
            "image/svg+xml": "<?xml version=\"1.0\" encoding=\"utf-8\" standalone=\"no\"?>\n<!DOCTYPE svg PUBLIC \"-//W3C//DTD SVG 1.1//EN\"\n  \"http://www.w3.org/Graphics/SVG/1.1/DTD/svg11.dtd\">\n<!-- Created with matplotlib (https://matplotlib.org/) -->\n<svg height=\"248.518125pt\" version=\"1.1\" viewBox=\"0 0 568.396875 248.518125\" width=\"568.396875pt\" xmlns=\"http://www.w3.org/2000/svg\" xmlns:xlink=\"http://www.w3.org/1999/xlink\">\n <defs>\n  <style type=\"text/css\">\n*{stroke-linecap:butt;stroke-linejoin:round;}\n  </style>\n </defs>\n <g id=\"figure_1\">\n  <g id=\"patch_1\">\n   <path d=\"M 0 248.518125 \nL 568.396875 248.518125 \nL 568.396875 0 \nL 0 0 \nz\n\" style=\"fill:#ffffff;\"/>\n  </g>\n  <g id=\"axes_1\">\n   <g id=\"patch_2\">\n    <path d=\"M 226.396875 224.64 \nL 561.196875 224.64 \nL 561.196875 7.2 \nL 226.396875 7.2 \nz\n\" style=\"fill:#eaeaf2;\"/>\n   </g>\n   <g id=\"matplotlib.axis_1\">\n    <g id=\"xtick_1\">\n     <g id=\"line2d_1\">\n      <path clip-path=\"url(#p1b8d3c55ed)\" d=\"M 226.396875 224.64 \nL 226.396875 7.2 \n\" style=\"fill:none;stroke:#ffffff;stroke-linecap:round;stroke-width:0.8;\"/>\n     </g>\n     <g id=\"text_1\">\n      <!-- 0 -->\n      <defs>\n       <path d=\"M 31.78125 66.40625 \nQ 24.171875 66.40625 20.328125 58.90625 \nQ 16.5 51.421875 16.5 36.375 \nQ 16.5 21.390625 20.328125 13.890625 \nQ 24.171875 6.390625 31.78125 6.390625 \nQ 39.453125 6.390625 43.28125 13.890625 \nQ 47.125 21.390625 47.125 36.375 \nQ 47.125 51.421875 43.28125 58.90625 \nQ 39.453125 66.40625 31.78125 66.40625 \nz\nM 31.78125 74.21875 \nQ 44.046875 74.21875 50.515625 64.515625 \nQ 56.984375 54.828125 56.984375 36.375 \nQ 56.984375 17.96875 50.515625 8.265625 \nQ 44.046875 -1.421875 31.78125 -1.421875 \nQ 19.53125 -1.421875 13.0625 8.265625 \nQ 6.59375 17.96875 6.59375 36.375 \nQ 6.59375 54.828125 13.0625 64.515625 \nQ 19.53125 74.21875 31.78125 74.21875 \nz\n\" id=\"DejaVuSans-48\"/>\n      </defs>\n      <g style=\"fill:#262626;\" transform=\"translate(223.215625 239.238437)scale(0.1 -0.1)\">\n       <use xlink:href=\"#DejaVuSans-48\"/>\n      </g>\n     </g>\n    </g>\n    <g id=\"xtick_2\">\n     <g id=\"line2d_2\">\n      <path clip-path=\"url(#p1b8d3c55ed)\" d=\"M 263.744316 224.64 \nL 263.744316 7.2 \n\" style=\"fill:none;stroke:#ffffff;stroke-linecap:round;stroke-width:0.8;\"/>\n     </g>\n     <g id=\"text_2\">\n      <!-- 50 -->\n      <defs>\n       <path d=\"M 10.796875 72.90625 \nL 49.515625 72.90625 \nL 49.515625 64.59375 \nL 19.828125 64.59375 \nL 19.828125 46.734375 \nQ 21.96875 47.46875 24.109375 47.828125 \nQ 26.265625 48.1875 28.421875 48.1875 \nQ 40.625 48.1875 47.75 41.5 \nQ 54.890625 34.8125 54.890625 23.390625 \nQ 54.890625 11.625 47.5625 5.09375 \nQ 40.234375 -1.421875 26.90625 -1.421875 \nQ 22.3125 -1.421875 17.546875 -0.640625 \nQ 12.796875 0.140625 7.71875 1.703125 \nL 7.71875 11.625 \nQ 12.109375 9.234375 16.796875 8.0625 \nQ 21.484375 6.890625 26.703125 6.890625 \nQ 35.15625 6.890625 40.078125 11.328125 \nQ 45.015625 15.765625 45.015625 23.390625 \nQ 45.015625 31 40.078125 35.4375 \nQ 35.15625 39.890625 26.703125 39.890625 \nQ 22.75 39.890625 18.8125 39.015625 \nQ 14.890625 38.140625 10.796875 36.28125 \nz\n\" id=\"DejaVuSans-53\"/>\n      </defs>\n      <g style=\"fill:#262626;\" transform=\"translate(257.381816 239.238437)scale(0.1 -0.1)\">\n       <use xlink:href=\"#DejaVuSans-53\"/>\n       <use x=\"63.623047\" xlink:href=\"#DejaVuSans-48\"/>\n      </g>\n     </g>\n    </g>\n    <g id=\"xtick_3\">\n     <g id=\"line2d_3\">\n      <path clip-path=\"url(#p1b8d3c55ed)\" d=\"M 301.091758 224.64 \nL 301.091758 7.2 \n\" style=\"fill:none;stroke:#ffffff;stroke-linecap:round;stroke-width:0.8;\"/>\n     </g>\n     <g id=\"text_3\">\n      <!-- 100 -->\n      <defs>\n       <path d=\"M 12.40625 8.296875 \nL 28.515625 8.296875 \nL 28.515625 63.921875 \nL 10.984375 60.40625 \nL 10.984375 69.390625 \nL 28.421875 72.90625 \nL 38.28125 72.90625 \nL 38.28125 8.296875 \nL 54.390625 8.296875 \nL 54.390625 0 \nL 12.40625 0 \nz\n\" id=\"DejaVuSans-49\"/>\n      </defs>\n      <g style=\"fill:#262626;\" transform=\"translate(291.548008 239.238437)scale(0.1 -0.1)\">\n       <use xlink:href=\"#DejaVuSans-49\"/>\n       <use x=\"63.623047\" xlink:href=\"#DejaVuSans-48\"/>\n       <use x=\"127.246094\" xlink:href=\"#DejaVuSans-48\"/>\n      </g>\n     </g>\n    </g>\n    <g id=\"xtick_4\">\n     <g id=\"line2d_4\">\n      <path clip-path=\"url(#p1b8d3c55ed)\" d=\"M 338.439199 224.64 \nL 338.439199 7.2 \n\" style=\"fill:none;stroke:#ffffff;stroke-linecap:round;stroke-width:0.8;\"/>\n     </g>\n     <g id=\"text_4\">\n      <!-- 150 -->\n      <g style=\"fill:#262626;\" transform=\"translate(328.895449 239.238437)scale(0.1 -0.1)\">\n       <use xlink:href=\"#DejaVuSans-49\"/>\n       <use x=\"63.623047\" xlink:href=\"#DejaVuSans-53\"/>\n       <use x=\"127.246094\" xlink:href=\"#DejaVuSans-48\"/>\n      </g>\n     </g>\n    </g>\n    <g id=\"xtick_5\">\n     <g id=\"line2d_5\">\n      <path clip-path=\"url(#p1b8d3c55ed)\" d=\"M 375.78664 224.64 \nL 375.78664 7.2 \n\" style=\"fill:none;stroke:#ffffff;stroke-linecap:round;stroke-width:0.8;\"/>\n     </g>\n     <g id=\"text_5\">\n      <!-- 200 -->\n      <defs>\n       <path d=\"M 19.1875 8.296875 \nL 53.609375 8.296875 \nL 53.609375 0 \nL 7.328125 0 \nL 7.328125 8.296875 \nQ 12.9375 14.109375 22.625 23.890625 \nQ 32.328125 33.6875 34.8125 36.53125 \nQ 39.546875 41.84375 41.421875 45.53125 \nQ 43.3125 49.21875 43.3125 52.78125 \nQ 43.3125 58.59375 39.234375 62.25 \nQ 35.15625 65.921875 28.609375 65.921875 \nQ 23.96875 65.921875 18.8125 64.3125 \nQ 13.671875 62.703125 7.8125 59.421875 \nL 7.8125 69.390625 \nQ 13.765625 71.78125 18.9375 73 \nQ 24.125 74.21875 28.421875 74.21875 \nQ 39.75 74.21875 46.484375 68.546875 \nQ 53.21875 62.890625 53.21875 53.421875 \nQ 53.21875 48.921875 51.53125 44.890625 \nQ 49.859375 40.875 45.40625 35.40625 \nQ 44.1875 33.984375 37.640625 27.21875 \nQ 31.109375 20.453125 19.1875 8.296875 \nz\n\" id=\"DejaVuSans-50\"/>\n      </defs>\n      <g style=\"fill:#262626;\" transform=\"translate(366.24289 239.238437)scale(0.1 -0.1)\">\n       <use xlink:href=\"#DejaVuSans-50\"/>\n       <use x=\"63.623047\" xlink:href=\"#DejaVuSans-48\"/>\n       <use x=\"127.246094\" xlink:href=\"#DejaVuSans-48\"/>\n      </g>\n     </g>\n    </g>\n    <g id=\"xtick_6\">\n     <g id=\"line2d_6\">\n      <path clip-path=\"url(#p1b8d3c55ed)\" d=\"M 413.134082 224.64 \nL 413.134082 7.2 \n\" style=\"fill:none;stroke:#ffffff;stroke-linecap:round;stroke-width:0.8;\"/>\n     </g>\n     <g id=\"text_6\">\n      <!-- 250 -->\n      <g style=\"fill:#262626;\" transform=\"translate(403.590332 239.238437)scale(0.1 -0.1)\">\n       <use xlink:href=\"#DejaVuSans-50\"/>\n       <use x=\"63.623047\" xlink:href=\"#DejaVuSans-53\"/>\n       <use x=\"127.246094\" xlink:href=\"#DejaVuSans-48\"/>\n      </g>\n     </g>\n    </g>\n    <g id=\"xtick_7\">\n     <g id=\"line2d_7\">\n      <path clip-path=\"url(#p1b8d3c55ed)\" d=\"M 450.481523 224.64 \nL 450.481523 7.2 \n\" style=\"fill:none;stroke:#ffffff;stroke-linecap:round;stroke-width:0.8;\"/>\n     </g>\n     <g id=\"text_7\">\n      <!-- 300 -->\n      <defs>\n       <path d=\"M 40.578125 39.3125 \nQ 47.65625 37.796875 51.625 33 \nQ 55.609375 28.21875 55.609375 21.1875 \nQ 55.609375 10.40625 48.1875 4.484375 \nQ 40.765625 -1.421875 27.09375 -1.421875 \nQ 22.515625 -1.421875 17.65625 -0.515625 \nQ 12.796875 0.390625 7.625 2.203125 \nL 7.625 11.71875 \nQ 11.71875 9.328125 16.59375 8.109375 \nQ 21.484375 6.890625 26.8125 6.890625 \nQ 36.078125 6.890625 40.9375 10.546875 \nQ 45.796875 14.203125 45.796875 21.1875 \nQ 45.796875 27.640625 41.28125 31.265625 \nQ 36.765625 34.90625 28.71875 34.90625 \nL 20.21875 34.90625 \nL 20.21875 43.015625 \nL 29.109375 43.015625 \nQ 36.375 43.015625 40.234375 45.921875 \nQ 44.09375 48.828125 44.09375 54.296875 \nQ 44.09375 59.90625 40.109375 62.90625 \nQ 36.140625 65.921875 28.71875 65.921875 \nQ 24.65625 65.921875 20.015625 65.03125 \nQ 15.375 64.15625 9.8125 62.3125 \nL 9.8125 71.09375 \nQ 15.4375 72.65625 20.34375 73.4375 \nQ 25.25 74.21875 29.59375 74.21875 \nQ 40.828125 74.21875 47.359375 69.109375 \nQ 53.90625 64.015625 53.90625 55.328125 \nQ 53.90625 49.265625 50.4375 45.09375 \nQ 46.96875 40.921875 40.578125 39.3125 \nz\n\" id=\"DejaVuSans-51\"/>\n      </defs>\n      <g style=\"fill:#262626;\" transform=\"translate(440.937773 239.238437)scale(0.1 -0.1)\">\n       <use xlink:href=\"#DejaVuSans-51\"/>\n       <use x=\"63.623047\" xlink:href=\"#DejaVuSans-48\"/>\n       <use x=\"127.246094\" xlink:href=\"#DejaVuSans-48\"/>\n      </g>\n     </g>\n    </g>\n    <g id=\"xtick_8\">\n     <g id=\"line2d_8\">\n      <path clip-path=\"url(#p1b8d3c55ed)\" d=\"M 487.828964 224.64 \nL 487.828964 7.2 \n\" style=\"fill:none;stroke:#ffffff;stroke-linecap:round;stroke-width:0.8;\"/>\n     </g>\n     <g id=\"text_8\">\n      <!-- 350 -->\n      <g style=\"fill:#262626;\" transform=\"translate(478.285214 239.238437)scale(0.1 -0.1)\">\n       <use xlink:href=\"#DejaVuSans-51\"/>\n       <use x=\"63.623047\" xlink:href=\"#DejaVuSans-53\"/>\n       <use x=\"127.246094\" xlink:href=\"#DejaVuSans-48\"/>\n      </g>\n     </g>\n    </g>\n    <g id=\"xtick_9\">\n     <g id=\"line2d_9\">\n      <path clip-path=\"url(#p1b8d3c55ed)\" d=\"M 525.176406 224.64 \nL 525.176406 7.2 \n\" style=\"fill:none;stroke:#ffffff;stroke-linecap:round;stroke-width:0.8;\"/>\n     </g>\n     <g id=\"text_9\">\n      <!-- 400 -->\n      <defs>\n       <path d=\"M 37.796875 64.3125 \nL 12.890625 25.390625 \nL 37.796875 25.390625 \nz\nM 35.203125 72.90625 \nL 47.609375 72.90625 \nL 47.609375 25.390625 \nL 58.015625 25.390625 \nL 58.015625 17.1875 \nL 47.609375 17.1875 \nL 47.609375 0 \nL 37.796875 0 \nL 37.796875 17.1875 \nL 4.890625 17.1875 \nL 4.890625 26.703125 \nz\n\" id=\"DejaVuSans-52\"/>\n      </defs>\n      <g style=\"fill:#262626;\" transform=\"translate(515.632656 239.238437)scale(0.1 -0.1)\">\n       <use xlink:href=\"#DejaVuSans-52\"/>\n       <use x=\"63.623047\" xlink:href=\"#DejaVuSans-48\"/>\n       <use x=\"127.246094\" xlink:href=\"#DejaVuSans-48\"/>\n      </g>\n     </g>\n    </g>\n   </g>\n   <g id=\"matplotlib.axis_2\">\n    <g id=\"ytick_1\">\n     <g id=\"line2d_10\">\n      <path clip-path=\"url(#p1b8d3c55ed)\" d=\"M 226.396875 217.392 \nL 561.196875 217.392 \n\" style=\"fill:none;stroke:#ffffff;stroke-linecap:round;stroke-width:0.8;\"/>\n     </g>\n     <g id=\"text_10\">\n      <!-- HelmertEncoder_checking_status_1 -->\n      <defs>\n       <path d=\"M 9.8125 72.90625 \nL 19.671875 72.90625 \nL 19.671875 43.015625 \nL 55.515625 43.015625 \nL 55.515625 72.90625 \nL 65.375 72.90625 \nL 65.375 0 \nL 55.515625 0 \nL 55.515625 34.71875 \nL 19.671875 34.71875 \nL 19.671875 0 \nL 9.8125 0 \nz\n\" id=\"DejaVuSans-72\"/>\n       <path d=\"M 56.203125 29.59375 \nL 56.203125 25.203125 \nL 14.890625 25.203125 \nQ 15.484375 15.921875 20.484375 11.0625 \nQ 25.484375 6.203125 34.421875 6.203125 \nQ 39.59375 6.203125 44.453125 7.46875 \nQ 49.3125 8.734375 54.109375 11.28125 \nL 54.109375 2.78125 \nQ 49.265625 0.734375 44.1875 -0.34375 \nQ 39.109375 -1.421875 33.890625 -1.421875 \nQ 20.796875 -1.421875 13.15625 6.1875 \nQ 5.515625 13.8125 5.515625 26.8125 \nQ 5.515625 40.234375 12.765625 48.109375 \nQ 20.015625 56 32.328125 56 \nQ 43.359375 56 49.78125 48.890625 \nQ 56.203125 41.796875 56.203125 29.59375 \nz\nM 47.21875 32.234375 \nQ 47.125 39.59375 43.09375 43.984375 \nQ 39.0625 48.390625 32.421875 48.390625 \nQ 24.90625 48.390625 20.390625 44.140625 \nQ 15.875 39.890625 15.1875 32.171875 \nz\n\" id=\"DejaVuSans-101\"/>\n       <path d=\"M 9.421875 75.984375 \nL 18.40625 75.984375 \nL 18.40625 0 \nL 9.421875 0 \nz\n\" id=\"DejaVuSans-108\"/>\n       <path d=\"M 52 44.1875 \nQ 55.375 50.25 60.0625 53.125 \nQ 64.75 56 71.09375 56 \nQ 79.640625 56 84.28125 50.015625 \nQ 88.921875 44.046875 88.921875 33.015625 \nL 88.921875 0 \nL 79.890625 0 \nL 79.890625 32.71875 \nQ 79.890625 40.578125 77.09375 44.375 \nQ 74.3125 48.1875 68.609375 48.1875 \nQ 61.625 48.1875 57.5625 43.546875 \nQ 53.515625 38.921875 53.515625 30.90625 \nL 53.515625 0 \nL 44.484375 0 \nL 44.484375 32.71875 \nQ 44.484375 40.625 41.703125 44.40625 \nQ 38.921875 48.1875 33.109375 48.1875 \nQ 26.21875 48.1875 22.15625 43.53125 \nQ 18.109375 38.875 18.109375 30.90625 \nL 18.109375 0 \nL 9.078125 0 \nL 9.078125 54.6875 \nL 18.109375 54.6875 \nL 18.109375 46.1875 \nQ 21.1875 51.21875 25.484375 53.609375 \nQ 29.78125 56 35.6875 56 \nQ 41.65625 56 45.828125 52.96875 \nQ 50 49.953125 52 44.1875 \nz\n\" id=\"DejaVuSans-109\"/>\n       <path d=\"M 41.109375 46.296875 \nQ 39.59375 47.171875 37.8125 47.578125 \nQ 36.03125 48 33.890625 48 \nQ 26.265625 48 22.1875 43.046875 \nQ 18.109375 38.09375 18.109375 28.8125 \nL 18.109375 0 \nL 9.078125 0 \nL 9.078125 54.6875 \nL 18.109375 54.6875 \nL 18.109375 46.1875 \nQ 20.953125 51.171875 25.484375 53.578125 \nQ 30.03125 56 36.53125 56 \nQ 37.453125 56 38.578125 55.875 \nQ 39.703125 55.765625 41.0625 55.515625 \nz\n\" id=\"DejaVuSans-114\"/>\n       <path d=\"M 18.3125 70.21875 \nL 18.3125 54.6875 \nL 36.8125 54.6875 \nL 36.8125 47.703125 \nL 18.3125 47.703125 \nL 18.3125 18.015625 \nQ 18.3125 11.328125 20.140625 9.421875 \nQ 21.96875 7.515625 27.59375 7.515625 \nL 36.8125 7.515625 \nL 36.8125 0 \nL 27.59375 0 \nQ 17.1875 0 13.234375 3.875 \nQ 9.28125 7.765625 9.28125 18.015625 \nL 9.28125 47.703125 \nL 2.6875 47.703125 \nL 2.6875 54.6875 \nL 9.28125 54.6875 \nL 9.28125 70.21875 \nz\n\" id=\"DejaVuSans-116\"/>\n       <path d=\"M 9.8125 72.90625 \nL 55.90625 72.90625 \nL 55.90625 64.59375 \nL 19.671875 64.59375 \nL 19.671875 43.015625 \nL 54.390625 43.015625 \nL 54.390625 34.71875 \nL 19.671875 34.71875 \nL 19.671875 8.296875 \nL 56.78125 8.296875 \nL 56.78125 0 \nL 9.8125 0 \nz\n\" id=\"DejaVuSans-69\"/>\n       <path d=\"M 54.890625 33.015625 \nL 54.890625 0 \nL 45.90625 0 \nL 45.90625 32.71875 \nQ 45.90625 40.484375 42.875 44.328125 \nQ 39.84375 48.1875 33.796875 48.1875 \nQ 26.515625 48.1875 22.3125 43.546875 \nQ 18.109375 38.921875 18.109375 30.90625 \nL 18.109375 0 \nL 9.078125 0 \nL 9.078125 54.6875 \nL 18.109375 54.6875 \nL 18.109375 46.1875 \nQ 21.34375 51.125 25.703125 53.5625 \nQ 30.078125 56 35.796875 56 \nQ 45.21875 56 50.046875 50.171875 \nQ 54.890625 44.34375 54.890625 33.015625 \nz\n\" id=\"DejaVuSans-110\"/>\n       <path d=\"M 48.78125 52.59375 \nL 48.78125 44.1875 \nQ 44.96875 46.296875 41.140625 47.34375 \nQ 37.3125 48.390625 33.40625 48.390625 \nQ 24.65625 48.390625 19.8125 42.84375 \nQ 14.984375 37.3125 14.984375 27.296875 \nQ 14.984375 17.28125 19.8125 11.734375 \nQ 24.65625 6.203125 33.40625 6.203125 \nQ 37.3125 6.203125 41.140625 7.25 \nQ 44.96875 8.296875 48.78125 10.40625 \nL 48.78125 2.09375 \nQ 45.015625 0.34375 40.984375 -0.53125 \nQ 36.96875 -1.421875 32.421875 -1.421875 \nQ 20.0625 -1.421875 12.78125 6.34375 \nQ 5.515625 14.109375 5.515625 27.296875 \nQ 5.515625 40.671875 12.859375 48.328125 \nQ 20.21875 56 33.015625 56 \nQ 37.15625 56 41.109375 55.140625 \nQ 45.0625 54.296875 48.78125 52.59375 \nz\n\" id=\"DejaVuSans-99\"/>\n       <path d=\"M 30.609375 48.390625 \nQ 23.390625 48.390625 19.1875 42.75 \nQ 14.984375 37.109375 14.984375 27.296875 \nQ 14.984375 17.484375 19.15625 11.84375 \nQ 23.34375 6.203125 30.609375 6.203125 \nQ 37.796875 6.203125 41.984375 11.859375 \nQ 46.1875 17.53125 46.1875 27.296875 \nQ 46.1875 37.015625 41.984375 42.703125 \nQ 37.796875 48.390625 30.609375 48.390625 \nz\nM 30.609375 56 \nQ 42.328125 56 49.015625 48.375 \nQ 55.71875 40.765625 55.71875 27.296875 \nQ 55.71875 13.875 49.015625 6.21875 \nQ 42.328125 -1.421875 30.609375 -1.421875 \nQ 18.84375 -1.421875 12.171875 6.21875 \nQ 5.515625 13.875 5.515625 27.296875 \nQ 5.515625 40.765625 12.171875 48.375 \nQ 18.84375 56 30.609375 56 \nz\n\" id=\"DejaVuSans-111\"/>\n       <path d=\"M 45.40625 46.390625 \nL 45.40625 75.984375 \nL 54.390625 75.984375 \nL 54.390625 0 \nL 45.40625 0 \nL 45.40625 8.203125 \nQ 42.578125 3.328125 38.25 0.953125 \nQ 33.9375 -1.421875 27.875 -1.421875 \nQ 17.96875 -1.421875 11.734375 6.484375 \nQ 5.515625 14.40625 5.515625 27.296875 \nQ 5.515625 40.1875 11.734375 48.09375 \nQ 17.96875 56 27.875 56 \nQ 33.9375 56 38.25 53.625 \nQ 42.578125 51.265625 45.40625 46.390625 \nz\nM 14.796875 27.296875 \nQ 14.796875 17.390625 18.875 11.75 \nQ 22.953125 6.109375 30.078125 6.109375 \nQ 37.203125 6.109375 41.296875 11.75 \nQ 45.40625 17.390625 45.40625 27.296875 \nQ 45.40625 37.203125 41.296875 42.84375 \nQ 37.203125 48.484375 30.078125 48.484375 \nQ 22.953125 48.484375 18.875 42.84375 \nQ 14.796875 37.203125 14.796875 27.296875 \nz\n\" id=\"DejaVuSans-100\"/>\n       <path d=\"M 50.984375 -16.609375 \nL 50.984375 -23.578125 \nL -0.984375 -23.578125 \nL -0.984375 -16.609375 \nz\n\" id=\"DejaVuSans-95\"/>\n       <path d=\"M 54.890625 33.015625 \nL 54.890625 0 \nL 45.90625 0 \nL 45.90625 32.71875 \nQ 45.90625 40.484375 42.875 44.328125 \nQ 39.84375 48.1875 33.796875 48.1875 \nQ 26.515625 48.1875 22.3125 43.546875 \nQ 18.109375 38.921875 18.109375 30.90625 \nL 18.109375 0 \nL 9.078125 0 \nL 9.078125 75.984375 \nL 18.109375 75.984375 \nL 18.109375 46.1875 \nQ 21.34375 51.125 25.703125 53.5625 \nQ 30.078125 56 35.796875 56 \nQ 45.21875 56 50.046875 50.171875 \nQ 54.890625 44.34375 54.890625 33.015625 \nz\n\" id=\"DejaVuSans-104\"/>\n       <path d=\"M 9.078125 75.984375 \nL 18.109375 75.984375 \nL 18.109375 31.109375 \nL 44.921875 54.6875 \nL 56.390625 54.6875 \nL 27.390625 29.109375 \nL 57.625 0 \nL 45.90625 0 \nL 18.109375 26.703125 \nL 18.109375 0 \nL 9.078125 0 \nz\n\" id=\"DejaVuSans-107\"/>\n       <path d=\"M 9.421875 54.6875 \nL 18.40625 54.6875 \nL 18.40625 0 \nL 9.421875 0 \nz\nM 9.421875 75.984375 \nL 18.40625 75.984375 \nL 18.40625 64.59375 \nL 9.421875 64.59375 \nz\n\" id=\"DejaVuSans-105\"/>\n       <path d=\"M 45.40625 27.984375 \nQ 45.40625 37.75 41.375 43.109375 \nQ 37.359375 48.484375 30.078125 48.484375 \nQ 22.859375 48.484375 18.828125 43.109375 \nQ 14.796875 37.75 14.796875 27.984375 \nQ 14.796875 18.265625 18.828125 12.890625 \nQ 22.859375 7.515625 30.078125 7.515625 \nQ 37.359375 7.515625 41.375 12.890625 \nQ 45.40625 18.265625 45.40625 27.984375 \nz\nM 54.390625 6.78125 \nQ 54.390625 -7.171875 48.1875 -13.984375 \nQ 42 -20.796875 29.203125 -20.796875 \nQ 24.46875 -20.796875 20.265625 -20.09375 \nQ 16.0625 -19.390625 12.109375 -17.921875 \nL 12.109375 -9.1875 \nQ 16.0625 -11.328125 19.921875 -12.34375 \nQ 23.78125 -13.375 27.78125 -13.375 \nQ 36.625 -13.375 41.015625 -8.765625 \nQ 45.40625 -4.15625 45.40625 5.171875 \nL 45.40625 9.625 \nQ 42.625 4.78125 38.28125 2.390625 \nQ 33.9375 0 27.875 0 \nQ 17.828125 0 11.671875 7.65625 \nQ 5.515625 15.328125 5.515625 27.984375 \nQ 5.515625 40.671875 11.671875 48.328125 \nQ 17.828125 56 27.875 56 \nQ 33.9375 56 38.28125 53.609375 \nQ 42.625 51.21875 45.40625 46.390625 \nL 45.40625 54.6875 \nL 54.390625 54.6875 \nz\n\" id=\"DejaVuSans-103\"/>\n       <path d=\"M 44.28125 53.078125 \nL 44.28125 44.578125 \nQ 40.484375 46.53125 36.375 47.5 \nQ 32.28125 48.484375 27.875 48.484375 \nQ 21.1875 48.484375 17.84375 46.4375 \nQ 14.5 44.390625 14.5 40.28125 \nQ 14.5 37.15625 16.890625 35.375 \nQ 19.28125 33.59375 26.515625 31.984375 \nL 29.59375 31.296875 \nQ 39.15625 29.25 43.1875 25.515625 \nQ 47.21875 21.78125 47.21875 15.09375 \nQ 47.21875 7.46875 41.1875 3.015625 \nQ 35.15625 -1.421875 24.609375 -1.421875 \nQ 20.21875 -1.421875 15.453125 -0.5625 \nQ 10.6875 0.296875 5.421875 2 \nL 5.421875 11.28125 \nQ 10.40625 8.6875 15.234375 7.390625 \nQ 20.0625 6.109375 24.8125 6.109375 \nQ 31.15625 6.109375 34.5625 8.28125 \nQ 37.984375 10.453125 37.984375 14.40625 \nQ 37.984375 18.0625 35.515625 20.015625 \nQ 33.0625 21.96875 24.703125 23.78125 \nL 21.578125 24.515625 \nQ 13.234375 26.265625 9.515625 29.90625 \nQ 5.8125 33.546875 5.8125 39.890625 \nQ 5.8125 47.609375 11.28125 51.796875 \nQ 16.75 56 26.8125 56 \nQ 31.78125 56 36.171875 55.265625 \nQ 40.578125 54.546875 44.28125 53.078125 \nz\n\" id=\"DejaVuSans-115\"/>\n       <path d=\"M 34.28125 27.484375 \nQ 23.390625 27.484375 19.1875 25 \nQ 14.984375 22.515625 14.984375 16.5 \nQ 14.984375 11.71875 18.140625 8.90625 \nQ 21.296875 6.109375 26.703125 6.109375 \nQ 34.1875 6.109375 38.703125 11.40625 \nQ 43.21875 16.703125 43.21875 25.484375 \nL 43.21875 27.484375 \nz\nM 52.203125 31.203125 \nL 52.203125 0 \nL 43.21875 0 \nL 43.21875 8.296875 \nQ 40.140625 3.328125 35.546875 0.953125 \nQ 30.953125 -1.421875 24.3125 -1.421875 \nQ 15.921875 -1.421875 10.953125 3.296875 \nQ 6 8.015625 6 15.921875 \nQ 6 25.140625 12.171875 29.828125 \nQ 18.359375 34.515625 30.609375 34.515625 \nL 43.21875 34.515625 \nL 43.21875 35.40625 \nQ 43.21875 41.609375 39.140625 45 \nQ 35.0625 48.390625 27.6875 48.390625 \nQ 23 48.390625 18.546875 47.265625 \nQ 14.109375 46.140625 10.015625 43.890625 \nL 10.015625 52.203125 \nQ 14.9375 54.109375 19.578125 55.046875 \nQ 24.21875 56 28.609375 56 \nQ 40.484375 56 46.34375 49.84375 \nQ 52.203125 43.703125 52.203125 31.203125 \nz\n\" id=\"DejaVuSans-97\"/>\n       <path d=\"M 8.5 21.578125 \nL 8.5 54.6875 \nL 17.484375 54.6875 \nL 17.484375 21.921875 \nQ 17.484375 14.15625 20.5 10.265625 \nQ 23.53125 6.390625 29.59375 6.390625 \nQ 36.859375 6.390625 41.078125 11.03125 \nQ 45.3125 15.671875 45.3125 23.6875 \nL 45.3125 54.6875 \nL 54.296875 54.6875 \nL 54.296875 0 \nL 45.3125 0 \nL 45.3125 8.40625 \nQ 42.046875 3.421875 37.71875 1 \nQ 33.40625 -1.421875 27.6875 -1.421875 \nQ 18.265625 -1.421875 13.375 4.4375 \nQ 8.5 10.296875 8.5 21.578125 \nz\nM 31.109375 56 \nz\n\" id=\"DejaVuSans-117\"/>\n      </defs>\n      <g style=\"fill:#262626;\" transform=\"translate(41.304688 221.191219)scale(0.1 -0.1)\">\n       <use xlink:href=\"#DejaVuSans-72\"/>\n       <use x=\"75.195312\" xlink:href=\"#DejaVuSans-101\"/>\n       <use x=\"136.71875\" xlink:href=\"#DejaVuSans-108\"/>\n       <use x=\"164.501953\" xlink:href=\"#DejaVuSans-109\"/>\n       <use x=\"261.914062\" xlink:href=\"#DejaVuSans-101\"/>\n       <use x=\"323.4375\" xlink:href=\"#DejaVuSans-114\"/>\n       <use x=\"364.550781\" xlink:href=\"#DejaVuSans-116\"/>\n       <use x=\"403.759766\" xlink:href=\"#DejaVuSans-69\"/>\n       <use x=\"466.943359\" xlink:href=\"#DejaVuSans-110\"/>\n       <use x=\"530.322266\" xlink:href=\"#DejaVuSans-99\"/>\n       <use x=\"585.302734\" xlink:href=\"#DejaVuSans-111\"/>\n       <use x=\"646.484375\" xlink:href=\"#DejaVuSans-100\"/>\n       <use x=\"709.960938\" xlink:href=\"#DejaVuSans-101\"/>\n       <use x=\"771.484375\" xlink:href=\"#DejaVuSans-114\"/>\n       <use x=\"812.597656\" xlink:href=\"#DejaVuSans-95\"/>\n       <use x=\"862.597656\" xlink:href=\"#DejaVuSans-99\"/>\n       <use x=\"917.578125\" xlink:href=\"#DejaVuSans-104\"/>\n       <use x=\"980.957031\" xlink:href=\"#DejaVuSans-101\"/>\n       <use x=\"1042.480469\" xlink:href=\"#DejaVuSans-99\"/>\n       <use x=\"1097.460938\" xlink:href=\"#DejaVuSans-107\"/>\n       <use x=\"1155.371094\" xlink:href=\"#DejaVuSans-105\"/>\n       <use x=\"1183.154297\" xlink:href=\"#DejaVuSans-110\"/>\n       <use x=\"1246.533203\" xlink:href=\"#DejaVuSans-103\"/>\n       <use x=\"1310.009766\" xlink:href=\"#DejaVuSans-95\"/>\n       <use x=\"1360.009766\" xlink:href=\"#DejaVuSans-115\"/>\n       <use x=\"1412.109375\" xlink:href=\"#DejaVuSans-116\"/>\n       <use x=\"1451.318359\" xlink:href=\"#DejaVuSans-97\"/>\n       <use x=\"1512.597656\" xlink:href=\"#DejaVuSans-116\"/>\n       <use x=\"1551.806641\" xlink:href=\"#DejaVuSans-117\"/>\n       <use x=\"1615.185547\" xlink:href=\"#DejaVuSans-115\"/>\n       <use x=\"1667.285156\" xlink:href=\"#DejaVuSans-95\"/>\n       <use x=\"1717.285156\" xlink:href=\"#DejaVuSans-49\"/>\n      </g>\n     </g>\n    </g>\n    <g id=\"ytick_2\">\n     <g id=\"line2d_11\">\n      <path clip-path=\"url(#p1b8d3c55ed)\" d=\"M 226.396875 202.896 \nL 561.196875 202.896 \n\" style=\"fill:none;stroke:#ffffff;stroke-linecap:round;stroke-width:0.8;\"/>\n     </g>\n     <g id=\"text_11\">\n      <!-- duration_/_credit_amount -->\n      <defs>\n       <path d=\"M 25.390625 72.90625 \nL 33.6875 72.90625 \nL 8.296875 -9.28125 \nL 0 -9.28125 \nz\n\" id=\"DejaVuSans-47\"/>\n      </defs>\n      <g style=\"fill:#262626;\" transform=\"translate(91.78125 206.695219)scale(0.1 -0.1)\">\n       <use xlink:href=\"#DejaVuSans-100\"/>\n       <use x=\"63.476562\" xlink:href=\"#DejaVuSans-117\"/>\n       <use x=\"126.855469\" xlink:href=\"#DejaVuSans-114\"/>\n       <use x=\"167.96875\" xlink:href=\"#DejaVuSans-97\"/>\n       <use x=\"229.248047\" xlink:href=\"#DejaVuSans-116\"/>\n       <use x=\"268.457031\" xlink:href=\"#DejaVuSans-105\"/>\n       <use x=\"296.240234\" xlink:href=\"#DejaVuSans-111\"/>\n       <use x=\"357.421875\" xlink:href=\"#DejaVuSans-110\"/>\n       <use x=\"420.800781\" xlink:href=\"#DejaVuSans-95\"/>\n       <use x=\"470.800781\" xlink:href=\"#DejaVuSans-47\"/>\n       <use x=\"504.492188\" xlink:href=\"#DejaVuSans-95\"/>\n       <use x=\"554.492188\" xlink:href=\"#DejaVuSans-99\"/>\n       <use x=\"609.472656\" xlink:href=\"#DejaVuSans-114\"/>\n       <use x=\"648.335938\" xlink:href=\"#DejaVuSans-101\"/>\n       <use x=\"709.859375\" xlink:href=\"#DejaVuSans-100\"/>\n       <use x=\"773.335938\" xlink:href=\"#DejaVuSans-105\"/>\n       <use x=\"801.119141\" xlink:href=\"#DejaVuSans-116\"/>\n       <use x=\"840.328125\" xlink:href=\"#DejaVuSans-95\"/>\n       <use x=\"890.328125\" xlink:href=\"#DejaVuSans-97\"/>\n       <use x=\"951.607422\" xlink:href=\"#DejaVuSans-109\"/>\n       <use x=\"1049.019531\" xlink:href=\"#DejaVuSans-111\"/>\n       <use x=\"1110.201172\" xlink:href=\"#DejaVuSans-117\"/>\n       <use x=\"1173.580078\" xlink:href=\"#DejaVuSans-110\"/>\n       <use x=\"1236.958984\" xlink:href=\"#DejaVuSans-116\"/>\n      </g>\n     </g>\n    </g>\n    <g id=\"ytick_3\">\n     <g id=\"line2d_12\">\n      <path clip-path=\"url(#p1b8d3c55ed)\" d=\"M 226.396875 188.4 \nL 561.196875 188.4 \n\" style=\"fill:none;stroke:#ffffff;stroke-linecap:round;stroke-width:0.8;\"/>\n     </g>\n     <g id=\"text_12\">\n      <!-- duration_/_age -->\n      <g style=\"fill:#262626;\" transform=\"translate(145.31875 192.199219)scale(0.1 -0.1)\">\n       <use xlink:href=\"#DejaVuSans-100\"/>\n       <use x=\"63.476562\" xlink:href=\"#DejaVuSans-117\"/>\n       <use x=\"126.855469\" xlink:href=\"#DejaVuSans-114\"/>\n       <use x=\"167.96875\" xlink:href=\"#DejaVuSans-97\"/>\n       <use x=\"229.248047\" xlink:href=\"#DejaVuSans-116\"/>\n       <use x=\"268.457031\" xlink:href=\"#DejaVuSans-105\"/>\n       <use x=\"296.240234\" xlink:href=\"#DejaVuSans-111\"/>\n       <use x=\"357.421875\" xlink:href=\"#DejaVuSans-110\"/>\n       <use x=\"420.800781\" xlink:href=\"#DejaVuSans-95\"/>\n       <use x=\"470.800781\" xlink:href=\"#DejaVuSans-47\"/>\n       <use x=\"504.492188\" xlink:href=\"#DejaVuSans-95\"/>\n       <use x=\"554.492188\" xlink:href=\"#DejaVuSans-97\"/>\n       <use x=\"615.771484\" xlink:href=\"#DejaVuSans-103\"/>\n       <use x=\"679.248047\" xlink:href=\"#DejaVuSans-101\"/>\n      </g>\n     </g>\n    </g>\n    <g id=\"ytick_4\">\n     <g id=\"line2d_13\">\n      <path clip-path=\"url(#p1b8d3c55ed)\" d=\"M 226.396875 173.904 \nL 561.196875 173.904 \n\" style=\"fill:none;stroke:#ffffff;stroke-linecap:round;stroke-width:0.8;\"/>\n     </g>\n     <g id=\"text_13\">\n      <!-- installment_commitment_*_credit_amount -->\n      <defs>\n       <path d=\"M 47.015625 60.890625 \nL 29.5 51.421875 \nL 47.015625 41.890625 \nL 44.1875 37.109375 \nL 27.78125 47.015625 \nL 27.78125 28.609375 \nL 22.21875 28.609375 \nL 22.21875 47.015625 \nL 5.8125 37.109375 \nL 2.984375 41.890625 \nL 20.515625 51.421875 \nL 2.984375 60.890625 \nL 5.8125 65.71875 \nL 22.21875 55.8125 \nL 22.21875 74.21875 \nL 27.78125 74.21875 \nL 27.78125 55.8125 \nL 44.1875 65.71875 \nz\n\" id=\"DejaVuSans-42\"/>\n      </defs>\n      <g style=\"fill:#262626;\" transform=\"translate(7.2 177.703219)scale(0.1 -0.1)\">\n       <use xlink:href=\"#DejaVuSans-105\"/>\n       <use x=\"27.783203\" xlink:href=\"#DejaVuSans-110\"/>\n       <use x=\"91.162109\" xlink:href=\"#DejaVuSans-115\"/>\n       <use x=\"143.261719\" xlink:href=\"#DejaVuSans-116\"/>\n       <use x=\"182.470703\" xlink:href=\"#DejaVuSans-97\"/>\n       <use x=\"243.75\" xlink:href=\"#DejaVuSans-108\"/>\n       <use x=\"271.533203\" xlink:href=\"#DejaVuSans-108\"/>\n       <use x=\"299.316406\" xlink:href=\"#DejaVuSans-109\"/>\n       <use x=\"396.728516\" xlink:href=\"#DejaVuSans-101\"/>\n       <use x=\"458.251953\" xlink:href=\"#DejaVuSans-110\"/>\n       <use x=\"521.630859\" xlink:href=\"#DejaVuSans-116\"/>\n       <use x=\"560.839844\" xlink:href=\"#DejaVuSans-95\"/>\n       <use x=\"610.839844\" xlink:href=\"#DejaVuSans-99\"/>\n       <use x=\"665.820312\" xlink:href=\"#DejaVuSans-111\"/>\n       <use x=\"727.001953\" xlink:href=\"#DejaVuSans-109\"/>\n       <use x=\"824.414062\" xlink:href=\"#DejaVuSans-109\"/>\n       <use x=\"921.826172\" xlink:href=\"#DejaVuSans-105\"/>\n       <use x=\"949.609375\" xlink:href=\"#DejaVuSans-116\"/>\n       <use x=\"988.818359\" xlink:href=\"#DejaVuSans-109\"/>\n       <use x=\"1086.230469\" xlink:href=\"#DejaVuSans-101\"/>\n       <use x=\"1147.753906\" xlink:href=\"#DejaVuSans-110\"/>\n       <use x=\"1211.132812\" xlink:href=\"#DejaVuSans-116\"/>\n       <use x=\"1250.341797\" xlink:href=\"#DejaVuSans-95\"/>\n       <use x=\"1300.341797\" xlink:href=\"#DejaVuSans-42\"/>\n       <use x=\"1350.341797\" xlink:href=\"#DejaVuSans-95\"/>\n       <use x=\"1400.341797\" xlink:href=\"#DejaVuSans-99\"/>\n       <use x=\"1455.322266\" xlink:href=\"#DejaVuSans-114\"/>\n       <use x=\"1494.185547\" xlink:href=\"#DejaVuSans-101\"/>\n       <use x=\"1555.708984\" xlink:href=\"#DejaVuSans-100\"/>\n       <use x=\"1619.185547\" xlink:href=\"#DejaVuSans-105\"/>\n       <use x=\"1646.96875\" xlink:href=\"#DejaVuSans-116\"/>\n       <use x=\"1686.177734\" xlink:href=\"#DejaVuSans-95\"/>\n       <use x=\"1736.177734\" xlink:href=\"#DejaVuSans-97\"/>\n       <use x=\"1797.457031\" xlink:href=\"#DejaVuSans-109\"/>\n       <use x=\"1894.869141\" xlink:href=\"#DejaVuSans-111\"/>\n       <use x=\"1956.050781\" xlink:href=\"#DejaVuSans-117\"/>\n       <use x=\"2019.429688\" xlink:href=\"#DejaVuSans-110\"/>\n       <use x=\"2082.808594\" xlink:href=\"#DejaVuSans-116\"/>\n      </g>\n     </g>\n    </g>\n    <g id=\"ytick_5\">\n     <g id=\"line2d_14\">\n      <path clip-path=\"url(#p1b8d3c55ed)\" d=\"M 226.396875 159.408 \nL 561.196875 159.408 \n\" style=\"fill:none;stroke:#ffffff;stroke-linecap:round;stroke-width:0.8;\"/>\n     </g>\n     <g id=\"text_14\">\n      <!-- duration_-_age -->\n      <defs>\n       <path d=\"M 4.890625 31.390625 \nL 31.203125 31.390625 \nL 31.203125 23.390625 \nL 4.890625 23.390625 \nz\n\" id=\"DejaVuSans-45\"/>\n      </defs>\n      <g style=\"fill:#262626;\" transform=\"translate(145.079688 163.207219)scale(0.1 -0.1)\">\n       <use xlink:href=\"#DejaVuSans-100\"/>\n       <use x=\"63.476562\" xlink:href=\"#DejaVuSans-117\"/>\n       <use x=\"126.855469\" xlink:href=\"#DejaVuSans-114\"/>\n       <use x=\"167.96875\" xlink:href=\"#DejaVuSans-97\"/>\n       <use x=\"229.248047\" xlink:href=\"#DejaVuSans-116\"/>\n       <use x=\"268.457031\" xlink:href=\"#DejaVuSans-105\"/>\n       <use x=\"296.240234\" xlink:href=\"#DejaVuSans-111\"/>\n       <use x=\"357.421875\" xlink:href=\"#DejaVuSans-110\"/>\n       <use x=\"420.800781\" xlink:href=\"#DejaVuSans-95\"/>\n       <use x=\"470.800781\" xlink:href=\"#DejaVuSans-45\"/>\n       <use x=\"506.884766\" xlink:href=\"#DejaVuSans-95\"/>\n       <use x=\"556.884766\" xlink:href=\"#DejaVuSans-97\"/>\n       <use x=\"618.164062\" xlink:href=\"#DejaVuSans-103\"/>\n       <use x=\"681.640625\" xlink:href=\"#DejaVuSans-101\"/>\n      </g>\n     </g>\n    </g>\n    <g id=\"ytick_6\">\n     <g id=\"line2d_15\">\n      <path clip-path=\"url(#p1b8d3c55ed)\" d=\"M 226.396875 144.912 \nL 561.196875 144.912 \n\" style=\"fill:none;stroke:#ffffff;stroke-linecap:round;stroke-width:0.8;\"/>\n     </g>\n     <g id=\"text_15\">\n      <!-- installment_commitment_/_age -->\n      <g style=\"fill:#262626;\" transform=\"translate(62.36875 148.711219)scale(0.1 -0.1)\">\n       <use xlink:href=\"#DejaVuSans-105\"/>\n       <use x=\"27.783203\" xlink:href=\"#DejaVuSans-110\"/>\n       <use x=\"91.162109\" xlink:href=\"#DejaVuSans-115\"/>\n       <use x=\"143.261719\" xlink:href=\"#DejaVuSans-116\"/>\n       <use x=\"182.470703\" xlink:href=\"#DejaVuSans-97\"/>\n       <use x=\"243.75\" xlink:href=\"#DejaVuSans-108\"/>\n       <use x=\"271.533203\" xlink:href=\"#DejaVuSans-108\"/>\n       <use x=\"299.316406\" xlink:href=\"#DejaVuSans-109\"/>\n       <use x=\"396.728516\" xlink:href=\"#DejaVuSans-101\"/>\n       <use x=\"458.251953\" xlink:href=\"#DejaVuSans-110\"/>\n       <use x=\"521.630859\" xlink:href=\"#DejaVuSans-116\"/>\n       <use x=\"560.839844\" xlink:href=\"#DejaVuSans-95\"/>\n       <use x=\"610.839844\" xlink:href=\"#DejaVuSans-99\"/>\n       <use x=\"665.820312\" xlink:href=\"#DejaVuSans-111\"/>\n       <use x=\"727.001953\" xlink:href=\"#DejaVuSans-109\"/>\n       <use x=\"824.414062\" xlink:href=\"#DejaVuSans-109\"/>\n       <use x=\"921.826172\" xlink:href=\"#DejaVuSans-105\"/>\n       <use x=\"949.609375\" xlink:href=\"#DejaVuSans-116\"/>\n       <use x=\"988.818359\" xlink:href=\"#DejaVuSans-109\"/>\n       <use x=\"1086.230469\" xlink:href=\"#DejaVuSans-101\"/>\n       <use x=\"1147.753906\" xlink:href=\"#DejaVuSans-110\"/>\n       <use x=\"1211.132812\" xlink:href=\"#DejaVuSans-116\"/>\n       <use x=\"1250.341797\" xlink:href=\"#DejaVuSans-95\"/>\n       <use x=\"1300.341797\" xlink:href=\"#DejaVuSans-47\"/>\n       <use x=\"1334.033203\" xlink:href=\"#DejaVuSans-95\"/>\n       <use x=\"1384.033203\" xlink:href=\"#DejaVuSans-97\"/>\n       <use x=\"1445.3125\" xlink:href=\"#DejaVuSans-103\"/>\n       <use x=\"1508.789062\" xlink:href=\"#DejaVuSans-101\"/>\n      </g>\n     </g>\n    </g>\n    <g id=\"ytick_7\">\n     <g id=\"line2d_16\">\n      <path clip-path=\"url(#p1b8d3c55ed)\" d=\"M 226.396875 130.416 \nL 561.196875 130.416 \n\" style=\"fill:none;stroke:#ffffff;stroke-linecap:round;stroke-width:0.8;\"/>\n     </g>\n     <g id=\"text_16\">\n      <!-- duration_*_credit_amount -->\n      <g style=\"fill:#262626;\" transform=\"translate(90.15 134.215219)scale(0.1 -0.1)\">\n       <use xlink:href=\"#DejaVuSans-100\"/>\n       <use x=\"63.476562\" xlink:href=\"#DejaVuSans-117\"/>\n       <use x=\"126.855469\" xlink:href=\"#DejaVuSans-114\"/>\n       <use x=\"167.96875\" xlink:href=\"#DejaVuSans-97\"/>\n       <use x=\"229.248047\" xlink:href=\"#DejaVuSans-116\"/>\n       <use x=\"268.457031\" xlink:href=\"#DejaVuSans-105\"/>\n       <use x=\"296.240234\" xlink:href=\"#DejaVuSans-111\"/>\n       <use x=\"357.421875\" xlink:href=\"#DejaVuSans-110\"/>\n       <use x=\"420.800781\" xlink:href=\"#DejaVuSans-95\"/>\n       <use x=\"470.800781\" xlink:href=\"#DejaVuSans-42\"/>\n       <use x=\"520.800781\" xlink:href=\"#DejaVuSans-95\"/>\n       <use x=\"570.800781\" xlink:href=\"#DejaVuSans-99\"/>\n       <use x=\"625.78125\" xlink:href=\"#DejaVuSans-114\"/>\n       <use x=\"664.644531\" xlink:href=\"#DejaVuSans-101\"/>\n       <use x=\"726.167969\" xlink:href=\"#DejaVuSans-100\"/>\n       <use x=\"789.644531\" xlink:href=\"#DejaVuSans-105\"/>\n       <use x=\"817.427734\" xlink:href=\"#DejaVuSans-116\"/>\n       <use x=\"856.636719\" xlink:href=\"#DejaVuSans-95\"/>\n       <use x=\"906.636719\" xlink:href=\"#DejaVuSans-97\"/>\n       <use x=\"967.916016\" xlink:href=\"#DejaVuSans-109\"/>\n       <use x=\"1065.328125\" xlink:href=\"#DejaVuSans-111\"/>\n       <use x=\"1126.509766\" xlink:href=\"#DejaVuSans-117\"/>\n       <use x=\"1189.888672\" xlink:href=\"#DejaVuSans-110\"/>\n       <use x=\"1253.267578\" xlink:href=\"#DejaVuSans-116\"/>\n      </g>\n     </g>\n    </g>\n    <g id=\"ytick_8\">\n     <g id=\"line2d_17\">\n      <path clip-path=\"url(#p1b8d3c55ed)\" d=\"M 226.396875 115.92 \nL 561.196875 115.92 \n\" style=\"fill:none;stroke:#ffffff;stroke-linecap:round;stroke-width:0.8;\"/>\n     </g>\n     <g id=\"text_17\">\n      <!-- purpose -->\n      <defs>\n       <path d=\"M 18.109375 8.203125 \nL 18.109375 -20.796875 \nL 9.078125 -20.796875 \nL 9.078125 54.6875 \nL 18.109375 54.6875 \nL 18.109375 46.390625 \nQ 20.953125 51.265625 25.265625 53.625 \nQ 29.59375 56 35.59375 56 \nQ 45.5625 56 51.78125 48.09375 \nQ 58.015625 40.1875 58.015625 27.296875 \nQ 58.015625 14.40625 51.78125 6.484375 \nQ 45.5625 -1.421875 35.59375 -1.421875 \nQ 29.59375 -1.421875 25.265625 0.953125 \nQ 20.953125 3.328125 18.109375 8.203125 \nz\nM 48.6875 27.296875 \nQ 48.6875 37.203125 44.609375 42.84375 \nQ 40.53125 48.484375 33.40625 48.484375 \nQ 26.265625 48.484375 22.1875 42.84375 \nQ 18.109375 37.203125 18.109375 27.296875 \nQ 18.109375 17.390625 22.1875 11.75 \nQ 26.265625 6.109375 33.40625 6.109375 \nQ 40.53125 6.109375 44.609375 11.75 \nQ 48.6875 17.390625 48.6875 27.296875 \nz\n\" id=\"DejaVuSans-112\"/>\n      </defs>\n      <g style=\"fill:#262626;\" transform=\"translate(178.770313 119.719219)scale(0.1 -0.1)\">\n       <use xlink:href=\"#DejaVuSans-112\"/>\n       <use x=\"63.476562\" xlink:href=\"#DejaVuSans-117\"/>\n       <use x=\"126.855469\" xlink:href=\"#DejaVuSans-114\"/>\n       <use x=\"167.96875\" xlink:href=\"#DejaVuSans-112\"/>\n       <use x=\"231.445312\" xlink:href=\"#DejaVuSans-111\"/>\n       <use x=\"292.626953\" xlink:href=\"#DejaVuSans-115\"/>\n       <use x=\"344.726562\" xlink:href=\"#DejaVuSans-101\"/>\n      </g>\n     </g>\n    </g>\n    <g id=\"ytick_9\">\n     <g id=\"line2d_18\">\n      <path clip-path=\"url(#p1b8d3c55ed)\" d=\"M 226.396875 101.424 \nL 561.196875 101.424 \n\" style=\"fill:none;stroke:#ffffff;stroke-linecap:round;stroke-width:0.8;\"/>\n     </g>\n     <g id=\"text_18\">\n      <!-- age_/_residence_since -->\n      <g style=\"fill:#262626;\" transform=\"translate(107.904688 105.223219)scale(0.1 -0.1)\">\n       <use xlink:href=\"#DejaVuSans-97\"/>\n       <use x=\"61.279297\" xlink:href=\"#DejaVuSans-103\"/>\n       <use x=\"124.755859\" xlink:href=\"#DejaVuSans-101\"/>\n       <use x=\"186.279297\" xlink:href=\"#DejaVuSans-95\"/>\n       <use x=\"236.279297\" xlink:href=\"#DejaVuSans-47\"/>\n       <use x=\"269.970703\" xlink:href=\"#DejaVuSans-95\"/>\n       <use x=\"319.970703\" xlink:href=\"#DejaVuSans-114\"/>\n       <use x=\"358.833984\" xlink:href=\"#DejaVuSans-101\"/>\n       <use x=\"420.357422\" xlink:href=\"#DejaVuSans-115\"/>\n       <use x=\"472.457031\" xlink:href=\"#DejaVuSans-105\"/>\n       <use x=\"500.240234\" xlink:href=\"#DejaVuSans-100\"/>\n       <use x=\"563.716797\" xlink:href=\"#DejaVuSans-101\"/>\n       <use x=\"625.240234\" xlink:href=\"#DejaVuSans-110\"/>\n       <use x=\"688.619141\" xlink:href=\"#DejaVuSans-99\"/>\n       <use x=\"743.599609\" xlink:href=\"#DejaVuSans-101\"/>\n       <use x=\"805.123047\" xlink:href=\"#DejaVuSans-95\"/>\n       <use x=\"855.123047\" xlink:href=\"#DejaVuSans-115\"/>\n       <use x=\"907.222656\" xlink:href=\"#DejaVuSans-105\"/>\n       <use x=\"935.005859\" xlink:href=\"#DejaVuSans-110\"/>\n       <use x=\"998.384766\" xlink:href=\"#DejaVuSans-99\"/>\n       <use x=\"1053.365234\" xlink:href=\"#DejaVuSans-101\"/>\n      </g>\n     </g>\n    </g>\n    <g id=\"ytick_10\">\n     <g id=\"line2d_19\">\n      <path clip-path=\"url(#p1b8d3c55ed)\" d=\"M 226.396875 86.928 \nL 561.196875 86.928 \n\" style=\"fill:none;stroke:#ffffff;stroke-linecap:round;stroke-width:0.8;\"/>\n     </g>\n     <g id=\"text_19\">\n      <!-- existing_credits_*_credit_amount -->\n      <defs>\n       <path d=\"M 54.890625 54.6875 \nL 35.109375 28.078125 \nL 55.90625 0 \nL 45.3125 0 \nL 29.390625 21.484375 \nL 13.484375 0 \nL 2.875 0 \nL 24.125 28.609375 \nL 4.6875 54.6875 \nL 15.28125 54.6875 \nL 29.78125 35.203125 \nL 44.28125 54.6875 \nz\n\" id=\"DejaVuSans-120\"/>\n      </defs>\n      <g style=\"fill:#262626;\" transform=\"translate(54.167188 90.727219)scale(0.1 -0.1)\">\n       <use xlink:href=\"#DejaVuSans-101\"/>\n       <use x=\"59.773438\" xlink:href=\"#DejaVuSans-120\"/>\n       <use x=\"118.953125\" xlink:href=\"#DejaVuSans-105\"/>\n       <use x=\"146.736328\" xlink:href=\"#DejaVuSans-115\"/>\n       <use x=\"198.835938\" xlink:href=\"#DejaVuSans-116\"/>\n       <use x=\"238.044922\" xlink:href=\"#DejaVuSans-105\"/>\n       <use x=\"265.828125\" xlink:href=\"#DejaVuSans-110\"/>\n       <use x=\"329.207031\" xlink:href=\"#DejaVuSans-103\"/>\n       <use x=\"392.683594\" xlink:href=\"#DejaVuSans-95\"/>\n       <use x=\"442.683594\" xlink:href=\"#DejaVuSans-99\"/>\n       <use x=\"497.664062\" xlink:href=\"#DejaVuSans-114\"/>\n       <use x=\"536.527344\" xlink:href=\"#DejaVuSans-101\"/>\n       <use x=\"598.050781\" xlink:href=\"#DejaVuSans-100\"/>\n       <use x=\"661.527344\" xlink:href=\"#DejaVuSans-105\"/>\n       <use x=\"689.310547\" xlink:href=\"#DejaVuSans-116\"/>\n       <use x=\"728.519531\" xlink:href=\"#DejaVuSans-115\"/>\n       <use x=\"780.619141\" xlink:href=\"#DejaVuSans-95\"/>\n       <use x=\"830.619141\" xlink:href=\"#DejaVuSans-42\"/>\n       <use x=\"880.619141\" xlink:href=\"#DejaVuSans-95\"/>\n       <use x=\"930.619141\" xlink:href=\"#DejaVuSans-99\"/>\n       <use x=\"985.599609\" xlink:href=\"#DejaVuSans-114\"/>\n       <use x=\"1024.462891\" xlink:href=\"#DejaVuSans-101\"/>\n       <use x=\"1085.986328\" xlink:href=\"#DejaVuSans-100\"/>\n       <use x=\"1149.462891\" xlink:href=\"#DejaVuSans-105\"/>\n       <use x=\"1177.246094\" xlink:href=\"#DejaVuSans-116\"/>\n       <use x=\"1216.455078\" xlink:href=\"#DejaVuSans-95\"/>\n       <use x=\"1266.455078\" xlink:href=\"#DejaVuSans-97\"/>\n       <use x=\"1327.734375\" xlink:href=\"#DejaVuSans-109\"/>\n       <use x=\"1425.146484\" xlink:href=\"#DejaVuSans-111\"/>\n       <use x=\"1486.328125\" xlink:href=\"#DejaVuSans-117\"/>\n       <use x=\"1549.707031\" xlink:href=\"#DejaVuSans-110\"/>\n       <use x=\"1613.085938\" xlink:href=\"#DejaVuSans-116\"/>\n      </g>\n     </g>\n    </g>\n    <g id=\"ytick_11\">\n     <g id=\"line2d_20\">\n      <path clip-path=\"url(#p1b8d3c55ed)\" d=\"M 226.396875 72.432 \nL 561.196875 72.432 \n\" style=\"fill:none;stroke:#ffffff;stroke-linecap:round;stroke-width:0.8;\"/>\n     </g>\n     <g id=\"text_20\">\n      <!-- age_/_credit_amount -->\n      <g style=\"fill:#262626;\" transform=\"translate(115.23125 76.231219)scale(0.1 -0.1)\">\n       <use xlink:href=\"#DejaVuSans-97\"/>\n       <use x=\"61.279297\" xlink:href=\"#DejaVuSans-103\"/>\n       <use x=\"124.755859\" xlink:href=\"#DejaVuSans-101\"/>\n       <use x=\"186.279297\" xlink:href=\"#DejaVuSans-95\"/>\n       <use x=\"236.279297\" xlink:href=\"#DejaVuSans-47\"/>\n       <use x=\"269.970703\" xlink:href=\"#DejaVuSans-95\"/>\n       <use x=\"319.970703\" xlink:href=\"#DejaVuSans-99\"/>\n       <use x=\"374.951172\" xlink:href=\"#DejaVuSans-114\"/>\n       <use x=\"413.814453\" xlink:href=\"#DejaVuSans-101\"/>\n       <use x=\"475.337891\" xlink:href=\"#DejaVuSans-100\"/>\n       <use x=\"538.814453\" xlink:href=\"#DejaVuSans-105\"/>\n       <use x=\"566.597656\" xlink:href=\"#DejaVuSans-116\"/>\n       <use x=\"605.806641\" xlink:href=\"#DejaVuSans-95\"/>\n       <use x=\"655.806641\" xlink:href=\"#DejaVuSans-97\"/>\n       <use x=\"717.085938\" xlink:href=\"#DejaVuSans-109\"/>\n       <use x=\"814.498047\" xlink:href=\"#DejaVuSans-111\"/>\n       <use x=\"875.679688\" xlink:href=\"#DejaVuSans-117\"/>\n       <use x=\"939.058594\" xlink:href=\"#DejaVuSans-110\"/>\n       <use x=\"1002.4375\" xlink:href=\"#DejaVuSans-116\"/>\n      </g>\n     </g>\n    </g>\n    <g id=\"ytick_12\">\n     <g id=\"line2d_21\">\n      <path clip-path=\"url(#p1b8d3c55ed)\" d=\"M 226.396875 57.936 \nL 561.196875 57.936 \n\" style=\"fill:none;stroke:#ffffff;stroke-linecap:round;stroke-width:0.8;\"/>\n     </g>\n     <g id=\"text_21\">\n      <!-- residence_since_/_credit_amount -->\n      <g style=\"fill:#262626;\" transform=\"translate(54.367188 61.735219)scale(0.1 -0.1)\">\n       <use xlink:href=\"#DejaVuSans-114\"/>\n       <use x=\"38.863281\" xlink:href=\"#DejaVuSans-101\"/>\n       <use x=\"100.386719\" xlink:href=\"#DejaVuSans-115\"/>\n       <use x=\"152.486328\" xlink:href=\"#DejaVuSans-105\"/>\n       <use x=\"180.269531\" xlink:href=\"#DejaVuSans-100\"/>\n       <use x=\"243.746094\" xlink:href=\"#DejaVuSans-101\"/>\n       <use x=\"305.269531\" xlink:href=\"#DejaVuSans-110\"/>\n       <use x=\"368.648438\" xlink:href=\"#DejaVuSans-99\"/>\n       <use x=\"423.628906\" xlink:href=\"#DejaVuSans-101\"/>\n       <use x=\"485.152344\" xlink:href=\"#DejaVuSans-95\"/>\n       <use x=\"535.152344\" xlink:href=\"#DejaVuSans-115\"/>\n       <use x=\"587.251953\" xlink:href=\"#DejaVuSans-105\"/>\n       <use x=\"615.035156\" xlink:href=\"#DejaVuSans-110\"/>\n       <use x=\"678.414062\" xlink:href=\"#DejaVuSans-99\"/>\n       <use x=\"733.394531\" xlink:href=\"#DejaVuSans-101\"/>\n       <use x=\"794.917969\" xlink:href=\"#DejaVuSans-95\"/>\n       <use x=\"844.917969\" xlink:href=\"#DejaVuSans-47\"/>\n       <use x=\"878.609375\" xlink:href=\"#DejaVuSans-95\"/>\n       <use x=\"928.609375\" xlink:href=\"#DejaVuSans-99\"/>\n       <use x=\"983.589844\" xlink:href=\"#DejaVuSans-114\"/>\n       <use x=\"1022.453125\" xlink:href=\"#DejaVuSans-101\"/>\n       <use x=\"1083.976562\" xlink:href=\"#DejaVuSans-100\"/>\n       <use x=\"1147.453125\" xlink:href=\"#DejaVuSans-105\"/>\n       <use x=\"1175.236328\" xlink:href=\"#DejaVuSans-116\"/>\n       <use x=\"1214.445312\" xlink:href=\"#DejaVuSans-95\"/>\n       <use x=\"1264.445312\" xlink:href=\"#DejaVuSans-97\"/>\n       <use x=\"1325.724609\" xlink:href=\"#DejaVuSans-109\"/>\n       <use x=\"1423.136719\" xlink:href=\"#DejaVuSans-111\"/>\n       <use x=\"1484.318359\" xlink:href=\"#DejaVuSans-117\"/>\n       <use x=\"1547.697266\" xlink:href=\"#DejaVuSans-110\"/>\n       <use x=\"1611.076172\" xlink:href=\"#DejaVuSans-116\"/>\n      </g>\n     </g>\n    </g>\n    <g id=\"ytick_13\">\n     <g id=\"line2d_22\">\n      <path clip-path=\"url(#p1b8d3c55ed)\" d=\"M 226.396875 43.44 \nL 561.196875 43.44 \n\" style=\"fill:none;stroke:#ffffff;stroke-linecap:round;stroke-width:0.8;\"/>\n     </g>\n     <g id=\"text_22\">\n      <!-- age_*_credit_amount -->\n      <g style=\"fill:#262626;\" transform=\"translate(113.6 47.239219)scale(0.1 -0.1)\">\n       <use xlink:href=\"#DejaVuSans-97\"/>\n       <use x=\"61.279297\" xlink:href=\"#DejaVuSans-103\"/>\n       <use x=\"124.755859\" xlink:href=\"#DejaVuSans-101\"/>\n       <use x=\"186.279297\" xlink:href=\"#DejaVuSans-95\"/>\n       <use x=\"236.279297\" xlink:href=\"#DejaVuSans-42\"/>\n       <use x=\"286.279297\" xlink:href=\"#DejaVuSans-95\"/>\n       <use x=\"336.279297\" xlink:href=\"#DejaVuSans-99\"/>\n       <use x=\"391.259766\" xlink:href=\"#DejaVuSans-114\"/>\n       <use x=\"430.123047\" xlink:href=\"#DejaVuSans-101\"/>\n       <use x=\"491.646484\" xlink:href=\"#DejaVuSans-100\"/>\n       <use x=\"555.123047\" xlink:href=\"#DejaVuSans-105\"/>\n       <use x=\"582.90625\" xlink:href=\"#DejaVuSans-116\"/>\n       <use x=\"622.115234\" xlink:href=\"#DejaVuSans-95\"/>\n       <use x=\"672.115234\" xlink:href=\"#DejaVuSans-97\"/>\n       <use x=\"733.394531\" xlink:href=\"#DejaVuSans-109\"/>\n       <use x=\"830.806641\" xlink:href=\"#DejaVuSans-111\"/>\n       <use x=\"891.988281\" xlink:href=\"#DejaVuSans-117\"/>\n       <use x=\"955.367188\" xlink:href=\"#DejaVuSans-110\"/>\n       <use x=\"1018.746094\" xlink:href=\"#DejaVuSans-116\"/>\n      </g>\n     </g>\n    </g>\n    <g id=\"ytick_14\">\n     <g id=\"line2d_23\">\n      <path clip-path=\"url(#p1b8d3c55ed)\" d=\"M 226.396875 28.944 \nL 561.196875 28.944 \n\" style=\"fill:none;stroke:#ffffff;stroke-linecap:round;stroke-width:0.8;\"/>\n     </g>\n     <g id=\"text_23\">\n      <!-- existing_credits_/_credit_amount -->\n      <g style=\"fill:#262626;\" transform=\"translate(55.798438 32.743219)scale(0.1 -0.1)\">\n       <use xlink:href=\"#DejaVuSans-101\"/>\n       <use x=\"59.773438\" xlink:href=\"#DejaVuSans-120\"/>\n       <use x=\"118.953125\" xlink:href=\"#DejaVuSans-105\"/>\n       <use x=\"146.736328\" xlink:href=\"#DejaVuSans-115\"/>\n       <use x=\"198.835938\" xlink:href=\"#DejaVuSans-116\"/>\n       <use x=\"238.044922\" xlink:href=\"#DejaVuSans-105\"/>\n       <use x=\"265.828125\" xlink:href=\"#DejaVuSans-110\"/>\n       <use x=\"329.207031\" xlink:href=\"#DejaVuSans-103\"/>\n       <use x=\"392.683594\" xlink:href=\"#DejaVuSans-95\"/>\n       <use x=\"442.683594\" xlink:href=\"#DejaVuSans-99\"/>\n       <use x=\"497.664062\" xlink:href=\"#DejaVuSans-114\"/>\n       <use x=\"536.527344\" xlink:href=\"#DejaVuSans-101\"/>\n       <use x=\"598.050781\" xlink:href=\"#DejaVuSans-100\"/>\n       <use x=\"661.527344\" xlink:href=\"#DejaVuSans-105\"/>\n       <use x=\"689.310547\" xlink:href=\"#DejaVuSans-116\"/>\n       <use x=\"728.519531\" xlink:href=\"#DejaVuSans-115\"/>\n       <use x=\"780.619141\" xlink:href=\"#DejaVuSans-95\"/>\n       <use x=\"830.619141\" xlink:href=\"#DejaVuSans-47\"/>\n       <use x=\"864.310547\" xlink:href=\"#DejaVuSans-95\"/>\n       <use x=\"914.310547\" xlink:href=\"#DejaVuSans-99\"/>\n       <use x=\"969.291016\" xlink:href=\"#DejaVuSans-114\"/>\n       <use x=\"1008.154297\" xlink:href=\"#DejaVuSans-101\"/>\n       <use x=\"1069.677734\" xlink:href=\"#DejaVuSans-100\"/>\n       <use x=\"1133.154297\" xlink:href=\"#DejaVuSans-105\"/>\n       <use x=\"1160.9375\" xlink:href=\"#DejaVuSans-116\"/>\n       <use x=\"1200.146484\" xlink:href=\"#DejaVuSans-95\"/>\n       <use x=\"1250.146484\" xlink:href=\"#DejaVuSans-97\"/>\n       <use x=\"1311.425781\" xlink:href=\"#DejaVuSans-109\"/>\n       <use x=\"1408.837891\" xlink:href=\"#DejaVuSans-111\"/>\n       <use x=\"1470.019531\" xlink:href=\"#DejaVuSans-117\"/>\n       <use x=\"1533.398438\" xlink:href=\"#DejaVuSans-110\"/>\n       <use x=\"1596.777344\" xlink:href=\"#DejaVuSans-116\"/>\n      </g>\n     </g>\n    </g>\n    <g id=\"ytick_15\">\n     <g id=\"line2d_24\">\n      <path clip-path=\"url(#p1b8d3c55ed)\" d=\"M 226.396875 14.448 \nL 561.196875 14.448 \n\" style=\"fill:none;stroke:#ffffff;stroke-linecap:round;stroke-width:0.8;\"/>\n     </g>\n     <g id=\"text_24\">\n      <!-- installment_commitment_*_duration -->\n      <g style=\"fill:#262626;\" transform=\"translate(37.2875 18.247219)scale(0.1 -0.1)\">\n       <use xlink:href=\"#DejaVuSans-105\"/>\n       <use x=\"27.783203\" xlink:href=\"#DejaVuSans-110\"/>\n       <use x=\"91.162109\" xlink:href=\"#DejaVuSans-115\"/>\n       <use x=\"143.261719\" xlink:href=\"#DejaVuSans-116\"/>\n       <use x=\"182.470703\" xlink:href=\"#DejaVuSans-97\"/>\n       <use x=\"243.75\" xlink:href=\"#DejaVuSans-108\"/>\n       <use x=\"271.533203\" xlink:href=\"#DejaVuSans-108\"/>\n       <use x=\"299.316406\" xlink:href=\"#DejaVuSans-109\"/>\n       <use x=\"396.728516\" xlink:href=\"#DejaVuSans-101\"/>\n       <use x=\"458.251953\" xlink:href=\"#DejaVuSans-110\"/>\n       <use x=\"521.630859\" xlink:href=\"#DejaVuSans-116\"/>\n       <use x=\"560.839844\" xlink:href=\"#DejaVuSans-95\"/>\n       <use x=\"610.839844\" xlink:href=\"#DejaVuSans-99\"/>\n       <use x=\"665.820312\" xlink:href=\"#DejaVuSans-111\"/>\n       <use x=\"727.001953\" xlink:href=\"#DejaVuSans-109\"/>\n       <use x=\"824.414062\" xlink:href=\"#DejaVuSans-109\"/>\n       <use x=\"921.826172\" xlink:href=\"#DejaVuSans-105\"/>\n       <use x=\"949.609375\" xlink:href=\"#DejaVuSans-116\"/>\n       <use x=\"988.818359\" xlink:href=\"#DejaVuSans-109\"/>\n       <use x=\"1086.230469\" xlink:href=\"#DejaVuSans-101\"/>\n       <use x=\"1147.753906\" xlink:href=\"#DejaVuSans-110\"/>\n       <use x=\"1211.132812\" xlink:href=\"#DejaVuSans-116\"/>\n       <use x=\"1250.341797\" xlink:href=\"#DejaVuSans-95\"/>\n       <use x=\"1300.341797\" xlink:href=\"#DejaVuSans-42\"/>\n       <use x=\"1350.341797\" xlink:href=\"#DejaVuSans-95\"/>\n       <use x=\"1400.341797\" xlink:href=\"#DejaVuSans-100\"/>\n       <use x=\"1463.818359\" xlink:href=\"#DejaVuSans-117\"/>\n       <use x=\"1527.197266\" xlink:href=\"#DejaVuSans-114\"/>\n       <use x=\"1568.310547\" xlink:href=\"#DejaVuSans-97\"/>\n       <use x=\"1629.589844\" xlink:href=\"#DejaVuSans-116\"/>\n       <use x=\"1668.798828\" xlink:href=\"#DejaVuSans-105\"/>\n       <use x=\"1696.582031\" xlink:href=\"#DejaVuSans-111\"/>\n       <use x=\"1757.763672\" xlink:href=\"#DejaVuSans-110\"/>\n      </g>\n     </g>\n    </g>\n   </g>\n   <g id=\"patch_3\">\n    <path clip-path=\"url(#p1b8d3c55ed)\" d=\"M 226.396875 221.016 \nL 545.254018 221.016 \nL 545.254018 213.768 \nL 226.396875 213.768 \nz\n\" style=\"fill:#1f77b4;stroke:#ffffff;stroke-linejoin:miter;\"/>\n   </g>\n   <g id=\"patch_4\">\n    <path clip-path=\"url(#p1b8d3c55ed)\" d=\"M 226.396875 206.52 \nL 440.606018 206.52 \nL 440.606018 199.272 \nL 226.396875 199.272 \nz\n\" style=\"fill:#1f77b4;stroke:#ffffff;stroke-linejoin:miter;\"/>\n   </g>\n   <g id=\"patch_5\">\n    <path clip-path=\"url(#p1b8d3c55ed)\" d=\"M 226.396875 192.024 \nL 400.960812 192.024 \nL 400.960812 184.776 \nL 226.396875 184.776 \nz\n\" style=\"fill:#1f77b4;stroke:#ffffff;stroke-linejoin:miter;\"/>\n   </g>\n   <g id=\"patch_6\">\n    <path clip-path=\"url(#p1b8d3c55ed)\" d=\"M 226.396875 177.528 \nL 363.233362 177.528 \nL 363.233362 170.28 \nL 226.396875 170.28 \nz\n\" style=\"fill:#1f77b4;stroke:#ffffff;stroke-linejoin:miter;\"/>\n   </g>\n   <g id=\"patch_7\">\n    <path clip-path=\"url(#p1b8d3c55ed)\" d=\"M 226.396875 163.032 \nL 349.862507 163.032 \nL 349.862507 155.784 \nL 226.396875 155.784 \nz\n\" style=\"fill:#1f77b4;stroke:#ffffff;stroke-linejoin:miter;\"/>\n   </g>\n   <g id=\"patch_8\">\n    <path clip-path=\"url(#p1b8d3c55ed)\" d=\"M 226.396875 148.536 \nL 347.184913 148.536 \nL 347.184913 141.288 \nL 226.396875 141.288 \nz\n\" style=\"fill:#1f77b4;stroke:#ffffff;stroke-linejoin:miter;\"/>\n   </g>\n   <g id=\"patch_9\">\n    <path clip-path=\"url(#p1b8d3c55ed)\" d=\"M 226.396875 134.04 \nL 338.922563 134.04 \nL 338.922563 126.792 \nL 226.396875 126.792 \nz\n\" style=\"fill:#1f77b4;stroke:#ffffff;stroke-linejoin:miter;\"/>\n   </g>\n   <g id=\"patch_10\">\n    <path clip-path=\"url(#p1b8d3c55ed)\" d=\"M 226.396875 119.544 \nL 335.982955 119.544 \nL 335.982955 112.296 \nL 226.396875 112.296 \nz\n\" style=\"fill:#1f77b4;stroke:#ffffff;stroke-linejoin:miter;\"/>\n   </g>\n   <g id=\"patch_11\">\n    <path clip-path=\"url(#p1b8d3c55ed)\" d=\"M 226.396875 105.048 \nL 334.86804 105.048 \nL 334.86804 97.8 \nL 226.396875 97.8 \nz\n\" style=\"fill:#1f77b4;stroke:#ffffff;stroke-linejoin:miter;\"/>\n   </g>\n   <g id=\"patch_12\">\n    <path clip-path=\"url(#p1b8d3c55ed)\" d=\"M 226.396875 90.552 \nL 334.158036 90.552 \nL 334.158036 83.304 \nL 226.396875 83.304 \nz\n\" style=\"fill:#1f77b4;stroke:#ffffff;stroke-linejoin:miter;\"/>\n   </g>\n   <g id=\"patch_13\">\n    <path clip-path=\"url(#p1b8d3c55ed)\" d=\"M 226.396875 76.056 \nL 330.085221 76.056 \nL 330.085221 68.808 \nL 226.396875 68.808 \nz\n\" style=\"fill:#1f77b4;stroke:#ffffff;stroke-linejoin:miter;\"/>\n   </g>\n   <g id=\"patch_14\">\n    <path clip-path=\"url(#p1b8d3c55ed)\" d=\"M 226.396875 61.56 \nL 314.795687 61.56 \nL 314.795687 54.312 \nL 226.396875 54.312 \nz\n\" style=\"fill:#1f77b4;stroke:#ffffff;stroke-linejoin:miter;\"/>\n   </g>\n   <g id=\"patch_15\">\n    <path clip-path=\"url(#p1b8d3c55ed)\" d=\"M 226.396875 47.064 \nL 313.655713 47.064 \nL 313.655713 39.816 \nL 226.396875 39.816 \nz\n\" style=\"fill:#1f77b4;stroke:#ffffff;stroke-linejoin:miter;\"/>\n   </g>\n   <g id=\"patch_16\">\n    <path clip-path=\"url(#p1b8d3c55ed)\" d=\"M 226.396875 32.568 \nL 310.03934 32.568 \nL 310.03934 25.32 \nL 226.396875 25.32 \nz\n\" style=\"fill:#1f77b4;stroke:#ffffff;stroke-linejoin:miter;\"/>\n   </g>\n   <g id=\"patch_17\">\n    <path clip-path=\"url(#p1b8d3c55ed)\" d=\"M 226.396875 18.072 \nL 307.014768 18.072 \nL 307.014768 10.824 \nL 226.396875 10.824 \nz\n\" style=\"fill:#1f77b4;stroke:#ffffff;stroke-linejoin:miter;\"/>\n   </g>\n   <g id=\"patch_18\">\n    <path d=\"M 226.396875 224.64 \nL 226.396875 7.2 \n\" style=\"fill:none;stroke:#ffffff;stroke-linecap:square;stroke-linejoin:miter;stroke-width:0.8;\"/>\n   </g>\n   <g id=\"patch_19\">\n    <path d=\"M 561.196875 224.64 \nL 561.196875 7.2 \n\" style=\"fill:none;stroke:#ffffff;stroke-linecap:square;stroke-linejoin:miter;stroke-width:0.8;\"/>\n   </g>\n   <g id=\"patch_20\">\n    <path d=\"M 226.396875 224.64 \nL 561.196875 224.64 \n\" style=\"fill:none;stroke:#ffffff;stroke-linecap:square;stroke-linejoin:miter;stroke-width:0.8;\"/>\n   </g>\n   <g id=\"patch_21\">\n    <path d=\"M 226.396875 7.2 \nL 561.196875 7.2 \n\" style=\"fill:none;stroke:#ffffff;stroke-linecap:square;stroke-linejoin:miter;stroke-width:0.8;\"/>\n   </g>\n   <g id=\"legend_1\">\n    <g id=\"patch_22\">\n     <path d=\"M 494.88125 29.878125 \nL 554.196875 29.878125 \nQ 556.196875 29.878125 556.196875 27.878125 \nL 556.196875 14.2 \nQ 556.196875 12.2 554.196875 12.2 \nL 494.88125 12.2 \nQ 492.88125 12.2 492.88125 14.2 \nL 492.88125 27.878125 \nQ 492.88125 29.878125 494.88125 29.878125 \nz\n\" style=\"fill:#eaeaf2;opacity:0.8;stroke:#cccccc;stroke-linejoin:miter;\"/>\n    </g>\n    <g id=\"patch_23\">\n     <path d=\"M 496.88125 23.798437 \nL 516.88125 23.798437 \nL 516.88125 16.798437 \nL 496.88125 16.798437 \nz\n\" style=\"fill:#1f77b4;stroke:#ffffff;stroke-linejoin:miter;\"/>\n    </g>\n    <g id=\"text_25\">\n     <!-- value -->\n     <defs>\n      <path d=\"M 2.984375 54.6875 \nL 12.5 54.6875 \nL 29.59375 8.796875 \nL 46.6875 54.6875 \nL 56.203125 54.6875 \nL 35.6875 0 \nL 23.484375 0 \nz\n\" id=\"DejaVuSans-118\"/>\n     </defs>\n     <g style=\"fill:#262626;\" transform=\"translate(524.88125 23.798437)scale(0.1 -0.1)\">\n      <use xlink:href=\"#DejaVuSans-118\"/>\n      <use x=\"59.179688\" xlink:href=\"#DejaVuSans-97\"/>\n      <use x=\"120.458984\" xlink:href=\"#DejaVuSans-108\"/>\n      <use x=\"148.242188\" xlink:href=\"#DejaVuSans-117\"/>\n      <use x=\"211.621094\" xlink:href=\"#DejaVuSans-101\"/>\n     </g>\n    </g>\n   </g>\n  </g>\n </g>\n <defs>\n  <clipPath id=\"p1b8d3c55ed\">\n   <rect height=\"217.44\" width=\"334.8\" x=\"226.396875\" y=\"7.2\"/>\n  </clipPath>\n </defs>\n</svg>\n",
            "image/png": "[encoded data removed]"
          },
          "metadata": {}
        }
      ],
      "source": [
        "feature_importance.sort_values(by='value', ascending=False)[:15].plot(kind='barh')"
      ]
    },
    {
      "source": [
        "### Save & Load"
      ],
      "cell_type": "markdown",
      "metadata": {}
    },
    {
      "cell_type": "code",
      "execution_count": 16,
      "metadata": {},
      "outputs": [
        {
          "output_type": "stream",
          "name": "stderr",
          "text": [
            "00:40:31 | Save Model\n"
          ]
        }
      ],
      "source": [
        "model.save('model_1',)"
      ]
    },
    {
      "cell_type": "code",
      "execution_count": 17,
      "metadata": {},
      "outputs": [
        {
          "output_type": "stream",
          "name": "stdout",
          "text": [
            "Test AUC:  0.8062\n"
          ]
        }
      ],
      "source": [
        "model_new = LightGBMClassifier(random_state=RANDOM_SEED)\n",
        "model_new = model_new.load('model_1',)\n",
        "\n",
        "predicts = model_new.predict_proba(X_test)\n",
        "print('Test AUC: ', round(sklearn.metrics.roc_auc_score(y_test, predicts),4))"
      ]
    },
    {
      "source": [
        "## Cross Validation\n",
        "Cross-validation is a method for evaluating an analytical model and its behavior on independent data. \n",
        "When evaluating the model, the available data is split into k parts. \n",
        "Then the model is trained on k − 1 pieces of data, and the rest of the data is used for testing. \n",
        "The procedure is repeated k times; in the end, each of the k pieces of data is used for testing. \n",
        "The result is an assessment of the effectiveness of the selected model with the most even use of the available data."
      ],
      "cell_type": "markdown",
      "metadata": {}
    },
    {
      "source": [
        "<img src=\"./img/cv.png\" width=\"600\">"
      ],
      "cell_type": "markdown",
      "metadata": {}
    },
    {
      "cell_type": "code",
      "execution_count": 18,
      "metadata": {},
      "outputs": [],
      "source": [
        "cv = CrossValidation(\n",
        "        estimator=model,\n",
        "        folds=10,\n",
        "        score_folds=5,\n",
        "        n_repeats=1,\n",
        "        metric=sklearn.metrics.roc_auc_score,\n",
        "        print_metric=False, \n",
        "        metric_round=4, \n",
        "        random_state=RANDOM_SEED\n",
        "        )"
      ]
    },
    {
      "cell_type": "code",
      "execution_count": 19,
      "metadata": {},
      "outputs": [
        {
          "output_type": "stream",
          "name": "stdout",
          "text": [
            "\n",
            " Mean Score roc_auc_score on 5 Folds: 0.7269 std: 0.044886\n"
          ]
        }
      ],
      "source": [
        "score, score_std = cv.fit_score(X_train, y_train, print_metric=True)"
      ]
    },
    {
      "cell_type": "code",
      "execution_count": 20,
      "metadata": {},
      "outputs": [
        {
          "output_type": "stream",
          "name": "stdout",
          "text": [
            "Finished loading model, total used 300 iterations\n",
            "Finished loading model, total used 300 iterations\n",
            "Finished loading model, total used 300 iterations\n",
            "Finished loading model, total used 300 iterations\n",
            "Finished loading model, total used 300 iterations\n",
            "Finished loading model, total used 300 iterations\n",
            "Finished loading model, total used 300 iterations\n",
            "Finished loading model, total used 300 iterations\n",
            "Finished loading model, total used 300 iterations\n",
            "Finished loading model, total used 300 iterations\n"
          ]
        }
      ],
      "source": [
        "cv.fit(X_train, y_train)"
      ]
    },
    {
      "cell_type": "code",
      "execution_count": 21,
      "metadata": {},
      "outputs": [
        {
          "output_type": "stream",
          "name": "stdout",
          "text": [
            "Test AUC:  0.821\n"
          ]
        }
      ],
      "source": [
        "predicts = cv.predict_test(X_test)\n",
        "print('Test AUC: ', round(sklearn.metrics.roc_auc_score(y_test, predicts),4))"
      ]
    },
    {
      "cell_type": "code",
      "execution_count": 22,
      "metadata": {},
      "outputs": [
        {
          "output_type": "stream",
          "name": "stdout",
          "text": [
            "Test AUC:  0.747\n"
          ]
        }
      ],
      "source": [
        "predicts = cv.predict_train(X_train)\n",
        "print('Test AUC: ', round(sklearn.metrics.roc_auc_score(y_train, predicts),4))"
      ]
    },
    {
      "cell_type": "code",
      "execution_count": 23,
      "metadata": {},
      "outputs": [],
      "source": [
        "feature_importance = cv.get_feature_importance(X_train)"
      ]
    },
    {
      "cell_type": "code",
      "execution_count": 24,
      "metadata": {},
      "outputs": [
        {
          "output_type": "execute_result",
          "data": {
            "text/plain": [
              "<matplotlib.axes._subplots.AxesSubplot at 0x7fbe051a1370>"
            ]
          },
          "metadata": {},
          "execution_count": 24
        },
        {
          "output_type": "display_data",
          "data": {
            "text/plain": "<Figure size 432x288 with 1 Axes>",
            "image/svg+xml": "<?xml version=\"1.0\" encoding=\"utf-8\" standalone=\"no\"?>\n<!DOCTYPE svg PUBLIC \"-//W3C//DTD SVG 1.1//EN\"\n  \"http://www.w3.org/Graphics/SVG/1.1/DTD/svg11.dtd\">\n<!-- Created with matplotlib (https://matplotlib.org/) -->\n<svg height=\"248.518125pt\" version=\"1.1\" viewBox=\"0 0 568.396875 248.518125\" width=\"568.396875pt\" xmlns=\"http://www.w3.org/2000/svg\" xmlns:xlink=\"http://www.w3.org/1999/xlink\">\n <defs>\n  <style type=\"text/css\">\n*{stroke-linecap:butt;stroke-linejoin:round;}\n  </style>\n </defs>\n <g id=\"figure_1\">\n  <g id=\"patch_1\">\n   <path d=\"M 0 248.518125 \nL 568.396875 248.518125 \nL 568.396875 0 \nL 0 0 \nz\n\" style=\"fill:#ffffff;\"/>\n  </g>\n  <g id=\"axes_1\">\n   <g id=\"patch_2\">\n    <path d=\"M 226.396875 224.64 \nL 561.196875 224.64 \nL 561.196875 7.2 \nL 226.396875 7.2 \nz\n\" style=\"fill:#eaeaf2;\"/>\n   </g>\n   <g id=\"matplotlib.axis_1\">\n    <g id=\"xtick_1\">\n     <g id=\"line2d_1\">\n      <path clip-path=\"url(#pba83389d36)\" d=\"M 226.396875 224.64 \nL 226.396875 7.2 \n\" style=\"fill:none;stroke:#ffffff;stroke-linecap:round;stroke-width:0.8;\"/>\n     </g>\n     <g id=\"text_1\">\n      <!-- 0 -->\n      <defs>\n       <path d=\"M 31.78125 66.40625 \nQ 24.171875 66.40625 20.328125 58.90625 \nQ 16.5 51.421875 16.5 36.375 \nQ 16.5 21.390625 20.328125 13.890625 \nQ 24.171875 6.390625 31.78125 6.390625 \nQ 39.453125 6.390625 43.28125 13.890625 \nQ 47.125 21.390625 47.125 36.375 \nQ 47.125 51.421875 43.28125 58.90625 \nQ 39.453125 66.40625 31.78125 66.40625 \nz\nM 31.78125 74.21875 \nQ 44.046875 74.21875 50.515625 64.515625 \nQ 56.984375 54.828125 56.984375 36.375 \nQ 56.984375 17.96875 50.515625 8.265625 \nQ 44.046875 -1.421875 31.78125 -1.421875 \nQ 19.53125 -1.421875 13.0625 8.265625 \nQ 6.59375 17.96875 6.59375 36.375 \nQ 6.59375 54.828125 13.0625 64.515625 \nQ 19.53125 74.21875 31.78125 74.21875 \nz\n\" id=\"DejaVuSans-48\"/>\n      </defs>\n      <g style=\"fill:#262626;\" transform=\"translate(223.215625 239.238437)scale(0.1 -0.1)\">\n       <use xlink:href=\"#DejaVuSans-48\"/>\n      </g>\n     </g>\n    </g>\n    <g id=\"xtick_2\">\n     <g id=\"line2d_2\">\n      <path clip-path=\"url(#pba83389d36)\" d=\"M 265.105496 224.64 \nL 265.105496 7.2 \n\" style=\"fill:none;stroke:#ffffff;stroke-linecap:round;stroke-width:0.8;\"/>\n     </g>\n     <g id=\"text_2\">\n      <!-- 500 -->\n      <defs>\n       <path d=\"M 10.796875 72.90625 \nL 49.515625 72.90625 \nL 49.515625 64.59375 \nL 19.828125 64.59375 \nL 19.828125 46.734375 \nQ 21.96875 47.46875 24.109375 47.828125 \nQ 26.265625 48.1875 28.421875 48.1875 \nQ 40.625 48.1875 47.75 41.5 \nQ 54.890625 34.8125 54.890625 23.390625 \nQ 54.890625 11.625 47.5625 5.09375 \nQ 40.234375 -1.421875 26.90625 -1.421875 \nQ 22.3125 -1.421875 17.546875 -0.640625 \nQ 12.796875 0.140625 7.71875 1.703125 \nL 7.71875 11.625 \nQ 12.109375 9.234375 16.796875 8.0625 \nQ 21.484375 6.890625 26.703125 6.890625 \nQ 35.15625 6.890625 40.078125 11.328125 \nQ 45.015625 15.765625 45.015625 23.390625 \nQ 45.015625 31 40.078125 35.4375 \nQ 35.15625 39.890625 26.703125 39.890625 \nQ 22.75 39.890625 18.8125 39.015625 \nQ 14.890625 38.140625 10.796875 36.28125 \nz\n\" id=\"DejaVuSans-53\"/>\n      </defs>\n      <g style=\"fill:#262626;\" transform=\"translate(255.561746 239.238437)scale(0.1 -0.1)\">\n       <use xlink:href=\"#DejaVuSans-53\"/>\n       <use x=\"63.623047\" xlink:href=\"#DejaVuSans-48\"/>\n       <use x=\"127.246094\" xlink:href=\"#DejaVuSans-48\"/>\n      </g>\n     </g>\n    </g>\n    <g id=\"xtick_3\">\n     <g id=\"line2d_3\">\n      <path clip-path=\"url(#pba83389d36)\" d=\"M 303.814117 224.64 \nL 303.814117 7.2 \n\" style=\"fill:none;stroke:#ffffff;stroke-linecap:round;stroke-width:0.8;\"/>\n     </g>\n     <g id=\"text_3\">\n      <!-- 1000 -->\n      <defs>\n       <path d=\"M 12.40625 8.296875 \nL 28.515625 8.296875 \nL 28.515625 63.921875 \nL 10.984375 60.40625 \nL 10.984375 69.390625 \nL 28.421875 72.90625 \nL 38.28125 72.90625 \nL 38.28125 8.296875 \nL 54.390625 8.296875 \nL 54.390625 0 \nL 12.40625 0 \nz\n\" id=\"DejaVuSans-49\"/>\n      </defs>\n      <g style=\"fill:#262626;\" transform=\"translate(291.089117 239.238437)scale(0.1 -0.1)\">\n       <use xlink:href=\"#DejaVuSans-49\"/>\n       <use x=\"63.623047\" xlink:href=\"#DejaVuSans-48\"/>\n       <use x=\"127.246094\" xlink:href=\"#DejaVuSans-48\"/>\n       <use x=\"190.869141\" xlink:href=\"#DejaVuSans-48\"/>\n      </g>\n     </g>\n    </g>\n    <g id=\"xtick_4\">\n     <g id=\"line2d_4\">\n      <path clip-path=\"url(#pba83389d36)\" d=\"M 342.522738 224.64 \nL 342.522738 7.2 \n\" style=\"fill:none;stroke:#ffffff;stroke-linecap:round;stroke-width:0.8;\"/>\n     </g>\n     <g id=\"text_4\">\n      <!-- 1500 -->\n      <g style=\"fill:#262626;\" transform=\"translate(329.797738 239.238437)scale(0.1 -0.1)\">\n       <use xlink:href=\"#DejaVuSans-49\"/>\n       <use x=\"63.623047\" xlink:href=\"#DejaVuSans-53\"/>\n       <use x=\"127.246094\" xlink:href=\"#DejaVuSans-48\"/>\n       <use x=\"190.869141\" xlink:href=\"#DejaVuSans-48\"/>\n      </g>\n     </g>\n    </g>\n    <g id=\"xtick_5\">\n     <g id=\"line2d_5\">\n      <path clip-path=\"url(#pba83389d36)\" d=\"M 381.231359 224.64 \nL 381.231359 7.2 \n\" style=\"fill:none;stroke:#ffffff;stroke-linecap:round;stroke-width:0.8;\"/>\n     </g>\n     <g id=\"text_5\">\n      <!-- 2000 -->\n      <defs>\n       <path d=\"M 19.1875 8.296875 \nL 53.609375 8.296875 \nL 53.609375 0 \nL 7.328125 0 \nL 7.328125 8.296875 \nQ 12.9375 14.109375 22.625 23.890625 \nQ 32.328125 33.6875 34.8125 36.53125 \nQ 39.546875 41.84375 41.421875 45.53125 \nQ 43.3125 49.21875 43.3125 52.78125 \nQ 43.3125 58.59375 39.234375 62.25 \nQ 35.15625 65.921875 28.609375 65.921875 \nQ 23.96875 65.921875 18.8125 64.3125 \nQ 13.671875 62.703125 7.8125 59.421875 \nL 7.8125 69.390625 \nQ 13.765625 71.78125 18.9375 73 \nQ 24.125 74.21875 28.421875 74.21875 \nQ 39.75 74.21875 46.484375 68.546875 \nQ 53.21875 62.890625 53.21875 53.421875 \nQ 53.21875 48.921875 51.53125 44.890625 \nQ 49.859375 40.875 45.40625 35.40625 \nQ 44.1875 33.984375 37.640625 27.21875 \nQ 31.109375 20.453125 19.1875 8.296875 \nz\n\" id=\"DejaVuSans-50\"/>\n      </defs>\n      <g style=\"fill:#262626;\" transform=\"translate(368.506359 239.238437)scale(0.1 -0.1)\">\n       <use xlink:href=\"#DejaVuSans-50\"/>\n       <use x=\"63.623047\" xlink:href=\"#DejaVuSans-48\"/>\n       <use x=\"127.246094\" xlink:href=\"#DejaVuSans-48\"/>\n       <use x=\"190.869141\" xlink:href=\"#DejaVuSans-48\"/>\n      </g>\n     </g>\n    </g>\n    <g id=\"xtick_6\">\n     <g id=\"line2d_6\">\n      <path clip-path=\"url(#pba83389d36)\" d=\"M 419.939981 224.64 \nL 419.939981 7.2 \n\" style=\"fill:none;stroke:#ffffff;stroke-linecap:round;stroke-width:0.8;\"/>\n     </g>\n     <g id=\"text_6\">\n      <!-- 2500 -->\n      <g style=\"fill:#262626;\" transform=\"translate(407.214981 239.238437)scale(0.1 -0.1)\">\n       <use xlink:href=\"#DejaVuSans-50\"/>\n       <use x=\"63.623047\" xlink:href=\"#DejaVuSans-53\"/>\n       <use x=\"127.246094\" xlink:href=\"#DejaVuSans-48\"/>\n       <use x=\"190.869141\" xlink:href=\"#DejaVuSans-48\"/>\n      </g>\n     </g>\n    </g>\n    <g id=\"xtick_7\">\n     <g id=\"line2d_7\">\n      <path clip-path=\"url(#pba83389d36)\" d=\"M 458.648602 224.64 \nL 458.648602 7.2 \n\" style=\"fill:none;stroke:#ffffff;stroke-linecap:round;stroke-width:0.8;\"/>\n     </g>\n     <g id=\"text_7\">\n      <!-- 3000 -->\n      <defs>\n       <path d=\"M 40.578125 39.3125 \nQ 47.65625 37.796875 51.625 33 \nQ 55.609375 28.21875 55.609375 21.1875 \nQ 55.609375 10.40625 48.1875 4.484375 \nQ 40.765625 -1.421875 27.09375 -1.421875 \nQ 22.515625 -1.421875 17.65625 -0.515625 \nQ 12.796875 0.390625 7.625 2.203125 \nL 7.625 11.71875 \nQ 11.71875 9.328125 16.59375 8.109375 \nQ 21.484375 6.890625 26.8125 6.890625 \nQ 36.078125 6.890625 40.9375 10.546875 \nQ 45.796875 14.203125 45.796875 21.1875 \nQ 45.796875 27.640625 41.28125 31.265625 \nQ 36.765625 34.90625 28.71875 34.90625 \nL 20.21875 34.90625 \nL 20.21875 43.015625 \nL 29.109375 43.015625 \nQ 36.375 43.015625 40.234375 45.921875 \nQ 44.09375 48.828125 44.09375 54.296875 \nQ 44.09375 59.90625 40.109375 62.90625 \nQ 36.140625 65.921875 28.71875 65.921875 \nQ 24.65625 65.921875 20.015625 65.03125 \nQ 15.375 64.15625 9.8125 62.3125 \nL 9.8125 71.09375 \nQ 15.4375 72.65625 20.34375 73.4375 \nQ 25.25 74.21875 29.59375 74.21875 \nQ 40.828125 74.21875 47.359375 69.109375 \nQ 53.90625 64.015625 53.90625 55.328125 \nQ 53.90625 49.265625 50.4375 45.09375 \nQ 46.96875 40.921875 40.578125 39.3125 \nz\n\" id=\"DejaVuSans-51\"/>\n      </defs>\n      <g style=\"fill:#262626;\" transform=\"translate(445.923602 239.238437)scale(0.1 -0.1)\">\n       <use xlink:href=\"#DejaVuSans-51\"/>\n       <use x=\"63.623047\" xlink:href=\"#DejaVuSans-48\"/>\n       <use x=\"127.246094\" xlink:href=\"#DejaVuSans-48\"/>\n       <use x=\"190.869141\" xlink:href=\"#DejaVuSans-48\"/>\n      </g>\n     </g>\n    </g>\n    <g id=\"xtick_8\">\n     <g id=\"line2d_8\">\n      <path clip-path=\"url(#pba83389d36)\" d=\"M 497.357223 224.64 \nL 497.357223 7.2 \n\" style=\"fill:none;stroke:#ffffff;stroke-linecap:round;stroke-width:0.8;\"/>\n     </g>\n     <g id=\"text_8\">\n      <!-- 3500 -->\n      <g style=\"fill:#262626;\" transform=\"translate(484.632223 239.238437)scale(0.1 -0.1)\">\n       <use xlink:href=\"#DejaVuSans-51\"/>\n       <use x=\"63.623047\" xlink:href=\"#DejaVuSans-53\"/>\n       <use x=\"127.246094\" xlink:href=\"#DejaVuSans-48\"/>\n       <use x=\"190.869141\" xlink:href=\"#DejaVuSans-48\"/>\n      </g>\n     </g>\n    </g>\n    <g id=\"xtick_9\">\n     <g id=\"line2d_9\">\n      <path clip-path=\"url(#pba83389d36)\" d=\"M 536.065844 224.64 \nL 536.065844 7.2 \n\" style=\"fill:none;stroke:#ffffff;stroke-linecap:round;stroke-width:0.8;\"/>\n     </g>\n     <g id=\"text_9\">\n      <!-- 4000 -->\n      <defs>\n       <path d=\"M 37.796875 64.3125 \nL 12.890625 25.390625 \nL 37.796875 25.390625 \nz\nM 35.203125 72.90625 \nL 47.609375 72.90625 \nL 47.609375 25.390625 \nL 58.015625 25.390625 \nL 58.015625 17.1875 \nL 47.609375 17.1875 \nL 47.609375 0 \nL 37.796875 0 \nL 37.796875 17.1875 \nL 4.890625 17.1875 \nL 4.890625 26.703125 \nz\n\" id=\"DejaVuSans-52\"/>\n      </defs>\n      <g style=\"fill:#262626;\" transform=\"translate(523.340844 239.238437)scale(0.1 -0.1)\">\n       <use xlink:href=\"#DejaVuSans-52\"/>\n       <use x=\"63.623047\" xlink:href=\"#DejaVuSans-48\"/>\n       <use x=\"127.246094\" xlink:href=\"#DejaVuSans-48\"/>\n       <use x=\"190.869141\" xlink:href=\"#DejaVuSans-48\"/>\n      </g>\n     </g>\n    </g>\n   </g>\n   <g id=\"matplotlib.axis_2\">\n    <g id=\"ytick_1\">\n     <g id=\"line2d_10\">\n      <path clip-path=\"url(#pba83389d36)\" d=\"M 226.396875 217.392 \nL 561.196875 217.392 \n\" style=\"fill:none;stroke:#ffffff;stroke-linecap:round;stroke-width:0.8;\"/>\n     </g>\n     <g id=\"text_10\">\n      <!-- HelmertEncoder_checking_status_1 -->\n      <defs>\n       <path d=\"M 9.8125 72.90625 \nL 19.671875 72.90625 \nL 19.671875 43.015625 \nL 55.515625 43.015625 \nL 55.515625 72.90625 \nL 65.375 72.90625 \nL 65.375 0 \nL 55.515625 0 \nL 55.515625 34.71875 \nL 19.671875 34.71875 \nL 19.671875 0 \nL 9.8125 0 \nz\n\" id=\"DejaVuSans-72\"/>\n       <path d=\"M 56.203125 29.59375 \nL 56.203125 25.203125 \nL 14.890625 25.203125 \nQ 15.484375 15.921875 20.484375 11.0625 \nQ 25.484375 6.203125 34.421875 6.203125 \nQ 39.59375 6.203125 44.453125 7.46875 \nQ 49.3125 8.734375 54.109375 11.28125 \nL 54.109375 2.78125 \nQ 49.265625 0.734375 44.1875 -0.34375 \nQ 39.109375 -1.421875 33.890625 -1.421875 \nQ 20.796875 -1.421875 13.15625 6.1875 \nQ 5.515625 13.8125 5.515625 26.8125 \nQ 5.515625 40.234375 12.765625 48.109375 \nQ 20.015625 56 32.328125 56 \nQ 43.359375 56 49.78125 48.890625 \nQ 56.203125 41.796875 56.203125 29.59375 \nz\nM 47.21875 32.234375 \nQ 47.125 39.59375 43.09375 43.984375 \nQ 39.0625 48.390625 32.421875 48.390625 \nQ 24.90625 48.390625 20.390625 44.140625 \nQ 15.875 39.890625 15.1875 32.171875 \nz\n\" id=\"DejaVuSans-101\"/>\n       <path d=\"M 9.421875 75.984375 \nL 18.40625 75.984375 \nL 18.40625 0 \nL 9.421875 0 \nz\n\" id=\"DejaVuSans-108\"/>\n       <path d=\"M 52 44.1875 \nQ 55.375 50.25 60.0625 53.125 \nQ 64.75 56 71.09375 56 \nQ 79.640625 56 84.28125 50.015625 \nQ 88.921875 44.046875 88.921875 33.015625 \nL 88.921875 0 \nL 79.890625 0 \nL 79.890625 32.71875 \nQ 79.890625 40.578125 77.09375 44.375 \nQ 74.3125 48.1875 68.609375 48.1875 \nQ 61.625 48.1875 57.5625 43.546875 \nQ 53.515625 38.921875 53.515625 30.90625 \nL 53.515625 0 \nL 44.484375 0 \nL 44.484375 32.71875 \nQ 44.484375 40.625 41.703125 44.40625 \nQ 38.921875 48.1875 33.109375 48.1875 \nQ 26.21875 48.1875 22.15625 43.53125 \nQ 18.109375 38.875 18.109375 30.90625 \nL 18.109375 0 \nL 9.078125 0 \nL 9.078125 54.6875 \nL 18.109375 54.6875 \nL 18.109375 46.1875 \nQ 21.1875 51.21875 25.484375 53.609375 \nQ 29.78125 56 35.6875 56 \nQ 41.65625 56 45.828125 52.96875 \nQ 50 49.953125 52 44.1875 \nz\n\" id=\"DejaVuSans-109\"/>\n       <path d=\"M 41.109375 46.296875 \nQ 39.59375 47.171875 37.8125 47.578125 \nQ 36.03125 48 33.890625 48 \nQ 26.265625 48 22.1875 43.046875 \nQ 18.109375 38.09375 18.109375 28.8125 \nL 18.109375 0 \nL 9.078125 0 \nL 9.078125 54.6875 \nL 18.109375 54.6875 \nL 18.109375 46.1875 \nQ 20.953125 51.171875 25.484375 53.578125 \nQ 30.03125 56 36.53125 56 \nQ 37.453125 56 38.578125 55.875 \nQ 39.703125 55.765625 41.0625 55.515625 \nz\n\" id=\"DejaVuSans-114\"/>\n       <path d=\"M 18.3125 70.21875 \nL 18.3125 54.6875 \nL 36.8125 54.6875 \nL 36.8125 47.703125 \nL 18.3125 47.703125 \nL 18.3125 18.015625 \nQ 18.3125 11.328125 20.140625 9.421875 \nQ 21.96875 7.515625 27.59375 7.515625 \nL 36.8125 7.515625 \nL 36.8125 0 \nL 27.59375 0 \nQ 17.1875 0 13.234375 3.875 \nQ 9.28125 7.765625 9.28125 18.015625 \nL 9.28125 47.703125 \nL 2.6875 47.703125 \nL 2.6875 54.6875 \nL 9.28125 54.6875 \nL 9.28125 70.21875 \nz\n\" id=\"DejaVuSans-116\"/>\n       <path d=\"M 9.8125 72.90625 \nL 55.90625 72.90625 \nL 55.90625 64.59375 \nL 19.671875 64.59375 \nL 19.671875 43.015625 \nL 54.390625 43.015625 \nL 54.390625 34.71875 \nL 19.671875 34.71875 \nL 19.671875 8.296875 \nL 56.78125 8.296875 \nL 56.78125 0 \nL 9.8125 0 \nz\n\" id=\"DejaVuSans-69\"/>\n       <path d=\"M 54.890625 33.015625 \nL 54.890625 0 \nL 45.90625 0 \nL 45.90625 32.71875 \nQ 45.90625 40.484375 42.875 44.328125 \nQ 39.84375 48.1875 33.796875 48.1875 \nQ 26.515625 48.1875 22.3125 43.546875 \nQ 18.109375 38.921875 18.109375 30.90625 \nL 18.109375 0 \nL 9.078125 0 \nL 9.078125 54.6875 \nL 18.109375 54.6875 \nL 18.109375 46.1875 \nQ 21.34375 51.125 25.703125 53.5625 \nQ 30.078125 56 35.796875 56 \nQ 45.21875 56 50.046875 50.171875 \nQ 54.890625 44.34375 54.890625 33.015625 \nz\n\" id=\"DejaVuSans-110\"/>\n       <path d=\"M 48.78125 52.59375 \nL 48.78125 44.1875 \nQ 44.96875 46.296875 41.140625 47.34375 \nQ 37.3125 48.390625 33.40625 48.390625 \nQ 24.65625 48.390625 19.8125 42.84375 \nQ 14.984375 37.3125 14.984375 27.296875 \nQ 14.984375 17.28125 19.8125 11.734375 \nQ 24.65625 6.203125 33.40625 6.203125 \nQ 37.3125 6.203125 41.140625 7.25 \nQ 44.96875 8.296875 48.78125 10.40625 \nL 48.78125 2.09375 \nQ 45.015625 0.34375 40.984375 -0.53125 \nQ 36.96875 -1.421875 32.421875 -1.421875 \nQ 20.0625 -1.421875 12.78125 6.34375 \nQ 5.515625 14.109375 5.515625 27.296875 \nQ 5.515625 40.671875 12.859375 48.328125 \nQ 20.21875 56 33.015625 56 \nQ 37.15625 56 41.109375 55.140625 \nQ 45.0625 54.296875 48.78125 52.59375 \nz\n\" id=\"DejaVuSans-99\"/>\n       <path d=\"M 30.609375 48.390625 \nQ 23.390625 48.390625 19.1875 42.75 \nQ 14.984375 37.109375 14.984375 27.296875 \nQ 14.984375 17.484375 19.15625 11.84375 \nQ 23.34375 6.203125 30.609375 6.203125 \nQ 37.796875 6.203125 41.984375 11.859375 \nQ 46.1875 17.53125 46.1875 27.296875 \nQ 46.1875 37.015625 41.984375 42.703125 \nQ 37.796875 48.390625 30.609375 48.390625 \nz\nM 30.609375 56 \nQ 42.328125 56 49.015625 48.375 \nQ 55.71875 40.765625 55.71875 27.296875 \nQ 55.71875 13.875 49.015625 6.21875 \nQ 42.328125 -1.421875 30.609375 -1.421875 \nQ 18.84375 -1.421875 12.171875 6.21875 \nQ 5.515625 13.875 5.515625 27.296875 \nQ 5.515625 40.765625 12.171875 48.375 \nQ 18.84375 56 30.609375 56 \nz\n\" id=\"DejaVuSans-111\"/>\n       <path d=\"M 45.40625 46.390625 \nL 45.40625 75.984375 \nL 54.390625 75.984375 \nL 54.390625 0 \nL 45.40625 0 \nL 45.40625 8.203125 \nQ 42.578125 3.328125 38.25 0.953125 \nQ 33.9375 -1.421875 27.875 -1.421875 \nQ 17.96875 -1.421875 11.734375 6.484375 \nQ 5.515625 14.40625 5.515625 27.296875 \nQ 5.515625 40.1875 11.734375 48.09375 \nQ 17.96875 56 27.875 56 \nQ 33.9375 56 38.25 53.625 \nQ 42.578125 51.265625 45.40625 46.390625 \nz\nM 14.796875 27.296875 \nQ 14.796875 17.390625 18.875 11.75 \nQ 22.953125 6.109375 30.078125 6.109375 \nQ 37.203125 6.109375 41.296875 11.75 \nQ 45.40625 17.390625 45.40625 27.296875 \nQ 45.40625 37.203125 41.296875 42.84375 \nQ 37.203125 48.484375 30.078125 48.484375 \nQ 22.953125 48.484375 18.875 42.84375 \nQ 14.796875 37.203125 14.796875 27.296875 \nz\n\" id=\"DejaVuSans-100\"/>\n       <path d=\"M 50.984375 -16.609375 \nL 50.984375 -23.578125 \nL -0.984375 -23.578125 \nL -0.984375 -16.609375 \nz\n\" id=\"DejaVuSans-95\"/>\n       <path d=\"M 54.890625 33.015625 \nL 54.890625 0 \nL 45.90625 0 \nL 45.90625 32.71875 \nQ 45.90625 40.484375 42.875 44.328125 \nQ 39.84375 48.1875 33.796875 48.1875 \nQ 26.515625 48.1875 22.3125 43.546875 \nQ 18.109375 38.921875 18.109375 30.90625 \nL 18.109375 0 \nL 9.078125 0 \nL 9.078125 75.984375 \nL 18.109375 75.984375 \nL 18.109375 46.1875 \nQ 21.34375 51.125 25.703125 53.5625 \nQ 30.078125 56 35.796875 56 \nQ 45.21875 56 50.046875 50.171875 \nQ 54.890625 44.34375 54.890625 33.015625 \nz\n\" id=\"DejaVuSans-104\"/>\n       <path d=\"M 9.078125 75.984375 \nL 18.109375 75.984375 \nL 18.109375 31.109375 \nL 44.921875 54.6875 \nL 56.390625 54.6875 \nL 27.390625 29.109375 \nL 57.625 0 \nL 45.90625 0 \nL 18.109375 26.703125 \nL 18.109375 0 \nL 9.078125 0 \nz\n\" id=\"DejaVuSans-107\"/>\n       <path d=\"M 9.421875 54.6875 \nL 18.40625 54.6875 \nL 18.40625 0 \nL 9.421875 0 \nz\nM 9.421875 75.984375 \nL 18.40625 75.984375 \nL 18.40625 64.59375 \nL 9.421875 64.59375 \nz\n\" id=\"DejaVuSans-105\"/>\n       <path d=\"M 45.40625 27.984375 \nQ 45.40625 37.75 41.375 43.109375 \nQ 37.359375 48.484375 30.078125 48.484375 \nQ 22.859375 48.484375 18.828125 43.109375 \nQ 14.796875 37.75 14.796875 27.984375 \nQ 14.796875 18.265625 18.828125 12.890625 \nQ 22.859375 7.515625 30.078125 7.515625 \nQ 37.359375 7.515625 41.375 12.890625 \nQ 45.40625 18.265625 45.40625 27.984375 \nz\nM 54.390625 6.78125 \nQ 54.390625 -7.171875 48.1875 -13.984375 \nQ 42 -20.796875 29.203125 -20.796875 \nQ 24.46875 -20.796875 20.265625 -20.09375 \nQ 16.0625 -19.390625 12.109375 -17.921875 \nL 12.109375 -9.1875 \nQ 16.0625 -11.328125 19.921875 -12.34375 \nQ 23.78125 -13.375 27.78125 -13.375 \nQ 36.625 -13.375 41.015625 -8.765625 \nQ 45.40625 -4.15625 45.40625 5.171875 \nL 45.40625 9.625 \nQ 42.625 4.78125 38.28125 2.390625 \nQ 33.9375 0 27.875 0 \nQ 17.828125 0 11.671875 7.65625 \nQ 5.515625 15.328125 5.515625 27.984375 \nQ 5.515625 40.671875 11.671875 48.328125 \nQ 17.828125 56 27.875 56 \nQ 33.9375 56 38.28125 53.609375 \nQ 42.625 51.21875 45.40625 46.390625 \nL 45.40625 54.6875 \nL 54.390625 54.6875 \nz\n\" id=\"DejaVuSans-103\"/>\n       <path d=\"M 44.28125 53.078125 \nL 44.28125 44.578125 \nQ 40.484375 46.53125 36.375 47.5 \nQ 32.28125 48.484375 27.875 48.484375 \nQ 21.1875 48.484375 17.84375 46.4375 \nQ 14.5 44.390625 14.5 40.28125 \nQ 14.5 37.15625 16.890625 35.375 \nQ 19.28125 33.59375 26.515625 31.984375 \nL 29.59375 31.296875 \nQ 39.15625 29.25 43.1875 25.515625 \nQ 47.21875 21.78125 47.21875 15.09375 \nQ 47.21875 7.46875 41.1875 3.015625 \nQ 35.15625 -1.421875 24.609375 -1.421875 \nQ 20.21875 -1.421875 15.453125 -0.5625 \nQ 10.6875 0.296875 5.421875 2 \nL 5.421875 11.28125 \nQ 10.40625 8.6875 15.234375 7.390625 \nQ 20.0625 6.109375 24.8125 6.109375 \nQ 31.15625 6.109375 34.5625 8.28125 \nQ 37.984375 10.453125 37.984375 14.40625 \nQ 37.984375 18.0625 35.515625 20.015625 \nQ 33.0625 21.96875 24.703125 23.78125 \nL 21.578125 24.515625 \nQ 13.234375 26.265625 9.515625 29.90625 \nQ 5.8125 33.546875 5.8125 39.890625 \nQ 5.8125 47.609375 11.28125 51.796875 \nQ 16.75 56 26.8125 56 \nQ 31.78125 56 36.171875 55.265625 \nQ 40.578125 54.546875 44.28125 53.078125 \nz\n\" id=\"DejaVuSans-115\"/>\n       <path d=\"M 34.28125 27.484375 \nQ 23.390625 27.484375 19.1875 25 \nQ 14.984375 22.515625 14.984375 16.5 \nQ 14.984375 11.71875 18.140625 8.90625 \nQ 21.296875 6.109375 26.703125 6.109375 \nQ 34.1875 6.109375 38.703125 11.40625 \nQ 43.21875 16.703125 43.21875 25.484375 \nL 43.21875 27.484375 \nz\nM 52.203125 31.203125 \nL 52.203125 0 \nL 43.21875 0 \nL 43.21875 8.296875 \nQ 40.140625 3.328125 35.546875 0.953125 \nQ 30.953125 -1.421875 24.3125 -1.421875 \nQ 15.921875 -1.421875 10.953125 3.296875 \nQ 6 8.015625 6 15.921875 \nQ 6 25.140625 12.171875 29.828125 \nQ 18.359375 34.515625 30.609375 34.515625 \nL 43.21875 34.515625 \nL 43.21875 35.40625 \nQ 43.21875 41.609375 39.140625 45 \nQ 35.0625 48.390625 27.6875 48.390625 \nQ 23 48.390625 18.546875 47.265625 \nQ 14.109375 46.140625 10.015625 43.890625 \nL 10.015625 52.203125 \nQ 14.9375 54.109375 19.578125 55.046875 \nQ 24.21875 56 28.609375 56 \nQ 40.484375 56 46.34375 49.84375 \nQ 52.203125 43.703125 52.203125 31.203125 \nz\n\" id=\"DejaVuSans-97\"/>\n       <path d=\"M 8.5 21.578125 \nL 8.5 54.6875 \nL 17.484375 54.6875 \nL 17.484375 21.921875 \nQ 17.484375 14.15625 20.5 10.265625 \nQ 23.53125 6.390625 29.59375 6.390625 \nQ 36.859375 6.390625 41.078125 11.03125 \nQ 45.3125 15.671875 45.3125 23.6875 \nL 45.3125 54.6875 \nL 54.296875 54.6875 \nL 54.296875 0 \nL 45.3125 0 \nL 45.3125 8.40625 \nQ 42.046875 3.421875 37.71875 1 \nQ 33.40625 -1.421875 27.6875 -1.421875 \nQ 18.265625 -1.421875 13.375 4.4375 \nQ 8.5 10.296875 8.5 21.578125 \nz\nM 31.109375 56 \nz\n\" id=\"DejaVuSans-117\"/>\n      </defs>\n      <g style=\"fill:#262626;\" transform=\"translate(41.304688 221.191219)scale(0.1 -0.1)\">\n       <use xlink:href=\"#DejaVuSans-72\"/>\n       <use x=\"75.195312\" xlink:href=\"#DejaVuSans-101\"/>\n       <use x=\"136.71875\" xlink:href=\"#DejaVuSans-108\"/>\n       <use x=\"164.501953\" xlink:href=\"#DejaVuSans-109\"/>\n       <use x=\"261.914062\" xlink:href=\"#DejaVuSans-101\"/>\n       <use x=\"323.4375\" xlink:href=\"#DejaVuSans-114\"/>\n       <use x=\"364.550781\" xlink:href=\"#DejaVuSans-116\"/>\n       <use x=\"403.759766\" xlink:href=\"#DejaVuSans-69\"/>\n       <use x=\"466.943359\" xlink:href=\"#DejaVuSans-110\"/>\n       <use x=\"530.322266\" xlink:href=\"#DejaVuSans-99\"/>\n       <use x=\"585.302734\" xlink:href=\"#DejaVuSans-111\"/>\n       <use x=\"646.484375\" xlink:href=\"#DejaVuSans-100\"/>\n       <use x=\"709.960938\" xlink:href=\"#DejaVuSans-101\"/>\n       <use x=\"771.484375\" xlink:href=\"#DejaVuSans-114\"/>\n       <use x=\"812.597656\" xlink:href=\"#DejaVuSans-95\"/>\n       <use x=\"862.597656\" xlink:href=\"#DejaVuSans-99\"/>\n       <use x=\"917.578125\" xlink:href=\"#DejaVuSans-104\"/>\n       <use x=\"980.957031\" xlink:href=\"#DejaVuSans-101\"/>\n       <use x=\"1042.480469\" xlink:href=\"#DejaVuSans-99\"/>\n       <use x=\"1097.460938\" xlink:href=\"#DejaVuSans-107\"/>\n       <use x=\"1155.371094\" xlink:href=\"#DejaVuSans-105\"/>\n       <use x=\"1183.154297\" xlink:href=\"#DejaVuSans-110\"/>\n       <use x=\"1246.533203\" xlink:href=\"#DejaVuSans-103\"/>\n       <use x=\"1310.009766\" xlink:href=\"#DejaVuSans-95\"/>\n       <use x=\"1360.009766\" xlink:href=\"#DejaVuSans-115\"/>\n       <use x=\"1412.109375\" xlink:href=\"#DejaVuSans-116\"/>\n       <use x=\"1451.318359\" xlink:href=\"#DejaVuSans-97\"/>\n       <use x=\"1512.597656\" xlink:href=\"#DejaVuSans-116\"/>\n       <use x=\"1551.806641\" xlink:href=\"#DejaVuSans-117\"/>\n       <use x=\"1615.185547\" xlink:href=\"#DejaVuSans-115\"/>\n       <use x=\"1667.285156\" xlink:href=\"#DejaVuSans-95\"/>\n       <use x=\"1717.285156\" xlink:href=\"#DejaVuSans-49\"/>\n      </g>\n     </g>\n    </g>\n    <g id=\"ytick_2\">\n     <g id=\"line2d_11\">\n      <path clip-path=\"url(#pba83389d36)\" d=\"M 226.396875 202.896 \nL 561.196875 202.896 \n\" style=\"fill:none;stroke:#ffffff;stroke-linecap:round;stroke-width:0.8;\"/>\n     </g>\n     <g id=\"text_11\">\n      <!-- duration_/_credit_amount -->\n      <defs>\n       <path d=\"M 25.390625 72.90625 \nL 33.6875 72.90625 \nL 8.296875 -9.28125 \nL 0 -9.28125 \nz\n\" id=\"DejaVuSans-47\"/>\n      </defs>\n      <g style=\"fill:#262626;\" transform=\"translate(91.78125 206.695219)scale(0.1 -0.1)\">\n       <use xlink:href=\"#DejaVuSans-100\"/>\n       <use x=\"63.476562\" xlink:href=\"#DejaVuSans-117\"/>\n       <use x=\"126.855469\" xlink:href=\"#DejaVuSans-114\"/>\n       <use x=\"167.96875\" xlink:href=\"#DejaVuSans-97\"/>\n       <use x=\"229.248047\" xlink:href=\"#DejaVuSans-116\"/>\n       <use x=\"268.457031\" xlink:href=\"#DejaVuSans-105\"/>\n       <use x=\"296.240234\" xlink:href=\"#DejaVuSans-111\"/>\n       <use x=\"357.421875\" xlink:href=\"#DejaVuSans-110\"/>\n       <use x=\"420.800781\" xlink:href=\"#DejaVuSans-95\"/>\n       <use x=\"470.800781\" xlink:href=\"#DejaVuSans-47\"/>\n       <use x=\"504.492188\" xlink:href=\"#DejaVuSans-95\"/>\n       <use x=\"554.492188\" xlink:href=\"#DejaVuSans-99\"/>\n       <use x=\"609.472656\" xlink:href=\"#DejaVuSans-114\"/>\n       <use x=\"648.335938\" xlink:href=\"#DejaVuSans-101\"/>\n       <use x=\"709.859375\" xlink:href=\"#DejaVuSans-100\"/>\n       <use x=\"773.335938\" xlink:href=\"#DejaVuSans-105\"/>\n       <use x=\"801.119141\" xlink:href=\"#DejaVuSans-116\"/>\n       <use x=\"840.328125\" xlink:href=\"#DejaVuSans-95\"/>\n       <use x=\"890.328125\" xlink:href=\"#DejaVuSans-97\"/>\n       <use x=\"951.607422\" xlink:href=\"#DejaVuSans-109\"/>\n       <use x=\"1049.019531\" xlink:href=\"#DejaVuSans-111\"/>\n       <use x=\"1110.201172\" xlink:href=\"#DejaVuSans-117\"/>\n       <use x=\"1173.580078\" xlink:href=\"#DejaVuSans-110\"/>\n       <use x=\"1236.958984\" xlink:href=\"#DejaVuSans-116\"/>\n      </g>\n     </g>\n    </g>\n    <g id=\"ytick_3\">\n     <g id=\"line2d_12\">\n      <path clip-path=\"url(#pba83389d36)\" d=\"M 226.396875 188.4 \nL 561.196875 188.4 \n\" style=\"fill:none;stroke:#ffffff;stroke-linecap:round;stroke-width:0.8;\"/>\n     </g>\n     <g id=\"text_12\">\n      <!-- duration_/_age -->\n      <g style=\"fill:#262626;\" transform=\"translate(145.31875 192.199219)scale(0.1 -0.1)\">\n       <use xlink:href=\"#DejaVuSans-100\"/>\n       <use x=\"63.476562\" xlink:href=\"#DejaVuSans-117\"/>\n       <use x=\"126.855469\" xlink:href=\"#DejaVuSans-114\"/>\n       <use x=\"167.96875\" xlink:href=\"#DejaVuSans-97\"/>\n       <use x=\"229.248047\" xlink:href=\"#DejaVuSans-116\"/>\n       <use x=\"268.457031\" xlink:href=\"#DejaVuSans-105\"/>\n       <use x=\"296.240234\" xlink:href=\"#DejaVuSans-111\"/>\n       <use x=\"357.421875\" xlink:href=\"#DejaVuSans-110\"/>\n       <use x=\"420.800781\" xlink:href=\"#DejaVuSans-95\"/>\n       <use x=\"470.800781\" xlink:href=\"#DejaVuSans-47\"/>\n       <use x=\"504.492188\" xlink:href=\"#DejaVuSans-95\"/>\n       <use x=\"554.492188\" xlink:href=\"#DejaVuSans-97\"/>\n       <use x=\"615.771484\" xlink:href=\"#DejaVuSans-103\"/>\n       <use x=\"679.248047\" xlink:href=\"#DejaVuSans-101\"/>\n      </g>\n     </g>\n    </g>\n    <g id=\"ytick_4\">\n     <g id=\"line2d_13\">\n      <path clip-path=\"url(#pba83389d36)\" d=\"M 226.396875 173.904 \nL 561.196875 173.904 \n\" style=\"fill:none;stroke:#ffffff;stroke-linecap:round;stroke-width:0.8;\"/>\n     </g>\n     <g id=\"text_13\">\n      <!-- installment_commitment_*_credit_amount -->\n      <defs>\n       <path d=\"M 47.015625 60.890625 \nL 29.5 51.421875 \nL 47.015625 41.890625 \nL 44.1875 37.109375 \nL 27.78125 47.015625 \nL 27.78125 28.609375 \nL 22.21875 28.609375 \nL 22.21875 47.015625 \nL 5.8125 37.109375 \nL 2.984375 41.890625 \nL 20.515625 51.421875 \nL 2.984375 60.890625 \nL 5.8125 65.71875 \nL 22.21875 55.8125 \nL 22.21875 74.21875 \nL 27.78125 74.21875 \nL 27.78125 55.8125 \nL 44.1875 65.71875 \nz\n\" id=\"DejaVuSans-42\"/>\n      </defs>\n      <g style=\"fill:#262626;\" transform=\"translate(7.2 177.703219)scale(0.1 -0.1)\">\n       <use xlink:href=\"#DejaVuSans-105\"/>\n       <use x=\"27.783203\" xlink:href=\"#DejaVuSans-110\"/>\n       <use x=\"91.162109\" xlink:href=\"#DejaVuSans-115\"/>\n       <use x=\"143.261719\" xlink:href=\"#DejaVuSans-116\"/>\n       <use x=\"182.470703\" xlink:href=\"#DejaVuSans-97\"/>\n       <use x=\"243.75\" xlink:href=\"#DejaVuSans-108\"/>\n       <use x=\"271.533203\" xlink:href=\"#DejaVuSans-108\"/>\n       <use x=\"299.316406\" xlink:href=\"#DejaVuSans-109\"/>\n       <use x=\"396.728516\" xlink:href=\"#DejaVuSans-101\"/>\n       <use x=\"458.251953\" xlink:href=\"#DejaVuSans-110\"/>\n       <use x=\"521.630859\" xlink:href=\"#DejaVuSans-116\"/>\n       <use x=\"560.839844\" xlink:href=\"#DejaVuSans-95\"/>\n       <use x=\"610.839844\" xlink:href=\"#DejaVuSans-99\"/>\n       <use x=\"665.820312\" xlink:href=\"#DejaVuSans-111\"/>\n       <use x=\"727.001953\" xlink:href=\"#DejaVuSans-109\"/>\n       <use x=\"824.414062\" xlink:href=\"#DejaVuSans-109\"/>\n       <use x=\"921.826172\" xlink:href=\"#DejaVuSans-105\"/>\n       <use x=\"949.609375\" xlink:href=\"#DejaVuSans-116\"/>\n       <use x=\"988.818359\" xlink:href=\"#DejaVuSans-109\"/>\n       <use x=\"1086.230469\" xlink:href=\"#DejaVuSans-101\"/>\n       <use x=\"1147.753906\" xlink:href=\"#DejaVuSans-110\"/>\n       <use x=\"1211.132812\" xlink:href=\"#DejaVuSans-116\"/>\n       <use x=\"1250.341797\" xlink:href=\"#DejaVuSans-95\"/>\n       <use x=\"1300.341797\" xlink:href=\"#DejaVuSans-42\"/>\n       <use x=\"1350.341797\" xlink:href=\"#DejaVuSans-95\"/>\n       <use x=\"1400.341797\" xlink:href=\"#DejaVuSans-99\"/>\n       <use x=\"1455.322266\" xlink:href=\"#DejaVuSans-114\"/>\n       <use x=\"1494.185547\" xlink:href=\"#DejaVuSans-101\"/>\n       <use x=\"1555.708984\" xlink:href=\"#DejaVuSans-100\"/>\n       <use x=\"1619.185547\" xlink:href=\"#DejaVuSans-105\"/>\n       <use x=\"1646.96875\" xlink:href=\"#DejaVuSans-116\"/>\n       <use x=\"1686.177734\" xlink:href=\"#DejaVuSans-95\"/>\n       <use x=\"1736.177734\" xlink:href=\"#DejaVuSans-97\"/>\n       <use x=\"1797.457031\" xlink:href=\"#DejaVuSans-109\"/>\n       <use x=\"1894.869141\" xlink:href=\"#DejaVuSans-111\"/>\n       <use x=\"1956.050781\" xlink:href=\"#DejaVuSans-117\"/>\n       <use x=\"2019.429688\" xlink:href=\"#DejaVuSans-110\"/>\n       <use x=\"2082.808594\" xlink:href=\"#DejaVuSans-116\"/>\n      </g>\n     </g>\n    </g>\n    <g id=\"ytick_5\">\n     <g id=\"line2d_14\">\n      <path clip-path=\"url(#pba83389d36)\" d=\"M 226.396875 159.408 \nL 561.196875 159.408 \n\" style=\"fill:none;stroke:#ffffff;stroke-linecap:round;stroke-width:0.8;\"/>\n     </g>\n     <g id=\"text_14\">\n      <!-- installment_commitment_/_age -->\n      <g style=\"fill:#262626;\" transform=\"translate(62.36875 163.207219)scale(0.1 -0.1)\">\n       <use xlink:href=\"#DejaVuSans-105\"/>\n       <use x=\"27.783203\" xlink:href=\"#DejaVuSans-110\"/>\n       <use x=\"91.162109\" xlink:href=\"#DejaVuSans-115\"/>\n       <use x=\"143.261719\" xlink:href=\"#DejaVuSans-116\"/>\n       <use x=\"182.470703\" xlink:href=\"#DejaVuSans-97\"/>\n       <use x=\"243.75\" xlink:href=\"#DejaVuSans-108\"/>\n       <use x=\"271.533203\" xlink:href=\"#DejaVuSans-108\"/>\n       <use x=\"299.316406\" xlink:href=\"#DejaVuSans-109\"/>\n       <use x=\"396.728516\" xlink:href=\"#DejaVuSans-101\"/>\n       <use x=\"458.251953\" xlink:href=\"#DejaVuSans-110\"/>\n       <use x=\"521.630859\" xlink:href=\"#DejaVuSans-116\"/>\n       <use x=\"560.839844\" xlink:href=\"#DejaVuSans-95\"/>\n       <use x=\"610.839844\" xlink:href=\"#DejaVuSans-99\"/>\n       <use x=\"665.820312\" xlink:href=\"#DejaVuSans-111\"/>\n       <use x=\"727.001953\" xlink:href=\"#DejaVuSans-109\"/>\n       <use x=\"824.414062\" xlink:href=\"#DejaVuSans-109\"/>\n       <use x=\"921.826172\" xlink:href=\"#DejaVuSans-105\"/>\n       <use x=\"949.609375\" xlink:href=\"#DejaVuSans-116\"/>\n       <use x=\"988.818359\" xlink:href=\"#DejaVuSans-109\"/>\n       <use x=\"1086.230469\" xlink:href=\"#DejaVuSans-101\"/>\n       <use x=\"1147.753906\" xlink:href=\"#DejaVuSans-110\"/>\n       <use x=\"1211.132812\" xlink:href=\"#DejaVuSans-116\"/>\n       <use x=\"1250.341797\" xlink:href=\"#DejaVuSans-95\"/>\n       <use x=\"1300.341797\" xlink:href=\"#DejaVuSans-47\"/>\n       <use x=\"1334.033203\" xlink:href=\"#DejaVuSans-95\"/>\n       <use x=\"1384.033203\" xlink:href=\"#DejaVuSans-97\"/>\n       <use x=\"1445.3125\" xlink:href=\"#DejaVuSans-103\"/>\n       <use x=\"1508.789062\" xlink:href=\"#DejaVuSans-101\"/>\n      </g>\n     </g>\n    </g>\n    <g id=\"ytick_6\">\n     <g id=\"line2d_15\">\n      <path clip-path=\"url(#pba83389d36)\" d=\"M 226.396875 144.912 \nL 561.196875 144.912 \n\" style=\"fill:none;stroke:#ffffff;stroke-linecap:round;stroke-width:0.8;\"/>\n     </g>\n     <g id=\"text_15\">\n      <!-- age_/_credit_amount -->\n      <g style=\"fill:#262626;\" transform=\"translate(115.23125 148.711219)scale(0.1 -0.1)\">\n       <use xlink:href=\"#DejaVuSans-97\"/>\n       <use x=\"61.279297\" xlink:href=\"#DejaVuSans-103\"/>\n       <use x=\"124.755859\" xlink:href=\"#DejaVuSans-101\"/>\n       <use x=\"186.279297\" xlink:href=\"#DejaVuSans-95\"/>\n       <use x=\"236.279297\" xlink:href=\"#DejaVuSans-47\"/>\n       <use x=\"269.970703\" xlink:href=\"#DejaVuSans-95\"/>\n       <use x=\"319.970703\" xlink:href=\"#DejaVuSans-99\"/>\n       <use x=\"374.951172\" xlink:href=\"#DejaVuSans-114\"/>\n       <use x=\"413.814453\" xlink:href=\"#DejaVuSans-101\"/>\n       <use x=\"475.337891\" xlink:href=\"#DejaVuSans-100\"/>\n       <use x=\"538.814453\" xlink:href=\"#DejaVuSans-105\"/>\n       <use x=\"566.597656\" xlink:href=\"#DejaVuSans-116\"/>\n       <use x=\"605.806641\" xlink:href=\"#DejaVuSans-95\"/>\n       <use x=\"655.806641\" xlink:href=\"#DejaVuSans-97\"/>\n       <use x=\"717.085938\" xlink:href=\"#DejaVuSans-109\"/>\n       <use x=\"814.498047\" xlink:href=\"#DejaVuSans-111\"/>\n       <use x=\"875.679688\" xlink:href=\"#DejaVuSans-117\"/>\n       <use x=\"939.058594\" xlink:href=\"#DejaVuSans-110\"/>\n       <use x=\"1002.4375\" xlink:href=\"#DejaVuSans-116\"/>\n      </g>\n     </g>\n    </g>\n    <g id=\"ytick_7\">\n     <g id=\"line2d_16\">\n      <path clip-path=\"url(#pba83389d36)\" d=\"M 226.396875 130.416 \nL 561.196875 130.416 \n\" style=\"fill:none;stroke:#ffffff;stroke-linecap:round;stroke-width:0.8;\"/>\n     </g>\n     <g id=\"text_16\">\n      <!-- duration_-_age -->\n      <defs>\n       <path d=\"M 4.890625 31.390625 \nL 31.203125 31.390625 \nL 31.203125 23.390625 \nL 4.890625 23.390625 \nz\n\" id=\"DejaVuSans-45\"/>\n      </defs>\n      <g style=\"fill:#262626;\" transform=\"translate(145.079688 134.215219)scale(0.1 -0.1)\">\n       <use xlink:href=\"#DejaVuSans-100\"/>\n       <use x=\"63.476562\" xlink:href=\"#DejaVuSans-117\"/>\n       <use x=\"126.855469\" xlink:href=\"#DejaVuSans-114\"/>\n       <use x=\"167.96875\" xlink:href=\"#DejaVuSans-97\"/>\n       <use x=\"229.248047\" xlink:href=\"#DejaVuSans-116\"/>\n       <use x=\"268.457031\" xlink:href=\"#DejaVuSans-105\"/>\n       <use x=\"296.240234\" xlink:href=\"#DejaVuSans-111\"/>\n       <use x=\"357.421875\" xlink:href=\"#DejaVuSans-110\"/>\n       <use x=\"420.800781\" xlink:href=\"#DejaVuSans-95\"/>\n       <use x=\"470.800781\" xlink:href=\"#DejaVuSans-45\"/>\n       <use x=\"506.884766\" xlink:href=\"#DejaVuSans-95\"/>\n       <use x=\"556.884766\" xlink:href=\"#DejaVuSans-97\"/>\n       <use x=\"618.164062\" xlink:href=\"#DejaVuSans-103\"/>\n       <use x=\"681.640625\" xlink:href=\"#DejaVuSans-101\"/>\n      </g>\n     </g>\n    </g>\n    <g id=\"ytick_8\">\n     <g id=\"line2d_17\">\n      <path clip-path=\"url(#pba83389d36)\" d=\"M 226.396875 115.92 \nL 561.196875 115.92 \n\" style=\"fill:none;stroke:#ffffff;stroke-linecap:round;stroke-width:0.8;\"/>\n     </g>\n     <g id=\"text_17\">\n      <!-- purpose -->\n      <defs>\n       <path d=\"M 18.109375 8.203125 \nL 18.109375 -20.796875 \nL 9.078125 -20.796875 \nL 9.078125 54.6875 \nL 18.109375 54.6875 \nL 18.109375 46.390625 \nQ 20.953125 51.265625 25.265625 53.625 \nQ 29.59375 56 35.59375 56 \nQ 45.5625 56 51.78125 48.09375 \nQ 58.015625 40.1875 58.015625 27.296875 \nQ 58.015625 14.40625 51.78125 6.484375 \nQ 45.5625 -1.421875 35.59375 -1.421875 \nQ 29.59375 -1.421875 25.265625 0.953125 \nQ 20.953125 3.328125 18.109375 8.203125 \nz\nM 48.6875 27.296875 \nQ 48.6875 37.203125 44.609375 42.84375 \nQ 40.53125 48.484375 33.40625 48.484375 \nQ 26.265625 48.484375 22.1875 42.84375 \nQ 18.109375 37.203125 18.109375 27.296875 \nQ 18.109375 17.390625 22.1875 11.75 \nQ 26.265625 6.109375 33.40625 6.109375 \nQ 40.53125 6.109375 44.609375 11.75 \nQ 48.6875 17.390625 48.6875 27.296875 \nz\n\" id=\"DejaVuSans-112\"/>\n      </defs>\n      <g style=\"fill:#262626;\" transform=\"translate(178.770313 119.719219)scale(0.1 -0.1)\">\n       <use xlink:href=\"#DejaVuSans-112\"/>\n       <use x=\"63.476562\" xlink:href=\"#DejaVuSans-117\"/>\n       <use x=\"126.855469\" xlink:href=\"#DejaVuSans-114\"/>\n       <use x=\"167.96875\" xlink:href=\"#DejaVuSans-112\"/>\n       <use x=\"231.445312\" xlink:href=\"#DejaVuSans-111\"/>\n       <use x=\"292.626953\" xlink:href=\"#DejaVuSans-115\"/>\n       <use x=\"344.726562\" xlink:href=\"#DejaVuSans-101\"/>\n      </g>\n     </g>\n    </g>\n    <g id=\"ytick_9\">\n     <g id=\"line2d_18\">\n      <path clip-path=\"url(#pba83389d36)\" d=\"M 226.396875 101.424 \nL 561.196875 101.424 \n\" style=\"fill:none;stroke:#ffffff;stroke-linecap:round;stroke-width:0.8;\"/>\n     </g>\n     <g id=\"text_18\">\n      <!-- age_*_credit_amount -->\n      <g style=\"fill:#262626;\" transform=\"translate(113.6 105.223219)scale(0.1 -0.1)\">\n       <use xlink:href=\"#DejaVuSans-97\"/>\n       <use x=\"61.279297\" xlink:href=\"#DejaVuSans-103\"/>\n       <use x=\"124.755859\" xlink:href=\"#DejaVuSans-101\"/>\n       <use x=\"186.279297\" xlink:href=\"#DejaVuSans-95\"/>\n       <use x=\"236.279297\" xlink:href=\"#DejaVuSans-42\"/>\n       <use x=\"286.279297\" xlink:href=\"#DejaVuSans-95\"/>\n       <use x=\"336.279297\" xlink:href=\"#DejaVuSans-99\"/>\n       <use x=\"391.259766\" xlink:href=\"#DejaVuSans-114\"/>\n       <use x=\"430.123047\" xlink:href=\"#DejaVuSans-101\"/>\n       <use x=\"491.646484\" xlink:href=\"#DejaVuSans-100\"/>\n       <use x=\"555.123047\" xlink:href=\"#DejaVuSans-105\"/>\n       <use x=\"582.90625\" xlink:href=\"#DejaVuSans-116\"/>\n       <use x=\"622.115234\" xlink:href=\"#DejaVuSans-95\"/>\n       <use x=\"672.115234\" xlink:href=\"#DejaVuSans-97\"/>\n       <use x=\"733.394531\" xlink:href=\"#DejaVuSans-109\"/>\n       <use x=\"830.806641\" xlink:href=\"#DejaVuSans-111\"/>\n       <use x=\"891.988281\" xlink:href=\"#DejaVuSans-117\"/>\n       <use x=\"955.367188\" xlink:href=\"#DejaVuSans-110\"/>\n       <use x=\"1018.746094\" xlink:href=\"#DejaVuSans-116\"/>\n      </g>\n     </g>\n    </g>\n    <g id=\"ytick_10\">\n     <g id=\"line2d_19\">\n      <path clip-path=\"url(#pba83389d36)\" d=\"M 226.396875 86.928 \nL 561.196875 86.928 \n\" style=\"fill:none;stroke:#ffffff;stroke-linecap:round;stroke-width:0.8;\"/>\n     </g>\n     <g id=\"text_19\">\n      <!-- duration_*_credit_amount -->\n      <g style=\"fill:#262626;\" transform=\"translate(90.15 90.727219)scale(0.1 -0.1)\">\n       <use xlink:href=\"#DejaVuSans-100\"/>\n       <use x=\"63.476562\" xlink:href=\"#DejaVuSans-117\"/>\n       <use x=\"126.855469\" xlink:href=\"#DejaVuSans-114\"/>\n       <use x=\"167.96875\" xlink:href=\"#DejaVuSans-97\"/>\n       <use x=\"229.248047\" xlink:href=\"#DejaVuSans-116\"/>\n       <use x=\"268.457031\" xlink:href=\"#DejaVuSans-105\"/>\n       <use x=\"296.240234\" xlink:href=\"#DejaVuSans-111\"/>\n       <use x=\"357.421875\" xlink:href=\"#DejaVuSans-110\"/>\n       <use x=\"420.800781\" xlink:href=\"#DejaVuSans-95\"/>\n       <use x=\"470.800781\" xlink:href=\"#DejaVuSans-42\"/>\n       <use x=\"520.800781\" xlink:href=\"#DejaVuSans-95\"/>\n       <use x=\"570.800781\" xlink:href=\"#DejaVuSans-99\"/>\n       <use x=\"625.78125\" xlink:href=\"#DejaVuSans-114\"/>\n       <use x=\"664.644531\" xlink:href=\"#DejaVuSans-101\"/>\n       <use x=\"726.167969\" xlink:href=\"#DejaVuSans-100\"/>\n       <use x=\"789.644531\" xlink:href=\"#DejaVuSans-105\"/>\n       <use x=\"817.427734\" xlink:href=\"#DejaVuSans-116\"/>\n       <use x=\"856.636719\" xlink:href=\"#DejaVuSans-95\"/>\n       <use x=\"906.636719\" xlink:href=\"#DejaVuSans-97\"/>\n       <use x=\"967.916016\" xlink:href=\"#DejaVuSans-109\"/>\n       <use x=\"1065.328125\" xlink:href=\"#DejaVuSans-111\"/>\n       <use x=\"1126.509766\" xlink:href=\"#DejaVuSans-117\"/>\n       <use x=\"1189.888672\" xlink:href=\"#DejaVuSans-110\"/>\n       <use x=\"1253.267578\" xlink:href=\"#DejaVuSans-116\"/>\n      </g>\n     </g>\n    </g>\n    <g id=\"ytick_11\">\n     <g id=\"line2d_20\">\n      <path clip-path=\"url(#pba83389d36)\" d=\"M 226.396875 72.432 \nL 561.196875 72.432 \n\" style=\"fill:none;stroke:#ffffff;stroke-linecap:round;stroke-width:0.8;\"/>\n     </g>\n     <g id=\"text_20\">\n      <!-- residence_since_/_credit_amount -->\n      <g style=\"fill:#262626;\" transform=\"translate(54.367188 76.231219)scale(0.1 -0.1)\">\n       <use xlink:href=\"#DejaVuSans-114\"/>\n       <use x=\"38.863281\" xlink:href=\"#DejaVuSans-101\"/>\n       <use x=\"100.386719\" xlink:href=\"#DejaVuSans-115\"/>\n       <use x=\"152.486328\" xlink:href=\"#DejaVuSans-105\"/>\n       <use x=\"180.269531\" xlink:href=\"#DejaVuSans-100\"/>\n       <use x=\"243.746094\" xlink:href=\"#DejaVuSans-101\"/>\n       <use x=\"305.269531\" xlink:href=\"#DejaVuSans-110\"/>\n       <use x=\"368.648438\" xlink:href=\"#DejaVuSans-99\"/>\n       <use x=\"423.628906\" xlink:href=\"#DejaVuSans-101\"/>\n       <use x=\"485.152344\" xlink:href=\"#DejaVuSans-95\"/>\n       <use x=\"535.152344\" xlink:href=\"#DejaVuSans-115\"/>\n       <use x=\"587.251953\" xlink:href=\"#DejaVuSans-105\"/>\n       <use x=\"615.035156\" xlink:href=\"#DejaVuSans-110\"/>\n       <use x=\"678.414062\" xlink:href=\"#DejaVuSans-99\"/>\n       <use x=\"733.394531\" xlink:href=\"#DejaVuSans-101\"/>\n       <use x=\"794.917969\" xlink:href=\"#DejaVuSans-95\"/>\n       <use x=\"844.917969\" xlink:href=\"#DejaVuSans-47\"/>\n       <use x=\"878.609375\" xlink:href=\"#DejaVuSans-95\"/>\n       <use x=\"928.609375\" xlink:href=\"#DejaVuSans-99\"/>\n       <use x=\"983.589844\" xlink:href=\"#DejaVuSans-114\"/>\n       <use x=\"1022.453125\" xlink:href=\"#DejaVuSans-101\"/>\n       <use x=\"1083.976562\" xlink:href=\"#DejaVuSans-100\"/>\n       <use x=\"1147.453125\" xlink:href=\"#DejaVuSans-105\"/>\n       <use x=\"1175.236328\" xlink:href=\"#DejaVuSans-116\"/>\n       <use x=\"1214.445312\" xlink:href=\"#DejaVuSans-95\"/>\n       <use x=\"1264.445312\" xlink:href=\"#DejaVuSans-97\"/>\n       <use x=\"1325.724609\" xlink:href=\"#DejaVuSans-109\"/>\n       <use x=\"1423.136719\" xlink:href=\"#DejaVuSans-111\"/>\n       <use x=\"1484.318359\" xlink:href=\"#DejaVuSans-117\"/>\n       <use x=\"1547.697266\" xlink:href=\"#DejaVuSans-110\"/>\n       <use x=\"1611.076172\" xlink:href=\"#DejaVuSans-116\"/>\n      </g>\n     </g>\n    </g>\n    <g id=\"ytick_12\">\n     <g id=\"line2d_21\">\n      <path clip-path=\"url(#pba83389d36)\" d=\"M 226.396875 57.936 \nL 561.196875 57.936 \n\" style=\"fill:none;stroke:#ffffff;stroke-linecap:round;stroke-width:0.8;\"/>\n     </g>\n     <g id=\"text_21\">\n      <!-- age_/_residence_since -->\n      <g style=\"fill:#262626;\" transform=\"translate(107.904688 61.735219)scale(0.1 -0.1)\">\n       <use xlink:href=\"#DejaVuSans-97\"/>\n       <use x=\"61.279297\" xlink:href=\"#DejaVuSans-103\"/>\n       <use x=\"124.755859\" xlink:href=\"#DejaVuSans-101\"/>\n       <use x=\"186.279297\" xlink:href=\"#DejaVuSans-95\"/>\n       <use x=\"236.279297\" xlink:href=\"#DejaVuSans-47\"/>\n       <use x=\"269.970703\" xlink:href=\"#DejaVuSans-95\"/>\n       <use x=\"319.970703\" xlink:href=\"#DejaVuSans-114\"/>\n       <use x=\"358.833984\" xlink:href=\"#DejaVuSans-101\"/>\n       <use x=\"420.357422\" xlink:href=\"#DejaVuSans-115\"/>\n       <use x=\"472.457031\" xlink:href=\"#DejaVuSans-105\"/>\n       <use x=\"500.240234\" xlink:href=\"#DejaVuSans-100\"/>\n       <use x=\"563.716797\" xlink:href=\"#DejaVuSans-101\"/>\n       <use x=\"625.240234\" xlink:href=\"#DejaVuSans-110\"/>\n       <use x=\"688.619141\" xlink:href=\"#DejaVuSans-99\"/>\n       <use x=\"743.599609\" xlink:href=\"#DejaVuSans-101\"/>\n       <use x=\"805.123047\" xlink:href=\"#DejaVuSans-95\"/>\n       <use x=\"855.123047\" xlink:href=\"#DejaVuSans-115\"/>\n       <use x=\"907.222656\" xlink:href=\"#DejaVuSans-105\"/>\n       <use x=\"935.005859\" xlink:href=\"#DejaVuSans-110\"/>\n       <use x=\"998.384766\" xlink:href=\"#DejaVuSans-99\"/>\n       <use x=\"1053.365234\" xlink:href=\"#DejaVuSans-101\"/>\n      </g>\n     </g>\n    </g>\n    <g id=\"ytick_13\">\n     <g id=\"line2d_22\">\n      <path clip-path=\"url(#pba83389d36)\" d=\"M 226.396875 43.44 \nL 561.196875 43.44 \n\" style=\"fill:none;stroke:#ffffff;stroke-linecap:round;stroke-width:0.8;\"/>\n     </g>\n     <g id=\"text_22\">\n      <!-- existing_credits_*_credit_amount -->\n      <defs>\n       <path d=\"M 54.890625 54.6875 \nL 35.109375 28.078125 \nL 55.90625 0 \nL 45.3125 0 \nL 29.390625 21.484375 \nL 13.484375 0 \nL 2.875 0 \nL 24.125 28.609375 \nL 4.6875 54.6875 \nL 15.28125 54.6875 \nL 29.78125 35.203125 \nL 44.28125 54.6875 \nz\n\" id=\"DejaVuSans-120\"/>\n      </defs>\n      <g style=\"fill:#262626;\" transform=\"translate(54.167188 47.239219)scale(0.1 -0.1)\">\n       <use xlink:href=\"#DejaVuSans-101\"/>\n       <use x=\"59.773438\" xlink:href=\"#DejaVuSans-120\"/>\n       <use x=\"118.953125\" xlink:href=\"#DejaVuSans-105\"/>\n       <use x=\"146.736328\" xlink:href=\"#DejaVuSans-115\"/>\n       <use x=\"198.835938\" xlink:href=\"#DejaVuSans-116\"/>\n       <use x=\"238.044922\" xlink:href=\"#DejaVuSans-105\"/>\n       <use x=\"265.828125\" xlink:href=\"#DejaVuSans-110\"/>\n       <use x=\"329.207031\" xlink:href=\"#DejaVuSans-103\"/>\n       <use x=\"392.683594\" xlink:href=\"#DejaVuSans-95\"/>\n       <use x=\"442.683594\" xlink:href=\"#DejaVuSans-99\"/>\n       <use x=\"497.664062\" xlink:href=\"#DejaVuSans-114\"/>\n       <use x=\"536.527344\" xlink:href=\"#DejaVuSans-101\"/>\n       <use x=\"598.050781\" xlink:href=\"#DejaVuSans-100\"/>\n       <use x=\"661.527344\" xlink:href=\"#DejaVuSans-105\"/>\n       <use x=\"689.310547\" xlink:href=\"#DejaVuSans-116\"/>\n       <use x=\"728.519531\" xlink:href=\"#DejaVuSans-115\"/>\n       <use x=\"780.619141\" xlink:href=\"#DejaVuSans-95\"/>\n       <use x=\"830.619141\" xlink:href=\"#DejaVuSans-42\"/>\n       <use x=\"880.619141\" xlink:href=\"#DejaVuSans-95\"/>\n       <use x=\"930.619141\" xlink:href=\"#DejaVuSans-99\"/>\n       <use x=\"985.599609\" xlink:href=\"#DejaVuSans-114\"/>\n       <use x=\"1024.462891\" xlink:href=\"#DejaVuSans-101\"/>\n       <use x=\"1085.986328\" xlink:href=\"#DejaVuSans-100\"/>\n       <use x=\"1149.462891\" xlink:href=\"#DejaVuSans-105\"/>\n       <use x=\"1177.246094\" xlink:href=\"#DejaVuSans-116\"/>\n       <use x=\"1216.455078\" xlink:href=\"#DejaVuSans-95\"/>\n       <use x=\"1266.455078\" xlink:href=\"#DejaVuSans-97\"/>\n       <use x=\"1327.734375\" xlink:href=\"#DejaVuSans-109\"/>\n       <use x=\"1425.146484\" xlink:href=\"#DejaVuSans-111\"/>\n       <use x=\"1486.328125\" xlink:href=\"#DejaVuSans-117\"/>\n       <use x=\"1549.707031\" xlink:href=\"#DejaVuSans-110\"/>\n       <use x=\"1613.085938\" xlink:href=\"#DejaVuSans-116\"/>\n      </g>\n     </g>\n    </g>\n    <g id=\"ytick_14\">\n     <g id=\"line2d_23\">\n      <path clip-path=\"url(#pba83389d36)\" d=\"M 226.396875 28.944 \nL 561.196875 28.944 \n\" style=\"fill:none;stroke:#ffffff;stroke-linecap:round;stroke-width:0.8;\"/>\n     </g>\n     <g id=\"text_23\">\n      <!-- residence_since_*_credit_amount -->\n      <g style=\"fill:#262626;\" transform=\"translate(52.735938 32.743219)scale(0.1 -0.1)\">\n       <use xlink:href=\"#DejaVuSans-114\"/>\n       <use x=\"38.863281\" xlink:href=\"#DejaVuSans-101\"/>\n       <use x=\"100.386719\" xlink:href=\"#DejaVuSans-115\"/>\n       <use x=\"152.486328\" xlink:href=\"#DejaVuSans-105\"/>\n       <use x=\"180.269531\" xlink:href=\"#DejaVuSans-100\"/>\n       <use x=\"243.746094\" xlink:href=\"#DejaVuSans-101\"/>\n       <use x=\"305.269531\" xlink:href=\"#DejaVuSans-110\"/>\n       <use x=\"368.648438\" xlink:href=\"#DejaVuSans-99\"/>\n       <use x=\"423.628906\" xlink:href=\"#DejaVuSans-101\"/>\n       <use x=\"485.152344\" xlink:href=\"#DejaVuSans-95\"/>\n       <use x=\"535.152344\" xlink:href=\"#DejaVuSans-115\"/>\n       <use x=\"587.251953\" xlink:href=\"#DejaVuSans-105\"/>\n       <use x=\"615.035156\" xlink:href=\"#DejaVuSans-110\"/>\n       <use x=\"678.414062\" xlink:href=\"#DejaVuSans-99\"/>\n       <use x=\"733.394531\" xlink:href=\"#DejaVuSans-101\"/>\n       <use x=\"794.917969\" xlink:href=\"#DejaVuSans-95\"/>\n       <use x=\"844.917969\" xlink:href=\"#DejaVuSans-42\"/>\n       <use x=\"894.917969\" xlink:href=\"#DejaVuSans-95\"/>\n       <use x=\"944.917969\" xlink:href=\"#DejaVuSans-99\"/>\n       <use x=\"999.898438\" xlink:href=\"#DejaVuSans-114\"/>\n       <use x=\"1038.761719\" xlink:href=\"#DejaVuSans-101\"/>\n       <use x=\"1100.285156\" xlink:href=\"#DejaVuSans-100\"/>\n       <use x=\"1163.761719\" xlink:href=\"#DejaVuSans-105\"/>\n       <use x=\"1191.544922\" xlink:href=\"#DejaVuSans-116\"/>\n       <use x=\"1230.753906\" xlink:href=\"#DejaVuSans-95\"/>\n       <use x=\"1280.753906\" xlink:href=\"#DejaVuSans-97\"/>\n       <use x=\"1342.033203\" xlink:href=\"#DejaVuSans-109\"/>\n       <use x=\"1439.445312\" xlink:href=\"#DejaVuSans-111\"/>\n       <use x=\"1500.626953\" xlink:href=\"#DejaVuSans-117\"/>\n       <use x=\"1564.005859\" xlink:href=\"#DejaVuSans-110\"/>\n       <use x=\"1627.384766\" xlink:href=\"#DejaVuSans-116\"/>\n      </g>\n     </g>\n    </g>\n    <g id=\"ytick_15\">\n     <g id=\"line2d_24\">\n      <path clip-path=\"url(#pba83389d36)\" d=\"M 226.396875 14.448 \nL 561.196875 14.448 \n\" style=\"fill:none;stroke:#ffffff;stroke-linecap:round;stroke-width:0.8;\"/>\n     </g>\n     <g id=\"text_24\">\n      <!-- age_/_existing_credits -->\n      <g style=\"fill:#262626;\" transform=\"translate(109.335938 18.247219)scale(0.1 -0.1)\">\n       <use xlink:href=\"#DejaVuSans-97\"/>\n       <use x=\"61.279297\" xlink:href=\"#DejaVuSans-103\"/>\n       <use x=\"124.755859\" xlink:href=\"#DejaVuSans-101\"/>\n       <use x=\"186.279297\" xlink:href=\"#DejaVuSans-95\"/>\n       <use x=\"236.279297\" xlink:href=\"#DejaVuSans-47\"/>\n       <use x=\"269.970703\" xlink:href=\"#DejaVuSans-95\"/>\n       <use x=\"319.970703\" xlink:href=\"#DejaVuSans-101\"/>\n       <use x=\"379.744141\" xlink:href=\"#DejaVuSans-120\"/>\n       <use x=\"438.923828\" xlink:href=\"#DejaVuSans-105\"/>\n       <use x=\"466.707031\" xlink:href=\"#DejaVuSans-115\"/>\n       <use x=\"518.806641\" xlink:href=\"#DejaVuSans-116\"/>\n       <use x=\"558.015625\" xlink:href=\"#DejaVuSans-105\"/>\n       <use x=\"585.798828\" xlink:href=\"#DejaVuSans-110\"/>\n       <use x=\"649.177734\" xlink:href=\"#DejaVuSans-103\"/>\n       <use x=\"712.654297\" xlink:href=\"#DejaVuSans-95\"/>\n       <use x=\"762.654297\" xlink:href=\"#DejaVuSans-99\"/>\n       <use x=\"817.634766\" xlink:href=\"#DejaVuSans-114\"/>\n       <use x=\"856.498047\" xlink:href=\"#DejaVuSans-101\"/>\n       <use x=\"918.021484\" xlink:href=\"#DejaVuSans-100\"/>\n       <use x=\"981.498047\" xlink:href=\"#DejaVuSans-105\"/>\n       <use x=\"1009.28125\" xlink:href=\"#DejaVuSans-116\"/>\n       <use x=\"1048.490234\" xlink:href=\"#DejaVuSans-115\"/>\n      </g>\n     </g>\n    </g>\n   </g>\n   <g id=\"patch_3\">\n    <path clip-path=\"url(#pba83389d36)\" d=\"M 226.396875 221.016 \nL 545.254018 221.016 \nL 545.254018 213.768 \nL 226.396875 213.768 \nz\n\" style=\"fill:#1f77b4;stroke:#ffffff;stroke-linejoin:miter;\"/>\n   </g>\n   <g id=\"patch_4\">\n    <path clip-path=\"url(#pba83389d36)\" d=\"M 226.396875 206.52 \nL 450.396962 206.52 \nL 450.396962 199.272 \nL 226.396875 199.272 \nz\n\" style=\"fill:#1f77b4;stroke:#ffffff;stroke-linejoin:miter;\"/>\n   </g>\n   <g id=\"patch_5\">\n    <path clip-path=\"url(#pba83389d36)\" d=\"M 226.396875 192.024 \nL 415.858632 192.024 \nL 415.858632 184.776 \nL 226.396875 184.776 \nz\n\" style=\"fill:#1f77b4;stroke:#ffffff;stroke-linejoin:miter;\"/>\n   </g>\n   <g id=\"patch_6\">\n    <path clip-path=\"url(#pba83389d36)\" d=\"M 226.396875 177.528 \nL 361.529622 177.528 \nL 361.529622 170.28 \nL 226.396875 170.28 \nz\n\" style=\"fill:#1f77b4;stroke:#ffffff;stroke-linejoin:miter;\"/>\n   </g>\n   <g id=\"patch_7\">\n    <path clip-path=\"url(#pba83389d36)\" d=\"M 226.396875 163.032 \nL 345.442148 163.032 \nL 345.442148 155.784 \nL 226.396875 155.784 \nz\n\" style=\"fill:#1f77b4;stroke:#ffffff;stroke-linejoin:miter;\"/>\n   </g>\n   <g id=\"patch_8\">\n    <path clip-path=\"url(#pba83389d36)\" d=\"M 226.396875 148.536 \nL 345.205675 148.536 \nL 345.205675 141.288 \nL 226.396875 141.288 \nz\n\" style=\"fill:#1f77b4;stroke:#ffffff;stroke-linejoin:miter;\"/>\n   </g>\n   <g id=\"patch_9\">\n    <path clip-path=\"url(#pba83389d36)\" d=\"M 226.396875 134.04 \nL 343.408501 134.04 \nL 343.408501 126.792 \nL 226.396875 126.792 \nz\n\" style=\"fill:#1f77b4;stroke:#ffffff;stroke-linejoin:miter;\"/>\n   </g>\n   <g id=\"patch_10\">\n    <path clip-path=\"url(#pba83389d36)\" d=\"M 226.396875 119.544 \nL 341.834714 119.544 \nL 341.834714 112.296 \nL 226.396875 112.296 \nz\n\" style=\"fill:#1f77b4;stroke:#ffffff;stroke-linejoin:miter;\"/>\n   </g>\n   <g id=\"patch_11\">\n    <path clip-path=\"url(#pba83389d36)\" d=\"M 226.396875 105.048 \nL 330.675502 105.048 \nL 330.675502 97.8 \nL 226.396875 97.8 \nz\n\" style=\"fill:#1f77b4;stroke:#ffffff;stroke-linejoin:miter;\"/>\n   </g>\n   <g id=\"patch_12\">\n    <path clip-path=\"url(#pba83389d36)\" d=\"M 226.396875 90.552 \nL 329.643023 90.552 \nL 329.643023 83.304 \nL 226.396875 83.304 \nz\n\" style=\"fill:#1f77b4;stroke:#ffffff;stroke-linejoin:miter;\"/>\n   </g>\n   <g id=\"patch_13\">\n    <path clip-path=\"url(#pba83389d36)\" d=\"M 226.396875 76.056 \nL 329.420073 76.056 \nL 329.420073 68.808 \nL 226.396875 68.808 \nz\n\" style=\"fill:#1f77b4;stroke:#ffffff;stroke-linejoin:miter;\"/>\n   </g>\n   <g id=\"patch_14\">\n    <path clip-path=\"url(#pba83389d36)\" d=\"M 226.396875 61.56 \nL 326.591644 61.56 \nL 326.591644 54.312 \nL 226.396875 54.312 \nz\n\" style=\"fill:#1f77b4;stroke:#ffffff;stroke-linejoin:miter;\"/>\n   </g>\n   <g id=\"patch_15\">\n    <path clip-path=\"url(#pba83389d36)\" d=\"M 226.396875 47.064 \nL 321.271422 47.064 \nL 321.271422 39.816 \nL 226.396875 39.816 \nz\n\" style=\"fill:#1f77b4;stroke:#ffffff;stroke-linejoin:miter;\"/>\n   </g>\n   <g id=\"patch_16\">\n    <path clip-path=\"url(#pba83389d36)\" d=\"M 226.396875 32.568 \nL 304.965853 32.568 \nL 304.965853 25.32 \nL 226.396875 25.32 \nz\n\" style=\"fill:#1f77b4;stroke:#ffffff;stroke-linejoin:miter;\"/>\n   </g>\n   <g id=\"patch_17\">\n    <path clip-path=\"url(#pba83389d36)\" d=\"M 226.396875 18.072 \nL 304.449778 18.072 \nL 304.449778 10.824 \nL 226.396875 10.824 \nz\n\" style=\"fill:#1f77b4;stroke:#ffffff;stroke-linejoin:miter;\"/>\n   </g>\n   <g id=\"patch_18\">\n    <path d=\"M 226.396875 224.64 \nL 226.396875 7.2 \n\" style=\"fill:none;stroke:#ffffff;stroke-linecap:square;stroke-linejoin:miter;stroke-width:0.8;\"/>\n   </g>\n   <g id=\"patch_19\">\n    <path d=\"M 561.196875 224.64 \nL 561.196875 7.2 \n\" style=\"fill:none;stroke:#ffffff;stroke-linecap:square;stroke-linejoin:miter;stroke-width:0.8;\"/>\n   </g>\n   <g id=\"patch_20\">\n    <path d=\"M 226.396875 224.64 \nL 561.196875 224.64 \n\" style=\"fill:none;stroke:#ffffff;stroke-linecap:square;stroke-linejoin:miter;stroke-width:0.8;\"/>\n   </g>\n   <g id=\"patch_21\">\n    <path d=\"M 226.396875 7.2 \nL 561.196875 7.2 \n\" style=\"fill:none;stroke:#ffffff;stroke-linecap:square;stroke-linejoin:miter;stroke-width:0.8;\"/>\n   </g>\n   <g id=\"legend_1\">\n    <g id=\"patch_22\">\n     <path d=\"M 494.88125 29.878125 \nL 554.196875 29.878125 \nQ 556.196875 29.878125 556.196875 27.878125 \nL 556.196875 14.2 \nQ 556.196875 12.2 554.196875 12.2 \nL 494.88125 12.2 \nQ 492.88125 12.2 492.88125 14.2 \nL 492.88125 27.878125 \nQ 492.88125 29.878125 494.88125 29.878125 \nz\n\" style=\"fill:#eaeaf2;opacity:0.8;stroke:#cccccc;stroke-linejoin:miter;\"/>\n    </g>\n    <g id=\"patch_23\">\n     <path d=\"M 496.88125 23.798437 \nL 516.88125 23.798437 \nL 516.88125 16.798437 \nL 496.88125 16.798437 \nz\n\" style=\"fill:#1f77b4;stroke:#ffffff;stroke-linejoin:miter;\"/>\n    </g>\n    <g id=\"text_25\">\n     <!-- value -->\n     <defs>\n      <path d=\"M 2.984375 54.6875 \nL 12.5 54.6875 \nL 29.59375 8.796875 \nL 46.6875 54.6875 \nL 56.203125 54.6875 \nL 35.6875 0 \nL 23.484375 0 \nz\n\" id=\"DejaVuSans-118\"/>\n     </defs>\n     <g style=\"fill:#262626;\" transform=\"translate(524.88125 23.798437)scale(0.1 -0.1)\">\n      <use xlink:href=\"#DejaVuSans-118\"/>\n      <use x=\"59.179688\" xlink:href=\"#DejaVuSans-97\"/>\n      <use x=\"120.458984\" xlink:href=\"#DejaVuSans-108\"/>\n      <use x=\"148.242188\" xlink:href=\"#DejaVuSans-117\"/>\n      <use x=\"211.621094\" xlink:href=\"#DejaVuSans-101\"/>\n     </g>\n    </g>\n   </g>\n  </g>\n </g>\n <defs>\n  <clipPath id=\"pba83389d36\">\n   <rect height=\"217.44\" width=\"334.8\" x=\"226.396875\" y=\"7.2\"/>\n  </clipPath>\n </defs>\n</svg>\n",
            "image/png": "[encoded data removed]"
          },
          "metadata": {}
        }
      ],
      "source": [
        "feature_importance.sort_values(by='value', ascending=False)[:15].plot(kind='barh')"
      ]
    },
    {
      "source": [
        "### Save & Load CV!\n",
        "export of cross-validation settings, including trained models and their settings"
      ],
      "cell_type": "markdown",
      "metadata": {}
    },
    {
      "cell_type": "code",
      "execution_count": 25,
      "metadata": {},
      "outputs": [
        {
          "output_type": "stream",
          "name": "stdout",
          "text": [
            "Test AUC:  0.821\n"
          ]
        }
      ],
      "source": [
        "predicts = cv.predict_test(X_test)\n",
        "print('Test AUC: ', round(sklearn.metrics.roc_auc_score(y_test, predicts),4))"
      ]
    },
    {
      "cell_type": "code",
      "execution_count": 26,
      "metadata": {},
      "outputs": [
        {
          "output_type": "stream",
          "name": "stdout",
          "text": [
            "Save CrossValidation\n"
          ]
        }
      ],
      "source": [
        "cv.save('cv_1',)"
      ]
    },
    {
      "cell_type": "code",
      "execution_count": 27,
      "metadata": {},
      "outputs": [],
      "source": [
        "cv_2 = CrossValidation(estimator=model,)"
      ]
    },
    {
      "cell_type": "code",
      "execution_count": 28,
      "metadata": {},
      "outputs": [
        {
          "output_type": "stream",
          "name": "stdout",
          "text": [
            "Finished loading model, total used 300 iterations\n",
            "Finished loading model, total used 300 iterations\n",
            "Finished loading model, total used 300 iterations\n",
            "Finished loading model, total used 300 iterations\n",
            "Finished loading model, total used 300 iterations\n",
            "Finished loading model, total used 300 iterations\n",
            "Finished loading model, total used 300 iterations\n",
            "Finished loading model, total used 300 iterations\n",
            "Finished loading model, total used 300 iterations\n",
            "Finished loading model, total used 300 iterations\n",
            "Load CrossValidation\n"
          ]
        }
      ],
      "source": [
        "cv_2 = cv_2.load('cv_1',)"
      ]
    },
    {
      "cell_type": "code",
      "execution_count": 29,
      "metadata": {},
      "outputs": [
        {
          "output_type": "stream",
          "name": "stdout",
          "text": [
            "Test AUC:  0.821\n"
          ]
        }
      ],
      "source": [
        "predicts = cv_2.predict_test(X_test)\n",
        "print('Test AUC: ', round(sklearn.metrics.roc_auc_score(y_test, predicts),4))"
      ]
    },
    {
      "source": [
        "## Optimizing Parameters\n",
        "In this library, I tried to simplify the process of optimizing and iterating parameters as much as possible. You just specify how much time you are willing to spend on optimization, and the library will select the rules for cross-validation, optimization depth, and other optimization parameters based on this time. The more time you give it, the better it will be able to select parameters.    \n",
        "\n",
        "[RUS]\n",
        "В этой библиотеке я постарался максимально упростить процесс оптимизации и перебора параметров. Вы просто указываете сколько вы готовы потратить времени на оптимизацию, а библиотека сама подберет правила кроссвалидации, глубины оптимизации и прочии параметры оптимизации исходя из этого времени. Чем больше времени вы ей дадите, тем более качественней она сможет подобрать параметры."
      ],
      "cell_type": "markdown",
      "metadata": {}
    },
    {
      "cell_type": "code",
      "execution_count": 30,
      "metadata": {
        "tags": []
      },
      "outputs": [
        {
          "output_type": "stream",
          "name": "stderr",
          "text": [
            "00:40:52 | ##################################################\n",
            "00:40:53 | > Step 1: calc parameters and pruned score: get test 10 trials\n",
            "00:41:07 |  One iteration takes ~ 1.4 sec\n",
            "00:41:07 |  Possible iters ~ 427.0\n",
            "00:41:07 | --------------------------------------------------\n",
            "00:41:07 |   Pruned Threshold Score: 0.6667\n",
            "00:41:07 | ##################################################\n",
            "00:41:07 | > Step 2: Full opt with Threshold Score Pruner\n",
            "00:41:07 | ##################################################\n",
            "00:41:07 | > Start optimization with the parameters:\n",
            "00:41:07 | CV_Folds = 10\n",
            "00:41:07 | Score_CV_Folds = 2\n",
            "00:41:07 | Feature_Selection = False\n",
            "00:41:07 | Opt_lvl = 2\n",
            "00:41:07 | Cold_start = 20\n",
            "00:41:07 | Early_stoping = 30\n",
            "00:41:07 | Metric = roc_auc_score\n",
            "00:41:07 | Direction = maximize\n",
            "00:41:07 | ##################################################\n",
            "Optimize: : 288it [04:12,  1.14it/s, | Model: LightGBM | OptScore: 0.728 | Best roc_auc_score: 0.7478 ]\n",
            "00:45:19 | \n",
            " EarlyStopping Exceeded: Best Score: 0.7478 roc_auc_score\n",
            "00:45:19 | > Finish Opt!\n",
            "Finished loading model, total used 300 iterations\n",
            "Finished loading model, total used 300 iterations\n",
            "Finished loading model, total used 300 iterations\n",
            "Finished loading model, total used 300 iterations\n",
            "Finished loading model, total used 300 iterations\n",
            "Finished loading model, total used 300 iterations\n",
            "Finished loading model, total used 300 iterations\n",
            "Finished loading model, total used 300 iterations\n",
            "Finished loading model, total used 300 iterations\n",
            "Finished loading model, total used 300 iterations\n",
            "00:45:22 | Best Score: 0.7478 roc_auc_score\n"
          ]
        }
      ],
      "source": [
        "history = model.opt(\n",
        "    X=X_train,\n",
        "    y=y_train,\n",
        "    timeout=600, # optimization time in seconds,\n",
        "    verbose=3\n",
        "    )"
      ]
    },
    {
      "cell_type": "code",
      "execution_count": 31,
      "metadata": {},
      "outputs": [
        {
          "output_type": "execute_result",
          "data": {
            "text/plain": [
              "{'random_seed': 42,\n",
              " 'num_iterations': 300,\n",
              " 'verbose': -1,\n",
              " 'device_type': 'cpu',\n",
              " 'objective': 'binary',\n",
              " 'min_child_samples': 2,\n",
              " 'learning_rate': 0.05497522496123994,\n",
              " 'num_leaves': 3,\n",
              " 'bagging_fraction': 0.6000000000000001,\n",
              " 'feature_fraction': 0.6000000000000001,\n",
              " 'bagging_freq': 7}"
            ]
          },
          "metadata": {},
          "execution_count": 31
        }
      ],
      "source": [
        "model.model_param"
      ]
    },
    {
      "cell_type": "code",
      "execution_count": 32,
      "metadata": {},
      "outputs": [
        {
          "output_type": "stream",
          "name": "stdout",
          "text": [
            "Test AUC:  0.7273\n"
          ]
        }
      ],
      "source": [
        "model.fit(X_train, y_train)\n",
        "predicts = model.predict(X_test)\n",
        "print('Test AUC: ', round(sklearn.metrics.roc_auc_score(y_test, predicts),4))"
      ]
    },
    {
      "cell_type": "code",
      "execution_count": 33,
      "metadata": {},
      "outputs": [
        {
          "output_type": "execute_result",
          "data": {
            "text/plain": [
              "   number   value             datetime_start          datetime_complete  \\\n",
              "0       0  0.6548 2021-03-01 00:40:53.309829 2021-03-01 00:40:54.899922   \n",
              "1       1  0.5578 2021-03-01 00:40:54.950166 2021-03-01 00:40:56.533020   \n",
              "2       2  0.6287 2021-03-01 00:40:56.571935 2021-03-01 00:40:58.105819   \n",
              "3       3  0.6938 2021-03-01 00:40:58.139005 2021-03-01 00:40:58.817753   \n",
              "4       4  0.6689 2021-03-01 00:40:58.854124 2021-03-01 00:40:59.930184   \n",
              "\n",
              "                duration  params_lgbm_bagging_fraction  \\\n",
              "0 0 days 00:00:01.590093                           0.8   \n",
              "1 0 days 00:00:01.582854                           0.4   \n",
              "2 0 days 00:00:01.533884                           0.7   \n",
              "3 0 days 00:00:00.678748                           0.7   \n",
              "4 0 days 00:00:01.076060                           0.8   \n",
              "\n",
              "   params_lgbm_bagging_freq  params_lgbm_feature_fraction  \\\n",
              "0                       8.0                           0.7   \n",
              "1                       7.0                           1.0   \n",
              "2                       2.0                           0.7   \n",
              "3                       4.0                           0.9   \n",
              "4                       8.0                           0.5   \n",
              "\n",
              "   params_lgbm_learning_rate  params_lgbm_min_child_samples  \\\n",
              "0                   0.253700                              7   \n",
              "1                   0.190304                              2   \n",
              "2                   0.292157                              2   \n",
              "3                   0.038962                             14   \n",
              "4                   0.283368                              7   \n",
              "\n",
              "   params_lgbm_num_iterations  params_lgbm_num_leaves params_model_name  \\\n",
              "0                         300                      20          LightGBM   \n",
              "1                         500                      12          LightGBM   \n",
              "2                         400                      13          LightGBM   \n",
              "3                         500                       2          LightGBM   \n",
              "4                         300                       8          LightGBM   \n",
              "\n",
              "      state  \n",
              "0  COMPLETE  \n",
              "1  COMPLETE  \n",
              "2  COMPLETE  \n",
              "3  COMPLETE  \n",
              "4  COMPLETE  "
            ],
            "text/html": "<div>\n<style scoped>\n    .dataframe tbody tr th:only-of-type {\n        vertical-align: middle;\n    }\n\n    .dataframe tbody tr th {\n        vertical-align: top;\n    }\n\n    .dataframe thead th {\n        text-align: right;\n    }\n</style>\n<table border=\"1\" class=\"dataframe\">\n  <thead>\n    <tr style=\"text-align: right;\">\n      <th></th>\n      <th>number</th>\n      <th>value</th>\n      <th>datetime_start</th>\n      <th>datetime_complete</th>\n      <th>duration</th>\n      <th>params_lgbm_bagging_fraction</th>\n      <th>params_lgbm_bagging_freq</th>\n      <th>params_lgbm_feature_fraction</th>\n      <th>params_lgbm_learning_rate</th>\n      <th>params_lgbm_min_child_samples</th>\n      <th>params_lgbm_num_iterations</th>\n      <th>params_lgbm_num_leaves</th>\n      <th>params_model_name</th>\n      <th>state</th>\n    </tr>\n  </thead>\n  <tbody>\n    <tr>\n      <th>0</th>\n      <td>0</td>\n      <td>0.6548</td>\n      <td>2021-03-01 00:40:53.309829</td>\n      <td>2021-03-01 00:40:54.899922</td>\n      <td>0 days 00:00:01.590093</td>\n      <td>0.8</td>\n      <td>8.0</td>\n      <td>0.7</td>\n      <td>0.253700</td>\n      <td>7</td>\n      <td>300</td>\n      <td>20</td>\n      <td>LightGBM</td>\n      <td>COMPLETE</td>\n    </tr>\n    <tr>\n      <th>1</th>\n      <td>1</td>\n      <td>0.5578</td>\n      <td>2021-03-01 00:40:54.950166</td>\n      <td>2021-03-01 00:40:56.533020</td>\n      <td>0 days 00:00:01.582854</td>\n      <td>0.4</td>\n      <td>7.0</td>\n      <td>1.0</td>\n      <td>0.190304</td>\n      <td>2</td>\n      <td>500</td>\n      <td>12</td>\n      <td>LightGBM</td>\n      <td>COMPLETE</td>\n    </tr>\n    <tr>\n      <th>2</th>\n      <td>2</td>\n      <td>0.6287</td>\n      <td>2021-03-01 00:40:56.571935</td>\n      <td>2021-03-01 00:40:58.105819</td>\n      <td>0 days 00:00:01.533884</td>\n      <td>0.7</td>\n      <td>2.0</td>\n      <td>0.7</td>\n      <td>0.292157</td>\n      <td>2</td>\n      <td>400</td>\n      <td>13</td>\n      <td>LightGBM</td>\n      <td>COMPLETE</td>\n    </tr>\n    <tr>\n      <th>3</th>\n      <td>3</td>\n      <td>0.6938</td>\n      <td>2021-03-01 00:40:58.139005</td>\n      <td>2021-03-01 00:40:58.817753</td>\n      <td>0 days 00:00:00.678748</td>\n      <td>0.7</td>\n      <td>4.0</td>\n      <td>0.9</td>\n      <td>0.038962</td>\n      <td>14</td>\n      <td>500</td>\n      <td>2</td>\n      <td>LightGBM</td>\n      <td>COMPLETE</td>\n    </tr>\n    <tr>\n      <th>4</th>\n      <td>4</td>\n      <td>0.6689</td>\n      <td>2021-03-01 00:40:58.854124</td>\n      <td>2021-03-01 00:40:59.930184</td>\n      <td>0 days 00:00:01.076060</td>\n      <td>0.8</td>\n      <td>8.0</td>\n      <td>0.5</td>\n      <td>0.283368</td>\n      <td>7</td>\n      <td>300</td>\n      <td>8</td>\n      <td>LightGBM</td>\n      <td>COMPLETE</td>\n    </tr>\n  </tbody>\n</table>\n</div>"
          },
          "metadata": {},
          "execution_count": 33
        }
      ],
      "source": [
        "history.head(5)"
      ]
    },
    {
      "cell_type": "code",
      "execution_count": 34,
      "metadata": {},
      "outputs": [
        {
          "output_type": "display_data",
          "data": {
            "application/vnd.plotly.v1+json": {
              "config": {
                "plotlyServerURL": "https://plot.ly"
              },
              "data": [
                {
                  "mode": "markers",
                  "name": "Objective Value",
                  "type": "scatter",
                  "x": [
                    0,
                    1,
                    2,
                    3,
                    4,
                    5,
                    6,
                    7,
                    8,
                    9,
                    11,
                    13,
                    14,
                    15,
                    16,
                    18,
                    19,
                    21,
                    23,
                    24,
                    25,
                    26,
                    27,
                    28,
                    29,
                    30,
                    31,
                    32,
                    33,
                    34,
                    35,
                    36,
                    37,
                    38,
                    39,
                    40,
                    41,
                    42,
                    43,
                    44,
                    45,
                    46,
                    47,
                    48,
                    49,
                    50,
                    51,
                    52,
                    53,
                    54,
                    55,
                    56,
                    57,
                    58,
                    59,
                    60,
                    61,
                    62,
                    63,
                    64,
                    65,
                    66,
                    67,
                    68,
                    69,
                    70,
                    71,
                    72,
                    73,
                    74,
                    75,
                    76,
                    77,
                    78,
                    79,
                    80,
                    81,
                    82,
                    83,
                    84,
                    85,
                    86,
                    87,
                    88,
                    89,
                    90,
                    91,
                    92,
                    93,
                    94,
                    95,
                    96,
                    97,
                    98,
                    99,
                    100,
                    101,
                    102,
                    103,
                    104,
                    105,
                    106,
                    107,
                    108,
                    109,
                    110,
                    111,
                    112,
                    113,
                    114,
                    115,
                    116,
                    117,
                    118,
                    119,
                    120,
                    121,
                    122,
                    123,
                    124,
                    125,
                    126,
                    127,
                    128,
                    129,
                    130,
                    131,
                    132,
                    133,
                    134,
                    135,
                    136,
                    137,
                    138,
                    139,
                    140,
                    141,
                    142,
                    143,
                    144,
                    145,
                    146,
                    147,
                    148,
                    149,
                    150,
                    151,
                    152,
                    153,
                    154,
                    155,
                    156,
                    157,
                    158,
                    159,
                    160,
                    161,
                    162,
                    163,
                    164,
                    165,
                    166,
                    167,
                    168,
                    169,
                    170,
                    171,
                    172,
                    173,
                    174,
                    175,
                    176,
                    177,
                    178,
                    179,
                    180,
                    181,
                    182,
                    183,
                    184,
                    185,
                    186,
                    187,
                    188,
                    189,
                    190,
                    191,
                    192,
                    193,
                    194,
                    195,
                    196,
                    197,
                    198,
                    199,
                    200,
                    201,
                    202,
                    203,
                    204,
                    205,
                    206,
                    207,
                    208,
                    209,
                    210,
                    211,
                    212,
                    213,
                    214,
                    215,
                    216,
                    217,
                    218,
                    219,
                    220,
                    221,
                    222,
                    223,
                    224,
                    225,
                    226,
                    227,
                    228,
                    229,
                    230,
                    231,
                    232,
                    233,
                    234,
                    235,
                    236,
                    237,
                    238,
                    239,
                    240,
                    241,
                    242,
                    243,
                    244,
                    245,
                    246,
                    247,
                    248,
                    249,
                    250,
                    251,
                    252,
                    253,
                    254,
                    255,
                    256,
                    257,
                    258,
                    259,
                    260,
                    261,
                    262,
                    263,
                    264,
                    265,
                    266,
                    267,
                    268,
                    269,
                    270,
                    271,
                    272,
                    273,
                    274,
                    275,
                    276,
                    277,
                    278,
                    279,
                    280,
                    281,
                    282,
                    283,
                    284,
                    285,
                    286,
                    287,
                    288,
                    289,
                    290,
                    291,
                    292,
                    293,
                    294,
                    295,
                    296,
                    297,
                    298,
                    299,
                    300,
                    301,
                    302
                  ],
                  "y": [
                    0.6548,
                    0.5578,
                    0.6287,
                    0.6938,
                    0.6689,
                    0.6793,
                    0.6667,
                    0.6942,
                    0.6667,
                    0.657,
                    0.696,
                    0.7047,
                    0.6801,
                    0.6916,
                    0.7011,
                    0.68,
                    0.6736,
                    0.7047,
                    0.6684,
                    0.6861,
                    0.6762,
                    0.6902,
                    0.689,
                    0.688,
                    0.6205,
                    0.6836,
                    0.692,
                    0.7011,
                    0.6989,
                    0.6851,
                    0.6756,
                    0.685,
                    0.7004,
                    0.7033,
                    0.688,
                    0.6989,
                    0.6908,
                    0.6676,
                    0.6772,
                    0.6895,
                    0.7302,
                    0.7018,
                    0.6944,
                    0.7025,
                    0.6931,
                    0.7048,
                    0.6982,
                    0.7346,
                    0.6924,
                    0.6858,
                    0.6975,
                    0.7104,
                    0.6815,
                    0.6938,
                    0.7004,
                    0.6924,
                    0.696,
                    0.6989,
                    0.6953,
                    0.6895,
                    0.6924,
                    0.6902,
                    0.7018,
                    0.6923,
                    0.6864,
                    0.6873,
                    0.696,
                    0.6924,
                    0.6996,
                    0.6924,
                    0.6968,
                    0.6945,
                    0.7292,
                    0.696,
                    0.6865,
                    0.6844,
                    0.7374,
                    0.7412,
                    0.7084,
                    0.7236,
                    0.7338,
                    0.7338,
                    0.6932,
                    0.6982,
                    0.7244,
                    0.7265,
                    0.6954,
                    0.6902,
                    0.7295,
                    0.6954,
                    0.7062,
                    0.733,
                    0.7164,
                    0.7324,
                    0.7172,
                    0.6938,
                    0.7207,
                    0.7404,
                    0.7273,
                    0.6909,
                    0.7025,
                    0.7091,
                    0.6786,
                    0.7375,
                    0.72,
                    0.7216,
                    0.7314,
                    0.7338,
                    0.7054,
                    0.7024,
                    0.6909,
                    0.7092,
                    0.7296,
                    0.6756,
                    0.7258,
                    0.6974,
                    0.7324,
                    0.7295,
                    0.7338,
                    0.717,
                    0.7228,
                    0.7076,
                    0.691,
                    0.6772,
                    0.6887,
                    0.7353,
                    0.736,
                    0.7076,
                    0.7316,
                    0.7062,
                    0.7033,
                    0.7207,
                    0.6974,
                    0.6874,
                    0.6865,
                    0.683,
                    0.7194,
                    0.7244,
                    0.7062,
                    0.7287,
                    0.7056,
                    0.7171,
                    0.6924,
                    0.6902,
                    0.6866,
                    0.6968,
                    0.7314,
                    0.7244,
                    0.7265,
                    0.7076,
                    0.7273,
                    0.7039,
                    0.72,
                    0.6896,
                    0.6807,
                    0.7222,
                    0.7236,
                    0.7273,
                    0.7105,
                    0.7381,
                    0.7258,
                    0.7302,
                    0.7418,
                    0.7215,
                    0.7229,
                    0.7366,
                    0.7331,
                    0.6924,
                    0.728,
                    0.6814,
                    0.7332,
                    0.7295,
                    0.7269,
                    0.7142,
                    0.712,
                    0.7374,
                    0.717,
                    0.7265,
                    0.7396,
                    0.7244,
                    0.7336,
                    0.7171,
                    0.724,
                    0.7351,
                    0.7164,
                    0.7375,
                    0.7331,
                    0.7236,
                    0.6944,
                    0.7247,
                    0.7113,
                    0.7299,
                    0.7127,
                    0.7178,
                    0.7062,
                    0.7418,
                    0.7478,
                    0.7345,
                    0.7338,
                    0.7273,
                    0.7338,
                    0.7276,
                    0.72,
                    0.7331,
                    0.7338,
                    0.7344,
                    0.7375,
                    0.6932,
                    0.693,
                    0.7324,
                    0.7324,
                    0.7295,
                    0.7251,
                    0.7433,
                    0.7098,
                    0.7295,
                    0.7273,
                    0.7396,
                    0.7403,
                    0.7258,
                    0.7388,
                    0.7241,
                    0.7314,
                    0.7217,
                    0.7448,
                    0.7307,
                    0.7307,
                    0.7324,
                    0.7338,
                    0.7345,
                    0.73,
                    0.7331,
                    0.715,
                    0.7294,
                    0.7248,
                    0.7388,
                    0.7388,
                    0.7374,
                    0.7098,
                    0.7298,
                    0.712,
                    0.7411,
                    0.7193,
                    0.736,
                    0.7206,
                    0.7345,
                    0.7324,
                    0.7281,
                    0.7324,
                    0.7135,
                    0.7236,
                    0.7382,
                    0.73,
                    0.7193,
                    0.6851,
                    0.7382,
                    0.6864,
                    0.7403,
                    0.7306,
                    0.747,
                    0.7236,
                    0.7284,
                    0.747,
                    0.7338,
                    0.7127,
                    0.691,
                    0.7163,
                    0.7402,
                    0.717,
                    0.7382,
                    0.7331,
                    0.7389,
                    0.7251,
                    0.7396,
                    0.7309,
                    0.7345,
                    0.736,
                    0.7382,
                    0.7104,
                    0.7258,
                    0.701,
                    0.7068,
                    0.7193,
                    0.7309,
                    0.7142,
                    0.7254,
                    0.7331,
                    0.728,
                    0.7236,
                    0.6864,
                    0.7324,
                    0.7273,
                    0.7228,
                    0.6762,
                    0.733,
                    0.6932,
                    0.6924,
                    0.728
                  ]
                },
                {
                  "name": "Best Value",
                  "type": "scatter",
                  "x": [
                    0,
                    1,
                    2,
                    3,
                    4,
                    5,
                    6,
                    7,
                    8,
                    9,
                    11,
                    13,
                    14,
                    15,
                    16,
                    18,
                    19,
                    21,
                    23,
                    24,
                    25,
                    26,
                    27,
                    28,
                    29,
                    30,
                    31,
                    32,
                    33,
                    34,
                    35,
                    36,
                    37,
                    38,
                    39,
                    40,
                    41,
                    42,
                    43,
                    44,
                    45,
                    46,
                    47,
                    48,
                    49,
                    50,
                    51,
                    52,
                    53,
                    54,
                    55,
                    56,
                    57,
                    58,
                    59,
                    60,
                    61,
                    62,
                    63,
                    64,
                    65,
                    66,
                    67,
                    68,
                    69,
                    70,
                    71,
                    72,
                    73,
                    74,
                    75,
                    76,
                    77,
                    78,
                    79,
                    80,
                    81,
                    82,
                    83,
                    84,
                    85,
                    86,
                    87,
                    88,
                    89,
                    90,
                    91,
                    92,
                    93,
                    94,
                    95,
                    96,
                    97,
                    98,
                    99,
                    100,
                    101,
                    102,
                    103,
                    104,
                    105,
                    106,
                    107,
                    108,
                    109,
                    110,
                    111,
                    112,
                    113,
                    114,
                    115,
                    116,
                    117,
                    118,
                    119,
                    120,
                    121,
                    122,
                    123,
                    124,
                    125,
                    126,
                    127,
                    128,
                    129,
                    130,
                    131,
                    132,
                    133,
                    134,
                    135,
                    136,
                    137,
                    138,
                    139,
                    140,
                    141,
                    142,
                    143,
                    144,
                    145,
                    146,
                    147,
                    148,
                    149,
                    150,
                    151,
                    152,
                    153,
                    154,
                    155,
                    156,
                    157,
                    158,
                    159,
                    160,
                    161,
                    162,
                    163,
                    164,
                    165,
                    166,
                    167,
                    168,
                    169,
                    170,
                    171,
                    172,
                    173,
                    174,
                    175,
                    176,
                    177,
                    178,
                    179,
                    180,
                    181,
                    182,
                    183,
                    184,
                    185,
                    186,
                    187,
                    188,
                    189,
                    190,
                    191,
                    192,
                    193,
                    194,
                    195,
                    196,
                    197,
                    198,
                    199,
                    200,
                    201,
                    202,
                    203,
                    204,
                    205,
                    206,
                    207,
                    208,
                    209,
                    210,
                    211,
                    212,
                    213,
                    214,
                    215,
                    216,
                    217,
                    218,
                    219,
                    220,
                    221,
                    222,
                    223,
                    224,
                    225,
                    226,
                    227,
                    228,
                    229,
                    230,
                    231,
                    232,
                    233,
                    234,
                    235,
                    236,
                    237,
                    238,
                    239,
                    240,
                    241,
                    242,
                    243,
                    244,
                    245,
                    246,
                    247,
                    248,
                    249,
                    250,
                    251,
                    252,
                    253,
                    254,
                    255,
                    256,
                    257,
                    258,
                    259,
                    260,
                    261,
                    262,
                    263,
                    264,
                    265,
                    266,
                    267,
                    268,
                    269,
                    270,
                    271,
                    272,
                    273,
                    274,
                    275,
                    276,
                    277,
                    278,
                    279,
                    280,
                    281,
                    282,
                    283,
                    284,
                    285,
                    286,
                    287,
                    288,
                    289,
                    290,
                    291,
                    292,
                    293,
                    294,
                    295,
                    296,
                    297,
                    298,
                    299,
                    300,
                    301,
                    302
                  ],
                  "y": [
                    0.6548,
                    0.6548,
                    0.6548,
                    0.6938,
                    0.6938,
                    0.6938,
                    0.6938,
                    0.6942,
                    0.6942,
                    0.6942,
                    0.696,
                    0.7047,
                    0.7047,
                    0.7047,
                    0.7047,
                    0.7047,
                    0.7047,
                    0.7047,
                    0.7047,
                    0.7047,
                    0.7047,
                    0.7047,
                    0.7047,
                    0.7047,
                    0.7047,
                    0.7047,
                    0.7047,
                    0.7047,
                    0.7047,
                    0.7047,
                    0.7047,
                    0.7047,
                    0.7047,
                    0.7047,
                    0.7047,
                    0.7047,
                    0.7047,
                    0.7047,
                    0.7047,
                    0.7047,
                    0.7302,
                    0.7302,
                    0.7302,
                    0.7302,
                    0.7302,
                    0.7302,
                    0.7302,
                    0.7346,
                    0.7346,
                    0.7346,
                    0.7346,
                    0.7346,
                    0.7346,
                    0.7346,
                    0.7346,
                    0.7346,
                    0.7346,
                    0.7346,
                    0.7346,
                    0.7346,
                    0.7346,
                    0.7346,
                    0.7346,
                    0.7346,
                    0.7346,
                    0.7346,
                    0.7346,
                    0.7346,
                    0.7346,
                    0.7346,
                    0.7346,
                    0.7346,
                    0.7346,
                    0.7346,
                    0.7346,
                    0.7346,
                    0.7374,
                    0.7412,
                    0.7412,
                    0.7412,
                    0.7412,
                    0.7412,
                    0.7412,
                    0.7412,
                    0.7412,
                    0.7412,
                    0.7412,
                    0.7412,
                    0.7412,
                    0.7412,
                    0.7412,
                    0.7412,
                    0.7412,
                    0.7412,
                    0.7412,
                    0.7412,
                    0.7412,
                    0.7412,
                    0.7412,
                    0.7412,
                    0.7412,
                    0.7412,
                    0.7412,
                    0.7412,
                    0.7412,
                    0.7412,
                    0.7412,
                    0.7412,
                    0.7412,
                    0.7412,
                    0.7412,
                    0.7412,
                    0.7412,
                    0.7412,
                    0.7412,
                    0.7412,
                    0.7412,
                    0.7412,
                    0.7412,
                    0.7412,
                    0.7412,
                    0.7412,
                    0.7412,
                    0.7412,
                    0.7412,
                    0.7412,
                    0.7412,
                    0.7412,
                    0.7412,
                    0.7412,
                    0.7412,
                    0.7412,
                    0.7412,
                    0.7412,
                    0.7412,
                    0.7412,
                    0.7412,
                    0.7412,
                    0.7412,
                    0.7412,
                    0.7412,
                    0.7412,
                    0.7412,
                    0.7412,
                    0.7412,
                    0.7412,
                    0.7412,
                    0.7412,
                    0.7412,
                    0.7412,
                    0.7412,
                    0.7412,
                    0.7412,
                    0.7412,
                    0.7412,
                    0.7412,
                    0.7412,
                    0.7412,
                    0.7412,
                    0.7412,
                    0.7412,
                    0.7412,
                    0.7418,
                    0.7418,
                    0.7418,
                    0.7418,
                    0.7418,
                    0.7418,
                    0.7418,
                    0.7418,
                    0.7418,
                    0.7418,
                    0.7418,
                    0.7418,
                    0.7418,
                    0.7418,
                    0.7418,
                    0.7418,
                    0.7418,
                    0.7418,
                    0.7418,
                    0.7418,
                    0.7418,
                    0.7418,
                    0.7418,
                    0.7418,
                    0.7418,
                    0.7418,
                    0.7418,
                    0.7418,
                    0.7418,
                    0.7418,
                    0.7418,
                    0.7418,
                    0.7418,
                    0.7418,
                    0.7478,
                    0.7478,
                    0.7478,
                    0.7478,
                    0.7478,
                    0.7478,
                    0.7478,
                    0.7478,
                    0.7478,
                    0.7478,
                    0.7478,
                    0.7478,
                    0.7478,
                    0.7478,
                    0.7478,
                    0.7478,
                    0.7478,
                    0.7478,
                    0.7478,
                    0.7478,
                    0.7478,
                    0.7478,
                    0.7478,
                    0.7478,
                    0.7478,
                    0.7478,
                    0.7478,
                    0.7478,
                    0.7478,
                    0.7478,
                    0.7478,
                    0.7478,
                    0.7478,
                    0.7478,
                    0.7478,
                    0.7478,
                    0.7478,
                    0.7478,
                    0.7478,
                    0.7478,
                    0.7478,
                    0.7478,
                    0.7478,
                    0.7478,
                    0.7478,
                    0.7478,
                    0.7478,
                    0.7478,
                    0.7478,
                    0.7478,
                    0.7478,
                    0.7478,
                    0.7478,
                    0.7478,
                    0.7478,
                    0.7478,
                    0.7478,
                    0.7478,
                    0.7478,
                    0.7478,
                    0.7478,
                    0.7478,
                    0.7478,
                    0.7478,
                    0.7478,
                    0.7478,
                    0.7478,
                    0.7478,
                    0.7478,
                    0.7478,
                    0.7478,
                    0.7478,
                    0.7478,
                    0.7478,
                    0.7478,
                    0.7478,
                    0.7478,
                    0.7478,
                    0.7478,
                    0.7478,
                    0.7478,
                    0.7478,
                    0.7478,
                    0.7478,
                    0.7478,
                    0.7478,
                    0.7478,
                    0.7478,
                    0.7478,
                    0.7478,
                    0.7478,
                    0.7478,
                    0.7478,
                    0.7478,
                    0.7478,
                    0.7478,
                    0.7478,
                    0.7478,
                    0.7478,
                    0.7478,
                    0.7478,
                    0.7478
                  ]
                }
              ],
              "layout": {
                "template": {
                  "data": {
                    "bar": [
                      {
                        "error_x": {
                          "color": "#2a3f5f"
                        },
                        "error_y": {
                          "color": "#2a3f5f"
                        },
                        "marker": {
                          "line": {
                            "color": "#E5ECF6",
                            "width": 0.5
                          }
                        },
                        "type": "bar"
                      }
                    ],
                    "barpolar": [
                      {
                        "marker": {
                          "line": {
                            "color": "#E5ECF6",
                            "width": 0.5
                          }
                        },
                        "type": "barpolar"
                      }
                    ],
                    "carpet": [
                      {
                        "aaxis": {
                          "endlinecolor": "#2a3f5f",
                          "gridcolor": "white",
                          "linecolor": "white",
                          "minorgridcolor": "white",
                          "startlinecolor": "#2a3f5f"
                        },
                        "baxis": {
                          "endlinecolor": "#2a3f5f",
                          "gridcolor": "white",
                          "linecolor": "white",
                          "minorgridcolor": "white",
                          "startlinecolor": "#2a3f5f"
                        },
                        "type": "carpet"
                      }
                    ],
                    "choropleth": [
                      {
                        "colorbar": {
                          "outlinewidth": 0,
                          "ticks": ""
                        },
                        "type": "choropleth"
                      }
                    ],
                    "contour": [
                      {
                        "colorbar": {
                          "outlinewidth": 0,
                          "ticks": ""
                        },
                        "colorscale": [
                          [
                            0,
                            "#0d0887"
                          ],
                          [
                            0.1111111111111111,
                            "#46039f"
                          ],
                          [
                            0.2222222222222222,
                            "#7201a8"
                          ],
                          [
                            0.3333333333333333,
                            "#9c179e"
                          ],
                          [
                            0.4444444444444444,
                            "#bd3786"
                          ],
                          [
                            0.5555555555555556,
                            "#d8576b"
                          ],
                          [
                            0.6666666666666666,
                            "#ed7953"
                          ],
                          [
                            0.7777777777777778,
                            "#fb9f3a"
                          ],
                          [
                            0.8888888888888888,
                            "#fdca26"
                          ],
                          [
                            1,
                            "#f0f921"
                          ]
                        ],
                        "type": "contour"
                      }
                    ],
                    "contourcarpet": [
                      {
                        "colorbar": {
                          "outlinewidth": 0,
                          "ticks": ""
                        },
                        "type": "contourcarpet"
                      }
                    ],
                    "heatmap": [
                      {
                        "colorbar": {
                          "outlinewidth": 0,
                          "ticks": ""
                        },
                        "colorscale": [
                          [
                            0,
                            "#0d0887"
                          ],
                          [
                            0.1111111111111111,
                            "#46039f"
                          ],
                          [
                            0.2222222222222222,
                            "#7201a8"
                          ],
                          [
                            0.3333333333333333,
                            "#9c179e"
                          ],
                          [
                            0.4444444444444444,
                            "#bd3786"
                          ],
                          [
                            0.5555555555555556,
                            "#d8576b"
                          ],
                          [
                            0.6666666666666666,
                            "#ed7953"
                          ],
                          [
                            0.7777777777777778,
                            "#fb9f3a"
                          ],
                          [
                            0.8888888888888888,
                            "#fdca26"
                          ],
                          [
                            1,
                            "#f0f921"
                          ]
                        ],
                        "type": "heatmap"
                      }
                    ],
                    "heatmapgl": [
                      {
                        "colorbar": {
                          "outlinewidth": 0,
                          "ticks": ""
                        },
                        "colorscale": [
                          [
                            0,
                            "#0d0887"
                          ],
                          [
                            0.1111111111111111,
                            "#46039f"
                          ],
                          [
                            0.2222222222222222,
                            "#7201a8"
                          ],
                          [
                            0.3333333333333333,
                            "#9c179e"
                          ],
                          [
                            0.4444444444444444,
                            "#bd3786"
                          ],
                          [
                            0.5555555555555556,
                            "#d8576b"
                          ],
                          [
                            0.6666666666666666,
                            "#ed7953"
                          ],
                          [
                            0.7777777777777778,
                            "#fb9f3a"
                          ],
                          [
                            0.8888888888888888,
                            "#fdca26"
                          ],
                          [
                            1,
                            "#f0f921"
                          ]
                        ],
                        "type": "heatmapgl"
                      }
                    ],
                    "histogram": [
                      {
                        "marker": {
                          "colorbar": {
                            "outlinewidth": 0,
                            "ticks": ""
                          }
                        },
                        "type": "histogram"
                      }
                    ],
                    "histogram2d": [
                      {
                        "colorbar": {
                          "outlinewidth": 0,
                          "ticks": ""
                        },
                        "colorscale": [
                          [
                            0,
                            "#0d0887"
                          ],
                          [
                            0.1111111111111111,
                            "#46039f"
                          ],
                          [
                            0.2222222222222222,
                            "#7201a8"
                          ],
                          [
                            0.3333333333333333,
                            "#9c179e"
                          ],
                          [
                            0.4444444444444444,
                            "#bd3786"
                          ],
                          [
                            0.5555555555555556,
                            "#d8576b"
                          ],
                          [
                            0.6666666666666666,
                            "#ed7953"
                          ],
                          [
                            0.7777777777777778,
                            "#fb9f3a"
                          ],
                          [
                            0.8888888888888888,
                            "#fdca26"
                          ],
                          [
                            1,
                            "#f0f921"
                          ]
                        ],
                        "type": "histogram2d"
                      }
                    ],
                    "histogram2dcontour": [
                      {
                        "colorbar": {
                          "outlinewidth": 0,
                          "ticks": ""
                        },
                        "colorscale": [
                          [
                            0,
                            "#0d0887"
                          ],
                          [
                            0.1111111111111111,
                            "#46039f"
                          ],
                          [
                            0.2222222222222222,
                            "#7201a8"
                          ],
                          [
                            0.3333333333333333,
                            "#9c179e"
                          ],
                          [
                            0.4444444444444444,
                            "#bd3786"
                          ],
                          [
                            0.5555555555555556,
                            "#d8576b"
                          ],
                          [
                            0.6666666666666666,
                            "#ed7953"
                          ],
                          [
                            0.7777777777777778,
                            "#fb9f3a"
                          ],
                          [
                            0.8888888888888888,
                            "#fdca26"
                          ],
                          [
                            1,
                            "#f0f921"
                          ]
                        ],
                        "type": "histogram2dcontour"
                      }
                    ],
                    "mesh3d": [
                      {
                        "colorbar": {
                          "outlinewidth": 0,
                          "ticks": ""
                        },
                        "type": "mesh3d"
                      }
                    ],
                    "parcoords": [
                      {
                        "line": {
                          "colorbar": {
                            "outlinewidth": 0,
                            "ticks": ""
                          }
                        },
                        "type": "parcoords"
                      }
                    ],
                    "pie": [
                      {
                        "automargin": true,
                        "type": "pie"
                      }
                    ],
                    "scatter": [
                      {
                        "marker": {
                          "colorbar": {
                            "outlinewidth": 0,
                            "ticks": ""
                          }
                        },
                        "type": "scatter"
                      }
                    ],
                    "scatter3d": [
                      {
                        "line": {
                          "colorbar": {
                            "outlinewidth": 0,
                            "ticks": ""
                          }
                        },
                        "marker": {
                          "colorbar": {
                            "outlinewidth": 0,
                            "ticks": ""
                          }
                        },
                        "type": "scatter3d"
                      }
                    ],
                    "scattercarpet": [
                      {
                        "marker": {
                          "colorbar": {
                            "outlinewidth": 0,
                            "ticks": ""
                          }
                        },
                        "type": "scattercarpet"
                      }
                    ],
                    "scattergeo": [
                      {
                        "marker": {
                          "colorbar": {
                            "outlinewidth": 0,
                            "ticks": ""
                          }
                        },
                        "type": "scattergeo"
                      }
                    ],
                    "scattergl": [
                      {
                        "marker": {
                          "colorbar": {
                            "outlinewidth": 0,
                            "ticks": ""
                          }
                        },
                        "type": "scattergl"
                      }
                    ],
                    "scattermapbox": [
                      {
                        "marker": {
                          "colorbar": {
                            "outlinewidth": 0,
                            "ticks": ""
                          }
                        },
                        "type": "scattermapbox"
                      }
                    ],
                    "scatterpolar": [
                      {
                        "marker": {
                          "colorbar": {
                            "outlinewidth": 0,
                            "ticks": ""
                          }
                        },
                        "type": "scatterpolar"
                      }
                    ],
                    "scatterpolargl": [
                      {
                        "marker": {
                          "colorbar": {
                            "outlinewidth": 0,
                            "ticks": ""
                          }
                        },
                        "type": "scatterpolargl"
                      }
                    ],
                    "scatterternary": [
                      {
                        "marker": {
                          "colorbar": {
                            "outlinewidth": 0,
                            "ticks": ""
                          }
                        },
                        "type": "scatterternary"
                      }
                    ],
                    "surface": [
                      {
                        "colorbar": {
                          "outlinewidth": 0,
                          "ticks": ""
                        },
                        "colorscale": [
                          [
                            0,
                            "#0d0887"
                          ],
                          [
                            0.1111111111111111,
                            "#46039f"
                          ],
                          [
                            0.2222222222222222,
                            "#7201a8"
                          ],
                          [
                            0.3333333333333333,
                            "#9c179e"
                          ],
                          [
                            0.4444444444444444,
                            "#bd3786"
                          ],
                          [
                            0.5555555555555556,
                            "#d8576b"
                          ],
                          [
                            0.6666666666666666,
                            "#ed7953"
                          ],
                          [
                            0.7777777777777778,
                            "#fb9f3a"
                          ],
                          [
                            0.8888888888888888,
                            "#fdca26"
                          ],
                          [
                            1,
                            "#f0f921"
                          ]
                        ],
                        "type": "surface"
                      }
                    ],
                    "table": [
                      {
                        "cells": {
                          "fill": {
                            "color": "#EBF0F8"
                          },
                          "line": {
                            "color": "white"
                          }
                        },
                        "header": {
                          "fill": {
                            "color": "#C8D4E3"
                          },
                          "line": {
                            "color": "white"
                          }
                        },
                        "type": "table"
                      }
                    ]
                  },
                  "layout": {
                    "annotationdefaults": {
                      "arrowcolor": "#2a3f5f",
                      "arrowhead": 0,
                      "arrowwidth": 1
                    },
                    "coloraxis": {
                      "colorbar": {
                        "outlinewidth": 0,
                        "ticks": ""
                      }
                    },
                    "colorscale": {
                      "diverging": [
                        [
                          0,
                          "#8e0152"
                        ],
                        [
                          0.1,
                          "#c51b7d"
                        ],
                        [
                          0.2,
                          "#de77ae"
                        ],
                        [
                          0.3,
                          "#f1b6da"
                        ],
                        [
                          0.4,
                          "#fde0ef"
                        ],
                        [
                          0.5,
                          "#f7f7f7"
                        ],
                        [
                          0.6,
                          "#e6f5d0"
                        ],
                        [
                          0.7,
                          "#b8e186"
                        ],
                        [
                          0.8,
                          "#7fbc41"
                        ],
                        [
                          0.9,
                          "#4d9221"
                        ],
                        [
                          1,
                          "#276419"
                        ]
                      ],
                      "sequential": [
                        [
                          0,
                          "#0d0887"
                        ],
                        [
                          0.1111111111111111,
                          "#46039f"
                        ],
                        [
                          0.2222222222222222,
                          "#7201a8"
                        ],
                        [
                          0.3333333333333333,
                          "#9c179e"
                        ],
                        [
                          0.4444444444444444,
                          "#bd3786"
                        ],
                        [
                          0.5555555555555556,
                          "#d8576b"
                        ],
                        [
                          0.6666666666666666,
                          "#ed7953"
                        ],
                        [
                          0.7777777777777778,
                          "#fb9f3a"
                        ],
                        [
                          0.8888888888888888,
                          "#fdca26"
                        ],
                        [
                          1,
                          "#f0f921"
                        ]
                      ],
                      "sequentialminus": [
                        [
                          0,
                          "#0d0887"
                        ],
                        [
                          0.1111111111111111,
                          "#46039f"
                        ],
                        [
                          0.2222222222222222,
                          "#7201a8"
                        ],
                        [
                          0.3333333333333333,
                          "#9c179e"
                        ],
                        [
                          0.4444444444444444,
                          "#bd3786"
                        ],
                        [
                          0.5555555555555556,
                          "#d8576b"
                        ],
                        [
                          0.6666666666666666,
                          "#ed7953"
                        ],
                        [
                          0.7777777777777778,
                          "#fb9f3a"
                        ],
                        [
                          0.8888888888888888,
                          "#fdca26"
                        ],
                        [
                          1,
                          "#f0f921"
                        ]
                      ]
                    },
                    "colorway": [
                      "#636efa",
                      "#EF553B",
                      "#00cc96",
                      "#ab63fa",
                      "#FFA15A",
                      "#19d3f3",
                      "#FF6692",
                      "#B6E880",
                      "#FF97FF",
                      "#FECB52"
                    ],
                    "font": {
                      "color": "#2a3f5f"
                    },
                    "geo": {
                      "bgcolor": "white",
                      "lakecolor": "white",
                      "landcolor": "#E5ECF6",
                      "showlakes": true,
                      "showland": true,
                      "subunitcolor": "white"
                    },
                    "hoverlabel": {
                      "align": "left"
                    },
                    "hovermode": "closest",
                    "mapbox": {
                      "style": "light"
                    },
                    "paper_bgcolor": "white",
                    "plot_bgcolor": "#E5ECF6",
                    "polar": {
                      "angularaxis": {
                        "gridcolor": "white",
                        "linecolor": "white",
                        "ticks": ""
                      },
                      "bgcolor": "#E5ECF6",
                      "radialaxis": {
                        "gridcolor": "white",
                        "linecolor": "white",
                        "ticks": ""
                      }
                    },
                    "scene": {
                      "xaxis": {
                        "backgroundcolor": "#E5ECF6",
                        "gridcolor": "white",
                        "gridwidth": 2,
                        "linecolor": "white",
                        "showbackground": true,
                        "ticks": "",
                        "zerolinecolor": "white"
                      },
                      "yaxis": {
                        "backgroundcolor": "#E5ECF6",
                        "gridcolor": "white",
                        "gridwidth": 2,
                        "linecolor": "white",
                        "showbackground": true,
                        "ticks": "",
                        "zerolinecolor": "white"
                      },
                      "zaxis": {
                        "backgroundcolor": "#E5ECF6",
                        "gridcolor": "white",
                        "gridwidth": 2,
                        "linecolor": "white",
                        "showbackground": true,
                        "ticks": "",
                        "zerolinecolor": "white"
                      }
                    },
                    "shapedefaults": {
                      "line": {
                        "color": "#2a3f5f"
                      }
                    },
                    "ternary": {
                      "aaxis": {
                        "gridcolor": "white",
                        "linecolor": "white",
                        "ticks": ""
                      },
                      "baxis": {
                        "gridcolor": "white",
                        "linecolor": "white",
                        "ticks": ""
                      },
                      "bgcolor": "#E5ECF6",
                      "caxis": {
                        "gridcolor": "white",
                        "linecolor": "white",
                        "ticks": ""
                      }
                    },
                    "title": {
                      "x": 0.05
                    },
                    "xaxis": {
                      "automargin": true,
                      "gridcolor": "white",
                      "linecolor": "white",
                      "ticks": "",
                      "title": {
                        "standoff": 15
                      },
                      "zerolinecolor": "white",
                      "zerolinewidth": 2
                    },
                    "yaxis": {
                      "automargin": true,
                      "gridcolor": "white",
                      "linecolor": "white",
                      "ticks": "",
                      "title": {
                        "standoff": 15
                      },
                      "zerolinecolor": "white",
                      "zerolinewidth": 2
                    }
                  }
                },
                "title": {
                  "text": "Optimization History Plot"
                },
                "xaxis": {
                  "title": {
                    "text": "#Trials"
                  }
                },
                "yaxis": {
                  "title": {
                    "text": "Objective Value"
                  }
                }
              }
            }
          },
          "metadata": {}
        }
      ],
      "source": [
        "model.plot_opt_history()"
      ]
    },
    {
      "cell_type": "markdown",
      "metadata": {
        "id": "ECaRp0ADbV5_",
        "colab_type": "text"
      },
      "source": [
        "# How it works\n",
        "first let's look at all the parameters available to us     \n",
        "для начала посмотрим все доступные нам параметры"
      ]
    },
    {
      "cell_type": "markdown",
      "metadata": {
        "id": "RiYgobwBbV6A",
        "colab_type": "text"
      },
      "source": [
        "```python\n",
        "model = LightGBMClassifier(\n",
        "                    model_param=None, # default model parameters\n",
        "                    type_of_estimator=None, # classifier or regression\n",
        "                    gpu=False, \n",
        "                    verbose=0,\n",
        "                    random_state=RANDOM_SEED\n",
        "    )\n",
        "```"
      ]
    },
    {
      "cell_type": "markdown",
      "metadata": {
        "id": "vpZzOYVtbV6A",
        "colab_type": "text"
      },
      "source": [
        "### *model_param*\n",
        "parameters of the model itself. As you already understood, to work with the library itself, I use some kind of wrapper, but *model_param* pass the settings directly to the model itself"
      ]
    },
    {
      "cell_type": "code",
      "execution_count": 34,
      "metadata": {},
      "outputs": [
        {
          "output_type": "execute_result",
          "data": {
            "text/plain": [
              "{'random_seed': 42,\n",
              " 'num_iterations': 300,\n",
              " 'verbose': -1,\n",
              " 'device_type': 'cpu',\n",
              " 'objective': 'binary',\n",
              " 'min_child_samples': 5,\n",
              " 'learning_rate': 0.04,\n",
              " 'num_leaves': 7,\n",
              " 'bagging_fraction': 0.4,\n",
              " 'feature_fraction': 0.6000000000000001,\n",
              " 'bagging_freq': 10}"
            ]
          },
          "metadata": {},
          "execution_count": 34
        }
      ],
      "source": [
        "model.model_param"
      ]
    },
    {
      "cell_type": "markdown",
      "metadata": {
        "ExecuteTime": {
          "end_time": "2020-05-07T06:54:12.453492Z",
          "start_time": "2020-05-07T06:54:12.439012Z"
        },
        "id": "kjruMAqEbV6F",
        "colab_type": "text"
      },
      "source": [
        "## Optimization\n",
        "\n",
        "```python\n",
        "history = model.opt(X,y,\n",
        "            timeout=200, # optimization time in seconds\n",
        "            metric=sklearn.metrics.roc_auc_score, # any metric from sklearn\n",
        "            metric_round=4,\n",
        "            direction='maximize', # optimization direction\n",
        "            combined_score_opt=True, # score_opt = score - std\n",
        "            iterations=None,\n",
        "            cold_start=30,\n",
        "            auto_parameters=True,\n",
        "            folds=10, # Cross-validation folds\n",
        "            score_folds=2, # how many folds are actually used for score\n",
        "            opt_lvl=2,  # depth of selection of parameters\n",
        "            early_stoping=100,  # stop otimization if no better parameters are found through iterations\n",
        "            feature_selection=False,\n",
        "            iteration_check=True,\n",
        "            verbose=1,)\n",
        "```\n",
        "\n",
        "To optimize hyperparameters used Optuna (https://optuna.org), but with some modifications. Inside Optuna uses the TPE algorithm.\n",
        "\n",
        "good visualization from: https://medium.com/criteo-labs/hyper-parameter-optimization-algorithms-2fe447525903\n",
        "<img src=\"https://miro.medium.com/max/2000/1*m1JYCHHhbmn6TCHcJIklZA.gif\" width=\"800\">\n"
      ]
    },
    {
      "cell_type": "markdown",
      "metadata": {
        "id": "SvXrBLljbV6F",
        "colab_type": "text"
      },
      "source": [
        "### *metric* and *direction*\n",
        "you can use standard metrics from sklearn.metrics or add custom metrics. Be sure to indicate the direction of improvement of the metric     \n",
        "\n",
        "вы можете использовать стандартные метрики из sklearn.metrics или добавить кастомную. Обязательно указывайте направление улучшения метрики"
      ]
    },
    {
      "cell_type": "markdown",
      "metadata": {
        "id": "IbtbRVMebV6F",
        "colab_type": "text"
      },
      "source": [
        "### *cv* folds and *score_folds*\n",
        "In training, I use cross validation. But if we don’t have much time, then we go to the trick, and learn only part of the folds (score_folds)    \n",
        "\n",
        "В обучении я использую кросс валидацию. Но если у нас мало времени то мы идем на хитрость, и обучаемся только на части фолдов (score_folds)\n"
      ]
    },
    {
      "cell_type": "markdown",
      "metadata": {
        "ExecuteTime": {
          "end_time": "2020-05-07T08:00:39.460470Z",
          "start_time": "2020-05-07T08:00:39.424490Z"
        },
        "id": "D9xT9cTgbV6F",
        "colab_type": "text"
      },
      "source": [
        "### *cold_start*\n",
        "In the *cold_start* parameter, we specify how many iterations we give for this warm-up.\n",
        "before the algorithm starts searching for optimal parameters, it must collect statistics on the represented space.this is why it starts in the randomsample solution at the beginning. The longer it works in this mode , the less likely it is to get stuck in the local minimum. But if you take too long to warm up, you may not have time to search with a more \"smart\" algorithm. Therefore, it is important to maintain a balance. \n",
        "\n",
        "перед тем как алгоритм начинает поиск оптимальных параметров, он должен собрать статистику по представляемому пространству, по этому в начале он запускаеться в решиме randomsample. Чем дольше он проработает в этом режиме - тем меньше вероятность что он застрянет в локальном минимуме. Но если слишком долго делать прогрев - то может не остаться времени на поиск с более \"умным\" алгоритмом. Поэтому важно соблюдать баланс. В параметре cold_start указываем сколько итераций мы даем на этот прогрев. "
      ]
    },
    {
      "cell_type": "markdown",
      "metadata": {
        "id": "apIHobyxbV6F",
        "colab_type": "text"
      },
      "source": [
        "### *opt_lvl*\n",
        "by limiting the optimization time, we will have to choose how deep we should optimize the parameters. Perhaps some parameters are not so important and can only give a fraction of a percent. By setting the opt_lvl parameter, you control the depth of optimization.\n",
        "\n",
        "in the code *automl_alex.models.model_lightgbm.LightGBM* you can find how parameters are substituted for iteration:\n",
        "\n",
        "```python\n",
        "....\n",
        "def get_model_opt_params(self, trial, model, opt_lvl, len_data, metric_name,):\n",
        "        \"\"\"\n",
        "        Return:\n",
        "            dict of DistributionWrappers\n",
        "        \"\"\"\n",
        "        model_param = model._init_default_model_param()\n",
        "        ################################# LVL 1 ########################################\n",
        "        if opt_lvl == 1:\n",
        "            model_param['num_leaves'] = trial.suggest_int('lgbm_num_leaves', 2, 50,)\n",
        "            \n",
        "        if opt_lvl >= 1:\n",
        "            if len_data > 1000:\n",
        "                model_param['min_child_samples'] = trial.suggest_int('lgbm_min_child_samples', 2, \\\n",
        "                                                                        (len_data//100))\n",
        "            else:\n",
        "                model_param['min_child_samples'] = trial.suggest_int('lgbm_min_child_samples', 2, 7)\n",
        "\n",
        "        ################################# LVL 2 ########################################\n",
        "        if opt_lvl == 2:\n",
        "            model_param['learning_rate'] = trial.suggest_int('lgbm_learning_rate', 1, 11)/100\n",
        "            model_param['num_leaves'] = trial.suggest_int('lgbm_num_leaves', 2, 50,)\n",
        "            model_param['num_iterations'] = trial.suggest_int('lgbm_num_iterations', 1, 5,)*100\n",
        "\n",
        "        if opt_lvl >= 2:\n",
        "            model_param['bagging_fraction'] = trial.suggest_discrete_uniform('lgbm_bagging_fraction', 0.4, 1., 0.1)\n",
        "            if model_param['bagging_fraction'] < 1.:\n",
        "                model_param['feature_fraction'] = trial.suggest_discrete_uniform('lgbm_feature_fraction', 0.3, 1., 0.1)\n",
        "                model_param['bagging_freq'] = trial.suggest_int('lgbm_bagging_freq', 2, 11,)\n",
        "        \n",
        "        ################################# LVL 3 ########################################\n",
        "        if opt_lvl == 3:\n",
        "            model_param['learning_rate'] = trial.suggest_int('lgbm_learning_rate', 1, 100)/1000\n",
        "            model_param['num_iterations'] = trial.suggest_int('lgbm_num_iterations', 1, 11,)*100\n",
        "        \n",
        "        if opt_lvl >= 3:\n",
        "            model_param['num_leaves'] = trial.suggest_int('lgbm_num_leaves', 2, 100,)\n",
        "        \n",
        "        ################################# LVL 4 ########################################\n",
        "        if opt_lvl == 4:\n",
        "            model_param['learning_rate'] = trial.suggest_loguniform('lgbm_learning_rate', 1e-3, .1)\n",
        "\n",
        "        if opt_lvl >= 4:\n",
        "            model_param['boosting'] = trial.suggest_categorical('lgbm_boosting', ['gbdt', 'dart',])\n",
        "            if model_param['boosting'] == 'dart':\n",
        "                model_param['early_stopping_rounds'] = 0\n",
        "                model_param['uniform_drop'] = trial.suggest_categorical('lgbm_uniform_drop', [True, False])\n",
        "                model_param['xgboost_dart_mode'] = trial.suggest_categorical('lgbm_xgboost_dart_mode', [True, False])\n",
        "                model_param['drop_rate'] = trial.suggest_loguniform('lgbm_drop_rate', 1e-8, 1.0)\n",
        "                model_param['max_drop'] = trial.suggest_int('lgbm_max_drop', 0, 100)\n",
        "                model_param['skip_drop'] = trial.suggest_loguniform('lgbm_skip_drop', 1e-3, 1.0)\n",
        "\n",
        "            model_param['num_iterations'] = trial.suggest_int('lgbm_num_iterations', 1, 6,)*1000\n",
        "\n",
        "            if model.type_of_estimator == 'classifier':\n",
        "                model_param['objective'] = trial.suggest_categorical('lgbm_objective', \n",
        "                    [\n",
        "                    'binary', \n",
        "                    'cross_entropy',\n",
        "                    ])\n",
        "\n",
        "            elif model.type_of_estimator == 'regression':\n",
        "                model_param['objective'] = trial.suggest_categorical('lgbm_objective', \n",
        "                    [\n",
        "                    'regression',\n",
        "                    'regression_l1',\n",
        "                    'mape',\n",
        "                    'huber',\n",
        "                    'quantile',\n",
        "                    ])\n",
        "\n",
        "        ################################# LVL 5 ########################################\n",
        "        if opt_lvl >= 5:\n",
        "            model_param['max_cat_threshold'] = trial.suggest_int('lgbm_max_cat_threshold', 1, 100)\n",
        "            model_param['min_child_weight'] = trial.suggest_loguniform('lgbm_min_child_weight', 1e-6, 1.0)\n",
        "            model_param['learning_rate'] = trial.suggest_loguniform('lgbm_learning_rate', 1e-5, .1)\n",
        "            model_param['reg_lambda'] = trial.suggest_loguniform('lgbm_reg_lambda', 1e-8, 1.0)\n",
        "            model_param['reg_alpha'] = trial.suggest_loguniform('lgbm_reg_alpha', 1e-8, 1.0)\n",
        "            model_param['max_bin'] = trial.suggest_int('lgbm_max_bin', 1, 5,)*50\n",
        "            #self.model_param['extra_trees'] = trial.suggest_categorical('lgbm_extra_trees', [True, False])\n",
        "            model_param['enable_bundle'] = trial.suggest_categorical('lgbm_enable_bundle', [True, False])\n",
        "\n",
        "        ################################# Other ########################################\n",
        "        if model.type_of_estimator == 'classifier':\n",
        "            if metric_name not in ['roc_auc_score', 'log_loss', 'brier_score_loss']:\n",
        "                model_param['scale_pos_weight'] = trial.suggest_discrete_uniform('lgbm_scale_pos_weight', 0.1, 1., 0.1)\n",
        "\n",
        "        return(model_param)\n",
        "...\n",
        "```\n",
        "\n",
        "ограничивая время оптимизации, нам придется выбирать насколько глубоко мы должны оптимизировать параметры. Возможно некоторые параметры не так важны и могут дать лишь доли процента. Устанавливая параметр opt_lvl вы регулируете глубину оптимизации."
      ]
    },
    {
      "cell_type": "markdown",
      "metadata": {
        "id": "tl8zhvjVbV6G",
        "colab_type": "text"
      },
      "source": [
        "### *auto_parameters*\n",
        "If we don't want to select anything, we just set *auto_parameters=True*. Then the algorithm itself will select, depending on the time allotted to it, the optimal values for:\n",
        "* folds\n",
        "* score_folds\n",
        "* cold_start\n",
        "* opt_lvl\n",
        "\n",
        "Если мы не хотим ни чего подбирать, то просто устанавливаем auto_parameters=True. Тогда алгоритм сам подберет, в зависимости от выделенного ему времени, оптимальные значения этих параметров."
      ]
    },
    {
      "source": [
        "# Regression"
      ],
      "cell_type": "markdown",
      "metadata": {}
    },
    {
      "cell_type": "code",
      "execution_count": 35,
      "metadata": {},
      "outputs": [
        {
          "output_type": "execute_result",
          "data": {
            "text/plain": [
              "((430, 13), (76, 13))"
            ]
          },
          "metadata": {},
          "execution_count": 35
        }
      ],
      "source": [
        "from sklearn.datasets import load_boston\n",
        "data = load_boston()\n",
        "X_train, X_test, y_train, y_test = train_test_split(pd.DataFrame(data.data), \n",
        "                                                    pd.DataFrame(data.target), \n",
        "                                                    test_size=0.15, \n",
        "                                                    random_state=RANDOM_SEED,)\n",
        "\n",
        "X_train.shape, X_test.shape"
      ]
    },
    {
      "cell_type": "code",
      "execution_count": 36,
      "metadata": {},
      "outputs": [],
      "source": [
        "from automl_alex import LightGBM, LightGBMRegressor\n",
        "\n",
        "# We will use LightGBM for this dataset\n",
        "model = LightGBM(type_of_estimator='regression', random_state=RANDOM_SEED)\n",
        "\n",
        "# or Simply\n",
        "model = LightGBMRegressor(random_state=RANDOM_SEED)"
      ]
    },
    {
      "cell_type": "code",
      "execution_count": 37,
      "metadata": {},
      "outputs": [
        {
          "output_type": "stream",
          "name": "stdout",
          "text": [
            "Test MSE:  5.791601700931619\n"
          ]
        }
      ],
      "source": [
        "model = model.fit(X_train, y_train)\n",
        "predicts = model.predict(X_test)\n",
        "print('Test MSE: ', sklearn.metrics.mean_squared_error(y_test, predicts))"
      ]
    },
    {
      "cell_type": "code",
      "execution_count": 38,
      "metadata": {},
      "outputs": [
        {
          "output_type": "stream",
          "name": "stdout",
          "text": [
            "Optimize: : 145it [10:00,  4.14s/it,  | Model: LightGBM | OptScore: 0.7061 | Best mean_squared_error: 0.7061 +- 0.073893]\n"
          ]
        }
      ],
      "source": [
        "history = model.opt(X_train, y_train, timeout=600,)"
      ]
    },
    {
      "cell_type": "code",
      "execution_count": 39,
      "metadata": {},
      "outputs": [
        {
          "output_type": "execute_result",
          "data": {
            "text/plain": [
              "    score_opt  model_score  score_std model_name  \\\n",
              "25     0.7061       0.7061   0.073893   LightGBM   \n",
              "6      0.7080       0.7080   0.048595   LightGBM   \n",
              "8      0.7097       0.7097   0.047513   LightGBM   \n",
              "20     0.7108       0.7108   0.046799   LightGBM   \n",
              "40     0.7112       0.7112   0.039980   LightGBM   \n",
              "\n",
              "                                          model_param  \\\n",
              "25  {'random_seed': 42, 'num_iterations': 500, 've...   \n",
              "6   {'random_seed': 42, 'num_iterations': 400, 've...   \n",
              "8   {'random_seed': 42, 'num_iterations': 500, 've...   \n",
              "20  {'random_seed': 42, 'num_iterations': 600, 've...   \n",
              "40  {'random_seed': 42, 'num_iterations': 400, 've...   \n",
              "\n",
              "                                              columns  cv_folds  \n",
              "25  [checking_status, duration, credit_history, pu...        10  \n",
              "6   [checking_status, duration, credit_history, pu...        10  \n",
              "8   [checking_status, duration, credit_history, pu...        10  \n",
              "20  [checking_status, duration, credit_history, pu...        10  \n",
              "40  [checking_status, duration, credit_history, pu...        10  "
            ],
            "text/html": "<div>\n<style scoped>\n    .dataframe tbody tr th:only-of-type {\n        vertical-align: middle;\n    }\n\n    .dataframe tbody tr th {\n        vertical-align: top;\n    }\n\n    .dataframe thead th {\n        text-align: right;\n    }\n</style>\n<table border=\"1\" class=\"dataframe\">\n  <thead>\n    <tr style=\"text-align: right;\">\n      <th></th>\n      <th>score_opt</th>\n      <th>model_score</th>\n      <th>score_std</th>\n      <th>model_name</th>\n      <th>model_param</th>\n      <th>columns</th>\n      <th>cv_folds</th>\n    </tr>\n  </thead>\n  <tbody>\n    <tr>\n      <th>25</th>\n      <td>0.7061</td>\n      <td>0.7061</td>\n      <td>0.073893</td>\n      <td>LightGBM</td>\n      <td>{'random_seed': 42, 'num_iterations': 500, 've...</td>\n      <td>[checking_status, duration, credit_history, pu...</td>\n      <td>10</td>\n    </tr>\n    <tr>\n      <th>6</th>\n      <td>0.7080</td>\n      <td>0.7080</td>\n      <td>0.048595</td>\n      <td>LightGBM</td>\n      <td>{'random_seed': 42, 'num_iterations': 400, 've...</td>\n      <td>[checking_status, duration, credit_history, pu...</td>\n      <td>10</td>\n    </tr>\n    <tr>\n      <th>8</th>\n      <td>0.7097</td>\n      <td>0.7097</td>\n      <td>0.047513</td>\n      <td>LightGBM</td>\n      <td>{'random_seed': 42, 'num_iterations': 500, 've...</td>\n      <td>[checking_status, duration, credit_history, pu...</td>\n      <td>10</td>\n    </tr>\n    <tr>\n      <th>20</th>\n      <td>0.7108</td>\n      <td>0.7108</td>\n      <td>0.046799</td>\n      <td>LightGBM</td>\n      <td>{'random_seed': 42, 'num_iterations': 600, 've...</td>\n      <td>[checking_status, duration, credit_history, pu...</td>\n      <td>10</td>\n    </tr>\n    <tr>\n      <th>40</th>\n      <td>0.7112</td>\n      <td>0.7112</td>\n      <td>0.039980</td>\n      <td>LightGBM</td>\n      <td>{'random_seed': 42, 'num_iterations': 400, 've...</td>\n      <td>[checking_status, duration, credit_history, pu...</td>\n      <td>10</td>\n    </tr>\n  </tbody>\n</table>\n</div>"
          },
          "metadata": {},
          "execution_count": 39
        }
      ],
      "source": [
        "history.head(5)"
      ]
    },
    {
      "cell_type": "code",
      "execution_count": 40,
      "metadata": {},
      "outputs": [
        {
          "output_type": "display_data",
          "data": {
            "text/plain": "<Figure size 1080x360 with 2 Axes>",
            "image/svg+xml": "<?xml version=\"1.0\" encoding=\"utf-8\" standalone=\"no\"?>\n<!DOCTYPE svg PUBLIC \"-//W3C//DTD SVG 1.1//EN\"\n  \"http://www.w3.org/Graphics/SVG/1.1/DTD/svg11.dtd\">\n<!-- Created with matplotlib (https://matplotlib.org/) -->\n<svg height=\"331.674375pt\" version=\"1.1\" viewBox=\"0 0 792.568125 331.674375\" width=\"792.568125pt\" xmlns=\"http://www.w3.org/2000/svg\" xmlns:xlink=\"http://www.w3.org/1999/xlink\">\n <defs>\n  <style type=\"text/css\">\n*{stroke-linecap:butt;stroke-linejoin:round;}\n  </style>\n </defs>\n <g id=\"figure_1\">\n  <g id=\"patch_1\">\n   <path d=\"M 0 331.674375 \nL 792.568125 331.674375 \nL 792.568125 0 \nL 0 0 \nz\n\" style=\"fill:#ffffff;\"/>\n  </g>\n  <g id=\"axes_1\">\n   <g id=\"patch_2\">\n    <path d=\"M 40.603125 294.118125 \nL 710.203125 294.118125 \nL 710.203125 22.318125 \nL 40.603125 22.318125 \nz\n\" style=\"fill:#eaeaf2;\"/>\n   </g>\n   <g id=\"matplotlib.axis_1\">\n    <g id=\"xtick_1\">\n     <g id=\"line2d_1\">\n      <path clip-path=\"url(#p47f3a2e8f3)\" d=\"M 71.039489 294.118125 \nL 71.039489 22.318125 \n\" style=\"fill:none;stroke:#ffffff;stroke-linecap:round;stroke-width:0.8;\"/>\n     </g>\n     <g id=\"text_1\">\n      <!-- 0 -->\n      <defs>\n       <path d=\"M 31.78125 66.40625 \nQ 24.171875 66.40625 20.328125 58.90625 \nQ 16.5 51.421875 16.5 36.375 \nQ 16.5 21.390625 20.328125 13.890625 \nQ 24.171875 6.390625 31.78125 6.390625 \nQ 39.453125 6.390625 43.28125 13.890625 \nQ 47.125 21.390625 47.125 36.375 \nQ 47.125 51.421875 43.28125 58.90625 \nQ 39.453125 66.40625 31.78125 66.40625 \nz\nM 31.78125 74.21875 \nQ 44.046875 74.21875 50.515625 64.515625 \nQ 56.984375 54.828125 56.984375 36.375 \nQ 56.984375 17.96875 50.515625 8.265625 \nQ 44.046875 -1.421875 31.78125 -1.421875 \nQ 19.53125 -1.421875 13.0625 8.265625 \nQ 6.59375 17.96875 6.59375 36.375 \nQ 6.59375 54.828125 13.0625 64.515625 \nQ 19.53125 74.21875 31.78125 74.21875 \nz\n\" id=\"DejaVuSans-48\"/>\n      </defs>\n      <g style=\"fill:#262626;\" transform=\"translate(67.858239 308.716563)scale(0.1 -0.1)\">\n       <use xlink:href=\"#DejaVuSans-48\"/>\n      </g>\n     </g>\n    </g>\n    <g id=\"xtick_2\">\n     <g id=\"line2d_2\">\n      <path clip-path=\"url(#p47f3a2e8f3)\" d=\"M 150.300852 294.118125 \nL 150.300852 22.318125 \n\" style=\"fill:none;stroke:#ffffff;stroke-linecap:round;stroke-width:0.8;\"/>\n     </g>\n     <g id=\"text_2\">\n      <!-- 50 -->\n      <defs>\n       <path d=\"M 10.796875 72.90625 \nL 49.515625 72.90625 \nL 49.515625 64.59375 \nL 19.828125 64.59375 \nL 19.828125 46.734375 \nQ 21.96875 47.46875 24.109375 47.828125 \nQ 26.265625 48.1875 28.421875 48.1875 \nQ 40.625 48.1875 47.75 41.5 \nQ 54.890625 34.8125 54.890625 23.390625 \nQ 54.890625 11.625 47.5625 5.09375 \nQ 40.234375 -1.421875 26.90625 -1.421875 \nQ 22.3125 -1.421875 17.546875 -0.640625 \nQ 12.796875 0.140625 7.71875 1.703125 \nL 7.71875 11.625 \nQ 12.109375 9.234375 16.796875 8.0625 \nQ 21.484375 6.890625 26.703125 6.890625 \nQ 35.15625 6.890625 40.078125 11.328125 \nQ 45.015625 15.765625 45.015625 23.390625 \nQ 45.015625 31 40.078125 35.4375 \nQ 35.15625 39.890625 26.703125 39.890625 \nQ 22.75 39.890625 18.8125 39.015625 \nQ 14.890625 38.140625 10.796875 36.28125 \nz\n\" id=\"DejaVuSans-53\"/>\n      </defs>\n      <g style=\"fill:#262626;\" transform=\"translate(143.938352 308.716563)scale(0.1 -0.1)\">\n       <use xlink:href=\"#DejaVuSans-53\"/>\n       <use x=\"63.623047\" xlink:href=\"#DejaVuSans-48\"/>\n      </g>\n     </g>\n    </g>\n    <g id=\"xtick_3\">\n     <g id=\"line2d_3\">\n      <path clip-path=\"url(#p47f3a2e8f3)\" d=\"M 229.562216 294.118125 \nL 229.562216 22.318125 \n\" style=\"fill:none;stroke:#ffffff;stroke-linecap:round;stroke-width:0.8;\"/>\n     </g>\n     <g id=\"text_3\">\n      <!-- 100 -->\n      <defs>\n       <path d=\"M 12.40625 8.296875 \nL 28.515625 8.296875 \nL 28.515625 63.921875 \nL 10.984375 60.40625 \nL 10.984375 69.390625 \nL 28.421875 72.90625 \nL 38.28125 72.90625 \nL 38.28125 8.296875 \nL 54.390625 8.296875 \nL 54.390625 0 \nL 12.40625 0 \nz\n\" id=\"DejaVuSans-49\"/>\n      </defs>\n      <g style=\"fill:#262626;\" transform=\"translate(220.018466 308.716563)scale(0.1 -0.1)\">\n       <use xlink:href=\"#DejaVuSans-49\"/>\n       <use x=\"63.623047\" xlink:href=\"#DejaVuSans-48\"/>\n       <use x=\"127.246094\" xlink:href=\"#DejaVuSans-48\"/>\n      </g>\n     </g>\n    </g>\n    <g id=\"xtick_4\">\n     <g id=\"line2d_4\">\n      <path clip-path=\"url(#p47f3a2e8f3)\" d=\"M 308.82358 294.118125 \nL 308.82358 22.318125 \n\" style=\"fill:none;stroke:#ffffff;stroke-linecap:round;stroke-width:0.8;\"/>\n     </g>\n     <g id=\"text_4\">\n      <!-- 150 -->\n      <g style=\"fill:#262626;\" transform=\"translate(299.27983 308.716563)scale(0.1 -0.1)\">\n       <use xlink:href=\"#DejaVuSans-49\"/>\n       <use x=\"63.623047\" xlink:href=\"#DejaVuSans-53\"/>\n       <use x=\"127.246094\" xlink:href=\"#DejaVuSans-48\"/>\n      </g>\n     </g>\n    </g>\n    <g id=\"xtick_5\">\n     <g id=\"line2d_5\">\n      <path clip-path=\"url(#p47f3a2e8f3)\" d=\"M 388.084943 294.118125 \nL 388.084943 22.318125 \n\" style=\"fill:none;stroke:#ffffff;stroke-linecap:round;stroke-width:0.8;\"/>\n     </g>\n     <g id=\"text_5\">\n      <!-- 200 -->\n      <defs>\n       <path d=\"M 19.1875 8.296875 \nL 53.609375 8.296875 \nL 53.609375 0 \nL 7.328125 0 \nL 7.328125 8.296875 \nQ 12.9375 14.109375 22.625 23.890625 \nQ 32.328125 33.6875 34.8125 36.53125 \nQ 39.546875 41.84375 41.421875 45.53125 \nQ 43.3125 49.21875 43.3125 52.78125 \nQ 43.3125 58.59375 39.234375 62.25 \nQ 35.15625 65.921875 28.609375 65.921875 \nQ 23.96875 65.921875 18.8125 64.3125 \nQ 13.671875 62.703125 7.8125 59.421875 \nL 7.8125 69.390625 \nQ 13.765625 71.78125 18.9375 73 \nQ 24.125 74.21875 28.421875 74.21875 \nQ 39.75 74.21875 46.484375 68.546875 \nQ 53.21875 62.890625 53.21875 53.421875 \nQ 53.21875 48.921875 51.53125 44.890625 \nQ 49.859375 40.875 45.40625 35.40625 \nQ 44.1875 33.984375 37.640625 27.21875 \nQ 31.109375 20.453125 19.1875 8.296875 \nz\n\" id=\"DejaVuSans-50\"/>\n      </defs>\n      <g style=\"fill:#262626;\" transform=\"translate(378.541193 308.716563)scale(0.1 -0.1)\">\n       <use xlink:href=\"#DejaVuSans-50\"/>\n       <use x=\"63.623047\" xlink:href=\"#DejaVuSans-48\"/>\n       <use x=\"127.246094\" xlink:href=\"#DejaVuSans-48\"/>\n      </g>\n     </g>\n    </g>\n    <g id=\"xtick_6\">\n     <g id=\"line2d_6\">\n      <path clip-path=\"url(#p47f3a2e8f3)\" d=\"M 467.346307 294.118125 \nL 467.346307 22.318125 \n\" style=\"fill:none;stroke:#ffffff;stroke-linecap:round;stroke-width:0.8;\"/>\n     </g>\n     <g id=\"text_6\">\n      <!-- 250 -->\n      <g style=\"fill:#262626;\" transform=\"translate(457.802557 308.716563)scale(0.1 -0.1)\">\n       <use xlink:href=\"#DejaVuSans-50\"/>\n       <use x=\"63.623047\" xlink:href=\"#DejaVuSans-53\"/>\n       <use x=\"127.246094\" xlink:href=\"#DejaVuSans-48\"/>\n      </g>\n     </g>\n    </g>\n    <g id=\"xtick_7\">\n     <g id=\"line2d_7\">\n      <path clip-path=\"url(#p47f3a2e8f3)\" d=\"M 546.60767 294.118125 \nL 546.60767 22.318125 \n\" style=\"fill:none;stroke:#ffffff;stroke-linecap:round;stroke-width:0.8;\"/>\n     </g>\n     <g id=\"text_7\">\n      <!-- 300 -->\n      <defs>\n       <path d=\"M 40.578125 39.3125 \nQ 47.65625 37.796875 51.625 33 \nQ 55.609375 28.21875 55.609375 21.1875 \nQ 55.609375 10.40625 48.1875 4.484375 \nQ 40.765625 -1.421875 27.09375 -1.421875 \nQ 22.515625 -1.421875 17.65625 -0.515625 \nQ 12.796875 0.390625 7.625 2.203125 \nL 7.625 11.71875 \nQ 11.71875 9.328125 16.59375 8.109375 \nQ 21.484375 6.890625 26.8125 6.890625 \nQ 36.078125 6.890625 40.9375 10.546875 \nQ 45.796875 14.203125 45.796875 21.1875 \nQ 45.796875 27.640625 41.28125 31.265625 \nQ 36.765625 34.90625 28.71875 34.90625 \nL 20.21875 34.90625 \nL 20.21875 43.015625 \nL 29.109375 43.015625 \nQ 36.375 43.015625 40.234375 45.921875 \nQ 44.09375 48.828125 44.09375 54.296875 \nQ 44.09375 59.90625 40.109375 62.90625 \nQ 36.140625 65.921875 28.71875 65.921875 \nQ 24.65625 65.921875 20.015625 65.03125 \nQ 15.375 64.15625 9.8125 62.3125 \nL 9.8125 71.09375 \nQ 15.4375 72.65625 20.34375 73.4375 \nQ 25.25 74.21875 29.59375 74.21875 \nQ 40.828125 74.21875 47.359375 69.109375 \nQ 53.90625 64.015625 53.90625 55.328125 \nQ 53.90625 49.265625 50.4375 45.09375 \nQ 46.96875 40.921875 40.578125 39.3125 \nz\n\" id=\"DejaVuSans-51\"/>\n      </defs>\n      <g style=\"fill:#262626;\" transform=\"translate(537.06392 308.716563)scale(0.1 -0.1)\">\n       <use xlink:href=\"#DejaVuSans-51\"/>\n       <use x=\"63.623047\" xlink:href=\"#DejaVuSans-48\"/>\n       <use x=\"127.246094\" xlink:href=\"#DejaVuSans-48\"/>\n      </g>\n     </g>\n    </g>\n    <g id=\"xtick_8\">\n     <g id=\"line2d_8\">\n      <path clip-path=\"url(#p47f3a2e8f3)\" d=\"M 625.869034 294.118125 \nL 625.869034 22.318125 \n\" style=\"fill:none;stroke:#ffffff;stroke-linecap:round;stroke-width:0.8;\"/>\n     </g>\n     <g id=\"text_8\">\n      <!-- 350 -->\n      <g style=\"fill:#262626;\" transform=\"translate(616.325284 308.716563)scale(0.1 -0.1)\">\n       <use xlink:href=\"#DejaVuSans-51\"/>\n       <use x=\"63.623047\" xlink:href=\"#DejaVuSans-53\"/>\n       <use x=\"127.246094\" xlink:href=\"#DejaVuSans-48\"/>\n      </g>\n     </g>\n    </g>\n    <g id=\"xtick_9\">\n     <g id=\"line2d_9\">\n      <path clip-path=\"url(#p47f3a2e8f3)\" d=\"M 705.130398 294.118125 \nL 705.130398 22.318125 \n\" style=\"fill:none;stroke:#ffffff;stroke-linecap:round;stroke-width:0.8;\"/>\n     </g>\n     <g id=\"text_9\">\n      <!-- 400 -->\n      <defs>\n       <path d=\"M 37.796875 64.3125 \nL 12.890625 25.390625 \nL 37.796875 25.390625 \nz\nM 35.203125 72.90625 \nL 47.609375 72.90625 \nL 47.609375 25.390625 \nL 58.015625 25.390625 \nL 58.015625 17.1875 \nL 47.609375 17.1875 \nL 47.609375 0 \nL 37.796875 0 \nL 37.796875 17.1875 \nL 4.890625 17.1875 \nL 4.890625 26.703125 \nz\n\" id=\"DejaVuSans-52\"/>\n      </defs>\n      <g style=\"fill:#262626;\" transform=\"translate(695.586648 308.716563)scale(0.1 -0.1)\">\n       <use xlink:href=\"#DejaVuSans-52\"/>\n       <use x=\"63.623047\" xlink:href=\"#DejaVuSans-48\"/>\n       <use x=\"127.246094\" xlink:href=\"#DejaVuSans-48\"/>\n      </g>\n     </g>\n    </g>\n    <g id=\"text_10\">\n     <!-- Iter -->\n     <defs>\n      <path d=\"M 9.8125 72.90625 \nL 19.671875 72.90625 \nL 19.671875 0 \nL 9.8125 0 \nz\n\" id=\"DejaVuSans-73\"/>\n      <path d=\"M 18.3125 70.21875 \nL 18.3125 54.6875 \nL 36.8125 54.6875 \nL 36.8125 47.703125 \nL 18.3125 47.703125 \nL 18.3125 18.015625 \nQ 18.3125 11.328125 20.140625 9.421875 \nQ 21.96875 7.515625 27.59375 7.515625 \nL 36.8125 7.515625 \nL 36.8125 0 \nL 27.59375 0 \nQ 17.1875 0 13.234375 3.875 \nQ 9.28125 7.765625 9.28125 18.015625 \nL 9.28125 47.703125 \nL 2.6875 47.703125 \nL 2.6875 54.6875 \nL 9.28125 54.6875 \nL 9.28125 70.21875 \nz\n\" id=\"DejaVuSans-116\"/>\n      <path d=\"M 56.203125 29.59375 \nL 56.203125 25.203125 \nL 14.890625 25.203125 \nQ 15.484375 15.921875 20.484375 11.0625 \nQ 25.484375 6.203125 34.421875 6.203125 \nQ 39.59375 6.203125 44.453125 7.46875 \nQ 49.3125 8.734375 54.109375 11.28125 \nL 54.109375 2.78125 \nQ 49.265625 0.734375 44.1875 -0.34375 \nQ 39.109375 -1.421875 33.890625 -1.421875 \nQ 20.796875 -1.421875 13.15625 6.1875 \nQ 5.515625 13.8125 5.515625 26.8125 \nQ 5.515625 40.234375 12.765625 48.109375 \nQ 20.015625 56 32.328125 56 \nQ 43.359375 56 49.78125 48.890625 \nQ 56.203125 41.796875 56.203125 29.59375 \nz\nM 47.21875 32.234375 \nQ 47.125 39.59375 43.09375 43.984375 \nQ 39.0625 48.390625 32.421875 48.390625 \nQ 24.90625 48.390625 20.390625 44.140625 \nQ 15.875 39.890625 15.1875 32.171875 \nz\n\" id=\"DejaVuSans-101\"/>\n      <path d=\"M 41.109375 46.296875 \nQ 39.59375 47.171875 37.8125 47.578125 \nQ 36.03125 48 33.890625 48 \nQ 26.265625 48 22.1875 43.046875 \nQ 18.109375 38.09375 18.109375 28.8125 \nL 18.109375 0 \nL 9.078125 0 \nL 9.078125 54.6875 \nL 18.109375 54.6875 \nL 18.109375 46.1875 \nQ 20.953125 51.171875 25.484375 53.578125 \nQ 30.03125 56 36.53125 56 \nQ 37.453125 56 38.578125 55.875 \nQ 39.703125 55.765625 41.0625 55.515625 \nz\n\" id=\"DejaVuSans-114\"/>\n     </defs>\n     <g style=\"fill:#262626;\" transform=\"translate(366.835938 322.394687)scale(0.1 -0.1)\">\n      <use xlink:href=\"#DejaVuSans-73\"/>\n      <use x=\"29.492188\" xlink:href=\"#DejaVuSans-116\"/>\n      <use x=\"68.701172\" xlink:href=\"#DejaVuSans-101\"/>\n      <use x=\"130.224609\" xlink:href=\"#DejaVuSans-114\"/>\n     </g>\n    </g>\n   </g>\n   <g id=\"matplotlib.axis_2\">\n    <g id=\"ytick_1\">\n     <g id=\"line2d_10\">\n      <path clip-path=\"url(#p47f3a2e8f3)\" d=\"M 40.603125 292.550834 \nL 710.203125 292.550834 \n\" style=\"fill:none;stroke:#ffffff;stroke-linecap:round;stroke-width:0.8;\"/>\n     </g>\n     <g id=\"text_11\">\n      <!-- 0 -->\n      <g style=\"fill:#262626;\" transform=\"translate(27.240625 296.350052)scale(0.1 -0.1)\">\n       <use xlink:href=\"#DejaVuSans-48\"/>\n      </g>\n     </g>\n    </g>\n    <g id=\"ytick_2\">\n     <g id=\"line2d_11\">\n      <path clip-path=\"url(#p47f3a2e8f3)\" d=\"M 40.603125 261.996368 \nL 710.203125 261.996368 \n\" style=\"fill:none;stroke:#ffffff;stroke-linecap:round;stroke-width:0.8;\"/>\n     </g>\n     <g id=\"text_12\">\n      <!-- 2 -->\n      <g style=\"fill:#262626;\" transform=\"translate(27.240625 265.795587)scale(0.1 -0.1)\">\n       <use xlink:href=\"#DejaVuSans-50\"/>\n      </g>\n     </g>\n    </g>\n    <g id=\"ytick_3\">\n     <g id=\"line2d_12\">\n      <path clip-path=\"url(#p47f3a2e8f3)\" d=\"M 40.603125 231.441902 \nL 710.203125 231.441902 \n\" style=\"fill:none;stroke:#ffffff;stroke-linecap:round;stroke-width:0.8;\"/>\n     </g>\n     <g id=\"text_13\">\n      <!-- 4 -->\n      <g style=\"fill:#262626;\" transform=\"translate(27.240625 235.241121)scale(0.1 -0.1)\">\n       <use xlink:href=\"#DejaVuSans-52\"/>\n      </g>\n     </g>\n    </g>\n    <g id=\"ytick_4\">\n     <g id=\"line2d_13\">\n      <path clip-path=\"url(#p47f3a2e8f3)\" d=\"M 40.603125 200.887436 \nL 710.203125 200.887436 \n\" style=\"fill:none;stroke:#ffffff;stroke-linecap:round;stroke-width:0.8;\"/>\n     </g>\n     <g id=\"text_14\">\n      <!-- 6 -->\n      <defs>\n       <path d=\"M 33.015625 40.375 \nQ 26.375 40.375 22.484375 35.828125 \nQ 18.609375 31.296875 18.609375 23.390625 \nQ 18.609375 15.53125 22.484375 10.953125 \nQ 26.375 6.390625 33.015625 6.390625 \nQ 39.65625 6.390625 43.53125 10.953125 \nQ 47.40625 15.53125 47.40625 23.390625 \nQ 47.40625 31.296875 43.53125 35.828125 \nQ 39.65625 40.375 33.015625 40.375 \nz\nM 52.59375 71.296875 \nL 52.59375 62.3125 \nQ 48.875 64.0625 45.09375 64.984375 \nQ 41.3125 65.921875 37.59375 65.921875 \nQ 27.828125 65.921875 22.671875 59.328125 \nQ 17.53125 52.734375 16.796875 39.40625 \nQ 19.671875 43.65625 24.015625 45.921875 \nQ 28.375 48.1875 33.59375 48.1875 \nQ 44.578125 48.1875 50.953125 41.515625 \nQ 57.328125 34.859375 57.328125 23.390625 \nQ 57.328125 12.15625 50.6875 5.359375 \nQ 44.046875 -1.421875 33.015625 -1.421875 \nQ 20.359375 -1.421875 13.671875 8.265625 \nQ 6.984375 17.96875 6.984375 36.375 \nQ 6.984375 53.65625 15.1875 63.9375 \nQ 23.390625 74.21875 37.203125 74.21875 \nQ 40.921875 74.21875 44.703125 73.484375 \nQ 48.484375 72.75 52.59375 71.296875 \nz\n\" id=\"DejaVuSans-54\"/>\n      </defs>\n      <g style=\"fill:#262626;\" transform=\"translate(27.240625 204.686655)scale(0.1 -0.1)\">\n       <use xlink:href=\"#DejaVuSans-54\"/>\n      </g>\n     </g>\n    </g>\n    <g id=\"ytick_5\">\n     <g id=\"line2d_14\">\n      <path clip-path=\"url(#p47f3a2e8f3)\" d=\"M 40.603125 170.332971 \nL 710.203125 170.332971 \n\" style=\"fill:none;stroke:#ffffff;stroke-linecap:round;stroke-width:0.8;\"/>\n     </g>\n     <g id=\"text_15\">\n      <!-- 8 -->\n      <defs>\n       <path d=\"M 31.78125 34.625 \nQ 24.75 34.625 20.71875 30.859375 \nQ 16.703125 27.09375 16.703125 20.515625 \nQ 16.703125 13.921875 20.71875 10.15625 \nQ 24.75 6.390625 31.78125 6.390625 \nQ 38.8125 6.390625 42.859375 10.171875 \nQ 46.921875 13.96875 46.921875 20.515625 \nQ 46.921875 27.09375 42.890625 30.859375 \nQ 38.875 34.625 31.78125 34.625 \nz\nM 21.921875 38.8125 \nQ 15.578125 40.375 12.03125 44.71875 \nQ 8.5 49.078125 8.5 55.328125 \nQ 8.5 64.0625 14.71875 69.140625 \nQ 20.953125 74.21875 31.78125 74.21875 \nQ 42.671875 74.21875 48.875 69.140625 \nQ 55.078125 64.0625 55.078125 55.328125 \nQ 55.078125 49.078125 51.53125 44.71875 \nQ 48 40.375 41.703125 38.8125 \nQ 48.828125 37.15625 52.796875 32.3125 \nQ 56.78125 27.484375 56.78125 20.515625 \nQ 56.78125 9.90625 50.3125 4.234375 \nQ 43.84375 -1.421875 31.78125 -1.421875 \nQ 19.734375 -1.421875 13.25 4.234375 \nQ 6.78125 9.90625 6.78125 20.515625 \nQ 6.78125 27.484375 10.78125 32.3125 \nQ 14.796875 37.15625 21.921875 38.8125 \nz\nM 18.3125 54.390625 \nQ 18.3125 48.734375 21.84375 45.5625 \nQ 25.390625 42.390625 31.78125 42.390625 \nQ 38.140625 42.390625 41.71875 45.5625 \nQ 45.3125 48.734375 45.3125 54.390625 \nQ 45.3125 60.0625 41.71875 63.234375 \nQ 38.140625 66.40625 31.78125 66.40625 \nQ 25.390625 66.40625 21.84375 63.234375 \nQ 18.3125 60.0625 18.3125 54.390625 \nz\n\" id=\"DejaVuSans-56\"/>\n      </defs>\n      <g style=\"fill:#262626;\" transform=\"translate(27.240625 174.132189)scale(0.1 -0.1)\">\n       <use xlink:href=\"#DejaVuSans-56\"/>\n      </g>\n     </g>\n    </g>\n    <g id=\"ytick_6\">\n     <g id=\"line2d_15\">\n      <path clip-path=\"url(#p47f3a2e8f3)\" d=\"M 40.603125 139.778505 \nL 710.203125 139.778505 \n\" style=\"fill:none;stroke:#ffffff;stroke-linecap:round;stroke-width:0.8;\"/>\n     </g>\n     <g id=\"text_16\">\n      <!-- 10 -->\n      <g style=\"fill:#262626;\" transform=\"translate(20.878125 143.577724)scale(0.1 -0.1)\">\n       <use xlink:href=\"#DejaVuSans-49\"/>\n       <use x=\"63.623047\" xlink:href=\"#DejaVuSans-48\"/>\n      </g>\n     </g>\n    </g>\n    <g id=\"ytick_7\">\n     <g id=\"line2d_16\">\n      <path clip-path=\"url(#p47f3a2e8f3)\" d=\"M 40.603125 109.224039 \nL 710.203125 109.224039 \n\" style=\"fill:none;stroke:#ffffff;stroke-linecap:round;stroke-width:0.8;\"/>\n     </g>\n     <g id=\"text_17\">\n      <!-- 12 -->\n      <g style=\"fill:#262626;\" transform=\"translate(20.878125 113.023258)scale(0.1 -0.1)\">\n       <use xlink:href=\"#DejaVuSans-49\"/>\n       <use x=\"63.623047\" xlink:href=\"#DejaVuSans-50\"/>\n      </g>\n     </g>\n    </g>\n    <g id=\"ytick_8\">\n     <g id=\"line2d_17\">\n      <path clip-path=\"url(#p47f3a2e8f3)\" d=\"M 40.603125 78.669573 \nL 710.203125 78.669573 \n\" style=\"fill:none;stroke:#ffffff;stroke-linecap:round;stroke-width:0.8;\"/>\n     </g>\n     <g id=\"text_18\">\n      <!-- 14 -->\n      <g style=\"fill:#262626;\" transform=\"translate(20.878125 82.468792)scale(0.1 -0.1)\">\n       <use xlink:href=\"#DejaVuSans-49\"/>\n       <use x=\"63.623047\" xlink:href=\"#DejaVuSans-52\"/>\n      </g>\n     </g>\n    </g>\n    <g id=\"ytick_9\">\n     <g id=\"line2d_18\">\n      <path clip-path=\"url(#p47f3a2e8f3)\" d=\"M 40.603125 48.115108 \nL 710.203125 48.115108 \n\" style=\"fill:none;stroke:#ffffff;stroke-linecap:round;stroke-width:0.8;\"/>\n     </g>\n     <g id=\"text_19\">\n      <!-- 16 -->\n      <g style=\"fill:#262626;\" transform=\"translate(20.878125 51.914326)scale(0.1 -0.1)\">\n       <use xlink:href=\"#DejaVuSans-49\"/>\n       <use x=\"63.623047\" xlink:href=\"#DejaVuSans-54\"/>\n      </g>\n     </g>\n    </g>\n    <g id=\"text_20\">\n     <!-- Score -->\n     <defs>\n      <path d=\"M 53.515625 70.515625 \nL 53.515625 60.890625 \nQ 47.90625 63.578125 42.921875 64.890625 \nQ 37.9375 66.21875 33.296875 66.21875 \nQ 25.25 66.21875 20.875 63.09375 \nQ 16.5 59.96875 16.5 54.203125 \nQ 16.5 49.359375 19.40625 46.890625 \nQ 22.3125 44.4375 30.421875 42.921875 \nL 36.375 41.703125 \nQ 47.40625 39.59375 52.65625 34.296875 \nQ 57.90625 29 57.90625 20.125 \nQ 57.90625 9.515625 50.796875 4.046875 \nQ 43.703125 -1.421875 29.984375 -1.421875 \nQ 24.8125 -1.421875 18.96875 -0.25 \nQ 13.140625 0.921875 6.890625 3.21875 \nL 6.890625 13.375 \nQ 12.890625 10.015625 18.65625 8.296875 \nQ 24.421875 6.59375 29.984375 6.59375 \nQ 38.421875 6.59375 43.015625 9.90625 \nQ 47.609375 13.234375 47.609375 19.390625 \nQ 47.609375 24.75 44.3125 27.78125 \nQ 41.015625 30.8125 33.5 32.328125 \nL 27.484375 33.5 \nQ 16.453125 35.6875 11.515625 40.375 \nQ 6.59375 45.0625 6.59375 53.421875 \nQ 6.59375 63.09375 13.40625 68.65625 \nQ 20.21875 74.21875 32.171875 74.21875 \nQ 37.3125 74.21875 42.625 73.28125 \nQ 47.953125 72.359375 53.515625 70.515625 \nz\n\" id=\"DejaVuSans-83\"/>\n      <path d=\"M 48.78125 52.59375 \nL 48.78125 44.1875 \nQ 44.96875 46.296875 41.140625 47.34375 \nQ 37.3125 48.390625 33.40625 48.390625 \nQ 24.65625 48.390625 19.8125 42.84375 \nQ 14.984375 37.3125 14.984375 27.296875 \nQ 14.984375 17.28125 19.8125 11.734375 \nQ 24.65625 6.203125 33.40625 6.203125 \nQ 37.3125 6.203125 41.140625 7.25 \nQ 44.96875 8.296875 48.78125 10.40625 \nL 48.78125 2.09375 \nQ 45.015625 0.34375 40.984375 -0.53125 \nQ 36.96875 -1.421875 32.421875 -1.421875 \nQ 20.0625 -1.421875 12.78125 6.34375 \nQ 5.515625 14.109375 5.515625 27.296875 \nQ 5.515625 40.671875 12.859375 48.328125 \nQ 20.21875 56 33.015625 56 \nQ 37.15625 56 41.109375 55.140625 \nQ 45.0625 54.296875 48.78125 52.59375 \nz\n\" id=\"DejaVuSans-99\"/>\n      <path d=\"M 30.609375 48.390625 \nQ 23.390625 48.390625 19.1875 42.75 \nQ 14.984375 37.109375 14.984375 27.296875 \nQ 14.984375 17.484375 19.15625 11.84375 \nQ 23.34375 6.203125 30.609375 6.203125 \nQ 37.796875 6.203125 41.984375 11.859375 \nQ 46.1875 17.53125 46.1875 27.296875 \nQ 46.1875 37.015625 41.984375 42.703125 \nQ 37.796875 48.390625 30.609375 48.390625 \nz\nM 30.609375 56 \nQ 42.328125 56 49.015625 48.375 \nQ 55.71875 40.765625 55.71875 27.296875 \nQ 55.71875 13.875 49.015625 6.21875 \nQ 42.328125 -1.421875 30.609375 -1.421875 \nQ 18.84375 -1.421875 12.171875 6.21875 \nQ 5.515625 13.875 5.515625 27.296875 \nQ 5.515625 40.765625 12.171875 48.375 \nQ 18.84375 56 30.609375 56 \nz\n\" id=\"DejaVuSans-111\"/>\n     </defs>\n     <g style=\"fill:#262626;\" transform=\"translate(14.798438 172.220469)rotate(-90)scale(0.1 -0.1)\">\n      <use xlink:href=\"#DejaVuSans-83\"/>\n      <use x=\"63.476562\" xlink:href=\"#DejaVuSans-99\"/>\n      <use x=\"118.457031\" xlink:href=\"#DejaVuSans-111\"/>\n      <use x=\"179.638672\" xlink:href=\"#DejaVuSans-114\"/>\n      <use x=\"218.501953\" xlink:href=\"#DejaVuSans-101\"/>\n     </g>\n    </g>\n   </g>\n   <g id=\"PathCollection_1\">\n    <defs>\n     <path d=\"M 0 2.5 \nC 0.663008 2.5 1.29895 2.236584 1.767767 1.767767 \nC 2.236584 1.29895 2.5 0.663008 2.5 0 \nC 2.5 -0.663008 2.236584 -1.29895 1.767767 -1.767767 \nC 1.29895 -2.236584 0.663008 -2.5 0 -2.5 \nC -0.663008 -2.5 -1.29895 -2.236584 -1.767767 -1.767767 \nC -2.236584 -1.29895 -2.5 -0.663008 -2.5 0 \nC -2.5 0.663008 -2.236584 1.29895 -1.767767 1.767767 \nC -1.29895 2.236584 -0.663008 2.5 0 2.5 \nz\n\" id=\"C0_0_e937f91192\"/>\n    </defs>\n    <g clip-path=\"url(#p47f3a2e8f3)\">\n     <use style=\"fill:#3b4cc0;stroke:#3b4cc0;\" x=\"71.039489\" xlink:href=\"#C0_0_e937f91192\" y=\"281.289985\"/>\n    </g>\n    <g clip-path=\"url(#p47f3a2e8f3)\">\n     <use style=\"fill:#3b4cc0;stroke:#3b4cc0;\" x=\"72.624716\" xlink:href=\"#C0_0_e937f91192\" y=\"281.560392\"/>\n    </g>\n    <g clip-path=\"url(#p47f3a2e8f3)\">\n     <use style=\"fill:#3b4cc0;stroke:#3b4cc0;\" x=\"74.209943\" xlink:href=\"#C0_0_e937f91192\" y=\"281.319012\"/>\n    </g>\n    <g clip-path=\"url(#p47f3a2e8f3)\">\n     <use style=\"fill:#3b4cc0;stroke:#3b4cc0;\" x=\"75.79517\" xlink:href=\"#C0_0_e937f91192\" y=\"281.456507\"/>\n    </g>\n    <g clip-path=\"url(#p47f3a2e8f3)\">\n     <use style=\"fill:#3b4cc0;stroke:#3b4cc0;\" x=\"77.380398\" xlink:href=\"#C0_0_e937f91192\" y=\"281.338872\"/>\n    </g>\n    <g clip-path=\"url(#p47f3a2e8f3)\">\n     <use style=\"fill:#3b4cc0;stroke:#3b4cc0;\" x=\"78.965625\" xlink:href=\"#C0_0_e937f91192\" y=\"281.386232\"/>\n    </g>\n    <g clip-path=\"url(#p47f3a2e8f3)\">\n     <use style=\"fill:#3b4cc0;stroke:#3b4cc0;\" x=\"80.550852\" xlink:href=\"#C0_0_e937f91192\" y=\"281.734553\"/>\n    </g>\n    <g clip-path=\"url(#p47f3a2e8f3)\">\n     <use style=\"fill:#3b4cc0;stroke:#3b4cc0;\" x=\"82.13608\" xlink:href=\"#C0_0_e937f91192\" y=\"281.225821\"/>\n    </g>\n    <g clip-path=\"url(#p47f3a2e8f3)\">\n     <use style=\"fill:#3b4cc0;stroke:#3b4cc0;\" x=\"83.721307\" xlink:href=\"#C0_0_e937f91192\" y=\"281.708582\"/>\n    </g>\n    <g clip-path=\"url(#p47f3a2e8f3)\">\n     <use style=\"fill:#3b4cc0;stroke:#3b4cc0;\" x=\"85.306534\" xlink:href=\"#C0_0_e937f91192\" y=\"281.135685\"/>\n    </g>\n    <g clip-path=\"url(#p47f3a2e8f3)\">\n     <use style=\"fill:#3b4cc0;stroke:#3b4cc0;\" x=\"86.891761\" xlink:href=\"#C0_0_e937f91192\" y=\"281.395398\"/>\n    </g>\n    <g clip-path=\"url(#p47f3a2e8f3)\">\n     <use style=\"fill:#3b4cc0;stroke:#3b4cc0;\" x=\"88.476989\" xlink:href=\"#C0_0_e937f91192\" y=\"281.468729\"/>\n    </g>\n    <g clip-path=\"url(#p47f3a2e8f3)\">\n     <use style=\"fill:#3b4cc0;stroke:#3b4cc0;\" x=\"90.062216\" xlink:href=\"#C0_0_e937f91192\" y=\"281.23957\"/>\n    </g>\n    <g clip-path=\"url(#p47f3a2e8f3)\">\n     <use style=\"fill:#3b4cc0;stroke:#3b4cc0;\" x=\"91.647443\" xlink:href=\"#C0_0_e937f91192\" y=\"280.909582\"/>\n    </g>\n    <g clip-path=\"url(#p47f3a2e8f3)\">\n     <use style=\"fill:#3b4cc0;stroke:#3b4cc0;\" x=\"93.23267\" xlink:href=\"#C0_0_e937f91192\" y=\"281.155546\"/>\n    </g>\n    <g clip-path=\"url(#p47f3a2e8f3)\">\n     <use style=\"fill:#3b4cc0;stroke:#3b4cc0;\" x=\"94.817898\" xlink:href=\"#C0_0_e937f91192\" y=\"281.08527\"/>\n    </g>\n    <g clip-path=\"url(#p47f3a2e8f3)\">\n     <use style=\"fill:#3b4cc0;stroke:#3b4cc0;\" x=\"96.403125\" xlink:href=\"#C0_0_e937f91192\" y=\"281.467201\"/>\n    </g>\n    <g clip-path=\"url(#p47f3a2e8f3)\">\n     <use style=\"fill:#3b4cc0;stroke:#3b4cc0;\" x=\"97.988352\" xlink:href=\"#C0_0_e937f91192\" y=\"281.277764\"/>\n    </g>\n    <g clip-path=\"url(#p47f3a2e8f3)\">\n     <use style=\"fill:#3b4cc0;stroke:#3b4cc0;\" x=\"99.57358\" xlink:href=\"#C0_0_e937f91192\" y=\"281.38776\"/>\n    </g>\n    <g clip-path=\"url(#p47f3a2e8f3)\">\n     <use style=\"fill:#3b4cc0;stroke:#3b4cc0;\" x=\"101.158807\" xlink:href=\"#C0_0_e937f91192\" y=\"281.557337\"/>\n    </g>\n    <g clip-path=\"url(#p47f3a2e8f3)\">\n     <use style=\"fill:#3b4cc0;stroke:#3b4cc0;\" x=\"102.744034\" xlink:href=\"#C0_0_e937f91192\" y=\"281.691777\"/>\n    </g>\n    <g clip-path=\"url(#p47f3a2e8f3)\">\n     <use style=\"fill:#3b4cc0;stroke:#3b4cc0;\" x=\"104.329261\" xlink:href=\"#C0_0_e937f91192\" y=\"281.317484\"/>\n    </g>\n    <g clip-path=\"url(#p47f3a2e8f3)\">\n     <use style=\"fill:#3b4cc0;stroke:#3b4cc0;\" x=\"105.914489\" xlink:href=\"#C0_0_e937f91192\" y=\"281.445813\"/>\n    </g>\n    <g clip-path=\"url(#p47f3a2e8f3)\">\n     <use style=\"fill:#3b4cc0;stroke:#3b4cc0;\" x=\"107.499716\" xlink:href=\"#C0_0_e937f91192\" y=\"281.338872\"/>\n    </g>\n    <g clip-path=\"url(#p47f3a2e8f3)\">\n     <use style=\"fill:#3b4cc0;stroke:#3b4cc0;\" x=\"109.084943\" xlink:href=\"#C0_0_e937f91192\" y=\"281.370955\"/>\n    </g>\n    <g clip-path=\"url(#p47f3a2e8f3)\">\n     <use style=\"fill:#3b4cc0;stroke:#3b4cc0;\" x=\"110.67017\" xlink:href=\"#C0_0_e937f91192\" y=\"281.76358\"/>\n    </g>\n    <g clip-path=\"url(#p47f3a2e8f3)\">\n     <use style=\"fill:#3b4cc0;stroke:#3b4cc0;\" x=\"112.255398\" xlink:href=\"#C0_0_e937f91192\" y=\"281.571086\"/>\n    </g>\n    <g clip-path=\"url(#p47f3a2e8f3)\">\n     <use style=\"fill:#3b4cc0;stroke:#3b4cc0;\" x=\"113.840625\" xlink:href=\"#C0_0_e937f91192\" y=\"281.369427\"/>\n    </g>\n    <g clip-path=\"url(#p47f3a2e8f3)\">\n     <use style=\"fill:#3b4cc0;stroke:#3b4cc0;\" x=\"115.425852\" xlink:href=\"#C0_0_e937f91192\" y=\"280.929443\"/>\n    </g>\n    <g clip-path=\"url(#p47f3a2e8f3)\">\n     <use style=\"fill:#3b4cc0;stroke:#3b4cc0;\" x=\"117.01108\" xlink:href=\"#C0_0_e937f91192\" y=\"280.955414\"/>\n    </g>\n    <g clip-path=\"url(#p47f3a2e8f3)\">\n     <use style=\"fill:#3b4cc0;stroke:#3b4cc0;\" x=\"118.596307\" xlink:href=\"#C0_0_e937f91192\" y=\"281.131102\"/>\n    </g>\n    <g clip-path=\"url(#p47f3a2e8f3)\">\n     <use style=\"fill:#3b4cc0;stroke:#3b4cc0;\" x=\"120.181534\" xlink:href=\"#C0_0_e937f91192\" y=\"280.879028\"/>\n    </g>\n    <g clip-path=\"url(#p47f3a2e8f3)\">\n     <use style=\"fill:#3b4cc0;stroke:#3b4cc0;\" x=\"121.766761\" xlink:href=\"#C0_0_e937f91192\" y=\"281.57567\"/>\n    </g>\n    <g clip-path=\"url(#p47f3a2e8f3)\">\n     <use style=\"fill:#3b4cc0;stroke:#3b4cc0;\" x=\"123.351989\" xlink:href=\"#C0_0_e937f91192\" y=\"281.462618\"/>\n    </g>\n    <g clip-path=\"url(#p47f3a2e8f3)\">\n     <use style=\"fill:#3b4cc0;stroke:#3b4cc0;\" x=\"124.937216\" xlink:href=\"#C0_0_e937f91192\" y=\"281.456507\"/>\n    </g>\n    <g clip-path=\"url(#p47f3a2e8f3)\">\n     <use style=\"fill:#3b4cc0;stroke:#3b4cc0;\" x=\"126.522443\" xlink:href=\"#C0_0_e937f91192\" y=\"280.908055\"/>\n    </g>\n    <g clip-path=\"url(#p47f3a2e8f3)\">\n     <use style=\"fill:#3b4cc0;stroke:#3b4cc0;\" x=\"128.10767\" xlink:href=\"#C0_0_e937f91192\" y=\"281.412203\"/>\n    </g>\n    <g clip-path=\"url(#p47f3a2e8f3)\">\n     <use style=\"fill:#3b4cc0;stroke:#3b4cc0;\" x=\"129.692898\" xlink:href=\"#C0_0_e937f91192\" y=\"281.519144\"/>\n    </g>\n    <g clip-path=\"url(#p47f3a2e8f3)\">\n     <use style=\"fill:#3b4cc0;stroke:#3b4cc0;\" x=\"131.278125\" xlink:href=\"#C0_0_e937f91192\" y=\"281.19985\"/>\n    </g>\n    <g clip-path=\"url(#p47f3a2e8f3)\">\n     <use style=\"fill:#3b4cc0;stroke:#3b4cc0;\" x=\"132.863352\" xlink:href=\"#C0_0_e937f91192\" y=\"281.413731\"/>\n    </g>\n    <g clip-path=\"url(#p47f3a2e8f3)\">\n     <use style=\"fill:#3b4cc0;stroke:#3b4cc0;\" x=\"134.44858\" xlink:href=\"#C0_0_e937f91192\" y=\"281.685666\"/>\n    </g>\n    <g clip-path=\"url(#p47f3a2e8f3)\">\n     <use style=\"fill:#3b4cc0;stroke:#3b4cc0;\" x=\"136.033807\" xlink:href=\"#C0_0_e937f91192\" y=\"281.578725\"/>\n    </g>\n    <g clip-path=\"url(#p47f3a2e8f3)\">\n     <use style=\"fill:#3b4cc0;stroke:#3b4cc0;\" x=\"137.619034\" xlink:href=\"#C0_0_e937f91192\" y=\"281.198322\"/>\n    </g>\n    <g clip-path=\"url(#p47f3a2e8f3)\">\n     <use style=\"fill:#3b4cc0;stroke:#3b4cc0;\" x=\"139.204261\" xlink:href=\"#C0_0_e937f91192\" y=\"281.604696\"/>\n    </g>\n    <g clip-path=\"url(#p47f3a2e8f3)\">\n     <use style=\"fill:#3b4cc0;stroke:#3b4cc0;\" x=\"140.789489\" xlink:href=\"#C0_0_e937f91192\" y=\"281.140268\"/>\n    </g>\n    <g clip-path=\"url(#p47f3a2e8f3)\">\n     <use style=\"fill:#3b4cc0;stroke:#3b4cc0;\" x=\"142.374716\" xlink:href=\"#C0_0_e937f91192\" y=\"281.409148\"/>\n    </g>\n    <g clip-path=\"url(#p47f3a2e8f3)\">\n     <use style=\"fill:#3b4cc0;stroke:#3b4cc0;\" x=\"143.959943\" xlink:href=\"#C0_0_e937f91192\" y=\"281.135685\"/>\n    </g>\n    <g clip-path=\"url(#p47f3a2e8f3)\">\n     <use style=\"fill:#3b4cc0;stroke:#3b4cc0;\" x=\"145.54517\" xlink:href=\"#C0_0_e937f91192\" y=\"281.647473\"/>\n    </g>\n    <g clip-path=\"url(#p47f3a2e8f3)\">\n     <use style=\"fill:#3b4cc0;stroke:#3b4cc0;\" x=\"147.130398\" xlink:href=\"#C0_0_e937f91192\" y=\"281.201377\"/>\n    </g>\n    <g clip-path=\"url(#p47f3a2e8f3)\">\n     <use style=\"fill:#3b4cc0;stroke:#3b4cc0;\" x=\"148.715625\" xlink:href=\"#C0_0_e937f91192\" y=\"281.022634\"/>\n    </g>\n    <g clip-path=\"url(#p47f3a2e8f3)\">\n     <use style=\"fill:#3b4cc0;stroke:#3b4cc0;\" x=\"150.300852\" xlink:href=\"#C0_0_e937f91192\" y=\"281.158601\"/>\n    </g>\n    <g clip-path=\"url(#p47f3a2e8f3)\">\n     <use style=\"fill:#3b4cc0;stroke:#3b4cc0;\" x=\"151.88608\" xlink:href=\"#C0_0_e937f91192\" y=\"281.022634\"/>\n    </g>\n    <g clip-path=\"url(#p47f3a2e8f3)\">\n     <use style=\"fill:#3b4cc0;stroke:#3b4cc0;\" x=\"153.471307\" xlink:href=\"#C0_0_e937f91192\" y=\"281.086798\"/>\n    </g>\n    <g clip-path=\"url(#p47f3a2e8f3)\">\n     <use style=\"fill:#3b4cc0;stroke:#3b4cc0;\" x=\"155.056534\" xlink:href=\"#C0_0_e937f91192\" y=\"281.080687\"/>\n    </g>\n    <g clip-path=\"url(#p47f3a2e8f3)\">\n     <use style=\"fill:#3b4cc0;stroke:#3b4cc0;\" x=\"156.641761\" xlink:href=\"#C0_0_e937f91192\" y=\"281.120408\"/>\n    </g>\n    <g clip-path=\"url(#p47f3a2e8f3)\">\n     <use style=\"fill:#3c4ec2;stroke:#3c4ec2;\" x=\"158.226989\" xlink:href=\"#C0_0_e937f91192\" y=\"280.79042\"/>\n    </g>\n    <g clip-path=\"url(#p47f3a2e8f3)\">\n     <use style=\"fill:#3b4cc0;stroke:#3b4cc0;\" x=\"159.812216\" xlink:href=\"#C0_0_e937f91192\" y=\"280.808752\"/>\n    </g>\n    <g clip-path=\"url(#p47f3a2e8f3)\">\n     <use style=\"fill:#3b4cc0;stroke:#3b4cc0;\" x=\"161.397443\" xlink:href=\"#C0_0_e937f91192\" y=\"280.860695\"/>\n    </g>\n    <g clip-path=\"url(#p47f3a2e8f3)\">\n     <use style=\"fill:#3b4cc0;stroke:#3b4cc0;\" x=\"162.98267\" xlink:href=\"#C0_0_e937f91192\" y=\"280.833196\"/>\n    </g>\n    <g clip-path=\"url(#p47f3a2e8f3)\">\n     <use style=\"fill:#3b4cc0;stroke:#3b4cc0;\" x=\"164.567898\" xlink:href=\"#C0_0_e937f91192\" y=\"281.050133\"/>\n    </g>\n    <g clip-path=\"url(#p47f3a2e8f3)\">\n     <use style=\"fill:#3b4cc0;stroke:#3b4cc0;\" x=\"166.153125\" xlink:href=\"#C0_0_e937f91192\" y=\"280.969163\"/>\n    </g>\n    <g clip-path=\"url(#p47f3a2e8f3)\">\n     <use style=\"fill:#3b4cc0;stroke:#3b4cc0;\" x=\"167.738352\" xlink:href=\"#C0_0_e937f91192\" y=\"281.141796\"/>\n    </g>\n    <g clip-path=\"url(#p47f3a2e8f3)\">\n     <use style=\"fill:#3b4cc0;stroke:#3b4cc0;\" x=\"169.32358\" xlink:href=\"#C0_0_e937f91192\" y=\"280.808752\"/>\n    </g>\n    <g clip-path=\"url(#p47f3a2e8f3)\">\n     <use style=\"fill:#3b4cc0;stroke:#3b4cc0;\" x=\"170.908807\" xlink:href=\"#C0_0_e937f91192\" y=\"280.969163\"/>\n    </g>\n    <g clip-path=\"url(#p47f3a2e8f3)\">\n     <use style=\"fill:#3b4cc0;stroke:#3b4cc0;\" x=\"172.494034\" xlink:href=\"#C0_0_e937f91192\" y=\"281.231932\"/>\n    </g>\n    <g clip-path=\"url(#p47f3a2e8f3)\">\n     <use style=\"fill:#3b4cc0;stroke:#3b4cc0;\" x=\"174.079261\" xlink:href=\"#C0_0_e937f91192\" y=\"280.863751\"/>\n    </g>\n    <g clip-path=\"url(#p47f3a2e8f3)\">\n     <use style=\"fill:#3b4cc0;stroke:#3b4cc0;\" x=\"175.664489\" xlink:href=\"#C0_0_e937f91192\" y=\"280.854584\"/>\n    </g>\n    <g clip-path=\"url(#p47f3a2e8f3)\">\n     <use style=\"fill:#3b4cc0;stroke:#3b4cc0;\" x=\"177.249716\" xlink:href=\"#C0_0_e937f91192\" y=\"280.996662\"/>\n    </g>\n    <g clip-path=\"url(#p47f3a2e8f3)\">\n     <use style=\"fill:#3b4cc0;stroke:#3b4cc0;\" x=\"178.834943\" xlink:href=\"#C0_0_e937f91192\" y=\"280.842362\"/>\n    </g>\n    <g clip-path=\"url(#p47f3a2e8f3)\">\n     <use style=\"fill:#3c4ec2;stroke:#3c4ec2;\" x=\"180.42017\" xlink:href=\"#C0_0_e937f91192\" y=\"280.765976\"/>\n    </g>\n    <g clip-path=\"url(#p47f3a2e8f3)\">\n     <use style=\"fill:#3b4cc0;stroke:#3b4cc0;\" x=\"182.005398\" xlink:href=\"#C0_0_e937f91192\" y=\"280.8775\"/>\n    </g>\n    <g clip-path=\"url(#p47f3a2e8f3)\">\n     <use style=\"fill:#3b4cc0;stroke:#3b4cc0;\" x=\"183.590625\" xlink:href=\"#C0_0_e937f91192\" y=\"280.924859\"/>\n    </g>\n    <g clip-path=\"url(#p47f3a2e8f3)\">\n     <use style=\"fill:#3b4cc0;stroke:#3b4cc0;\" x=\"185.175852\" xlink:href=\"#C0_0_e937f91192\" y=\"281.322068\"/>\n    </g>\n    <g clip-path=\"url(#p47f3a2e8f3)\">\n     <use style=\"fill:#3b4cc0;stroke:#3b4cc0;\" x=\"186.76108\" xlink:href=\"#C0_0_e937f91192\" y=\"281.234987\"/>\n    </g>\n    <g clip-path=\"url(#p47f3a2e8f3)\">\n     <use style=\"fill:#3c4ec2;stroke:#3c4ec2;\" x=\"188.346307\" xlink:href=\"#C0_0_e937f91192\" y=\"280.769032\"/>\n    </g>\n    <g clip-path=\"url(#p47f3a2e8f3)\">\n     <use style=\"fill:#3c4ec2;stroke:#3c4ec2;\" x=\"189.931534\" xlink:href=\"#C0_0_e937f91192\" y=\"280.795003\"/>\n    </g>\n    <g clip-path=\"url(#p47f3a2e8f3)\">\n     <use style=\"fill:#3b4cc0;stroke:#3b4cc0;\" x=\"191.516761\" xlink:href=\"#C0_0_e937f91192\" y=\"280.84389\"/>\n    </g>\n    <g clip-path=\"url(#p47f3a2e8f3)\">\n     <use style=\"fill:#3b4cc0;stroke:#3b4cc0;\" x=\"193.101989\" xlink:href=\"#C0_0_e937f91192\" y=\"280.880555\"/>\n    </g>\n    <g clip-path=\"url(#p47f3a2e8f3)\">\n     <use style=\"fill:#3c4ec2;stroke:#3c4ec2;\" x=\"194.687216\" xlink:href=\"#C0_0_e937f91192\" y=\"280.741533\"/>\n    </g>\n    <g clip-path=\"url(#p47f3a2e8f3)\">\n     <use style=\"fill:#3b4cc0;stroke:#3b4cc0;\" x=\"196.272443\" xlink:href=\"#C0_0_e937f91192\" y=\"281.010412\"/>\n    </g>\n    <g clip-path=\"url(#p47f3a2e8f3)\">\n     <use style=\"fill:#3c4ec2;stroke:#3c4ec2;\" x=\"197.85767\" xlink:href=\"#C0_0_e937f91192\" y=\"280.733894\"/>\n    </g>\n    <g clip-path=\"url(#p47f3a2e8f3)\">\n     <use style=\"fill:#3c4ec2;stroke:#3c4ec2;\" x=\"199.442898\" xlink:href=\"#C0_0_e937f91192\" y=\"280.733894\"/>\n    </g>\n    <g clip-path=\"url(#p47f3a2e8f3)\">\n     <use style=\"fill:#3c4ec2;stroke:#3c4ec2;\" x=\"201.028125\" xlink:href=\"#C0_0_e937f91192\" y=\"280.733894\"/>\n    </g>\n    <g clip-path=\"url(#p47f3a2e8f3)\">\n     <use style=\"fill:#3b4cc0;stroke:#3b4cc0;\" x=\"202.613352\" xlink:href=\"#C0_0_e937f91192\" y=\"281.042494\"/>\n    </g>\n    <g clip-path=\"url(#p47f3a2e8f3)\">\n     <use style=\"fill:#3b4cc0;stroke:#3b4cc0;\" x=\"204.19858\" xlink:href=\"#C0_0_e937f91192\" y=\"280.856112\"/>\n    </g>\n    <g clip-path=\"url(#p47f3a2e8f3)\">\n     <use style=\"fill:#3b4cc0;stroke:#3b4cc0;\" x=\"205.783807\" xlink:href=\"#C0_0_e937f91192\" y=\"280.995135\"/>\n    </g>\n    <g clip-path=\"url(#p47f3a2e8f3)\">\n     <use style=\"fill:#3b4cc0;stroke:#3b4cc0;\" x=\"207.369034\" xlink:href=\"#C0_0_e937f91192\" y=\"281.227349\"/>\n    </g>\n    <g clip-path=\"url(#p47f3a2e8f3)\">\n     <use style=\"fill:#3b4cc0;stroke:#3b4cc0;\" x=\"208.954261\" xlink:href=\"#C0_0_e937f91192\" y=\"280.973747\"/>\n    </g>\n    <g clip-path=\"url(#p47f3a2e8f3)\">\n     <use style=\"fill:#3b4cc0;stroke:#3b4cc0;\" x=\"210.539489\" xlink:href=\"#C0_0_e937f91192\" y=\"280.879028\"/>\n    </g>\n    <g clip-path=\"url(#p47f3a2e8f3)\">\n     <use style=\"fill:#3b4cc0;stroke:#3b4cc0;\" x=\"212.124716\" xlink:href=\"#C0_0_e937f91192\" y=\"280.963053\"/>\n    </g>\n    <g clip-path=\"url(#p47f3a2e8f3)\">\n     <use style=\"fill:#3b4cc0;stroke:#3b4cc0;\" x=\"213.709943\" xlink:href=\"#C0_0_e937f91192\" y=\"281.018051\"/>\n    </g>\n    <g clip-path=\"url(#p47f3a2e8f3)\">\n     <use style=\"fill:#3b4cc0;stroke:#3b4cc0;\" x=\"215.29517\" xlink:href=\"#C0_0_e937f91192\" y=\"280.846946\"/>\n    </g>\n    <g clip-path=\"url(#p47f3a2e8f3)\">\n     <use style=\"fill:#3b4cc0;stroke:#3b4cc0;\" x=\"216.880398\" xlink:href=\"#C0_0_e937f91192\" y=\"280.799586\"/>\n    </g>\n    <g clip-path=\"url(#p47f3a2e8f3)\">\n     <use style=\"fill:#3b4cc0;stroke:#3b4cc0;\" x=\"218.465625\" xlink:href=\"#C0_0_e937f91192\" y=\"280.837779\"/>\n    </g>\n    <g clip-path=\"url(#p47f3a2e8f3)\">\n     <use style=\"fill:#3b4cc0;stroke:#3b4cc0;\" x=\"220.050852\" xlink:href=\"#C0_0_e937f91192\" y=\"281.062355\"/>\n    </g>\n    <g clip-path=\"url(#p47f3a2e8f3)\">\n     <use style=\"fill:#3b4cc0;stroke:#3b4cc0;\" x=\"221.63608\" xlink:href=\"#C0_0_e937f91192\" y=\"281.095964\"/>\n    </g>\n    <g clip-path=\"url(#p47f3a2e8f3)\">\n     <use style=\"fill:#3b4cc0;stroke:#3b4cc0;\" x=\"223.221307\" xlink:href=\"#C0_0_e937f91192\" y=\"280.89736\"/>\n    </g>\n    <g clip-path=\"url(#p47f3a2e8f3)\">\n     <use style=\"fill:#3b4cc0;stroke:#3b4cc0;\" x=\"224.806534\" xlink:href=\"#C0_0_e937f91192\" y=\"281.121936\"/>\n    </g>\n    <g clip-path=\"url(#p47f3a2e8f3)\">\n     <use style=\"fill:#3b4cc0;stroke:#3b4cc0;\" x=\"226.391761\" xlink:href=\"#C0_0_e937f91192\" y=\"281.056244\"/>\n    </g>\n    <g clip-path=\"url(#p47f3a2e8f3)\">\n     <use style=\"fill:#3b4cc0;stroke:#3b4cc0;\" x=\"227.976989\" xlink:href=\"#C0_0_e937f91192\" y=\"280.966108\"/>\n    </g>\n    <g clip-path=\"url(#p47f3a2e8f3)\">\n     <use style=\"fill:#3b4cc0;stroke:#3b4cc0;\" x=\"229.562216\" xlink:href=\"#C0_0_e937f91192\" y=\"281.005829\"/>\n    </g>\n    <g clip-path=\"url(#p47f3a2e8f3)\">\n     <use style=\"fill:#3b4cc0;stroke:#3b4cc0;\" x=\"231.147443\" xlink:href=\"#C0_0_e937f91192\" y=\"280.808752\"/>\n    </g>\n    <g clip-path=\"url(#p47f3a2e8f3)\">\n     <use style=\"fill:#3c4ec2;stroke:#3c4ec2;\" x=\"232.73267\" xlink:href=\"#C0_0_e937f91192\" y=\"280.798058\"/>\n    </g>\n    <g clip-path=\"url(#p47f3a2e8f3)\">\n     <use style=\"fill:#3b4cc0;stroke:#3b4cc0;\" x=\"234.317898\" xlink:href=\"#C0_0_e937f91192\" y=\"281.129574\"/>\n    </g>\n    <g clip-path=\"url(#p47f3a2e8f3)\">\n     <use style=\"fill:#3c4ec2;stroke:#3c4ec2;\" x=\"235.903125\" xlink:href=\"#C0_0_e937f91192\" y=\"280.70945\"/>\n    </g>\n    <g clip-path=\"url(#p47f3a2e8f3)\">\n     <use style=\"fill:#3c4ec2;stroke:#3c4ec2;\" x=\"237.488352\" xlink:href=\"#C0_0_e937f91192\" y=\"280.697229\"/>\n    </g>\n    <g clip-path=\"url(#p47f3a2e8f3)\">\n     <use style=\"fill:#3b4cc0;stroke:#3b4cc0;\" x=\"239.07358\" xlink:href=\"#C0_0_e937f91192\" y=\"281.053188\"/>\n    </g>\n    <g clip-path=\"url(#p47f3a2e8f3)\">\n     <use style=\"fill:#3b4cc0;stroke:#3b4cc0;\" x=\"240.658807\" xlink:href=\"#C0_0_e937f91192\" y=\"280.8775\"/>\n    </g>\n    <g clip-path=\"url(#p47f3a2e8f3)\">\n     <use style=\"fill:#3c4ec2;stroke:#3c4ec2;\" x=\"242.244034\" xlink:href=\"#C0_0_e937f91192\" y=\"280.697229\"/>\n    </g>\n    <g clip-path=\"url(#p47f3a2e8f3)\">\n     <use style=\"fill:#3b4cc0;stroke:#3b4cc0;\" x=\"243.829261\" xlink:href=\"#C0_0_e937f91192\" y=\"281.027217\"/>\n    </g>\n    <g clip-path=\"url(#p47f3a2e8f3)\">\n     <use style=\"fill:#3b4cc0;stroke:#3b4cc0;\" x=\"245.414489\" xlink:href=\"#C0_0_e937f91192\" y=\"281.047077\"/>\n    </g>\n    <g clip-path=\"url(#p47f3a2e8f3)\">\n     <use style=\"fill:#3b4cc0;stroke:#3b4cc0;\" x=\"246.999716\" xlink:href=\"#C0_0_e937f91192\" y=\"280.981385\"/>\n    </g>\n    <g clip-path=\"url(#p47f3a2e8f3)\">\n     <use style=\"fill:#3c4ec2;stroke:#3c4ec2;\" x=\"248.584943\" xlink:href=\"#C0_0_e937f91192\" y=\"280.620843\"/>\n    </g>\n    <g clip-path=\"url(#p47f3a2e8f3)\">\n     <use style=\"fill:#3b4cc0;stroke:#3b4cc0;\" x=\"250.17017\" xlink:href=\"#C0_0_e937f91192\" y=\"281.210544\"/>\n    </g>\n    <g clip-path=\"url(#p47f3a2e8f3)\">\n     <use style=\"fill:#3c4ec2;stroke:#3c4ec2;\" x=\"251.755398\" xlink:href=\"#C0_0_e937f91192\" y=\"280.620843\"/>\n    </g>\n    <g clip-path=\"url(#p47f3a2e8f3)\">\n     <use style=\"fill:#3b4cc0;stroke:#3b4cc0;\" x=\"253.340625\" xlink:href=\"#C0_0_e937f91192\" y=\"281.160129\"/>\n    </g>\n    <g clip-path=\"url(#p47f3a2e8f3)\">\n     <use style=\"fill:#3b4cc0;stroke:#3b4cc0;\" x=\"254.925852\" xlink:href=\"#C0_0_e937f91192\" y=\"280.93097\"/>\n    </g>\n    <g clip-path=\"url(#p47f3a2e8f3)\">\n     <use style=\"fill:#3c4ec2;stroke:#3c4ec2;\" x=\"256.51108\" xlink:href=\"#C0_0_e937f91192\" y=\"280.692646\"/>\n    </g>\n    <g clip-path=\"url(#p47f3a2e8f3)\">\n     <use style=\"fill:#3b4cc0;stroke:#3b4cc0;\" x=\"258.096307\" xlink:href=\"#C0_0_e937f91192\" y=\"281.383176\"/>\n    </g>\n    <g clip-path=\"url(#p47f3a2e8f3)\">\n     <use style=\"fill:#3c4ec2;stroke:#3c4ec2;\" x=\"259.681534\" xlink:href=\"#C0_0_e937f91192\" y=\"280.663619\"/>\n    </g>\n    <g clip-path=\"url(#p47f3a2e8f3)\">\n     <use style=\"fill:#3b4cc0;stroke:#3b4cc0;\" x=\"261.266761\" xlink:href=\"#C0_0_e937f91192\" y=\"281.050133\"/>\n    </g>\n    <g clip-path=\"url(#p47f3a2e8f3)\">\n     <use style=\"fill:#3c4ec2;stroke:#3c4ec2;\" x=\"262.851989\" xlink:href=\"#C0_0_e937f91192\" y=\"280.648342\"/>\n    </g>\n    <g clip-path=\"url(#p47f3a2e8f3)\">\n     <use style=\"fill:#3c4ec2;stroke:#3c4ec2;\" x=\"264.437216\" xlink:href=\"#C0_0_e937f91192\" y=\"280.581122\"/>\n    </g>\n    <g clip-path=\"url(#p47f3a2e8f3)\">\n     <use style=\"fill:#3b4cc0;stroke:#3b4cc0;\" x=\"266.022443\" xlink:href=\"#C0_0_e937f91192\" y=\"280.894305\"/>\n    </g>\n    <g clip-path=\"url(#p47f3a2e8f3)\">\n     <use style=\"fill:#3c4ec2;stroke:#3c4ec2;\" x=\"267.60767\" xlink:href=\"#C0_0_e937f91192\" y=\"280.663619\"/>\n    </g>\n    <g clip-path=\"url(#p47f3a2e8f3)\">\n     <use style=\"fill:#3c4ec2;stroke:#3c4ec2;\" x=\"269.192898\" xlink:href=\"#C0_0_e937f91192\" y=\"280.663619\"/>\n    </g>\n    <g clip-path=\"url(#p47f3a2e8f3)\">\n     <use style=\"fill:#3c4ec2;stroke:#3c4ec2;\" x=\"270.778125\" xlink:href=\"#C0_0_e937f91192\" y=\"280.663619\"/>\n    </g>\n    <g clip-path=\"url(#p47f3a2e8f3)\">\n     <use style=\"fill:#3c4ec2;stroke:#3c4ec2;\" x=\"272.363352\" xlink:href=\"#C0_0_e937f91192\" y=\"280.695701\"/>\n    </g>\n    <g clip-path=\"url(#p47f3a2e8f3)\">\n     <use style=\"fill:#3b4cc0;stroke:#3b4cc0;\" x=\"273.94858\" xlink:href=\"#C0_0_e937f91192\" y=\"281.060827\"/>\n    </g>\n    <g clip-path=\"url(#p47f3a2e8f3)\">\n     <use style=\"fill:#3b4cc0;stroke:#3b4cc0;\" x=\"275.533807\" xlink:href=\"#C0_0_e937f91192\" y=\"281.364844\"/>\n    </g>\n    <g clip-path=\"url(#p47f3a2e8f3)\">\n     <use style=\"fill:#3c4ec2;stroke:#3c4ec2;\" x=\"277.119034\" xlink:href=\"#C0_0_e937f91192\" y=\"280.695701\"/>\n    </g>\n    <g clip-path=\"url(#p47f3a2e8f3)\">\n     <use style=\"fill:#3c4ec2;stroke:#3c4ec2;\" x=\"278.704261\" xlink:href=\"#C0_0_e937f91192\" y=\"280.695701\"/>\n    </g>\n    <g clip-path=\"url(#p47f3a2e8f3)\">\n     <use style=\"fill:#3c4ec2;stroke:#3c4ec2;\" x=\"280.289489\" xlink:href=\"#C0_0_e937f91192\" y=\"280.738477\"/>\n    </g>\n    <g clip-path=\"url(#p47f3a2e8f3)\">\n     <use style=\"fill:#3b4cc0;stroke:#3b4cc0;\" x=\"281.874716\" xlink:href=\"#C0_0_e937f91192\" y=\"280.934026\"/>\n    </g>\n    <g clip-path=\"url(#p47f3a2e8f3)\">\n     <use style=\"fill:#3b4cc0;stroke:#3b4cc0;\" x=\"283.459943\" xlink:href=\"#C0_0_e937f91192\" y=\"281.036383\"/>\n    </g>\n    <g clip-path=\"url(#p47f3a2e8f3)\">\n     <use style=\"fill:#3b4cc0;stroke:#3b4cc0;\" x=\"285.04517\" xlink:href=\"#C0_0_e937f91192\" y=\"280.863751\"/>\n    </g>\n    <g clip-path=\"url(#p47f3a2e8f3)\">\n     <use style=\"fill:#3b4cc0;stroke:#3b4cc0;\" x=\"286.630398\" xlink:href=\"#C0_0_e937f91192\" y=\"281.063882\"/>\n    </g>\n    <g clip-path=\"url(#p47f3a2e8f3)\">\n     <use style=\"fill:#3c4ec2;stroke:#3c4ec2;\" x=\"288.215625\" xlink:href=\"#C0_0_e937f91192\" y=\"280.695701\"/>\n    </g>\n    <g clip-path=\"url(#p47f3a2e8f3)\">\n     <use style=\"fill:#3b4cc0;stroke:#3b4cc0;\" x=\"289.800852\" xlink:href=\"#C0_0_e937f91192\" y=\"280.903471\"/>\n    </g>\n    <g clip-path=\"url(#p47f3a2e8f3)\">\n     <use style=\"fill:#3b4cc0;stroke:#3b4cc0;\" x=\"291.38608\" xlink:href=\"#C0_0_e937f91192\" y=\"281.056244\"/>\n    </g>\n    <g clip-path=\"url(#p47f3a2e8f3)\">\n     <use style=\"fill:#3b4cc0;stroke:#3b4cc0;\" x=\"292.971307\" xlink:href=\"#C0_0_e937f91192\" y=\"281.04555\"/>\n    </g>\n    <g clip-path=\"url(#p47f3a2e8f3)\">\n     <use style=\"fill:#3c4ec2;stroke:#3c4ec2;\" x=\"294.556534\" xlink:href=\"#C0_0_e937f91192\" y=\"280.663619\"/>\n    </g>\n    <g clip-path=\"url(#p47f3a2e8f3)\">\n     <use style=\"fill:#3b4cc0;stroke:#3b4cc0;\" x=\"296.141761\" xlink:href=\"#C0_0_e937f91192\" y=\"280.959997\"/>\n    </g>\n    <g clip-path=\"url(#p47f3a2e8f3)\">\n     <use style=\"fill:#3b4cc0;stroke:#3b4cc0;\" x=\"297.726989\" xlink:href=\"#C0_0_e937f91192\" y=\"280.81028\"/>\n    </g>\n    <g clip-path=\"url(#p47f3a2e8f3)\">\n     <use style=\"fill:#3b4cc0;stroke:#3b4cc0;\" x=\"299.312216\" xlink:href=\"#C0_0_e937f91192\" y=\"281.056244\"/>\n    </g>\n    <g clip-path=\"url(#p47f3a2e8f3)\">\n     <use style=\"fill:#3b4cc0;stroke:#3b4cc0;\" x=\"300.897443\" xlink:href=\"#C0_0_e937f91192\" y=\"280.959997\"/>\n    </g>\n    <g clip-path=\"url(#p47f3a2e8f3)\">\n     <use style=\"fill:#3b4cc0;stroke:#3b4cc0;\" x=\"302.48267\" xlink:href=\"#C0_0_e937f91192\" y=\"281.057771\"/>\n    </g>\n    <g clip-path=\"url(#p47f3a2e8f3)\">\n     <use style=\"fill:#3c4ec2;stroke:#3c4ec2;\" x=\"304.067898\" xlink:href=\"#C0_0_e937f91192\" y=\"280.581122\"/>\n    </g>\n    <g clip-path=\"url(#p47f3a2e8f3)\">\n     <use style=\"fill:#3b4cc0;stroke:#3b4cc0;\" x=\"305.653125\" xlink:href=\"#C0_0_e937f91192\" y=\"281.355677\"/>\n    </g>\n    <g clip-path=\"url(#p47f3a2e8f3)\">\n     <use style=\"fill:#3b4cc0;stroke:#3b4cc0;\" x=\"307.238352\" xlink:href=\"#C0_0_e937f91192\" y=\"280.894305\"/>\n    </g>\n    <g clip-path=\"url(#p47f3a2e8f3)\">\n     <use style=\"fill:#3b4cc0;stroke:#3b4cc0;\" x=\"308.82358\" xlink:href=\"#C0_0_e937f91192\" y=\"281.022634\"/>\n    </g>\n    <g clip-path=\"url(#p47f3a2e8f3)\">\n     <use style=\"fill:#3c4ec2;stroke:#3c4ec2;\" x=\"310.408807\" xlink:href=\"#C0_0_e937f91192\" y=\"280.663619\"/>\n    </g>\n    <g clip-path=\"url(#p47f3a2e8f3)\">\n     <use style=\"fill:#3b4cc0;stroke:#3b4cc0;\" x=\"311.994034\" xlink:href=\"#C0_0_e937f91192\" y=\"280.959997\"/>\n    </g>\n    <g clip-path=\"url(#p47f3a2e8f3)\">\n     <use style=\"fill:#3c4ec2;stroke:#3c4ec2;\" x=\"313.579261\" xlink:href=\"#C0_0_e937f91192\" y=\"280.581122\"/>\n    </g>\n    <g clip-path=\"url(#p47f3a2e8f3)\">\n     <use style=\"fill:#3c4ec2;stroke:#3c4ec2;\" x=\"315.164489\" xlink:href=\"#C0_0_e937f91192\" y=\"280.581122\"/>\n    </g>\n    <g clip-path=\"url(#p47f3a2e8f3)\">\n     <use style=\"fill:#3b4cc0;stroke:#3b4cc0;\" x=\"316.749716\" xlink:href=\"#C0_0_e937f91192\" y=\"281.190683\"/>\n    </g>\n    <g clip-path=\"url(#p47f3a2e8f3)\">\n     <use style=\"fill:#3c4ec2;stroke:#3c4ec2;\" x=\"318.334943\" xlink:href=\"#C0_0_e937f91192\" y=\"280.581122\"/>\n    </g>\n    <g clip-path=\"url(#p47f3a2e8f3)\">\n     <use style=\"fill:#3b4cc0;stroke:#3b4cc0;\" x=\"319.92017\" xlink:href=\"#C0_0_e937f91192\" y=\"281.121936\"/>\n    </g>\n    <g clip-path=\"url(#p47f3a2e8f3)\">\n     <use style=\"fill:#3b4cc0;stroke:#3b4cc0;\" x=\"321.505398\" xlink:href=\"#C0_0_e937f91192\" y=\"281.195266\"/>\n    </g>\n    <g clip-path=\"url(#p47f3a2e8f3)\">\n     <use style=\"fill:#3b4cc0;stroke:#3b4cc0;\" x=\"323.090625\" xlink:href=\"#C0_0_e937f91192\" y=\"281.022634\"/>\n    </g>\n    <g clip-path=\"url(#p47f3a2e8f3)\">\n     <use style=\"fill:#3b4cc0;stroke:#3b4cc0;\" x=\"324.675852\" xlink:href=\"#C0_0_e937f91192\" y=\"280.894305\"/>\n    </g>\n    <g clip-path=\"url(#p47f3a2e8f3)\">\n     <use style=\"fill:#3b4cc0;stroke:#3b4cc0;\" x=\"326.26108\" xlink:href=\"#C0_0_e937f91192\" y=\"280.959997\"/>\n    </g>\n    <g clip-path=\"url(#p47f3a2e8f3)\">\n     <use style=\"fill:#3c4ec2;stroke:#3c4ec2;\" x=\"327.846307\" xlink:href=\"#C0_0_e937f91192\" y=\"280.581122\"/>\n    </g>\n    <g clip-path=\"url(#p47f3a2e8f3)\">\n     <use style=\"fill:#3c4ec2;stroke:#3c4ec2;\" x=\"329.431534\" xlink:href=\"#C0_0_e937f91192\" y=\"280.581122\"/>\n    </g>\n    <g clip-path=\"url(#p47f3a2e8f3)\">\n     <use style=\"fill:#3c4ec2;stroke:#3c4ec2;\" x=\"331.016761\" xlink:href=\"#C0_0_e937f91192\" y=\"280.581122\"/>\n    </g>\n    <g clip-path=\"url(#p47f3a2e8f3)\">\n     <use style=\"fill:#3c4ec2;stroke:#3c4ec2;\" x=\"332.601989\" xlink:href=\"#C0_0_e937f91192\" y=\"280.581122\"/>\n    </g>\n    <g clip-path=\"url(#p47f3a2e8f3)\">\n     <use style=\"fill:#3b4cc0;stroke:#3b4cc0;\" x=\"334.187216\" xlink:href=\"#C0_0_e937f91192\" y=\"280.862223\"/>\n    </g>\n    <g clip-path=\"url(#p47f3a2e8f3)\">\n     <use style=\"fill:#3b4cc0;stroke:#3b4cc0;\" x=\"335.772443\" xlink:href=\"#C0_0_e937f91192\" y=\"281.063882\"/>\n    </g>\n    <g clip-path=\"url(#p47f3a2e8f3)\">\n     <use style=\"fill:#3b4cc0;stroke:#3b4cc0;\" x=\"337.35767\" xlink:href=\"#C0_0_e937f91192\" y=\"281.117353\"/>\n    </g>\n    <g clip-path=\"url(#p47f3a2e8f3)\">\n     <use style=\"fill:#3b4cc0;stroke:#3b4cc0;\" x=\"338.942898\" xlink:href=\"#C0_0_e937f91192\" y=\"280.846946\"/>\n    </g>\n    <g clip-path=\"url(#p47f3a2e8f3)\">\n     <use style=\"fill:#3b4cc0;stroke:#3b4cc0;\" x=\"340.528125\" xlink:href=\"#C0_0_e937f91192\" y=\"281.039439\"/>\n    </g>\n    <g clip-path=\"url(#p47f3a2e8f3)\">\n     <use style=\"fill:#3c4ec2;stroke:#3c4ec2;\" x=\"342.113352\" xlink:href=\"#C0_0_e937f91192\" y=\"280.581122\"/>\n    </g>\n    <g clip-path=\"url(#p47f3a2e8f3)\">\n     <use style=\"fill:#3b4cc0;stroke:#3b4cc0;\" x=\"343.69858\" xlink:href=\"#C0_0_e937f91192\" y=\"281.022634\"/>\n    </g>\n    <g clip-path=\"url(#p47f3a2e8f3)\">\n     <use style=\"fill:#3c4ec2;stroke:#3c4ec2;\" x=\"345.283807\" xlink:href=\"#C0_0_e937f91192\" y=\"280.581122\"/>\n    </g>\n    <g clip-path=\"url(#p47f3a2e8f3)\">\n     <use style=\"fill:#3c4ec2;stroke:#3c4ec2;\" x=\"346.869034\" xlink:href=\"#C0_0_e937f91192\" y=\"280.581122\"/>\n    </g>\n    <g clip-path=\"url(#p47f3a2e8f3)\">\n     <use style=\"fill:#3c4ec2;stroke:#3c4ec2;\" x=\"348.454261\" xlink:href=\"#C0_0_e937f91192\" y=\"280.581122\"/>\n    </g>\n    <g clip-path=\"url(#p47f3a2e8f3)\">\n     <use style=\"fill:#3b4cc0;stroke:#3b4cc0;\" x=\"350.039489\" xlink:href=\"#C0_0_e937f91192\" y=\"281.063882\"/>\n    </g>\n    <g clip-path=\"url(#p47f3a2e8f3)\">\n     <use style=\"fill:#3b4cc0;stroke:#3b4cc0;\" x=\"351.624716\" xlink:href=\"#C0_0_e937f91192\" y=\"280.894305\"/>\n    </g>\n    <g clip-path=\"url(#p47f3a2e8f3)\">\n     <use style=\"fill:#3b4cc0;stroke:#3b4cc0;\" x=\"353.209943\" xlink:href=\"#C0_0_e937f91192\" y=\"281.190683\"/>\n    </g>\n    <g clip-path=\"url(#p47f3a2e8f3)\">\n     <use style=\"fill:#3b4cc0;stroke:#3b4cc0;\" x=\"354.79517\" xlink:href=\"#C0_0_e937f91192\" y=\"280.882083\"/>\n    </g>\n    <g clip-path=\"url(#p47f3a2e8f3)\">\n     <use style=\"fill:#3c4ec2;stroke:#3c4ec2;\" x=\"356.380398\" xlink:href=\"#C0_0_e937f91192\" y=\"280.648342\"/>\n    </g>\n    <g clip-path=\"url(#p47f3a2e8f3)\">\n     <use style=\"fill:#3c4ec2;stroke:#3c4ec2;\" x=\"357.965625\" xlink:href=\"#C0_0_e937f91192\" y=\"280.648342\"/>\n    </g>\n    <g clip-path=\"url(#p47f3a2e8f3)\">\n     <use style=\"fill:#3c4ec2;stroke:#3c4ec2;\" x=\"359.550852\" xlink:href=\"#C0_0_e937f91192\" y=\"280.648342\"/>\n    </g>\n    <g clip-path=\"url(#p47f3a2e8f3)\">\n     <use style=\"fill:#3c4ec2;stroke:#3c4ec2;\" x=\"361.13608\" xlink:href=\"#C0_0_e937f91192\" y=\"280.648342\"/>\n    </g>\n    <g clip-path=\"url(#p47f3a2e8f3)\">\n     <use style=\"fill:#3b4cc0;stroke:#3b4cc0;\" x=\"362.721307\" xlink:href=\"#C0_0_e937f91192\" y=\"281.134158\"/>\n    </g>\n    <g clip-path=\"url(#p47f3a2e8f3)\">\n     <use style=\"fill:#3c4ec2;stroke:#3c4ec2;\" x=\"364.306534\" xlink:href=\"#C0_0_e937f91192\" y=\"280.648342\"/>\n    </g>\n    <g clip-path=\"url(#p47f3a2e8f3)\">\n     <use style=\"fill:#3b4cc0;stroke:#3b4cc0;\" x=\"365.891761\" xlink:href=\"#C0_0_e937f91192\" y=\"280.959997\"/>\n    </g>\n    <g clip-path=\"url(#p47f3a2e8f3)\">\n     <use style=\"fill:#3b4cc0;stroke:#3b4cc0;\" x=\"367.476989\" xlink:href=\"#C0_0_e937f91192\" y=\"280.901944\"/>\n    </g>\n    <g clip-path=\"url(#p47f3a2e8f3)\">\n     <use style=\"fill:#3b4cc0;stroke:#3b4cc0;\" x=\"369.062216\" xlink:href=\"#C0_0_e937f91192\" y=\"281.352622\"/>\n    </g>\n    <g clip-path=\"url(#p47f3a2e8f3)\">\n     <use style=\"fill:#3b4cc0;stroke:#3b4cc0;\" x=\"370.647443\" xlink:href=\"#C0_0_e937f91192\" y=\"280.894305\"/>\n    </g>\n    <g clip-path=\"url(#p47f3a2e8f3)\">\n     <use style=\"fill:#3b4cc0;stroke:#3b4cc0;\" x=\"372.23267\" xlink:href=\"#C0_0_e937f91192\" y=\"280.959997\"/>\n    </g>\n    <g clip-path=\"url(#p47f3a2e8f3)\">\n     <use style=\"fill:#3b4cc0;stroke:#3b4cc0;\" x=\"373.817898\" xlink:href=\"#C0_0_e937f91192\" y=\"281.134158\"/>\n    </g>\n    <g clip-path=\"url(#p47f3a2e8f3)\">\n     <use style=\"fill:#3c4ec2;stroke:#3c4ec2;\" x=\"375.403125\" xlink:href=\"#C0_0_e937f91192\" y=\"280.648342\"/>\n    </g>\n    <g clip-path=\"url(#p47f3a2e8f3)\">\n     <use style=\"fill:#3c4ec2;stroke:#3c4ec2;\" x=\"376.988352\" xlink:href=\"#C0_0_e937f91192\" y=\"280.581122\"/>\n    </g>\n    <g clip-path=\"url(#p47f3a2e8f3)\">\n     <use style=\"fill:#3b4cc0;stroke:#3b4cc0;\" x=\"378.57358\" xlink:href=\"#C0_0_e937f91192\" y=\"281.022634\"/>\n    </g>\n    <g clip-path=\"url(#p47f3a2e8f3)\">\n     <use style=\"fill:#3c4ec2;stroke:#3c4ec2;\" x=\"380.158807\" xlink:href=\"#C0_0_e937f91192\" y=\"280.581122\"/>\n    </g>\n    <g clip-path=\"url(#p47f3a2e8f3)\">\n     <use style=\"fill:#3c4ec2;stroke:#3c4ec2;\" x=\"381.744034\" xlink:href=\"#C0_0_e937f91192\" y=\"280.435988\"/>\n    </g>\n    <g clip-path=\"url(#p47f3a2e8f3)\">\n     <use style=\"fill:#3b4cc0;stroke:#3b4cc0;\" x=\"383.329261\" xlink:href=\"#C0_0_e937f91192\" y=\"280.952358\"/>\n    </g>\n    <g clip-path=\"url(#p47f3a2e8f3)\">\n     <use style=\"fill:#3b4cc0;stroke:#3b4cc0;\" x=\"384.914489\" xlink:href=\"#C0_0_e937f91192\" y=\"280.882083\"/>\n    </g>\n    <g clip-path=\"url(#p47f3a2e8f3)\">\n     <use style=\"fill:#3c4ec2;stroke:#3c4ec2;\" x=\"386.499716\" xlink:href=\"#C0_0_e937f91192\" y=\"280.724728\"/>\n    </g>\n    <g clip-path=\"url(#p47f3a2e8f3)\">\n     <use style=\"fill:#3b4cc0;stroke:#3b4cc0;\" x=\"388.084943\" xlink:href=\"#C0_0_e937f91192\" y=\"281.022634\"/>\n    </g>\n    <g clip-path=\"url(#p47f3a2e8f3)\">\n     <use style=\"fill:#3c4ec2;stroke:#3c4ec2;\" x=\"389.67017\" xlink:href=\"#C0_0_e937f91192\" y=\"280.581122\"/>\n    </g>\n    <g clip-path=\"url(#p47f3a2e8f3)\">\n     <use style=\"fill:#3c4ec2;stroke:#3c4ec2;\" x=\"391.255398\" xlink:href=\"#C0_0_e937f91192\" y=\"280.581122\"/>\n    </g>\n    <g clip-path=\"url(#p47f3a2e8f3)\">\n     <use style=\"fill:#3c4ec2;stroke:#3c4ec2;\" x=\"392.840625\" xlink:href=\"#C0_0_e937f91192\" y=\"280.581122\"/>\n    </g>\n    <g clip-path=\"url(#p47f3a2e8f3)\">\n     <use style=\"fill:#3b4cc0;stroke:#3b4cc0;\" x=\"394.425852\" xlink:href=\"#C0_0_e937f91192\" y=\"280.894305\"/>\n    </g>\n    <g clip-path=\"url(#p47f3a2e8f3)\">\n     <use style=\"fill:#3b4cc0;stroke:#3b4cc0;\" x=\"396.01108\" xlink:href=\"#C0_0_e937f91192\" y=\"281.022634\"/>\n    </g>\n    <g clip-path=\"url(#p47f3a2e8f3)\">\n     <use style=\"fill:#3c4ec2;stroke:#3c4ec2;\" x=\"397.596307\" xlink:href=\"#C0_0_e937f91192\" y=\"280.581122\"/>\n    </g>\n    <g clip-path=\"url(#p47f3a2e8f3)\">\n     <use style=\"fill:#3c4ec2;stroke:#3c4ec2;\" x=\"399.181534\" xlink:href=\"#C0_0_e937f91192\" y=\"280.581122\"/>\n    </g>\n    <g clip-path=\"url(#p47f3a2e8f3)\">\n     <use style=\"fill:#3c4ec2;stroke:#3c4ec2;\" x=\"400.766761\" xlink:href=\"#C0_0_e937f91192\" y=\"280.435988\"/>\n    </g>\n    <g clip-path=\"url(#p47f3a2e8f3)\">\n     <use style=\"fill:#3b4cc0;stroke:#3b4cc0;\" x=\"402.351989\" xlink:href=\"#C0_0_e937f91192\" y=\"280.952358\"/>\n    </g>\n    <g clip-path=\"url(#p47f3a2e8f3)\">\n     <use style=\"fill:#3c4ec2;stroke:#3c4ec2;\" x=\"403.937216\" xlink:href=\"#C0_0_e937f91192\" y=\"280.435988\"/>\n    </g>\n    <g clip-path=\"url(#p47f3a2e8f3)\">\n     <use style=\"fill:#3b4cc0;stroke:#3b4cc0;\" x=\"405.522443\" xlink:href=\"#C0_0_e937f91192\" y=\"280.882083\"/>\n    </g>\n    <g clip-path=\"url(#p47f3a2e8f3)\">\n     <use style=\"fill:#3b4cc0;stroke:#3b4cc0;\" x=\"407.10767\" xlink:href=\"#C0_0_e937f91192\" y=\"280.882083\"/>\n    </g>\n    <g clip-path=\"url(#p47f3a2e8f3)\">\n     <use style=\"fill:#3c4ec2;stroke:#3c4ec2;\" x=\"408.692898\" xlink:href=\"#C0_0_e937f91192\" y=\"280.435988\"/>\n    </g>\n    <g clip-path=\"url(#p47f3a2e8f3)\">\n     <use style=\"fill:#3b4cc0;stroke:#3b4cc0;\" x=\"410.278125\" xlink:href=\"#C0_0_e937f91192\" y=\"280.952358\"/>\n    </g>\n    <g clip-path=\"url(#p47f3a2e8f3)\">\n     <use style=\"fill:#3c4ec2;stroke:#3c4ec2;\" x=\"411.863352\" xlink:href=\"#C0_0_e937f91192\" y=\"280.435988\"/>\n    </g>\n    <g clip-path=\"url(#p47f3a2e8f3)\">\n     <use style=\"fill:#3c4ec2;stroke:#3c4ec2;\" x=\"413.44858\" xlink:href=\"#C0_0_e937f91192\" y=\"280.435988\"/>\n    </g>\n    <g clip-path=\"url(#p47f3a2e8f3)\">\n     <use style=\"fill:#3b4cc0;stroke:#3b4cc0;\" x=\"415.033807\" xlink:href=\"#C0_0_e937f91192\" y=\"280.952358\"/>\n    </g>\n    <g clip-path=\"url(#p47f3a2e8f3)\">\n     <use style=\"fill:#3b4cc0;stroke:#3b4cc0;\" x=\"416.619034\" xlink:href=\"#C0_0_e937f91192\" y=\"280.882083\"/>\n    </g>\n    <g clip-path=\"url(#p47f3a2e8f3)\">\n     <use style=\"fill:#3b4cc0;stroke:#3b4cc0;\" x=\"418.204261\" xlink:href=\"#C0_0_e937f91192\" y=\"280.920276\"/>\n    </g>\n    <g clip-path=\"url(#p47f3a2e8f3)\">\n     <use style=\"fill:#3b4cc0;stroke:#3b4cc0;\" x=\"419.789489\" xlink:href=\"#C0_0_e937f91192\" y=\"280.966108\"/>\n    </g>\n    <g clip-path=\"url(#p47f3a2e8f3)\">\n     <use style=\"fill:#3c4ec2;stroke:#3c4ec2;\" x=\"421.374716\" xlink:href=\"#C0_0_e937f91192\" y=\"280.435988\"/>\n    </g>\n    <g clip-path=\"url(#p47f3a2e8f3)\">\n     <use style=\"fill:#3c4ec2;stroke:#3c4ec2;\" x=\"422.959943\" xlink:href=\"#C0_0_e937f91192\" y=\"280.435988\"/>\n    </g>\n    <g clip-path=\"url(#p47f3a2e8f3)\">\n     <use style=\"fill:#3c4ec2;stroke:#3c4ec2;\" x=\"424.54517\" xlink:href=\"#C0_0_e937f91192\" y=\"280.70945\"/>\n    </g>\n    <g clip-path=\"url(#p47f3a2e8f3)\">\n     <use style=\"fill:#3b4cc0;stroke:#3b4cc0;\" x=\"426.130398\" xlink:href=\"#C0_0_e937f91192\" y=\"280.882083\"/>\n    </g>\n    <g clip-path=\"url(#p47f3a2e8f3)\">\n     <use style=\"fill:#3c4ec2;stroke:#3c4ec2;\" x=\"427.715625\" xlink:href=\"#C0_0_e937f91192\" y=\"280.435988\"/>\n    </g>\n    <g clip-path=\"url(#p47f3a2e8f3)\">\n     <use style=\"fill:#3c4ec2;stroke:#3c4ec2;\" x=\"429.300852\" xlink:href=\"#C0_0_e937f91192\" y=\"280.70945\"/>\n    </g>\n    <g clip-path=\"url(#p47f3a2e8f3)\">\n     <use style=\"fill:#3b4cc0;stroke:#3b4cc0;\" x=\"430.88608\" xlink:href=\"#C0_0_e937f91192\" y=\"280.952358\"/>\n    </g>\n    <g clip-path=\"url(#p47f3a2e8f3)\">\n     <use style=\"fill:#3b4cc0;stroke:#3b4cc0;\" x=\"432.471307\" xlink:href=\"#C0_0_e937f91192\" y=\"280.882083\"/>\n    </g>\n    <g clip-path=\"url(#p47f3a2e8f3)\">\n     <use style=\"fill:#3b4cc0;stroke:#3b4cc0;\" x=\"434.056534\" xlink:href=\"#C0_0_e937f91192\" y=\"281.095964\"/>\n    </g>\n    <g clip-path=\"url(#p47f3a2e8f3)\">\n     <use style=\"fill:#3c4ec2;stroke:#3c4ec2;\" x=\"435.641761\" xlink:href=\"#C0_0_e937f91192\" y=\"280.435988\"/>\n    </g>\n    <g clip-path=\"url(#p47f3a2e8f3)\">\n     <use style=\"fill:#3c4ec2;stroke:#3c4ec2;\" x=\"437.226989\" xlink:href=\"#C0_0_e937f91192\" y=\"280.435988\"/>\n    </g>\n    <g clip-path=\"url(#p47f3a2e8f3)\">\n     <use style=\"fill:#3c4ec2;stroke:#3c4ec2;\" x=\"438.812216\" xlink:href=\"#C0_0_e937f91192\" y=\"280.70945\"/>\n    </g>\n    <g clip-path=\"url(#p47f3a2e8f3)\">\n     <use style=\"fill:#3c4ec2;stroke:#3c4ec2;\" x=\"440.397443\" xlink:href=\"#C0_0_e937f91192\" y=\"280.435988\"/>\n    </g>\n    <g clip-path=\"url(#p47f3a2e8f3)\">\n     <use style=\"fill:#3c4ec2;stroke:#3c4ec2;\" x=\"441.98267\" xlink:href=\"#C0_0_e937f91192\" y=\"280.435988\"/>\n    </g>\n    <g clip-path=\"url(#p47f3a2e8f3)\">\n     <use style=\"fill:#3b4cc0;stroke:#3b4cc0;\" x=\"443.567898\" xlink:href=\"#C0_0_e937f91192\" y=\"280.880555\"/>\n    </g>\n    <g clip-path=\"url(#p47f3a2e8f3)\">\n     <use style=\"fill:#3b4cc0;stroke:#3b4cc0;\" x=\"445.153125\" xlink:href=\"#C0_0_e937f91192\" y=\"280.882083\"/>\n    </g>\n    <g clip-path=\"url(#p47f3a2e8f3)\">\n     <use style=\"fill:#3c4ec2;stroke:#3c4ec2;\" x=\"446.738352\" xlink:href=\"#C0_0_e937f91192\" y=\"280.70945\"/>\n    </g>\n    <g clip-path=\"url(#p47f3a2e8f3)\">\n     <use style=\"fill:#3c4ec2;stroke:#3c4ec2;\" x=\"448.32358\" xlink:href=\"#C0_0_e937f91192\" y=\"280.70945\"/>\n    </g>\n    <g clip-path=\"url(#p47f3a2e8f3)\">\n     <use style=\"fill:#3b4cc0;stroke:#3b4cc0;\" x=\"449.908807\" xlink:href=\"#C0_0_e937f91192\" y=\"280.952358\"/>\n    </g>\n    <g clip-path=\"url(#p47f3a2e8f3)\">\n     <use style=\"fill:#e3d9d3;stroke:#e3d9d3;\" x=\"451.494034\" xlink:href=\"#C0_0_e937f91192\" y=\"151.897934\"/>\n    </g>\n    <g clip-path=\"url(#p47f3a2e8f3)\">\n     <use style=\"fill:#d4dbe6;stroke:#d4dbe6;\" x=\"453.079261\" xlink:href=\"#C0_0_e937f91192\" y=\"166.038541\"/>\n    </g>\n    <g clip-path=\"url(#p47f3a2e8f3)\">\n     <use style=\"fill:#e7d7ce;stroke:#e7d7ce;\" x=\"454.664489\" xlink:href=\"#C0_0_e937f91192\" y=\"147.82044\"/>\n    </g>\n    <g clip-path=\"url(#p47f3a2e8f3)\">\n     <use style=\"fill:#f18f71;stroke:#f18f71;\" x=\"456.249716\" xlink:href=\"#C0_0_e937f91192\" y=\"89.970143\"/>\n    </g>\n    <g clip-path=\"url(#p47f3a2e8f3)\">\n     <use style=\"fill:#f5c0a7;stroke:#f5c0a7;\" x=\"457.834943\" xlink:href=\"#C0_0_e937f91192\" y=\"124.327112\"/>\n    </g>\n    <g clip-path=\"url(#p47f3a2e8f3)\">\n     <use style=\"fill:#f7bca1;stroke:#f7bca1;\" x=\"459.42017\" xlink:href=\"#C0_0_e937f91192\" y=\"120.523081\"/>\n    </g>\n    <g clip-path=\"url(#p47f3a2e8f3)\">\n     <use style=\"fill:#e3d9d3;stroke:#e3d9d3;\" x=\"461.005398\" xlink:href=\"#C0_0_e937f91192\" y=\"152.131675\"/>\n    </g>\n    <g clip-path=\"url(#p47f3a2e8f3)\">\n     <use style=\"fill:#e2dad5;stroke:#e2dad5;\" x=\"462.590625\" xlink:href=\"#C0_0_e937f91192\" y=\"153.190388\"/>\n    </g>\n    <g clip-path=\"url(#p47f3a2e8f3)\">\n     <use style=\"fill:#e9d5cb;stroke:#e9d5cb;\" x=\"464.175852\" xlink:href=\"#C0_0_e937f91192\" y=\"146.323271\"/>\n    </g>\n    <g clip-path=\"url(#p47f3a2e8f3)\">\n     <use style=\"fill:#c9d7f0;stroke:#c9d7f0;\" x=\"465.76108\" xlink:href=\"#C0_0_e937f91192\" y=\"175.713612\"/>\n    </g>\n    <g clip-path=\"url(#p47f3a2e8f3)\">\n     <use style=\"fill:#dddcdc;stroke:#dddcdc;\" x=\"467.346307\" xlink:href=\"#C0_0_e937f91192\" y=\"157.940079\"/>\n    </g>\n    <g clip-path=\"url(#p47f3a2e8f3)\">\n     <use style=\"fill:#eed0c0;stroke:#eed0c0;\" x=\"468.931534\" xlink:href=\"#C0_0_e937f91192\" y=\"138.985617\"/>\n    </g>\n    <g clip-path=\"url(#p47f3a2e8f3)\">\n     <use style=\"fill:#e0dbd8;stroke:#e0dbd8;\" x=\"470.516761\" xlink:href=\"#C0_0_e937f91192\" y=\"155.103097\"/>\n    </g>\n    <g clip-path=\"url(#p47f3a2e8f3)\">\n     <use style=\"fill:#f7b093;stroke:#f7b093;\" x=\"472.101989\" xlink:href=\"#C0_0_e937f91192\" y=\"111.786031\"/>\n    </g>\n    <g clip-path=\"url(#p47f3a2e8f3)\">\n     <use style=\"fill:#d2dbe8;stroke:#d2dbe8;\" x=\"473.687216\" xlink:href=\"#C0_0_e937f91192\" y=\"168.565395\"/>\n    </g>\n    <g clip-path=\"url(#p47f3a2e8f3)\">\n     <use style=\"fill:#e4d9d2;stroke:#e4d9d2;\" x=\"475.272443\" xlink:href=\"#C0_0_e937f91192\" y=\"151.030187\"/>\n    </g>\n    <g clip-path=\"url(#p47f3a2e8f3)\">\n     <use style=\"fill:#edd2c3;stroke:#edd2c3;\" x=\"476.85767\" xlink:href=\"#C0_0_e937f91192\" y=\"141.708019\"/>\n    </g>\n    <g clip-path=\"url(#p47f3a2e8f3)\">\n     <use style=\"fill:#e4d9d2;stroke:#e4d9d2;\" x=\"478.442898\" xlink:href=\"#C0_0_e937f91192\" y=\"151.251707\"/>\n    </g>\n    <g clip-path=\"url(#p47f3a2e8f3)\">\n     <use style=\"fill:#f6a385;stroke:#f6a385;\" x=\"480.028125\" xlink:href=\"#C0_0_e937f91192\" y=\"102.72816\"/>\n    </g>\n    <g clip-path=\"url(#p47f3a2e8f3)\">\n     <use style=\"fill:#f1ccb8;stroke:#f1ccb8;\" x=\"481.613352\" xlink:href=\"#C0_0_e937f91192\" y=\"134.924928\"/>\n    </g>\n    <g clip-path=\"url(#p47f3a2e8f3)\">\n     <use style=\"fill:#eed0c0;stroke:#eed0c0;\" x=\"483.19858\" xlink:href=\"#C0_0_e937f91192\" y=\"139.74184\"/>\n    </g>\n    <g clip-path=\"url(#p47f3a2e8f3)\">\n     <use style=\"fill:#dedcdb;stroke:#dedcdb;\" x=\"484.783807\" xlink:href=\"#C0_0_e937f91192\" y=\"157.023445\"/>\n    </g>\n    <g clip-path=\"url(#p47f3a2e8f3)\">\n     <use style=\"fill:#ebd3c6;stroke:#ebd3c6;\" x=\"486.369034\" xlink:href=\"#C0_0_e937f91192\" y=\"143.556565\"/>\n    </g>\n    <g clip-path=\"url(#p47f3a2e8f3)\">\n     <use style=\"fill:#e0dbd8;stroke:#e0dbd8;\" x=\"487.954261\" xlink:href=\"#C0_0_e937f91192\" y=\"154.394234\"/>\n    </g>\n    <g clip-path=\"url(#p47f3a2e8f3)\">\n     <use style=\"fill:#e1dad6;stroke:#e1dad6;\" x=\"489.539489\" xlink:href=\"#C0_0_e937f91192\" y=\"154.327014\"/>\n    </g>\n    <g clip-path=\"url(#p47f3a2e8f3)\">\n     <use style=\"fill:#f7ac8e;stroke:#f7ac8e;\" x=\"491.124716\" xlink:href=\"#C0_0_e937f91192\" y=\"108.930716\"/>\n    </g>\n    <g clip-path=\"url(#p47f3a2e8f3)\">\n     <use style=\"fill:#edd1c2;stroke:#edd1c2;\" x=\"492.709943\" xlink:href=\"#C0_0_e937f91192\" y=\"140.530145\"/>\n    </g>\n    <g clip-path=\"url(#p47f3a2e8f3)\">\n     <use style=\"fill:#ebd3c6;stroke:#ebd3c6;\" x=\"494.29517\" xlink:href=\"#C0_0_e937f91192\" y=\"143.652811\"/>\n    </g>\n    <g clip-path=\"url(#p47f3a2e8f3)\">\n     <use style=\"fill:#b40426;stroke:#b40426;\" x=\"495.880398\" xlink:href=\"#C0_0_e937f91192\" y=\"34.67267\"/>\n    </g>\n    <g clip-path=\"url(#p47f3a2e8f3)\">\n     <use style=\"fill:#f7a889;stroke:#f7a889;\" x=\"497.465625\" xlink:href=\"#C0_0_e937f91192\" y=\"105.49945\"/>\n    </g>\n    <g clip-path=\"url(#p47f3a2e8f3)\">\n     <use style=\"fill:#edd1c2;stroke:#edd1c2;\" x=\"499.050852\" xlink:href=\"#C0_0_e937f91192\" y=\"140.789858\"/>\n    </g>\n    <g clip-path=\"url(#p47f3a2e8f3)\">\n     <use style=\"fill:#dfdbd9;stroke:#dfdbd9;\" x=\"500.63608\" xlink:href=\"#C0_0_e937f91192\" y=\"156.258056\"/>\n    </g>\n    <g clip-path=\"url(#p47f3a2e8f3)\">\n     <use style=\"fill:#d9dce1;stroke:#d9dce1;\" x=\"502.221307\" xlink:href=\"#C0_0_e937f91192\" y=\"162.000768\"/>\n    </g>\n    <g clip-path=\"url(#p47f3a2e8f3)\">\n     <use style=\"fill:#cbd8ee;stroke:#cbd8ee;\" x=\"503.806534\" xlink:href=\"#C0_0_e937f91192\" y=\"174.586152\"/>\n    </g>\n    <g clip-path=\"url(#p47f3a2e8f3)\">\n     <use style=\"fill:#dbdcde;stroke:#dbdcde;\" x=\"505.391761\" xlink:href=\"#C0_0_e937f91192\" y=\"159.625158\"/>\n    </g>\n    <g clip-path=\"url(#p47f3a2e8f3)\">\n     <use style=\"fill:#e5d8d1;stroke:#e5d8d1;\" x=\"506.976989\" xlink:href=\"#C0_0_e937f91192\" y=\"149.672041\"/>\n    </g>\n    <g clip-path=\"url(#p47f3a2e8f3)\">\n     <use style=\"fill:#d5dbe5;stroke:#d5dbe5;\" x=\"508.562216\" xlink:href=\"#C0_0_e937f91192\" y=\"165.89799\"/>\n    </g>\n    <g clip-path=\"url(#p47f3a2e8f3)\">\n     <use style=\"fill:#e1dad6;stroke:#e1dad6;\" x=\"510.147443\" xlink:href=\"#C0_0_e937f91192\" y=\"154.290348\"/>\n    </g>\n    <g clip-path=\"url(#p47f3a2e8f3)\">\n     <use style=\"fill:#d3dbe7;stroke:#d3dbe7;\" x=\"511.73267\" xlink:href=\"#C0_0_e937f91192\" y=\"167.650289\"/>\n    </g>\n    <g clip-path=\"url(#p47f3a2e8f3)\">\n     <use style=\"fill:#e9d5cb;stroke:#e9d5cb;\" x=\"513.317898\" xlink:href=\"#C0_0_e937f91192\" y=\"146.358409\"/>\n    </g>\n    <g clip-path=\"url(#p47f3a2e8f3)\">\n     <use style=\"fill:#dbdcde;stroke:#dbdcde;\" x=\"514.903125\" xlink:href=\"#C0_0_e937f91192\" y=\"160.091114\"/>\n    </g>\n    <g clip-path=\"url(#p47f3a2e8f3)\">\n     <use style=\"fill:#d7dce3;stroke:#d7dce3;\" x=\"516.488352\" xlink:href=\"#C0_0_e937f91192\" y=\"163.40169\"/>\n    </g>\n    <g clip-path=\"url(#p47f3a2e8f3)\">\n     <use style=\"fill:#cfdaea;stroke:#cfdaea;\" x=\"518.07358\" xlink:href=\"#C0_0_e937f91192\" y=\"169.870071\"/>\n    </g>\n    <g clip-path=\"url(#p47f3a2e8f3)\">\n     <use style=\"fill:#d9dce1;stroke:#d9dce1;\" x=\"519.658807\" xlink:href=\"#C0_0_e937f91192\" y=\"161.592866\"/>\n    </g>\n    <g clip-path=\"url(#p47f3a2e8f3)\">\n     <use style=\"fill:#f6a385;stroke:#f6a385;\" x=\"521.244034\" xlink:href=\"#C0_0_e937f91192\" y=\"102.45317\"/>\n    </g>\n    <g clip-path=\"url(#p47f3a2e8f3)\">\n     <use style=\"fill:#cad8ef;stroke:#cad8ef;\" x=\"522.829261\" xlink:href=\"#C0_0_e937f91192\" y=\"174.75573\"/>\n    </g>\n    <g clip-path=\"url(#p47f3a2e8f3)\">\n     <use style=\"fill:#d5dbe5;stroke:#d5dbe5;\" x=\"524.414489\" xlink:href=\"#C0_0_e937f91192\" y=\"165.410646\"/>\n    </g>\n    <g clip-path=\"url(#p47f3a2e8f3)\">\n     <use style=\"fill:#e0dbd8;stroke:#e0dbd8;\" x=\"525.999716\" xlink:href=\"#C0_0_e937f91192\" y=\"155.041988\"/>\n    </g>\n    <g clip-path=\"url(#p47f3a2e8f3)\">\n     <use style=\"fill:#d3dbe7;stroke:#d3dbe7;\" x=\"527.584943\" xlink:href=\"#C0_0_e937f91192\" y=\"166.956702\"/>\n    </g>\n    <g clip-path=\"url(#p47f3a2e8f3)\">\n     <use style=\"fill:#efcebd;stroke:#efcebd;\" x=\"529.17017\" xlink:href=\"#C0_0_e937f91192\" y=\"137.190542\"/>\n    </g>\n    <g clip-path=\"url(#p47f3a2e8f3)\">\n     <use style=\"fill:#d1dae9;stroke:#d1dae9;\" x=\"530.755398\" xlink:href=\"#C0_0_e937f91192\" y=\"169.18565\"/>\n    </g>\n    <g clip-path=\"url(#p47f3a2e8f3)\">\n     <use style=\"fill:#d1dae9;stroke:#d1dae9;\" x=\"532.340625\" xlink:href=\"#C0_0_e937f91192\" y=\"169.18565\"/>\n    </g>\n    <g clip-path=\"url(#p47f3a2e8f3)\">\n     <use style=\"fill:#cfdaea;stroke:#cfdaea;\" x=\"533.925852\" xlink:href=\"#C0_0_e937f91192\" y=\"170.114506\"/>\n    </g>\n    <g clip-path=\"url(#p47f3a2e8f3)\">\n     <use style=\"fill:#d6dce4;stroke:#d6dce4;\" x=\"535.51108\" xlink:href=\"#C0_0_e937f91192\" y=\"164.733865\"/>\n    </g>\n    <g clip-path=\"url(#p47f3a2e8f3)\">\n     <use style=\"fill:#c6d6f1;stroke:#c6d6f1;\" x=\"537.096307\" xlink:href=\"#C0_0_e937f91192\" y=\"178.254216\"/>\n    </g>\n    <g clip-path=\"url(#p47f3a2e8f3)\">\n     <use style=\"fill:#c5d6f2;stroke:#c5d6f2;\" x=\"538.681534\" xlink:href=\"#C0_0_e937f91192\" y=\"179.364871\"/>\n    </g>\n    <g clip-path=\"url(#p47f3a2e8f3)\">\n     <use style=\"fill:#d9dce1;stroke:#d9dce1;\" x=\"540.266761\" xlink:href=\"#C0_0_e937f91192\" y=\"161.36218\"/>\n    </g>\n    <g clip-path=\"url(#p47f3a2e8f3)\">\n     <use style=\"fill:#d3dbe7;stroke:#d3dbe7;\" x=\"541.851989\" xlink:href=\"#C0_0_e937f91192\" y=\"166.962813\"/>\n    </g>\n    <g clip-path=\"url(#p47f3a2e8f3)\">\n     <use style=\"fill:#cdd9ec;stroke:#cdd9ec;\" x=\"543.437216\" xlink:href=\"#C0_0_e937f91192\" y=\"172.018049\"/>\n    </g>\n    <g clip-path=\"url(#p47f3a2e8f3)\">\n     <use style=\"fill:#e0dbd8;stroke:#e0dbd8;\" x=\"545.022443\" xlink:href=\"#C0_0_e937f91192\" y=\"154.741027\"/>\n    </g>\n    <g clip-path=\"url(#p47f3a2e8f3)\">\n     <use style=\"fill:#d5dbe5;stroke:#d5dbe5;\" x=\"546.60767\" xlink:href=\"#C0_0_e937f91192\" y=\"165.085241\"/>\n    </g>\n    <g clip-path=\"url(#p47f3a2e8f3)\">\n     <use style=\"fill:#e5d8d1;stroke:#e5d8d1;\" x=\"548.192898\" xlink:href=\"#C0_0_e937f91192\" y=\"150.182301\"/>\n    </g>\n    <g clip-path=\"url(#p47f3a2e8f3)\">\n     <use style=\"fill:#e0dbd8;stroke:#e0dbd8;\" x=\"549.778125\" xlink:href=\"#C0_0_e937f91192\" y=\"155.161151\"/>\n    </g>\n    <g clip-path=\"url(#p47f3a2e8f3)\">\n     <use style=\"fill:#cedaeb;stroke:#cedaeb;\" x=\"551.363352\" xlink:href=\"#C0_0_e937f91192\" y=\"171.665145\"/>\n    </g>\n    <g clip-path=\"url(#p47f3a2e8f3)\">\n     <use style=\"fill:#c6d6f1;stroke:#c6d6f1;\" x=\"552.94858\" xlink:href=\"#C0_0_e937f91192\" y=\"177.904367\"/>\n    </g>\n    <g clip-path=\"url(#p47f3a2e8f3)\">\n     <use style=\"fill:#dcdddd;stroke:#dcdddd;\" x=\"554.533807\" xlink:href=\"#C0_0_e937f91192\" y=\"158.706996\"/>\n    </g>\n    <g clip-path=\"url(#p47f3a2e8f3)\">\n     <use style=\"fill:#ccd9ed;stroke:#ccd9ed;\" x=\"556.119034\" xlink:href=\"#C0_0_e937f91192\" y=\"172.771217\"/>\n    </g>\n    <g clip-path=\"url(#p47f3a2e8f3)\">\n     <use style=\"fill:#d7dce3;stroke:#d7dce3;\" x=\"557.704261\" xlink:href=\"#C0_0_e937f91192\" y=\"163.921116\"/>\n    </g>\n    <g clip-path=\"url(#p47f3a2e8f3)\">\n     <use style=\"fill:#cfdaea;stroke:#cfdaea;\" x=\"559.289489\" xlink:href=\"#C0_0_e937f91192\" y=\"170.15881\"/>\n    </g>\n    <g clip-path=\"url(#p47f3a2e8f3)\">\n     <use style=\"fill:#c5d6f2;stroke:#c5d6f2;\" x=\"560.874716\" xlink:href=\"#C0_0_e937f91192\" y=\"178.723227\"/>\n    </g>\n    <g clip-path=\"url(#p47f3a2e8f3)\">\n     <use style=\"fill:#cbd8ee;stroke:#cbd8ee;\" x=\"562.459943\" xlink:href=\"#C0_0_e937f91192\" y=\"174.196583\"/>\n    </g>\n    <g clip-path=\"url(#p47f3a2e8f3)\">\n     <use style=\"fill:#cbd8ee;stroke:#cbd8ee;\" x=\"564.04517\" xlink:href=\"#C0_0_e937f91192\" y=\"174.196583\"/>\n    </g>\n    <g clip-path=\"url(#p47f3a2e8f3)\">\n     <use style=\"fill:#e8d6cc;stroke:#e8d6cc;\" x=\"565.630398\" xlink:href=\"#C0_0_e937f91192\" y=\"146.778533\"/>\n    </g>\n    <g clip-path=\"url(#p47f3a2e8f3)\">\n     <use style=\"fill:#d6dce4;stroke:#d6dce4;\" x=\"567.215625\" xlink:href=\"#C0_0_e937f91192\" y=\"164.260271\"/>\n    </g>\n    <g clip-path=\"url(#p47f3a2e8f3)\">\n     <use style=\"fill:#dbdcde;stroke:#dbdcde;\" x=\"568.800852\" xlink:href=\"#C0_0_e937f91192\" y=\"160.039171\"/>\n    </g>\n    <g clip-path=\"url(#p47f3a2e8f3)\">\n     <use style=\"fill:#dddcdc;stroke:#dddcdc;\" x=\"570.38608\" xlink:href=\"#C0_0_e937f91192\" y=\"157.368711\"/>\n    </g>\n    <g clip-path=\"url(#p47f3a2e8f3)\">\n     <use style=\"fill:#e3d9d3;stroke:#e3d9d3;\" x=\"571.971307\" xlink:href=\"#C0_0_e937f91192\" y=\"151.789465\"/>\n    </g>\n    <g clip-path=\"url(#p47f3a2e8f3)\">\n     <use style=\"fill:#dddcdc;stroke:#dddcdc;\" x=\"573.556534\" xlink:href=\"#C0_0_e937f91192\" y=\"158.153961\"/>\n    </g>\n    <g clip-path=\"url(#p47f3a2e8f3)\">\n     <use style=\"fill:#d2dbe8;stroke:#d2dbe8;\" x=\"575.141761\" xlink:href=\"#C0_0_e937f91192\" y=\"168.470676\"/>\n    </g>\n    <g clip-path=\"url(#p47f3a2e8f3)\">\n     <use style=\"fill:#d9dce1;stroke:#d9dce1;\" x=\"576.726989\" xlink:href=\"#C0_0_e937f91192\" y=\"161.852579\"/>\n    </g>\n    <g clip-path=\"url(#p47f3a2e8f3)\">\n     <use style=\"fill:#d9dce1;stroke:#d9dce1;\" x=\"578.312216\" xlink:href=\"#C0_0_e937f91192\" y=\"161.736472\"/>\n    </g>\n    <g clip-path=\"url(#p47f3a2e8f3)\">\n     <use style=\"fill:#cbd8ee;stroke:#cbd8ee;\" x=\"579.897443\" xlink:href=\"#C0_0_e937f91192\" y=\"174.196583\"/>\n    </g>\n    <g clip-path=\"url(#p47f3a2e8f3)\">\n     <use style=\"fill:#cedaeb;stroke:#cedaeb;\" x=\"581.48267\" xlink:href=\"#C0_0_e937f91192\" y=\"170.931838\"/>\n    </g>\n    <g clip-path=\"url(#p47f3a2e8f3)\">\n     <use style=\"fill:#edd2c3;stroke:#edd2c3;\" x=\"583.067898\" xlink:href=\"#C0_0_e937f91192\" y=\"141.620939\"/>\n    </g>\n    <g clip-path=\"url(#p47f3a2e8f3)\">\n     <use style=\"fill:#ccd9ed;stroke:#ccd9ed;\" x=\"584.653125\" xlink:href=\"#C0_0_e937f91192\" y=\"173.063012\"/>\n    </g>\n    <g clip-path=\"url(#p47f3a2e8f3)\">\n     <use style=\"fill:#e2dad5;stroke:#e2dad5;\" x=\"586.238352\" xlink:href=\"#C0_0_e937f91192\" y=\"153.20872\"/>\n    </g>\n    <g clip-path=\"url(#p47f3a2e8f3)\">\n     <use style=\"fill:#efcebd;stroke:#efcebd;\" x=\"587.82358\" xlink:href=\"#C0_0_e937f91192\" y=\"137.82913\"/>\n    </g>\n    <g clip-path=\"url(#p47f3a2e8f3)\">\n     <use style=\"fill:#c9d7f0;stroke:#c9d7f0;\" x=\"589.408807\" xlink:href=\"#C0_0_e937f91192\" y=\"176.236093\"/>\n    </g>\n    <g clip-path=\"url(#p47f3a2e8f3)\">\n     <use style=\"fill:#d1dae9;stroke:#d1dae9;\" x=\"590.994034\" xlink:href=\"#C0_0_e937f91192\" y=\"168.863301\"/>\n    </g>\n    <g clip-path=\"url(#p47f3a2e8f3)\">\n     <use style=\"fill:#ecd3c5;stroke:#ecd3c5;\" x=\"592.579261\" xlink:href=\"#C0_0_e937f91192\" y=\"142.024258\"/>\n    </g>\n    <g clip-path=\"url(#p47f3a2e8f3)\">\n     <use style=\"fill:#d8dce2;stroke:#d8dce2;\" x=\"594.164489\" xlink:href=\"#C0_0_e937f91192\" y=\"162.404087\"/>\n    </g>\n    <g clip-path=\"url(#p47f3a2e8f3)\">\n     <use style=\"fill:#d6dce4;stroke:#d6dce4;\" x=\"595.749716\" xlink:href=\"#C0_0_e937f91192\" y=\"164.782752\"/>\n    </g>\n    <g clip-path=\"url(#p47f3a2e8f3)\">\n     <use style=\"fill:#d5dbe5;stroke:#d5dbe5;\" x=\"597.334943\" xlink:href=\"#C0_0_e937f91192\" y=\"164.987467\"/>\n    </g>\n    <g clip-path=\"url(#p47f3a2e8f3)\">\n     <use style=\"fill:#cedaeb;stroke:#cedaeb;\" x=\"598.92017\" xlink:href=\"#C0_0_e937f91192\" y=\"171.410016\"/>\n    </g>\n    <g clip-path=\"url(#p47f3a2e8f3)\">\n     <use style=\"fill:#dadce0;stroke:#dadce0;\" x=\"600.505398\" xlink:href=\"#C0_0_e937f91192\" y=\"161.056635\"/>\n    </g>\n    <g clip-path=\"url(#p47f3a2e8f3)\">\n     <use style=\"fill:#d3dbe7;stroke:#d3dbe7;\" x=\"602.090625\" xlink:href=\"#C0_0_e937f91192\" y=\"167.340161\"/>\n    </g>\n    <g clip-path=\"url(#p47f3a2e8f3)\">\n     <use style=\"fill:#e2dad5;stroke:#e2dad5;\" x=\"603.675852\" xlink:href=\"#C0_0_e937f91192\" y=\"152.903176\"/>\n    </g>\n    <g clip-path=\"url(#p47f3a2e8f3)\">\n     <use style=\"fill:#ecd3c5;stroke:#ecd3c5;\" x=\"605.26108\" xlink:href=\"#C0_0_e937f91192\" y=\"141.891346\"/>\n    </g>\n    <g clip-path=\"url(#p47f3a2e8f3)\">\n     <use style=\"fill:#d4dbe6;stroke:#d4dbe6;\" x=\"606.846307\" xlink:href=\"#C0_0_e937f91192\" y=\"165.960627\"/>\n    </g>\n    <g clip-path=\"url(#p47f3a2e8f3)\">\n     <use style=\"fill:#dedcdb;stroke:#dedcdb;\" x=\"608.431534\" xlink:href=\"#C0_0_e937f91192\" y=\"157.041778\"/>\n    </g>\n    <g clip-path=\"url(#p47f3a2e8f3)\">\n     <use style=\"fill:#dedcdb;stroke:#dedcdb;\" x=\"610.016761\" xlink:href=\"#C0_0_e937f91192\" y=\"157.144136\"/>\n    </g>\n    <g clip-path=\"url(#p47f3a2e8f3)\">\n     <use style=\"fill:#cbd8ee;stroke:#cbd8ee;\" x=\"611.601989\" xlink:href=\"#C0_0_e937f91192\" y=\"174.196583\"/>\n    </g>\n    <g clip-path=\"url(#p47f3a2e8f3)\">\n     <use style=\"fill:#cbd8ee;stroke:#cbd8ee;\" x=\"613.187216\" xlink:href=\"#C0_0_e937f91192\" y=\"174.196583\"/>\n    </g>\n    <g clip-path=\"url(#p47f3a2e8f3)\">\n     <use style=\"fill:#cbd8ee;stroke:#cbd8ee;\" x=\"614.772443\" xlink:href=\"#C0_0_e937f91192\" y=\"174.196583\"/>\n    </g>\n    <g clip-path=\"url(#p47f3a2e8f3)\">\n     <use style=\"fill:#d7dce3;stroke:#d7dce3;\" x=\"616.35767\" xlink:href=\"#C0_0_e937f91192\" y=\"163.233641\"/>\n    </g>\n    <g clip-path=\"url(#p47f3a2e8f3)\">\n     <use style=\"fill:#e0dbd8;stroke:#e0dbd8;\" x=\"617.942898\" xlink:href=\"#C0_0_e937f91192\" y=\"155.066432\"/>\n    </g>\n    <g clip-path=\"url(#p47f3a2e8f3)\">\n     <use style=\"fill:#edd1c2;stroke:#edd1c2;\" x=\"619.528125\" xlink:href=\"#C0_0_e937f91192\" y=\"139.967943\"/>\n    </g>\n    <g clip-path=\"url(#p47f3a2e8f3)\">\n     <use style=\"fill:#e0dbd8;stroke:#e0dbd8;\" x=\"621.113352\" xlink:href=\"#C0_0_e937f91192\" y=\"155.098514\"/>\n    </g>\n    <g clip-path=\"url(#p47f3a2e8f3)\">\n     <use style=\"fill:#dbdcde;stroke:#dbdcde;\" x=\"622.69858\" xlink:href=\"#C0_0_e937f91192\" y=\"160.010144\"/>\n    </g>\n    <g clip-path=\"url(#p47f3a2e8f3)\">\n     <use style=\"fill:#e7d7ce;stroke:#e7d7ce;\" x=\"624.283807\" xlink:href=\"#C0_0_e937f91192\" y=\"148.295562\"/>\n    </g>\n    <g clip-path=\"url(#p47f3a2e8f3)\">\n     <use style=\"fill:#d5dbe5;stroke:#d5dbe5;\" x=\"625.869034\" xlink:href=\"#C0_0_e937f91192\" y=\"165.285373\"/>\n    </g>\n    <g clip-path=\"url(#p47f3a2e8f3)\">\n     <use style=\"fill:#cbd8ee;stroke:#cbd8ee;\" x=\"627.454261\" xlink:href=\"#C0_0_e937f91192\" y=\"174.196583\"/>\n    </g>\n    <g clip-path=\"url(#p47f3a2e8f3)\">\n     <use style=\"fill:#cbd8ee;stroke:#cbd8ee;\" x=\"629.039489\" xlink:href=\"#C0_0_e937f91192\" y=\"174.196583\"/>\n    </g>\n    <g clip-path=\"url(#p47f3a2e8f3)\">\n     <use style=\"fill:#cbd8ee;stroke:#cbd8ee;\" x=\"630.624716\" xlink:href=\"#C0_0_e937f91192\" y=\"174.196583\"/>\n    </g>\n    <g clip-path=\"url(#p47f3a2e8f3)\">\n     <use style=\"fill:#d8dce2;stroke:#d8dce2;\" x=\"632.209943\" xlink:href=\"#C0_0_e937f91192\" y=\"162.284924\"/>\n    </g>\n    <g clip-path=\"url(#p47f3a2e8f3)\">\n     <use style=\"fill:#e3d9d3;stroke:#e3d9d3;\" x=\"633.79517\" xlink:href=\"#C0_0_e937f91192\" y=\"151.534336\"/>\n    </g>\n    <g clip-path=\"url(#p47f3a2e8f3)\">\n     <use style=\"fill:#dedcdb;stroke:#dedcdb;\" x=\"635.380398\" xlink:href=\"#C0_0_e937f91192\" y=\"157.067749\"/>\n    </g>\n    <g clip-path=\"url(#p47f3a2e8f3)\">\n     <use style=\"fill:#d9dce1;stroke:#d9dce1;\" x=\"636.965625\" xlink:href=\"#C0_0_e937f91192\" y=\"161.189547\"/>\n    </g>\n    <g clip-path=\"url(#p47f3a2e8f3)\">\n     <use style=\"fill:#e3d9d3;stroke:#e3d9d3;\" x=\"638.550852\" xlink:href=\"#C0_0_e937f91192\" y=\"152.140842\"/>\n    </g>\n    <g clip-path=\"url(#p47f3a2e8f3)\">\n     <use style=\"fill:#dcdddd;stroke:#dcdddd;\" x=\"640.13608\" xlink:href=\"#C0_0_e937f91192\" y=\"158.71158\"/>\n    </g>\n    <g clip-path=\"url(#p47f3a2e8f3)\">\n     <use style=\"fill:#d4dbe6;stroke:#d4dbe6;\" x=\"641.721307\" xlink:href=\"#C0_0_e937f91192\" y=\"166.244783\"/>\n    </g>\n    <g clip-path=\"url(#p47f3a2e8f3)\">\n     <use style=\"fill:#cbd8ee;stroke:#cbd8ee;\" x=\"643.306534\" xlink:href=\"#C0_0_e937f91192\" y=\"174.196583\"/>\n    </g>\n    <g clip-path=\"url(#p47f3a2e8f3)\">\n     <use style=\"fill:#d2dbe8;stroke:#d2dbe8;\" x=\"644.891761\" xlink:href=\"#C0_0_e937f91192\" y=\"168.272072\"/>\n    </g>\n    <g clip-path=\"url(#p47f3a2e8f3)\">\n     <use style=\"fill:#e7d7ce;stroke:#e7d7ce;\" x=\"646.476989\" xlink:href=\"#C0_0_e937f91192\" y=\"148.492639\"/>\n    </g>\n    <g clip-path=\"url(#p47f3a2e8f3)\">\n     <use style=\"fill:#cedaeb;stroke:#cedaeb;\" x=\"648.062216\" xlink:href=\"#C0_0_e937f91192\" y=\"170.931838\"/>\n    </g>\n    <g clip-path=\"url(#p47f3a2e8f3)\">\n     <use style=\"fill:#cfdaea;stroke:#cfdaea;\" x=\"649.647443\" xlink:href=\"#C0_0_e937f91192\" y=\"170.505603\"/>\n    </g>\n    <g clip-path=\"url(#p47f3a2e8f3)\">\n     <use style=\"fill:#c7d7f0;stroke:#c7d7f0;\" x=\"651.23267\" xlink:href=\"#C0_0_e937f91192\" y=\"177.047315\"/>\n    </g>\n    <g clip-path=\"url(#p47f3a2e8f3)\">\n     <use style=\"fill:#c7d7f0;stroke:#c7d7f0;\" x=\"652.817898\" xlink:href=\"#C0_0_e937f91192\" y=\"177.059536\"/>\n    </g>\n    <g clip-path=\"url(#p47f3a2e8f3)\">\n     <use style=\"fill:#cdd9ec;stroke:#cdd9ec;\" x=\"654.403125\" xlink:href=\"#C0_0_e937f91192\" y=\"172.378592\"/>\n    </g>\n    <g clip-path=\"url(#p47f3a2e8f3)\">\n     <use style=\"fill:#d1dae9;stroke:#d1dae9;\" x=\"655.988352\" xlink:href=\"#C0_0_e937f91192\" y=\"169.56147\"/>\n    </g>\n    <g clip-path=\"url(#p47f3a2e8f3)\">\n     <use style=\"fill:#c9d7f0;stroke:#c9d7f0;\" x=\"657.57358\" xlink:href=\"#C0_0_e937f91192\" y=\"176.035962\"/>\n    </g>\n    <g clip-path=\"url(#p47f3a2e8f3)\">\n     <use style=\"fill:#d1dae9;stroke:#d1dae9;\" x=\"659.158807\" xlink:href=\"#C0_0_e937f91192\" y=\"169.32009\"/>\n    </g>\n    <g clip-path=\"url(#p47f3a2e8f3)\">\n     <use style=\"fill:#c7d7f0;stroke:#c7d7f0;\" x=\"660.744034\" xlink:href=\"#C0_0_e937f91192\" y=\"176.563026\"/>\n    </g>\n    <g clip-path=\"url(#p47f3a2e8f3)\">\n     <use style=\"fill:#c7d7f0;stroke:#c7d7f0;\" x=\"662.329261\" xlink:href=\"#C0_0_e937f91192\" y=\"176.563026\"/>\n    </g>\n    <g clip-path=\"url(#p47f3a2e8f3)\">\n     <use style=\"fill:#c7d7f0;stroke:#c7d7f0;\" x=\"663.914489\" xlink:href=\"#C0_0_e937f91192\" y=\"176.563026\"/>\n    </g>\n    <g clip-path=\"url(#p47f3a2e8f3)\">\n     <use style=\"fill:#cdd9ec;stroke:#cdd9ec;\" x=\"665.499716\" xlink:href=\"#C0_0_e937f91192\" y=\"172.351093\"/>\n    </g>\n    <g clip-path=\"url(#p47f3a2e8f3)\">\n     <use style=\"fill:#c7d7f0;stroke:#c7d7f0;\" x=\"667.084943\" xlink:href=\"#C0_0_e937f91192\" y=\"176.563026\"/>\n    </g>\n    <g clip-path=\"url(#p47f3a2e8f3)\">\n     <use style=\"fill:#cfdaea;stroke:#cfdaea;\" x=\"668.67017\" xlink:href=\"#C0_0_e937f91192\" y=\"170.499493\"/>\n    </g>\n    <g clip-path=\"url(#p47f3a2e8f3)\">\n     <use style=\"fill:#c7d7f0;stroke:#c7d7f0;\" x=\"670.255398\" xlink:href=\"#C0_0_e937f91192\" y=\"176.563026\"/>\n    </g>\n    <g clip-path=\"url(#p47f3a2e8f3)\">\n     <use style=\"fill:#d5dbe5;stroke:#d5dbe5;\" x=\"671.840625\" xlink:href=\"#C0_0_e937f91192\" y=\"165.865908\"/>\n    </g>\n    <g clip-path=\"url(#p47f3a2e8f3)\">\n     <use style=\"fill:#ccd9ed;stroke:#ccd9ed;\" x=\"673.425852\" xlink:href=\"#C0_0_e937f91192\" y=\"173.539662\"/>\n    </g>\n    <g clip-path=\"url(#p47f3a2e8f3)\">\n     <use style=\"fill:#c7d7f0;stroke:#c7d7f0;\" x=\"675.01108\" xlink:href=\"#C0_0_e937f91192\" y=\"176.563026\"/>\n    </g>\n    <g clip-path=\"url(#p47f3a2e8f3)\">\n     <use style=\"fill:#c7d7f0;stroke:#c7d7f0;\" x=\"676.596307\" xlink:href=\"#C0_0_e937f91192\" y=\"176.563026\"/>\n    </g>\n    <g clip-path=\"url(#p47f3a2e8f3)\">\n     <use style=\"fill:#c7d7f0;stroke:#c7d7f0;\" x=\"678.181534\" xlink:href=\"#C0_0_e937f91192\" y=\"176.563026\"/>\n    </g>\n    <g clip-path=\"url(#p47f3a2e8f3)\">\n     <use style=\"fill:#e5d8d1;stroke:#e5d8d1;\" x=\"679.766761\" xlink:href=\"#C0_0_e937f91192\" y=\"149.769815\"/>\n    </g>\n   </g>\n   <g id=\"line2d_19\">\n    <path clip-path=\"url(#p47f3a2e8f3)\" d=\"M 71.039489 281.289985 \nL 72.624716 281.560392 \nL 78.965625 281.560392 \nL 80.550852 281.734553 \nL 679.766761 281.76358 \nL 679.766761 281.76358 \n\" style=\"fill:none;stroke:#ff0000;stroke-linecap:round;stroke-width:1.5;\"/>\n   </g>\n   <g id=\"patch_3\">\n    <path d=\"M 40.603125 294.118125 \nL 40.603125 22.318125 \n\" style=\"fill:none;stroke:#ffffff;stroke-linecap:square;stroke-linejoin:miter;stroke-width:0.8;\"/>\n   </g>\n   <g id=\"patch_4\">\n    <path d=\"M 710.203125 294.118125 \nL 710.203125 22.318125 \n\" style=\"fill:none;stroke:#ffffff;stroke-linecap:square;stroke-linejoin:miter;stroke-width:0.8;\"/>\n   </g>\n   <g id=\"patch_5\">\n    <path d=\"M 40.603125 294.118125 \nL 710.203125 294.118125 \n\" style=\"fill:none;stroke:#ffffff;stroke-linecap:square;stroke-linejoin:miter;stroke-width:0.8;\"/>\n   </g>\n   <g id=\"patch_6\">\n    <path d=\"M 40.603125 22.318125 \nL 710.203125 22.318125 \n\" style=\"fill:none;stroke:#ffffff;stroke-linecap:square;stroke-linejoin:miter;stroke-width:0.8;\"/>\n   </g>\n   <g id=\"text_21\">\n    <!-- Plot optimization history -->\n    <defs>\n     <path d=\"M 19.671875 64.796875 \nL 19.671875 37.40625 \nL 32.078125 37.40625 \nQ 38.96875 37.40625 42.71875 40.96875 \nQ 46.484375 44.53125 46.484375 51.125 \nQ 46.484375 57.671875 42.71875 61.234375 \nQ 38.96875 64.796875 32.078125 64.796875 \nz\nM 9.8125 72.90625 \nL 32.078125 72.90625 \nQ 44.34375 72.90625 50.609375 67.359375 \nQ 56.890625 61.8125 56.890625 51.125 \nQ 56.890625 40.328125 50.609375 34.8125 \nQ 44.34375 29.296875 32.078125 29.296875 \nL 19.671875 29.296875 \nL 19.671875 0 \nL 9.8125 0 \nz\n\" id=\"DejaVuSans-80\"/>\n     <path d=\"M 9.421875 75.984375 \nL 18.40625 75.984375 \nL 18.40625 0 \nL 9.421875 0 \nz\n\" id=\"DejaVuSans-108\"/>\n     <path id=\"DejaVuSans-32\"/>\n     <path d=\"M 18.109375 8.203125 \nL 18.109375 -20.796875 \nL 9.078125 -20.796875 \nL 9.078125 54.6875 \nL 18.109375 54.6875 \nL 18.109375 46.390625 \nQ 20.953125 51.265625 25.265625 53.625 \nQ 29.59375 56 35.59375 56 \nQ 45.5625 56 51.78125 48.09375 \nQ 58.015625 40.1875 58.015625 27.296875 \nQ 58.015625 14.40625 51.78125 6.484375 \nQ 45.5625 -1.421875 35.59375 -1.421875 \nQ 29.59375 -1.421875 25.265625 0.953125 \nQ 20.953125 3.328125 18.109375 8.203125 \nz\nM 48.6875 27.296875 \nQ 48.6875 37.203125 44.609375 42.84375 \nQ 40.53125 48.484375 33.40625 48.484375 \nQ 26.265625 48.484375 22.1875 42.84375 \nQ 18.109375 37.203125 18.109375 27.296875 \nQ 18.109375 17.390625 22.1875 11.75 \nQ 26.265625 6.109375 33.40625 6.109375 \nQ 40.53125 6.109375 44.609375 11.75 \nQ 48.6875 17.390625 48.6875 27.296875 \nz\n\" id=\"DejaVuSans-112\"/>\n     <path d=\"M 9.421875 54.6875 \nL 18.40625 54.6875 \nL 18.40625 0 \nL 9.421875 0 \nz\nM 9.421875 75.984375 \nL 18.40625 75.984375 \nL 18.40625 64.59375 \nL 9.421875 64.59375 \nz\n\" id=\"DejaVuSans-105\"/>\n     <path d=\"M 52 44.1875 \nQ 55.375 50.25 60.0625 53.125 \nQ 64.75 56 71.09375 56 \nQ 79.640625 56 84.28125 50.015625 \nQ 88.921875 44.046875 88.921875 33.015625 \nL 88.921875 0 \nL 79.890625 0 \nL 79.890625 32.71875 \nQ 79.890625 40.578125 77.09375 44.375 \nQ 74.3125 48.1875 68.609375 48.1875 \nQ 61.625 48.1875 57.5625 43.546875 \nQ 53.515625 38.921875 53.515625 30.90625 \nL 53.515625 0 \nL 44.484375 0 \nL 44.484375 32.71875 \nQ 44.484375 40.625 41.703125 44.40625 \nQ 38.921875 48.1875 33.109375 48.1875 \nQ 26.21875 48.1875 22.15625 43.53125 \nQ 18.109375 38.875 18.109375 30.90625 \nL 18.109375 0 \nL 9.078125 0 \nL 9.078125 54.6875 \nL 18.109375 54.6875 \nL 18.109375 46.1875 \nQ 21.1875 51.21875 25.484375 53.609375 \nQ 29.78125 56 35.6875 56 \nQ 41.65625 56 45.828125 52.96875 \nQ 50 49.953125 52 44.1875 \nz\n\" id=\"DejaVuSans-109\"/>\n     <path d=\"M 5.515625 54.6875 \nL 48.1875 54.6875 \nL 48.1875 46.484375 \nL 14.40625 7.171875 \nL 48.1875 7.171875 \nL 48.1875 0 \nL 4.296875 0 \nL 4.296875 8.203125 \nL 38.09375 47.515625 \nL 5.515625 47.515625 \nz\n\" id=\"DejaVuSans-122\"/>\n     <path d=\"M 34.28125 27.484375 \nQ 23.390625 27.484375 19.1875 25 \nQ 14.984375 22.515625 14.984375 16.5 \nQ 14.984375 11.71875 18.140625 8.90625 \nQ 21.296875 6.109375 26.703125 6.109375 \nQ 34.1875 6.109375 38.703125 11.40625 \nQ 43.21875 16.703125 43.21875 25.484375 \nL 43.21875 27.484375 \nz\nM 52.203125 31.203125 \nL 52.203125 0 \nL 43.21875 0 \nL 43.21875 8.296875 \nQ 40.140625 3.328125 35.546875 0.953125 \nQ 30.953125 -1.421875 24.3125 -1.421875 \nQ 15.921875 -1.421875 10.953125 3.296875 \nQ 6 8.015625 6 15.921875 \nQ 6 25.140625 12.171875 29.828125 \nQ 18.359375 34.515625 30.609375 34.515625 \nL 43.21875 34.515625 \nL 43.21875 35.40625 \nQ 43.21875 41.609375 39.140625 45 \nQ 35.0625 48.390625 27.6875 48.390625 \nQ 23 48.390625 18.546875 47.265625 \nQ 14.109375 46.140625 10.015625 43.890625 \nL 10.015625 52.203125 \nQ 14.9375 54.109375 19.578125 55.046875 \nQ 24.21875 56 28.609375 56 \nQ 40.484375 56 46.34375 49.84375 \nQ 52.203125 43.703125 52.203125 31.203125 \nz\n\" id=\"DejaVuSans-97\"/>\n     <path d=\"M 54.890625 33.015625 \nL 54.890625 0 \nL 45.90625 0 \nL 45.90625 32.71875 \nQ 45.90625 40.484375 42.875 44.328125 \nQ 39.84375 48.1875 33.796875 48.1875 \nQ 26.515625 48.1875 22.3125 43.546875 \nQ 18.109375 38.921875 18.109375 30.90625 \nL 18.109375 0 \nL 9.078125 0 \nL 9.078125 54.6875 \nL 18.109375 54.6875 \nL 18.109375 46.1875 \nQ 21.34375 51.125 25.703125 53.5625 \nQ 30.078125 56 35.796875 56 \nQ 45.21875 56 50.046875 50.171875 \nQ 54.890625 44.34375 54.890625 33.015625 \nz\n\" id=\"DejaVuSans-110\"/>\n     <path d=\"M 54.890625 33.015625 \nL 54.890625 0 \nL 45.90625 0 \nL 45.90625 32.71875 \nQ 45.90625 40.484375 42.875 44.328125 \nQ 39.84375 48.1875 33.796875 48.1875 \nQ 26.515625 48.1875 22.3125 43.546875 \nQ 18.109375 38.921875 18.109375 30.90625 \nL 18.109375 0 \nL 9.078125 0 \nL 9.078125 75.984375 \nL 18.109375 75.984375 \nL 18.109375 46.1875 \nQ 21.34375 51.125 25.703125 53.5625 \nQ 30.078125 56 35.796875 56 \nQ 45.21875 56 50.046875 50.171875 \nQ 54.890625 44.34375 54.890625 33.015625 \nz\n\" id=\"DejaVuSans-104\"/>\n     <path d=\"M 44.28125 53.078125 \nL 44.28125 44.578125 \nQ 40.484375 46.53125 36.375 47.5 \nQ 32.28125 48.484375 27.875 48.484375 \nQ 21.1875 48.484375 17.84375 46.4375 \nQ 14.5 44.390625 14.5 40.28125 \nQ 14.5 37.15625 16.890625 35.375 \nQ 19.28125 33.59375 26.515625 31.984375 \nL 29.59375 31.296875 \nQ 39.15625 29.25 43.1875 25.515625 \nQ 47.21875 21.78125 47.21875 15.09375 \nQ 47.21875 7.46875 41.1875 3.015625 \nQ 35.15625 -1.421875 24.609375 -1.421875 \nQ 20.21875 -1.421875 15.453125 -0.5625 \nQ 10.6875 0.296875 5.421875 2 \nL 5.421875 11.28125 \nQ 10.40625 8.6875 15.234375 7.390625 \nQ 20.0625 6.109375 24.8125 6.109375 \nQ 31.15625 6.109375 34.5625 8.28125 \nQ 37.984375 10.453125 37.984375 14.40625 \nQ 37.984375 18.0625 35.515625 20.015625 \nQ 33.0625 21.96875 24.703125 23.78125 \nL 21.578125 24.515625 \nQ 13.234375 26.265625 9.515625 29.90625 \nQ 5.8125 33.546875 5.8125 39.890625 \nQ 5.8125 47.609375 11.28125 51.796875 \nQ 16.75 56 26.8125 56 \nQ 31.78125 56 36.171875 55.265625 \nQ 40.578125 54.546875 44.28125 53.078125 \nz\n\" id=\"DejaVuSans-115\"/>\n     <path d=\"M 32.171875 -5.078125 \nQ 28.375 -14.84375 24.75 -17.8125 \nQ 21.140625 -20.796875 15.09375 -20.796875 \nL 7.90625 -20.796875 \nL 7.90625 -13.28125 \nL 13.1875 -13.28125 \nQ 16.890625 -13.28125 18.9375 -11.515625 \nQ 21 -9.765625 23.484375 -3.21875 \nL 25.09375 0.875 \nL 2.984375 54.6875 \nL 12.5 54.6875 \nL 29.59375 11.921875 \nL 46.6875 54.6875 \nL 56.203125 54.6875 \nz\n\" id=\"DejaVuSans-121\"/>\n    </defs>\n    <g style=\"fill:#262626;\" transform=\"translate(302.315625 16.318125)scale(0.12 -0.12)\">\n     <use xlink:href=\"#DejaVuSans-80\"/>\n     <use x=\"60.302734\" xlink:href=\"#DejaVuSans-108\"/>\n     <use x=\"88.085938\" xlink:href=\"#DejaVuSans-111\"/>\n     <use x=\"149.267578\" xlink:href=\"#DejaVuSans-116\"/>\n     <use x=\"188.476562\" xlink:href=\"#DejaVuSans-32\"/>\n     <use x=\"220.263672\" xlink:href=\"#DejaVuSans-111\"/>\n     <use x=\"281.445312\" xlink:href=\"#DejaVuSans-112\"/>\n     <use x=\"344.921875\" xlink:href=\"#DejaVuSans-116\"/>\n     <use x=\"384.130859\" xlink:href=\"#DejaVuSans-105\"/>\n     <use x=\"411.914062\" xlink:href=\"#DejaVuSans-109\"/>\n     <use x=\"509.326172\" xlink:href=\"#DejaVuSans-105\"/>\n     <use x=\"537.109375\" xlink:href=\"#DejaVuSans-122\"/>\n     <use x=\"589.599609\" xlink:href=\"#DejaVuSans-97\"/>\n     <use x=\"650.878906\" xlink:href=\"#DejaVuSans-116\"/>\n     <use x=\"690.087891\" xlink:href=\"#DejaVuSans-105\"/>\n     <use x=\"717.871094\" xlink:href=\"#DejaVuSans-111\"/>\n     <use x=\"779.052734\" xlink:href=\"#DejaVuSans-110\"/>\n     <use x=\"842.431641\" xlink:href=\"#DejaVuSans-32\"/>\n     <use x=\"874.21875\" xlink:href=\"#DejaVuSans-104\"/>\n     <use x=\"937.597656\" xlink:href=\"#DejaVuSans-105\"/>\n     <use x=\"965.380859\" xlink:href=\"#DejaVuSans-115\"/>\n     <use x=\"1017.480469\" xlink:href=\"#DejaVuSans-116\"/>\n     <use x=\"1056.689453\" xlink:href=\"#DejaVuSans-111\"/>\n     <use x=\"1117.871094\" xlink:href=\"#DejaVuSans-114\"/>\n     <use x=\"1158.984375\" xlink:href=\"#DejaVuSans-121\"/>\n    </g>\n   </g>\n   <g id=\"legend_1\">\n    <g id=\"patch_7\">\n     <path d=\"M 617.876563 59.674375 \nL 703.203125 59.674375 \nQ 705.203125 59.674375 705.203125 57.674375 \nL 705.203125 29.318125 \nQ 705.203125 27.318125 703.203125 27.318125 \nL 617.876563 27.318125 \nQ 615.876563 27.318125 615.876563 29.318125 \nL 615.876563 57.674375 \nQ 615.876563 59.674375 617.876563 59.674375 \nz\n\" style=\"fill:#eaeaf2;opacity:0.8;stroke:#cccccc;stroke-linejoin:miter;\"/>\n    </g>\n    <g id=\"line2d_20\">\n     <path d=\"M 619.876563 35.416562 \nL 639.876563 35.416562 \n\" style=\"fill:none;stroke:#ff0000;stroke-linecap:round;stroke-width:1.5;\"/>\n    </g>\n    <g id=\"line2d_21\"/>\n    <g id=\"text_22\">\n     <!-- Best Score -->\n     <defs>\n      <path d=\"M 19.671875 34.8125 \nL 19.671875 8.109375 \nL 35.5 8.109375 \nQ 43.453125 8.109375 47.28125 11.40625 \nQ 51.125 14.703125 51.125 21.484375 \nQ 51.125 28.328125 47.28125 31.5625 \nQ 43.453125 34.8125 35.5 34.8125 \nz\nM 19.671875 64.796875 \nL 19.671875 42.828125 \nL 34.28125 42.828125 \nQ 41.5 42.828125 45.03125 45.53125 \nQ 48.578125 48.25 48.578125 53.8125 \nQ 48.578125 59.328125 45.03125 62.0625 \nQ 41.5 64.796875 34.28125 64.796875 \nz\nM 9.8125 72.90625 \nL 35.015625 72.90625 \nQ 46.296875 72.90625 52.390625 68.21875 \nQ 58.5 63.53125 58.5 54.890625 \nQ 58.5 48.1875 55.375 44.234375 \nQ 52.25 40.28125 46.1875 39.3125 \nQ 53.46875 37.75 57.5 32.78125 \nQ 61.53125 27.828125 61.53125 20.40625 \nQ 61.53125 10.640625 54.890625 5.3125 \nQ 48.25 0 35.984375 0 \nL 9.8125 0 \nz\n\" id=\"DejaVuSans-66\"/>\n     </defs>\n     <g style=\"fill:#262626;\" transform=\"translate(647.876563 38.916562)scale(0.1 -0.1)\">\n      <use xlink:href=\"#DejaVuSans-66\"/>\n      <use x=\"68.603516\" xlink:href=\"#DejaVuSans-101\"/>\n      <use x=\"130.126953\" xlink:href=\"#DejaVuSans-115\"/>\n      <use x=\"182.226562\" xlink:href=\"#DejaVuSans-116\"/>\n      <use x=\"221.435547\" xlink:href=\"#DejaVuSans-32\"/>\n      <use x=\"253.222656\" xlink:href=\"#DejaVuSans-83\"/>\n      <use x=\"316.699219\" xlink:href=\"#DejaVuSans-99\"/>\n      <use x=\"371.679688\" xlink:href=\"#DejaVuSans-111\"/>\n      <use x=\"432.861328\" xlink:href=\"#DejaVuSans-114\"/>\n      <use x=\"471.724609\" xlink:href=\"#DejaVuSans-101\"/>\n     </g>\n    </g>\n    <g id=\"PathCollection_2\">\n     <defs>\n      <path d=\"M 0 2.5 \nC 0.663008 2.5 1.29895 2.236584 1.767767 1.767767 \nC 2.236584 1.29895 2.5 0.663008 2.5 0 \nC 2.5 -0.663008 2.236584 -1.29895 1.767767 -1.767767 \nC 1.29895 -2.236584 0.663008 -2.5 0 -2.5 \nC -0.663008 -2.5 -1.29895 -2.236584 -1.767767 -1.767767 \nC -2.236584 -1.29895 -2.5 -0.663008 -2.5 0 \nC -2.5 0.663008 -2.236584 1.29895 -1.767767 1.767767 \nC -1.29895 2.236584 -0.663008 2.5 0 2.5 \nz\n\" id=\"m39f6dcec47\" style=\"stroke:#1f77b4;\"/>\n     </defs>\n     <g>\n      <use style=\"fill:#1f77b4;stroke:#1f77b4;\" x=\"629.876563\" xlink:href=\"#m39f6dcec47\" y=\"50.969688\"/>\n     </g>\n    </g>\n    <g id=\"text_23\">\n     <!-- Iter Score -->\n     <g style=\"fill:#262626;\" transform=\"translate(647.876563 53.594688)scale(0.1 -0.1)\">\n      <use xlink:href=\"#DejaVuSans-73\"/>\n      <use x=\"29.492188\" xlink:href=\"#DejaVuSans-116\"/>\n      <use x=\"68.701172\" xlink:href=\"#DejaVuSans-101\"/>\n      <use x=\"130.224609\" xlink:href=\"#DejaVuSans-114\"/>\n      <use x=\"171.337891\" xlink:href=\"#DejaVuSans-32\"/>\n      <use x=\"203.125\" xlink:href=\"#DejaVuSans-83\"/>\n      <use x=\"266.601562\" xlink:href=\"#DejaVuSans-99\"/>\n      <use x=\"321.582031\" xlink:href=\"#DejaVuSans-111\"/>\n      <use x=\"382.763672\" xlink:href=\"#DejaVuSans-114\"/>\n      <use x=\"421.626953\" xlink:href=\"#DejaVuSans-101\"/>\n     </g>\n    </g>\n   </g>\n  </g>\n  <g id=\"axes_2\">\n   <g id=\"patch_8\">\n    <path clip-path=\"url(#p61f324908c)\" d=\"M 752.053125 294.118125 \nL 752.053125 293.056406 \nL 752.053125 23.379844 \nL 752.053125 22.318125 \nL 765.643125 22.318125 \nL 765.643125 23.379844 \nL 765.643125 293.056406 \nL 765.643125 294.118125 \nz\n\" style=\"fill:#eaeaf2;stroke:#eaeaf2;stroke-linejoin:miter;stroke-width:0.01;\"/>\n   </g>\n   <g id=\"matplotlib.axis_3\"/>\n   <g id=\"matplotlib.axis_4\">\n    <g id=\"ytick_10\">\n     <g id=\"line2d_22\">\n      <defs>\n       <path d=\"M 0 0 \nL 3.5 0 \n\" id=\"m20aff9c322\" style=\"stroke:#262626;stroke-width:0.8;\"/>\n      </defs>\n      <g>\n       <use style=\"fill:#262626;stroke:#262626;stroke-width:0.8;\" x=\"765.643125\" xlink:href=\"#m20aff9c322\" y=\"272.374192\"/>\n      </g>\n     </g>\n     <g id=\"text_24\">\n      <!-- 2 -->\n      <g style=\"fill:#262626;\" transform=\"translate(772.643125 276.173411)scale(0.1 -0.1)\">\n       <use xlink:href=\"#DejaVuSans-50\"/>\n      </g>\n     </g>\n    </g>\n    <g id=\"ytick_11\">\n     <g id=\"line2d_23\">\n      <g>\n       <use style=\"fill:#262626;stroke:#262626;stroke-width:0.8;\" x=\"765.643125\" xlink:href=\"#m20aff9c322\" y=\"238.76428\"/>\n      </g>\n     </g>\n     <g id=\"text_25\">\n      <!-- 4 -->\n      <g style=\"fill:#262626;\" transform=\"translate(772.643125 242.563499)scale(0.1 -0.1)\">\n       <use xlink:href=\"#DejaVuSans-52\"/>\n      </g>\n     </g>\n    </g>\n    <g id=\"ytick_12\">\n     <g id=\"line2d_24\">\n      <g>\n       <use style=\"fill:#262626;stroke:#262626;stroke-width:0.8;\" x=\"765.643125\" xlink:href=\"#m20aff9c322\" y=\"205.154368\"/>\n      </g>\n     </g>\n     <g id=\"text_26\">\n      <!-- 6 -->\n      <g style=\"fill:#262626;\" transform=\"translate(772.643125 208.953586)scale(0.1 -0.1)\">\n       <use xlink:href=\"#DejaVuSans-54\"/>\n      </g>\n     </g>\n    </g>\n    <g id=\"ytick_13\">\n     <g id=\"line2d_25\">\n      <g>\n       <use style=\"fill:#262626;stroke:#262626;stroke-width:0.8;\" x=\"765.643125\" xlink:href=\"#m20aff9c322\" y=\"171.544455\"/>\n      </g>\n     </g>\n     <g id=\"text_27\">\n      <!-- 8 -->\n      <g style=\"fill:#262626;\" transform=\"translate(772.643125 175.343674)scale(0.1 -0.1)\">\n       <use xlink:href=\"#DejaVuSans-56\"/>\n      </g>\n     </g>\n    </g>\n    <g id=\"ytick_14\">\n     <g id=\"line2d_26\">\n      <g>\n       <use style=\"fill:#262626;stroke:#262626;stroke-width:0.8;\" x=\"765.643125\" xlink:href=\"#m20aff9c322\" y=\"137.934543\"/>\n      </g>\n     </g>\n     <g id=\"text_28\">\n      <!-- 10 -->\n      <g style=\"fill:#262626;\" transform=\"translate(772.643125 141.733762)scale(0.1 -0.1)\">\n       <use xlink:href=\"#DejaVuSans-49\"/>\n       <use x=\"63.623047\" xlink:href=\"#DejaVuSans-48\"/>\n      </g>\n     </g>\n    </g>\n    <g id=\"ytick_15\">\n     <g id=\"line2d_27\">\n      <g>\n       <use style=\"fill:#262626;stroke:#262626;stroke-width:0.8;\" x=\"765.643125\" xlink:href=\"#m20aff9c322\" y=\"104.324631\"/>\n      </g>\n     </g>\n     <g id=\"text_29\">\n      <!-- 12 -->\n      <g style=\"fill:#262626;\" transform=\"translate(772.643125 108.123849)scale(0.1 -0.1)\">\n       <use xlink:href=\"#DejaVuSans-49\"/>\n       <use x=\"63.623047\" xlink:href=\"#DejaVuSans-50\"/>\n      </g>\n     </g>\n    </g>\n    <g id=\"ytick_16\">\n     <g id=\"line2d_28\">\n      <g>\n       <use style=\"fill:#262626;stroke:#262626;stroke-width:0.8;\" x=\"765.643125\" xlink:href=\"#m20aff9c322\" y=\"70.714718\"/>\n      </g>\n     </g>\n     <g id=\"text_30\">\n      <!-- 14 -->\n      <g style=\"fill:#262626;\" transform=\"translate(772.643125 74.513937)scale(0.1 -0.1)\">\n       <use xlink:href=\"#DejaVuSans-49\"/>\n       <use x=\"63.623047\" xlink:href=\"#DejaVuSans-52\"/>\n      </g>\n     </g>\n    </g>\n    <g id=\"ytick_17\">\n     <g id=\"line2d_29\">\n      <g>\n       <use style=\"fill:#262626;stroke:#262626;stroke-width:0.8;\" x=\"765.643125\" xlink:href=\"#m20aff9c322\" y=\"37.104806\"/>\n      </g>\n     </g>\n     <g id=\"text_31\">\n      <!-- 16 -->\n      <g style=\"fill:#262626;\" transform=\"translate(772.643125 40.904025)scale(0.1 -0.1)\">\n       <use xlink:href=\"#DejaVuSans-49\"/>\n       <use x=\"63.623047\" xlink:href=\"#DejaVuSans-54\"/>\n      </g>\n     </g>\n    </g>\n   </g>\n   <image height=\"271\" id=\"image5a8fbffe6d\" transform=\"scale(1 -1)translate(0 -271)\" width=\"14\" x=\"752\" xlink:href=\"data:image/png;base64,\niVBORw0KGgoAAAANSUhEUgAAAA4AAAEPCAYAAAByY/XAAAAABHNCSVQICAgIfAhkiAAAAXtJREFUaIHtmNGNAjEQQ5Noy6IGiqYtjg0VwMcb6Y187P5bHnvsCWLe7o89wHfMNQluHHMuCMSMCzIuWyNDjRZzMONqCEBMVhdex9TN+YkAMCAvMr85Ockp3FU/qzG1wuZErQPhOGPDi9wQOeqqn5yCOQjXUyuEa6kVN0dmrBQZAnlW+Tog0M+qfsk7RuXrsBkLBxkzMmChyDnr8CMXNSr6yyrMVagxKQCDaey4AHpW+ajQ1ag+BmnMGRW7SvdYKDJ31TankBz2JWkMYiwUWTfHBlZe5BSNLcATArGrW9e4qcaL8RujXuQgV3nIIePAjDmuNmikjIMz2uugo1aKbLvqJ6eDUQ/5aZvToPFax8ePXwC/yAVzgkbVQ376jP/fnG0zNhR5+3vUGbnGmORUAmDvcevJ4Rr13+R41KCQN0ROdzUo5A3mxDBWXuQUjS2MMaOer5hRr3V8/pJe5I6s6hrpqL5GzvjKCQBexx9lfMqMhQtgj3rsJ0yOvo43OE5YBpW3M0kAAAAASUVORK5CYII=\" y=\"-22\"/>\n   <g id=\"patch_9\">\n    <path d=\"M 752.053125 294.118125 \nL 752.053125 293.056406 \nL 752.053125 23.379844 \nL 752.053125 22.318125 \nL 765.643125 22.318125 \nL 765.643125 23.379844 \nL 765.643125 293.056406 \nL 765.643125 294.118125 \nz\n\" style=\"fill:none;stroke:#ffffff;stroke-linejoin:miter;stroke-width:0.8;\"/>\n   </g>\n  </g>\n </g>\n <defs>\n  <clipPath id=\"p47f3a2e8f3\">\n   <rect height=\"271.8\" width=\"669.6\" x=\"40.603125\" y=\"22.318125\"/>\n  </clipPath>\n  <clipPath id=\"p61f324908c\">\n   <rect height=\"271.8\" width=\"13.59\" x=\"752.053125\" y=\"22.318125\"/>\n  </clipPath>\n </defs>\n</svg>\n",
            "image/png": "[encoded data removed]"
          },
          "metadata": {}
        }
      ],
      "source": [
        "model.plot_opt_history()"
      ]
    },
    {
      "cell_type": "code",
      "execution_count": 41,
      "metadata": {},
      "outputs": [
        {
          "output_type": "execute_result",
          "data": {
            "text/plain": [
              "{'random_seed': 42,\n",
              " 'num_iterations': 500,\n",
              " 'verbose': -1,\n",
              " 'device_type': 'cpu',\n",
              " 'objective': 'binary',\n",
              " 'min_child_samples': 3,\n",
              " 'learning_rate': 0.08,\n",
              " 'num_leaves': 16,\n",
              " 'bagging_fraction': 0.6000000000000001,\n",
              " 'feature_fraction': 0.7,\n",
              " 'bagging_freq': 10}"
            ]
          },
          "metadata": {},
          "execution_count": 41
        }
      ],
      "source": [
        "model.model_param"
      ]
    },
    {
      "cell_type": "code",
      "execution_count": 42,
      "metadata": {},
      "outputs": [
        {
          "output_type": "stream",
          "name": "stdout",
          "text": [
            "Test MSE:  491.6176315789474\n"
          ]
        }
      ],
      "source": [
        "model = model.fit(X_train, y_train)\n",
        "predicts = model.predict(X_test)\n",
        "print('Test MSE: ', sklearn.metrics.mean_squared_error(y_test, predicts))"
      ]
    },
    {
      "cell_type": "markdown",
      "metadata": {
        "id": "UyDu6ufSbV6G",
        "colab_type": "text"
      },
      "source": [
        "# Advanced Use"
      ]
    },
    {
      "cell_type": "code",
      "execution_count": 13,
      "metadata": {},
      "outputs": [
        {
          "output_type": "execute_result",
          "data": {
            "text/plain": [
              "  age         workclass    fnlwgt  education  education-num  \\\n",
              "0   2         State-gov   77516.0  Bachelors           13.0   \n",
              "1   3  Self-emp-not-inc   83311.0  Bachelors           13.0   \n",
              "2   2           Private  215646.0    HS-grad            9.0   \n",
              "3   3           Private  234721.0       11th            7.0   \n",
              "4   1           Private  338409.0  Bachelors           13.0   \n",
              "\n",
              "       marital-status         occupation   relationship   race     sex  \\\n",
              "0       Never-married       Adm-clerical  Not-in-family  White    Male   \n",
              "1  Married-civ-spouse    Exec-managerial        Husband  White    Male   \n",
              "2            Divorced  Handlers-cleaners  Not-in-family  White    Male   \n",
              "3  Married-civ-spouse  Handlers-cleaners        Husband  Black    Male   \n",
              "4  Married-civ-spouse     Prof-specialty           Wife  Black  Female   \n",
              "\n",
              "  capitalgain capitalloss hoursperweek native-country  \n",
              "0           1           0            2  United-States  \n",
              "1           0           0            0  United-States  \n",
              "2           0           0            2  United-States  \n",
              "3           0           0            2  United-States  \n",
              "4           0           0            2           Cuba  "
            ],
            "text/html": "<div>\n<style scoped>\n    .dataframe tbody tr th:only-of-type {\n        vertical-align: middle;\n    }\n\n    .dataframe tbody tr th {\n        vertical-align: top;\n    }\n\n    .dataframe thead th {\n        text-align: right;\n    }\n</style>\n<table border=\"1\" class=\"dataframe\">\n  <thead>\n    <tr style=\"text-align: right;\">\n      <th></th>\n      <th>age</th>\n      <th>workclass</th>\n      <th>fnlwgt</th>\n      <th>education</th>\n      <th>education-num</th>\n      <th>marital-status</th>\n      <th>occupation</th>\n      <th>relationship</th>\n      <th>race</th>\n      <th>sex</th>\n      <th>capitalgain</th>\n      <th>capitalloss</th>\n      <th>hoursperweek</th>\n      <th>native-country</th>\n    </tr>\n  </thead>\n  <tbody>\n    <tr>\n      <th>0</th>\n      <td>2</td>\n      <td>State-gov</td>\n      <td>77516.0</td>\n      <td>Bachelors</td>\n      <td>13.0</td>\n      <td>Never-married</td>\n      <td>Adm-clerical</td>\n      <td>Not-in-family</td>\n      <td>White</td>\n      <td>Male</td>\n      <td>1</td>\n      <td>0</td>\n      <td>2</td>\n      <td>United-States</td>\n    </tr>\n    <tr>\n      <th>1</th>\n      <td>3</td>\n      <td>Self-emp-not-inc</td>\n      <td>83311.0</td>\n      <td>Bachelors</td>\n      <td>13.0</td>\n      <td>Married-civ-spouse</td>\n      <td>Exec-managerial</td>\n      <td>Husband</td>\n      <td>White</td>\n      <td>Male</td>\n      <td>0</td>\n      <td>0</td>\n      <td>0</td>\n      <td>United-States</td>\n    </tr>\n    <tr>\n      <th>2</th>\n      <td>2</td>\n      <td>Private</td>\n      <td>215646.0</td>\n      <td>HS-grad</td>\n      <td>9.0</td>\n      <td>Divorced</td>\n      <td>Handlers-cleaners</td>\n      <td>Not-in-family</td>\n      <td>White</td>\n      <td>Male</td>\n      <td>0</td>\n      <td>0</td>\n      <td>2</td>\n      <td>United-States</td>\n    </tr>\n    <tr>\n      <th>3</th>\n      <td>3</td>\n      <td>Private</td>\n      <td>234721.0</td>\n      <td>11th</td>\n      <td>7.0</td>\n      <td>Married-civ-spouse</td>\n      <td>Handlers-cleaners</td>\n      <td>Husband</td>\n      <td>Black</td>\n      <td>Male</td>\n      <td>0</td>\n      <td>0</td>\n      <td>2</td>\n      <td>United-States</td>\n    </tr>\n    <tr>\n      <th>4</th>\n      <td>1</td>\n      <td>Private</td>\n      <td>338409.0</td>\n      <td>Bachelors</td>\n      <td>13.0</td>\n      <td>Married-civ-spouse</td>\n      <td>Prof-specialty</td>\n      <td>Wife</td>\n      <td>Black</td>\n      <td>Female</td>\n      <td>0</td>\n      <td>0</td>\n      <td>2</td>\n      <td>Cuba</td>\n    </tr>\n  </tbody>\n</table>\n</div>"
          },
          "metadata": {},
          "execution_count": 13
        }
      ],
      "source": [
        "dataset = fetch_openml(name='adult', version=1, as_frame=True)\n",
        "# convert target to binary\n",
        "dataset.target = dataset.target.astype('category').cat.codes\n",
        "dataset.data.head(5)"
      ]
    },
    {
      "cell_type": "code",
      "execution_count": 14,
      "metadata": {},
      "outputs": [
        {
          "output_type": "execute_result",
          "data": {
            "text/plain": [
              "((39073, 14), (9769, 14))"
            ]
          },
          "metadata": {},
          "execution_count": 14
        }
      ],
      "source": [
        "X_train, X_test, y_train, y_test = train_test_split(dataset.data, \n",
        "                                                    dataset.target,\n",
        "                                                    test_size=0.2, \n",
        "                                                    random_state=RANDOM_SEED,)\n",
        "X_train.shape, X_test.shape"
      ]
    },
    {
      "cell_type": "code",
      "execution_count": 15,
      "metadata": {},
      "outputs": [
        {
          "output_type": "stream",
          "name": "stderr",
          "text": [
            "23:05:32 | Source data shape: (39073, 14)\n",
            "23:05:32 | ##################################################\n",
            "23:05:32 | ! START preprocessing Data\n",
            "23:05:32 | - Auto detect cat features: 12\n",
            "23:05:32 | > Binary Features\n",
            "23:05:32 | > Clean Categorical Features\n",
            "23:05:32 | > Transform Categorical Features.\n",
            "23:05:34 |  - Encoder: HelmertEncoder ADD features: 123\n",
            "23:05:34 |  - Encoder: CountEncoder ADD features: 12\n",
            "23:05:34 | > CleanOutliers\n",
            "23:05:34 | Num of outlier detected: 560 in Feature fnlwgt\n",
            "23:05:34 | Proportion of outlier detected: 1.4 %\n",
            "23:05:34 | Num of outlier detected: 253 in Feature education-num\n",
            "23:05:34 | Proportion of outlier detected: 0.6 %\n",
            "23:05:34 |   No nans features\n",
            "23:05:34 | > Generate interaction Num Features\n",
            "23:05:34 |  ADD features: 3\n",
            "23:05:34 | > Normalization Features\n",
            "23:05:35 | > Reduce_Memory\n",
            "23:05:35 | Memory usage of dataframe is 44.12 MB\n",
            "23:05:35 | Memory usage after optimization is: 22.62 MB\n",
            "23:05:35 | Decreased by 48.7%\n",
            "23:05:35 | ##################################################\n",
            "23:05:35 | Final data shape: (39073, 154)\n",
            "23:05:35 | Total ADD columns: 140\n",
            "23:05:35 | ##################################################\n",
            "23:05:35 | ##################################################\n",
            "23:05:35 | ! Start Transform Data\n",
            "23:05:35 | > Clean Binary Features\n",
            "23:05:35 | > Clean Categorical Features\n",
            "23:05:35 | > Transform Categorical Features.\n",
            "23:05:36 |  - Encoder: HelmertEncoder ADD features: 123\n",
            "23:05:36 |  - Encoder: CountEncoder ADD features: 12\n",
            "23:05:36 | > Generate interaction Num Features\n",
            "23:05:36 |  ADD features: 3\n",
            "23:05:36 | > Normalization Features\n",
            "23:05:36 | > Reduce_Memory\n",
            "23:05:36 | Memory usage of dataframe is 11.03 MB\n",
            "23:05:36 | Memory usage after optimization is: 5.66 MB\n",
            "23:05:36 | Decreased by 48.7%\n",
            "23:05:36 | ##################################################\n",
            "23:05:36 | Final data shape: (9769, 154)\n",
            "23:05:36 | Total ADD columns: 140\n",
            "23:05:36 | ##################################################\n"
          ]
        }
      ],
      "source": [
        "de = DataPrepare(random_state=RANDOM_SEED)\n",
        "X_train = de.fit_transform(X_train)\n",
        "X_test = de.transform(X_test)"
      ]
    },
    {
      "cell_type": "code",
      "execution_count": 16,
      "metadata": {},
      "outputs": [
        {
          "output_type": "stream",
          "name": "stdout",
          "text": [
            "Test metric:  4.9286\n"
          ]
        }
      ],
      "source": [
        "model = LightGBMClassifier(random_state=RANDOM_SEED)\n",
        "model = model.fit(X_train, y_train)\n",
        "predicts = model.predict(X_test)\n",
        "print('Test metric: ', round(sklearn.metrics.log_loss(y_test, predicts),4))"
      ]
    },
    {
      "cell_type": "markdown",
      "metadata": {},
      "source": [
        "## Advanced opt"
      ]
    },
    {
      "cell_type": "code",
      "metadata": {
        "ExecuteTime": {
          "end_time": "2020-05-07T08:52:14.362888Z",
          "start_time": "2020-05-07T08:42:07.420500Z"
        },
        "id": "7GMuIW6UbV6J",
        "colab_type": "code",
        "colab": {
          "base_uri": "https://localhost:8080/",
          "height": 187
        },
        "outputId": "ca594d1b-bd4b-42cf-ff1a-6444add1ae92",
        "tags": []
      },
      "source": [
        "history = model.opt(\n",
        "            X_train, y_train,\n",
        "            metric=sklearn.metrics.log_loss, # log_loss\n",
        "            direction='minimize', # changed optimization direction for log_loss\n",
        "            combined_score_opt=True, # in 'minimize' score_opt = score + std\n",
        "            timeout=1000, # sec\n",
        "            auto_parameters=False, # try to set the rules ourselves\n",
        "            folds=10,\n",
        "            score_folds=3, # put 3 folds\n",
        "            cold_start=50, # I plan > 200 iterations. 50 iterations are enough to evaluate the space\n",
        "            opt_lvl=3,\n",
        "            early_stoping=100, # stop otimization if no better parameters are found through iterations\n",
        "            verbose=1,)"
      ],
      "execution_count": 47,
      "outputs": [
        {
          "output_type": "stream",
          "name": "stderr",
          "text": [
            "01:03:45 | An error has been caught in function '<module>', process 'MainProcess' (94111), thread 'MainThread' (139974332950336):\n",
            "Traceback (most recent call last):\n",
            "\n",
            "  File \"/home/lek/.vscode/extensions/ms-toolsai.jupyter-2021.2.576440691/pythonFiles/vscode_datascience_helpers/../pyvsc-run-isolated.py\", line 24, in <module>\n",
            "    runpy.run_path(module, run_name=\"__main__\")\n",
            "    │     │        └ '/home/lek/.vscode/extensions/ms-toolsai.jupyter-2021.2.576440691/pythonFiles/vscode_datascience_helpers/kernel_prewarm_start...\n",
            "    │     └ <function run_path at 0x7f4e4fe79d30>\n",
            "    └ <module 'runpy' from '/home/lek/anaconda3/envs/ds/lib/python3.8/runpy.py'>\n",
            "\n",
            "  File \"/home/lek/anaconda3/envs/ds/lib/python3.8/runpy.py\", line 265, in run_path\n",
            "    return _run_module_code(code, init_globals, run_name,\n",
            "           │                │     │             └ '__main__'\n",
            "           │                │     └ None\n",
            "           │                └ <code object <module> at 0x7f4e4fe922f0, file \"/home/lek/.vscode/extensions/ms-toolsai.jupyter-2021.2.576440691/pythonFiles/v...\n",
            "           └ <function _run_module_code at 0x7f4e4fe799d0>\n",
            "  File \"/home/lek/anaconda3/envs/ds/lib/python3.8/runpy.py\", line 97, in _run_module_code\n",
            "    _run_code(code, mod_globals, init_globals,\n",
            "    │         │     │            └ None\n",
            "    │         │     └ {'__name__': '__main__', '__doc__': \"Starts the python kernel the same way we would if we used the CLI.\\nIPykernel module mus...\n",
            "    │         └ <code object <module> at 0x7f4e4fe922f0, file \"/home/lek/.vscode/extensions/ms-toolsai.jupyter-2021.2.576440691/pythonFiles/v...\n",
            "    └ <function _run_code at 0x7f4e4fed0790>\n",
            "  File \"/home/lek/anaconda3/envs/ds/lib/python3.8/runpy.py\", line 87, in _run_code\n",
            "    exec(code, run_globals)\n",
            "         │     └ {'__name__': '__main__', '__doc__': \"Starts the python kernel the same way we would if we used the CLI.\\nIPykernel module mus...\n",
            "         └ <code object <module> at 0x7f4e4fe922f0, file \"/home/lek/.vscode/extensions/ms-toolsai.jupyter-2021.2.576440691/pythonFiles/v...\n",
            "\n",
            "  File \"/home/lek/.vscode/extensions/ms-toolsai.jupyter-2021.2.576440691/pythonFiles/vscode_datascience_helpers/kernel_prewarm_starter.py\", line 31, in <module>\n",
            "    runpy.run_module(module, run_name=\"__main__\", alter_sys=False)\n",
            "    │     │          └ 'ipykernel_launcher'\n",
            "    │     └ <function run_module at 0x7f4e4fe79b80>\n",
            "    └ <module 'runpy' from '/home/lek/anaconda3/envs/ds/lib/python3.8/runpy.py'>\n",
            "\n",
            "  File \"/home/lek/anaconda3/envs/ds/lib/python3.8/runpy.py\", line 210, in run_module\n",
            "    return _run_code(code, {}, init_globals, run_name, mod_spec)\n",
            "           │         │         │             │         └ ModuleSpec(name='ipykernel_launcher', loader=<_frozen_importlib_external.SourceFileLoader object at 0x7f4e4fe940d0>, origin='...\n",
            "           │         │         │             └ '__main__'\n",
            "           │         │         └ None\n",
            "           │         └ <code object <module> at 0x7f4e4e024b30, file \"/home/lek/anaconda3/envs/ds/lib/python3.8/site-packages/ipykernel_launcher.py\"...\n",
            "           └ <function _run_code at 0x7f4e4fed0790>\n",
            "  File \"/home/lek/anaconda3/envs/ds/lib/python3.8/runpy.py\", line 87, in _run_code\n",
            "    exec(code, run_globals)\n",
            "         │     └ {'__name__': '__main__', '__file__': '/home/lek/anaconda3/envs/ds/lib/python3.8/site-packages/ipykernel_launcher.py', '__cach...\n",
            "         └ <code object <module> at 0x7f4e4e024b30, file \"/home/lek/anaconda3/envs/ds/lib/python3.8/site-packages/ipykernel_launcher.py\"...\n",
            "  File \"/home/lek/anaconda3/envs/ds/lib/python3.8/site-packages/ipykernel_launcher.py\", line 16, in <module>\n",
            "    app.launch_new_instance()\n",
            "    │   └ <bound method Application.launch_instance of <class 'ipykernel.kernelapp.IPKernelApp'>>\n",
            "    └ <module 'ipykernel.kernelapp' from '/home/lek/anaconda3/envs/ds/lib/python3.8/site-packages/ipykernel/kernelapp.py'>\n",
            "  File \"/home/lek/anaconda3/envs/ds/lib/python3.8/site-packages/traitlets/config/application.py\", line 664, in launch_instance\n",
            "    app.start()\n",
            "    │   └ <function IPKernelApp.start at 0x7f4e4ddeb670>\n",
            "    └ <ipykernel.kernelapp.IPKernelApp object at 0x7f4e4fe940a0>\n",
            "  File \"/home/lek/anaconda3/envs/ds/lib/python3.8/site-packages/ipykernel/kernelapp.py\", line 612, in start\n",
            "    self.io_loop.start()\n",
            "    │    │       └ <function BaseAsyncIOLoop.start at 0x7f4e4df913a0>\n",
            "    │    └ <tornado.platform.asyncio.AsyncIOMainLoop object at 0x7f4e4ddff340>\n",
            "    └ <ipykernel.kernelapp.IPKernelApp object at 0x7f4e4fe940a0>\n",
            "  File \"/home/lek/anaconda3/envs/ds/lib/python3.8/site-packages/tornado/platform/asyncio.py\", line 149, in start\n",
            "    self.asyncio_loop.run_forever()\n",
            "    │    │            └ <function BaseEventLoop.run_forever at 0x7f4e4efbdc10>\n",
            "    │    └ <_UnixSelectorEventLoop running=True closed=False debug=False>\n",
            "    └ <tornado.platform.asyncio.AsyncIOMainLoop object at 0x7f4e4ddff340>\n",
            "  File \"/home/lek/anaconda3/envs/ds/lib/python3.8/asyncio/base_events.py\", line 570, in run_forever\n",
            "    self._run_once()\n",
            "    │    └ <function BaseEventLoop._run_once at 0x7f4e4efbf790>\n",
            "    └ <_UnixSelectorEventLoop running=True closed=False debug=False>\n",
            "  File \"/home/lek/anaconda3/envs/ds/lib/python3.8/asyncio/base_events.py\", line 1859, in _run_once\n",
            "    handle._run()\n",
            "    │      └ <function Handle._run at 0x7f4e4efedf70>\n",
            "    └ <Handle IOLoop.add_future.<locals>.<lambda>(<Future finished result=None>) at /home/lek/anaconda3/envs/ds/lib/python3.8/site-...\n",
            "  File \"/home/lek/anaconda3/envs/ds/lib/python3.8/asyncio/events.py\", line 81, in _run\n",
            "    self._context.run(self._callback, *self._args)\n",
            "    │    │            │    │           │    └ <member '_args' of 'Handle' objects>\n",
            "    │    │            │    │           └ <Handle IOLoop.add_future.<locals>.<lambda>(<Future finished result=None>) at /home/lek/anaconda3/envs/ds/lib/python3.8/site-...\n",
            "    │    │            │    └ <member '_callback' of 'Handle' objects>\n",
            "    │    │            └ <Handle IOLoop.add_future.<locals>.<lambda>(<Future finished result=None>) at /home/lek/anaconda3/envs/ds/lib/python3.8/site-...\n",
            "    │    └ <member '_context' of 'Handle' objects>\n",
            "    └ <Handle IOLoop.add_future.<locals>.<lambda>(<Future finished result=None>) at /home/lek/anaconda3/envs/ds/lib/python3.8/site-...\n",
            "  File \"/home/lek/anaconda3/envs/ds/lib/python3.8/site-packages/tornado/ioloop.py\", line 690, in <lambda>\n",
            "    lambda f: self._run_callback(functools.partial(callback, future))\n",
            "           │  │    │             │         │       │         └ <Future finished result=None>\n",
            "           │  │    │             │         │       └ <function Runner.handle_yield.<locals>.inner at 0x7f4dcc201040>\n",
            "           │  │    │             │         └ <class 'functools.partial'>\n",
            "           │  │    │             └ <module 'functools' from '/home/lek/anaconda3/envs/ds/lib/python3.8/functools.py'>\n",
            "           │  │    └ <function IOLoop._run_callback at 0x7f4e4df7d040>\n",
            "           │  └ <tornado.platform.asyncio.AsyncIOMainLoop object at 0x7f4e4ddff340>\n",
            "           └ <Future finished result=None>\n",
            "  File \"/home/lek/anaconda3/envs/ds/lib/python3.8/site-packages/tornado/ioloop.py\", line 743, in _run_callback\n",
            "    ret = callback()\n",
            "          └ functools.partial(<function Runner.handle_yield.<locals>.inner at 0x7f4dcc201040>, <Future finished result=None>)\n",
            "  File \"/home/lek/anaconda3/envs/ds/lib/python3.8/site-packages/tornado/gen.py\", line 787, in inner\n",
            "    self.run()\n",
            "    │    └ <function Runner.run at 0x7f4e4df8ec10>\n",
            "    └ <tornado.gen.Runner object at 0x7f4e4c5869a0>\n",
            "  File \"/home/lek/anaconda3/envs/ds/lib/python3.8/site-packages/tornado/gen.py\", line 748, in run\n",
            "    yielded = self.gen.send(value)\n",
            "              │    │   │    └ None\n",
            "              │    │   └ <method 'send' of 'generator' objects>\n",
            "              │    └ <generator object Kernel.dispatch_queue at 0x7f4e4f368040>\n",
            "              └ <tornado.gen.Runner object at 0x7f4e4c5869a0>\n",
            "  File \"/home/lek/anaconda3/envs/ds/lib/python3.8/site-packages/ipykernel/kernelbase.py\", line 381, in dispatch_queue\n",
            "    yield self.process_one()\n",
            "          │    └ <function Kernel.process_one at 0x7f4e4de39dc0>\n",
            "          └ <ipykernel.ipkernel.IPythonKernel object at 0x7f4e4ddff850>\n",
            "  File \"/home/lek/anaconda3/envs/ds/lib/python3.8/site-packages/tornado/gen.py\", line 225, in wrapper\n",
            "    runner = Runner(result, future, yielded)\n",
            "             │      │       │       └ <Future finished result=(10, 50, <bound method...7f4e4ddff850>>, (<zmq.eventloo...x7f4e4ddff6a0>, [<zmq.sugar.fr...x7f4dcc245...\n",
            "             │      │       └ <Future pending>\n",
            "             │      └ <generator object Kernel.process_one at 0x7f4dcc3c6820>\n",
            "             └ <class 'tornado.gen.Runner'>\n",
            "  File \"/home/lek/anaconda3/envs/ds/lib/python3.8/site-packages/tornado/gen.py\", line 714, in __init__\n",
            "    self.run()\n",
            "    │    └ <function Runner.run at 0x7f4e4df8ec10>\n",
            "    └ <tornado.gen.Runner object at 0x7f4e08314c40>\n",
            "  File \"/home/lek/anaconda3/envs/ds/lib/python3.8/site-packages/tornado/gen.py\", line 748, in run\n",
            "    yielded = self.gen.send(value)\n",
            "              │    │   │    └ (10, 50, <bound method Kernel.dispatch_shell of <ipykernel.ipkernel.IPythonKernel object at 0x7f4e4ddff850>>, (<zmq.eventloop...\n",
            "              │    │   └ <method 'send' of 'generator' objects>\n",
            "              │    └ <generator object Kernel.process_one at 0x7f4dcc3c6820>\n",
            "              └ <tornado.gen.Runner object at 0x7f4e08314c40>\n",
            "  File \"/home/lek/anaconda3/envs/ds/lib/python3.8/site-packages/ipykernel/kernelbase.py\", line 365, in process_one\n",
            "    yield gen.maybe_future(dispatch(*args))\n",
            "          │   │            │         └ (<zmq.eventloop.zmqstream.ZMQStream object at 0x7f4e4ddff6a0>, [<zmq.sugar.frame.Frame object at 0x7f4dcc2455c0>, <zmq.sugar....\n",
            "          │   │            └ <bound method Kernel.dispatch_shell of <ipykernel.ipkernel.IPythonKernel object at 0x7f4e4ddff850>>\n",
            "          │   └ <function maybe_future at 0x7f4e4df8e820>\n",
            "          └ <module 'tornado.gen' from '/home/lek/anaconda3/envs/ds/lib/python3.8/site-packages/tornado/gen.py'>\n",
            "  File \"/home/lek/anaconda3/envs/ds/lib/python3.8/site-packages/tornado/gen.py\", line 209, in wrapper\n",
            "    yielded = next(result)\n",
            "                   └ <generator object Kernel.dispatch_shell at 0x7f4dcc3c6970>\n",
            "  File \"/home/lek/anaconda3/envs/ds/lib/python3.8/site-packages/ipykernel/kernelbase.py\", line 268, in dispatch_shell\n",
            "    yield gen.maybe_future(handler(stream, idents, msg))\n",
            "          │   │            │       │       │       └ {'header': {'date': datetime.datetime(2021, 2, 26, 21, 44, 30, 609000, tzinfo=tzutc()), 'msg_id': 'cc34ce97-aab1-4d8d-9ea4-f0...\n",
            "          │   │            │       │       └ [b'01ccee90-6c3c-4a15-b455-fd2ab9063631']\n",
            "          │   │            │       └ <zmq.eventloop.zmqstream.ZMQStream object at 0x7f4e4ddff6a0>\n",
            "          │   │            └ <bound method Kernel.execute_request of <ipykernel.ipkernel.IPythonKernel object at 0x7f4e4ddff850>>\n",
            "          │   └ <function maybe_future at 0x7f4e4df8e820>\n",
            "          └ <module 'tornado.gen' from '/home/lek/anaconda3/envs/ds/lib/python3.8/site-packages/tornado/gen.py'>\n",
            "  File \"/home/lek/anaconda3/envs/ds/lib/python3.8/site-packages/tornado/gen.py\", line 209, in wrapper\n",
            "    yielded = next(result)\n",
            "                   └ <generator object Kernel.execute_request at 0x7f4dcc3c6b30>\n",
            "  File \"/home/lek/anaconda3/envs/ds/lib/python3.8/site-packages/ipykernel/kernelbase.py\", line 543, in execute_request\n",
            "    self.do_execute(\n",
            "    │    └ <function IPythonKernel.do_execute at 0x7f4e4dde6e50>\n",
            "    └ <ipykernel.ipkernel.IPythonKernel object at 0x7f4e4ddff850>\n",
            "  File \"/home/lek/anaconda3/envs/ds/lib/python3.8/site-packages/tornado/gen.py\", line 209, in wrapper\n",
            "    yielded = next(result)\n",
            "                   └ <generator object IPythonKernel.do_execute at 0x7f4dcc3c6900>\n",
            "  File \"/home/lek/anaconda3/envs/ds/lib/python3.8/site-packages/ipykernel/ipkernel.py\", line 306, in do_execute\n",
            "    res = shell.run_cell(code, store_history=store_history, silent=silent)\n",
            "          │     │        │                   │                     └ False\n",
            "          │     │        │                   └ True\n",
            "          │     │        └ \"history = model.opt(\\n            X_train, y_train,\\n            metric=sklearn.metrics.log_loss, # log_loss\\n            di...\n",
            "          │     └ <function ZMQInteractiveShell.run_cell at 0x7f4e4ddd8550>\n",
            "          └ <ipykernel.zmqshell.ZMQInteractiveShell object at 0x7f4e4fe0adc0>\n",
            "  File \"/home/lek/anaconda3/envs/ds/lib/python3.8/site-packages/ipykernel/zmqshell.py\", line 536, in run_cell\n",
            "    return super(ZMQInteractiveShell, self).run_cell(*args, **kwargs)\n",
            "                 │                    │               │       └ {'store_history': True, 'silent': False}\n",
            "                 │                    │               └ (\"history = model.opt(\\n            X_train, y_train,\\n            metric=sklearn.metrics.log_loss, # log_loss\\n            d...\n",
            "                 │                    └ <ipykernel.zmqshell.ZMQInteractiveShell object at 0x7f4e4fe0adc0>\n",
            "                 └ <class 'ipykernel.zmqshell.ZMQInteractiveShell'>\n",
            "  File \"/home/lek/anaconda3/envs/ds/lib/python3.8/site-packages/IPython/core/interactiveshell.py\", line 2866, in run_cell\n",
            "    result = self._run_cell(\n",
            "             │    └ <function InteractiveShell._run_cell at 0x7f4e4f17ce50>\n",
            "             └ <ipykernel.zmqshell.ZMQInteractiveShell object at 0x7f4e4fe0adc0>\n",
            "  File \"/home/lek/anaconda3/envs/ds/lib/python3.8/site-packages/IPython/core/interactiveshell.py\", line 2895, in _run_cell\n",
            "    return runner(coro)\n",
            "           │      └ <coroutine object InteractiveShell.run_cell_async at 0x7f4dcc32e840>\n",
            "           └ <function _pseudo_sync_runner at 0x7f4e4f16c550>\n",
            "  File \"/home/lek/anaconda3/envs/ds/lib/python3.8/site-packages/IPython/core/async_helpers.py\", line 68, in _pseudo_sync_runner\n",
            "    coro.send(None)\n",
            "    │    └ <method 'send' of 'coroutine' objects>\n",
            "    └ <coroutine object InteractiveShell.run_cell_async at 0x7f4dcc32e840>\n",
            "  File \"/home/lek/anaconda3/envs/ds/lib/python3.8/site-packages/IPython/core/interactiveshell.py\", line 3071, in run_cell_async\n",
            "    has_raised = await self.run_ast_nodes(code_ast.body, cell_name,\n",
            "                       │    │             │        │     └ '<ipython-input-47-cef965ce9ef7>'\n",
            "                       │    │             │        └ [<_ast.Assign object at 0x7f4dccbad820>]\n",
            "                       │    │             └ <_ast.Module object at 0x7f4dd04cea90>\n",
            "                       │    └ <function InteractiveShell.run_ast_nodes at 0x7f4e4f17d160>\n",
            "                       └ <ipykernel.zmqshell.ZMQInteractiveShell object at 0x7f4e4fe0adc0>\n",
            "  File \"/home/lek/anaconda3/envs/ds/lib/python3.8/site-packages/IPython/core/interactiveshell.py\", line 3263, in run_ast_nodes\n",
            "    if (await self.run_code(code, result,  async_=asy)):\n",
            "              │    │        │     │               └ False\n",
            "              │    │        │     └ <ExecutionResult object at 7f4dd04ce9d0, execution_count=47 error_before_exec=None error_in_exec=None info=<ExecutionInfo obj...\n",
            "              │    │        └ <code object <module> at 0x7f4dcc1f9030, file \"<ipython-input-47-cef965ce9ef7>\", line 1>\n",
            "              │    └ <function InteractiveShell.run_code at 0x7f4e4f17d280>\n",
            "              └ <ipykernel.zmqshell.ZMQInteractiveShell object at 0x7f4e4fe0adc0>\n",
            "  File \"/home/lek/anaconda3/envs/ds/lib/python3.8/site-packages/IPython/core/interactiveshell.py\", line 3343, in run_code\n",
            "    exec(code_obj, self.user_global_ns, self.user_ns)\n",
            "         │         │    │               │    └ {'__name__': '__main__', '__doc__': 'Automatically created module for IPython interactive environment', '__package__': None, ...\n",
            "         │         │    │               └ <ipykernel.zmqshell.ZMQInteractiveShell object at 0x7f4e4fe0adc0>\n",
            "         │         │    └ <property object at 0x7f4e4f16dd10>\n",
            "         │         └ <ipykernel.zmqshell.ZMQInteractiveShell object at 0x7f4e4fe0adc0>\n",
            "         └ <code object <module> at 0x7f4dcc1f9030, file \"<ipython-input-47-cef965ce9ef7>\", line 1>\n",
            "> File \"<ipython-input-47-cef965ce9ef7>\", line 1, in <module>\n",
            "    history = model.opt(\n",
            "              │     └ <function ModelBase.opt at 0x7f4df69ae940>\n",
            "              └ <automl_alex.models.model_lightgbm.LightGBMClassifier object at 0x7f4dccbade50>\n",
            "\n",
            "TypeError: opt() got an unexpected keyword argument 'direction'\n"
          ]
        }
      ]
    },
    {
      "cell_type": "code",
      "metadata": {
        "ExecuteTime": {
          "end_time": "2020-05-07T08:52:50.083150Z",
          "start_time": "2020-05-07T08:52:14.366249Z"
        },
        "id": "H0SxAZPbbV6L",
        "colab_type": "code",
        "colab": {
          "base_uri": "https://localhost:8080/",
          "height": 51
        },
        "outputId": "23308887-3710-4f7b-feb8-7b7b65e29716",
        "tags": []
      },
      "source": [
        "model = model.fit(X_train, y_train)\n",
        "predicts = model.predict(X_test)\n",
        "print('Test metric: ', round(sklearn.metrics.log_loss(y_test, predicts),4))"
      ],
      "execution_count": 48,
      "outputs": [
        {
          "output_type": "stream",
          "name": "stdout",
          "text": [
            "Test metric:  4.9781\n"
          ]
        }
      ]
    },
    {
      "cell_type": "code",
      "metadata": {
        "id": "m52jjJJlbV6M",
        "colab_type": "code",
        "colab": {
          "base_uri": "https://localhost:8080/",
          "height": 350
        },
        "outputId": "6c08ebd5-ef2a-4b24-aecb-1f3dce418918"
      },
      "source": [
        "model.plot_opt_history()"
      ],
      "execution_count": 49,
      "outputs": [
        {
          "output_type": "error",
          "ename": "AttributeError",
          "evalue": "'LightGBMClassifier' object has no attribute 'direction'",
          "traceback": [
            "\u001b[0;31m---------------------------------------------------------------------------\u001b[0m",
            "\u001b[0;31mAttributeError\u001b[0m                            Traceback (most recent call last)",
            "\u001b[0;32m<ipython-input-49-8e1fea6c5c4e>\u001b[0m in \u001b[0;36m<module>\u001b[0;34m\u001b[0m\n\u001b[0;32m----> 1\u001b[0;31m \u001b[0mmodel\u001b[0m\u001b[0;34m.\u001b[0m\u001b[0mplot_opt_history\u001b[0m\u001b[0;34m(\u001b[0m\u001b[0;34m)\u001b[0m\u001b[0;34m\u001b[0m\u001b[0;34m\u001b[0m\u001b[0m\n\u001b[0m",
            "\u001b[0;32m~/Documents/AutoML/AutoML_Alex/automl_alex/models/base.py\u001b[0m in \u001b[0;36mplot_opt_history\u001b[0;34m(self, figsize)\u001b[0m\n\u001b[1;32m    727\u001b[0m             \u001b[0;32mif\u001b[0m \u001b[0mi\u001b[0m \u001b[0;34m==\u001b[0m \u001b[0;36m0\u001b[0m\u001b[0;34m:\u001b[0m\u001b[0;34m\u001b[0m\u001b[0;34m\u001b[0m\u001b[0m\n\u001b[1;32m    728\u001b[0m                 \u001b[0mbest_score\u001b[0m \u001b[0;34m=\u001b[0m \u001b[0mscore\u001b[0m\u001b[0;34m\u001b[0m\u001b[0;34m\u001b[0m\u001b[0m\n\u001b[0;32m--> 729\u001b[0;31m                 \u001b[0mbest_score_ls\u001b[0m\u001b[0;34m.\u001b[0m\u001b[0mappend\u001b[0m\u001b[0;34m(\u001b[0m\u001b[0mscore\u001b[0m\u001b[0;34m)\u001b[0m\u001b[0;34m\u001b[0m\u001b[0;34m\u001b[0m\u001b[0m\n\u001b[0m\u001b[1;32m    730\u001b[0m             \u001b[0;32melse\u001b[0m\u001b[0;34m:\u001b[0m\u001b[0;34m\u001b[0m\u001b[0;34m\u001b[0m\u001b[0m\n\u001b[1;32m    731\u001b[0m                 \u001b[0;32mif\u001b[0m \u001b[0mself\u001b[0m\u001b[0;34m.\u001b[0m\u001b[0mdirection\u001b[0m \u001b[0;34m==\u001b[0m \u001b[0;34m'maximize'\u001b[0m\u001b[0;34m:\u001b[0m\u001b[0;34m\u001b[0m\u001b[0;34m\u001b[0m\u001b[0m\n",
            "\u001b[0;31mAttributeError\u001b[0m: 'LightGBMClassifier' object has no attribute 'direction'"
          ]
        }
      ]
    },
    {
      "cell_type": "markdown",
      "metadata": {},
      "source": [
        "## Feature Important from CV"
      ]
    },
    {
      "cell_type": "code",
      "execution_count": null,
      "metadata": {},
      "outputs": [],
      "source": [
        "res = model.cross_validation(\n",
        "            X=X_train,\n",
        "            y=y_train,\n",
        "            get_feature_importance=True,)\n",
        "#res['Feature_importance']"
      ]
    },
    {
      "cell_type": "code",
      "execution_count": null,
      "metadata": {},
      "outputs": [],
      "source": [
        "pd.Series(res['feature_importance'], index=res['feature_importance'].keys()).sort_values(ascending=False)[:15].plot(kind='barh')"
      ]
    },
    {
      "cell_type": "markdown",
      "metadata": {
        "colab": {},
        "colab_type": "code",
        "id": "NsnNnlEisGAs"
      },
      "source": [
        "## Predict from configs"
      ]
    },
    {
      "cell_type": "code",
      "execution_count": null,
      "metadata": {},
      "outputs": [],
      "source": [
        "top5_models = history.drop_duplicates(subset=['model_score', 'score_std'], keep='last').head(5)\n",
        "top5_models"
      ]
    },
    {
      "cell_type": "code",
      "execution_count": null,
      "metadata": {},
      "outputs": [],
      "source": [
        "# let's load the 2nd model\n",
        "model.model_param = top5_models['model_param'].iloc[1] "
      ]
    },
    {
      "cell_type": "code",
      "execution_count": null,
      "metadata": {},
      "outputs": [],
      "source": [
        "model = model.fit(X_train, y_train)\n",
        "predicts = model.predict(X_test)\n",
        "print('Test metric: ', round(sklearn.metrics.log_loss(y_test, predicts),4))"
      ]
    },
    {
      "source": [
        "# Full Save & Load"
      ],
      "cell_type": "markdown",
      "metadata": {}
    },
    {
      "source": [
        "### Save"
      ],
      "cell_type": "markdown",
      "metadata": {}
    },
    {
      "cell_type": "code",
      "execution_count": 17,
      "metadata": {},
      "outputs": [],
      "source": [
        "de.save('de_model_1',)"
      ]
    },
    {
      "cell_type": "code",
      "execution_count": 18,
      "metadata": {},
      "outputs": [],
      "source": [
        "model.save('model_1',)"
      ]
    },
    {
      "cell_type": "code",
      "execution_count": 19,
      "metadata": {},
      "outputs": [
        {
          "output_type": "execute_result",
          "data": {
            "text/plain": [
              "{'random_seed': 42,\n",
              " 'num_iterations': 300,\n",
              " 'verbose': -1,\n",
              " 'device_type': 'cpu',\n",
              " 'objective': 'binary'}"
            ]
          },
          "metadata": {},
          "execution_count": 19
        }
      ],
      "source": [
        "model.model_param"
      ]
    },
    {
      "cell_type": "code",
      "execution_count": 20,
      "metadata": {},
      "outputs": [
        {
          "output_type": "stream",
          "name": "stdout",
          "text": [
            "Test metric:  4.9286\n"
          ]
        }
      ],
      "source": [
        "predicts = model.predict(X_test)\n",
        "print('Test metric: ', round(sklearn.metrics.log_loss(y_test, predicts),4))"
      ]
    },
    {
      "source": [
        "### Load\n",
        "you can restart the notebook to start from this place - to make sure"
      ],
      "cell_type": "markdown",
      "metadata": {}
    },
    {
      "cell_type": "code",
      "execution_count": 1,
      "metadata": {},
      "outputs": [
        {
          "output_type": "stream",
          "name": "stdout",
          "text": [
            "1.2.26\n"
          ]
        }
      ],
      "source": [
        "import sklearn\n",
        "import pandas as pd\n",
        "from sklearn.model_selection import train_test_split\n",
        "from sklearn.datasets import fetch_openml\n",
        "\n",
        "import automl_alex\n",
        "from automl_alex import DataPrepare\n",
        "from automl_alex import LightGBM, LightGBMClassifier\n",
        "\n",
        "RANDOM_SEED = 42\n",
        "print(automl_alex.__version__)"
      ]
    },
    {
      "cell_type": "code",
      "execution_count": 2,
      "metadata": {},
      "outputs": [
        {
          "output_type": "stream",
          "name": "stderr",
          "text": [
            "23:06:23 | ##################################################\n",
            "23:06:23 | ! Start Transform Data\n",
            "23:06:23 | > Clean Binary Features\n",
            "23:06:23 | > Clean Categorical Features\n",
            "23:06:23 | > Transform Categorical Features.\n",
            "23:06:23 |  - Encoder: HelmertEncoder ADD features: 123\n",
            "23:06:23 |  - Encoder: CountEncoder ADD features: 12\n",
            "23:06:23 | > Generate interaction Num Features\n",
            "23:06:23 |  ADD features: 3\n",
            "23:06:23 | > Normalization Features\n",
            "23:06:24 | > Reduce_Memory\n",
            "23:06:24 | Memory usage of dataframe is 11.03 MB\n",
            "23:06:24 | Memory usage after optimization is: 5.66 MB\n",
            "23:06:24 | Decreased by 48.7%\n",
            "23:06:24 | ##################################################\n",
            "23:06:24 | Final data shape: (9769, 154)\n",
            "23:06:24 | Total ADD columns: 140\n",
            "23:06:24 | ##################################################\n"
          ]
        }
      ],
      "source": [
        "dataset = fetch_openml(name='adult', version=1, as_frame=True)\n",
        "dataset.target = dataset.target.astype('category').cat.codes\n",
        "\n",
        "X_train, X_test, y_train, y_test = train_test_split(dataset.data, dataset.target, test_size=0.2, random_state=RANDOM_SEED,)\n",
        "\n",
        "de = DataPrepare(random_state=RANDOM_SEED, verbose=0)\n",
        "de = de.load('de_model_1', )\n",
        "X_test = de.transform(X_test)"
      ]
    },
    {
      "cell_type": "code",
      "execution_count": 3,
      "metadata": {},
      "outputs": [
        {
          "output_type": "stream",
          "name": "stdout",
          "text": [
            "Test metric:  4.9286\n"
          ]
        }
      ],
      "source": [
        "model_new = LightGBMClassifier(random_state=RANDOM_SEED)\n",
        "model_new = model_new.load('model_1',)\n",
        "\n",
        "predicts = model_new.predict(X_test)\n",
        "print('Test metric: ', round(sklearn.metrics.log_loss(y_test, predicts),4))"
      ]
    },
    {
      "cell_type": "code",
      "execution_count": 4,
      "metadata": {},
      "outputs": [
        {
          "output_type": "execute_result",
          "data": {
            "text/plain": [
              "{'random_seed': 42,\n",
              " 'num_iterations': 300,\n",
              " 'verbose': -1,\n",
              " 'device_type': 'cpu',\n",
              " 'objective': 'binary'}"
            ]
          },
          "metadata": {},
          "execution_count": 4
        }
      ],
      "source": [
        "model_new.model_param"
      ]
    },
    {
      "cell_type": "code",
      "execution_count": null,
      "metadata": {},
      "outputs": [],
      "source": []
    }
  ],
  "metadata": {
    "kernelspec": {
      "name": "python3",
      "display_name": "Python 3",
      "language": "python"
    },
    "language_info": {
      "codemirror_mode": {
        "name": "ipython",
        "version": 3
      },
      "file_extension": ".py",
      "mimetype": "text/x-python",
      "name": "python",
      "nbconvert_exporter": "python",
      "pygments_lexer": "ipython3",
      "version": "3.8.3-final"
    },
    "toc": {
      "base_numbering": 1,
      "nav_menu": {},
      "number_sections": false,
      "sideBar": true,
      "skip_h1_title": false,
      "title_cell": "Table of Contents",
      "title_sidebar": "Contents",
      "toc_cell": false,
      "toc_position": {
        "height": "calc(100% - 180px)",
        "left": "10px",
        "top": "150px",
        "width": "165px"
      },
      "toc_section_display": true,
      "toc_window_display": true
    },
    "colab": {
      "name": "02. Models v1.ipynb",
      "provenance": [],
      "collapsed_sections": [
        "SvXrBLljbV6F",
        "IbtbRVMebV6F",
        "D9xT9cTgbV6F",
        "apIHobyxbV6F",
        "tl8zhvjVbV6G"
      ]
    }
  },
  "nbformat": 4,
  "nbformat_minor": 0
}