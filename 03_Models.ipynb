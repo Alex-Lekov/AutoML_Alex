{
  "cells": [
    {
      "cell_type": "code",
      "metadata": {
        "ExecuteTime": {
          "end_time": "2020-05-07T08:40:27.950196Z",
          "start_time": "2020-05-07T08:40:27.947264Z"
        },
        "id": "JWu_N5HFbV4v",
        "colab_type": "code",
        "colab": {
          "base_uri": "https://localhost:8080/",
          "height": 972
        },
        "outputId": "1a501a70-5ec4-49cf-d38e-cfde0567f306"
      },
      "source": [
        "# If you run this notebook on Google Colaboratory, uncomment the below to install automl_alex.\n",
        "#!pip install -U -q automl-alex"
      ],
      "execution_count": 1,
      "outputs": []
    },
    {
      "cell_type": "code",
      "metadata": {
        "ExecuteTime": {
          "end_time": "2020-05-07T08:40:30.084237Z",
          "start_time": "2020-05-07T08:40:28.530481Z"
        },
        "id": "im_z95sdbV46",
        "colab_type": "code",
        "colab": {
          "base_uri": "https://localhost:8080/",
          "height": 34
        },
        "outputId": "d0ed0122-7cfa-4d56-85f3-863b4e92973c",
        "tags": []
      },
      "source": [
        "import sklearn\n",
        "import pandas as pd\n",
        "from sklearn.model_selection import train_test_split\n",
        "from sklearn.datasets import fetch_openml\n",
        "import time\n",
        "\n",
        "import automl_alex\n",
        "from automl_alex import DataPrepare\n",
        "from automl_alex import CrossValidation\n",
        "print(automl_alex.__version__)"
      ],
      "execution_count": 1,
      "outputs": [
        {
          "output_type": "stream",
          "name": "stdout",
          "text": [
            "1.3.4\n"
          ]
        }
      ]
    },
    {
      "cell_type": "code",
      "execution_count": 2,
      "metadata": {},
      "outputs": [
        {
          "output_type": "execute_result",
          "data": {
            "text/plain": [
              "{'LightGBM': automl_alex.models.model_lightgbm.LightGBM,\n",
              " 'KNeighbors': automl_alex.models.sklearn_models.KNeighbors,\n",
              " 'LinearModel': automl_alex.models.sklearn_models.LinearModel,\n",
              " 'RandomForest': automl_alex.models.sklearn_models.RandomForest,\n",
              " 'ExtraTrees': automl_alex.models.sklearn_models.ExtraTrees,\n",
              " 'XGBoost': automl_alex.models.model_xgboost.XGBoost,\n",
              " 'CatBoost': automl_alex.models.model_catboost.CatBoost,\n",
              " 'MLP': automl_alex.models.sklearn_models.MLP}"
            ]
          },
          "metadata": {},
          "execution_count": 2
        }
      ],
      "source": [
        "automl_alex.models.all_models"
      ]
    },
    {
      "cell_type": "code",
      "metadata": {
        "ExecuteTime": {
          "end_time": "2020-05-07T08:40:30.989504Z",
          "start_time": "2020-05-07T08:40:30.985837Z"
        },
        "id": "MLtO5wRAbV5A",
        "colab_type": "code",
        "colab": {}
      },
      "source": [
        "RANDOM_SEED = 42"
      ],
      "execution_count": 3,
      "outputs": []
    },
    {
      "cell_type": "markdown",
      "metadata": {
        "id": "rIom-hsebV5H",
        "colab_type": "text"
      },
      "source": [
        "## Data"
      ]
    },
    {
      "cell_type": "code",
      "metadata": {
        "ExecuteTime": {
          "end_time": "2020-05-07T08:40:43.537111Z",
          "start_time": "2020-05-07T08:40:43.487884Z"
        },
        "id": "N2J9L7o5bV5H",
        "colab_type": "code",
        "colab": {
          "base_uri": "https://localhost:8080/",
          "height": 34
        },
        "outputId": "d3e84afd-71dc-475d-c393-47d4e00fc295"
      },
      "source": [
        "# add dataset whis more num features\n",
        "dataset = fetch_openml(data_id=179, as_frame=True)\n",
        "dataset.target = dataset.target.astype('category').cat.codes\n",
        "\n",
        "X_train, X_test, y_train, y_test = train_test_split(dataset.data, dataset.target, test_size=0.2, random_state=RANDOM_SEED,)\n",
        "X_train.shape, X_test.shape"
      ],
      "execution_count": 4,
      "outputs": [
        {
          "output_type": "execute_result",
          "data": {
            "text/plain": [
              "((39073, 14), (9769, 14))"
            ]
          },
          "metadata": {},
          "execution_count": 4
        }
      ]
    },
    {
      "cell_type": "code",
      "execution_count": 5,
      "metadata": {},
      "outputs": [
        {
          "output_type": "execute_result",
          "data": {
            "text/plain": [
              "      age  workclass    fnlwgt education  education-num      marital-status  \\\n",
              "37193   1    Private   50753.0   HS-grad            9.0  Married-civ-spouse   \n",
              "31093   2  State-gov  144351.0   Masters           14.0  Married-civ-spouse   \n",
              "33814   1  Local-gov  252217.0      12th            8.0  Married-civ-spouse   \n",
              "\n",
              "             occupation relationship   race   sex capitalgain capitalloss  \\\n",
              "37193  Transport-moving      Husband  White  Male           0           0   \n",
              "31093    Prof-specialty      Husband  White  Male           0           0   \n",
              "33814   Farming-fishing      Husband  White  Male           0           0   \n",
              "\n",
              "      hoursperweek native-country  \n",
              "37193            2  United-States  \n",
              "31093            2  United-States  \n",
              "33814            2  United-States  "
            ],
            "text/html": "<div>\n<style scoped>\n    .dataframe tbody tr th:only-of-type {\n        vertical-align: middle;\n    }\n\n    .dataframe tbody tr th {\n        vertical-align: top;\n    }\n\n    .dataframe thead th {\n        text-align: right;\n    }\n</style>\n<table border=\"1\" class=\"dataframe\">\n  <thead>\n    <tr style=\"text-align: right;\">\n      <th></th>\n      <th>age</th>\n      <th>workclass</th>\n      <th>fnlwgt</th>\n      <th>education</th>\n      <th>education-num</th>\n      <th>marital-status</th>\n      <th>occupation</th>\n      <th>relationship</th>\n      <th>race</th>\n      <th>sex</th>\n      <th>capitalgain</th>\n      <th>capitalloss</th>\n      <th>hoursperweek</th>\n      <th>native-country</th>\n    </tr>\n  </thead>\n  <tbody>\n    <tr>\n      <th>37193</th>\n      <td>1</td>\n      <td>Private</td>\n      <td>50753.0</td>\n      <td>HS-grad</td>\n      <td>9.0</td>\n      <td>Married-civ-spouse</td>\n      <td>Transport-moving</td>\n      <td>Husband</td>\n      <td>White</td>\n      <td>Male</td>\n      <td>0</td>\n      <td>0</td>\n      <td>2</td>\n      <td>United-States</td>\n    </tr>\n    <tr>\n      <th>31093</th>\n      <td>2</td>\n      <td>State-gov</td>\n      <td>144351.0</td>\n      <td>Masters</td>\n      <td>14.0</td>\n      <td>Married-civ-spouse</td>\n      <td>Prof-specialty</td>\n      <td>Husband</td>\n      <td>White</td>\n      <td>Male</td>\n      <td>0</td>\n      <td>0</td>\n      <td>2</td>\n      <td>United-States</td>\n    </tr>\n    <tr>\n      <th>33814</th>\n      <td>1</td>\n      <td>Local-gov</td>\n      <td>252217.0</td>\n      <td>12th</td>\n      <td>8.0</td>\n      <td>Married-civ-spouse</td>\n      <td>Farming-fishing</td>\n      <td>Husband</td>\n      <td>White</td>\n      <td>Male</td>\n      <td>0</td>\n      <td>0</td>\n      <td>2</td>\n      <td>United-States</td>\n    </tr>\n  </tbody>\n</table>\n</div>"
          },
          "metadata": {},
          "execution_count": 5
        }
      ],
      "source": [
        "X_train.head(3)"
      ]
    },
    {
      "cell_type": "code",
      "execution_count": 6,
      "metadata": {},
      "outputs": [
        {
          "output_type": "stream",
          "name": "stderr",
          "text": [
            "06:55:27 | Source data shape: (39073, 14)\n",
            "06:55:27 | ##################################################\n",
            "06:55:27 | ! START preprocessing Data\n",
            "06:55:27 | - Auto detect cat features: 12\n",
            "06:55:27 | > Binary Features\n",
            "06:55:27 | > Clean Categorical Features\n",
            "06:55:28 | > Transform Categorical Features.\n",
            "06:55:30 |  - Encoder: HelmertEncoder ADD features: 123\n",
            "06:55:30 |  - Encoder: CountEncoder ADD features: 12\n",
            "06:55:31 |   No nans features\n",
            "06:55:31 | > CleanOutliers\n",
            "06:55:31 | Num of outlier detected: 560 in Feature fnlwgt\n",
            "06:55:31 | Proportion of outlier detected: 1.4 %\n",
            "06:55:31 | Num of outlier detected: 253 in Feature education-num\n",
            "06:55:31 | Proportion of outlier detected: 0.6 %\n",
            "06:55:31 | > Generate interaction Num Features\n",
            "06:55:31 |  ADD features: 5\n",
            "06:55:32 | ##################################################\n",
            "06:55:32 | Final data shape: (39073, 156)\n",
            "06:55:32 | Total ADD columns: 142\n",
            "06:55:32 | ##################################################\n",
            "06:55:32 | ##################################################\n",
            "06:55:32 | ! Start Transform Data\n",
            "06:55:32 | > Clean Binary Features\n",
            "06:55:32 | > Clean Categorical Features\n",
            "06:55:32 | > Transform Categorical Features.\n",
            "06:55:32 |  - Encoder: HelmertEncoder ADD features: 123\n",
            "06:55:32 |  - Encoder: CountEncoder ADD features: 12\n",
            "06:55:32 | > Generate interaction Num Features\n",
            "06:55:32 |  ADD features: 5\n",
            "06:55:33 | ##################################################\n",
            "06:55:33 | Final data shape: (9769, 156)\n",
            "06:55:33 | Total ADD columns: 142\n",
            "06:55:33 | ##################################################\n"
          ]
        },
        {
          "output_type": "execute_result",
          "data": {
            "text/plain": [
              "((39073, 156), (9769, 156))"
            ]
          },
          "metadata": {},
          "execution_count": 6
        }
      ],
      "source": [
        "de = DataPrepare(\n",
        "    normalization=False, # if you use Linar based models -> True (for Tree based models normalization is not needed)\n",
        "    random_state=RANDOM_SEED,\n",
        "    )\n",
        "X_train = de.fit_transform(X_train)\n",
        "X_test = de.transform(X_test)\n",
        "X_train.shape, X_test.shape"
      ]
    },
    {
      "cell_type": "code",
      "execution_count": 7,
      "metadata": {},
      "outputs": [
        {
          "output_type": "execute_result",
          "data": {
            "text/plain": [
              "   age  workclass    fnlwgt  education  education-num  marital-status  \\\n",
              "0    1          1   50753.0          1            9.0               1   \n",
              "1    2          2  144351.0          2           14.0               1   \n",
              "2    1          3  252217.0          3            8.0               1   \n",
              "3    3          1   69525.0          1            9.0               2   \n",
              "4    3          4   28612.0          1            9.0               3   \n",
              "\n",
              "   occupation  relationship  race  sex  ...  CountEncoder_capitalloss  \\\n",
              "0           1             1     1    1  ...                     37253   \n",
              "1           2             1     1    1  ...                     37253   \n",
              "2           3             1     1    1  ...                     37253   \n",
              "3           4             2     1    1  ...                     37253   \n",
              "4           5             3     1    1  ...                     37253   \n",
              "\n",
              "   CountEncoder_hoursperweek  CountEncoder_native-country  \\\n",
              "0                      22283                        35123   \n",
              "1                      22283                        35123   \n",
              "2                      22283                        35123   \n",
              "3                       3582                        35123   \n",
              "4                       1339                        35123   \n",
              "\n",
              "   fnlwgt_Is_Outliers_IQR  education-num_Is_Outliers_IQR  \\\n",
              "0                       0                              0   \n",
              "1                       0                              0   \n",
              "2                       0                              0   \n",
              "3                       0                              0   \n",
              "4                       0                              0   \n",
              "\n",
              "   fnlwgt_/_education-num  fnlwgt_-_education-num  education-num_/_fnlwgt  \\\n",
              "0             5639.222222                 50744.0                0.000177   \n",
              "1            10310.785714                144337.0                0.000097   \n",
              "2            31527.125000                252209.0                0.000032   \n",
              "3             7725.000000                 69516.0                0.000129   \n",
              "4             3179.111111                 28603.0                0.000315   \n",
              "\n",
              "   education-num_-_fnlwgt  fnlwgt_*_education-num  \n",
              "0                -50744.0                456777.0  \n",
              "1               -144337.0               2020914.0  \n",
              "2               -252209.0               2017736.0  \n",
              "3                -69516.0                625725.0  \n",
              "4                -28603.0                257508.0  \n",
              "\n",
              "[5 rows x 156 columns]"
            ],
            "text/html": "<div>\n<style scoped>\n    .dataframe tbody tr th:only-of-type {\n        vertical-align: middle;\n    }\n\n    .dataframe tbody tr th {\n        vertical-align: top;\n    }\n\n    .dataframe thead th {\n        text-align: right;\n    }\n</style>\n<table border=\"1\" class=\"dataframe\">\n  <thead>\n    <tr style=\"text-align: right;\">\n      <th></th>\n      <th>age</th>\n      <th>workclass</th>\n      <th>fnlwgt</th>\n      <th>education</th>\n      <th>education-num</th>\n      <th>marital-status</th>\n      <th>occupation</th>\n      <th>relationship</th>\n      <th>race</th>\n      <th>sex</th>\n      <th>...</th>\n      <th>CountEncoder_capitalloss</th>\n      <th>CountEncoder_hoursperweek</th>\n      <th>CountEncoder_native-country</th>\n      <th>fnlwgt_Is_Outliers_IQR</th>\n      <th>education-num_Is_Outliers_IQR</th>\n      <th>fnlwgt_/_education-num</th>\n      <th>fnlwgt_-_education-num</th>\n      <th>education-num_/_fnlwgt</th>\n      <th>education-num_-_fnlwgt</th>\n      <th>fnlwgt_*_education-num</th>\n    </tr>\n  </thead>\n  <tbody>\n    <tr>\n      <th>0</th>\n      <td>1</td>\n      <td>1</td>\n      <td>50753.0</td>\n      <td>1</td>\n      <td>9.0</td>\n      <td>1</td>\n      <td>1</td>\n      <td>1</td>\n      <td>1</td>\n      <td>1</td>\n      <td>...</td>\n      <td>37253</td>\n      <td>22283</td>\n      <td>35123</td>\n      <td>0</td>\n      <td>0</td>\n      <td>5639.222222</td>\n      <td>50744.0</td>\n      <td>0.000177</td>\n      <td>-50744.0</td>\n      <td>456777.0</td>\n    </tr>\n    <tr>\n      <th>1</th>\n      <td>2</td>\n      <td>2</td>\n      <td>144351.0</td>\n      <td>2</td>\n      <td>14.0</td>\n      <td>1</td>\n      <td>2</td>\n      <td>1</td>\n      <td>1</td>\n      <td>1</td>\n      <td>...</td>\n      <td>37253</td>\n      <td>22283</td>\n      <td>35123</td>\n      <td>0</td>\n      <td>0</td>\n      <td>10310.785714</td>\n      <td>144337.0</td>\n      <td>0.000097</td>\n      <td>-144337.0</td>\n      <td>2020914.0</td>\n    </tr>\n    <tr>\n      <th>2</th>\n      <td>1</td>\n      <td>3</td>\n      <td>252217.0</td>\n      <td>3</td>\n      <td>8.0</td>\n      <td>1</td>\n      <td>3</td>\n      <td>1</td>\n      <td>1</td>\n      <td>1</td>\n      <td>...</td>\n      <td>37253</td>\n      <td>22283</td>\n      <td>35123</td>\n      <td>0</td>\n      <td>0</td>\n      <td>31527.125000</td>\n      <td>252209.0</td>\n      <td>0.000032</td>\n      <td>-252209.0</td>\n      <td>2017736.0</td>\n    </tr>\n    <tr>\n      <th>3</th>\n      <td>3</td>\n      <td>1</td>\n      <td>69525.0</td>\n      <td>1</td>\n      <td>9.0</td>\n      <td>2</td>\n      <td>4</td>\n      <td>2</td>\n      <td>1</td>\n      <td>1</td>\n      <td>...</td>\n      <td>37253</td>\n      <td>3582</td>\n      <td>35123</td>\n      <td>0</td>\n      <td>0</td>\n      <td>7725.000000</td>\n      <td>69516.0</td>\n      <td>0.000129</td>\n      <td>-69516.0</td>\n      <td>625725.0</td>\n    </tr>\n    <tr>\n      <th>4</th>\n      <td>3</td>\n      <td>4</td>\n      <td>28612.0</td>\n      <td>1</td>\n      <td>9.0</td>\n      <td>3</td>\n      <td>5</td>\n      <td>3</td>\n      <td>1</td>\n      <td>1</td>\n      <td>...</td>\n      <td>37253</td>\n      <td>1339</td>\n      <td>35123</td>\n      <td>0</td>\n      <td>0</td>\n      <td>3179.111111</td>\n      <td>28603.0</td>\n      <td>0.000315</td>\n      <td>-28603.0</td>\n      <td>257508.0</td>\n    </tr>\n  </tbody>\n</table>\n<p>5 rows × 156 columns</p>\n</div>"
          },
          "metadata": {},
          "execution_count": 7
        }
      ],
      "source": [
        "X_train.head(5)"
      ]
    },
    {
      "source": [
        "# Classifier"
      ],
      "cell_type": "markdown",
      "metadata": {}
    },
    {
      "cell_type": "markdown",
      "metadata": {
        "id": "dp1LnCd8bV5L",
        "colab_type": "text"
      },
      "source": [
        "## Model"
      ]
    },
    {
      "cell_type": "code",
      "metadata": {
        "ExecuteTime": {
          "end_time": "2020-05-07T08:40:44.210481Z",
          "start_time": "2020-05-07T08:40:44.203520Z"
        },
        "id": "_bPRxyuwbV5L",
        "colab_type": "code",
        "colab": {
          "base_uri": "https://localhost:8080/",
          "height": 170
        },
        "outputId": "4408921c-e14a-42cc-de56-8b9bad8eb6d3"
      },
      "source": [
        "# Libraries are currently available:\n",
        "automl_alex.models.all_models"
      ],
      "execution_count": 8,
      "outputs": [
        {
          "output_type": "execute_result",
          "data": {
            "text/plain": [
              "{'LightGBM': automl_alex.models.model_lightgbm.LightGBM,\n",
              " 'KNeighbors': automl_alex.models.sklearn_models.KNeighbors,\n",
              " 'LinearModel': automl_alex.models.sklearn_models.LinearModel,\n",
              " 'RandomForest': automl_alex.models.sklearn_models.RandomForest,\n",
              " 'ExtraTrees': automl_alex.models.sklearn_models.ExtraTrees,\n",
              " 'XGBoost': automl_alex.models.model_xgboost.XGBoost,\n",
              " 'CatBoost': automl_alex.models.model_catboost.CatBoost,\n",
              " 'MLP': automl_alex.models.sklearn_models.MLP}"
            ]
          },
          "metadata": {},
          "execution_count": 8
        }
      ]
    },
    {
      "cell_type": "markdown",
      "metadata": {
        "id": "gZt0Owq1bV5O",
        "colab_type": "text"
      },
      "source": [
        "You can add a library if you wish.    \n",
        "let's try LightGBM"
      ]
    },
    {
      "cell_type": "code",
      "metadata": {
        "ExecuteTime": {
          "end_time": "2020-05-07T08:40:45.348064Z",
          "start_time": "2020-05-07T08:40:45.287480Z"
        },
        "id": "cH0AUcRAbV5P",
        "colab_type": "code",
        "colab": {}
      },
      "source": [
        "from automl_alex import LightGBM, LightGBMClassifier\n",
        "\n",
        "# We will use LightGBM for this dataset\n",
        "model = LightGBM(type_of_estimator='classifier', random_state=RANDOM_SEED)\n",
        "\n",
        "# or Simply\n",
        "model = LightGBMClassifier(random_state=RANDOM_SEED)"
      ],
      "execution_count": 9,
      "outputs": []
    },
    {
      "source": [
        "it's simple, the logic is like in sklearn (.fit() => .predict())"
      ],
      "cell_type": "markdown",
      "metadata": {}
    },
    {
      "cell_type": "code",
      "execution_count": 10,
      "metadata": {},
      "outputs": [
        {
          "output_type": "execute_result",
          "data": {
            "text/plain": [
              "<automl_alex.models.model_lightgbm.LightGBMClassifier at 0x7f51aaee7cd0>"
            ]
          },
          "metadata": {},
          "execution_count": 10
        }
      ],
      "source": [
        "model.fit(X_train, y_train)"
      ]
    },
    {
      "cell_type": "code",
      "execution_count": 11,
      "metadata": {},
      "outputs": [
        {
          "output_type": "stream",
          "name": "stdout",
          "text": [
            "Test AUC:  0.9084\n"
          ]
        }
      ],
      "source": [
        "predicts = model.predict_proba(X_test)\n",
        "print('Test AUC: ', round(sklearn.metrics.roc_auc_score(y_test, predicts),4))"
      ]
    },
    {
      "cell_type": "code",
      "execution_count": 12,
      "metadata": {},
      "outputs": [
        {
          "output_type": "stream",
          "name": "stderr",
          "text": [
            "06:56:03 | roc_auc_score: 0.9084\n"
          ]
        }
      ],
      "source": [
        "# or just use .score()\n",
        "score = model.score(\n",
        "    X_test, y_test,\n",
        "    metric=sklearn.metrics.roc_auc_score,\n",
        "    metric_round=4,\n",
        "    print_metric=True,\n",
        "    )"
      ]
    },
    {
      "cell_type": "code",
      "execution_count": 13,
      "metadata": {},
      "outputs": [
        {
          "output_type": "execute_result",
          "data": {
            "text/plain": [
              "{'random_seed': 42,\n",
              " 'num_iterations': 300,\n",
              " 'verbose': -1,\n",
              " 'device_type': 'cpu',\n",
              " 'objective': 'binary'}"
            ]
          },
          "metadata": {},
          "execution_count": 13
        }
      ],
      "source": [
        "model.model_param"
      ]
    },
    {
      "cell_type": "code",
      "execution_count": 14,
      "metadata": {},
      "outputs": [],
      "source": [
        "feature_importance = model.get_feature_importance(X_train)"
      ]
    },
    {
      "cell_type": "code",
      "execution_count": 15,
      "metadata": {},
      "outputs": [
        {
          "output_type": "execute_result",
          "data": {
            "text/plain": [
              "<matplotlib.axes._subplots.AxesSubplot at 0x7f51aae389d0>"
            ]
          },
          "metadata": {},
          "execution_count": 15
        },
        {
          "output_type": "display_data",
          "data": {
            "text/plain": "<Figure size 432x288 with 1 Axes>",
            "image/svg+xml": "<?xml version=\"1.0\" encoding=\"utf-8\" standalone=\"no\"?>\n<!DOCTYPE svg PUBLIC \"-//W3C//DTD SVG 1.1//EN\"\n  \"http://www.w3.org/Graphics/SVG/1.1/DTD/svg11.dtd\">\n<!-- Created with matplotlib (https://matplotlib.org/) -->\n<svg height=\"248.518125pt\" version=\"1.1\" viewBox=\"0 0 524.826562 248.518125\" width=\"524.826562pt\" xmlns=\"http://www.w3.org/2000/svg\" xmlns:xlink=\"http://www.w3.org/1999/xlink\">\n <defs>\n  <style type=\"text/css\">\n*{stroke-linecap:butt;stroke-linejoin:round;}\n  </style>\n </defs>\n <g id=\"figure_1\">\n  <g id=\"patch_1\">\n   <path d=\"M 0 248.518125 \nL 524.826562 248.518125 \nL 524.826562 0 \nL 0 0 \nz\n\" style=\"fill:#ffffff;\"/>\n  </g>\n  <g id=\"axes_1\">\n   <g id=\"patch_2\">\n    <path d=\"M 182.826562 224.64 \nL 517.626562 224.64 \nL 517.626562 7.2 \nL 182.826562 7.2 \nz\n\" style=\"fill:#eaeaf2;\"/>\n   </g>\n   <g id=\"matplotlib.axis_1\">\n    <g id=\"xtick_1\">\n     <g id=\"line2d_1\">\n      <path clip-path=\"url(#p14402db3cc)\" d=\"M 182.826562 224.64 \nL 182.826562 7.2 \n\" style=\"fill:none;stroke:#ffffff;stroke-linecap:round;stroke-width:0.8;\"/>\n     </g>\n     <g id=\"text_1\">\n      <!-- 0 -->\n      <defs>\n       <path d=\"M 31.78125 66.40625 \nQ 24.171875 66.40625 20.328125 58.90625 \nQ 16.5 51.421875 16.5 36.375 \nQ 16.5 21.390625 20.328125 13.890625 \nQ 24.171875 6.390625 31.78125 6.390625 \nQ 39.453125 6.390625 43.28125 13.890625 \nQ 47.125 21.390625 47.125 36.375 \nQ 47.125 51.421875 43.28125 58.90625 \nQ 39.453125 66.40625 31.78125 66.40625 \nz\nM 31.78125 74.21875 \nQ 44.046875 74.21875 50.515625 64.515625 \nQ 56.984375 54.828125 56.984375 36.375 \nQ 56.984375 17.96875 50.515625 8.265625 \nQ 44.046875 -1.421875 31.78125 -1.421875 \nQ 19.53125 -1.421875 13.0625 8.265625 \nQ 6.59375 17.96875 6.59375 36.375 \nQ 6.59375 54.828125 13.0625 64.515625 \nQ 19.53125 74.21875 31.78125 74.21875 \nz\n\" id=\"DejaVuSans-48\"/>\n      </defs>\n      <g style=\"fill:#262626;\" transform=\"translate(179.645312 239.238437)scale(0.1 -0.1)\">\n       <use xlink:href=\"#DejaVuSans-48\"/>\n      </g>\n     </g>\n    </g>\n    <g id=\"xtick_2\">\n     <g id=\"line2d_2\">\n      <path clip-path=\"url(#p14402db3cc)\" d=\"M 251.457635 224.64 \nL 251.457635 7.2 \n\" style=\"fill:none;stroke:#ffffff;stroke-linecap:round;stroke-width:0.8;\"/>\n     </g>\n     <g id=\"text_2\">\n      <!-- 10000 -->\n      <defs>\n       <path d=\"M 12.40625 8.296875 \nL 28.515625 8.296875 \nL 28.515625 63.921875 \nL 10.984375 60.40625 \nL 10.984375 69.390625 \nL 28.421875 72.90625 \nL 38.28125 72.90625 \nL 38.28125 8.296875 \nL 54.390625 8.296875 \nL 54.390625 0 \nL 12.40625 0 \nz\n\" id=\"DejaVuSans-49\"/>\n      </defs>\n      <g style=\"fill:#262626;\" transform=\"translate(235.551385 239.238437)scale(0.1 -0.1)\">\n       <use xlink:href=\"#DejaVuSans-49\"/>\n       <use x=\"63.623047\" xlink:href=\"#DejaVuSans-48\"/>\n       <use x=\"127.246094\" xlink:href=\"#DejaVuSans-48\"/>\n       <use x=\"190.869141\" xlink:href=\"#DejaVuSans-48\"/>\n       <use x=\"254.492188\" xlink:href=\"#DejaVuSans-48\"/>\n      </g>\n     </g>\n    </g>\n    <g id=\"xtick_3\">\n     <g id=\"line2d_3\">\n      <path clip-path=\"url(#p14402db3cc)\" d=\"M 320.088707 224.64 \nL 320.088707 7.2 \n\" style=\"fill:none;stroke:#ffffff;stroke-linecap:round;stroke-width:0.8;\"/>\n     </g>\n     <g id=\"text_3\">\n      <!-- 20000 -->\n      <defs>\n       <path d=\"M 19.1875 8.296875 \nL 53.609375 8.296875 \nL 53.609375 0 \nL 7.328125 0 \nL 7.328125 8.296875 \nQ 12.9375 14.109375 22.625 23.890625 \nQ 32.328125 33.6875 34.8125 36.53125 \nQ 39.546875 41.84375 41.421875 45.53125 \nQ 43.3125 49.21875 43.3125 52.78125 \nQ 43.3125 58.59375 39.234375 62.25 \nQ 35.15625 65.921875 28.609375 65.921875 \nQ 23.96875 65.921875 18.8125 64.3125 \nQ 13.671875 62.703125 7.8125 59.421875 \nL 7.8125 69.390625 \nQ 13.765625 71.78125 18.9375 73 \nQ 24.125 74.21875 28.421875 74.21875 \nQ 39.75 74.21875 46.484375 68.546875 \nQ 53.21875 62.890625 53.21875 53.421875 \nQ 53.21875 48.921875 51.53125 44.890625 \nQ 49.859375 40.875 45.40625 35.40625 \nQ 44.1875 33.984375 37.640625 27.21875 \nQ 31.109375 20.453125 19.1875 8.296875 \nz\n\" id=\"DejaVuSans-50\"/>\n      </defs>\n      <g style=\"fill:#262626;\" transform=\"translate(304.182457 239.238437)scale(0.1 -0.1)\">\n       <use xlink:href=\"#DejaVuSans-50\"/>\n       <use x=\"63.623047\" xlink:href=\"#DejaVuSans-48\"/>\n       <use x=\"127.246094\" xlink:href=\"#DejaVuSans-48\"/>\n       <use x=\"190.869141\" xlink:href=\"#DejaVuSans-48\"/>\n       <use x=\"254.492188\" xlink:href=\"#DejaVuSans-48\"/>\n      </g>\n     </g>\n    </g>\n    <g id=\"xtick_4\">\n     <g id=\"line2d_4\">\n      <path clip-path=\"url(#p14402db3cc)\" d=\"M 388.719779 224.64 \nL 388.719779 7.2 \n\" style=\"fill:none;stroke:#ffffff;stroke-linecap:round;stroke-width:0.8;\"/>\n     </g>\n     <g id=\"text_4\">\n      <!-- 30000 -->\n      <defs>\n       <path d=\"M 40.578125 39.3125 \nQ 47.65625 37.796875 51.625 33 \nQ 55.609375 28.21875 55.609375 21.1875 \nQ 55.609375 10.40625 48.1875 4.484375 \nQ 40.765625 -1.421875 27.09375 -1.421875 \nQ 22.515625 -1.421875 17.65625 -0.515625 \nQ 12.796875 0.390625 7.625 2.203125 \nL 7.625 11.71875 \nQ 11.71875 9.328125 16.59375 8.109375 \nQ 21.484375 6.890625 26.8125 6.890625 \nQ 36.078125 6.890625 40.9375 10.546875 \nQ 45.796875 14.203125 45.796875 21.1875 \nQ 45.796875 27.640625 41.28125 31.265625 \nQ 36.765625 34.90625 28.71875 34.90625 \nL 20.21875 34.90625 \nL 20.21875 43.015625 \nL 29.109375 43.015625 \nQ 36.375 43.015625 40.234375 45.921875 \nQ 44.09375 48.828125 44.09375 54.296875 \nQ 44.09375 59.90625 40.109375 62.90625 \nQ 36.140625 65.921875 28.71875 65.921875 \nQ 24.65625 65.921875 20.015625 65.03125 \nQ 15.375 64.15625 9.8125 62.3125 \nL 9.8125 71.09375 \nQ 15.4375 72.65625 20.34375 73.4375 \nQ 25.25 74.21875 29.59375 74.21875 \nQ 40.828125 74.21875 47.359375 69.109375 \nQ 53.90625 64.015625 53.90625 55.328125 \nQ 53.90625 49.265625 50.4375 45.09375 \nQ 46.96875 40.921875 40.578125 39.3125 \nz\n\" id=\"DejaVuSans-51\"/>\n      </defs>\n      <g style=\"fill:#262626;\" transform=\"translate(372.813529 239.238437)scale(0.1 -0.1)\">\n       <use xlink:href=\"#DejaVuSans-51\"/>\n       <use x=\"63.623047\" xlink:href=\"#DejaVuSans-48\"/>\n       <use x=\"127.246094\" xlink:href=\"#DejaVuSans-48\"/>\n       <use x=\"190.869141\" xlink:href=\"#DejaVuSans-48\"/>\n       <use x=\"254.492188\" xlink:href=\"#DejaVuSans-48\"/>\n      </g>\n     </g>\n    </g>\n    <g id=\"xtick_5\">\n     <g id=\"line2d_5\">\n      <path clip-path=\"url(#p14402db3cc)\" d=\"M 457.350851 224.64 \nL 457.350851 7.2 \n\" style=\"fill:none;stroke:#ffffff;stroke-linecap:round;stroke-width:0.8;\"/>\n     </g>\n     <g id=\"text_5\">\n      <!-- 40000 -->\n      <defs>\n       <path d=\"M 37.796875 64.3125 \nL 12.890625 25.390625 \nL 37.796875 25.390625 \nz\nM 35.203125 72.90625 \nL 47.609375 72.90625 \nL 47.609375 25.390625 \nL 58.015625 25.390625 \nL 58.015625 17.1875 \nL 47.609375 17.1875 \nL 47.609375 0 \nL 37.796875 0 \nL 37.796875 17.1875 \nL 4.890625 17.1875 \nL 4.890625 26.703125 \nz\n\" id=\"DejaVuSans-52\"/>\n      </defs>\n      <g style=\"fill:#262626;\" transform=\"translate(441.444601 239.238437)scale(0.1 -0.1)\">\n       <use xlink:href=\"#DejaVuSans-52\"/>\n       <use x=\"63.623047\" xlink:href=\"#DejaVuSans-48\"/>\n       <use x=\"127.246094\" xlink:href=\"#DejaVuSans-48\"/>\n       <use x=\"190.869141\" xlink:href=\"#DejaVuSans-48\"/>\n       <use x=\"254.492188\" xlink:href=\"#DejaVuSans-48\"/>\n      </g>\n     </g>\n    </g>\n   </g>\n   <g id=\"matplotlib.axis_2\">\n    <g id=\"ytick_1\">\n     <g id=\"line2d_6\">\n      <path clip-path=\"url(#p14402db3cc)\" d=\"M 182.826562 217.392 \nL 517.626562 217.392 \n\" style=\"fill:none;stroke:#ffffff;stroke-linecap:round;stroke-width:0.8;\"/>\n     </g>\n     <g id=\"text_6\">\n      <!-- marital-status -->\n      <defs>\n       <path d=\"M 52 44.1875 \nQ 55.375 50.25 60.0625 53.125 \nQ 64.75 56 71.09375 56 \nQ 79.640625 56 84.28125 50.015625 \nQ 88.921875 44.046875 88.921875 33.015625 \nL 88.921875 0 \nL 79.890625 0 \nL 79.890625 32.71875 \nQ 79.890625 40.578125 77.09375 44.375 \nQ 74.3125 48.1875 68.609375 48.1875 \nQ 61.625 48.1875 57.5625 43.546875 \nQ 53.515625 38.921875 53.515625 30.90625 \nL 53.515625 0 \nL 44.484375 0 \nL 44.484375 32.71875 \nQ 44.484375 40.625 41.703125 44.40625 \nQ 38.921875 48.1875 33.109375 48.1875 \nQ 26.21875 48.1875 22.15625 43.53125 \nQ 18.109375 38.875 18.109375 30.90625 \nL 18.109375 0 \nL 9.078125 0 \nL 9.078125 54.6875 \nL 18.109375 54.6875 \nL 18.109375 46.1875 \nQ 21.1875 51.21875 25.484375 53.609375 \nQ 29.78125 56 35.6875 56 \nQ 41.65625 56 45.828125 52.96875 \nQ 50 49.953125 52 44.1875 \nz\n\" id=\"DejaVuSans-109\"/>\n       <path d=\"M 34.28125 27.484375 \nQ 23.390625 27.484375 19.1875 25 \nQ 14.984375 22.515625 14.984375 16.5 \nQ 14.984375 11.71875 18.140625 8.90625 \nQ 21.296875 6.109375 26.703125 6.109375 \nQ 34.1875 6.109375 38.703125 11.40625 \nQ 43.21875 16.703125 43.21875 25.484375 \nL 43.21875 27.484375 \nz\nM 52.203125 31.203125 \nL 52.203125 0 \nL 43.21875 0 \nL 43.21875 8.296875 \nQ 40.140625 3.328125 35.546875 0.953125 \nQ 30.953125 -1.421875 24.3125 -1.421875 \nQ 15.921875 -1.421875 10.953125 3.296875 \nQ 6 8.015625 6 15.921875 \nQ 6 25.140625 12.171875 29.828125 \nQ 18.359375 34.515625 30.609375 34.515625 \nL 43.21875 34.515625 \nL 43.21875 35.40625 \nQ 43.21875 41.609375 39.140625 45 \nQ 35.0625 48.390625 27.6875 48.390625 \nQ 23 48.390625 18.546875 47.265625 \nQ 14.109375 46.140625 10.015625 43.890625 \nL 10.015625 52.203125 \nQ 14.9375 54.109375 19.578125 55.046875 \nQ 24.21875 56 28.609375 56 \nQ 40.484375 56 46.34375 49.84375 \nQ 52.203125 43.703125 52.203125 31.203125 \nz\n\" id=\"DejaVuSans-97\"/>\n       <path d=\"M 41.109375 46.296875 \nQ 39.59375 47.171875 37.8125 47.578125 \nQ 36.03125 48 33.890625 48 \nQ 26.265625 48 22.1875 43.046875 \nQ 18.109375 38.09375 18.109375 28.8125 \nL 18.109375 0 \nL 9.078125 0 \nL 9.078125 54.6875 \nL 18.109375 54.6875 \nL 18.109375 46.1875 \nQ 20.953125 51.171875 25.484375 53.578125 \nQ 30.03125 56 36.53125 56 \nQ 37.453125 56 38.578125 55.875 \nQ 39.703125 55.765625 41.0625 55.515625 \nz\n\" id=\"DejaVuSans-114\"/>\n       <path d=\"M 9.421875 54.6875 \nL 18.40625 54.6875 \nL 18.40625 0 \nL 9.421875 0 \nz\nM 9.421875 75.984375 \nL 18.40625 75.984375 \nL 18.40625 64.59375 \nL 9.421875 64.59375 \nz\n\" id=\"DejaVuSans-105\"/>\n       <path d=\"M 18.3125 70.21875 \nL 18.3125 54.6875 \nL 36.8125 54.6875 \nL 36.8125 47.703125 \nL 18.3125 47.703125 \nL 18.3125 18.015625 \nQ 18.3125 11.328125 20.140625 9.421875 \nQ 21.96875 7.515625 27.59375 7.515625 \nL 36.8125 7.515625 \nL 36.8125 0 \nL 27.59375 0 \nQ 17.1875 0 13.234375 3.875 \nQ 9.28125 7.765625 9.28125 18.015625 \nL 9.28125 47.703125 \nL 2.6875 47.703125 \nL 2.6875 54.6875 \nL 9.28125 54.6875 \nL 9.28125 70.21875 \nz\n\" id=\"DejaVuSans-116\"/>\n       <path d=\"M 9.421875 75.984375 \nL 18.40625 75.984375 \nL 18.40625 0 \nL 9.421875 0 \nz\n\" id=\"DejaVuSans-108\"/>\n       <path d=\"M 4.890625 31.390625 \nL 31.203125 31.390625 \nL 31.203125 23.390625 \nL 4.890625 23.390625 \nz\n\" id=\"DejaVuSans-45\"/>\n       <path d=\"M 44.28125 53.078125 \nL 44.28125 44.578125 \nQ 40.484375 46.53125 36.375 47.5 \nQ 32.28125 48.484375 27.875 48.484375 \nQ 21.1875 48.484375 17.84375 46.4375 \nQ 14.5 44.390625 14.5 40.28125 \nQ 14.5 37.15625 16.890625 35.375 \nQ 19.28125 33.59375 26.515625 31.984375 \nL 29.59375 31.296875 \nQ 39.15625 29.25 43.1875 25.515625 \nQ 47.21875 21.78125 47.21875 15.09375 \nQ 47.21875 7.46875 41.1875 3.015625 \nQ 35.15625 -1.421875 24.609375 -1.421875 \nQ 20.21875 -1.421875 15.453125 -0.5625 \nQ 10.6875 0.296875 5.421875 2 \nL 5.421875 11.28125 \nQ 10.40625 8.6875 15.234375 7.390625 \nQ 20.0625 6.109375 24.8125 6.109375 \nQ 31.15625 6.109375 34.5625 8.28125 \nQ 37.984375 10.453125 37.984375 14.40625 \nQ 37.984375 18.0625 35.515625 20.015625 \nQ 33.0625 21.96875 24.703125 23.78125 \nL 21.578125 24.515625 \nQ 13.234375 26.265625 9.515625 29.90625 \nQ 5.8125 33.546875 5.8125 39.890625 \nQ 5.8125 47.609375 11.28125 51.796875 \nQ 16.75 56 26.8125 56 \nQ 31.78125 56 36.171875 55.265625 \nQ 40.578125 54.546875 44.28125 53.078125 \nz\n\" id=\"DejaVuSans-115\"/>\n       <path d=\"M 8.5 21.578125 \nL 8.5 54.6875 \nL 17.484375 54.6875 \nL 17.484375 21.921875 \nQ 17.484375 14.15625 20.5 10.265625 \nQ 23.53125 6.390625 29.59375 6.390625 \nQ 36.859375 6.390625 41.078125 11.03125 \nQ 45.3125 15.671875 45.3125 23.6875 \nL 45.3125 54.6875 \nL 54.296875 54.6875 \nL 54.296875 0 \nL 45.3125 0 \nL 45.3125 8.40625 \nQ 42.046875 3.421875 37.71875 1 \nQ 33.40625 -1.421875 27.6875 -1.421875 \nQ 18.265625 -1.421875 13.375 4.4375 \nQ 8.5 10.296875 8.5 21.578125 \nz\nM 31.109375 56 \nz\n\" id=\"DejaVuSans-117\"/>\n      </defs>\n      <g style=\"fill:#262626;\" transform=\"translate(105.909375 221.191219)scale(0.1 -0.1)\">\n       <use xlink:href=\"#DejaVuSans-109\"/>\n       <use x=\"97.412109\" xlink:href=\"#DejaVuSans-97\"/>\n       <use x=\"158.691406\" xlink:href=\"#DejaVuSans-114\"/>\n       <use x=\"199.804688\" xlink:href=\"#DejaVuSans-105\"/>\n       <use x=\"227.587891\" xlink:href=\"#DejaVuSans-116\"/>\n       <use x=\"266.796875\" xlink:href=\"#DejaVuSans-97\"/>\n       <use x=\"328.076172\" xlink:href=\"#DejaVuSans-108\"/>\n       <use x=\"355.859375\" xlink:href=\"#DejaVuSans-45\"/>\n       <use x=\"391.943359\" xlink:href=\"#DejaVuSans-115\"/>\n       <use x=\"444.042969\" xlink:href=\"#DejaVuSans-116\"/>\n       <use x=\"483.251953\" xlink:href=\"#DejaVuSans-97\"/>\n       <use x=\"544.53125\" xlink:href=\"#DejaVuSans-116\"/>\n       <use x=\"583.740234\" xlink:href=\"#DejaVuSans-117\"/>\n       <use x=\"647.119141\" xlink:href=\"#DejaVuSans-115\"/>\n      </g>\n     </g>\n    </g>\n    <g id=\"ytick_2\">\n     <g id=\"line2d_7\">\n      <path clip-path=\"url(#p14402db3cc)\" d=\"M 182.826562 202.896 \nL 517.626562 202.896 \n\" style=\"fill:none;stroke:#ffffff;stroke-linecap:round;stroke-width:0.8;\"/>\n     </g>\n     <g id=\"text_7\">\n      <!-- education-num -->\n      <defs>\n       <path d=\"M 56.203125 29.59375 \nL 56.203125 25.203125 \nL 14.890625 25.203125 \nQ 15.484375 15.921875 20.484375 11.0625 \nQ 25.484375 6.203125 34.421875 6.203125 \nQ 39.59375 6.203125 44.453125 7.46875 \nQ 49.3125 8.734375 54.109375 11.28125 \nL 54.109375 2.78125 \nQ 49.265625 0.734375 44.1875 -0.34375 \nQ 39.109375 -1.421875 33.890625 -1.421875 \nQ 20.796875 -1.421875 13.15625 6.1875 \nQ 5.515625 13.8125 5.515625 26.8125 \nQ 5.515625 40.234375 12.765625 48.109375 \nQ 20.015625 56 32.328125 56 \nQ 43.359375 56 49.78125 48.890625 \nQ 56.203125 41.796875 56.203125 29.59375 \nz\nM 47.21875 32.234375 \nQ 47.125 39.59375 43.09375 43.984375 \nQ 39.0625 48.390625 32.421875 48.390625 \nQ 24.90625 48.390625 20.390625 44.140625 \nQ 15.875 39.890625 15.1875 32.171875 \nz\n\" id=\"DejaVuSans-101\"/>\n       <path d=\"M 45.40625 46.390625 \nL 45.40625 75.984375 \nL 54.390625 75.984375 \nL 54.390625 0 \nL 45.40625 0 \nL 45.40625 8.203125 \nQ 42.578125 3.328125 38.25 0.953125 \nQ 33.9375 -1.421875 27.875 -1.421875 \nQ 17.96875 -1.421875 11.734375 6.484375 \nQ 5.515625 14.40625 5.515625 27.296875 \nQ 5.515625 40.1875 11.734375 48.09375 \nQ 17.96875 56 27.875 56 \nQ 33.9375 56 38.25 53.625 \nQ 42.578125 51.265625 45.40625 46.390625 \nz\nM 14.796875 27.296875 \nQ 14.796875 17.390625 18.875 11.75 \nQ 22.953125 6.109375 30.078125 6.109375 \nQ 37.203125 6.109375 41.296875 11.75 \nQ 45.40625 17.390625 45.40625 27.296875 \nQ 45.40625 37.203125 41.296875 42.84375 \nQ 37.203125 48.484375 30.078125 48.484375 \nQ 22.953125 48.484375 18.875 42.84375 \nQ 14.796875 37.203125 14.796875 27.296875 \nz\n\" id=\"DejaVuSans-100\"/>\n       <path d=\"M 48.78125 52.59375 \nL 48.78125 44.1875 \nQ 44.96875 46.296875 41.140625 47.34375 \nQ 37.3125 48.390625 33.40625 48.390625 \nQ 24.65625 48.390625 19.8125 42.84375 \nQ 14.984375 37.3125 14.984375 27.296875 \nQ 14.984375 17.28125 19.8125 11.734375 \nQ 24.65625 6.203125 33.40625 6.203125 \nQ 37.3125 6.203125 41.140625 7.25 \nQ 44.96875 8.296875 48.78125 10.40625 \nL 48.78125 2.09375 \nQ 45.015625 0.34375 40.984375 -0.53125 \nQ 36.96875 -1.421875 32.421875 -1.421875 \nQ 20.0625 -1.421875 12.78125 6.34375 \nQ 5.515625 14.109375 5.515625 27.296875 \nQ 5.515625 40.671875 12.859375 48.328125 \nQ 20.21875 56 33.015625 56 \nQ 37.15625 56 41.109375 55.140625 \nQ 45.0625 54.296875 48.78125 52.59375 \nz\n\" id=\"DejaVuSans-99\"/>\n       <path d=\"M 30.609375 48.390625 \nQ 23.390625 48.390625 19.1875 42.75 \nQ 14.984375 37.109375 14.984375 27.296875 \nQ 14.984375 17.484375 19.15625 11.84375 \nQ 23.34375 6.203125 30.609375 6.203125 \nQ 37.796875 6.203125 41.984375 11.859375 \nQ 46.1875 17.53125 46.1875 27.296875 \nQ 46.1875 37.015625 41.984375 42.703125 \nQ 37.796875 48.390625 30.609375 48.390625 \nz\nM 30.609375 56 \nQ 42.328125 56 49.015625 48.375 \nQ 55.71875 40.765625 55.71875 27.296875 \nQ 55.71875 13.875 49.015625 6.21875 \nQ 42.328125 -1.421875 30.609375 -1.421875 \nQ 18.84375 -1.421875 12.171875 6.21875 \nQ 5.515625 13.875 5.515625 27.296875 \nQ 5.515625 40.765625 12.171875 48.375 \nQ 18.84375 56 30.609375 56 \nz\n\" id=\"DejaVuSans-111\"/>\n       <path d=\"M 54.890625 33.015625 \nL 54.890625 0 \nL 45.90625 0 \nL 45.90625 32.71875 \nQ 45.90625 40.484375 42.875 44.328125 \nQ 39.84375 48.1875 33.796875 48.1875 \nQ 26.515625 48.1875 22.3125 43.546875 \nQ 18.109375 38.921875 18.109375 30.90625 \nL 18.109375 0 \nL 9.078125 0 \nL 9.078125 54.6875 \nL 18.109375 54.6875 \nL 18.109375 46.1875 \nQ 21.34375 51.125 25.703125 53.5625 \nQ 30.078125 56 35.796875 56 \nQ 45.21875 56 50.046875 50.171875 \nQ 54.890625 44.34375 54.890625 33.015625 \nz\n\" id=\"DejaVuSans-110\"/>\n      </defs>\n      <g style=\"fill:#262626;\" transform=\"translate(100.182812 206.695219)scale(0.1 -0.1)\">\n       <use xlink:href=\"#DejaVuSans-101\"/>\n       <use x=\"61.523438\" xlink:href=\"#DejaVuSans-100\"/>\n       <use x=\"125\" xlink:href=\"#DejaVuSans-117\"/>\n       <use x=\"188.378906\" xlink:href=\"#DejaVuSans-99\"/>\n       <use x=\"243.359375\" xlink:href=\"#DejaVuSans-97\"/>\n       <use x=\"304.638672\" xlink:href=\"#DejaVuSans-116\"/>\n       <use x=\"343.847656\" xlink:href=\"#DejaVuSans-105\"/>\n       <use x=\"371.630859\" xlink:href=\"#DejaVuSans-111\"/>\n       <use x=\"432.8125\" xlink:href=\"#DejaVuSans-110\"/>\n       <use x=\"496.191406\" xlink:href=\"#DejaVuSans-45\"/>\n       <use x=\"532.275391\" xlink:href=\"#DejaVuSans-110\"/>\n       <use x=\"595.654297\" xlink:href=\"#DejaVuSans-117\"/>\n       <use x=\"659.033203\" xlink:href=\"#DejaVuSans-109\"/>\n      </g>\n     </g>\n    </g>\n    <g id=\"ytick_3\">\n     <g id=\"line2d_8\">\n      <path clip-path=\"url(#p14402db3cc)\" d=\"M 182.826562 188.4 \nL 517.626562 188.4 \n\" style=\"fill:none;stroke:#ffffff;stroke-linecap:round;stroke-width:0.8;\"/>\n     </g>\n     <g id=\"text_8\">\n      <!-- capitalgain -->\n      <defs>\n       <path d=\"M 18.109375 8.203125 \nL 18.109375 -20.796875 \nL 9.078125 -20.796875 \nL 9.078125 54.6875 \nL 18.109375 54.6875 \nL 18.109375 46.390625 \nQ 20.953125 51.265625 25.265625 53.625 \nQ 29.59375 56 35.59375 56 \nQ 45.5625 56 51.78125 48.09375 \nQ 58.015625 40.1875 58.015625 27.296875 \nQ 58.015625 14.40625 51.78125 6.484375 \nQ 45.5625 -1.421875 35.59375 -1.421875 \nQ 29.59375 -1.421875 25.265625 0.953125 \nQ 20.953125 3.328125 18.109375 8.203125 \nz\nM 48.6875 27.296875 \nQ 48.6875 37.203125 44.609375 42.84375 \nQ 40.53125 48.484375 33.40625 48.484375 \nQ 26.265625 48.484375 22.1875 42.84375 \nQ 18.109375 37.203125 18.109375 27.296875 \nQ 18.109375 17.390625 22.1875 11.75 \nQ 26.265625 6.109375 33.40625 6.109375 \nQ 40.53125 6.109375 44.609375 11.75 \nQ 48.6875 17.390625 48.6875 27.296875 \nz\n\" id=\"DejaVuSans-112\"/>\n       <path d=\"M 45.40625 27.984375 \nQ 45.40625 37.75 41.375 43.109375 \nQ 37.359375 48.484375 30.078125 48.484375 \nQ 22.859375 48.484375 18.828125 43.109375 \nQ 14.796875 37.75 14.796875 27.984375 \nQ 14.796875 18.265625 18.828125 12.890625 \nQ 22.859375 7.515625 30.078125 7.515625 \nQ 37.359375 7.515625 41.375 12.890625 \nQ 45.40625 18.265625 45.40625 27.984375 \nz\nM 54.390625 6.78125 \nQ 54.390625 -7.171875 48.1875 -13.984375 \nQ 42 -20.796875 29.203125 -20.796875 \nQ 24.46875 -20.796875 20.265625 -20.09375 \nQ 16.0625 -19.390625 12.109375 -17.921875 \nL 12.109375 -9.1875 \nQ 16.0625 -11.328125 19.921875 -12.34375 \nQ 23.78125 -13.375 27.78125 -13.375 \nQ 36.625 -13.375 41.015625 -8.765625 \nQ 45.40625 -4.15625 45.40625 5.171875 \nL 45.40625 9.625 \nQ 42.625 4.78125 38.28125 2.390625 \nQ 33.9375 0 27.875 0 \nQ 17.828125 0 11.671875 7.65625 \nQ 5.515625 15.328125 5.515625 27.984375 \nQ 5.515625 40.671875 11.671875 48.328125 \nQ 17.828125 56 27.875 56 \nQ 33.9375 56 38.28125 53.609375 \nQ 42.625 51.21875 45.40625 46.390625 \nL 45.40625 54.6875 \nL 54.390625 54.6875 \nz\n\" id=\"DejaVuSans-103\"/>\n      </defs>\n      <g style=\"fill:#262626;\" transform=\"translate(120.654687 192.199219)scale(0.1 -0.1)\">\n       <use xlink:href=\"#DejaVuSans-99\"/>\n       <use x=\"54.980469\" xlink:href=\"#DejaVuSans-97\"/>\n       <use x=\"116.259766\" xlink:href=\"#DejaVuSans-112\"/>\n       <use x=\"179.736328\" xlink:href=\"#DejaVuSans-105\"/>\n       <use x=\"207.519531\" xlink:href=\"#DejaVuSans-116\"/>\n       <use x=\"246.728516\" xlink:href=\"#DejaVuSans-97\"/>\n       <use x=\"308.007812\" xlink:href=\"#DejaVuSans-108\"/>\n       <use x=\"335.791016\" xlink:href=\"#DejaVuSans-103\"/>\n       <use x=\"399.267578\" xlink:href=\"#DejaVuSans-97\"/>\n       <use x=\"460.546875\" xlink:href=\"#DejaVuSans-105\"/>\n       <use x=\"488.330078\" xlink:href=\"#DejaVuSans-110\"/>\n      </g>\n     </g>\n    </g>\n    <g id=\"ytick_4\">\n     <g id=\"line2d_9\">\n      <path clip-path=\"url(#p14402db3cc)\" d=\"M 182.826562 173.904 \nL 517.626562 173.904 \n\" style=\"fill:none;stroke:#ffffff;stroke-linecap:round;stroke-width:0.8;\"/>\n     </g>\n     <g id=\"text_9\">\n      <!-- CountEncoder_occupation -->\n      <defs>\n       <path d=\"M 64.40625 67.28125 \nL 64.40625 56.890625 \nQ 59.421875 61.53125 53.78125 63.8125 \nQ 48.140625 66.109375 41.796875 66.109375 \nQ 29.296875 66.109375 22.65625 58.46875 \nQ 16.015625 50.828125 16.015625 36.375 \nQ 16.015625 21.96875 22.65625 14.328125 \nQ 29.296875 6.6875 41.796875 6.6875 \nQ 48.140625 6.6875 53.78125 8.984375 \nQ 59.421875 11.28125 64.40625 15.921875 \nL 64.40625 5.609375 \nQ 59.234375 2.09375 53.4375 0.328125 \nQ 47.65625 -1.421875 41.21875 -1.421875 \nQ 24.65625 -1.421875 15.125 8.703125 \nQ 5.609375 18.84375 5.609375 36.375 \nQ 5.609375 53.953125 15.125 64.078125 \nQ 24.65625 74.21875 41.21875 74.21875 \nQ 47.75 74.21875 53.53125 72.484375 \nQ 59.328125 70.75 64.40625 67.28125 \nz\n\" id=\"DejaVuSans-67\"/>\n       <path d=\"M 9.8125 72.90625 \nL 55.90625 72.90625 \nL 55.90625 64.59375 \nL 19.671875 64.59375 \nL 19.671875 43.015625 \nL 54.390625 43.015625 \nL 54.390625 34.71875 \nL 19.671875 34.71875 \nL 19.671875 8.296875 \nL 56.78125 8.296875 \nL 56.78125 0 \nL 9.8125 0 \nz\n\" id=\"DejaVuSans-69\"/>\n       <path d=\"M 50.984375 -16.609375 \nL 50.984375 -23.578125 \nL -0.984375 -23.578125 \nL -0.984375 -16.609375 \nz\n\" id=\"DejaVuSans-95\"/>\n      </defs>\n      <g style=\"fill:#262626;\" transform=\"translate(45.159375 177.703219)scale(0.1 -0.1)\">\n       <use xlink:href=\"#DejaVuSans-67\"/>\n       <use x=\"69.824219\" xlink:href=\"#DejaVuSans-111\"/>\n       <use x=\"131.005859\" xlink:href=\"#DejaVuSans-117\"/>\n       <use x=\"194.384766\" xlink:href=\"#DejaVuSans-110\"/>\n       <use x=\"257.763672\" xlink:href=\"#DejaVuSans-116\"/>\n       <use x=\"296.972656\" xlink:href=\"#DejaVuSans-69\"/>\n       <use x=\"360.15625\" xlink:href=\"#DejaVuSans-110\"/>\n       <use x=\"423.535156\" xlink:href=\"#DejaVuSans-99\"/>\n       <use x=\"478.515625\" xlink:href=\"#DejaVuSans-111\"/>\n       <use x=\"539.697266\" xlink:href=\"#DejaVuSans-100\"/>\n       <use x=\"603.173828\" xlink:href=\"#DejaVuSans-101\"/>\n       <use x=\"664.697266\" xlink:href=\"#DejaVuSans-114\"/>\n       <use x=\"705.810547\" xlink:href=\"#DejaVuSans-95\"/>\n       <use x=\"755.810547\" xlink:href=\"#DejaVuSans-111\"/>\n       <use x=\"816.992188\" xlink:href=\"#DejaVuSans-99\"/>\n       <use x=\"871.972656\" xlink:href=\"#DejaVuSans-99\"/>\n       <use x=\"926.953125\" xlink:href=\"#DejaVuSans-117\"/>\n       <use x=\"990.332031\" xlink:href=\"#DejaVuSans-112\"/>\n       <use x=\"1053.808594\" xlink:href=\"#DejaVuSans-97\"/>\n       <use x=\"1115.087891\" xlink:href=\"#DejaVuSans-116\"/>\n       <use x=\"1154.296875\" xlink:href=\"#DejaVuSans-105\"/>\n       <use x=\"1182.080078\" xlink:href=\"#DejaVuSans-111\"/>\n       <use x=\"1243.261719\" xlink:href=\"#DejaVuSans-110\"/>\n      </g>\n     </g>\n    </g>\n    <g id=\"ytick_5\">\n     <g id=\"line2d_10\">\n      <path clip-path=\"url(#p14402db3cc)\" d=\"M 182.826562 159.408 \nL 517.626562 159.408 \n\" style=\"fill:none;stroke:#ffffff;stroke-linecap:round;stroke-width:0.8;\"/>\n     </g>\n     <g id=\"text_10\">\n      <!-- age -->\n      <g style=\"fill:#262626;\" transform=\"translate(157.196875 163.207219)scale(0.1 -0.1)\">\n       <use xlink:href=\"#DejaVuSans-97\"/>\n       <use x=\"61.279297\" xlink:href=\"#DejaVuSans-103\"/>\n       <use x=\"124.755859\" xlink:href=\"#DejaVuSans-101\"/>\n      </g>\n     </g>\n    </g>\n    <g id=\"ytick_6\">\n     <g id=\"line2d_11\">\n      <path clip-path=\"url(#p14402db3cc)\" d=\"M 182.826562 144.912 \nL 517.626562 144.912 \n\" style=\"fill:none;stroke:#ffffff;stroke-linecap:round;stroke-width:0.8;\"/>\n     </g>\n     <g id=\"text_11\">\n      <!-- fnlwgt_*_education-num -->\n      <defs>\n       <path d=\"M 37.109375 75.984375 \nL 37.109375 68.5 \nL 28.515625 68.5 \nQ 23.6875 68.5 21.796875 66.546875 \nQ 19.921875 64.59375 19.921875 59.515625 \nL 19.921875 54.6875 \nL 34.71875 54.6875 \nL 34.71875 47.703125 \nL 19.921875 47.703125 \nL 19.921875 0 \nL 10.890625 0 \nL 10.890625 47.703125 \nL 2.296875 47.703125 \nL 2.296875 54.6875 \nL 10.890625 54.6875 \nL 10.890625 58.5 \nQ 10.890625 67.625 15.140625 71.796875 \nQ 19.390625 75.984375 28.609375 75.984375 \nz\n\" id=\"DejaVuSans-102\"/>\n       <path d=\"M 4.203125 54.6875 \nL 13.1875 54.6875 \nL 24.421875 12.015625 \nL 35.59375 54.6875 \nL 46.1875 54.6875 \nL 57.421875 12.015625 \nL 68.609375 54.6875 \nL 77.59375 54.6875 \nL 63.28125 0 \nL 52.6875 0 \nL 40.921875 44.828125 \nL 29.109375 0 \nL 18.5 0 \nz\n\" id=\"DejaVuSans-119\"/>\n       <path d=\"M 47.015625 60.890625 \nL 29.5 51.421875 \nL 47.015625 41.890625 \nL 44.1875 37.109375 \nL 27.78125 47.015625 \nL 27.78125 28.609375 \nL 22.21875 28.609375 \nL 22.21875 47.015625 \nL 5.8125 37.109375 \nL 2.984375 41.890625 \nL 20.515625 51.421875 \nL 2.984375 60.890625 \nL 5.8125 65.71875 \nL 22.21875 55.8125 \nL 22.21875 74.21875 \nL 27.78125 74.21875 \nL 27.78125 55.8125 \nL 44.1875 65.71875 \nz\n\" id=\"DejaVuSans-42\"/>\n      </defs>\n      <g style=\"fill:#262626;\" transform=\"translate(54.1 148.711219)scale(0.1 -0.1)\">\n       <use xlink:href=\"#DejaVuSans-102\"/>\n       <use x=\"35.205078\" xlink:href=\"#DejaVuSans-110\"/>\n       <use x=\"98.583984\" xlink:href=\"#DejaVuSans-108\"/>\n       <use x=\"126.367188\" xlink:href=\"#DejaVuSans-119\"/>\n       <use x=\"208.154297\" xlink:href=\"#DejaVuSans-103\"/>\n       <use x=\"271.630859\" xlink:href=\"#DejaVuSans-116\"/>\n       <use x=\"310.839844\" xlink:href=\"#DejaVuSans-95\"/>\n       <use x=\"360.839844\" xlink:href=\"#DejaVuSans-42\"/>\n       <use x=\"410.839844\" xlink:href=\"#DejaVuSans-95\"/>\n       <use x=\"460.839844\" xlink:href=\"#DejaVuSans-101\"/>\n       <use x=\"522.363281\" xlink:href=\"#DejaVuSans-100\"/>\n       <use x=\"585.839844\" xlink:href=\"#DejaVuSans-117\"/>\n       <use x=\"649.21875\" xlink:href=\"#DejaVuSans-99\"/>\n       <use x=\"704.199219\" xlink:href=\"#DejaVuSans-97\"/>\n       <use x=\"765.478516\" xlink:href=\"#DejaVuSans-116\"/>\n       <use x=\"804.6875\" xlink:href=\"#DejaVuSans-105\"/>\n       <use x=\"832.470703\" xlink:href=\"#DejaVuSans-111\"/>\n       <use x=\"893.652344\" xlink:href=\"#DejaVuSans-110\"/>\n       <use x=\"957.03125\" xlink:href=\"#DejaVuSans-45\"/>\n       <use x=\"993.115234\" xlink:href=\"#DejaVuSans-110\"/>\n       <use x=\"1056.494141\" xlink:href=\"#DejaVuSans-117\"/>\n       <use x=\"1119.873047\" xlink:href=\"#DejaVuSans-109\"/>\n      </g>\n     </g>\n    </g>\n    <g id=\"ytick_7\">\n     <g id=\"line2d_12\">\n      <path clip-path=\"url(#p14402db3cc)\" d=\"M 182.826562 130.416 \nL 517.626562 130.416 \n\" style=\"fill:none;stroke:#ffffff;stroke-linecap:round;stroke-width:0.8;\"/>\n     </g>\n     <g id=\"text_12\">\n      <!-- fnlwgt_/_education-num -->\n      <defs>\n       <path d=\"M 25.390625 72.90625 \nL 33.6875 72.90625 \nL 8.296875 -9.28125 \nL 0 -9.28125 \nz\n\" id=\"DejaVuSans-47\"/>\n      </defs>\n      <g style=\"fill:#262626;\" transform=\"translate(55.73125 134.215219)scale(0.1 -0.1)\">\n       <use xlink:href=\"#DejaVuSans-102\"/>\n       <use x=\"35.205078\" xlink:href=\"#DejaVuSans-110\"/>\n       <use x=\"98.583984\" xlink:href=\"#DejaVuSans-108\"/>\n       <use x=\"126.367188\" xlink:href=\"#DejaVuSans-119\"/>\n       <use x=\"208.154297\" xlink:href=\"#DejaVuSans-103\"/>\n       <use x=\"271.630859\" xlink:href=\"#DejaVuSans-116\"/>\n       <use x=\"310.839844\" xlink:href=\"#DejaVuSans-95\"/>\n       <use x=\"360.839844\" xlink:href=\"#DejaVuSans-47\"/>\n       <use x=\"394.53125\" xlink:href=\"#DejaVuSans-95\"/>\n       <use x=\"444.53125\" xlink:href=\"#DejaVuSans-101\"/>\n       <use x=\"506.054688\" xlink:href=\"#DejaVuSans-100\"/>\n       <use x=\"569.53125\" xlink:href=\"#DejaVuSans-117\"/>\n       <use x=\"632.910156\" xlink:href=\"#DejaVuSans-99\"/>\n       <use x=\"687.890625\" xlink:href=\"#DejaVuSans-97\"/>\n       <use x=\"749.169922\" xlink:href=\"#DejaVuSans-116\"/>\n       <use x=\"788.378906\" xlink:href=\"#DejaVuSans-105\"/>\n       <use x=\"816.162109\" xlink:href=\"#DejaVuSans-111\"/>\n       <use x=\"877.34375\" xlink:href=\"#DejaVuSans-110\"/>\n       <use x=\"940.722656\" xlink:href=\"#DejaVuSans-45\"/>\n       <use x=\"976.806641\" xlink:href=\"#DejaVuSans-110\"/>\n       <use x=\"1040.185547\" xlink:href=\"#DejaVuSans-117\"/>\n       <use x=\"1103.564453\" xlink:href=\"#DejaVuSans-109\"/>\n      </g>\n     </g>\n    </g>\n    <g id=\"ytick_8\">\n     <g id=\"line2d_13\">\n      <path clip-path=\"url(#p14402db3cc)\" d=\"M 182.826562 115.92 \nL 517.626562 115.92 \n\" style=\"fill:none;stroke:#ffffff;stroke-linecap:round;stroke-width:0.8;\"/>\n     </g>\n     <g id=\"text_13\">\n      <!-- fnlwgt -->\n      <g style=\"fill:#262626;\" transform=\"translate(144.74375 119.719219)scale(0.1 -0.1)\">\n       <use xlink:href=\"#DejaVuSans-102\"/>\n       <use x=\"35.205078\" xlink:href=\"#DejaVuSans-110\"/>\n       <use x=\"98.583984\" xlink:href=\"#DejaVuSans-108\"/>\n       <use x=\"126.367188\" xlink:href=\"#DejaVuSans-119\"/>\n       <use x=\"208.154297\" xlink:href=\"#DejaVuSans-103\"/>\n       <use x=\"271.630859\" xlink:href=\"#DejaVuSans-116\"/>\n      </g>\n     </g>\n    </g>\n    <g id=\"ytick_9\">\n     <g id=\"line2d_14\">\n      <path clip-path=\"url(#p14402db3cc)\" d=\"M 182.826562 101.424 \nL 517.626562 101.424 \n\" style=\"fill:none;stroke:#ffffff;stroke-linecap:round;stroke-width:0.8;\"/>\n     </g>\n     <g id=\"text_14\">\n      <!-- education-num_/_fnlwgt -->\n      <g style=\"fill:#262626;\" transform=\"translate(55.73125 105.223219)scale(0.1 -0.1)\">\n       <use xlink:href=\"#DejaVuSans-101\"/>\n       <use x=\"61.523438\" xlink:href=\"#DejaVuSans-100\"/>\n       <use x=\"125\" xlink:href=\"#DejaVuSans-117\"/>\n       <use x=\"188.378906\" xlink:href=\"#DejaVuSans-99\"/>\n       <use x=\"243.359375\" xlink:href=\"#DejaVuSans-97\"/>\n       <use x=\"304.638672\" xlink:href=\"#DejaVuSans-116\"/>\n       <use x=\"343.847656\" xlink:href=\"#DejaVuSans-105\"/>\n       <use x=\"371.630859\" xlink:href=\"#DejaVuSans-111\"/>\n       <use x=\"432.8125\" xlink:href=\"#DejaVuSans-110\"/>\n       <use x=\"496.191406\" xlink:href=\"#DejaVuSans-45\"/>\n       <use x=\"532.275391\" xlink:href=\"#DejaVuSans-110\"/>\n       <use x=\"595.654297\" xlink:href=\"#DejaVuSans-117\"/>\n       <use x=\"659.033203\" xlink:href=\"#DejaVuSans-109\"/>\n       <use x=\"756.445312\" xlink:href=\"#DejaVuSans-95\"/>\n       <use x=\"806.445312\" xlink:href=\"#DejaVuSans-47\"/>\n       <use x=\"840.136719\" xlink:href=\"#DejaVuSans-95\"/>\n       <use x=\"890.136719\" xlink:href=\"#DejaVuSans-102\"/>\n       <use x=\"925.341797\" xlink:href=\"#DejaVuSans-110\"/>\n       <use x=\"988.720703\" xlink:href=\"#DejaVuSans-108\"/>\n       <use x=\"1016.503906\" xlink:href=\"#DejaVuSans-119\"/>\n       <use x=\"1098.291016\" xlink:href=\"#DejaVuSans-103\"/>\n       <use x=\"1161.767578\" xlink:href=\"#DejaVuSans-116\"/>\n      </g>\n     </g>\n    </g>\n    <g id=\"ytick_10\">\n     <g id=\"line2d_15\">\n      <path clip-path=\"url(#p14402db3cc)\" d=\"M 182.826562 86.928 \nL 517.626562 86.928 \n\" style=\"fill:none;stroke:#ffffff;stroke-linecap:round;stroke-width:0.8;\"/>\n     </g>\n     <g id=\"text_15\">\n      <!-- occupation -->\n      <g style=\"fill:#262626;\" transform=\"translate(120.742188 90.727219)scale(0.1 -0.1)\">\n       <use xlink:href=\"#DejaVuSans-111\"/>\n       <use x=\"61.181641\" xlink:href=\"#DejaVuSans-99\"/>\n       <use x=\"116.162109\" xlink:href=\"#DejaVuSans-99\"/>\n       <use x=\"171.142578\" xlink:href=\"#DejaVuSans-117\"/>\n       <use x=\"234.521484\" xlink:href=\"#DejaVuSans-112\"/>\n       <use x=\"297.998047\" xlink:href=\"#DejaVuSans-97\"/>\n       <use x=\"359.277344\" xlink:href=\"#DejaVuSans-116\"/>\n       <use x=\"398.486328\" xlink:href=\"#DejaVuSans-105\"/>\n       <use x=\"426.269531\" xlink:href=\"#DejaVuSans-111\"/>\n       <use x=\"487.451172\" xlink:href=\"#DejaVuSans-110\"/>\n      </g>\n     </g>\n    </g>\n    <g id=\"ytick_11\">\n     <g id=\"line2d_16\">\n      <path clip-path=\"url(#p14402db3cc)\" d=\"M 182.826562 72.432 \nL 517.626562 72.432 \n\" style=\"fill:none;stroke:#ffffff;stroke-linecap:round;stroke-width:0.8;\"/>\n     </g>\n     <g id=\"text_16\">\n      <!-- capitalloss -->\n      <g style=\"fill:#262626;\" transform=\"translate(122.93125 76.231219)scale(0.1 -0.1)\">\n       <use xlink:href=\"#DejaVuSans-99\"/>\n       <use x=\"54.980469\" xlink:href=\"#DejaVuSans-97\"/>\n       <use x=\"116.259766\" xlink:href=\"#DejaVuSans-112\"/>\n       <use x=\"179.736328\" xlink:href=\"#DejaVuSans-105\"/>\n       <use x=\"207.519531\" xlink:href=\"#DejaVuSans-116\"/>\n       <use x=\"246.728516\" xlink:href=\"#DejaVuSans-97\"/>\n       <use x=\"308.007812\" xlink:href=\"#DejaVuSans-108\"/>\n       <use x=\"335.791016\" xlink:href=\"#DejaVuSans-108\"/>\n       <use x=\"363.574219\" xlink:href=\"#DejaVuSans-111\"/>\n       <use x=\"424.755859\" xlink:href=\"#DejaVuSans-115\"/>\n       <use x=\"476.855469\" xlink:href=\"#DejaVuSans-115\"/>\n      </g>\n     </g>\n    </g>\n    <g id=\"ytick_12\">\n     <g id=\"line2d_17\">\n      <path clip-path=\"url(#p14402db3cc)\" d=\"M 182.826562 57.936 \nL 517.626562 57.936 \n\" style=\"fill:none;stroke:#ffffff;stroke-linecap:round;stroke-width:0.8;\"/>\n     </g>\n     <g id=\"text_17\">\n      <!-- HelmertEncoder_hoursperweek_2 -->\n      <defs>\n       <path d=\"M 9.8125 72.90625 \nL 19.671875 72.90625 \nL 19.671875 43.015625 \nL 55.515625 43.015625 \nL 55.515625 72.90625 \nL 65.375 72.90625 \nL 65.375 0 \nL 55.515625 0 \nL 55.515625 34.71875 \nL 19.671875 34.71875 \nL 19.671875 0 \nL 9.8125 0 \nz\n\" id=\"DejaVuSans-72\"/>\n       <path d=\"M 54.890625 33.015625 \nL 54.890625 0 \nL 45.90625 0 \nL 45.90625 32.71875 \nQ 45.90625 40.484375 42.875 44.328125 \nQ 39.84375 48.1875 33.796875 48.1875 \nQ 26.515625 48.1875 22.3125 43.546875 \nQ 18.109375 38.921875 18.109375 30.90625 \nL 18.109375 0 \nL 9.078125 0 \nL 9.078125 75.984375 \nL 18.109375 75.984375 \nL 18.109375 46.1875 \nQ 21.34375 51.125 25.703125 53.5625 \nQ 30.078125 56 35.796875 56 \nQ 45.21875 56 50.046875 50.171875 \nQ 54.890625 44.34375 54.890625 33.015625 \nz\n\" id=\"DejaVuSans-104\"/>\n       <path d=\"M 9.078125 75.984375 \nL 18.109375 75.984375 \nL 18.109375 31.109375 \nL 44.921875 54.6875 \nL 56.390625 54.6875 \nL 27.390625 29.109375 \nL 57.625 0 \nL 45.90625 0 \nL 18.109375 26.703125 \nL 18.109375 0 \nL 9.078125 0 \nz\n\" id=\"DejaVuSans-107\"/>\n      </defs>\n      <g style=\"fill:#262626;\" transform=\"translate(7.2 61.735219)scale(0.1 -0.1)\">\n       <use xlink:href=\"#DejaVuSans-72\"/>\n       <use x=\"75.195312\" xlink:href=\"#DejaVuSans-101\"/>\n       <use x=\"136.71875\" xlink:href=\"#DejaVuSans-108\"/>\n       <use x=\"164.501953\" xlink:href=\"#DejaVuSans-109\"/>\n       <use x=\"261.914062\" xlink:href=\"#DejaVuSans-101\"/>\n       <use x=\"323.4375\" xlink:href=\"#DejaVuSans-114\"/>\n       <use x=\"364.550781\" xlink:href=\"#DejaVuSans-116\"/>\n       <use x=\"403.759766\" xlink:href=\"#DejaVuSans-69\"/>\n       <use x=\"466.943359\" xlink:href=\"#DejaVuSans-110\"/>\n       <use x=\"530.322266\" xlink:href=\"#DejaVuSans-99\"/>\n       <use x=\"585.302734\" xlink:href=\"#DejaVuSans-111\"/>\n       <use x=\"646.484375\" xlink:href=\"#DejaVuSans-100\"/>\n       <use x=\"709.960938\" xlink:href=\"#DejaVuSans-101\"/>\n       <use x=\"771.484375\" xlink:href=\"#DejaVuSans-114\"/>\n       <use x=\"812.597656\" xlink:href=\"#DejaVuSans-95\"/>\n       <use x=\"862.597656\" xlink:href=\"#DejaVuSans-104\"/>\n       <use x=\"925.976562\" xlink:href=\"#DejaVuSans-111\"/>\n       <use x=\"987.158203\" xlink:href=\"#DejaVuSans-117\"/>\n       <use x=\"1050.537109\" xlink:href=\"#DejaVuSans-114\"/>\n       <use x=\"1091.650391\" xlink:href=\"#DejaVuSans-115\"/>\n       <use x=\"1143.75\" xlink:href=\"#DejaVuSans-112\"/>\n       <use x=\"1207.226562\" xlink:href=\"#DejaVuSans-101\"/>\n       <use x=\"1268.75\" xlink:href=\"#DejaVuSans-114\"/>\n       <use x=\"1309.863281\" xlink:href=\"#DejaVuSans-119\"/>\n       <use x=\"1391.650391\" xlink:href=\"#DejaVuSans-101\"/>\n       <use x=\"1453.173828\" xlink:href=\"#DejaVuSans-101\"/>\n       <use x=\"1514.697266\" xlink:href=\"#DejaVuSans-107\"/>\n       <use x=\"1572.607422\" xlink:href=\"#DejaVuSans-95\"/>\n       <use x=\"1622.607422\" xlink:href=\"#DejaVuSans-50\"/>\n      </g>\n     </g>\n    </g>\n    <g id=\"ytick_13\">\n     <g id=\"line2d_18\">\n      <path clip-path=\"url(#p14402db3cc)\" d=\"M 182.826562 43.44 \nL 517.626562 43.44 \n\" style=\"fill:none;stroke:#ffffff;stroke-linecap:round;stroke-width:0.8;\"/>\n     </g>\n     <g id=\"text_18\">\n      <!-- education-num_-_fnlwgt -->\n      <g style=\"fill:#262626;\" transform=\"translate(55.492187 47.239219)scale(0.1 -0.1)\">\n       <use xlink:href=\"#DejaVuSans-101\"/>\n       <use x=\"61.523438\" xlink:href=\"#DejaVuSans-100\"/>\n       <use x=\"125\" xlink:href=\"#DejaVuSans-117\"/>\n       <use x=\"188.378906\" xlink:href=\"#DejaVuSans-99\"/>\n       <use x=\"243.359375\" xlink:href=\"#DejaVuSans-97\"/>\n       <use x=\"304.638672\" xlink:href=\"#DejaVuSans-116\"/>\n       <use x=\"343.847656\" xlink:href=\"#DejaVuSans-105\"/>\n       <use x=\"371.630859\" xlink:href=\"#DejaVuSans-111\"/>\n       <use x=\"432.8125\" xlink:href=\"#DejaVuSans-110\"/>\n       <use x=\"496.191406\" xlink:href=\"#DejaVuSans-45\"/>\n       <use x=\"532.275391\" xlink:href=\"#DejaVuSans-110\"/>\n       <use x=\"595.654297\" xlink:href=\"#DejaVuSans-117\"/>\n       <use x=\"659.033203\" xlink:href=\"#DejaVuSans-109\"/>\n       <use x=\"756.445312\" xlink:href=\"#DejaVuSans-95\"/>\n       <use x=\"806.445312\" xlink:href=\"#DejaVuSans-45\"/>\n       <use x=\"842.529297\" xlink:href=\"#DejaVuSans-95\"/>\n       <use x=\"892.529297\" xlink:href=\"#DejaVuSans-102\"/>\n       <use x=\"927.734375\" xlink:href=\"#DejaVuSans-110\"/>\n       <use x=\"991.113281\" xlink:href=\"#DejaVuSans-108\"/>\n       <use x=\"1018.896484\" xlink:href=\"#DejaVuSans-119\"/>\n       <use x=\"1100.683594\" xlink:href=\"#DejaVuSans-103\"/>\n       <use x=\"1164.160156\" xlink:href=\"#DejaVuSans-116\"/>\n      </g>\n     </g>\n    </g>\n    <g id=\"ytick_14\">\n     <g id=\"line2d_19\">\n      <path clip-path=\"url(#p14402db3cc)\" d=\"M 182.826562 28.944 \nL 517.626562 28.944 \n\" style=\"fill:none;stroke:#ffffff;stroke-linecap:round;stroke-width:0.8;\"/>\n     </g>\n     <g id=\"text_19\">\n      <!-- workclass -->\n      <g style=\"fill:#262626;\" transform=\"translate(126.804688 32.743219)scale(0.1 -0.1)\">\n       <use xlink:href=\"#DejaVuSans-119\"/>\n       <use x=\"81.787109\" xlink:href=\"#DejaVuSans-111\"/>\n       <use x=\"142.96875\" xlink:href=\"#DejaVuSans-114\"/>\n       <use x=\"184.082031\" xlink:href=\"#DejaVuSans-107\"/>\n       <use x=\"241.992188\" xlink:href=\"#DejaVuSans-99\"/>\n       <use x=\"296.972656\" xlink:href=\"#DejaVuSans-108\"/>\n       <use x=\"324.755859\" xlink:href=\"#DejaVuSans-97\"/>\n       <use x=\"386.035156\" xlink:href=\"#DejaVuSans-115\"/>\n       <use x=\"438.134766\" xlink:href=\"#DejaVuSans-115\"/>\n      </g>\n     </g>\n    </g>\n    <g id=\"ytick_15\">\n     <g id=\"line2d_20\">\n      <path clip-path=\"url(#p14402db3cc)\" d=\"M 182.826562 14.448 \nL 517.626562 14.448 \n\" style=\"fill:none;stroke:#ffffff;stroke-linecap:round;stroke-width:0.8;\"/>\n     </g>\n     <g id=\"text_20\">\n      <!-- education -->\n      <g style=\"fill:#262626;\" transform=\"translate(126.20625 18.247219)scale(0.1 -0.1)\">\n       <use xlink:href=\"#DejaVuSans-101\"/>\n       <use x=\"61.523438\" xlink:href=\"#DejaVuSans-100\"/>\n       <use x=\"125\" xlink:href=\"#DejaVuSans-117\"/>\n       <use x=\"188.378906\" xlink:href=\"#DejaVuSans-99\"/>\n       <use x=\"243.359375\" xlink:href=\"#DejaVuSans-97\"/>\n       <use x=\"304.638672\" xlink:href=\"#DejaVuSans-116\"/>\n       <use x=\"343.847656\" xlink:href=\"#DejaVuSans-105\"/>\n       <use x=\"371.630859\" xlink:href=\"#DejaVuSans-111\"/>\n       <use x=\"432.8125\" xlink:href=\"#DejaVuSans-110\"/>\n      </g>\n     </g>\n    </g>\n   </g>\n   <g id=\"patch_3\">\n    <path clip-path=\"url(#p14402db3cc)\" d=\"M 182.826562 221.016 \nL 501.683705 221.016 \nL 501.683705 213.768 \nL 182.826562 213.768 \nz\n\" style=\"fill:#1f77b4;stroke:#ffffff;stroke-linejoin:miter;\"/>\n   </g>\n   <g id=\"patch_4\">\n    <path clip-path=\"url(#p14402db3cc)\" d=\"M 182.826562 206.52 \nL 308.980509 206.52 \nL 308.980509 199.272 \nL 182.826562 199.272 \nz\n\" style=\"fill:#1f77b4;stroke:#ffffff;stroke-linejoin:miter;\"/>\n   </g>\n   <g id=\"patch_5\">\n    <path clip-path=\"url(#p14402db3cc)\" d=\"M 182.826562 192.024 \nL 293.246336 192.024 \nL 293.246336 184.776 \nL 182.826562 184.776 \nz\n\" style=\"fill:#1f77b4;stroke:#ffffff;stroke-linejoin:miter;\"/>\n   </g>\n   <g id=\"patch_6\">\n    <path clip-path=\"url(#p14402db3cc)\" d=\"M 182.826562 177.528 \nL 219.334667 177.528 \nL 219.334667 170.28 \nL 182.826562 170.28 \nz\n\" style=\"fill:#1f77b4;stroke:#ffffff;stroke-linejoin:miter;\"/>\n   </g>\n   <g id=\"patch_7\">\n    <path clip-path=\"url(#p14402db3cc)\" d=\"M 182.826562 163.032 \nL 218.060803 163.032 \nL 218.060803 155.784 \nL 182.826562 155.784 \nz\n\" style=\"fill:#1f77b4;stroke:#ffffff;stroke-linejoin:miter;\"/>\n   </g>\n   <g id=\"patch_8\">\n    <path clip-path=\"url(#p14402db3cc)\" d=\"M 182.826562 148.536 \nL 214.291597 148.536 \nL 214.291597 141.288 \nL 182.826562 141.288 \nz\n\" style=\"fill:#1f77b4;stroke:#ffffff;stroke-linejoin:miter;\"/>\n   </g>\n   <g id=\"patch_9\">\n    <path clip-path=\"url(#p14402db3cc)\" d=\"M 182.826562 134.04 \nL 202.313247 134.04 \nL 202.313247 126.792 \nL 182.826562 126.792 \nz\n\" style=\"fill:#1f77b4;stroke:#ffffff;stroke-linejoin:miter;\"/>\n   </g>\n   <g id=\"patch_10\">\n    <path clip-path=\"url(#p14402db3cc)\" d=\"M 182.826562 119.544 \nL 197.48593 119.544 \nL 197.48593 112.296 \nL 182.826562 112.296 \nz\n\" style=\"fill:#1f77b4;stroke:#ffffff;stroke-linejoin:miter;\"/>\n   </g>\n   <g id=\"patch_11\">\n    <path clip-path=\"url(#p14402db3cc)\" d=\"M 182.826562 105.048 \nL 196.142089 105.048 \nL 196.142089 97.8 \nL 182.826562 97.8 \nz\n\" style=\"fill:#1f77b4;stroke:#ffffff;stroke-linejoin:miter;\"/>\n   </g>\n   <g id=\"patch_12\">\n    <path clip-path=\"url(#p14402db3cc)\" d=\"M 182.826562 90.552 \nL 194.307429 90.552 \nL 194.307429 83.304 \nL 182.826562 83.304 \nz\n\" style=\"fill:#1f77b4;stroke:#ffffff;stroke-linejoin:miter;\"/>\n   </g>\n   <g id=\"patch_13\">\n    <path clip-path=\"url(#p14402db3cc)\" d=\"M 182.826562 76.056 \nL 193.946074 76.056 \nL 193.946074 68.808 \nL 182.826562 68.808 \nz\n\" style=\"fill:#1f77b4;stroke:#ffffff;stroke-linejoin:miter;\"/>\n   </g>\n   <g id=\"patch_14\">\n    <path clip-path=\"url(#p14402db3cc)\" d=\"M 182.826562 61.56 \nL 193.386675 61.56 \nL 193.386675 54.312 \nL 182.826562 54.312 \nz\n\" style=\"fill:#1f77b4;stroke:#ffffff;stroke-linejoin:miter;\"/>\n   </g>\n   <g id=\"patch_15\">\n    <path clip-path=\"url(#p14402db3cc)\" d=\"M 182.826562 47.064 \nL 192.569294 47.064 \nL 192.569294 39.816 \nL 182.826562 39.816 \nz\n\" style=\"fill:#1f77b4;stroke:#ffffff;stroke-linejoin:miter;\"/>\n   </g>\n   <g id=\"patch_16\">\n    <path clip-path=\"url(#p14402db3cc)\" d=\"M 182.826562 32.568 \nL 191.54728 32.568 \nL 191.54728 25.32 \nL 182.826562 25.32 \nz\n\" style=\"fill:#1f77b4;stroke:#ffffff;stroke-linejoin:miter;\"/>\n   </g>\n   <g id=\"patch_17\">\n    <path clip-path=\"url(#p14402db3cc)\" d=\"M 182.826562 18.072 \nL 190.338796 18.072 \nL 190.338796 10.824 \nL 182.826562 10.824 \nz\n\" style=\"fill:#1f77b4;stroke:#ffffff;stroke-linejoin:miter;\"/>\n   </g>\n   <g id=\"patch_18\">\n    <path d=\"M 182.826562 224.64 \nL 182.826562 7.2 \n\" style=\"fill:none;stroke:#ffffff;stroke-linecap:square;stroke-linejoin:miter;stroke-width:0.8;\"/>\n   </g>\n   <g id=\"patch_19\">\n    <path d=\"M 517.626562 224.64 \nL 517.626562 7.2 \n\" style=\"fill:none;stroke:#ffffff;stroke-linecap:square;stroke-linejoin:miter;stroke-width:0.8;\"/>\n   </g>\n   <g id=\"patch_20\">\n    <path d=\"M 182.826562 224.64 \nL 517.626562 224.64 \n\" style=\"fill:none;stroke:#ffffff;stroke-linecap:square;stroke-linejoin:miter;stroke-width:0.8;\"/>\n   </g>\n   <g id=\"patch_21\">\n    <path d=\"M 182.826562 7.2 \nL 517.626562 7.2 \n\" style=\"fill:none;stroke:#ffffff;stroke-linecap:square;stroke-linejoin:miter;stroke-width:0.8;\"/>\n   </g>\n   <g id=\"legend_1\">\n    <g id=\"patch_22\">\n     <path d=\"M 451.310937 29.878125 \nL 510.626562 29.878125 \nQ 512.626562 29.878125 512.626562 27.878125 \nL 512.626562 14.2 \nQ 512.626562 12.2 510.626562 12.2 \nL 451.310937 12.2 \nQ 449.310937 12.2 449.310937 14.2 \nL 449.310937 27.878125 \nQ 449.310937 29.878125 451.310937 29.878125 \nz\n\" style=\"fill:#eaeaf2;opacity:0.8;stroke:#cccccc;stroke-linejoin:miter;\"/>\n    </g>\n    <g id=\"patch_23\">\n     <path d=\"M 453.310937 23.798437 \nL 473.310937 23.798437 \nL 473.310937 16.798437 \nL 453.310937 16.798437 \nz\n\" style=\"fill:#1f77b4;stroke:#ffffff;stroke-linejoin:miter;\"/>\n    </g>\n    <g id=\"text_21\">\n     <!-- value -->\n     <defs>\n      <path d=\"M 2.984375 54.6875 \nL 12.5 54.6875 \nL 29.59375 8.796875 \nL 46.6875 54.6875 \nL 56.203125 54.6875 \nL 35.6875 0 \nL 23.484375 0 \nz\n\" id=\"DejaVuSans-118\"/>\n     </defs>\n     <g style=\"fill:#262626;\" transform=\"translate(481.310937 23.798437)scale(0.1 -0.1)\">\n      <use xlink:href=\"#DejaVuSans-118\"/>\n      <use x=\"59.179688\" xlink:href=\"#DejaVuSans-97\"/>\n      <use x=\"120.458984\" xlink:href=\"#DejaVuSans-108\"/>\n      <use x=\"148.242188\" xlink:href=\"#DejaVuSans-117\"/>\n      <use x=\"211.621094\" xlink:href=\"#DejaVuSans-101\"/>\n     </g>\n    </g>\n   </g>\n  </g>\n </g>\n <defs>\n  <clipPath id=\"p14402db3cc\">\n   <rect height=\"217.44\" width=\"334.8\" x=\"182.826562\" y=\"7.2\"/>\n  </clipPath>\n </defs>\n</svg>\n",
            "image/png": "[encoded data removed]"
          },
          "metadata": {}
        }
      ],
      "source": [
        "feature_importance.sort_values(by='value', ascending=False)[:15].plot(kind='barh')"
      ]
    },
    {
      "source": [
        "### Save & Load"
      ],
      "cell_type": "markdown",
      "metadata": {}
    },
    {
      "cell_type": "code",
      "execution_count": 19,
      "metadata": {},
      "outputs": [],
      "source": [
        "model.save('model_1',)"
      ]
    },
    {
      "cell_type": "code",
      "execution_count": 20,
      "metadata": {},
      "outputs": [
        {
          "output_type": "stream",
          "name": "stdout",
          "text": [
            "Test AUC:  0.9084\n"
          ]
        }
      ],
      "source": [
        "model_new = LightGBMClassifier(random_state=RANDOM_SEED)\n",
        "model_new = model_new.load('model_1',)\n",
        "\n",
        "predicts = model_new.predict_proba(X_test)\n",
        "print('Test AUC: ', round(sklearn.metrics.roc_auc_score(y_test, predicts),4))"
      ]
    },
    {
      "source": [
        "## Cross Validation\n",
        "Cross-validation is a method for evaluating an analytical model and its behavior on independent data. \n",
        "When evaluating the model, the available data is split into k parts. \n",
        "Then the model is trained on k − 1 pieces of data, and the rest of the data is used for testing. \n",
        "The procedure is repeated k times; in the end, each of the k pieces of data is used for testing. \n",
        "The result is an assessment of the effectiveness of the selected model with the most even use of the available data."
      ],
      "cell_type": "markdown",
      "metadata": {}
    },
    {
      "source": [
        "<img src=\"./img/cv.png\" width=\"600\">"
      ],
      "cell_type": "markdown",
      "metadata": {}
    },
    {
      "cell_type": "code",
      "execution_count": 21,
      "metadata": {},
      "outputs": [],
      "source": [
        "cv = CrossValidation(\n",
        "        estimator=model,\n",
        "        target_encoders_names = ['JamesSteinEncoder',],\n",
        "        folds=10,\n",
        "        score_folds=5,\n",
        "        n_repeats=1,\n",
        "        metric=sklearn.metrics.roc_auc_score,\n",
        "        print_metric=False, \n",
        "        metric_round=4, \n",
        "        random_state=RANDOM_SEED\n",
        "        )"
      ]
    },
    {
      "cell_type": "code",
      "execution_count": 22,
      "metadata": {},
      "outputs": [
        {
          "output_type": "stream",
          "name": "stdout",
          "text": [
            "\n",
            " Mean Score roc_auc_score on 5 Folds: 0.9111 std: 0.005903\n",
            "CPU times: user 6min 37s, sys: 31.3 s, total: 7min 9s\n",
            "Wall time: 1min 49s\n"
          ]
        }
      ],
      "source": [
        "%%time\n",
        "score, score_std = cv.fit_score(X_train, y_train, print_metric=True)"
      ]
    },
    {
      "cell_type": "code",
      "execution_count": 23,
      "metadata": {},
      "outputs": [
        {
          "output_type": "stream",
          "name": "stdout",
          "text": [
            "Finished loading model, total used 300 iterations\n",
            "Finished loading model, total used 300 iterations\n",
            "Finished loading model, total used 300 iterations\n",
            "Finished loading model, total used 300 iterations\n",
            "Finished loading model, total used 300 iterations\n",
            "Finished loading model, total used 300 iterations\n",
            "Finished loading model, total used 300 iterations\n",
            "Finished loading model, total used 300 iterations\n",
            "Finished loading model, total used 300 iterations\n",
            "Finished loading model, total used 300 iterations\n"
          ]
        },
        {
          "output_type": "execute_result",
          "data": {
            "text/plain": [
              "<automl_alex.cross_validation.CrossValidation at 0x7f51a92323a0>"
            ]
          },
          "metadata": {},
          "execution_count": 23
        }
      ],
      "source": [
        "cv.fit(X_train, y_train)"
      ]
    },
    {
      "cell_type": "code",
      "execution_count": 24,
      "metadata": {},
      "outputs": [
        {
          "output_type": "stream",
          "name": "stdout",
          "text": [
            "Test AUC:  0.9116\n"
          ]
        }
      ],
      "source": [
        "predicts = cv.predict_test(X_test)\n",
        "print('Test AUC: ', round(sklearn.metrics.roc_auc_score(y_test, predicts),4))"
      ]
    },
    {
      "cell_type": "code",
      "execution_count": 25,
      "metadata": {},
      "outputs": [
        {
          "output_type": "stream",
          "name": "stdout",
          "text": [
            "Test AUC:  0.9115\n"
          ]
        }
      ],
      "source": [
        "predicts = cv.predict_train(X_train)\n",
        "print('Test AUC: ', round(sklearn.metrics.roc_auc_score(y_train, predicts),4))"
      ]
    },
    {
      "cell_type": "code",
      "execution_count": 26,
      "metadata": {},
      "outputs": [],
      "source": [
        "feature_importance = cv.get_feature_importance(X_train)"
      ]
    },
    {
      "cell_type": "code",
      "execution_count": 27,
      "metadata": {},
      "outputs": [
        {
          "output_type": "execute_result",
          "data": {
            "text/plain": [
              "<matplotlib.axes._subplots.AxesSubplot at 0x7f51a922e940>"
            ]
          },
          "metadata": {},
          "execution_count": 27
        },
        {
          "output_type": "display_data",
          "data": {
            "text/plain": "<Figure size 432x288 with 1 Axes>",
            "image/svg+xml": "<?xml version=\"1.0\" encoding=\"utf-8\" standalone=\"no\"?>\n<!DOCTYPE svg PUBLIC \"-//W3C//DTD SVG 1.1//EN\"\n  \"http://www.w3.org/Graphics/SVG/1.1/DTD/svg11.dtd\">\n<!-- Created with matplotlib (https://matplotlib.org/) -->\n<svg height=\"248.518125pt\" version=\"1.1\" viewBox=\"0 0 579.53125 248.518125\" width=\"579.53125pt\" xmlns=\"http://www.w3.org/2000/svg\" xmlns:xlink=\"http://www.w3.org/1999/xlink\">\n <defs>\n  <style type=\"text/css\">\n*{stroke-linecap:butt;stroke-linejoin:round;}\n  </style>\n </defs>\n <g id=\"figure_1\">\n  <g id=\"patch_1\">\n   <path d=\"M 0 248.518125 \nL 579.53125 248.518125 \nL 579.53125 0 \nL 0 0 \nz\n\" style=\"fill:#ffffff;\"/>\n  </g>\n  <g id=\"axes_1\">\n   <g id=\"patch_2\">\n    <path d=\"M 237.53125 224.64 \nL 572.33125 224.64 \nL 572.33125 7.2 \nL 237.53125 7.2 \nz\n\" style=\"fill:#eaeaf2;\"/>\n   </g>\n   <g id=\"matplotlib.axis_1\">\n    <g id=\"xtick_1\">\n     <g id=\"line2d_1\">\n      <path clip-path=\"url(#p8ab69360e9)\" d=\"M 237.53125 224.64 \nL 237.53125 7.2 \n\" style=\"fill:none;stroke:#ffffff;stroke-linecap:round;stroke-width:0.8;\"/>\n     </g>\n     <g id=\"text_1\">\n      <!-- 0 -->\n      <defs>\n       <path d=\"M 31.78125 66.40625 \nQ 24.171875 66.40625 20.328125 58.90625 \nQ 16.5 51.421875 16.5 36.375 \nQ 16.5 21.390625 20.328125 13.890625 \nQ 24.171875 6.390625 31.78125 6.390625 \nQ 39.453125 6.390625 43.28125 13.890625 \nQ 47.125 21.390625 47.125 36.375 \nQ 47.125 51.421875 43.28125 58.90625 \nQ 39.453125 66.40625 31.78125 66.40625 \nz\nM 31.78125 74.21875 \nQ 44.046875 74.21875 50.515625 64.515625 \nQ 56.984375 54.828125 56.984375 36.375 \nQ 56.984375 17.96875 50.515625 8.265625 \nQ 44.046875 -1.421875 31.78125 -1.421875 \nQ 19.53125 -1.421875 13.0625 8.265625 \nQ 6.59375 17.96875 6.59375 36.375 \nQ 6.59375 54.828125 13.0625 64.515625 \nQ 19.53125 74.21875 31.78125 74.21875 \nz\n\" id=\"DejaVuSans-48\"/>\n      </defs>\n      <g style=\"fill:#262626;\" transform=\"translate(234.35 239.238437)scale(0.1 -0.1)\">\n       <use xlink:href=\"#DejaVuSans-48\"/>\n      </g>\n     </g>\n    </g>\n    <g id=\"xtick_2\">\n     <g id=\"line2d_2\">\n      <path clip-path=\"url(#p8ab69360e9)\" d=\"M 307.043785 224.64 \nL 307.043785 7.2 \n\" style=\"fill:none;stroke:#ffffff;stroke-linecap:round;stroke-width:0.8;\"/>\n     </g>\n     <g id=\"text_2\">\n      <!-- 100000 -->\n      <defs>\n       <path d=\"M 12.40625 8.296875 \nL 28.515625 8.296875 \nL 28.515625 63.921875 \nL 10.984375 60.40625 \nL 10.984375 69.390625 \nL 28.421875 72.90625 \nL 38.28125 72.90625 \nL 38.28125 8.296875 \nL 54.390625 8.296875 \nL 54.390625 0 \nL 12.40625 0 \nz\n\" id=\"DejaVuSans-49\"/>\n      </defs>\n      <g style=\"fill:#262626;\" transform=\"translate(287.956285 239.238437)scale(0.1 -0.1)\">\n       <use xlink:href=\"#DejaVuSans-49\"/>\n       <use x=\"63.623047\" xlink:href=\"#DejaVuSans-48\"/>\n       <use x=\"127.246094\" xlink:href=\"#DejaVuSans-48\"/>\n       <use x=\"190.869141\" xlink:href=\"#DejaVuSans-48\"/>\n       <use x=\"254.492188\" xlink:href=\"#DejaVuSans-48\"/>\n       <use x=\"318.115234\" xlink:href=\"#DejaVuSans-48\"/>\n      </g>\n     </g>\n    </g>\n    <g id=\"xtick_3\">\n     <g id=\"line2d_3\">\n      <path clip-path=\"url(#p8ab69360e9)\" d=\"M 376.55632 224.64 \nL 376.55632 7.2 \n\" style=\"fill:none;stroke:#ffffff;stroke-linecap:round;stroke-width:0.8;\"/>\n     </g>\n     <g id=\"text_3\">\n      <!-- 200000 -->\n      <defs>\n       <path d=\"M 19.1875 8.296875 \nL 53.609375 8.296875 \nL 53.609375 0 \nL 7.328125 0 \nL 7.328125 8.296875 \nQ 12.9375 14.109375 22.625 23.890625 \nQ 32.328125 33.6875 34.8125 36.53125 \nQ 39.546875 41.84375 41.421875 45.53125 \nQ 43.3125 49.21875 43.3125 52.78125 \nQ 43.3125 58.59375 39.234375 62.25 \nQ 35.15625 65.921875 28.609375 65.921875 \nQ 23.96875 65.921875 18.8125 64.3125 \nQ 13.671875 62.703125 7.8125 59.421875 \nL 7.8125 69.390625 \nQ 13.765625 71.78125 18.9375 73 \nQ 24.125 74.21875 28.421875 74.21875 \nQ 39.75 74.21875 46.484375 68.546875 \nQ 53.21875 62.890625 53.21875 53.421875 \nQ 53.21875 48.921875 51.53125 44.890625 \nQ 49.859375 40.875 45.40625 35.40625 \nQ 44.1875 33.984375 37.640625 27.21875 \nQ 31.109375 20.453125 19.1875 8.296875 \nz\n\" id=\"DejaVuSans-50\"/>\n      </defs>\n      <g style=\"fill:#262626;\" transform=\"translate(357.46882 239.238437)scale(0.1 -0.1)\">\n       <use xlink:href=\"#DejaVuSans-50\"/>\n       <use x=\"63.623047\" xlink:href=\"#DejaVuSans-48\"/>\n       <use x=\"127.246094\" xlink:href=\"#DejaVuSans-48\"/>\n       <use x=\"190.869141\" xlink:href=\"#DejaVuSans-48\"/>\n       <use x=\"254.492188\" xlink:href=\"#DejaVuSans-48\"/>\n       <use x=\"318.115234\" xlink:href=\"#DejaVuSans-48\"/>\n      </g>\n     </g>\n    </g>\n    <g id=\"xtick_4\">\n     <g id=\"line2d_4\">\n      <path clip-path=\"url(#p8ab69360e9)\" d=\"M 446.068855 224.64 \nL 446.068855 7.2 \n\" style=\"fill:none;stroke:#ffffff;stroke-linecap:round;stroke-width:0.8;\"/>\n     </g>\n     <g id=\"text_4\">\n      <!-- 300000 -->\n      <defs>\n       <path d=\"M 40.578125 39.3125 \nQ 47.65625 37.796875 51.625 33 \nQ 55.609375 28.21875 55.609375 21.1875 \nQ 55.609375 10.40625 48.1875 4.484375 \nQ 40.765625 -1.421875 27.09375 -1.421875 \nQ 22.515625 -1.421875 17.65625 -0.515625 \nQ 12.796875 0.390625 7.625 2.203125 \nL 7.625 11.71875 \nQ 11.71875 9.328125 16.59375 8.109375 \nQ 21.484375 6.890625 26.8125 6.890625 \nQ 36.078125 6.890625 40.9375 10.546875 \nQ 45.796875 14.203125 45.796875 21.1875 \nQ 45.796875 27.640625 41.28125 31.265625 \nQ 36.765625 34.90625 28.71875 34.90625 \nL 20.21875 34.90625 \nL 20.21875 43.015625 \nL 29.109375 43.015625 \nQ 36.375 43.015625 40.234375 45.921875 \nQ 44.09375 48.828125 44.09375 54.296875 \nQ 44.09375 59.90625 40.109375 62.90625 \nQ 36.140625 65.921875 28.71875 65.921875 \nQ 24.65625 65.921875 20.015625 65.03125 \nQ 15.375 64.15625 9.8125 62.3125 \nL 9.8125 71.09375 \nQ 15.4375 72.65625 20.34375 73.4375 \nQ 25.25 74.21875 29.59375 74.21875 \nQ 40.828125 74.21875 47.359375 69.109375 \nQ 53.90625 64.015625 53.90625 55.328125 \nQ 53.90625 49.265625 50.4375 45.09375 \nQ 46.96875 40.921875 40.578125 39.3125 \nz\n\" id=\"DejaVuSans-51\"/>\n      </defs>\n      <g style=\"fill:#262626;\" transform=\"translate(426.981355 239.238437)scale(0.1 -0.1)\">\n       <use xlink:href=\"#DejaVuSans-51\"/>\n       <use x=\"63.623047\" xlink:href=\"#DejaVuSans-48\"/>\n       <use x=\"127.246094\" xlink:href=\"#DejaVuSans-48\"/>\n       <use x=\"190.869141\" xlink:href=\"#DejaVuSans-48\"/>\n       <use x=\"254.492188\" xlink:href=\"#DejaVuSans-48\"/>\n       <use x=\"318.115234\" xlink:href=\"#DejaVuSans-48\"/>\n      </g>\n     </g>\n    </g>\n    <g id=\"xtick_5\">\n     <g id=\"line2d_5\">\n      <path clip-path=\"url(#p8ab69360e9)\" d=\"M 515.581391 224.64 \nL 515.581391 7.2 \n\" style=\"fill:none;stroke:#ffffff;stroke-linecap:round;stroke-width:0.8;\"/>\n     </g>\n     <g id=\"text_5\">\n      <!-- 400000 -->\n      <defs>\n       <path d=\"M 37.796875 64.3125 \nL 12.890625 25.390625 \nL 37.796875 25.390625 \nz\nM 35.203125 72.90625 \nL 47.609375 72.90625 \nL 47.609375 25.390625 \nL 58.015625 25.390625 \nL 58.015625 17.1875 \nL 47.609375 17.1875 \nL 47.609375 0 \nL 37.796875 0 \nL 37.796875 17.1875 \nL 4.890625 17.1875 \nL 4.890625 26.703125 \nz\n\" id=\"DejaVuSans-52\"/>\n      </defs>\n      <g style=\"fill:#262626;\" transform=\"translate(496.493891 239.238437)scale(0.1 -0.1)\">\n       <use xlink:href=\"#DejaVuSans-52\"/>\n       <use x=\"63.623047\" xlink:href=\"#DejaVuSans-48\"/>\n       <use x=\"127.246094\" xlink:href=\"#DejaVuSans-48\"/>\n       <use x=\"190.869141\" xlink:href=\"#DejaVuSans-48\"/>\n       <use x=\"254.492188\" xlink:href=\"#DejaVuSans-48\"/>\n       <use x=\"318.115234\" xlink:href=\"#DejaVuSans-48\"/>\n      </g>\n     </g>\n    </g>\n   </g>\n   <g id=\"matplotlib.axis_2\">\n    <g id=\"ytick_1\">\n     <g id=\"line2d_6\">\n      <path clip-path=\"url(#p8ab69360e9)\" d=\"M 237.53125 217.392 \nL 572.33125 217.392 \n\" style=\"fill:none;stroke:#ffffff;stroke-linecap:round;stroke-width:0.8;\"/>\n     </g>\n     <g id=\"text_6\">\n      <!-- marital-status -->\n      <defs>\n       <path d=\"M 52 44.1875 \nQ 55.375 50.25 60.0625 53.125 \nQ 64.75 56 71.09375 56 \nQ 79.640625 56 84.28125 50.015625 \nQ 88.921875 44.046875 88.921875 33.015625 \nL 88.921875 0 \nL 79.890625 0 \nL 79.890625 32.71875 \nQ 79.890625 40.578125 77.09375 44.375 \nQ 74.3125 48.1875 68.609375 48.1875 \nQ 61.625 48.1875 57.5625 43.546875 \nQ 53.515625 38.921875 53.515625 30.90625 \nL 53.515625 0 \nL 44.484375 0 \nL 44.484375 32.71875 \nQ 44.484375 40.625 41.703125 44.40625 \nQ 38.921875 48.1875 33.109375 48.1875 \nQ 26.21875 48.1875 22.15625 43.53125 \nQ 18.109375 38.875 18.109375 30.90625 \nL 18.109375 0 \nL 9.078125 0 \nL 9.078125 54.6875 \nL 18.109375 54.6875 \nL 18.109375 46.1875 \nQ 21.1875 51.21875 25.484375 53.609375 \nQ 29.78125 56 35.6875 56 \nQ 41.65625 56 45.828125 52.96875 \nQ 50 49.953125 52 44.1875 \nz\n\" id=\"DejaVuSans-109\"/>\n       <path d=\"M 34.28125 27.484375 \nQ 23.390625 27.484375 19.1875 25 \nQ 14.984375 22.515625 14.984375 16.5 \nQ 14.984375 11.71875 18.140625 8.90625 \nQ 21.296875 6.109375 26.703125 6.109375 \nQ 34.1875 6.109375 38.703125 11.40625 \nQ 43.21875 16.703125 43.21875 25.484375 \nL 43.21875 27.484375 \nz\nM 52.203125 31.203125 \nL 52.203125 0 \nL 43.21875 0 \nL 43.21875 8.296875 \nQ 40.140625 3.328125 35.546875 0.953125 \nQ 30.953125 -1.421875 24.3125 -1.421875 \nQ 15.921875 -1.421875 10.953125 3.296875 \nQ 6 8.015625 6 15.921875 \nQ 6 25.140625 12.171875 29.828125 \nQ 18.359375 34.515625 30.609375 34.515625 \nL 43.21875 34.515625 \nL 43.21875 35.40625 \nQ 43.21875 41.609375 39.140625 45 \nQ 35.0625 48.390625 27.6875 48.390625 \nQ 23 48.390625 18.546875 47.265625 \nQ 14.109375 46.140625 10.015625 43.890625 \nL 10.015625 52.203125 \nQ 14.9375 54.109375 19.578125 55.046875 \nQ 24.21875 56 28.609375 56 \nQ 40.484375 56 46.34375 49.84375 \nQ 52.203125 43.703125 52.203125 31.203125 \nz\n\" id=\"DejaVuSans-97\"/>\n       <path d=\"M 41.109375 46.296875 \nQ 39.59375 47.171875 37.8125 47.578125 \nQ 36.03125 48 33.890625 48 \nQ 26.265625 48 22.1875 43.046875 \nQ 18.109375 38.09375 18.109375 28.8125 \nL 18.109375 0 \nL 9.078125 0 \nL 9.078125 54.6875 \nL 18.109375 54.6875 \nL 18.109375 46.1875 \nQ 20.953125 51.171875 25.484375 53.578125 \nQ 30.03125 56 36.53125 56 \nQ 37.453125 56 38.578125 55.875 \nQ 39.703125 55.765625 41.0625 55.515625 \nz\n\" id=\"DejaVuSans-114\"/>\n       <path d=\"M 9.421875 54.6875 \nL 18.40625 54.6875 \nL 18.40625 0 \nL 9.421875 0 \nz\nM 9.421875 75.984375 \nL 18.40625 75.984375 \nL 18.40625 64.59375 \nL 9.421875 64.59375 \nz\n\" id=\"DejaVuSans-105\"/>\n       <path d=\"M 18.3125 70.21875 \nL 18.3125 54.6875 \nL 36.8125 54.6875 \nL 36.8125 47.703125 \nL 18.3125 47.703125 \nL 18.3125 18.015625 \nQ 18.3125 11.328125 20.140625 9.421875 \nQ 21.96875 7.515625 27.59375 7.515625 \nL 36.8125 7.515625 \nL 36.8125 0 \nL 27.59375 0 \nQ 17.1875 0 13.234375 3.875 \nQ 9.28125 7.765625 9.28125 18.015625 \nL 9.28125 47.703125 \nL 2.6875 47.703125 \nL 2.6875 54.6875 \nL 9.28125 54.6875 \nL 9.28125 70.21875 \nz\n\" id=\"DejaVuSans-116\"/>\n       <path d=\"M 9.421875 75.984375 \nL 18.40625 75.984375 \nL 18.40625 0 \nL 9.421875 0 \nz\n\" id=\"DejaVuSans-108\"/>\n       <path d=\"M 4.890625 31.390625 \nL 31.203125 31.390625 \nL 31.203125 23.390625 \nL 4.890625 23.390625 \nz\n\" id=\"DejaVuSans-45\"/>\n       <path d=\"M 44.28125 53.078125 \nL 44.28125 44.578125 \nQ 40.484375 46.53125 36.375 47.5 \nQ 32.28125 48.484375 27.875 48.484375 \nQ 21.1875 48.484375 17.84375 46.4375 \nQ 14.5 44.390625 14.5 40.28125 \nQ 14.5 37.15625 16.890625 35.375 \nQ 19.28125 33.59375 26.515625 31.984375 \nL 29.59375 31.296875 \nQ 39.15625 29.25 43.1875 25.515625 \nQ 47.21875 21.78125 47.21875 15.09375 \nQ 47.21875 7.46875 41.1875 3.015625 \nQ 35.15625 -1.421875 24.609375 -1.421875 \nQ 20.21875 -1.421875 15.453125 -0.5625 \nQ 10.6875 0.296875 5.421875 2 \nL 5.421875 11.28125 \nQ 10.40625 8.6875 15.234375 7.390625 \nQ 20.0625 6.109375 24.8125 6.109375 \nQ 31.15625 6.109375 34.5625 8.28125 \nQ 37.984375 10.453125 37.984375 14.40625 \nQ 37.984375 18.0625 35.515625 20.015625 \nQ 33.0625 21.96875 24.703125 23.78125 \nL 21.578125 24.515625 \nQ 13.234375 26.265625 9.515625 29.90625 \nQ 5.8125 33.546875 5.8125 39.890625 \nQ 5.8125 47.609375 11.28125 51.796875 \nQ 16.75 56 26.8125 56 \nQ 31.78125 56 36.171875 55.265625 \nQ 40.578125 54.546875 44.28125 53.078125 \nz\n\" id=\"DejaVuSans-115\"/>\n       <path d=\"M 8.5 21.578125 \nL 8.5 54.6875 \nL 17.484375 54.6875 \nL 17.484375 21.921875 \nQ 17.484375 14.15625 20.5 10.265625 \nQ 23.53125 6.390625 29.59375 6.390625 \nQ 36.859375 6.390625 41.078125 11.03125 \nQ 45.3125 15.671875 45.3125 23.6875 \nL 45.3125 54.6875 \nL 54.296875 54.6875 \nL 54.296875 0 \nL 45.3125 0 \nL 45.3125 8.40625 \nQ 42.046875 3.421875 37.71875 1 \nQ 33.40625 -1.421875 27.6875 -1.421875 \nQ 18.265625 -1.421875 13.375 4.4375 \nQ 8.5 10.296875 8.5 21.578125 \nz\nM 31.109375 56 \nz\n\" id=\"DejaVuSans-117\"/>\n      </defs>\n      <g style=\"fill:#262626;\" transform=\"translate(160.614062 221.191219)scale(0.1 -0.1)\">\n       <use xlink:href=\"#DejaVuSans-109\"/>\n       <use x=\"97.412109\" xlink:href=\"#DejaVuSans-97\"/>\n       <use x=\"158.691406\" xlink:href=\"#DejaVuSans-114\"/>\n       <use x=\"199.804688\" xlink:href=\"#DejaVuSans-105\"/>\n       <use x=\"227.587891\" xlink:href=\"#DejaVuSans-116\"/>\n       <use x=\"266.796875\" xlink:href=\"#DejaVuSans-97\"/>\n       <use x=\"328.076172\" xlink:href=\"#DejaVuSans-108\"/>\n       <use x=\"355.859375\" xlink:href=\"#DejaVuSans-45\"/>\n       <use x=\"391.943359\" xlink:href=\"#DejaVuSans-115\"/>\n       <use x=\"444.042969\" xlink:href=\"#DejaVuSans-116\"/>\n       <use x=\"483.251953\" xlink:href=\"#DejaVuSans-97\"/>\n       <use x=\"544.53125\" xlink:href=\"#DejaVuSans-116\"/>\n       <use x=\"583.740234\" xlink:href=\"#DejaVuSans-117\"/>\n       <use x=\"647.119141\" xlink:href=\"#DejaVuSans-115\"/>\n      </g>\n     </g>\n    </g>\n    <g id=\"ytick_2\">\n     <g id=\"line2d_7\">\n      <path clip-path=\"url(#p8ab69360e9)\" d=\"M 237.53125 202.896 \nL 572.33125 202.896 \n\" style=\"fill:none;stroke:#ffffff;stroke-linecap:round;stroke-width:0.8;\"/>\n     </g>\n     <g id=\"text_7\">\n      <!-- education-num -->\n      <defs>\n       <path d=\"M 56.203125 29.59375 \nL 56.203125 25.203125 \nL 14.890625 25.203125 \nQ 15.484375 15.921875 20.484375 11.0625 \nQ 25.484375 6.203125 34.421875 6.203125 \nQ 39.59375 6.203125 44.453125 7.46875 \nQ 49.3125 8.734375 54.109375 11.28125 \nL 54.109375 2.78125 \nQ 49.265625 0.734375 44.1875 -0.34375 \nQ 39.109375 -1.421875 33.890625 -1.421875 \nQ 20.796875 -1.421875 13.15625 6.1875 \nQ 5.515625 13.8125 5.515625 26.8125 \nQ 5.515625 40.234375 12.765625 48.109375 \nQ 20.015625 56 32.328125 56 \nQ 43.359375 56 49.78125 48.890625 \nQ 56.203125 41.796875 56.203125 29.59375 \nz\nM 47.21875 32.234375 \nQ 47.125 39.59375 43.09375 43.984375 \nQ 39.0625 48.390625 32.421875 48.390625 \nQ 24.90625 48.390625 20.390625 44.140625 \nQ 15.875 39.890625 15.1875 32.171875 \nz\n\" id=\"DejaVuSans-101\"/>\n       <path d=\"M 45.40625 46.390625 \nL 45.40625 75.984375 \nL 54.390625 75.984375 \nL 54.390625 0 \nL 45.40625 0 \nL 45.40625 8.203125 \nQ 42.578125 3.328125 38.25 0.953125 \nQ 33.9375 -1.421875 27.875 -1.421875 \nQ 17.96875 -1.421875 11.734375 6.484375 \nQ 5.515625 14.40625 5.515625 27.296875 \nQ 5.515625 40.1875 11.734375 48.09375 \nQ 17.96875 56 27.875 56 \nQ 33.9375 56 38.25 53.625 \nQ 42.578125 51.265625 45.40625 46.390625 \nz\nM 14.796875 27.296875 \nQ 14.796875 17.390625 18.875 11.75 \nQ 22.953125 6.109375 30.078125 6.109375 \nQ 37.203125 6.109375 41.296875 11.75 \nQ 45.40625 17.390625 45.40625 27.296875 \nQ 45.40625 37.203125 41.296875 42.84375 \nQ 37.203125 48.484375 30.078125 48.484375 \nQ 22.953125 48.484375 18.875 42.84375 \nQ 14.796875 37.203125 14.796875 27.296875 \nz\n\" id=\"DejaVuSans-100\"/>\n       <path d=\"M 48.78125 52.59375 \nL 48.78125 44.1875 \nQ 44.96875 46.296875 41.140625 47.34375 \nQ 37.3125 48.390625 33.40625 48.390625 \nQ 24.65625 48.390625 19.8125 42.84375 \nQ 14.984375 37.3125 14.984375 27.296875 \nQ 14.984375 17.28125 19.8125 11.734375 \nQ 24.65625 6.203125 33.40625 6.203125 \nQ 37.3125 6.203125 41.140625 7.25 \nQ 44.96875 8.296875 48.78125 10.40625 \nL 48.78125 2.09375 \nQ 45.015625 0.34375 40.984375 -0.53125 \nQ 36.96875 -1.421875 32.421875 -1.421875 \nQ 20.0625 -1.421875 12.78125 6.34375 \nQ 5.515625 14.109375 5.515625 27.296875 \nQ 5.515625 40.671875 12.859375 48.328125 \nQ 20.21875 56 33.015625 56 \nQ 37.15625 56 41.109375 55.140625 \nQ 45.0625 54.296875 48.78125 52.59375 \nz\n\" id=\"DejaVuSans-99\"/>\n       <path d=\"M 30.609375 48.390625 \nQ 23.390625 48.390625 19.1875 42.75 \nQ 14.984375 37.109375 14.984375 27.296875 \nQ 14.984375 17.484375 19.15625 11.84375 \nQ 23.34375 6.203125 30.609375 6.203125 \nQ 37.796875 6.203125 41.984375 11.859375 \nQ 46.1875 17.53125 46.1875 27.296875 \nQ 46.1875 37.015625 41.984375 42.703125 \nQ 37.796875 48.390625 30.609375 48.390625 \nz\nM 30.609375 56 \nQ 42.328125 56 49.015625 48.375 \nQ 55.71875 40.765625 55.71875 27.296875 \nQ 55.71875 13.875 49.015625 6.21875 \nQ 42.328125 -1.421875 30.609375 -1.421875 \nQ 18.84375 -1.421875 12.171875 6.21875 \nQ 5.515625 13.875 5.515625 27.296875 \nQ 5.515625 40.765625 12.171875 48.375 \nQ 18.84375 56 30.609375 56 \nz\n\" id=\"DejaVuSans-111\"/>\n       <path d=\"M 54.890625 33.015625 \nL 54.890625 0 \nL 45.90625 0 \nL 45.90625 32.71875 \nQ 45.90625 40.484375 42.875 44.328125 \nQ 39.84375 48.1875 33.796875 48.1875 \nQ 26.515625 48.1875 22.3125 43.546875 \nQ 18.109375 38.921875 18.109375 30.90625 \nL 18.109375 0 \nL 9.078125 0 \nL 9.078125 54.6875 \nL 18.109375 54.6875 \nL 18.109375 46.1875 \nQ 21.34375 51.125 25.703125 53.5625 \nQ 30.078125 56 35.796875 56 \nQ 45.21875 56 50.046875 50.171875 \nQ 54.890625 44.34375 54.890625 33.015625 \nz\n\" id=\"DejaVuSans-110\"/>\n      </defs>\n      <g style=\"fill:#262626;\" transform=\"translate(154.8875 206.695219)scale(0.1 -0.1)\">\n       <use xlink:href=\"#DejaVuSans-101\"/>\n       <use x=\"61.523438\" xlink:href=\"#DejaVuSans-100\"/>\n       <use x=\"125\" xlink:href=\"#DejaVuSans-117\"/>\n       <use x=\"188.378906\" xlink:href=\"#DejaVuSans-99\"/>\n       <use x=\"243.359375\" xlink:href=\"#DejaVuSans-97\"/>\n       <use x=\"304.638672\" xlink:href=\"#DejaVuSans-116\"/>\n       <use x=\"343.847656\" xlink:href=\"#DejaVuSans-105\"/>\n       <use x=\"371.630859\" xlink:href=\"#DejaVuSans-111\"/>\n       <use x=\"432.8125\" xlink:href=\"#DejaVuSans-110\"/>\n       <use x=\"496.191406\" xlink:href=\"#DejaVuSans-45\"/>\n       <use x=\"532.275391\" xlink:href=\"#DejaVuSans-110\"/>\n       <use x=\"595.654297\" xlink:href=\"#DejaVuSans-117\"/>\n       <use x=\"659.033203\" xlink:href=\"#DejaVuSans-109\"/>\n      </g>\n     </g>\n    </g>\n    <g id=\"ytick_3\">\n     <g id=\"line2d_8\">\n      <path clip-path=\"url(#p8ab69360e9)\" d=\"M 237.53125 188.4 \nL 572.33125 188.4 \n\" style=\"fill:none;stroke:#ffffff;stroke-linecap:round;stroke-width:0.8;\"/>\n     </g>\n     <g id=\"text_8\">\n      <!-- capitalgain -->\n      <defs>\n       <path d=\"M 18.109375 8.203125 \nL 18.109375 -20.796875 \nL 9.078125 -20.796875 \nL 9.078125 54.6875 \nL 18.109375 54.6875 \nL 18.109375 46.390625 \nQ 20.953125 51.265625 25.265625 53.625 \nQ 29.59375 56 35.59375 56 \nQ 45.5625 56 51.78125 48.09375 \nQ 58.015625 40.1875 58.015625 27.296875 \nQ 58.015625 14.40625 51.78125 6.484375 \nQ 45.5625 -1.421875 35.59375 -1.421875 \nQ 29.59375 -1.421875 25.265625 0.953125 \nQ 20.953125 3.328125 18.109375 8.203125 \nz\nM 48.6875 27.296875 \nQ 48.6875 37.203125 44.609375 42.84375 \nQ 40.53125 48.484375 33.40625 48.484375 \nQ 26.265625 48.484375 22.1875 42.84375 \nQ 18.109375 37.203125 18.109375 27.296875 \nQ 18.109375 17.390625 22.1875 11.75 \nQ 26.265625 6.109375 33.40625 6.109375 \nQ 40.53125 6.109375 44.609375 11.75 \nQ 48.6875 17.390625 48.6875 27.296875 \nz\n\" id=\"DejaVuSans-112\"/>\n       <path d=\"M 45.40625 27.984375 \nQ 45.40625 37.75 41.375 43.109375 \nQ 37.359375 48.484375 30.078125 48.484375 \nQ 22.859375 48.484375 18.828125 43.109375 \nQ 14.796875 37.75 14.796875 27.984375 \nQ 14.796875 18.265625 18.828125 12.890625 \nQ 22.859375 7.515625 30.078125 7.515625 \nQ 37.359375 7.515625 41.375 12.890625 \nQ 45.40625 18.265625 45.40625 27.984375 \nz\nM 54.390625 6.78125 \nQ 54.390625 -7.171875 48.1875 -13.984375 \nQ 42 -20.796875 29.203125 -20.796875 \nQ 24.46875 -20.796875 20.265625 -20.09375 \nQ 16.0625 -19.390625 12.109375 -17.921875 \nL 12.109375 -9.1875 \nQ 16.0625 -11.328125 19.921875 -12.34375 \nQ 23.78125 -13.375 27.78125 -13.375 \nQ 36.625 -13.375 41.015625 -8.765625 \nQ 45.40625 -4.15625 45.40625 5.171875 \nL 45.40625 9.625 \nQ 42.625 4.78125 38.28125 2.390625 \nQ 33.9375 0 27.875 0 \nQ 17.828125 0 11.671875 7.65625 \nQ 5.515625 15.328125 5.515625 27.984375 \nQ 5.515625 40.671875 11.671875 48.328125 \nQ 17.828125 56 27.875 56 \nQ 33.9375 56 38.28125 53.609375 \nQ 42.625 51.21875 45.40625 46.390625 \nL 45.40625 54.6875 \nL 54.390625 54.6875 \nz\n\" id=\"DejaVuSans-103\"/>\n      </defs>\n      <g style=\"fill:#262626;\" transform=\"translate(175.359375 192.199219)scale(0.1 -0.1)\">\n       <use xlink:href=\"#DejaVuSans-99\"/>\n       <use x=\"54.980469\" xlink:href=\"#DejaVuSans-97\"/>\n       <use x=\"116.259766\" xlink:href=\"#DejaVuSans-112\"/>\n       <use x=\"179.736328\" xlink:href=\"#DejaVuSans-105\"/>\n       <use x=\"207.519531\" xlink:href=\"#DejaVuSans-116\"/>\n       <use x=\"246.728516\" xlink:href=\"#DejaVuSans-97\"/>\n       <use x=\"308.007812\" xlink:href=\"#DejaVuSans-108\"/>\n       <use x=\"335.791016\" xlink:href=\"#DejaVuSans-103\"/>\n       <use x=\"399.267578\" xlink:href=\"#DejaVuSans-97\"/>\n       <use x=\"460.546875\" xlink:href=\"#DejaVuSans-105\"/>\n       <use x=\"488.330078\" xlink:href=\"#DejaVuSans-110\"/>\n      </g>\n     </g>\n    </g>\n    <g id=\"ytick_4\">\n     <g id=\"line2d_9\">\n      <path clip-path=\"url(#p8ab69360e9)\" d=\"M 237.53125 173.904 \nL 572.33125 173.904 \n\" style=\"fill:none;stroke:#ffffff;stroke-linecap:round;stroke-width:0.8;\"/>\n     </g>\n     <g id=\"text_9\">\n      <!-- CountEncoder_occupation -->\n      <defs>\n       <path d=\"M 64.40625 67.28125 \nL 64.40625 56.890625 \nQ 59.421875 61.53125 53.78125 63.8125 \nQ 48.140625 66.109375 41.796875 66.109375 \nQ 29.296875 66.109375 22.65625 58.46875 \nQ 16.015625 50.828125 16.015625 36.375 \nQ 16.015625 21.96875 22.65625 14.328125 \nQ 29.296875 6.6875 41.796875 6.6875 \nQ 48.140625 6.6875 53.78125 8.984375 \nQ 59.421875 11.28125 64.40625 15.921875 \nL 64.40625 5.609375 \nQ 59.234375 2.09375 53.4375 0.328125 \nQ 47.65625 -1.421875 41.21875 -1.421875 \nQ 24.65625 -1.421875 15.125 8.703125 \nQ 5.609375 18.84375 5.609375 36.375 \nQ 5.609375 53.953125 15.125 64.078125 \nQ 24.65625 74.21875 41.21875 74.21875 \nQ 47.75 74.21875 53.53125 72.484375 \nQ 59.328125 70.75 64.40625 67.28125 \nz\n\" id=\"DejaVuSans-67\"/>\n       <path d=\"M 9.8125 72.90625 \nL 55.90625 72.90625 \nL 55.90625 64.59375 \nL 19.671875 64.59375 \nL 19.671875 43.015625 \nL 54.390625 43.015625 \nL 54.390625 34.71875 \nL 19.671875 34.71875 \nL 19.671875 8.296875 \nL 56.78125 8.296875 \nL 56.78125 0 \nL 9.8125 0 \nz\n\" id=\"DejaVuSans-69\"/>\n       <path d=\"M 50.984375 -16.609375 \nL 50.984375 -23.578125 \nL -0.984375 -23.578125 \nL -0.984375 -16.609375 \nz\n\" id=\"DejaVuSans-95\"/>\n      </defs>\n      <g style=\"fill:#262626;\" transform=\"translate(99.864062 177.703219)scale(0.1 -0.1)\">\n       <use xlink:href=\"#DejaVuSans-67\"/>\n       <use x=\"69.824219\" xlink:href=\"#DejaVuSans-111\"/>\n       <use x=\"131.005859\" xlink:href=\"#DejaVuSans-117\"/>\n       <use x=\"194.384766\" xlink:href=\"#DejaVuSans-110\"/>\n       <use x=\"257.763672\" xlink:href=\"#DejaVuSans-116\"/>\n       <use x=\"296.972656\" xlink:href=\"#DejaVuSans-69\"/>\n       <use x=\"360.15625\" xlink:href=\"#DejaVuSans-110\"/>\n       <use x=\"423.535156\" xlink:href=\"#DejaVuSans-99\"/>\n       <use x=\"478.515625\" xlink:href=\"#DejaVuSans-111\"/>\n       <use x=\"539.697266\" xlink:href=\"#DejaVuSans-100\"/>\n       <use x=\"603.173828\" xlink:href=\"#DejaVuSans-101\"/>\n       <use x=\"664.697266\" xlink:href=\"#DejaVuSans-114\"/>\n       <use x=\"705.810547\" xlink:href=\"#DejaVuSans-95\"/>\n       <use x=\"755.810547\" xlink:href=\"#DejaVuSans-111\"/>\n       <use x=\"816.992188\" xlink:href=\"#DejaVuSans-99\"/>\n       <use x=\"871.972656\" xlink:href=\"#DejaVuSans-99\"/>\n       <use x=\"926.953125\" xlink:href=\"#DejaVuSans-117\"/>\n       <use x=\"990.332031\" xlink:href=\"#DejaVuSans-112\"/>\n       <use x=\"1053.808594\" xlink:href=\"#DejaVuSans-97\"/>\n       <use x=\"1115.087891\" xlink:href=\"#DejaVuSans-116\"/>\n       <use x=\"1154.296875\" xlink:href=\"#DejaVuSans-105\"/>\n       <use x=\"1182.080078\" xlink:href=\"#DejaVuSans-111\"/>\n       <use x=\"1243.261719\" xlink:href=\"#DejaVuSans-110\"/>\n      </g>\n     </g>\n    </g>\n    <g id=\"ytick_5\">\n     <g id=\"line2d_10\">\n      <path clip-path=\"url(#p8ab69360e9)\" d=\"M 237.53125 159.408 \nL 572.33125 159.408 \n\" style=\"fill:none;stroke:#ffffff;stroke-linecap:round;stroke-width:0.8;\"/>\n     </g>\n     <g id=\"text_10\">\n      <!-- age -->\n      <g style=\"fill:#262626;\" transform=\"translate(211.901563 163.207219)scale(0.1 -0.1)\">\n       <use xlink:href=\"#DejaVuSans-97\"/>\n       <use x=\"61.279297\" xlink:href=\"#DejaVuSans-103\"/>\n       <use x=\"124.755859\" xlink:href=\"#DejaVuSans-101\"/>\n      </g>\n     </g>\n    </g>\n    <g id=\"ytick_6\">\n     <g id=\"line2d_11\">\n      <path clip-path=\"url(#p8ab69360e9)\" d=\"M 237.53125 144.912 \nL 572.33125 144.912 \n\" style=\"fill:none;stroke:#ffffff;stroke-linecap:round;stroke-width:0.8;\"/>\n     </g>\n     <g id=\"text_11\">\n      <!-- fnlwgt_*_education-num -->\n      <defs>\n       <path d=\"M 37.109375 75.984375 \nL 37.109375 68.5 \nL 28.515625 68.5 \nQ 23.6875 68.5 21.796875 66.546875 \nQ 19.921875 64.59375 19.921875 59.515625 \nL 19.921875 54.6875 \nL 34.71875 54.6875 \nL 34.71875 47.703125 \nL 19.921875 47.703125 \nL 19.921875 0 \nL 10.890625 0 \nL 10.890625 47.703125 \nL 2.296875 47.703125 \nL 2.296875 54.6875 \nL 10.890625 54.6875 \nL 10.890625 58.5 \nQ 10.890625 67.625 15.140625 71.796875 \nQ 19.390625 75.984375 28.609375 75.984375 \nz\n\" id=\"DejaVuSans-102\"/>\n       <path d=\"M 4.203125 54.6875 \nL 13.1875 54.6875 \nL 24.421875 12.015625 \nL 35.59375 54.6875 \nL 46.1875 54.6875 \nL 57.421875 12.015625 \nL 68.609375 54.6875 \nL 77.59375 54.6875 \nL 63.28125 0 \nL 52.6875 0 \nL 40.921875 44.828125 \nL 29.109375 0 \nL 18.5 0 \nz\n\" id=\"DejaVuSans-119\"/>\n       <path d=\"M 47.015625 60.890625 \nL 29.5 51.421875 \nL 47.015625 41.890625 \nL 44.1875 37.109375 \nL 27.78125 47.015625 \nL 27.78125 28.609375 \nL 22.21875 28.609375 \nL 22.21875 47.015625 \nL 5.8125 37.109375 \nL 2.984375 41.890625 \nL 20.515625 51.421875 \nL 2.984375 60.890625 \nL 5.8125 65.71875 \nL 22.21875 55.8125 \nL 22.21875 74.21875 \nL 27.78125 74.21875 \nL 27.78125 55.8125 \nL 44.1875 65.71875 \nz\n\" id=\"DejaVuSans-42\"/>\n      </defs>\n      <g style=\"fill:#262626;\" transform=\"translate(108.804688 148.711219)scale(0.1 -0.1)\">\n       <use xlink:href=\"#DejaVuSans-102\"/>\n       <use x=\"35.205078\" xlink:href=\"#DejaVuSans-110\"/>\n       <use x=\"98.583984\" xlink:href=\"#DejaVuSans-108\"/>\n       <use x=\"126.367188\" xlink:href=\"#DejaVuSans-119\"/>\n       <use x=\"208.154297\" xlink:href=\"#DejaVuSans-103\"/>\n       <use x=\"271.630859\" xlink:href=\"#DejaVuSans-116\"/>\n       <use x=\"310.839844\" xlink:href=\"#DejaVuSans-95\"/>\n       <use x=\"360.839844\" xlink:href=\"#DejaVuSans-42\"/>\n       <use x=\"410.839844\" xlink:href=\"#DejaVuSans-95\"/>\n       <use x=\"460.839844\" xlink:href=\"#DejaVuSans-101\"/>\n       <use x=\"522.363281\" xlink:href=\"#DejaVuSans-100\"/>\n       <use x=\"585.839844\" xlink:href=\"#DejaVuSans-117\"/>\n       <use x=\"649.21875\" xlink:href=\"#DejaVuSans-99\"/>\n       <use x=\"704.199219\" xlink:href=\"#DejaVuSans-97\"/>\n       <use x=\"765.478516\" xlink:href=\"#DejaVuSans-116\"/>\n       <use x=\"804.6875\" xlink:href=\"#DejaVuSans-105\"/>\n       <use x=\"832.470703\" xlink:href=\"#DejaVuSans-111\"/>\n       <use x=\"893.652344\" xlink:href=\"#DejaVuSans-110\"/>\n       <use x=\"957.03125\" xlink:href=\"#DejaVuSans-45\"/>\n       <use x=\"993.115234\" xlink:href=\"#DejaVuSans-110\"/>\n       <use x=\"1056.494141\" xlink:href=\"#DejaVuSans-117\"/>\n       <use x=\"1119.873047\" xlink:href=\"#DejaVuSans-109\"/>\n      </g>\n     </g>\n    </g>\n    <g id=\"ytick_7\">\n     <g id=\"line2d_12\">\n      <path clip-path=\"url(#p8ab69360e9)\" d=\"M 237.53125 130.416 \nL 572.33125 130.416 \n\" style=\"fill:none;stroke:#ffffff;stroke-linecap:round;stroke-width:0.8;\"/>\n     </g>\n     <g id=\"text_12\">\n      <!-- JamesSteinEncoder_fnlwgt_*_education-num -->\n      <defs>\n       <path d=\"M 9.8125 72.90625 \nL 19.671875 72.90625 \nL 19.671875 5.078125 \nQ 19.671875 -8.109375 14.671875 -14.0625 \nQ 9.671875 -20.015625 -1.421875 -20.015625 \nL -5.171875 -20.015625 \nL -5.171875 -11.71875 \nL -2.09375 -11.71875 \nQ 4.4375 -11.71875 7.125 -8.046875 \nQ 9.8125 -4.390625 9.8125 5.078125 \nz\n\" id=\"DejaVuSans-74\"/>\n       <path d=\"M 53.515625 70.515625 \nL 53.515625 60.890625 \nQ 47.90625 63.578125 42.921875 64.890625 \nQ 37.9375 66.21875 33.296875 66.21875 \nQ 25.25 66.21875 20.875 63.09375 \nQ 16.5 59.96875 16.5 54.203125 \nQ 16.5 49.359375 19.40625 46.890625 \nQ 22.3125 44.4375 30.421875 42.921875 \nL 36.375 41.703125 \nQ 47.40625 39.59375 52.65625 34.296875 \nQ 57.90625 29 57.90625 20.125 \nQ 57.90625 9.515625 50.796875 4.046875 \nQ 43.703125 -1.421875 29.984375 -1.421875 \nQ 24.8125 -1.421875 18.96875 -0.25 \nQ 13.140625 0.921875 6.890625 3.21875 \nL 6.890625 13.375 \nQ 12.890625 10.015625 18.65625 8.296875 \nQ 24.421875 6.59375 29.984375 6.59375 \nQ 38.421875 6.59375 43.015625 9.90625 \nQ 47.609375 13.234375 47.609375 19.390625 \nQ 47.609375 24.75 44.3125 27.78125 \nQ 41.015625 30.8125 33.5 32.328125 \nL 27.484375 33.5 \nQ 16.453125 35.6875 11.515625 40.375 \nQ 6.59375 45.0625 6.59375 53.421875 \nQ 6.59375 63.09375 13.40625 68.65625 \nQ 20.21875 74.21875 32.171875 74.21875 \nQ 37.3125 74.21875 42.625 73.28125 \nQ 47.953125 72.359375 53.515625 70.515625 \nz\n\" id=\"DejaVuSans-83\"/>\n      </defs>\n      <g style=\"fill:#262626;\" transform=\"translate(7.2 134.215219)scale(0.1 -0.1)\">\n       <use xlink:href=\"#DejaVuSans-74\"/>\n       <use x=\"29.492188\" xlink:href=\"#DejaVuSans-97\"/>\n       <use x=\"90.771484\" xlink:href=\"#DejaVuSans-109\"/>\n       <use x=\"188.183594\" xlink:href=\"#DejaVuSans-101\"/>\n       <use x=\"249.707031\" xlink:href=\"#DejaVuSans-115\"/>\n       <use x=\"301.806641\" xlink:href=\"#DejaVuSans-83\"/>\n       <use x=\"365.283203\" xlink:href=\"#DejaVuSans-116\"/>\n       <use x=\"404.492188\" xlink:href=\"#DejaVuSans-101\"/>\n       <use x=\"466.015625\" xlink:href=\"#DejaVuSans-105\"/>\n       <use x=\"493.798828\" xlink:href=\"#DejaVuSans-110\"/>\n       <use x=\"557.177734\" xlink:href=\"#DejaVuSans-69\"/>\n       <use x=\"620.361328\" xlink:href=\"#DejaVuSans-110\"/>\n       <use x=\"683.740234\" xlink:href=\"#DejaVuSans-99\"/>\n       <use x=\"738.720703\" xlink:href=\"#DejaVuSans-111\"/>\n       <use x=\"799.902344\" xlink:href=\"#DejaVuSans-100\"/>\n       <use x=\"863.378906\" xlink:href=\"#DejaVuSans-101\"/>\n       <use x=\"924.902344\" xlink:href=\"#DejaVuSans-114\"/>\n       <use x=\"966.015625\" xlink:href=\"#DejaVuSans-95\"/>\n       <use x=\"1016.015625\" xlink:href=\"#DejaVuSans-102\"/>\n       <use x=\"1051.220703\" xlink:href=\"#DejaVuSans-110\"/>\n       <use x=\"1114.599609\" xlink:href=\"#DejaVuSans-108\"/>\n       <use x=\"1142.382812\" xlink:href=\"#DejaVuSans-119\"/>\n       <use x=\"1224.169922\" xlink:href=\"#DejaVuSans-103\"/>\n       <use x=\"1287.646484\" xlink:href=\"#DejaVuSans-116\"/>\n       <use x=\"1326.855469\" xlink:href=\"#DejaVuSans-95\"/>\n       <use x=\"1376.855469\" xlink:href=\"#DejaVuSans-42\"/>\n       <use x=\"1426.855469\" xlink:href=\"#DejaVuSans-95\"/>\n       <use x=\"1476.855469\" xlink:href=\"#DejaVuSans-101\"/>\n       <use x=\"1538.378906\" xlink:href=\"#DejaVuSans-100\"/>\n       <use x=\"1601.855469\" xlink:href=\"#DejaVuSans-117\"/>\n       <use x=\"1665.234375\" xlink:href=\"#DejaVuSans-99\"/>\n       <use x=\"1720.214844\" xlink:href=\"#DejaVuSans-97\"/>\n       <use x=\"1781.494141\" xlink:href=\"#DejaVuSans-116\"/>\n       <use x=\"1820.703125\" xlink:href=\"#DejaVuSans-105\"/>\n       <use x=\"1848.486328\" xlink:href=\"#DejaVuSans-111\"/>\n       <use x=\"1909.667969\" xlink:href=\"#DejaVuSans-110\"/>\n       <use x=\"1973.046875\" xlink:href=\"#DejaVuSans-45\"/>\n       <use x=\"2009.130859\" xlink:href=\"#DejaVuSans-110\"/>\n       <use x=\"2072.509766\" xlink:href=\"#DejaVuSans-117\"/>\n       <use x=\"2135.888672\" xlink:href=\"#DejaVuSans-109\"/>\n      </g>\n     </g>\n    </g>\n    <g id=\"ytick_8\">\n     <g id=\"line2d_13\">\n      <path clip-path=\"url(#p8ab69360e9)\" d=\"M 237.53125 115.92 \nL 572.33125 115.92 \n\" style=\"fill:none;stroke:#ffffff;stroke-linecap:round;stroke-width:0.8;\"/>\n     </g>\n     <g id=\"text_13\">\n      <!-- fnlwgt_/_education-num -->\n      <defs>\n       <path d=\"M 25.390625 72.90625 \nL 33.6875 72.90625 \nL 8.296875 -9.28125 \nL 0 -9.28125 \nz\n\" id=\"DejaVuSans-47\"/>\n      </defs>\n      <g style=\"fill:#262626;\" transform=\"translate(110.435937 119.719219)scale(0.1 -0.1)\">\n       <use xlink:href=\"#DejaVuSans-102\"/>\n       <use x=\"35.205078\" xlink:href=\"#DejaVuSans-110\"/>\n       <use x=\"98.583984\" xlink:href=\"#DejaVuSans-108\"/>\n       <use x=\"126.367188\" xlink:href=\"#DejaVuSans-119\"/>\n       <use x=\"208.154297\" xlink:href=\"#DejaVuSans-103\"/>\n       <use x=\"271.630859\" xlink:href=\"#DejaVuSans-116\"/>\n       <use x=\"310.839844\" xlink:href=\"#DejaVuSans-95\"/>\n       <use x=\"360.839844\" xlink:href=\"#DejaVuSans-47\"/>\n       <use x=\"394.53125\" xlink:href=\"#DejaVuSans-95\"/>\n       <use x=\"444.53125\" xlink:href=\"#DejaVuSans-101\"/>\n       <use x=\"506.054688\" xlink:href=\"#DejaVuSans-100\"/>\n       <use x=\"569.53125\" xlink:href=\"#DejaVuSans-117\"/>\n       <use x=\"632.910156\" xlink:href=\"#DejaVuSans-99\"/>\n       <use x=\"687.890625\" xlink:href=\"#DejaVuSans-97\"/>\n       <use x=\"749.169922\" xlink:href=\"#DejaVuSans-116\"/>\n       <use x=\"788.378906\" xlink:href=\"#DejaVuSans-105\"/>\n       <use x=\"816.162109\" xlink:href=\"#DejaVuSans-111\"/>\n       <use x=\"877.34375\" xlink:href=\"#DejaVuSans-110\"/>\n       <use x=\"940.722656\" xlink:href=\"#DejaVuSans-45\"/>\n       <use x=\"976.806641\" xlink:href=\"#DejaVuSans-110\"/>\n       <use x=\"1040.185547\" xlink:href=\"#DejaVuSans-117\"/>\n       <use x=\"1103.564453\" xlink:href=\"#DejaVuSans-109\"/>\n      </g>\n     </g>\n    </g>\n    <g id=\"ytick_9\">\n     <g id=\"line2d_14\">\n      <path clip-path=\"url(#p8ab69360e9)\" d=\"M 237.53125 101.424 \nL 572.33125 101.424 \n\" style=\"fill:none;stroke:#ffffff;stroke-linecap:round;stroke-width:0.8;\"/>\n     </g>\n     <g id=\"text_14\">\n      <!-- JamesSteinEncoder_fnlwgt_/_education-num -->\n      <g style=\"fill:#262626;\" transform=\"translate(8.83125 105.223219)scale(0.1 -0.1)\">\n       <use xlink:href=\"#DejaVuSans-74\"/>\n       <use x=\"29.492188\" xlink:href=\"#DejaVuSans-97\"/>\n       <use x=\"90.771484\" xlink:href=\"#DejaVuSans-109\"/>\n       <use x=\"188.183594\" xlink:href=\"#DejaVuSans-101\"/>\n       <use x=\"249.707031\" xlink:href=\"#DejaVuSans-115\"/>\n       <use x=\"301.806641\" xlink:href=\"#DejaVuSans-83\"/>\n       <use x=\"365.283203\" xlink:href=\"#DejaVuSans-116\"/>\n       <use x=\"404.492188\" xlink:href=\"#DejaVuSans-101\"/>\n       <use x=\"466.015625\" xlink:href=\"#DejaVuSans-105\"/>\n       <use x=\"493.798828\" xlink:href=\"#DejaVuSans-110\"/>\n       <use x=\"557.177734\" xlink:href=\"#DejaVuSans-69\"/>\n       <use x=\"620.361328\" xlink:href=\"#DejaVuSans-110\"/>\n       <use x=\"683.740234\" xlink:href=\"#DejaVuSans-99\"/>\n       <use x=\"738.720703\" xlink:href=\"#DejaVuSans-111\"/>\n       <use x=\"799.902344\" xlink:href=\"#DejaVuSans-100\"/>\n       <use x=\"863.378906\" xlink:href=\"#DejaVuSans-101\"/>\n       <use x=\"924.902344\" xlink:href=\"#DejaVuSans-114\"/>\n       <use x=\"966.015625\" xlink:href=\"#DejaVuSans-95\"/>\n       <use x=\"1016.015625\" xlink:href=\"#DejaVuSans-102\"/>\n       <use x=\"1051.220703\" xlink:href=\"#DejaVuSans-110\"/>\n       <use x=\"1114.599609\" xlink:href=\"#DejaVuSans-108\"/>\n       <use x=\"1142.382812\" xlink:href=\"#DejaVuSans-119\"/>\n       <use x=\"1224.169922\" xlink:href=\"#DejaVuSans-103\"/>\n       <use x=\"1287.646484\" xlink:href=\"#DejaVuSans-116\"/>\n       <use x=\"1326.855469\" xlink:href=\"#DejaVuSans-95\"/>\n       <use x=\"1376.855469\" xlink:href=\"#DejaVuSans-47\"/>\n       <use x=\"1410.546875\" xlink:href=\"#DejaVuSans-95\"/>\n       <use x=\"1460.546875\" xlink:href=\"#DejaVuSans-101\"/>\n       <use x=\"1522.070312\" xlink:href=\"#DejaVuSans-100\"/>\n       <use x=\"1585.546875\" xlink:href=\"#DejaVuSans-117\"/>\n       <use x=\"1648.925781\" xlink:href=\"#DejaVuSans-99\"/>\n       <use x=\"1703.90625\" xlink:href=\"#DejaVuSans-97\"/>\n       <use x=\"1765.185547\" xlink:href=\"#DejaVuSans-116\"/>\n       <use x=\"1804.394531\" xlink:href=\"#DejaVuSans-105\"/>\n       <use x=\"1832.177734\" xlink:href=\"#DejaVuSans-111\"/>\n       <use x=\"1893.359375\" xlink:href=\"#DejaVuSans-110\"/>\n       <use x=\"1956.738281\" xlink:href=\"#DejaVuSans-45\"/>\n       <use x=\"1992.822266\" xlink:href=\"#DejaVuSans-110\"/>\n       <use x=\"2056.201172\" xlink:href=\"#DejaVuSans-117\"/>\n       <use x=\"2119.580078\" xlink:href=\"#DejaVuSans-109\"/>\n      </g>\n     </g>\n    </g>\n    <g id=\"ytick_10\">\n     <g id=\"line2d_15\">\n      <path clip-path=\"url(#p8ab69360e9)\" d=\"M 237.53125 86.928 \nL 572.33125 86.928 \n\" style=\"fill:none;stroke:#ffffff;stroke-linecap:round;stroke-width:0.8;\"/>\n     </g>\n     <g id=\"text_15\">\n      <!-- JamesSteinEncoder_fnlwgt -->\n      <g style=\"fill:#262626;\" transform=\"translate(97.84375 90.727219)scale(0.1 -0.1)\">\n       <use xlink:href=\"#DejaVuSans-74\"/>\n       <use x=\"29.492188\" xlink:href=\"#DejaVuSans-97\"/>\n       <use x=\"90.771484\" xlink:href=\"#DejaVuSans-109\"/>\n       <use x=\"188.183594\" xlink:href=\"#DejaVuSans-101\"/>\n       <use x=\"249.707031\" xlink:href=\"#DejaVuSans-115\"/>\n       <use x=\"301.806641\" xlink:href=\"#DejaVuSans-83\"/>\n       <use x=\"365.283203\" xlink:href=\"#DejaVuSans-116\"/>\n       <use x=\"404.492188\" xlink:href=\"#DejaVuSans-101\"/>\n       <use x=\"466.015625\" xlink:href=\"#DejaVuSans-105\"/>\n       <use x=\"493.798828\" xlink:href=\"#DejaVuSans-110\"/>\n       <use x=\"557.177734\" xlink:href=\"#DejaVuSans-69\"/>\n       <use x=\"620.361328\" xlink:href=\"#DejaVuSans-110\"/>\n       <use x=\"683.740234\" xlink:href=\"#DejaVuSans-99\"/>\n       <use x=\"738.720703\" xlink:href=\"#DejaVuSans-111\"/>\n       <use x=\"799.902344\" xlink:href=\"#DejaVuSans-100\"/>\n       <use x=\"863.378906\" xlink:href=\"#DejaVuSans-101\"/>\n       <use x=\"924.902344\" xlink:href=\"#DejaVuSans-114\"/>\n       <use x=\"966.015625\" xlink:href=\"#DejaVuSans-95\"/>\n       <use x=\"1016.015625\" xlink:href=\"#DejaVuSans-102\"/>\n       <use x=\"1051.220703\" xlink:href=\"#DejaVuSans-110\"/>\n       <use x=\"1114.599609\" xlink:href=\"#DejaVuSans-108\"/>\n       <use x=\"1142.382812\" xlink:href=\"#DejaVuSans-119\"/>\n       <use x=\"1224.169922\" xlink:href=\"#DejaVuSans-103\"/>\n       <use x=\"1287.646484\" xlink:href=\"#DejaVuSans-116\"/>\n      </g>\n     </g>\n    </g>\n    <g id=\"ytick_11\">\n     <g id=\"line2d_16\">\n      <path clip-path=\"url(#p8ab69360e9)\" d=\"M 237.53125 72.432 \nL 572.33125 72.432 \n\" style=\"fill:none;stroke:#ffffff;stroke-linecap:round;stroke-width:0.8;\"/>\n     </g>\n     <g id=\"text_16\">\n      <!-- capitalloss -->\n      <g style=\"fill:#262626;\" transform=\"translate(177.635938 76.231219)scale(0.1 -0.1)\">\n       <use xlink:href=\"#DejaVuSans-99\"/>\n       <use x=\"54.980469\" xlink:href=\"#DejaVuSans-97\"/>\n       <use x=\"116.259766\" xlink:href=\"#DejaVuSans-112\"/>\n       <use x=\"179.736328\" xlink:href=\"#DejaVuSans-105\"/>\n       <use x=\"207.519531\" xlink:href=\"#DejaVuSans-116\"/>\n       <use x=\"246.728516\" xlink:href=\"#DejaVuSans-97\"/>\n       <use x=\"308.007812\" xlink:href=\"#DejaVuSans-108\"/>\n       <use x=\"335.791016\" xlink:href=\"#DejaVuSans-108\"/>\n       <use x=\"363.574219\" xlink:href=\"#DejaVuSans-111\"/>\n       <use x=\"424.755859\" xlink:href=\"#DejaVuSans-115\"/>\n       <use x=\"476.855469\" xlink:href=\"#DejaVuSans-115\"/>\n      </g>\n     </g>\n    </g>\n    <g id=\"ytick_12\">\n     <g id=\"line2d_17\">\n      <path clip-path=\"url(#p8ab69360e9)\" d=\"M 237.53125 57.936 \nL 572.33125 57.936 \n\" style=\"fill:none;stroke:#ffffff;stroke-linecap:round;stroke-width:0.8;\"/>\n     </g>\n     <g id=\"text_17\">\n      <!-- occupation -->\n      <g style=\"fill:#262626;\" transform=\"translate(175.446875 61.735219)scale(0.1 -0.1)\">\n       <use xlink:href=\"#DejaVuSans-111\"/>\n       <use x=\"61.181641\" xlink:href=\"#DejaVuSans-99\"/>\n       <use x=\"116.162109\" xlink:href=\"#DejaVuSans-99\"/>\n       <use x=\"171.142578\" xlink:href=\"#DejaVuSans-117\"/>\n       <use x=\"234.521484\" xlink:href=\"#DejaVuSans-112\"/>\n       <use x=\"297.998047\" xlink:href=\"#DejaVuSans-97\"/>\n       <use x=\"359.277344\" xlink:href=\"#DejaVuSans-116\"/>\n       <use x=\"398.486328\" xlink:href=\"#DejaVuSans-105\"/>\n       <use x=\"426.269531\" xlink:href=\"#DejaVuSans-111\"/>\n       <use x=\"487.451172\" xlink:href=\"#DejaVuSans-110\"/>\n      </g>\n     </g>\n    </g>\n    <g id=\"ytick_13\">\n     <g id=\"line2d_18\">\n      <path clip-path=\"url(#p8ab69360e9)\" d=\"M 237.53125 43.44 \nL 572.33125 43.44 \n\" style=\"fill:none;stroke:#ffffff;stroke-linecap:round;stroke-width:0.8;\"/>\n     </g>\n     <g id=\"text_18\">\n      <!-- HelmertEncoder_hoursperweek_2 -->\n      <defs>\n       <path d=\"M 9.8125 72.90625 \nL 19.671875 72.90625 \nL 19.671875 43.015625 \nL 55.515625 43.015625 \nL 55.515625 72.90625 \nL 65.375 72.90625 \nL 65.375 0 \nL 55.515625 0 \nL 55.515625 34.71875 \nL 19.671875 34.71875 \nL 19.671875 0 \nL 9.8125 0 \nz\n\" id=\"DejaVuSans-72\"/>\n       <path d=\"M 54.890625 33.015625 \nL 54.890625 0 \nL 45.90625 0 \nL 45.90625 32.71875 \nQ 45.90625 40.484375 42.875 44.328125 \nQ 39.84375 48.1875 33.796875 48.1875 \nQ 26.515625 48.1875 22.3125 43.546875 \nQ 18.109375 38.921875 18.109375 30.90625 \nL 18.109375 0 \nL 9.078125 0 \nL 9.078125 75.984375 \nL 18.109375 75.984375 \nL 18.109375 46.1875 \nQ 21.34375 51.125 25.703125 53.5625 \nQ 30.078125 56 35.796875 56 \nQ 45.21875 56 50.046875 50.171875 \nQ 54.890625 44.34375 54.890625 33.015625 \nz\n\" id=\"DejaVuSans-104\"/>\n       <path d=\"M 9.078125 75.984375 \nL 18.109375 75.984375 \nL 18.109375 31.109375 \nL 44.921875 54.6875 \nL 56.390625 54.6875 \nL 27.390625 29.109375 \nL 57.625 0 \nL 45.90625 0 \nL 18.109375 26.703125 \nL 18.109375 0 \nL 9.078125 0 \nz\n\" id=\"DejaVuSans-107\"/>\n      </defs>\n      <g style=\"fill:#262626;\" transform=\"translate(61.904687 47.239219)scale(0.1 -0.1)\">\n       <use xlink:href=\"#DejaVuSans-72\"/>\n       <use x=\"75.195312\" xlink:href=\"#DejaVuSans-101\"/>\n       <use x=\"136.71875\" xlink:href=\"#DejaVuSans-108\"/>\n       <use x=\"164.501953\" xlink:href=\"#DejaVuSans-109\"/>\n       <use x=\"261.914062\" xlink:href=\"#DejaVuSans-101\"/>\n       <use x=\"323.4375\" xlink:href=\"#DejaVuSans-114\"/>\n       <use x=\"364.550781\" xlink:href=\"#DejaVuSans-116\"/>\n       <use x=\"403.759766\" xlink:href=\"#DejaVuSans-69\"/>\n       <use x=\"466.943359\" xlink:href=\"#DejaVuSans-110\"/>\n       <use x=\"530.322266\" xlink:href=\"#DejaVuSans-99\"/>\n       <use x=\"585.302734\" xlink:href=\"#DejaVuSans-111\"/>\n       <use x=\"646.484375\" xlink:href=\"#DejaVuSans-100\"/>\n       <use x=\"709.960938\" xlink:href=\"#DejaVuSans-101\"/>\n       <use x=\"771.484375\" xlink:href=\"#DejaVuSans-114\"/>\n       <use x=\"812.597656\" xlink:href=\"#DejaVuSans-95\"/>\n       <use x=\"862.597656\" xlink:href=\"#DejaVuSans-104\"/>\n       <use x=\"925.976562\" xlink:href=\"#DejaVuSans-111\"/>\n       <use x=\"987.158203\" xlink:href=\"#DejaVuSans-117\"/>\n       <use x=\"1050.537109\" xlink:href=\"#DejaVuSans-114\"/>\n       <use x=\"1091.650391\" xlink:href=\"#DejaVuSans-115\"/>\n       <use x=\"1143.75\" xlink:href=\"#DejaVuSans-112\"/>\n       <use x=\"1207.226562\" xlink:href=\"#DejaVuSans-101\"/>\n       <use x=\"1268.75\" xlink:href=\"#DejaVuSans-114\"/>\n       <use x=\"1309.863281\" xlink:href=\"#DejaVuSans-119\"/>\n       <use x=\"1391.650391\" xlink:href=\"#DejaVuSans-101\"/>\n       <use x=\"1453.173828\" xlink:href=\"#DejaVuSans-101\"/>\n       <use x=\"1514.697266\" xlink:href=\"#DejaVuSans-107\"/>\n       <use x=\"1572.607422\" xlink:href=\"#DejaVuSans-95\"/>\n       <use x=\"1622.607422\" xlink:href=\"#DejaVuSans-50\"/>\n      </g>\n     </g>\n    </g>\n    <g id=\"ytick_14\">\n     <g id=\"line2d_19\">\n      <path clip-path=\"url(#p8ab69360e9)\" d=\"M 237.53125 28.944 \nL 572.33125 28.944 \n\" style=\"fill:none;stroke:#ffffff;stroke-linecap:round;stroke-width:0.8;\"/>\n     </g>\n     <g id=\"text_19\">\n      <!-- fnlwgt -->\n      <g style=\"fill:#262626;\" transform=\"translate(199.448438 32.743219)scale(0.1 -0.1)\">\n       <use xlink:href=\"#DejaVuSans-102\"/>\n       <use x=\"35.205078\" xlink:href=\"#DejaVuSans-110\"/>\n       <use x=\"98.583984\" xlink:href=\"#DejaVuSans-108\"/>\n       <use x=\"126.367188\" xlink:href=\"#DejaVuSans-119\"/>\n       <use x=\"208.154297\" xlink:href=\"#DejaVuSans-103\"/>\n       <use x=\"271.630859\" xlink:href=\"#DejaVuSans-116\"/>\n      </g>\n     </g>\n    </g>\n    <g id=\"ytick_15\">\n     <g id=\"line2d_20\">\n      <path clip-path=\"url(#p8ab69360e9)\" d=\"M 237.53125 14.448 \nL 572.33125 14.448 \n\" style=\"fill:none;stroke:#ffffff;stroke-linecap:round;stroke-width:0.8;\"/>\n     </g>\n     <g id=\"text_20\">\n      <!-- education-num_/_fnlwgt -->\n      <g style=\"fill:#262626;\" transform=\"translate(110.435937 18.247219)scale(0.1 -0.1)\">\n       <use xlink:href=\"#DejaVuSans-101\"/>\n       <use x=\"61.523438\" xlink:href=\"#DejaVuSans-100\"/>\n       <use x=\"125\" xlink:href=\"#DejaVuSans-117\"/>\n       <use x=\"188.378906\" xlink:href=\"#DejaVuSans-99\"/>\n       <use x=\"243.359375\" xlink:href=\"#DejaVuSans-97\"/>\n       <use x=\"304.638672\" xlink:href=\"#DejaVuSans-116\"/>\n       <use x=\"343.847656\" xlink:href=\"#DejaVuSans-105\"/>\n       <use x=\"371.630859\" xlink:href=\"#DejaVuSans-111\"/>\n       <use x=\"432.8125\" xlink:href=\"#DejaVuSans-110\"/>\n       <use x=\"496.191406\" xlink:href=\"#DejaVuSans-45\"/>\n       <use x=\"532.275391\" xlink:href=\"#DejaVuSans-110\"/>\n       <use x=\"595.654297\" xlink:href=\"#DejaVuSans-117\"/>\n       <use x=\"659.033203\" xlink:href=\"#DejaVuSans-109\"/>\n       <use x=\"756.445312\" xlink:href=\"#DejaVuSans-95\"/>\n       <use x=\"806.445312\" xlink:href=\"#DejaVuSans-47\"/>\n       <use x=\"840.136719\" xlink:href=\"#DejaVuSans-95\"/>\n       <use x=\"890.136719\" xlink:href=\"#DejaVuSans-102\"/>\n       <use x=\"925.341797\" xlink:href=\"#DejaVuSans-110\"/>\n       <use x=\"988.720703\" xlink:href=\"#DejaVuSans-108\"/>\n       <use x=\"1016.503906\" xlink:href=\"#DejaVuSans-119\"/>\n       <use x=\"1098.291016\" xlink:href=\"#DejaVuSans-103\"/>\n       <use x=\"1161.767578\" xlink:href=\"#DejaVuSans-116\"/>\n      </g>\n     </g>\n    </g>\n   </g>\n   <g id=\"patch_3\">\n    <path clip-path=\"url(#p8ab69360e9)\" d=\"M 237.53125 221.016 \nL 556.388393 221.016 \nL 556.388393 213.768 \nL 237.53125 213.768 \nz\n\" style=\"fill:#1f77b4;stroke:#ffffff;stroke-linejoin:miter;\"/>\n   </g>\n   <g id=\"patch_4\">\n    <path clip-path=\"url(#p8ab69360e9)\" d=\"M 237.53125 206.52 \nL 363.630578 206.52 \nL 363.630578 199.272 \nL 237.53125 199.272 \nz\n\" style=\"fill:#1f77b4;stroke:#ffffff;stroke-linejoin:miter;\"/>\n   </g>\n   <g id=\"patch_5\">\n    <path clip-path=\"url(#p8ab69360e9)\" d=\"M 237.53125 192.024 \nL 347.79407 192.024 \nL 347.79407 184.776 \nL 237.53125 184.776 \nz\n\" style=\"fill:#1f77b4;stroke:#ffffff;stroke-linejoin:miter;\"/>\n   </g>\n   <g id=\"patch_6\">\n    <path clip-path=\"url(#p8ab69360e9)\" d=\"M 237.53125 177.528 \nL 274.174817 177.528 \nL 274.174817 170.28 \nL 237.53125 170.28 \nz\n\" style=\"fill:#1f77b4;stroke:#ffffff;stroke-linejoin:miter;\"/>\n   </g>\n   <g id=\"patch_7\">\n    <path clip-path=\"url(#p8ab69360e9)\" d=\"M 237.53125 163.032 \nL 273.510888 163.032 \nL 273.510888 155.784 \nL 237.53125 155.784 \nz\n\" style=\"fill:#1f77b4;stroke:#ffffff;stroke-linejoin:miter;\"/>\n   </g>\n   <g id=\"patch_8\">\n    <path clip-path=\"url(#p8ab69360e9)\" d=\"M 237.53125 148.536 \nL 258.735949 148.536 \nL 258.735949 141.288 \nL 237.53125 141.288 \nz\n\" style=\"fill:#1f77b4;stroke:#ffffff;stroke-linejoin:miter;\"/>\n   </g>\n   <g id=\"patch_9\">\n    <path clip-path=\"url(#p8ab69360e9)\" d=\"M 237.53125 134.04 \nL 255.10858 134.04 \nL 255.10858 126.792 \nL 237.53125 126.792 \nz\n\" style=\"fill:#1f77b4;stroke:#ffffff;stroke-linejoin:miter;\"/>\n   </g>\n   <g id=\"patch_10\">\n    <path clip-path=\"url(#p8ab69360e9)\" d=\"M 237.53125 119.544 \nL 249.562451 119.544 \nL 249.562451 112.296 \nL 237.53125 112.296 \nz\n\" style=\"fill:#1f77b4;stroke:#ffffff;stroke-linejoin:miter;\"/>\n   </g>\n   <g id=\"patch_11\">\n    <path clip-path=\"url(#p8ab69360e9)\" d=\"M 237.53125 105.048 \nL 248.253162 105.048 \nL 248.253162 97.8 \nL 237.53125 97.8 \nz\n\" style=\"fill:#1f77b4;stroke:#ffffff;stroke-linejoin:miter;\"/>\n   </g>\n   <g id=\"patch_12\">\n    <path clip-path=\"url(#p8ab69360e9)\" d=\"M 237.53125 90.552 \nL 247.837235 90.552 \nL 247.837235 83.304 \nL 237.53125 83.304 \nz\n\" style=\"fill:#1f77b4;stroke:#ffffff;stroke-linejoin:miter;\"/>\n   </g>\n   <g id=\"patch_13\">\n    <path clip-path=\"url(#p8ab69360e9)\" d=\"M 237.53125 76.056 \nL 247.8191 76.056 \nL 247.8191 68.808 \nL 237.53125 68.808 \nz\n\" style=\"fill:#1f77b4;stroke:#ffffff;stroke-linejoin:miter;\"/>\n   </g>\n   <g id=\"patch_14\">\n    <path clip-path=\"url(#p8ab69360e9)\" d=\"M 237.53125 61.56 \nL 247.494749 61.56 \nL 247.494749 54.312 \nL 237.53125 54.312 \nz\n\" style=\"fill:#1f77b4;stroke:#ffffff;stroke-linejoin:miter;\"/>\n   </g>\n   <g id=\"patch_15\">\n    <path clip-path=\"url(#p8ab69360e9)\" d=\"M 237.53125 47.064 \nL 247.399314 47.064 \nL 247.399314 39.816 \nL 237.53125 39.816 \nz\n\" style=\"fill:#1f77b4;stroke:#ffffff;stroke-linejoin:miter;\"/>\n   </g>\n   <g id=\"patch_16\">\n    <path clip-path=\"url(#p8ab69360e9)\" d=\"M 237.53125 32.568 \nL 247.269415 32.568 \nL 247.269415 25.32 \nL 237.53125 25.32 \nz\n\" style=\"fill:#1f77b4;stroke:#ffffff;stroke-linejoin:miter;\"/>\n   </g>\n   <g id=\"patch_17\">\n    <path clip-path=\"url(#p8ab69360e9)\" d=\"M 237.53125 18.072 \nL 246.19817 18.072 \nL 246.19817 10.824 \nL 237.53125 10.824 \nz\n\" style=\"fill:#1f77b4;stroke:#ffffff;stroke-linejoin:miter;\"/>\n   </g>\n   <g id=\"patch_18\">\n    <path d=\"M 237.53125 224.64 \nL 237.53125 7.2 \n\" style=\"fill:none;stroke:#ffffff;stroke-linecap:square;stroke-linejoin:miter;stroke-width:0.8;\"/>\n   </g>\n   <g id=\"patch_19\">\n    <path d=\"M 572.33125 224.64 \nL 572.33125 7.2 \n\" style=\"fill:none;stroke:#ffffff;stroke-linecap:square;stroke-linejoin:miter;stroke-width:0.8;\"/>\n   </g>\n   <g id=\"patch_20\">\n    <path d=\"M 237.53125 224.64 \nL 572.33125 224.64 \n\" style=\"fill:none;stroke:#ffffff;stroke-linecap:square;stroke-linejoin:miter;stroke-width:0.8;\"/>\n   </g>\n   <g id=\"patch_21\">\n    <path d=\"M 237.53125 7.2 \nL 572.33125 7.2 \n\" style=\"fill:none;stroke:#ffffff;stroke-linecap:square;stroke-linejoin:miter;stroke-width:0.8;\"/>\n   </g>\n   <g id=\"legend_1\">\n    <g id=\"patch_22\">\n     <path d=\"M 506.015625 29.878125 \nL 565.33125 29.878125 \nQ 567.33125 29.878125 567.33125 27.878125 \nL 567.33125 14.2 \nQ 567.33125 12.2 565.33125 12.2 \nL 506.015625 12.2 \nQ 504.015625 12.2 504.015625 14.2 \nL 504.015625 27.878125 \nQ 504.015625 29.878125 506.015625 29.878125 \nz\n\" style=\"fill:#eaeaf2;opacity:0.8;stroke:#cccccc;stroke-linejoin:miter;\"/>\n    </g>\n    <g id=\"patch_23\">\n     <path d=\"M 508.015625 23.798437 \nL 528.015625 23.798437 \nL 528.015625 16.798437 \nL 508.015625 16.798437 \nz\n\" style=\"fill:#1f77b4;stroke:#ffffff;stroke-linejoin:miter;\"/>\n    </g>\n    <g id=\"text_21\">\n     <!-- value -->\n     <defs>\n      <path d=\"M 2.984375 54.6875 \nL 12.5 54.6875 \nL 29.59375 8.796875 \nL 46.6875 54.6875 \nL 56.203125 54.6875 \nL 35.6875 0 \nL 23.484375 0 \nz\n\" id=\"DejaVuSans-118\"/>\n     </defs>\n     <g style=\"fill:#262626;\" transform=\"translate(536.015625 23.798437)scale(0.1 -0.1)\">\n      <use xlink:href=\"#DejaVuSans-118\"/>\n      <use x=\"59.179688\" xlink:href=\"#DejaVuSans-97\"/>\n      <use x=\"120.458984\" xlink:href=\"#DejaVuSans-108\"/>\n      <use x=\"148.242188\" xlink:href=\"#DejaVuSans-117\"/>\n      <use x=\"211.621094\" xlink:href=\"#DejaVuSans-101\"/>\n     </g>\n    </g>\n   </g>\n  </g>\n </g>\n <defs>\n  <clipPath id=\"p8ab69360e9\">\n   <rect height=\"217.44\" width=\"334.8\" x=\"237.53125\" y=\"7.2\"/>\n  </clipPath>\n </defs>\n</svg>\n",
            "image/png": "[encoded data removed]"
          },
          "metadata": {}
        }
      ],
      "source": [
        "feature_importance.sort_values(by='value', ascending=False)[:15].plot(kind='barh')"
      ]
    },
    {
      "source": [
        "### Save & Load CV!\n",
        "export of cross-validation settings, including trained models and their settings"
      ],
      "cell_type": "markdown",
      "metadata": {}
    },
    {
      "cell_type": "code",
      "execution_count": 28,
      "metadata": {},
      "outputs": [
        {
          "output_type": "stream",
          "name": "stdout",
          "text": [
            "Test AUC:  0.9116\n"
          ]
        }
      ],
      "source": [
        "predicts = cv.predict_test(X_test)\n",
        "print('Test AUC: ', round(sklearn.metrics.roc_auc_score(y_test, predicts),4))"
      ]
    },
    {
      "cell_type": "code",
      "execution_count": 29,
      "metadata": {},
      "outputs": [
        {
          "output_type": "stream",
          "name": "stdout",
          "text": [
            "Save CrossValidation\n"
          ]
        }
      ],
      "source": [
        "cv.save('cv_1',)"
      ]
    },
    {
      "cell_type": "code",
      "execution_count": 30,
      "metadata": {},
      "outputs": [],
      "source": [
        "cv_2 = CrossValidation(estimator=model,)"
      ]
    },
    {
      "cell_type": "code",
      "execution_count": 31,
      "metadata": {},
      "outputs": [
        {
          "output_type": "stream",
          "name": "stdout",
          "text": [
            "Finished loading model, total used 300 iterations\n",
            "Finished loading model, total used 300 iterations\n",
            "Finished loading model, total used 300 iterations\n",
            "Finished loading model, total used 300 iterations\n",
            "Finished loading model, total used 300 iterations\n",
            "Finished loading model, total used 300 iterations\n",
            "Finished loading model, total used 300 iterations\n",
            "Finished loading model, total used 300 iterations\n",
            "Finished loading model, total used 300 iterations\n",
            "Finished loading model, total used 300 iterations\n",
            "Load CrossValidation\n"
          ]
        }
      ],
      "source": [
        "cv_2 = cv_2.load('cv_1',)"
      ]
    },
    {
      "cell_type": "code",
      "execution_count": 32,
      "metadata": {},
      "outputs": [
        {
          "output_type": "stream",
          "name": "stdout",
          "text": [
            "Test AUC:  0.9116\n"
          ]
        }
      ],
      "source": [
        "predicts = cv_2.predict_test(X_test)\n",
        "print('Test AUC: ', round(sklearn.metrics.roc_auc_score(y_test, predicts),4))"
      ]
    },
    {
      "source": [
        "## Optimizing Parameters\n",
        "In this library, I tried to simplify the process of optimizing and iterating parameters as much as possible. You just specify how much time you are willing to spend on optimization, and the library will select the rules for cross-validation, optimization depth, and other optimization parameters based on this time. The more time you give it, the better it will be able to select parameters.    \n",
        "\n",
        "[RUS]\n",
        "В этой библиотеке я постарался максимально упростить процесс оптимизации и перебора параметров. Вы просто указываете сколько вы готовы потратить времени на оптимизацию, а библиотека сама подберет правила кроссвалидации, глубины оптимизации и прочии параметры оптимизации исходя из этого времени. Чем больше времени вы ей дадите, тем более качественней она сможет подобрать параметры."
      ],
      "cell_type": "markdown",
      "metadata": {}
    },
    {
      "cell_type": "code",
      "execution_count": 30,
      "metadata": {
        "tags": []
      },
      "outputs": [
        {
          "output_type": "stream",
          "name": "stderr",
          "text": [
            "06:44:07 | ##################################################\n",
            "06:44:08 | > Step 1: calc parameters and pruned score: get test 10 trials\n",
            "06:44:58 |  One iteration ~ 5.0 sec\n",
            "06:44:58 |  Possible iters ~ 120.0\n",
            "06:44:58 | --------------------------------------------------\n",
            "06:44:58 |   Pruned Threshold Score: 0.7368\n",
            "06:44:58 | ##################################################\n",
            "06:44:58 | > Step 2: Full opt with Threshold Score Pruner\n",
            "06:44:58 | ##################################################\n",
            "06:44:58 | > Start optimization with the parameters:\n",
            "06:44:58 | CV_Folds = 7\n",
            "06:44:58 | Score_CV_Folds = 2\n",
            "06:44:58 | Feature_Selection = False\n",
            "06:44:58 | Opt_lvl = 2\n",
            "06:44:58 | Cold_start = 20\n",
            "06:44:58 | Early_stoping = 30\n",
            "06:44:58 | Metric = roc_auc_score\n",
            "06:44:58 | Direction = maximize\n",
            "06:44:58 | ##################################################\n",
            "Optimize: : 24it [09:59, 28.67s/it, | Model: LightGBM | OptScore: 0.7389 | Best roc_auc_score: 0.7739 ]"
          ]
        }
      ],
      "source": [
        "history = model.opt(\n",
        "    X=X_train,\n",
        "    y=y_train,\n",
        "    timeout=600, # optimization time in seconds,\n",
        "    verbose=3\n",
        "    )"
      ]
    },
    {
      "cell_type": "code",
      "execution_count": null,
      "metadata": {},
      "outputs": [],
      "source": [
        "model.model_param"
      ]
    },
    {
      "cell_type": "code",
      "execution_count": null,
      "metadata": {},
      "outputs": [],
      "source": [
        "model.fit(X_train, y_train)\n",
        "predicts = model.predict(X_test)\n",
        "print('Test AUC: ', round(sklearn.metrics.roc_auc_score(y_test, predicts),4))"
      ]
    },
    {
      "cell_type": "code",
      "execution_count": null,
      "metadata": {},
      "outputs": [],
      "source": [
        "history.head(5)"
      ]
    },
    {
      "cell_type": "code",
      "execution_count": null,
      "metadata": {},
      "outputs": [],
      "source": [
        "model.plot_opt_history()"
      ]
    },
    {
      "cell_type": "markdown",
      "metadata": {
        "id": "ECaRp0ADbV5_",
        "colab_type": "text"
      },
      "source": [
        "# How it works\n",
        "first let's look at all the parameters available to us     \n",
        "для начала посмотрим все доступные нам параметры"
      ]
    },
    {
      "cell_type": "markdown",
      "metadata": {
        "id": "RiYgobwBbV6A",
        "colab_type": "text"
      },
      "source": [
        "```python\n",
        "model = LightGBMClassifier(\n",
        "                    model_param=None, # default model parameters\n",
        "                    type_of_estimator=None, # classifier or regression\n",
        "                    gpu=False, \n",
        "                    verbose=0,\n",
        "                    random_state=RANDOM_SEED\n",
        "    )\n",
        "```"
      ]
    },
    {
      "cell_type": "markdown",
      "metadata": {
        "id": "vpZzOYVtbV6A",
        "colab_type": "text"
      },
      "source": [
        "### *model_param*\n",
        "parameters of the model itself. As you already understood, to work with the library itself, I use some kind of wrapper, but *model_param* pass the settings directly to the model itself"
      ]
    },
    {
      "cell_type": "code",
      "execution_count": 35,
      "metadata": {},
      "outputs": [
        {
          "output_type": "execute_result",
          "data": {
            "text/plain": [
              "{'random_seed': 42,\n",
              " 'num_iterations': 400,\n",
              " 'verbose': -1,\n",
              " 'device_type': 'cpu',\n",
              " 'objective': 'binary',\n",
              " 'min_child_samples': 6,\n",
              " 'learning_rate': 0.12269270270460732,\n",
              " 'num_leaves': 2,\n",
              " 'bagging_fraction': 0.6000000000000001,\n",
              " 'feature_fraction': 0.9,\n",
              " 'bagging_freq': 7}"
            ]
          },
          "metadata": {},
          "execution_count": 35
        }
      ],
      "source": [
        "model.model_param"
      ]
    },
    {
      "cell_type": "markdown",
      "metadata": {
        "ExecuteTime": {
          "end_time": "2020-05-07T06:54:12.453492Z",
          "start_time": "2020-05-07T06:54:12.439012Z"
        },
        "id": "kjruMAqEbV6F",
        "colab_type": "text"
      },
      "source": [
        "## Optimization\n",
        "\n",
        "```python\n",
        "history = model.opt(X,y,\n",
        "            timeout=200, # optimization time in seconds\n",
        "            metric=sklearn.metrics.roc_auc_score, # any metric from sklearn\n",
        "            metric_round=4,\n",
        "            iterations=None,\n",
        "            cold_start=30,\n",
        "            auto_parameters=True,\n",
        "            folds=10, # Cross-validation folds\n",
        "            score_folds=2, # how many folds are actually used for score\n",
        "            opt_lvl=2,  # depth of selection of parameters\n",
        "            early_stoping=100,  # stop otimization if no better parameters are found through iterations\n",
        "            iteration_check=True,\n",
        "            verbose=1,)\n",
        "```\n",
        "\n",
        "To optimize hyperparameters used Optuna (https://optuna.org), but with some modifications. Inside Optuna uses the TPE algorithm.\n",
        "\n",
        "good visualization from: https://medium.com/criteo-labs/hyper-parameter-optimization-algorithms-2fe447525903\n",
        "<img src=\"https://miro.medium.com/max/2000/1*m1JYCHHhbmn6TCHcJIklZA.gif\" width=\"800\">\n"
      ]
    },
    {
      "cell_type": "markdown",
      "metadata": {
        "id": "SvXrBLljbV6F",
        "colab_type": "text"
      },
      "source": [
        "### *metric* and *direction*\n",
        "you can use standard metrics from sklearn.metrics or add custom metrics. \n",
        "\n",
        "вы можете использовать стандартные метрики из sklearn.metrics или добавить кастомную."
      ]
    },
    {
      "cell_type": "markdown",
      "metadata": {
        "id": "IbtbRVMebV6F",
        "colab_type": "text"
      },
      "source": [
        "### *cv* folds and *score_folds*\n",
        "In training, I use cross validation. But if we don’t have much time, then we go to the trick, and learn only part of the folds (score_folds)    \n",
        "\n",
        "В обучении я использую кросс валидацию. Но если у нас мало времени то мы идем на хитрость, и обучаемся только на части фолдов (score_folds)\n"
      ]
    },
    {
      "cell_type": "markdown",
      "metadata": {
        "ExecuteTime": {
          "end_time": "2020-05-07T08:00:39.460470Z",
          "start_time": "2020-05-07T08:00:39.424490Z"
        },
        "id": "D9xT9cTgbV6F",
        "colab_type": "text"
      },
      "source": [
        "### *cold_start*\n",
        "In the *cold_start* parameter, we specify how many iterations we give for this warm-up.\n",
        "before the algorithm starts searching for optimal parameters, it must collect statistics on the represented space.this is why it starts in the randomsample solution at the beginning. The longer it works in this mode , the less likely it is to get stuck in the local minimum. But if you take too long to warm up, you may not have time to search with a more \"smart\" algorithm. Therefore, it is important to maintain a balance. \n",
        "\n",
        "перед тем как алгоритм начинает поиск оптимальных параметров, он должен собрать статистику по представляемому пространству, по этому в начале он запускаеться в решиме randomsample. Чем дольше он проработает в этом режиме - тем меньше вероятность что он застрянет в локальном минимуме. Но если слишком долго делать прогрев - то может не остаться времени на поиск с более \"умным\" алгоритмом. Поэтому важно соблюдать баланс. В параметре cold_start указываем сколько итераций мы даем на этот прогрев. "
      ]
    },
    {
      "cell_type": "markdown",
      "metadata": {
        "id": "apIHobyxbV6F",
        "colab_type": "text"
      },
      "source": [
        "### *opt_lvl*\n",
        "by limiting the optimization time, we will have to choose how deep we should optimize the parameters. Perhaps some parameters are not so important and can only give a fraction of a percent. By setting the opt_lvl parameter, you control the depth of optimization.\n",
        "\n",
        "in the code *automl_alex.models.model_lightgbm.LightGBM* you can find how parameters are substituted for iteration:\n",
        "\n",
        "```python\n",
        "....\n",
        "def get_model_opt_params(self, trial, model, opt_lvl, len_data, metric_name,):\n",
        "        \"\"\"\n",
        "        Return:\n",
        "            dict of DistributionWrappers\n",
        "        \"\"\"\n",
        "        model_param = model._init_default_model_param()\n",
        "        ################################# LVL 1 ########################################\n",
        "        if opt_lvl == 1:\n",
        "            model_param['num_leaves'] = trial.suggest_int('lgbm_num_leaves', 2, 50,)\n",
        "            \n",
        "        if opt_lvl >= 1:\n",
        "            if len_data > 1000:\n",
        "                model_param['min_child_samples'] = trial.suggest_int('lgbm_min_child_samples', 2, \\\n",
        "                                                                        (len_data//100))\n",
        "            else:\n",
        "                model_param['min_child_samples'] = trial.suggest_int('lgbm_min_child_samples', 2, 7)\n",
        "\n",
        "        ################################# LVL 2 ########################################\n",
        "        if opt_lvl == 2:\n",
        "            model_param['learning_rate'] = trial.suggest_int('lgbm_learning_rate', 1, 11)/100\n",
        "            model_param['num_leaves'] = trial.suggest_int('lgbm_num_leaves', 2, 50,)\n",
        "            model_param['num_iterations'] = trial.suggest_int('lgbm_num_iterations', 1, 5,)*100\n",
        "\n",
        "        if opt_lvl >= 2:\n",
        "            model_param['bagging_fraction'] = trial.suggest_discrete_uniform('lgbm_bagging_fraction', 0.4, 1., 0.1)\n",
        "            if model_param['bagging_fraction'] < 1.:\n",
        "                model_param['feature_fraction'] = trial.suggest_discrete_uniform('lgbm_feature_fraction', 0.3, 1., 0.1)\n",
        "                model_param['bagging_freq'] = trial.suggest_int('lgbm_bagging_freq', 2, 11,)\n",
        "        \n",
        "        ################################# LVL 3 ########################################\n",
        "        if opt_lvl == 3:\n",
        "            model_param['learning_rate'] = trial.suggest_int('lgbm_learning_rate', 1, 100)/1000\n",
        "            model_param['num_iterations'] = trial.suggest_int('lgbm_num_iterations', 1, 11,)*100\n",
        "        \n",
        "        if opt_lvl >= 3:\n",
        "            model_param['num_leaves'] = trial.suggest_int('lgbm_num_leaves', 2, 100,)\n",
        "        \n",
        "        ################################# LVL 4 ########################################\n",
        "        if opt_lvl == 4:\n",
        "            model_param['learning_rate'] = trial.suggest_loguniform('lgbm_learning_rate', 1e-3, .1)\n",
        "\n",
        "        if opt_lvl >= 4:\n",
        "            model_param['boosting'] = trial.suggest_categorical('lgbm_boosting', ['gbdt', 'dart',])\n",
        "            if model_param['boosting'] == 'dart':\n",
        "                model_param['early_stopping_rounds'] = 0\n",
        "                model_param['uniform_drop'] = trial.suggest_categorical('lgbm_uniform_drop', [True, False])\n",
        "                model_param['xgboost_dart_mode'] = trial.suggest_categorical('lgbm_xgboost_dart_mode', [True, False])\n",
        "                model_param['drop_rate'] = trial.suggest_loguniform('lgbm_drop_rate', 1e-8, 1.0)\n",
        "                model_param['max_drop'] = trial.suggest_int('lgbm_max_drop', 0, 100)\n",
        "                model_param['skip_drop'] = trial.suggest_loguniform('lgbm_skip_drop', 1e-3, 1.0)\n",
        "\n",
        "            model_param['num_iterations'] = trial.suggest_int('lgbm_num_iterations', 1, 6,)*1000\n",
        "\n",
        "            if model.type_of_estimator == 'classifier':\n",
        "                model_param['objective'] = trial.suggest_categorical('lgbm_objective', \n",
        "                    [\n",
        "                    'binary', \n",
        "                    'cross_entropy',\n",
        "                    ])\n",
        "\n",
        "            elif model.type_of_estimator == 'regression':\n",
        "                model_param['objective'] = trial.suggest_categorical('lgbm_objective', \n",
        "                    [\n",
        "                    'regression',\n",
        "                    'regression_l1',\n",
        "                    'mape',\n",
        "                    'huber',\n",
        "                    'quantile',\n",
        "                    ])\n",
        "\n",
        "        ################################# LVL 5 ########################################\n",
        "        if opt_lvl >= 5:\n",
        "            model_param['max_cat_threshold'] = trial.suggest_int('lgbm_max_cat_threshold', 1, 100)\n",
        "            model_param['min_child_weight'] = trial.suggest_loguniform('lgbm_min_child_weight', 1e-6, 1.0)\n",
        "            model_param['learning_rate'] = trial.suggest_loguniform('lgbm_learning_rate', 1e-5, .1)\n",
        "            model_param['reg_lambda'] = trial.suggest_loguniform('lgbm_reg_lambda', 1e-8, 1.0)\n",
        "            model_param['reg_alpha'] = trial.suggest_loguniform('lgbm_reg_alpha', 1e-8, 1.0)\n",
        "            model_param['max_bin'] = trial.suggest_int('lgbm_max_bin', 1, 5,)*50\n",
        "            #self.model_param['extra_trees'] = trial.suggest_categorical('lgbm_extra_trees', [True, False])\n",
        "            model_param['enable_bundle'] = trial.suggest_categorical('lgbm_enable_bundle', [True, False])\n",
        "\n",
        "        ################################# Other ########################################\n",
        "        if model.type_of_estimator == 'classifier':\n",
        "            if metric_name not in ['roc_auc_score', 'log_loss', 'brier_score_loss']:\n",
        "                model_param['scale_pos_weight'] = trial.suggest_discrete_uniform('lgbm_scale_pos_weight', 0.1, 1., 0.1)\n",
        "\n",
        "        return(model_param)\n",
        "...\n",
        "```\n",
        "\n",
        "ограничивая время оптимизации, нам придется выбирать насколько глубоко мы должны оптимизировать параметры. Возможно некоторые параметры не так важны и могут дать лишь доли процента. Устанавливая параметр opt_lvl вы регулируете глубину оптимизации."
      ]
    },
    {
      "cell_type": "markdown",
      "metadata": {
        "id": "tl8zhvjVbV6G",
        "colab_type": "text"
      },
      "source": [
        "### *auto_parameters*\n",
        "If we don't want to select anything, we just set *auto_parameters=True*. Then the algorithm itself will select, depending on the time allotted to it, the optimal values for:\n",
        "* folds\n",
        "* score_folds\n",
        "* cold_start\n",
        "* opt_lvl\n",
        "\n",
        "Если мы не хотим ни чего подбирать, то просто устанавливаем auto_parameters=True. Тогда алгоритм сам подберет, в зависимости от выделенного ему времени, оптимальные значения этих параметров."
      ]
    },
    {
      "source": [
        "# Regression"
      ],
      "cell_type": "markdown",
      "metadata": {}
    },
    {
      "cell_type": "code",
      "execution_count": 36,
      "metadata": {},
      "outputs": [
        {
          "output_type": "execute_result",
          "data": {
            "text/plain": [
              "((430, 13), (76, 13))"
            ]
          },
          "metadata": {},
          "execution_count": 36
        }
      ],
      "source": [
        "from sklearn.datasets import load_boston\n",
        "data = load_boston()\n",
        "X_train, X_test, y_train, y_test = train_test_split(pd.DataFrame(data.data), \n",
        "                                                    pd.DataFrame(data.target), \n",
        "                                                    test_size=0.15, \n",
        "                                                    random_state=RANDOM_SEED,)\n",
        "\n",
        "X_train.shape, X_test.shape"
      ]
    },
    {
      "cell_type": "code",
      "execution_count": 71,
      "metadata": {},
      "outputs": [],
      "source": [
        "from automl_alex import LightGBM, LightGBMRegressor\n",
        "\n",
        "# We will use LightGBM for this dataset\n",
        "model = LightGBM(type_of_estimator='regression', random_state=RANDOM_SEED)\n",
        "\n",
        "# or Simply\n",
        "model = LightGBMRegressor(random_state=RANDOM_SEED)"
      ]
    },
    {
      "cell_type": "code",
      "execution_count": 60,
      "metadata": {},
      "outputs": [
        {
          "output_type": "stream",
          "name": "stdout",
          "text": [
            "Test MSE:  0.1009\n"
          ]
        }
      ],
      "source": [
        "model.fit(X_train, y_train)\n",
        "predicts = model.predict(X_test)\n",
        "print('Test MSE: ', round(sklearn.metrics.mean_squared_error(y_test, predicts),4))"
      ]
    },
    {
      "cell_type": "code",
      "execution_count": 61,
      "metadata": {},
      "outputs": [
        {
          "output_type": "stream",
          "name": "stderr",
          "text": [
            "22:59:34 | ! Not enough time to find the optimal parameters. \n",
            "                     Possible iters < 100. \n",
            "                     Please, Increase the 'timeout' parameter for normal optimization.\n",
            "Optimize: : 63it [10:00,  9.54s/it, | Model: LightGBM | OptScore: 0.1034 | Best mean_squared_error: 0.1023 ]\n",
            "Finished loading model, total used 300 iterations\n",
            "Finished loading model, total used 300 iterations\n",
            "Finished loading model, total used 300 iterations\n",
            "Finished loading model, total used 300 iterations\n",
            "Finished loading model, total used 300 iterations\n",
            "Finished loading model, total used 300 iterations\n",
            "Finished loading model, total used 300 iterations\n",
            "Finished loading model, total used 300 iterations\n",
            "Finished loading model, total used 300 iterations\n",
            "Finished loading model, total used 300 iterations\n"
          ]
        }
      ],
      "source": [
        "history = model.opt(X_train, y_train, timeout=600,)"
      ]
    },
    {
      "cell_type": "code",
      "execution_count": 62,
      "metadata": {},
      "outputs": [
        {
          "output_type": "execute_result",
          "data": {
            "text/plain": [
              "   number   value             datetime_start          datetime_complete  \\\n",
              "0       0  0.1115 2021-03-01 22:57:17.399006 2021-03-01 22:57:29.311209   \n",
              "1       1  0.1106 2021-03-01 22:57:29.382498 2021-03-01 22:57:42.237178   \n",
              "2       2  0.1124 2021-03-01 22:57:42.309630 2021-03-01 22:58:00.133931   \n",
              "3       3  0.1112 2021-03-01 22:58:00.203278 2021-03-01 22:58:10.392775   \n",
              "4       4  0.1058 2021-03-01 22:58:10.446136 2021-03-01 22:58:18.611378   \n",
              "\n",
              "                duration  params_lgbm_bagging_fraction  \\\n",
              "0 0 days 00:00:11.912203                           0.8   \n",
              "1 0 days 00:00:12.854680                           0.4   \n",
              "2 0 days 00:00:17.824301                           0.7   \n",
              "3 0 days 00:00:10.189497                           0.7   \n",
              "4 0 days 00:00:08.165242                           0.8   \n",
              "\n",
              "   params_lgbm_bagging_freq  params_lgbm_feature_fraction  \\\n",
              "0                       8.0                           0.7   \n",
              "1                       7.0                           1.0   \n",
              "2                       2.0                           0.7   \n",
              "3                       4.0                           0.9   \n",
              "4                       8.0                           0.5   \n",
              "\n",
              "   params_lgbm_learning_rate  params_lgbm_min_child_samples  \\\n",
              "0                   0.253700                              7   \n",
              "1                   0.190304                              2   \n",
              "2                   0.292157                              2   \n",
              "3                   0.038962                             14   \n",
              "4                   0.283368                              7   \n",
              "\n",
              "   params_lgbm_num_iterations  params_lgbm_num_leaves     state  \n",
              "0                       300.0                      20  COMPLETE  \n",
              "1                       500.0                      12  COMPLETE  \n",
              "2                       400.0                      13  COMPLETE  \n",
              "3                       500.0                       2  COMPLETE  \n",
              "4                       300.0                       8  COMPLETE  "
            ],
            "text/html": "<div>\n<style scoped>\n    .dataframe tbody tr th:only-of-type {\n        vertical-align: middle;\n    }\n\n    .dataframe tbody tr th {\n        vertical-align: top;\n    }\n\n    .dataframe thead th {\n        text-align: right;\n    }\n</style>\n<table border=\"1\" class=\"dataframe\">\n  <thead>\n    <tr style=\"text-align: right;\">\n      <th></th>\n      <th>number</th>\n      <th>value</th>\n      <th>datetime_start</th>\n      <th>datetime_complete</th>\n      <th>duration</th>\n      <th>params_lgbm_bagging_fraction</th>\n      <th>params_lgbm_bagging_freq</th>\n      <th>params_lgbm_feature_fraction</th>\n      <th>params_lgbm_learning_rate</th>\n      <th>params_lgbm_min_child_samples</th>\n      <th>params_lgbm_num_iterations</th>\n      <th>params_lgbm_num_leaves</th>\n      <th>state</th>\n    </tr>\n  </thead>\n  <tbody>\n    <tr>\n      <th>0</th>\n      <td>0</td>\n      <td>0.1115</td>\n      <td>2021-03-01 22:57:17.399006</td>\n      <td>2021-03-01 22:57:29.311209</td>\n      <td>0 days 00:00:11.912203</td>\n      <td>0.8</td>\n      <td>8.0</td>\n      <td>0.7</td>\n      <td>0.253700</td>\n      <td>7</td>\n      <td>300.0</td>\n      <td>20</td>\n      <td>COMPLETE</td>\n    </tr>\n    <tr>\n      <th>1</th>\n      <td>1</td>\n      <td>0.1106</td>\n      <td>2021-03-01 22:57:29.382498</td>\n      <td>2021-03-01 22:57:42.237178</td>\n      <td>0 days 00:00:12.854680</td>\n      <td>0.4</td>\n      <td>7.0</td>\n      <td>1.0</td>\n      <td>0.190304</td>\n      <td>2</td>\n      <td>500.0</td>\n      <td>12</td>\n      <td>COMPLETE</td>\n    </tr>\n    <tr>\n      <th>2</th>\n      <td>2</td>\n      <td>0.1124</td>\n      <td>2021-03-01 22:57:42.309630</td>\n      <td>2021-03-01 22:58:00.133931</td>\n      <td>0 days 00:00:17.824301</td>\n      <td>0.7</td>\n      <td>2.0</td>\n      <td>0.7</td>\n      <td>0.292157</td>\n      <td>2</td>\n      <td>400.0</td>\n      <td>13</td>\n      <td>COMPLETE</td>\n    </tr>\n    <tr>\n      <th>3</th>\n      <td>3</td>\n      <td>0.1112</td>\n      <td>2021-03-01 22:58:00.203278</td>\n      <td>2021-03-01 22:58:10.392775</td>\n      <td>0 days 00:00:10.189497</td>\n      <td>0.7</td>\n      <td>4.0</td>\n      <td>0.9</td>\n      <td>0.038962</td>\n      <td>14</td>\n      <td>500.0</td>\n      <td>2</td>\n      <td>COMPLETE</td>\n    </tr>\n    <tr>\n      <th>4</th>\n      <td>4</td>\n      <td>0.1058</td>\n      <td>2021-03-01 22:58:10.446136</td>\n      <td>2021-03-01 22:58:18.611378</td>\n      <td>0 days 00:00:08.165242</td>\n      <td>0.8</td>\n      <td>8.0</td>\n      <td>0.5</td>\n      <td>0.283368</td>\n      <td>7</td>\n      <td>300.0</td>\n      <td>8</td>\n      <td>COMPLETE</td>\n    </tr>\n  </tbody>\n</table>\n</div>"
          },
          "metadata": {},
          "execution_count": 62
        }
      ],
      "source": [
        "history.head(5)"
      ]
    },
    {
      "cell_type": "code",
      "execution_count": 63,
      "metadata": {},
      "outputs": [
        {
          "output_type": "display_data",
          "data": {
            "application/vnd.plotly.v1+json": {
              "config": {
                "plotlyServerURL": "https://plot.ly"
              },
              "data": [
                {
                  "mode": "markers",
                  "name": "Objective Value",
                  "type": "scatter",
                  "x": [
                    0,
                    1,
                    2,
                    3,
                    4,
                    5,
                    6,
                    7,
                    8,
                    9,
                    10,
                    11,
                    12,
                    13,
                    14,
                    15,
                    16,
                    17,
                    18,
                    19,
                    20,
                    21,
                    22,
                    23,
                    24,
                    25,
                    26,
                    27,
                    28,
                    29,
                    30,
                    31,
                    32,
                    33,
                    34,
                    35,
                    36,
                    37,
                    38,
                    39,
                    40,
                    41,
                    42,
                    43,
                    44,
                    45,
                    46,
                    47,
                    48,
                    49,
                    50,
                    51,
                    52,
                    53,
                    54,
                    55,
                    56,
                    57,
                    58,
                    59,
                    60,
                    61,
                    62,
                    63,
                    64,
                    65,
                    66,
                    67,
                    68,
                    69,
                    70,
                    71,
                    72
                  ],
                  "y": [
                    0.1115,
                    0.1106,
                    0.1124,
                    0.1112,
                    0.1058,
                    0.1096,
                    0.1054,
                    0.1028,
                    0.1128,
                    0.1181,
                    0.1059,
                    0.1036,
                    0.1052,
                    0.103,
                    0.1037,
                    0.1053,
                    0.1046,
                    0.1059,
                    0.1054,
                    0.1033,
                    0.1025,
                    0.104,
                    0.1036,
                    0.1032,
                    0.1038,
                    0.1052,
                    0.1104,
                    0.1104,
                    0.1054,
                    0.1026,
                    0.103,
                    0.1031,
                    0.1029,
                    0.1039,
                    0.1023,
                    0.1025,
                    0.1026,
                    0.103,
                    0.103,
                    0.1031,
                    0.1028,
                    0.1037,
                    0.1026,
                    0.1028,
                    0.1028,
                    0.1028,
                    0.1025,
                    0.1036,
                    0.1044,
                    0.1028,
                    0.1025,
                    0.1028,
                    0.1033,
                    0.1033,
                    0.1027,
                    0.1032,
                    0.1038,
                    0.1034,
                    0.1027,
                    0.1025,
                    0.103,
                    0.1026,
                    0.1032,
                    0.1028,
                    0.1032,
                    0.1032,
                    0.1036,
                    0.1025,
                    0.1036,
                    0.1032,
                    0.1028,
                    0.1028,
                    0.1034
                  ]
                },
                {
                  "name": "Best Value",
                  "type": "scatter",
                  "x": [
                    0,
                    1,
                    2,
                    3,
                    4,
                    5,
                    6,
                    7,
                    8,
                    9,
                    10,
                    11,
                    12,
                    13,
                    14,
                    15,
                    16,
                    17,
                    18,
                    19,
                    20,
                    21,
                    22,
                    23,
                    24,
                    25,
                    26,
                    27,
                    28,
                    29,
                    30,
                    31,
                    32,
                    33,
                    34,
                    35,
                    36,
                    37,
                    38,
                    39,
                    40,
                    41,
                    42,
                    43,
                    44,
                    45,
                    46,
                    47,
                    48,
                    49,
                    50,
                    51,
                    52,
                    53,
                    54,
                    55,
                    56,
                    57,
                    58,
                    59,
                    60,
                    61,
                    62,
                    63,
                    64,
                    65,
                    66,
                    67,
                    68,
                    69,
                    70,
                    71,
                    72
                  ],
                  "y": [
                    0.1115,
                    0.1106,
                    0.1106,
                    0.1106,
                    0.1058,
                    0.1058,
                    0.1054,
                    0.1028,
                    0.1028,
                    0.1028,
                    0.1028,
                    0.1028,
                    0.1028,
                    0.1028,
                    0.1028,
                    0.1028,
                    0.1028,
                    0.1028,
                    0.1028,
                    0.1028,
                    0.1025,
                    0.1025,
                    0.1025,
                    0.1025,
                    0.1025,
                    0.1025,
                    0.1025,
                    0.1025,
                    0.1025,
                    0.1025,
                    0.1025,
                    0.1025,
                    0.1025,
                    0.1025,
                    0.1023,
                    0.1023,
                    0.1023,
                    0.1023,
                    0.1023,
                    0.1023,
                    0.1023,
                    0.1023,
                    0.1023,
                    0.1023,
                    0.1023,
                    0.1023,
                    0.1023,
                    0.1023,
                    0.1023,
                    0.1023,
                    0.1023,
                    0.1023,
                    0.1023,
                    0.1023,
                    0.1023,
                    0.1023,
                    0.1023,
                    0.1023,
                    0.1023,
                    0.1023,
                    0.1023,
                    0.1023,
                    0.1023,
                    0.1023,
                    0.1023,
                    0.1023,
                    0.1023,
                    0.1023,
                    0.1023,
                    0.1023,
                    0.1023,
                    0.1023,
                    0.1023
                  ]
                }
              ],
              "layout": {
                "template": {
                  "data": {
                    "bar": [
                      {
                        "error_x": {
                          "color": "#2a3f5f"
                        },
                        "error_y": {
                          "color": "#2a3f5f"
                        },
                        "marker": {
                          "line": {
                            "color": "#E5ECF6",
                            "width": 0.5
                          }
                        },
                        "type": "bar"
                      }
                    ],
                    "barpolar": [
                      {
                        "marker": {
                          "line": {
                            "color": "#E5ECF6",
                            "width": 0.5
                          }
                        },
                        "type": "barpolar"
                      }
                    ],
                    "carpet": [
                      {
                        "aaxis": {
                          "endlinecolor": "#2a3f5f",
                          "gridcolor": "white",
                          "linecolor": "white",
                          "minorgridcolor": "white",
                          "startlinecolor": "#2a3f5f"
                        },
                        "baxis": {
                          "endlinecolor": "#2a3f5f",
                          "gridcolor": "white",
                          "linecolor": "white",
                          "minorgridcolor": "white",
                          "startlinecolor": "#2a3f5f"
                        },
                        "type": "carpet"
                      }
                    ],
                    "choropleth": [
                      {
                        "colorbar": {
                          "outlinewidth": 0,
                          "ticks": ""
                        },
                        "type": "choropleth"
                      }
                    ],
                    "contour": [
                      {
                        "colorbar": {
                          "outlinewidth": 0,
                          "ticks": ""
                        },
                        "colorscale": [
                          [
                            0,
                            "#0d0887"
                          ],
                          [
                            0.1111111111111111,
                            "#46039f"
                          ],
                          [
                            0.2222222222222222,
                            "#7201a8"
                          ],
                          [
                            0.3333333333333333,
                            "#9c179e"
                          ],
                          [
                            0.4444444444444444,
                            "#bd3786"
                          ],
                          [
                            0.5555555555555556,
                            "#d8576b"
                          ],
                          [
                            0.6666666666666666,
                            "#ed7953"
                          ],
                          [
                            0.7777777777777778,
                            "#fb9f3a"
                          ],
                          [
                            0.8888888888888888,
                            "#fdca26"
                          ],
                          [
                            1,
                            "#f0f921"
                          ]
                        ],
                        "type": "contour"
                      }
                    ],
                    "contourcarpet": [
                      {
                        "colorbar": {
                          "outlinewidth": 0,
                          "ticks": ""
                        },
                        "type": "contourcarpet"
                      }
                    ],
                    "heatmap": [
                      {
                        "colorbar": {
                          "outlinewidth": 0,
                          "ticks": ""
                        },
                        "colorscale": [
                          [
                            0,
                            "#0d0887"
                          ],
                          [
                            0.1111111111111111,
                            "#46039f"
                          ],
                          [
                            0.2222222222222222,
                            "#7201a8"
                          ],
                          [
                            0.3333333333333333,
                            "#9c179e"
                          ],
                          [
                            0.4444444444444444,
                            "#bd3786"
                          ],
                          [
                            0.5555555555555556,
                            "#d8576b"
                          ],
                          [
                            0.6666666666666666,
                            "#ed7953"
                          ],
                          [
                            0.7777777777777778,
                            "#fb9f3a"
                          ],
                          [
                            0.8888888888888888,
                            "#fdca26"
                          ],
                          [
                            1,
                            "#f0f921"
                          ]
                        ],
                        "type": "heatmap"
                      }
                    ],
                    "heatmapgl": [
                      {
                        "colorbar": {
                          "outlinewidth": 0,
                          "ticks": ""
                        },
                        "colorscale": [
                          [
                            0,
                            "#0d0887"
                          ],
                          [
                            0.1111111111111111,
                            "#46039f"
                          ],
                          [
                            0.2222222222222222,
                            "#7201a8"
                          ],
                          [
                            0.3333333333333333,
                            "#9c179e"
                          ],
                          [
                            0.4444444444444444,
                            "#bd3786"
                          ],
                          [
                            0.5555555555555556,
                            "#d8576b"
                          ],
                          [
                            0.6666666666666666,
                            "#ed7953"
                          ],
                          [
                            0.7777777777777778,
                            "#fb9f3a"
                          ],
                          [
                            0.8888888888888888,
                            "#fdca26"
                          ],
                          [
                            1,
                            "#f0f921"
                          ]
                        ],
                        "type": "heatmapgl"
                      }
                    ],
                    "histogram": [
                      {
                        "marker": {
                          "colorbar": {
                            "outlinewidth": 0,
                            "ticks": ""
                          }
                        },
                        "type": "histogram"
                      }
                    ],
                    "histogram2d": [
                      {
                        "colorbar": {
                          "outlinewidth": 0,
                          "ticks": ""
                        },
                        "colorscale": [
                          [
                            0,
                            "#0d0887"
                          ],
                          [
                            0.1111111111111111,
                            "#46039f"
                          ],
                          [
                            0.2222222222222222,
                            "#7201a8"
                          ],
                          [
                            0.3333333333333333,
                            "#9c179e"
                          ],
                          [
                            0.4444444444444444,
                            "#bd3786"
                          ],
                          [
                            0.5555555555555556,
                            "#d8576b"
                          ],
                          [
                            0.6666666666666666,
                            "#ed7953"
                          ],
                          [
                            0.7777777777777778,
                            "#fb9f3a"
                          ],
                          [
                            0.8888888888888888,
                            "#fdca26"
                          ],
                          [
                            1,
                            "#f0f921"
                          ]
                        ],
                        "type": "histogram2d"
                      }
                    ],
                    "histogram2dcontour": [
                      {
                        "colorbar": {
                          "outlinewidth": 0,
                          "ticks": ""
                        },
                        "colorscale": [
                          [
                            0,
                            "#0d0887"
                          ],
                          [
                            0.1111111111111111,
                            "#46039f"
                          ],
                          [
                            0.2222222222222222,
                            "#7201a8"
                          ],
                          [
                            0.3333333333333333,
                            "#9c179e"
                          ],
                          [
                            0.4444444444444444,
                            "#bd3786"
                          ],
                          [
                            0.5555555555555556,
                            "#d8576b"
                          ],
                          [
                            0.6666666666666666,
                            "#ed7953"
                          ],
                          [
                            0.7777777777777778,
                            "#fb9f3a"
                          ],
                          [
                            0.8888888888888888,
                            "#fdca26"
                          ],
                          [
                            1,
                            "#f0f921"
                          ]
                        ],
                        "type": "histogram2dcontour"
                      }
                    ],
                    "mesh3d": [
                      {
                        "colorbar": {
                          "outlinewidth": 0,
                          "ticks": ""
                        },
                        "type": "mesh3d"
                      }
                    ],
                    "parcoords": [
                      {
                        "line": {
                          "colorbar": {
                            "outlinewidth": 0,
                            "ticks": ""
                          }
                        },
                        "type": "parcoords"
                      }
                    ],
                    "pie": [
                      {
                        "automargin": true,
                        "type": "pie"
                      }
                    ],
                    "scatter": [
                      {
                        "marker": {
                          "colorbar": {
                            "outlinewidth": 0,
                            "ticks": ""
                          }
                        },
                        "type": "scatter"
                      }
                    ],
                    "scatter3d": [
                      {
                        "line": {
                          "colorbar": {
                            "outlinewidth": 0,
                            "ticks": ""
                          }
                        },
                        "marker": {
                          "colorbar": {
                            "outlinewidth": 0,
                            "ticks": ""
                          }
                        },
                        "type": "scatter3d"
                      }
                    ],
                    "scattercarpet": [
                      {
                        "marker": {
                          "colorbar": {
                            "outlinewidth": 0,
                            "ticks": ""
                          }
                        },
                        "type": "scattercarpet"
                      }
                    ],
                    "scattergeo": [
                      {
                        "marker": {
                          "colorbar": {
                            "outlinewidth": 0,
                            "ticks": ""
                          }
                        },
                        "type": "scattergeo"
                      }
                    ],
                    "scattergl": [
                      {
                        "marker": {
                          "colorbar": {
                            "outlinewidth": 0,
                            "ticks": ""
                          }
                        },
                        "type": "scattergl"
                      }
                    ],
                    "scattermapbox": [
                      {
                        "marker": {
                          "colorbar": {
                            "outlinewidth": 0,
                            "ticks": ""
                          }
                        },
                        "type": "scattermapbox"
                      }
                    ],
                    "scatterpolar": [
                      {
                        "marker": {
                          "colorbar": {
                            "outlinewidth": 0,
                            "ticks": ""
                          }
                        },
                        "type": "scatterpolar"
                      }
                    ],
                    "scatterpolargl": [
                      {
                        "marker": {
                          "colorbar": {
                            "outlinewidth": 0,
                            "ticks": ""
                          }
                        },
                        "type": "scatterpolargl"
                      }
                    ],
                    "scatterternary": [
                      {
                        "marker": {
                          "colorbar": {
                            "outlinewidth": 0,
                            "ticks": ""
                          }
                        },
                        "type": "scatterternary"
                      }
                    ],
                    "surface": [
                      {
                        "colorbar": {
                          "outlinewidth": 0,
                          "ticks": ""
                        },
                        "colorscale": [
                          [
                            0,
                            "#0d0887"
                          ],
                          [
                            0.1111111111111111,
                            "#46039f"
                          ],
                          [
                            0.2222222222222222,
                            "#7201a8"
                          ],
                          [
                            0.3333333333333333,
                            "#9c179e"
                          ],
                          [
                            0.4444444444444444,
                            "#bd3786"
                          ],
                          [
                            0.5555555555555556,
                            "#d8576b"
                          ],
                          [
                            0.6666666666666666,
                            "#ed7953"
                          ],
                          [
                            0.7777777777777778,
                            "#fb9f3a"
                          ],
                          [
                            0.8888888888888888,
                            "#fdca26"
                          ],
                          [
                            1,
                            "#f0f921"
                          ]
                        ],
                        "type": "surface"
                      }
                    ],
                    "table": [
                      {
                        "cells": {
                          "fill": {
                            "color": "#EBF0F8"
                          },
                          "line": {
                            "color": "white"
                          }
                        },
                        "header": {
                          "fill": {
                            "color": "#C8D4E3"
                          },
                          "line": {
                            "color": "white"
                          }
                        },
                        "type": "table"
                      }
                    ]
                  },
                  "layout": {
                    "annotationdefaults": {
                      "arrowcolor": "#2a3f5f",
                      "arrowhead": 0,
                      "arrowwidth": 1
                    },
                    "coloraxis": {
                      "colorbar": {
                        "outlinewidth": 0,
                        "ticks": ""
                      }
                    },
                    "colorscale": {
                      "diverging": [
                        [
                          0,
                          "#8e0152"
                        ],
                        [
                          0.1,
                          "#c51b7d"
                        ],
                        [
                          0.2,
                          "#de77ae"
                        ],
                        [
                          0.3,
                          "#f1b6da"
                        ],
                        [
                          0.4,
                          "#fde0ef"
                        ],
                        [
                          0.5,
                          "#f7f7f7"
                        ],
                        [
                          0.6,
                          "#e6f5d0"
                        ],
                        [
                          0.7,
                          "#b8e186"
                        ],
                        [
                          0.8,
                          "#7fbc41"
                        ],
                        [
                          0.9,
                          "#4d9221"
                        ],
                        [
                          1,
                          "#276419"
                        ]
                      ],
                      "sequential": [
                        [
                          0,
                          "#0d0887"
                        ],
                        [
                          0.1111111111111111,
                          "#46039f"
                        ],
                        [
                          0.2222222222222222,
                          "#7201a8"
                        ],
                        [
                          0.3333333333333333,
                          "#9c179e"
                        ],
                        [
                          0.4444444444444444,
                          "#bd3786"
                        ],
                        [
                          0.5555555555555556,
                          "#d8576b"
                        ],
                        [
                          0.6666666666666666,
                          "#ed7953"
                        ],
                        [
                          0.7777777777777778,
                          "#fb9f3a"
                        ],
                        [
                          0.8888888888888888,
                          "#fdca26"
                        ],
                        [
                          1,
                          "#f0f921"
                        ]
                      ],
                      "sequentialminus": [
                        [
                          0,
                          "#0d0887"
                        ],
                        [
                          0.1111111111111111,
                          "#46039f"
                        ],
                        [
                          0.2222222222222222,
                          "#7201a8"
                        ],
                        [
                          0.3333333333333333,
                          "#9c179e"
                        ],
                        [
                          0.4444444444444444,
                          "#bd3786"
                        ],
                        [
                          0.5555555555555556,
                          "#d8576b"
                        ],
                        [
                          0.6666666666666666,
                          "#ed7953"
                        ],
                        [
                          0.7777777777777778,
                          "#fb9f3a"
                        ],
                        [
                          0.8888888888888888,
                          "#fdca26"
                        ],
                        [
                          1,
                          "#f0f921"
                        ]
                      ]
                    },
                    "colorway": [
                      "#636efa",
                      "#EF553B",
                      "#00cc96",
                      "#ab63fa",
                      "#FFA15A",
                      "#19d3f3",
                      "#FF6692",
                      "#B6E880",
                      "#FF97FF",
                      "#FECB52"
                    ],
                    "font": {
                      "color": "#2a3f5f"
                    },
                    "geo": {
                      "bgcolor": "white",
                      "lakecolor": "white",
                      "landcolor": "#E5ECF6",
                      "showlakes": true,
                      "showland": true,
                      "subunitcolor": "white"
                    },
                    "hoverlabel": {
                      "align": "left"
                    },
                    "hovermode": "closest",
                    "mapbox": {
                      "style": "light"
                    },
                    "paper_bgcolor": "white",
                    "plot_bgcolor": "#E5ECF6",
                    "polar": {
                      "angularaxis": {
                        "gridcolor": "white",
                        "linecolor": "white",
                        "ticks": ""
                      },
                      "bgcolor": "#E5ECF6",
                      "radialaxis": {
                        "gridcolor": "white",
                        "linecolor": "white",
                        "ticks": ""
                      }
                    },
                    "scene": {
                      "xaxis": {
                        "backgroundcolor": "#E5ECF6",
                        "gridcolor": "white",
                        "gridwidth": 2,
                        "linecolor": "white",
                        "showbackground": true,
                        "ticks": "",
                        "zerolinecolor": "white"
                      },
                      "yaxis": {
                        "backgroundcolor": "#E5ECF6",
                        "gridcolor": "white",
                        "gridwidth": 2,
                        "linecolor": "white",
                        "showbackground": true,
                        "ticks": "",
                        "zerolinecolor": "white"
                      },
                      "zaxis": {
                        "backgroundcolor": "#E5ECF6",
                        "gridcolor": "white",
                        "gridwidth": 2,
                        "linecolor": "white",
                        "showbackground": true,
                        "ticks": "",
                        "zerolinecolor": "white"
                      }
                    },
                    "shapedefaults": {
                      "line": {
                        "color": "#2a3f5f"
                      }
                    },
                    "ternary": {
                      "aaxis": {
                        "gridcolor": "white",
                        "linecolor": "white",
                        "ticks": ""
                      },
                      "baxis": {
                        "gridcolor": "white",
                        "linecolor": "white",
                        "ticks": ""
                      },
                      "bgcolor": "#E5ECF6",
                      "caxis": {
                        "gridcolor": "white",
                        "linecolor": "white",
                        "ticks": ""
                      }
                    },
                    "title": {
                      "x": 0.05
                    },
                    "xaxis": {
                      "automargin": true,
                      "gridcolor": "white",
                      "linecolor": "white",
                      "ticks": "",
                      "title": {
                        "standoff": 15
                      },
                      "zerolinecolor": "white",
                      "zerolinewidth": 2
                    },
                    "yaxis": {
                      "automargin": true,
                      "gridcolor": "white",
                      "linecolor": "white",
                      "ticks": "",
                      "title": {
                        "standoff": 15
                      },
                      "zerolinecolor": "white",
                      "zerolinewidth": 2
                    }
                  }
                },
                "title": {
                  "text": "Optimization History Plot"
                },
                "xaxis": {
                  "title": {
                    "text": "#Trials"
                  }
                },
                "yaxis": {
                  "title": {
                    "text": "Objective Value"
                  }
                }
              }
            }
          },
          "metadata": {}
        }
      ],
      "source": [
        "model.plot_opt_history()"
      ]
    },
    {
      "cell_type": "code",
      "execution_count": 64,
      "metadata": {},
      "outputs": [
        {
          "output_type": "execute_result",
          "data": {
            "text/plain": [
              "{'random_seed': 42,\n",
              " 'num_iterations': 300,\n",
              " 'verbose': -1,\n",
              " 'device_type': 'cpu',\n",
              " 'objective': 'regression',\n",
              " 'num_leaves': 9,\n",
              " 'min_child_samples': 25}"
            ]
          },
          "metadata": {},
          "execution_count": 64
        }
      ],
      "source": [
        "model.model_param"
      ]
    },
    {
      "cell_type": "code",
      "execution_count": 73,
      "metadata": {},
      "outputs": [
        {
          "output_type": "stream",
          "name": "stdout",
          "text": [
            "Test MSE:  0.0997\n"
          ]
        }
      ],
      "source": [
        "model.fit(X_train, y_train)\n",
        "predicts = model.predict(X_test)\n",
        "print('Test MSE: ', round(sklearn.metrics.mean_squared_error(y_test, predicts),4))"
      ]
    },
    {
      "cell_type": "markdown",
      "metadata": {
        "id": "UyDu6ufSbV6G",
        "colab_type": "text"
      },
      "source": [
        "# Advanced Use"
      ]
    },
    {
      "cell_type": "code",
      "execution_count": 89,
      "metadata": {},
      "outputs": [
        {
          "output_type": "execute_result",
          "data": {
            "text/plain": [
              "  age         workclass    fnlwgt  education  education-num  \\\n",
              "0   2         State-gov   77516.0  Bachelors           13.0   \n",
              "1   3  Self-emp-not-inc   83311.0  Bachelors           13.0   \n",
              "2   2           Private  215646.0    HS-grad            9.0   \n",
              "3   3           Private  234721.0       11th            7.0   \n",
              "4   1           Private  338409.0  Bachelors           13.0   \n",
              "\n",
              "       marital-status         occupation   relationship   race     sex  \\\n",
              "0       Never-married       Adm-clerical  Not-in-family  White    Male   \n",
              "1  Married-civ-spouse    Exec-managerial        Husband  White    Male   \n",
              "2            Divorced  Handlers-cleaners  Not-in-family  White    Male   \n",
              "3  Married-civ-spouse  Handlers-cleaners        Husband  Black    Male   \n",
              "4  Married-civ-spouse     Prof-specialty           Wife  Black  Female   \n",
              "\n",
              "  capitalgain capitalloss hoursperweek native-country  \n",
              "0           1           0            2  United-States  \n",
              "1           0           0            0  United-States  \n",
              "2           0           0            2  United-States  \n",
              "3           0           0            2  United-States  \n",
              "4           0           0            2           Cuba  "
            ],
            "text/html": "<div>\n<style scoped>\n    .dataframe tbody tr th:only-of-type {\n        vertical-align: middle;\n    }\n\n    .dataframe tbody tr th {\n        vertical-align: top;\n    }\n\n    .dataframe thead th {\n        text-align: right;\n    }\n</style>\n<table border=\"1\" class=\"dataframe\">\n  <thead>\n    <tr style=\"text-align: right;\">\n      <th></th>\n      <th>age</th>\n      <th>workclass</th>\n      <th>fnlwgt</th>\n      <th>education</th>\n      <th>education-num</th>\n      <th>marital-status</th>\n      <th>occupation</th>\n      <th>relationship</th>\n      <th>race</th>\n      <th>sex</th>\n      <th>capitalgain</th>\n      <th>capitalloss</th>\n      <th>hoursperweek</th>\n      <th>native-country</th>\n    </tr>\n  </thead>\n  <tbody>\n    <tr>\n      <th>0</th>\n      <td>2</td>\n      <td>State-gov</td>\n      <td>77516.0</td>\n      <td>Bachelors</td>\n      <td>13.0</td>\n      <td>Never-married</td>\n      <td>Adm-clerical</td>\n      <td>Not-in-family</td>\n      <td>White</td>\n      <td>Male</td>\n      <td>1</td>\n      <td>0</td>\n      <td>2</td>\n      <td>United-States</td>\n    </tr>\n    <tr>\n      <th>1</th>\n      <td>3</td>\n      <td>Self-emp-not-inc</td>\n      <td>83311.0</td>\n      <td>Bachelors</td>\n      <td>13.0</td>\n      <td>Married-civ-spouse</td>\n      <td>Exec-managerial</td>\n      <td>Husband</td>\n      <td>White</td>\n      <td>Male</td>\n      <td>0</td>\n      <td>0</td>\n      <td>0</td>\n      <td>United-States</td>\n    </tr>\n    <tr>\n      <th>2</th>\n      <td>2</td>\n      <td>Private</td>\n      <td>215646.0</td>\n      <td>HS-grad</td>\n      <td>9.0</td>\n      <td>Divorced</td>\n      <td>Handlers-cleaners</td>\n      <td>Not-in-family</td>\n      <td>White</td>\n      <td>Male</td>\n      <td>0</td>\n      <td>0</td>\n      <td>2</td>\n      <td>United-States</td>\n    </tr>\n    <tr>\n      <th>3</th>\n      <td>3</td>\n      <td>Private</td>\n      <td>234721.0</td>\n      <td>11th</td>\n      <td>7.0</td>\n      <td>Married-civ-spouse</td>\n      <td>Handlers-cleaners</td>\n      <td>Husband</td>\n      <td>Black</td>\n      <td>Male</td>\n      <td>0</td>\n      <td>0</td>\n      <td>2</td>\n      <td>United-States</td>\n    </tr>\n    <tr>\n      <th>4</th>\n      <td>1</td>\n      <td>Private</td>\n      <td>338409.0</td>\n      <td>Bachelors</td>\n      <td>13.0</td>\n      <td>Married-civ-spouse</td>\n      <td>Prof-specialty</td>\n      <td>Wife</td>\n      <td>Black</td>\n      <td>Female</td>\n      <td>0</td>\n      <td>0</td>\n      <td>2</td>\n      <td>Cuba</td>\n    </tr>\n  </tbody>\n</table>\n</div>"
          },
          "metadata": {},
          "execution_count": 89
        }
      ],
      "source": [
        "dataset = fetch_openml(name='adult', version=1, as_frame=True)\n",
        "# convert target to binary\n",
        "dataset.target = dataset.target.astype('category').cat.codes\n",
        "dataset.data.head(5)"
      ]
    },
    {
      "cell_type": "code",
      "execution_count": 90,
      "metadata": {},
      "outputs": [
        {
          "output_type": "execute_result",
          "data": {
            "text/plain": [
              "((39073, 14), (9769, 14))"
            ]
          },
          "metadata": {},
          "execution_count": 90
        }
      ],
      "source": [
        "X_train, X_test, y_train, y_test = train_test_split(dataset.data, \n",
        "                                                    dataset.target,\n",
        "                                                    test_size=0.2, \n",
        "                                                    random_state=RANDOM_SEED,)\n",
        "X_train.shape, X_test.shape"
      ]
    },
    {
      "cell_type": "code",
      "execution_count": 91,
      "metadata": {},
      "outputs": [
        {
          "output_type": "stream",
          "name": "stderr",
          "text": [
            "23:34:33 | Source data shape: (39073, 14)\n",
            "23:34:33 | ##################################################\n",
            "23:34:33 | ! START preprocessing Data\n",
            "23:34:33 | - Auto detect cat features: 12\n",
            "23:34:33 | > Binary Features\n",
            "23:34:33 | > Clean Categorical Features\n",
            "23:34:33 | > Transform Categorical Features.\n",
            "23:34:34 |  - Encoder: HelmertEncoder ADD features: 123\n",
            "23:34:34 |  - Encoder: CountEncoder ADD features: 12\n",
            "23:34:34 | > CleanOutliers\n",
            "23:34:34 | Num of outlier detected: 560 in Feature fnlwgt\n",
            "23:34:34 | Proportion of outlier detected: 1.4 %\n",
            "23:34:34 | Num of outlier detected: 253 in Feature education-num\n",
            "23:34:34 | Proportion of outlier detected: 0.6 %\n",
            "23:34:34 |   No nans features\n",
            "23:34:34 | > Generate interaction Num Features\n",
            "23:34:34 |  ADD features: 5\n",
            "23:34:35 | > Normalization Features\n",
            "23:34:35 | ##################################################\n",
            "23:34:35 | Final data shape: (39073, 156)\n",
            "23:34:35 | Total ADD columns: 142\n",
            "23:34:35 | ##################################################\n",
            "23:34:35 | ##################################################\n",
            "23:34:35 | ! Start Transform Data\n",
            "23:34:35 | > Clean Binary Features\n",
            "23:34:35 | > Clean Categorical Features\n",
            "23:34:35 | > Transform Categorical Features.\n",
            "23:34:35 |  - Encoder: HelmertEncoder ADD features: 123\n",
            "23:34:35 |  - Encoder: CountEncoder ADD features: 12\n",
            "23:34:35 | > Generate interaction Num Features\n",
            "23:34:35 |  ADD features: 5\n",
            "23:34:35 | > Normalization Features\n",
            "23:34:36 | ##################################################\n",
            "23:34:36 | Final data shape: (9769, 156)\n",
            "23:34:36 | Total ADD columns: 142\n",
            "23:34:36 | ##################################################\n"
          ]
        }
      ],
      "source": [
        "de = DataPrepare(random_state=RANDOM_SEED)\n",
        "X_train = de.fit_transform(X_train)\n",
        "X_test = de.transform(X_test)"
      ]
    },
    {
      "cell_type": "code",
      "execution_count": 95,
      "metadata": {},
      "outputs": [
        {
          "output_type": "stream",
          "name": "stdout",
          "text": [
            "Test metric:  4.9569\n"
          ]
        }
      ],
      "source": [
        "model = LightGBMClassifier(random_state=RANDOM_SEED)\n",
        "model.fit(X_train, y_train)\n",
        "predicts = model.predict(X_test)\n",
        "print('Test metric: ', round(sklearn.metrics.log_loss(y_test, predicts),4))"
      ]
    },
    {
      "cell_type": "markdown",
      "metadata": {},
      "source": [
        "## Advanced opt"
      ]
    },
    {
      "cell_type": "code",
      "metadata": {
        "ExecuteTime": {
          "end_time": "2020-05-07T08:52:14.362888Z",
          "start_time": "2020-05-07T08:42:07.420500Z"
        },
        "id": "7GMuIW6UbV6J",
        "colab_type": "code",
        "colab": {
          "base_uri": "https://localhost:8080/",
          "height": 187
        },
        "outputId": "ca594d1b-bd4b-42cf-ff1a-6444add1ae92",
        "tags": []
      },
      "source": [
        "history = model.opt(\n",
        "            X_train, y_train,\n",
        "            metric=sklearn.metrics.log_loss, # log_loss\n",
        "            timeout=600, # sec\n",
        "            auto_parameters=False, # try to set the rules ourselves\n",
        "            folds=10,\n",
        "            score_folds=3, # put 3 folds\n",
        "            cold_start=50, # I plan > 200 iterations. 50 iterations are enough to evaluate the space\n",
        "            opt_lvl=3,\n",
        "            early_stoping=100, # stop otimization if no better parameters are found through iterations\n",
        "            verbose=3,)"
      ],
      "execution_count": 96,
      "outputs": [
        {
          "output_type": "stream",
          "name": "stderr",
          "text": [
            "23:39:07 | ##################################################\n",
            "23:39:08 | > Step 1: calc parameters and pruned score: get test 10 trials\n",
            "23:47:16 |  One iteration ~ 48.8 sec\n",
            "23:47:16 |  Possible iters ~ 12.0\n",
            "23:47:16 | ! Not enough time to find the optimal parameters. \n",
            "                     Possible iters < 100. \n",
            "                     Please, Increase the 'timeout' parameter for normal optimization.\n",
            "23:47:16 | --------------------------------------------------\n",
            "23:47:16 |   Pruned Threshold Score: 0.3186\n",
            "23:47:16 | ##################################################\n",
            "23:47:16 | > Step 2: Full opt with Threshold Score Pruner\n",
            "23:47:16 | ##################################################\n",
            "23:47:16 | > Start optimization with the parameters:\n",
            "23:47:16 | CV_Folds = 10\n",
            "23:47:16 | Score_CV_Folds = 3\n",
            "23:47:16 | Feature_Selection = False\n",
            "23:47:16 | Opt_lvl = 3\n",
            "23:47:16 | Cold_start = 50\n",
            "23:47:16 | Early_stoping = 100\n",
            "23:47:16 | Metric = log_loss\n",
            "23:47:16 | Direction = minimize\n",
            "23:47:16 | ##################################################\n",
            "Optimize: : 11it [10:21, 56.53s/it, | Model: LightGBM | OptScore: 0.3155 | Best log_loss: 0.313 ]\n",
            "23:57:38 | > Finish Opt!\n",
            "Finished loading model, total used 900 iterations\n",
            "Finished loading model, total used 900 iterations\n",
            "Finished loading model, total used 900 iterations\n",
            "Finished loading model, total used 900 iterations\n",
            "Finished loading model, total used 900 iterations\n",
            "Finished loading model, total used 900 iterations\n",
            "Finished loading model, total used 900 iterations\n",
            "Finished loading model, total used 900 iterations\n",
            "Finished loading model, total used 900 iterations\n",
            "Finished loading model, total used 900 iterations\n",
            "00:00:42 | Best Score: 0.313 log_loss\n"
          ]
        }
      ]
    },
    {
      "cell_type": "code",
      "metadata": {
        "ExecuteTime": {
          "end_time": "2020-05-07T08:52:50.083150Z",
          "start_time": "2020-05-07T08:52:14.366249Z"
        },
        "id": "H0SxAZPbbV6L",
        "colab_type": "code",
        "colab": {
          "base_uri": "https://localhost:8080/",
          "height": 51
        },
        "outputId": "23308887-3710-4f7b-feb8-7b7b65e29716",
        "tags": []
      },
      "source": [
        "model.fit(X_train, y_train)\n",
        "predicts = model.predict(X_test)\n",
        "print('Test metric: ', round(sklearn.metrics.log_loss(y_test, predicts),4))"
      ],
      "execution_count": 97,
      "outputs": [
        {
          "output_type": "stream",
          "name": "stdout",
          "text": [
            "Test metric:  4.9569\n"
          ]
        }
      ]
    },
    {
      "cell_type": "code",
      "metadata": {
        "id": "m52jjJJlbV6M",
        "colab_type": "code",
        "colab": {
          "base_uri": "https://localhost:8080/",
          "height": 350
        },
        "outputId": "6c08ebd5-ef2a-4b24-aecb-1f3dce418918"
      },
      "source": [
        "model.plot_opt_history()"
      ],
      "execution_count": 98,
      "outputs": [
        {
          "output_type": "display_data",
          "data": {
            "application/vnd.plotly.v1+json": {
              "config": {
                "plotlyServerURL": "https://plot.ly"
              },
              "data": [
                {
                  "mode": "markers",
                  "name": "Objective Value",
                  "type": "scatter",
                  "x": [
                    0,
                    1,
                    2,
                    3,
                    4,
                    5,
                    6,
                    7,
                    8,
                    9,
                    11,
                    12,
                    14,
                    15,
                    16,
                    17,
                    18,
                    19,
                    20,
                    21,
                    22
                  ],
                  "y": [
                    0.3303,
                    0.3472,
                    0.3133,
                    0.3178,
                    0.3174,
                    0.5047,
                    0.318,
                    0.3192,
                    0.3193,
                    0.3148,
                    0.3224,
                    0.3174,
                    0.3138,
                    0.3133,
                    0.313,
                    0.3156,
                    0.3323,
                    0.3267,
                    0.3279,
                    0.3356,
                    0.3155
                  ]
                },
                {
                  "name": "Best Value",
                  "type": "scatter",
                  "x": [
                    0,
                    1,
                    2,
                    3,
                    4,
                    5,
                    6,
                    7,
                    8,
                    9,
                    11,
                    12,
                    14,
                    15,
                    16,
                    17,
                    18,
                    19,
                    20,
                    21,
                    22
                  ],
                  "y": [
                    0.3303,
                    0.3303,
                    0.3133,
                    0.3133,
                    0.3133,
                    0.3133,
                    0.3133,
                    0.3133,
                    0.3133,
                    0.3133,
                    0.3133,
                    0.3133,
                    0.3133,
                    0.3133,
                    0.313,
                    0.313,
                    0.313,
                    0.313,
                    0.313,
                    0.313,
                    0.313
                  ]
                }
              ],
              "layout": {
                "template": {
                  "data": {
                    "bar": [
                      {
                        "error_x": {
                          "color": "#2a3f5f"
                        },
                        "error_y": {
                          "color": "#2a3f5f"
                        },
                        "marker": {
                          "line": {
                            "color": "#E5ECF6",
                            "width": 0.5
                          }
                        },
                        "type": "bar"
                      }
                    ],
                    "barpolar": [
                      {
                        "marker": {
                          "line": {
                            "color": "#E5ECF6",
                            "width": 0.5
                          }
                        },
                        "type": "barpolar"
                      }
                    ],
                    "carpet": [
                      {
                        "aaxis": {
                          "endlinecolor": "#2a3f5f",
                          "gridcolor": "white",
                          "linecolor": "white",
                          "minorgridcolor": "white",
                          "startlinecolor": "#2a3f5f"
                        },
                        "baxis": {
                          "endlinecolor": "#2a3f5f",
                          "gridcolor": "white",
                          "linecolor": "white",
                          "minorgridcolor": "white",
                          "startlinecolor": "#2a3f5f"
                        },
                        "type": "carpet"
                      }
                    ],
                    "choropleth": [
                      {
                        "colorbar": {
                          "outlinewidth": 0,
                          "ticks": ""
                        },
                        "type": "choropleth"
                      }
                    ],
                    "contour": [
                      {
                        "colorbar": {
                          "outlinewidth": 0,
                          "ticks": ""
                        },
                        "colorscale": [
                          [
                            0,
                            "#0d0887"
                          ],
                          [
                            0.1111111111111111,
                            "#46039f"
                          ],
                          [
                            0.2222222222222222,
                            "#7201a8"
                          ],
                          [
                            0.3333333333333333,
                            "#9c179e"
                          ],
                          [
                            0.4444444444444444,
                            "#bd3786"
                          ],
                          [
                            0.5555555555555556,
                            "#d8576b"
                          ],
                          [
                            0.6666666666666666,
                            "#ed7953"
                          ],
                          [
                            0.7777777777777778,
                            "#fb9f3a"
                          ],
                          [
                            0.8888888888888888,
                            "#fdca26"
                          ],
                          [
                            1,
                            "#f0f921"
                          ]
                        ],
                        "type": "contour"
                      }
                    ],
                    "contourcarpet": [
                      {
                        "colorbar": {
                          "outlinewidth": 0,
                          "ticks": ""
                        },
                        "type": "contourcarpet"
                      }
                    ],
                    "heatmap": [
                      {
                        "colorbar": {
                          "outlinewidth": 0,
                          "ticks": ""
                        },
                        "colorscale": [
                          [
                            0,
                            "#0d0887"
                          ],
                          [
                            0.1111111111111111,
                            "#46039f"
                          ],
                          [
                            0.2222222222222222,
                            "#7201a8"
                          ],
                          [
                            0.3333333333333333,
                            "#9c179e"
                          ],
                          [
                            0.4444444444444444,
                            "#bd3786"
                          ],
                          [
                            0.5555555555555556,
                            "#d8576b"
                          ],
                          [
                            0.6666666666666666,
                            "#ed7953"
                          ],
                          [
                            0.7777777777777778,
                            "#fb9f3a"
                          ],
                          [
                            0.8888888888888888,
                            "#fdca26"
                          ],
                          [
                            1,
                            "#f0f921"
                          ]
                        ],
                        "type": "heatmap"
                      }
                    ],
                    "heatmapgl": [
                      {
                        "colorbar": {
                          "outlinewidth": 0,
                          "ticks": ""
                        },
                        "colorscale": [
                          [
                            0,
                            "#0d0887"
                          ],
                          [
                            0.1111111111111111,
                            "#46039f"
                          ],
                          [
                            0.2222222222222222,
                            "#7201a8"
                          ],
                          [
                            0.3333333333333333,
                            "#9c179e"
                          ],
                          [
                            0.4444444444444444,
                            "#bd3786"
                          ],
                          [
                            0.5555555555555556,
                            "#d8576b"
                          ],
                          [
                            0.6666666666666666,
                            "#ed7953"
                          ],
                          [
                            0.7777777777777778,
                            "#fb9f3a"
                          ],
                          [
                            0.8888888888888888,
                            "#fdca26"
                          ],
                          [
                            1,
                            "#f0f921"
                          ]
                        ],
                        "type": "heatmapgl"
                      }
                    ],
                    "histogram": [
                      {
                        "marker": {
                          "colorbar": {
                            "outlinewidth": 0,
                            "ticks": ""
                          }
                        },
                        "type": "histogram"
                      }
                    ],
                    "histogram2d": [
                      {
                        "colorbar": {
                          "outlinewidth": 0,
                          "ticks": ""
                        },
                        "colorscale": [
                          [
                            0,
                            "#0d0887"
                          ],
                          [
                            0.1111111111111111,
                            "#46039f"
                          ],
                          [
                            0.2222222222222222,
                            "#7201a8"
                          ],
                          [
                            0.3333333333333333,
                            "#9c179e"
                          ],
                          [
                            0.4444444444444444,
                            "#bd3786"
                          ],
                          [
                            0.5555555555555556,
                            "#d8576b"
                          ],
                          [
                            0.6666666666666666,
                            "#ed7953"
                          ],
                          [
                            0.7777777777777778,
                            "#fb9f3a"
                          ],
                          [
                            0.8888888888888888,
                            "#fdca26"
                          ],
                          [
                            1,
                            "#f0f921"
                          ]
                        ],
                        "type": "histogram2d"
                      }
                    ],
                    "histogram2dcontour": [
                      {
                        "colorbar": {
                          "outlinewidth": 0,
                          "ticks": ""
                        },
                        "colorscale": [
                          [
                            0,
                            "#0d0887"
                          ],
                          [
                            0.1111111111111111,
                            "#46039f"
                          ],
                          [
                            0.2222222222222222,
                            "#7201a8"
                          ],
                          [
                            0.3333333333333333,
                            "#9c179e"
                          ],
                          [
                            0.4444444444444444,
                            "#bd3786"
                          ],
                          [
                            0.5555555555555556,
                            "#d8576b"
                          ],
                          [
                            0.6666666666666666,
                            "#ed7953"
                          ],
                          [
                            0.7777777777777778,
                            "#fb9f3a"
                          ],
                          [
                            0.8888888888888888,
                            "#fdca26"
                          ],
                          [
                            1,
                            "#f0f921"
                          ]
                        ],
                        "type": "histogram2dcontour"
                      }
                    ],
                    "mesh3d": [
                      {
                        "colorbar": {
                          "outlinewidth": 0,
                          "ticks": ""
                        },
                        "type": "mesh3d"
                      }
                    ],
                    "parcoords": [
                      {
                        "line": {
                          "colorbar": {
                            "outlinewidth": 0,
                            "ticks": ""
                          }
                        },
                        "type": "parcoords"
                      }
                    ],
                    "pie": [
                      {
                        "automargin": true,
                        "type": "pie"
                      }
                    ],
                    "scatter": [
                      {
                        "marker": {
                          "colorbar": {
                            "outlinewidth": 0,
                            "ticks": ""
                          }
                        },
                        "type": "scatter"
                      }
                    ],
                    "scatter3d": [
                      {
                        "line": {
                          "colorbar": {
                            "outlinewidth": 0,
                            "ticks": ""
                          }
                        },
                        "marker": {
                          "colorbar": {
                            "outlinewidth": 0,
                            "ticks": ""
                          }
                        },
                        "type": "scatter3d"
                      }
                    ],
                    "scattercarpet": [
                      {
                        "marker": {
                          "colorbar": {
                            "outlinewidth": 0,
                            "ticks": ""
                          }
                        },
                        "type": "scattercarpet"
                      }
                    ],
                    "scattergeo": [
                      {
                        "marker": {
                          "colorbar": {
                            "outlinewidth": 0,
                            "ticks": ""
                          }
                        },
                        "type": "scattergeo"
                      }
                    ],
                    "scattergl": [
                      {
                        "marker": {
                          "colorbar": {
                            "outlinewidth": 0,
                            "ticks": ""
                          }
                        },
                        "type": "scattergl"
                      }
                    ],
                    "scattermapbox": [
                      {
                        "marker": {
                          "colorbar": {
                            "outlinewidth": 0,
                            "ticks": ""
                          }
                        },
                        "type": "scattermapbox"
                      }
                    ],
                    "scatterpolar": [
                      {
                        "marker": {
                          "colorbar": {
                            "outlinewidth": 0,
                            "ticks": ""
                          }
                        },
                        "type": "scatterpolar"
                      }
                    ],
                    "scatterpolargl": [
                      {
                        "marker": {
                          "colorbar": {
                            "outlinewidth": 0,
                            "ticks": ""
                          }
                        },
                        "type": "scatterpolargl"
                      }
                    ],
                    "scatterternary": [
                      {
                        "marker": {
                          "colorbar": {
                            "outlinewidth": 0,
                            "ticks": ""
                          }
                        },
                        "type": "scatterternary"
                      }
                    ],
                    "surface": [
                      {
                        "colorbar": {
                          "outlinewidth": 0,
                          "ticks": ""
                        },
                        "colorscale": [
                          [
                            0,
                            "#0d0887"
                          ],
                          [
                            0.1111111111111111,
                            "#46039f"
                          ],
                          [
                            0.2222222222222222,
                            "#7201a8"
                          ],
                          [
                            0.3333333333333333,
                            "#9c179e"
                          ],
                          [
                            0.4444444444444444,
                            "#bd3786"
                          ],
                          [
                            0.5555555555555556,
                            "#d8576b"
                          ],
                          [
                            0.6666666666666666,
                            "#ed7953"
                          ],
                          [
                            0.7777777777777778,
                            "#fb9f3a"
                          ],
                          [
                            0.8888888888888888,
                            "#fdca26"
                          ],
                          [
                            1,
                            "#f0f921"
                          ]
                        ],
                        "type": "surface"
                      }
                    ],
                    "table": [
                      {
                        "cells": {
                          "fill": {
                            "color": "#EBF0F8"
                          },
                          "line": {
                            "color": "white"
                          }
                        },
                        "header": {
                          "fill": {
                            "color": "#C8D4E3"
                          },
                          "line": {
                            "color": "white"
                          }
                        },
                        "type": "table"
                      }
                    ]
                  },
                  "layout": {
                    "annotationdefaults": {
                      "arrowcolor": "#2a3f5f",
                      "arrowhead": 0,
                      "arrowwidth": 1
                    },
                    "coloraxis": {
                      "colorbar": {
                        "outlinewidth": 0,
                        "ticks": ""
                      }
                    },
                    "colorscale": {
                      "diverging": [
                        [
                          0,
                          "#8e0152"
                        ],
                        [
                          0.1,
                          "#c51b7d"
                        ],
                        [
                          0.2,
                          "#de77ae"
                        ],
                        [
                          0.3,
                          "#f1b6da"
                        ],
                        [
                          0.4,
                          "#fde0ef"
                        ],
                        [
                          0.5,
                          "#f7f7f7"
                        ],
                        [
                          0.6,
                          "#e6f5d0"
                        ],
                        [
                          0.7,
                          "#b8e186"
                        ],
                        [
                          0.8,
                          "#7fbc41"
                        ],
                        [
                          0.9,
                          "#4d9221"
                        ],
                        [
                          1,
                          "#276419"
                        ]
                      ],
                      "sequential": [
                        [
                          0,
                          "#0d0887"
                        ],
                        [
                          0.1111111111111111,
                          "#46039f"
                        ],
                        [
                          0.2222222222222222,
                          "#7201a8"
                        ],
                        [
                          0.3333333333333333,
                          "#9c179e"
                        ],
                        [
                          0.4444444444444444,
                          "#bd3786"
                        ],
                        [
                          0.5555555555555556,
                          "#d8576b"
                        ],
                        [
                          0.6666666666666666,
                          "#ed7953"
                        ],
                        [
                          0.7777777777777778,
                          "#fb9f3a"
                        ],
                        [
                          0.8888888888888888,
                          "#fdca26"
                        ],
                        [
                          1,
                          "#f0f921"
                        ]
                      ],
                      "sequentialminus": [
                        [
                          0,
                          "#0d0887"
                        ],
                        [
                          0.1111111111111111,
                          "#46039f"
                        ],
                        [
                          0.2222222222222222,
                          "#7201a8"
                        ],
                        [
                          0.3333333333333333,
                          "#9c179e"
                        ],
                        [
                          0.4444444444444444,
                          "#bd3786"
                        ],
                        [
                          0.5555555555555556,
                          "#d8576b"
                        ],
                        [
                          0.6666666666666666,
                          "#ed7953"
                        ],
                        [
                          0.7777777777777778,
                          "#fb9f3a"
                        ],
                        [
                          0.8888888888888888,
                          "#fdca26"
                        ],
                        [
                          1,
                          "#f0f921"
                        ]
                      ]
                    },
                    "colorway": [
                      "#636efa",
                      "#EF553B",
                      "#00cc96",
                      "#ab63fa",
                      "#FFA15A",
                      "#19d3f3",
                      "#FF6692",
                      "#B6E880",
                      "#FF97FF",
                      "#FECB52"
                    ],
                    "font": {
                      "color": "#2a3f5f"
                    },
                    "geo": {
                      "bgcolor": "white",
                      "lakecolor": "white",
                      "landcolor": "#E5ECF6",
                      "showlakes": true,
                      "showland": true,
                      "subunitcolor": "white"
                    },
                    "hoverlabel": {
                      "align": "left"
                    },
                    "hovermode": "closest",
                    "mapbox": {
                      "style": "light"
                    },
                    "paper_bgcolor": "white",
                    "plot_bgcolor": "#E5ECF6",
                    "polar": {
                      "angularaxis": {
                        "gridcolor": "white",
                        "linecolor": "white",
                        "ticks": ""
                      },
                      "bgcolor": "#E5ECF6",
                      "radialaxis": {
                        "gridcolor": "white",
                        "linecolor": "white",
                        "ticks": ""
                      }
                    },
                    "scene": {
                      "xaxis": {
                        "backgroundcolor": "#E5ECF6",
                        "gridcolor": "white",
                        "gridwidth": 2,
                        "linecolor": "white",
                        "showbackground": true,
                        "ticks": "",
                        "zerolinecolor": "white"
                      },
                      "yaxis": {
                        "backgroundcolor": "#E5ECF6",
                        "gridcolor": "white",
                        "gridwidth": 2,
                        "linecolor": "white",
                        "showbackground": true,
                        "ticks": "",
                        "zerolinecolor": "white"
                      },
                      "zaxis": {
                        "backgroundcolor": "#E5ECF6",
                        "gridcolor": "white",
                        "gridwidth": 2,
                        "linecolor": "white",
                        "showbackground": true,
                        "ticks": "",
                        "zerolinecolor": "white"
                      }
                    },
                    "shapedefaults": {
                      "line": {
                        "color": "#2a3f5f"
                      }
                    },
                    "ternary": {
                      "aaxis": {
                        "gridcolor": "white",
                        "linecolor": "white",
                        "ticks": ""
                      },
                      "baxis": {
                        "gridcolor": "white",
                        "linecolor": "white",
                        "ticks": ""
                      },
                      "bgcolor": "#E5ECF6",
                      "caxis": {
                        "gridcolor": "white",
                        "linecolor": "white",
                        "ticks": ""
                      }
                    },
                    "title": {
                      "x": 0.05
                    },
                    "xaxis": {
                      "automargin": true,
                      "gridcolor": "white",
                      "linecolor": "white",
                      "ticks": "",
                      "title": {
                        "standoff": 15
                      },
                      "zerolinecolor": "white",
                      "zerolinewidth": 2
                    },
                    "yaxis": {
                      "automargin": true,
                      "gridcolor": "white",
                      "linecolor": "white",
                      "ticks": "",
                      "title": {
                        "standoff": 15
                      },
                      "zerolinecolor": "white",
                      "zerolinewidth": 2
                    }
                  }
                },
                "title": {
                  "text": "Optimization History Plot"
                },
                "xaxis": {
                  "title": {
                    "text": "#Trials"
                  }
                },
                "yaxis": {
                  "title": {
                    "text": "Objective Value"
                  }
                }
              }
            }
          },
          "metadata": {}
        }
      ]
    },
    {
      "cell_type": "code",
      "execution_count": 7,
      "metadata": {},
      "outputs": [
        {
          "output_type": "display_data",
          "data": {
            "application/vnd.plotly.v1+json": {
              "config": {
                "plotlyServerURL": "https://plot.ly"
              },
              "data": [
                {
                  "cliponaxis": false,
                  "hovertemplate": [
                    "lgbm_num_iterations (IntUniformDistribution): 0.04319428169254341<extra></extra>",
                    "lgbm_min_child_samples (IntLogUniformDistribution): 0.06809063035541844<extra></extra>",
                    "lgbm_bagging_fraction (DiscreteUniformDistribution): 0.10001610336821992<extra></extra>",
                    "lgbm_num_leaves (IntLogUniformDistribution): 0.38066928090425545<extra></extra>",
                    "lgbm_learning_rate (LogUniformDistribution): 0.4080297036795628<extra></extra>"
                  ],
                  "marker": {
                    "color": [
                      "rgb(8,81,156)",
                      "rgb(8,81,156)",
                      "rgb(8,48,107)",
                      "rgb(8,81,156)",
                      "rgb(8,48,107)"
                    ]
                  },
                  "orientation": "h",
                  "text": [
                    "0.04319428169254341",
                    "0.06809063035541844",
                    "0.10001610336821992",
                    "0.38066928090425545",
                    "0.4080297036795628"
                  ],
                  "textposition": "outside",
                  "texttemplate": "%{text:.2f}",
                  "type": "bar",
                  "x": [
                    0.04319428169254341,
                    0.06809063035541844,
                    0.10001610336821992,
                    0.38066928090425545,
                    0.4080297036795628
                  ],
                  "y": [
                    "lgbm_num_iterations",
                    "lgbm_min_child_samples",
                    "lgbm_bagging_fraction",
                    "lgbm_num_leaves",
                    "lgbm_learning_rate"
                  ]
                }
              ],
              "layout": {
                "showlegend": false,
                "template": {
                  "data": {
                    "bar": [
                      {
                        "error_x": {
                          "color": "#2a3f5f"
                        },
                        "error_y": {
                          "color": "#2a3f5f"
                        },
                        "marker": {
                          "line": {
                            "color": "#E5ECF6",
                            "width": 0.5
                          }
                        },
                        "type": "bar"
                      }
                    ],
                    "barpolar": [
                      {
                        "marker": {
                          "line": {
                            "color": "#E5ECF6",
                            "width": 0.5
                          }
                        },
                        "type": "barpolar"
                      }
                    ],
                    "carpet": [
                      {
                        "aaxis": {
                          "endlinecolor": "#2a3f5f",
                          "gridcolor": "white",
                          "linecolor": "white",
                          "minorgridcolor": "white",
                          "startlinecolor": "#2a3f5f"
                        },
                        "baxis": {
                          "endlinecolor": "#2a3f5f",
                          "gridcolor": "white",
                          "linecolor": "white",
                          "minorgridcolor": "white",
                          "startlinecolor": "#2a3f5f"
                        },
                        "type": "carpet"
                      }
                    ],
                    "choropleth": [
                      {
                        "colorbar": {
                          "outlinewidth": 0,
                          "ticks": ""
                        },
                        "type": "choropleth"
                      }
                    ],
                    "contour": [
                      {
                        "colorbar": {
                          "outlinewidth": 0,
                          "ticks": ""
                        },
                        "colorscale": [
                          [
                            0,
                            "#0d0887"
                          ],
                          [
                            0.1111111111111111,
                            "#46039f"
                          ],
                          [
                            0.2222222222222222,
                            "#7201a8"
                          ],
                          [
                            0.3333333333333333,
                            "#9c179e"
                          ],
                          [
                            0.4444444444444444,
                            "#bd3786"
                          ],
                          [
                            0.5555555555555556,
                            "#d8576b"
                          ],
                          [
                            0.6666666666666666,
                            "#ed7953"
                          ],
                          [
                            0.7777777777777778,
                            "#fb9f3a"
                          ],
                          [
                            0.8888888888888888,
                            "#fdca26"
                          ],
                          [
                            1,
                            "#f0f921"
                          ]
                        ],
                        "type": "contour"
                      }
                    ],
                    "contourcarpet": [
                      {
                        "colorbar": {
                          "outlinewidth": 0,
                          "ticks": ""
                        },
                        "type": "contourcarpet"
                      }
                    ],
                    "heatmap": [
                      {
                        "colorbar": {
                          "outlinewidth": 0,
                          "ticks": ""
                        },
                        "colorscale": [
                          [
                            0,
                            "#0d0887"
                          ],
                          [
                            0.1111111111111111,
                            "#46039f"
                          ],
                          [
                            0.2222222222222222,
                            "#7201a8"
                          ],
                          [
                            0.3333333333333333,
                            "#9c179e"
                          ],
                          [
                            0.4444444444444444,
                            "#bd3786"
                          ],
                          [
                            0.5555555555555556,
                            "#d8576b"
                          ],
                          [
                            0.6666666666666666,
                            "#ed7953"
                          ],
                          [
                            0.7777777777777778,
                            "#fb9f3a"
                          ],
                          [
                            0.8888888888888888,
                            "#fdca26"
                          ],
                          [
                            1,
                            "#f0f921"
                          ]
                        ],
                        "type": "heatmap"
                      }
                    ],
                    "heatmapgl": [
                      {
                        "colorbar": {
                          "outlinewidth": 0,
                          "ticks": ""
                        },
                        "colorscale": [
                          [
                            0,
                            "#0d0887"
                          ],
                          [
                            0.1111111111111111,
                            "#46039f"
                          ],
                          [
                            0.2222222222222222,
                            "#7201a8"
                          ],
                          [
                            0.3333333333333333,
                            "#9c179e"
                          ],
                          [
                            0.4444444444444444,
                            "#bd3786"
                          ],
                          [
                            0.5555555555555556,
                            "#d8576b"
                          ],
                          [
                            0.6666666666666666,
                            "#ed7953"
                          ],
                          [
                            0.7777777777777778,
                            "#fb9f3a"
                          ],
                          [
                            0.8888888888888888,
                            "#fdca26"
                          ],
                          [
                            1,
                            "#f0f921"
                          ]
                        ],
                        "type": "heatmapgl"
                      }
                    ],
                    "histogram": [
                      {
                        "marker": {
                          "colorbar": {
                            "outlinewidth": 0,
                            "ticks": ""
                          }
                        },
                        "type": "histogram"
                      }
                    ],
                    "histogram2d": [
                      {
                        "colorbar": {
                          "outlinewidth": 0,
                          "ticks": ""
                        },
                        "colorscale": [
                          [
                            0,
                            "#0d0887"
                          ],
                          [
                            0.1111111111111111,
                            "#46039f"
                          ],
                          [
                            0.2222222222222222,
                            "#7201a8"
                          ],
                          [
                            0.3333333333333333,
                            "#9c179e"
                          ],
                          [
                            0.4444444444444444,
                            "#bd3786"
                          ],
                          [
                            0.5555555555555556,
                            "#d8576b"
                          ],
                          [
                            0.6666666666666666,
                            "#ed7953"
                          ],
                          [
                            0.7777777777777778,
                            "#fb9f3a"
                          ],
                          [
                            0.8888888888888888,
                            "#fdca26"
                          ],
                          [
                            1,
                            "#f0f921"
                          ]
                        ],
                        "type": "histogram2d"
                      }
                    ],
                    "histogram2dcontour": [
                      {
                        "colorbar": {
                          "outlinewidth": 0,
                          "ticks": ""
                        },
                        "colorscale": [
                          [
                            0,
                            "#0d0887"
                          ],
                          [
                            0.1111111111111111,
                            "#46039f"
                          ],
                          [
                            0.2222222222222222,
                            "#7201a8"
                          ],
                          [
                            0.3333333333333333,
                            "#9c179e"
                          ],
                          [
                            0.4444444444444444,
                            "#bd3786"
                          ],
                          [
                            0.5555555555555556,
                            "#d8576b"
                          ],
                          [
                            0.6666666666666666,
                            "#ed7953"
                          ],
                          [
                            0.7777777777777778,
                            "#fb9f3a"
                          ],
                          [
                            0.8888888888888888,
                            "#fdca26"
                          ],
                          [
                            1,
                            "#f0f921"
                          ]
                        ],
                        "type": "histogram2dcontour"
                      }
                    ],
                    "mesh3d": [
                      {
                        "colorbar": {
                          "outlinewidth": 0,
                          "ticks": ""
                        },
                        "type": "mesh3d"
                      }
                    ],
                    "parcoords": [
                      {
                        "line": {
                          "colorbar": {
                            "outlinewidth": 0,
                            "ticks": ""
                          }
                        },
                        "type": "parcoords"
                      }
                    ],
                    "pie": [
                      {
                        "automargin": true,
                        "type": "pie"
                      }
                    ],
                    "scatter": [
                      {
                        "marker": {
                          "colorbar": {
                            "outlinewidth": 0,
                            "ticks": ""
                          }
                        },
                        "type": "scatter"
                      }
                    ],
                    "scatter3d": [
                      {
                        "line": {
                          "colorbar": {
                            "outlinewidth": 0,
                            "ticks": ""
                          }
                        },
                        "marker": {
                          "colorbar": {
                            "outlinewidth": 0,
                            "ticks": ""
                          }
                        },
                        "type": "scatter3d"
                      }
                    ],
                    "scattercarpet": [
                      {
                        "marker": {
                          "colorbar": {
                            "outlinewidth": 0,
                            "ticks": ""
                          }
                        },
                        "type": "scattercarpet"
                      }
                    ],
                    "scattergeo": [
                      {
                        "marker": {
                          "colorbar": {
                            "outlinewidth": 0,
                            "ticks": ""
                          }
                        },
                        "type": "scattergeo"
                      }
                    ],
                    "scattergl": [
                      {
                        "marker": {
                          "colorbar": {
                            "outlinewidth": 0,
                            "ticks": ""
                          }
                        },
                        "type": "scattergl"
                      }
                    ],
                    "scattermapbox": [
                      {
                        "marker": {
                          "colorbar": {
                            "outlinewidth": 0,
                            "ticks": ""
                          }
                        },
                        "type": "scattermapbox"
                      }
                    ],
                    "scatterpolar": [
                      {
                        "marker": {
                          "colorbar": {
                            "outlinewidth": 0,
                            "ticks": ""
                          }
                        },
                        "type": "scatterpolar"
                      }
                    ],
                    "scatterpolargl": [
                      {
                        "marker": {
                          "colorbar": {
                            "outlinewidth": 0,
                            "ticks": ""
                          }
                        },
                        "type": "scatterpolargl"
                      }
                    ],
                    "scatterternary": [
                      {
                        "marker": {
                          "colorbar": {
                            "outlinewidth": 0,
                            "ticks": ""
                          }
                        },
                        "type": "scatterternary"
                      }
                    ],
                    "surface": [
                      {
                        "colorbar": {
                          "outlinewidth": 0,
                          "ticks": ""
                        },
                        "colorscale": [
                          [
                            0,
                            "#0d0887"
                          ],
                          [
                            0.1111111111111111,
                            "#46039f"
                          ],
                          [
                            0.2222222222222222,
                            "#7201a8"
                          ],
                          [
                            0.3333333333333333,
                            "#9c179e"
                          ],
                          [
                            0.4444444444444444,
                            "#bd3786"
                          ],
                          [
                            0.5555555555555556,
                            "#d8576b"
                          ],
                          [
                            0.6666666666666666,
                            "#ed7953"
                          ],
                          [
                            0.7777777777777778,
                            "#fb9f3a"
                          ],
                          [
                            0.8888888888888888,
                            "#fdca26"
                          ],
                          [
                            1,
                            "#f0f921"
                          ]
                        ],
                        "type": "surface"
                      }
                    ],
                    "table": [
                      {
                        "cells": {
                          "fill": {
                            "color": "#EBF0F8"
                          },
                          "line": {
                            "color": "white"
                          }
                        },
                        "header": {
                          "fill": {
                            "color": "#C8D4E3"
                          },
                          "line": {
                            "color": "white"
                          }
                        },
                        "type": "table"
                      }
                    ]
                  },
                  "layout": {
                    "annotationdefaults": {
                      "arrowcolor": "#2a3f5f",
                      "arrowhead": 0,
                      "arrowwidth": 1
                    },
                    "coloraxis": {
                      "colorbar": {
                        "outlinewidth": 0,
                        "ticks": ""
                      }
                    },
                    "colorscale": {
                      "diverging": [
                        [
                          0,
                          "#8e0152"
                        ],
                        [
                          0.1,
                          "#c51b7d"
                        ],
                        [
                          0.2,
                          "#de77ae"
                        ],
                        [
                          0.3,
                          "#f1b6da"
                        ],
                        [
                          0.4,
                          "#fde0ef"
                        ],
                        [
                          0.5,
                          "#f7f7f7"
                        ],
                        [
                          0.6,
                          "#e6f5d0"
                        ],
                        [
                          0.7,
                          "#b8e186"
                        ],
                        [
                          0.8,
                          "#7fbc41"
                        ],
                        [
                          0.9,
                          "#4d9221"
                        ],
                        [
                          1,
                          "#276419"
                        ]
                      ],
                      "sequential": [
                        [
                          0,
                          "#0d0887"
                        ],
                        [
                          0.1111111111111111,
                          "#46039f"
                        ],
                        [
                          0.2222222222222222,
                          "#7201a8"
                        ],
                        [
                          0.3333333333333333,
                          "#9c179e"
                        ],
                        [
                          0.4444444444444444,
                          "#bd3786"
                        ],
                        [
                          0.5555555555555556,
                          "#d8576b"
                        ],
                        [
                          0.6666666666666666,
                          "#ed7953"
                        ],
                        [
                          0.7777777777777778,
                          "#fb9f3a"
                        ],
                        [
                          0.8888888888888888,
                          "#fdca26"
                        ],
                        [
                          1,
                          "#f0f921"
                        ]
                      ],
                      "sequentialminus": [
                        [
                          0,
                          "#0d0887"
                        ],
                        [
                          0.1111111111111111,
                          "#46039f"
                        ],
                        [
                          0.2222222222222222,
                          "#7201a8"
                        ],
                        [
                          0.3333333333333333,
                          "#9c179e"
                        ],
                        [
                          0.4444444444444444,
                          "#bd3786"
                        ],
                        [
                          0.5555555555555556,
                          "#d8576b"
                        ],
                        [
                          0.6666666666666666,
                          "#ed7953"
                        ],
                        [
                          0.7777777777777778,
                          "#fb9f3a"
                        ],
                        [
                          0.8888888888888888,
                          "#fdca26"
                        ],
                        [
                          1,
                          "#f0f921"
                        ]
                      ]
                    },
                    "colorway": [
                      "#636efa",
                      "#EF553B",
                      "#00cc96",
                      "#ab63fa",
                      "#FFA15A",
                      "#19d3f3",
                      "#FF6692",
                      "#B6E880",
                      "#FF97FF",
                      "#FECB52"
                    ],
                    "font": {
                      "color": "#2a3f5f"
                    },
                    "geo": {
                      "bgcolor": "white",
                      "lakecolor": "white",
                      "landcolor": "#E5ECF6",
                      "showlakes": true,
                      "showland": true,
                      "subunitcolor": "white"
                    },
                    "hoverlabel": {
                      "align": "left"
                    },
                    "hovermode": "closest",
                    "mapbox": {
                      "style": "light"
                    },
                    "paper_bgcolor": "white",
                    "plot_bgcolor": "#E5ECF6",
                    "polar": {
                      "angularaxis": {
                        "gridcolor": "white",
                        "linecolor": "white",
                        "ticks": ""
                      },
                      "bgcolor": "#E5ECF6",
                      "radialaxis": {
                        "gridcolor": "white",
                        "linecolor": "white",
                        "ticks": ""
                      }
                    },
                    "scene": {
                      "xaxis": {
                        "backgroundcolor": "#E5ECF6",
                        "gridcolor": "white",
                        "gridwidth": 2,
                        "linecolor": "white",
                        "showbackground": true,
                        "ticks": "",
                        "zerolinecolor": "white"
                      },
                      "yaxis": {
                        "backgroundcolor": "#E5ECF6",
                        "gridcolor": "white",
                        "gridwidth": 2,
                        "linecolor": "white",
                        "showbackground": true,
                        "ticks": "",
                        "zerolinecolor": "white"
                      },
                      "zaxis": {
                        "backgroundcolor": "#E5ECF6",
                        "gridcolor": "white",
                        "gridwidth": 2,
                        "linecolor": "white",
                        "showbackground": true,
                        "ticks": "",
                        "zerolinecolor": "white"
                      }
                    },
                    "shapedefaults": {
                      "line": {
                        "color": "#2a3f5f"
                      }
                    },
                    "ternary": {
                      "aaxis": {
                        "gridcolor": "white",
                        "linecolor": "white",
                        "ticks": ""
                      },
                      "baxis": {
                        "gridcolor": "white",
                        "linecolor": "white",
                        "ticks": ""
                      },
                      "bgcolor": "#E5ECF6",
                      "caxis": {
                        "gridcolor": "white",
                        "linecolor": "white",
                        "ticks": ""
                      }
                    },
                    "title": {
                      "x": 0.05
                    },
                    "xaxis": {
                      "automargin": true,
                      "gridcolor": "white",
                      "linecolor": "white",
                      "ticks": "",
                      "title": {
                        "standoff": 15
                      },
                      "zerolinecolor": "white",
                      "zerolinewidth": 2
                    },
                    "yaxis": {
                      "automargin": true,
                      "gridcolor": "white",
                      "linecolor": "white",
                      "ticks": "",
                      "title": {
                        "standoff": 15
                      },
                      "zerolinecolor": "white",
                      "zerolinewidth": 2
                    }
                  }
                },
                "title": {
                  "text": "Hyperparameter Importances"
                },
                "xaxis": {
                  "title": {
                    "text": "Importance for Objective Value"
                  }
                },
                "yaxis": {
                  "title": {
                    "text": "Hyperparameter"
                  }
                }
              }
            }
          },
          "metadata": {}
        }
      ],
      "source": [
        "model.plot_opt_param_importances()"
      ]
    },
    {
      "source": [
        "# Full Save & Load"
      ],
      "cell_type": "markdown",
      "metadata": {}
    },
    {
      "source": [
        "### Save"
      ],
      "cell_type": "markdown",
      "metadata": {}
    },
    {
      "cell_type": "code",
      "execution_count": 108,
      "metadata": {},
      "outputs": [],
      "source": [
        "de.save('de_model_1',)"
      ]
    },
    {
      "cell_type": "code",
      "execution_count": 109,
      "metadata": {},
      "outputs": [],
      "source": [
        "model.save('model_1',)"
      ]
    },
    {
      "cell_type": "code",
      "execution_count": 110,
      "metadata": {},
      "outputs": [
        {
          "output_type": "execute_result",
          "data": {
            "text/plain": [
              "{'random_seed': 42,\n",
              " 'num_iterations': 900,\n",
              " 'verbose': -1,\n",
              " 'device_type': 'cpu',\n",
              " 'objective': 'binary',\n",
              " 'min_child_samples': 14,\n",
              " 'bagging_fraction': 0.6000000000000001,\n",
              " 'feature_fraction': 0.4,\n",
              " 'bagging_freq': 4,\n",
              " 'learning_rate': 0.011128194768838964,\n",
              " 'num_leaves': 11}"
            ]
          },
          "metadata": {},
          "execution_count": 110
        }
      ],
      "source": [
        "model.model_param"
      ]
    },
    {
      "cell_type": "code",
      "execution_count": 6,
      "metadata": {},
      "outputs": [
        {
          "output_type": "stream",
          "name": "stdout",
          "text": [
            "Test metric:  4.9569\n"
          ]
        }
      ],
      "source": [
        "predicts = model.predict(X_test)\n",
        "print('Test metric: ', round(sklearn.metrics.log_loss(y_test, predicts),4))"
      ]
    },
    {
      "source": [
        "### Load\n",
        "you can restart the notebook to start from this place - to make sure"
      ],
      "cell_type": "markdown",
      "metadata": {}
    },
    {
      "cell_type": "code",
      "execution_count": 1,
      "metadata": {},
      "outputs": [
        {
          "output_type": "stream",
          "name": "stdout",
          "text": [
            "1.2.28\n"
          ]
        }
      ],
      "source": [
        "import sklearn\n",
        "import pandas as pd\n",
        "from sklearn.model_selection import train_test_split\n",
        "from sklearn.datasets import fetch_openml\n",
        "\n",
        "import automl_alex\n",
        "from automl_alex import DataPrepare\n",
        "from automl_alex import LightGBM, LightGBMClassifier\n",
        "\n",
        "RANDOM_SEED = 42\n",
        "print(automl_alex.__version__)"
      ]
    },
    {
      "cell_type": "code",
      "execution_count": 2,
      "metadata": {},
      "outputs": [
        {
          "output_type": "stream",
          "name": "stderr",
          "text": [
            "00:12:21 | ##################################################\n",
            "00:12:21 | ! Start Transform Data\n",
            "00:12:21 | > Clean Binary Features\n",
            "00:12:21 | > Clean Categorical Features\n",
            "00:12:21 | > Transform Categorical Features.\n",
            "00:12:21 |  - Encoder: HelmertEncoder ADD features: 123\n",
            "00:12:21 |  - Encoder: CountEncoder ADD features: 12\n",
            "00:12:21 | > Generate interaction Num Features\n",
            "00:12:21 |  ADD features: 5\n",
            "00:12:21 | > Normalization Features\n",
            "00:12:21 | ##################################################\n",
            "00:12:21 | Final data shape: (9769, 156)\n",
            "00:12:21 | Total ADD columns: 142\n",
            "00:12:21 | ##################################################\n"
          ]
        }
      ],
      "source": [
        "dataset = fetch_openml(name='adult', version=1, as_frame=True)\n",
        "dataset.target = dataset.target.astype('category').cat.codes\n",
        "\n",
        "X_train, X_test, y_train, y_test = train_test_split(dataset.data, dataset.target, test_size=0.2, random_state=RANDOM_SEED,)\n",
        "\n",
        "de = DataPrepare(random_state=RANDOM_SEED, verbose=0)\n",
        "de = de.load('de_model_1', )\n",
        "X_test = de.transform(X_test)"
      ]
    },
    {
      "cell_type": "code",
      "execution_count": 3,
      "metadata": {},
      "outputs": [
        {
          "output_type": "stream",
          "name": "stdout",
          "text": [
            "Test metric:  4.9569\n"
          ]
        }
      ],
      "source": [
        "model_new = LightGBMClassifier(random_state=RANDOM_SEED)\n",
        "model_new = model_new.load('model_1',)\n",
        "\n",
        "predicts = model_new.predict(X_test)\n",
        "print('Test metric: ', round(sklearn.metrics.log_loss(y_test, predicts),4))"
      ]
    },
    {
      "cell_type": "code",
      "execution_count": 4,
      "metadata": {},
      "outputs": [
        {
          "output_type": "execute_result",
          "data": {
            "text/plain": [
              "{'random_seed': 42,\n",
              " 'num_iterations': 900,\n",
              " 'verbose': -1,\n",
              " 'device_type': 'cpu',\n",
              " 'objective': 'binary',\n",
              " 'min_child_samples': 14,\n",
              " 'bagging_fraction': 0.6000000000000001,\n",
              " 'feature_fraction': 0.4,\n",
              " 'bagging_freq': 4,\n",
              " 'learning_rate': 0.011128194768838964,\n",
              " 'num_leaves': 11}"
            ]
          },
          "metadata": {},
          "execution_count": 4
        }
      ],
      "source": [
        "model_new.model_param"
      ]
    },
    {
      "cell_type": "code",
      "execution_count": null,
      "metadata": {},
      "outputs": [],
      "source": []
    },
    {
      "cell_type": "code",
      "execution_count": null,
      "metadata": {},
      "outputs": [],
      "source": []
    }
  ],
  "metadata": {
    "kernelspec": {
      "name": "python3",
      "display_name": "Python 3",
      "language": "python"
    },
    "language_info": {
      "codemirror_mode": {
        "name": "ipython",
        "version": 3
      },
      "file_extension": ".py",
      "mimetype": "text/x-python",
      "name": "python",
      "nbconvert_exporter": "python",
      "pygments_lexer": "ipython3",
      "version": "3.8.3-final"
    },
    "toc": {
      "base_numbering": 1,
      "nav_menu": {},
      "number_sections": false,
      "sideBar": true,
      "skip_h1_title": false,
      "title_cell": "Table of Contents",
      "title_sidebar": "Contents",
      "toc_cell": false,
      "toc_position": {
        "height": "calc(100% - 180px)",
        "left": "10px",
        "top": "150px",
        "width": "165px"
      },
      "toc_section_display": true,
      "toc_window_display": true
    },
    "colab": {
      "name": "02. Models v1.ipynb",
      "provenance": [],
      "collapsed_sections": [
        "SvXrBLljbV6F",
        "IbtbRVMebV6F",
        "D9xT9cTgbV6F",
        "apIHobyxbV6F",
        "tl8zhvjVbV6G"
      ]
    }
  },
  "nbformat": 4,
  "nbformat_minor": 0
}