{
  "cells": [
    {
      "cell_type": "code",
      "metadata": {
        "ExecuteTime": {
          "end_time": "2020-05-07T08:40:27.950196Z",
          "start_time": "2020-05-07T08:40:27.947264Z"
        },
        "id": "JWu_N5HFbV4v",
        "colab_type": "code",
        "colab": {
          "base_uri": "https://localhost:8080/",
          "height": 972
        },
        "outputId": "1a501a70-5ec4-49cf-d38e-cfde0567f306"
      },
      "source": [
        "# If you run this notebook on Google Colaboratory, uncomment the below to install automl_alex.\n",
        "#!pip install -U -q automl-alex"
      ],
      "execution_count": 1,
      "outputs": []
    },
    {
      "cell_type": "code",
      "metadata": {
        "ExecuteTime": {
          "end_time": "2020-05-07T08:40:30.084237Z",
          "start_time": "2020-05-07T08:40:28.530481Z"
        },
        "id": "im_z95sdbV46",
        "colab_type": "code",
        "colab": {
          "base_uri": "https://localhost:8080/",
          "height": 34
        },
        "outputId": "d0ed0122-7cfa-4d56-85f3-863b4e92973c",
        "tags": []
      },
      "source": [
        "import sklearn\n",
        "import pandas as pd\n",
        "from sklearn.model_selection import train_test_split\n",
        "from sklearn.datasets import fetch_openml\n",
        "\n",
        "import automl_alex\n",
        "from automl_alex import DataPrepare\n",
        "print(automl_alex.__version__)"
      ],
      "execution_count": 1,
      "outputs": [
        {
          "output_type": "stream",
          "name": "stdout",
          "text": [
            "1.2.25\n"
          ]
        }
      ]
    },
    {
      "cell_type": "code",
      "metadata": {
        "ExecuteTime": {
          "end_time": "2020-05-07T08:40:30.989504Z",
          "start_time": "2020-05-07T08:40:30.985837Z"
        },
        "id": "MLtO5wRAbV5A",
        "colab_type": "code",
        "colab": {}
      },
      "source": [
        "RANDOM_SEED = 42"
      ],
      "execution_count": 2,
      "outputs": []
    },
    {
      "cell_type": "markdown",
      "metadata": {
        "id": "rIom-hsebV5H",
        "colab_type": "text"
      },
      "source": [
        "## Data"
      ]
    },
    {
      "cell_type": "code",
      "metadata": {
        "ExecuteTime": {
          "end_time": "2020-05-07T08:40:43.537111Z",
          "start_time": "2020-05-07T08:40:43.487884Z"
        },
        "id": "N2J9L7o5bV5H",
        "colab_type": "code",
        "colab": {
          "base_uri": "https://localhost:8080/",
          "height": 34
        },
        "outputId": "d3e84afd-71dc-475d-c393-47d4e00fc295"
      },
      "source": [
        "# add dataset whis more num features\n",
        "dataset = fetch_openml(name='adult', version=1, as_frame=True)\n",
        "dataset.target = dataset.target.astype('category').cat.codes\n",
        "\n",
        "X_train, X_test, y_train, y_test = train_test_split(dataset.data, dataset.target, test_size=0.2, random_state=RANDOM_SEED,)\n",
        "X_train.shape, X_test.shape"
      ],
      "execution_count": 3,
      "outputs": [
        {
          "output_type": "execute_result",
          "data": {
            "text/plain": [
              "((39073, 14), (9769, 14))"
            ]
          },
          "metadata": {},
          "execution_count": 3
        }
      ]
    },
    {
      "cell_type": "code",
      "execution_count": 4,
      "metadata": {},
      "outputs": [
        {
          "output_type": "execute_result",
          "data": {
            "text/plain": [
              "      age  workclass    fnlwgt education  education-num      marital-status  \\\n",
              "37193   1    Private   50753.0   HS-grad            9.0  Married-civ-spouse   \n",
              "31093   2  State-gov  144351.0   Masters           14.0  Married-civ-spouse   \n",
              "33814   1  Local-gov  252217.0      12th            8.0  Married-civ-spouse   \n",
              "\n",
              "             occupation relationship   race   sex capitalgain capitalloss  \\\n",
              "37193  Transport-moving      Husband  White  Male           0           0   \n",
              "31093    Prof-specialty      Husband  White  Male           0           0   \n",
              "33814   Farming-fishing      Husband  White  Male           0           0   \n",
              "\n",
              "      hoursperweek native-country  \n",
              "37193            2  United-States  \n",
              "31093            2  United-States  \n",
              "33814            2  United-States  "
            ],
            "text/html": "<div>\n<style scoped>\n    .dataframe tbody tr th:only-of-type {\n        vertical-align: middle;\n    }\n\n    .dataframe tbody tr th {\n        vertical-align: top;\n    }\n\n    .dataframe thead th {\n        text-align: right;\n    }\n</style>\n<table border=\"1\" class=\"dataframe\">\n  <thead>\n    <tr style=\"text-align: right;\">\n      <th></th>\n      <th>age</th>\n      <th>workclass</th>\n      <th>fnlwgt</th>\n      <th>education</th>\n      <th>education-num</th>\n      <th>marital-status</th>\n      <th>occupation</th>\n      <th>relationship</th>\n      <th>race</th>\n      <th>sex</th>\n      <th>capitalgain</th>\n      <th>capitalloss</th>\n      <th>hoursperweek</th>\n      <th>native-country</th>\n    </tr>\n  </thead>\n  <tbody>\n    <tr>\n      <th>37193</th>\n      <td>1</td>\n      <td>Private</td>\n      <td>50753.0</td>\n      <td>HS-grad</td>\n      <td>9.0</td>\n      <td>Married-civ-spouse</td>\n      <td>Transport-moving</td>\n      <td>Husband</td>\n      <td>White</td>\n      <td>Male</td>\n      <td>0</td>\n      <td>0</td>\n      <td>2</td>\n      <td>United-States</td>\n    </tr>\n    <tr>\n      <th>31093</th>\n      <td>2</td>\n      <td>State-gov</td>\n      <td>144351.0</td>\n      <td>Masters</td>\n      <td>14.0</td>\n      <td>Married-civ-spouse</td>\n      <td>Prof-specialty</td>\n      <td>Husband</td>\n      <td>White</td>\n      <td>Male</td>\n      <td>0</td>\n      <td>0</td>\n      <td>2</td>\n      <td>United-States</td>\n    </tr>\n    <tr>\n      <th>33814</th>\n      <td>1</td>\n      <td>Local-gov</td>\n      <td>252217.0</td>\n      <td>12th</td>\n      <td>8.0</td>\n      <td>Married-civ-spouse</td>\n      <td>Farming-fishing</td>\n      <td>Husband</td>\n      <td>White</td>\n      <td>Male</td>\n      <td>0</td>\n      <td>0</td>\n      <td>2</td>\n      <td>United-States</td>\n    </tr>\n  </tbody>\n</table>\n</div>"
          },
          "metadata": {},
          "execution_count": 4
        }
      ],
      "source": [
        "X_train.head(3)"
      ]
    },
    {
      "cell_type": "code",
      "execution_count": 5,
      "metadata": {},
      "outputs": [
        {
          "output_type": "stream",
          "name": "stdout",
          "text": [
            "Source data shape:  (39073, 14)\n",
            "##################################################\n",
            "! START preprocessing Data\n",
            "- Auto detect cat features:  12\n",
            "> Binary Features\n",
            "> Clean Categorical Features\n",
            "> Transform Categorical Features.\n",
            " - Encoder: HelmertEncoder ADD features: 123\n",
            " - Encoder: CountEncoder ADD features: 12\n",
            "> CleanOutliers\n",
            "Num of outlier detected: 560 in Feature fnlwgt\n",
            "Proportion of outlier detected: 1.4 %\n",
            "Num of outlier detected: 253 in Feature education-num\n",
            "Proportion of outlier detected: 0.6 %\n",
            "  No nans features\n",
            "> Generate interaction Num Features\n",
            " ADD features: 3\n",
            "> Reduce_Memory\n",
            "Memory usage of dataframe is 25.34 MB\n",
            "Memory usage after optimization is: 21.50 MB\n",
            "Decreased by 15.1%\n",
            "##################################################\n",
            "Final data shape:  (39073, 154)\n",
            "Total ADD columns: 140\n",
            "##################################################\n",
            "##################################################\n",
            "! Start Transform Data\n",
            "> Clean Binary Features\n",
            "> Clean Categorical Features\n",
            "> Transform Categorical Features.\n",
            " - Encoder: HelmertEncoder ADD features: 123\n",
            " - Encoder: CountEncoder ADD features: 12\n",
            "> Generate interaction Num Features\n",
            " ADD features: 3\n",
            "> Reduce_Memory\n",
            "Memory usage of dataframe is 6.34 MB\n",
            "Memory usage after optimization is: 5.38 MB\n",
            "Decreased by 15.1%\n",
            "##################################################\n",
            "Final data shape:  (9769, 154)\n",
            "Total ADD columns: 140\n",
            "##################################################\n"
          ]
        },
        {
          "output_type": "execute_result",
          "data": {
            "text/plain": [
              "((39073, 154), (9769, 154))"
            ]
          },
          "metadata": {},
          "execution_count": 5
        }
      ],
      "source": [
        "de = DataPrepare(\n",
        "    normalization=False, # if you use Linar based models -> True (for Tree based models normalization is not needed)\n",
        "    random_state=RANDOM_SEED,\n",
        "    )\n",
        "X_train = de.fit_transform(X_train)\n",
        "X_test = de.transform(X_test)\n",
        "X_train.shape, X_test.shape"
      ]
    },
    {
      "cell_type": "code",
      "execution_count": 6,
      "metadata": {},
      "outputs": [
        {
          "output_type": "execute_result",
          "data": {
            "text/plain": [
              "   age  workclass    fnlwgt  education  education-num  marital-status  \\\n",
              "0    1          1   50753.0          1            9.0               1   \n",
              "1    2          2  144351.0          2           14.0               1   \n",
              "2    1          3  252217.0          3            8.0               1   \n",
              "3    3          1   69525.0          1            9.0               2   \n",
              "4    3          4   28612.0          1            9.0               3   \n",
              "\n",
              "   occupation  relationship  race  sex  ...  CountEncoder_race  \\\n",
              "0           1             1     1    1  ...              33425   \n",
              "1           2             1     1    1  ...              33425   \n",
              "2           3             1     1    1  ...              33425   \n",
              "3           4             2     1    1  ...              33425   \n",
              "4           5             3     1    1  ...              33425   \n",
              "\n",
              "   CountEncoder_capitalgain  CountEncoder_capitalloss  \\\n",
              "0                     35788                     37253   \n",
              "1                     35788                     37253   \n",
              "2                     35788                     37253   \n",
              "3                     35788                     37253   \n",
              "4                     35788                     37253   \n",
              "\n",
              "   CountEncoder_hoursperweek  CountEncoder_native-country  \\\n",
              "0                      22283                        35123   \n",
              "1                      22283                        35123   \n",
              "2                      22283                        35123   \n",
              "3                       3582                        35123   \n",
              "4                       1339                        35123   \n",
              "\n",
              "   fnlwgt_Is_Outliers_IQR  education-num_Is_Outliers_IQR  \\\n",
              "0                       0                              0   \n",
              "1                       0                              0   \n",
              "2                       0                              0   \n",
              "3                       0                              0   \n",
              "4                       0                              0   \n",
              "\n",
              "   fnlwgt_/_education-num  fnlwgt_*_education-num  fnlwgt_-_education-num  \n",
              "0             5639.222168                456777.0                 50744.0  \n",
              "1            10310.786133               2020914.0                144337.0  \n",
              "2            31527.125000               2017736.0                252209.0  \n",
              "3             7725.000000                625725.0                 69516.0  \n",
              "4             3179.111084                257508.0                 28603.0  \n",
              "\n",
              "[5 rows x 154 columns]"
            ],
            "text/html": "<div>\n<style scoped>\n    .dataframe tbody tr th:only-of-type {\n        vertical-align: middle;\n    }\n\n    .dataframe tbody tr th {\n        vertical-align: top;\n    }\n\n    .dataframe thead th {\n        text-align: right;\n    }\n</style>\n<table border=\"1\" class=\"dataframe\">\n  <thead>\n    <tr style=\"text-align: right;\">\n      <th></th>\n      <th>age</th>\n      <th>workclass</th>\n      <th>fnlwgt</th>\n      <th>education</th>\n      <th>education-num</th>\n      <th>marital-status</th>\n      <th>occupation</th>\n      <th>relationship</th>\n      <th>race</th>\n      <th>sex</th>\n      <th>...</th>\n      <th>CountEncoder_race</th>\n      <th>CountEncoder_capitalgain</th>\n      <th>CountEncoder_capitalloss</th>\n      <th>CountEncoder_hoursperweek</th>\n      <th>CountEncoder_native-country</th>\n      <th>fnlwgt_Is_Outliers_IQR</th>\n      <th>education-num_Is_Outliers_IQR</th>\n      <th>fnlwgt_/_education-num</th>\n      <th>fnlwgt_*_education-num</th>\n      <th>fnlwgt_-_education-num</th>\n    </tr>\n  </thead>\n  <tbody>\n    <tr>\n      <th>0</th>\n      <td>1</td>\n      <td>1</td>\n      <td>50753.0</td>\n      <td>1</td>\n      <td>9.0</td>\n      <td>1</td>\n      <td>1</td>\n      <td>1</td>\n      <td>1</td>\n      <td>1</td>\n      <td>...</td>\n      <td>33425</td>\n      <td>35788</td>\n      <td>37253</td>\n      <td>22283</td>\n      <td>35123</td>\n      <td>0</td>\n      <td>0</td>\n      <td>5639.222168</td>\n      <td>456777.0</td>\n      <td>50744.0</td>\n    </tr>\n    <tr>\n      <th>1</th>\n      <td>2</td>\n      <td>2</td>\n      <td>144351.0</td>\n      <td>2</td>\n      <td>14.0</td>\n      <td>1</td>\n      <td>2</td>\n      <td>1</td>\n      <td>1</td>\n      <td>1</td>\n      <td>...</td>\n      <td>33425</td>\n      <td>35788</td>\n      <td>37253</td>\n      <td>22283</td>\n      <td>35123</td>\n      <td>0</td>\n      <td>0</td>\n      <td>10310.786133</td>\n      <td>2020914.0</td>\n      <td>144337.0</td>\n    </tr>\n    <tr>\n      <th>2</th>\n      <td>1</td>\n      <td>3</td>\n      <td>252217.0</td>\n      <td>3</td>\n      <td>8.0</td>\n      <td>1</td>\n      <td>3</td>\n      <td>1</td>\n      <td>1</td>\n      <td>1</td>\n      <td>...</td>\n      <td>33425</td>\n      <td>35788</td>\n      <td>37253</td>\n      <td>22283</td>\n      <td>35123</td>\n      <td>0</td>\n      <td>0</td>\n      <td>31527.125000</td>\n      <td>2017736.0</td>\n      <td>252209.0</td>\n    </tr>\n    <tr>\n      <th>3</th>\n      <td>3</td>\n      <td>1</td>\n      <td>69525.0</td>\n      <td>1</td>\n      <td>9.0</td>\n      <td>2</td>\n      <td>4</td>\n      <td>2</td>\n      <td>1</td>\n      <td>1</td>\n      <td>...</td>\n      <td>33425</td>\n      <td>35788</td>\n      <td>37253</td>\n      <td>3582</td>\n      <td>35123</td>\n      <td>0</td>\n      <td>0</td>\n      <td>7725.000000</td>\n      <td>625725.0</td>\n      <td>69516.0</td>\n    </tr>\n    <tr>\n      <th>4</th>\n      <td>3</td>\n      <td>4</td>\n      <td>28612.0</td>\n      <td>1</td>\n      <td>9.0</td>\n      <td>3</td>\n      <td>5</td>\n      <td>3</td>\n      <td>1</td>\n      <td>1</td>\n      <td>...</td>\n      <td>33425</td>\n      <td>35788</td>\n      <td>37253</td>\n      <td>1339</td>\n      <td>35123</td>\n      <td>0</td>\n      <td>0</td>\n      <td>3179.111084</td>\n      <td>257508.0</td>\n      <td>28603.0</td>\n    </tr>\n  </tbody>\n</table>\n<p>5 rows × 154 columns</p>\n</div>"
          },
          "metadata": {},
          "execution_count": 6
        }
      ],
      "source": [
        "X_train.head(5)"
      ]
    },
    {
      "source": [
        "# Classifier"
      ],
      "cell_type": "markdown",
      "metadata": {}
    },
    {
      "cell_type": "markdown",
      "metadata": {
        "id": "dp1LnCd8bV5L",
        "colab_type": "text"
      },
      "source": [
        "## Model"
      ]
    },
    {
      "cell_type": "code",
      "metadata": {
        "ExecuteTime": {
          "end_time": "2020-05-07T08:40:44.210481Z",
          "start_time": "2020-05-07T08:40:44.203520Z"
        },
        "id": "_bPRxyuwbV5L",
        "colab_type": "code",
        "colab": {
          "base_uri": "https://localhost:8080/",
          "height": 170
        },
        "outputId": "4408921c-e14a-42cc-de56-8b9bad8eb6d3"
      },
      "source": [
        "# Libraries are currently available:\n",
        "automl_alex.models.all_models"
      ],
      "execution_count": 7,
      "outputs": [
        {
          "output_type": "execute_result",
          "data": {
            "text/plain": [
              "{'LightGBM': automl_alex.models.model_lightgbm.LightGBM,\n",
              " 'KNeighbors': automl_alex.models.sklearn_models.KNeighbors,\n",
              " 'LinearModel': automl_alex.models.sklearn_models.LinearModel,\n",
              " 'SGD': automl_alex.models.sklearn_models.SGD,\n",
              " 'RandomForest': automl_alex.models.sklearn_models.RandomForest,\n",
              " 'ExtraTrees': automl_alex.models.sklearn_models.ExtraTrees,\n",
              " 'XGBoost': automl_alex.models.model_xgboost.XGBoost,\n",
              " 'CatBoost': automl_alex.models.model_catboost.CatBoost,\n",
              " 'MLP': automl_alex.models.sklearn_models.MLP}"
            ]
          },
          "metadata": {},
          "execution_count": 7
        }
      ]
    },
    {
      "cell_type": "markdown",
      "metadata": {
        "id": "gZt0Owq1bV5O",
        "colab_type": "text"
      },
      "source": [
        "You can add a library if you wish.    \n",
        "let's try LightGBM"
      ]
    },
    {
      "cell_type": "code",
      "metadata": {
        "ExecuteTime": {
          "end_time": "2020-05-07T08:40:45.348064Z",
          "start_time": "2020-05-07T08:40:45.287480Z"
        },
        "id": "cH0AUcRAbV5P",
        "colab_type": "code",
        "colab": {}
      },
      "source": [
        "from automl_alex import LightGBM, LightGBMClassifier\n",
        "\n",
        "# We will use LightGBM for this dataset\n",
        "model = LightGBM(type_of_estimator='classifier', random_state=RANDOM_SEED)\n",
        "\n",
        "# or Simply\n",
        "model = LightGBMClassifier(random_state=RANDOM_SEED)"
      ],
      "execution_count": 8,
      "outputs": []
    },
    {
      "source": [
        "it's simple, the logic is like in sklearn (.fit() => .predict())"
      ],
      "cell_type": "markdown",
      "metadata": {}
    },
    {
      "cell_type": "code",
      "execution_count": 9,
      "metadata": {},
      "outputs": [],
      "source": [
        "model = model.fit(X_train, y_train)"
      ]
    },
    {
      "cell_type": "code",
      "execution_count": 10,
      "metadata": {},
      "outputs": [
        {
          "output_type": "stream",
          "name": "stdout",
          "text": [
            "Test AUC:  0.906\n"
          ]
        }
      ],
      "source": [
        "predicts = model.predict_proba(X_test)\n",
        "print('Test AUC: ', round(sklearn.metrics.roc_auc_score(y_test, predicts),4))"
      ]
    },
    {
      "cell_type": "code",
      "execution_count": 12,
      "metadata": {},
      "outputs": [
        {
          "output_type": "stream",
          "name": "stdout",
          "text": [
            "roc_auc_score: 0.906\n"
          ]
        }
      ],
      "source": [
        "# or just use .score()\n",
        "score = model.score(\n",
        "    X_test, y_test,\n",
        "    metric=sklearn.metrics.roc_auc_score,\n",
        "    metric_round=4,\n",
        "    print_metric=True,\n",
        "    )"
      ]
    },
    {
      "source": [
        "#### feature_importance"
      ],
      "cell_type": "markdown",
      "metadata": {}
    },
    {
      "cell_type": "code",
      "execution_count": 11,
      "metadata": {},
      "outputs": [],
      "source": [
        "feature_importance = model.get_feature_importance(X_train)"
      ]
    },
    {
      "cell_type": "code",
      "execution_count": 12,
      "metadata": {},
      "outputs": [
        {
          "output_type": "execute_result",
          "data": {
            "text/plain": [
              "<AxesSubplot:>"
            ]
          },
          "metadata": {},
          "execution_count": 12
        },
        {
          "output_type": "display_data",
          "data": {
            "text/plain": "<Figure size 432x288 with 1 Axes>",
            "image/svg+xml": "<?xml version=\"1.0\" encoding=\"utf-8\" standalone=\"no\"?>\n<!DOCTYPE svg PUBLIC \"-//W3C//DTD SVG 1.1//EN\"\n  \"http://www.w3.org/Graphics/SVG/1.1/DTD/svg11.dtd\">\n<!-- Created with matplotlib (https://matplotlib.org/) -->\n<svg height=\"248.518125pt\" version=\"1.1\" viewBox=\"0 0 524.826562 248.518125\" width=\"524.826562pt\" xmlns=\"http://www.w3.org/2000/svg\" xmlns:xlink=\"http://www.w3.org/1999/xlink\">\n <metadata>\n  <rdf:RDF xmlns:cc=\"http://creativecommons.org/ns#\" xmlns:dc=\"http://purl.org/dc/elements/1.1/\" xmlns:rdf=\"http://www.w3.org/1999/02/22-rdf-syntax-ns#\">\n   <cc:Work>\n    <dc:type rdf:resource=\"http://purl.org/dc/dcmitype/StillImage\"/>\n    <dc:date>2021-02-23T23:47:03.392525</dc:date>\n    <dc:format>image/svg+xml</dc:format>\n    <dc:creator>\n     <cc:Agent>\n      <dc:title>Matplotlib v3.3.1, https://matplotlib.org/</dc:title>\n     </cc:Agent>\n    </dc:creator>\n   </cc:Work>\n  </rdf:RDF>\n </metadata>\n <defs>\n  <style type=\"text/css\">*{stroke-linecap:butt;stroke-linejoin:round;}</style>\n </defs>\n <g id=\"figure_1\">\n  <g id=\"patch_1\">\n   <path d=\"M 0 248.518125 \nL 524.826562 248.518125 \nL 524.826562 0 \nL 0 0 \nz\n\" style=\"fill:#ffffff;\"/>\n  </g>\n  <g id=\"axes_1\">\n   <g id=\"patch_2\">\n    <path d=\"M 182.826562 224.64 \nL 517.626562 224.64 \nL 517.626562 7.2 \nL 182.826562 7.2 \nz\n\" style=\"fill:#eaeaf2;\"/>\n   </g>\n   <g id=\"matplotlib.axis_1\">\n    <g id=\"xtick_1\">\n     <g id=\"line2d_1\">\n      <path clip-path=\"url(#pc1548e81c4)\" d=\"M 182.826562 224.64 \nL 182.826562 7.2 \n\" style=\"fill:none;stroke:#ffffff;stroke-linecap:round;stroke-width:0.8;\"/>\n     </g>\n     <g id=\"text_1\">\n      <!-- 0 -->\n      <g style=\"fill:#262626;\" transform=\"translate(179.645312 239.238437)scale(0.1 -0.1)\">\n       <defs>\n        <path d=\"M 31.78125 66.40625 \nQ 24.171875 66.40625 20.328125 58.90625 \nQ 16.5 51.421875 16.5 36.375 \nQ 16.5 21.390625 20.328125 13.890625 \nQ 24.171875 6.390625 31.78125 6.390625 \nQ 39.453125 6.390625 43.28125 13.890625 \nQ 47.125 21.390625 47.125 36.375 \nQ 47.125 51.421875 43.28125 58.90625 \nQ 39.453125 66.40625 31.78125 66.40625 \nz\nM 31.78125 74.21875 \nQ 44.046875 74.21875 50.515625 64.515625 \nQ 56.984375 54.828125 56.984375 36.375 \nQ 56.984375 17.96875 50.515625 8.265625 \nQ 44.046875 -1.421875 31.78125 -1.421875 \nQ 19.53125 -1.421875 13.0625 8.265625 \nQ 6.59375 17.96875 6.59375 36.375 \nQ 6.59375 54.828125 13.0625 64.515625 \nQ 19.53125 74.21875 31.78125 74.21875 \nz\n\" id=\"DejaVuSans-48\"/>\n       </defs>\n       <use xlink:href=\"#DejaVuSans-48\"/>\n      </g>\n     </g>\n    </g>\n    <g id=\"xtick_2\">\n     <g id=\"line2d_2\">\n      <path clip-path=\"url(#pc1548e81c4)\" d=\"M 251.393088 224.64 \nL 251.393088 7.2 \n\" style=\"fill:none;stroke:#ffffff;stroke-linecap:round;stroke-width:0.8;\"/>\n     </g>\n     <g id=\"text_2\">\n      <!-- 10000 -->\n      <g style=\"fill:#262626;\" transform=\"translate(235.486838 239.238437)scale(0.1 -0.1)\">\n       <defs>\n        <path d=\"M 12.40625 8.296875 \nL 28.515625 8.296875 \nL 28.515625 63.921875 \nL 10.984375 60.40625 \nL 10.984375 69.390625 \nL 28.421875 72.90625 \nL 38.28125 72.90625 \nL 38.28125 8.296875 \nL 54.390625 8.296875 \nL 54.390625 0 \nL 12.40625 0 \nz\n\" id=\"DejaVuSans-49\"/>\n       </defs>\n       <use xlink:href=\"#DejaVuSans-49\"/>\n       <use x=\"63.623047\" xlink:href=\"#DejaVuSans-48\"/>\n       <use x=\"127.246094\" xlink:href=\"#DejaVuSans-48\"/>\n       <use x=\"190.869141\" xlink:href=\"#DejaVuSans-48\"/>\n       <use x=\"254.492188\" xlink:href=\"#DejaVuSans-48\"/>\n      </g>\n     </g>\n    </g>\n    <g id=\"xtick_3\">\n     <g id=\"line2d_3\">\n      <path clip-path=\"url(#pc1548e81c4)\" d=\"M 319.959613 224.64 \nL 319.959613 7.2 \n\" style=\"fill:none;stroke:#ffffff;stroke-linecap:round;stroke-width:0.8;\"/>\n     </g>\n     <g id=\"text_3\">\n      <!-- 20000 -->\n      <g style=\"fill:#262626;\" transform=\"translate(304.053363 239.238437)scale(0.1 -0.1)\">\n       <defs>\n        <path d=\"M 19.1875 8.296875 \nL 53.609375 8.296875 \nL 53.609375 0 \nL 7.328125 0 \nL 7.328125 8.296875 \nQ 12.9375 14.109375 22.625 23.890625 \nQ 32.328125 33.6875 34.8125 36.53125 \nQ 39.546875 41.84375 41.421875 45.53125 \nQ 43.3125 49.21875 43.3125 52.78125 \nQ 43.3125 58.59375 39.234375 62.25 \nQ 35.15625 65.921875 28.609375 65.921875 \nQ 23.96875 65.921875 18.8125 64.3125 \nQ 13.671875 62.703125 7.8125 59.421875 \nL 7.8125 69.390625 \nQ 13.765625 71.78125 18.9375 73 \nQ 24.125 74.21875 28.421875 74.21875 \nQ 39.75 74.21875 46.484375 68.546875 \nQ 53.21875 62.890625 53.21875 53.421875 \nQ 53.21875 48.921875 51.53125 44.890625 \nQ 49.859375 40.875 45.40625 35.40625 \nQ 44.1875 33.984375 37.640625 27.21875 \nQ 31.109375 20.453125 19.1875 8.296875 \nz\n\" id=\"DejaVuSans-50\"/>\n       </defs>\n       <use xlink:href=\"#DejaVuSans-50\"/>\n       <use x=\"63.623047\" xlink:href=\"#DejaVuSans-48\"/>\n       <use x=\"127.246094\" xlink:href=\"#DejaVuSans-48\"/>\n       <use x=\"190.869141\" xlink:href=\"#DejaVuSans-48\"/>\n       <use x=\"254.492188\" xlink:href=\"#DejaVuSans-48\"/>\n      </g>\n     </g>\n    </g>\n    <g id=\"xtick_4\">\n     <g id=\"line2d_4\">\n      <path clip-path=\"url(#pc1548e81c4)\" d=\"M 388.526138 224.64 \nL 388.526138 7.2 \n\" style=\"fill:none;stroke:#ffffff;stroke-linecap:round;stroke-width:0.8;\"/>\n     </g>\n     <g id=\"text_4\">\n      <!-- 30000 -->\n      <g style=\"fill:#262626;\" transform=\"translate(372.619888 239.238437)scale(0.1 -0.1)\">\n       <defs>\n        <path d=\"M 40.578125 39.3125 \nQ 47.65625 37.796875 51.625 33 \nQ 55.609375 28.21875 55.609375 21.1875 \nQ 55.609375 10.40625 48.1875 4.484375 \nQ 40.765625 -1.421875 27.09375 -1.421875 \nQ 22.515625 -1.421875 17.65625 -0.515625 \nQ 12.796875 0.390625 7.625 2.203125 \nL 7.625 11.71875 \nQ 11.71875 9.328125 16.59375 8.109375 \nQ 21.484375 6.890625 26.8125 6.890625 \nQ 36.078125 6.890625 40.9375 10.546875 \nQ 45.796875 14.203125 45.796875 21.1875 \nQ 45.796875 27.640625 41.28125 31.265625 \nQ 36.765625 34.90625 28.71875 34.90625 \nL 20.21875 34.90625 \nL 20.21875 43.015625 \nL 29.109375 43.015625 \nQ 36.375 43.015625 40.234375 45.921875 \nQ 44.09375 48.828125 44.09375 54.296875 \nQ 44.09375 59.90625 40.109375 62.90625 \nQ 36.140625 65.921875 28.71875 65.921875 \nQ 24.65625 65.921875 20.015625 65.03125 \nQ 15.375 64.15625 9.8125 62.3125 \nL 9.8125 71.09375 \nQ 15.4375 72.65625 20.34375 73.4375 \nQ 25.25 74.21875 29.59375 74.21875 \nQ 40.828125 74.21875 47.359375 69.109375 \nQ 53.90625 64.015625 53.90625 55.328125 \nQ 53.90625 49.265625 50.4375 45.09375 \nQ 46.96875 40.921875 40.578125 39.3125 \nz\n\" id=\"DejaVuSans-51\"/>\n       </defs>\n       <use xlink:href=\"#DejaVuSans-51\"/>\n       <use x=\"63.623047\" xlink:href=\"#DejaVuSans-48\"/>\n       <use x=\"127.246094\" xlink:href=\"#DejaVuSans-48\"/>\n       <use x=\"190.869141\" xlink:href=\"#DejaVuSans-48\"/>\n       <use x=\"254.492188\" xlink:href=\"#DejaVuSans-48\"/>\n      </g>\n     </g>\n    </g>\n    <g id=\"xtick_5\">\n     <g id=\"line2d_5\">\n      <path clip-path=\"url(#pc1548e81c4)\" d=\"M 457.092663 224.64 \nL 457.092663 7.2 \n\" style=\"fill:none;stroke:#ffffff;stroke-linecap:round;stroke-width:0.8;\"/>\n     </g>\n     <g id=\"text_5\">\n      <!-- 40000 -->\n      <g style=\"fill:#262626;\" transform=\"translate(441.186413 239.238437)scale(0.1 -0.1)\">\n       <defs>\n        <path d=\"M 37.796875 64.3125 \nL 12.890625 25.390625 \nL 37.796875 25.390625 \nz\nM 35.203125 72.90625 \nL 47.609375 72.90625 \nL 47.609375 25.390625 \nL 58.015625 25.390625 \nL 58.015625 17.1875 \nL 47.609375 17.1875 \nL 47.609375 0 \nL 37.796875 0 \nL 37.796875 17.1875 \nL 4.890625 17.1875 \nL 4.890625 26.703125 \nz\n\" id=\"DejaVuSans-52\"/>\n       </defs>\n       <use xlink:href=\"#DejaVuSans-52\"/>\n       <use x=\"63.623047\" xlink:href=\"#DejaVuSans-48\"/>\n       <use x=\"127.246094\" xlink:href=\"#DejaVuSans-48\"/>\n       <use x=\"190.869141\" xlink:href=\"#DejaVuSans-48\"/>\n       <use x=\"254.492188\" xlink:href=\"#DejaVuSans-48\"/>\n      </g>\n     </g>\n    </g>\n   </g>\n   <g id=\"matplotlib.axis_2\">\n    <g id=\"ytick_1\">\n     <g id=\"line2d_6\">\n      <path clip-path=\"url(#pc1548e81c4)\" d=\"M 182.826562 217.392 \nL 517.626562 217.392 \n\" style=\"fill:none;stroke:#ffffff;stroke-linecap:round;stroke-width:0.8;\"/>\n     </g>\n     <g id=\"text_6\">\n      <!-- marital-status -->\n      <g style=\"fill:#262626;\" transform=\"translate(105.909375 221.191219)scale(0.1 -0.1)\">\n       <defs>\n        <path d=\"M 52 44.1875 \nQ 55.375 50.25 60.0625 53.125 \nQ 64.75 56 71.09375 56 \nQ 79.640625 56 84.28125 50.015625 \nQ 88.921875 44.046875 88.921875 33.015625 \nL 88.921875 0 \nL 79.890625 0 \nL 79.890625 32.71875 \nQ 79.890625 40.578125 77.09375 44.375 \nQ 74.3125 48.1875 68.609375 48.1875 \nQ 61.625 48.1875 57.5625 43.546875 \nQ 53.515625 38.921875 53.515625 30.90625 \nL 53.515625 0 \nL 44.484375 0 \nL 44.484375 32.71875 \nQ 44.484375 40.625 41.703125 44.40625 \nQ 38.921875 48.1875 33.109375 48.1875 \nQ 26.21875 48.1875 22.15625 43.53125 \nQ 18.109375 38.875 18.109375 30.90625 \nL 18.109375 0 \nL 9.078125 0 \nL 9.078125 54.6875 \nL 18.109375 54.6875 \nL 18.109375 46.1875 \nQ 21.1875 51.21875 25.484375 53.609375 \nQ 29.78125 56 35.6875 56 \nQ 41.65625 56 45.828125 52.96875 \nQ 50 49.953125 52 44.1875 \nz\n\" id=\"DejaVuSans-109\"/>\n        <path d=\"M 34.28125 27.484375 \nQ 23.390625 27.484375 19.1875 25 \nQ 14.984375 22.515625 14.984375 16.5 \nQ 14.984375 11.71875 18.140625 8.90625 \nQ 21.296875 6.109375 26.703125 6.109375 \nQ 34.1875 6.109375 38.703125 11.40625 \nQ 43.21875 16.703125 43.21875 25.484375 \nL 43.21875 27.484375 \nz\nM 52.203125 31.203125 \nL 52.203125 0 \nL 43.21875 0 \nL 43.21875 8.296875 \nQ 40.140625 3.328125 35.546875 0.953125 \nQ 30.953125 -1.421875 24.3125 -1.421875 \nQ 15.921875 -1.421875 10.953125 3.296875 \nQ 6 8.015625 6 15.921875 \nQ 6 25.140625 12.171875 29.828125 \nQ 18.359375 34.515625 30.609375 34.515625 \nL 43.21875 34.515625 \nL 43.21875 35.40625 \nQ 43.21875 41.609375 39.140625 45 \nQ 35.0625 48.390625 27.6875 48.390625 \nQ 23 48.390625 18.546875 47.265625 \nQ 14.109375 46.140625 10.015625 43.890625 \nL 10.015625 52.203125 \nQ 14.9375 54.109375 19.578125 55.046875 \nQ 24.21875 56 28.609375 56 \nQ 40.484375 56 46.34375 49.84375 \nQ 52.203125 43.703125 52.203125 31.203125 \nz\n\" id=\"DejaVuSans-97\"/>\n        <path d=\"M 41.109375 46.296875 \nQ 39.59375 47.171875 37.8125 47.578125 \nQ 36.03125 48 33.890625 48 \nQ 26.265625 48 22.1875 43.046875 \nQ 18.109375 38.09375 18.109375 28.8125 \nL 18.109375 0 \nL 9.078125 0 \nL 9.078125 54.6875 \nL 18.109375 54.6875 \nL 18.109375 46.1875 \nQ 20.953125 51.171875 25.484375 53.578125 \nQ 30.03125 56 36.53125 56 \nQ 37.453125 56 38.578125 55.875 \nQ 39.703125 55.765625 41.0625 55.515625 \nz\n\" id=\"DejaVuSans-114\"/>\n        <path d=\"M 9.421875 54.6875 \nL 18.40625 54.6875 \nL 18.40625 0 \nL 9.421875 0 \nz\nM 9.421875 75.984375 \nL 18.40625 75.984375 \nL 18.40625 64.59375 \nL 9.421875 64.59375 \nz\n\" id=\"DejaVuSans-105\"/>\n        <path d=\"M 18.3125 70.21875 \nL 18.3125 54.6875 \nL 36.8125 54.6875 \nL 36.8125 47.703125 \nL 18.3125 47.703125 \nL 18.3125 18.015625 \nQ 18.3125 11.328125 20.140625 9.421875 \nQ 21.96875 7.515625 27.59375 7.515625 \nL 36.8125 7.515625 \nL 36.8125 0 \nL 27.59375 0 \nQ 17.1875 0 13.234375 3.875 \nQ 9.28125 7.765625 9.28125 18.015625 \nL 9.28125 47.703125 \nL 2.6875 47.703125 \nL 2.6875 54.6875 \nL 9.28125 54.6875 \nL 9.28125 70.21875 \nz\n\" id=\"DejaVuSans-116\"/>\n        <path d=\"M 9.421875 75.984375 \nL 18.40625 75.984375 \nL 18.40625 0 \nL 9.421875 0 \nz\n\" id=\"DejaVuSans-108\"/>\n        <path d=\"M 4.890625 31.390625 \nL 31.203125 31.390625 \nL 31.203125 23.390625 \nL 4.890625 23.390625 \nz\n\" id=\"DejaVuSans-45\"/>\n        <path d=\"M 44.28125 53.078125 \nL 44.28125 44.578125 \nQ 40.484375 46.53125 36.375 47.5 \nQ 32.28125 48.484375 27.875 48.484375 \nQ 21.1875 48.484375 17.84375 46.4375 \nQ 14.5 44.390625 14.5 40.28125 \nQ 14.5 37.15625 16.890625 35.375 \nQ 19.28125 33.59375 26.515625 31.984375 \nL 29.59375 31.296875 \nQ 39.15625 29.25 43.1875 25.515625 \nQ 47.21875 21.78125 47.21875 15.09375 \nQ 47.21875 7.46875 41.1875 3.015625 \nQ 35.15625 -1.421875 24.609375 -1.421875 \nQ 20.21875 -1.421875 15.453125 -0.5625 \nQ 10.6875 0.296875 5.421875 2 \nL 5.421875 11.28125 \nQ 10.40625 8.6875 15.234375 7.390625 \nQ 20.0625 6.109375 24.8125 6.109375 \nQ 31.15625 6.109375 34.5625 8.28125 \nQ 37.984375 10.453125 37.984375 14.40625 \nQ 37.984375 18.0625 35.515625 20.015625 \nQ 33.0625 21.96875 24.703125 23.78125 \nL 21.578125 24.515625 \nQ 13.234375 26.265625 9.515625 29.90625 \nQ 5.8125 33.546875 5.8125 39.890625 \nQ 5.8125 47.609375 11.28125 51.796875 \nQ 16.75 56 26.8125 56 \nQ 31.78125 56 36.171875 55.265625 \nQ 40.578125 54.546875 44.28125 53.078125 \nz\n\" id=\"DejaVuSans-115\"/>\n        <path d=\"M 8.5 21.578125 \nL 8.5 54.6875 \nL 17.484375 54.6875 \nL 17.484375 21.921875 \nQ 17.484375 14.15625 20.5 10.265625 \nQ 23.53125 6.390625 29.59375 6.390625 \nQ 36.859375 6.390625 41.078125 11.03125 \nQ 45.3125 15.671875 45.3125 23.6875 \nL 45.3125 54.6875 \nL 54.296875 54.6875 \nL 54.296875 0 \nL 45.3125 0 \nL 45.3125 8.40625 \nQ 42.046875 3.421875 37.71875 1 \nQ 33.40625 -1.421875 27.6875 -1.421875 \nQ 18.265625 -1.421875 13.375 4.4375 \nQ 8.5 10.296875 8.5 21.578125 \nz\nM 31.109375 56 \nz\n\" id=\"DejaVuSans-117\"/>\n       </defs>\n       <use xlink:href=\"#DejaVuSans-109\"/>\n       <use x=\"97.412109\" xlink:href=\"#DejaVuSans-97\"/>\n       <use x=\"158.691406\" xlink:href=\"#DejaVuSans-114\"/>\n       <use x=\"199.804688\" xlink:href=\"#DejaVuSans-105\"/>\n       <use x=\"227.587891\" xlink:href=\"#DejaVuSans-116\"/>\n       <use x=\"266.796875\" xlink:href=\"#DejaVuSans-97\"/>\n       <use x=\"328.076172\" xlink:href=\"#DejaVuSans-108\"/>\n       <use x=\"355.859375\" xlink:href=\"#DejaVuSans-45\"/>\n       <use x=\"391.943359\" xlink:href=\"#DejaVuSans-115\"/>\n       <use x=\"444.042969\" xlink:href=\"#DejaVuSans-116\"/>\n       <use x=\"483.251953\" xlink:href=\"#DejaVuSans-97\"/>\n       <use x=\"544.53125\" xlink:href=\"#DejaVuSans-116\"/>\n       <use x=\"583.740234\" xlink:href=\"#DejaVuSans-117\"/>\n       <use x=\"647.119141\" xlink:href=\"#DejaVuSans-115\"/>\n      </g>\n     </g>\n    </g>\n    <g id=\"ytick_2\">\n     <g id=\"line2d_7\">\n      <path clip-path=\"url(#pc1548e81c4)\" d=\"M 182.826562 202.896 \nL 517.626562 202.896 \n\" style=\"fill:none;stroke:#ffffff;stroke-linecap:round;stroke-width:0.8;\"/>\n     </g>\n     <g id=\"text_7\">\n      <!-- education-num -->\n      <g style=\"fill:#262626;\" transform=\"translate(100.182812 206.695219)scale(0.1 -0.1)\">\n       <defs>\n        <path d=\"M 56.203125 29.59375 \nL 56.203125 25.203125 \nL 14.890625 25.203125 \nQ 15.484375 15.921875 20.484375 11.0625 \nQ 25.484375 6.203125 34.421875 6.203125 \nQ 39.59375 6.203125 44.453125 7.46875 \nQ 49.3125 8.734375 54.109375 11.28125 \nL 54.109375 2.78125 \nQ 49.265625 0.734375 44.1875 -0.34375 \nQ 39.109375 -1.421875 33.890625 -1.421875 \nQ 20.796875 -1.421875 13.15625 6.1875 \nQ 5.515625 13.8125 5.515625 26.8125 \nQ 5.515625 40.234375 12.765625 48.109375 \nQ 20.015625 56 32.328125 56 \nQ 43.359375 56 49.78125 48.890625 \nQ 56.203125 41.796875 56.203125 29.59375 \nz\nM 47.21875 32.234375 \nQ 47.125 39.59375 43.09375 43.984375 \nQ 39.0625 48.390625 32.421875 48.390625 \nQ 24.90625 48.390625 20.390625 44.140625 \nQ 15.875 39.890625 15.1875 32.171875 \nz\n\" id=\"DejaVuSans-101\"/>\n        <path d=\"M 45.40625 46.390625 \nL 45.40625 75.984375 \nL 54.390625 75.984375 \nL 54.390625 0 \nL 45.40625 0 \nL 45.40625 8.203125 \nQ 42.578125 3.328125 38.25 0.953125 \nQ 33.9375 -1.421875 27.875 -1.421875 \nQ 17.96875 -1.421875 11.734375 6.484375 \nQ 5.515625 14.40625 5.515625 27.296875 \nQ 5.515625 40.1875 11.734375 48.09375 \nQ 17.96875 56 27.875 56 \nQ 33.9375 56 38.25 53.625 \nQ 42.578125 51.265625 45.40625 46.390625 \nz\nM 14.796875 27.296875 \nQ 14.796875 17.390625 18.875 11.75 \nQ 22.953125 6.109375 30.078125 6.109375 \nQ 37.203125 6.109375 41.296875 11.75 \nQ 45.40625 17.390625 45.40625 27.296875 \nQ 45.40625 37.203125 41.296875 42.84375 \nQ 37.203125 48.484375 30.078125 48.484375 \nQ 22.953125 48.484375 18.875 42.84375 \nQ 14.796875 37.203125 14.796875 27.296875 \nz\n\" id=\"DejaVuSans-100\"/>\n        <path d=\"M 48.78125 52.59375 \nL 48.78125 44.1875 \nQ 44.96875 46.296875 41.140625 47.34375 \nQ 37.3125 48.390625 33.40625 48.390625 \nQ 24.65625 48.390625 19.8125 42.84375 \nQ 14.984375 37.3125 14.984375 27.296875 \nQ 14.984375 17.28125 19.8125 11.734375 \nQ 24.65625 6.203125 33.40625 6.203125 \nQ 37.3125 6.203125 41.140625 7.25 \nQ 44.96875 8.296875 48.78125 10.40625 \nL 48.78125 2.09375 \nQ 45.015625 0.34375 40.984375 -0.53125 \nQ 36.96875 -1.421875 32.421875 -1.421875 \nQ 20.0625 -1.421875 12.78125 6.34375 \nQ 5.515625 14.109375 5.515625 27.296875 \nQ 5.515625 40.671875 12.859375 48.328125 \nQ 20.21875 56 33.015625 56 \nQ 37.15625 56 41.109375 55.140625 \nQ 45.0625 54.296875 48.78125 52.59375 \nz\n\" id=\"DejaVuSans-99\"/>\n        <path d=\"M 30.609375 48.390625 \nQ 23.390625 48.390625 19.1875 42.75 \nQ 14.984375 37.109375 14.984375 27.296875 \nQ 14.984375 17.484375 19.15625 11.84375 \nQ 23.34375 6.203125 30.609375 6.203125 \nQ 37.796875 6.203125 41.984375 11.859375 \nQ 46.1875 17.53125 46.1875 27.296875 \nQ 46.1875 37.015625 41.984375 42.703125 \nQ 37.796875 48.390625 30.609375 48.390625 \nz\nM 30.609375 56 \nQ 42.328125 56 49.015625 48.375 \nQ 55.71875 40.765625 55.71875 27.296875 \nQ 55.71875 13.875 49.015625 6.21875 \nQ 42.328125 -1.421875 30.609375 -1.421875 \nQ 18.84375 -1.421875 12.171875 6.21875 \nQ 5.515625 13.875 5.515625 27.296875 \nQ 5.515625 40.765625 12.171875 48.375 \nQ 18.84375 56 30.609375 56 \nz\n\" id=\"DejaVuSans-111\"/>\n        <path d=\"M 54.890625 33.015625 \nL 54.890625 0 \nL 45.90625 0 \nL 45.90625 32.71875 \nQ 45.90625 40.484375 42.875 44.328125 \nQ 39.84375 48.1875 33.796875 48.1875 \nQ 26.515625 48.1875 22.3125 43.546875 \nQ 18.109375 38.921875 18.109375 30.90625 \nL 18.109375 0 \nL 9.078125 0 \nL 9.078125 54.6875 \nL 18.109375 54.6875 \nL 18.109375 46.1875 \nQ 21.34375 51.125 25.703125 53.5625 \nQ 30.078125 56 35.796875 56 \nQ 45.21875 56 50.046875 50.171875 \nQ 54.890625 44.34375 54.890625 33.015625 \nz\n\" id=\"DejaVuSans-110\"/>\n       </defs>\n       <use xlink:href=\"#DejaVuSans-101\"/>\n       <use x=\"61.523438\" xlink:href=\"#DejaVuSans-100\"/>\n       <use x=\"125\" xlink:href=\"#DejaVuSans-117\"/>\n       <use x=\"188.378906\" xlink:href=\"#DejaVuSans-99\"/>\n       <use x=\"243.359375\" xlink:href=\"#DejaVuSans-97\"/>\n       <use x=\"304.638672\" xlink:href=\"#DejaVuSans-116\"/>\n       <use x=\"343.847656\" xlink:href=\"#DejaVuSans-105\"/>\n       <use x=\"371.630859\" xlink:href=\"#DejaVuSans-111\"/>\n       <use x=\"432.8125\" xlink:href=\"#DejaVuSans-110\"/>\n       <use x=\"496.191406\" xlink:href=\"#DejaVuSans-45\"/>\n       <use x=\"532.275391\" xlink:href=\"#DejaVuSans-110\"/>\n       <use x=\"595.654297\" xlink:href=\"#DejaVuSans-117\"/>\n       <use x=\"659.033203\" xlink:href=\"#DejaVuSans-109\"/>\n      </g>\n     </g>\n    </g>\n    <g id=\"ytick_3\">\n     <g id=\"line2d_8\">\n      <path clip-path=\"url(#pc1548e81c4)\" d=\"M 182.826562 188.4 \nL 517.626562 188.4 \n\" style=\"fill:none;stroke:#ffffff;stroke-linecap:round;stroke-width:0.8;\"/>\n     </g>\n     <g id=\"text_8\">\n      <!-- capitalgain -->\n      <g style=\"fill:#262626;\" transform=\"translate(120.654687 192.199219)scale(0.1 -0.1)\">\n       <defs>\n        <path d=\"M 18.109375 8.203125 \nL 18.109375 -20.796875 \nL 9.078125 -20.796875 \nL 9.078125 54.6875 \nL 18.109375 54.6875 \nL 18.109375 46.390625 \nQ 20.953125 51.265625 25.265625 53.625 \nQ 29.59375 56 35.59375 56 \nQ 45.5625 56 51.78125 48.09375 \nQ 58.015625 40.1875 58.015625 27.296875 \nQ 58.015625 14.40625 51.78125 6.484375 \nQ 45.5625 -1.421875 35.59375 -1.421875 \nQ 29.59375 -1.421875 25.265625 0.953125 \nQ 20.953125 3.328125 18.109375 8.203125 \nz\nM 48.6875 27.296875 \nQ 48.6875 37.203125 44.609375 42.84375 \nQ 40.53125 48.484375 33.40625 48.484375 \nQ 26.265625 48.484375 22.1875 42.84375 \nQ 18.109375 37.203125 18.109375 27.296875 \nQ 18.109375 17.390625 22.1875 11.75 \nQ 26.265625 6.109375 33.40625 6.109375 \nQ 40.53125 6.109375 44.609375 11.75 \nQ 48.6875 17.390625 48.6875 27.296875 \nz\n\" id=\"DejaVuSans-112\"/>\n        <path d=\"M 45.40625 27.984375 \nQ 45.40625 37.75 41.375 43.109375 \nQ 37.359375 48.484375 30.078125 48.484375 \nQ 22.859375 48.484375 18.828125 43.109375 \nQ 14.796875 37.75 14.796875 27.984375 \nQ 14.796875 18.265625 18.828125 12.890625 \nQ 22.859375 7.515625 30.078125 7.515625 \nQ 37.359375 7.515625 41.375 12.890625 \nQ 45.40625 18.265625 45.40625 27.984375 \nz\nM 54.390625 6.78125 \nQ 54.390625 -7.171875 48.1875 -13.984375 \nQ 42 -20.796875 29.203125 -20.796875 \nQ 24.46875 -20.796875 20.265625 -20.09375 \nQ 16.0625 -19.390625 12.109375 -17.921875 \nL 12.109375 -9.1875 \nQ 16.0625 -11.328125 19.921875 -12.34375 \nQ 23.78125 -13.375 27.78125 -13.375 \nQ 36.625 -13.375 41.015625 -8.765625 \nQ 45.40625 -4.15625 45.40625 5.171875 \nL 45.40625 9.625 \nQ 42.625 4.78125 38.28125 2.390625 \nQ 33.9375 0 27.875 0 \nQ 17.828125 0 11.671875 7.65625 \nQ 5.515625 15.328125 5.515625 27.984375 \nQ 5.515625 40.671875 11.671875 48.328125 \nQ 17.828125 56 27.875 56 \nQ 33.9375 56 38.28125 53.609375 \nQ 42.625 51.21875 45.40625 46.390625 \nL 45.40625 54.6875 \nL 54.390625 54.6875 \nz\n\" id=\"DejaVuSans-103\"/>\n       </defs>\n       <use xlink:href=\"#DejaVuSans-99\"/>\n       <use x=\"54.980469\" xlink:href=\"#DejaVuSans-97\"/>\n       <use x=\"116.259766\" xlink:href=\"#DejaVuSans-112\"/>\n       <use x=\"179.736328\" xlink:href=\"#DejaVuSans-105\"/>\n       <use x=\"207.519531\" xlink:href=\"#DejaVuSans-116\"/>\n       <use x=\"246.728516\" xlink:href=\"#DejaVuSans-97\"/>\n       <use x=\"308.007812\" xlink:href=\"#DejaVuSans-108\"/>\n       <use x=\"335.791016\" xlink:href=\"#DejaVuSans-103\"/>\n       <use x=\"399.267578\" xlink:href=\"#DejaVuSans-97\"/>\n       <use x=\"460.546875\" xlink:href=\"#DejaVuSans-105\"/>\n       <use x=\"488.330078\" xlink:href=\"#DejaVuSans-110\"/>\n      </g>\n     </g>\n    </g>\n    <g id=\"ytick_4\">\n     <g id=\"line2d_9\">\n      <path clip-path=\"url(#pc1548e81c4)\" d=\"M 182.826562 173.904 \nL 517.626562 173.904 \n\" style=\"fill:none;stroke:#ffffff;stroke-linecap:round;stroke-width:0.8;\"/>\n     </g>\n     <g id=\"text_9\">\n      <!-- education-num_*_fnlwgt -->\n      <g style=\"fill:#262626;\" transform=\"translate(54.1 177.703219)scale(0.1 -0.1)\">\n       <defs>\n        <path d=\"M 50.984375 -16.609375 \nL 50.984375 -23.578125 \nL -0.984375 -23.578125 \nL -0.984375 -16.609375 \nz\n\" id=\"DejaVuSans-95\"/>\n        <path d=\"M 47.015625 60.890625 \nL 29.5 51.421875 \nL 47.015625 41.890625 \nL 44.1875 37.109375 \nL 27.78125 47.015625 \nL 27.78125 28.609375 \nL 22.21875 28.609375 \nL 22.21875 47.015625 \nL 5.8125 37.109375 \nL 2.984375 41.890625 \nL 20.515625 51.421875 \nL 2.984375 60.890625 \nL 5.8125 65.71875 \nL 22.21875 55.8125 \nL 22.21875 74.21875 \nL 27.78125 74.21875 \nL 27.78125 55.8125 \nL 44.1875 65.71875 \nz\n\" id=\"DejaVuSans-42\"/>\n        <path d=\"M 37.109375 75.984375 \nL 37.109375 68.5 \nL 28.515625 68.5 \nQ 23.6875 68.5 21.796875 66.546875 \nQ 19.921875 64.59375 19.921875 59.515625 \nL 19.921875 54.6875 \nL 34.71875 54.6875 \nL 34.71875 47.703125 \nL 19.921875 47.703125 \nL 19.921875 0 \nL 10.890625 0 \nL 10.890625 47.703125 \nL 2.296875 47.703125 \nL 2.296875 54.6875 \nL 10.890625 54.6875 \nL 10.890625 58.5 \nQ 10.890625 67.625 15.140625 71.796875 \nQ 19.390625 75.984375 28.609375 75.984375 \nz\n\" id=\"DejaVuSans-102\"/>\n        <path d=\"M 4.203125 54.6875 \nL 13.1875 54.6875 \nL 24.421875 12.015625 \nL 35.59375 54.6875 \nL 46.1875 54.6875 \nL 57.421875 12.015625 \nL 68.609375 54.6875 \nL 77.59375 54.6875 \nL 63.28125 0 \nL 52.6875 0 \nL 40.921875 44.828125 \nL 29.109375 0 \nL 18.5 0 \nz\n\" id=\"DejaVuSans-119\"/>\n       </defs>\n       <use xlink:href=\"#DejaVuSans-101\"/>\n       <use x=\"61.523438\" xlink:href=\"#DejaVuSans-100\"/>\n       <use x=\"125\" xlink:href=\"#DejaVuSans-117\"/>\n       <use x=\"188.378906\" xlink:href=\"#DejaVuSans-99\"/>\n       <use x=\"243.359375\" xlink:href=\"#DejaVuSans-97\"/>\n       <use x=\"304.638672\" xlink:href=\"#DejaVuSans-116\"/>\n       <use x=\"343.847656\" xlink:href=\"#DejaVuSans-105\"/>\n       <use x=\"371.630859\" xlink:href=\"#DejaVuSans-111\"/>\n       <use x=\"432.8125\" xlink:href=\"#DejaVuSans-110\"/>\n       <use x=\"496.191406\" xlink:href=\"#DejaVuSans-45\"/>\n       <use x=\"532.275391\" xlink:href=\"#DejaVuSans-110\"/>\n       <use x=\"595.654297\" xlink:href=\"#DejaVuSans-117\"/>\n       <use x=\"659.033203\" xlink:href=\"#DejaVuSans-109\"/>\n       <use x=\"756.445312\" xlink:href=\"#DejaVuSans-95\"/>\n       <use x=\"806.445312\" xlink:href=\"#DejaVuSans-42\"/>\n       <use x=\"856.445312\" xlink:href=\"#DejaVuSans-95\"/>\n       <use x=\"906.445312\" xlink:href=\"#DejaVuSans-102\"/>\n       <use x=\"941.650391\" xlink:href=\"#DejaVuSans-110\"/>\n       <use x=\"1005.029297\" xlink:href=\"#DejaVuSans-108\"/>\n       <use x=\"1032.8125\" xlink:href=\"#DejaVuSans-119\"/>\n       <use x=\"1114.599609\" xlink:href=\"#DejaVuSans-103\"/>\n       <use x=\"1178.076172\" xlink:href=\"#DejaVuSans-116\"/>\n      </g>\n     </g>\n    </g>\n    <g id=\"ytick_5\">\n     <g id=\"line2d_10\">\n      <path clip-path=\"url(#pc1548e81c4)\" d=\"M 182.826562 159.408 \nL 517.626562 159.408 \n\" style=\"fill:none;stroke:#ffffff;stroke-linecap:round;stroke-width:0.8;\"/>\n     </g>\n     <g id=\"text_10\">\n      <!-- CountEncoder_occupation -->\n      <g style=\"fill:#262626;\" transform=\"translate(45.159375 163.207219)scale(0.1 -0.1)\">\n       <defs>\n        <path d=\"M 64.40625 67.28125 \nL 64.40625 56.890625 \nQ 59.421875 61.53125 53.78125 63.8125 \nQ 48.140625 66.109375 41.796875 66.109375 \nQ 29.296875 66.109375 22.65625 58.46875 \nQ 16.015625 50.828125 16.015625 36.375 \nQ 16.015625 21.96875 22.65625 14.328125 \nQ 29.296875 6.6875 41.796875 6.6875 \nQ 48.140625 6.6875 53.78125 8.984375 \nQ 59.421875 11.28125 64.40625 15.921875 \nL 64.40625 5.609375 \nQ 59.234375 2.09375 53.4375 0.328125 \nQ 47.65625 -1.421875 41.21875 -1.421875 \nQ 24.65625 -1.421875 15.125 8.703125 \nQ 5.609375 18.84375 5.609375 36.375 \nQ 5.609375 53.953125 15.125 64.078125 \nQ 24.65625 74.21875 41.21875 74.21875 \nQ 47.75 74.21875 53.53125 72.484375 \nQ 59.328125 70.75 64.40625 67.28125 \nz\n\" id=\"DejaVuSans-67\"/>\n        <path d=\"M 9.8125 72.90625 \nL 55.90625 72.90625 \nL 55.90625 64.59375 \nL 19.671875 64.59375 \nL 19.671875 43.015625 \nL 54.390625 43.015625 \nL 54.390625 34.71875 \nL 19.671875 34.71875 \nL 19.671875 8.296875 \nL 56.78125 8.296875 \nL 56.78125 0 \nL 9.8125 0 \nz\n\" id=\"DejaVuSans-69\"/>\n       </defs>\n       <use xlink:href=\"#DejaVuSans-67\"/>\n       <use x=\"69.824219\" xlink:href=\"#DejaVuSans-111\"/>\n       <use x=\"131.005859\" xlink:href=\"#DejaVuSans-117\"/>\n       <use x=\"194.384766\" xlink:href=\"#DejaVuSans-110\"/>\n       <use x=\"257.763672\" xlink:href=\"#DejaVuSans-116\"/>\n       <use x=\"296.972656\" xlink:href=\"#DejaVuSans-69\"/>\n       <use x=\"360.15625\" xlink:href=\"#DejaVuSans-110\"/>\n       <use x=\"423.535156\" xlink:href=\"#DejaVuSans-99\"/>\n       <use x=\"478.515625\" xlink:href=\"#DejaVuSans-111\"/>\n       <use x=\"539.697266\" xlink:href=\"#DejaVuSans-100\"/>\n       <use x=\"603.173828\" xlink:href=\"#DejaVuSans-101\"/>\n       <use x=\"664.697266\" xlink:href=\"#DejaVuSans-114\"/>\n       <use x=\"705.810547\" xlink:href=\"#DejaVuSans-95\"/>\n       <use x=\"755.810547\" xlink:href=\"#DejaVuSans-111\"/>\n       <use x=\"816.992188\" xlink:href=\"#DejaVuSans-99\"/>\n       <use x=\"871.972656\" xlink:href=\"#DejaVuSans-99\"/>\n       <use x=\"926.953125\" xlink:href=\"#DejaVuSans-117\"/>\n       <use x=\"990.332031\" xlink:href=\"#DejaVuSans-112\"/>\n       <use x=\"1053.808594\" xlink:href=\"#DejaVuSans-97\"/>\n       <use x=\"1115.087891\" xlink:href=\"#DejaVuSans-116\"/>\n       <use x=\"1154.296875\" xlink:href=\"#DejaVuSans-105\"/>\n       <use x=\"1182.080078\" xlink:href=\"#DejaVuSans-111\"/>\n       <use x=\"1243.261719\" xlink:href=\"#DejaVuSans-110\"/>\n      </g>\n     </g>\n    </g>\n    <g id=\"ytick_6\">\n     <g id=\"line2d_11\">\n      <path clip-path=\"url(#pc1548e81c4)\" d=\"M 182.826562 144.912 \nL 517.626562 144.912 \n\" style=\"fill:none;stroke:#ffffff;stroke-linecap:round;stroke-width:0.8;\"/>\n     </g>\n     <g id=\"text_11\">\n      <!-- education-num_/_fnlwgt -->\n      <g style=\"fill:#262626;\" transform=\"translate(55.73125 148.711219)scale(0.1 -0.1)\">\n       <defs>\n        <path d=\"M 25.390625 72.90625 \nL 33.6875 72.90625 \nL 8.296875 -9.28125 \nL 0 -9.28125 \nz\n\" id=\"DejaVuSans-47\"/>\n       </defs>\n       <use xlink:href=\"#DejaVuSans-101\"/>\n       <use x=\"61.523438\" xlink:href=\"#DejaVuSans-100\"/>\n       <use x=\"125\" xlink:href=\"#DejaVuSans-117\"/>\n       <use x=\"188.378906\" xlink:href=\"#DejaVuSans-99\"/>\n       <use x=\"243.359375\" xlink:href=\"#DejaVuSans-97\"/>\n       <use x=\"304.638672\" xlink:href=\"#DejaVuSans-116\"/>\n       <use x=\"343.847656\" xlink:href=\"#DejaVuSans-105\"/>\n       <use x=\"371.630859\" xlink:href=\"#DejaVuSans-111\"/>\n       <use x=\"432.8125\" xlink:href=\"#DejaVuSans-110\"/>\n       <use x=\"496.191406\" xlink:href=\"#DejaVuSans-45\"/>\n       <use x=\"532.275391\" xlink:href=\"#DejaVuSans-110\"/>\n       <use x=\"595.654297\" xlink:href=\"#DejaVuSans-117\"/>\n       <use x=\"659.033203\" xlink:href=\"#DejaVuSans-109\"/>\n       <use x=\"756.445312\" xlink:href=\"#DejaVuSans-95\"/>\n       <use x=\"806.445312\" xlink:href=\"#DejaVuSans-47\"/>\n       <use x=\"840.136719\" xlink:href=\"#DejaVuSans-95\"/>\n       <use x=\"890.136719\" xlink:href=\"#DejaVuSans-102\"/>\n       <use x=\"925.341797\" xlink:href=\"#DejaVuSans-110\"/>\n       <use x=\"988.720703\" xlink:href=\"#DejaVuSans-108\"/>\n       <use x=\"1016.503906\" xlink:href=\"#DejaVuSans-119\"/>\n       <use x=\"1098.291016\" xlink:href=\"#DejaVuSans-103\"/>\n       <use x=\"1161.767578\" xlink:href=\"#DejaVuSans-116\"/>\n      </g>\n     </g>\n    </g>\n    <g id=\"ytick_7\">\n     <g id=\"line2d_12\">\n      <path clip-path=\"url(#pc1548e81c4)\" d=\"M 182.826562 130.416 \nL 517.626562 130.416 \n\" style=\"fill:none;stroke:#ffffff;stroke-linecap:round;stroke-width:0.8;\"/>\n     </g>\n     <g id=\"text_12\">\n      <!-- age -->\n      <g style=\"fill:#262626;\" transform=\"translate(157.196875 134.215219)scale(0.1 -0.1)\">\n       <use xlink:href=\"#DejaVuSans-97\"/>\n       <use x=\"61.279297\" xlink:href=\"#DejaVuSans-103\"/>\n       <use x=\"124.755859\" xlink:href=\"#DejaVuSans-101\"/>\n      </g>\n     </g>\n    </g>\n    <g id=\"ytick_8\">\n     <g id=\"line2d_13\">\n      <path clip-path=\"url(#pc1548e81c4)\" d=\"M 182.826562 115.92 \nL 517.626562 115.92 \n\" style=\"fill:none;stroke:#ffffff;stroke-linecap:round;stroke-width:0.8;\"/>\n     </g>\n     <g id=\"text_13\">\n      <!-- fnlwgt -->\n      <g style=\"fill:#262626;\" transform=\"translate(144.74375 119.719219)scale(0.1 -0.1)\">\n       <use xlink:href=\"#DejaVuSans-102\"/>\n       <use x=\"35.205078\" xlink:href=\"#DejaVuSans-110\"/>\n       <use x=\"98.583984\" xlink:href=\"#DejaVuSans-108\"/>\n       <use x=\"126.367188\" xlink:href=\"#DejaVuSans-119\"/>\n       <use x=\"208.154297\" xlink:href=\"#DejaVuSans-103\"/>\n       <use x=\"271.630859\" xlink:href=\"#DejaVuSans-116\"/>\n      </g>\n     </g>\n    </g>\n    <g id=\"ytick_9\">\n     <g id=\"line2d_14\">\n      <path clip-path=\"url(#pc1548e81c4)\" d=\"M 182.826562 101.424 \nL 517.626562 101.424 \n\" style=\"fill:none;stroke:#ffffff;stroke-linecap:round;stroke-width:0.8;\"/>\n     </g>\n     <g id=\"text_14\">\n      <!-- education-num_-_fnlwgt -->\n      <g style=\"fill:#262626;\" transform=\"translate(55.492187 105.223219)scale(0.1 -0.1)\">\n       <use xlink:href=\"#DejaVuSans-101\"/>\n       <use x=\"61.523438\" xlink:href=\"#DejaVuSans-100\"/>\n       <use x=\"125\" xlink:href=\"#DejaVuSans-117\"/>\n       <use x=\"188.378906\" xlink:href=\"#DejaVuSans-99\"/>\n       <use x=\"243.359375\" xlink:href=\"#DejaVuSans-97\"/>\n       <use x=\"304.638672\" xlink:href=\"#DejaVuSans-116\"/>\n       <use x=\"343.847656\" xlink:href=\"#DejaVuSans-105\"/>\n       <use x=\"371.630859\" xlink:href=\"#DejaVuSans-111\"/>\n       <use x=\"432.8125\" xlink:href=\"#DejaVuSans-110\"/>\n       <use x=\"496.191406\" xlink:href=\"#DejaVuSans-45\"/>\n       <use x=\"532.275391\" xlink:href=\"#DejaVuSans-110\"/>\n       <use x=\"595.654297\" xlink:href=\"#DejaVuSans-117\"/>\n       <use x=\"659.033203\" xlink:href=\"#DejaVuSans-109\"/>\n       <use x=\"756.445312\" xlink:href=\"#DejaVuSans-95\"/>\n       <use x=\"806.445312\" xlink:href=\"#DejaVuSans-45\"/>\n       <use x=\"842.529297\" xlink:href=\"#DejaVuSans-95\"/>\n       <use x=\"892.529297\" xlink:href=\"#DejaVuSans-102\"/>\n       <use x=\"927.734375\" xlink:href=\"#DejaVuSans-110\"/>\n       <use x=\"991.113281\" xlink:href=\"#DejaVuSans-108\"/>\n       <use x=\"1018.896484\" xlink:href=\"#DejaVuSans-119\"/>\n       <use x=\"1100.683594\" xlink:href=\"#DejaVuSans-103\"/>\n       <use x=\"1164.160156\" xlink:href=\"#DejaVuSans-116\"/>\n      </g>\n     </g>\n    </g>\n    <g id=\"ytick_10\">\n     <g id=\"line2d_15\">\n      <path clip-path=\"url(#pc1548e81c4)\" d=\"M 182.826562 86.928 \nL 517.626562 86.928 \n\" style=\"fill:none;stroke:#ffffff;stroke-linecap:round;stroke-width:0.8;\"/>\n     </g>\n     <g id=\"text_15\">\n      <!-- occupation -->\n      <g style=\"fill:#262626;\" transform=\"translate(120.742188 90.727219)scale(0.1 -0.1)\">\n       <use xlink:href=\"#DejaVuSans-111\"/>\n       <use x=\"61.181641\" xlink:href=\"#DejaVuSans-99\"/>\n       <use x=\"116.162109\" xlink:href=\"#DejaVuSans-99\"/>\n       <use x=\"171.142578\" xlink:href=\"#DejaVuSans-117\"/>\n       <use x=\"234.521484\" xlink:href=\"#DejaVuSans-112\"/>\n       <use x=\"297.998047\" xlink:href=\"#DejaVuSans-97\"/>\n       <use x=\"359.277344\" xlink:href=\"#DejaVuSans-116\"/>\n       <use x=\"398.486328\" xlink:href=\"#DejaVuSans-105\"/>\n       <use x=\"426.269531\" xlink:href=\"#DejaVuSans-111\"/>\n       <use x=\"487.451172\" xlink:href=\"#DejaVuSans-110\"/>\n      </g>\n     </g>\n    </g>\n    <g id=\"ytick_11\">\n     <g id=\"line2d_16\">\n      <path clip-path=\"url(#pc1548e81c4)\" d=\"M 182.826562 72.432 \nL 517.626562 72.432 \n\" style=\"fill:none;stroke:#ffffff;stroke-linecap:round;stroke-width:0.8;\"/>\n     </g>\n     <g id=\"text_16\">\n      <!-- HelmertEncoder_hoursperweek_2 -->\n      <g style=\"fill:#262626;\" transform=\"translate(7.2 76.231219)scale(0.1 -0.1)\">\n       <defs>\n        <path d=\"M 9.8125 72.90625 \nL 19.671875 72.90625 \nL 19.671875 43.015625 \nL 55.515625 43.015625 \nL 55.515625 72.90625 \nL 65.375 72.90625 \nL 65.375 0 \nL 55.515625 0 \nL 55.515625 34.71875 \nL 19.671875 34.71875 \nL 19.671875 0 \nL 9.8125 0 \nz\n\" id=\"DejaVuSans-72\"/>\n        <path d=\"M 54.890625 33.015625 \nL 54.890625 0 \nL 45.90625 0 \nL 45.90625 32.71875 \nQ 45.90625 40.484375 42.875 44.328125 \nQ 39.84375 48.1875 33.796875 48.1875 \nQ 26.515625 48.1875 22.3125 43.546875 \nQ 18.109375 38.921875 18.109375 30.90625 \nL 18.109375 0 \nL 9.078125 0 \nL 9.078125 75.984375 \nL 18.109375 75.984375 \nL 18.109375 46.1875 \nQ 21.34375 51.125 25.703125 53.5625 \nQ 30.078125 56 35.796875 56 \nQ 45.21875 56 50.046875 50.171875 \nQ 54.890625 44.34375 54.890625 33.015625 \nz\n\" id=\"DejaVuSans-104\"/>\n        <path d=\"M 9.078125 75.984375 \nL 18.109375 75.984375 \nL 18.109375 31.109375 \nL 44.921875 54.6875 \nL 56.390625 54.6875 \nL 27.390625 29.109375 \nL 57.625 0 \nL 45.90625 0 \nL 18.109375 26.703125 \nL 18.109375 0 \nL 9.078125 0 \nz\n\" id=\"DejaVuSans-107\"/>\n       </defs>\n       <use xlink:href=\"#DejaVuSans-72\"/>\n       <use x=\"75.195312\" xlink:href=\"#DejaVuSans-101\"/>\n       <use x=\"136.71875\" xlink:href=\"#DejaVuSans-108\"/>\n       <use x=\"164.501953\" xlink:href=\"#DejaVuSans-109\"/>\n       <use x=\"261.914062\" xlink:href=\"#DejaVuSans-101\"/>\n       <use x=\"323.4375\" xlink:href=\"#DejaVuSans-114\"/>\n       <use x=\"364.550781\" xlink:href=\"#DejaVuSans-116\"/>\n       <use x=\"403.759766\" xlink:href=\"#DejaVuSans-69\"/>\n       <use x=\"466.943359\" xlink:href=\"#DejaVuSans-110\"/>\n       <use x=\"530.322266\" xlink:href=\"#DejaVuSans-99\"/>\n       <use x=\"585.302734\" xlink:href=\"#DejaVuSans-111\"/>\n       <use x=\"646.484375\" xlink:href=\"#DejaVuSans-100\"/>\n       <use x=\"709.960938\" xlink:href=\"#DejaVuSans-101\"/>\n       <use x=\"771.484375\" xlink:href=\"#DejaVuSans-114\"/>\n       <use x=\"812.597656\" xlink:href=\"#DejaVuSans-95\"/>\n       <use x=\"862.597656\" xlink:href=\"#DejaVuSans-104\"/>\n       <use x=\"925.976562\" xlink:href=\"#DejaVuSans-111\"/>\n       <use x=\"987.158203\" xlink:href=\"#DejaVuSans-117\"/>\n       <use x=\"1050.537109\" xlink:href=\"#DejaVuSans-114\"/>\n       <use x=\"1091.650391\" xlink:href=\"#DejaVuSans-115\"/>\n       <use x=\"1143.75\" xlink:href=\"#DejaVuSans-112\"/>\n       <use x=\"1207.226562\" xlink:href=\"#DejaVuSans-101\"/>\n       <use x=\"1268.75\" xlink:href=\"#DejaVuSans-114\"/>\n       <use x=\"1309.863281\" xlink:href=\"#DejaVuSans-119\"/>\n       <use x=\"1391.650391\" xlink:href=\"#DejaVuSans-101\"/>\n       <use x=\"1453.173828\" xlink:href=\"#DejaVuSans-101\"/>\n       <use x=\"1514.697266\" xlink:href=\"#DejaVuSans-107\"/>\n       <use x=\"1572.607422\" xlink:href=\"#DejaVuSans-95\"/>\n       <use x=\"1622.607422\" xlink:href=\"#DejaVuSans-50\"/>\n      </g>\n     </g>\n    </g>\n    <g id=\"ytick_12\">\n     <g id=\"line2d_17\">\n      <path clip-path=\"url(#pc1548e81c4)\" d=\"M 182.826562 57.936 \nL 517.626562 57.936 \n\" style=\"fill:none;stroke:#ffffff;stroke-linecap:round;stroke-width:0.8;\"/>\n     </g>\n     <g id=\"text_17\">\n      <!-- capitalloss -->\n      <g style=\"fill:#262626;\" transform=\"translate(122.93125 61.735219)scale(0.1 -0.1)\">\n       <use xlink:href=\"#DejaVuSans-99\"/>\n       <use x=\"54.980469\" xlink:href=\"#DejaVuSans-97\"/>\n       <use x=\"116.259766\" xlink:href=\"#DejaVuSans-112\"/>\n       <use x=\"179.736328\" xlink:href=\"#DejaVuSans-105\"/>\n       <use x=\"207.519531\" xlink:href=\"#DejaVuSans-116\"/>\n       <use x=\"246.728516\" xlink:href=\"#DejaVuSans-97\"/>\n       <use x=\"308.007812\" xlink:href=\"#DejaVuSans-108\"/>\n       <use x=\"335.791016\" xlink:href=\"#DejaVuSans-108\"/>\n       <use x=\"363.574219\" xlink:href=\"#DejaVuSans-111\"/>\n       <use x=\"424.755859\" xlink:href=\"#DejaVuSans-115\"/>\n       <use x=\"476.855469\" xlink:href=\"#DejaVuSans-115\"/>\n      </g>\n     </g>\n    </g>\n    <g id=\"ytick_13\">\n     <g id=\"line2d_18\">\n      <path clip-path=\"url(#pc1548e81c4)\" d=\"M 182.826562 43.44 \nL 517.626562 43.44 \n\" style=\"fill:none;stroke:#ffffff;stroke-linecap:round;stroke-width:0.8;\"/>\n     </g>\n     <g id=\"text_18\">\n      <!-- workclass -->\n      <g style=\"fill:#262626;\" transform=\"translate(126.804688 47.239219)scale(0.1 -0.1)\">\n       <use xlink:href=\"#DejaVuSans-119\"/>\n       <use x=\"81.787109\" xlink:href=\"#DejaVuSans-111\"/>\n       <use x=\"142.96875\" xlink:href=\"#DejaVuSans-114\"/>\n       <use x=\"184.082031\" xlink:href=\"#DejaVuSans-107\"/>\n       <use x=\"241.992188\" xlink:href=\"#DejaVuSans-99\"/>\n       <use x=\"296.972656\" xlink:href=\"#DejaVuSans-108\"/>\n       <use x=\"324.755859\" xlink:href=\"#DejaVuSans-97\"/>\n       <use x=\"386.035156\" xlink:href=\"#DejaVuSans-115\"/>\n       <use x=\"438.134766\" xlink:href=\"#DejaVuSans-115\"/>\n      </g>\n     </g>\n    </g>\n    <g id=\"ytick_14\">\n     <g id=\"line2d_19\">\n      <path clip-path=\"url(#pc1548e81c4)\" d=\"M 182.826562 28.944 \nL 517.626562 28.944 \n\" style=\"fill:none;stroke:#ffffff;stroke-linecap:round;stroke-width:0.8;\"/>\n     </g>\n     <g id=\"text_19\">\n      <!-- education -->\n      <g style=\"fill:#262626;\" transform=\"translate(126.20625 32.743219)scale(0.1 -0.1)\">\n       <use xlink:href=\"#DejaVuSans-101\"/>\n       <use x=\"61.523438\" xlink:href=\"#DejaVuSans-100\"/>\n       <use x=\"125\" xlink:href=\"#DejaVuSans-117\"/>\n       <use x=\"188.378906\" xlink:href=\"#DejaVuSans-99\"/>\n       <use x=\"243.359375\" xlink:href=\"#DejaVuSans-97\"/>\n       <use x=\"304.638672\" xlink:href=\"#DejaVuSans-116\"/>\n       <use x=\"343.847656\" xlink:href=\"#DejaVuSans-105\"/>\n       <use x=\"371.630859\" xlink:href=\"#DejaVuSans-111\"/>\n       <use x=\"432.8125\" xlink:href=\"#DejaVuSans-110\"/>\n      </g>\n     </g>\n    </g>\n    <g id=\"ytick_15\">\n     <g id=\"line2d_20\">\n      <path clip-path=\"url(#pc1548e81c4)\" d=\"M 182.826562 14.448 \nL 517.626562 14.448 \n\" style=\"fill:none;stroke:#ffffff;stroke-linecap:round;stroke-width:0.8;\"/>\n     </g>\n     <g id=\"text_20\">\n      <!-- hoursperweek -->\n      <g style=\"fill:#262626;\" transform=\"translate(104.825 18.247219)scale(0.1 -0.1)\">\n       <use xlink:href=\"#DejaVuSans-104\"/>\n       <use x=\"63.378906\" xlink:href=\"#DejaVuSans-111\"/>\n       <use x=\"124.560547\" xlink:href=\"#DejaVuSans-117\"/>\n       <use x=\"187.939453\" xlink:href=\"#DejaVuSans-114\"/>\n       <use x=\"229.052734\" xlink:href=\"#DejaVuSans-115\"/>\n       <use x=\"281.152344\" xlink:href=\"#DejaVuSans-112\"/>\n       <use x=\"344.628906\" xlink:href=\"#DejaVuSans-101\"/>\n       <use x=\"406.152344\" xlink:href=\"#DejaVuSans-114\"/>\n       <use x=\"447.265625\" xlink:href=\"#DejaVuSans-119\"/>\n       <use x=\"529.052734\" xlink:href=\"#DejaVuSans-101\"/>\n       <use x=\"590.576172\" xlink:href=\"#DejaVuSans-101\"/>\n       <use x=\"652.099609\" xlink:href=\"#DejaVuSans-107\"/>\n      </g>\n     </g>\n    </g>\n   </g>\n   <g id=\"patch_3\">\n    <path clip-path=\"url(#pc1548e81c4)\" d=\"M 182.826562 221.016 \nL 501.683705 221.016 \nL 501.683705 213.768 \nL 182.826562 213.768 \nz\n\" style=\"fill:#1f77b4;stroke:#ffffff;stroke-linejoin:miter;\"/>\n   </g>\n   <g id=\"patch_4\">\n    <path clip-path=\"url(#pc1548e81c4)\" d=\"M 182.826562 206.52 \nL 309.926232 206.52 \nL 309.926232 199.272 \nL 182.826562 199.272 \nz\n\" style=\"fill:#1f77b4;stroke:#ffffff;stroke-linejoin:miter;\"/>\n   </g>\n   <g id=\"patch_5\">\n    <path clip-path=\"url(#pc1548e81c4)\" d=\"M 182.826562 192.024 \nL 293.529024 192.024 \nL 293.529024 184.776 \nL 182.826562 184.776 \nz\n\" style=\"fill:#1f77b4;stroke:#ffffff;stroke-linejoin:miter;\"/>\n   </g>\n   <g id=\"patch_6\">\n    <path clip-path=\"url(#pc1548e81c4)\" d=\"M 182.826562 177.528 \nL 227.495886 177.528 \nL 227.495886 170.28 \nL 182.826562 170.28 \nz\n\" style=\"fill:#1f77b4;stroke:#ffffff;stroke-linejoin:miter;\"/>\n   </g>\n   <g id=\"patch_7\">\n    <path clip-path=\"url(#pc1548e81c4)\" d=\"M 182.826562 163.032 \nL 222.672581 163.032 \nL 222.672581 155.784 \nL 182.826562 155.784 \nz\n\" style=\"fill:#1f77b4;stroke:#ffffff;stroke-linejoin:miter;\"/>\n   </g>\n   <g id=\"patch_8\">\n    <path clip-path=\"url(#pc1548e81c4)\" d=\"M 182.826562 148.536 \nL 222.322228 148.536 \nL 222.322228 141.288 \nL 182.826562 141.288 \nz\n\" style=\"fill:#1f77b4;stroke:#ffffff;stroke-linejoin:miter;\"/>\n   </g>\n   <g id=\"patch_9\">\n    <path clip-path=\"url(#pc1548e81c4)\" d=\"M 182.826562 134.04 \nL 219.179197 134.04 \nL 219.179197 126.792 \nL 182.826562 126.792 \nz\n\" style=\"fill:#1f77b4;stroke:#ffffff;stroke-linejoin:miter;\"/>\n   </g>\n   <g id=\"patch_10\">\n    <path clip-path=\"url(#pc1548e81c4)\" d=\"M 182.826562 119.544 \nL 210.858909 119.544 \nL 210.858909 112.296 \nL 182.826562 112.296 \nz\n\" style=\"fill:#1f77b4;stroke:#ffffff;stroke-linejoin:miter;\"/>\n   </g>\n   <g id=\"patch_11\">\n    <path clip-path=\"url(#pc1548e81c4)\" d=\"M 182.826562 105.048 \nL 202.696037 105.048 \nL 202.696037 97.8 \nL 182.826562 97.8 \nz\n\" style=\"fill:#1f77b4;stroke:#ffffff;stroke-linejoin:miter;\"/>\n   </g>\n   <g id=\"patch_12\">\n    <path clip-path=\"url(#pc1548e81c4)\" d=\"M 182.826562 90.552 \nL 196.904287 90.552 \nL 196.904287 83.304 \nL 182.826562 83.304 \nz\n\" style=\"fill:#1f77b4;stroke:#ffffff;stroke-linejoin:miter;\"/>\n   </g>\n   <g id=\"patch_13\">\n    <path clip-path=\"url(#pc1548e81c4)\" d=\"M 182.826562 76.056 \nL 194.601603 76.056 \nL 194.601603 68.808 \nL 182.826562 68.808 \nz\n\" style=\"fill:#1f77b4;stroke:#ffffff;stroke-linejoin:miter;\"/>\n   </g>\n   <g id=\"patch_14\">\n    <path clip-path=\"url(#pc1548e81c4)\" d=\"M 182.826562 61.56 \nL 194.575828 61.56 \nL 194.575828 54.312 \nL 182.826562 54.312 \nz\n\" style=\"fill:#1f77b4;stroke:#ffffff;stroke-linejoin:miter;\"/>\n   </g>\n   <g id=\"patch_15\">\n    <path clip-path=\"url(#pc1548e81c4)\" d=\"M 182.826562 47.064 \nL 193.262949 47.064 \nL 193.262949 39.816 \nL 182.826562 39.816 \nz\n\" style=\"fill:#1f77b4;stroke:#ffffff;stroke-linejoin:miter;\"/>\n   </g>\n   <g id=\"patch_16\">\n    <path clip-path=\"url(#pc1548e81c4)\" d=\"M 182.826562 32.568 \nL 192.91607 32.568 \nL 192.91607 25.32 \nL 182.826562 25.32 \nz\n\" style=\"fill:#1f77b4;stroke:#ffffff;stroke-linejoin:miter;\"/>\n   </g>\n   <g id=\"patch_17\">\n    <path clip-path=\"url(#pc1548e81c4)\" d=\"M 182.826562 18.072 \nL 190.524698 18.072 \nL 190.524698 10.824 \nL 182.826562 10.824 \nz\n\" style=\"fill:#1f77b4;stroke:#ffffff;stroke-linejoin:miter;\"/>\n   </g>\n   <g id=\"patch_18\">\n    <path d=\"M 182.826562 224.64 \nL 182.826562 7.2 \n\" style=\"fill:none;stroke:#ffffff;stroke-linecap:square;stroke-linejoin:miter;stroke-width:0.8;\"/>\n   </g>\n   <g id=\"patch_19\">\n    <path d=\"M 517.626562 224.64 \nL 517.626562 7.2 \n\" style=\"fill:none;stroke:#ffffff;stroke-linecap:square;stroke-linejoin:miter;stroke-width:0.8;\"/>\n   </g>\n   <g id=\"patch_20\">\n    <path d=\"M 182.826562 224.64 \nL 517.626562 224.64 \n\" style=\"fill:none;stroke:#ffffff;stroke-linecap:square;stroke-linejoin:miter;stroke-width:0.8;\"/>\n   </g>\n   <g id=\"patch_21\">\n    <path d=\"M 182.826562 7.2 \nL 517.626562 7.2 \n\" style=\"fill:none;stroke:#ffffff;stroke-linecap:square;stroke-linejoin:miter;stroke-width:0.8;\"/>\n   </g>\n   <g id=\"legend_1\">\n    <g id=\"patch_22\">\n     <path d=\"M 451.310937 29.878125 \nL 510.626562 29.878125 \nQ 512.626562 29.878125 512.626562 27.878125 \nL 512.626562 14.2 \nQ 512.626562 12.2 510.626562 12.2 \nL 451.310937 12.2 \nQ 449.310937 12.2 449.310937 14.2 \nL 449.310937 27.878125 \nQ 449.310937 29.878125 451.310937 29.878125 \nz\n\" style=\"fill:#eaeaf2;opacity:0.8;stroke:#cccccc;stroke-linejoin:miter;\"/>\n    </g>\n    <g id=\"patch_23\">\n     <path d=\"M 453.310937 23.798437 \nL 473.310937 23.798437 \nL 473.310937 16.798437 \nL 453.310937 16.798437 \nz\n\" style=\"fill:#1f77b4;stroke:#ffffff;stroke-linejoin:miter;\"/>\n    </g>\n    <g id=\"text_21\">\n     <!-- value -->\n     <g style=\"fill:#262626;\" transform=\"translate(481.310937 23.798437)scale(0.1 -0.1)\">\n      <defs>\n       <path d=\"M 2.984375 54.6875 \nL 12.5 54.6875 \nL 29.59375 8.796875 \nL 46.6875 54.6875 \nL 56.203125 54.6875 \nL 35.6875 0 \nL 23.484375 0 \nz\n\" id=\"DejaVuSans-118\"/>\n      </defs>\n      <use xlink:href=\"#DejaVuSans-118\"/>\n      <use x=\"59.179688\" xlink:href=\"#DejaVuSans-97\"/>\n      <use x=\"120.458984\" xlink:href=\"#DejaVuSans-108\"/>\n      <use x=\"148.242188\" xlink:href=\"#DejaVuSans-117\"/>\n      <use x=\"211.621094\" xlink:href=\"#DejaVuSans-101\"/>\n     </g>\n    </g>\n   </g>\n  </g>\n </g>\n <defs>\n  <clipPath id=\"pc1548e81c4\">\n   <rect height=\"217.44\" width=\"334.8\" x=\"182.826562\" y=\"7.2\"/>\n  </clipPath>\n </defs>\n</svg>\n",
            "image/png": "[encoded data removed]"
          },
          "metadata": {}
        }
      ],
      "source": [
        "feature_importance.sort_values(by='value', ascending=False)[:15].plot(kind='barh')"
      ]
    },
    {
      "source": [
        "#### model params"
      ],
      "cell_type": "markdown",
      "metadata": {}
    },
    {
      "cell_type": "code",
      "execution_count": 13,
      "metadata": {},
      "outputs": [
        {
          "output_type": "execute_result",
          "data": {
            "text/plain": [
              "{'random_seed': 42,\n",
              " 'num_iterations': 500,\n",
              " 'verbose': -1,\n",
              " 'device_type': 'cpu',\n",
              " 'objective': 'binary'}"
            ]
          },
          "metadata": {},
          "execution_count": 13
        }
      ],
      "source": [
        "model.model_param"
      ]
    },
    {
      "source": [
        "if we can optimize the model parameters the result can be improved"
      ],
      "cell_type": "markdown",
      "metadata": {}
    },
    {
      "source": [
        "## Optimizing Parameters\n",
        "In this library, I tried to simplify the process of optimizing and iterating parameters as much as possible. You just specify how much time you are willing to spend on optimization, and the library will select the rules for cross-validation, optimization depth, and other optimization parameters based on this time. The more time you give it, the better it will be able to select parameters.    \n",
        "\n",
        "[RUS]\n",
        "В этой библиотеке я постарался максимально упростить процесс оптимизации и перебора параметров. Вы просто указываете сколько вы готовы потратить времени на оптимизацию, а библиотека сама подберет правила кроссвалидации, глубины оптимизации и прочии параметры оптимизации исходя из этого времени. Чем больше времени вы ей дадите, тем более качественней она сможет подобрать параметры."
      ],
      "cell_type": "markdown",
      "metadata": {}
    },
    {
      "cell_type": "code",
      "execution_count": 14,
      "metadata": {},
      "outputs": [
        {
          "output_type": "stream",
          "name": "stdout",
          "text": [
            "classifier optimize: maximize\n",
            "One iteration takes ~ 3.2 sec\n",
            "> Start Auto calibration parameters\n",
            "> Start optimization with the parameters:\n",
            "CV_Folds =  5\n",
            "Score_CV_Folds =  2\n",
            "Feature_Selection =  False\n",
            "Opt_lvl =  1\n",
            "Cold_start =  92.0\n",
            "Early_stoping =  100\n",
            "Metric =  roc_auc_score\n",
            "Direction =  maximize\n",
            "##################################################\n",
            "Default model OptScore = 0.9068\n",
            "optimize: maximize\n",
            "[I 2021-02-23 23:47:23,160] A new study created in memory with name: no-name-19aedb13-8451-49cc-bde0-07d4b6c32d7d\n",
            "Optimize: : 74it [10:04,  8.17s/it,  | Model: LightGBM | OptScore: 0.9141 | Best roc_auc_score: 0.9141 +- 0.005058]\n"
          ]
        }
      ],
      "source": [
        "history = model.opt(\n",
        "    X=X_train,\n",
        "    y=y_train,\n",
        "    timeout=600, # optimization time in seconds\n",
        "    )"
      ]
    },
    {
      "cell_type": "code",
      "execution_count": 15,
      "metadata": {},
      "outputs": [
        {
          "output_type": "execute_result",
          "data": {
            "text/plain": [
              "{'random_seed': 42,\n",
              " 'num_iterations': 500,\n",
              " 'verbose': -1,\n",
              " 'device_type': 'cpu',\n",
              " 'objective': 'binary',\n",
              " 'num_leaves': 4,\n",
              " 'min_child_samples': 308}"
            ]
          },
          "metadata": {},
          "execution_count": 15
        }
      ],
      "source": [
        "model.model_param"
      ]
    },
    {
      "cell_type": "code",
      "execution_count": 16,
      "metadata": {},
      "outputs": [
        {
          "output_type": "stream",
          "name": "stdout",
          "text": [
            "Test AUC:  0.7748\n"
          ]
        }
      ],
      "source": [
        "model = model.fit(X_train, y_train)\n",
        "predicts = model.predict(X_test)\n",
        "print('Test AUC: ', round(sklearn.metrics.roc_auc_score(y_test, predicts),4))"
      ]
    },
    {
      "cell_type": "code",
      "execution_count": 17,
      "metadata": {},
      "outputs": [
        {
          "output_type": "execute_result",
          "data": {
            "text/plain": [
              "    score_opt  model_score  score_std model_name  \\\n",
              "21     0.9141       0.9141   0.005058   LightGBM   \n",
              "35     0.9138       0.9138   0.004850   LightGBM   \n",
              "57     0.9137       0.9137   0.004985   LightGBM   \n",
              "9      0.9136       0.9136   0.004647   LightGBM   \n",
              "11     0.9136       0.9136   0.004876   LightGBM   \n",
              "\n",
              "                                          model_param  \\\n",
              "21  {'random_seed': 42, 'num_iterations': 500, 've...   \n",
              "35  {'random_seed': 42, 'num_iterations': 500, 've...   \n",
              "57  {'random_seed': 42, 'num_iterations': 500, 've...   \n",
              "9   {'random_seed': 42, 'num_iterations': 500, 've...   \n",
              "11  {'random_seed': 42, 'num_iterations': 500, 've...   \n",
              "\n",
              "                                              columns  cv_folds  \n",
              "21  [age, workclass, fnlwgt, education, education-...         5  \n",
              "35  [age, workclass, fnlwgt, education, education-...         5  \n",
              "57  [age, workclass, fnlwgt, education, education-...         5  \n",
              "9   [age, workclass, fnlwgt, education, education-...         5  \n",
              "11  [age, workclass, fnlwgt, education, education-...         5  "
            ],
            "text/html": "<div>\n<style scoped>\n    .dataframe tbody tr th:only-of-type {\n        vertical-align: middle;\n    }\n\n    .dataframe tbody tr th {\n        vertical-align: top;\n    }\n\n    .dataframe thead th {\n        text-align: right;\n    }\n</style>\n<table border=\"1\" class=\"dataframe\">\n  <thead>\n    <tr style=\"text-align: right;\">\n      <th></th>\n      <th>score_opt</th>\n      <th>model_score</th>\n      <th>score_std</th>\n      <th>model_name</th>\n      <th>model_param</th>\n      <th>columns</th>\n      <th>cv_folds</th>\n    </tr>\n  </thead>\n  <tbody>\n    <tr>\n      <th>21</th>\n      <td>0.9141</td>\n      <td>0.9141</td>\n      <td>0.005058</td>\n      <td>LightGBM</td>\n      <td>{'random_seed': 42, 'num_iterations': 500, 've...</td>\n      <td>[age, workclass, fnlwgt, education, education-...</td>\n      <td>5</td>\n    </tr>\n    <tr>\n      <th>35</th>\n      <td>0.9138</td>\n      <td>0.9138</td>\n      <td>0.004850</td>\n      <td>LightGBM</td>\n      <td>{'random_seed': 42, 'num_iterations': 500, 've...</td>\n      <td>[age, workclass, fnlwgt, education, education-...</td>\n      <td>5</td>\n    </tr>\n    <tr>\n      <th>57</th>\n      <td>0.9137</td>\n      <td>0.9137</td>\n      <td>0.004985</td>\n      <td>LightGBM</td>\n      <td>{'random_seed': 42, 'num_iterations': 500, 've...</td>\n      <td>[age, workclass, fnlwgt, education, education-...</td>\n      <td>5</td>\n    </tr>\n    <tr>\n      <th>9</th>\n      <td>0.9136</td>\n      <td>0.9136</td>\n      <td>0.004647</td>\n      <td>LightGBM</td>\n      <td>{'random_seed': 42, 'num_iterations': 500, 've...</td>\n      <td>[age, workclass, fnlwgt, education, education-...</td>\n      <td>5</td>\n    </tr>\n    <tr>\n      <th>11</th>\n      <td>0.9136</td>\n      <td>0.9136</td>\n      <td>0.004876</td>\n      <td>LightGBM</td>\n      <td>{'random_seed': 42, 'num_iterations': 500, 've...</td>\n      <td>[age, workclass, fnlwgt, education, education-...</td>\n      <td>5</td>\n    </tr>\n  </tbody>\n</table>\n</div>"
          },
          "metadata": {},
          "execution_count": 17
        }
      ],
      "source": [
        "history.head(5)"
      ]
    },
    {
      "cell_type": "code",
      "execution_count": 18,
      "metadata": {},
      "outputs": [
        {
          "output_type": "display_data",
          "data": {
            "text/plain": "<Figure size 1080x360 with 2 Axes>",
            "image/svg+xml": "<?xml version=\"1.0\" encoding=\"utf-8\" standalone=\"no\"?>\n<!DOCTYPE svg PUBLIC \"-//W3C//DTD SVG 1.1//EN\"\n  \"http://www.w3.org/Graphics/SVG/1.1/DTD/svg11.dtd\">\n<!-- Created with matplotlib (https://matplotlib.org/) -->\n<svg height=\"331.674375pt\" version=\"1.1\" viewBox=\"0 0 824.374375 331.674375\" width=\"824.374375pt\" xmlns=\"http://www.w3.org/2000/svg\" xmlns:xlink=\"http://www.w3.org/1999/xlink\">\n <metadata>\n  <rdf:RDF xmlns:cc=\"http://creativecommons.org/ns#\" xmlns:dc=\"http://purl.org/dc/elements/1.1/\" xmlns:rdf=\"http://www.w3.org/1999/02/22-rdf-syntax-ns#\">\n   <cc:Work>\n    <dc:type rdf:resource=\"http://purl.org/dc/dcmitype/StillImage\"/>\n    <dc:date>2021-02-23T23:57:34.649506</dc:date>\n    <dc:format>image/svg+xml</dc:format>\n    <dc:creator>\n     <cc:Agent>\n      <dc:title>Matplotlib v3.3.1, https://matplotlib.org/</dc:title>\n     </cc:Agent>\n    </dc:creator>\n   </cc:Work>\n  </rdf:RDF>\n </metadata>\n <defs>\n  <style type=\"text/css\">*{stroke-linecap:butt;stroke-linejoin:round;}</style>\n </defs>\n <g id=\"figure_1\">\n  <g id=\"patch_1\">\n   <path d=\"M 0 331.674375 \nL 824.374375 331.674375 \nL 824.374375 0 \nL 0 0 \nz\n\" style=\"fill:#ffffff;\"/>\n  </g>\n  <g id=\"axes_1\">\n   <g id=\"patch_2\">\n    <path d=\"M 56.50625 294.118125 \nL 726.10625 294.118125 \nL 726.10625 22.318125 \nL 56.50625 22.318125 \nz\n\" style=\"fill:#eaeaf2;\"/>\n   </g>\n   <g id=\"matplotlib.axis_1\">\n    <g id=\"xtick_1\">\n     <g id=\"line2d_1\">\n      <path clip-path=\"url(#p94286b8cec)\" d=\"M 86.942614 294.118125 \nL 86.942614 22.318125 \n\" style=\"fill:none;stroke:#ffffff;stroke-linecap:round;stroke-width:0.8;\"/>\n     </g>\n     <g id=\"text_1\">\n      <!-- 0 -->\n      <g style=\"fill:#262626;\" transform=\"translate(83.761364 308.716563)scale(0.1 -0.1)\">\n       <defs>\n        <path d=\"M 31.78125 66.40625 \nQ 24.171875 66.40625 20.328125 58.90625 \nQ 16.5 51.421875 16.5 36.375 \nQ 16.5 21.390625 20.328125 13.890625 \nQ 24.171875 6.390625 31.78125 6.390625 \nQ 39.453125 6.390625 43.28125 13.890625 \nQ 47.125 21.390625 47.125 36.375 \nQ 47.125 51.421875 43.28125 58.90625 \nQ 39.453125 66.40625 31.78125 66.40625 \nz\nM 31.78125 74.21875 \nQ 44.046875 74.21875 50.515625 64.515625 \nQ 56.984375 54.828125 56.984375 36.375 \nQ 56.984375 17.96875 50.515625 8.265625 \nQ 44.046875 -1.421875 31.78125 -1.421875 \nQ 19.53125 -1.421875 13.0625 8.265625 \nQ 6.59375 17.96875 6.59375 36.375 \nQ 6.59375 54.828125 13.0625 64.515625 \nQ 19.53125 74.21875 31.78125 74.21875 \nz\n\" id=\"DejaVuSans-48\"/>\n       </defs>\n       <use xlink:href=\"#DejaVuSans-48\"/>\n      </g>\n     </g>\n    </g>\n    <g id=\"xtick_2\">\n     <g id=\"line2d_2\">\n      <path clip-path=\"url(#p94286b8cec)\" d=\"M 170.329911 294.118125 \nL 170.329911 22.318125 \n\" style=\"fill:none;stroke:#ffffff;stroke-linecap:round;stroke-width:0.8;\"/>\n     </g>\n     <g id=\"text_2\">\n      <!-- 10 -->\n      <g style=\"fill:#262626;\" transform=\"translate(163.967411 308.716563)scale(0.1 -0.1)\">\n       <defs>\n        <path d=\"M 12.40625 8.296875 \nL 28.515625 8.296875 \nL 28.515625 63.921875 \nL 10.984375 60.40625 \nL 10.984375 69.390625 \nL 28.421875 72.90625 \nL 38.28125 72.90625 \nL 38.28125 8.296875 \nL 54.390625 8.296875 \nL 54.390625 0 \nL 12.40625 0 \nz\n\" id=\"DejaVuSans-49\"/>\n       </defs>\n       <use xlink:href=\"#DejaVuSans-49\"/>\n       <use x=\"63.623047\" xlink:href=\"#DejaVuSans-48\"/>\n      </g>\n     </g>\n    </g>\n    <g id=\"xtick_3\">\n     <g id=\"line2d_3\">\n      <path clip-path=\"url(#p94286b8cec)\" d=\"M 253.717209 294.118125 \nL 253.717209 22.318125 \n\" style=\"fill:none;stroke:#ffffff;stroke-linecap:round;stroke-width:0.8;\"/>\n     </g>\n     <g id=\"text_3\">\n      <!-- 20 -->\n      <g style=\"fill:#262626;\" transform=\"translate(247.354709 308.716563)scale(0.1 -0.1)\">\n       <defs>\n        <path d=\"M 19.1875 8.296875 \nL 53.609375 8.296875 \nL 53.609375 0 \nL 7.328125 0 \nL 7.328125 8.296875 \nQ 12.9375 14.109375 22.625 23.890625 \nQ 32.328125 33.6875 34.8125 36.53125 \nQ 39.546875 41.84375 41.421875 45.53125 \nQ 43.3125 49.21875 43.3125 52.78125 \nQ 43.3125 58.59375 39.234375 62.25 \nQ 35.15625 65.921875 28.609375 65.921875 \nQ 23.96875 65.921875 18.8125 64.3125 \nQ 13.671875 62.703125 7.8125 59.421875 \nL 7.8125 69.390625 \nQ 13.765625 71.78125 18.9375 73 \nQ 24.125 74.21875 28.421875 74.21875 \nQ 39.75 74.21875 46.484375 68.546875 \nQ 53.21875 62.890625 53.21875 53.421875 \nQ 53.21875 48.921875 51.53125 44.890625 \nQ 49.859375 40.875 45.40625 35.40625 \nQ 44.1875 33.984375 37.640625 27.21875 \nQ 31.109375 20.453125 19.1875 8.296875 \nz\n\" id=\"DejaVuSans-50\"/>\n       </defs>\n       <use xlink:href=\"#DejaVuSans-50\"/>\n       <use x=\"63.623047\" xlink:href=\"#DejaVuSans-48\"/>\n      </g>\n     </g>\n    </g>\n    <g id=\"xtick_4\">\n     <g id=\"line2d_4\">\n      <path clip-path=\"url(#p94286b8cec)\" d=\"M 337.104507 294.118125 \nL 337.104507 22.318125 \n\" style=\"fill:none;stroke:#ffffff;stroke-linecap:round;stroke-width:0.8;\"/>\n     </g>\n     <g id=\"text_4\">\n      <!-- 30 -->\n      <g style=\"fill:#262626;\" transform=\"translate(330.742007 308.716563)scale(0.1 -0.1)\">\n       <defs>\n        <path d=\"M 40.578125 39.3125 \nQ 47.65625 37.796875 51.625 33 \nQ 55.609375 28.21875 55.609375 21.1875 \nQ 55.609375 10.40625 48.1875 4.484375 \nQ 40.765625 -1.421875 27.09375 -1.421875 \nQ 22.515625 -1.421875 17.65625 -0.515625 \nQ 12.796875 0.390625 7.625 2.203125 \nL 7.625 11.71875 \nQ 11.71875 9.328125 16.59375 8.109375 \nQ 21.484375 6.890625 26.8125 6.890625 \nQ 36.078125 6.890625 40.9375 10.546875 \nQ 45.796875 14.203125 45.796875 21.1875 \nQ 45.796875 27.640625 41.28125 31.265625 \nQ 36.765625 34.90625 28.71875 34.90625 \nL 20.21875 34.90625 \nL 20.21875 43.015625 \nL 29.109375 43.015625 \nQ 36.375 43.015625 40.234375 45.921875 \nQ 44.09375 48.828125 44.09375 54.296875 \nQ 44.09375 59.90625 40.109375 62.90625 \nQ 36.140625 65.921875 28.71875 65.921875 \nQ 24.65625 65.921875 20.015625 65.03125 \nQ 15.375 64.15625 9.8125 62.3125 \nL 9.8125 71.09375 \nQ 15.4375 72.65625 20.34375 73.4375 \nQ 25.25 74.21875 29.59375 74.21875 \nQ 40.828125 74.21875 47.359375 69.109375 \nQ 53.90625 64.015625 53.90625 55.328125 \nQ 53.90625 49.265625 50.4375 45.09375 \nQ 46.96875 40.921875 40.578125 39.3125 \nz\n\" id=\"DejaVuSans-51\"/>\n       </defs>\n       <use xlink:href=\"#DejaVuSans-51\"/>\n       <use x=\"63.623047\" xlink:href=\"#DejaVuSans-48\"/>\n      </g>\n     </g>\n    </g>\n    <g id=\"xtick_5\">\n     <g id=\"line2d_5\">\n      <path clip-path=\"url(#p94286b8cec)\" d=\"M 420.491804 294.118125 \nL 420.491804 22.318125 \n\" style=\"fill:none;stroke:#ffffff;stroke-linecap:round;stroke-width:0.8;\"/>\n     </g>\n     <g id=\"text_5\">\n      <!-- 40 -->\n      <g style=\"fill:#262626;\" transform=\"translate(414.129304 308.716563)scale(0.1 -0.1)\">\n       <defs>\n        <path d=\"M 37.796875 64.3125 \nL 12.890625 25.390625 \nL 37.796875 25.390625 \nz\nM 35.203125 72.90625 \nL 47.609375 72.90625 \nL 47.609375 25.390625 \nL 58.015625 25.390625 \nL 58.015625 17.1875 \nL 47.609375 17.1875 \nL 47.609375 0 \nL 37.796875 0 \nL 37.796875 17.1875 \nL 4.890625 17.1875 \nL 4.890625 26.703125 \nz\n\" id=\"DejaVuSans-52\"/>\n       </defs>\n       <use xlink:href=\"#DejaVuSans-52\"/>\n       <use x=\"63.623047\" xlink:href=\"#DejaVuSans-48\"/>\n      </g>\n     </g>\n    </g>\n    <g id=\"xtick_6\">\n     <g id=\"line2d_6\">\n      <path clip-path=\"url(#p94286b8cec)\" d=\"M 503.879102 294.118125 \nL 503.879102 22.318125 \n\" style=\"fill:none;stroke:#ffffff;stroke-linecap:round;stroke-width:0.8;\"/>\n     </g>\n     <g id=\"text_6\">\n      <!-- 50 -->\n      <g style=\"fill:#262626;\" transform=\"translate(497.516602 308.716563)scale(0.1 -0.1)\">\n       <defs>\n        <path d=\"M 10.796875 72.90625 \nL 49.515625 72.90625 \nL 49.515625 64.59375 \nL 19.828125 64.59375 \nL 19.828125 46.734375 \nQ 21.96875 47.46875 24.109375 47.828125 \nQ 26.265625 48.1875 28.421875 48.1875 \nQ 40.625 48.1875 47.75 41.5 \nQ 54.890625 34.8125 54.890625 23.390625 \nQ 54.890625 11.625 47.5625 5.09375 \nQ 40.234375 -1.421875 26.90625 -1.421875 \nQ 22.3125 -1.421875 17.546875 -0.640625 \nQ 12.796875 0.140625 7.71875 1.703125 \nL 7.71875 11.625 \nQ 12.109375 9.234375 16.796875 8.0625 \nQ 21.484375 6.890625 26.703125 6.890625 \nQ 35.15625 6.890625 40.078125 11.328125 \nQ 45.015625 15.765625 45.015625 23.390625 \nQ 45.015625 31 40.078125 35.4375 \nQ 35.15625 39.890625 26.703125 39.890625 \nQ 22.75 39.890625 18.8125 39.015625 \nQ 14.890625 38.140625 10.796875 36.28125 \nz\n\" id=\"DejaVuSans-53\"/>\n       </defs>\n       <use xlink:href=\"#DejaVuSans-53\"/>\n       <use x=\"63.623047\" xlink:href=\"#DejaVuSans-48\"/>\n      </g>\n     </g>\n    </g>\n    <g id=\"xtick_7\">\n     <g id=\"line2d_7\">\n      <path clip-path=\"url(#p94286b8cec)\" d=\"M 587.266399 294.118125 \nL 587.266399 22.318125 \n\" style=\"fill:none;stroke:#ffffff;stroke-linecap:round;stroke-width:0.8;\"/>\n     </g>\n     <g id=\"text_7\">\n      <!-- 60 -->\n      <g style=\"fill:#262626;\" transform=\"translate(580.903899 308.716563)scale(0.1 -0.1)\">\n       <defs>\n        <path d=\"M 33.015625 40.375 \nQ 26.375 40.375 22.484375 35.828125 \nQ 18.609375 31.296875 18.609375 23.390625 \nQ 18.609375 15.53125 22.484375 10.953125 \nQ 26.375 6.390625 33.015625 6.390625 \nQ 39.65625 6.390625 43.53125 10.953125 \nQ 47.40625 15.53125 47.40625 23.390625 \nQ 47.40625 31.296875 43.53125 35.828125 \nQ 39.65625 40.375 33.015625 40.375 \nz\nM 52.59375 71.296875 \nL 52.59375 62.3125 \nQ 48.875 64.0625 45.09375 64.984375 \nQ 41.3125 65.921875 37.59375 65.921875 \nQ 27.828125 65.921875 22.671875 59.328125 \nQ 17.53125 52.734375 16.796875 39.40625 \nQ 19.671875 43.65625 24.015625 45.921875 \nQ 28.375 48.1875 33.59375 48.1875 \nQ 44.578125 48.1875 50.953125 41.515625 \nQ 57.328125 34.859375 57.328125 23.390625 \nQ 57.328125 12.15625 50.6875 5.359375 \nQ 44.046875 -1.421875 33.015625 -1.421875 \nQ 20.359375 -1.421875 13.671875 8.265625 \nQ 6.984375 17.96875 6.984375 36.375 \nQ 6.984375 53.65625 15.1875 63.9375 \nQ 23.390625 74.21875 37.203125 74.21875 \nQ 40.921875 74.21875 44.703125 73.484375 \nQ 48.484375 72.75 52.59375 71.296875 \nz\n\" id=\"DejaVuSans-54\"/>\n       </defs>\n       <use xlink:href=\"#DejaVuSans-54\"/>\n       <use x=\"63.623047\" xlink:href=\"#DejaVuSans-48\"/>\n      </g>\n     </g>\n    </g>\n    <g id=\"xtick_8\">\n     <g id=\"line2d_8\">\n      <path clip-path=\"url(#p94286b8cec)\" d=\"M 670.653697 294.118125 \nL 670.653697 22.318125 \n\" style=\"fill:none;stroke:#ffffff;stroke-linecap:round;stroke-width:0.8;\"/>\n     </g>\n     <g id=\"text_8\">\n      <!-- 70 -->\n      <g style=\"fill:#262626;\" transform=\"translate(664.291197 308.716563)scale(0.1 -0.1)\">\n       <defs>\n        <path d=\"M 8.203125 72.90625 \nL 55.078125 72.90625 \nL 55.078125 68.703125 \nL 28.609375 0 \nL 18.3125 0 \nL 43.21875 64.59375 \nL 8.203125 64.59375 \nz\n\" id=\"DejaVuSans-55\"/>\n       </defs>\n       <use xlink:href=\"#DejaVuSans-55\"/>\n       <use x=\"63.623047\" xlink:href=\"#DejaVuSans-48\"/>\n      </g>\n     </g>\n    </g>\n    <g id=\"text_9\">\n     <!-- Iter -->\n     <g style=\"fill:#262626;\" transform=\"translate(382.739063 322.394687)scale(0.1 -0.1)\">\n      <defs>\n       <path d=\"M 9.8125 72.90625 \nL 19.671875 72.90625 \nL 19.671875 0 \nL 9.8125 0 \nz\n\" id=\"DejaVuSans-73\"/>\n       <path d=\"M 18.3125 70.21875 \nL 18.3125 54.6875 \nL 36.8125 54.6875 \nL 36.8125 47.703125 \nL 18.3125 47.703125 \nL 18.3125 18.015625 \nQ 18.3125 11.328125 20.140625 9.421875 \nQ 21.96875 7.515625 27.59375 7.515625 \nL 36.8125 7.515625 \nL 36.8125 0 \nL 27.59375 0 \nQ 17.1875 0 13.234375 3.875 \nQ 9.28125 7.765625 9.28125 18.015625 \nL 9.28125 47.703125 \nL 2.6875 47.703125 \nL 2.6875 54.6875 \nL 9.28125 54.6875 \nL 9.28125 70.21875 \nz\n\" id=\"DejaVuSans-116\"/>\n       <path d=\"M 56.203125 29.59375 \nL 56.203125 25.203125 \nL 14.890625 25.203125 \nQ 15.484375 15.921875 20.484375 11.0625 \nQ 25.484375 6.203125 34.421875 6.203125 \nQ 39.59375 6.203125 44.453125 7.46875 \nQ 49.3125 8.734375 54.109375 11.28125 \nL 54.109375 2.78125 \nQ 49.265625 0.734375 44.1875 -0.34375 \nQ 39.109375 -1.421875 33.890625 -1.421875 \nQ 20.796875 -1.421875 13.15625 6.1875 \nQ 5.515625 13.8125 5.515625 26.8125 \nQ 5.515625 40.234375 12.765625 48.109375 \nQ 20.015625 56 32.328125 56 \nQ 43.359375 56 49.78125 48.890625 \nQ 56.203125 41.796875 56.203125 29.59375 \nz\nM 47.21875 32.234375 \nQ 47.125 39.59375 43.09375 43.984375 \nQ 39.0625 48.390625 32.421875 48.390625 \nQ 24.90625 48.390625 20.390625 44.140625 \nQ 15.875 39.890625 15.1875 32.171875 \nz\n\" id=\"DejaVuSans-101\"/>\n       <path d=\"M 41.109375 46.296875 \nQ 39.59375 47.171875 37.8125 47.578125 \nQ 36.03125 48 33.890625 48 \nQ 26.265625 48 22.1875 43.046875 \nQ 18.109375 38.09375 18.109375 28.8125 \nL 18.109375 0 \nL 9.078125 0 \nL 9.078125 54.6875 \nL 18.109375 54.6875 \nL 18.109375 46.1875 \nQ 20.953125 51.171875 25.484375 53.578125 \nQ 30.03125 56 36.53125 56 \nQ 37.453125 56 38.578125 55.875 \nQ 39.703125 55.765625 41.0625 55.515625 \nz\n\" id=\"DejaVuSans-114\"/>\n      </defs>\n      <use xlink:href=\"#DejaVuSans-73\"/>\n      <use x=\"29.492188\" xlink:href=\"#DejaVuSans-116\"/>\n      <use x=\"68.701172\" xlink:href=\"#DejaVuSans-101\"/>\n      <use x=\"130.224609\" xlink:href=\"#DejaVuSans-114\"/>\n     </g>\n    </g>\n   </g>\n   <g id=\"matplotlib.axis_2\">\n    <g id=\"ytick_1\">\n     <g id=\"line2d_9\">\n      <path clip-path=\"url(#p94286b8cec)\" d=\"M 56.50625 251.682947 \nL 726.10625 251.682947 \n\" style=\"fill:none;stroke:#ffffff;stroke-linecap:round;stroke-width:0.8;\"/>\n     </g>\n     <g id=\"text_10\">\n      <!-- 0.904 -->\n      <g style=\"fill:#262626;\" transform=\"translate(20.878125 255.482166)scale(0.1 -0.1)\">\n       <defs>\n        <path d=\"M 10.6875 12.40625 \nL 21 12.40625 \nL 21 0 \nL 10.6875 0 \nz\n\" id=\"DejaVuSans-46\"/>\n        <path d=\"M 10.984375 1.515625 \nL 10.984375 10.5 \nQ 14.703125 8.734375 18.5 7.8125 \nQ 22.3125 6.890625 25.984375 6.890625 \nQ 35.75 6.890625 40.890625 13.453125 \nQ 46.046875 20.015625 46.78125 33.40625 \nQ 43.953125 29.203125 39.59375 26.953125 \nQ 35.25 24.703125 29.984375 24.703125 \nQ 19.046875 24.703125 12.671875 31.3125 \nQ 6.296875 37.9375 6.296875 49.421875 \nQ 6.296875 60.640625 12.9375 67.421875 \nQ 19.578125 74.21875 30.609375 74.21875 \nQ 43.265625 74.21875 49.921875 64.515625 \nQ 56.59375 54.828125 56.59375 36.375 \nQ 56.59375 19.140625 48.40625 8.859375 \nQ 40.234375 -1.421875 26.421875 -1.421875 \nQ 22.703125 -1.421875 18.890625 -0.6875 \nQ 15.09375 0.046875 10.984375 1.515625 \nz\nM 30.609375 32.421875 \nQ 37.25 32.421875 41.125 36.953125 \nQ 45.015625 41.5 45.015625 49.421875 \nQ 45.015625 57.28125 41.125 61.84375 \nQ 37.25 66.40625 30.609375 66.40625 \nQ 23.96875 66.40625 20.09375 61.84375 \nQ 16.21875 57.28125 16.21875 49.421875 \nQ 16.21875 41.5 20.09375 36.953125 \nQ 23.96875 32.421875 30.609375 32.421875 \nz\n\" id=\"DejaVuSans-57\"/>\n       </defs>\n       <use xlink:href=\"#DejaVuSans-48\"/>\n       <use x=\"63.623047\" xlink:href=\"#DejaVuSans-46\"/>\n       <use x=\"95.410156\" xlink:href=\"#DejaVuSans-57\"/>\n       <use x=\"159.033203\" xlink:href=\"#DejaVuSans-48\"/>\n       <use x=\"222.65625\" xlink:href=\"#DejaVuSans-52\"/>\n      </g>\n     </g>\n    </g>\n    <g id=\"ytick_2\">\n     <g id=\"line2d_10\">\n      <path clip-path=\"url(#p94286b8cec)\" d=\"M 56.50625 208.710615 \nL 726.10625 208.710615 \n\" style=\"fill:none;stroke:#ffffff;stroke-linecap:round;stroke-width:0.8;\"/>\n     </g>\n     <g id=\"text_11\">\n      <!-- 0.906 -->\n      <g style=\"fill:#262626;\" transform=\"translate(20.878125 212.509834)scale(0.1 -0.1)\">\n       <use xlink:href=\"#DejaVuSans-48\"/>\n       <use x=\"63.623047\" xlink:href=\"#DejaVuSans-46\"/>\n       <use x=\"95.410156\" xlink:href=\"#DejaVuSans-57\"/>\n       <use x=\"159.033203\" xlink:href=\"#DejaVuSans-48\"/>\n       <use x=\"222.65625\" xlink:href=\"#DejaVuSans-54\"/>\n      </g>\n     </g>\n    </g>\n    <g id=\"ytick_3\">\n     <g id=\"line2d_11\">\n      <path clip-path=\"url(#p94286b8cec)\" d=\"M 56.50625 165.738283 \nL 726.10625 165.738283 \n\" style=\"fill:none;stroke:#ffffff;stroke-linecap:round;stroke-width:0.8;\"/>\n     </g>\n     <g id=\"text_12\">\n      <!-- 0.908 -->\n      <g style=\"fill:#262626;\" transform=\"translate(20.878125 169.537502)scale(0.1 -0.1)\">\n       <defs>\n        <path d=\"M 31.78125 34.625 \nQ 24.75 34.625 20.71875 30.859375 \nQ 16.703125 27.09375 16.703125 20.515625 \nQ 16.703125 13.921875 20.71875 10.15625 \nQ 24.75 6.390625 31.78125 6.390625 \nQ 38.8125 6.390625 42.859375 10.171875 \nQ 46.921875 13.96875 46.921875 20.515625 \nQ 46.921875 27.09375 42.890625 30.859375 \nQ 38.875 34.625 31.78125 34.625 \nz\nM 21.921875 38.8125 \nQ 15.578125 40.375 12.03125 44.71875 \nQ 8.5 49.078125 8.5 55.328125 \nQ 8.5 64.0625 14.71875 69.140625 \nQ 20.953125 74.21875 31.78125 74.21875 \nQ 42.671875 74.21875 48.875 69.140625 \nQ 55.078125 64.0625 55.078125 55.328125 \nQ 55.078125 49.078125 51.53125 44.71875 \nQ 48 40.375 41.703125 38.8125 \nQ 48.828125 37.15625 52.796875 32.3125 \nQ 56.78125 27.484375 56.78125 20.515625 \nQ 56.78125 9.90625 50.3125 4.234375 \nQ 43.84375 -1.421875 31.78125 -1.421875 \nQ 19.734375 -1.421875 13.25 4.234375 \nQ 6.78125 9.90625 6.78125 20.515625 \nQ 6.78125 27.484375 10.78125 32.3125 \nQ 14.796875 37.15625 21.921875 38.8125 \nz\nM 18.3125 54.390625 \nQ 18.3125 48.734375 21.84375 45.5625 \nQ 25.390625 42.390625 31.78125 42.390625 \nQ 38.140625 42.390625 41.71875 45.5625 \nQ 45.3125 48.734375 45.3125 54.390625 \nQ 45.3125 60.0625 41.71875 63.234375 \nQ 38.140625 66.40625 31.78125 66.40625 \nQ 25.390625 66.40625 21.84375 63.234375 \nQ 18.3125 60.0625 18.3125 54.390625 \nz\n\" id=\"DejaVuSans-56\"/>\n       </defs>\n       <use xlink:href=\"#DejaVuSans-48\"/>\n       <use x=\"63.623047\" xlink:href=\"#DejaVuSans-46\"/>\n       <use x=\"95.410156\" xlink:href=\"#DejaVuSans-57\"/>\n       <use x=\"159.033203\" xlink:href=\"#DejaVuSans-48\"/>\n       <use x=\"222.65625\" xlink:href=\"#DejaVuSans-56\"/>\n      </g>\n     </g>\n    </g>\n    <g id=\"ytick_4\">\n     <g id=\"line2d_12\">\n      <path clip-path=\"url(#p94286b8cec)\" d=\"M 56.50625 122.765951 \nL 726.10625 122.765951 \n\" style=\"fill:none;stroke:#ffffff;stroke-linecap:round;stroke-width:0.8;\"/>\n     </g>\n     <g id=\"text_13\">\n      <!-- 0.910 -->\n      <g style=\"fill:#262626;\" transform=\"translate(20.878125 126.56517)scale(0.1 -0.1)\">\n       <use xlink:href=\"#DejaVuSans-48\"/>\n       <use x=\"63.623047\" xlink:href=\"#DejaVuSans-46\"/>\n       <use x=\"95.410156\" xlink:href=\"#DejaVuSans-57\"/>\n       <use x=\"159.033203\" xlink:href=\"#DejaVuSans-49\"/>\n       <use x=\"222.65625\" xlink:href=\"#DejaVuSans-48\"/>\n      </g>\n     </g>\n    </g>\n    <g id=\"ytick_5\">\n     <g id=\"line2d_13\">\n      <path clip-path=\"url(#p94286b8cec)\" d=\"M 56.50625 79.793619 \nL 726.10625 79.793619 \n\" style=\"fill:none;stroke:#ffffff;stroke-linecap:round;stroke-width:0.8;\"/>\n     </g>\n     <g id=\"text_14\">\n      <!-- 0.912 -->\n      <g style=\"fill:#262626;\" transform=\"translate(20.878125 83.592838)scale(0.1 -0.1)\">\n       <use xlink:href=\"#DejaVuSans-48\"/>\n       <use x=\"63.623047\" xlink:href=\"#DejaVuSans-46\"/>\n       <use x=\"95.410156\" xlink:href=\"#DejaVuSans-57\"/>\n       <use x=\"159.033203\" xlink:href=\"#DejaVuSans-49\"/>\n       <use x=\"222.65625\" xlink:href=\"#DejaVuSans-50\"/>\n      </g>\n     </g>\n    </g>\n    <g id=\"ytick_6\">\n     <g id=\"line2d_14\">\n      <path clip-path=\"url(#p94286b8cec)\" d=\"M 56.50625 36.821287 \nL 726.10625 36.821287 \n\" style=\"fill:none;stroke:#ffffff;stroke-linecap:round;stroke-width:0.8;\"/>\n     </g>\n     <g id=\"text_15\">\n      <!-- 0.914 -->\n      <g style=\"fill:#262626;\" transform=\"translate(20.878125 40.620506)scale(0.1 -0.1)\">\n       <use xlink:href=\"#DejaVuSans-48\"/>\n       <use x=\"63.623047\" xlink:href=\"#DejaVuSans-46\"/>\n       <use x=\"95.410156\" xlink:href=\"#DejaVuSans-57\"/>\n       <use x=\"159.033203\" xlink:href=\"#DejaVuSans-49\"/>\n       <use x=\"222.65625\" xlink:href=\"#DejaVuSans-52\"/>\n      </g>\n     </g>\n    </g>\n    <g id=\"text_16\">\n     <!-- Score -->\n     <g style=\"fill:#262626;\" transform=\"translate(14.798438 172.220469)rotate(-90)scale(0.1 -0.1)\">\n      <defs>\n       <path d=\"M 53.515625 70.515625 \nL 53.515625 60.890625 \nQ 47.90625 63.578125 42.921875 64.890625 \nQ 37.9375 66.21875 33.296875 66.21875 \nQ 25.25 66.21875 20.875 63.09375 \nQ 16.5 59.96875 16.5 54.203125 \nQ 16.5 49.359375 19.40625 46.890625 \nQ 22.3125 44.4375 30.421875 42.921875 \nL 36.375 41.703125 \nQ 47.40625 39.59375 52.65625 34.296875 \nQ 57.90625 29 57.90625 20.125 \nQ 57.90625 9.515625 50.796875 4.046875 \nQ 43.703125 -1.421875 29.984375 -1.421875 \nQ 24.8125 -1.421875 18.96875 -0.25 \nQ 13.140625 0.921875 6.890625 3.21875 \nL 6.890625 13.375 \nQ 12.890625 10.015625 18.65625 8.296875 \nQ 24.421875 6.59375 29.984375 6.59375 \nQ 38.421875 6.59375 43.015625 9.90625 \nQ 47.609375 13.234375 47.609375 19.390625 \nQ 47.609375 24.75 44.3125 27.78125 \nQ 41.015625 30.8125 33.5 32.328125 \nL 27.484375 33.5 \nQ 16.453125 35.6875 11.515625 40.375 \nQ 6.59375 45.0625 6.59375 53.421875 \nQ 6.59375 63.09375 13.40625 68.65625 \nQ 20.21875 74.21875 32.171875 74.21875 \nQ 37.3125 74.21875 42.625 73.28125 \nQ 47.953125 72.359375 53.515625 70.515625 \nz\n\" id=\"DejaVuSans-83\"/>\n       <path d=\"M 48.78125 52.59375 \nL 48.78125 44.1875 \nQ 44.96875 46.296875 41.140625 47.34375 \nQ 37.3125 48.390625 33.40625 48.390625 \nQ 24.65625 48.390625 19.8125 42.84375 \nQ 14.984375 37.3125 14.984375 27.296875 \nQ 14.984375 17.28125 19.8125 11.734375 \nQ 24.65625 6.203125 33.40625 6.203125 \nQ 37.3125 6.203125 41.140625 7.25 \nQ 44.96875 8.296875 48.78125 10.40625 \nL 48.78125 2.09375 \nQ 45.015625 0.34375 40.984375 -0.53125 \nQ 36.96875 -1.421875 32.421875 -1.421875 \nQ 20.0625 -1.421875 12.78125 6.34375 \nQ 5.515625 14.109375 5.515625 27.296875 \nQ 5.515625 40.671875 12.859375 48.328125 \nQ 20.21875 56 33.015625 56 \nQ 37.15625 56 41.109375 55.140625 \nQ 45.0625 54.296875 48.78125 52.59375 \nz\n\" id=\"DejaVuSans-99\"/>\n       <path d=\"M 30.609375 48.390625 \nQ 23.390625 48.390625 19.1875 42.75 \nQ 14.984375 37.109375 14.984375 27.296875 \nQ 14.984375 17.484375 19.15625 11.84375 \nQ 23.34375 6.203125 30.609375 6.203125 \nQ 37.796875 6.203125 41.984375 11.859375 \nQ 46.1875 17.53125 46.1875 27.296875 \nQ 46.1875 37.015625 41.984375 42.703125 \nQ 37.796875 48.390625 30.609375 48.390625 \nz\nM 30.609375 56 \nQ 42.328125 56 49.015625 48.375 \nQ 55.71875 40.765625 55.71875 27.296875 \nQ 55.71875 13.875 49.015625 6.21875 \nQ 42.328125 -1.421875 30.609375 -1.421875 \nQ 18.84375 -1.421875 12.171875 6.21875 \nQ 5.515625 13.875 5.515625 27.296875 \nQ 5.515625 40.765625 12.171875 48.375 \nQ 18.84375 56 30.609375 56 \nz\n\" id=\"DejaVuSans-111\"/>\n      </defs>\n      <use xlink:href=\"#DejaVuSans-83\"/>\n      <use x=\"63.476562\" xlink:href=\"#DejaVuSans-99\"/>\n      <use x=\"118.457031\" xlink:href=\"#DejaVuSans-111\"/>\n      <use x=\"179.638672\" xlink:href=\"#DejaVuSans-114\"/>\n      <use x=\"218.501953\" xlink:href=\"#DejaVuSans-101\"/>\n     </g>\n    </g>\n   </g>\n   <g id=\"PathCollection_1\">\n    <defs>\n     <path d=\"M 0 2.5 \nC 0.663008 2.5 1.29895 2.236584 1.767767 1.767767 \nC 2.236584 1.29895 2.5 0.663008 2.5 -0 \nC 2.5 -0.663008 2.236584 -1.29895 1.767767 -1.767767 \nC 1.29895 -2.236584 0.663008 -2.5 0 -2.5 \nC -0.663008 -2.5 -1.29895 -2.236584 -1.767767 -1.767767 \nC -2.236584 -1.29895 -2.5 -0.663008 -2.5 0 \nC -2.5 0.663008 -2.236584 1.29895 -1.767767 1.767767 \nC -1.29895 2.236584 -0.663008 2.5 0 2.5 \nz\n\" id=\"C0_0_f363cd74a1\"/>\n    </defs>\n    <g clip-path=\"url(#p94286b8cec)\">\n     <use style=\"fill:#5d7ce6;stroke:#5d7ce6;\" x=\"86.942614\" xlink:href=\"#C0_0_f363cd74a1\" y=\"253.831564\"/>\n    </g>\n    <g clip-path=\"url(#p94286b8cec)\">\n     <use style=\"fill:#f2cbb7;stroke:#f2cbb7;\" x=\"95.281343\" xlink:href=\"#C0_0_f363cd74a1\" y=\"133.509034\"/>\n    </g>\n    <g clip-path=\"url(#p94286b8cec)\">\n     <use style=\"fill:#dd5f4b;stroke:#dd5f4b;\" x=\"103.620073\" xlink:href=\"#C0_0_f363cd74a1\" y=\"64.753303\"/>\n    </g>\n    <g clip-path=\"url(#p94286b8cec)\">\n     <use style=\"fill:#cfdaea;stroke:#cfdaea;\" x=\"111.958803\" xlink:href=\"#C0_0_f363cd74a1\" y=\"170.035516\"/>\n    </g>\n    <g clip-path=\"url(#p94286b8cec)\">\n     <use style=\"fill:#dbdcde;stroke:#dbdcde;\" x=\"120.297533\" xlink:href=\"#C0_0_f363cd74a1\" y=\"159.292433\"/>\n    </g>\n    <g clip-path=\"url(#p94286b8cec)\">\n     <use style=\"fill:#f49a7b;stroke:#f49a7b;\" x=\"128.636262\" xlink:href=\"#C0_0_f363cd74a1\" y=\"96.982552\"/>\n    </g>\n    <g clip-path=\"url(#p94286b8cec)\">\n     <use style=\"fill:#8db0fe;stroke:#8db0fe;\" x=\"136.974992\" xlink:href=\"#C0_0_f363cd74a1\" y=\"219.453698\"/>\n    </g>\n    <g clip-path=\"url(#p94286b8cec)\">\n     <use style=\"fill:#bad0f8;stroke:#bad0f8;\" x=\"145.313722\" xlink:href=\"#C0_0_f363cd74a1\" y=\"187.224449\"/>\n    </g>\n    <g clip-path=\"url(#p94286b8cec)\">\n     <use style=\"fill:#cdd9ec;stroke:#cdd9ec;\" x=\"153.652452\" xlink:href=\"#C0_0_f363cd74a1\" y=\"172.184133\"/>\n    </g>\n    <g clip-path=\"url(#p94286b8cec)\">\n     <use style=\"fill:#c43032;stroke:#c43032;\" x=\"161.991182\" xlink:href=\"#C0_0_f363cd74a1\" y=\"45.415753\"/>\n    </g>\n    <g clip-path=\"url(#p94286b8cec)\">\n     <use style=\"fill:#536edd;stroke:#536edd;\" x=\"170.329911\" xlink:href=\"#C0_0_f363cd74a1\" y=\"262.42603\"/>\n    </g>\n    <g clip-path=\"url(#p94286b8cec)\">\n     <use style=\"fill:#c43032;stroke:#c43032;\" x=\"178.668641\" xlink:href=\"#C0_0_f363cd74a1\" y=\"45.415753\"/>\n    </g>\n    <g clip-path=\"url(#p94286b8cec)\">\n     <use style=\"fill:#cfdaea;stroke:#cfdaea;\" x=\"187.007371\" xlink:href=\"#C0_0_f363cd74a1\" y=\"170.035516\"/>\n    </g>\n    <g clip-path=\"url(#p94286b8cec)\">\n     <use style=\"fill:#f59d7e;stroke:#f59d7e;\" x=\"195.346101\" xlink:href=\"#C0_0_f363cd74a1\" y=\"99.131168\"/>\n    </g>\n    <g clip-path=\"url(#p94286b8cec)\">\n     <use style=\"fill:#c0d4f5;stroke:#c0d4f5;\" x=\"203.68483\" xlink:href=\"#C0_0_f363cd74a1\" y=\"182.927216\"/>\n    </g>\n    <g clip-path=\"url(#p94286b8cec)\">\n     <use style=\"fill:#6180e9;stroke:#6180e9;\" x=\"212.02356\" xlink:href=\"#C0_0_f363cd74a1\" y=\"251.682947\"/>\n    </g>\n    <g clip-path=\"url(#p94286b8cec)\">\n     <use style=\"fill:#4f69d9;stroke:#4f69d9;\" x=\"220.36229\" xlink:href=\"#C0_0_f363cd74a1\" y=\"264.574647\"/>\n    </g>\n    <g clip-path=\"url(#p94286b8cec)\">\n     <use style=\"fill:#5d7ce6;stroke:#5d7ce6;\" x=\"228.70102\" xlink:href=\"#C0_0_f363cd74a1\" y=\"253.831564\"/>\n    </g>\n    <g clip-path=\"url(#p94286b8cec)\">\n     <use style=\"fill:#f4c6af;stroke:#f4c6af;\" x=\"237.039749\" xlink:href=\"#C0_0_f363cd74a1\" y=\"129.211801\"/>\n    </g>\n    <g clip-path=\"url(#p94286b8cec)\">\n     <use style=\"fill:#3f53c6;stroke:#3f53c6;\" x=\"245.378479\" xlink:href=\"#C0_0_f363cd74a1\" y=\"277.466346\"/>\n    </g>\n    <g clip-path=\"url(#p94286b8cec)\">\n     <use style=\"fill:#5572df;stroke:#5572df;\" x=\"253.717209\" xlink:href=\"#C0_0_f363cd74a1\" y=\"260.277414\"/>\n    </g>\n    <g clip-path=\"url(#p94286b8cec)\">\n     <use style=\"fill:#b40426;stroke:#b40426;\" x=\"262.055939\" xlink:href=\"#C0_0_f363cd74a1\" y=\"34.67267\"/>\n    </g>\n    <g clip-path=\"url(#p94286b8cec)\">\n     <use style=\"fill:#d24b40;stroke:#d24b40;\" x=\"270.394668\" xlink:href=\"#C0_0_f363cd74a1\" y=\"56.158836\"/>\n    </g>\n    <g clip-path=\"url(#p94286b8cec)\">\n     <use style=\"fill:#e57058;stroke:#e57058;\" x=\"278.733398\" xlink:href=\"#C0_0_f363cd74a1\" y=\"73.347769\"/>\n    </g>\n    <g clip-path=\"url(#p94286b8cec)\">\n     <use style=\"fill:#f2cbb7;stroke:#f2cbb7;\" x=\"287.072128\" xlink:href=\"#C0_0_f363cd74a1\" y=\"133.509034\"/>\n    </g>\n    <g clip-path=\"url(#p94286b8cec)\">\n     <use style=\"fill:#c3d5f4;stroke:#c3d5f4;\" x=\"295.410858\" xlink:href=\"#C0_0_f363cd74a1\" y=\"180.778599\"/>\n    </g>\n    <g clip-path=\"url(#p94286b8cec)\">\n     <use style=\"fill:#f6bda2;stroke:#f6bda2;\" x=\"303.749587\" xlink:href=\"#C0_0_f363cd74a1\" y=\"120.617334\"/>\n    </g>\n    <g clip-path=\"url(#p94286b8cec)\">\n     <use style=\"fill:#e16751;stroke:#e16751;\" x=\"312.088317\" xlink:href=\"#C0_0_f363cd74a1\" y=\"69.050536\"/>\n    </g>\n    <g clip-path=\"url(#p94286b8cec)\">\n     <use style=\"fill:#ca3b37;stroke:#ca3b37;\" x=\"320.427047\" xlink:href=\"#C0_0_f363cd74a1\" y=\"49.712987\"/>\n    </g>\n    <g clip-path=\"url(#p94286b8cec)\">\n     <use style=\"fill:#afcafc;stroke:#afcafc;\" x=\"328.765777\" xlink:href=\"#C0_0_f363cd74a1\" y=\"195.818916\"/>\n    </g>\n    <g clip-path=\"url(#p94286b8cec)\">\n     <use style=\"fill:#d0473d;stroke:#d0473d;\" x=\"337.104507\" xlink:href=\"#C0_0_f363cd74a1\" y=\"54.01022\"/>\n    </g>\n    <g clip-path=\"url(#p94286b8cec)\">\n     <use style=\"fill:#536edd;stroke:#536edd;\" x=\"345.443236\" xlink:href=\"#C0_0_f363cd74a1\" y=\"262.42603\"/>\n    </g>\n    <g clip-path=\"url(#p94286b8cec)\">\n     <use style=\"fill:#f6bfa6;stroke:#f6bfa6;\" x=\"353.781966\" xlink:href=\"#C0_0_f363cd74a1\" y=\"122.765951\"/>\n    </g>\n    <g clip-path=\"url(#p94286b8cec)\">\n     <use style=\"fill:#8badfd;stroke:#8badfd;\" x=\"362.120696\" xlink:href=\"#C0_0_f363cd74a1\" y=\"221.602315\"/>\n    </g>\n    <g clip-path=\"url(#p94286b8cec)\">\n     <use style=\"fill:#6687ed;stroke:#6687ed;\" x=\"370.459426\" xlink:href=\"#C0_0_f363cd74a1\" y=\"247.385714\"/>\n    </g>\n    <g clip-path=\"url(#p94286b8cec)\">\n     <use style=\"fill:#bd1f2d;stroke:#bd1f2d;\" x=\"378.798155\" xlink:href=\"#C0_0_f363cd74a1\" y=\"41.11852\"/>\n    </g>\n    <g clip-path=\"url(#p94286b8cec)\">\n     <use style=\"fill:#485fd1;stroke:#485fd1;\" x=\"387.136885\" xlink:href=\"#C0_0_f363cd74a1\" y=\"271.020497\"/>\n    </g>\n    <g clip-path=\"url(#p94286b8cec)\">\n     <use style=\"fill:#94b6ff;stroke:#94b6ff;\" x=\"395.475615\" xlink:href=\"#C0_0_f363cd74a1\" y=\"215.156465\"/>\n    </g>\n    <g clip-path=\"url(#p94286b8cec)\">\n     <use style=\"fill:#e2dad5;stroke:#e2dad5;\" x=\"403.814345\" xlink:href=\"#C0_0_f363cd74a1\" y=\"152.846583\"/>\n    </g>\n    <g clip-path=\"url(#p94286b8cec)\">\n     <use style=\"fill:#445acc;stroke:#445acc;\" x=\"412.153074\" xlink:href=\"#C0_0_f363cd74a1\" y=\"273.169113\"/>\n    </g>\n    <g clip-path=\"url(#p94286b8cec)\">\n     <use style=\"fill:#ef886b;stroke:#ef886b;\" x=\"420.491804\" xlink:href=\"#C0_0_f363cd74a1\" y=\"86.239469\"/>\n    </g>\n    <g clip-path=\"url(#p94286b8cec)\">\n     <use style=\"fill:#97b8ff;stroke:#97b8ff;\" x=\"428.830534\" xlink:href=\"#C0_0_f363cd74a1\" y=\"213.007848\"/>\n    </g>\n    <g clip-path=\"url(#p94286b8cec)\">\n     <use style=\"fill:#f4c6af;stroke:#f4c6af;\" x=\"437.169264\" xlink:href=\"#C0_0_f363cd74a1\" y=\"129.211801\"/>\n    </g>\n    <g clip-path=\"url(#p94286b8cec)\">\n     <use style=\"fill:#485fd1;stroke:#485fd1;\" x=\"445.507993\" xlink:href=\"#C0_0_f363cd74a1\" y=\"271.020497\"/>\n    </g>\n    <g clip-path=\"url(#p94286b8cec)\">\n     <use style=\"fill:#f5c4ac;stroke:#f5c4ac;\" x=\"453.846723\" xlink:href=\"#C0_0_f363cd74a1\" y=\"127.063184\"/>\n    </g>\n    <g clip-path=\"url(#p94286b8cec)\">\n     <use style=\"fill:#efcebd;stroke:#efcebd;\" x=\"462.185453\" xlink:href=\"#C0_0_f363cd74a1\" y=\"137.806267\"/>\n    </g>\n    <g clip-path=\"url(#p94286b8cec)\">\n     <use style=\"fill:#b2ccfb;stroke:#b2ccfb;\" x=\"470.524183\" xlink:href=\"#C0_0_f363cd74a1\" y=\"193.670299\"/>\n    </g>\n    <g clip-path=\"url(#p94286b8cec)\">\n     <use style=\"fill:#6687ed;stroke:#6687ed;\" x=\"478.862913\" xlink:href=\"#C0_0_f363cd74a1\" y=\"247.385714\"/>\n    </g>\n    <g clip-path=\"url(#p94286b8cec)\">\n     <use style=\"fill:#d7dce3;stroke:#d7dce3;\" x=\"487.201642\" xlink:href=\"#C0_0_f363cd74a1\" y=\"163.589667\"/>\n    </g>\n    <g clip-path=\"url(#p94286b8cec)\">\n     <use style=\"fill:#5572df;stroke:#5572df;\" x=\"495.540372\" xlink:href=\"#C0_0_f363cd74a1\" y=\"260.277414\"/>\n    </g>\n    <g clip-path=\"url(#p94286b8cec)\">\n     <use style=\"fill:#c3d5f4;stroke:#c3d5f4;\" x=\"503.879102\" xlink:href=\"#C0_0_f363cd74a1\" y=\"180.778599\"/>\n    </g>\n    <g clip-path=\"url(#p94286b8cec)\">\n     <use style=\"fill:#e57058;stroke:#e57058;\" x=\"512.217832\" xlink:href=\"#C0_0_f363cd74a1\" y=\"73.347769\"/>\n    </g>\n    <g clip-path=\"url(#p94286b8cec)\">\n     <use style=\"fill:#f18f71;stroke:#f18f71;\" x=\"520.556561\" xlink:href=\"#C0_0_f363cd74a1\" y=\"90.536702\"/>\n    </g>\n    <g clip-path=\"url(#p94286b8cec)\">\n     <use style=\"fill:#cfdaea;stroke:#cfdaea;\" x=\"528.895291\" xlink:href=\"#C0_0_f363cd74a1\" y=\"170.035516\"/>\n    </g>\n    <g clip-path=\"url(#p94286b8cec)\">\n     <use style=\"fill:#ec7f63;stroke:#ec7f63;\" x=\"537.234021\" xlink:href=\"#C0_0_f363cd74a1\" y=\"81.942236\"/>\n    </g>\n    <g clip-path=\"url(#p94286b8cec)\">\n     <use style=\"fill:#df634e;stroke:#df634e;\" x=\"545.572751\" xlink:href=\"#C0_0_f363cd74a1\" y=\"66.901919\"/>\n    </g>\n    <g clip-path=\"url(#p94286b8cec)\">\n     <use style=\"fill:#84a7fc;stroke:#84a7fc;\" x=\"553.91148\" xlink:href=\"#C0_0_f363cd74a1\" y=\"225.899548\"/>\n    </g>\n    <g clip-path=\"url(#p94286b8cec)\">\n     <use style=\"fill:#c0282f;stroke:#c0282f;\" x=\"562.25021\" xlink:href=\"#C0_0_f363cd74a1\" y=\"43.267137\"/>\n    </g>\n    <g clip-path=\"url(#p94286b8cec)\">\n     <use style=\"fill:#688aef;stroke:#688aef;\" x=\"570.58894\" xlink:href=\"#C0_0_f363cd74a1\" y=\"245.237097\"/>\n    </g>\n    <g clip-path=\"url(#p94286b8cec)\">\n     <use style=\"fill:#d0473d;stroke:#d0473d;\" x=\"578.92767\" xlink:href=\"#C0_0_f363cd74a1\" y=\"54.01022\"/>\n    </g>\n    <g clip-path=\"url(#p94286b8cec)\">\n     <use style=\"fill:#e36b54;stroke:#e36b54;\" x=\"587.266399\" xlink:href=\"#C0_0_f363cd74a1\" y=\"71.199153\"/>\n    </g>\n    <g clip-path=\"url(#p94286b8cec)\">\n     <use style=\"fill:#8badfd;stroke:#8badfd;\" x=\"595.605129\" xlink:href=\"#C0_0_f363cd74a1\" y=\"221.602315\"/>\n    </g>\n    <g clip-path=\"url(#p94286b8cec)\">\n     <use style=\"fill:#3b4cc0;stroke:#3b4cc0;\" x=\"603.943859\" xlink:href=\"#C0_0_f363cd74a1\" y=\"281.76358\"/>\n    </g>\n    <g clip-path=\"url(#p94286b8cec)\">\n     <use style=\"fill:#bed2f6;stroke:#bed2f6;\" x=\"612.282589\" xlink:href=\"#C0_0_f363cd74a1\" y=\"185.075833\"/>\n    </g>\n    <g clip-path=\"url(#p94286b8cec)\">\n     <use style=\"fill:#5d7ce6;stroke:#5d7ce6;\" x=\"620.621318\" xlink:href=\"#C0_0_f363cd74a1\" y=\"253.831564\"/>\n    </g>\n    <g clip-path=\"url(#p94286b8cec)\">\n     <use style=\"fill:#5d7ce6;stroke:#5d7ce6;\" x=\"628.960048\" xlink:href=\"#C0_0_f363cd74a1\" y=\"253.831564\"/>\n    </g>\n    <g clip-path=\"url(#p94286b8cec)\">\n     <use style=\"fill:#b7cff9;stroke:#b7cff9;\" x=\"637.298778\" xlink:href=\"#C0_0_f363cd74a1\" y=\"189.373066\"/>\n    </g>\n    <g clip-path=\"url(#p94286b8cec)\">\n     <use style=\"fill:#f18f71;stroke:#f18f71;\" x=\"645.637508\" xlink:href=\"#C0_0_f363cd74a1\" y=\"90.536702\"/>\n    </g>\n    <g clip-path=\"url(#p94286b8cec)\">\n     <use style=\"fill:#5572df;stroke:#5572df;\" x=\"653.976238\" xlink:href=\"#C0_0_f363cd74a1\" y=\"260.277414\"/>\n    </g>\n    <g clip-path=\"url(#p94286b8cec)\">\n     <use style=\"fill:#f18f71;stroke:#f18f71;\" x=\"662.314967\" xlink:href=\"#C0_0_f363cd74a1\" y=\"90.536702\"/>\n    </g>\n    <g clip-path=\"url(#p94286b8cec)\">\n     <use style=\"fill:#b5cdfa;stroke:#b5cdfa;\" x=\"670.653697\" xlink:href=\"#C0_0_f363cd74a1\" y=\"191.521682\"/>\n    </g>\n    <g clip-path=\"url(#p94286b8cec)\">\n     <use style=\"fill:#f7b194;stroke:#f7b194;\" x=\"678.992427\" xlink:href=\"#C0_0_f363cd74a1\" y=\"112.022868\"/>\n    </g>\n    <g clip-path=\"url(#p94286b8cec)\">\n     <use style=\"fill:#9abbff;stroke:#9abbff;\" x=\"687.331157\" xlink:href=\"#C0_0_f363cd74a1\" y=\"210.859232\"/>\n    </g>\n    <g clip-path=\"url(#p94286b8cec)\">\n     <use style=\"fill:#f7b194;stroke:#f7b194;\" x=\"695.669886\" xlink:href=\"#C0_0_f363cd74a1\" y=\"112.022868\"/>\n    </g>\n   </g>\n   <g id=\"line2d_15\">\n    <path clip-path=\"url(#p94286b8cec)\" d=\"M 86.942614 253.831564 \nL 95.281343 133.509034 \nL 103.620073 64.753303 \nL 111.958803 64.753303 \nL 120.297533 64.753303 \nL 128.636262 64.753303 \nL 136.974992 64.753303 \nL 145.313722 64.753303 \nL 153.652452 64.753303 \nL 161.991182 45.415753 \nL 170.329911 45.415753 \nL 178.668641 45.415753 \nL 187.007371 45.415753 \nL 195.346101 45.415753 \nL 203.68483 45.415753 \nL 212.02356 45.415753 \nL 220.36229 45.415753 \nL 228.70102 45.415753 \nL 237.039749 45.415753 \nL 245.378479 45.415753 \nL 253.717209 45.415753 \nL 262.055939 34.67267 \nL 270.394668 34.67267 \nL 278.733398 34.67267 \nL 287.072128 34.67267 \nL 295.410858 34.67267 \nL 303.749587 34.67267 \nL 312.088317 34.67267 \nL 320.427047 34.67267 \nL 328.765777 34.67267 \nL 337.104507 34.67267 \nL 345.443236 34.67267 \nL 353.781966 34.67267 \nL 362.120696 34.67267 \nL 370.459426 34.67267 \nL 378.798155 34.67267 \nL 387.136885 34.67267 \nL 395.475615 34.67267 \nL 403.814345 34.67267 \nL 412.153074 34.67267 \nL 420.491804 34.67267 \nL 428.830534 34.67267 \nL 437.169264 34.67267 \nL 445.507993 34.67267 \nL 453.846723 34.67267 \nL 462.185453 34.67267 \nL 470.524183 34.67267 \nL 478.862913 34.67267 \nL 487.201642 34.67267 \nL 495.540372 34.67267 \nL 503.879102 34.67267 \nL 512.217832 34.67267 \nL 520.556561 34.67267 \nL 528.895291 34.67267 \nL 537.234021 34.67267 \nL 545.572751 34.67267 \nL 553.91148 34.67267 \nL 562.25021 34.67267 \nL 570.58894 34.67267 \nL 578.92767 34.67267 \nL 587.266399 34.67267 \nL 595.605129 34.67267 \nL 603.943859 34.67267 \nL 612.282589 34.67267 \nL 620.621318 34.67267 \nL 628.960048 34.67267 \nL 637.298778 34.67267 \nL 645.637508 34.67267 \nL 653.976238 34.67267 \nL 662.314967 34.67267 \nL 670.653697 34.67267 \nL 678.992427 34.67267 \nL 687.331157 34.67267 \nL 695.669886 34.67267 \n\" style=\"fill:none;stroke:#ff0000;stroke-linecap:round;stroke-width:1.5;\"/>\n   </g>\n   <g id=\"patch_3\">\n    <path d=\"M 56.50625 294.118125 \nL 56.50625 22.318125 \n\" style=\"fill:none;stroke:#ffffff;stroke-linecap:square;stroke-linejoin:miter;stroke-width:0.8;\"/>\n   </g>\n   <g id=\"patch_4\">\n    <path d=\"M 726.10625 294.118125 \nL 726.10625 22.318125 \n\" style=\"fill:none;stroke:#ffffff;stroke-linecap:square;stroke-linejoin:miter;stroke-width:0.8;\"/>\n   </g>\n   <g id=\"patch_5\">\n    <path d=\"M 56.50625 294.118125 \nL 726.10625 294.118125 \n\" style=\"fill:none;stroke:#ffffff;stroke-linecap:square;stroke-linejoin:miter;stroke-width:0.8;\"/>\n   </g>\n   <g id=\"patch_6\">\n    <path d=\"M 56.50625 22.318125 \nL 726.10625 22.318125 \n\" style=\"fill:none;stroke:#ffffff;stroke-linecap:square;stroke-linejoin:miter;stroke-width:0.8;\"/>\n   </g>\n   <g id=\"text_17\">\n    <!-- Plot optimization history -->\n    <g style=\"fill:#262626;\" transform=\"translate(318.21875 16.318125)scale(0.12 -0.12)\">\n     <defs>\n      <path d=\"M 19.671875 64.796875 \nL 19.671875 37.40625 \nL 32.078125 37.40625 \nQ 38.96875 37.40625 42.71875 40.96875 \nQ 46.484375 44.53125 46.484375 51.125 \nQ 46.484375 57.671875 42.71875 61.234375 \nQ 38.96875 64.796875 32.078125 64.796875 \nz\nM 9.8125 72.90625 \nL 32.078125 72.90625 \nQ 44.34375 72.90625 50.609375 67.359375 \nQ 56.890625 61.8125 56.890625 51.125 \nQ 56.890625 40.328125 50.609375 34.8125 \nQ 44.34375 29.296875 32.078125 29.296875 \nL 19.671875 29.296875 \nL 19.671875 0 \nL 9.8125 0 \nz\n\" id=\"DejaVuSans-80\"/>\n      <path d=\"M 9.421875 75.984375 \nL 18.40625 75.984375 \nL 18.40625 0 \nL 9.421875 0 \nz\n\" id=\"DejaVuSans-108\"/>\n      <path id=\"DejaVuSans-32\"/>\n      <path d=\"M 18.109375 8.203125 \nL 18.109375 -20.796875 \nL 9.078125 -20.796875 \nL 9.078125 54.6875 \nL 18.109375 54.6875 \nL 18.109375 46.390625 \nQ 20.953125 51.265625 25.265625 53.625 \nQ 29.59375 56 35.59375 56 \nQ 45.5625 56 51.78125 48.09375 \nQ 58.015625 40.1875 58.015625 27.296875 \nQ 58.015625 14.40625 51.78125 6.484375 \nQ 45.5625 -1.421875 35.59375 -1.421875 \nQ 29.59375 -1.421875 25.265625 0.953125 \nQ 20.953125 3.328125 18.109375 8.203125 \nz\nM 48.6875 27.296875 \nQ 48.6875 37.203125 44.609375 42.84375 \nQ 40.53125 48.484375 33.40625 48.484375 \nQ 26.265625 48.484375 22.1875 42.84375 \nQ 18.109375 37.203125 18.109375 27.296875 \nQ 18.109375 17.390625 22.1875 11.75 \nQ 26.265625 6.109375 33.40625 6.109375 \nQ 40.53125 6.109375 44.609375 11.75 \nQ 48.6875 17.390625 48.6875 27.296875 \nz\n\" id=\"DejaVuSans-112\"/>\n      <path d=\"M 9.421875 54.6875 \nL 18.40625 54.6875 \nL 18.40625 0 \nL 9.421875 0 \nz\nM 9.421875 75.984375 \nL 18.40625 75.984375 \nL 18.40625 64.59375 \nL 9.421875 64.59375 \nz\n\" id=\"DejaVuSans-105\"/>\n      <path d=\"M 52 44.1875 \nQ 55.375 50.25 60.0625 53.125 \nQ 64.75 56 71.09375 56 \nQ 79.640625 56 84.28125 50.015625 \nQ 88.921875 44.046875 88.921875 33.015625 \nL 88.921875 0 \nL 79.890625 0 \nL 79.890625 32.71875 \nQ 79.890625 40.578125 77.09375 44.375 \nQ 74.3125 48.1875 68.609375 48.1875 \nQ 61.625 48.1875 57.5625 43.546875 \nQ 53.515625 38.921875 53.515625 30.90625 \nL 53.515625 0 \nL 44.484375 0 \nL 44.484375 32.71875 \nQ 44.484375 40.625 41.703125 44.40625 \nQ 38.921875 48.1875 33.109375 48.1875 \nQ 26.21875 48.1875 22.15625 43.53125 \nQ 18.109375 38.875 18.109375 30.90625 \nL 18.109375 0 \nL 9.078125 0 \nL 9.078125 54.6875 \nL 18.109375 54.6875 \nL 18.109375 46.1875 \nQ 21.1875 51.21875 25.484375 53.609375 \nQ 29.78125 56 35.6875 56 \nQ 41.65625 56 45.828125 52.96875 \nQ 50 49.953125 52 44.1875 \nz\n\" id=\"DejaVuSans-109\"/>\n      <path d=\"M 5.515625 54.6875 \nL 48.1875 54.6875 \nL 48.1875 46.484375 \nL 14.40625 7.171875 \nL 48.1875 7.171875 \nL 48.1875 0 \nL 4.296875 0 \nL 4.296875 8.203125 \nL 38.09375 47.515625 \nL 5.515625 47.515625 \nz\n\" id=\"DejaVuSans-122\"/>\n      <path d=\"M 34.28125 27.484375 \nQ 23.390625 27.484375 19.1875 25 \nQ 14.984375 22.515625 14.984375 16.5 \nQ 14.984375 11.71875 18.140625 8.90625 \nQ 21.296875 6.109375 26.703125 6.109375 \nQ 34.1875 6.109375 38.703125 11.40625 \nQ 43.21875 16.703125 43.21875 25.484375 \nL 43.21875 27.484375 \nz\nM 52.203125 31.203125 \nL 52.203125 0 \nL 43.21875 0 \nL 43.21875 8.296875 \nQ 40.140625 3.328125 35.546875 0.953125 \nQ 30.953125 -1.421875 24.3125 -1.421875 \nQ 15.921875 -1.421875 10.953125 3.296875 \nQ 6 8.015625 6 15.921875 \nQ 6 25.140625 12.171875 29.828125 \nQ 18.359375 34.515625 30.609375 34.515625 \nL 43.21875 34.515625 \nL 43.21875 35.40625 \nQ 43.21875 41.609375 39.140625 45 \nQ 35.0625 48.390625 27.6875 48.390625 \nQ 23 48.390625 18.546875 47.265625 \nQ 14.109375 46.140625 10.015625 43.890625 \nL 10.015625 52.203125 \nQ 14.9375 54.109375 19.578125 55.046875 \nQ 24.21875 56 28.609375 56 \nQ 40.484375 56 46.34375 49.84375 \nQ 52.203125 43.703125 52.203125 31.203125 \nz\n\" id=\"DejaVuSans-97\"/>\n      <path d=\"M 54.890625 33.015625 \nL 54.890625 0 \nL 45.90625 0 \nL 45.90625 32.71875 \nQ 45.90625 40.484375 42.875 44.328125 \nQ 39.84375 48.1875 33.796875 48.1875 \nQ 26.515625 48.1875 22.3125 43.546875 \nQ 18.109375 38.921875 18.109375 30.90625 \nL 18.109375 0 \nL 9.078125 0 \nL 9.078125 54.6875 \nL 18.109375 54.6875 \nL 18.109375 46.1875 \nQ 21.34375 51.125 25.703125 53.5625 \nQ 30.078125 56 35.796875 56 \nQ 45.21875 56 50.046875 50.171875 \nQ 54.890625 44.34375 54.890625 33.015625 \nz\n\" id=\"DejaVuSans-110\"/>\n      <path d=\"M 54.890625 33.015625 \nL 54.890625 0 \nL 45.90625 0 \nL 45.90625 32.71875 \nQ 45.90625 40.484375 42.875 44.328125 \nQ 39.84375 48.1875 33.796875 48.1875 \nQ 26.515625 48.1875 22.3125 43.546875 \nQ 18.109375 38.921875 18.109375 30.90625 \nL 18.109375 0 \nL 9.078125 0 \nL 9.078125 75.984375 \nL 18.109375 75.984375 \nL 18.109375 46.1875 \nQ 21.34375 51.125 25.703125 53.5625 \nQ 30.078125 56 35.796875 56 \nQ 45.21875 56 50.046875 50.171875 \nQ 54.890625 44.34375 54.890625 33.015625 \nz\n\" id=\"DejaVuSans-104\"/>\n      <path d=\"M 44.28125 53.078125 \nL 44.28125 44.578125 \nQ 40.484375 46.53125 36.375 47.5 \nQ 32.28125 48.484375 27.875 48.484375 \nQ 21.1875 48.484375 17.84375 46.4375 \nQ 14.5 44.390625 14.5 40.28125 \nQ 14.5 37.15625 16.890625 35.375 \nQ 19.28125 33.59375 26.515625 31.984375 \nL 29.59375 31.296875 \nQ 39.15625 29.25 43.1875 25.515625 \nQ 47.21875 21.78125 47.21875 15.09375 \nQ 47.21875 7.46875 41.1875 3.015625 \nQ 35.15625 -1.421875 24.609375 -1.421875 \nQ 20.21875 -1.421875 15.453125 -0.5625 \nQ 10.6875 0.296875 5.421875 2 \nL 5.421875 11.28125 \nQ 10.40625 8.6875 15.234375 7.390625 \nQ 20.0625 6.109375 24.8125 6.109375 \nQ 31.15625 6.109375 34.5625 8.28125 \nQ 37.984375 10.453125 37.984375 14.40625 \nQ 37.984375 18.0625 35.515625 20.015625 \nQ 33.0625 21.96875 24.703125 23.78125 \nL 21.578125 24.515625 \nQ 13.234375 26.265625 9.515625 29.90625 \nQ 5.8125 33.546875 5.8125 39.890625 \nQ 5.8125 47.609375 11.28125 51.796875 \nQ 16.75 56 26.8125 56 \nQ 31.78125 56 36.171875 55.265625 \nQ 40.578125 54.546875 44.28125 53.078125 \nz\n\" id=\"DejaVuSans-115\"/>\n      <path d=\"M 32.171875 -5.078125 \nQ 28.375 -14.84375 24.75 -17.8125 \nQ 21.140625 -20.796875 15.09375 -20.796875 \nL 7.90625 -20.796875 \nL 7.90625 -13.28125 \nL 13.1875 -13.28125 \nQ 16.890625 -13.28125 18.9375 -11.515625 \nQ 21 -9.765625 23.484375 -3.21875 \nL 25.09375 0.875 \nL 2.984375 54.6875 \nL 12.5 54.6875 \nL 29.59375 11.921875 \nL 46.6875 54.6875 \nL 56.203125 54.6875 \nz\n\" id=\"DejaVuSans-121\"/>\n     </defs>\n     <use xlink:href=\"#DejaVuSans-80\"/>\n     <use x=\"60.302734\" xlink:href=\"#DejaVuSans-108\"/>\n     <use x=\"88.085938\" xlink:href=\"#DejaVuSans-111\"/>\n     <use x=\"149.267578\" xlink:href=\"#DejaVuSans-116\"/>\n     <use x=\"188.476562\" xlink:href=\"#DejaVuSans-32\"/>\n     <use x=\"220.263672\" xlink:href=\"#DejaVuSans-111\"/>\n     <use x=\"281.445312\" xlink:href=\"#DejaVuSans-112\"/>\n     <use x=\"344.921875\" xlink:href=\"#DejaVuSans-116\"/>\n     <use x=\"384.130859\" xlink:href=\"#DejaVuSans-105\"/>\n     <use x=\"411.914062\" xlink:href=\"#DejaVuSans-109\"/>\n     <use x=\"509.326172\" xlink:href=\"#DejaVuSans-105\"/>\n     <use x=\"537.109375\" xlink:href=\"#DejaVuSans-122\"/>\n     <use x=\"589.599609\" xlink:href=\"#DejaVuSans-97\"/>\n     <use x=\"650.878906\" xlink:href=\"#DejaVuSans-116\"/>\n     <use x=\"690.087891\" xlink:href=\"#DejaVuSans-105\"/>\n     <use x=\"717.871094\" xlink:href=\"#DejaVuSans-111\"/>\n     <use x=\"779.052734\" xlink:href=\"#DejaVuSans-110\"/>\n     <use x=\"842.431641\" xlink:href=\"#DejaVuSans-32\"/>\n     <use x=\"874.21875\" xlink:href=\"#DejaVuSans-104\"/>\n     <use x=\"937.597656\" xlink:href=\"#DejaVuSans-105\"/>\n     <use x=\"965.380859\" xlink:href=\"#DejaVuSans-115\"/>\n     <use x=\"1017.480469\" xlink:href=\"#DejaVuSans-116\"/>\n     <use x=\"1056.689453\" xlink:href=\"#DejaVuSans-111\"/>\n     <use x=\"1117.871094\" xlink:href=\"#DejaVuSans-114\"/>\n     <use x=\"1158.984375\" xlink:href=\"#DejaVuSans-121\"/>\n    </g>\n   </g>\n   <g id=\"legend_1\">\n    <g id=\"patch_7\">\n     <path d=\"M 63.50625 59.674375 \nL 148.832812 59.674375 \nQ 150.832812 59.674375 150.832812 57.674375 \nL 150.832812 29.318125 \nQ 150.832812 27.318125 148.832812 27.318125 \nL 63.50625 27.318125 \nQ 61.50625 27.318125 61.50625 29.318125 \nL 61.50625 57.674375 \nQ 61.50625 59.674375 63.50625 59.674375 \nz\n\" style=\"fill:#eaeaf2;opacity:0.8;stroke:#cccccc;stroke-linejoin:miter;\"/>\n    </g>\n    <g id=\"line2d_16\">\n     <path d=\"M 65.50625 35.416562 \nL 85.50625 35.416562 \n\" style=\"fill:none;stroke:#ff0000;stroke-linecap:round;stroke-width:1.5;\"/>\n    </g>\n    <g id=\"line2d_17\"/>\n    <g id=\"text_18\">\n     <!-- Best Score -->\n     <g style=\"fill:#262626;\" transform=\"translate(93.50625 38.916562)scale(0.1 -0.1)\">\n      <defs>\n       <path d=\"M 19.671875 34.8125 \nL 19.671875 8.109375 \nL 35.5 8.109375 \nQ 43.453125 8.109375 47.28125 11.40625 \nQ 51.125 14.703125 51.125 21.484375 \nQ 51.125 28.328125 47.28125 31.5625 \nQ 43.453125 34.8125 35.5 34.8125 \nz\nM 19.671875 64.796875 \nL 19.671875 42.828125 \nL 34.28125 42.828125 \nQ 41.5 42.828125 45.03125 45.53125 \nQ 48.578125 48.25 48.578125 53.8125 \nQ 48.578125 59.328125 45.03125 62.0625 \nQ 41.5 64.796875 34.28125 64.796875 \nz\nM 9.8125 72.90625 \nL 35.015625 72.90625 \nQ 46.296875 72.90625 52.390625 68.21875 \nQ 58.5 63.53125 58.5 54.890625 \nQ 58.5 48.1875 55.375 44.234375 \nQ 52.25 40.28125 46.1875 39.3125 \nQ 53.46875 37.75 57.5 32.78125 \nQ 61.53125 27.828125 61.53125 20.40625 \nQ 61.53125 10.640625 54.890625 5.3125 \nQ 48.25 0 35.984375 0 \nL 9.8125 0 \nz\n\" id=\"DejaVuSans-66\"/>\n      </defs>\n      <use xlink:href=\"#DejaVuSans-66\"/>\n      <use x=\"68.603516\" xlink:href=\"#DejaVuSans-101\"/>\n      <use x=\"130.126953\" xlink:href=\"#DejaVuSans-115\"/>\n      <use x=\"182.226562\" xlink:href=\"#DejaVuSans-116\"/>\n      <use x=\"221.435547\" xlink:href=\"#DejaVuSans-32\"/>\n      <use x=\"253.222656\" xlink:href=\"#DejaVuSans-83\"/>\n      <use x=\"316.699219\" xlink:href=\"#DejaVuSans-99\"/>\n      <use x=\"371.679688\" xlink:href=\"#DejaVuSans-111\"/>\n      <use x=\"432.861328\" xlink:href=\"#DejaVuSans-114\"/>\n      <use x=\"471.724609\" xlink:href=\"#DejaVuSans-101\"/>\n     </g>\n    </g>\n    <g id=\"PathCollection_2\">\n     <defs>\n      <path d=\"M 0 2.5 \nC 0.663008 2.5 1.29895 2.236584 1.767767 1.767767 \nC 2.236584 1.29895 2.5 0.663008 2.5 0 \nC 2.5 -0.663008 2.236584 -1.29895 1.767767 -1.767767 \nC 1.29895 -2.236584 0.663008 -2.5 0 -2.5 \nC -0.663008 -2.5 -1.29895 -2.236584 -1.767767 -1.767767 \nC -2.236584 -1.29895 -2.5 -0.663008 -2.5 0 \nC -2.5 0.663008 -2.236584 1.29895 -1.767767 1.767767 \nC -1.29895 2.236584 -0.663008 2.5 0 2.5 \nz\n\" id=\"m0d445e3232\" style=\"stroke:#1f77b4;\"/>\n     </defs>\n     <g>\n      <use style=\"fill:#1f77b4;stroke:#1f77b4;\" x=\"75.50625\" xlink:href=\"#m0d445e3232\" y=\"50.969688\"/>\n     </g>\n    </g>\n    <g id=\"text_19\">\n     <!-- Iter Score -->\n     <g style=\"fill:#262626;\" transform=\"translate(93.50625 53.594688)scale(0.1 -0.1)\">\n      <use xlink:href=\"#DejaVuSans-73\"/>\n      <use x=\"29.492188\" xlink:href=\"#DejaVuSans-116\"/>\n      <use x=\"68.701172\" xlink:href=\"#DejaVuSans-101\"/>\n      <use x=\"130.224609\" xlink:href=\"#DejaVuSans-114\"/>\n      <use x=\"171.337891\" xlink:href=\"#DejaVuSans-32\"/>\n      <use x=\"203.125\" xlink:href=\"#DejaVuSans-83\"/>\n      <use x=\"266.601562\" xlink:href=\"#DejaVuSans-99\"/>\n      <use x=\"321.582031\" xlink:href=\"#DejaVuSans-111\"/>\n      <use x=\"382.763672\" xlink:href=\"#DejaVuSans-114\"/>\n      <use x=\"421.626953\" xlink:href=\"#DejaVuSans-101\"/>\n     </g>\n    </g>\n   </g>\n  </g>\n  <g id=\"axes_2\">\n   <g id=\"patch_8\">\n    <path clip-path=\"url(#p0916975c8c)\" d=\"M 767.95625 294.118125 \nL 767.95625 293.056406 \nL 767.95625 23.379844 \nL 767.95625 22.318125 \nL 781.54625 22.318125 \nL 781.54625 23.379844 \nL 781.54625 293.056406 \nL 781.54625 294.118125 \nz\n\" style=\"fill:#eaeaf2;stroke:#eaeaf2;stroke-linejoin:miter;stroke-width:0.01;\"/>\n   </g>\n   <g id=\"matplotlib.axis_3\"/>\n   <g id=\"matplotlib.axis_4\">\n    <g id=\"ytick_7\">\n     <g id=\"line2d_18\">\n      <defs>\n       <path d=\"M 0 0 \nL 3.5 0 \n\" id=\"m65108cdbb0\" style=\"stroke:#262626;stroke-width:0.8;\"/>\n      </defs>\n      <g>\n       <use style=\"fill:#262626;stroke:#262626;stroke-width:0.8;\" x=\"781.54625\" xlink:href=\"#m65108cdbb0\" y=\"261.029429\"/>\n      </g>\n     </g>\n     <g id=\"text_20\">\n      <!-- 0.904 -->\n      <g style=\"fill:#262626;\" transform=\"translate(788.54625 264.828648)scale(0.1 -0.1)\">\n       <use xlink:href=\"#DejaVuSans-48\"/>\n       <use x=\"63.623047\" xlink:href=\"#DejaVuSans-46\"/>\n       <use x=\"95.410156\" xlink:href=\"#DejaVuSans-57\"/>\n       <use x=\"159.033203\" xlink:href=\"#DejaVuSans-48\"/>\n       <use x=\"222.65625\" xlink:href=\"#DejaVuSans-52\"/>\n      </g>\n     </g>\n    </g>\n    <g id=\"ytick_8\">\n     <g id=\"line2d_19\">\n      <g>\n       <use style=\"fill:#262626;stroke:#262626;stroke-width:0.8;\" x=\"781.54625\" xlink:href=\"#m65108cdbb0\" y=\"213.759864\"/>\n      </g>\n     </g>\n     <g id=\"text_21\">\n      <!-- 0.906 -->\n      <g style=\"fill:#262626;\" transform=\"translate(788.54625 217.559083)scale(0.1 -0.1)\">\n       <use xlink:href=\"#DejaVuSans-48\"/>\n       <use x=\"63.623047\" xlink:href=\"#DejaVuSans-46\"/>\n       <use x=\"95.410156\" xlink:href=\"#DejaVuSans-57\"/>\n       <use x=\"159.033203\" xlink:href=\"#DejaVuSans-48\"/>\n       <use x=\"222.65625\" xlink:href=\"#DejaVuSans-54\"/>\n      </g>\n     </g>\n    </g>\n    <g id=\"ytick_9\">\n     <g id=\"line2d_20\">\n      <g>\n       <use style=\"fill:#262626;stroke:#262626;stroke-width:0.8;\" x=\"781.54625\" xlink:href=\"#m65108cdbb0\" y=\"166.490299\"/>\n      </g>\n     </g>\n     <g id=\"text_22\">\n      <!-- 0.908 -->\n      <g style=\"fill:#262626;\" transform=\"translate(788.54625 170.289518)scale(0.1 -0.1)\">\n       <use xlink:href=\"#DejaVuSans-48\"/>\n       <use x=\"63.623047\" xlink:href=\"#DejaVuSans-46\"/>\n       <use x=\"95.410156\" xlink:href=\"#DejaVuSans-57\"/>\n       <use x=\"159.033203\" xlink:href=\"#DejaVuSans-48\"/>\n       <use x=\"222.65625\" xlink:href=\"#DejaVuSans-56\"/>\n      </g>\n     </g>\n    </g>\n    <g id=\"ytick_10\">\n     <g id=\"line2d_21\">\n      <g>\n       <use style=\"fill:#262626;stroke:#262626;stroke-width:0.8;\" x=\"781.54625\" xlink:href=\"#m65108cdbb0\" y=\"119.220734\"/>\n      </g>\n     </g>\n     <g id=\"text_23\">\n      <!-- 0.910 -->\n      <g style=\"fill:#262626;\" transform=\"translate(788.54625 123.019952)scale(0.1 -0.1)\">\n       <use xlink:href=\"#DejaVuSans-48\"/>\n       <use x=\"63.623047\" xlink:href=\"#DejaVuSans-46\"/>\n       <use x=\"95.410156\" xlink:href=\"#DejaVuSans-57\"/>\n       <use x=\"159.033203\" xlink:href=\"#DejaVuSans-49\"/>\n       <use x=\"222.65625\" xlink:href=\"#DejaVuSans-48\"/>\n      </g>\n     </g>\n    </g>\n    <g id=\"ytick_11\">\n     <g id=\"line2d_22\">\n      <g>\n       <use style=\"fill:#262626;stroke:#262626;stroke-width:0.8;\" x=\"781.54625\" xlink:href=\"#m65108cdbb0\" y=\"71.951168\"/>\n      </g>\n     </g>\n     <g id=\"text_24\">\n      <!-- 0.912 -->\n      <g style=\"fill:#262626;\" transform=\"translate(788.54625 75.750387)scale(0.1 -0.1)\">\n       <use xlink:href=\"#DejaVuSans-48\"/>\n       <use x=\"63.623047\" xlink:href=\"#DejaVuSans-46\"/>\n       <use x=\"95.410156\" xlink:href=\"#DejaVuSans-57\"/>\n       <use x=\"159.033203\" xlink:href=\"#DejaVuSans-49\"/>\n       <use x=\"222.65625\" xlink:href=\"#DejaVuSans-50\"/>\n      </g>\n     </g>\n    </g>\n    <g id=\"ytick_12\">\n     <g id=\"line2d_23\">\n      <g>\n       <use style=\"fill:#262626;stroke:#262626;stroke-width:0.8;\" x=\"781.54625\" xlink:href=\"#m65108cdbb0\" y=\"24.681603\"/>\n      </g>\n     </g>\n     <g id=\"text_25\">\n      <!-- 0.914 -->\n      <g style=\"fill:#262626;\" transform=\"translate(788.54625 28.480822)scale(0.1 -0.1)\">\n       <use xlink:href=\"#DejaVuSans-48\"/>\n       <use x=\"63.623047\" xlink:href=\"#DejaVuSans-46\"/>\n       <use x=\"95.410156\" xlink:href=\"#DejaVuSans-57\"/>\n       <use x=\"159.033203\" xlink:href=\"#DejaVuSans-49\"/>\n       <use x=\"222.65625\" xlink:href=\"#DejaVuSans-52\"/>\n      </g>\n     </g>\n    </g>\n   </g>\n   <image height=\"271\" id=\"imagedb52bd0cc8\" transform=\"scale(1 -1)translate(0 -271)\" width=\"14\" x=\"768\" xlink:href=\"data:image/png;base64,\niVBORw0KGgoAAAANSUhEUgAAAA4AAAEPCAYAAAByY/XAAAABe0lEQVR4nO2Y0Y0CMRBDk2jLogaKpi2ODRXAxxvpjXzs/lsee+wJYt7ujz3Ad8w1CW4ccy4IxIwLMi5bI0ONFnMw42oIQExWF17H1M35iQAwIC8yvzk5ySncVT+rMbXC5kStA+E4Y8OL3BA56qqfnII5CNdTK4RrqRU3R2asFBkCeVb5OiDQz6p+yTtG5euwGQsHGTMyYKHIOevwIxc1KvrLKsxVqDEpAINp7LgAelb5qNDVqD4GacwZFbtK91goMnfVNqeQHPYlaQxiLBRZN8cGVl7kFI0twBMCsatb17ipxovxG6Ne5CBXecgh48CMOa42aKSMgzPa66CjVopsu+onp4NRD/lpm9Og8VrHx49fAL/IBXOCRtVDfvqM/9+cbTM2FHn7e9QZucaY5FQCYO9x68nhGvXf5HjUoJA3RE53NSjkDebEMFZe5BSNLYwxo56vmFGvdXz+kl7kjqzqGumovkbO+MoJAF7HH2V8yoyFC2CPeuwnTI6+jjc4TlgGyUZr/wAAAABJRU5ErkJggg==\" y=\"-22\"/>\n   <g id=\"patch_9\">\n    <path d=\"M 767.95625 294.118125 \nL 767.95625 293.056406 \nL 767.95625 23.379844 \nL 767.95625 22.318125 \nL 781.54625 22.318125 \nL 781.54625 23.379844 \nL 781.54625 293.056406 \nL 781.54625 294.118125 \nz\n\" style=\"fill:none;stroke:#ffffff;stroke-linejoin:miter;stroke-width:0.8;\"/>\n   </g>\n  </g>\n </g>\n <defs>\n  <clipPath id=\"p94286b8cec\">\n   <rect height=\"271.8\" width=\"669.6\" x=\"56.50625\" y=\"22.318125\"/>\n  </clipPath>\n  <clipPath id=\"p0916975c8c\">\n   <rect height=\"271.8\" width=\"13.59\" x=\"767.95625\" y=\"22.318125\"/>\n  </clipPath>\n </defs>\n</svg>\n",
            "image/png": "[encoded data removed]"
          },
          "metadata": {}
        }
      ],
      "source": [
        "model.plot_opt_history()"
      ]
    },
    {
      "source": [
        "## Cross Validation\n",
        "Cross-validation is a method for evaluating an analytical model and its behavior on independent data. \n",
        "When evaluating the model, the available data is split into k parts. \n",
        "Then the model is trained on k − 1 pieces of data, and the rest of the data is used for testing. \n",
        "The procedure is repeated k times; in the end, each of the k pieces of data is used for testing. \n",
        "The result is an assessment of the effectiveness of the selected model with the most even use of the available data."
      ],
      "cell_type": "markdown",
      "metadata": {}
    },
    {
      "source": [
        "<img src=\"./img/cv.png\" width=\"500\">"
      ],
      "cell_type": "markdown",
      "metadata": {}
    },
    {
      "cell_type": "code",
      "execution_count": 19,
      "metadata": {},
      "outputs": [
        {
          "output_type": "stream",
          "name": "stdout",
          "text": [
            "\n",
            " Mean Score mean_squared_error on 5 Folds: 0.1421 std: 0.004758\n"
          ]
        }
      ],
      "source": [
        "result = model.cross_validation(\n",
        "            X=X_train,\n",
        "            y=y_train,\n",
        "            X_test=None,\n",
        "            folds=10, \n",
        "            score_folds=5,\n",
        "            n_repeats=2,\n",
        "            metric=sklearn.metrics.mean_squared_error,\n",
        "            print_metric=True, \n",
        "            metric_round=4, \n",
        "            predict=False,\n",
        "            get_feature_importance=False,\n",
        "            )"
      ]
    },
    {
      "cell_type": "markdown",
      "metadata": {
        "id": "ECaRp0ADbV5_",
        "colab_type": "text"
      },
      "source": [
        "# How it works\n",
        "first let's look at all the parameters available to us     \n",
        "для начала посмотрим все доступные нам параметры"
      ]
    },
    {
      "cell_type": "markdown",
      "metadata": {
        "id": "RiYgobwBbV6A",
        "colab_type": "text"
      },
      "source": [
        "```python\n",
        "model = LightGBMClassifier(\n",
        "                    model_param=None, # default model parameters\n",
        "                    type_of_estimator=None, # classifier or regression\n",
        "                    gpu=False, \n",
        "                    verbose=0,\n",
        "                    random_state=RANDOM_SEED\n",
        "    )\n",
        "```\n",
        "**Let's look at the important parameters and what they give.**"
      ]
    },
    {
      "cell_type": "markdown",
      "metadata": {
        "id": "vpZzOYVtbV6A",
        "colab_type": "text"
      },
      "source": [
        "### *model_param*\n",
        "parameters of the model itself. As you already understood, to work with the library itself, I use some kind of wrapper, but *model_param* pass the settings directly to the model itself"
      ]
    },
    {
      "cell_type": "code",
      "execution_count": 20,
      "metadata": {},
      "outputs": [
        {
          "output_type": "execute_result",
          "data": {
            "text/plain": [
              "{'random_seed': 42,\n",
              " 'num_iterations': 500,\n",
              " 'verbose': -1,\n",
              " 'device_type': 'cpu',\n",
              " 'objective': 'binary',\n",
              " 'num_leaves': 4,\n",
              " 'min_child_samples': 308}"
            ]
          },
          "metadata": {},
          "execution_count": 20
        }
      ],
      "source": [
        "model.model_param"
      ]
    },
    {
      "cell_type": "markdown",
      "metadata": {
        "ExecuteTime": {
          "end_time": "2020-05-07T06:54:12.453492Z",
          "start_time": "2020-05-07T06:54:12.439012Z"
        },
        "id": "kjruMAqEbV6F",
        "colab_type": "text"
      },
      "source": [
        "## Optimization\n",
        "\n",
        "```python\n",
        "history = model.opt(X,y,\n",
        "            timeout=200, # optimization time in seconds\n",
        "            metric=sklearn.metrics.roc_auc_score, # any metric from sklearn\n",
        "            metric_round=4,\n",
        "            direction='maximize', # optimization direction\n",
        "            combined_score_opt=True, # score_opt = score - std\n",
        "            iterations=None,\n",
        "            cold_start=30,\n",
        "            auto_parameters=True,\n",
        "            folds=10, # Cross-validation folds\n",
        "            score_folds=2, # how many folds are actually used for score\n",
        "            opt_lvl=2,  # depth of selection of parameters\n",
        "            early_stoping=100,  # stop otimization if no better parameters are found through iterations\n",
        "            feature_selection=False,\n",
        "            iteration_check=True,\n",
        "            verbose=1,)\n",
        "```\n",
        "\n",
        "To optimize hyperparameters used Optuna (https://optuna.org), but with some modifications. Inside Optuna uses the TPE algorithm.\n",
        "\n",
        "good visualization from: https://medium.com/criteo-labs/hyper-parameter-optimization-algorithms-2fe447525903\n",
        "<img src=\"https://miro.medium.com/max/2000/1*m1JYCHHhbmn6TCHcJIklZA.gif\" width=\"800\">\n"
      ]
    },
    {
      "cell_type": "markdown",
      "metadata": {
        "id": "SvXrBLljbV6F",
        "colab_type": "text"
      },
      "source": [
        "### *metric* and *direction*\n",
        "you can use standard metrics from sklearn.metrics or add custom metrics. Be sure to indicate the direction of improvement of the metric     \n",
        "\n",
        "вы можете использовать стандартные метрики из sklearn.metrics или добавить кастомную. Обязательно указывайте направление улучшения метрики"
      ]
    },
    {
      "cell_type": "markdown",
      "metadata": {
        "id": "IbtbRVMebV6F",
        "colab_type": "text"
      },
      "source": [
        "### *cv* folds and *score_folds*\n",
        "In training, I use cross validation. But if we don’t have much time, then we go to the trick, and learn only part of the folds (score_folds)    \n",
        "\n",
        "В обучении я использую кросс валидацию. Но если у нас мало времени то мы идем на хитрость, и обучаемся только на части фолдов (score_folds)\n"
      ]
    },
    {
      "cell_type": "markdown",
      "metadata": {
        "ExecuteTime": {
          "end_time": "2020-05-07T08:00:39.460470Z",
          "start_time": "2020-05-07T08:00:39.424490Z"
        },
        "id": "D9xT9cTgbV6F",
        "colab_type": "text"
      },
      "source": [
        "### *cold_start*\n",
        "In the *cold_start* parameter, we specify how many iterations we give for this warm-up.\n",
        "before the algorithm starts searching for optimal parameters, it must collect statistics on the represented space.this is why it starts in the randomsample solution at the beginning. The longer it works in this mode , the less likely it is to get stuck in the local minimum. But if you take too long to warm up, you may not have time to search with a more \"smart\" algorithm. Therefore, it is important to maintain a balance. \n",
        "\n",
        "перед тем как алгоритм начинает поиск оптимальных параметров, он должен собрать статистику по представляемому пространству, по этому в начале он запускаеться в решиме randomsample. Чем дольше он проработает в этом режиме - тем меньше вероятность что он застрянет в локальном минимуме. Но если слишком долго делать прогрев - то может не остаться времени на поиск с более \"умным\" алгоритмом. Поэтому важно соблюдать баланс. В параметре cold_start указываем сколько итераций мы даем на этот прогрев. "
      ]
    },
    {
      "cell_type": "markdown",
      "metadata": {
        "id": "apIHobyxbV6F",
        "colab_type": "text"
      },
      "source": [
        "### *opt_lvl*\n",
        "by limiting the optimization time, we will have to choose how deep we should optimize the parameters. Perhaps some parameters are not so important and can only give a fraction of a percent. By setting the opt_lvl parameter, you control the depth of optimization.\n",
        "\n",
        "in the code *automl_alex.models.model_lightgbm.LightGBM* you can find how parameters are substituted for iteration:\n",
        "\n",
        "```python\n",
        "....\n",
        "def get_model_opt_params(self, trial, model, opt_lvl, len_data, metric_name,):\n",
        "        \"\"\"\n",
        "        Return:\n",
        "            dict of DistributionWrappers\n",
        "        \"\"\"\n",
        "        model_param = model._init_default_model_param()\n",
        "        ################################# LVL 1 ########################################\n",
        "        if opt_lvl == 1:\n",
        "            model_param['num_leaves'] = trial.suggest_int('lgbm_num_leaves', 2, 50,)\n",
        "            \n",
        "        if opt_lvl >= 1:\n",
        "            if len_data > 1000:\n",
        "                model_param['min_child_samples'] = trial.suggest_int('lgbm_min_child_samples', 2, \\\n",
        "                                                                        (len_data//100))\n",
        "            else:\n",
        "                model_param['min_child_samples'] = trial.suggest_int('lgbm_min_child_samples', 2, 7)\n",
        "\n",
        "        ################################# LVL 2 ########################################\n",
        "        if opt_lvl == 2:\n",
        "            model_param['learning_rate'] = trial.suggest_int('lgbm_learning_rate', 1, 11)/100\n",
        "            model_param['num_leaves'] = trial.suggest_int('lgbm_num_leaves', 2, 50,)\n",
        "            model_param['num_iterations'] = trial.suggest_int('lgbm_num_iterations', 1, 5,)*100\n",
        "\n",
        "        if opt_lvl >= 2:\n",
        "            model_param['bagging_fraction'] = trial.suggest_discrete_uniform('lgbm_bagging_fraction', 0.4, 1., 0.1)\n",
        "            if model_param['bagging_fraction'] < 1.:\n",
        "                model_param['feature_fraction'] = trial.suggest_discrete_uniform('lgbm_feature_fraction', 0.3, 1., 0.1)\n",
        "                model_param['bagging_freq'] = trial.suggest_int('lgbm_bagging_freq', 2, 11,)\n",
        "        \n",
        "        ################################# LVL 3 ########################################\n",
        "        if opt_lvl == 3:\n",
        "            model_param['learning_rate'] = trial.suggest_int('lgbm_learning_rate', 1, 100)/1000\n",
        "            model_param['num_iterations'] = trial.suggest_int('lgbm_num_iterations', 1, 11,)*100\n",
        "        \n",
        "        if opt_lvl >= 3:\n",
        "            model_param['num_leaves'] = trial.suggest_int('lgbm_num_leaves', 2, 100,)\n",
        "        \n",
        "        ################################# LVL 4 ########################################\n",
        "        if opt_lvl == 4:\n",
        "            model_param['learning_rate'] = trial.suggest_loguniform('lgbm_learning_rate', 1e-3, .1)\n",
        "\n",
        "        if opt_lvl >= 4:\n",
        "            model_param['boosting'] = trial.suggest_categorical('lgbm_boosting', ['gbdt', 'dart',])\n",
        "            if model_param['boosting'] == 'dart':\n",
        "                model_param['early_stopping_rounds'] = 0\n",
        "                model_param['uniform_drop'] = trial.suggest_categorical('lgbm_uniform_drop', [True, False])\n",
        "                model_param['xgboost_dart_mode'] = trial.suggest_categorical('lgbm_xgboost_dart_mode', [True, False])\n",
        "                model_param['drop_rate'] = trial.suggest_loguniform('lgbm_drop_rate', 1e-8, 1.0)\n",
        "                model_param['max_drop'] = trial.suggest_int('lgbm_max_drop', 0, 100)\n",
        "                model_param['skip_drop'] = trial.suggest_loguniform('lgbm_skip_drop', 1e-3, 1.0)\n",
        "\n",
        "            model_param['num_iterations'] = trial.suggest_int('lgbm_num_iterations', 1, 6,)*1000\n",
        "\n",
        "            if model.type_of_estimator == 'classifier':\n",
        "                model_param['objective'] = trial.suggest_categorical('lgbm_objective', \n",
        "                    [\n",
        "                    'binary', \n",
        "                    'cross_entropy',\n",
        "                    ])\n",
        "\n",
        "            elif model.type_of_estimator == 'regression':\n",
        "                model_param['objective'] = trial.suggest_categorical('lgbm_objective', \n",
        "                    [\n",
        "                    'regression',\n",
        "                    'regression_l1',\n",
        "                    'mape',\n",
        "                    'huber',\n",
        "                    'quantile',\n",
        "                    ])\n",
        "\n",
        "        ################################# LVL 5 ########################################\n",
        "        if opt_lvl >= 5:\n",
        "            model_param['max_cat_threshold'] = trial.suggest_int('lgbm_max_cat_threshold', 1, 100)\n",
        "            model_param['min_child_weight'] = trial.suggest_loguniform('lgbm_min_child_weight', 1e-6, 1.0)\n",
        "            model_param['learning_rate'] = trial.suggest_loguniform('lgbm_learning_rate', 1e-5, .1)\n",
        "            model_param['reg_lambda'] = trial.suggest_loguniform('lgbm_reg_lambda', 1e-8, 1.0)\n",
        "            model_param['reg_alpha'] = trial.suggest_loguniform('lgbm_reg_alpha', 1e-8, 1.0)\n",
        "            model_param['max_bin'] = trial.suggest_int('lgbm_max_bin', 1, 5,)*50\n",
        "            #self.model_param['extra_trees'] = trial.suggest_categorical('lgbm_extra_trees', [True, False])\n",
        "            model_param['enable_bundle'] = trial.suggest_categorical('lgbm_enable_bundle', [True, False])\n",
        "\n",
        "        ################################# Other ########################################\n",
        "        if model.type_of_estimator == 'classifier':\n",
        "            if metric_name not in ['roc_auc_score', 'log_loss', 'brier_score_loss']:\n",
        "                model_param['scale_pos_weight'] = trial.suggest_discrete_uniform('lgbm_scale_pos_weight', 0.1, 1., 0.1)\n",
        "\n",
        "        return(model_param)\n",
        "...\n",
        "```\n",
        "\n",
        "ограничивая время оптимизации, нам придется выбирать насколько глубоко мы должны оптимизировать параметры. Возможно некоторые параметры не так важны и могут дать лишь доли процента. Устанавливая параметр opt_lvl вы регулируете глубину оптимизации."
      ]
    },
    {
      "cell_type": "markdown",
      "metadata": {
        "id": "tl8zhvjVbV6G",
        "colab_type": "text"
      },
      "source": [
        "### *auto_parameters*\n",
        "If we don't want to select anything, we just set *auto_parameters=True*. Then the algorithm itself will select, depending on the time allotted to it, the optimal values for:\n",
        "* folds\n",
        "* score_folds\n",
        "* cold_start\n",
        "* opt_lvl\n",
        "\n",
        "Если мы не хотим ни чего подбирать, то просто устанавливаем auto_parameters=True. Тогда алгоритм сам подберет, в зависимости от выделенного ему времени, оптимальные значения этих параметров."
      ]
    },
    {
      "source": [
        "# Regression"
      ],
      "cell_type": "markdown",
      "metadata": {}
    },
    {
      "cell_type": "code",
      "execution_count": 21,
      "metadata": {},
      "outputs": [
        {
          "output_type": "execute_result",
          "data": {
            "text/plain": [
              "((430, 13), (76, 13))"
            ]
          },
          "metadata": {},
          "execution_count": 21
        }
      ],
      "source": [
        "from sklearn.datasets import load_boston\n",
        "data = load_boston()\n",
        "X_train, X_test, y_train, y_test = train_test_split(pd.DataFrame(data.data), \n",
        "                                                    pd.DataFrame(data.target), \n",
        "                                                    test_size=0.15, \n",
        "                                                    random_state=RANDOM_SEED,)\n",
        "\n",
        "X_train.shape, X_test.shape"
      ]
    },
    {
      "cell_type": "code",
      "execution_count": 22,
      "metadata": {},
      "outputs": [],
      "source": [
        "from automl_alex import LightGBM, LightGBMRegressor\n",
        "\n",
        "# We will use LightGBM for this dataset\n",
        "model = LightGBM(type_of_estimator='regression', random_state=RANDOM_SEED)\n",
        "\n",
        "# or Simply\n",
        "model = LightGBMRegressor(random_state=RANDOM_SEED)"
      ]
    },
    {
      "cell_type": "code",
      "execution_count": 23,
      "metadata": {},
      "outputs": [
        {
          "output_type": "stream",
          "name": "stdout",
          "text": [
            "Test MSE:  5.728586768420595\n"
          ]
        }
      ],
      "source": [
        "model = model.fit(X_train, y_train)\n",
        "predicts = model.predict(X_test)\n",
        "print('Test MSE: ', sklearn.metrics.mean_squared_error(y_test, predicts))"
      ]
    },
    {
      "cell_type": "code",
      "execution_count": 24,
      "metadata": {},
      "outputs": [
        {
          "output_type": "stream",
          "name": "stdout",
          "text": [
            "regression optimize: minimize\n",
            "One iteration takes ~ 0.4 sec\n",
            "> Start Auto calibration parameters\n",
            "> Start optimization with the parameters:\n",
            "CV_Folds =  10\n",
            "Score_CV_Folds =  5\n",
            "Feature_Selection =  False\n",
            "Opt_lvl =  3\n",
            "Cold_start =  113.0\n",
            "Early_stoping =  226.0\n",
            "Metric =  mean_squared_error\n",
            "Direction =  minimize\n",
            "##################################################\n",
            "Default model OptScore = 11.36\n",
            "optimize: minimize\n",
            "Optimize: : 3it [00:35, 11.81s/it,  | Model: LightGBM | OptScore: 0.9026 | Best mean_squared_error: 0.9026 +- 0.006932]\n"
          ]
        },
        {
          "output_type": "error",
          "ename": "KeyboardInterrupt",
          "evalue": "",
          "traceback": [
            "\u001b[0;31m---------------------------------------------------------------------------\u001b[0m",
            "\u001b[0;31mKeyboardInterrupt\u001b[0m                         Traceback (most recent call last)",
            "\u001b[0;32m<ipython-input-24-24f1143ee653>\u001b[0m in \u001b[0;36m<module>\u001b[0;34m\u001b[0m\n\u001b[0;32m----> 1\u001b[0;31m \u001b[0mhistory\u001b[0m \u001b[0;34m=\u001b[0m \u001b[0mmodel\u001b[0m\u001b[0;34m.\u001b[0m\u001b[0mopt\u001b[0m\u001b[0;34m(\u001b[0m\u001b[0mX_train\u001b[0m\u001b[0;34m,\u001b[0m \u001b[0my_train\u001b[0m\u001b[0;34m,\u001b[0m \u001b[0mtimeout\u001b[0m\u001b[0;34m=\u001b[0m\u001b[0;36m600\u001b[0m\u001b[0;34m,\u001b[0m\u001b[0;34m)\u001b[0m\u001b[0;34m\u001b[0m\u001b[0;34m\u001b[0m\u001b[0m\n\u001b[0m",
            "\u001b[0;32m~/Documents/AutoML/AutoML_Alex/automl_alex/models/base.py\u001b[0m in \u001b[0;36mopt\u001b[0;34m(self, X, y, timeout, metric, metric_round, combined_score_opt, iterations, cold_start, auto_parameters, folds, score_folds, opt_lvl, early_stoping, feature_selection, iteration_check, verbose)\u001b[0m\n\u001b[1;32m    621\u001b[0m         \u001b[0mself\u001b[0m\u001b[0;34m.\u001b[0m\u001b[0m_auto_parameters\u001b[0m \u001b[0;34m=\u001b[0m \u001b[0mauto_parameters\u001b[0m\u001b[0;34m\u001b[0m\u001b[0;34m\u001b[0m\u001b[0m\n\u001b[1;32m    622\u001b[0m \u001b[0;34m\u001b[0m\u001b[0m\n\u001b[0;32m--> 623\u001b[0;31m         history = self._opt_core(X,y,\n\u001b[0m\u001b[1;32m    624\u001b[0m             \u001b[0mtimeout\u001b[0m\u001b[0;34m,\u001b[0m\u001b[0;34m\u001b[0m\u001b[0;34m\u001b[0m\u001b[0m\n\u001b[1;32m    625\u001b[0m             \u001b[0mearly_stoping\u001b[0m\u001b[0;34m,\u001b[0m\u001b[0;34m\u001b[0m\u001b[0;34m\u001b[0m\u001b[0m\n",
            "\u001b[0;32m~/Documents/AutoML/AutoML_Alex/automl_alex/models/base.py\u001b[0m in \u001b[0;36m_opt_core\u001b[0;34m(self, X, y, timeout, early_stoping, feature_selection, iterations, iteration_check, verbose)\u001b[0m\n\u001b[1;32m    547\u001b[0m             ) as pbar:\n\u001b[1;32m    548\u001b[0m             \u001b[0;32mtry\u001b[0m\u001b[0;34m:\u001b[0m\u001b[0;34m\u001b[0m\u001b[0;34m\u001b[0m\u001b[0m\n\u001b[0;32m--> 549\u001b[0;31m                 self.study.optimize(\n\u001b[0m\u001b[1;32m    550\u001b[0m                     \u001b[0mobjective\u001b[0m\u001b[0;34m,\u001b[0m\u001b[0;34m\u001b[0m\u001b[0;34m\u001b[0m\u001b[0m\n\u001b[1;32m    551\u001b[0m                     \u001b[0mcallbacks\u001b[0m\u001b[0;34m=\u001b[0m\u001b[0;34m[\u001b[0m\u001b[0mes_callback\u001b[0m\u001b[0;34m]\u001b[0m\u001b[0;34m,\u001b[0m\u001b[0;34m\u001b[0m\u001b[0;34m\u001b[0m\u001b[0m\n",
            "\u001b[0;32m~/anaconda3/envs/freqtrade/lib/python3.8/site-packages/optuna/study.py\u001b[0m in \u001b[0;36moptimize\u001b[0;34m(self, func, n_trials, timeout, n_jobs, catch, callbacks, gc_after_trial, show_progress_bar)\u001b[0m\n\u001b[1;32m    304\u001b[0m                 \u001b[0mIf\u001b[0m \u001b[0mnested\u001b[0m \u001b[0minvocation\u001b[0m \u001b[0mof\u001b[0m \u001b[0mthis\u001b[0m \u001b[0mmethod\u001b[0m \u001b[0moccurs\u001b[0m\u001b[0;34m.\u001b[0m\u001b[0;34m\u001b[0m\u001b[0;34m\u001b[0m\u001b[0m\n\u001b[1;32m    305\u001b[0m         \"\"\"\n\u001b[0;32m--> 306\u001b[0;31m         _optimize(\n\u001b[0m\u001b[1;32m    307\u001b[0m             \u001b[0mstudy\u001b[0m\u001b[0;34m=\u001b[0m\u001b[0mself\u001b[0m\u001b[0;34m,\u001b[0m\u001b[0;34m\u001b[0m\u001b[0;34m\u001b[0m\u001b[0m\n\u001b[1;32m    308\u001b[0m             \u001b[0mfunc\u001b[0m\u001b[0;34m=\u001b[0m\u001b[0mfunc\u001b[0m\u001b[0;34m,\u001b[0m\u001b[0;34m\u001b[0m\u001b[0;34m\u001b[0m\u001b[0m\n",
            "\u001b[0;32m~/anaconda3/envs/freqtrade/lib/python3.8/site-packages/optuna/_optimize.py\u001b[0m in \u001b[0;36m_optimize\u001b[0;34m(study, func, n_trials, timeout, n_jobs, catch, callbacks, gc_after_trial, show_progress_bar)\u001b[0m\n\u001b[1;32m     53\u001b[0m     \u001b[0;32mtry\u001b[0m\u001b[0;34m:\u001b[0m\u001b[0;34m\u001b[0m\u001b[0;34m\u001b[0m\u001b[0m\n\u001b[1;32m     54\u001b[0m         \u001b[0;32mif\u001b[0m \u001b[0mn_jobs\u001b[0m \u001b[0;34m==\u001b[0m \u001b[0;36m1\u001b[0m\u001b[0;34m:\u001b[0m\u001b[0;34m\u001b[0m\u001b[0;34m\u001b[0m\u001b[0m\n\u001b[0;32m---> 55\u001b[0;31m             _optimize_sequential(\n\u001b[0m\u001b[1;32m     56\u001b[0m                 \u001b[0mstudy\u001b[0m\u001b[0;34m,\u001b[0m\u001b[0;34m\u001b[0m\u001b[0;34m\u001b[0m\u001b[0m\n\u001b[1;32m     57\u001b[0m                 \u001b[0mfunc\u001b[0m\u001b[0;34m,\u001b[0m\u001b[0;34m\u001b[0m\u001b[0;34m\u001b[0m\u001b[0m\n",
            "\u001b[0;32m~/anaconda3/envs/freqtrade/lib/python3.8/site-packages/optuna/_optimize.py\u001b[0m in \u001b[0;36m_optimize_sequential\u001b[0;34m(study, func, n_trials, timeout, catch, callbacks, gc_after_trial, reseed_sampler_rng, time_start, progress_bar)\u001b[0m\n\u001b[1;32m    154\u001b[0m \u001b[0;34m\u001b[0m\u001b[0m\n\u001b[1;32m    155\u001b[0m         \u001b[0;32mtry\u001b[0m\u001b[0;34m:\u001b[0m\u001b[0;34m\u001b[0m\u001b[0;34m\u001b[0m\u001b[0m\n\u001b[0;32m--> 156\u001b[0;31m             \u001b[0mtrial\u001b[0m \u001b[0;34m=\u001b[0m \u001b[0m_run_trial\u001b[0m\u001b[0;34m(\u001b[0m\u001b[0mstudy\u001b[0m\u001b[0;34m,\u001b[0m \u001b[0mfunc\u001b[0m\u001b[0;34m,\u001b[0m \u001b[0mcatch\u001b[0m\u001b[0;34m)\u001b[0m\u001b[0;34m\u001b[0m\u001b[0;34m\u001b[0m\u001b[0m\n\u001b[0m\u001b[1;32m    157\u001b[0m         \u001b[0;32mexcept\u001b[0m \u001b[0mException\u001b[0m\u001b[0;34m:\u001b[0m\u001b[0;34m\u001b[0m\u001b[0;34m\u001b[0m\u001b[0m\n\u001b[1;32m    158\u001b[0m             \u001b[0;32mraise\u001b[0m\u001b[0;34m\u001b[0m\u001b[0;34m\u001b[0m\u001b[0m\n",
            "\u001b[0;32m~/anaconda3/envs/freqtrade/lib/python3.8/site-packages/optuna/_optimize.py\u001b[0m in \u001b[0;36m_run_trial\u001b[0;34m(study, func, catch)\u001b[0m\n\u001b[1;32m    187\u001b[0m \u001b[0;34m\u001b[0m\u001b[0m\n\u001b[1;32m    188\u001b[0m     \u001b[0;32mtry\u001b[0m\u001b[0;34m:\u001b[0m\u001b[0;34m\u001b[0m\u001b[0;34m\u001b[0m\u001b[0m\n\u001b[0;32m--> 189\u001b[0;31m         \u001b[0mvalue\u001b[0m \u001b[0;34m=\u001b[0m \u001b[0mfunc\u001b[0m\u001b[0;34m(\u001b[0m\u001b[0mtrial\u001b[0m\u001b[0;34m)\u001b[0m\u001b[0;34m\u001b[0m\u001b[0;34m\u001b[0m\u001b[0m\n\u001b[0m\u001b[1;32m    190\u001b[0m     \u001b[0;32mexcept\u001b[0m \u001b[0mexceptions\u001b[0m\u001b[0;34m.\u001b[0m\u001b[0mTrialPruned\u001b[0m \u001b[0;32mas\u001b[0m \u001b[0me\u001b[0m\u001b[0;34m:\u001b[0m\u001b[0;34m\u001b[0m\u001b[0;34m\u001b[0m\u001b[0m\n\u001b[1;32m    191\u001b[0m         \u001b[0;31m# Register the last intermediate value if present as the value of the trial.\u001b[0m\u001b[0;34m\u001b[0m\u001b[0;34m\u001b[0m\u001b[0;34m\u001b[0m\u001b[0m\n",
            "\u001b[0;32m~/Documents/AutoML/AutoML_Alex/automl_alex/models/base.py\u001b[0m in \u001b[0;36mobjective\u001b[0;34m(trial, fast_check)\u001b[0m\n\u001b[1;32m    474\u001b[0m                 \u001b[0mdata_kwargs\u001b[0m\u001b[0;34m[\u001b[0m\u001b[0;34m'X'\u001b[0m\u001b[0;34m]\u001b[0m \u001b[0;34m=\u001b[0m \u001b[0mX\u001b[0m\u001b[0;34m[\u001b[0m\u001b[0mselect_columns\u001b[0m\u001b[0;34m]\u001b[0m\u001b[0;34m\u001b[0m\u001b[0;34m\u001b[0m\u001b[0m\n\u001b[1;32m    475\u001b[0m             \u001b[0;31m# score\u001b[0m\u001b[0;34m\u001b[0m\u001b[0;34m\u001b[0m\u001b[0;34m\u001b[0m\u001b[0m\n\u001b[0;32m--> 476\u001b[0;31m             cv_result = opt_model.cross_validation(\n\u001b[0m\u001b[1;32m    477\u001b[0m                 \u001b[0mfolds\u001b[0m\u001b[0;34m=\u001b[0m\u001b[0mopt_model\u001b[0m\u001b[0;34m.\u001b[0m\u001b[0m_folds\u001b[0m\u001b[0;34m,\u001b[0m\u001b[0;34m\u001b[0m\u001b[0;34m\u001b[0m\u001b[0m\n\u001b[1;32m    478\u001b[0m                 \u001b[0mscore_folds\u001b[0m\u001b[0;34m=\u001b[0m\u001b[0mopt_model\u001b[0m\u001b[0;34m.\u001b[0m\u001b[0m_score_folds\u001b[0m\u001b[0;34m,\u001b[0m\u001b[0;34m\u001b[0m\u001b[0;34m\u001b[0m\u001b[0m\n",
            "\u001b[0;32m~/Documents/AutoML/AutoML_Alex/automl_alex/models/base.py\u001b[0m in \u001b[0;36mcross_validation\u001b[0;34m(self, X, y, X_test, folds, score_folds, n_repeats, metric, print_metric, metric_round, predict, get_feature_importance)\u001b[0m\n\u001b[1;32m    181\u001b[0m \u001b[0;34m\u001b[0m\u001b[0m\n\u001b[1;32m    182\u001b[0m             \u001b[0;31m# Fit\u001b[0m\u001b[0;34m\u001b[0m\u001b[0;34m\u001b[0m\u001b[0;34m\u001b[0m\u001b[0m\n\u001b[0;32m--> 183\u001b[0;31m             \u001b[0mself\u001b[0m\u001b[0;34m.\u001b[0m\u001b[0mfit\u001b[0m\u001b[0;34m(\u001b[0m\u001b[0mX_train\u001b[0m\u001b[0;34m=\u001b[0m\u001b[0mtrain_x\u001b[0m\u001b[0;34m,\u001b[0m \u001b[0my_train\u001b[0m\u001b[0;34m=\u001b[0m\u001b[0mtrain_y\u001b[0m\u001b[0;34m,\u001b[0m\u001b[0;34m)\u001b[0m\u001b[0;34m\u001b[0m\u001b[0;34m\u001b[0m\u001b[0m\n\u001b[0m\u001b[1;32m    184\u001b[0m \u001b[0;34m\u001b[0m\u001b[0m\n\u001b[1;32m    185\u001b[0m             \u001b[0;31m# Predict\u001b[0m\u001b[0;34m\u001b[0m\u001b[0;34m\u001b[0m\u001b[0;34m\u001b[0m\u001b[0m\n",
            "\u001b[0;32m~/Documents/AutoML/AutoML_Alex/automl_alex/models/model_lightgbm.py\u001b[0m in \u001b[0;36mfit\u001b[0;34m(self, X_train, y_train, model_param)\u001b[0m\n\u001b[1;32m     45\u001b[0m         \u001b[0mnum_iterations\u001b[0m \u001b[0;34m=\u001b[0m \u001b[0mmodel_param\u001b[0m\u001b[0;34m.\u001b[0m\u001b[0mpop\u001b[0m\u001b[0;34m(\u001b[0m\u001b[0;34m'num_iterations'\u001b[0m\u001b[0;34m)\u001b[0m\u001b[0;34m\u001b[0m\u001b[0;34m\u001b[0m\u001b[0m\n\u001b[1;32m     46\u001b[0m \u001b[0;34m\u001b[0m\u001b[0m\n\u001b[0;32m---> 47\u001b[0;31m         self.model = lgb.train(\n\u001b[0m\u001b[1;32m     48\u001b[0m             \u001b[0mmodel_param\u001b[0m\u001b[0;34m,\u001b[0m\u001b[0;34m\u001b[0m\u001b[0;34m\u001b[0m\u001b[0m\n\u001b[1;32m     49\u001b[0m             \u001b[0mdtrain\u001b[0m\u001b[0;34m,\u001b[0m\u001b[0;34m\u001b[0m\u001b[0;34m\u001b[0m\u001b[0m\n",
            "\u001b[0;32m~/anaconda3/envs/freqtrade/lib/python3.8/site-packages/lightgbm/engine.py\u001b[0m in \u001b[0;36mtrain\u001b[0;34m(params, train_set, num_boost_round, valid_sets, valid_names, fobj, feval, init_model, feature_name, categorical_feature, early_stopping_rounds, evals_result, verbose_eval, learning_rates, keep_training_booster, callbacks)\u001b[0m\n\u001b[1;32m    250\u001b[0m                                     evaluation_result_list=None))\n\u001b[1;32m    251\u001b[0m \u001b[0;34m\u001b[0m\u001b[0m\n\u001b[0;32m--> 252\u001b[0;31m         \u001b[0mbooster\u001b[0m\u001b[0;34m.\u001b[0m\u001b[0mupdate\u001b[0m\u001b[0;34m(\u001b[0m\u001b[0mfobj\u001b[0m\u001b[0;34m=\u001b[0m\u001b[0mfobj\u001b[0m\u001b[0;34m)\u001b[0m\u001b[0;34m\u001b[0m\u001b[0;34m\u001b[0m\u001b[0m\n\u001b[0m\u001b[1;32m    253\u001b[0m \u001b[0;34m\u001b[0m\u001b[0m\n\u001b[1;32m    254\u001b[0m         \u001b[0mevaluation_result_list\u001b[0m \u001b[0;34m=\u001b[0m \u001b[0;34m[\u001b[0m\u001b[0;34m]\u001b[0m\u001b[0;34m\u001b[0m\u001b[0;34m\u001b[0m\u001b[0m\n",
            "\u001b[0;32m~/anaconda3/envs/freqtrade/lib/python3.8/site-packages/lightgbm/basic.py\u001b[0m in \u001b[0;36mupdate\u001b[0;34m(self, train_set, fobj)\u001b[0m\n\u001b[1;32m   2368\u001b[0m             \u001b[0;32mif\u001b[0m \u001b[0mself\u001b[0m\u001b[0;34m.\u001b[0m\u001b[0m__set_objective_to_none\u001b[0m\u001b[0;34m:\u001b[0m\u001b[0;34m\u001b[0m\u001b[0;34m\u001b[0m\u001b[0m\n\u001b[1;32m   2369\u001b[0m                 \u001b[0;32mraise\u001b[0m \u001b[0mLightGBMError\u001b[0m\u001b[0;34m(\u001b[0m\u001b[0;34m'Cannot update due to null objective function.'\u001b[0m\u001b[0;34m)\u001b[0m\u001b[0;34m\u001b[0m\u001b[0;34m\u001b[0m\u001b[0m\n\u001b[0;32m-> 2370\u001b[0;31m             _safe_call(_LIB.LGBM_BoosterUpdateOneIter(\n\u001b[0m\u001b[1;32m   2371\u001b[0m                 \u001b[0mself\u001b[0m\u001b[0;34m.\u001b[0m\u001b[0mhandle\u001b[0m\u001b[0;34m,\u001b[0m\u001b[0;34m\u001b[0m\u001b[0;34m\u001b[0m\u001b[0m\n\u001b[1;32m   2372\u001b[0m                 ctypes.byref(is_finished)))\n",
            "\u001b[0;31mKeyboardInterrupt\u001b[0m: "
          ]
        }
      ],
      "source": [
        "history = model.opt(X_train, y_train, timeout=600,)"
      ]
    },
    {
      "cell_type": "code",
      "execution_count": null,
      "metadata": {},
      "outputs": [],
      "source": [
        "history.head(5)"
      ]
    },
    {
      "cell_type": "code",
      "execution_count": null,
      "metadata": {},
      "outputs": [],
      "source": [
        "model.plot_opt_history()"
      ]
    },
    {
      "cell_type": "code",
      "execution_count": null,
      "metadata": {},
      "outputs": [],
      "source": [
        "model.model_param"
      ]
    },
    {
      "cell_type": "code",
      "execution_count": null,
      "metadata": {},
      "outputs": [],
      "source": [
        "model = model.fit(X_train, y_train)\n",
        "predicts = model.predict(X_test)\n",
        "print('Test MSE: ', sklearn.metrics.mean_squared_error(y_test, predicts))"
      ]
    },
    {
      "cell_type": "markdown",
      "metadata": {
        "id": "UyDu6ufSbV6G",
        "colab_type": "text"
      },
      "source": [
        "# Advanced Use"
      ]
    },
    {
      "cell_type": "code",
      "execution_count": null,
      "metadata": {},
      "outputs": [],
      "source": [
        "dataset = fetch_openml(name='adult', version=1, as_frame=True)\n",
        "# convert target to binary\n",
        "dataset.target = dataset.target.astype('category').cat.codes\n",
        "dataset.data.head(5)"
      ]
    },
    {
      "cell_type": "code",
      "execution_count": null,
      "metadata": {},
      "outputs": [],
      "source": [
        "X_train, X_test, y_train, y_test = train_test_split(dataset.data, \n",
        "                                                    dataset.target,\n",
        "                                                    test_size=0.2, \n",
        "                                                    random_state=RANDOM_SEED,)\n",
        "X_train.shape, X_test.shape"
      ]
    },
    {
      "cell_type": "code",
      "execution_count": null,
      "metadata": {},
      "outputs": [],
      "source": [
        "de = DataPrepare(random_state=RANDOM_SEED)\n",
        "X_train = de.fit_transform(X_train)\n",
        "X_test = de.transform(X_test)"
      ]
    },
    {
      "cell_type": "code",
      "execution_count": null,
      "metadata": {},
      "outputs": [],
      "source": [
        "model = LightGBMClassifier(random_state=RANDOM_SEED)\n",
        "model = model.fit(X_train, y_train)\n",
        "predicts = model.predict(X_test)\n",
        "print('Test metric: ', round(sklearn.metrics.log_loss(y_test, predicts),4))"
      ]
    },
    {
      "cell_type": "markdown",
      "metadata": {},
      "source": [
        "## Advanced opt"
      ]
    },
    {
      "cell_type": "code",
      "metadata": {
        "ExecuteTime": {
          "end_time": "2020-05-07T08:52:14.362888Z",
          "start_time": "2020-05-07T08:42:07.420500Z"
        },
        "id": "7GMuIW6UbV6J",
        "colab_type": "code",
        "colab": {
          "base_uri": "https://localhost:8080/",
          "height": 187
        },
        "outputId": "ca594d1b-bd4b-42cf-ff1a-6444add1ae92",
        "tags": []
      },
      "source": [
        "history = model.opt(\n",
        "            X_train, y_train,\n",
        "            metric=sklearn.metrics.log_loss, # log_loss\n",
        "            direction='minimize', # changed optimization direction for log_loss\n",
        "            combined_score_opt=True, # in 'minimize' score_opt = score + std\n",
        "            timeout=1000, # sec\n",
        "            auto_parameters=False, # try to set the rules ourselves\n",
        "            folds=10,\n",
        "            score_folds=3, # put 3 folds\n",
        "            cold_start=50, # I plan > 200 iterations. 50 iterations are enough to evaluate the space\n",
        "            opt_lvl=3,\n",
        "            early_stoping=100, # stop otimization if no better parameters are found through iterations\n",
        "            verbose=1,)"
      ],
      "execution_count": null,
      "outputs": []
    },
    {
      "cell_type": "code",
      "metadata": {
        "ExecuteTime": {
          "end_time": "2020-05-07T08:52:50.083150Z",
          "start_time": "2020-05-07T08:52:14.366249Z"
        },
        "id": "H0SxAZPbbV6L",
        "colab_type": "code",
        "colab": {
          "base_uri": "https://localhost:8080/",
          "height": 51
        },
        "outputId": "23308887-3710-4f7b-feb8-7b7b65e29716",
        "tags": []
      },
      "source": [
        "model = model.fit(X_train, y_train)\n",
        "predicts = model.predict(X_test)\n",
        "print('Test metric: ', round(sklearn.metrics.log_loss(y_test, predicts),4))"
      ],
      "execution_count": null,
      "outputs": []
    },
    {
      "cell_type": "code",
      "metadata": {
        "id": "m52jjJJlbV6M",
        "colab_type": "code",
        "colab": {
          "base_uri": "https://localhost:8080/",
          "height": 350
        },
        "outputId": "6c08ebd5-ef2a-4b24-aecb-1f3dce418918"
      },
      "source": [
        "model.plot_opt_history()"
      ],
      "execution_count": null,
      "outputs": []
    },
    {
      "cell_type": "markdown",
      "metadata": {},
      "source": [
        "## Feature Important from CV"
      ]
    },
    {
      "cell_type": "code",
      "execution_count": null,
      "metadata": {},
      "outputs": [],
      "source": [
        "res = model.cross_validation(\n",
        "            X=X_train,\n",
        "            y=y_train,\n",
        "            get_feature_importance=True,)\n",
        "#res['Feature_importance']"
      ]
    },
    {
      "cell_type": "code",
      "execution_count": null,
      "metadata": {},
      "outputs": [],
      "source": [
        "pd.Series(res['feature_importance'], index=res['feature_importance'].keys()).sort_values(ascending=False)[:15].plot(kind='barh')"
      ]
    },
    {
      "cell_type": "markdown",
      "metadata": {
        "colab": {},
        "colab_type": "code",
        "id": "NsnNnlEisGAs"
      },
      "source": [
        "## Predict from configs"
      ]
    },
    {
      "cell_type": "code",
      "execution_count": null,
      "metadata": {},
      "outputs": [],
      "source": [
        "top5_models = history.drop_duplicates(subset=['model_score', 'score_std'], keep='last').head(5)\n",
        "top5_models"
      ]
    },
    {
      "cell_type": "code",
      "execution_count": null,
      "metadata": {},
      "outputs": [],
      "source": [
        "# let's load the 2nd model\n",
        "model.model_param = top5_models['model_param'].iloc[1] "
      ]
    },
    {
      "cell_type": "code",
      "execution_count": null,
      "metadata": {},
      "outputs": [],
      "source": [
        "model = model.fit(X_train, y_train)\n",
        "predicts = model.predict(X_test)\n",
        "print('Test metric: ', round(sklearn.metrics.log_loss(y_test, predicts),4))"
      ]
    },
    {
      "source": [
        "# Save & Load"
      ],
      "cell_type": "markdown",
      "metadata": {}
    },
    {
      "source": [
        "### Save"
      ],
      "cell_type": "markdown",
      "metadata": {}
    },
    {
      "cell_type": "code",
      "execution_count": null,
      "metadata": {},
      "outputs": [],
      "source": [
        "de.save('de_model_1',)"
      ]
    },
    {
      "cell_type": "code",
      "execution_count": null,
      "metadata": {},
      "outputs": [],
      "source": [
        "model.save('model_1',)"
      ]
    },
    {
      "cell_type": "code",
      "execution_count": null,
      "metadata": {},
      "outputs": [],
      "source": [
        "model.model_param"
      ]
    },
    {
      "cell_type": "code",
      "execution_count": null,
      "metadata": {},
      "outputs": [],
      "source": [
        "predicts = model.predict(X_test)\n",
        "print('Test metric: ', round(sklearn.metrics.log_loss(y_test, predicts),4))"
      ]
    },
    {
      "source": [
        "### Load\n",
        "you can restart the notebook to start from this place - to make sure"
      ],
      "cell_type": "markdown",
      "metadata": {}
    },
    {
      "cell_type": "code",
      "execution_count": null,
      "metadata": {},
      "outputs": [],
      "source": [
        "import sklearn\n",
        "import pandas as pd\n",
        "from sklearn.model_selection import train_test_split\n",
        "from sklearn.datasets import fetch_openml\n",
        "\n",
        "import automl_alex\n",
        "from automl_alex import DataPrepare\n",
        "from automl_alex import LightGBM, LightGBMClassifier\n",
        "\n",
        "RANDOM_SEED = 42\n",
        "print(automl_alex.__version__)"
      ]
    },
    {
      "cell_type": "code",
      "execution_count": null,
      "metadata": {},
      "outputs": [],
      "source": [
        "dataset = fetch_openml(name='adult', version=1, as_frame=True)\n",
        "dataset.target = dataset.target.astype('category').cat.codes\n",
        "\n",
        "X_train, X_test, y_train, y_test = train_test_split(dataset.data, dataset.target, test_size=0.2, random_state=RANDOM_SEED,)\n",
        "\n",
        "de = DataPrepare(random_state=RANDOM_SEED, verbose=0)\n",
        "de = de.load('de_model_1', )\n",
        "X_test = de.transform(X_test)"
      ]
    },
    {
      "cell_type": "code",
      "execution_count": null,
      "metadata": {},
      "outputs": [],
      "source": [
        "model_new = LightGBMClassifier(random_state=RANDOM_SEED)\n",
        "model_new = model_new.load('model_1',)\n",
        "\n",
        "predicts = model_new.predict(X_test)\n",
        "print('Test metric: ', round(sklearn.metrics.log_loss(y_test, predicts),4))"
      ]
    },
    {
      "cell_type": "code",
      "execution_count": null,
      "metadata": {},
      "outputs": [],
      "source": [
        "model_new.model_param"
      ]
    },
    {
      "cell_type": "code",
      "execution_count": null,
      "metadata": {},
      "outputs": [],
      "source": []
    }
  ],
  "metadata": {
    "kernelspec": {
      "name": "python3",
      "display_name": "Python 3",
      "language": "python"
    },
    "language_info": {
      "codemirror_mode": {
        "name": "ipython",
        "version": 3
      },
      "file_extension": ".py",
      "mimetype": "text/x-python",
      "name": "python",
      "nbconvert_exporter": "python",
      "pygments_lexer": "ipython3",
      "version": "3.8.3-final"
    },
    "toc": {
      "base_numbering": 1,
      "nav_menu": {},
      "number_sections": false,
      "sideBar": true,
      "skip_h1_title": false,
      "title_cell": "Table of Contents",
      "title_sidebar": "Contents",
      "toc_cell": false,
      "toc_position": {
        "height": "calc(100% - 180px)",
        "left": "10px",
        "top": "150px",
        "width": "165px"
      },
      "toc_section_display": true,
      "toc_window_display": true
    },
    "colab": {
      "name": "02. Models v1.ipynb",
      "provenance": [],
      "collapsed_sections": [
        "SvXrBLljbV6F",
        "IbtbRVMebV6F",
        "D9xT9cTgbV6F",
        "apIHobyxbV6F",
        "tl8zhvjVbV6G"
      ]
    }
  },
  "nbformat": 4,
  "nbformat_minor": 0
}