{
  "cells": [
    {
      "cell_type": "code",
      "metadata": {
        "ExecuteTime": {
          "end_time": "2020-05-07T08:40:27.950196Z",
          "start_time": "2020-05-07T08:40:27.947264Z"
        },
        "id": "JWu_N5HFbV4v",
        "colab_type": "code",
        "colab": {
          "base_uri": "https://localhost:8080/",
          "height": 972
        },
        "outputId": "1a501a70-5ec4-49cf-d38e-cfde0567f306"
      },
      "source": [
        "# If you run this notebook on Google Colaboratory, uncomment the below to install automl_alex.\n",
        "#!pip install -U -q automl-alex"
      ],
      "execution_count": 1,
      "outputs": []
    },
    {
      "cell_type": "code",
      "metadata": {
        "ExecuteTime": {
          "end_time": "2020-05-07T08:40:30.084237Z",
          "start_time": "2020-05-07T08:40:28.530481Z"
        },
        "id": "im_z95sdbV46",
        "colab_type": "code",
        "colab": {
          "base_uri": "https://localhost:8080/",
          "height": 34
        },
        "outputId": "d0ed0122-7cfa-4d56-85f3-863b4e92973c",
        "tags": []
      },
      "source": [
        "import sklearn\n",
        "import pandas as pd\n",
        "from sklearn.model_selection import train_test_split\n",
        "from sklearn.datasets import fetch_openml\n",
        "\n",
        "import automl_alex\n",
        "from automl_alex import DataPrepare\n",
        "from automl_alex import CrossValidation\n",
        "print(automl_alex.__version__)"
      ],
      "execution_count": 1,
      "outputs": [
        {
          "output_type": "stream",
          "name": "stdout",
          "text": [
            "1.2.28\n"
          ]
        }
      ]
    },
    {
      "cell_type": "code",
      "execution_count": 2,
      "metadata": {},
      "outputs": [
        {
          "output_type": "execute_result",
          "data": {
            "text/plain": [
              "{'LightGBM': automl_alex.models.model_lightgbm.LightGBM,\n",
              " 'KNeighbors': automl_alex.models.sklearn_models.KNeighbors,\n",
              " 'LinearModel': automl_alex.models.sklearn_models.LinearModel,\n",
              " 'RandomForest': automl_alex.models.sklearn_models.RandomForest,\n",
              " 'ExtraTrees': automl_alex.models.sklearn_models.ExtraTrees,\n",
              " 'XGBoost': automl_alex.models.model_xgboost.XGBoost,\n",
              " 'CatBoost': automl_alex.models.model_catboost.CatBoost,\n",
              " 'MLP': automl_alex.models.sklearn_models.MLP}"
            ]
          },
          "metadata": {},
          "execution_count": 2
        }
      ],
      "source": [
        "automl_alex.models.all_models"
      ]
    },
    {
      "cell_type": "code",
      "metadata": {
        "ExecuteTime": {
          "end_time": "2020-05-07T08:40:30.989504Z",
          "start_time": "2020-05-07T08:40:30.985837Z"
        },
        "id": "MLtO5wRAbV5A",
        "colab_type": "code",
        "colab": {}
      },
      "source": [
        "RANDOM_SEED = 42"
      ],
      "execution_count": 3,
      "outputs": []
    },
    {
      "cell_type": "markdown",
      "metadata": {
        "id": "rIom-hsebV5H",
        "colab_type": "text"
      },
      "source": [
        "## Data"
      ]
    },
    {
      "cell_type": "code",
      "metadata": {
        "ExecuteTime": {
          "end_time": "2020-05-07T08:40:43.537111Z",
          "start_time": "2020-05-07T08:40:43.487884Z"
        },
        "id": "N2J9L7o5bV5H",
        "colab_type": "code",
        "colab": {
          "base_uri": "https://localhost:8080/",
          "height": 34
        },
        "outputId": "d3e84afd-71dc-475d-c393-47d4e00fc295"
      },
      "source": [
        "# add dataset whis more num features\n",
        "dataset = fetch_openml(name='credit-g', version=1, as_frame=True)\n",
        "dataset.target = dataset.target.astype('category').cat.codes\n",
        "\n",
        "X_train, X_test, y_train, y_test = train_test_split(dataset.data, dataset.target, test_size=0.2, random_state=RANDOM_SEED,)\n",
        "X_train.shape, X_test.shape"
      ],
      "execution_count": 4,
      "outputs": [
        {
          "output_type": "execute_result",
          "data": {
            "text/plain": [
              "((800, 20), (200, 20))"
            ]
          },
          "metadata": {},
          "execution_count": 4
        }
      ]
    },
    {
      "cell_type": "code",
      "execution_count": 5,
      "metadata": {},
      "outputs": [
        {
          "output_type": "execute_result",
          "data": {
            "text/plain": [
              "    checking_status  duration                  credit_history    purpose  \\\n",
              "29               <0      60.0              delayed previously   business   \n",
              "535           >=200      21.0  critical/other existing credit  education   \n",
              "695     no checking       6.0                   existing paid   used car   \n",
              "\n",
              "     credit_amount savings_status employment  installment_commitment  \\\n",
              "29          6836.0           <100        >=7                     3.0   \n",
              "535         2319.0           <100         <1                     2.0   \n",
              "695         1236.0    500<=X<1000     1<=X<4                     2.0   \n",
              "\n",
              "    personal_status other_parties  residence_since property_magnitude   age  \\\n",
              "29      male single          none              4.0  no known property  63.0   \n",
              "535    male div/sep          none              1.0                car  33.0   \n",
              "695     male single          none              4.0     life insurance  50.0   \n",
              "\n",
              "    other_payment_plans housing  existing_credits      job  num_dependents  \\\n",
              "29                 none     own               2.0  skilled             1.0   \n",
              "535                none    rent               1.0  skilled             1.0   \n",
              "695                none    rent               1.0  skilled             1.0   \n",
              "\n",
              "    own_telephone foreign_worker  \n",
              "29            yes            yes  \n",
              "535          none            yes  \n",
              "695          none            yes  "
            ],
            "text/html": "<div>\n<style scoped>\n    .dataframe tbody tr th:only-of-type {\n        vertical-align: middle;\n    }\n\n    .dataframe tbody tr th {\n        vertical-align: top;\n    }\n\n    .dataframe thead th {\n        text-align: right;\n    }\n</style>\n<table border=\"1\" class=\"dataframe\">\n  <thead>\n    <tr style=\"text-align: right;\">\n      <th></th>\n      <th>checking_status</th>\n      <th>duration</th>\n      <th>credit_history</th>\n      <th>purpose</th>\n      <th>credit_amount</th>\n      <th>savings_status</th>\n      <th>employment</th>\n      <th>installment_commitment</th>\n      <th>personal_status</th>\n      <th>other_parties</th>\n      <th>residence_since</th>\n      <th>property_magnitude</th>\n      <th>age</th>\n      <th>other_payment_plans</th>\n      <th>housing</th>\n      <th>existing_credits</th>\n      <th>job</th>\n      <th>num_dependents</th>\n      <th>own_telephone</th>\n      <th>foreign_worker</th>\n    </tr>\n  </thead>\n  <tbody>\n    <tr>\n      <th>29</th>\n      <td>&lt;0</td>\n      <td>60.0</td>\n      <td>delayed previously</td>\n      <td>business</td>\n      <td>6836.0</td>\n      <td>&lt;100</td>\n      <td>&gt;=7</td>\n      <td>3.0</td>\n      <td>male single</td>\n      <td>none</td>\n      <td>4.0</td>\n      <td>no known property</td>\n      <td>63.0</td>\n      <td>none</td>\n      <td>own</td>\n      <td>2.0</td>\n      <td>skilled</td>\n      <td>1.0</td>\n      <td>yes</td>\n      <td>yes</td>\n    </tr>\n    <tr>\n      <th>535</th>\n      <td>&gt;=200</td>\n      <td>21.0</td>\n      <td>critical/other existing credit</td>\n      <td>education</td>\n      <td>2319.0</td>\n      <td>&lt;100</td>\n      <td>&lt;1</td>\n      <td>2.0</td>\n      <td>male div/sep</td>\n      <td>none</td>\n      <td>1.0</td>\n      <td>car</td>\n      <td>33.0</td>\n      <td>none</td>\n      <td>rent</td>\n      <td>1.0</td>\n      <td>skilled</td>\n      <td>1.0</td>\n      <td>none</td>\n      <td>yes</td>\n    </tr>\n    <tr>\n      <th>695</th>\n      <td>no checking</td>\n      <td>6.0</td>\n      <td>existing paid</td>\n      <td>used car</td>\n      <td>1236.0</td>\n      <td>500&lt;=X&lt;1000</td>\n      <td>1&lt;=X&lt;4</td>\n      <td>2.0</td>\n      <td>male single</td>\n      <td>none</td>\n      <td>4.0</td>\n      <td>life insurance</td>\n      <td>50.0</td>\n      <td>none</td>\n      <td>rent</td>\n      <td>1.0</td>\n      <td>skilled</td>\n      <td>1.0</td>\n      <td>none</td>\n      <td>yes</td>\n    </tr>\n  </tbody>\n</table>\n</div>"
          },
          "metadata": {},
          "execution_count": 5
        }
      ],
      "source": [
        "X_train.head(3)"
      ]
    },
    {
      "cell_type": "code",
      "execution_count": 6,
      "metadata": {},
      "outputs": [
        {
          "output_type": "stream",
          "name": "stderr",
          "text": [
            "22:33:49 | Source data shape: (800, 20)\n",
            "22:33:49 | ##################################################\n",
            "22:33:49 | ! START preprocessing Data\n",
            "22:33:49 | - Auto detect cat features: 13\n",
            "22:33:49 | > Binary Features\n",
            "22:33:49 | > Clean Categorical Features\n",
            "22:33:49 | > Transform Categorical Features.\n",
            "22:33:49 |  - Encoder: HelmertEncoder ADD features: 39\n",
            "22:33:49 |  - Encoder: CountEncoder ADD features: 13\n",
            "22:33:49 | > CleanOutliers\n",
            "22:33:49 | Num of outlier detected: 10 in Feature duration\n",
            "22:33:49 | Proportion of outlier detected: 1.2 %\n",
            "22:33:49 | Num of outlier detected: 6 in Feature age\n",
            "22:33:49 | Proportion of outlier detected: 0.8 %\n",
            "22:33:49 | Num of outlier detected: 38 in Feature credit_amount\n",
            "22:33:49 | Proportion of outlier detected: 4.8 %\n",
            "22:33:49 |   No nans features\n",
            "22:33:49 | > Generate interaction Num Features\n",
            "22:33:49 |  ADD features: 75\n",
            "22:33:49 | ##################################################\n",
            "22:33:49 | Final data shape: (800, 153)\n",
            "22:33:49 | Total ADD columns: 133\n",
            "22:33:49 | ##################################################\n",
            "22:33:49 | ##################################################\n",
            "22:33:49 | ! Start Transform Data\n",
            "22:33:49 | > Clean Binary Features\n",
            "22:33:49 | > Clean Categorical Features\n",
            "22:33:49 | > Transform Categorical Features.\n",
            "22:33:49 |  - Encoder: HelmertEncoder ADD features: 39\n",
            "22:33:49 |  - Encoder: CountEncoder ADD features: 13\n",
            "22:33:50 | > Generate interaction Num Features\n",
            "22:33:50 |  ADD features: 75\n",
            "22:33:50 | ##################################################\n",
            "22:33:50 | Final data shape: (200, 153)\n",
            "22:33:50 | Total ADD columns: 133\n",
            "22:33:50 | ##################################################\n"
          ]
        },
        {
          "output_type": "execute_result",
          "data": {
            "text/plain": [
              "((800, 153), (200, 153))"
            ]
          },
          "metadata": {},
          "execution_count": 6
        }
      ],
      "source": [
        "de = DataPrepare(\n",
        "    normalization=False, # if you use Linar based models -> True (for Tree based models normalization is not needed)\n",
        "    random_state=RANDOM_SEED,\n",
        "    )\n",
        "X_train = de.fit_transform(X_train)\n",
        "X_test = de.transform(X_test)\n",
        "X_train.shape, X_test.shape"
      ]
    },
    {
      "cell_type": "code",
      "execution_count": 7,
      "metadata": {},
      "outputs": [
        {
          "output_type": "execute_result",
          "data": {
            "text/plain": [
              "   checking_status  duration  credit_history  purpose  credit_amount  \\\n",
              "0                1      48.0               1        1         6836.0   \n",
              "1                2      21.0               2        2         2319.0   \n",
              "2                3       6.0               3        3         1236.0   \n",
              "3                3      21.0               4        4         5003.0   \n",
              "4                3      12.0               3        5          886.0   \n",
              "\n",
              "   savings_status  employment  installment_commitment  personal_status  \\\n",
              "0               1           1                     3.0                1   \n",
              "1               1           2                     2.0                2   \n",
              "2               2           3                     2.0                1   \n",
              "3               3           3                     1.0                3   \n",
              "4               3           3                     4.0                3   \n",
              "\n",
              "   other_parties  ...  existing_credits_*_residence_since  \\\n",
              "0              1  ...                                 8.0   \n",
              "1              1  ...                                 1.0   \n",
              "2              1  ...                                 4.0   \n",
              "3              1  ...                                 8.0   \n",
              "4              1  ...                                 2.0   \n",
              "\n",
              "   existing_credits_*_age  existing_credits_*_credit_amount  \\\n",
              "0                   126.0                           13672.0   \n",
              "1                    33.0                            2319.0   \n",
              "2                    50.0                            1236.0   \n",
              "3                    58.0                           10006.0   \n",
              "4                    21.0                             886.0   \n",
              "\n",
              "   existing_credits_*_installment_commitment  residence_since_*_age  \\\n",
              "0                                        6.0                  252.0   \n",
              "1                                        2.0                   33.0   \n",
              "2                                        2.0                  200.0   \n",
              "3                                        2.0                  116.0   \n",
              "4                                        4.0                   42.0   \n",
              "\n",
              "   residence_since_*_credit_amount  residence_since_*_installment_commitment  \\\n",
              "0                          27344.0                                      12.0   \n",
              "1                           2319.0                                       2.0   \n",
              "2                           4944.0                                       8.0   \n",
              "3                          20012.0                                       4.0   \n",
              "4                           1772.0                                       8.0   \n",
              "\n",
              "   age_*_credit_amount  age_*_installment_commitment  \\\n",
              "0             430668.0                         189.0   \n",
              "1              76527.0                          66.0   \n",
              "2              61800.0                         100.0   \n",
              "3             145087.0                          29.0   \n",
              "4              18606.0                          84.0   \n",
              "\n",
              "   credit_amount_*_installment_commitment  \n",
              "0                                 20508.0  \n",
              "1                                  4638.0  \n",
              "2                                  2472.0  \n",
              "3                                  5003.0  \n",
              "4                                  3544.0  \n",
              "\n",
              "[5 rows x 153 columns]"
            ],
            "text/html": "<div>\n<style scoped>\n    .dataframe tbody tr th:only-of-type {\n        vertical-align: middle;\n    }\n\n    .dataframe tbody tr th {\n        vertical-align: top;\n    }\n\n    .dataframe thead th {\n        text-align: right;\n    }\n</style>\n<table border=\"1\" class=\"dataframe\">\n  <thead>\n    <tr style=\"text-align: right;\">\n      <th></th>\n      <th>checking_status</th>\n      <th>duration</th>\n      <th>credit_history</th>\n      <th>purpose</th>\n      <th>credit_amount</th>\n      <th>savings_status</th>\n      <th>employment</th>\n      <th>installment_commitment</th>\n      <th>personal_status</th>\n      <th>other_parties</th>\n      <th>...</th>\n      <th>existing_credits_*_residence_since</th>\n      <th>existing_credits_*_age</th>\n      <th>existing_credits_*_credit_amount</th>\n      <th>existing_credits_*_installment_commitment</th>\n      <th>residence_since_*_age</th>\n      <th>residence_since_*_credit_amount</th>\n      <th>residence_since_*_installment_commitment</th>\n      <th>age_*_credit_amount</th>\n      <th>age_*_installment_commitment</th>\n      <th>credit_amount_*_installment_commitment</th>\n    </tr>\n  </thead>\n  <tbody>\n    <tr>\n      <th>0</th>\n      <td>1</td>\n      <td>48.0</td>\n      <td>1</td>\n      <td>1</td>\n      <td>6836.0</td>\n      <td>1</td>\n      <td>1</td>\n      <td>3.0</td>\n      <td>1</td>\n      <td>1</td>\n      <td>...</td>\n      <td>8.0</td>\n      <td>126.0</td>\n      <td>13672.0</td>\n      <td>6.0</td>\n      <td>252.0</td>\n      <td>27344.0</td>\n      <td>12.0</td>\n      <td>430668.0</td>\n      <td>189.0</td>\n      <td>20508.0</td>\n    </tr>\n    <tr>\n      <th>1</th>\n      <td>2</td>\n      <td>21.0</td>\n      <td>2</td>\n      <td>2</td>\n      <td>2319.0</td>\n      <td>1</td>\n      <td>2</td>\n      <td>2.0</td>\n      <td>2</td>\n      <td>1</td>\n      <td>...</td>\n      <td>1.0</td>\n      <td>33.0</td>\n      <td>2319.0</td>\n      <td>2.0</td>\n      <td>33.0</td>\n      <td>2319.0</td>\n      <td>2.0</td>\n      <td>76527.0</td>\n      <td>66.0</td>\n      <td>4638.0</td>\n    </tr>\n    <tr>\n      <th>2</th>\n      <td>3</td>\n      <td>6.0</td>\n      <td>3</td>\n      <td>3</td>\n      <td>1236.0</td>\n      <td>2</td>\n      <td>3</td>\n      <td>2.0</td>\n      <td>1</td>\n      <td>1</td>\n      <td>...</td>\n      <td>4.0</td>\n      <td>50.0</td>\n      <td>1236.0</td>\n      <td>2.0</td>\n      <td>200.0</td>\n      <td>4944.0</td>\n      <td>8.0</td>\n      <td>61800.0</td>\n      <td>100.0</td>\n      <td>2472.0</td>\n    </tr>\n    <tr>\n      <th>3</th>\n      <td>3</td>\n      <td>21.0</td>\n      <td>4</td>\n      <td>4</td>\n      <td>5003.0</td>\n      <td>3</td>\n      <td>3</td>\n      <td>1.0</td>\n      <td>3</td>\n      <td>1</td>\n      <td>...</td>\n      <td>8.0</td>\n      <td>58.0</td>\n      <td>10006.0</td>\n      <td>2.0</td>\n      <td>116.0</td>\n      <td>20012.0</td>\n      <td>4.0</td>\n      <td>145087.0</td>\n      <td>29.0</td>\n      <td>5003.0</td>\n    </tr>\n    <tr>\n      <th>4</th>\n      <td>3</td>\n      <td>12.0</td>\n      <td>3</td>\n      <td>5</td>\n      <td>886.0</td>\n      <td>3</td>\n      <td>3</td>\n      <td>4.0</td>\n      <td>3</td>\n      <td>1</td>\n      <td>...</td>\n      <td>2.0</td>\n      <td>21.0</td>\n      <td>886.0</td>\n      <td>4.0</td>\n      <td>42.0</td>\n      <td>1772.0</td>\n      <td>8.0</td>\n      <td>18606.0</td>\n      <td>84.0</td>\n      <td>3544.0</td>\n    </tr>\n  </tbody>\n</table>\n<p>5 rows × 153 columns</p>\n</div>"
          },
          "metadata": {},
          "execution_count": 7
        }
      ],
      "source": [
        "X_train.head(5)"
      ]
    },
    {
      "source": [
        "# Classifier"
      ],
      "cell_type": "markdown",
      "metadata": {}
    },
    {
      "cell_type": "markdown",
      "metadata": {
        "id": "dp1LnCd8bV5L",
        "colab_type": "text"
      },
      "source": [
        "## Model"
      ]
    },
    {
      "cell_type": "code",
      "metadata": {
        "ExecuteTime": {
          "end_time": "2020-05-07T08:40:44.210481Z",
          "start_time": "2020-05-07T08:40:44.203520Z"
        },
        "id": "_bPRxyuwbV5L",
        "colab_type": "code",
        "colab": {
          "base_uri": "https://localhost:8080/",
          "height": 170
        },
        "outputId": "4408921c-e14a-42cc-de56-8b9bad8eb6d3"
      },
      "source": [
        "# Libraries are currently available:\n",
        "automl_alex.models.all_models"
      ],
      "execution_count": 8,
      "outputs": [
        {
          "output_type": "execute_result",
          "data": {
            "text/plain": [
              "{'LightGBM': automl_alex.models.model_lightgbm.LightGBM,\n",
              " 'KNeighbors': automl_alex.models.sklearn_models.KNeighbors,\n",
              " 'LinearModel': automl_alex.models.sklearn_models.LinearModel,\n",
              " 'RandomForest': automl_alex.models.sklearn_models.RandomForest,\n",
              " 'ExtraTrees': automl_alex.models.sklearn_models.ExtraTrees,\n",
              " 'XGBoost': automl_alex.models.model_xgboost.XGBoost,\n",
              " 'CatBoost': automl_alex.models.model_catboost.CatBoost,\n",
              " 'MLP': automl_alex.models.sklearn_models.MLP}"
            ]
          },
          "metadata": {},
          "execution_count": 8
        }
      ]
    },
    {
      "cell_type": "markdown",
      "metadata": {
        "id": "gZt0Owq1bV5O",
        "colab_type": "text"
      },
      "source": [
        "You can add a library if you wish.    \n",
        "let's try LightGBM"
      ]
    },
    {
      "cell_type": "code",
      "metadata": {
        "ExecuteTime": {
          "end_time": "2020-05-07T08:40:45.348064Z",
          "start_time": "2020-05-07T08:40:45.287480Z"
        },
        "id": "cH0AUcRAbV5P",
        "colab_type": "code",
        "colab": {}
      },
      "source": [
        "from automl_alex import LightGBM, LightGBMClassifier\n",
        "\n",
        "# We will use LightGBM for this dataset\n",
        "model = LightGBM(type_of_estimator='classifier', random_state=RANDOM_SEED)\n",
        "\n",
        "# or Simply\n",
        "model = LightGBMClassifier(random_state=RANDOM_SEED)"
      ],
      "execution_count": 9,
      "outputs": []
    },
    {
      "source": [
        "it's simple, the logic is like in sklearn (.fit() => .predict())"
      ],
      "cell_type": "markdown",
      "metadata": {}
    },
    {
      "cell_type": "code",
      "execution_count": 10,
      "metadata": {},
      "outputs": [],
      "source": [
        "model.fit(X_train, y_train)"
      ]
    },
    {
      "cell_type": "code",
      "execution_count": 11,
      "metadata": {},
      "outputs": [
        {
          "output_type": "stream",
          "name": "stdout",
          "text": [
            "Test AUC:  0.8101\n"
          ]
        }
      ],
      "source": [
        "predicts = model.predict_proba(X_test)\n",
        "print('Test AUC: ', round(sklearn.metrics.roc_auc_score(y_test, predicts),4))"
      ]
    },
    {
      "cell_type": "code",
      "execution_count": 12,
      "metadata": {},
      "outputs": [
        {
          "output_type": "stream",
          "name": "stderr",
          "text": [
            "22:36:33 | roc_auc_score: 0.8101\n"
          ]
        }
      ],
      "source": [
        "# or just use .score()\n",
        "score = model.score(\n",
        "    X_test, y_test,\n",
        "    metric=sklearn.metrics.roc_auc_score,\n",
        "    metric_round=4,\n",
        "    print_metric=True,\n",
        "    )"
      ]
    },
    {
      "cell_type": "code",
      "execution_count": 13,
      "metadata": {},
      "outputs": [
        {
          "output_type": "execute_result",
          "data": {
            "text/plain": [
              "{'random_seed': 42,\n",
              " 'num_iterations': 300,\n",
              " 'verbose': -1,\n",
              " 'device_type': 'cpu',\n",
              " 'objective': 'binary'}"
            ]
          },
          "metadata": {},
          "execution_count": 13
        }
      ],
      "source": [
        "model.model_param"
      ]
    },
    {
      "cell_type": "code",
      "execution_count": 14,
      "metadata": {},
      "outputs": [],
      "source": [
        "feature_importance = model.get_feature_importance(X_train)"
      ]
    },
    {
      "cell_type": "code",
      "execution_count": 15,
      "metadata": {},
      "outputs": [
        {
          "output_type": "execute_result",
          "data": {
            "text/plain": [
              "<matplotlib.axes._subplots.AxesSubplot at 0x7f142af004f0>"
            ]
          },
          "metadata": {},
          "execution_count": 15
        },
        {
          "output_type": "display_data",
          "data": {
            "text/plain": "<Figure size 432x288 with 1 Axes>",
            "image/svg+xml": "<?xml version=\"1.0\" encoding=\"utf-8\" standalone=\"no\"?>\n<!DOCTYPE svg PUBLIC \"-//W3C//DTD SVG 1.1//EN\"\n  \"http://www.w3.org/Graphics/SVG/1.1/DTD/svg11.dtd\">\n<!-- Created with matplotlib (https://matplotlib.org/) -->\n<svg height=\"248.518125pt\" version=\"1.1\" viewBox=\"0 0 568.396875 248.518125\" width=\"568.396875pt\" xmlns=\"http://www.w3.org/2000/svg\" xmlns:xlink=\"http://www.w3.org/1999/xlink\">\n <defs>\n  <style type=\"text/css\">\n*{stroke-linecap:butt;stroke-linejoin:round;}\n  </style>\n </defs>\n <g id=\"figure_1\">\n  <g id=\"patch_1\">\n   <path d=\"M 0 248.518125 \nL 568.396875 248.518125 \nL 568.396875 0 \nL 0 0 \nz\n\" style=\"fill:#ffffff;\"/>\n  </g>\n  <g id=\"axes_1\">\n   <g id=\"patch_2\">\n    <path d=\"M 226.396875 224.64 \nL 561.196875 224.64 \nL 561.196875 7.2 \nL 226.396875 7.2 \nz\n\" style=\"fill:#eaeaf2;\"/>\n   </g>\n   <g id=\"matplotlib.axis_1\">\n    <g id=\"xtick_1\">\n     <g id=\"line2d_1\">\n      <path clip-path=\"url(#p6d5ea85dc3)\" d=\"M 226.396875 224.64 \nL 226.396875 7.2 \n\" style=\"fill:none;stroke:#ffffff;stroke-linecap:round;stroke-width:0.8;\"/>\n     </g>\n     <g id=\"text_1\">\n      <!-- 0 -->\n      <defs>\n       <path d=\"M 31.78125 66.40625 \nQ 24.171875 66.40625 20.328125 58.90625 \nQ 16.5 51.421875 16.5 36.375 \nQ 16.5 21.390625 20.328125 13.890625 \nQ 24.171875 6.390625 31.78125 6.390625 \nQ 39.453125 6.390625 43.28125 13.890625 \nQ 47.125 21.390625 47.125 36.375 \nQ 47.125 51.421875 43.28125 58.90625 \nQ 39.453125 66.40625 31.78125 66.40625 \nz\nM 31.78125 74.21875 \nQ 44.046875 74.21875 50.515625 64.515625 \nQ 56.984375 54.828125 56.984375 36.375 \nQ 56.984375 17.96875 50.515625 8.265625 \nQ 44.046875 -1.421875 31.78125 -1.421875 \nQ 19.53125 -1.421875 13.0625 8.265625 \nQ 6.59375 17.96875 6.59375 36.375 \nQ 6.59375 54.828125 13.0625 64.515625 \nQ 19.53125 74.21875 31.78125 74.21875 \nz\n\" id=\"DejaVuSans-48\"/>\n      </defs>\n      <g style=\"fill:#262626;\" transform=\"translate(223.215625 239.238437)scale(0.1 -0.1)\">\n       <use xlink:href=\"#DejaVuSans-48\"/>\n      </g>\n     </g>\n    </g>\n    <g id=\"xtick_2\">\n     <g id=\"line2d_2\">\n      <path clip-path=\"url(#p6d5ea85dc3)\" d=\"M 263.906149 224.64 \nL 263.906149 7.2 \n\" style=\"fill:none;stroke:#ffffff;stroke-linecap:round;stroke-width:0.8;\"/>\n     </g>\n     <g id=\"text_2\">\n      <!-- 50 -->\n      <defs>\n       <path d=\"M 10.796875 72.90625 \nL 49.515625 72.90625 \nL 49.515625 64.59375 \nL 19.828125 64.59375 \nL 19.828125 46.734375 \nQ 21.96875 47.46875 24.109375 47.828125 \nQ 26.265625 48.1875 28.421875 48.1875 \nQ 40.625 48.1875 47.75 41.5 \nQ 54.890625 34.8125 54.890625 23.390625 \nQ 54.890625 11.625 47.5625 5.09375 \nQ 40.234375 -1.421875 26.90625 -1.421875 \nQ 22.3125 -1.421875 17.546875 -0.640625 \nQ 12.796875 0.140625 7.71875 1.703125 \nL 7.71875 11.625 \nQ 12.109375 9.234375 16.796875 8.0625 \nQ 21.484375 6.890625 26.703125 6.890625 \nQ 35.15625 6.890625 40.078125 11.328125 \nQ 45.015625 15.765625 45.015625 23.390625 \nQ 45.015625 31 40.078125 35.4375 \nQ 35.15625 39.890625 26.703125 39.890625 \nQ 22.75 39.890625 18.8125 39.015625 \nQ 14.890625 38.140625 10.796875 36.28125 \nz\n\" id=\"DejaVuSans-53\"/>\n      </defs>\n      <g style=\"fill:#262626;\" transform=\"translate(257.543649 239.238437)scale(0.1 -0.1)\">\n       <use xlink:href=\"#DejaVuSans-53\"/>\n       <use x=\"63.623047\" xlink:href=\"#DejaVuSans-48\"/>\n      </g>\n     </g>\n    </g>\n    <g id=\"xtick_3\">\n     <g id=\"line2d_3\">\n      <path clip-path=\"url(#p6d5ea85dc3)\" d=\"M 301.415422 224.64 \nL 301.415422 7.2 \n\" style=\"fill:none;stroke:#ffffff;stroke-linecap:round;stroke-width:0.8;\"/>\n     </g>\n     <g id=\"text_3\">\n      <!-- 100 -->\n      <defs>\n       <path d=\"M 12.40625 8.296875 \nL 28.515625 8.296875 \nL 28.515625 63.921875 \nL 10.984375 60.40625 \nL 10.984375 69.390625 \nL 28.421875 72.90625 \nL 38.28125 72.90625 \nL 38.28125 8.296875 \nL 54.390625 8.296875 \nL 54.390625 0 \nL 12.40625 0 \nz\n\" id=\"DejaVuSans-49\"/>\n      </defs>\n      <g style=\"fill:#262626;\" transform=\"translate(291.871672 239.238437)scale(0.1 -0.1)\">\n       <use xlink:href=\"#DejaVuSans-49\"/>\n       <use x=\"63.623047\" xlink:href=\"#DejaVuSans-48\"/>\n       <use x=\"127.246094\" xlink:href=\"#DejaVuSans-48\"/>\n      </g>\n     </g>\n    </g>\n    <g id=\"xtick_4\">\n     <g id=\"line2d_4\">\n      <path clip-path=\"url(#p6d5ea85dc3)\" d=\"M 338.924696 224.64 \nL 338.924696 7.2 \n\" style=\"fill:none;stroke:#ffffff;stroke-linecap:round;stroke-width:0.8;\"/>\n     </g>\n     <g id=\"text_4\">\n      <!-- 150 -->\n      <g style=\"fill:#262626;\" transform=\"translate(329.380946 239.238437)scale(0.1 -0.1)\">\n       <use xlink:href=\"#DejaVuSans-49\"/>\n       <use x=\"63.623047\" xlink:href=\"#DejaVuSans-53\"/>\n       <use x=\"127.246094\" xlink:href=\"#DejaVuSans-48\"/>\n      </g>\n     </g>\n    </g>\n    <g id=\"xtick_5\">\n     <g id=\"line2d_5\">\n      <path clip-path=\"url(#p6d5ea85dc3)\" d=\"M 376.433969 224.64 \nL 376.433969 7.2 \n\" style=\"fill:none;stroke:#ffffff;stroke-linecap:round;stroke-width:0.8;\"/>\n     </g>\n     <g id=\"text_5\">\n      <!-- 200 -->\n      <defs>\n       <path d=\"M 19.1875 8.296875 \nL 53.609375 8.296875 \nL 53.609375 0 \nL 7.328125 0 \nL 7.328125 8.296875 \nQ 12.9375 14.109375 22.625 23.890625 \nQ 32.328125 33.6875 34.8125 36.53125 \nQ 39.546875 41.84375 41.421875 45.53125 \nQ 43.3125 49.21875 43.3125 52.78125 \nQ 43.3125 58.59375 39.234375 62.25 \nQ 35.15625 65.921875 28.609375 65.921875 \nQ 23.96875 65.921875 18.8125 64.3125 \nQ 13.671875 62.703125 7.8125 59.421875 \nL 7.8125 69.390625 \nQ 13.765625 71.78125 18.9375 73 \nQ 24.125 74.21875 28.421875 74.21875 \nQ 39.75 74.21875 46.484375 68.546875 \nQ 53.21875 62.890625 53.21875 53.421875 \nQ 53.21875 48.921875 51.53125 44.890625 \nQ 49.859375 40.875 45.40625 35.40625 \nQ 44.1875 33.984375 37.640625 27.21875 \nQ 31.109375 20.453125 19.1875 8.296875 \nz\n\" id=\"DejaVuSans-50\"/>\n      </defs>\n      <g style=\"fill:#262626;\" transform=\"translate(366.890219 239.238437)scale(0.1 -0.1)\">\n       <use xlink:href=\"#DejaVuSans-50\"/>\n       <use x=\"63.623047\" xlink:href=\"#DejaVuSans-48\"/>\n       <use x=\"127.246094\" xlink:href=\"#DejaVuSans-48\"/>\n      </g>\n     </g>\n    </g>\n    <g id=\"xtick_6\">\n     <g id=\"line2d_6\">\n      <path clip-path=\"url(#p6d5ea85dc3)\" d=\"M 413.943243 224.64 \nL 413.943243 7.2 \n\" style=\"fill:none;stroke:#ffffff;stroke-linecap:round;stroke-width:0.8;\"/>\n     </g>\n     <g id=\"text_6\">\n      <!-- 250 -->\n      <g style=\"fill:#262626;\" transform=\"translate(404.399493 239.238437)scale(0.1 -0.1)\">\n       <use xlink:href=\"#DejaVuSans-50\"/>\n       <use x=\"63.623047\" xlink:href=\"#DejaVuSans-53\"/>\n       <use x=\"127.246094\" xlink:href=\"#DejaVuSans-48\"/>\n      </g>\n     </g>\n    </g>\n    <g id=\"xtick_7\">\n     <g id=\"line2d_7\">\n      <path clip-path=\"url(#p6d5ea85dc3)\" d=\"M 451.452516 224.64 \nL 451.452516 7.2 \n\" style=\"fill:none;stroke:#ffffff;stroke-linecap:round;stroke-width:0.8;\"/>\n     </g>\n     <g id=\"text_7\">\n      <!-- 300 -->\n      <defs>\n       <path d=\"M 40.578125 39.3125 \nQ 47.65625 37.796875 51.625 33 \nQ 55.609375 28.21875 55.609375 21.1875 \nQ 55.609375 10.40625 48.1875 4.484375 \nQ 40.765625 -1.421875 27.09375 -1.421875 \nQ 22.515625 -1.421875 17.65625 -0.515625 \nQ 12.796875 0.390625 7.625 2.203125 \nL 7.625 11.71875 \nQ 11.71875 9.328125 16.59375 8.109375 \nQ 21.484375 6.890625 26.8125 6.890625 \nQ 36.078125 6.890625 40.9375 10.546875 \nQ 45.796875 14.203125 45.796875 21.1875 \nQ 45.796875 27.640625 41.28125 31.265625 \nQ 36.765625 34.90625 28.71875 34.90625 \nL 20.21875 34.90625 \nL 20.21875 43.015625 \nL 29.109375 43.015625 \nQ 36.375 43.015625 40.234375 45.921875 \nQ 44.09375 48.828125 44.09375 54.296875 \nQ 44.09375 59.90625 40.109375 62.90625 \nQ 36.140625 65.921875 28.71875 65.921875 \nQ 24.65625 65.921875 20.015625 65.03125 \nQ 15.375 64.15625 9.8125 62.3125 \nL 9.8125 71.09375 \nQ 15.4375 72.65625 20.34375 73.4375 \nQ 25.25 74.21875 29.59375 74.21875 \nQ 40.828125 74.21875 47.359375 69.109375 \nQ 53.90625 64.015625 53.90625 55.328125 \nQ 53.90625 49.265625 50.4375 45.09375 \nQ 46.96875 40.921875 40.578125 39.3125 \nz\n\" id=\"DejaVuSans-51\"/>\n      </defs>\n      <g style=\"fill:#262626;\" transform=\"translate(441.908766 239.238437)scale(0.1 -0.1)\">\n       <use xlink:href=\"#DejaVuSans-51\"/>\n       <use x=\"63.623047\" xlink:href=\"#DejaVuSans-48\"/>\n       <use x=\"127.246094\" xlink:href=\"#DejaVuSans-48\"/>\n      </g>\n     </g>\n    </g>\n    <g id=\"xtick_8\">\n     <g id=\"line2d_8\">\n      <path clip-path=\"url(#p6d5ea85dc3)\" d=\"M 488.96179 224.64 \nL 488.96179 7.2 \n\" style=\"fill:none;stroke:#ffffff;stroke-linecap:round;stroke-width:0.8;\"/>\n     </g>\n     <g id=\"text_8\">\n      <!-- 350 -->\n      <g style=\"fill:#262626;\" transform=\"translate(479.41804 239.238437)scale(0.1 -0.1)\">\n       <use xlink:href=\"#DejaVuSans-51\"/>\n       <use x=\"63.623047\" xlink:href=\"#DejaVuSans-53\"/>\n       <use x=\"127.246094\" xlink:href=\"#DejaVuSans-48\"/>\n      </g>\n     </g>\n    </g>\n    <g id=\"xtick_9\">\n     <g id=\"line2d_9\">\n      <path clip-path=\"url(#p6d5ea85dc3)\" d=\"M 526.471063 224.64 \nL 526.471063 7.2 \n\" style=\"fill:none;stroke:#ffffff;stroke-linecap:round;stroke-width:0.8;\"/>\n     </g>\n     <g id=\"text_9\">\n      <!-- 400 -->\n      <defs>\n       <path d=\"M 37.796875 64.3125 \nL 12.890625 25.390625 \nL 37.796875 25.390625 \nz\nM 35.203125 72.90625 \nL 47.609375 72.90625 \nL 47.609375 25.390625 \nL 58.015625 25.390625 \nL 58.015625 17.1875 \nL 47.609375 17.1875 \nL 47.609375 0 \nL 37.796875 0 \nL 37.796875 17.1875 \nL 4.890625 17.1875 \nL 4.890625 26.703125 \nz\n\" id=\"DejaVuSans-52\"/>\n      </defs>\n      <g style=\"fill:#262626;\" transform=\"translate(516.927313 239.238437)scale(0.1 -0.1)\">\n       <use xlink:href=\"#DejaVuSans-52\"/>\n       <use x=\"63.623047\" xlink:href=\"#DejaVuSans-48\"/>\n       <use x=\"127.246094\" xlink:href=\"#DejaVuSans-48\"/>\n      </g>\n     </g>\n    </g>\n   </g>\n   <g id=\"matplotlib.axis_2\">\n    <g id=\"ytick_1\">\n     <g id=\"line2d_10\">\n      <path clip-path=\"url(#p6d5ea85dc3)\" d=\"M 226.396875 217.392 \nL 561.196875 217.392 \n\" style=\"fill:none;stroke:#ffffff;stroke-linecap:round;stroke-width:0.8;\"/>\n     </g>\n     <g id=\"text_10\">\n      <!-- HelmertEncoder_checking_status_1 -->\n      <defs>\n       <path d=\"M 9.8125 72.90625 \nL 19.671875 72.90625 \nL 19.671875 43.015625 \nL 55.515625 43.015625 \nL 55.515625 72.90625 \nL 65.375 72.90625 \nL 65.375 0 \nL 55.515625 0 \nL 55.515625 34.71875 \nL 19.671875 34.71875 \nL 19.671875 0 \nL 9.8125 0 \nz\n\" id=\"DejaVuSans-72\"/>\n       <path d=\"M 56.203125 29.59375 \nL 56.203125 25.203125 \nL 14.890625 25.203125 \nQ 15.484375 15.921875 20.484375 11.0625 \nQ 25.484375 6.203125 34.421875 6.203125 \nQ 39.59375 6.203125 44.453125 7.46875 \nQ 49.3125 8.734375 54.109375 11.28125 \nL 54.109375 2.78125 \nQ 49.265625 0.734375 44.1875 -0.34375 \nQ 39.109375 -1.421875 33.890625 -1.421875 \nQ 20.796875 -1.421875 13.15625 6.1875 \nQ 5.515625 13.8125 5.515625 26.8125 \nQ 5.515625 40.234375 12.765625 48.109375 \nQ 20.015625 56 32.328125 56 \nQ 43.359375 56 49.78125 48.890625 \nQ 56.203125 41.796875 56.203125 29.59375 \nz\nM 47.21875 32.234375 \nQ 47.125 39.59375 43.09375 43.984375 \nQ 39.0625 48.390625 32.421875 48.390625 \nQ 24.90625 48.390625 20.390625 44.140625 \nQ 15.875 39.890625 15.1875 32.171875 \nz\n\" id=\"DejaVuSans-101\"/>\n       <path d=\"M 9.421875 75.984375 \nL 18.40625 75.984375 \nL 18.40625 0 \nL 9.421875 0 \nz\n\" id=\"DejaVuSans-108\"/>\n       <path d=\"M 52 44.1875 \nQ 55.375 50.25 60.0625 53.125 \nQ 64.75 56 71.09375 56 \nQ 79.640625 56 84.28125 50.015625 \nQ 88.921875 44.046875 88.921875 33.015625 \nL 88.921875 0 \nL 79.890625 0 \nL 79.890625 32.71875 \nQ 79.890625 40.578125 77.09375 44.375 \nQ 74.3125 48.1875 68.609375 48.1875 \nQ 61.625 48.1875 57.5625 43.546875 \nQ 53.515625 38.921875 53.515625 30.90625 \nL 53.515625 0 \nL 44.484375 0 \nL 44.484375 32.71875 \nQ 44.484375 40.625 41.703125 44.40625 \nQ 38.921875 48.1875 33.109375 48.1875 \nQ 26.21875 48.1875 22.15625 43.53125 \nQ 18.109375 38.875 18.109375 30.90625 \nL 18.109375 0 \nL 9.078125 0 \nL 9.078125 54.6875 \nL 18.109375 54.6875 \nL 18.109375 46.1875 \nQ 21.1875 51.21875 25.484375 53.609375 \nQ 29.78125 56 35.6875 56 \nQ 41.65625 56 45.828125 52.96875 \nQ 50 49.953125 52 44.1875 \nz\n\" id=\"DejaVuSans-109\"/>\n       <path d=\"M 41.109375 46.296875 \nQ 39.59375 47.171875 37.8125 47.578125 \nQ 36.03125 48 33.890625 48 \nQ 26.265625 48 22.1875 43.046875 \nQ 18.109375 38.09375 18.109375 28.8125 \nL 18.109375 0 \nL 9.078125 0 \nL 9.078125 54.6875 \nL 18.109375 54.6875 \nL 18.109375 46.1875 \nQ 20.953125 51.171875 25.484375 53.578125 \nQ 30.03125 56 36.53125 56 \nQ 37.453125 56 38.578125 55.875 \nQ 39.703125 55.765625 41.0625 55.515625 \nz\n\" id=\"DejaVuSans-114\"/>\n       <path d=\"M 18.3125 70.21875 \nL 18.3125 54.6875 \nL 36.8125 54.6875 \nL 36.8125 47.703125 \nL 18.3125 47.703125 \nL 18.3125 18.015625 \nQ 18.3125 11.328125 20.140625 9.421875 \nQ 21.96875 7.515625 27.59375 7.515625 \nL 36.8125 7.515625 \nL 36.8125 0 \nL 27.59375 0 \nQ 17.1875 0 13.234375 3.875 \nQ 9.28125 7.765625 9.28125 18.015625 \nL 9.28125 47.703125 \nL 2.6875 47.703125 \nL 2.6875 54.6875 \nL 9.28125 54.6875 \nL 9.28125 70.21875 \nz\n\" id=\"DejaVuSans-116\"/>\n       <path d=\"M 9.8125 72.90625 \nL 55.90625 72.90625 \nL 55.90625 64.59375 \nL 19.671875 64.59375 \nL 19.671875 43.015625 \nL 54.390625 43.015625 \nL 54.390625 34.71875 \nL 19.671875 34.71875 \nL 19.671875 8.296875 \nL 56.78125 8.296875 \nL 56.78125 0 \nL 9.8125 0 \nz\n\" id=\"DejaVuSans-69\"/>\n       <path d=\"M 54.890625 33.015625 \nL 54.890625 0 \nL 45.90625 0 \nL 45.90625 32.71875 \nQ 45.90625 40.484375 42.875 44.328125 \nQ 39.84375 48.1875 33.796875 48.1875 \nQ 26.515625 48.1875 22.3125 43.546875 \nQ 18.109375 38.921875 18.109375 30.90625 \nL 18.109375 0 \nL 9.078125 0 \nL 9.078125 54.6875 \nL 18.109375 54.6875 \nL 18.109375 46.1875 \nQ 21.34375 51.125 25.703125 53.5625 \nQ 30.078125 56 35.796875 56 \nQ 45.21875 56 50.046875 50.171875 \nQ 54.890625 44.34375 54.890625 33.015625 \nz\n\" id=\"DejaVuSans-110\"/>\n       <path d=\"M 48.78125 52.59375 \nL 48.78125 44.1875 \nQ 44.96875 46.296875 41.140625 47.34375 \nQ 37.3125 48.390625 33.40625 48.390625 \nQ 24.65625 48.390625 19.8125 42.84375 \nQ 14.984375 37.3125 14.984375 27.296875 \nQ 14.984375 17.28125 19.8125 11.734375 \nQ 24.65625 6.203125 33.40625 6.203125 \nQ 37.3125 6.203125 41.140625 7.25 \nQ 44.96875 8.296875 48.78125 10.40625 \nL 48.78125 2.09375 \nQ 45.015625 0.34375 40.984375 -0.53125 \nQ 36.96875 -1.421875 32.421875 -1.421875 \nQ 20.0625 -1.421875 12.78125 6.34375 \nQ 5.515625 14.109375 5.515625 27.296875 \nQ 5.515625 40.671875 12.859375 48.328125 \nQ 20.21875 56 33.015625 56 \nQ 37.15625 56 41.109375 55.140625 \nQ 45.0625 54.296875 48.78125 52.59375 \nz\n\" id=\"DejaVuSans-99\"/>\n       <path d=\"M 30.609375 48.390625 \nQ 23.390625 48.390625 19.1875 42.75 \nQ 14.984375 37.109375 14.984375 27.296875 \nQ 14.984375 17.484375 19.15625 11.84375 \nQ 23.34375 6.203125 30.609375 6.203125 \nQ 37.796875 6.203125 41.984375 11.859375 \nQ 46.1875 17.53125 46.1875 27.296875 \nQ 46.1875 37.015625 41.984375 42.703125 \nQ 37.796875 48.390625 30.609375 48.390625 \nz\nM 30.609375 56 \nQ 42.328125 56 49.015625 48.375 \nQ 55.71875 40.765625 55.71875 27.296875 \nQ 55.71875 13.875 49.015625 6.21875 \nQ 42.328125 -1.421875 30.609375 -1.421875 \nQ 18.84375 -1.421875 12.171875 6.21875 \nQ 5.515625 13.875 5.515625 27.296875 \nQ 5.515625 40.765625 12.171875 48.375 \nQ 18.84375 56 30.609375 56 \nz\n\" id=\"DejaVuSans-111\"/>\n       <path d=\"M 45.40625 46.390625 \nL 45.40625 75.984375 \nL 54.390625 75.984375 \nL 54.390625 0 \nL 45.40625 0 \nL 45.40625 8.203125 \nQ 42.578125 3.328125 38.25 0.953125 \nQ 33.9375 -1.421875 27.875 -1.421875 \nQ 17.96875 -1.421875 11.734375 6.484375 \nQ 5.515625 14.40625 5.515625 27.296875 \nQ 5.515625 40.1875 11.734375 48.09375 \nQ 17.96875 56 27.875 56 \nQ 33.9375 56 38.25 53.625 \nQ 42.578125 51.265625 45.40625 46.390625 \nz\nM 14.796875 27.296875 \nQ 14.796875 17.390625 18.875 11.75 \nQ 22.953125 6.109375 30.078125 6.109375 \nQ 37.203125 6.109375 41.296875 11.75 \nQ 45.40625 17.390625 45.40625 27.296875 \nQ 45.40625 37.203125 41.296875 42.84375 \nQ 37.203125 48.484375 30.078125 48.484375 \nQ 22.953125 48.484375 18.875 42.84375 \nQ 14.796875 37.203125 14.796875 27.296875 \nz\n\" id=\"DejaVuSans-100\"/>\n       <path d=\"M 50.984375 -16.609375 \nL 50.984375 -23.578125 \nL -0.984375 -23.578125 \nL -0.984375 -16.609375 \nz\n\" id=\"DejaVuSans-95\"/>\n       <path d=\"M 54.890625 33.015625 \nL 54.890625 0 \nL 45.90625 0 \nL 45.90625 32.71875 \nQ 45.90625 40.484375 42.875 44.328125 \nQ 39.84375 48.1875 33.796875 48.1875 \nQ 26.515625 48.1875 22.3125 43.546875 \nQ 18.109375 38.921875 18.109375 30.90625 \nL 18.109375 0 \nL 9.078125 0 \nL 9.078125 75.984375 \nL 18.109375 75.984375 \nL 18.109375 46.1875 \nQ 21.34375 51.125 25.703125 53.5625 \nQ 30.078125 56 35.796875 56 \nQ 45.21875 56 50.046875 50.171875 \nQ 54.890625 44.34375 54.890625 33.015625 \nz\n\" id=\"DejaVuSans-104\"/>\n       <path d=\"M 9.078125 75.984375 \nL 18.109375 75.984375 \nL 18.109375 31.109375 \nL 44.921875 54.6875 \nL 56.390625 54.6875 \nL 27.390625 29.109375 \nL 57.625 0 \nL 45.90625 0 \nL 18.109375 26.703125 \nL 18.109375 0 \nL 9.078125 0 \nz\n\" id=\"DejaVuSans-107\"/>\n       <path d=\"M 9.421875 54.6875 \nL 18.40625 54.6875 \nL 18.40625 0 \nL 9.421875 0 \nz\nM 9.421875 75.984375 \nL 18.40625 75.984375 \nL 18.40625 64.59375 \nL 9.421875 64.59375 \nz\n\" id=\"DejaVuSans-105\"/>\n       <path d=\"M 45.40625 27.984375 \nQ 45.40625 37.75 41.375 43.109375 \nQ 37.359375 48.484375 30.078125 48.484375 \nQ 22.859375 48.484375 18.828125 43.109375 \nQ 14.796875 37.75 14.796875 27.984375 \nQ 14.796875 18.265625 18.828125 12.890625 \nQ 22.859375 7.515625 30.078125 7.515625 \nQ 37.359375 7.515625 41.375 12.890625 \nQ 45.40625 18.265625 45.40625 27.984375 \nz\nM 54.390625 6.78125 \nQ 54.390625 -7.171875 48.1875 -13.984375 \nQ 42 -20.796875 29.203125 -20.796875 \nQ 24.46875 -20.796875 20.265625 -20.09375 \nQ 16.0625 -19.390625 12.109375 -17.921875 \nL 12.109375 -9.1875 \nQ 16.0625 -11.328125 19.921875 -12.34375 \nQ 23.78125 -13.375 27.78125 -13.375 \nQ 36.625 -13.375 41.015625 -8.765625 \nQ 45.40625 -4.15625 45.40625 5.171875 \nL 45.40625 9.625 \nQ 42.625 4.78125 38.28125 2.390625 \nQ 33.9375 0 27.875 0 \nQ 17.828125 0 11.671875 7.65625 \nQ 5.515625 15.328125 5.515625 27.984375 \nQ 5.515625 40.671875 11.671875 48.328125 \nQ 17.828125 56 27.875 56 \nQ 33.9375 56 38.28125 53.609375 \nQ 42.625 51.21875 45.40625 46.390625 \nL 45.40625 54.6875 \nL 54.390625 54.6875 \nz\n\" id=\"DejaVuSans-103\"/>\n       <path d=\"M 44.28125 53.078125 \nL 44.28125 44.578125 \nQ 40.484375 46.53125 36.375 47.5 \nQ 32.28125 48.484375 27.875 48.484375 \nQ 21.1875 48.484375 17.84375 46.4375 \nQ 14.5 44.390625 14.5 40.28125 \nQ 14.5 37.15625 16.890625 35.375 \nQ 19.28125 33.59375 26.515625 31.984375 \nL 29.59375 31.296875 \nQ 39.15625 29.25 43.1875 25.515625 \nQ 47.21875 21.78125 47.21875 15.09375 \nQ 47.21875 7.46875 41.1875 3.015625 \nQ 35.15625 -1.421875 24.609375 -1.421875 \nQ 20.21875 -1.421875 15.453125 -0.5625 \nQ 10.6875 0.296875 5.421875 2 \nL 5.421875 11.28125 \nQ 10.40625 8.6875 15.234375 7.390625 \nQ 20.0625 6.109375 24.8125 6.109375 \nQ 31.15625 6.109375 34.5625 8.28125 \nQ 37.984375 10.453125 37.984375 14.40625 \nQ 37.984375 18.0625 35.515625 20.015625 \nQ 33.0625 21.96875 24.703125 23.78125 \nL 21.578125 24.515625 \nQ 13.234375 26.265625 9.515625 29.90625 \nQ 5.8125 33.546875 5.8125 39.890625 \nQ 5.8125 47.609375 11.28125 51.796875 \nQ 16.75 56 26.8125 56 \nQ 31.78125 56 36.171875 55.265625 \nQ 40.578125 54.546875 44.28125 53.078125 \nz\n\" id=\"DejaVuSans-115\"/>\n       <path d=\"M 34.28125 27.484375 \nQ 23.390625 27.484375 19.1875 25 \nQ 14.984375 22.515625 14.984375 16.5 \nQ 14.984375 11.71875 18.140625 8.90625 \nQ 21.296875 6.109375 26.703125 6.109375 \nQ 34.1875 6.109375 38.703125 11.40625 \nQ 43.21875 16.703125 43.21875 25.484375 \nL 43.21875 27.484375 \nz\nM 52.203125 31.203125 \nL 52.203125 0 \nL 43.21875 0 \nL 43.21875 8.296875 \nQ 40.140625 3.328125 35.546875 0.953125 \nQ 30.953125 -1.421875 24.3125 -1.421875 \nQ 15.921875 -1.421875 10.953125 3.296875 \nQ 6 8.015625 6 15.921875 \nQ 6 25.140625 12.171875 29.828125 \nQ 18.359375 34.515625 30.609375 34.515625 \nL 43.21875 34.515625 \nL 43.21875 35.40625 \nQ 43.21875 41.609375 39.140625 45 \nQ 35.0625 48.390625 27.6875 48.390625 \nQ 23 48.390625 18.546875 47.265625 \nQ 14.109375 46.140625 10.015625 43.890625 \nL 10.015625 52.203125 \nQ 14.9375 54.109375 19.578125 55.046875 \nQ 24.21875 56 28.609375 56 \nQ 40.484375 56 46.34375 49.84375 \nQ 52.203125 43.703125 52.203125 31.203125 \nz\n\" id=\"DejaVuSans-97\"/>\n       <path d=\"M 8.5 21.578125 \nL 8.5 54.6875 \nL 17.484375 54.6875 \nL 17.484375 21.921875 \nQ 17.484375 14.15625 20.5 10.265625 \nQ 23.53125 6.390625 29.59375 6.390625 \nQ 36.859375 6.390625 41.078125 11.03125 \nQ 45.3125 15.671875 45.3125 23.6875 \nL 45.3125 54.6875 \nL 54.296875 54.6875 \nL 54.296875 0 \nL 45.3125 0 \nL 45.3125 8.40625 \nQ 42.046875 3.421875 37.71875 1 \nQ 33.40625 -1.421875 27.6875 -1.421875 \nQ 18.265625 -1.421875 13.375 4.4375 \nQ 8.5 10.296875 8.5 21.578125 \nz\nM 31.109375 56 \nz\n\" id=\"DejaVuSans-117\"/>\n      </defs>\n      <g style=\"fill:#262626;\" transform=\"translate(41.304688 221.191219)scale(0.1 -0.1)\">\n       <use xlink:href=\"#DejaVuSans-72\"/>\n       <use x=\"75.195312\" xlink:href=\"#DejaVuSans-101\"/>\n       <use x=\"136.71875\" xlink:href=\"#DejaVuSans-108\"/>\n       <use x=\"164.501953\" xlink:href=\"#DejaVuSans-109\"/>\n       <use x=\"261.914062\" xlink:href=\"#DejaVuSans-101\"/>\n       <use x=\"323.4375\" xlink:href=\"#DejaVuSans-114\"/>\n       <use x=\"364.550781\" xlink:href=\"#DejaVuSans-116\"/>\n       <use x=\"403.759766\" xlink:href=\"#DejaVuSans-69\"/>\n       <use x=\"466.943359\" xlink:href=\"#DejaVuSans-110\"/>\n       <use x=\"530.322266\" xlink:href=\"#DejaVuSans-99\"/>\n       <use x=\"585.302734\" xlink:href=\"#DejaVuSans-111\"/>\n       <use x=\"646.484375\" xlink:href=\"#DejaVuSans-100\"/>\n       <use x=\"709.960938\" xlink:href=\"#DejaVuSans-101\"/>\n       <use x=\"771.484375\" xlink:href=\"#DejaVuSans-114\"/>\n       <use x=\"812.597656\" xlink:href=\"#DejaVuSans-95\"/>\n       <use x=\"862.597656\" xlink:href=\"#DejaVuSans-99\"/>\n       <use x=\"917.578125\" xlink:href=\"#DejaVuSans-104\"/>\n       <use x=\"980.957031\" xlink:href=\"#DejaVuSans-101\"/>\n       <use x=\"1042.480469\" xlink:href=\"#DejaVuSans-99\"/>\n       <use x=\"1097.460938\" xlink:href=\"#DejaVuSans-107\"/>\n       <use x=\"1155.371094\" xlink:href=\"#DejaVuSans-105\"/>\n       <use x=\"1183.154297\" xlink:href=\"#DejaVuSans-110\"/>\n       <use x=\"1246.533203\" xlink:href=\"#DejaVuSans-103\"/>\n       <use x=\"1310.009766\" xlink:href=\"#DejaVuSans-95\"/>\n       <use x=\"1360.009766\" xlink:href=\"#DejaVuSans-115\"/>\n       <use x=\"1412.109375\" xlink:href=\"#DejaVuSans-116\"/>\n       <use x=\"1451.318359\" xlink:href=\"#DejaVuSans-97\"/>\n       <use x=\"1512.597656\" xlink:href=\"#DejaVuSans-116\"/>\n       <use x=\"1551.806641\" xlink:href=\"#DejaVuSans-117\"/>\n       <use x=\"1615.185547\" xlink:href=\"#DejaVuSans-115\"/>\n       <use x=\"1667.285156\" xlink:href=\"#DejaVuSans-95\"/>\n       <use x=\"1717.285156\" xlink:href=\"#DejaVuSans-49\"/>\n      </g>\n     </g>\n    </g>\n    <g id=\"ytick_2\">\n     <g id=\"line2d_11\">\n      <path clip-path=\"url(#p6d5ea85dc3)\" d=\"M 226.396875 202.896 \nL 561.196875 202.896 \n\" style=\"fill:none;stroke:#ffffff;stroke-linecap:round;stroke-width:0.8;\"/>\n     </g>\n     <g id=\"text_11\">\n      <!-- duration_/_credit_amount -->\n      <defs>\n       <path d=\"M 25.390625 72.90625 \nL 33.6875 72.90625 \nL 8.296875 -9.28125 \nL 0 -9.28125 \nz\n\" id=\"DejaVuSans-47\"/>\n      </defs>\n      <g style=\"fill:#262626;\" transform=\"translate(91.78125 206.695219)scale(0.1 -0.1)\">\n       <use xlink:href=\"#DejaVuSans-100\"/>\n       <use x=\"63.476562\" xlink:href=\"#DejaVuSans-117\"/>\n       <use x=\"126.855469\" xlink:href=\"#DejaVuSans-114\"/>\n       <use x=\"167.96875\" xlink:href=\"#DejaVuSans-97\"/>\n       <use x=\"229.248047\" xlink:href=\"#DejaVuSans-116\"/>\n       <use x=\"268.457031\" xlink:href=\"#DejaVuSans-105\"/>\n       <use x=\"296.240234\" xlink:href=\"#DejaVuSans-111\"/>\n       <use x=\"357.421875\" xlink:href=\"#DejaVuSans-110\"/>\n       <use x=\"420.800781\" xlink:href=\"#DejaVuSans-95\"/>\n       <use x=\"470.800781\" xlink:href=\"#DejaVuSans-47\"/>\n       <use x=\"504.492188\" xlink:href=\"#DejaVuSans-95\"/>\n       <use x=\"554.492188\" xlink:href=\"#DejaVuSans-99\"/>\n       <use x=\"609.472656\" xlink:href=\"#DejaVuSans-114\"/>\n       <use x=\"648.335938\" xlink:href=\"#DejaVuSans-101\"/>\n       <use x=\"709.859375\" xlink:href=\"#DejaVuSans-100\"/>\n       <use x=\"773.335938\" xlink:href=\"#DejaVuSans-105\"/>\n       <use x=\"801.119141\" xlink:href=\"#DejaVuSans-116\"/>\n       <use x=\"840.328125\" xlink:href=\"#DejaVuSans-95\"/>\n       <use x=\"890.328125\" xlink:href=\"#DejaVuSans-97\"/>\n       <use x=\"951.607422\" xlink:href=\"#DejaVuSans-109\"/>\n       <use x=\"1049.019531\" xlink:href=\"#DejaVuSans-111\"/>\n       <use x=\"1110.201172\" xlink:href=\"#DejaVuSans-117\"/>\n       <use x=\"1173.580078\" xlink:href=\"#DejaVuSans-110\"/>\n       <use x=\"1236.958984\" xlink:href=\"#DejaVuSans-116\"/>\n      </g>\n     </g>\n    </g>\n    <g id=\"ytick_3\">\n     <g id=\"line2d_12\">\n      <path clip-path=\"url(#p6d5ea85dc3)\" d=\"M 226.396875 188.4 \nL 561.196875 188.4 \n\" style=\"fill:none;stroke:#ffffff;stroke-linecap:round;stroke-width:0.8;\"/>\n     </g>\n     <g id=\"text_12\">\n      <!-- credit_amount_*_installment_commitment -->\n      <defs>\n       <path d=\"M 47.015625 60.890625 \nL 29.5 51.421875 \nL 47.015625 41.890625 \nL 44.1875 37.109375 \nL 27.78125 47.015625 \nL 27.78125 28.609375 \nL 22.21875 28.609375 \nL 22.21875 47.015625 \nL 5.8125 37.109375 \nL 2.984375 41.890625 \nL 20.515625 51.421875 \nL 2.984375 60.890625 \nL 5.8125 65.71875 \nL 22.21875 55.8125 \nL 22.21875 74.21875 \nL 27.78125 74.21875 \nL 27.78125 55.8125 \nL 44.1875 65.71875 \nz\n\" id=\"DejaVuSans-42\"/>\n      </defs>\n      <g style=\"fill:#262626;\" transform=\"translate(7.2 192.199219)scale(0.1 -0.1)\">\n       <use xlink:href=\"#DejaVuSans-99\"/>\n       <use x=\"54.980469\" xlink:href=\"#DejaVuSans-114\"/>\n       <use x=\"93.84375\" xlink:href=\"#DejaVuSans-101\"/>\n       <use x=\"155.367188\" xlink:href=\"#DejaVuSans-100\"/>\n       <use x=\"218.84375\" xlink:href=\"#DejaVuSans-105\"/>\n       <use x=\"246.626953\" xlink:href=\"#DejaVuSans-116\"/>\n       <use x=\"285.835938\" xlink:href=\"#DejaVuSans-95\"/>\n       <use x=\"335.835938\" xlink:href=\"#DejaVuSans-97\"/>\n       <use x=\"397.115234\" xlink:href=\"#DejaVuSans-109\"/>\n       <use x=\"494.527344\" xlink:href=\"#DejaVuSans-111\"/>\n       <use x=\"555.708984\" xlink:href=\"#DejaVuSans-117\"/>\n       <use x=\"619.087891\" xlink:href=\"#DejaVuSans-110\"/>\n       <use x=\"682.466797\" xlink:href=\"#DejaVuSans-116\"/>\n       <use x=\"721.675781\" xlink:href=\"#DejaVuSans-95\"/>\n       <use x=\"771.675781\" xlink:href=\"#DejaVuSans-42\"/>\n       <use x=\"821.675781\" xlink:href=\"#DejaVuSans-95\"/>\n       <use x=\"871.675781\" xlink:href=\"#DejaVuSans-105\"/>\n       <use x=\"899.458984\" xlink:href=\"#DejaVuSans-110\"/>\n       <use x=\"962.837891\" xlink:href=\"#DejaVuSans-115\"/>\n       <use x=\"1014.9375\" xlink:href=\"#DejaVuSans-116\"/>\n       <use x=\"1054.146484\" xlink:href=\"#DejaVuSans-97\"/>\n       <use x=\"1115.425781\" xlink:href=\"#DejaVuSans-108\"/>\n       <use x=\"1143.208984\" xlink:href=\"#DejaVuSans-108\"/>\n       <use x=\"1170.992188\" xlink:href=\"#DejaVuSans-109\"/>\n       <use x=\"1268.404297\" xlink:href=\"#DejaVuSans-101\"/>\n       <use x=\"1329.927734\" xlink:href=\"#DejaVuSans-110\"/>\n       <use x=\"1393.306641\" xlink:href=\"#DejaVuSans-116\"/>\n       <use x=\"1432.515625\" xlink:href=\"#DejaVuSans-95\"/>\n       <use x=\"1482.515625\" xlink:href=\"#DejaVuSans-99\"/>\n       <use x=\"1537.496094\" xlink:href=\"#DejaVuSans-111\"/>\n       <use x=\"1598.677734\" xlink:href=\"#DejaVuSans-109\"/>\n       <use x=\"1696.089844\" xlink:href=\"#DejaVuSans-109\"/>\n       <use x=\"1793.501953\" xlink:href=\"#DejaVuSans-105\"/>\n       <use x=\"1821.285156\" xlink:href=\"#DejaVuSans-116\"/>\n       <use x=\"1860.494141\" xlink:href=\"#DejaVuSans-109\"/>\n       <use x=\"1957.90625\" xlink:href=\"#DejaVuSans-101\"/>\n       <use x=\"2019.429688\" xlink:href=\"#DejaVuSans-110\"/>\n       <use x=\"2082.808594\" xlink:href=\"#DejaVuSans-116\"/>\n      </g>\n     </g>\n    </g>\n    <g id=\"ytick_4\">\n     <g id=\"line2d_13\">\n      <path clip-path=\"url(#p6d5ea85dc3)\" d=\"M 226.396875 173.904 \nL 561.196875 173.904 \n\" style=\"fill:none;stroke:#ffffff;stroke-linecap:round;stroke-width:0.8;\"/>\n     </g>\n     <g id=\"text_13\">\n      <!-- duration_/_age -->\n      <g style=\"fill:#262626;\" transform=\"translate(145.31875 177.703219)scale(0.1 -0.1)\">\n       <use xlink:href=\"#DejaVuSans-100\"/>\n       <use x=\"63.476562\" xlink:href=\"#DejaVuSans-117\"/>\n       <use x=\"126.855469\" xlink:href=\"#DejaVuSans-114\"/>\n       <use x=\"167.96875\" xlink:href=\"#DejaVuSans-97\"/>\n       <use x=\"229.248047\" xlink:href=\"#DejaVuSans-116\"/>\n       <use x=\"268.457031\" xlink:href=\"#DejaVuSans-105\"/>\n       <use x=\"296.240234\" xlink:href=\"#DejaVuSans-111\"/>\n       <use x=\"357.421875\" xlink:href=\"#DejaVuSans-110\"/>\n       <use x=\"420.800781\" xlink:href=\"#DejaVuSans-95\"/>\n       <use x=\"470.800781\" xlink:href=\"#DejaVuSans-47\"/>\n       <use x=\"504.492188\" xlink:href=\"#DejaVuSans-95\"/>\n       <use x=\"554.492188\" xlink:href=\"#DejaVuSans-97\"/>\n       <use x=\"615.771484\" xlink:href=\"#DejaVuSans-103\"/>\n       <use x=\"679.248047\" xlink:href=\"#DejaVuSans-101\"/>\n      </g>\n     </g>\n    </g>\n    <g id=\"ytick_5\">\n     <g id=\"line2d_14\">\n      <path clip-path=\"url(#p6d5ea85dc3)\" d=\"M 226.396875 159.408 \nL 561.196875 159.408 \n\" style=\"fill:none;stroke:#ffffff;stroke-linecap:round;stroke-width:0.8;\"/>\n     </g>\n     <g id=\"text_14\">\n      <!-- purpose -->\n      <defs>\n       <path d=\"M 18.109375 8.203125 \nL 18.109375 -20.796875 \nL 9.078125 -20.796875 \nL 9.078125 54.6875 \nL 18.109375 54.6875 \nL 18.109375 46.390625 \nQ 20.953125 51.265625 25.265625 53.625 \nQ 29.59375 56 35.59375 56 \nQ 45.5625 56 51.78125 48.09375 \nQ 58.015625 40.1875 58.015625 27.296875 \nQ 58.015625 14.40625 51.78125 6.484375 \nQ 45.5625 -1.421875 35.59375 -1.421875 \nQ 29.59375 -1.421875 25.265625 0.953125 \nQ 20.953125 3.328125 18.109375 8.203125 \nz\nM 48.6875 27.296875 \nQ 48.6875 37.203125 44.609375 42.84375 \nQ 40.53125 48.484375 33.40625 48.484375 \nQ 26.265625 48.484375 22.1875 42.84375 \nQ 18.109375 37.203125 18.109375 27.296875 \nQ 18.109375 17.390625 22.1875 11.75 \nQ 26.265625 6.109375 33.40625 6.109375 \nQ 40.53125 6.109375 44.609375 11.75 \nQ 48.6875 17.390625 48.6875 27.296875 \nz\n\" id=\"DejaVuSans-112\"/>\n      </defs>\n      <g style=\"fill:#262626;\" transform=\"translate(178.770313 163.207219)scale(0.1 -0.1)\">\n       <use xlink:href=\"#DejaVuSans-112\"/>\n       <use x=\"63.476562\" xlink:href=\"#DejaVuSans-117\"/>\n       <use x=\"126.855469\" xlink:href=\"#DejaVuSans-114\"/>\n       <use x=\"167.96875\" xlink:href=\"#DejaVuSans-112\"/>\n       <use x=\"231.445312\" xlink:href=\"#DejaVuSans-111\"/>\n       <use x=\"292.626953\" xlink:href=\"#DejaVuSans-115\"/>\n       <use x=\"344.726562\" xlink:href=\"#DejaVuSans-101\"/>\n      </g>\n     </g>\n    </g>\n    <g id=\"ytick_6\">\n     <g id=\"line2d_15\">\n      <path clip-path=\"url(#p6d5ea85dc3)\" d=\"M 226.396875 144.912 \nL 561.196875 144.912 \n\" style=\"fill:none;stroke:#ffffff;stroke-linecap:round;stroke-width:0.8;\"/>\n     </g>\n     <g id=\"text_15\">\n      <!-- duration_-_age -->\n      <defs>\n       <path d=\"M 4.890625 31.390625 \nL 31.203125 31.390625 \nL 31.203125 23.390625 \nL 4.890625 23.390625 \nz\n\" id=\"DejaVuSans-45\"/>\n      </defs>\n      <g style=\"fill:#262626;\" transform=\"translate(145.079688 148.711219)scale(0.1 -0.1)\">\n       <use xlink:href=\"#DejaVuSans-100\"/>\n       <use x=\"63.476562\" xlink:href=\"#DejaVuSans-117\"/>\n       <use x=\"126.855469\" xlink:href=\"#DejaVuSans-114\"/>\n       <use x=\"167.96875\" xlink:href=\"#DejaVuSans-97\"/>\n       <use x=\"229.248047\" xlink:href=\"#DejaVuSans-116\"/>\n       <use x=\"268.457031\" xlink:href=\"#DejaVuSans-105\"/>\n       <use x=\"296.240234\" xlink:href=\"#DejaVuSans-111\"/>\n       <use x=\"357.421875\" xlink:href=\"#DejaVuSans-110\"/>\n       <use x=\"420.800781\" xlink:href=\"#DejaVuSans-95\"/>\n       <use x=\"470.800781\" xlink:href=\"#DejaVuSans-45\"/>\n       <use x=\"506.884766\" xlink:href=\"#DejaVuSans-95\"/>\n       <use x=\"556.884766\" xlink:href=\"#DejaVuSans-97\"/>\n       <use x=\"618.164062\" xlink:href=\"#DejaVuSans-103\"/>\n       <use x=\"681.640625\" xlink:href=\"#DejaVuSans-101\"/>\n      </g>\n     </g>\n    </g>\n    <g id=\"ytick_7\">\n     <g id=\"line2d_16\">\n      <path clip-path=\"url(#p6d5ea85dc3)\" d=\"M 226.396875 130.416 \nL 561.196875 130.416 \n\" style=\"fill:none;stroke:#ffffff;stroke-linecap:round;stroke-width:0.8;\"/>\n     </g>\n     <g id=\"text_16\">\n      <!-- existing_credits_*_credit_amount -->\n      <defs>\n       <path d=\"M 54.890625 54.6875 \nL 35.109375 28.078125 \nL 55.90625 0 \nL 45.3125 0 \nL 29.390625 21.484375 \nL 13.484375 0 \nL 2.875 0 \nL 24.125 28.609375 \nL 4.6875 54.6875 \nL 15.28125 54.6875 \nL 29.78125 35.203125 \nL 44.28125 54.6875 \nz\n\" id=\"DejaVuSans-120\"/>\n      </defs>\n      <g style=\"fill:#262626;\" transform=\"translate(54.167188 134.215219)scale(0.1 -0.1)\">\n       <use xlink:href=\"#DejaVuSans-101\"/>\n       <use x=\"59.773438\" xlink:href=\"#DejaVuSans-120\"/>\n       <use x=\"118.953125\" xlink:href=\"#DejaVuSans-105\"/>\n       <use x=\"146.736328\" xlink:href=\"#DejaVuSans-115\"/>\n       <use x=\"198.835938\" xlink:href=\"#DejaVuSans-116\"/>\n       <use x=\"238.044922\" xlink:href=\"#DejaVuSans-105\"/>\n       <use x=\"265.828125\" xlink:href=\"#DejaVuSans-110\"/>\n       <use x=\"329.207031\" xlink:href=\"#DejaVuSans-103\"/>\n       <use x=\"392.683594\" xlink:href=\"#DejaVuSans-95\"/>\n       <use x=\"442.683594\" xlink:href=\"#DejaVuSans-99\"/>\n       <use x=\"497.664062\" xlink:href=\"#DejaVuSans-114\"/>\n       <use x=\"536.527344\" xlink:href=\"#DejaVuSans-101\"/>\n       <use x=\"598.050781\" xlink:href=\"#DejaVuSans-100\"/>\n       <use x=\"661.527344\" xlink:href=\"#DejaVuSans-105\"/>\n       <use x=\"689.310547\" xlink:href=\"#DejaVuSans-116\"/>\n       <use x=\"728.519531\" xlink:href=\"#DejaVuSans-115\"/>\n       <use x=\"780.619141\" xlink:href=\"#DejaVuSans-95\"/>\n       <use x=\"830.619141\" xlink:href=\"#DejaVuSans-42\"/>\n       <use x=\"880.619141\" xlink:href=\"#DejaVuSans-95\"/>\n       <use x=\"930.619141\" xlink:href=\"#DejaVuSans-99\"/>\n       <use x=\"985.599609\" xlink:href=\"#DejaVuSans-114\"/>\n       <use x=\"1024.462891\" xlink:href=\"#DejaVuSans-101\"/>\n       <use x=\"1085.986328\" xlink:href=\"#DejaVuSans-100\"/>\n       <use x=\"1149.462891\" xlink:href=\"#DejaVuSans-105\"/>\n       <use x=\"1177.246094\" xlink:href=\"#DejaVuSans-116\"/>\n       <use x=\"1216.455078\" xlink:href=\"#DejaVuSans-95\"/>\n       <use x=\"1266.455078\" xlink:href=\"#DejaVuSans-97\"/>\n       <use x=\"1327.734375\" xlink:href=\"#DejaVuSans-109\"/>\n       <use x=\"1425.146484\" xlink:href=\"#DejaVuSans-111\"/>\n       <use x=\"1486.328125\" xlink:href=\"#DejaVuSans-117\"/>\n       <use x=\"1549.707031\" xlink:href=\"#DejaVuSans-110\"/>\n       <use x=\"1613.085938\" xlink:href=\"#DejaVuSans-116\"/>\n      </g>\n     </g>\n    </g>\n    <g id=\"ytick_8\">\n     <g id=\"line2d_17\">\n      <path clip-path=\"url(#p6d5ea85dc3)\" d=\"M 226.396875 115.92 \nL 561.196875 115.92 \n\" style=\"fill:none;stroke:#ffffff;stroke-linecap:round;stroke-width:0.8;\"/>\n     </g>\n     <g id=\"text_17\">\n      <!-- age_*_credit_amount -->\n      <g style=\"fill:#262626;\" transform=\"translate(113.6 119.719219)scale(0.1 -0.1)\">\n       <use xlink:href=\"#DejaVuSans-97\"/>\n       <use x=\"61.279297\" xlink:href=\"#DejaVuSans-103\"/>\n       <use x=\"124.755859\" xlink:href=\"#DejaVuSans-101\"/>\n       <use x=\"186.279297\" xlink:href=\"#DejaVuSans-95\"/>\n       <use x=\"236.279297\" xlink:href=\"#DejaVuSans-42\"/>\n       <use x=\"286.279297\" xlink:href=\"#DejaVuSans-95\"/>\n       <use x=\"336.279297\" xlink:href=\"#DejaVuSans-99\"/>\n       <use x=\"391.259766\" xlink:href=\"#DejaVuSans-114\"/>\n       <use x=\"430.123047\" xlink:href=\"#DejaVuSans-101\"/>\n       <use x=\"491.646484\" xlink:href=\"#DejaVuSans-100\"/>\n       <use x=\"555.123047\" xlink:href=\"#DejaVuSans-105\"/>\n       <use x=\"582.90625\" xlink:href=\"#DejaVuSans-116\"/>\n       <use x=\"622.115234\" xlink:href=\"#DejaVuSans-95\"/>\n       <use x=\"672.115234\" xlink:href=\"#DejaVuSans-97\"/>\n       <use x=\"733.394531\" xlink:href=\"#DejaVuSans-109\"/>\n       <use x=\"830.806641\" xlink:href=\"#DejaVuSans-111\"/>\n       <use x=\"891.988281\" xlink:href=\"#DejaVuSans-117\"/>\n       <use x=\"955.367188\" xlink:href=\"#DejaVuSans-110\"/>\n       <use x=\"1018.746094\" xlink:href=\"#DejaVuSans-116\"/>\n      </g>\n     </g>\n    </g>\n    <g id=\"ytick_9\">\n     <g id=\"line2d_18\">\n      <path clip-path=\"url(#p6d5ea85dc3)\" d=\"M 226.396875 101.424 \nL 561.196875 101.424 \n\" style=\"fill:none;stroke:#ffffff;stroke-linecap:round;stroke-width:0.8;\"/>\n     </g>\n     <g id=\"text_18\">\n      <!-- age_/_installment_commitment -->\n      <g style=\"fill:#262626;\" transform=\"translate(62.36875 105.223219)scale(0.1 -0.1)\">\n       <use xlink:href=\"#DejaVuSans-97\"/>\n       <use x=\"61.279297\" xlink:href=\"#DejaVuSans-103\"/>\n       <use x=\"124.755859\" xlink:href=\"#DejaVuSans-101\"/>\n       <use x=\"186.279297\" xlink:href=\"#DejaVuSans-95\"/>\n       <use x=\"236.279297\" xlink:href=\"#DejaVuSans-47\"/>\n       <use x=\"269.970703\" xlink:href=\"#DejaVuSans-95\"/>\n       <use x=\"319.970703\" xlink:href=\"#DejaVuSans-105\"/>\n       <use x=\"347.753906\" xlink:href=\"#DejaVuSans-110\"/>\n       <use x=\"411.132812\" xlink:href=\"#DejaVuSans-115\"/>\n       <use x=\"463.232422\" xlink:href=\"#DejaVuSans-116\"/>\n       <use x=\"502.441406\" xlink:href=\"#DejaVuSans-97\"/>\n       <use x=\"563.720703\" xlink:href=\"#DejaVuSans-108\"/>\n       <use x=\"591.503906\" xlink:href=\"#DejaVuSans-108\"/>\n       <use x=\"619.287109\" xlink:href=\"#DejaVuSans-109\"/>\n       <use x=\"716.699219\" xlink:href=\"#DejaVuSans-101\"/>\n       <use x=\"778.222656\" xlink:href=\"#DejaVuSans-110\"/>\n       <use x=\"841.601562\" xlink:href=\"#DejaVuSans-116\"/>\n       <use x=\"880.810547\" xlink:href=\"#DejaVuSans-95\"/>\n       <use x=\"930.810547\" xlink:href=\"#DejaVuSans-99\"/>\n       <use x=\"985.791016\" xlink:href=\"#DejaVuSans-111\"/>\n       <use x=\"1046.972656\" xlink:href=\"#DejaVuSans-109\"/>\n       <use x=\"1144.384766\" xlink:href=\"#DejaVuSans-109\"/>\n       <use x=\"1241.796875\" xlink:href=\"#DejaVuSans-105\"/>\n       <use x=\"1269.580078\" xlink:href=\"#DejaVuSans-116\"/>\n       <use x=\"1308.789062\" xlink:href=\"#DejaVuSans-109\"/>\n       <use x=\"1406.201172\" xlink:href=\"#DejaVuSans-101\"/>\n       <use x=\"1467.724609\" xlink:href=\"#DejaVuSans-110\"/>\n       <use x=\"1531.103516\" xlink:href=\"#DejaVuSans-116\"/>\n      </g>\n     </g>\n    </g>\n    <g id=\"ytick_10\">\n     <g id=\"line2d_19\">\n      <path clip-path=\"url(#p6d5ea85dc3)\" d=\"M 226.396875 86.928 \nL 561.196875 86.928 \n\" style=\"fill:none;stroke:#ffffff;stroke-linecap:round;stroke-width:0.8;\"/>\n     </g>\n     <g id=\"text_19\">\n      <!-- duration_*_credit_amount -->\n      <g style=\"fill:#262626;\" transform=\"translate(90.15 90.727219)scale(0.1 -0.1)\">\n       <use xlink:href=\"#DejaVuSans-100\"/>\n       <use x=\"63.476562\" xlink:href=\"#DejaVuSans-117\"/>\n       <use x=\"126.855469\" xlink:href=\"#DejaVuSans-114\"/>\n       <use x=\"167.96875\" xlink:href=\"#DejaVuSans-97\"/>\n       <use x=\"229.248047\" xlink:href=\"#DejaVuSans-116\"/>\n       <use x=\"268.457031\" xlink:href=\"#DejaVuSans-105\"/>\n       <use x=\"296.240234\" xlink:href=\"#DejaVuSans-111\"/>\n       <use x=\"357.421875\" xlink:href=\"#DejaVuSans-110\"/>\n       <use x=\"420.800781\" xlink:href=\"#DejaVuSans-95\"/>\n       <use x=\"470.800781\" xlink:href=\"#DejaVuSans-42\"/>\n       <use x=\"520.800781\" xlink:href=\"#DejaVuSans-95\"/>\n       <use x=\"570.800781\" xlink:href=\"#DejaVuSans-99\"/>\n       <use x=\"625.78125\" xlink:href=\"#DejaVuSans-114\"/>\n       <use x=\"664.644531\" xlink:href=\"#DejaVuSans-101\"/>\n       <use x=\"726.167969\" xlink:href=\"#DejaVuSans-100\"/>\n       <use x=\"789.644531\" xlink:href=\"#DejaVuSans-105\"/>\n       <use x=\"817.427734\" xlink:href=\"#DejaVuSans-116\"/>\n       <use x=\"856.636719\" xlink:href=\"#DejaVuSans-95\"/>\n       <use x=\"906.636719\" xlink:href=\"#DejaVuSans-97\"/>\n       <use x=\"967.916016\" xlink:href=\"#DejaVuSans-109\"/>\n       <use x=\"1065.328125\" xlink:href=\"#DejaVuSans-111\"/>\n       <use x=\"1126.509766\" xlink:href=\"#DejaVuSans-117\"/>\n       <use x=\"1189.888672\" xlink:href=\"#DejaVuSans-110\"/>\n       <use x=\"1253.267578\" xlink:href=\"#DejaVuSans-116\"/>\n      </g>\n     </g>\n    </g>\n    <g id=\"ytick_11\">\n     <g id=\"line2d_20\">\n      <path clip-path=\"url(#p6d5ea85dc3)\" d=\"M 226.396875 72.432 \nL 561.196875 72.432 \n\" style=\"fill:none;stroke:#ffffff;stroke-linecap:round;stroke-width:0.8;\"/>\n     </g>\n     <g id=\"text_20\">\n      <!-- residence_since_*_credit_amount -->\n      <g style=\"fill:#262626;\" transform=\"translate(52.735938 76.231219)scale(0.1 -0.1)\">\n       <use xlink:href=\"#DejaVuSans-114\"/>\n       <use x=\"38.863281\" xlink:href=\"#DejaVuSans-101\"/>\n       <use x=\"100.386719\" xlink:href=\"#DejaVuSans-115\"/>\n       <use x=\"152.486328\" xlink:href=\"#DejaVuSans-105\"/>\n       <use x=\"180.269531\" xlink:href=\"#DejaVuSans-100\"/>\n       <use x=\"243.746094\" xlink:href=\"#DejaVuSans-101\"/>\n       <use x=\"305.269531\" xlink:href=\"#DejaVuSans-110\"/>\n       <use x=\"368.648438\" xlink:href=\"#DejaVuSans-99\"/>\n       <use x=\"423.628906\" xlink:href=\"#DejaVuSans-101\"/>\n       <use x=\"485.152344\" xlink:href=\"#DejaVuSans-95\"/>\n       <use x=\"535.152344\" xlink:href=\"#DejaVuSans-115\"/>\n       <use x=\"587.251953\" xlink:href=\"#DejaVuSans-105\"/>\n       <use x=\"615.035156\" xlink:href=\"#DejaVuSans-110\"/>\n       <use x=\"678.414062\" xlink:href=\"#DejaVuSans-99\"/>\n       <use x=\"733.394531\" xlink:href=\"#DejaVuSans-101\"/>\n       <use x=\"794.917969\" xlink:href=\"#DejaVuSans-95\"/>\n       <use x=\"844.917969\" xlink:href=\"#DejaVuSans-42\"/>\n       <use x=\"894.917969\" xlink:href=\"#DejaVuSans-95\"/>\n       <use x=\"944.917969\" xlink:href=\"#DejaVuSans-99\"/>\n       <use x=\"999.898438\" xlink:href=\"#DejaVuSans-114\"/>\n       <use x=\"1038.761719\" xlink:href=\"#DejaVuSans-101\"/>\n       <use x=\"1100.285156\" xlink:href=\"#DejaVuSans-100\"/>\n       <use x=\"1163.761719\" xlink:href=\"#DejaVuSans-105\"/>\n       <use x=\"1191.544922\" xlink:href=\"#DejaVuSans-116\"/>\n       <use x=\"1230.753906\" xlink:href=\"#DejaVuSans-95\"/>\n       <use x=\"1280.753906\" xlink:href=\"#DejaVuSans-97\"/>\n       <use x=\"1342.033203\" xlink:href=\"#DejaVuSans-109\"/>\n       <use x=\"1439.445312\" xlink:href=\"#DejaVuSans-111\"/>\n       <use x=\"1500.626953\" xlink:href=\"#DejaVuSans-117\"/>\n       <use x=\"1564.005859\" xlink:href=\"#DejaVuSans-110\"/>\n       <use x=\"1627.384766\" xlink:href=\"#DejaVuSans-116\"/>\n      </g>\n     </g>\n    </g>\n    <g id=\"ytick_12\">\n     <g id=\"line2d_21\">\n      <path clip-path=\"url(#p6d5ea85dc3)\" d=\"M 226.396875 57.936 \nL 561.196875 57.936 \n\" style=\"fill:none;stroke:#ffffff;stroke-linecap:round;stroke-width:0.8;\"/>\n     </g>\n     <g id=\"text_21\">\n      <!-- credit_amount_/_duration -->\n      <g style=\"fill:#262626;\" transform=\"translate(91.78125 61.735219)scale(0.1 -0.1)\">\n       <use xlink:href=\"#DejaVuSans-99\"/>\n       <use x=\"54.980469\" xlink:href=\"#DejaVuSans-114\"/>\n       <use x=\"93.84375\" xlink:href=\"#DejaVuSans-101\"/>\n       <use x=\"155.367188\" xlink:href=\"#DejaVuSans-100\"/>\n       <use x=\"218.84375\" xlink:href=\"#DejaVuSans-105\"/>\n       <use x=\"246.626953\" xlink:href=\"#DejaVuSans-116\"/>\n       <use x=\"285.835938\" xlink:href=\"#DejaVuSans-95\"/>\n       <use x=\"335.835938\" xlink:href=\"#DejaVuSans-97\"/>\n       <use x=\"397.115234\" xlink:href=\"#DejaVuSans-109\"/>\n       <use x=\"494.527344\" xlink:href=\"#DejaVuSans-111\"/>\n       <use x=\"555.708984\" xlink:href=\"#DejaVuSans-117\"/>\n       <use x=\"619.087891\" xlink:href=\"#DejaVuSans-110\"/>\n       <use x=\"682.466797\" xlink:href=\"#DejaVuSans-116\"/>\n       <use x=\"721.675781\" xlink:href=\"#DejaVuSans-95\"/>\n       <use x=\"771.675781\" xlink:href=\"#DejaVuSans-47\"/>\n       <use x=\"805.367188\" xlink:href=\"#DejaVuSans-95\"/>\n       <use x=\"855.367188\" xlink:href=\"#DejaVuSans-100\"/>\n       <use x=\"918.84375\" xlink:href=\"#DejaVuSans-117\"/>\n       <use x=\"982.222656\" xlink:href=\"#DejaVuSans-114\"/>\n       <use x=\"1023.335938\" xlink:href=\"#DejaVuSans-97\"/>\n       <use x=\"1084.615234\" xlink:href=\"#DejaVuSans-116\"/>\n       <use x=\"1123.824219\" xlink:href=\"#DejaVuSans-105\"/>\n       <use x=\"1151.607422\" xlink:href=\"#DejaVuSans-111\"/>\n       <use x=\"1212.789062\" xlink:href=\"#DejaVuSans-110\"/>\n      </g>\n     </g>\n    </g>\n    <g id=\"ytick_13\">\n     <g id=\"line2d_22\">\n      <path clip-path=\"url(#p6d5ea85dc3)\" d=\"M 226.396875 43.44 \nL 561.196875 43.44 \n\" style=\"fill:none;stroke:#ffffff;stroke-linecap:round;stroke-width:0.8;\"/>\n     </g>\n     <g id=\"text_22\">\n      <!-- residence_since_/_age -->\n      <g style=\"fill:#262626;\" transform=\"translate(107.904688 47.239219)scale(0.1 -0.1)\">\n       <use xlink:href=\"#DejaVuSans-114\"/>\n       <use x=\"38.863281\" xlink:href=\"#DejaVuSans-101\"/>\n       <use x=\"100.386719\" xlink:href=\"#DejaVuSans-115\"/>\n       <use x=\"152.486328\" xlink:href=\"#DejaVuSans-105\"/>\n       <use x=\"180.269531\" xlink:href=\"#DejaVuSans-100\"/>\n       <use x=\"243.746094\" xlink:href=\"#DejaVuSans-101\"/>\n       <use x=\"305.269531\" xlink:href=\"#DejaVuSans-110\"/>\n       <use x=\"368.648438\" xlink:href=\"#DejaVuSans-99\"/>\n       <use x=\"423.628906\" xlink:href=\"#DejaVuSans-101\"/>\n       <use x=\"485.152344\" xlink:href=\"#DejaVuSans-95\"/>\n       <use x=\"535.152344\" xlink:href=\"#DejaVuSans-115\"/>\n       <use x=\"587.251953\" xlink:href=\"#DejaVuSans-105\"/>\n       <use x=\"615.035156\" xlink:href=\"#DejaVuSans-110\"/>\n       <use x=\"678.414062\" xlink:href=\"#DejaVuSans-99\"/>\n       <use x=\"733.394531\" xlink:href=\"#DejaVuSans-101\"/>\n       <use x=\"794.917969\" xlink:href=\"#DejaVuSans-95\"/>\n       <use x=\"844.917969\" xlink:href=\"#DejaVuSans-47\"/>\n       <use x=\"878.609375\" xlink:href=\"#DejaVuSans-95\"/>\n       <use x=\"928.609375\" xlink:href=\"#DejaVuSans-97\"/>\n       <use x=\"989.888672\" xlink:href=\"#DejaVuSans-103\"/>\n       <use x=\"1053.365234\" xlink:href=\"#DejaVuSans-101\"/>\n      </g>\n     </g>\n    </g>\n    <g id=\"ytick_14\">\n     <g id=\"line2d_23\">\n      <path clip-path=\"url(#p6d5ea85dc3)\" d=\"M 226.396875 28.944 \nL 561.196875 28.944 \n\" style=\"fill:none;stroke:#ffffff;stroke-linecap:round;stroke-width:0.8;\"/>\n     </g>\n     <g id=\"text_23\">\n      <!-- credit_amount_/_age -->\n      <g style=\"fill:#262626;\" transform=\"translate(115.23125 32.743219)scale(0.1 -0.1)\">\n       <use xlink:href=\"#DejaVuSans-99\"/>\n       <use x=\"54.980469\" xlink:href=\"#DejaVuSans-114\"/>\n       <use x=\"93.84375\" xlink:href=\"#DejaVuSans-101\"/>\n       <use x=\"155.367188\" xlink:href=\"#DejaVuSans-100\"/>\n       <use x=\"218.84375\" xlink:href=\"#DejaVuSans-105\"/>\n       <use x=\"246.626953\" xlink:href=\"#DejaVuSans-116\"/>\n       <use x=\"285.835938\" xlink:href=\"#DejaVuSans-95\"/>\n       <use x=\"335.835938\" xlink:href=\"#DejaVuSans-97\"/>\n       <use x=\"397.115234\" xlink:href=\"#DejaVuSans-109\"/>\n       <use x=\"494.527344\" xlink:href=\"#DejaVuSans-111\"/>\n       <use x=\"555.708984\" xlink:href=\"#DejaVuSans-117\"/>\n       <use x=\"619.087891\" xlink:href=\"#DejaVuSans-110\"/>\n       <use x=\"682.466797\" xlink:href=\"#DejaVuSans-116\"/>\n       <use x=\"721.675781\" xlink:href=\"#DejaVuSans-95\"/>\n       <use x=\"771.675781\" xlink:href=\"#DejaVuSans-47\"/>\n       <use x=\"805.367188\" xlink:href=\"#DejaVuSans-95\"/>\n       <use x=\"855.367188\" xlink:href=\"#DejaVuSans-97\"/>\n       <use x=\"916.646484\" xlink:href=\"#DejaVuSans-103\"/>\n       <use x=\"980.123047\" xlink:href=\"#DejaVuSans-101\"/>\n      </g>\n     </g>\n    </g>\n    <g id=\"ytick_15\">\n     <g id=\"line2d_24\">\n      <path clip-path=\"url(#p6d5ea85dc3)\" d=\"M 226.396875 14.448 \nL 561.196875 14.448 \n\" style=\"fill:none;stroke:#ffffff;stroke-linecap:round;stroke-width:0.8;\"/>\n     </g>\n     <g id=\"text_24\">\n      <!-- residence_since_/_credit_amount -->\n      <g style=\"fill:#262626;\" transform=\"translate(54.367188 18.247219)scale(0.1 -0.1)\">\n       <use xlink:href=\"#DejaVuSans-114\"/>\n       <use x=\"38.863281\" xlink:href=\"#DejaVuSans-101\"/>\n       <use x=\"100.386719\" xlink:href=\"#DejaVuSans-115\"/>\n       <use x=\"152.486328\" xlink:href=\"#DejaVuSans-105\"/>\n       <use x=\"180.269531\" xlink:href=\"#DejaVuSans-100\"/>\n       <use x=\"243.746094\" xlink:href=\"#DejaVuSans-101\"/>\n       <use x=\"305.269531\" xlink:href=\"#DejaVuSans-110\"/>\n       <use x=\"368.648438\" xlink:href=\"#DejaVuSans-99\"/>\n       <use x=\"423.628906\" xlink:href=\"#DejaVuSans-101\"/>\n       <use x=\"485.152344\" xlink:href=\"#DejaVuSans-95\"/>\n       <use x=\"535.152344\" xlink:href=\"#DejaVuSans-115\"/>\n       <use x=\"587.251953\" xlink:href=\"#DejaVuSans-105\"/>\n       <use x=\"615.035156\" xlink:href=\"#DejaVuSans-110\"/>\n       <use x=\"678.414062\" xlink:href=\"#DejaVuSans-99\"/>\n       <use x=\"733.394531\" xlink:href=\"#DejaVuSans-101\"/>\n       <use x=\"794.917969\" xlink:href=\"#DejaVuSans-95\"/>\n       <use x=\"844.917969\" xlink:href=\"#DejaVuSans-47\"/>\n       <use x=\"878.609375\" xlink:href=\"#DejaVuSans-95\"/>\n       <use x=\"928.609375\" xlink:href=\"#DejaVuSans-99\"/>\n       <use x=\"983.589844\" xlink:href=\"#DejaVuSans-114\"/>\n       <use x=\"1022.453125\" xlink:href=\"#DejaVuSans-101\"/>\n       <use x=\"1083.976562\" xlink:href=\"#DejaVuSans-100\"/>\n       <use x=\"1147.453125\" xlink:href=\"#DejaVuSans-105\"/>\n       <use x=\"1175.236328\" xlink:href=\"#DejaVuSans-116\"/>\n       <use x=\"1214.445312\" xlink:href=\"#DejaVuSans-95\"/>\n       <use x=\"1264.445312\" xlink:href=\"#DejaVuSans-97\"/>\n       <use x=\"1325.724609\" xlink:href=\"#DejaVuSans-109\"/>\n       <use x=\"1423.136719\" xlink:href=\"#DejaVuSans-111\"/>\n       <use x=\"1484.318359\" xlink:href=\"#DejaVuSans-117\"/>\n       <use x=\"1547.697266\" xlink:href=\"#DejaVuSans-110\"/>\n       <use x=\"1611.076172\" xlink:href=\"#DejaVuSans-116\"/>\n      </g>\n     </g>\n    </g>\n   </g>\n   <g id=\"patch_3\">\n    <path clip-path=\"url(#p6d5ea85dc3)\" d=\"M 226.396875 221.016 \nL 545.254018 221.016 \nL 545.254018 213.768 \nL 226.396875 213.768 \nz\n\" style=\"fill:#1f77b4;stroke:#ffffff;stroke-linejoin:miter;\"/>\n   </g>\n   <g id=\"patch_4\">\n    <path clip-path=\"url(#p6d5ea85dc3)\" d=\"M 226.396875 206.52 \nL 389.664174 206.52 \nL 389.664174 199.272 \nL 226.396875 199.272 \nz\n\" style=\"fill:#1f77b4;stroke:#ffffff;stroke-linejoin:miter;\"/>\n   </g>\n   <g id=\"patch_5\">\n    <path clip-path=\"url(#p6d5ea85dc3)\" d=\"M 226.396875 192.024 \nL 361.74736 192.024 \nL 361.74736 184.776 \nL 226.396875 184.776 \nz\n\" style=\"fill:#1f77b4;stroke:#ffffff;stroke-linejoin:miter;\"/>\n   </g>\n   <g id=\"patch_6\">\n    <path clip-path=\"url(#p6d5ea85dc3)\" d=\"M 226.396875 177.528 \nL 350.982697 177.528 \nL 350.982697 170.28 \nL 226.396875 170.28 \nz\n\" style=\"fill:#1f77b4;stroke:#ffffff;stroke-linejoin:miter;\"/>\n   </g>\n   <g id=\"patch_7\">\n    <path clip-path=\"url(#p6d5ea85dc3)\" d=\"M 226.396875 163.032 \nL 346.341851 163.032 \nL 346.341851 155.784 \nL 226.396875 155.784 \nz\n\" style=\"fill:#1f77b4;stroke:#ffffff;stroke-linejoin:miter;\"/>\n   </g>\n   <g id=\"patch_8\">\n    <path clip-path=\"url(#p6d5ea85dc3)\" d=\"M 226.396875 148.536 \nL 335.607129 148.536 \nL 335.607129 141.288 \nL 226.396875 141.288 \nz\n\" style=\"fill:#1f77b4;stroke:#ffffff;stroke-linejoin:miter;\"/>\n   </g>\n   <g id=\"patch_9\">\n    <path clip-path=\"url(#p6d5ea85dc3)\" d=\"M 226.396875 134.04 \nL 330.338895 134.04 \nL 330.338895 126.792 \nL 226.396875 126.792 \nz\n\" style=\"fill:#1f77b4;stroke:#ffffff;stroke-linejoin:miter;\"/>\n   </g>\n   <g id=\"patch_10\">\n    <path clip-path=\"url(#p6d5ea85dc3)\" d=\"M 226.396875 119.544 \nL 325.030458 119.544 \nL 325.030458 112.296 \nL 226.396875 112.296 \nz\n\" style=\"fill:#1f77b4;stroke:#ffffff;stroke-linejoin:miter;\"/>\n   </g>\n   <g id=\"patch_11\">\n    <path clip-path=\"url(#p6d5ea85dc3)\" d=\"M 226.396875 105.048 \nL 322.06849 105.048 \nL 322.06849 97.8 \nL 226.396875 97.8 \nz\n\" style=\"fill:#1f77b4;stroke:#ffffff;stroke-linejoin:miter;\"/>\n   </g>\n   <g id=\"patch_12\">\n    <path clip-path=\"url(#p6d5ea85dc3)\" d=\"M 226.396875 90.552 \nL 316.808225 90.552 \nL 316.808225 83.304 \nL 226.396875 83.304 \nz\n\" style=\"fill:#1f77b4;stroke:#ffffff;stroke-linejoin:miter;\"/>\n   </g>\n   <g id=\"patch_13\">\n    <path clip-path=\"url(#p6d5ea85dc3)\" d=\"M 226.396875 76.056 \nL 305.492491 76.056 \nL 305.492491 68.808 \nL 226.396875 68.808 \nz\n\" style=\"fill:#1f77b4;stroke:#ffffff;stroke-linejoin:miter;\"/>\n   </g>\n   <g id=\"patch_14\">\n    <path clip-path=\"url(#p6d5ea85dc3)\" d=\"M 226.396875 61.56 \nL 301.782503 61.56 \nL 301.782503 54.312 \nL 226.396875 54.312 \nz\n\" style=\"fill:#1f77b4;stroke:#ffffff;stroke-linejoin:miter;\"/>\n   </g>\n   <g id=\"patch_15\">\n    <path clip-path=\"url(#p6d5ea85dc3)\" d=\"M 226.396875 47.064 \nL 297.706788 47.064 \nL 297.706788 39.816 \nL 226.396875 39.816 \nz\n\" style=\"fill:#1f77b4;stroke:#ffffff;stroke-linejoin:miter;\"/>\n   </g>\n   <g id=\"patch_16\">\n    <path clip-path=\"url(#p6d5ea85dc3)\" d=\"M 226.396875 32.568 \nL 293.460751 32.568 \nL 293.460751 25.32 \nL 226.396875 25.32 \nz\n\" style=\"fill:#1f77b4;stroke:#ffffff;stroke-linejoin:miter;\"/>\n   </g>\n   <g id=\"patch_17\">\n    <path clip-path=\"url(#p6d5ea85dc3)\" d=\"M 226.396875 18.072 \nL 292.474734 18.072 \nL 292.474734 10.824 \nL 226.396875 10.824 \nz\n\" style=\"fill:#1f77b4;stroke:#ffffff;stroke-linejoin:miter;\"/>\n   </g>\n   <g id=\"patch_18\">\n    <path d=\"M 226.396875 224.64 \nL 226.396875 7.2 \n\" style=\"fill:none;stroke:#ffffff;stroke-linecap:square;stroke-linejoin:miter;stroke-width:0.8;\"/>\n   </g>\n   <g id=\"patch_19\">\n    <path d=\"M 561.196875 224.64 \nL 561.196875 7.2 \n\" style=\"fill:none;stroke:#ffffff;stroke-linecap:square;stroke-linejoin:miter;stroke-width:0.8;\"/>\n   </g>\n   <g id=\"patch_20\">\n    <path d=\"M 226.396875 224.64 \nL 561.196875 224.64 \n\" style=\"fill:none;stroke:#ffffff;stroke-linecap:square;stroke-linejoin:miter;stroke-width:0.8;\"/>\n   </g>\n   <g id=\"patch_21\">\n    <path d=\"M 226.396875 7.2 \nL 561.196875 7.2 \n\" style=\"fill:none;stroke:#ffffff;stroke-linecap:square;stroke-linejoin:miter;stroke-width:0.8;\"/>\n   </g>\n   <g id=\"legend_1\">\n    <g id=\"patch_22\">\n     <path d=\"M 494.88125 29.878125 \nL 554.196875 29.878125 \nQ 556.196875 29.878125 556.196875 27.878125 \nL 556.196875 14.2 \nQ 556.196875 12.2 554.196875 12.2 \nL 494.88125 12.2 \nQ 492.88125 12.2 492.88125 14.2 \nL 492.88125 27.878125 \nQ 492.88125 29.878125 494.88125 29.878125 \nz\n\" style=\"fill:#eaeaf2;opacity:0.8;stroke:#cccccc;stroke-linejoin:miter;\"/>\n    </g>\n    <g id=\"patch_23\">\n     <path d=\"M 496.88125 23.798437 \nL 516.88125 23.798437 \nL 516.88125 16.798437 \nL 496.88125 16.798437 \nz\n\" style=\"fill:#1f77b4;stroke:#ffffff;stroke-linejoin:miter;\"/>\n    </g>\n    <g id=\"text_25\">\n     <!-- value -->\n     <defs>\n      <path d=\"M 2.984375 54.6875 \nL 12.5 54.6875 \nL 29.59375 8.796875 \nL 46.6875 54.6875 \nL 56.203125 54.6875 \nL 35.6875 0 \nL 23.484375 0 \nz\n\" id=\"DejaVuSans-118\"/>\n     </defs>\n     <g style=\"fill:#262626;\" transform=\"translate(524.88125 23.798437)scale(0.1 -0.1)\">\n      <use xlink:href=\"#DejaVuSans-118\"/>\n      <use x=\"59.179688\" xlink:href=\"#DejaVuSans-97\"/>\n      <use x=\"120.458984\" xlink:href=\"#DejaVuSans-108\"/>\n      <use x=\"148.242188\" xlink:href=\"#DejaVuSans-117\"/>\n      <use x=\"211.621094\" xlink:href=\"#DejaVuSans-101\"/>\n     </g>\n    </g>\n   </g>\n  </g>\n </g>\n <defs>\n  <clipPath id=\"p6d5ea85dc3\">\n   <rect height=\"217.44\" width=\"334.8\" x=\"226.396875\" y=\"7.2\"/>\n  </clipPath>\n </defs>\n</svg>\n",
            "image/png": "[encoded data removed]"
          },
          "metadata": {}
        }
      ],
      "source": [
        "feature_importance.sort_values(by='value', ascending=False)[:15].plot(kind='barh')"
      ]
    },
    {
      "source": [
        "### Save & Load"
      ],
      "cell_type": "markdown",
      "metadata": {}
    },
    {
      "cell_type": "code",
      "execution_count": 16,
      "metadata": {},
      "outputs": [
        {
          "output_type": "stream",
          "name": "stderr",
          "text": [
            "22:36:38 | Save Model\n"
          ]
        }
      ],
      "source": [
        "model.save('model_1',)"
      ]
    },
    {
      "cell_type": "code",
      "execution_count": 17,
      "metadata": {},
      "outputs": [
        {
          "output_type": "stream",
          "name": "stdout",
          "text": [
            "Test AUC:  0.8101\n"
          ]
        }
      ],
      "source": [
        "model_new = LightGBMClassifier(random_state=RANDOM_SEED)\n",
        "model_new = model_new.load('model_1',)\n",
        "\n",
        "predicts = model_new.predict_proba(X_test)\n",
        "print('Test AUC: ', round(sklearn.metrics.roc_auc_score(y_test, predicts),4))"
      ]
    },
    {
      "source": [
        "## Cross Validation\n",
        "Cross-validation is a method for evaluating an analytical model and its behavior on independent data. \n",
        "When evaluating the model, the available data is split into k parts. \n",
        "Then the model is trained on k − 1 pieces of data, and the rest of the data is used for testing. \n",
        "The procedure is repeated k times; in the end, each of the k pieces of data is used for testing. \n",
        "The result is an assessment of the effectiveness of the selected model with the most even use of the available data."
      ],
      "cell_type": "markdown",
      "metadata": {}
    },
    {
      "source": [
        "<img src=\"./img/cv.png\" width=\"600\">"
      ],
      "cell_type": "markdown",
      "metadata": {}
    },
    {
      "cell_type": "code",
      "execution_count": 18,
      "metadata": {},
      "outputs": [],
      "source": [
        "cv = CrossValidation(\n",
        "        estimator=model,\n",
        "        folds=10,\n",
        "        score_folds=5,\n",
        "        n_repeats=1,\n",
        "        metric=sklearn.metrics.roc_auc_score,\n",
        "        print_metric=False, \n",
        "        metric_round=4, \n",
        "        random_state=RANDOM_SEED\n",
        "        )"
      ]
    },
    {
      "cell_type": "code",
      "execution_count": 19,
      "metadata": {},
      "outputs": [
        {
          "output_type": "stream",
          "name": "stdout",
          "text": [
            "\n",
            " Mean Score roc_auc_score on 5 Folds: 0.7131 std: 0.051692\n"
          ]
        }
      ],
      "source": [
        "score, score_std = cv.fit_score(X_train, y_train, print_metric=True)"
      ]
    },
    {
      "cell_type": "code",
      "execution_count": 20,
      "metadata": {},
      "outputs": [
        {
          "output_type": "stream",
          "name": "stdout",
          "text": [
            "Finished loading model, total used 300 iterations\n",
            "Finished loading model, total used 300 iterations\n",
            "Finished loading model, total used 300 iterations\n",
            "Finished loading model, total used 300 iterations\n",
            "Finished loading model, total used 300 iterations\n",
            "Finished loading model, total used 300 iterations\n",
            "Finished loading model, total used 300 iterations\n",
            "Finished loading model, total used 300 iterations\n",
            "Finished loading model, total used 300 iterations\n",
            "Finished loading model, total used 300 iterations\n"
          ]
        }
      ],
      "source": [
        "cv.fit(X_train, y_train)"
      ]
    },
    {
      "cell_type": "code",
      "execution_count": 21,
      "metadata": {},
      "outputs": [
        {
          "output_type": "stream",
          "name": "stdout",
          "text": [
            "Test AUC:  0.8128\n"
          ]
        }
      ],
      "source": [
        "predicts = cv.predict_test(X_test)\n",
        "print('Test AUC: ', round(sklearn.metrics.roc_auc_score(y_test, predicts),4))"
      ]
    },
    {
      "cell_type": "code",
      "execution_count": 22,
      "metadata": {},
      "outputs": [
        {
          "output_type": "stream",
          "name": "stdout",
          "text": [
            "Test AUC:  0.7371\n"
          ]
        }
      ],
      "source": [
        "predicts = cv.predict_train(X_train)\n",
        "print('Test AUC: ', round(sklearn.metrics.roc_auc_score(y_train, predicts),4))"
      ]
    },
    {
      "cell_type": "code",
      "execution_count": 23,
      "metadata": {},
      "outputs": [],
      "source": [
        "feature_importance = cv.get_feature_importance(X_train)"
      ]
    },
    {
      "cell_type": "code",
      "execution_count": 24,
      "metadata": {},
      "outputs": [
        {
          "output_type": "execute_result",
          "data": {
            "text/plain": [
              "<matplotlib.axes._subplots.AxesSubplot at 0x7f14280f2850>"
            ]
          },
          "metadata": {},
          "execution_count": 24
        },
        {
          "output_type": "display_data",
          "data": {
            "text/plain": "<Figure size 432x288 with 1 Axes>",
            "image/svg+xml": "<?xml version=\"1.0\" encoding=\"utf-8\" standalone=\"no\"?>\n<!DOCTYPE svg PUBLIC \"-//W3C//DTD SVG 1.1//EN\"\n  \"http://www.w3.org/Graphics/SVG/1.1/DTD/svg11.dtd\">\n<!-- Created with matplotlib (https://matplotlib.org/) -->\n<svg height=\"248.518125pt\" version=\"1.1\" viewBox=\"0 0 568.396875 248.518125\" width=\"568.396875pt\" xmlns=\"http://www.w3.org/2000/svg\" xmlns:xlink=\"http://www.w3.org/1999/xlink\">\n <defs>\n  <style type=\"text/css\">\n*{stroke-linecap:butt;stroke-linejoin:round;}\n  </style>\n </defs>\n <g id=\"figure_1\">\n  <g id=\"patch_1\">\n   <path d=\"M 0 248.518125 \nL 568.396875 248.518125 \nL 568.396875 0 \nL 0 0 \nz\n\" style=\"fill:#ffffff;\"/>\n  </g>\n  <g id=\"axes_1\">\n   <g id=\"patch_2\">\n    <path d=\"M 226.396875 224.64 \nL 561.196875 224.64 \nL 561.196875 7.2 \nL 226.396875 7.2 \nz\n\" style=\"fill:#eaeaf2;\"/>\n   </g>\n   <g id=\"matplotlib.axis_1\">\n    <g id=\"xtick_1\">\n     <g id=\"line2d_1\">\n      <path clip-path=\"url(#p28ecc6e357)\" d=\"M 226.396875 224.64 \nL 226.396875 7.2 \n\" style=\"fill:none;stroke:#ffffff;stroke-linecap:round;stroke-width:0.8;\"/>\n     </g>\n     <g id=\"text_1\">\n      <!-- 0 -->\n      <defs>\n       <path d=\"M 31.78125 66.40625 \nQ 24.171875 66.40625 20.328125 58.90625 \nQ 16.5 51.421875 16.5 36.375 \nQ 16.5 21.390625 20.328125 13.890625 \nQ 24.171875 6.390625 31.78125 6.390625 \nQ 39.453125 6.390625 43.28125 13.890625 \nQ 47.125 21.390625 47.125 36.375 \nQ 47.125 51.421875 43.28125 58.90625 \nQ 39.453125 66.40625 31.78125 66.40625 \nz\nM 31.78125 74.21875 \nQ 44.046875 74.21875 50.515625 64.515625 \nQ 56.984375 54.828125 56.984375 36.375 \nQ 56.984375 17.96875 50.515625 8.265625 \nQ 44.046875 -1.421875 31.78125 -1.421875 \nQ 19.53125 -1.421875 13.0625 8.265625 \nQ 6.59375 17.96875 6.59375 36.375 \nQ 6.59375 54.828125 13.0625 64.515625 \nQ 19.53125 74.21875 31.78125 74.21875 \nz\n\" id=\"DejaVuSans-48\"/>\n      </defs>\n      <g style=\"fill:#262626;\" transform=\"translate(223.215625 239.238437)scale(0.1 -0.1)\">\n       <use xlink:href=\"#DejaVuSans-48\"/>\n      </g>\n     </g>\n    </g>\n    <g id=\"xtick_2\">\n     <g id=\"line2d_2\">\n      <path clip-path=\"url(#p28ecc6e357)\" d=\"M 264.834731 224.64 \nL 264.834731 7.2 \n\" style=\"fill:none;stroke:#ffffff;stroke-linecap:round;stroke-width:0.8;\"/>\n     </g>\n     <g id=\"text_2\">\n      <!-- 500 -->\n      <defs>\n       <path d=\"M 10.796875 72.90625 \nL 49.515625 72.90625 \nL 49.515625 64.59375 \nL 19.828125 64.59375 \nL 19.828125 46.734375 \nQ 21.96875 47.46875 24.109375 47.828125 \nQ 26.265625 48.1875 28.421875 48.1875 \nQ 40.625 48.1875 47.75 41.5 \nQ 54.890625 34.8125 54.890625 23.390625 \nQ 54.890625 11.625 47.5625 5.09375 \nQ 40.234375 -1.421875 26.90625 -1.421875 \nQ 22.3125 -1.421875 17.546875 -0.640625 \nQ 12.796875 0.140625 7.71875 1.703125 \nL 7.71875 11.625 \nQ 12.109375 9.234375 16.796875 8.0625 \nQ 21.484375 6.890625 26.703125 6.890625 \nQ 35.15625 6.890625 40.078125 11.328125 \nQ 45.015625 15.765625 45.015625 23.390625 \nQ 45.015625 31 40.078125 35.4375 \nQ 35.15625 39.890625 26.703125 39.890625 \nQ 22.75 39.890625 18.8125 39.015625 \nQ 14.890625 38.140625 10.796875 36.28125 \nz\n\" id=\"DejaVuSans-53\"/>\n      </defs>\n      <g style=\"fill:#262626;\" transform=\"translate(255.290981 239.238437)scale(0.1 -0.1)\">\n       <use xlink:href=\"#DejaVuSans-53\"/>\n       <use x=\"63.623047\" xlink:href=\"#DejaVuSans-48\"/>\n       <use x=\"127.246094\" xlink:href=\"#DejaVuSans-48\"/>\n      </g>\n     </g>\n    </g>\n    <g id=\"xtick_3\">\n     <g id=\"line2d_3\">\n      <path clip-path=\"url(#p28ecc6e357)\" d=\"M 303.272587 224.64 \nL 303.272587 7.2 \n\" style=\"fill:none;stroke:#ffffff;stroke-linecap:round;stroke-width:0.8;\"/>\n     </g>\n     <g id=\"text_3\">\n      <!-- 1000 -->\n      <defs>\n       <path d=\"M 12.40625 8.296875 \nL 28.515625 8.296875 \nL 28.515625 63.921875 \nL 10.984375 60.40625 \nL 10.984375 69.390625 \nL 28.421875 72.90625 \nL 38.28125 72.90625 \nL 38.28125 8.296875 \nL 54.390625 8.296875 \nL 54.390625 0 \nL 12.40625 0 \nz\n\" id=\"DejaVuSans-49\"/>\n      </defs>\n      <g style=\"fill:#262626;\" transform=\"translate(290.547587 239.238437)scale(0.1 -0.1)\">\n       <use xlink:href=\"#DejaVuSans-49\"/>\n       <use x=\"63.623047\" xlink:href=\"#DejaVuSans-48\"/>\n       <use x=\"127.246094\" xlink:href=\"#DejaVuSans-48\"/>\n       <use x=\"190.869141\" xlink:href=\"#DejaVuSans-48\"/>\n      </g>\n     </g>\n    </g>\n    <g id=\"xtick_4\">\n     <g id=\"line2d_4\">\n      <path clip-path=\"url(#p28ecc6e357)\" d=\"M 341.710443 224.64 \nL 341.710443 7.2 \n\" style=\"fill:none;stroke:#ffffff;stroke-linecap:round;stroke-width:0.8;\"/>\n     </g>\n     <g id=\"text_4\">\n      <!-- 1500 -->\n      <g style=\"fill:#262626;\" transform=\"translate(328.985443 239.238437)scale(0.1 -0.1)\">\n       <use xlink:href=\"#DejaVuSans-49\"/>\n       <use x=\"63.623047\" xlink:href=\"#DejaVuSans-53\"/>\n       <use x=\"127.246094\" xlink:href=\"#DejaVuSans-48\"/>\n       <use x=\"190.869141\" xlink:href=\"#DejaVuSans-48\"/>\n      </g>\n     </g>\n    </g>\n    <g id=\"xtick_5\">\n     <g id=\"line2d_5\">\n      <path clip-path=\"url(#p28ecc6e357)\" d=\"M 380.1483 224.64 \nL 380.1483 7.2 \n\" style=\"fill:none;stroke:#ffffff;stroke-linecap:round;stroke-width:0.8;\"/>\n     </g>\n     <g id=\"text_5\">\n      <!-- 2000 -->\n      <defs>\n       <path d=\"M 19.1875 8.296875 \nL 53.609375 8.296875 \nL 53.609375 0 \nL 7.328125 0 \nL 7.328125 8.296875 \nQ 12.9375 14.109375 22.625 23.890625 \nQ 32.328125 33.6875 34.8125 36.53125 \nQ 39.546875 41.84375 41.421875 45.53125 \nQ 43.3125 49.21875 43.3125 52.78125 \nQ 43.3125 58.59375 39.234375 62.25 \nQ 35.15625 65.921875 28.609375 65.921875 \nQ 23.96875 65.921875 18.8125 64.3125 \nQ 13.671875 62.703125 7.8125 59.421875 \nL 7.8125 69.390625 \nQ 13.765625 71.78125 18.9375 73 \nQ 24.125 74.21875 28.421875 74.21875 \nQ 39.75 74.21875 46.484375 68.546875 \nQ 53.21875 62.890625 53.21875 53.421875 \nQ 53.21875 48.921875 51.53125 44.890625 \nQ 49.859375 40.875 45.40625 35.40625 \nQ 44.1875 33.984375 37.640625 27.21875 \nQ 31.109375 20.453125 19.1875 8.296875 \nz\n\" id=\"DejaVuSans-50\"/>\n      </defs>\n      <g style=\"fill:#262626;\" transform=\"translate(367.4233 239.238437)scale(0.1 -0.1)\">\n       <use xlink:href=\"#DejaVuSans-50\"/>\n       <use x=\"63.623047\" xlink:href=\"#DejaVuSans-48\"/>\n       <use x=\"127.246094\" xlink:href=\"#DejaVuSans-48\"/>\n       <use x=\"190.869141\" xlink:href=\"#DejaVuSans-48\"/>\n      </g>\n     </g>\n    </g>\n    <g id=\"xtick_6\">\n     <g id=\"line2d_6\">\n      <path clip-path=\"url(#p28ecc6e357)\" d=\"M 418.586156 224.64 \nL 418.586156 7.2 \n\" style=\"fill:none;stroke:#ffffff;stroke-linecap:round;stroke-width:0.8;\"/>\n     </g>\n     <g id=\"text_6\">\n      <!-- 2500 -->\n      <g style=\"fill:#262626;\" transform=\"translate(405.861156 239.238437)scale(0.1 -0.1)\">\n       <use xlink:href=\"#DejaVuSans-50\"/>\n       <use x=\"63.623047\" xlink:href=\"#DejaVuSans-53\"/>\n       <use x=\"127.246094\" xlink:href=\"#DejaVuSans-48\"/>\n       <use x=\"190.869141\" xlink:href=\"#DejaVuSans-48\"/>\n      </g>\n     </g>\n    </g>\n    <g id=\"xtick_7\">\n     <g id=\"line2d_7\">\n      <path clip-path=\"url(#p28ecc6e357)\" d=\"M 457.024012 224.64 \nL 457.024012 7.2 \n\" style=\"fill:none;stroke:#ffffff;stroke-linecap:round;stroke-width:0.8;\"/>\n     </g>\n     <g id=\"text_7\">\n      <!-- 3000 -->\n      <defs>\n       <path d=\"M 40.578125 39.3125 \nQ 47.65625 37.796875 51.625 33 \nQ 55.609375 28.21875 55.609375 21.1875 \nQ 55.609375 10.40625 48.1875 4.484375 \nQ 40.765625 -1.421875 27.09375 -1.421875 \nQ 22.515625 -1.421875 17.65625 -0.515625 \nQ 12.796875 0.390625 7.625 2.203125 \nL 7.625 11.71875 \nQ 11.71875 9.328125 16.59375 8.109375 \nQ 21.484375 6.890625 26.8125 6.890625 \nQ 36.078125 6.890625 40.9375 10.546875 \nQ 45.796875 14.203125 45.796875 21.1875 \nQ 45.796875 27.640625 41.28125 31.265625 \nQ 36.765625 34.90625 28.71875 34.90625 \nL 20.21875 34.90625 \nL 20.21875 43.015625 \nL 29.109375 43.015625 \nQ 36.375 43.015625 40.234375 45.921875 \nQ 44.09375 48.828125 44.09375 54.296875 \nQ 44.09375 59.90625 40.109375 62.90625 \nQ 36.140625 65.921875 28.71875 65.921875 \nQ 24.65625 65.921875 20.015625 65.03125 \nQ 15.375 64.15625 9.8125 62.3125 \nL 9.8125 71.09375 \nQ 15.4375 72.65625 20.34375 73.4375 \nQ 25.25 74.21875 29.59375 74.21875 \nQ 40.828125 74.21875 47.359375 69.109375 \nQ 53.90625 64.015625 53.90625 55.328125 \nQ 53.90625 49.265625 50.4375 45.09375 \nQ 46.96875 40.921875 40.578125 39.3125 \nz\n\" id=\"DejaVuSans-51\"/>\n      </defs>\n      <g style=\"fill:#262626;\" transform=\"translate(444.299012 239.238437)scale(0.1 -0.1)\">\n       <use xlink:href=\"#DejaVuSans-51\"/>\n       <use x=\"63.623047\" xlink:href=\"#DejaVuSans-48\"/>\n       <use x=\"127.246094\" xlink:href=\"#DejaVuSans-48\"/>\n       <use x=\"190.869141\" xlink:href=\"#DejaVuSans-48\"/>\n      </g>\n     </g>\n    </g>\n    <g id=\"xtick_8\">\n     <g id=\"line2d_8\">\n      <path clip-path=\"url(#p28ecc6e357)\" d=\"M 495.461868 224.64 \nL 495.461868 7.2 \n\" style=\"fill:none;stroke:#ffffff;stroke-linecap:round;stroke-width:0.8;\"/>\n     </g>\n     <g id=\"text_8\">\n      <!-- 3500 -->\n      <g style=\"fill:#262626;\" transform=\"translate(482.736868 239.238437)scale(0.1 -0.1)\">\n       <use xlink:href=\"#DejaVuSans-51\"/>\n       <use x=\"63.623047\" xlink:href=\"#DejaVuSans-53\"/>\n       <use x=\"127.246094\" xlink:href=\"#DejaVuSans-48\"/>\n       <use x=\"190.869141\" xlink:href=\"#DejaVuSans-48\"/>\n      </g>\n     </g>\n    </g>\n    <g id=\"xtick_9\">\n     <g id=\"line2d_9\">\n      <path clip-path=\"url(#p28ecc6e357)\" d=\"M 533.899724 224.64 \nL 533.899724 7.2 \n\" style=\"fill:none;stroke:#ffffff;stroke-linecap:round;stroke-width:0.8;\"/>\n     </g>\n     <g id=\"text_9\">\n      <!-- 4000 -->\n      <defs>\n       <path d=\"M 37.796875 64.3125 \nL 12.890625 25.390625 \nL 37.796875 25.390625 \nz\nM 35.203125 72.90625 \nL 47.609375 72.90625 \nL 47.609375 25.390625 \nL 58.015625 25.390625 \nL 58.015625 17.1875 \nL 47.609375 17.1875 \nL 47.609375 0 \nL 37.796875 0 \nL 37.796875 17.1875 \nL 4.890625 17.1875 \nL 4.890625 26.703125 \nz\n\" id=\"DejaVuSans-52\"/>\n      </defs>\n      <g style=\"fill:#262626;\" transform=\"translate(521.174724 239.238437)scale(0.1 -0.1)\">\n       <use xlink:href=\"#DejaVuSans-52\"/>\n       <use x=\"63.623047\" xlink:href=\"#DejaVuSans-48\"/>\n       <use x=\"127.246094\" xlink:href=\"#DejaVuSans-48\"/>\n       <use x=\"190.869141\" xlink:href=\"#DejaVuSans-48\"/>\n      </g>\n     </g>\n    </g>\n   </g>\n   <g id=\"matplotlib.axis_2\">\n    <g id=\"ytick_1\">\n     <g id=\"line2d_10\">\n      <path clip-path=\"url(#p28ecc6e357)\" d=\"M 226.396875 217.392 \nL 561.196875 217.392 \n\" style=\"fill:none;stroke:#ffffff;stroke-linecap:round;stroke-width:0.8;\"/>\n     </g>\n     <g id=\"text_10\">\n      <!-- HelmertEncoder_checking_status_1 -->\n      <defs>\n       <path d=\"M 9.8125 72.90625 \nL 19.671875 72.90625 \nL 19.671875 43.015625 \nL 55.515625 43.015625 \nL 55.515625 72.90625 \nL 65.375 72.90625 \nL 65.375 0 \nL 55.515625 0 \nL 55.515625 34.71875 \nL 19.671875 34.71875 \nL 19.671875 0 \nL 9.8125 0 \nz\n\" id=\"DejaVuSans-72\"/>\n       <path d=\"M 56.203125 29.59375 \nL 56.203125 25.203125 \nL 14.890625 25.203125 \nQ 15.484375 15.921875 20.484375 11.0625 \nQ 25.484375 6.203125 34.421875 6.203125 \nQ 39.59375 6.203125 44.453125 7.46875 \nQ 49.3125 8.734375 54.109375 11.28125 \nL 54.109375 2.78125 \nQ 49.265625 0.734375 44.1875 -0.34375 \nQ 39.109375 -1.421875 33.890625 -1.421875 \nQ 20.796875 -1.421875 13.15625 6.1875 \nQ 5.515625 13.8125 5.515625 26.8125 \nQ 5.515625 40.234375 12.765625 48.109375 \nQ 20.015625 56 32.328125 56 \nQ 43.359375 56 49.78125 48.890625 \nQ 56.203125 41.796875 56.203125 29.59375 \nz\nM 47.21875 32.234375 \nQ 47.125 39.59375 43.09375 43.984375 \nQ 39.0625 48.390625 32.421875 48.390625 \nQ 24.90625 48.390625 20.390625 44.140625 \nQ 15.875 39.890625 15.1875 32.171875 \nz\n\" id=\"DejaVuSans-101\"/>\n       <path d=\"M 9.421875 75.984375 \nL 18.40625 75.984375 \nL 18.40625 0 \nL 9.421875 0 \nz\n\" id=\"DejaVuSans-108\"/>\n       <path d=\"M 52 44.1875 \nQ 55.375 50.25 60.0625 53.125 \nQ 64.75 56 71.09375 56 \nQ 79.640625 56 84.28125 50.015625 \nQ 88.921875 44.046875 88.921875 33.015625 \nL 88.921875 0 \nL 79.890625 0 \nL 79.890625 32.71875 \nQ 79.890625 40.578125 77.09375 44.375 \nQ 74.3125 48.1875 68.609375 48.1875 \nQ 61.625 48.1875 57.5625 43.546875 \nQ 53.515625 38.921875 53.515625 30.90625 \nL 53.515625 0 \nL 44.484375 0 \nL 44.484375 32.71875 \nQ 44.484375 40.625 41.703125 44.40625 \nQ 38.921875 48.1875 33.109375 48.1875 \nQ 26.21875 48.1875 22.15625 43.53125 \nQ 18.109375 38.875 18.109375 30.90625 \nL 18.109375 0 \nL 9.078125 0 \nL 9.078125 54.6875 \nL 18.109375 54.6875 \nL 18.109375 46.1875 \nQ 21.1875 51.21875 25.484375 53.609375 \nQ 29.78125 56 35.6875 56 \nQ 41.65625 56 45.828125 52.96875 \nQ 50 49.953125 52 44.1875 \nz\n\" id=\"DejaVuSans-109\"/>\n       <path d=\"M 41.109375 46.296875 \nQ 39.59375 47.171875 37.8125 47.578125 \nQ 36.03125 48 33.890625 48 \nQ 26.265625 48 22.1875 43.046875 \nQ 18.109375 38.09375 18.109375 28.8125 \nL 18.109375 0 \nL 9.078125 0 \nL 9.078125 54.6875 \nL 18.109375 54.6875 \nL 18.109375 46.1875 \nQ 20.953125 51.171875 25.484375 53.578125 \nQ 30.03125 56 36.53125 56 \nQ 37.453125 56 38.578125 55.875 \nQ 39.703125 55.765625 41.0625 55.515625 \nz\n\" id=\"DejaVuSans-114\"/>\n       <path d=\"M 18.3125 70.21875 \nL 18.3125 54.6875 \nL 36.8125 54.6875 \nL 36.8125 47.703125 \nL 18.3125 47.703125 \nL 18.3125 18.015625 \nQ 18.3125 11.328125 20.140625 9.421875 \nQ 21.96875 7.515625 27.59375 7.515625 \nL 36.8125 7.515625 \nL 36.8125 0 \nL 27.59375 0 \nQ 17.1875 0 13.234375 3.875 \nQ 9.28125 7.765625 9.28125 18.015625 \nL 9.28125 47.703125 \nL 2.6875 47.703125 \nL 2.6875 54.6875 \nL 9.28125 54.6875 \nL 9.28125 70.21875 \nz\n\" id=\"DejaVuSans-116\"/>\n       <path d=\"M 9.8125 72.90625 \nL 55.90625 72.90625 \nL 55.90625 64.59375 \nL 19.671875 64.59375 \nL 19.671875 43.015625 \nL 54.390625 43.015625 \nL 54.390625 34.71875 \nL 19.671875 34.71875 \nL 19.671875 8.296875 \nL 56.78125 8.296875 \nL 56.78125 0 \nL 9.8125 0 \nz\n\" id=\"DejaVuSans-69\"/>\n       <path d=\"M 54.890625 33.015625 \nL 54.890625 0 \nL 45.90625 0 \nL 45.90625 32.71875 \nQ 45.90625 40.484375 42.875 44.328125 \nQ 39.84375 48.1875 33.796875 48.1875 \nQ 26.515625 48.1875 22.3125 43.546875 \nQ 18.109375 38.921875 18.109375 30.90625 \nL 18.109375 0 \nL 9.078125 0 \nL 9.078125 54.6875 \nL 18.109375 54.6875 \nL 18.109375 46.1875 \nQ 21.34375 51.125 25.703125 53.5625 \nQ 30.078125 56 35.796875 56 \nQ 45.21875 56 50.046875 50.171875 \nQ 54.890625 44.34375 54.890625 33.015625 \nz\n\" id=\"DejaVuSans-110\"/>\n       <path d=\"M 48.78125 52.59375 \nL 48.78125 44.1875 \nQ 44.96875 46.296875 41.140625 47.34375 \nQ 37.3125 48.390625 33.40625 48.390625 \nQ 24.65625 48.390625 19.8125 42.84375 \nQ 14.984375 37.3125 14.984375 27.296875 \nQ 14.984375 17.28125 19.8125 11.734375 \nQ 24.65625 6.203125 33.40625 6.203125 \nQ 37.3125 6.203125 41.140625 7.25 \nQ 44.96875 8.296875 48.78125 10.40625 \nL 48.78125 2.09375 \nQ 45.015625 0.34375 40.984375 -0.53125 \nQ 36.96875 -1.421875 32.421875 -1.421875 \nQ 20.0625 -1.421875 12.78125 6.34375 \nQ 5.515625 14.109375 5.515625 27.296875 \nQ 5.515625 40.671875 12.859375 48.328125 \nQ 20.21875 56 33.015625 56 \nQ 37.15625 56 41.109375 55.140625 \nQ 45.0625 54.296875 48.78125 52.59375 \nz\n\" id=\"DejaVuSans-99\"/>\n       <path d=\"M 30.609375 48.390625 \nQ 23.390625 48.390625 19.1875 42.75 \nQ 14.984375 37.109375 14.984375 27.296875 \nQ 14.984375 17.484375 19.15625 11.84375 \nQ 23.34375 6.203125 30.609375 6.203125 \nQ 37.796875 6.203125 41.984375 11.859375 \nQ 46.1875 17.53125 46.1875 27.296875 \nQ 46.1875 37.015625 41.984375 42.703125 \nQ 37.796875 48.390625 30.609375 48.390625 \nz\nM 30.609375 56 \nQ 42.328125 56 49.015625 48.375 \nQ 55.71875 40.765625 55.71875 27.296875 \nQ 55.71875 13.875 49.015625 6.21875 \nQ 42.328125 -1.421875 30.609375 -1.421875 \nQ 18.84375 -1.421875 12.171875 6.21875 \nQ 5.515625 13.875 5.515625 27.296875 \nQ 5.515625 40.765625 12.171875 48.375 \nQ 18.84375 56 30.609375 56 \nz\n\" id=\"DejaVuSans-111\"/>\n       <path d=\"M 45.40625 46.390625 \nL 45.40625 75.984375 \nL 54.390625 75.984375 \nL 54.390625 0 \nL 45.40625 0 \nL 45.40625 8.203125 \nQ 42.578125 3.328125 38.25 0.953125 \nQ 33.9375 -1.421875 27.875 -1.421875 \nQ 17.96875 -1.421875 11.734375 6.484375 \nQ 5.515625 14.40625 5.515625 27.296875 \nQ 5.515625 40.1875 11.734375 48.09375 \nQ 17.96875 56 27.875 56 \nQ 33.9375 56 38.25 53.625 \nQ 42.578125 51.265625 45.40625 46.390625 \nz\nM 14.796875 27.296875 \nQ 14.796875 17.390625 18.875 11.75 \nQ 22.953125 6.109375 30.078125 6.109375 \nQ 37.203125 6.109375 41.296875 11.75 \nQ 45.40625 17.390625 45.40625 27.296875 \nQ 45.40625 37.203125 41.296875 42.84375 \nQ 37.203125 48.484375 30.078125 48.484375 \nQ 22.953125 48.484375 18.875 42.84375 \nQ 14.796875 37.203125 14.796875 27.296875 \nz\n\" id=\"DejaVuSans-100\"/>\n       <path d=\"M 50.984375 -16.609375 \nL 50.984375 -23.578125 \nL -0.984375 -23.578125 \nL -0.984375 -16.609375 \nz\n\" id=\"DejaVuSans-95\"/>\n       <path d=\"M 54.890625 33.015625 \nL 54.890625 0 \nL 45.90625 0 \nL 45.90625 32.71875 \nQ 45.90625 40.484375 42.875 44.328125 \nQ 39.84375 48.1875 33.796875 48.1875 \nQ 26.515625 48.1875 22.3125 43.546875 \nQ 18.109375 38.921875 18.109375 30.90625 \nL 18.109375 0 \nL 9.078125 0 \nL 9.078125 75.984375 \nL 18.109375 75.984375 \nL 18.109375 46.1875 \nQ 21.34375 51.125 25.703125 53.5625 \nQ 30.078125 56 35.796875 56 \nQ 45.21875 56 50.046875 50.171875 \nQ 54.890625 44.34375 54.890625 33.015625 \nz\n\" id=\"DejaVuSans-104\"/>\n       <path d=\"M 9.078125 75.984375 \nL 18.109375 75.984375 \nL 18.109375 31.109375 \nL 44.921875 54.6875 \nL 56.390625 54.6875 \nL 27.390625 29.109375 \nL 57.625 0 \nL 45.90625 0 \nL 18.109375 26.703125 \nL 18.109375 0 \nL 9.078125 0 \nz\n\" id=\"DejaVuSans-107\"/>\n       <path d=\"M 9.421875 54.6875 \nL 18.40625 54.6875 \nL 18.40625 0 \nL 9.421875 0 \nz\nM 9.421875 75.984375 \nL 18.40625 75.984375 \nL 18.40625 64.59375 \nL 9.421875 64.59375 \nz\n\" id=\"DejaVuSans-105\"/>\n       <path d=\"M 45.40625 27.984375 \nQ 45.40625 37.75 41.375 43.109375 \nQ 37.359375 48.484375 30.078125 48.484375 \nQ 22.859375 48.484375 18.828125 43.109375 \nQ 14.796875 37.75 14.796875 27.984375 \nQ 14.796875 18.265625 18.828125 12.890625 \nQ 22.859375 7.515625 30.078125 7.515625 \nQ 37.359375 7.515625 41.375 12.890625 \nQ 45.40625 18.265625 45.40625 27.984375 \nz\nM 54.390625 6.78125 \nQ 54.390625 -7.171875 48.1875 -13.984375 \nQ 42 -20.796875 29.203125 -20.796875 \nQ 24.46875 -20.796875 20.265625 -20.09375 \nQ 16.0625 -19.390625 12.109375 -17.921875 \nL 12.109375 -9.1875 \nQ 16.0625 -11.328125 19.921875 -12.34375 \nQ 23.78125 -13.375 27.78125 -13.375 \nQ 36.625 -13.375 41.015625 -8.765625 \nQ 45.40625 -4.15625 45.40625 5.171875 \nL 45.40625 9.625 \nQ 42.625 4.78125 38.28125 2.390625 \nQ 33.9375 0 27.875 0 \nQ 17.828125 0 11.671875 7.65625 \nQ 5.515625 15.328125 5.515625 27.984375 \nQ 5.515625 40.671875 11.671875 48.328125 \nQ 17.828125 56 27.875 56 \nQ 33.9375 56 38.28125 53.609375 \nQ 42.625 51.21875 45.40625 46.390625 \nL 45.40625 54.6875 \nL 54.390625 54.6875 \nz\n\" id=\"DejaVuSans-103\"/>\n       <path d=\"M 44.28125 53.078125 \nL 44.28125 44.578125 \nQ 40.484375 46.53125 36.375 47.5 \nQ 32.28125 48.484375 27.875 48.484375 \nQ 21.1875 48.484375 17.84375 46.4375 \nQ 14.5 44.390625 14.5 40.28125 \nQ 14.5 37.15625 16.890625 35.375 \nQ 19.28125 33.59375 26.515625 31.984375 \nL 29.59375 31.296875 \nQ 39.15625 29.25 43.1875 25.515625 \nQ 47.21875 21.78125 47.21875 15.09375 \nQ 47.21875 7.46875 41.1875 3.015625 \nQ 35.15625 -1.421875 24.609375 -1.421875 \nQ 20.21875 -1.421875 15.453125 -0.5625 \nQ 10.6875 0.296875 5.421875 2 \nL 5.421875 11.28125 \nQ 10.40625 8.6875 15.234375 7.390625 \nQ 20.0625 6.109375 24.8125 6.109375 \nQ 31.15625 6.109375 34.5625 8.28125 \nQ 37.984375 10.453125 37.984375 14.40625 \nQ 37.984375 18.0625 35.515625 20.015625 \nQ 33.0625 21.96875 24.703125 23.78125 \nL 21.578125 24.515625 \nQ 13.234375 26.265625 9.515625 29.90625 \nQ 5.8125 33.546875 5.8125 39.890625 \nQ 5.8125 47.609375 11.28125 51.796875 \nQ 16.75 56 26.8125 56 \nQ 31.78125 56 36.171875 55.265625 \nQ 40.578125 54.546875 44.28125 53.078125 \nz\n\" id=\"DejaVuSans-115\"/>\n       <path d=\"M 34.28125 27.484375 \nQ 23.390625 27.484375 19.1875 25 \nQ 14.984375 22.515625 14.984375 16.5 \nQ 14.984375 11.71875 18.140625 8.90625 \nQ 21.296875 6.109375 26.703125 6.109375 \nQ 34.1875 6.109375 38.703125 11.40625 \nQ 43.21875 16.703125 43.21875 25.484375 \nL 43.21875 27.484375 \nz\nM 52.203125 31.203125 \nL 52.203125 0 \nL 43.21875 0 \nL 43.21875 8.296875 \nQ 40.140625 3.328125 35.546875 0.953125 \nQ 30.953125 -1.421875 24.3125 -1.421875 \nQ 15.921875 -1.421875 10.953125 3.296875 \nQ 6 8.015625 6 15.921875 \nQ 6 25.140625 12.171875 29.828125 \nQ 18.359375 34.515625 30.609375 34.515625 \nL 43.21875 34.515625 \nL 43.21875 35.40625 \nQ 43.21875 41.609375 39.140625 45 \nQ 35.0625 48.390625 27.6875 48.390625 \nQ 23 48.390625 18.546875 47.265625 \nQ 14.109375 46.140625 10.015625 43.890625 \nL 10.015625 52.203125 \nQ 14.9375 54.109375 19.578125 55.046875 \nQ 24.21875 56 28.609375 56 \nQ 40.484375 56 46.34375 49.84375 \nQ 52.203125 43.703125 52.203125 31.203125 \nz\n\" id=\"DejaVuSans-97\"/>\n       <path d=\"M 8.5 21.578125 \nL 8.5 54.6875 \nL 17.484375 54.6875 \nL 17.484375 21.921875 \nQ 17.484375 14.15625 20.5 10.265625 \nQ 23.53125 6.390625 29.59375 6.390625 \nQ 36.859375 6.390625 41.078125 11.03125 \nQ 45.3125 15.671875 45.3125 23.6875 \nL 45.3125 54.6875 \nL 54.296875 54.6875 \nL 54.296875 0 \nL 45.3125 0 \nL 45.3125 8.40625 \nQ 42.046875 3.421875 37.71875 1 \nQ 33.40625 -1.421875 27.6875 -1.421875 \nQ 18.265625 -1.421875 13.375 4.4375 \nQ 8.5 10.296875 8.5 21.578125 \nz\nM 31.109375 56 \nz\n\" id=\"DejaVuSans-117\"/>\n      </defs>\n      <g style=\"fill:#262626;\" transform=\"translate(41.304688 221.191219)scale(0.1 -0.1)\">\n       <use xlink:href=\"#DejaVuSans-72\"/>\n       <use x=\"75.195312\" xlink:href=\"#DejaVuSans-101\"/>\n       <use x=\"136.71875\" xlink:href=\"#DejaVuSans-108\"/>\n       <use x=\"164.501953\" xlink:href=\"#DejaVuSans-109\"/>\n       <use x=\"261.914062\" xlink:href=\"#DejaVuSans-101\"/>\n       <use x=\"323.4375\" xlink:href=\"#DejaVuSans-114\"/>\n       <use x=\"364.550781\" xlink:href=\"#DejaVuSans-116\"/>\n       <use x=\"403.759766\" xlink:href=\"#DejaVuSans-69\"/>\n       <use x=\"466.943359\" xlink:href=\"#DejaVuSans-110\"/>\n       <use x=\"530.322266\" xlink:href=\"#DejaVuSans-99\"/>\n       <use x=\"585.302734\" xlink:href=\"#DejaVuSans-111\"/>\n       <use x=\"646.484375\" xlink:href=\"#DejaVuSans-100\"/>\n       <use x=\"709.960938\" xlink:href=\"#DejaVuSans-101\"/>\n       <use x=\"771.484375\" xlink:href=\"#DejaVuSans-114\"/>\n       <use x=\"812.597656\" xlink:href=\"#DejaVuSans-95\"/>\n       <use x=\"862.597656\" xlink:href=\"#DejaVuSans-99\"/>\n       <use x=\"917.578125\" xlink:href=\"#DejaVuSans-104\"/>\n       <use x=\"980.957031\" xlink:href=\"#DejaVuSans-101\"/>\n       <use x=\"1042.480469\" xlink:href=\"#DejaVuSans-99\"/>\n       <use x=\"1097.460938\" xlink:href=\"#DejaVuSans-107\"/>\n       <use x=\"1155.371094\" xlink:href=\"#DejaVuSans-105\"/>\n       <use x=\"1183.154297\" xlink:href=\"#DejaVuSans-110\"/>\n       <use x=\"1246.533203\" xlink:href=\"#DejaVuSans-103\"/>\n       <use x=\"1310.009766\" xlink:href=\"#DejaVuSans-95\"/>\n       <use x=\"1360.009766\" xlink:href=\"#DejaVuSans-115\"/>\n       <use x=\"1412.109375\" xlink:href=\"#DejaVuSans-116\"/>\n       <use x=\"1451.318359\" xlink:href=\"#DejaVuSans-97\"/>\n       <use x=\"1512.597656\" xlink:href=\"#DejaVuSans-116\"/>\n       <use x=\"1551.806641\" xlink:href=\"#DejaVuSans-117\"/>\n       <use x=\"1615.185547\" xlink:href=\"#DejaVuSans-115\"/>\n       <use x=\"1667.285156\" xlink:href=\"#DejaVuSans-95\"/>\n       <use x=\"1717.285156\" xlink:href=\"#DejaVuSans-49\"/>\n      </g>\n     </g>\n    </g>\n    <g id=\"ytick_2\">\n     <g id=\"line2d_11\">\n      <path clip-path=\"url(#p28ecc6e357)\" d=\"M 226.396875 202.896 \nL 561.196875 202.896 \n\" style=\"fill:none;stroke:#ffffff;stroke-linecap:round;stroke-width:0.8;\"/>\n     </g>\n     <g id=\"text_11\">\n      <!-- duration_/_credit_amount -->\n      <defs>\n       <path d=\"M 25.390625 72.90625 \nL 33.6875 72.90625 \nL 8.296875 -9.28125 \nL 0 -9.28125 \nz\n\" id=\"DejaVuSans-47\"/>\n      </defs>\n      <g style=\"fill:#262626;\" transform=\"translate(91.78125 206.695219)scale(0.1 -0.1)\">\n       <use xlink:href=\"#DejaVuSans-100\"/>\n       <use x=\"63.476562\" xlink:href=\"#DejaVuSans-117\"/>\n       <use x=\"126.855469\" xlink:href=\"#DejaVuSans-114\"/>\n       <use x=\"167.96875\" xlink:href=\"#DejaVuSans-97\"/>\n       <use x=\"229.248047\" xlink:href=\"#DejaVuSans-116\"/>\n       <use x=\"268.457031\" xlink:href=\"#DejaVuSans-105\"/>\n       <use x=\"296.240234\" xlink:href=\"#DejaVuSans-111\"/>\n       <use x=\"357.421875\" xlink:href=\"#DejaVuSans-110\"/>\n       <use x=\"420.800781\" xlink:href=\"#DejaVuSans-95\"/>\n       <use x=\"470.800781\" xlink:href=\"#DejaVuSans-47\"/>\n       <use x=\"504.492188\" xlink:href=\"#DejaVuSans-95\"/>\n       <use x=\"554.492188\" xlink:href=\"#DejaVuSans-99\"/>\n       <use x=\"609.472656\" xlink:href=\"#DejaVuSans-114\"/>\n       <use x=\"648.335938\" xlink:href=\"#DejaVuSans-101\"/>\n       <use x=\"709.859375\" xlink:href=\"#DejaVuSans-100\"/>\n       <use x=\"773.335938\" xlink:href=\"#DejaVuSans-105\"/>\n       <use x=\"801.119141\" xlink:href=\"#DejaVuSans-116\"/>\n       <use x=\"840.328125\" xlink:href=\"#DejaVuSans-95\"/>\n       <use x=\"890.328125\" xlink:href=\"#DejaVuSans-97\"/>\n       <use x=\"951.607422\" xlink:href=\"#DejaVuSans-109\"/>\n       <use x=\"1049.019531\" xlink:href=\"#DejaVuSans-111\"/>\n       <use x=\"1110.201172\" xlink:href=\"#DejaVuSans-117\"/>\n       <use x=\"1173.580078\" xlink:href=\"#DejaVuSans-110\"/>\n       <use x=\"1236.958984\" xlink:href=\"#DejaVuSans-116\"/>\n      </g>\n     </g>\n    </g>\n    <g id=\"ytick_3\">\n     <g id=\"line2d_12\">\n      <path clip-path=\"url(#p28ecc6e357)\" d=\"M 226.396875 188.4 \nL 561.196875 188.4 \n\" style=\"fill:none;stroke:#ffffff;stroke-linecap:round;stroke-width:0.8;\"/>\n     </g>\n     <g id=\"text_12\">\n      <!-- duration_/_age -->\n      <g style=\"fill:#262626;\" transform=\"translate(145.31875 192.199219)scale(0.1 -0.1)\">\n       <use xlink:href=\"#DejaVuSans-100\"/>\n       <use x=\"63.476562\" xlink:href=\"#DejaVuSans-117\"/>\n       <use x=\"126.855469\" xlink:href=\"#DejaVuSans-114\"/>\n       <use x=\"167.96875\" xlink:href=\"#DejaVuSans-97\"/>\n       <use x=\"229.248047\" xlink:href=\"#DejaVuSans-116\"/>\n       <use x=\"268.457031\" xlink:href=\"#DejaVuSans-105\"/>\n       <use x=\"296.240234\" xlink:href=\"#DejaVuSans-111\"/>\n       <use x=\"357.421875\" xlink:href=\"#DejaVuSans-110\"/>\n       <use x=\"420.800781\" xlink:href=\"#DejaVuSans-95\"/>\n       <use x=\"470.800781\" xlink:href=\"#DejaVuSans-47\"/>\n       <use x=\"504.492188\" xlink:href=\"#DejaVuSans-95\"/>\n       <use x=\"554.492188\" xlink:href=\"#DejaVuSans-97\"/>\n       <use x=\"615.771484\" xlink:href=\"#DejaVuSans-103\"/>\n       <use x=\"679.248047\" xlink:href=\"#DejaVuSans-101\"/>\n      </g>\n     </g>\n    </g>\n    <g id=\"ytick_4\">\n     <g id=\"line2d_13\">\n      <path clip-path=\"url(#p28ecc6e357)\" d=\"M 226.396875 173.904 \nL 561.196875 173.904 \n\" style=\"fill:none;stroke:#ffffff;stroke-linecap:round;stroke-width:0.8;\"/>\n     </g>\n     <g id=\"text_13\">\n      <!-- credit_amount_*_installment_commitment -->\n      <defs>\n       <path d=\"M 47.015625 60.890625 \nL 29.5 51.421875 \nL 47.015625 41.890625 \nL 44.1875 37.109375 \nL 27.78125 47.015625 \nL 27.78125 28.609375 \nL 22.21875 28.609375 \nL 22.21875 47.015625 \nL 5.8125 37.109375 \nL 2.984375 41.890625 \nL 20.515625 51.421875 \nL 2.984375 60.890625 \nL 5.8125 65.71875 \nL 22.21875 55.8125 \nL 22.21875 74.21875 \nL 27.78125 74.21875 \nL 27.78125 55.8125 \nL 44.1875 65.71875 \nz\n\" id=\"DejaVuSans-42\"/>\n      </defs>\n      <g style=\"fill:#262626;\" transform=\"translate(7.2 177.703219)scale(0.1 -0.1)\">\n       <use xlink:href=\"#DejaVuSans-99\"/>\n       <use x=\"54.980469\" xlink:href=\"#DejaVuSans-114\"/>\n       <use x=\"93.84375\" xlink:href=\"#DejaVuSans-101\"/>\n       <use x=\"155.367188\" xlink:href=\"#DejaVuSans-100\"/>\n       <use x=\"218.84375\" xlink:href=\"#DejaVuSans-105\"/>\n       <use x=\"246.626953\" xlink:href=\"#DejaVuSans-116\"/>\n       <use x=\"285.835938\" xlink:href=\"#DejaVuSans-95\"/>\n       <use x=\"335.835938\" xlink:href=\"#DejaVuSans-97\"/>\n       <use x=\"397.115234\" xlink:href=\"#DejaVuSans-109\"/>\n       <use x=\"494.527344\" xlink:href=\"#DejaVuSans-111\"/>\n       <use x=\"555.708984\" xlink:href=\"#DejaVuSans-117\"/>\n       <use x=\"619.087891\" xlink:href=\"#DejaVuSans-110\"/>\n       <use x=\"682.466797\" xlink:href=\"#DejaVuSans-116\"/>\n       <use x=\"721.675781\" xlink:href=\"#DejaVuSans-95\"/>\n       <use x=\"771.675781\" xlink:href=\"#DejaVuSans-42\"/>\n       <use x=\"821.675781\" xlink:href=\"#DejaVuSans-95\"/>\n       <use x=\"871.675781\" xlink:href=\"#DejaVuSans-105\"/>\n       <use x=\"899.458984\" xlink:href=\"#DejaVuSans-110\"/>\n       <use x=\"962.837891\" xlink:href=\"#DejaVuSans-115\"/>\n       <use x=\"1014.9375\" xlink:href=\"#DejaVuSans-116\"/>\n       <use x=\"1054.146484\" xlink:href=\"#DejaVuSans-97\"/>\n       <use x=\"1115.425781\" xlink:href=\"#DejaVuSans-108\"/>\n       <use x=\"1143.208984\" xlink:href=\"#DejaVuSans-108\"/>\n       <use x=\"1170.992188\" xlink:href=\"#DejaVuSans-109\"/>\n       <use x=\"1268.404297\" xlink:href=\"#DejaVuSans-101\"/>\n       <use x=\"1329.927734\" xlink:href=\"#DejaVuSans-110\"/>\n       <use x=\"1393.306641\" xlink:href=\"#DejaVuSans-116\"/>\n       <use x=\"1432.515625\" xlink:href=\"#DejaVuSans-95\"/>\n       <use x=\"1482.515625\" xlink:href=\"#DejaVuSans-99\"/>\n       <use x=\"1537.496094\" xlink:href=\"#DejaVuSans-111\"/>\n       <use x=\"1598.677734\" xlink:href=\"#DejaVuSans-109\"/>\n       <use x=\"1696.089844\" xlink:href=\"#DejaVuSans-109\"/>\n       <use x=\"1793.501953\" xlink:href=\"#DejaVuSans-105\"/>\n       <use x=\"1821.285156\" xlink:href=\"#DejaVuSans-116\"/>\n       <use x=\"1860.494141\" xlink:href=\"#DejaVuSans-109\"/>\n       <use x=\"1957.90625\" xlink:href=\"#DejaVuSans-101\"/>\n       <use x=\"2019.429688\" xlink:href=\"#DejaVuSans-110\"/>\n       <use x=\"2082.808594\" xlink:href=\"#DejaVuSans-116\"/>\n      </g>\n     </g>\n    </g>\n    <g id=\"ytick_5\">\n     <g id=\"line2d_14\">\n      <path clip-path=\"url(#p28ecc6e357)\" d=\"M 226.396875 159.408 \nL 561.196875 159.408 \n\" style=\"fill:none;stroke:#ffffff;stroke-linecap:round;stroke-width:0.8;\"/>\n     </g>\n     <g id=\"text_14\">\n      <!-- purpose -->\n      <defs>\n       <path d=\"M 18.109375 8.203125 \nL 18.109375 -20.796875 \nL 9.078125 -20.796875 \nL 9.078125 54.6875 \nL 18.109375 54.6875 \nL 18.109375 46.390625 \nQ 20.953125 51.265625 25.265625 53.625 \nQ 29.59375 56 35.59375 56 \nQ 45.5625 56 51.78125 48.09375 \nQ 58.015625 40.1875 58.015625 27.296875 \nQ 58.015625 14.40625 51.78125 6.484375 \nQ 45.5625 -1.421875 35.59375 -1.421875 \nQ 29.59375 -1.421875 25.265625 0.953125 \nQ 20.953125 3.328125 18.109375 8.203125 \nz\nM 48.6875 27.296875 \nQ 48.6875 37.203125 44.609375 42.84375 \nQ 40.53125 48.484375 33.40625 48.484375 \nQ 26.265625 48.484375 22.1875 42.84375 \nQ 18.109375 37.203125 18.109375 27.296875 \nQ 18.109375 17.390625 22.1875 11.75 \nQ 26.265625 6.109375 33.40625 6.109375 \nQ 40.53125 6.109375 44.609375 11.75 \nQ 48.6875 17.390625 48.6875 27.296875 \nz\n\" id=\"DejaVuSans-112\"/>\n      </defs>\n      <g style=\"fill:#262626;\" transform=\"translate(178.770313 163.207219)scale(0.1 -0.1)\">\n       <use xlink:href=\"#DejaVuSans-112\"/>\n       <use x=\"63.476562\" xlink:href=\"#DejaVuSans-117\"/>\n       <use x=\"126.855469\" xlink:href=\"#DejaVuSans-114\"/>\n       <use x=\"167.96875\" xlink:href=\"#DejaVuSans-112\"/>\n       <use x=\"231.445312\" xlink:href=\"#DejaVuSans-111\"/>\n       <use x=\"292.626953\" xlink:href=\"#DejaVuSans-115\"/>\n       <use x=\"344.726562\" xlink:href=\"#DejaVuSans-101\"/>\n      </g>\n     </g>\n    </g>\n    <g id=\"ytick_6\">\n     <g id=\"line2d_15\">\n      <path clip-path=\"url(#p28ecc6e357)\" d=\"M 226.396875 144.912 \nL 561.196875 144.912 \n\" style=\"fill:none;stroke:#ffffff;stroke-linecap:round;stroke-width:0.8;\"/>\n     </g>\n     <g id=\"text_15\">\n      <!-- duration_*_credit_amount -->\n      <g style=\"fill:#262626;\" transform=\"translate(90.15 148.711219)scale(0.1 -0.1)\">\n       <use xlink:href=\"#DejaVuSans-100\"/>\n       <use x=\"63.476562\" xlink:href=\"#DejaVuSans-117\"/>\n       <use x=\"126.855469\" xlink:href=\"#DejaVuSans-114\"/>\n       <use x=\"167.96875\" xlink:href=\"#DejaVuSans-97\"/>\n       <use x=\"229.248047\" xlink:href=\"#DejaVuSans-116\"/>\n       <use x=\"268.457031\" xlink:href=\"#DejaVuSans-105\"/>\n       <use x=\"296.240234\" xlink:href=\"#DejaVuSans-111\"/>\n       <use x=\"357.421875\" xlink:href=\"#DejaVuSans-110\"/>\n       <use x=\"420.800781\" xlink:href=\"#DejaVuSans-95\"/>\n       <use x=\"470.800781\" xlink:href=\"#DejaVuSans-42\"/>\n       <use x=\"520.800781\" xlink:href=\"#DejaVuSans-95\"/>\n       <use x=\"570.800781\" xlink:href=\"#DejaVuSans-99\"/>\n       <use x=\"625.78125\" xlink:href=\"#DejaVuSans-114\"/>\n       <use x=\"664.644531\" xlink:href=\"#DejaVuSans-101\"/>\n       <use x=\"726.167969\" xlink:href=\"#DejaVuSans-100\"/>\n       <use x=\"789.644531\" xlink:href=\"#DejaVuSans-105\"/>\n       <use x=\"817.427734\" xlink:href=\"#DejaVuSans-116\"/>\n       <use x=\"856.636719\" xlink:href=\"#DejaVuSans-95\"/>\n       <use x=\"906.636719\" xlink:href=\"#DejaVuSans-97\"/>\n       <use x=\"967.916016\" xlink:href=\"#DejaVuSans-109\"/>\n       <use x=\"1065.328125\" xlink:href=\"#DejaVuSans-111\"/>\n       <use x=\"1126.509766\" xlink:href=\"#DejaVuSans-117\"/>\n       <use x=\"1189.888672\" xlink:href=\"#DejaVuSans-110\"/>\n       <use x=\"1253.267578\" xlink:href=\"#DejaVuSans-116\"/>\n      </g>\n     </g>\n    </g>\n    <g id=\"ytick_7\">\n     <g id=\"line2d_16\">\n      <path clip-path=\"url(#p28ecc6e357)\" d=\"M 226.396875 130.416 \nL 561.196875 130.416 \n\" style=\"fill:none;stroke:#ffffff;stroke-linecap:round;stroke-width:0.8;\"/>\n     </g>\n     <g id=\"text_16\">\n      <!-- duration_-_age -->\n      <defs>\n       <path d=\"M 4.890625 31.390625 \nL 31.203125 31.390625 \nL 31.203125 23.390625 \nL 4.890625 23.390625 \nz\n\" id=\"DejaVuSans-45\"/>\n      </defs>\n      <g style=\"fill:#262626;\" transform=\"translate(145.079688 134.215219)scale(0.1 -0.1)\">\n       <use xlink:href=\"#DejaVuSans-100\"/>\n       <use x=\"63.476562\" xlink:href=\"#DejaVuSans-117\"/>\n       <use x=\"126.855469\" xlink:href=\"#DejaVuSans-114\"/>\n       <use x=\"167.96875\" xlink:href=\"#DejaVuSans-97\"/>\n       <use x=\"229.248047\" xlink:href=\"#DejaVuSans-116\"/>\n       <use x=\"268.457031\" xlink:href=\"#DejaVuSans-105\"/>\n       <use x=\"296.240234\" xlink:href=\"#DejaVuSans-111\"/>\n       <use x=\"357.421875\" xlink:href=\"#DejaVuSans-110\"/>\n       <use x=\"420.800781\" xlink:href=\"#DejaVuSans-95\"/>\n       <use x=\"470.800781\" xlink:href=\"#DejaVuSans-45\"/>\n       <use x=\"506.884766\" xlink:href=\"#DejaVuSans-95\"/>\n       <use x=\"556.884766\" xlink:href=\"#DejaVuSans-97\"/>\n       <use x=\"618.164062\" xlink:href=\"#DejaVuSans-103\"/>\n       <use x=\"681.640625\" xlink:href=\"#DejaVuSans-101\"/>\n      </g>\n     </g>\n    </g>\n    <g id=\"ytick_8\">\n     <g id=\"line2d_17\">\n      <path clip-path=\"url(#p28ecc6e357)\" d=\"M 226.396875 115.92 \nL 561.196875 115.92 \n\" style=\"fill:none;stroke:#ffffff;stroke-linecap:round;stroke-width:0.8;\"/>\n     </g>\n     <g id=\"text_17\">\n      <!-- age_*_credit_amount -->\n      <g style=\"fill:#262626;\" transform=\"translate(113.6 119.719219)scale(0.1 -0.1)\">\n       <use xlink:href=\"#DejaVuSans-97\"/>\n       <use x=\"61.279297\" xlink:href=\"#DejaVuSans-103\"/>\n       <use x=\"124.755859\" xlink:href=\"#DejaVuSans-101\"/>\n       <use x=\"186.279297\" xlink:href=\"#DejaVuSans-95\"/>\n       <use x=\"236.279297\" xlink:href=\"#DejaVuSans-42\"/>\n       <use x=\"286.279297\" xlink:href=\"#DejaVuSans-95\"/>\n       <use x=\"336.279297\" xlink:href=\"#DejaVuSans-99\"/>\n       <use x=\"391.259766\" xlink:href=\"#DejaVuSans-114\"/>\n       <use x=\"430.123047\" xlink:href=\"#DejaVuSans-101\"/>\n       <use x=\"491.646484\" xlink:href=\"#DejaVuSans-100\"/>\n       <use x=\"555.123047\" xlink:href=\"#DejaVuSans-105\"/>\n       <use x=\"582.90625\" xlink:href=\"#DejaVuSans-116\"/>\n       <use x=\"622.115234\" xlink:href=\"#DejaVuSans-95\"/>\n       <use x=\"672.115234\" xlink:href=\"#DejaVuSans-97\"/>\n       <use x=\"733.394531\" xlink:href=\"#DejaVuSans-109\"/>\n       <use x=\"830.806641\" xlink:href=\"#DejaVuSans-111\"/>\n       <use x=\"891.988281\" xlink:href=\"#DejaVuSans-117\"/>\n       <use x=\"955.367188\" xlink:href=\"#DejaVuSans-110\"/>\n       <use x=\"1018.746094\" xlink:href=\"#DejaVuSans-116\"/>\n      </g>\n     </g>\n    </g>\n    <g id=\"ytick_9\">\n     <g id=\"line2d_18\">\n      <path clip-path=\"url(#p28ecc6e357)\" d=\"M 226.396875 101.424 \nL 561.196875 101.424 \n\" style=\"fill:none;stroke:#ffffff;stroke-linecap:round;stroke-width:0.8;\"/>\n     </g>\n     <g id=\"text_18\">\n      <!-- age_/_installment_commitment -->\n      <g style=\"fill:#262626;\" transform=\"translate(62.36875 105.223219)scale(0.1 -0.1)\">\n       <use xlink:href=\"#DejaVuSans-97\"/>\n       <use x=\"61.279297\" xlink:href=\"#DejaVuSans-103\"/>\n       <use x=\"124.755859\" xlink:href=\"#DejaVuSans-101\"/>\n       <use x=\"186.279297\" xlink:href=\"#DejaVuSans-95\"/>\n       <use x=\"236.279297\" xlink:href=\"#DejaVuSans-47\"/>\n       <use x=\"269.970703\" xlink:href=\"#DejaVuSans-95\"/>\n       <use x=\"319.970703\" xlink:href=\"#DejaVuSans-105\"/>\n       <use x=\"347.753906\" xlink:href=\"#DejaVuSans-110\"/>\n       <use x=\"411.132812\" xlink:href=\"#DejaVuSans-115\"/>\n       <use x=\"463.232422\" xlink:href=\"#DejaVuSans-116\"/>\n       <use x=\"502.441406\" xlink:href=\"#DejaVuSans-97\"/>\n       <use x=\"563.720703\" xlink:href=\"#DejaVuSans-108\"/>\n       <use x=\"591.503906\" xlink:href=\"#DejaVuSans-108\"/>\n       <use x=\"619.287109\" xlink:href=\"#DejaVuSans-109\"/>\n       <use x=\"716.699219\" xlink:href=\"#DejaVuSans-101\"/>\n       <use x=\"778.222656\" xlink:href=\"#DejaVuSans-110\"/>\n       <use x=\"841.601562\" xlink:href=\"#DejaVuSans-116\"/>\n       <use x=\"880.810547\" xlink:href=\"#DejaVuSans-95\"/>\n       <use x=\"930.810547\" xlink:href=\"#DejaVuSans-99\"/>\n       <use x=\"985.791016\" xlink:href=\"#DejaVuSans-111\"/>\n       <use x=\"1046.972656\" xlink:href=\"#DejaVuSans-109\"/>\n       <use x=\"1144.384766\" xlink:href=\"#DejaVuSans-109\"/>\n       <use x=\"1241.796875\" xlink:href=\"#DejaVuSans-105\"/>\n       <use x=\"1269.580078\" xlink:href=\"#DejaVuSans-116\"/>\n       <use x=\"1308.789062\" xlink:href=\"#DejaVuSans-109\"/>\n       <use x=\"1406.201172\" xlink:href=\"#DejaVuSans-101\"/>\n       <use x=\"1467.724609\" xlink:href=\"#DejaVuSans-110\"/>\n       <use x=\"1531.103516\" xlink:href=\"#DejaVuSans-116\"/>\n      </g>\n     </g>\n    </g>\n    <g id=\"ytick_10\">\n     <g id=\"line2d_19\">\n      <path clip-path=\"url(#p28ecc6e357)\" d=\"M 226.396875 86.928 \nL 561.196875 86.928 \n\" style=\"fill:none;stroke:#ffffff;stroke-linecap:round;stroke-width:0.8;\"/>\n     </g>\n     <g id=\"text_19\">\n      <!-- existing_credits_*_credit_amount -->\n      <defs>\n       <path d=\"M 54.890625 54.6875 \nL 35.109375 28.078125 \nL 55.90625 0 \nL 45.3125 0 \nL 29.390625 21.484375 \nL 13.484375 0 \nL 2.875 0 \nL 24.125 28.609375 \nL 4.6875 54.6875 \nL 15.28125 54.6875 \nL 29.78125 35.203125 \nL 44.28125 54.6875 \nz\n\" id=\"DejaVuSans-120\"/>\n      </defs>\n      <g style=\"fill:#262626;\" transform=\"translate(54.167188 90.727219)scale(0.1 -0.1)\">\n       <use xlink:href=\"#DejaVuSans-101\"/>\n       <use x=\"59.773438\" xlink:href=\"#DejaVuSans-120\"/>\n       <use x=\"118.953125\" xlink:href=\"#DejaVuSans-105\"/>\n       <use x=\"146.736328\" xlink:href=\"#DejaVuSans-115\"/>\n       <use x=\"198.835938\" xlink:href=\"#DejaVuSans-116\"/>\n       <use x=\"238.044922\" xlink:href=\"#DejaVuSans-105\"/>\n       <use x=\"265.828125\" xlink:href=\"#DejaVuSans-110\"/>\n       <use x=\"329.207031\" xlink:href=\"#DejaVuSans-103\"/>\n       <use x=\"392.683594\" xlink:href=\"#DejaVuSans-95\"/>\n       <use x=\"442.683594\" xlink:href=\"#DejaVuSans-99\"/>\n       <use x=\"497.664062\" xlink:href=\"#DejaVuSans-114\"/>\n       <use x=\"536.527344\" xlink:href=\"#DejaVuSans-101\"/>\n       <use x=\"598.050781\" xlink:href=\"#DejaVuSans-100\"/>\n       <use x=\"661.527344\" xlink:href=\"#DejaVuSans-105\"/>\n       <use x=\"689.310547\" xlink:href=\"#DejaVuSans-116\"/>\n       <use x=\"728.519531\" xlink:href=\"#DejaVuSans-115\"/>\n       <use x=\"780.619141\" xlink:href=\"#DejaVuSans-95\"/>\n       <use x=\"830.619141\" xlink:href=\"#DejaVuSans-42\"/>\n       <use x=\"880.619141\" xlink:href=\"#DejaVuSans-95\"/>\n       <use x=\"930.619141\" xlink:href=\"#DejaVuSans-99\"/>\n       <use x=\"985.599609\" xlink:href=\"#DejaVuSans-114\"/>\n       <use x=\"1024.462891\" xlink:href=\"#DejaVuSans-101\"/>\n       <use x=\"1085.986328\" xlink:href=\"#DejaVuSans-100\"/>\n       <use x=\"1149.462891\" xlink:href=\"#DejaVuSans-105\"/>\n       <use x=\"1177.246094\" xlink:href=\"#DejaVuSans-116\"/>\n       <use x=\"1216.455078\" xlink:href=\"#DejaVuSans-95\"/>\n       <use x=\"1266.455078\" xlink:href=\"#DejaVuSans-97\"/>\n       <use x=\"1327.734375\" xlink:href=\"#DejaVuSans-109\"/>\n       <use x=\"1425.146484\" xlink:href=\"#DejaVuSans-111\"/>\n       <use x=\"1486.328125\" xlink:href=\"#DejaVuSans-117\"/>\n       <use x=\"1549.707031\" xlink:href=\"#DejaVuSans-110\"/>\n       <use x=\"1613.085938\" xlink:href=\"#DejaVuSans-116\"/>\n      </g>\n     </g>\n    </g>\n    <g id=\"ytick_11\">\n     <g id=\"line2d_20\">\n      <path clip-path=\"url(#p28ecc6e357)\" d=\"M 226.396875 72.432 \nL 561.196875 72.432 \n\" style=\"fill:none;stroke:#ffffff;stroke-linecap:round;stroke-width:0.8;\"/>\n     </g>\n     <g id=\"text_20\">\n      <!-- credit_amount_/_duration -->\n      <g style=\"fill:#262626;\" transform=\"translate(91.78125 76.231219)scale(0.1 -0.1)\">\n       <use xlink:href=\"#DejaVuSans-99\"/>\n       <use x=\"54.980469\" xlink:href=\"#DejaVuSans-114\"/>\n       <use x=\"93.84375\" xlink:href=\"#DejaVuSans-101\"/>\n       <use x=\"155.367188\" xlink:href=\"#DejaVuSans-100\"/>\n       <use x=\"218.84375\" xlink:href=\"#DejaVuSans-105\"/>\n       <use x=\"246.626953\" xlink:href=\"#DejaVuSans-116\"/>\n       <use x=\"285.835938\" xlink:href=\"#DejaVuSans-95\"/>\n       <use x=\"335.835938\" xlink:href=\"#DejaVuSans-97\"/>\n       <use x=\"397.115234\" xlink:href=\"#DejaVuSans-109\"/>\n       <use x=\"494.527344\" xlink:href=\"#DejaVuSans-111\"/>\n       <use x=\"555.708984\" xlink:href=\"#DejaVuSans-117\"/>\n       <use x=\"619.087891\" xlink:href=\"#DejaVuSans-110\"/>\n       <use x=\"682.466797\" xlink:href=\"#DejaVuSans-116\"/>\n       <use x=\"721.675781\" xlink:href=\"#DejaVuSans-95\"/>\n       <use x=\"771.675781\" xlink:href=\"#DejaVuSans-47\"/>\n       <use x=\"805.367188\" xlink:href=\"#DejaVuSans-95\"/>\n       <use x=\"855.367188\" xlink:href=\"#DejaVuSans-100\"/>\n       <use x=\"918.84375\" xlink:href=\"#DejaVuSans-117\"/>\n       <use x=\"982.222656\" xlink:href=\"#DejaVuSans-114\"/>\n       <use x=\"1023.335938\" xlink:href=\"#DejaVuSans-97\"/>\n       <use x=\"1084.615234\" xlink:href=\"#DejaVuSans-116\"/>\n       <use x=\"1123.824219\" xlink:href=\"#DejaVuSans-105\"/>\n       <use x=\"1151.607422\" xlink:href=\"#DejaVuSans-111\"/>\n       <use x=\"1212.789062\" xlink:href=\"#DejaVuSans-110\"/>\n      </g>\n     </g>\n    </g>\n    <g id=\"ytick_12\">\n     <g id=\"line2d_21\">\n      <path clip-path=\"url(#p28ecc6e357)\" d=\"M 226.396875 57.936 \nL 561.196875 57.936 \n\" style=\"fill:none;stroke:#ffffff;stroke-linecap:round;stroke-width:0.8;\"/>\n     </g>\n     <g id=\"text_21\">\n      <!-- residence_since_*_credit_amount -->\n      <g style=\"fill:#262626;\" transform=\"translate(52.735938 61.735219)scale(0.1 -0.1)\">\n       <use xlink:href=\"#DejaVuSans-114\"/>\n       <use x=\"38.863281\" xlink:href=\"#DejaVuSans-101\"/>\n       <use x=\"100.386719\" xlink:href=\"#DejaVuSans-115\"/>\n       <use x=\"152.486328\" xlink:href=\"#DejaVuSans-105\"/>\n       <use x=\"180.269531\" xlink:href=\"#DejaVuSans-100\"/>\n       <use x=\"243.746094\" xlink:href=\"#DejaVuSans-101\"/>\n       <use x=\"305.269531\" xlink:href=\"#DejaVuSans-110\"/>\n       <use x=\"368.648438\" xlink:href=\"#DejaVuSans-99\"/>\n       <use x=\"423.628906\" xlink:href=\"#DejaVuSans-101\"/>\n       <use x=\"485.152344\" xlink:href=\"#DejaVuSans-95\"/>\n       <use x=\"535.152344\" xlink:href=\"#DejaVuSans-115\"/>\n       <use x=\"587.251953\" xlink:href=\"#DejaVuSans-105\"/>\n       <use x=\"615.035156\" xlink:href=\"#DejaVuSans-110\"/>\n       <use x=\"678.414062\" xlink:href=\"#DejaVuSans-99\"/>\n       <use x=\"733.394531\" xlink:href=\"#DejaVuSans-101\"/>\n       <use x=\"794.917969\" xlink:href=\"#DejaVuSans-95\"/>\n       <use x=\"844.917969\" xlink:href=\"#DejaVuSans-42\"/>\n       <use x=\"894.917969\" xlink:href=\"#DejaVuSans-95\"/>\n       <use x=\"944.917969\" xlink:href=\"#DejaVuSans-99\"/>\n       <use x=\"999.898438\" xlink:href=\"#DejaVuSans-114\"/>\n       <use x=\"1038.761719\" xlink:href=\"#DejaVuSans-101\"/>\n       <use x=\"1100.285156\" xlink:href=\"#DejaVuSans-100\"/>\n       <use x=\"1163.761719\" xlink:href=\"#DejaVuSans-105\"/>\n       <use x=\"1191.544922\" xlink:href=\"#DejaVuSans-116\"/>\n       <use x=\"1230.753906\" xlink:href=\"#DejaVuSans-95\"/>\n       <use x=\"1280.753906\" xlink:href=\"#DejaVuSans-97\"/>\n       <use x=\"1342.033203\" xlink:href=\"#DejaVuSans-109\"/>\n       <use x=\"1439.445312\" xlink:href=\"#DejaVuSans-111\"/>\n       <use x=\"1500.626953\" xlink:href=\"#DejaVuSans-117\"/>\n       <use x=\"1564.005859\" xlink:href=\"#DejaVuSans-110\"/>\n       <use x=\"1627.384766\" xlink:href=\"#DejaVuSans-116\"/>\n      </g>\n     </g>\n    </g>\n    <g id=\"ytick_13\">\n     <g id=\"line2d_22\">\n      <path clip-path=\"url(#p28ecc6e357)\" d=\"M 226.396875 43.44 \nL 561.196875 43.44 \n\" style=\"fill:none;stroke:#ffffff;stroke-linecap:round;stroke-width:0.8;\"/>\n     </g>\n     <g id=\"text_22\">\n      <!-- age_/_credit_amount -->\n      <g style=\"fill:#262626;\" transform=\"translate(115.23125 47.239219)scale(0.1 -0.1)\">\n       <use xlink:href=\"#DejaVuSans-97\"/>\n       <use x=\"61.279297\" xlink:href=\"#DejaVuSans-103\"/>\n       <use x=\"124.755859\" xlink:href=\"#DejaVuSans-101\"/>\n       <use x=\"186.279297\" xlink:href=\"#DejaVuSans-95\"/>\n       <use x=\"236.279297\" xlink:href=\"#DejaVuSans-47\"/>\n       <use x=\"269.970703\" xlink:href=\"#DejaVuSans-95\"/>\n       <use x=\"319.970703\" xlink:href=\"#DejaVuSans-99\"/>\n       <use x=\"374.951172\" xlink:href=\"#DejaVuSans-114\"/>\n       <use x=\"413.814453\" xlink:href=\"#DejaVuSans-101\"/>\n       <use x=\"475.337891\" xlink:href=\"#DejaVuSans-100\"/>\n       <use x=\"538.814453\" xlink:href=\"#DejaVuSans-105\"/>\n       <use x=\"566.597656\" xlink:href=\"#DejaVuSans-116\"/>\n       <use x=\"605.806641\" xlink:href=\"#DejaVuSans-95\"/>\n       <use x=\"655.806641\" xlink:href=\"#DejaVuSans-97\"/>\n       <use x=\"717.085938\" xlink:href=\"#DejaVuSans-109\"/>\n       <use x=\"814.498047\" xlink:href=\"#DejaVuSans-111\"/>\n       <use x=\"875.679688\" xlink:href=\"#DejaVuSans-117\"/>\n       <use x=\"939.058594\" xlink:href=\"#DejaVuSans-110\"/>\n       <use x=\"1002.4375\" xlink:href=\"#DejaVuSans-116\"/>\n      </g>\n     </g>\n    </g>\n    <g id=\"ytick_14\">\n     <g id=\"line2d_23\">\n      <path clip-path=\"url(#p28ecc6e357)\" d=\"M 226.396875 28.944 \nL 561.196875 28.944 \n\" style=\"fill:none;stroke:#ffffff;stroke-linecap:round;stroke-width:0.8;\"/>\n     </g>\n     <g id=\"text_23\">\n      <!-- existing_credits_*_age -->\n      <g style=\"fill:#262626;\" transform=\"translate(107.704688 32.743219)scale(0.1 -0.1)\">\n       <use xlink:href=\"#DejaVuSans-101\"/>\n       <use x=\"59.773438\" xlink:href=\"#DejaVuSans-120\"/>\n       <use x=\"118.953125\" xlink:href=\"#DejaVuSans-105\"/>\n       <use x=\"146.736328\" xlink:href=\"#DejaVuSans-115\"/>\n       <use x=\"198.835938\" xlink:href=\"#DejaVuSans-116\"/>\n       <use x=\"238.044922\" xlink:href=\"#DejaVuSans-105\"/>\n       <use x=\"265.828125\" xlink:href=\"#DejaVuSans-110\"/>\n       <use x=\"329.207031\" xlink:href=\"#DejaVuSans-103\"/>\n       <use x=\"392.683594\" xlink:href=\"#DejaVuSans-95\"/>\n       <use x=\"442.683594\" xlink:href=\"#DejaVuSans-99\"/>\n       <use x=\"497.664062\" xlink:href=\"#DejaVuSans-114\"/>\n       <use x=\"536.527344\" xlink:href=\"#DejaVuSans-101\"/>\n       <use x=\"598.050781\" xlink:href=\"#DejaVuSans-100\"/>\n       <use x=\"661.527344\" xlink:href=\"#DejaVuSans-105\"/>\n       <use x=\"689.310547\" xlink:href=\"#DejaVuSans-116\"/>\n       <use x=\"728.519531\" xlink:href=\"#DejaVuSans-115\"/>\n       <use x=\"780.619141\" xlink:href=\"#DejaVuSans-95\"/>\n       <use x=\"830.619141\" xlink:href=\"#DejaVuSans-42\"/>\n       <use x=\"880.619141\" xlink:href=\"#DejaVuSans-95\"/>\n       <use x=\"930.619141\" xlink:href=\"#DejaVuSans-97\"/>\n       <use x=\"991.898438\" xlink:href=\"#DejaVuSans-103\"/>\n       <use x=\"1055.375\" xlink:href=\"#DejaVuSans-101\"/>\n      </g>\n     </g>\n    </g>\n    <g id=\"ytick_15\">\n     <g id=\"line2d_24\">\n      <path clip-path=\"url(#p28ecc6e357)\" d=\"M 226.396875 14.448 \nL 561.196875 14.448 \n\" style=\"fill:none;stroke:#ffffff;stroke-linecap:round;stroke-width:0.8;\"/>\n     </g>\n     <g id=\"text_24\">\n      <!-- duration_*_installment_commitment -->\n      <g style=\"fill:#262626;\" transform=\"translate(37.2875 18.247219)scale(0.1 -0.1)\">\n       <use xlink:href=\"#DejaVuSans-100\"/>\n       <use x=\"63.476562\" xlink:href=\"#DejaVuSans-117\"/>\n       <use x=\"126.855469\" xlink:href=\"#DejaVuSans-114\"/>\n       <use x=\"167.96875\" xlink:href=\"#DejaVuSans-97\"/>\n       <use x=\"229.248047\" xlink:href=\"#DejaVuSans-116\"/>\n       <use x=\"268.457031\" xlink:href=\"#DejaVuSans-105\"/>\n       <use x=\"296.240234\" xlink:href=\"#DejaVuSans-111\"/>\n       <use x=\"357.421875\" xlink:href=\"#DejaVuSans-110\"/>\n       <use x=\"420.800781\" xlink:href=\"#DejaVuSans-95\"/>\n       <use x=\"470.800781\" xlink:href=\"#DejaVuSans-42\"/>\n       <use x=\"520.800781\" xlink:href=\"#DejaVuSans-95\"/>\n       <use x=\"570.800781\" xlink:href=\"#DejaVuSans-105\"/>\n       <use x=\"598.583984\" xlink:href=\"#DejaVuSans-110\"/>\n       <use x=\"661.962891\" xlink:href=\"#DejaVuSans-115\"/>\n       <use x=\"714.0625\" xlink:href=\"#DejaVuSans-116\"/>\n       <use x=\"753.271484\" xlink:href=\"#DejaVuSans-97\"/>\n       <use x=\"814.550781\" xlink:href=\"#DejaVuSans-108\"/>\n       <use x=\"842.333984\" xlink:href=\"#DejaVuSans-108\"/>\n       <use x=\"870.117188\" xlink:href=\"#DejaVuSans-109\"/>\n       <use x=\"967.529297\" xlink:href=\"#DejaVuSans-101\"/>\n       <use x=\"1029.052734\" xlink:href=\"#DejaVuSans-110\"/>\n       <use x=\"1092.431641\" xlink:href=\"#DejaVuSans-116\"/>\n       <use x=\"1131.640625\" xlink:href=\"#DejaVuSans-95\"/>\n       <use x=\"1181.640625\" xlink:href=\"#DejaVuSans-99\"/>\n       <use x=\"1236.621094\" xlink:href=\"#DejaVuSans-111\"/>\n       <use x=\"1297.802734\" xlink:href=\"#DejaVuSans-109\"/>\n       <use x=\"1395.214844\" xlink:href=\"#DejaVuSans-109\"/>\n       <use x=\"1492.626953\" xlink:href=\"#DejaVuSans-105\"/>\n       <use x=\"1520.410156\" xlink:href=\"#DejaVuSans-116\"/>\n       <use x=\"1559.619141\" xlink:href=\"#DejaVuSans-109\"/>\n       <use x=\"1657.03125\" xlink:href=\"#DejaVuSans-101\"/>\n       <use x=\"1718.554688\" xlink:href=\"#DejaVuSans-110\"/>\n       <use x=\"1781.933594\" xlink:href=\"#DejaVuSans-116\"/>\n      </g>\n     </g>\n    </g>\n   </g>\n   <g id=\"patch_3\">\n    <path clip-path=\"url(#p28ecc6e357)\" d=\"M 226.396875 221.016 \nL 545.254018 221.016 \nL 545.254018 213.768 \nL 226.396875 213.768 \nz\n\" style=\"fill:#1f77b4;stroke:#ffffff;stroke-linejoin:miter;\"/>\n   </g>\n   <g id=\"patch_4\">\n    <path clip-path=\"url(#p28ecc6e357)\" d=\"M 226.396875 206.52 \nL 383.272219 206.52 \nL 383.272219 199.272 \nL 226.396875 199.272 \nz\n\" style=\"fill:#1f77b4;stroke:#ffffff;stroke-linejoin:miter;\"/>\n   </g>\n   <g id=\"patch_5\">\n    <path clip-path=\"url(#p28ecc6e357)\" d=\"M 226.396875 192.024 \nL 363.487592 192.024 \nL 363.487592 184.776 \nL 226.396875 184.776 \nz\n\" style=\"fill:#1f77b4;stroke:#ffffff;stroke-linejoin:miter;\"/>\n   </g>\n   <g id=\"patch_6\">\n    <path clip-path=\"url(#p28ecc6e357)\" d=\"M 226.396875 177.528 \nL 353.915038 177.528 \nL 353.915038 170.28 \nL 226.396875 170.28 \nz\n\" style=\"fill:#1f77b4;stroke:#ffffff;stroke-linejoin:miter;\"/>\n   </g>\n   <g id=\"patch_7\">\n    <path clip-path=\"url(#p28ecc6e357)\" d=\"M 226.396875 163.032 \nL 335.123823 163.032 \nL 335.123823 155.784 \nL 226.396875 155.784 \nz\n\" style=\"fill:#1f77b4;stroke:#ffffff;stroke-linejoin:miter;\"/>\n   </g>\n   <g id=\"patch_8\">\n    <path clip-path=\"url(#p28ecc6e357)\" d=\"M 226.396875 148.536 \nL 324.844498 148.536 \nL 324.844498 141.288 \nL 226.396875 141.288 \nz\n\" style=\"fill:#1f77b4;stroke:#ffffff;stroke-linejoin:miter;\"/>\n   </g>\n   <g id=\"patch_9\">\n    <path clip-path=\"url(#p28ecc6e357)\" d=\"M 226.396875 134.04 \nL 324.300659 134.04 \nL 324.300659 126.792 \nL 226.396875 126.792 \nz\n\" style=\"fill:#1f77b4;stroke:#ffffff;stroke-linejoin:miter;\"/>\n   </g>\n   <g id=\"patch_10\">\n    <path clip-path=\"url(#p28ecc6e357)\" d=\"M 226.396875 119.544 \nL 321.858149 119.544 \nL 321.858149 112.296 \nL 226.396875 112.296 \nz\n\" style=\"fill:#1f77b4;stroke:#ffffff;stroke-linejoin:miter;\"/>\n   </g>\n   <g id=\"patch_11\">\n    <path clip-path=\"url(#p28ecc6e357)\" d=\"M 226.396875 105.048 \nL 307.178305 105.048 \nL 307.178305 97.8 \nL 226.396875 97.8 \nz\n\" style=\"fill:#1f77b4;stroke:#ffffff;stroke-linejoin:miter;\"/>\n   </g>\n   <g id=\"patch_12\">\n    <path clip-path=\"url(#p28ecc6e357)\" d=\"M 226.396875 90.552 \nL 306.959227 90.552 \nL 306.959227 83.304 \nL 226.396875 83.304 \nz\n\" style=\"fill:#1f77b4;stroke:#ffffff;stroke-linejoin:miter;\"/>\n   </g>\n   <g id=\"patch_13\">\n    <path clip-path=\"url(#p28ecc6e357)\" d=\"M 226.396875 76.056 \nL 306.223373 76.056 \nL 306.223373 68.808 \nL 226.396875 68.808 \nz\n\" style=\"fill:#1f77b4;stroke:#ffffff;stroke-linejoin:miter;\"/>\n   </g>\n   <g id=\"patch_14\">\n    <path clip-path=\"url(#p28ecc6e357)\" d=\"M 226.396875 61.56 \nL 304.411463 61.56 \nL 304.411463 54.312 \nL 226.396875 54.312 \nz\n\" style=\"fill:#1f77b4;stroke:#ffffff;stroke-linejoin:miter;\"/>\n   </g>\n   <g id=\"patch_15\">\n    <path clip-path=\"url(#p28ecc6e357)\" d=\"M 226.396875 47.064 \nL 304.118878 47.064 \nL 304.118878 39.816 \nL 226.396875 39.816 \nz\n\" style=\"fill:#1f77b4;stroke:#ffffff;stroke-linejoin:miter;\"/>\n   </g>\n   <g id=\"patch_16\">\n    <path clip-path=\"url(#p28ecc6e357)\" d=\"M 226.396875 32.568 \nL 299.266808 32.568 \nL 299.266808 25.32 \nL 226.396875 25.32 \nz\n\" style=\"fill:#1f77b4;stroke:#ffffff;stroke-linejoin:miter;\"/>\n   </g>\n   <g id=\"patch_17\">\n    <path clip-path=\"url(#p28ecc6e357)\" d=\"M 226.396875 18.072 \nL 298.236945 18.072 \nL 298.236945 10.824 \nL 226.396875 10.824 \nz\n\" style=\"fill:#1f77b4;stroke:#ffffff;stroke-linejoin:miter;\"/>\n   </g>\n   <g id=\"patch_18\">\n    <path d=\"M 226.396875 224.64 \nL 226.396875 7.2 \n\" style=\"fill:none;stroke:#ffffff;stroke-linecap:square;stroke-linejoin:miter;stroke-width:0.8;\"/>\n   </g>\n   <g id=\"patch_19\">\n    <path d=\"M 561.196875 224.64 \nL 561.196875 7.2 \n\" style=\"fill:none;stroke:#ffffff;stroke-linecap:square;stroke-linejoin:miter;stroke-width:0.8;\"/>\n   </g>\n   <g id=\"patch_20\">\n    <path d=\"M 226.396875 224.64 \nL 561.196875 224.64 \n\" style=\"fill:none;stroke:#ffffff;stroke-linecap:square;stroke-linejoin:miter;stroke-width:0.8;\"/>\n   </g>\n   <g id=\"patch_21\">\n    <path d=\"M 226.396875 7.2 \nL 561.196875 7.2 \n\" style=\"fill:none;stroke:#ffffff;stroke-linecap:square;stroke-linejoin:miter;stroke-width:0.8;\"/>\n   </g>\n   <g id=\"legend_1\">\n    <g id=\"patch_22\">\n     <path d=\"M 494.88125 29.878125 \nL 554.196875 29.878125 \nQ 556.196875 29.878125 556.196875 27.878125 \nL 556.196875 14.2 \nQ 556.196875 12.2 554.196875 12.2 \nL 494.88125 12.2 \nQ 492.88125 12.2 492.88125 14.2 \nL 492.88125 27.878125 \nQ 492.88125 29.878125 494.88125 29.878125 \nz\n\" style=\"fill:#eaeaf2;opacity:0.8;stroke:#cccccc;stroke-linejoin:miter;\"/>\n    </g>\n    <g id=\"patch_23\">\n     <path d=\"M 496.88125 23.798437 \nL 516.88125 23.798437 \nL 516.88125 16.798437 \nL 496.88125 16.798437 \nz\n\" style=\"fill:#1f77b4;stroke:#ffffff;stroke-linejoin:miter;\"/>\n    </g>\n    <g id=\"text_25\">\n     <!-- value -->\n     <defs>\n      <path d=\"M 2.984375 54.6875 \nL 12.5 54.6875 \nL 29.59375 8.796875 \nL 46.6875 54.6875 \nL 56.203125 54.6875 \nL 35.6875 0 \nL 23.484375 0 \nz\n\" id=\"DejaVuSans-118\"/>\n     </defs>\n     <g style=\"fill:#262626;\" transform=\"translate(524.88125 23.798437)scale(0.1 -0.1)\">\n      <use xlink:href=\"#DejaVuSans-118\"/>\n      <use x=\"59.179688\" xlink:href=\"#DejaVuSans-97\"/>\n      <use x=\"120.458984\" xlink:href=\"#DejaVuSans-108\"/>\n      <use x=\"148.242188\" xlink:href=\"#DejaVuSans-117\"/>\n      <use x=\"211.621094\" xlink:href=\"#DejaVuSans-101\"/>\n     </g>\n    </g>\n   </g>\n  </g>\n </g>\n <defs>\n  <clipPath id=\"p28ecc6e357\">\n   <rect height=\"217.44\" width=\"334.8\" x=\"226.396875\" y=\"7.2\"/>\n  </clipPath>\n </defs>\n</svg>\n",
            "image/png": "[encoded data removed]"
          },
          "metadata": {}
        }
      ],
      "source": [
        "feature_importance.sort_values(by='value', ascending=False)[:15].plot(kind='barh')"
      ]
    },
    {
      "source": [
        "### Save & Load CV!\n",
        "export of cross-validation settings, including trained models and their settings"
      ],
      "cell_type": "markdown",
      "metadata": {}
    },
    {
      "cell_type": "code",
      "execution_count": 25,
      "metadata": {},
      "outputs": [
        {
          "output_type": "stream",
          "name": "stdout",
          "text": [
            "Test AUC:  0.8128\n"
          ]
        }
      ],
      "source": [
        "predicts = cv.predict_test(X_test)\n",
        "print('Test AUC: ', round(sklearn.metrics.roc_auc_score(y_test, predicts),4))"
      ]
    },
    {
      "cell_type": "code",
      "execution_count": 26,
      "metadata": {},
      "outputs": [
        {
          "output_type": "stream",
          "name": "stdout",
          "text": [
            "Save CrossValidation\n"
          ]
        }
      ],
      "source": [
        "cv.save('cv_1',)"
      ]
    },
    {
      "cell_type": "code",
      "execution_count": 27,
      "metadata": {},
      "outputs": [],
      "source": [
        "cv_2 = CrossValidation(estimator=model,)"
      ]
    },
    {
      "cell_type": "code",
      "execution_count": 28,
      "metadata": {},
      "outputs": [
        {
          "output_type": "stream",
          "name": "stdout",
          "text": [
            "Finished loading model, total used 300 iterations\n",
            "Finished loading model, total used 300 iterations\n",
            "Finished loading model, total used 300 iterations\n",
            "Finished loading model, total used 300 iterations\n",
            "Finished loading model, total used 300 iterations\n",
            "Finished loading model, total used 300 iterations\n",
            "Finished loading model, total used 300 iterations\n",
            "Finished loading model, total used 300 iterations\n",
            "Finished loading model, total used 300 iterations\n",
            "Finished loading model, total used 300 iterations\n",
            "Load CrossValidation\n"
          ]
        }
      ],
      "source": [
        "cv_2 = cv_2.load('cv_1',)"
      ]
    },
    {
      "cell_type": "code",
      "execution_count": 29,
      "metadata": {},
      "outputs": [
        {
          "output_type": "stream",
          "name": "stdout",
          "text": [
            "Test AUC:  0.8128\n"
          ]
        }
      ],
      "source": [
        "predicts = cv_2.predict_test(X_test)\n",
        "print('Test AUC: ', round(sklearn.metrics.roc_auc_score(y_test, predicts),4))"
      ]
    },
    {
      "source": [
        "## Optimizing Parameters\n",
        "In this library, I tried to simplify the process of optimizing and iterating parameters as much as possible. You just specify how much time you are willing to spend on optimization, and the library will select the rules for cross-validation, optimization depth, and other optimization parameters based on this time. The more time you give it, the better it will be able to select parameters.    \n",
        "\n",
        "[RUS]\n",
        "В этой библиотеке я постарался максимально упростить процесс оптимизации и перебора параметров. Вы просто указываете сколько вы готовы потратить времени на оптимизацию, а библиотека сама подберет правила кроссвалидации, глубины оптимизации и прочии параметры оптимизации исходя из этого времени. Чем больше времени вы ей дадите, тем более качественней она сможет подобрать параметры."
      ],
      "cell_type": "markdown",
      "metadata": {}
    },
    {
      "cell_type": "code",
      "execution_count": 30,
      "metadata": {
        "tags": []
      },
      "outputs": [
        {
          "output_type": "stream",
          "name": "stderr",
          "text": [
            "22:37:30 | ##################################################\n",
            "22:37:30 | > Step 1: calc parameters and pruned score: get test 10 trials\n",
            "22:38:29 |  One iteration ~ 5.9 sec\n",
            "22:38:29 |  Possible iters ~ 102.0\n",
            "22:38:29 | --------------------------------------------------\n",
            "22:38:29 |   Pruned Threshold Score: 0.6608\n",
            "22:38:29 | ##################################################\n",
            "22:38:29 | > Step 2: Full opt with Threshold Score Pruner\n",
            "22:38:29 | ##################################################\n",
            "22:38:29 | > Start optimization with the parameters:\n",
            "22:38:29 | CV_Folds = 10\n",
            "22:38:29 | Score_CV_Folds = 2\n",
            "22:38:29 | Feature_Selection = False\n",
            "22:38:29 | Opt_lvl = 2\n",
            "22:38:29 | Cold_start = 20\n",
            "22:38:29 | Early_stoping = 30\n",
            "22:38:29 | Metric = roc_auc_score\n",
            "22:38:29 | Direction = maximize\n",
            "22:38:29 | ##################################################\n",
            "Optimize: : 229it [10:02,  2.63s/it, | Model: LightGBM | OptScore: 0.7047 | Best roc_auc_score: 0.72 ]\n",
            "22:48:31 | \n",
            " EarlyStopping Exceeded: Best Score: 0.72 roc_auc_score\n",
            "22:48:31 | > Finish Opt!\n",
            "Finished loading model, total used 400 iterations\n",
            "Finished loading model, total used 400 iterations\n",
            "Finished loading model, total used 400 iterations\n",
            "Finished loading model, total used 400 iterations\n",
            "Finished loading model, total used 400 iterations\n",
            "Finished loading model, total used 400 iterations\n",
            "Finished loading model, total used 400 iterations\n",
            "Finished loading model, total used 400 iterations\n",
            "Finished loading model, total used 400 iterations\n",
            "Finished loading model, total used 400 iterations\n",
            "22:48:40 | Best Score: 0.72 roc_auc_score\n"
          ]
        }
      ],
      "source": [
        "history = model.opt(\n",
        "    X=X_train,\n",
        "    y=y_train,\n",
        "    timeout=600, # optimization time in seconds,\n",
        "    verbose=3\n",
        "    )"
      ]
    },
    {
      "cell_type": "code",
      "execution_count": 31,
      "metadata": {},
      "outputs": [
        {
          "output_type": "execute_result",
          "data": {
            "text/plain": [
              "{'random_seed': 42,\n",
              " 'num_iterations': 400,\n",
              " 'verbose': -1,\n",
              " 'device_type': 'cpu',\n",
              " 'objective': 'binary',\n",
              " 'min_child_samples': 6,\n",
              " 'learning_rate': 0.12269270270460732,\n",
              " 'num_leaves': 2,\n",
              " 'bagging_fraction': 0.6000000000000001,\n",
              " 'feature_fraction': 0.9,\n",
              " 'bagging_freq': 7}"
            ]
          },
          "metadata": {},
          "execution_count": 31
        }
      ],
      "source": [
        "model.model_param"
      ]
    },
    {
      "cell_type": "code",
      "execution_count": 32,
      "metadata": {},
      "outputs": [
        {
          "output_type": "stream",
          "name": "stdout",
          "text": [
            "Test AUC:  0.6876\n"
          ]
        }
      ],
      "source": [
        "model.fit(X_train, y_train)\n",
        "predicts = model.predict(X_test)\n",
        "print('Test AUC: ', round(sklearn.metrics.roc_auc_score(y_test, predicts),4))"
      ]
    },
    {
      "cell_type": "code",
      "execution_count": 33,
      "metadata": {},
      "outputs": [
        {
          "output_type": "execute_result",
          "data": {
            "text/plain": [
              "   number   value             datetime_start          datetime_complete  \\\n",
              "0       0  0.6518 2021-03-01 22:37:30.829166 2021-03-01 22:37:39.726329   \n",
              "1       1  0.4762 2021-03-01 22:37:39.800669 2021-03-01 22:37:43.132837   \n",
              "2       2  0.6318 2021-03-01 22:37:43.181912 2021-03-01 22:37:49.326859   \n",
              "3       3  0.6836 2021-03-01 22:37:49.446232 2021-03-01 22:37:51.490345   \n",
              "4       4  0.6629 2021-03-01 22:37:51.555038 2021-03-01 22:37:56.967121   \n",
              "\n",
              "                duration  params_lgbm_bagging_fraction  \\\n",
              "0 0 days 00:00:08.897163                           0.8   \n",
              "1 0 days 00:00:03.332168                           0.4   \n",
              "2 0 days 00:00:06.144947                           0.7   \n",
              "3 0 days 00:00:02.044113                           0.7   \n",
              "4 0 days 00:00:05.412083                           0.8   \n",
              "\n",
              "   params_lgbm_bagging_freq  params_lgbm_feature_fraction  \\\n",
              "0                       8.0                           0.7   \n",
              "1                       7.0                           1.0   \n",
              "2                       2.0                           0.7   \n",
              "3                       4.0                           0.9   \n",
              "4                       8.0                           0.5   \n",
              "\n",
              "   params_lgbm_learning_rate  params_lgbm_min_child_samples  \\\n",
              "0                   0.253700                              7   \n",
              "1                   0.190304                              2   \n",
              "2                   0.292157                              2   \n",
              "3                   0.038962                             14   \n",
              "4                   0.283368                              7   \n",
              "\n",
              "   params_lgbm_num_iterations  params_lgbm_num_leaves     state  \n",
              "0                         300                      20  COMPLETE  \n",
              "1                         500                      12  COMPLETE  \n",
              "2                         400                      13  COMPLETE  \n",
              "3                         500                       2  COMPLETE  \n",
              "4                         300                       8  COMPLETE  "
            ],
            "text/html": "<div>\n<style scoped>\n    .dataframe tbody tr th:only-of-type {\n        vertical-align: middle;\n    }\n\n    .dataframe tbody tr th {\n        vertical-align: top;\n    }\n\n    .dataframe thead th {\n        text-align: right;\n    }\n</style>\n<table border=\"1\" class=\"dataframe\">\n  <thead>\n    <tr style=\"text-align: right;\">\n      <th></th>\n      <th>number</th>\n      <th>value</th>\n      <th>datetime_start</th>\n      <th>datetime_complete</th>\n      <th>duration</th>\n      <th>params_lgbm_bagging_fraction</th>\n      <th>params_lgbm_bagging_freq</th>\n      <th>params_lgbm_feature_fraction</th>\n      <th>params_lgbm_learning_rate</th>\n      <th>params_lgbm_min_child_samples</th>\n      <th>params_lgbm_num_iterations</th>\n      <th>params_lgbm_num_leaves</th>\n      <th>state</th>\n    </tr>\n  </thead>\n  <tbody>\n    <tr>\n      <th>0</th>\n      <td>0</td>\n      <td>0.6518</td>\n      <td>2021-03-01 22:37:30.829166</td>\n      <td>2021-03-01 22:37:39.726329</td>\n      <td>0 days 00:00:08.897163</td>\n      <td>0.8</td>\n      <td>8.0</td>\n      <td>0.7</td>\n      <td>0.253700</td>\n      <td>7</td>\n      <td>300</td>\n      <td>20</td>\n      <td>COMPLETE</td>\n    </tr>\n    <tr>\n      <th>1</th>\n      <td>1</td>\n      <td>0.4762</td>\n      <td>2021-03-01 22:37:39.800669</td>\n      <td>2021-03-01 22:37:43.132837</td>\n      <td>0 days 00:00:03.332168</td>\n      <td>0.4</td>\n      <td>7.0</td>\n      <td>1.0</td>\n      <td>0.190304</td>\n      <td>2</td>\n      <td>500</td>\n      <td>12</td>\n      <td>COMPLETE</td>\n    </tr>\n    <tr>\n      <th>2</th>\n      <td>2</td>\n      <td>0.6318</td>\n      <td>2021-03-01 22:37:43.181912</td>\n      <td>2021-03-01 22:37:49.326859</td>\n      <td>0 days 00:00:06.144947</td>\n      <td>0.7</td>\n      <td>2.0</td>\n      <td>0.7</td>\n      <td>0.292157</td>\n      <td>2</td>\n      <td>400</td>\n      <td>13</td>\n      <td>COMPLETE</td>\n    </tr>\n    <tr>\n      <th>3</th>\n      <td>3</td>\n      <td>0.6836</td>\n      <td>2021-03-01 22:37:49.446232</td>\n      <td>2021-03-01 22:37:51.490345</td>\n      <td>0 days 00:00:02.044113</td>\n      <td>0.7</td>\n      <td>4.0</td>\n      <td>0.9</td>\n      <td>0.038962</td>\n      <td>14</td>\n      <td>500</td>\n      <td>2</td>\n      <td>COMPLETE</td>\n    </tr>\n    <tr>\n      <th>4</th>\n      <td>4</td>\n      <td>0.6629</td>\n      <td>2021-03-01 22:37:51.555038</td>\n      <td>2021-03-01 22:37:56.967121</td>\n      <td>0 days 00:00:05.412083</td>\n      <td>0.8</td>\n      <td>8.0</td>\n      <td>0.5</td>\n      <td>0.283368</td>\n      <td>7</td>\n      <td>300</td>\n      <td>8</td>\n      <td>COMPLETE</td>\n    </tr>\n  </tbody>\n</table>\n</div>"
          },
          "metadata": {},
          "execution_count": 33
        }
      ],
      "source": [
        "history.head(5)"
      ]
    },
    {
      "cell_type": "code",
      "execution_count": 34,
      "metadata": {},
      "outputs": [
        {
          "output_type": "display_data",
          "data": {
            "application/vnd.plotly.v1+json": {
              "config": {
                "plotlyServerURL": "https://plot.ly"
              },
              "data": [
                {
                  "mode": "markers",
                  "name": "Objective Value",
                  "type": "scatter",
                  "x": [
                    0,
                    1,
                    2,
                    3,
                    4,
                    5,
                    6,
                    7,
                    8,
                    9,
                    10,
                    11,
                    13,
                    14,
                    15,
                    16,
                    18,
                    19,
                    21,
                    23,
                    24,
                    25,
                    26,
                    27,
                    28,
                    30,
                    31,
                    32,
                    33,
                    34,
                    35,
                    36,
                    37,
                    38,
                    39,
                    40,
                    41,
                    42,
                    43,
                    44,
                    45,
                    46,
                    47,
                    48,
                    49,
                    50,
                    51,
                    52,
                    53,
                    54,
                    55,
                    56,
                    57,
                    58,
                    59,
                    60,
                    61,
                    62,
                    63,
                    64,
                    65,
                    66,
                    67,
                    68,
                    69,
                    70,
                    71,
                    72,
                    73,
                    74,
                    75,
                    76,
                    77,
                    78,
                    79,
                    80,
                    81,
                    82,
                    83,
                    84,
                    85,
                    86,
                    87,
                    88,
                    89,
                    90,
                    91,
                    92,
                    93,
                    94,
                    95,
                    96,
                    97,
                    98,
                    99,
                    100,
                    101,
                    102,
                    103,
                    104,
                    105,
                    106,
                    107,
                    108,
                    109,
                    110,
                    111,
                    112,
                    113,
                    114,
                    115,
                    116,
                    117,
                    118,
                    119,
                    120,
                    121,
                    122,
                    123,
                    124,
                    125,
                    126,
                    127,
                    128,
                    129,
                    130,
                    131,
                    132,
                    133,
                    134,
                    135,
                    136,
                    137,
                    138,
                    139,
                    140,
                    141,
                    142,
                    143,
                    144,
                    145,
                    146,
                    147,
                    148,
                    149,
                    150,
                    151,
                    152,
                    153,
                    154,
                    155,
                    156,
                    157,
                    158,
                    159,
                    160,
                    161,
                    162,
                    163,
                    164,
                    165,
                    166,
                    167,
                    168,
                    169,
                    170,
                    171,
                    172,
                    173,
                    174,
                    175,
                    176,
                    177,
                    178,
                    179,
                    180,
                    181,
                    182,
                    183,
                    184,
                    185,
                    186,
                    187,
                    188,
                    189,
                    190,
                    191,
                    192,
                    193,
                    194,
                    195,
                    196,
                    197,
                    198,
                    199,
                    200,
                    201,
                    202,
                    203,
                    204,
                    205,
                    206,
                    207,
                    208,
                    209,
                    210,
                    211,
                    212,
                    213,
                    214,
                    215,
                    216,
                    217,
                    218,
                    219,
                    220,
                    221,
                    222,
                    223,
                    224,
                    225,
                    226,
                    227,
                    228,
                    229,
                    230,
                    231,
                    232,
                    233,
                    234,
                    235,
                    236,
                    237,
                    238,
                    239,
                    240,
                    241,
                    242,
                    243
                  ],
                  "y": [
                    0.6518,
                    0.4762,
                    0.6318,
                    0.6836,
                    0.6629,
                    0.6616,
                    0.6696,
                    0.6756,
                    0.66,
                    0.5179,
                    0.6662,
                    0.6989,
                    0.7114,
                    0.6756,
                    0.6779,
                    0.6865,
                    0.6727,
                    0.6916,
                    0.704,
                    0.669,
                    0.674,
                    0.6524,
                    0.6829,
                    0.6756,
                    0.6886,
                    0.6968,
                    0.6996,
                    0.6931,
                    0.709,
                    0.6896,
                    0.6996,
                    0.7011,
                    0.6879,
                    0.6844,
                    0.6982,
                    0.6952,
                    0.6956,
                    0.6975,
                    0.6748,
                    0.6902,
                    0.6996,
                    0.6924,
                    0.6932,
                    0.7076,
                    0.6967,
                    0.6624,
                    0.6953,
                    0.688,
                    0.6944,
                    0.7004,
                    0.7033,
                    0.6966,
                    0.6968,
                    0.712,
                    0.7025,
                    0.6654,
                    0.6975,
                    0.7011,
                    0.7019,
                    0.6836,
                    0.6865,
                    0.6873,
                    0.6692,
                    0.7076,
                    0.7018,
                    0.6749,
                    0.7041,
                    0.717,
                    0.6897,
                    0.7156,
                    0.6957,
                    0.688,
                    0.7011,
                    0.6713,
                    0.7114,
                    0.6816,
                    0.7098,
                    0.7084,
                    0.7055,
                    0.6886,
                    0.6974,
                    0.6873,
                    0.6931,
                    0.7076,
                    0.688,
                    0.6714,
                    0.7002,
                    0.7062,
                    0.6882,
                    0.6996,
                    0.7024,
                    0.6974,
                    0.6865,
                    0.68,
                    0.6851,
                    0.7069,
                    0.7016,
                    0.7091,
                    0.6895,
                    0.7018,
                    0.7105,
                    0.712,
                    0.6945,
                    0.7026,
                    0.6996,
                    0.667,
                    0.7098,
                    0.7076,
                    0.7105,
                    0.6966,
                    0.6778,
                    0.6909,
                    0.6924,
                    0.6852,
                    0.7062,
                    0.7076,
                    0.7091,
                    0.7171,
                    0.7055,
                    0.7105,
                    0.7098,
                    0.696,
                    0.7068,
                    0.7128,
                    0.6844,
                    0.7098,
                    0.7062,
                    0.7149,
                    0.6967,
                    0.6975,
                    0.7178,
                    0.6822,
                    0.7121,
                    0.691,
                    0.6945,
                    0.7061,
                    0.7046,
                    0.72,
                    0.7174,
                    0.6974,
                    0.712,
                    0.7004,
                    0.706,
                    0.6975,
                    0.7113,
                    0.6996,
                    0.7026,
                    0.7069,
                    0.7091,
                    0.7004,
                    0.7128,
                    0.7135,
                    0.6942,
                    0.7128,
                    0.6938,
                    0.704,
                    0.7046,
                    0.7046,
                    0.7127,
                    0.6975,
                    0.6996,
                    0.7083,
                    0.7113,
                    0.6814,
                    0.7142,
                    0.7158,
                    0.7069,
                    0.7011,
                    0.7076,
                    0.7084,
                    0.7126,
                    0.704,
                    0.7047,
                    0.6946,
                    0.7041,
                    0.7098,
                    0.7062,
                    0.7091,
                    0.7128,
                    0.6897,
                    0.7068,
                    0.715,
                    0.7061,
                    0.6881,
                    0.7054,
                    0.7046,
                    0.7084,
                    0.6996,
                    0.7084,
                    0.7171,
                    0.6942,
                    0.6964,
                    0.7068,
                    0.7011,
                    0.7076,
                    0.6976,
                    0.7091,
                    0.7106,
                    0.7113,
                    0.7004,
                    0.709,
                    0.6976,
                    0.7039,
                    0.6996,
                    0.707,
                    0.7011,
                    0.7054,
                    0.7024,
                    0.712,
                    0.7106,
                    0.7004,
                    0.7009,
                    0.7091,
                    0.6938,
                    0.704,
                    0.712,
                    0.712,
                    0.7055,
                    0.7135,
                    0.7033,
                    0.7127,
                    0.7076,
                    0.7106,
                    0.7034,
                    0.7142,
                    0.7121,
                    0.7113,
                    0.7128,
                    0.7127,
                    0.7098,
                    0.7185,
                    0.7106,
                    0.7142,
                    0.704,
                    0.7106,
                    0.7106,
                    0.715,
                    0.7084,
                    0.7047
                  ]
                },
                {
                  "name": "Best Value",
                  "type": "scatter",
                  "x": [
                    0,
                    1,
                    2,
                    3,
                    4,
                    5,
                    6,
                    7,
                    8,
                    9,
                    10,
                    11,
                    13,
                    14,
                    15,
                    16,
                    18,
                    19,
                    21,
                    23,
                    24,
                    25,
                    26,
                    27,
                    28,
                    30,
                    31,
                    32,
                    33,
                    34,
                    35,
                    36,
                    37,
                    38,
                    39,
                    40,
                    41,
                    42,
                    43,
                    44,
                    45,
                    46,
                    47,
                    48,
                    49,
                    50,
                    51,
                    52,
                    53,
                    54,
                    55,
                    56,
                    57,
                    58,
                    59,
                    60,
                    61,
                    62,
                    63,
                    64,
                    65,
                    66,
                    67,
                    68,
                    69,
                    70,
                    71,
                    72,
                    73,
                    74,
                    75,
                    76,
                    77,
                    78,
                    79,
                    80,
                    81,
                    82,
                    83,
                    84,
                    85,
                    86,
                    87,
                    88,
                    89,
                    90,
                    91,
                    92,
                    93,
                    94,
                    95,
                    96,
                    97,
                    98,
                    99,
                    100,
                    101,
                    102,
                    103,
                    104,
                    105,
                    106,
                    107,
                    108,
                    109,
                    110,
                    111,
                    112,
                    113,
                    114,
                    115,
                    116,
                    117,
                    118,
                    119,
                    120,
                    121,
                    122,
                    123,
                    124,
                    125,
                    126,
                    127,
                    128,
                    129,
                    130,
                    131,
                    132,
                    133,
                    134,
                    135,
                    136,
                    137,
                    138,
                    139,
                    140,
                    141,
                    142,
                    143,
                    144,
                    145,
                    146,
                    147,
                    148,
                    149,
                    150,
                    151,
                    152,
                    153,
                    154,
                    155,
                    156,
                    157,
                    158,
                    159,
                    160,
                    161,
                    162,
                    163,
                    164,
                    165,
                    166,
                    167,
                    168,
                    169,
                    170,
                    171,
                    172,
                    173,
                    174,
                    175,
                    176,
                    177,
                    178,
                    179,
                    180,
                    181,
                    182,
                    183,
                    184,
                    185,
                    186,
                    187,
                    188,
                    189,
                    190,
                    191,
                    192,
                    193,
                    194,
                    195,
                    196,
                    197,
                    198,
                    199,
                    200,
                    201,
                    202,
                    203,
                    204,
                    205,
                    206,
                    207,
                    208,
                    209,
                    210,
                    211,
                    212,
                    213,
                    214,
                    215,
                    216,
                    217,
                    218,
                    219,
                    220,
                    221,
                    222,
                    223,
                    224,
                    225,
                    226,
                    227,
                    228,
                    229,
                    230,
                    231,
                    232,
                    233,
                    234,
                    235,
                    236,
                    237,
                    238,
                    239,
                    240,
                    241,
                    242,
                    243
                  ],
                  "y": [
                    0.6518,
                    0.6518,
                    0.6518,
                    0.6836,
                    0.6836,
                    0.6836,
                    0.6836,
                    0.6836,
                    0.6836,
                    0.6836,
                    0.6836,
                    0.6989,
                    0.7114,
                    0.7114,
                    0.7114,
                    0.7114,
                    0.7114,
                    0.7114,
                    0.7114,
                    0.7114,
                    0.7114,
                    0.7114,
                    0.7114,
                    0.7114,
                    0.7114,
                    0.7114,
                    0.7114,
                    0.7114,
                    0.7114,
                    0.7114,
                    0.7114,
                    0.7114,
                    0.7114,
                    0.7114,
                    0.7114,
                    0.7114,
                    0.7114,
                    0.7114,
                    0.7114,
                    0.7114,
                    0.7114,
                    0.7114,
                    0.7114,
                    0.7114,
                    0.7114,
                    0.7114,
                    0.7114,
                    0.7114,
                    0.7114,
                    0.7114,
                    0.7114,
                    0.7114,
                    0.7114,
                    0.712,
                    0.712,
                    0.712,
                    0.712,
                    0.712,
                    0.712,
                    0.712,
                    0.712,
                    0.712,
                    0.712,
                    0.712,
                    0.712,
                    0.712,
                    0.712,
                    0.717,
                    0.717,
                    0.717,
                    0.717,
                    0.717,
                    0.717,
                    0.717,
                    0.717,
                    0.717,
                    0.717,
                    0.717,
                    0.717,
                    0.717,
                    0.717,
                    0.717,
                    0.717,
                    0.717,
                    0.717,
                    0.717,
                    0.717,
                    0.717,
                    0.717,
                    0.717,
                    0.717,
                    0.717,
                    0.717,
                    0.717,
                    0.717,
                    0.717,
                    0.717,
                    0.717,
                    0.717,
                    0.717,
                    0.717,
                    0.717,
                    0.717,
                    0.717,
                    0.717,
                    0.717,
                    0.717,
                    0.717,
                    0.717,
                    0.717,
                    0.717,
                    0.717,
                    0.717,
                    0.717,
                    0.717,
                    0.717,
                    0.717,
                    0.7171,
                    0.7171,
                    0.7171,
                    0.7171,
                    0.7171,
                    0.7171,
                    0.7171,
                    0.7171,
                    0.7171,
                    0.7171,
                    0.7171,
                    0.7171,
                    0.7171,
                    0.7178,
                    0.7178,
                    0.7178,
                    0.7178,
                    0.7178,
                    0.7178,
                    0.7178,
                    0.72,
                    0.72,
                    0.72,
                    0.72,
                    0.72,
                    0.72,
                    0.72,
                    0.72,
                    0.72,
                    0.72,
                    0.72,
                    0.72,
                    0.72,
                    0.72,
                    0.72,
                    0.72,
                    0.72,
                    0.72,
                    0.72,
                    0.72,
                    0.72,
                    0.72,
                    0.72,
                    0.72,
                    0.72,
                    0.72,
                    0.72,
                    0.72,
                    0.72,
                    0.72,
                    0.72,
                    0.72,
                    0.72,
                    0.72,
                    0.72,
                    0.72,
                    0.72,
                    0.72,
                    0.72,
                    0.72,
                    0.72,
                    0.72,
                    0.72,
                    0.72,
                    0.72,
                    0.72,
                    0.72,
                    0.72,
                    0.72,
                    0.72,
                    0.72,
                    0.72,
                    0.72,
                    0.72,
                    0.72,
                    0.72,
                    0.72,
                    0.72,
                    0.72,
                    0.72,
                    0.72,
                    0.72,
                    0.72,
                    0.72,
                    0.72,
                    0.72,
                    0.72,
                    0.72,
                    0.72,
                    0.72,
                    0.72,
                    0.72,
                    0.72,
                    0.72,
                    0.72,
                    0.72,
                    0.72,
                    0.72,
                    0.72,
                    0.72,
                    0.72,
                    0.72,
                    0.72,
                    0.72,
                    0.72,
                    0.72,
                    0.72,
                    0.72,
                    0.72,
                    0.72,
                    0.72,
                    0.72,
                    0.72,
                    0.72,
                    0.72,
                    0.72,
                    0.72,
                    0.72,
                    0.72,
                    0.72,
                    0.72,
                    0.72
                  ]
                }
              ],
              "layout": {
                "template": {
                  "data": {
                    "bar": [
                      {
                        "error_x": {
                          "color": "#2a3f5f"
                        },
                        "error_y": {
                          "color": "#2a3f5f"
                        },
                        "marker": {
                          "line": {
                            "color": "#E5ECF6",
                            "width": 0.5
                          }
                        },
                        "type": "bar"
                      }
                    ],
                    "barpolar": [
                      {
                        "marker": {
                          "line": {
                            "color": "#E5ECF6",
                            "width": 0.5
                          }
                        },
                        "type": "barpolar"
                      }
                    ],
                    "carpet": [
                      {
                        "aaxis": {
                          "endlinecolor": "#2a3f5f",
                          "gridcolor": "white",
                          "linecolor": "white",
                          "minorgridcolor": "white",
                          "startlinecolor": "#2a3f5f"
                        },
                        "baxis": {
                          "endlinecolor": "#2a3f5f",
                          "gridcolor": "white",
                          "linecolor": "white",
                          "minorgridcolor": "white",
                          "startlinecolor": "#2a3f5f"
                        },
                        "type": "carpet"
                      }
                    ],
                    "choropleth": [
                      {
                        "colorbar": {
                          "outlinewidth": 0,
                          "ticks": ""
                        },
                        "type": "choropleth"
                      }
                    ],
                    "contour": [
                      {
                        "colorbar": {
                          "outlinewidth": 0,
                          "ticks": ""
                        },
                        "colorscale": [
                          [
                            0,
                            "#0d0887"
                          ],
                          [
                            0.1111111111111111,
                            "#46039f"
                          ],
                          [
                            0.2222222222222222,
                            "#7201a8"
                          ],
                          [
                            0.3333333333333333,
                            "#9c179e"
                          ],
                          [
                            0.4444444444444444,
                            "#bd3786"
                          ],
                          [
                            0.5555555555555556,
                            "#d8576b"
                          ],
                          [
                            0.6666666666666666,
                            "#ed7953"
                          ],
                          [
                            0.7777777777777778,
                            "#fb9f3a"
                          ],
                          [
                            0.8888888888888888,
                            "#fdca26"
                          ],
                          [
                            1,
                            "#f0f921"
                          ]
                        ],
                        "type": "contour"
                      }
                    ],
                    "contourcarpet": [
                      {
                        "colorbar": {
                          "outlinewidth": 0,
                          "ticks": ""
                        },
                        "type": "contourcarpet"
                      }
                    ],
                    "heatmap": [
                      {
                        "colorbar": {
                          "outlinewidth": 0,
                          "ticks": ""
                        },
                        "colorscale": [
                          [
                            0,
                            "#0d0887"
                          ],
                          [
                            0.1111111111111111,
                            "#46039f"
                          ],
                          [
                            0.2222222222222222,
                            "#7201a8"
                          ],
                          [
                            0.3333333333333333,
                            "#9c179e"
                          ],
                          [
                            0.4444444444444444,
                            "#bd3786"
                          ],
                          [
                            0.5555555555555556,
                            "#d8576b"
                          ],
                          [
                            0.6666666666666666,
                            "#ed7953"
                          ],
                          [
                            0.7777777777777778,
                            "#fb9f3a"
                          ],
                          [
                            0.8888888888888888,
                            "#fdca26"
                          ],
                          [
                            1,
                            "#f0f921"
                          ]
                        ],
                        "type": "heatmap"
                      }
                    ],
                    "heatmapgl": [
                      {
                        "colorbar": {
                          "outlinewidth": 0,
                          "ticks": ""
                        },
                        "colorscale": [
                          [
                            0,
                            "#0d0887"
                          ],
                          [
                            0.1111111111111111,
                            "#46039f"
                          ],
                          [
                            0.2222222222222222,
                            "#7201a8"
                          ],
                          [
                            0.3333333333333333,
                            "#9c179e"
                          ],
                          [
                            0.4444444444444444,
                            "#bd3786"
                          ],
                          [
                            0.5555555555555556,
                            "#d8576b"
                          ],
                          [
                            0.6666666666666666,
                            "#ed7953"
                          ],
                          [
                            0.7777777777777778,
                            "#fb9f3a"
                          ],
                          [
                            0.8888888888888888,
                            "#fdca26"
                          ],
                          [
                            1,
                            "#f0f921"
                          ]
                        ],
                        "type": "heatmapgl"
                      }
                    ],
                    "histogram": [
                      {
                        "marker": {
                          "colorbar": {
                            "outlinewidth": 0,
                            "ticks": ""
                          }
                        },
                        "type": "histogram"
                      }
                    ],
                    "histogram2d": [
                      {
                        "colorbar": {
                          "outlinewidth": 0,
                          "ticks": ""
                        },
                        "colorscale": [
                          [
                            0,
                            "#0d0887"
                          ],
                          [
                            0.1111111111111111,
                            "#46039f"
                          ],
                          [
                            0.2222222222222222,
                            "#7201a8"
                          ],
                          [
                            0.3333333333333333,
                            "#9c179e"
                          ],
                          [
                            0.4444444444444444,
                            "#bd3786"
                          ],
                          [
                            0.5555555555555556,
                            "#d8576b"
                          ],
                          [
                            0.6666666666666666,
                            "#ed7953"
                          ],
                          [
                            0.7777777777777778,
                            "#fb9f3a"
                          ],
                          [
                            0.8888888888888888,
                            "#fdca26"
                          ],
                          [
                            1,
                            "#f0f921"
                          ]
                        ],
                        "type": "histogram2d"
                      }
                    ],
                    "histogram2dcontour": [
                      {
                        "colorbar": {
                          "outlinewidth": 0,
                          "ticks": ""
                        },
                        "colorscale": [
                          [
                            0,
                            "#0d0887"
                          ],
                          [
                            0.1111111111111111,
                            "#46039f"
                          ],
                          [
                            0.2222222222222222,
                            "#7201a8"
                          ],
                          [
                            0.3333333333333333,
                            "#9c179e"
                          ],
                          [
                            0.4444444444444444,
                            "#bd3786"
                          ],
                          [
                            0.5555555555555556,
                            "#d8576b"
                          ],
                          [
                            0.6666666666666666,
                            "#ed7953"
                          ],
                          [
                            0.7777777777777778,
                            "#fb9f3a"
                          ],
                          [
                            0.8888888888888888,
                            "#fdca26"
                          ],
                          [
                            1,
                            "#f0f921"
                          ]
                        ],
                        "type": "histogram2dcontour"
                      }
                    ],
                    "mesh3d": [
                      {
                        "colorbar": {
                          "outlinewidth": 0,
                          "ticks": ""
                        },
                        "type": "mesh3d"
                      }
                    ],
                    "parcoords": [
                      {
                        "line": {
                          "colorbar": {
                            "outlinewidth": 0,
                            "ticks": ""
                          }
                        },
                        "type": "parcoords"
                      }
                    ],
                    "pie": [
                      {
                        "automargin": true,
                        "type": "pie"
                      }
                    ],
                    "scatter": [
                      {
                        "marker": {
                          "colorbar": {
                            "outlinewidth": 0,
                            "ticks": ""
                          }
                        },
                        "type": "scatter"
                      }
                    ],
                    "scatter3d": [
                      {
                        "line": {
                          "colorbar": {
                            "outlinewidth": 0,
                            "ticks": ""
                          }
                        },
                        "marker": {
                          "colorbar": {
                            "outlinewidth": 0,
                            "ticks": ""
                          }
                        },
                        "type": "scatter3d"
                      }
                    ],
                    "scattercarpet": [
                      {
                        "marker": {
                          "colorbar": {
                            "outlinewidth": 0,
                            "ticks": ""
                          }
                        },
                        "type": "scattercarpet"
                      }
                    ],
                    "scattergeo": [
                      {
                        "marker": {
                          "colorbar": {
                            "outlinewidth": 0,
                            "ticks": ""
                          }
                        },
                        "type": "scattergeo"
                      }
                    ],
                    "scattergl": [
                      {
                        "marker": {
                          "colorbar": {
                            "outlinewidth": 0,
                            "ticks": ""
                          }
                        },
                        "type": "scattergl"
                      }
                    ],
                    "scattermapbox": [
                      {
                        "marker": {
                          "colorbar": {
                            "outlinewidth": 0,
                            "ticks": ""
                          }
                        },
                        "type": "scattermapbox"
                      }
                    ],
                    "scatterpolar": [
                      {
                        "marker": {
                          "colorbar": {
                            "outlinewidth": 0,
                            "ticks": ""
                          }
                        },
                        "type": "scatterpolar"
                      }
                    ],
                    "scatterpolargl": [
                      {
                        "marker": {
                          "colorbar": {
                            "outlinewidth": 0,
                            "ticks": ""
                          }
                        },
                        "type": "scatterpolargl"
                      }
                    ],
                    "scatterternary": [
                      {
                        "marker": {
                          "colorbar": {
                            "outlinewidth": 0,
                            "ticks": ""
                          }
                        },
                        "type": "scatterternary"
                      }
                    ],
                    "surface": [
                      {
                        "colorbar": {
                          "outlinewidth": 0,
                          "ticks": ""
                        },
                        "colorscale": [
                          [
                            0,
                            "#0d0887"
                          ],
                          [
                            0.1111111111111111,
                            "#46039f"
                          ],
                          [
                            0.2222222222222222,
                            "#7201a8"
                          ],
                          [
                            0.3333333333333333,
                            "#9c179e"
                          ],
                          [
                            0.4444444444444444,
                            "#bd3786"
                          ],
                          [
                            0.5555555555555556,
                            "#d8576b"
                          ],
                          [
                            0.6666666666666666,
                            "#ed7953"
                          ],
                          [
                            0.7777777777777778,
                            "#fb9f3a"
                          ],
                          [
                            0.8888888888888888,
                            "#fdca26"
                          ],
                          [
                            1,
                            "#f0f921"
                          ]
                        ],
                        "type": "surface"
                      }
                    ],
                    "table": [
                      {
                        "cells": {
                          "fill": {
                            "color": "#EBF0F8"
                          },
                          "line": {
                            "color": "white"
                          }
                        },
                        "header": {
                          "fill": {
                            "color": "#C8D4E3"
                          },
                          "line": {
                            "color": "white"
                          }
                        },
                        "type": "table"
                      }
                    ]
                  },
                  "layout": {
                    "annotationdefaults": {
                      "arrowcolor": "#2a3f5f",
                      "arrowhead": 0,
                      "arrowwidth": 1
                    },
                    "coloraxis": {
                      "colorbar": {
                        "outlinewidth": 0,
                        "ticks": ""
                      }
                    },
                    "colorscale": {
                      "diverging": [
                        [
                          0,
                          "#8e0152"
                        ],
                        [
                          0.1,
                          "#c51b7d"
                        ],
                        [
                          0.2,
                          "#de77ae"
                        ],
                        [
                          0.3,
                          "#f1b6da"
                        ],
                        [
                          0.4,
                          "#fde0ef"
                        ],
                        [
                          0.5,
                          "#f7f7f7"
                        ],
                        [
                          0.6,
                          "#e6f5d0"
                        ],
                        [
                          0.7,
                          "#b8e186"
                        ],
                        [
                          0.8,
                          "#7fbc41"
                        ],
                        [
                          0.9,
                          "#4d9221"
                        ],
                        [
                          1,
                          "#276419"
                        ]
                      ],
                      "sequential": [
                        [
                          0,
                          "#0d0887"
                        ],
                        [
                          0.1111111111111111,
                          "#46039f"
                        ],
                        [
                          0.2222222222222222,
                          "#7201a8"
                        ],
                        [
                          0.3333333333333333,
                          "#9c179e"
                        ],
                        [
                          0.4444444444444444,
                          "#bd3786"
                        ],
                        [
                          0.5555555555555556,
                          "#d8576b"
                        ],
                        [
                          0.6666666666666666,
                          "#ed7953"
                        ],
                        [
                          0.7777777777777778,
                          "#fb9f3a"
                        ],
                        [
                          0.8888888888888888,
                          "#fdca26"
                        ],
                        [
                          1,
                          "#f0f921"
                        ]
                      ],
                      "sequentialminus": [
                        [
                          0,
                          "#0d0887"
                        ],
                        [
                          0.1111111111111111,
                          "#46039f"
                        ],
                        [
                          0.2222222222222222,
                          "#7201a8"
                        ],
                        [
                          0.3333333333333333,
                          "#9c179e"
                        ],
                        [
                          0.4444444444444444,
                          "#bd3786"
                        ],
                        [
                          0.5555555555555556,
                          "#d8576b"
                        ],
                        [
                          0.6666666666666666,
                          "#ed7953"
                        ],
                        [
                          0.7777777777777778,
                          "#fb9f3a"
                        ],
                        [
                          0.8888888888888888,
                          "#fdca26"
                        ],
                        [
                          1,
                          "#f0f921"
                        ]
                      ]
                    },
                    "colorway": [
                      "#636efa",
                      "#EF553B",
                      "#00cc96",
                      "#ab63fa",
                      "#FFA15A",
                      "#19d3f3",
                      "#FF6692",
                      "#B6E880",
                      "#FF97FF",
                      "#FECB52"
                    ],
                    "font": {
                      "color": "#2a3f5f"
                    },
                    "geo": {
                      "bgcolor": "white",
                      "lakecolor": "white",
                      "landcolor": "#E5ECF6",
                      "showlakes": true,
                      "showland": true,
                      "subunitcolor": "white"
                    },
                    "hoverlabel": {
                      "align": "left"
                    },
                    "hovermode": "closest",
                    "mapbox": {
                      "style": "light"
                    },
                    "paper_bgcolor": "white",
                    "plot_bgcolor": "#E5ECF6",
                    "polar": {
                      "angularaxis": {
                        "gridcolor": "white",
                        "linecolor": "white",
                        "ticks": ""
                      },
                      "bgcolor": "#E5ECF6",
                      "radialaxis": {
                        "gridcolor": "white",
                        "linecolor": "white",
                        "ticks": ""
                      }
                    },
                    "scene": {
                      "xaxis": {
                        "backgroundcolor": "#E5ECF6",
                        "gridcolor": "white",
                        "gridwidth": 2,
                        "linecolor": "white",
                        "showbackground": true,
                        "ticks": "",
                        "zerolinecolor": "white"
                      },
                      "yaxis": {
                        "backgroundcolor": "#E5ECF6",
                        "gridcolor": "white",
                        "gridwidth": 2,
                        "linecolor": "white",
                        "showbackground": true,
                        "ticks": "",
                        "zerolinecolor": "white"
                      },
                      "zaxis": {
                        "backgroundcolor": "#E5ECF6",
                        "gridcolor": "white",
                        "gridwidth": 2,
                        "linecolor": "white",
                        "showbackground": true,
                        "ticks": "",
                        "zerolinecolor": "white"
                      }
                    },
                    "shapedefaults": {
                      "line": {
                        "color": "#2a3f5f"
                      }
                    },
                    "ternary": {
                      "aaxis": {
                        "gridcolor": "white",
                        "linecolor": "white",
                        "ticks": ""
                      },
                      "baxis": {
                        "gridcolor": "white",
                        "linecolor": "white",
                        "ticks": ""
                      },
                      "bgcolor": "#E5ECF6",
                      "caxis": {
                        "gridcolor": "white",
                        "linecolor": "white",
                        "ticks": ""
                      }
                    },
                    "title": {
                      "x": 0.05
                    },
                    "xaxis": {
                      "automargin": true,
                      "gridcolor": "white",
                      "linecolor": "white",
                      "ticks": "",
                      "title": {
                        "standoff": 15
                      },
                      "zerolinecolor": "white",
                      "zerolinewidth": 2
                    },
                    "yaxis": {
                      "automargin": true,
                      "gridcolor": "white",
                      "linecolor": "white",
                      "ticks": "",
                      "title": {
                        "standoff": 15
                      },
                      "zerolinecolor": "white",
                      "zerolinewidth": 2
                    }
                  }
                },
                "title": {
                  "text": "Optimization History Plot"
                },
                "xaxis": {
                  "title": {
                    "text": "#Trials"
                  }
                },
                "yaxis": {
                  "title": {
                    "text": "Objective Value"
                  }
                }
              }
            }
          },
          "metadata": {}
        }
      ],
      "source": [
        "model.plot_opt_history()"
      ]
    },
    {
      "cell_type": "markdown",
      "metadata": {
        "id": "ECaRp0ADbV5_",
        "colab_type": "text"
      },
      "source": [
        "# How it works\n",
        "first let's look at all the parameters available to us     \n",
        "для начала посмотрим все доступные нам параметры"
      ]
    },
    {
      "cell_type": "markdown",
      "metadata": {
        "id": "RiYgobwBbV6A",
        "colab_type": "text"
      },
      "source": [
        "```python\n",
        "model = LightGBMClassifier(\n",
        "                    model_param=None, # default model parameters\n",
        "                    type_of_estimator=None, # classifier or regression\n",
        "                    gpu=False, \n",
        "                    verbose=0,\n",
        "                    random_state=RANDOM_SEED\n",
        "    )\n",
        "```"
      ]
    },
    {
      "cell_type": "markdown",
      "metadata": {
        "id": "vpZzOYVtbV6A",
        "colab_type": "text"
      },
      "source": [
        "### *model_param*\n",
        "parameters of the model itself. As you already understood, to work with the library itself, I use some kind of wrapper, but *model_param* pass the settings directly to the model itself"
      ]
    },
    {
      "cell_type": "code",
      "execution_count": 35,
      "metadata": {},
      "outputs": [
        {
          "output_type": "execute_result",
          "data": {
            "text/plain": [
              "{'random_seed': 42,\n",
              " 'num_iterations': 400,\n",
              " 'verbose': -1,\n",
              " 'device_type': 'cpu',\n",
              " 'objective': 'binary',\n",
              " 'min_child_samples': 6,\n",
              " 'learning_rate': 0.12269270270460732,\n",
              " 'num_leaves': 2,\n",
              " 'bagging_fraction': 0.6000000000000001,\n",
              " 'feature_fraction': 0.9,\n",
              " 'bagging_freq': 7}"
            ]
          },
          "metadata": {},
          "execution_count": 35
        }
      ],
      "source": [
        "model.model_param"
      ]
    },
    {
      "cell_type": "markdown",
      "metadata": {
        "ExecuteTime": {
          "end_time": "2020-05-07T06:54:12.453492Z",
          "start_time": "2020-05-07T06:54:12.439012Z"
        },
        "id": "kjruMAqEbV6F",
        "colab_type": "text"
      },
      "source": [
        "## Optimization\n",
        "\n",
        "```python\n",
        "history = model.opt(X,y,\n",
        "            timeout=200, # optimization time in seconds\n",
        "            metric=sklearn.metrics.roc_auc_score, # any metric from sklearn\n",
        "            metric_round=4,\n",
        "            iterations=None,\n",
        "            cold_start=30,\n",
        "            auto_parameters=True,\n",
        "            folds=10, # Cross-validation folds\n",
        "            score_folds=2, # how many folds are actually used for score\n",
        "            opt_lvl=2,  # depth of selection of parameters\n",
        "            early_stoping=100,  # stop otimization if no better parameters are found through iterations\n",
        "            iteration_check=True,\n",
        "            verbose=1,)\n",
        "```\n",
        "\n",
        "To optimize hyperparameters used Optuna (https://optuna.org), but with some modifications. Inside Optuna uses the TPE algorithm.\n",
        "\n",
        "good visualization from: https://medium.com/criteo-labs/hyper-parameter-optimization-algorithms-2fe447525903\n",
        "<img src=\"https://miro.medium.com/max/2000/1*m1JYCHHhbmn6TCHcJIklZA.gif\" width=\"800\">\n"
      ]
    },
    {
      "cell_type": "markdown",
      "metadata": {
        "id": "SvXrBLljbV6F",
        "colab_type": "text"
      },
      "source": [
        "### *metric* and *direction*\n",
        "you can use standard metrics from sklearn.metrics or add custom metrics. \n",
        "\n",
        "вы можете использовать стандартные метрики из sklearn.metrics или добавить кастомную."
      ]
    },
    {
      "cell_type": "markdown",
      "metadata": {
        "id": "IbtbRVMebV6F",
        "colab_type": "text"
      },
      "source": [
        "### *cv* folds and *score_folds*\n",
        "In training, I use cross validation. But if we don’t have much time, then we go to the trick, and learn only part of the folds (score_folds)    \n",
        "\n",
        "В обучении я использую кросс валидацию. Но если у нас мало времени то мы идем на хитрость, и обучаемся только на части фолдов (score_folds)\n"
      ]
    },
    {
      "cell_type": "markdown",
      "metadata": {
        "ExecuteTime": {
          "end_time": "2020-05-07T08:00:39.460470Z",
          "start_time": "2020-05-07T08:00:39.424490Z"
        },
        "id": "D9xT9cTgbV6F",
        "colab_type": "text"
      },
      "source": [
        "### *cold_start*\n",
        "In the *cold_start* parameter, we specify how many iterations we give for this warm-up.\n",
        "before the algorithm starts searching for optimal parameters, it must collect statistics on the represented space.this is why it starts in the randomsample solution at the beginning. The longer it works in this mode , the less likely it is to get stuck in the local minimum. But if you take too long to warm up, you may not have time to search with a more \"smart\" algorithm. Therefore, it is important to maintain a balance. \n",
        "\n",
        "перед тем как алгоритм начинает поиск оптимальных параметров, он должен собрать статистику по представляемому пространству, по этому в начале он запускаеться в решиме randomsample. Чем дольше он проработает в этом режиме - тем меньше вероятность что он застрянет в локальном минимуме. Но если слишком долго делать прогрев - то может не остаться времени на поиск с более \"умным\" алгоритмом. Поэтому важно соблюдать баланс. В параметре cold_start указываем сколько итераций мы даем на этот прогрев. "
      ]
    },
    {
      "cell_type": "markdown",
      "metadata": {
        "id": "apIHobyxbV6F",
        "colab_type": "text"
      },
      "source": [
        "### *opt_lvl*\n",
        "by limiting the optimization time, we will have to choose how deep we should optimize the parameters. Perhaps some parameters are not so important and can only give a fraction of a percent. By setting the opt_lvl parameter, you control the depth of optimization.\n",
        "\n",
        "in the code *automl_alex.models.model_lightgbm.LightGBM* you can find how parameters are substituted for iteration:\n",
        "\n",
        "```python\n",
        "....\n",
        "def get_model_opt_params(self, trial, model, opt_lvl, len_data, metric_name,):\n",
        "        \"\"\"\n",
        "        Return:\n",
        "            dict of DistributionWrappers\n",
        "        \"\"\"\n",
        "        model_param = model._init_default_model_param()\n",
        "        ################################# LVL 1 ########################################\n",
        "        if opt_lvl == 1:\n",
        "            model_param['num_leaves'] = trial.suggest_int('lgbm_num_leaves', 2, 50,)\n",
        "            \n",
        "        if opt_lvl >= 1:\n",
        "            if len_data > 1000:\n",
        "                model_param['min_child_samples'] = trial.suggest_int('lgbm_min_child_samples', 2, \\\n",
        "                                                                        (len_data//100))\n",
        "            else:\n",
        "                model_param['min_child_samples'] = trial.suggest_int('lgbm_min_child_samples', 2, 7)\n",
        "\n",
        "        ################################# LVL 2 ########################################\n",
        "        if opt_lvl == 2:\n",
        "            model_param['learning_rate'] = trial.suggest_int('lgbm_learning_rate', 1, 11)/100\n",
        "            model_param['num_leaves'] = trial.suggest_int('lgbm_num_leaves', 2, 50,)\n",
        "            model_param['num_iterations'] = trial.suggest_int('lgbm_num_iterations', 1, 5,)*100\n",
        "\n",
        "        if opt_lvl >= 2:\n",
        "            model_param['bagging_fraction'] = trial.suggest_discrete_uniform('lgbm_bagging_fraction', 0.4, 1., 0.1)\n",
        "            if model_param['bagging_fraction'] < 1.:\n",
        "                model_param['feature_fraction'] = trial.suggest_discrete_uniform('lgbm_feature_fraction', 0.3, 1., 0.1)\n",
        "                model_param['bagging_freq'] = trial.suggest_int('lgbm_bagging_freq', 2, 11,)\n",
        "        \n",
        "        ################################# LVL 3 ########################################\n",
        "        if opt_lvl == 3:\n",
        "            model_param['learning_rate'] = trial.suggest_int('lgbm_learning_rate', 1, 100)/1000\n",
        "            model_param['num_iterations'] = trial.suggest_int('lgbm_num_iterations', 1, 11,)*100\n",
        "        \n",
        "        if opt_lvl >= 3:\n",
        "            model_param['num_leaves'] = trial.suggest_int('lgbm_num_leaves', 2, 100,)\n",
        "        \n",
        "        ################################# LVL 4 ########################################\n",
        "        if opt_lvl == 4:\n",
        "            model_param['learning_rate'] = trial.suggest_loguniform('lgbm_learning_rate', 1e-3, .1)\n",
        "\n",
        "        if opt_lvl >= 4:\n",
        "            model_param['boosting'] = trial.suggest_categorical('lgbm_boosting', ['gbdt', 'dart',])\n",
        "            if model_param['boosting'] == 'dart':\n",
        "                model_param['early_stopping_rounds'] = 0\n",
        "                model_param['uniform_drop'] = trial.suggest_categorical('lgbm_uniform_drop', [True, False])\n",
        "                model_param['xgboost_dart_mode'] = trial.suggest_categorical('lgbm_xgboost_dart_mode', [True, False])\n",
        "                model_param['drop_rate'] = trial.suggest_loguniform('lgbm_drop_rate', 1e-8, 1.0)\n",
        "                model_param['max_drop'] = trial.suggest_int('lgbm_max_drop', 0, 100)\n",
        "                model_param['skip_drop'] = trial.suggest_loguniform('lgbm_skip_drop', 1e-3, 1.0)\n",
        "\n",
        "            model_param['num_iterations'] = trial.suggest_int('lgbm_num_iterations', 1, 6,)*1000\n",
        "\n",
        "            if model.type_of_estimator == 'classifier':\n",
        "                model_param['objective'] = trial.suggest_categorical('lgbm_objective', \n",
        "                    [\n",
        "                    'binary', \n",
        "                    'cross_entropy',\n",
        "                    ])\n",
        "\n",
        "            elif model.type_of_estimator == 'regression':\n",
        "                model_param['objective'] = trial.suggest_categorical('lgbm_objective', \n",
        "                    [\n",
        "                    'regression',\n",
        "                    'regression_l1',\n",
        "                    'mape',\n",
        "                    'huber',\n",
        "                    'quantile',\n",
        "                    ])\n",
        "\n",
        "        ################################# LVL 5 ########################################\n",
        "        if opt_lvl >= 5:\n",
        "            model_param['max_cat_threshold'] = trial.suggest_int('lgbm_max_cat_threshold', 1, 100)\n",
        "            model_param['min_child_weight'] = trial.suggest_loguniform('lgbm_min_child_weight', 1e-6, 1.0)\n",
        "            model_param['learning_rate'] = trial.suggest_loguniform('lgbm_learning_rate', 1e-5, .1)\n",
        "            model_param['reg_lambda'] = trial.suggest_loguniform('lgbm_reg_lambda', 1e-8, 1.0)\n",
        "            model_param['reg_alpha'] = trial.suggest_loguniform('lgbm_reg_alpha', 1e-8, 1.0)\n",
        "            model_param['max_bin'] = trial.suggest_int('lgbm_max_bin', 1, 5,)*50\n",
        "            #self.model_param['extra_trees'] = trial.suggest_categorical('lgbm_extra_trees', [True, False])\n",
        "            model_param['enable_bundle'] = trial.suggest_categorical('lgbm_enable_bundle', [True, False])\n",
        "\n",
        "        ################################# Other ########################################\n",
        "        if model.type_of_estimator == 'classifier':\n",
        "            if metric_name not in ['roc_auc_score', 'log_loss', 'brier_score_loss']:\n",
        "                model_param['scale_pos_weight'] = trial.suggest_discrete_uniform('lgbm_scale_pos_weight', 0.1, 1., 0.1)\n",
        "\n",
        "        return(model_param)\n",
        "...\n",
        "```\n",
        "\n",
        "ограничивая время оптимизации, нам придется выбирать насколько глубоко мы должны оптимизировать параметры. Возможно некоторые параметры не так важны и могут дать лишь доли процента. Устанавливая параметр opt_lvl вы регулируете глубину оптимизации."
      ]
    },
    {
      "cell_type": "markdown",
      "metadata": {
        "id": "tl8zhvjVbV6G",
        "colab_type": "text"
      },
      "source": [
        "### *auto_parameters*\n",
        "If we don't want to select anything, we just set *auto_parameters=True*. Then the algorithm itself will select, depending on the time allotted to it, the optimal values for:\n",
        "* folds\n",
        "* score_folds\n",
        "* cold_start\n",
        "* opt_lvl\n",
        "\n",
        "Если мы не хотим ни чего подбирать, то просто устанавливаем auto_parameters=True. Тогда алгоритм сам подберет, в зависимости от выделенного ему времени, оптимальные значения этих параметров."
      ]
    },
    {
      "source": [
        "# Regression"
      ],
      "cell_type": "markdown",
      "metadata": {}
    },
    {
      "cell_type": "code",
      "execution_count": 36,
      "metadata": {},
      "outputs": [
        {
          "output_type": "execute_result",
          "data": {
            "text/plain": [
              "((430, 13), (76, 13))"
            ]
          },
          "metadata": {},
          "execution_count": 36
        }
      ],
      "source": [
        "from sklearn.datasets import load_boston\n",
        "data = load_boston()\n",
        "X_train, X_test, y_train, y_test = train_test_split(pd.DataFrame(data.data), \n",
        "                                                    pd.DataFrame(data.target), \n",
        "                                                    test_size=0.15, \n",
        "                                                    random_state=RANDOM_SEED,)\n",
        "\n",
        "X_train.shape, X_test.shape"
      ]
    },
    {
      "cell_type": "code",
      "execution_count": 71,
      "metadata": {},
      "outputs": [],
      "source": [
        "from automl_alex import LightGBM, LightGBMRegressor\n",
        "\n",
        "# We will use LightGBM for this dataset\n",
        "model = LightGBM(type_of_estimator='regression', random_state=RANDOM_SEED)\n",
        "\n",
        "# or Simply\n",
        "model = LightGBMRegressor(random_state=RANDOM_SEED)"
      ]
    },
    {
      "cell_type": "code",
      "execution_count": 60,
      "metadata": {},
      "outputs": [
        {
          "output_type": "stream",
          "name": "stdout",
          "text": [
            "Test MSE:  0.1009\n"
          ]
        }
      ],
      "source": [
        "model.fit(X_train, y_train)\n",
        "predicts = model.predict(X_test)\n",
        "print('Test MSE: ', round(sklearn.metrics.mean_squared_error(y_test, predicts),4))"
      ]
    },
    {
      "cell_type": "code",
      "execution_count": 61,
      "metadata": {},
      "outputs": [
        {
          "output_type": "stream",
          "name": "stderr",
          "text": [
            "22:59:34 | ! Not enough time to find the optimal parameters. \n",
            "                     Possible iters < 100. \n",
            "                     Please, Increase the 'timeout' parameter for normal optimization.\n",
            "Optimize: : 63it [10:00,  9.54s/it, | Model: LightGBM | OptScore: 0.1034 | Best mean_squared_error: 0.1023 ]\n",
            "Finished loading model, total used 300 iterations\n",
            "Finished loading model, total used 300 iterations\n",
            "Finished loading model, total used 300 iterations\n",
            "Finished loading model, total used 300 iterations\n",
            "Finished loading model, total used 300 iterations\n",
            "Finished loading model, total used 300 iterations\n",
            "Finished loading model, total used 300 iterations\n",
            "Finished loading model, total used 300 iterations\n",
            "Finished loading model, total used 300 iterations\n",
            "Finished loading model, total used 300 iterations\n"
          ]
        }
      ],
      "source": [
        "history = model.opt(X_train, y_train, timeout=600,)"
      ]
    },
    {
      "cell_type": "code",
      "execution_count": 62,
      "metadata": {},
      "outputs": [
        {
          "output_type": "execute_result",
          "data": {
            "text/plain": [
              "   number   value             datetime_start          datetime_complete  \\\n",
              "0       0  0.1115 2021-03-01 22:57:17.399006 2021-03-01 22:57:29.311209   \n",
              "1       1  0.1106 2021-03-01 22:57:29.382498 2021-03-01 22:57:42.237178   \n",
              "2       2  0.1124 2021-03-01 22:57:42.309630 2021-03-01 22:58:00.133931   \n",
              "3       3  0.1112 2021-03-01 22:58:00.203278 2021-03-01 22:58:10.392775   \n",
              "4       4  0.1058 2021-03-01 22:58:10.446136 2021-03-01 22:58:18.611378   \n",
              "\n",
              "                duration  params_lgbm_bagging_fraction  \\\n",
              "0 0 days 00:00:11.912203                           0.8   \n",
              "1 0 days 00:00:12.854680                           0.4   \n",
              "2 0 days 00:00:17.824301                           0.7   \n",
              "3 0 days 00:00:10.189497                           0.7   \n",
              "4 0 days 00:00:08.165242                           0.8   \n",
              "\n",
              "   params_lgbm_bagging_freq  params_lgbm_feature_fraction  \\\n",
              "0                       8.0                           0.7   \n",
              "1                       7.0                           1.0   \n",
              "2                       2.0                           0.7   \n",
              "3                       4.0                           0.9   \n",
              "4                       8.0                           0.5   \n",
              "\n",
              "   params_lgbm_learning_rate  params_lgbm_min_child_samples  \\\n",
              "0                   0.253700                              7   \n",
              "1                   0.190304                              2   \n",
              "2                   0.292157                              2   \n",
              "3                   0.038962                             14   \n",
              "4                   0.283368                              7   \n",
              "\n",
              "   params_lgbm_num_iterations  params_lgbm_num_leaves     state  \n",
              "0                       300.0                      20  COMPLETE  \n",
              "1                       500.0                      12  COMPLETE  \n",
              "2                       400.0                      13  COMPLETE  \n",
              "3                       500.0                       2  COMPLETE  \n",
              "4                       300.0                       8  COMPLETE  "
            ],
            "text/html": "<div>\n<style scoped>\n    .dataframe tbody tr th:only-of-type {\n        vertical-align: middle;\n    }\n\n    .dataframe tbody tr th {\n        vertical-align: top;\n    }\n\n    .dataframe thead th {\n        text-align: right;\n    }\n</style>\n<table border=\"1\" class=\"dataframe\">\n  <thead>\n    <tr style=\"text-align: right;\">\n      <th></th>\n      <th>number</th>\n      <th>value</th>\n      <th>datetime_start</th>\n      <th>datetime_complete</th>\n      <th>duration</th>\n      <th>params_lgbm_bagging_fraction</th>\n      <th>params_lgbm_bagging_freq</th>\n      <th>params_lgbm_feature_fraction</th>\n      <th>params_lgbm_learning_rate</th>\n      <th>params_lgbm_min_child_samples</th>\n      <th>params_lgbm_num_iterations</th>\n      <th>params_lgbm_num_leaves</th>\n      <th>state</th>\n    </tr>\n  </thead>\n  <tbody>\n    <tr>\n      <th>0</th>\n      <td>0</td>\n      <td>0.1115</td>\n      <td>2021-03-01 22:57:17.399006</td>\n      <td>2021-03-01 22:57:29.311209</td>\n      <td>0 days 00:00:11.912203</td>\n      <td>0.8</td>\n      <td>8.0</td>\n      <td>0.7</td>\n      <td>0.253700</td>\n      <td>7</td>\n      <td>300.0</td>\n      <td>20</td>\n      <td>COMPLETE</td>\n    </tr>\n    <tr>\n      <th>1</th>\n      <td>1</td>\n      <td>0.1106</td>\n      <td>2021-03-01 22:57:29.382498</td>\n      <td>2021-03-01 22:57:42.237178</td>\n      <td>0 days 00:00:12.854680</td>\n      <td>0.4</td>\n      <td>7.0</td>\n      <td>1.0</td>\n      <td>0.190304</td>\n      <td>2</td>\n      <td>500.0</td>\n      <td>12</td>\n      <td>COMPLETE</td>\n    </tr>\n    <tr>\n      <th>2</th>\n      <td>2</td>\n      <td>0.1124</td>\n      <td>2021-03-01 22:57:42.309630</td>\n      <td>2021-03-01 22:58:00.133931</td>\n      <td>0 days 00:00:17.824301</td>\n      <td>0.7</td>\n      <td>2.0</td>\n      <td>0.7</td>\n      <td>0.292157</td>\n      <td>2</td>\n      <td>400.0</td>\n      <td>13</td>\n      <td>COMPLETE</td>\n    </tr>\n    <tr>\n      <th>3</th>\n      <td>3</td>\n      <td>0.1112</td>\n      <td>2021-03-01 22:58:00.203278</td>\n      <td>2021-03-01 22:58:10.392775</td>\n      <td>0 days 00:00:10.189497</td>\n      <td>0.7</td>\n      <td>4.0</td>\n      <td>0.9</td>\n      <td>0.038962</td>\n      <td>14</td>\n      <td>500.0</td>\n      <td>2</td>\n      <td>COMPLETE</td>\n    </tr>\n    <tr>\n      <th>4</th>\n      <td>4</td>\n      <td>0.1058</td>\n      <td>2021-03-01 22:58:10.446136</td>\n      <td>2021-03-01 22:58:18.611378</td>\n      <td>0 days 00:00:08.165242</td>\n      <td>0.8</td>\n      <td>8.0</td>\n      <td>0.5</td>\n      <td>0.283368</td>\n      <td>7</td>\n      <td>300.0</td>\n      <td>8</td>\n      <td>COMPLETE</td>\n    </tr>\n  </tbody>\n</table>\n</div>"
          },
          "metadata": {},
          "execution_count": 62
        }
      ],
      "source": [
        "history.head(5)"
      ]
    },
    {
      "cell_type": "code",
      "execution_count": 63,
      "metadata": {},
      "outputs": [
        {
          "output_type": "display_data",
          "data": {
            "application/vnd.plotly.v1+json": {
              "config": {
                "plotlyServerURL": "https://plot.ly"
              },
              "data": [
                {
                  "mode": "markers",
                  "name": "Objective Value",
                  "type": "scatter",
                  "x": [
                    0,
                    1,
                    2,
                    3,
                    4,
                    5,
                    6,
                    7,
                    8,
                    9,
                    10,
                    11,
                    12,
                    13,
                    14,
                    15,
                    16,
                    17,
                    18,
                    19,
                    20,
                    21,
                    22,
                    23,
                    24,
                    25,
                    26,
                    27,
                    28,
                    29,
                    30,
                    31,
                    32,
                    33,
                    34,
                    35,
                    36,
                    37,
                    38,
                    39,
                    40,
                    41,
                    42,
                    43,
                    44,
                    45,
                    46,
                    47,
                    48,
                    49,
                    50,
                    51,
                    52,
                    53,
                    54,
                    55,
                    56,
                    57,
                    58,
                    59,
                    60,
                    61,
                    62,
                    63,
                    64,
                    65,
                    66,
                    67,
                    68,
                    69,
                    70,
                    71,
                    72
                  ],
                  "y": [
                    0.1115,
                    0.1106,
                    0.1124,
                    0.1112,
                    0.1058,
                    0.1096,
                    0.1054,
                    0.1028,
                    0.1128,
                    0.1181,
                    0.1059,
                    0.1036,
                    0.1052,
                    0.103,
                    0.1037,
                    0.1053,
                    0.1046,
                    0.1059,
                    0.1054,
                    0.1033,
                    0.1025,
                    0.104,
                    0.1036,
                    0.1032,
                    0.1038,
                    0.1052,
                    0.1104,
                    0.1104,
                    0.1054,
                    0.1026,
                    0.103,
                    0.1031,
                    0.1029,
                    0.1039,
                    0.1023,
                    0.1025,
                    0.1026,
                    0.103,
                    0.103,
                    0.1031,
                    0.1028,
                    0.1037,
                    0.1026,
                    0.1028,
                    0.1028,
                    0.1028,
                    0.1025,
                    0.1036,
                    0.1044,
                    0.1028,
                    0.1025,
                    0.1028,
                    0.1033,
                    0.1033,
                    0.1027,
                    0.1032,
                    0.1038,
                    0.1034,
                    0.1027,
                    0.1025,
                    0.103,
                    0.1026,
                    0.1032,
                    0.1028,
                    0.1032,
                    0.1032,
                    0.1036,
                    0.1025,
                    0.1036,
                    0.1032,
                    0.1028,
                    0.1028,
                    0.1034
                  ]
                },
                {
                  "name": "Best Value",
                  "type": "scatter",
                  "x": [
                    0,
                    1,
                    2,
                    3,
                    4,
                    5,
                    6,
                    7,
                    8,
                    9,
                    10,
                    11,
                    12,
                    13,
                    14,
                    15,
                    16,
                    17,
                    18,
                    19,
                    20,
                    21,
                    22,
                    23,
                    24,
                    25,
                    26,
                    27,
                    28,
                    29,
                    30,
                    31,
                    32,
                    33,
                    34,
                    35,
                    36,
                    37,
                    38,
                    39,
                    40,
                    41,
                    42,
                    43,
                    44,
                    45,
                    46,
                    47,
                    48,
                    49,
                    50,
                    51,
                    52,
                    53,
                    54,
                    55,
                    56,
                    57,
                    58,
                    59,
                    60,
                    61,
                    62,
                    63,
                    64,
                    65,
                    66,
                    67,
                    68,
                    69,
                    70,
                    71,
                    72
                  ],
                  "y": [
                    0.1115,
                    0.1106,
                    0.1106,
                    0.1106,
                    0.1058,
                    0.1058,
                    0.1054,
                    0.1028,
                    0.1028,
                    0.1028,
                    0.1028,
                    0.1028,
                    0.1028,
                    0.1028,
                    0.1028,
                    0.1028,
                    0.1028,
                    0.1028,
                    0.1028,
                    0.1028,
                    0.1025,
                    0.1025,
                    0.1025,
                    0.1025,
                    0.1025,
                    0.1025,
                    0.1025,
                    0.1025,
                    0.1025,
                    0.1025,
                    0.1025,
                    0.1025,
                    0.1025,
                    0.1025,
                    0.1023,
                    0.1023,
                    0.1023,
                    0.1023,
                    0.1023,
                    0.1023,
                    0.1023,
                    0.1023,
                    0.1023,
                    0.1023,
                    0.1023,
                    0.1023,
                    0.1023,
                    0.1023,
                    0.1023,
                    0.1023,
                    0.1023,
                    0.1023,
                    0.1023,
                    0.1023,
                    0.1023,
                    0.1023,
                    0.1023,
                    0.1023,
                    0.1023,
                    0.1023,
                    0.1023,
                    0.1023,
                    0.1023,
                    0.1023,
                    0.1023,
                    0.1023,
                    0.1023,
                    0.1023,
                    0.1023,
                    0.1023,
                    0.1023,
                    0.1023,
                    0.1023
                  ]
                }
              ],
              "layout": {
                "template": {
                  "data": {
                    "bar": [
                      {
                        "error_x": {
                          "color": "#2a3f5f"
                        },
                        "error_y": {
                          "color": "#2a3f5f"
                        },
                        "marker": {
                          "line": {
                            "color": "#E5ECF6",
                            "width": 0.5
                          }
                        },
                        "type": "bar"
                      }
                    ],
                    "barpolar": [
                      {
                        "marker": {
                          "line": {
                            "color": "#E5ECF6",
                            "width": 0.5
                          }
                        },
                        "type": "barpolar"
                      }
                    ],
                    "carpet": [
                      {
                        "aaxis": {
                          "endlinecolor": "#2a3f5f",
                          "gridcolor": "white",
                          "linecolor": "white",
                          "minorgridcolor": "white",
                          "startlinecolor": "#2a3f5f"
                        },
                        "baxis": {
                          "endlinecolor": "#2a3f5f",
                          "gridcolor": "white",
                          "linecolor": "white",
                          "minorgridcolor": "white",
                          "startlinecolor": "#2a3f5f"
                        },
                        "type": "carpet"
                      }
                    ],
                    "choropleth": [
                      {
                        "colorbar": {
                          "outlinewidth": 0,
                          "ticks": ""
                        },
                        "type": "choropleth"
                      }
                    ],
                    "contour": [
                      {
                        "colorbar": {
                          "outlinewidth": 0,
                          "ticks": ""
                        },
                        "colorscale": [
                          [
                            0,
                            "#0d0887"
                          ],
                          [
                            0.1111111111111111,
                            "#46039f"
                          ],
                          [
                            0.2222222222222222,
                            "#7201a8"
                          ],
                          [
                            0.3333333333333333,
                            "#9c179e"
                          ],
                          [
                            0.4444444444444444,
                            "#bd3786"
                          ],
                          [
                            0.5555555555555556,
                            "#d8576b"
                          ],
                          [
                            0.6666666666666666,
                            "#ed7953"
                          ],
                          [
                            0.7777777777777778,
                            "#fb9f3a"
                          ],
                          [
                            0.8888888888888888,
                            "#fdca26"
                          ],
                          [
                            1,
                            "#f0f921"
                          ]
                        ],
                        "type": "contour"
                      }
                    ],
                    "contourcarpet": [
                      {
                        "colorbar": {
                          "outlinewidth": 0,
                          "ticks": ""
                        },
                        "type": "contourcarpet"
                      }
                    ],
                    "heatmap": [
                      {
                        "colorbar": {
                          "outlinewidth": 0,
                          "ticks": ""
                        },
                        "colorscale": [
                          [
                            0,
                            "#0d0887"
                          ],
                          [
                            0.1111111111111111,
                            "#46039f"
                          ],
                          [
                            0.2222222222222222,
                            "#7201a8"
                          ],
                          [
                            0.3333333333333333,
                            "#9c179e"
                          ],
                          [
                            0.4444444444444444,
                            "#bd3786"
                          ],
                          [
                            0.5555555555555556,
                            "#d8576b"
                          ],
                          [
                            0.6666666666666666,
                            "#ed7953"
                          ],
                          [
                            0.7777777777777778,
                            "#fb9f3a"
                          ],
                          [
                            0.8888888888888888,
                            "#fdca26"
                          ],
                          [
                            1,
                            "#f0f921"
                          ]
                        ],
                        "type": "heatmap"
                      }
                    ],
                    "heatmapgl": [
                      {
                        "colorbar": {
                          "outlinewidth": 0,
                          "ticks": ""
                        },
                        "colorscale": [
                          [
                            0,
                            "#0d0887"
                          ],
                          [
                            0.1111111111111111,
                            "#46039f"
                          ],
                          [
                            0.2222222222222222,
                            "#7201a8"
                          ],
                          [
                            0.3333333333333333,
                            "#9c179e"
                          ],
                          [
                            0.4444444444444444,
                            "#bd3786"
                          ],
                          [
                            0.5555555555555556,
                            "#d8576b"
                          ],
                          [
                            0.6666666666666666,
                            "#ed7953"
                          ],
                          [
                            0.7777777777777778,
                            "#fb9f3a"
                          ],
                          [
                            0.8888888888888888,
                            "#fdca26"
                          ],
                          [
                            1,
                            "#f0f921"
                          ]
                        ],
                        "type": "heatmapgl"
                      }
                    ],
                    "histogram": [
                      {
                        "marker": {
                          "colorbar": {
                            "outlinewidth": 0,
                            "ticks": ""
                          }
                        },
                        "type": "histogram"
                      }
                    ],
                    "histogram2d": [
                      {
                        "colorbar": {
                          "outlinewidth": 0,
                          "ticks": ""
                        },
                        "colorscale": [
                          [
                            0,
                            "#0d0887"
                          ],
                          [
                            0.1111111111111111,
                            "#46039f"
                          ],
                          [
                            0.2222222222222222,
                            "#7201a8"
                          ],
                          [
                            0.3333333333333333,
                            "#9c179e"
                          ],
                          [
                            0.4444444444444444,
                            "#bd3786"
                          ],
                          [
                            0.5555555555555556,
                            "#d8576b"
                          ],
                          [
                            0.6666666666666666,
                            "#ed7953"
                          ],
                          [
                            0.7777777777777778,
                            "#fb9f3a"
                          ],
                          [
                            0.8888888888888888,
                            "#fdca26"
                          ],
                          [
                            1,
                            "#f0f921"
                          ]
                        ],
                        "type": "histogram2d"
                      }
                    ],
                    "histogram2dcontour": [
                      {
                        "colorbar": {
                          "outlinewidth": 0,
                          "ticks": ""
                        },
                        "colorscale": [
                          [
                            0,
                            "#0d0887"
                          ],
                          [
                            0.1111111111111111,
                            "#46039f"
                          ],
                          [
                            0.2222222222222222,
                            "#7201a8"
                          ],
                          [
                            0.3333333333333333,
                            "#9c179e"
                          ],
                          [
                            0.4444444444444444,
                            "#bd3786"
                          ],
                          [
                            0.5555555555555556,
                            "#d8576b"
                          ],
                          [
                            0.6666666666666666,
                            "#ed7953"
                          ],
                          [
                            0.7777777777777778,
                            "#fb9f3a"
                          ],
                          [
                            0.8888888888888888,
                            "#fdca26"
                          ],
                          [
                            1,
                            "#f0f921"
                          ]
                        ],
                        "type": "histogram2dcontour"
                      }
                    ],
                    "mesh3d": [
                      {
                        "colorbar": {
                          "outlinewidth": 0,
                          "ticks": ""
                        },
                        "type": "mesh3d"
                      }
                    ],
                    "parcoords": [
                      {
                        "line": {
                          "colorbar": {
                            "outlinewidth": 0,
                            "ticks": ""
                          }
                        },
                        "type": "parcoords"
                      }
                    ],
                    "pie": [
                      {
                        "automargin": true,
                        "type": "pie"
                      }
                    ],
                    "scatter": [
                      {
                        "marker": {
                          "colorbar": {
                            "outlinewidth": 0,
                            "ticks": ""
                          }
                        },
                        "type": "scatter"
                      }
                    ],
                    "scatter3d": [
                      {
                        "line": {
                          "colorbar": {
                            "outlinewidth": 0,
                            "ticks": ""
                          }
                        },
                        "marker": {
                          "colorbar": {
                            "outlinewidth": 0,
                            "ticks": ""
                          }
                        },
                        "type": "scatter3d"
                      }
                    ],
                    "scattercarpet": [
                      {
                        "marker": {
                          "colorbar": {
                            "outlinewidth": 0,
                            "ticks": ""
                          }
                        },
                        "type": "scattercarpet"
                      }
                    ],
                    "scattergeo": [
                      {
                        "marker": {
                          "colorbar": {
                            "outlinewidth": 0,
                            "ticks": ""
                          }
                        },
                        "type": "scattergeo"
                      }
                    ],
                    "scattergl": [
                      {
                        "marker": {
                          "colorbar": {
                            "outlinewidth": 0,
                            "ticks": ""
                          }
                        },
                        "type": "scattergl"
                      }
                    ],
                    "scattermapbox": [
                      {
                        "marker": {
                          "colorbar": {
                            "outlinewidth": 0,
                            "ticks": ""
                          }
                        },
                        "type": "scattermapbox"
                      }
                    ],
                    "scatterpolar": [
                      {
                        "marker": {
                          "colorbar": {
                            "outlinewidth": 0,
                            "ticks": ""
                          }
                        },
                        "type": "scatterpolar"
                      }
                    ],
                    "scatterpolargl": [
                      {
                        "marker": {
                          "colorbar": {
                            "outlinewidth": 0,
                            "ticks": ""
                          }
                        },
                        "type": "scatterpolargl"
                      }
                    ],
                    "scatterternary": [
                      {
                        "marker": {
                          "colorbar": {
                            "outlinewidth": 0,
                            "ticks": ""
                          }
                        },
                        "type": "scatterternary"
                      }
                    ],
                    "surface": [
                      {
                        "colorbar": {
                          "outlinewidth": 0,
                          "ticks": ""
                        },
                        "colorscale": [
                          [
                            0,
                            "#0d0887"
                          ],
                          [
                            0.1111111111111111,
                            "#46039f"
                          ],
                          [
                            0.2222222222222222,
                            "#7201a8"
                          ],
                          [
                            0.3333333333333333,
                            "#9c179e"
                          ],
                          [
                            0.4444444444444444,
                            "#bd3786"
                          ],
                          [
                            0.5555555555555556,
                            "#d8576b"
                          ],
                          [
                            0.6666666666666666,
                            "#ed7953"
                          ],
                          [
                            0.7777777777777778,
                            "#fb9f3a"
                          ],
                          [
                            0.8888888888888888,
                            "#fdca26"
                          ],
                          [
                            1,
                            "#f0f921"
                          ]
                        ],
                        "type": "surface"
                      }
                    ],
                    "table": [
                      {
                        "cells": {
                          "fill": {
                            "color": "#EBF0F8"
                          },
                          "line": {
                            "color": "white"
                          }
                        },
                        "header": {
                          "fill": {
                            "color": "#C8D4E3"
                          },
                          "line": {
                            "color": "white"
                          }
                        },
                        "type": "table"
                      }
                    ]
                  },
                  "layout": {
                    "annotationdefaults": {
                      "arrowcolor": "#2a3f5f",
                      "arrowhead": 0,
                      "arrowwidth": 1
                    },
                    "coloraxis": {
                      "colorbar": {
                        "outlinewidth": 0,
                        "ticks": ""
                      }
                    },
                    "colorscale": {
                      "diverging": [
                        [
                          0,
                          "#8e0152"
                        ],
                        [
                          0.1,
                          "#c51b7d"
                        ],
                        [
                          0.2,
                          "#de77ae"
                        ],
                        [
                          0.3,
                          "#f1b6da"
                        ],
                        [
                          0.4,
                          "#fde0ef"
                        ],
                        [
                          0.5,
                          "#f7f7f7"
                        ],
                        [
                          0.6,
                          "#e6f5d0"
                        ],
                        [
                          0.7,
                          "#b8e186"
                        ],
                        [
                          0.8,
                          "#7fbc41"
                        ],
                        [
                          0.9,
                          "#4d9221"
                        ],
                        [
                          1,
                          "#276419"
                        ]
                      ],
                      "sequential": [
                        [
                          0,
                          "#0d0887"
                        ],
                        [
                          0.1111111111111111,
                          "#46039f"
                        ],
                        [
                          0.2222222222222222,
                          "#7201a8"
                        ],
                        [
                          0.3333333333333333,
                          "#9c179e"
                        ],
                        [
                          0.4444444444444444,
                          "#bd3786"
                        ],
                        [
                          0.5555555555555556,
                          "#d8576b"
                        ],
                        [
                          0.6666666666666666,
                          "#ed7953"
                        ],
                        [
                          0.7777777777777778,
                          "#fb9f3a"
                        ],
                        [
                          0.8888888888888888,
                          "#fdca26"
                        ],
                        [
                          1,
                          "#f0f921"
                        ]
                      ],
                      "sequentialminus": [
                        [
                          0,
                          "#0d0887"
                        ],
                        [
                          0.1111111111111111,
                          "#46039f"
                        ],
                        [
                          0.2222222222222222,
                          "#7201a8"
                        ],
                        [
                          0.3333333333333333,
                          "#9c179e"
                        ],
                        [
                          0.4444444444444444,
                          "#bd3786"
                        ],
                        [
                          0.5555555555555556,
                          "#d8576b"
                        ],
                        [
                          0.6666666666666666,
                          "#ed7953"
                        ],
                        [
                          0.7777777777777778,
                          "#fb9f3a"
                        ],
                        [
                          0.8888888888888888,
                          "#fdca26"
                        ],
                        [
                          1,
                          "#f0f921"
                        ]
                      ]
                    },
                    "colorway": [
                      "#636efa",
                      "#EF553B",
                      "#00cc96",
                      "#ab63fa",
                      "#FFA15A",
                      "#19d3f3",
                      "#FF6692",
                      "#B6E880",
                      "#FF97FF",
                      "#FECB52"
                    ],
                    "font": {
                      "color": "#2a3f5f"
                    },
                    "geo": {
                      "bgcolor": "white",
                      "lakecolor": "white",
                      "landcolor": "#E5ECF6",
                      "showlakes": true,
                      "showland": true,
                      "subunitcolor": "white"
                    },
                    "hoverlabel": {
                      "align": "left"
                    },
                    "hovermode": "closest",
                    "mapbox": {
                      "style": "light"
                    },
                    "paper_bgcolor": "white",
                    "plot_bgcolor": "#E5ECF6",
                    "polar": {
                      "angularaxis": {
                        "gridcolor": "white",
                        "linecolor": "white",
                        "ticks": ""
                      },
                      "bgcolor": "#E5ECF6",
                      "radialaxis": {
                        "gridcolor": "white",
                        "linecolor": "white",
                        "ticks": ""
                      }
                    },
                    "scene": {
                      "xaxis": {
                        "backgroundcolor": "#E5ECF6",
                        "gridcolor": "white",
                        "gridwidth": 2,
                        "linecolor": "white",
                        "showbackground": true,
                        "ticks": "",
                        "zerolinecolor": "white"
                      },
                      "yaxis": {
                        "backgroundcolor": "#E5ECF6",
                        "gridcolor": "white",
                        "gridwidth": 2,
                        "linecolor": "white",
                        "showbackground": true,
                        "ticks": "",
                        "zerolinecolor": "white"
                      },
                      "zaxis": {
                        "backgroundcolor": "#E5ECF6",
                        "gridcolor": "white",
                        "gridwidth": 2,
                        "linecolor": "white",
                        "showbackground": true,
                        "ticks": "",
                        "zerolinecolor": "white"
                      }
                    },
                    "shapedefaults": {
                      "line": {
                        "color": "#2a3f5f"
                      }
                    },
                    "ternary": {
                      "aaxis": {
                        "gridcolor": "white",
                        "linecolor": "white",
                        "ticks": ""
                      },
                      "baxis": {
                        "gridcolor": "white",
                        "linecolor": "white",
                        "ticks": ""
                      },
                      "bgcolor": "#E5ECF6",
                      "caxis": {
                        "gridcolor": "white",
                        "linecolor": "white",
                        "ticks": ""
                      }
                    },
                    "title": {
                      "x": 0.05
                    },
                    "xaxis": {
                      "automargin": true,
                      "gridcolor": "white",
                      "linecolor": "white",
                      "ticks": "",
                      "title": {
                        "standoff": 15
                      },
                      "zerolinecolor": "white",
                      "zerolinewidth": 2
                    },
                    "yaxis": {
                      "automargin": true,
                      "gridcolor": "white",
                      "linecolor": "white",
                      "ticks": "",
                      "title": {
                        "standoff": 15
                      },
                      "zerolinecolor": "white",
                      "zerolinewidth": 2
                    }
                  }
                },
                "title": {
                  "text": "Optimization History Plot"
                },
                "xaxis": {
                  "title": {
                    "text": "#Trials"
                  }
                },
                "yaxis": {
                  "title": {
                    "text": "Objective Value"
                  }
                }
              }
            }
          },
          "metadata": {}
        }
      ],
      "source": [
        "model.plot_opt_history()"
      ]
    },
    {
      "cell_type": "code",
      "execution_count": 64,
      "metadata": {},
      "outputs": [
        {
          "output_type": "execute_result",
          "data": {
            "text/plain": [
              "{'random_seed': 42,\n",
              " 'num_iterations': 300,\n",
              " 'verbose': -1,\n",
              " 'device_type': 'cpu',\n",
              " 'objective': 'regression',\n",
              " 'num_leaves': 9,\n",
              " 'min_child_samples': 25}"
            ]
          },
          "metadata": {},
          "execution_count": 64
        }
      ],
      "source": [
        "model.model_param"
      ]
    },
    {
      "cell_type": "code",
      "execution_count": 73,
      "metadata": {},
      "outputs": [
        {
          "output_type": "stream",
          "name": "stdout",
          "text": [
            "Test MSE:  0.0997\n"
          ]
        }
      ],
      "source": [
        "model.fit(X_train, y_train)\n",
        "predicts = model.predict(X_test)\n",
        "print('Test MSE: ', round(sklearn.metrics.mean_squared_error(y_test, predicts),4))"
      ]
    },
    {
      "cell_type": "markdown",
      "metadata": {
        "id": "UyDu6ufSbV6G",
        "colab_type": "text"
      },
      "source": [
        "# Advanced Use"
      ]
    },
    {
      "cell_type": "code",
      "execution_count": 89,
      "metadata": {},
      "outputs": [
        {
          "output_type": "execute_result",
          "data": {
            "text/plain": [
              "  age         workclass    fnlwgt  education  education-num  \\\n",
              "0   2         State-gov   77516.0  Bachelors           13.0   \n",
              "1   3  Self-emp-not-inc   83311.0  Bachelors           13.0   \n",
              "2   2           Private  215646.0    HS-grad            9.0   \n",
              "3   3           Private  234721.0       11th            7.0   \n",
              "4   1           Private  338409.0  Bachelors           13.0   \n",
              "\n",
              "       marital-status         occupation   relationship   race     sex  \\\n",
              "0       Never-married       Adm-clerical  Not-in-family  White    Male   \n",
              "1  Married-civ-spouse    Exec-managerial        Husband  White    Male   \n",
              "2            Divorced  Handlers-cleaners  Not-in-family  White    Male   \n",
              "3  Married-civ-spouse  Handlers-cleaners        Husband  Black    Male   \n",
              "4  Married-civ-spouse     Prof-specialty           Wife  Black  Female   \n",
              "\n",
              "  capitalgain capitalloss hoursperweek native-country  \n",
              "0           1           0            2  United-States  \n",
              "1           0           0            0  United-States  \n",
              "2           0           0            2  United-States  \n",
              "3           0           0            2  United-States  \n",
              "4           0           0            2           Cuba  "
            ],
            "text/html": "<div>\n<style scoped>\n    .dataframe tbody tr th:only-of-type {\n        vertical-align: middle;\n    }\n\n    .dataframe tbody tr th {\n        vertical-align: top;\n    }\n\n    .dataframe thead th {\n        text-align: right;\n    }\n</style>\n<table border=\"1\" class=\"dataframe\">\n  <thead>\n    <tr style=\"text-align: right;\">\n      <th></th>\n      <th>age</th>\n      <th>workclass</th>\n      <th>fnlwgt</th>\n      <th>education</th>\n      <th>education-num</th>\n      <th>marital-status</th>\n      <th>occupation</th>\n      <th>relationship</th>\n      <th>race</th>\n      <th>sex</th>\n      <th>capitalgain</th>\n      <th>capitalloss</th>\n      <th>hoursperweek</th>\n      <th>native-country</th>\n    </tr>\n  </thead>\n  <tbody>\n    <tr>\n      <th>0</th>\n      <td>2</td>\n      <td>State-gov</td>\n      <td>77516.0</td>\n      <td>Bachelors</td>\n      <td>13.0</td>\n      <td>Never-married</td>\n      <td>Adm-clerical</td>\n      <td>Not-in-family</td>\n      <td>White</td>\n      <td>Male</td>\n      <td>1</td>\n      <td>0</td>\n      <td>2</td>\n      <td>United-States</td>\n    </tr>\n    <tr>\n      <th>1</th>\n      <td>3</td>\n      <td>Self-emp-not-inc</td>\n      <td>83311.0</td>\n      <td>Bachelors</td>\n      <td>13.0</td>\n      <td>Married-civ-spouse</td>\n      <td>Exec-managerial</td>\n      <td>Husband</td>\n      <td>White</td>\n      <td>Male</td>\n      <td>0</td>\n      <td>0</td>\n      <td>0</td>\n      <td>United-States</td>\n    </tr>\n    <tr>\n      <th>2</th>\n      <td>2</td>\n      <td>Private</td>\n      <td>215646.0</td>\n      <td>HS-grad</td>\n      <td>9.0</td>\n      <td>Divorced</td>\n      <td>Handlers-cleaners</td>\n      <td>Not-in-family</td>\n      <td>White</td>\n      <td>Male</td>\n      <td>0</td>\n      <td>0</td>\n      <td>2</td>\n      <td>United-States</td>\n    </tr>\n    <tr>\n      <th>3</th>\n      <td>3</td>\n      <td>Private</td>\n      <td>234721.0</td>\n      <td>11th</td>\n      <td>7.0</td>\n      <td>Married-civ-spouse</td>\n      <td>Handlers-cleaners</td>\n      <td>Husband</td>\n      <td>Black</td>\n      <td>Male</td>\n      <td>0</td>\n      <td>0</td>\n      <td>2</td>\n      <td>United-States</td>\n    </tr>\n    <tr>\n      <th>4</th>\n      <td>1</td>\n      <td>Private</td>\n      <td>338409.0</td>\n      <td>Bachelors</td>\n      <td>13.0</td>\n      <td>Married-civ-spouse</td>\n      <td>Prof-specialty</td>\n      <td>Wife</td>\n      <td>Black</td>\n      <td>Female</td>\n      <td>0</td>\n      <td>0</td>\n      <td>2</td>\n      <td>Cuba</td>\n    </tr>\n  </tbody>\n</table>\n</div>"
          },
          "metadata": {},
          "execution_count": 89
        }
      ],
      "source": [
        "dataset = fetch_openml(name='adult', version=1, as_frame=True)\n",
        "# convert target to binary\n",
        "dataset.target = dataset.target.astype('category').cat.codes\n",
        "dataset.data.head(5)"
      ]
    },
    {
      "cell_type": "code",
      "execution_count": 90,
      "metadata": {},
      "outputs": [
        {
          "output_type": "execute_result",
          "data": {
            "text/plain": [
              "((39073, 14), (9769, 14))"
            ]
          },
          "metadata": {},
          "execution_count": 90
        }
      ],
      "source": [
        "X_train, X_test, y_train, y_test = train_test_split(dataset.data, \n",
        "                                                    dataset.target,\n",
        "                                                    test_size=0.2, \n",
        "                                                    random_state=RANDOM_SEED,)\n",
        "X_train.shape, X_test.shape"
      ]
    },
    {
      "cell_type": "code",
      "execution_count": 91,
      "metadata": {},
      "outputs": [
        {
          "output_type": "stream",
          "name": "stderr",
          "text": [
            "23:34:33 | Source data shape: (39073, 14)\n",
            "23:34:33 | ##################################################\n",
            "23:34:33 | ! START preprocessing Data\n",
            "23:34:33 | - Auto detect cat features: 12\n",
            "23:34:33 | > Binary Features\n",
            "23:34:33 | > Clean Categorical Features\n",
            "23:34:33 | > Transform Categorical Features.\n",
            "23:34:34 |  - Encoder: HelmertEncoder ADD features: 123\n",
            "23:34:34 |  - Encoder: CountEncoder ADD features: 12\n",
            "23:34:34 | > CleanOutliers\n",
            "23:34:34 | Num of outlier detected: 560 in Feature fnlwgt\n",
            "23:34:34 | Proportion of outlier detected: 1.4 %\n",
            "23:34:34 | Num of outlier detected: 253 in Feature education-num\n",
            "23:34:34 | Proportion of outlier detected: 0.6 %\n",
            "23:34:34 |   No nans features\n",
            "23:34:34 | > Generate interaction Num Features\n",
            "23:34:34 |  ADD features: 5\n",
            "23:34:35 | > Normalization Features\n",
            "23:34:35 | ##################################################\n",
            "23:34:35 | Final data shape: (39073, 156)\n",
            "23:34:35 | Total ADD columns: 142\n",
            "23:34:35 | ##################################################\n",
            "23:34:35 | ##################################################\n",
            "23:34:35 | ! Start Transform Data\n",
            "23:34:35 | > Clean Binary Features\n",
            "23:34:35 | > Clean Categorical Features\n",
            "23:34:35 | > Transform Categorical Features.\n",
            "23:34:35 |  - Encoder: HelmertEncoder ADD features: 123\n",
            "23:34:35 |  - Encoder: CountEncoder ADD features: 12\n",
            "23:34:35 | > Generate interaction Num Features\n",
            "23:34:35 |  ADD features: 5\n",
            "23:34:35 | > Normalization Features\n",
            "23:34:36 | ##################################################\n",
            "23:34:36 | Final data shape: (9769, 156)\n",
            "23:34:36 | Total ADD columns: 142\n",
            "23:34:36 | ##################################################\n"
          ]
        }
      ],
      "source": [
        "de = DataPrepare(random_state=RANDOM_SEED)\n",
        "X_train = de.fit_transform(X_train)\n",
        "X_test = de.transform(X_test)"
      ]
    },
    {
      "cell_type": "code",
      "execution_count": 95,
      "metadata": {},
      "outputs": [
        {
          "output_type": "stream",
          "name": "stdout",
          "text": [
            "Test metric:  4.9569\n"
          ]
        }
      ],
      "source": [
        "model = LightGBMClassifier(random_state=RANDOM_SEED)\n",
        "model.fit(X_train, y_train)\n",
        "predicts = model.predict(X_test)\n",
        "print('Test metric: ', round(sklearn.metrics.log_loss(y_test, predicts),4))"
      ]
    },
    {
      "cell_type": "markdown",
      "metadata": {},
      "source": [
        "## Advanced opt"
      ]
    },
    {
      "cell_type": "code",
      "metadata": {
        "ExecuteTime": {
          "end_time": "2020-05-07T08:52:14.362888Z",
          "start_time": "2020-05-07T08:42:07.420500Z"
        },
        "id": "7GMuIW6UbV6J",
        "colab_type": "code",
        "colab": {
          "base_uri": "https://localhost:8080/",
          "height": 187
        },
        "outputId": "ca594d1b-bd4b-42cf-ff1a-6444add1ae92",
        "tags": []
      },
      "source": [
        "history = model.opt(\n",
        "            X_train, y_train,\n",
        "            metric=sklearn.metrics.log_loss, # log_loss\n",
        "            timeout=600, # sec\n",
        "            auto_parameters=False, # try to set the rules ourselves\n",
        "            folds=10,\n",
        "            score_folds=3, # put 3 folds\n",
        "            cold_start=50, # I plan > 200 iterations. 50 iterations are enough to evaluate the space\n",
        "            opt_lvl=3,\n",
        "            early_stoping=100, # stop otimization if no better parameters are found through iterations\n",
        "            verbose=3,)"
      ],
      "execution_count": 96,
      "outputs": [
        {
          "output_type": "stream",
          "name": "stderr",
          "text": [
            "23:39:07 | ##################################################\n",
            "23:39:08 | > Step 1: calc parameters and pruned score: get test 10 trials\n",
            "23:47:16 |  One iteration ~ 48.8 sec\n",
            "23:47:16 |  Possible iters ~ 12.0\n",
            "23:47:16 | ! Not enough time to find the optimal parameters. \n",
            "                     Possible iters < 100. \n",
            "                     Please, Increase the 'timeout' parameter for normal optimization.\n",
            "23:47:16 | --------------------------------------------------\n",
            "23:47:16 |   Pruned Threshold Score: 0.3186\n",
            "23:47:16 | ##################################################\n",
            "23:47:16 | > Step 2: Full opt with Threshold Score Pruner\n",
            "23:47:16 | ##################################################\n",
            "23:47:16 | > Start optimization with the parameters:\n",
            "23:47:16 | CV_Folds = 10\n",
            "23:47:16 | Score_CV_Folds = 3\n",
            "23:47:16 | Feature_Selection = False\n",
            "23:47:16 | Opt_lvl = 3\n",
            "23:47:16 | Cold_start = 50\n",
            "23:47:16 | Early_stoping = 100\n",
            "23:47:16 | Metric = log_loss\n",
            "23:47:16 | Direction = minimize\n",
            "23:47:16 | ##################################################\n",
            "Optimize: : 11it [10:21, 56.53s/it, | Model: LightGBM | OptScore: 0.3155 | Best log_loss: 0.313 ]\n",
            "23:57:38 | > Finish Opt!\n",
            "Finished loading model, total used 900 iterations\n",
            "Finished loading model, total used 900 iterations\n",
            "Finished loading model, total used 900 iterations\n",
            "Finished loading model, total used 900 iterations\n",
            "Finished loading model, total used 900 iterations\n",
            "Finished loading model, total used 900 iterations\n",
            "Finished loading model, total used 900 iterations\n",
            "Finished loading model, total used 900 iterations\n",
            "Finished loading model, total used 900 iterations\n",
            "Finished loading model, total used 900 iterations\n",
            "00:00:42 | Best Score: 0.313 log_loss\n"
          ]
        }
      ]
    },
    {
      "cell_type": "code",
      "metadata": {
        "ExecuteTime": {
          "end_time": "2020-05-07T08:52:50.083150Z",
          "start_time": "2020-05-07T08:52:14.366249Z"
        },
        "id": "H0SxAZPbbV6L",
        "colab_type": "code",
        "colab": {
          "base_uri": "https://localhost:8080/",
          "height": 51
        },
        "outputId": "23308887-3710-4f7b-feb8-7b7b65e29716",
        "tags": []
      },
      "source": [
        "model.fit(X_train, y_train)\n",
        "predicts = model.predict(X_test)\n",
        "print('Test metric: ', round(sklearn.metrics.log_loss(y_test, predicts),4))"
      ],
      "execution_count": 97,
      "outputs": [
        {
          "output_type": "stream",
          "name": "stdout",
          "text": [
            "Test metric:  4.9569\n"
          ]
        }
      ]
    },
    {
      "cell_type": "code",
      "metadata": {
        "id": "m52jjJJlbV6M",
        "colab_type": "code",
        "colab": {
          "base_uri": "https://localhost:8080/",
          "height": 350
        },
        "outputId": "6c08ebd5-ef2a-4b24-aecb-1f3dce418918"
      },
      "source": [
        "model.plot_opt_history()"
      ],
      "execution_count": 98,
      "outputs": [
        {
          "output_type": "display_data",
          "data": {
            "application/vnd.plotly.v1+json": {
              "config": {
                "plotlyServerURL": "https://plot.ly"
              },
              "data": [
                {
                  "mode": "markers",
                  "name": "Objective Value",
                  "type": "scatter",
                  "x": [
                    0,
                    1,
                    2,
                    3,
                    4,
                    5,
                    6,
                    7,
                    8,
                    9,
                    11,
                    12,
                    14,
                    15,
                    16,
                    17,
                    18,
                    19,
                    20,
                    21,
                    22
                  ],
                  "y": [
                    0.3303,
                    0.3472,
                    0.3133,
                    0.3178,
                    0.3174,
                    0.5047,
                    0.318,
                    0.3192,
                    0.3193,
                    0.3148,
                    0.3224,
                    0.3174,
                    0.3138,
                    0.3133,
                    0.313,
                    0.3156,
                    0.3323,
                    0.3267,
                    0.3279,
                    0.3356,
                    0.3155
                  ]
                },
                {
                  "name": "Best Value",
                  "type": "scatter",
                  "x": [
                    0,
                    1,
                    2,
                    3,
                    4,
                    5,
                    6,
                    7,
                    8,
                    9,
                    11,
                    12,
                    14,
                    15,
                    16,
                    17,
                    18,
                    19,
                    20,
                    21,
                    22
                  ],
                  "y": [
                    0.3303,
                    0.3303,
                    0.3133,
                    0.3133,
                    0.3133,
                    0.3133,
                    0.3133,
                    0.3133,
                    0.3133,
                    0.3133,
                    0.3133,
                    0.3133,
                    0.3133,
                    0.3133,
                    0.313,
                    0.313,
                    0.313,
                    0.313,
                    0.313,
                    0.313,
                    0.313
                  ]
                }
              ],
              "layout": {
                "template": {
                  "data": {
                    "bar": [
                      {
                        "error_x": {
                          "color": "#2a3f5f"
                        },
                        "error_y": {
                          "color": "#2a3f5f"
                        },
                        "marker": {
                          "line": {
                            "color": "#E5ECF6",
                            "width": 0.5
                          }
                        },
                        "type": "bar"
                      }
                    ],
                    "barpolar": [
                      {
                        "marker": {
                          "line": {
                            "color": "#E5ECF6",
                            "width": 0.5
                          }
                        },
                        "type": "barpolar"
                      }
                    ],
                    "carpet": [
                      {
                        "aaxis": {
                          "endlinecolor": "#2a3f5f",
                          "gridcolor": "white",
                          "linecolor": "white",
                          "minorgridcolor": "white",
                          "startlinecolor": "#2a3f5f"
                        },
                        "baxis": {
                          "endlinecolor": "#2a3f5f",
                          "gridcolor": "white",
                          "linecolor": "white",
                          "minorgridcolor": "white",
                          "startlinecolor": "#2a3f5f"
                        },
                        "type": "carpet"
                      }
                    ],
                    "choropleth": [
                      {
                        "colorbar": {
                          "outlinewidth": 0,
                          "ticks": ""
                        },
                        "type": "choropleth"
                      }
                    ],
                    "contour": [
                      {
                        "colorbar": {
                          "outlinewidth": 0,
                          "ticks": ""
                        },
                        "colorscale": [
                          [
                            0,
                            "#0d0887"
                          ],
                          [
                            0.1111111111111111,
                            "#46039f"
                          ],
                          [
                            0.2222222222222222,
                            "#7201a8"
                          ],
                          [
                            0.3333333333333333,
                            "#9c179e"
                          ],
                          [
                            0.4444444444444444,
                            "#bd3786"
                          ],
                          [
                            0.5555555555555556,
                            "#d8576b"
                          ],
                          [
                            0.6666666666666666,
                            "#ed7953"
                          ],
                          [
                            0.7777777777777778,
                            "#fb9f3a"
                          ],
                          [
                            0.8888888888888888,
                            "#fdca26"
                          ],
                          [
                            1,
                            "#f0f921"
                          ]
                        ],
                        "type": "contour"
                      }
                    ],
                    "contourcarpet": [
                      {
                        "colorbar": {
                          "outlinewidth": 0,
                          "ticks": ""
                        },
                        "type": "contourcarpet"
                      }
                    ],
                    "heatmap": [
                      {
                        "colorbar": {
                          "outlinewidth": 0,
                          "ticks": ""
                        },
                        "colorscale": [
                          [
                            0,
                            "#0d0887"
                          ],
                          [
                            0.1111111111111111,
                            "#46039f"
                          ],
                          [
                            0.2222222222222222,
                            "#7201a8"
                          ],
                          [
                            0.3333333333333333,
                            "#9c179e"
                          ],
                          [
                            0.4444444444444444,
                            "#bd3786"
                          ],
                          [
                            0.5555555555555556,
                            "#d8576b"
                          ],
                          [
                            0.6666666666666666,
                            "#ed7953"
                          ],
                          [
                            0.7777777777777778,
                            "#fb9f3a"
                          ],
                          [
                            0.8888888888888888,
                            "#fdca26"
                          ],
                          [
                            1,
                            "#f0f921"
                          ]
                        ],
                        "type": "heatmap"
                      }
                    ],
                    "heatmapgl": [
                      {
                        "colorbar": {
                          "outlinewidth": 0,
                          "ticks": ""
                        },
                        "colorscale": [
                          [
                            0,
                            "#0d0887"
                          ],
                          [
                            0.1111111111111111,
                            "#46039f"
                          ],
                          [
                            0.2222222222222222,
                            "#7201a8"
                          ],
                          [
                            0.3333333333333333,
                            "#9c179e"
                          ],
                          [
                            0.4444444444444444,
                            "#bd3786"
                          ],
                          [
                            0.5555555555555556,
                            "#d8576b"
                          ],
                          [
                            0.6666666666666666,
                            "#ed7953"
                          ],
                          [
                            0.7777777777777778,
                            "#fb9f3a"
                          ],
                          [
                            0.8888888888888888,
                            "#fdca26"
                          ],
                          [
                            1,
                            "#f0f921"
                          ]
                        ],
                        "type": "heatmapgl"
                      }
                    ],
                    "histogram": [
                      {
                        "marker": {
                          "colorbar": {
                            "outlinewidth": 0,
                            "ticks": ""
                          }
                        },
                        "type": "histogram"
                      }
                    ],
                    "histogram2d": [
                      {
                        "colorbar": {
                          "outlinewidth": 0,
                          "ticks": ""
                        },
                        "colorscale": [
                          [
                            0,
                            "#0d0887"
                          ],
                          [
                            0.1111111111111111,
                            "#46039f"
                          ],
                          [
                            0.2222222222222222,
                            "#7201a8"
                          ],
                          [
                            0.3333333333333333,
                            "#9c179e"
                          ],
                          [
                            0.4444444444444444,
                            "#bd3786"
                          ],
                          [
                            0.5555555555555556,
                            "#d8576b"
                          ],
                          [
                            0.6666666666666666,
                            "#ed7953"
                          ],
                          [
                            0.7777777777777778,
                            "#fb9f3a"
                          ],
                          [
                            0.8888888888888888,
                            "#fdca26"
                          ],
                          [
                            1,
                            "#f0f921"
                          ]
                        ],
                        "type": "histogram2d"
                      }
                    ],
                    "histogram2dcontour": [
                      {
                        "colorbar": {
                          "outlinewidth": 0,
                          "ticks": ""
                        },
                        "colorscale": [
                          [
                            0,
                            "#0d0887"
                          ],
                          [
                            0.1111111111111111,
                            "#46039f"
                          ],
                          [
                            0.2222222222222222,
                            "#7201a8"
                          ],
                          [
                            0.3333333333333333,
                            "#9c179e"
                          ],
                          [
                            0.4444444444444444,
                            "#bd3786"
                          ],
                          [
                            0.5555555555555556,
                            "#d8576b"
                          ],
                          [
                            0.6666666666666666,
                            "#ed7953"
                          ],
                          [
                            0.7777777777777778,
                            "#fb9f3a"
                          ],
                          [
                            0.8888888888888888,
                            "#fdca26"
                          ],
                          [
                            1,
                            "#f0f921"
                          ]
                        ],
                        "type": "histogram2dcontour"
                      }
                    ],
                    "mesh3d": [
                      {
                        "colorbar": {
                          "outlinewidth": 0,
                          "ticks": ""
                        },
                        "type": "mesh3d"
                      }
                    ],
                    "parcoords": [
                      {
                        "line": {
                          "colorbar": {
                            "outlinewidth": 0,
                            "ticks": ""
                          }
                        },
                        "type": "parcoords"
                      }
                    ],
                    "pie": [
                      {
                        "automargin": true,
                        "type": "pie"
                      }
                    ],
                    "scatter": [
                      {
                        "marker": {
                          "colorbar": {
                            "outlinewidth": 0,
                            "ticks": ""
                          }
                        },
                        "type": "scatter"
                      }
                    ],
                    "scatter3d": [
                      {
                        "line": {
                          "colorbar": {
                            "outlinewidth": 0,
                            "ticks": ""
                          }
                        },
                        "marker": {
                          "colorbar": {
                            "outlinewidth": 0,
                            "ticks": ""
                          }
                        },
                        "type": "scatter3d"
                      }
                    ],
                    "scattercarpet": [
                      {
                        "marker": {
                          "colorbar": {
                            "outlinewidth": 0,
                            "ticks": ""
                          }
                        },
                        "type": "scattercarpet"
                      }
                    ],
                    "scattergeo": [
                      {
                        "marker": {
                          "colorbar": {
                            "outlinewidth": 0,
                            "ticks": ""
                          }
                        },
                        "type": "scattergeo"
                      }
                    ],
                    "scattergl": [
                      {
                        "marker": {
                          "colorbar": {
                            "outlinewidth": 0,
                            "ticks": ""
                          }
                        },
                        "type": "scattergl"
                      }
                    ],
                    "scattermapbox": [
                      {
                        "marker": {
                          "colorbar": {
                            "outlinewidth": 0,
                            "ticks": ""
                          }
                        },
                        "type": "scattermapbox"
                      }
                    ],
                    "scatterpolar": [
                      {
                        "marker": {
                          "colorbar": {
                            "outlinewidth": 0,
                            "ticks": ""
                          }
                        },
                        "type": "scatterpolar"
                      }
                    ],
                    "scatterpolargl": [
                      {
                        "marker": {
                          "colorbar": {
                            "outlinewidth": 0,
                            "ticks": ""
                          }
                        },
                        "type": "scatterpolargl"
                      }
                    ],
                    "scatterternary": [
                      {
                        "marker": {
                          "colorbar": {
                            "outlinewidth": 0,
                            "ticks": ""
                          }
                        },
                        "type": "scatterternary"
                      }
                    ],
                    "surface": [
                      {
                        "colorbar": {
                          "outlinewidth": 0,
                          "ticks": ""
                        },
                        "colorscale": [
                          [
                            0,
                            "#0d0887"
                          ],
                          [
                            0.1111111111111111,
                            "#46039f"
                          ],
                          [
                            0.2222222222222222,
                            "#7201a8"
                          ],
                          [
                            0.3333333333333333,
                            "#9c179e"
                          ],
                          [
                            0.4444444444444444,
                            "#bd3786"
                          ],
                          [
                            0.5555555555555556,
                            "#d8576b"
                          ],
                          [
                            0.6666666666666666,
                            "#ed7953"
                          ],
                          [
                            0.7777777777777778,
                            "#fb9f3a"
                          ],
                          [
                            0.8888888888888888,
                            "#fdca26"
                          ],
                          [
                            1,
                            "#f0f921"
                          ]
                        ],
                        "type": "surface"
                      }
                    ],
                    "table": [
                      {
                        "cells": {
                          "fill": {
                            "color": "#EBF0F8"
                          },
                          "line": {
                            "color": "white"
                          }
                        },
                        "header": {
                          "fill": {
                            "color": "#C8D4E3"
                          },
                          "line": {
                            "color": "white"
                          }
                        },
                        "type": "table"
                      }
                    ]
                  },
                  "layout": {
                    "annotationdefaults": {
                      "arrowcolor": "#2a3f5f",
                      "arrowhead": 0,
                      "arrowwidth": 1
                    },
                    "coloraxis": {
                      "colorbar": {
                        "outlinewidth": 0,
                        "ticks": ""
                      }
                    },
                    "colorscale": {
                      "diverging": [
                        [
                          0,
                          "#8e0152"
                        ],
                        [
                          0.1,
                          "#c51b7d"
                        ],
                        [
                          0.2,
                          "#de77ae"
                        ],
                        [
                          0.3,
                          "#f1b6da"
                        ],
                        [
                          0.4,
                          "#fde0ef"
                        ],
                        [
                          0.5,
                          "#f7f7f7"
                        ],
                        [
                          0.6,
                          "#e6f5d0"
                        ],
                        [
                          0.7,
                          "#b8e186"
                        ],
                        [
                          0.8,
                          "#7fbc41"
                        ],
                        [
                          0.9,
                          "#4d9221"
                        ],
                        [
                          1,
                          "#276419"
                        ]
                      ],
                      "sequential": [
                        [
                          0,
                          "#0d0887"
                        ],
                        [
                          0.1111111111111111,
                          "#46039f"
                        ],
                        [
                          0.2222222222222222,
                          "#7201a8"
                        ],
                        [
                          0.3333333333333333,
                          "#9c179e"
                        ],
                        [
                          0.4444444444444444,
                          "#bd3786"
                        ],
                        [
                          0.5555555555555556,
                          "#d8576b"
                        ],
                        [
                          0.6666666666666666,
                          "#ed7953"
                        ],
                        [
                          0.7777777777777778,
                          "#fb9f3a"
                        ],
                        [
                          0.8888888888888888,
                          "#fdca26"
                        ],
                        [
                          1,
                          "#f0f921"
                        ]
                      ],
                      "sequentialminus": [
                        [
                          0,
                          "#0d0887"
                        ],
                        [
                          0.1111111111111111,
                          "#46039f"
                        ],
                        [
                          0.2222222222222222,
                          "#7201a8"
                        ],
                        [
                          0.3333333333333333,
                          "#9c179e"
                        ],
                        [
                          0.4444444444444444,
                          "#bd3786"
                        ],
                        [
                          0.5555555555555556,
                          "#d8576b"
                        ],
                        [
                          0.6666666666666666,
                          "#ed7953"
                        ],
                        [
                          0.7777777777777778,
                          "#fb9f3a"
                        ],
                        [
                          0.8888888888888888,
                          "#fdca26"
                        ],
                        [
                          1,
                          "#f0f921"
                        ]
                      ]
                    },
                    "colorway": [
                      "#636efa",
                      "#EF553B",
                      "#00cc96",
                      "#ab63fa",
                      "#FFA15A",
                      "#19d3f3",
                      "#FF6692",
                      "#B6E880",
                      "#FF97FF",
                      "#FECB52"
                    ],
                    "font": {
                      "color": "#2a3f5f"
                    },
                    "geo": {
                      "bgcolor": "white",
                      "lakecolor": "white",
                      "landcolor": "#E5ECF6",
                      "showlakes": true,
                      "showland": true,
                      "subunitcolor": "white"
                    },
                    "hoverlabel": {
                      "align": "left"
                    },
                    "hovermode": "closest",
                    "mapbox": {
                      "style": "light"
                    },
                    "paper_bgcolor": "white",
                    "plot_bgcolor": "#E5ECF6",
                    "polar": {
                      "angularaxis": {
                        "gridcolor": "white",
                        "linecolor": "white",
                        "ticks": ""
                      },
                      "bgcolor": "#E5ECF6",
                      "radialaxis": {
                        "gridcolor": "white",
                        "linecolor": "white",
                        "ticks": ""
                      }
                    },
                    "scene": {
                      "xaxis": {
                        "backgroundcolor": "#E5ECF6",
                        "gridcolor": "white",
                        "gridwidth": 2,
                        "linecolor": "white",
                        "showbackground": true,
                        "ticks": "",
                        "zerolinecolor": "white"
                      },
                      "yaxis": {
                        "backgroundcolor": "#E5ECF6",
                        "gridcolor": "white",
                        "gridwidth": 2,
                        "linecolor": "white",
                        "showbackground": true,
                        "ticks": "",
                        "zerolinecolor": "white"
                      },
                      "zaxis": {
                        "backgroundcolor": "#E5ECF6",
                        "gridcolor": "white",
                        "gridwidth": 2,
                        "linecolor": "white",
                        "showbackground": true,
                        "ticks": "",
                        "zerolinecolor": "white"
                      }
                    },
                    "shapedefaults": {
                      "line": {
                        "color": "#2a3f5f"
                      }
                    },
                    "ternary": {
                      "aaxis": {
                        "gridcolor": "white",
                        "linecolor": "white",
                        "ticks": ""
                      },
                      "baxis": {
                        "gridcolor": "white",
                        "linecolor": "white",
                        "ticks": ""
                      },
                      "bgcolor": "#E5ECF6",
                      "caxis": {
                        "gridcolor": "white",
                        "linecolor": "white",
                        "ticks": ""
                      }
                    },
                    "title": {
                      "x": 0.05
                    },
                    "xaxis": {
                      "automargin": true,
                      "gridcolor": "white",
                      "linecolor": "white",
                      "ticks": "",
                      "title": {
                        "standoff": 15
                      },
                      "zerolinecolor": "white",
                      "zerolinewidth": 2
                    },
                    "yaxis": {
                      "automargin": true,
                      "gridcolor": "white",
                      "linecolor": "white",
                      "ticks": "",
                      "title": {
                        "standoff": 15
                      },
                      "zerolinecolor": "white",
                      "zerolinewidth": 2
                    }
                  }
                },
                "title": {
                  "text": "Optimization History Plot"
                },
                "xaxis": {
                  "title": {
                    "text": "#Trials"
                  }
                },
                "yaxis": {
                  "title": {
                    "text": "Objective Value"
                  }
                }
              }
            }
          },
          "metadata": {}
        }
      ]
    },
    {
      "cell_type": "code",
      "execution_count": 7,
      "metadata": {},
      "outputs": [
        {
          "output_type": "display_data",
          "data": {
            "application/vnd.plotly.v1+json": {
              "config": {
                "plotlyServerURL": "https://plot.ly"
              },
              "data": [
                {
                  "cliponaxis": false,
                  "hovertemplate": [
                    "lgbm_num_iterations (IntUniformDistribution): 0.04319428169254341<extra></extra>",
                    "lgbm_min_child_samples (IntLogUniformDistribution): 0.06809063035541844<extra></extra>",
                    "lgbm_bagging_fraction (DiscreteUniformDistribution): 0.10001610336821992<extra></extra>",
                    "lgbm_num_leaves (IntLogUniformDistribution): 0.38066928090425545<extra></extra>",
                    "lgbm_learning_rate (LogUniformDistribution): 0.4080297036795628<extra></extra>"
                  ],
                  "marker": {
                    "color": [
                      "rgb(8,81,156)",
                      "rgb(8,81,156)",
                      "rgb(8,48,107)",
                      "rgb(8,81,156)",
                      "rgb(8,48,107)"
                    ]
                  },
                  "orientation": "h",
                  "text": [
                    "0.04319428169254341",
                    "0.06809063035541844",
                    "0.10001610336821992",
                    "0.38066928090425545",
                    "0.4080297036795628"
                  ],
                  "textposition": "outside",
                  "texttemplate": "%{text:.2f}",
                  "type": "bar",
                  "x": [
                    0.04319428169254341,
                    0.06809063035541844,
                    0.10001610336821992,
                    0.38066928090425545,
                    0.4080297036795628
                  ],
                  "y": [
                    "lgbm_num_iterations",
                    "lgbm_min_child_samples",
                    "lgbm_bagging_fraction",
                    "lgbm_num_leaves",
                    "lgbm_learning_rate"
                  ]
                }
              ],
              "layout": {
                "showlegend": false,
                "template": {
                  "data": {
                    "bar": [
                      {
                        "error_x": {
                          "color": "#2a3f5f"
                        },
                        "error_y": {
                          "color": "#2a3f5f"
                        },
                        "marker": {
                          "line": {
                            "color": "#E5ECF6",
                            "width": 0.5
                          }
                        },
                        "type": "bar"
                      }
                    ],
                    "barpolar": [
                      {
                        "marker": {
                          "line": {
                            "color": "#E5ECF6",
                            "width": 0.5
                          }
                        },
                        "type": "barpolar"
                      }
                    ],
                    "carpet": [
                      {
                        "aaxis": {
                          "endlinecolor": "#2a3f5f",
                          "gridcolor": "white",
                          "linecolor": "white",
                          "minorgridcolor": "white",
                          "startlinecolor": "#2a3f5f"
                        },
                        "baxis": {
                          "endlinecolor": "#2a3f5f",
                          "gridcolor": "white",
                          "linecolor": "white",
                          "minorgridcolor": "white",
                          "startlinecolor": "#2a3f5f"
                        },
                        "type": "carpet"
                      }
                    ],
                    "choropleth": [
                      {
                        "colorbar": {
                          "outlinewidth": 0,
                          "ticks": ""
                        },
                        "type": "choropleth"
                      }
                    ],
                    "contour": [
                      {
                        "colorbar": {
                          "outlinewidth": 0,
                          "ticks": ""
                        },
                        "colorscale": [
                          [
                            0,
                            "#0d0887"
                          ],
                          [
                            0.1111111111111111,
                            "#46039f"
                          ],
                          [
                            0.2222222222222222,
                            "#7201a8"
                          ],
                          [
                            0.3333333333333333,
                            "#9c179e"
                          ],
                          [
                            0.4444444444444444,
                            "#bd3786"
                          ],
                          [
                            0.5555555555555556,
                            "#d8576b"
                          ],
                          [
                            0.6666666666666666,
                            "#ed7953"
                          ],
                          [
                            0.7777777777777778,
                            "#fb9f3a"
                          ],
                          [
                            0.8888888888888888,
                            "#fdca26"
                          ],
                          [
                            1,
                            "#f0f921"
                          ]
                        ],
                        "type": "contour"
                      }
                    ],
                    "contourcarpet": [
                      {
                        "colorbar": {
                          "outlinewidth": 0,
                          "ticks": ""
                        },
                        "type": "contourcarpet"
                      }
                    ],
                    "heatmap": [
                      {
                        "colorbar": {
                          "outlinewidth": 0,
                          "ticks": ""
                        },
                        "colorscale": [
                          [
                            0,
                            "#0d0887"
                          ],
                          [
                            0.1111111111111111,
                            "#46039f"
                          ],
                          [
                            0.2222222222222222,
                            "#7201a8"
                          ],
                          [
                            0.3333333333333333,
                            "#9c179e"
                          ],
                          [
                            0.4444444444444444,
                            "#bd3786"
                          ],
                          [
                            0.5555555555555556,
                            "#d8576b"
                          ],
                          [
                            0.6666666666666666,
                            "#ed7953"
                          ],
                          [
                            0.7777777777777778,
                            "#fb9f3a"
                          ],
                          [
                            0.8888888888888888,
                            "#fdca26"
                          ],
                          [
                            1,
                            "#f0f921"
                          ]
                        ],
                        "type": "heatmap"
                      }
                    ],
                    "heatmapgl": [
                      {
                        "colorbar": {
                          "outlinewidth": 0,
                          "ticks": ""
                        },
                        "colorscale": [
                          [
                            0,
                            "#0d0887"
                          ],
                          [
                            0.1111111111111111,
                            "#46039f"
                          ],
                          [
                            0.2222222222222222,
                            "#7201a8"
                          ],
                          [
                            0.3333333333333333,
                            "#9c179e"
                          ],
                          [
                            0.4444444444444444,
                            "#bd3786"
                          ],
                          [
                            0.5555555555555556,
                            "#d8576b"
                          ],
                          [
                            0.6666666666666666,
                            "#ed7953"
                          ],
                          [
                            0.7777777777777778,
                            "#fb9f3a"
                          ],
                          [
                            0.8888888888888888,
                            "#fdca26"
                          ],
                          [
                            1,
                            "#f0f921"
                          ]
                        ],
                        "type": "heatmapgl"
                      }
                    ],
                    "histogram": [
                      {
                        "marker": {
                          "colorbar": {
                            "outlinewidth": 0,
                            "ticks": ""
                          }
                        },
                        "type": "histogram"
                      }
                    ],
                    "histogram2d": [
                      {
                        "colorbar": {
                          "outlinewidth": 0,
                          "ticks": ""
                        },
                        "colorscale": [
                          [
                            0,
                            "#0d0887"
                          ],
                          [
                            0.1111111111111111,
                            "#46039f"
                          ],
                          [
                            0.2222222222222222,
                            "#7201a8"
                          ],
                          [
                            0.3333333333333333,
                            "#9c179e"
                          ],
                          [
                            0.4444444444444444,
                            "#bd3786"
                          ],
                          [
                            0.5555555555555556,
                            "#d8576b"
                          ],
                          [
                            0.6666666666666666,
                            "#ed7953"
                          ],
                          [
                            0.7777777777777778,
                            "#fb9f3a"
                          ],
                          [
                            0.8888888888888888,
                            "#fdca26"
                          ],
                          [
                            1,
                            "#f0f921"
                          ]
                        ],
                        "type": "histogram2d"
                      }
                    ],
                    "histogram2dcontour": [
                      {
                        "colorbar": {
                          "outlinewidth": 0,
                          "ticks": ""
                        },
                        "colorscale": [
                          [
                            0,
                            "#0d0887"
                          ],
                          [
                            0.1111111111111111,
                            "#46039f"
                          ],
                          [
                            0.2222222222222222,
                            "#7201a8"
                          ],
                          [
                            0.3333333333333333,
                            "#9c179e"
                          ],
                          [
                            0.4444444444444444,
                            "#bd3786"
                          ],
                          [
                            0.5555555555555556,
                            "#d8576b"
                          ],
                          [
                            0.6666666666666666,
                            "#ed7953"
                          ],
                          [
                            0.7777777777777778,
                            "#fb9f3a"
                          ],
                          [
                            0.8888888888888888,
                            "#fdca26"
                          ],
                          [
                            1,
                            "#f0f921"
                          ]
                        ],
                        "type": "histogram2dcontour"
                      }
                    ],
                    "mesh3d": [
                      {
                        "colorbar": {
                          "outlinewidth": 0,
                          "ticks": ""
                        },
                        "type": "mesh3d"
                      }
                    ],
                    "parcoords": [
                      {
                        "line": {
                          "colorbar": {
                            "outlinewidth": 0,
                            "ticks": ""
                          }
                        },
                        "type": "parcoords"
                      }
                    ],
                    "pie": [
                      {
                        "automargin": true,
                        "type": "pie"
                      }
                    ],
                    "scatter": [
                      {
                        "marker": {
                          "colorbar": {
                            "outlinewidth": 0,
                            "ticks": ""
                          }
                        },
                        "type": "scatter"
                      }
                    ],
                    "scatter3d": [
                      {
                        "line": {
                          "colorbar": {
                            "outlinewidth": 0,
                            "ticks": ""
                          }
                        },
                        "marker": {
                          "colorbar": {
                            "outlinewidth": 0,
                            "ticks": ""
                          }
                        },
                        "type": "scatter3d"
                      }
                    ],
                    "scattercarpet": [
                      {
                        "marker": {
                          "colorbar": {
                            "outlinewidth": 0,
                            "ticks": ""
                          }
                        },
                        "type": "scattercarpet"
                      }
                    ],
                    "scattergeo": [
                      {
                        "marker": {
                          "colorbar": {
                            "outlinewidth": 0,
                            "ticks": ""
                          }
                        },
                        "type": "scattergeo"
                      }
                    ],
                    "scattergl": [
                      {
                        "marker": {
                          "colorbar": {
                            "outlinewidth": 0,
                            "ticks": ""
                          }
                        },
                        "type": "scattergl"
                      }
                    ],
                    "scattermapbox": [
                      {
                        "marker": {
                          "colorbar": {
                            "outlinewidth": 0,
                            "ticks": ""
                          }
                        },
                        "type": "scattermapbox"
                      }
                    ],
                    "scatterpolar": [
                      {
                        "marker": {
                          "colorbar": {
                            "outlinewidth": 0,
                            "ticks": ""
                          }
                        },
                        "type": "scatterpolar"
                      }
                    ],
                    "scatterpolargl": [
                      {
                        "marker": {
                          "colorbar": {
                            "outlinewidth": 0,
                            "ticks": ""
                          }
                        },
                        "type": "scatterpolargl"
                      }
                    ],
                    "scatterternary": [
                      {
                        "marker": {
                          "colorbar": {
                            "outlinewidth": 0,
                            "ticks": ""
                          }
                        },
                        "type": "scatterternary"
                      }
                    ],
                    "surface": [
                      {
                        "colorbar": {
                          "outlinewidth": 0,
                          "ticks": ""
                        },
                        "colorscale": [
                          [
                            0,
                            "#0d0887"
                          ],
                          [
                            0.1111111111111111,
                            "#46039f"
                          ],
                          [
                            0.2222222222222222,
                            "#7201a8"
                          ],
                          [
                            0.3333333333333333,
                            "#9c179e"
                          ],
                          [
                            0.4444444444444444,
                            "#bd3786"
                          ],
                          [
                            0.5555555555555556,
                            "#d8576b"
                          ],
                          [
                            0.6666666666666666,
                            "#ed7953"
                          ],
                          [
                            0.7777777777777778,
                            "#fb9f3a"
                          ],
                          [
                            0.8888888888888888,
                            "#fdca26"
                          ],
                          [
                            1,
                            "#f0f921"
                          ]
                        ],
                        "type": "surface"
                      }
                    ],
                    "table": [
                      {
                        "cells": {
                          "fill": {
                            "color": "#EBF0F8"
                          },
                          "line": {
                            "color": "white"
                          }
                        },
                        "header": {
                          "fill": {
                            "color": "#C8D4E3"
                          },
                          "line": {
                            "color": "white"
                          }
                        },
                        "type": "table"
                      }
                    ]
                  },
                  "layout": {
                    "annotationdefaults": {
                      "arrowcolor": "#2a3f5f",
                      "arrowhead": 0,
                      "arrowwidth": 1
                    },
                    "coloraxis": {
                      "colorbar": {
                        "outlinewidth": 0,
                        "ticks": ""
                      }
                    },
                    "colorscale": {
                      "diverging": [
                        [
                          0,
                          "#8e0152"
                        ],
                        [
                          0.1,
                          "#c51b7d"
                        ],
                        [
                          0.2,
                          "#de77ae"
                        ],
                        [
                          0.3,
                          "#f1b6da"
                        ],
                        [
                          0.4,
                          "#fde0ef"
                        ],
                        [
                          0.5,
                          "#f7f7f7"
                        ],
                        [
                          0.6,
                          "#e6f5d0"
                        ],
                        [
                          0.7,
                          "#b8e186"
                        ],
                        [
                          0.8,
                          "#7fbc41"
                        ],
                        [
                          0.9,
                          "#4d9221"
                        ],
                        [
                          1,
                          "#276419"
                        ]
                      ],
                      "sequential": [
                        [
                          0,
                          "#0d0887"
                        ],
                        [
                          0.1111111111111111,
                          "#46039f"
                        ],
                        [
                          0.2222222222222222,
                          "#7201a8"
                        ],
                        [
                          0.3333333333333333,
                          "#9c179e"
                        ],
                        [
                          0.4444444444444444,
                          "#bd3786"
                        ],
                        [
                          0.5555555555555556,
                          "#d8576b"
                        ],
                        [
                          0.6666666666666666,
                          "#ed7953"
                        ],
                        [
                          0.7777777777777778,
                          "#fb9f3a"
                        ],
                        [
                          0.8888888888888888,
                          "#fdca26"
                        ],
                        [
                          1,
                          "#f0f921"
                        ]
                      ],
                      "sequentialminus": [
                        [
                          0,
                          "#0d0887"
                        ],
                        [
                          0.1111111111111111,
                          "#46039f"
                        ],
                        [
                          0.2222222222222222,
                          "#7201a8"
                        ],
                        [
                          0.3333333333333333,
                          "#9c179e"
                        ],
                        [
                          0.4444444444444444,
                          "#bd3786"
                        ],
                        [
                          0.5555555555555556,
                          "#d8576b"
                        ],
                        [
                          0.6666666666666666,
                          "#ed7953"
                        ],
                        [
                          0.7777777777777778,
                          "#fb9f3a"
                        ],
                        [
                          0.8888888888888888,
                          "#fdca26"
                        ],
                        [
                          1,
                          "#f0f921"
                        ]
                      ]
                    },
                    "colorway": [
                      "#636efa",
                      "#EF553B",
                      "#00cc96",
                      "#ab63fa",
                      "#FFA15A",
                      "#19d3f3",
                      "#FF6692",
                      "#B6E880",
                      "#FF97FF",
                      "#FECB52"
                    ],
                    "font": {
                      "color": "#2a3f5f"
                    },
                    "geo": {
                      "bgcolor": "white",
                      "lakecolor": "white",
                      "landcolor": "#E5ECF6",
                      "showlakes": true,
                      "showland": true,
                      "subunitcolor": "white"
                    },
                    "hoverlabel": {
                      "align": "left"
                    },
                    "hovermode": "closest",
                    "mapbox": {
                      "style": "light"
                    },
                    "paper_bgcolor": "white",
                    "plot_bgcolor": "#E5ECF6",
                    "polar": {
                      "angularaxis": {
                        "gridcolor": "white",
                        "linecolor": "white",
                        "ticks": ""
                      },
                      "bgcolor": "#E5ECF6",
                      "radialaxis": {
                        "gridcolor": "white",
                        "linecolor": "white",
                        "ticks": ""
                      }
                    },
                    "scene": {
                      "xaxis": {
                        "backgroundcolor": "#E5ECF6",
                        "gridcolor": "white",
                        "gridwidth": 2,
                        "linecolor": "white",
                        "showbackground": true,
                        "ticks": "",
                        "zerolinecolor": "white"
                      },
                      "yaxis": {
                        "backgroundcolor": "#E5ECF6",
                        "gridcolor": "white",
                        "gridwidth": 2,
                        "linecolor": "white",
                        "showbackground": true,
                        "ticks": "",
                        "zerolinecolor": "white"
                      },
                      "zaxis": {
                        "backgroundcolor": "#E5ECF6",
                        "gridcolor": "white",
                        "gridwidth": 2,
                        "linecolor": "white",
                        "showbackground": true,
                        "ticks": "",
                        "zerolinecolor": "white"
                      }
                    },
                    "shapedefaults": {
                      "line": {
                        "color": "#2a3f5f"
                      }
                    },
                    "ternary": {
                      "aaxis": {
                        "gridcolor": "white",
                        "linecolor": "white",
                        "ticks": ""
                      },
                      "baxis": {
                        "gridcolor": "white",
                        "linecolor": "white",
                        "ticks": ""
                      },
                      "bgcolor": "#E5ECF6",
                      "caxis": {
                        "gridcolor": "white",
                        "linecolor": "white",
                        "ticks": ""
                      }
                    },
                    "title": {
                      "x": 0.05
                    },
                    "xaxis": {
                      "automargin": true,
                      "gridcolor": "white",
                      "linecolor": "white",
                      "ticks": "",
                      "title": {
                        "standoff": 15
                      },
                      "zerolinecolor": "white",
                      "zerolinewidth": 2
                    },
                    "yaxis": {
                      "automargin": true,
                      "gridcolor": "white",
                      "linecolor": "white",
                      "ticks": "",
                      "title": {
                        "standoff": 15
                      },
                      "zerolinecolor": "white",
                      "zerolinewidth": 2
                    }
                  }
                },
                "title": {
                  "text": "Hyperparameter Importances"
                },
                "xaxis": {
                  "title": {
                    "text": "Importance for Objective Value"
                  }
                },
                "yaxis": {
                  "title": {
                    "text": "Hyperparameter"
                  }
                }
              }
            }
          },
          "metadata": {}
        }
      ],
      "source": [
        "model.plot_opt_param_importances()"
      ]
    },
    {
      "source": [
        "# Full Save & Load"
      ],
      "cell_type": "markdown",
      "metadata": {}
    },
    {
      "source": [
        "### Save"
      ],
      "cell_type": "markdown",
      "metadata": {}
    },
    {
      "cell_type": "code",
      "execution_count": 108,
      "metadata": {},
      "outputs": [],
      "source": [
        "de.save('de_model_1',)"
      ]
    },
    {
      "cell_type": "code",
      "execution_count": 109,
      "metadata": {},
      "outputs": [],
      "source": [
        "model.save('model_1',)"
      ]
    },
    {
      "cell_type": "code",
      "execution_count": 110,
      "metadata": {},
      "outputs": [
        {
          "output_type": "execute_result",
          "data": {
            "text/plain": [
              "{'random_seed': 42,\n",
              " 'num_iterations': 900,\n",
              " 'verbose': -1,\n",
              " 'device_type': 'cpu',\n",
              " 'objective': 'binary',\n",
              " 'min_child_samples': 14,\n",
              " 'bagging_fraction': 0.6000000000000001,\n",
              " 'feature_fraction': 0.4,\n",
              " 'bagging_freq': 4,\n",
              " 'learning_rate': 0.011128194768838964,\n",
              " 'num_leaves': 11}"
            ]
          },
          "metadata": {},
          "execution_count": 110
        }
      ],
      "source": [
        "model.model_param"
      ]
    },
    {
      "cell_type": "code",
      "execution_count": 6,
      "metadata": {},
      "outputs": [
        {
          "output_type": "stream",
          "name": "stdout",
          "text": [
            "Test metric:  4.9569\n"
          ]
        }
      ],
      "source": [
        "predicts = model.predict(X_test)\n",
        "print('Test metric: ', round(sklearn.metrics.log_loss(y_test, predicts),4))"
      ]
    },
    {
      "source": [
        "### Load\n",
        "you can restart the notebook to start from this place - to make sure"
      ],
      "cell_type": "markdown",
      "metadata": {}
    },
    {
      "cell_type": "code",
      "execution_count": 1,
      "metadata": {},
      "outputs": [
        {
          "output_type": "stream",
          "name": "stdout",
          "text": [
            "1.2.28\n"
          ]
        }
      ],
      "source": [
        "import sklearn\n",
        "import pandas as pd\n",
        "from sklearn.model_selection import train_test_split\n",
        "from sklearn.datasets import fetch_openml\n",
        "\n",
        "import automl_alex\n",
        "from automl_alex import DataPrepare\n",
        "from automl_alex import LightGBM, LightGBMClassifier\n",
        "\n",
        "RANDOM_SEED = 42\n",
        "print(automl_alex.__version__)"
      ]
    },
    {
      "cell_type": "code",
      "execution_count": 2,
      "metadata": {},
      "outputs": [
        {
          "output_type": "stream",
          "name": "stderr",
          "text": [
            "00:12:21 | ##################################################\n",
            "00:12:21 | ! Start Transform Data\n",
            "00:12:21 | > Clean Binary Features\n",
            "00:12:21 | > Clean Categorical Features\n",
            "00:12:21 | > Transform Categorical Features.\n",
            "00:12:21 |  - Encoder: HelmertEncoder ADD features: 123\n",
            "00:12:21 |  - Encoder: CountEncoder ADD features: 12\n",
            "00:12:21 | > Generate interaction Num Features\n",
            "00:12:21 |  ADD features: 5\n",
            "00:12:21 | > Normalization Features\n",
            "00:12:21 | ##################################################\n",
            "00:12:21 | Final data shape: (9769, 156)\n",
            "00:12:21 | Total ADD columns: 142\n",
            "00:12:21 | ##################################################\n"
          ]
        }
      ],
      "source": [
        "dataset = fetch_openml(name='adult', version=1, as_frame=True)\n",
        "dataset.target = dataset.target.astype('category').cat.codes\n",
        "\n",
        "X_train, X_test, y_train, y_test = train_test_split(dataset.data, dataset.target, test_size=0.2, random_state=RANDOM_SEED,)\n",
        "\n",
        "de = DataPrepare(random_state=RANDOM_SEED, verbose=0)\n",
        "de = de.load('de_model_1', )\n",
        "X_test = de.transform(X_test)"
      ]
    },
    {
      "cell_type": "code",
      "execution_count": 3,
      "metadata": {},
      "outputs": [
        {
          "output_type": "stream",
          "name": "stdout",
          "text": [
            "Test metric:  4.9569\n"
          ]
        }
      ],
      "source": [
        "model_new = LightGBMClassifier(random_state=RANDOM_SEED)\n",
        "model_new = model_new.load('model_1',)\n",
        "\n",
        "predicts = model_new.predict(X_test)\n",
        "print('Test metric: ', round(sklearn.metrics.log_loss(y_test, predicts),4))"
      ]
    },
    {
      "cell_type": "code",
      "execution_count": 4,
      "metadata": {},
      "outputs": [
        {
          "output_type": "execute_result",
          "data": {
            "text/plain": [
              "{'random_seed': 42,\n",
              " 'num_iterations': 900,\n",
              " 'verbose': -1,\n",
              " 'device_type': 'cpu',\n",
              " 'objective': 'binary',\n",
              " 'min_child_samples': 14,\n",
              " 'bagging_fraction': 0.6000000000000001,\n",
              " 'feature_fraction': 0.4,\n",
              " 'bagging_freq': 4,\n",
              " 'learning_rate': 0.011128194768838964,\n",
              " 'num_leaves': 11}"
            ]
          },
          "metadata": {},
          "execution_count": 4
        }
      ],
      "source": [
        "model_new.model_param"
      ]
    },
    {
      "cell_type": "code",
      "execution_count": null,
      "metadata": {},
      "outputs": [],
      "source": []
    },
    {
      "cell_type": "code",
      "execution_count": null,
      "metadata": {},
      "outputs": [],
      "source": []
    }
  ],
  "metadata": {
    "kernelspec": {
      "name": "python3",
      "display_name": "Python 3",
      "language": "python"
    },
    "language_info": {
      "codemirror_mode": {
        "name": "ipython",
        "version": 3
      },
      "file_extension": ".py",
      "mimetype": "text/x-python",
      "name": "python",
      "nbconvert_exporter": "python",
      "pygments_lexer": "ipython3",
      "version": "3.8.3-final"
    },
    "toc": {
      "base_numbering": 1,
      "nav_menu": {},
      "number_sections": false,
      "sideBar": true,
      "skip_h1_title": false,
      "title_cell": "Table of Contents",
      "title_sidebar": "Contents",
      "toc_cell": false,
      "toc_position": {
        "height": "calc(100% - 180px)",
        "left": "10px",
        "top": "150px",
        "width": "165px"
      },
      "toc_section_display": true,
      "toc_window_display": true
    },
    "colab": {
      "name": "02. Models v1.ipynb",
      "provenance": [],
      "collapsed_sections": [
        "SvXrBLljbV6F",
        "IbtbRVMebV6F",
        "D9xT9cTgbV6F",
        "apIHobyxbV6F",
        "tl8zhvjVbV6G"
      ]
    }
  },
  "nbformat": 4,
  "nbformat_minor": 0
}