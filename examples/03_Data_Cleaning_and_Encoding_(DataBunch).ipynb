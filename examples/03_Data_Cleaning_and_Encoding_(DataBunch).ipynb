{
 "cells": [
  {
   "cell_type": "code",
   "execution_count": 1,
   "metadata": {
    "ExecuteTime": {
     "end_time": "2020-05-07T04:23:49.057981Z",
     "start_time": "2020-05-07T04:23:49.053936Z"
    }
   },
   "outputs": [],
   "source": [
    "# If you run this notebook on Google Colaboratory, uncomment the below to install automl_alex.\n",
    "#!pip install automl-alex"
   ]
  },
  {
   "cell_type": "code",
   "execution_count": 1,
   "metadata": {
    "ExecuteTime": {
     "end_time": "2020-05-07T04:23:53.125987Z",
     "start_time": "2020-05-07T04:23:49.634140Z"
    },
    "tags": []
   },
   "outputs": [
    {
     "output_type": "stream",
     "name": "stdout",
     "text": "0.07.17\n"
    }
   ],
   "source": [
    "import sklearn\n",
    "from sklearn.model_selection import train_test_split\n",
    "from sklearn.datasets import fetch_openml\n",
    "\n",
    "import automl_alex\n",
    "from automl_alex import LightGBMClassifier, DataBunch\n",
    "\n",
    "print(automl_alex.__version__)"
   ]
  },
  {
   "cell_type": "code",
   "execution_count": 2,
   "metadata": {
    "ExecuteTime": {
     "end_time": "2020-05-07T04:23:53.136324Z",
     "start_time": "2020-05-07T04:23:53.129088Z"
    }
   },
   "outputs": [],
   "source": [
    "RANDOM_SEED = 42"
   ]
  },
  {
   "cell_type": "markdown",
   "metadata": {},
   "source": [
    "# Load Data"
   ]
  },
  {
   "cell_type": "code",
   "execution_count": 4,
   "metadata": {
    "ExecuteTime": {
     "end_time": "2020-05-07T04:23:54.266953Z",
     "start_time": "2020-05-07T04:23:53.244733Z"
    }
   },
   "outputs": [
    {
     "output_type": "execute_result",
     "data": {
      "text/plain": "  age         workclass    fnlwgt  education  education-num  \\\n0   2         State-gov   77516.0  Bachelors           13.0   \n1   3  Self-emp-not-inc   83311.0  Bachelors           13.0   \n2   2           Private  215646.0    HS-grad            9.0   \n3   3           Private  234721.0       11th            7.0   \n4   1           Private  338409.0  Bachelors           13.0   \n\n       marital-status         occupation   relationship   race     sex  \\\n0       Never-married       Adm-clerical  Not-in-family  White    Male   \n1  Married-civ-spouse    Exec-managerial        Husband  White    Male   \n2            Divorced  Handlers-cleaners  Not-in-family  White    Male   \n3  Married-civ-spouse  Handlers-cleaners        Husband  Black    Male   \n4  Married-civ-spouse     Prof-specialty           Wife  Black  Female   \n\n  capitalgain capitalloss hoursperweek native-country  \n0           1           0            2  United-States  \n1           0           0            0  United-States  \n2           0           0            2  United-States  \n3           0           0            2  United-States  \n4           0           0            2           Cuba  ",
      "text/html": "<div>\n<style scoped>\n    .dataframe tbody tr th:only-of-type {\n        vertical-align: middle;\n    }\n\n    .dataframe tbody tr th {\n        vertical-align: top;\n    }\n\n    .dataframe thead th {\n        text-align: right;\n    }\n</style>\n<table border=\"1\" class=\"dataframe\">\n  <thead>\n    <tr style=\"text-align: right;\">\n      <th></th>\n      <th>age</th>\n      <th>workclass</th>\n      <th>fnlwgt</th>\n      <th>education</th>\n      <th>education-num</th>\n      <th>marital-status</th>\n      <th>occupation</th>\n      <th>relationship</th>\n      <th>race</th>\n      <th>sex</th>\n      <th>capitalgain</th>\n      <th>capitalloss</th>\n      <th>hoursperweek</th>\n      <th>native-country</th>\n    </tr>\n  </thead>\n  <tbody>\n    <tr>\n      <th>0</th>\n      <td>2</td>\n      <td>State-gov</td>\n      <td>77516.0</td>\n      <td>Bachelors</td>\n      <td>13.0</td>\n      <td>Never-married</td>\n      <td>Adm-clerical</td>\n      <td>Not-in-family</td>\n      <td>White</td>\n      <td>Male</td>\n      <td>1</td>\n      <td>0</td>\n      <td>2</td>\n      <td>United-States</td>\n    </tr>\n    <tr>\n      <th>1</th>\n      <td>3</td>\n      <td>Self-emp-not-inc</td>\n      <td>83311.0</td>\n      <td>Bachelors</td>\n      <td>13.0</td>\n      <td>Married-civ-spouse</td>\n      <td>Exec-managerial</td>\n      <td>Husband</td>\n      <td>White</td>\n      <td>Male</td>\n      <td>0</td>\n      <td>0</td>\n      <td>0</td>\n      <td>United-States</td>\n    </tr>\n    <tr>\n      <th>2</th>\n      <td>2</td>\n      <td>Private</td>\n      <td>215646.0</td>\n      <td>HS-grad</td>\n      <td>9.0</td>\n      <td>Divorced</td>\n      <td>Handlers-cleaners</td>\n      <td>Not-in-family</td>\n      <td>White</td>\n      <td>Male</td>\n      <td>0</td>\n      <td>0</td>\n      <td>2</td>\n      <td>United-States</td>\n    </tr>\n    <tr>\n      <th>3</th>\n      <td>3</td>\n      <td>Private</td>\n      <td>234721.0</td>\n      <td>11th</td>\n      <td>7.0</td>\n      <td>Married-civ-spouse</td>\n      <td>Handlers-cleaners</td>\n      <td>Husband</td>\n      <td>Black</td>\n      <td>Male</td>\n      <td>0</td>\n      <td>0</td>\n      <td>2</td>\n      <td>United-States</td>\n    </tr>\n    <tr>\n      <th>4</th>\n      <td>1</td>\n      <td>Private</td>\n      <td>338409.0</td>\n      <td>Bachelors</td>\n      <td>13.0</td>\n      <td>Married-civ-spouse</td>\n      <td>Prof-specialty</td>\n      <td>Wife</td>\n      <td>Black</td>\n      <td>Female</td>\n      <td>0</td>\n      <td>0</td>\n      <td>2</td>\n      <td>Cuba</td>\n    </tr>\n  </tbody>\n</table>\n</div>"
     },
     "metadata": {},
     "execution_count": 4
    }
   ],
   "source": [
    "dataset = fetch_openml(name='adult', version=1, as_frame=True)\n",
    "# convert target to binary\n",
    "dataset.target = dataset.target.astype('category').cat.codes\n",
    "dataset.data.head(5)"
   ]
  },
  {
   "cell_type": "code",
   "execution_count": 5,
   "metadata": {
    "ExecuteTime": {
     "end_time": "2020-05-07T04:23:54.292030Z",
     "start_time": "2020-05-07T04:23:54.276548Z"
    }
   },
   "outputs": [
    {
     "output_type": "execute_result",
     "data": {
      "text/plain": "((39073, 14), (9769, 14))"
     },
     "metadata": {},
     "execution_count": 5
    }
   ],
   "source": [
    "X_train, X_test, y_train, y_test = train_test_split(dataset.data, \n",
    "                                                    dataset.target,\n",
    "                                                    test_size=0.2, \n",
    "                                                    random_state=RANDOM_SEED,)\n",
    "X_train.shape, X_test.shape"
   ]
  },
  {
   "cell_type": "markdown",
   "metadata": {},
   "source": [
    "# Data Cleaning (DataBunch)"
   ]
  },
  {
   "cell_type": "code",
   "execution_count": 8,
   "metadata": {
    "ExecuteTime": {
     "end_time": "2020-05-07T04:23:54.610535Z",
     "start_time": "2020-05-07T04:23:54.589857Z"
    }
   },
   "outputs": [
    {
     "output_type": "execute_result",
     "data": {
      "text/plain": "      age         workclass    fnlwgt education  education-num  \\\n37193   1           Private   50753.0   HS-grad            9.0   \n31093   2         State-gov  144351.0   Masters           14.0   \n33814   1         Local-gov  252217.0      12th            8.0   \n14500   4           Private   69525.0   HS-grad            9.0   \n23399   4  Self-emp-not-inc   28612.0   HS-grad            9.0   \n\n           marital-status        occupation   relationship   race   sex  \\\n37193  Married-civ-spouse  Transport-moving        Husband  White  Male   \n31093  Married-civ-spouse    Prof-specialty        Husband  White  Male   \n33814  Married-civ-spouse   Farming-fishing        Husband  White  Male   \n14500            Divorced      Craft-repair      Unmarried  White  Male   \n23399             Widowed             Sales  Not-in-family  White  Male   \n\n      capitalgain capitalloss hoursperweek native-country  \n37193           0           0            2  United-States  \n31093           0           0            2  United-States  \n33814           0           0            2  United-States  \n14500           0           0            0  United-States  \n23399           0           0            4  United-States  ",
      "text/html": "<div>\n<style scoped>\n    .dataframe tbody tr th:only-of-type {\n        vertical-align: middle;\n    }\n\n    .dataframe tbody tr th {\n        vertical-align: top;\n    }\n\n    .dataframe thead th {\n        text-align: right;\n    }\n</style>\n<table border=\"1\" class=\"dataframe\">\n  <thead>\n    <tr style=\"text-align: right;\">\n      <th></th>\n      <th>age</th>\n      <th>workclass</th>\n      <th>fnlwgt</th>\n      <th>education</th>\n      <th>education-num</th>\n      <th>marital-status</th>\n      <th>occupation</th>\n      <th>relationship</th>\n      <th>race</th>\n      <th>sex</th>\n      <th>capitalgain</th>\n      <th>capitalloss</th>\n      <th>hoursperweek</th>\n      <th>native-country</th>\n    </tr>\n  </thead>\n  <tbody>\n    <tr>\n      <th>37193</th>\n      <td>1</td>\n      <td>Private</td>\n      <td>50753.0</td>\n      <td>HS-grad</td>\n      <td>9.0</td>\n      <td>Married-civ-spouse</td>\n      <td>Transport-moving</td>\n      <td>Husband</td>\n      <td>White</td>\n      <td>Male</td>\n      <td>0</td>\n      <td>0</td>\n      <td>2</td>\n      <td>United-States</td>\n    </tr>\n    <tr>\n      <th>31093</th>\n      <td>2</td>\n      <td>State-gov</td>\n      <td>144351.0</td>\n      <td>Masters</td>\n      <td>14.0</td>\n      <td>Married-civ-spouse</td>\n      <td>Prof-specialty</td>\n      <td>Husband</td>\n      <td>White</td>\n      <td>Male</td>\n      <td>0</td>\n      <td>0</td>\n      <td>2</td>\n      <td>United-States</td>\n    </tr>\n    <tr>\n      <th>33814</th>\n      <td>1</td>\n      <td>Local-gov</td>\n      <td>252217.0</td>\n      <td>12th</td>\n      <td>8.0</td>\n      <td>Married-civ-spouse</td>\n      <td>Farming-fishing</td>\n      <td>Husband</td>\n      <td>White</td>\n      <td>Male</td>\n      <td>0</td>\n      <td>0</td>\n      <td>2</td>\n      <td>United-States</td>\n    </tr>\n    <tr>\n      <th>14500</th>\n      <td>4</td>\n      <td>Private</td>\n      <td>69525.0</td>\n      <td>HS-grad</td>\n      <td>9.0</td>\n      <td>Divorced</td>\n      <td>Craft-repair</td>\n      <td>Unmarried</td>\n      <td>White</td>\n      <td>Male</td>\n      <td>0</td>\n      <td>0</td>\n      <td>0</td>\n      <td>United-States</td>\n    </tr>\n    <tr>\n      <th>23399</th>\n      <td>4</td>\n      <td>Self-emp-not-inc</td>\n      <td>28612.0</td>\n      <td>HS-grad</td>\n      <td>9.0</td>\n      <td>Widowed</td>\n      <td>Sales</td>\n      <td>Not-in-family</td>\n      <td>White</td>\n      <td>Male</td>\n      <td>0</td>\n      <td>0</td>\n      <td>4</td>\n      <td>United-States</td>\n    </tr>\n  </tbody>\n</table>\n</div>"
     },
     "metadata": {},
     "execution_count": 8
    }
   ],
   "source": [
    "X_train.head(5)"
   ]
  },
  {
   "cell_type": "code",
   "execution_count": 7,
   "metadata": {
    "ExecuteTime": {
     "end_time": "2020-05-07T04:23:55.231008Z",
     "start_time": "2020-05-07T04:23:55.209899Z"
    },
    "tags": []
   },
   "outputs": [
    {
     "output_type": "stream",
     "name": "stdout",
     "text": "<class 'pandas.core.frame.DataFrame'>\nInt64Index: 39073 entries, 37193 to 15795\nData columns (total 14 columns):\n #   Column          Non-Null Count  Dtype   \n---  ------          --------------  -----   \n 0   age             39073 non-null  category\n 1   workclass       36851 non-null  category\n 2   fnlwgt          39073 non-null  float64 \n 3   education       39073 non-null  category\n 4   education-num   39073 non-null  float64 \n 5   marital-status  39073 non-null  category\n 6   occupation      36842 non-null  category\n 7   relationship    39073 non-null  category\n 8   race            39073 non-null  category\n 9   sex             39073 non-null  category\n 10  capitalgain     39073 non-null  category\n 11  capitalloss     39073 non-null  category\n 12  hoursperweek    39073 non-null  category\n 13  native-country  38396 non-null  category\ndtypes: category(12), float64(2)\nmemory usage: 1.3 MB\n"
    }
   ],
   "source": [
    "X_train.info()"
   ]
  },
  {
   "cell_type": "markdown",
   "metadata": {},
   "source": [
    "As we can see, the data is quite dirty, there are object/category features and nans. But the **model is successfully trained even in such a dirty dataset**"
   ]
  },
  {
   "cell_type": "markdown",
   "metadata": {
    "ExecuteTime": {
     "end_time": "2020-05-07T01:38:37.740374Z",
     "start_time": "2020-05-07T01:38:37.732963Z"
    }
   },
   "source": [
    "[RUS] Как мы видим, данные довольно грязные, есть object/category признаки и nans. Но модель успешно обучаеться даже таком грязном датасете:"
   ]
  },
  {
   "cell_type": "code",
   "execution_count": 9,
   "metadata": {
    "ExecuteTime": {
     "end_time": "2020-05-07T04:23:58.470851Z",
     "start_time": "2020-05-07T04:23:56.885982Z"
    }
   },
   "outputs": [],
   "source": [
    "model = LightGBMClassifier(X_train, y_train, X_test, random_state=RANDOM_SEED)"
   ]
  },
  {
   "cell_type": "code",
   "execution_count": 10,
   "metadata": {
    "ExecuteTime": {
     "end_time": "2020-05-07T04:24:10.501288Z",
     "start_time": "2020-05-07T04:23:58.473630Z"
    },
    "tags": []
   },
   "outputs": [
    {
     "output_type": "stream",
     "name": "stderr",
     "text": "0%|          | 0/1 [00:00<?, ?it/s]\n Mean Score roc_auc_score on 30 Folds: 0.9144 std: 0.004647\n100%|██████████| 1/1 [02:45<00:00, 165.67s/it]\nTest AUC:0.912\n"
    }
   ],
   "source": [
    "# fit with default model parameters\n",
    "predicts = model.predict()\n",
    "print('Test AUC: ', round(sklearn.metrics.roc_auc_score(y_test, predicts['predict_test'][0]),4))"
   ]
  },
  {
   "cell_type": "markdown",
   "metadata": {},
   "source": [
    "**How is this possible?**      \n",
    "[RUS] как это возможно?"
   ]
  },
  {
   "cell_type": "markdown",
   "metadata": {
    "ExecuteTime": {
     "end_time": "2020-05-07T01:51:30.503806Z",
     "start_time": "2020-05-07T01:51:30.489339Z"
    }
   },
   "source": [
    "<img src=\"./img/magic.gif\" width=\"400\">"
   ]
  },
  {
   "cell_type": "markdown",
   "metadata": {},
   "source": [
    "## DataBunch\n",
    "before entering the model, the data goes through a full cycle of pre-processing in DataBunch     \n",
    "[RUS] до того как попасть в модель, данные проходят полный цикл предобработки."
   ]
  },
  {
   "cell_type": "code",
   "execution_count": 11,
   "metadata": {
    "ExecuteTime": {
     "end_time": "2020-05-07T04:24:11.924652Z",
     "start_time": "2020-05-07T04:24:10.506103Z"
    },
    "tags": []
   },
   "outputs": [
    {
     "output_type": "stream",
     "name": "stdout",
     "text": "Source X_train shape:(39073, 14)| X_test shape:(9769, 14)\n##################################################\nAuto detect cat features:12\n> Start preprocessing Data\n> Generate cat encodet features\n +121 Features fromOneHotEncoder\n> Clean Nans in num features\n##################################################\n> Total Generated Features:109\n##################################################\nNew X_train shape:(39073, 122)| X_test shape:(9769, 122)\n"
    }
   ],
   "source": [
    "data = DataBunch(X_train=X_train, \n",
    "                y_train=y_train,\n",
    "                X_test=X_test, # be sure to specify X_test, because the encoder needs all dataset to work.\n",
    "                clean_and_encod_data=True,\n",
    "                cat_encoder_names=['OneHotEncoder',], # Encoders list for Generator cat encodet features\n",
    "                clean_nan=True, # fillnan\n",
    "                num_generator_features=False, # Generator interaction Num Features\n",
    "                group_generator_features=False, # Generator Group Encoder Features\n",
    "                frequency_enc_num_features=False,\n",
    "                normalization=False,\n",
    "                cat_features=None, # DataBunch can auto detect categorical features\n",
    "                random_state=RANDOM_SEED)"
   ]
  },
  {
   "cell_type": "code",
   "execution_count": 12,
   "metadata": {
    "ExecuteTime": {
     "end_time": "2020-05-07T04:24:11.943189Z",
     "start_time": "2020-05-07T04:24:11.927186Z"
    }
   },
   "outputs": [
    {
     "output_type": "execute_result",
     "data": {
      "text/plain": "     fnlwgt  OneHotEncoder_occupation_1  OneHotEncoder_occupation_2  \\\n0   50753.0                           1                           0   \n1  144351.0                           0                           1   \n2  252217.0                           0                           0   \n3   69525.0                           0                           0   \n4   28612.0                           0                           0   \n\n   OneHotEncoder_occupation_3  OneHotEncoder_occupation_4  \\\n0                           0                           0   \n1                           0                           0   \n2                           1                           0   \n3                           0                           1   \n4                           0                           0   \n\n   OneHotEncoder_occupation_5  OneHotEncoder_occupation_6  \\\n0                           0                           0   \n1                           0                           0   \n2                           0                           0   \n3                           0                           0   \n4                           1                           0   \n\n   OneHotEncoder_occupation_7  OneHotEncoder_occupation_8  \\\n0                           0                           0   \n1                           0                           0   \n2                           0                           0   \n3                           0                           0   \n4                           0                           0   \n\n   OneHotEncoder_occupation_9  ...  OneHotEncoder_age_2  OneHotEncoder_age_3  \\\n0                           0  ...                    0                    0   \n1                           0  ...                    1                    0   \n2                           0  ...                    0                    0   \n3                           0  ...                    0                    1   \n4                           0  ...                    0                    1   \n\n   OneHotEncoder_age_4  OneHotEncoder_age_5  OneHotEncoder_relationship_1  \\\n0                    0                    0                             1   \n1                    0                    0                             1   \n2                    0                    0                             1   \n3                    0                    0                             0   \n4                    0                    0                             0   \n\n   OneHotEncoder_relationship_2  OneHotEncoder_relationship_3  \\\n0                             0                             0   \n1                             0                             0   \n2                             0                             0   \n3                             1                             0   \n4                             0                             1   \n\n   OneHotEncoder_relationship_4  OneHotEncoder_relationship_5  \\\n0                             0                             0   \n1                             0                             0   \n2                             0                             0   \n3                             0                             0   \n4                             0                             0   \n\n   OneHotEncoder_relationship_6  \n0                             0  \n1                             0  \n2                             0  \n3                             0  \n4                             0  \n\n[5 rows x 122 columns]",
      "text/html": "<div>\n<style scoped>\n    .dataframe tbody tr th:only-of-type {\n        vertical-align: middle;\n    }\n\n    .dataframe tbody tr th {\n        vertical-align: top;\n    }\n\n    .dataframe thead th {\n        text-align: right;\n    }\n</style>\n<table border=\"1\" class=\"dataframe\">\n  <thead>\n    <tr style=\"text-align: right;\">\n      <th></th>\n      <th>fnlwgt</th>\n      <th>OneHotEncoder_occupation_1</th>\n      <th>OneHotEncoder_occupation_2</th>\n      <th>OneHotEncoder_occupation_3</th>\n      <th>OneHotEncoder_occupation_4</th>\n      <th>OneHotEncoder_occupation_5</th>\n      <th>OneHotEncoder_occupation_6</th>\n      <th>OneHotEncoder_occupation_7</th>\n      <th>OneHotEncoder_occupation_8</th>\n      <th>OneHotEncoder_occupation_9</th>\n      <th>...</th>\n      <th>OneHotEncoder_age_2</th>\n      <th>OneHotEncoder_age_3</th>\n      <th>OneHotEncoder_age_4</th>\n      <th>OneHotEncoder_age_5</th>\n      <th>OneHotEncoder_relationship_1</th>\n      <th>OneHotEncoder_relationship_2</th>\n      <th>OneHotEncoder_relationship_3</th>\n      <th>OneHotEncoder_relationship_4</th>\n      <th>OneHotEncoder_relationship_5</th>\n      <th>OneHotEncoder_relationship_6</th>\n    </tr>\n  </thead>\n  <tbody>\n    <tr>\n      <th>0</th>\n      <td>50753.0</td>\n      <td>1</td>\n      <td>0</td>\n      <td>0</td>\n      <td>0</td>\n      <td>0</td>\n      <td>0</td>\n      <td>0</td>\n      <td>0</td>\n      <td>0</td>\n      <td>...</td>\n      <td>0</td>\n      <td>0</td>\n      <td>0</td>\n      <td>0</td>\n      <td>1</td>\n      <td>0</td>\n      <td>0</td>\n      <td>0</td>\n      <td>0</td>\n      <td>0</td>\n    </tr>\n    <tr>\n      <th>1</th>\n      <td>144351.0</td>\n      <td>0</td>\n      <td>1</td>\n      <td>0</td>\n      <td>0</td>\n      <td>0</td>\n      <td>0</td>\n      <td>0</td>\n      <td>0</td>\n      <td>0</td>\n      <td>...</td>\n      <td>1</td>\n      <td>0</td>\n      <td>0</td>\n      <td>0</td>\n      <td>1</td>\n      <td>0</td>\n      <td>0</td>\n      <td>0</td>\n      <td>0</td>\n      <td>0</td>\n    </tr>\n    <tr>\n      <th>2</th>\n      <td>252217.0</td>\n      <td>0</td>\n      <td>0</td>\n      <td>1</td>\n      <td>0</td>\n      <td>0</td>\n      <td>0</td>\n      <td>0</td>\n      <td>0</td>\n      <td>0</td>\n      <td>...</td>\n      <td>0</td>\n      <td>0</td>\n      <td>0</td>\n      <td>0</td>\n      <td>1</td>\n      <td>0</td>\n      <td>0</td>\n      <td>0</td>\n      <td>0</td>\n      <td>0</td>\n    </tr>\n    <tr>\n      <th>3</th>\n      <td>69525.0</td>\n      <td>0</td>\n      <td>0</td>\n      <td>0</td>\n      <td>1</td>\n      <td>0</td>\n      <td>0</td>\n      <td>0</td>\n      <td>0</td>\n      <td>0</td>\n      <td>...</td>\n      <td>0</td>\n      <td>1</td>\n      <td>0</td>\n      <td>0</td>\n      <td>0</td>\n      <td>1</td>\n      <td>0</td>\n      <td>0</td>\n      <td>0</td>\n      <td>0</td>\n    </tr>\n    <tr>\n      <th>4</th>\n      <td>28612.0</td>\n      <td>0</td>\n      <td>0</td>\n      <td>0</td>\n      <td>0</td>\n      <td>1</td>\n      <td>0</td>\n      <td>0</td>\n      <td>0</td>\n      <td>0</td>\n      <td>...</td>\n      <td>0</td>\n      <td>1</td>\n      <td>0</td>\n      <td>0</td>\n      <td>0</td>\n      <td>0</td>\n      <td>1</td>\n      <td>0</td>\n      <td>0</td>\n      <td>0</td>\n    </tr>\n  </tbody>\n</table>\n<p>5 rows × 122 columns</p>\n</div>"
     },
     "metadata": {},
     "execution_count": 12
    }
   ],
   "source": [
    "data.X_train.head(5)"
   ]
  },
  {
   "cell_type": "markdown",
   "metadata": {},
   "source": [
    "# Feature Engineering"
   ]
  },
  {
   "cell_type": "markdown",
   "metadata": {},
   "source": [
    "## Categorical Features \n",
    "### Encoders"
   ]
  },
  {
   "cell_type": "code",
   "execution_count": 14,
   "metadata": {
    "ExecuteTime": {
     "end_time": "2020-05-07T04:24:11.951750Z",
     "start_time": "2020-05-07T04:24:11.945886Z"
    }
   },
   "outputs": [
    {
     "output_type": "execute_result",
     "data": {
      "text/plain": "{'HashingEncoder': category_encoders.hashing.HashingEncoder,\n 'SumEncoder': category_encoders.sum_coding.SumEncoder,\n 'PolynomialEncoder': category_encoders.polynomial.PolynomialEncoder,\n 'BackwardDifferenceEncoder': category_encoders.backward_difference.BackwardDifferenceEncoder,\n 'OneHotEncoder': category_encoders.one_hot.OneHotEncoder,\n 'HelmertEncoder': category_encoders.helmert.HelmertEncoder,\n 'OrdinalEncoder': category_encoders.ordinal.OrdinalEncoder,\n 'FrequencyEncoder': automl_alex.encoders.FrequencyEncoder}"
     },
     "metadata": {},
     "execution_count": 14
    }
   ],
   "source": [
    "# available Encoders:\n",
    "automl_alex.encoders.cat_encoders_names"
   ]
  },
  {
   "cell_type": "code",
   "execution_count": 15,
   "metadata": {
    "ExecuteTime": {
     "end_time": "2020-05-07T04:24:13.268269Z",
     "start_time": "2020-05-07T04:24:11.964195Z"
    },
    "tags": []
   },
   "outputs": [
    {
     "output_type": "stream",
     "name": "stdout",
     "text": "Source X_train shape:(39073, 14)| X_test shape:(9769, 14)\n##################################################\nAuto detect cat features:12\n> Start preprocessing Data\n> Generate cat encodet features\n +13 Features fromOrdinalEncoder\n +13 Features fromFrequencyEncoder\n> Clean Nans in num features\n##################################################\n> Total Generated Features:15\n##################################################\nNew X_train shape:(39073, 28)| X_test shape:(9769, 28)\n"
    },
    {
     "output_type": "execute_result",
     "data": {
      "text/plain": "     fnlwgt  OrdinalEncoder_occupation  OrdinalEncoder_workclass  \\\n0   50753.0                          1                         1   \n1  144351.0                          2                         2   \n2  252217.0                          3                         3   \n3   69525.0                          4                         1   \n4   28612.0                          5                         4   \n\n   OrdinalEncoder_sex  OrdinalEncoder_native-country  \\\n0                   1                              1   \n1                   1                              1   \n2                   1                              1   \n3                   1                              1   \n4                   1                              1   \n\n   OrdinalEncoder_education-num  OrdinalEncoder_race  \\\n0                           9.0                    1   \n1                          14.0                    1   \n2                           8.0                    1   \n3                           9.0                    1   \n4                           9.0                    1   \n\n   OrdinalEncoder_capitalgain  OrdinalEncoder_education  \\\n0                           1                         1   \n1                           1                         2   \n2                           1                         3   \n3                           1                         1   \n4                           1                         1   \n\n   OrdinalEncoder_marital-status  ...  FrequencyEncoder_education-num  \\\n0                              1  ...                        0.323164   \n1                              1  ...                        0.054400   \n2                              1  ...                        0.013452   \n3                              2  ...                        0.323164   \n4                              3  ...                        0.323164   \n\n   FrequencyEncoder_race  FrequencyEncoder_capitalgain  \\\n0               0.855043                      0.917387   \n1               0.855043                      0.917387   \n2               0.855043                      0.917387   \n3               0.855043                      0.917387   \n4               0.855043                      0.917387   \n\n   FrequencyEncoder_education  FrequencyEncoder_marital-status  \\\n0                    0.323164                         0.458192   \n1                    0.054400                         0.458192   \n2                    0.013452                         0.458192   \n3                    0.323164                         0.135805   \n4                    0.323164                         0.031080   \n\n   FrequencyEncoder_capitalloss  FrequencyEncoder_hoursperweek  \\\n0                      0.953278                       0.569367   \n1                      0.953278                       0.569367   \n2                      0.953278                       0.569367   \n3                      0.953278                       0.091172   \n4                      0.953278                       0.034315   \n\n   FrequencyEncoder_age  FrequencyEncoder_relationship  \\\n0              0.260411                       0.403669   \n1              0.244707                       0.403669   \n2              0.260411                       0.403669   \n3              0.127923                       0.104930   \n4              0.127923                       0.257627   \n\n   FrequencyEncoder_fnlwgt  \n0                 0.000041  \n1                 0.000123  \n2                 0.000020  \n3                 0.000020  \n4                 0.000020  \n\n[5 rows x 28 columns]",
      "text/html": "<div>\n<style scoped>\n    .dataframe tbody tr th:only-of-type {\n        vertical-align: middle;\n    }\n\n    .dataframe tbody tr th {\n        vertical-align: top;\n    }\n\n    .dataframe thead th {\n        text-align: right;\n    }\n</style>\n<table border=\"1\" class=\"dataframe\">\n  <thead>\n    <tr style=\"text-align: right;\">\n      <th></th>\n      <th>fnlwgt</th>\n      <th>OrdinalEncoder_occupation</th>\n      <th>OrdinalEncoder_workclass</th>\n      <th>OrdinalEncoder_sex</th>\n      <th>OrdinalEncoder_native-country</th>\n      <th>OrdinalEncoder_education-num</th>\n      <th>OrdinalEncoder_race</th>\n      <th>OrdinalEncoder_capitalgain</th>\n      <th>OrdinalEncoder_education</th>\n      <th>OrdinalEncoder_marital-status</th>\n      <th>...</th>\n      <th>FrequencyEncoder_education-num</th>\n      <th>FrequencyEncoder_race</th>\n      <th>FrequencyEncoder_capitalgain</th>\n      <th>FrequencyEncoder_education</th>\n      <th>FrequencyEncoder_marital-status</th>\n      <th>FrequencyEncoder_capitalloss</th>\n      <th>FrequencyEncoder_hoursperweek</th>\n      <th>FrequencyEncoder_age</th>\n      <th>FrequencyEncoder_relationship</th>\n      <th>FrequencyEncoder_fnlwgt</th>\n    </tr>\n  </thead>\n  <tbody>\n    <tr>\n      <th>0</th>\n      <td>50753.0</td>\n      <td>1</td>\n      <td>1</td>\n      <td>1</td>\n      <td>1</td>\n      <td>9.0</td>\n      <td>1</td>\n      <td>1</td>\n      <td>1</td>\n      <td>1</td>\n      <td>...</td>\n      <td>0.323164</td>\n      <td>0.855043</td>\n      <td>0.917387</td>\n      <td>0.323164</td>\n      <td>0.458192</td>\n      <td>0.953278</td>\n      <td>0.569367</td>\n      <td>0.260411</td>\n      <td>0.403669</td>\n      <td>0.000041</td>\n    </tr>\n    <tr>\n      <th>1</th>\n      <td>144351.0</td>\n      <td>2</td>\n      <td>2</td>\n      <td>1</td>\n      <td>1</td>\n      <td>14.0</td>\n      <td>1</td>\n      <td>1</td>\n      <td>2</td>\n      <td>1</td>\n      <td>...</td>\n      <td>0.054400</td>\n      <td>0.855043</td>\n      <td>0.917387</td>\n      <td>0.054400</td>\n      <td>0.458192</td>\n      <td>0.953278</td>\n      <td>0.569367</td>\n      <td>0.244707</td>\n      <td>0.403669</td>\n      <td>0.000123</td>\n    </tr>\n    <tr>\n      <th>2</th>\n      <td>252217.0</td>\n      <td>3</td>\n      <td>3</td>\n      <td>1</td>\n      <td>1</td>\n      <td>8.0</td>\n      <td>1</td>\n      <td>1</td>\n      <td>3</td>\n      <td>1</td>\n      <td>...</td>\n      <td>0.013452</td>\n      <td>0.855043</td>\n      <td>0.917387</td>\n      <td>0.013452</td>\n      <td>0.458192</td>\n      <td>0.953278</td>\n      <td>0.569367</td>\n      <td>0.260411</td>\n      <td>0.403669</td>\n      <td>0.000020</td>\n    </tr>\n    <tr>\n      <th>3</th>\n      <td>69525.0</td>\n      <td>4</td>\n      <td>1</td>\n      <td>1</td>\n      <td>1</td>\n      <td>9.0</td>\n      <td>1</td>\n      <td>1</td>\n      <td>1</td>\n      <td>2</td>\n      <td>...</td>\n      <td>0.323164</td>\n      <td>0.855043</td>\n      <td>0.917387</td>\n      <td>0.323164</td>\n      <td>0.135805</td>\n      <td>0.953278</td>\n      <td>0.091172</td>\n      <td>0.127923</td>\n      <td>0.104930</td>\n      <td>0.000020</td>\n    </tr>\n    <tr>\n      <th>4</th>\n      <td>28612.0</td>\n      <td>5</td>\n      <td>4</td>\n      <td>1</td>\n      <td>1</td>\n      <td>9.0</td>\n      <td>1</td>\n      <td>1</td>\n      <td>1</td>\n      <td>3</td>\n      <td>...</td>\n      <td>0.323164</td>\n      <td>0.855043</td>\n      <td>0.917387</td>\n      <td>0.323164</td>\n      <td>0.031080</td>\n      <td>0.953278</td>\n      <td>0.034315</td>\n      <td>0.127923</td>\n      <td>0.257627</td>\n      <td>0.000020</td>\n    </tr>\n  </tbody>\n</table>\n<p>5 rows × 28 columns</p>\n</div>"
     },
     "metadata": {},
     "execution_count": 15
    }
   ],
   "source": [
    "data = DataBunch(X_train=X_train, \n",
    "                y_train=y_train,\n",
    "                X_test=X_test, # be sure to specify X_test, because the encoder needs all dataset to work.\n",
    "                clean_and_encod_data=True,\n",
    "                cat_encoder_names=['OrdinalEncoder', 'FrequencyEncoder',], # you can choose any encoders\n",
    "                clean_nan=True, # fillnan\n",
    "                #cat_features=categorical_features, # DataBunch can detect categorical features itself.\n",
    "                num_generator_features=False, # Generator interaction Num Features\n",
    "                group_generator_features=False, # Generator Group Encoder Features\n",
    "                frequency_enc_num_features=False,\n",
    "                normalization=False,\n",
    "                random_state=RANDOM_SEED)\n",
    "data.X_train.head(5)"
   ]
  },
  {
   "cell_type": "markdown",
   "metadata": {},
   "source": [
    "### Encoding cat features by Groupby with numerical features"
   ]
  },
  {
   "cell_type": "code",
   "execution_count": 3,
   "metadata": {},
   "outputs": [],
   "source": [
    "# add dataset whis more num features\n",
    "dataset = fetch_openml(name='credit-g', version=1, as_frame=True)\n",
    "dataset.target = dataset.target.astype('category').cat.codes\n",
    "\n",
    "X_train, X_test, y_train, y_test = train_test_split(dataset.data, dataset.target, test_size=0.2, random_state=RANDOM_SEED,)"
   ]
  },
  {
   "cell_type": "code",
   "execution_count": 4,
   "metadata": {
    "tags": []
   },
   "outputs": [
    {
     "output_type": "stream",
     "name": "stdout",
     "text": "Source X_train shape:(800, 20)| X_test shape:(200, 20)\n##################################################\nAuto detect cat features:13\n> Start preprocessing Data\n> Clean Nans in num features\n> Generate Group Encoder Features\n +64 Group cat Encoder Features\n##################################################\n> Total Features:68\n##################################################\nNew X_train shape:(800, 68)| X_test shape:(200, 68)\n"
    },
    {
     "output_type": "execute_result",
     "data": {
      "text/plain": "   duration  credit_amount   age  num_dependents  \\\n0      60.0         6836.0  63.0               0   \n1      21.0         2319.0  33.0               0   \n2       6.0         1236.0  50.0               0   \n3      21.0         5003.0  29.0               0   \n4      12.0          886.0  21.0               0   \n\n   GroupEncoder_credit_amount_checking_status  \\\n0                                           0   \n1                                           2   \n2                                           3   \n3                                           3   \n4                                           3   \n\n   GroupEncoder_credit_amount_housing  GroupEncoder_credit_amount_purpose  \\\n0                                   1                                   9   \n1                                   0                                   6   \n2                                   0                                   1   \n3                                   1                                   0   \n4                                   1                                   3   \n\n   GroupEncoder_credit_amount_employment  \\\n0                                      4   \n1                                      1   \n2                                      2   \n3                                      2   \n4                                      2   \n\n   GroupEncoder_credit_amount_other_payment_plans  \\\n0                                               2   \n1                                               2   \n2                                               2   \n3                                               0   \n4                                               2   \n\n   GroupEncoder_credit_amount_other_parties  ...  \\\n0                                         0  ...   \n1                                         0  ...   \n2                                         0  ...   \n3                                         0  ...   \n4                                         0  ...   \n\n   GroupEncoder_age_residence_since  GroupEncoder_age_existing_credits  \\\n0                                 3                                  1   \n1                                 0                                  0   \n2                                 3                                  0   \n3                                 3                                  1   \n4                                 1                                  0   \n\n   GroupEncoder_age_personal_status  GroupEncoder_age_foreign_worker  \\\n0                                 2                                0   \n1                                 0                                0   \n2                                 2                                0   \n3                                 1                                0   \n4                                 1                                0   \n\n   GroupEncoder_age_job  GroupEncoder_age_installment_commitment  \\\n0                     2                                        2   \n1                     2                                        1   \n2                     2                                        1   \n3                     2                                        0   \n4                     2                                        3   \n\n   GroupEncoder_age_own_telephone  GroupEncoder_age_credit_history  \\\n0                               1                                3   \n1                               0                                4   \n2                               0                                2   \n3                               1                                0   \n4                               0                                2   \n\n   GroupEncoder_age_savings_status  GroupEncoder_age_property_magnitude  \n0                                0                                    3  \n1                                0                                    2  \n2                                2                                    1  \n3                                4                                    1  \n4                                4                                    2  \n\n[5 rows x 68 columns]",
      "text/html": "<div>\n<style scoped>\n    .dataframe tbody tr th:only-of-type {\n        vertical-align: middle;\n    }\n\n    .dataframe tbody tr th {\n        vertical-align: top;\n    }\n\n    .dataframe thead th {\n        text-align: right;\n    }\n</style>\n<table border=\"1\" class=\"dataframe\">\n  <thead>\n    <tr style=\"text-align: right;\">\n      <th></th>\n      <th>duration</th>\n      <th>credit_amount</th>\n      <th>age</th>\n      <th>num_dependents</th>\n      <th>GroupEncoder_credit_amount_checking_status</th>\n      <th>GroupEncoder_credit_amount_housing</th>\n      <th>GroupEncoder_credit_amount_purpose</th>\n      <th>GroupEncoder_credit_amount_employment</th>\n      <th>GroupEncoder_credit_amount_other_payment_plans</th>\n      <th>GroupEncoder_credit_amount_other_parties</th>\n      <th>...</th>\n      <th>GroupEncoder_age_residence_since</th>\n      <th>GroupEncoder_age_existing_credits</th>\n      <th>GroupEncoder_age_personal_status</th>\n      <th>GroupEncoder_age_foreign_worker</th>\n      <th>GroupEncoder_age_job</th>\n      <th>GroupEncoder_age_installment_commitment</th>\n      <th>GroupEncoder_age_own_telephone</th>\n      <th>GroupEncoder_age_credit_history</th>\n      <th>GroupEncoder_age_savings_status</th>\n      <th>GroupEncoder_age_property_magnitude</th>\n    </tr>\n  </thead>\n  <tbody>\n    <tr>\n      <th>0</th>\n      <td>60.0</td>\n      <td>6836.0</td>\n      <td>63.0</td>\n      <td>0</td>\n      <td>0</td>\n      <td>1</td>\n      <td>9</td>\n      <td>4</td>\n      <td>2</td>\n      <td>0</td>\n      <td>...</td>\n      <td>3</td>\n      <td>1</td>\n      <td>2</td>\n      <td>0</td>\n      <td>2</td>\n      <td>2</td>\n      <td>1</td>\n      <td>3</td>\n      <td>0</td>\n      <td>3</td>\n    </tr>\n    <tr>\n      <th>1</th>\n      <td>21.0</td>\n      <td>2319.0</td>\n      <td>33.0</td>\n      <td>0</td>\n      <td>2</td>\n      <td>0</td>\n      <td>6</td>\n      <td>1</td>\n      <td>2</td>\n      <td>0</td>\n      <td>...</td>\n      <td>0</td>\n      <td>0</td>\n      <td>0</td>\n      <td>0</td>\n      <td>2</td>\n      <td>1</td>\n      <td>0</td>\n      <td>4</td>\n      <td>0</td>\n      <td>2</td>\n    </tr>\n    <tr>\n      <th>2</th>\n      <td>6.0</td>\n      <td>1236.0</td>\n      <td>50.0</td>\n      <td>0</td>\n      <td>3</td>\n      <td>0</td>\n      <td>1</td>\n      <td>2</td>\n      <td>2</td>\n      <td>0</td>\n      <td>...</td>\n      <td>3</td>\n      <td>0</td>\n      <td>2</td>\n      <td>0</td>\n      <td>2</td>\n      <td>1</td>\n      <td>0</td>\n      <td>2</td>\n      <td>2</td>\n      <td>1</td>\n    </tr>\n    <tr>\n      <th>3</th>\n      <td>21.0</td>\n      <td>5003.0</td>\n      <td>29.0</td>\n      <td>0</td>\n      <td>3</td>\n      <td>1</td>\n      <td>0</td>\n      <td>2</td>\n      <td>0</td>\n      <td>0</td>\n      <td>...</td>\n      <td>3</td>\n      <td>1</td>\n      <td>1</td>\n      <td>0</td>\n      <td>2</td>\n      <td>0</td>\n      <td>1</td>\n      <td>0</td>\n      <td>4</td>\n      <td>1</td>\n    </tr>\n    <tr>\n      <th>4</th>\n      <td>12.0</td>\n      <td>886.0</td>\n      <td>21.0</td>\n      <td>0</td>\n      <td>3</td>\n      <td>1</td>\n      <td>3</td>\n      <td>2</td>\n      <td>2</td>\n      <td>0</td>\n      <td>...</td>\n      <td>1</td>\n      <td>0</td>\n      <td>1</td>\n      <td>0</td>\n      <td>2</td>\n      <td>3</td>\n      <td>0</td>\n      <td>2</td>\n      <td>4</td>\n      <td>2</td>\n    </tr>\n  </tbody>\n</table>\n<p>5 rows × 68 columns</p>\n</div>"
     },
     "metadata": {},
     "execution_count": 4
    }
   ],
   "source": [
    "data = DataBunch(X_train=X_train, \n",
    "                y_train=y_train,\n",
    "                X_test=X_test, # be sure to specify X_test, because the encoder needs all dataset to work.\n",
    "                clean_and_encod_data=True,\n",
    "                cat_encoder_names=None, # False if None\n",
    "                clean_nan=True, # fillnan\n",
    "                #cat_features=categorical_features, # DataBunch can detect categorical features itself.\n",
    "                num_generator_features=False, # Generator interaction Num Features\n",
    "                group_generator_features=True, # Generator Group Encoder Features\n",
    "                frequency_enc_num_features=False,\n",
    "                normalization=False,\n",
    "                random_state=RANDOM_SEED)\n",
    "data.X_train.head(5)"
   ]
  },
  {
   "cell_type": "markdown",
   "metadata": {},
   "source": [
    "## Numerical Features"
   ]
  },
  {
   "cell_type": "code",
   "execution_count": 5,
   "metadata": {},
   "outputs": [
    {
     "output_type": "execute_result",
     "data": {
      "text/plain": "['credit_amount', 'duration', 'num_dependents', 'age']"
     },
     "metadata": {},
     "execution_count": 5
    }
   ],
   "source": [
    "data.num_features_names"
   ]
  },
  {
   "cell_type": "markdown",
   "metadata": {},
   "source": [
    "### Generator interaction Num Features\n",
    "Numerical interaction generator features: A/B, A*B, A-B, A+B"
   ]
  },
  {
   "cell_type": "code",
   "execution_count": 6,
   "metadata": {
    "tags": []
   },
   "outputs": [
    {
     "output_type": "stream",
     "name": "stdout",
     "text": "Source X_train shape:(800, 20)| X_test shape:(200, 20)\n##################################################\nAuto detect cat features:13\n> Start preprocessing Data\n> Clean Nans in num features\n> Generate interaction Num Features\n +24 Interaction Features\n##################################################\n> Total Features:28\n##################################################\nNew X_train shape:(800, 28)| X_test shape:(200, 28)\n"
    },
    {
     "output_type": "execute_result",
     "data": {
      "text/plain": "   duration  credit_amount   age  num_dependents  credit_amount_/_duration  \\\n0      60.0         6836.0  63.0               0                113.933333   \n1      21.0         2319.0  33.0               0                110.428571   \n2       6.0         1236.0  50.0               0                206.000000   \n3      21.0         5003.0  29.0               0                238.238095   \n4      12.0          886.0  21.0               0                 73.833333   \n\n   credit_amount_*_duration  credit_amount_-_duration  \\\n0                  410160.0                    6776.0   \n1                   48699.0                    2298.0   \n2                    7416.0                    1230.0   \n3                  105063.0                    4982.0   \n4                   10632.0                     874.0   \n\n   credit_amount_+_duration  credit_amount_/_num_dependents  \\\n0                    6896.0                             0.0   \n1                    2340.0                             0.0   \n2                    1242.0                             0.0   \n3                    5024.0                             0.0   \n4                     898.0                             0.0   \n\n   credit_amount_*_num_dependents  ...  duration_-_num_dependents  \\\n0                             0.0  ...                       60.0   \n1                             0.0  ...                       21.0   \n2                             0.0  ...                        6.0   \n3                             0.0  ...                       21.0   \n4                             0.0  ...                       12.0   \n\n   duration_+_num_dependents  duration_/_age  duration_*_age  duration_-_age  \\\n0                       60.0        0.952381          3780.0            -3.0   \n1                       21.0        0.636364           693.0           -12.0   \n2                        6.0        0.120000           300.0           -44.0   \n3                       21.0        0.724138           609.0            -8.0   \n4                       12.0        0.571429           252.0            -9.0   \n\n   duration_+_age  num_dependents_/_age  num_dependents_*_age  \\\n0           123.0                   0.0                   0.0   \n1            54.0                   0.0                   0.0   \n2            56.0                   0.0                   0.0   \n3            50.0                   0.0                   0.0   \n4            33.0                   0.0                   0.0   \n\n   num_dependents_-_age  num_dependents_+_age  \n0                 -63.0                  63.0  \n1                 -33.0                  33.0  \n2                 -50.0                  50.0  \n3                 -29.0                  29.0  \n4                 -21.0                  21.0  \n\n[5 rows x 28 columns]",
      "text/html": "<div>\n<style scoped>\n    .dataframe tbody tr th:only-of-type {\n        vertical-align: middle;\n    }\n\n    .dataframe tbody tr th {\n        vertical-align: top;\n    }\n\n    .dataframe thead th {\n        text-align: right;\n    }\n</style>\n<table border=\"1\" class=\"dataframe\">\n  <thead>\n    <tr style=\"text-align: right;\">\n      <th></th>\n      <th>duration</th>\n      <th>credit_amount</th>\n      <th>age</th>\n      <th>num_dependents</th>\n      <th>credit_amount_/_duration</th>\n      <th>credit_amount_*_duration</th>\n      <th>credit_amount_-_duration</th>\n      <th>credit_amount_+_duration</th>\n      <th>credit_amount_/_num_dependents</th>\n      <th>credit_amount_*_num_dependents</th>\n      <th>...</th>\n      <th>duration_-_num_dependents</th>\n      <th>duration_+_num_dependents</th>\n      <th>duration_/_age</th>\n      <th>duration_*_age</th>\n      <th>duration_-_age</th>\n      <th>duration_+_age</th>\n      <th>num_dependents_/_age</th>\n      <th>num_dependents_*_age</th>\n      <th>num_dependents_-_age</th>\n      <th>num_dependents_+_age</th>\n    </tr>\n  </thead>\n  <tbody>\n    <tr>\n      <th>0</th>\n      <td>60.0</td>\n      <td>6836.0</td>\n      <td>63.0</td>\n      <td>0</td>\n      <td>113.933333</td>\n      <td>410160.0</td>\n      <td>6776.0</td>\n      <td>6896.0</td>\n      <td>0.0</td>\n      <td>0.0</td>\n      <td>...</td>\n      <td>60.0</td>\n      <td>60.0</td>\n      <td>0.952381</td>\n      <td>3780.0</td>\n      <td>-3.0</td>\n      <td>123.0</td>\n      <td>0.0</td>\n      <td>0.0</td>\n      <td>-63.0</td>\n      <td>63.0</td>\n    </tr>\n    <tr>\n      <th>1</th>\n      <td>21.0</td>\n      <td>2319.0</td>\n      <td>33.0</td>\n      <td>0</td>\n      <td>110.428571</td>\n      <td>48699.0</td>\n      <td>2298.0</td>\n      <td>2340.0</td>\n      <td>0.0</td>\n      <td>0.0</td>\n      <td>...</td>\n      <td>21.0</td>\n      <td>21.0</td>\n      <td>0.636364</td>\n      <td>693.0</td>\n      <td>-12.0</td>\n      <td>54.0</td>\n      <td>0.0</td>\n      <td>0.0</td>\n      <td>-33.0</td>\n      <td>33.0</td>\n    </tr>\n    <tr>\n      <th>2</th>\n      <td>6.0</td>\n      <td>1236.0</td>\n      <td>50.0</td>\n      <td>0</td>\n      <td>206.000000</td>\n      <td>7416.0</td>\n      <td>1230.0</td>\n      <td>1242.0</td>\n      <td>0.0</td>\n      <td>0.0</td>\n      <td>...</td>\n      <td>6.0</td>\n      <td>6.0</td>\n      <td>0.120000</td>\n      <td>300.0</td>\n      <td>-44.0</td>\n      <td>56.0</td>\n      <td>0.0</td>\n      <td>0.0</td>\n      <td>-50.0</td>\n      <td>50.0</td>\n    </tr>\n    <tr>\n      <th>3</th>\n      <td>21.0</td>\n      <td>5003.0</td>\n      <td>29.0</td>\n      <td>0</td>\n      <td>238.238095</td>\n      <td>105063.0</td>\n      <td>4982.0</td>\n      <td>5024.0</td>\n      <td>0.0</td>\n      <td>0.0</td>\n      <td>...</td>\n      <td>21.0</td>\n      <td>21.0</td>\n      <td>0.724138</td>\n      <td>609.0</td>\n      <td>-8.0</td>\n      <td>50.0</td>\n      <td>0.0</td>\n      <td>0.0</td>\n      <td>-29.0</td>\n      <td>29.0</td>\n    </tr>\n    <tr>\n      <th>4</th>\n      <td>12.0</td>\n      <td>886.0</td>\n      <td>21.0</td>\n      <td>0</td>\n      <td>73.833333</td>\n      <td>10632.0</td>\n      <td>874.0</td>\n      <td>898.0</td>\n      <td>0.0</td>\n      <td>0.0</td>\n      <td>...</td>\n      <td>12.0</td>\n      <td>12.0</td>\n      <td>0.571429</td>\n      <td>252.0</td>\n      <td>-9.0</td>\n      <td>33.0</td>\n      <td>0.0</td>\n      <td>0.0</td>\n      <td>-21.0</td>\n      <td>21.0</td>\n    </tr>\n  </tbody>\n</table>\n<p>5 rows × 28 columns</p>\n</div>"
     },
     "metadata": {},
     "execution_count": 6
    }
   ],
   "source": [
    "data = DataBunch(X_train=X_train, \n",
    "                y_train=y_train,\n",
    "                X_test=X_test, # be sure to specify X_test, because the encoder needs all dataset to work.\n",
    "                clean_and_encod_data=True,\n",
    "                cat_encoder_names=None, # False if None\n",
    "                clean_nan=True, # fillnan\n",
    "                #cat_features=categorical_features, # DataBunch can detect categorical features itself.\n",
    "                num_generator_features=True, # Generator interaction Num Features\n",
    "                group_generator_features=False, # Generator Group Encoder Features\n",
    "                frequency_enc_num_features=False,\n",
    "                normalization=False,\n",
    "                random_state=RANDOM_SEED)\n",
    "data.X_train.head(5)"
   ]
  },
  {
   "cell_type": "markdown",
   "metadata": {},
   "source": [
    "### Frequency Encoder Numerical Features"
   ]
  },
  {
   "cell_type": "code",
   "execution_count": 7,
   "metadata": {
    "tags": []
   },
   "outputs": [
    {
     "output_type": "stream",
     "name": "stdout",
     "text": "Source X_train shape:(800, 20)| X_test shape:(200, 20)\n##################################################\nAuto detect cat features:13\n> Start preprocessing Data\n> Generate Frequency Encode num features\n +4 Frequency Encode Num Features\n> Clean Nans in num features\n##################################################\n> Total Features:8\n##################################################\nNew X_train shape:(800, 8)| X_test shape:(200, 8)\n"
    },
    {
     "output_type": "execute_result",
     "data": {
      "text/plain": "   duration  credit_amount   age  num_dependents  \\\n0      60.0         6836.0  63.0               0   \n1      21.0         2319.0  33.0               0   \n2       6.0         1236.0  50.0               0   \n3      21.0         5003.0  29.0               0   \n4      12.0          886.0  21.0               0   \n\n   FrequencyEncoder_credit_amount  FrequencyEncoder_duration  \\\n0                           0.001                      0.013   \n1                           0.001                      0.030   \n2                           0.002                      0.075   \n3                           0.001                      0.030   \n4                           0.001                      0.179   \n\n   FrequencyEncoder_num_dependents  FrequencyEncoder_age  \n0                            0.845                 0.008  \n1                            0.845                 0.033  \n2                            0.845                 0.012  \n3                            0.845                 0.037  \n4                            0.845                 0.014  ",
      "text/html": "<div>\n<style scoped>\n    .dataframe tbody tr th:only-of-type {\n        vertical-align: middle;\n    }\n\n    .dataframe tbody tr th {\n        vertical-align: top;\n    }\n\n    .dataframe thead th {\n        text-align: right;\n    }\n</style>\n<table border=\"1\" class=\"dataframe\">\n  <thead>\n    <tr style=\"text-align: right;\">\n      <th></th>\n      <th>duration</th>\n      <th>credit_amount</th>\n      <th>age</th>\n      <th>num_dependents</th>\n      <th>FrequencyEncoder_credit_amount</th>\n      <th>FrequencyEncoder_duration</th>\n      <th>FrequencyEncoder_num_dependents</th>\n      <th>FrequencyEncoder_age</th>\n    </tr>\n  </thead>\n  <tbody>\n    <tr>\n      <th>0</th>\n      <td>60.0</td>\n      <td>6836.0</td>\n      <td>63.0</td>\n      <td>0</td>\n      <td>0.001</td>\n      <td>0.013</td>\n      <td>0.845</td>\n      <td>0.008</td>\n    </tr>\n    <tr>\n      <th>1</th>\n      <td>21.0</td>\n      <td>2319.0</td>\n      <td>33.0</td>\n      <td>0</td>\n      <td>0.001</td>\n      <td>0.030</td>\n      <td>0.845</td>\n      <td>0.033</td>\n    </tr>\n    <tr>\n      <th>2</th>\n      <td>6.0</td>\n      <td>1236.0</td>\n      <td>50.0</td>\n      <td>0</td>\n      <td>0.002</td>\n      <td>0.075</td>\n      <td>0.845</td>\n      <td>0.012</td>\n    </tr>\n    <tr>\n      <th>3</th>\n      <td>21.0</td>\n      <td>5003.0</td>\n      <td>29.0</td>\n      <td>0</td>\n      <td>0.001</td>\n      <td>0.030</td>\n      <td>0.845</td>\n      <td>0.037</td>\n    </tr>\n    <tr>\n      <th>4</th>\n      <td>12.0</td>\n      <td>886.0</td>\n      <td>21.0</td>\n      <td>0</td>\n      <td>0.001</td>\n      <td>0.179</td>\n      <td>0.845</td>\n      <td>0.014</td>\n    </tr>\n  </tbody>\n</table>\n</div>"
     },
     "metadata": {},
     "execution_count": 7
    }
   ],
   "source": [
    "data = DataBunch(X_train=X_train, \n",
    "                y_train=y_train,\n",
    "                X_test=X_test, # be sure to specify X_test, because the encoder needs all dataset to work.\n",
    "                clean_and_encod_data=True,\n",
    "                cat_encoder_names=None, # False if None\n",
    "                clean_nan=True, # fillnan\n",
    "                #cat_features=categorical_features, # DataBunch can detect categorical features itself.\n",
    "                num_generator_features=False, # Generator interaction Num Features\n",
    "                group_generator_features=False, # Generator Group Encoder Features\n",
    "                frequency_enc_num_features=True, \n",
    "                normalization=False,\n",
    "                random_state=RANDOM_SEED)\n",
    "data.X_train.head(5)"
   ]
  },
  {
   "cell_type": "markdown",
   "metadata": {},
   "source": [
    "## Normalization Data\n",
    "use StandardScaler()"
   ]
  },
  {
   "cell_type": "code",
   "execution_count": 9,
   "metadata": {
    "tags": []
   },
   "outputs": [
    {
     "output_type": "stream",
     "name": "stdout",
     "text": "Source X_train shape:(800, 20)| X_test shape:(200, 20)\n##################################################\nAuto detect cat features:13\n> Start preprocessing Data\n> Generate Frequency Encode num features\n +4 Frequency Encode Num Features\n> Clean Nans in num features\n> Normalization Features\n##################################################\n> Total Features:8\n##################################################\nNew X_train shape:(800, 8)| X_test shape:(200, 8)\n"
    },
    {
     "output_type": "execute_result",
     "data": {
      "text/plain": "   duration  credit_amount       age  num_dependents  \\\n0  3.297082       1.199912  2.406187       -0.409736   \n1 -0.008051      -0.359630 -0.224364       -0.409736   \n2 -1.279256      -0.733547  1.266282       -0.409736   \n3 -0.008051       0.567050 -0.575104       -0.409736   \n4 -0.770774      -0.854388 -1.276585       -0.409736   \n\n   FrequencyEncoder_credit_amount  FrequencyEncoder_duration  \\\n0                       -0.403815                  -1.406620   \n1                       -0.403815                  -1.142860   \n2                        2.062233                  -0.444670   \n3                       -0.403815                  -1.142860   \n4                       -0.403815                   1.168925   \n\n   FrequencyEncoder_num_dependents  FrequencyEncoder_age  \n0                         0.409736             -1.603822  \n1                         0.409736              0.166108  \n2                         0.409736             -1.320634  \n3                         0.409736              0.449297  \n4                         0.409736             -1.179039  ",
      "text/html": "<div>\n<style scoped>\n    .dataframe tbody tr th:only-of-type {\n        vertical-align: middle;\n    }\n\n    .dataframe tbody tr th {\n        vertical-align: top;\n    }\n\n    .dataframe thead th {\n        text-align: right;\n    }\n</style>\n<table border=\"1\" class=\"dataframe\">\n  <thead>\n    <tr style=\"text-align: right;\">\n      <th></th>\n      <th>duration</th>\n      <th>credit_amount</th>\n      <th>age</th>\n      <th>num_dependents</th>\n      <th>FrequencyEncoder_credit_amount</th>\n      <th>FrequencyEncoder_duration</th>\n      <th>FrequencyEncoder_num_dependents</th>\n      <th>FrequencyEncoder_age</th>\n    </tr>\n  </thead>\n  <tbody>\n    <tr>\n      <th>0</th>\n      <td>3.297082</td>\n      <td>1.199912</td>\n      <td>2.406187</td>\n      <td>-0.409736</td>\n      <td>-0.403815</td>\n      <td>-1.406620</td>\n      <td>0.409736</td>\n      <td>-1.603822</td>\n    </tr>\n    <tr>\n      <th>1</th>\n      <td>-0.008051</td>\n      <td>-0.359630</td>\n      <td>-0.224364</td>\n      <td>-0.409736</td>\n      <td>-0.403815</td>\n      <td>-1.142860</td>\n      <td>0.409736</td>\n      <td>0.166108</td>\n    </tr>\n    <tr>\n      <th>2</th>\n      <td>-1.279256</td>\n      <td>-0.733547</td>\n      <td>1.266282</td>\n      <td>-0.409736</td>\n      <td>2.062233</td>\n      <td>-0.444670</td>\n      <td>0.409736</td>\n      <td>-1.320634</td>\n    </tr>\n    <tr>\n      <th>3</th>\n      <td>-0.008051</td>\n      <td>0.567050</td>\n      <td>-0.575104</td>\n      <td>-0.409736</td>\n      <td>-0.403815</td>\n      <td>-1.142860</td>\n      <td>0.409736</td>\n      <td>0.449297</td>\n    </tr>\n    <tr>\n      <th>4</th>\n      <td>-0.770774</td>\n      <td>-0.854388</td>\n      <td>-1.276585</td>\n      <td>-0.409736</td>\n      <td>-0.403815</td>\n      <td>1.168925</td>\n      <td>0.409736</td>\n      <td>-1.179039</td>\n    </tr>\n  </tbody>\n</table>\n</div>"
     },
     "metadata": {},
     "execution_count": 9
    }
   ],
   "source": [
    "data = DataBunch(X_train=X_train, \n",
    "                y_train=y_train,\n",
    "                X_test=X_test, # be sure to specify X_test, because the encoder needs all dataset to work.\n",
    "                clean_and_encod_data=True,\n",
    "                cat_encoder_names=None, # False if None\n",
    "                clean_nan=True, # fillnan\n",
    "                #cat_features=categorical_features, # DataBunch can detect categorical features itself.\n",
    "                num_generator_features=False, # Generator interaction Num Features\n",
    "                group_generator_features=False, # Generator Group Encoder Features\n",
    "                frequency_enc_num_features=True, \n",
    "                normalization=True,\n",
    "                random_state=RANDOM_SEED)\n",
    "data.X_train.head(5)"
   ]
  },
  {
   "cell_type": "markdown",
   "metadata": {
    "ExecuteTime": {
     "end_time": "2020-05-07T04:02:06.925090Z",
     "start_time": "2020-05-07T04:02:06.922362Z"
    }
   },
   "source": [
    "# Model DataBunch"
   ]
  },
  {
   "cell_type": "code",
   "execution_count": 10,
   "metadata": {
    "ExecuteTime": {
     "end_time": "2020-05-07T04:24:13.307830Z",
     "start_time": "2020-05-07T04:24:13.271370Z"
    }
   },
   "outputs": [
    {
     "output_type": "execute_result",
     "data": {
      "text/plain": "   duration  credit_amount       age  num_dependents  \\\n0  3.297082       1.199912  2.406187       -0.409736   \n1 -0.008051      -0.359630 -0.224364       -0.409736   \n2 -1.279256      -0.733547  1.266282       -0.409736   \n3 -0.008051       0.567050 -0.575104       -0.409736   \n4 -0.770774      -0.854388 -1.276585       -0.409736   \n\n   FrequencyEncoder_credit_amount  FrequencyEncoder_duration  \\\n0                       -0.403815                  -1.406620   \n1                       -0.403815                  -1.142860   \n2                        2.062233                  -0.444670   \n3                       -0.403815                  -1.142860   \n4                       -0.403815                   1.168925   \n\n   FrequencyEncoder_num_dependents  FrequencyEncoder_age  \n0                         0.409736             -1.603822  \n1                         0.409736              0.166108  \n2                         0.409736             -1.320634  \n3                         0.409736              0.449297  \n4                         0.409736             -1.179039  ",
      "text/html": "<div>\n<style scoped>\n    .dataframe tbody tr th:only-of-type {\n        vertical-align: middle;\n    }\n\n    .dataframe tbody tr th {\n        vertical-align: top;\n    }\n\n    .dataframe thead th {\n        text-align: right;\n    }\n</style>\n<table border=\"1\" class=\"dataframe\">\n  <thead>\n    <tr style=\"text-align: right;\">\n      <th></th>\n      <th>duration</th>\n      <th>credit_amount</th>\n      <th>age</th>\n      <th>num_dependents</th>\n      <th>FrequencyEncoder_credit_amount</th>\n      <th>FrequencyEncoder_duration</th>\n      <th>FrequencyEncoder_num_dependents</th>\n      <th>FrequencyEncoder_age</th>\n    </tr>\n  </thead>\n  <tbody>\n    <tr>\n      <th>0</th>\n      <td>3.297082</td>\n      <td>1.199912</td>\n      <td>2.406187</td>\n      <td>-0.409736</td>\n      <td>-0.403815</td>\n      <td>-1.406620</td>\n      <td>0.409736</td>\n      <td>-1.603822</td>\n    </tr>\n    <tr>\n      <th>1</th>\n      <td>-0.008051</td>\n      <td>-0.359630</td>\n      <td>-0.224364</td>\n      <td>-0.409736</td>\n      <td>-0.403815</td>\n      <td>-1.142860</td>\n      <td>0.409736</td>\n      <td>0.166108</td>\n    </tr>\n    <tr>\n      <th>2</th>\n      <td>-1.279256</td>\n      <td>-0.733547</td>\n      <td>1.266282</td>\n      <td>-0.409736</td>\n      <td>2.062233</td>\n      <td>-0.444670</td>\n      <td>0.409736</td>\n      <td>-1.320634</td>\n    </tr>\n    <tr>\n      <th>3</th>\n      <td>-0.008051</td>\n      <td>0.567050</td>\n      <td>-0.575104</td>\n      <td>-0.409736</td>\n      <td>-0.403815</td>\n      <td>-1.142860</td>\n      <td>0.409736</td>\n      <td>0.449297</td>\n    </tr>\n    <tr>\n      <th>4</th>\n      <td>-0.770774</td>\n      <td>-0.854388</td>\n      <td>-1.276585</td>\n      <td>-0.409736</td>\n      <td>-0.403815</td>\n      <td>1.168925</td>\n      <td>0.409736</td>\n      <td>-1.179039</td>\n    </tr>\n  </tbody>\n</table>\n</div>"
     },
     "metadata": {},
     "execution_count": 10
    }
   ],
   "source": [
    "# After you can pass databunch in model\n",
    "model = LightGBMClassifier(databunch=data, random_state=RANDOM_SEED)\n",
    "model._data.X_train.head(5)"
   ]
  },
  {
   "cell_type": "code",
   "execution_count": 13,
   "metadata": {
    "ExecuteTime": {
     "end_time": "2020-05-07T04:24:14.648430Z",
     "start_time": "2020-05-07T04:24:13.310331Z"
    },
    "tags": []
   },
   "outputs": [
    {
     "output_type": "stream",
     "name": "stdout",
     "text": "Source X_train shape:(800, 20)| X_test shape:(200, 20)\n##################################################\nAuto detect cat features:13\n> Start preprocessing Data\n> Generate cat encodet features\n +55 Features fromOneHotEncoder\n +44 Features fromHelmertEncoder\n +54 Features fromHashingEncoder\n +16 Features fromFrequencyEncoder\n> Generate Frequency Encode num features\n +4 Frequency Encode Num Features\n> Clean Nans in num features\n> Generate interaction Num Features\n +24 Interaction Features\n> Normalization Features\n##################################################\n> Total Features:201\n##################################################\nNew X_train shape:(800, 201)| X_test shape:(200, 201)\n"
    },
    {
     "output_type": "execute_result",
     "data": {
      "text/plain": "   duration  credit_amount       age  num_dependents  \\\n0  3.297082       1.199912  2.406187       -0.409736   \n1 -0.008051      -0.359630 -0.224364       -0.409736   \n2 -1.279256      -0.733547  1.266282       -0.409736   \n3 -0.008051       0.567050 -0.575104       -0.409736   \n4 -0.770774      -0.854388 -1.276585       -0.409736   \n\n   OneHotEncoder_checking_status_1  OneHotEncoder_checking_status_2  \\\n0                         1.654786                        -0.255434   \n1                        -0.604308                         3.914911   \n2                        -0.604308                        -0.255434   \n3                        -0.604308                        -0.255434   \n4                        -0.604308                        -0.255434   \n\n   OneHotEncoder_checking_status_3  OneHotEncoder_checking_status_4  \\\n0                        -0.822891                        -0.604308   \n1                        -0.822891                        -0.604308   \n2                         1.215228                        -0.604308   \n3                         1.215228                        -0.604308   \n4                         1.215228                        -0.604308   \n\n   OneHotEncoder_housing_1  OneHotEncoder_housing_2  ...  \\\n0                 0.629413                -0.460566  ...   \n1                -1.588782                 2.171241  ...   \n2                -1.588782                 2.171241  ...   \n3                 0.629413                -0.460566  ...   \n4                 0.629413                -0.460566  ...   \n\n   duration_-_num_dependents  duration_+_num_dependents  duration_/_age  \\\n0                   3.307063                   3.284183        0.719309   \n1                   0.004129                  -0.020229       -0.037499   \n2                  -1.266231                  -1.291156       -1.274102   \n3                   0.004129                  -0.020229        0.172706   \n4                  -0.758087                  -0.782785       -0.193007   \n\n   duration_*_age  duration_-_age  duration_+_age  num_dependents_/_age  \\\n0        6.110167        0.682788        4.140952             -0.398178   \n1       -0.102263        0.146742       -0.165632             -0.398178   \n2       -0.893155       -1.759198       -0.040803             -0.398178   \n3       -0.271308        0.384985       -0.415289             -0.398178   \n4       -0.989752        0.325424       -1.476331             -0.398178   \n\n   num_dependents_*_age  num_dependents_-_age  num_dependents_+_age  \n0              -0.39846             -2.427029              2.383275  \n1              -0.39846              0.212480             -0.235948  \n2              -0.39846             -1.283241              1.248278  \n3              -0.39846              0.564415             -0.585178  \n4              -0.39846              1.268284             -1.283638  \n\n[5 rows x 201 columns]",
      "text/html": "<div>\n<style scoped>\n    .dataframe tbody tr th:only-of-type {\n        vertical-align: middle;\n    }\n\n    .dataframe tbody tr th {\n        vertical-align: top;\n    }\n\n    .dataframe thead th {\n        text-align: right;\n    }\n</style>\n<table border=\"1\" class=\"dataframe\">\n  <thead>\n    <tr style=\"text-align: right;\">\n      <th></th>\n      <th>duration</th>\n      <th>credit_amount</th>\n      <th>age</th>\n      <th>num_dependents</th>\n      <th>OneHotEncoder_checking_status_1</th>\n      <th>OneHotEncoder_checking_status_2</th>\n      <th>OneHotEncoder_checking_status_3</th>\n      <th>OneHotEncoder_checking_status_4</th>\n      <th>OneHotEncoder_housing_1</th>\n      <th>OneHotEncoder_housing_2</th>\n      <th>...</th>\n      <th>duration_-_num_dependents</th>\n      <th>duration_+_num_dependents</th>\n      <th>duration_/_age</th>\n      <th>duration_*_age</th>\n      <th>duration_-_age</th>\n      <th>duration_+_age</th>\n      <th>num_dependents_/_age</th>\n      <th>num_dependents_*_age</th>\n      <th>num_dependents_-_age</th>\n      <th>num_dependents_+_age</th>\n    </tr>\n  </thead>\n  <tbody>\n    <tr>\n      <th>0</th>\n      <td>3.297082</td>\n      <td>1.199912</td>\n      <td>2.406187</td>\n      <td>-0.409736</td>\n      <td>1.654786</td>\n      <td>-0.255434</td>\n      <td>-0.822891</td>\n      <td>-0.604308</td>\n      <td>0.629413</td>\n      <td>-0.460566</td>\n      <td>...</td>\n      <td>3.307063</td>\n      <td>3.284183</td>\n      <td>0.719309</td>\n      <td>6.110167</td>\n      <td>0.682788</td>\n      <td>4.140952</td>\n      <td>-0.398178</td>\n      <td>-0.39846</td>\n      <td>-2.427029</td>\n      <td>2.383275</td>\n    </tr>\n    <tr>\n      <th>1</th>\n      <td>-0.008051</td>\n      <td>-0.359630</td>\n      <td>-0.224364</td>\n      <td>-0.409736</td>\n      <td>-0.604308</td>\n      <td>3.914911</td>\n      <td>-0.822891</td>\n      <td>-0.604308</td>\n      <td>-1.588782</td>\n      <td>2.171241</td>\n      <td>...</td>\n      <td>0.004129</td>\n      <td>-0.020229</td>\n      <td>-0.037499</td>\n      <td>-0.102263</td>\n      <td>0.146742</td>\n      <td>-0.165632</td>\n      <td>-0.398178</td>\n      <td>-0.39846</td>\n      <td>0.212480</td>\n      <td>-0.235948</td>\n    </tr>\n    <tr>\n      <th>2</th>\n      <td>-1.279256</td>\n      <td>-0.733547</td>\n      <td>1.266282</td>\n      <td>-0.409736</td>\n      <td>-0.604308</td>\n      <td>-0.255434</td>\n      <td>1.215228</td>\n      <td>-0.604308</td>\n      <td>-1.588782</td>\n      <td>2.171241</td>\n      <td>...</td>\n      <td>-1.266231</td>\n      <td>-1.291156</td>\n      <td>-1.274102</td>\n      <td>-0.893155</td>\n      <td>-1.759198</td>\n      <td>-0.040803</td>\n      <td>-0.398178</td>\n      <td>-0.39846</td>\n      <td>-1.283241</td>\n      <td>1.248278</td>\n    </tr>\n    <tr>\n      <th>3</th>\n      <td>-0.008051</td>\n      <td>0.567050</td>\n      <td>-0.575104</td>\n      <td>-0.409736</td>\n      <td>-0.604308</td>\n      <td>-0.255434</td>\n      <td>1.215228</td>\n      <td>-0.604308</td>\n      <td>0.629413</td>\n      <td>-0.460566</td>\n      <td>...</td>\n      <td>0.004129</td>\n      <td>-0.020229</td>\n      <td>0.172706</td>\n      <td>-0.271308</td>\n      <td>0.384985</td>\n      <td>-0.415289</td>\n      <td>-0.398178</td>\n      <td>-0.39846</td>\n      <td>0.564415</td>\n      <td>-0.585178</td>\n    </tr>\n    <tr>\n      <th>4</th>\n      <td>-0.770774</td>\n      <td>-0.854388</td>\n      <td>-1.276585</td>\n      <td>-0.409736</td>\n      <td>-0.604308</td>\n      <td>-0.255434</td>\n      <td>1.215228</td>\n      <td>-0.604308</td>\n      <td>0.629413</td>\n      <td>-0.460566</td>\n      <td>...</td>\n      <td>-0.758087</td>\n      <td>-0.782785</td>\n      <td>-0.193007</td>\n      <td>-0.989752</td>\n      <td>0.325424</td>\n      <td>-1.476331</td>\n      <td>-0.398178</td>\n      <td>-0.39846</td>\n      <td>1.268284</td>\n      <td>-1.283638</td>\n    </tr>\n  </tbody>\n</table>\n<p>5 rows × 201 columns</p>\n</div>"
     },
     "metadata": {},
     "execution_count": 13
    }
   ],
   "source": [
    "# or you can specify all DataBunch settings in model\n",
    "model = LightGBMClassifier(\n",
    "    X_train, \n",
    "    y_train, \n",
    "    X_test,\n",
    "    cat_features=None,\n",
    "    clean_and_encod_data=True,\n",
    "    cat_encoder_names=['OneHotEncoder', 'HelmertEncoder', 'HashingEncoder', 'FrequencyEncoder'],\n",
    "    num_generator_features=True, # Generator interaction Num Features\n",
    "    group_generator_features=False, # Generator Group Encoder Features\n",
    "    frequency_enc_num_features=True, \n",
    "    normalization=True,\n",
    "    clean_nan=True, # fillnan\n",
    "    verbose=1,\n",
    "    random_state=RANDOM_SEED,\n",
    "    )\n",
    "model._data.X_train.head(5)"
   ]
  },
  {
   "cell_type": "markdown",
   "metadata": {},
   "source": [
    "If you need to make changes to the data, you can access the databunch directly in the model model._data.X_train. But I do not recommend doing this."
   ]
  },
  {
   "cell_type": "code",
   "execution_count": 14,
   "metadata": {
    "ExecuteTime": {
     "end_time": "2020-05-07T04:24:37.124919Z",
     "start_time": "2020-05-07T04:24:14.650366Z"
    },
    "tags": []
   },
   "outputs": [
    {
     "output_type": "stream",
     "name": "stderr",
     "text": "0%|          | 0/1 [00:00<?, ?it/s]\n Mean Score roc_auc_score on 30 Folds: 0.7404 std: 0.062749\n100%|██████████| 1/1 [00:11<00:00, 11.33s/it]\nTest AUC:0.8297\n"
    }
   ],
   "source": [
    "# fit with default model parameters\n",
    "predicts = model.predict()\n",
    "print('Test AUC: ', round(sklearn.metrics.roc_auc_score(y_test, predicts['predict_test'][0]),4))"
   ]
  },
  {
   "cell_type": "markdown",
   "metadata": {},
   "source": [
    "**Encoder selection is an important part of all AutoML**    \n",
    "Even with such smart preprocessing, don't forget the basic DS rule: **Garbage in the input is garbage in the output.**"
   ]
  },
  {
   "cell_type": "markdown",
   "metadata": {},
   "source": [
    "[RUS] Даже с такой умной предобработкой не забывайте: Мусор на входе - мусор на выходе."
   ]
  },
  {
   "cell_type": "code",
   "execution_count": null,
   "metadata": {},
   "outputs": [],
   "source": []
  }
 ],
 "metadata": {
  "kernelspec": {
   "display_name": "Python 3",
   "language": "python",
   "name": "python3"
  },
  "language_info": {
   "codemirror_mode": {
    "name": "ipython",
    "version": 3
   },
   "file_extension": ".py",
   "mimetype": "text/x-python",
   "name": "python",
   "nbconvert_exporter": "python",
   "pygments_lexer": "ipython3",
   "version": "3.8.3-final"
  },
  "toc": {
   "base_numbering": 1,
   "nav_menu": {},
   "number_sections": false,
   "sideBar": true,
   "skip_h1_title": false,
   "title_cell": "Table of Contents",
   "title_sidebar": "Contents",
   "toc_cell": false,
   "toc_position": {
    "height": "calc(100% - 180px)",
    "left": "10px",
    "top": "150px",
    "width": "165px"
   },
   "toc_section_display": true,
   "toc_window_display": true
  }
 },
 "nbformat": 4,
 "nbformat_minor": 4
}