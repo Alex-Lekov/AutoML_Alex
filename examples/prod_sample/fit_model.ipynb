{
 "cells": [
  {
   "cell_type": "code",
   "execution_count": 1,
   "metadata": {
    "ExecuteTime": {
     "end_time": "2020-05-07T01:04:07.223678Z",
     "start_time": "2020-05-07T01:04:07.203114Z"
    }
   },
   "outputs": [],
   "source": [
    "# If you run this notebook on Google Colaboratory, uncomment the below to install automl_alex.\n",
    "#!pip install -q -U automl_alex"
   ]
  },
  {
   "cell_type": "code",
   "execution_count": 5,
   "metadata": {
    "ExecuteTime": {
     "end_time": "2020-05-07T01:05:50.878720Z",
     "start_time": "2020-05-07T01:05:50.874642Z"
    },
    "tags": []
   },
   "outputs": [
    {
     "output_type": "stream",
     "name": "stdout",
     "text": [
      "AutoML-Alex version: 1.3.5\n"
     ]
    }
   ],
   "source": [
    "import automl_alex\n",
    "import sklearn\n",
    "import pandas as pd\n",
    "import time\n",
    "from sklearn.model_selection import train_test_split\n",
    "\n",
    "from automl_alex import DataPrepare\n",
    "from automl_alex import AutoML, AutoMLClassifier, AutoMLRegressor\n",
    "print('AutoML-Alex version:', automl_alex.__version__)"
   ]
  },
  {
   "cell_type": "code",
   "execution_count": 6,
   "metadata": {
    "ExecuteTime": {
     "end_time": "2020-05-07T01:05:52.553896Z",
     "start_time": "2020-05-07T01:05:52.549132Z"
    }
   },
   "outputs": [],
   "source": [
    "RANDOM_SEED = 42"
   ]
  },
  {
   "cell_type": "markdown",
   "metadata": {},
   "source": [
    "# Classifier"
   ]
  },
  {
   "cell_type": "markdown",
   "metadata": {},
   "source": [
    "## Data"
   ]
  },
  {
   "cell_type": "code",
   "execution_count": 7,
   "metadata": {
    "ExecuteTime": {
     "end_time": "2020-05-07T01:05:55.127924Z",
     "start_time": "2020-05-07T01:05:55.037616Z"
    }
   },
   "outputs": [
    {
     "output_type": "execute_result",
     "data": {
      "text/plain": [
       "   age         workclass  fnlwgt     education  education-num marital-status  \\\n",
       "0    3           Private  304857       Masters             14      Separated   \n",
       "1    0           Private  189590     Bachelors             13  Never-married   \n",
       "2    4           Private   96299       HS-grad              9       Divorced   \n",
       "3    4  Self-emp-not-inc  196307     Bachelors             13  Never-married   \n",
       "4    0           Private  265434  Some-college             10  Never-married   \n",
       "\n",
       "         occupation   relationship   race     sex  capitalgain  capitalloss  \\\n",
       "0      Tech-support  Not-in-family  White    Male            4            0   \n",
       "1      Tech-support  Not-in-family  White    Male            0            0   \n",
       "2  Transport-moving      Unmarried  White    Male            0            0   \n",
       "3    Prof-specialty  Not-in-family  White    Male            0            0   \n",
       "4    Prof-specialty      Own-child  White  Female            0            0   \n",
       "\n",
       "   hoursperweek native-country  class  \n",
       "0             2  United-States      1  \n",
       "1             2  United-States      0  \n",
       "2             2  United-States      1  \n",
       "3             0  United-States      0  \n",
       "4             1  United-States      0  "
      ],
      "text/html": "<div>\n<style scoped>\n    .dataframe tbody tr th:only-of-type {\n        vertical-align: middle;\n    }\n\n    .dataframe tbody tr th {\n        vertical-align: top;\n    }\n\n    .dataframe thead th {\n        text-align: right;\n    }\n</style>\n<table border=\"1\" class=\"dataframe\">\n  <thead>\n    <tr style=\"text-align: right;\">\n      <th></th>\n      <th>age</th>\n      <th>workclass</th>\n      <th>fnlwgt</th>\n      <th>education</th>\n      <th>education-num</th>\n      <th>marital-status</th>\n      <th>occupation</th>\n      <th>relationship</th>\n      <th>race</th>\n      <th>sex</th>\n      <th>capitalgain</th>\n      <th>capitalloss</th>\n      <th>hoursperweek</th>\n      <th>native-country</th>\n      <th>class</th>\n    </tr>\n  </thead>\n  <tbody>\n    <tr>\n      <th>0</th>\n      <td>3</td>\n      <td>Private</td>\n      <td>304857</td>\n      <td>Masters</td>\n      <td>14</td>\n      <td>Separated</td>\n      <td>Tech-support</td>\n      <td>Not-in-family</td>\n      <td>White</td>\n      <td>Male</td>\n      <td>4</td>\n      <td>0</td>\n      <td>2</td>\n      <td>United-States</td>\n      <td>1</td>\n    </tr>\n    <tr>\n      <th>1</th>\n      <td>0</td>\n      <td>Private</td>\n      <td>189590</td>\n      <td>Bachelors</td>\n      <td>13</td>\n      <td>Never-married</td>\n      <td>Tech-support</td>\n      <td>Not-in-family</td>\n      <td>White</td>\n      <td>Male</td>\n      <td>0</td>\n      <td>0</td>\n      <td>2</td>\n      <td>United-States</td>\n      <td>0</td>\n    </tr>\n    <tr>\n      <th>2</th>\n      <td>4</td>\n      <td>Private</td>\n      <td>96299</td>\n      <td>HS-grad</td>\n      <td>9</td>\n      <td>Divorced</td>\n      <td>Transport-moving</td>\n      <td>Unmarried</td>\n      <td>White</td>\n      <td>Male</td>\n      <td>0</td>\n      <td>0</td>\n      <td>2</td>\n      <td>United-States</td>\n      <td>1</td>\n    </tr>\n    <tr>\n      <th>3</th>\n      <td>4</td>\n      <td>Self-emp-not-inc</td>\n      <td>196307</td>\n      <td>Bachelors</td>\n      <td>13</td>\n      <td>Never-married</td>\n      <td>Prof-specialty</td>\n      <td>Not-in-family</td>\n      <td>White</td>\n      <td>Male</td>\n      <td>0</td>\n      <td>0</td>\n      <td>0</td>\n      <td>United-States</td>\n      <td>0</td>\n    </tr>\n    <tr>\n      <th>4</th>\n      <td>0</td>\n      <td>Private</td>\n      <td>265434</td>\n      <td>Some-college</td>\n      <td>10</td>\n      <td>Never-married</td>\n      <td>Prof-specialty</td>\n      <td>Own-child</td>\n      <td>White</td>\n      <td>Female</td>\n      <td>0</td>\n      <td>0</td>\n      <td>1</td>\n      <td>United-States</td>\n      <td>0</td>\n    </tr>\n  </tbody>\n</table>\n</div>"
     },
     "metadata": {},
     "execution_count": 7
    }
   ],
   "source": [
    "data = pd.read_csv('./dataset/openml_id_543_train.csv')\n",
    "data.head(5)"
   ]
  },
  {
   "cell_type": "code",
   "execution_count": 8,
   "metadata": {},
   "outputs": [],
   "source": [
    "X = data.drop(['class'], axis=1)\n",
    "y = data['class']"
   ]
  },
  {
   "source": [
    "## AutoML"
   ],
   "cell_type": "markdown",
   "metadata": {}
  },
  {
   "cell_type": "code",
   "execution_count": 9,
   "metadata": {},
   "outputs": [
    {
     "output_type": "stream",
     "name": "stderr",
     "text": [
      "00:12:18 | > Start Fit Base Model\n",
      "00:12:50 | > DATA PREPROC\n",
      "00:12:50 | Source data shape: (36631, 14)\n",
      "00:12:50 | ##################################################\n",
      "00:12:50 | ! START preprocessing Data\n",
      "00:12:50 | - Auto detect cat features: 12\n",
      "00:12:50 | > Binary Features\n",
      "00:12:50 | > Clean Categorical Features\n",
      "00:12:50 | > Transform Categorical Features.\n",
      "00:12:51 |  - Encoder: OneHotEncoder ADD features: 135\n",
      "00:12:51 |  - Encoder: CountEncoder ADD features: 12\n",
      "00:12:51 |   No nans features\n",
      "00:12:51 | > CleanOutliers\n",
      "00:12:51 | Num of outlier detected: 15707 in Feature hoursperweek\n",
      "00:12:51 | Proportion of outlier detected: 42.9 %\n",
      "00:12:51 | Num of outlier detected: 1706 in Feature capitalloss\n",
      "00:12:51 | Proportion of outlier detected: 4.7 %\n",
      "00:12:51 | Num of outlier detected: 527 in Feature fnlwgt\n",
      "00:12:51 | Proportion of outlier detected: 1.4 %\n",
      "00:12:51 | Num of outlier detected: 3070 in Feature capitalgain\n",
      "00:12:51 | Proportion of outlier detected: 8.4 %\n",
      "00:12:51 | Num of outlier detected: 231 in Feature education-num\n",
      "00:12:51 | Proportion of outlier detected: 0.6 %\n",
      "00:12:51 | > Generate interaction Num Features\n",
      "00:12:51 |  ADD features: 75\n",
      "00:12:52 | > Normalization Features\n",
      "00:12:52 | ##################################################\n",
      "00:12:52 | Final data shape: (36631, 242)\n",
      "00:12:52 | Total ADD columns: 228\n",
      "00:12:52 | ##################################################\n",
      "00:12:52 | ##################################################\n",
      "00:12:52 | > Start Fit Models 3\n",
      "00:12:52 | ##################################################\n",
      "00:13:15 | > DATA PREPROC\n",
      "00:13:15 | Source data shape: (36631, 14)\n",
      "00:13:15 | ##################################################\n",
      "00:13:15 | ! START preprocessing Data\n",
      "00:13:15 | - Auto detect cat features: 12\n",
      "00:13:15 | > Binary Features\n",
      "00:13:15 | > Clean Categorical Features\n",
      "00:13:15 | > Transform Categorical Features.\n",
      "00:13:16 |  - Encoder: HelmertEncoder ADD features: 123\n",
      "00:13:16 |  - Encoder: CountEncoder ADD features: 12\n",
      "00:13:16 |  - Encoder: HashingEncoder ADD features: 12\n",
      "00:13:16 |   No nans features\n",
      "00:13:16 | > CleanOutliers\n",
      "00:13:16 | Num of outlier detected: 15707 in Feature hoursperweek\n",
      "00:13:16 | Proportion of outlier detected: 42.9 %\n",
      "00:13:16 | Num of outlier detected: 1706 in Feature capitalloss\n",
      "00:13:16 | Proportion of outlier detected: 4.7 %\n",
      "00:13:16 | Num of outlier detected: 527 in Feature fnlwgt\n",
      "00:13:16 | Proportion of outlier detected: 1.4 %\n",
      "00:13:16 | Num of outlier detected: 3070 in Feature capitalgain\n",
      "00:13:16 | Proportion of outlier detected: 8.4 %\n",
      "00:13:16 | Num of outlier detected: 231 in Feature education-num\n",
      "00:13:16 | Proportion of outlier detected: 0.6 %\n",
      "00:13:16 | > Generate interaction Num Features\n",
      "00:13:17 |  ADD features: 75\n",
      "00:13:17 | ##################################################\n",
      "00:13:17 | Final data shape: (36631, 242)\n",
      "00:13:17 | Total ADD columns: 228\n",
      "00:13:17 | ##################################################\n",
      "00:13:17 | ##################################################\n",
      "00:13:17 | > Start Fit Models 4\n",
      "00:13:36 | ##################################################\n",
      "00:13:36 | > Start Fit Models 5\n",
      "00:13:36 | ##################################################\n",
      "00:13:36 | ##################################################\n",
      "00:13:37 | > Step 1: calc parameters and pruned score: get test 10 trials\n",
      "00:17:46 |  One iteration ~ 24.9 sec\n",
      "00:17:46 |  Possible iters ~ 18.0\n",
      "00:17:46 | ! Not enough time to find the optimal parameters. \n",
      "                     Possible iters < 100. \n",
      "                     Please, Increase the 'timeout' parameter for normal optimization.\n",
      "00:17:46 | --------------------------------------------------\n",
      "00:17:46 |   Pruned Threshold Score: 0.8986\n",
      "00:17:46 | ##################################################\n",
      "00:17:46 | > Step 2: Full opt with Threshold Score Pruner\n",
      "00:17:46 | ##################################################\n",
      "00:17:46 | > Start optimization with the parameters:\n",
      "00:17:46 | CV_Folds = 7\n",
      "00:17:46 | Score_CV_Folds = 2\n",
      "00:17:46 | Feature_Selection = True\n",
      "00:17:46 | Opt_lvl = 1\n",
      "00:17:46 | Cold_start = 10\n",
      "00:17:46 | Early_stoping = 25\n",
      "00:17:46 | Metric = roc_auc_score\n",
      "00:17:46 | Direction = maximize\n",
      "00:17:46 | ##################################################\n",
      "Optimize: : 35it [09:06, 15.61s/it, | Model: LightGBM | OptScore: 0.9092 | Best roc_auc_score: 0.911 ]\n",
      "00:26:52 | > Finish Opt!\n",
      "Finished loading model, total used 300 iterations\n",
      "Finished loading model, total used 300 iterations\n",
      "Finished loading model, total used 300 iterations\n",
      "Finished loading model, total used 300 iterations\n",
      "Finished loading model, total used 300 iterations\n",
      "Finished loading model, total used 300 iterations\n",
      "Finished loading model, total used 300 iterations\n",
      "00:27:10 | Best Score: 0.911 roc_auc_score\n",
      "00:27:10 | Save Model\n",
      "00:27:11 | Save Model\n",
      "00:27:11 | Save Model\n",
      "00:27:11 | Save Model\n",
      "00:27:11 | Save Model\n",
      "00:27:11 | Save Model\n",
      "00:27:11 | Save Model\n",
      "Save model\n",
      "00:27:12 | ##################################################\n",
      "00:27:12 | > Finish!\n"
     ]
    },
    {
     "output_type": "execute_result",
     "data": {
      "text/plain": [
       "<automl_alex.automl_alex.AutoMLClassifier at 0x7f90292e4490>"
      ]
     },
     "metadata": {},
     "execution_count": 9
    }
   ],
   "source": [
    "model = AutoMLClassifier(random_state=RANDOM_SEED,)\n",
    "model.fit(X, y, timeout=600)"
   ]
  },
  {
   "source": [
    "## Save"
   ],
   "cell_type": "markdown",
   "metadata": {}
  },
  {
   "cell_type": "code",
   "execution_count": 10,
   "metadata": {},
   "outputs": [
    {
     "output_type": "stream",
     "name": "stderr",
     "text": [
      "00:27:12 | Save DataPrepare\n",
      "00:27:12 | Save DataPrepare\n",
      "00:27:13 | Save Model\n",
      "00:27:13 | Save Model\n",
      "00:27:13 | Save Model\n",
      "00:27:13 | Save Model\n",
      "00:27:13 | Save Model\n",
      "00:27:13 | Save Model\n",
      "00:27:13 | Save Model\n",
      "Save model\n",
      "00:27:15 | Save AutoML\n"
     ]
    }
   ],
   "source": [
    "model.save('AutoML_model', folder='./model/')"
   ]
  },
  {
   "cell_type": "code",
   "execution_count": null,
   "metadata": {},
   "outputs": [],
   "source": []
  }
 ],
 "metadata": {
  "kernelspec": {
   "name": "python3",
   "display_name": "Python 3",
   "language": "python"
  },
  "language_info": {
   "codemirror_mode": {
    "name": "ipython",
    "version": 3
   },
   "file_extension": ".py",
   "mimetype": "text/x-python",
   "name": "python",
   "nbconvert_exporter": "python",
   "pygments_lexer": "ipython3",
   "version": "3.8.3-final"
  },
  "toc": {
   "base_numbering": 1,
   "nav_menu": {},
   "number_sections": false,
   "sideBar": true,
   "skip_h1_title": false,
   "title_cell": "Table of Contents",
   "title_sidebar": "Contents",
   "toc_cell": false,
   "toc_position": {
    "height": "calc(100% - 180px)",
    "left": "10px",
    "top": "150px",
    "width": "165px"
   },
   "toc_section_display": true,
   "toc_window_display": true
  }
 },
 "nbformat": 4,
 "nbformat_minor": 4
}