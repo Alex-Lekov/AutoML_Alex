{
 "cells": [
  {
   "cell_type": "code",
   "execution_count": 1,
   "metadata": {
    "ExecuteTime": {
     "end_time": "2020-05-07T01:04:07.223678Z",
     "start_time": "2020-05-07T01:04:07.203114Z"
    }
   },
   "outputs": [],
   "source": [
    "# If you run this notebook on Google Colaboratory, uncomment the below to install automl_alex.\n",
    "#!pip install --quiet automl-alex"
   ]
  },
  {
   "cell_type": "code",
   "execution_count": 1,
   "metadata": {
    "ExecuteTime": {
     "end_time": "2020-05-07T01:05:50.878720Z",
     "start_time": "2020-05-07T01:05:50.874642Z"
    }
   },
   "outputs": [
    {
     "output_type": "stream",
     "name": "stdout",
     "text": "0.05.08.11\n"
    }
   ],
   "source": [
    "import automl_alex\n",
    "import sklearn\n",
    "from automl_alex import AutoML, AutoMLClassifier\n",
    "print(automl_alex.__version__)"
   ]
  },
  {
   "cell_type": "code",
   "execution_count": 2,
   "metadata": {
    "ExecuteTime": {
     "end_time": "2020-05-07T01:05:52.553896Z",
     "start_time": "2020-05-07T01:05:52.549132Z"
    }
   },
   "outputs": [],
   "source": [
    "RANDOM_SEED = 42"
   ]
  },
  {
   "cell_type": "markdown",
   "metadata": {},
   "source": [
    "# Classifier"
   ]
  },
  {
   "cell_type": "markdown",
   "metadata": {},
   "source": [
    "## Data"
   ]
  },
  {
   "cell_type": "code",
   "execution_count": 3,
   "metadata": {
    "ExecuteTime": {
     "end_time": "2020-05-07T01:05:55.127924Z",
     "start_time": "2020-05-07T01:05:55.037616Z"
    }
   },
   "outputs": [
    {
     "output_type": "execute_result",
     "data": {
      "text/plain": "  checking_status  duration                  credit_history  \\\n0              <0       6.0  critical/other existing credit   \n1        0<=X<200      48.0                   existing paid   \n2     no checking      12.0  critical/other existing credit   \n3              <0      42.0                   existing paid   \n4              <0      24.0              delayed previously   \n\n               purpose  credit_amount    savings_status employment  \\\n0             radio/tv         1169.0  no known savings        >=7   \n1             radio/tv         5951.0              <100     1<=X<4   \n2            education         2096.0              <100     4<=X<7   \n3  furniture/equipment         7882.0              <100     4<=X<7   \n4              new car         4870.0              <100     1<=X<4   \n\n   installment_commitment     personal_status other_parties  residence_since  \\\n0                     4.0         male single          none              4.0   \n1                     2.0  female div/dep/mar          none              2.0   \n2                     2.0         male single          none              3.0   \n3                     2.0         male single     guarantor              4.0   \n4                     3.0         male single          none              4.0   \n\n  property_magnitude   age other_payment_plans   housing  existing_credits  \\\n0        real estate  67.0                none       own               2.0   \n1        real estate  22.0                none       own               1.0   \n2        real estate  49.0                none       own               1.0   \n3     life insurance  45.0                none  for free               1.0   \n4  no known property  53.0                none  for free               2.0   \n\n                  job  num_dependents own_telephone foreign_worker  \n0             skilled             1.0           yes            yes  \n1             skilled             1.0          none            yes  \n2  unskilled resident             2.0          none            yes  \n3             skilled             2.0          none            yes  \n4             skilled             2.0          none            yes  ",
      "text/html": "<div>\n<style scoped>\n    .dataframe tbody tr th:only-of-type {\n        vertical-align: middle;\n    }\n\n    .dataframe tbody tr th {\n        vertical-align: top;\n    }\n\n    .dataframe thead th {\n        text-align: right;\n    }\n</style>\n<table border=\"1\" class=\"dataframe\">\n  <thead>\n    <tr style=\"text-align: right;\">\n      <th></th>\n      <th>checking_status</th>\n      <th>duration</th>\n      <th>credit_history</th>\n      <th>purpose</th>\n      <th>credit_amount</th>\n      <th>savings_status</th>\n      <th>employment</th>\n      <th>installment_commitment</th>\n      <th>personal_status</th>\n      <th>other_parties</th>\n      <th>residence_since</th>\n      <th>property_magnitude</th>\n      <th>age</th>\n      <th>other_payment_plans</th>\n      <th>housing</th>\n      <th>existing_credits</th>\n      <th>job</th>\n      <th>num_dependents</th>\n      <th>own_telephone</th>\n      <th>foreign_worker</th>\n    </tr>\n  </thead>\n  <tbody>\n    <tr>\n      <th>0</th>\n      <td>&lt;0</td>\n      <td>6.0</td>\n      <td>critical/other existing credit</td>\n      <td>radio/tv</td>\n      <td>1169.0</td>\n      <td>no known savings</td>\n      <td>&gt;=7</td>\n      <td>4.0</td>\n      <td>male single</td>\n      <td>none</td>\n      <td>4.0</td>\n      <td>real estate</td>\n      <td>67.0</td>\n      <td>none</td>\n      <td>own</td>\n      <td>2.0</td>\n      <td>skilled</td>\n      <td>1.0</td>\n      <td>yes</td>\n      <td>yes</td>\n    </tr>\n    <tr>\n      <th>1</th>\n      <td>0&lt;=X&lt;200</td>\n      <td>48.0</td>\n      <td>existing paid</td>\n      <td>radio/tv</td>\n      <td>5951.0</td>\n      <td>&lt;100</td>\n      <td>1&lt;=X&lt;4</td>\n      <td>2.0</td>\n      <td>female div/dep/mar</td>\n      <td>none</td>\n      <td>2.0</td>\n      <td>real estate</td>\n      <td>22.0</td>\n      <td>none</td>\n      <td>own</td>\n      <td>1.0</td>\n      <td>skilled</td>\n      <td>1.0</td>\n      <td>none</td>\n      <td>yes</td>\n    </tr>\n    <tr>\n      <th>2</th>\n      <td>no checking</td>\n      <td>12.0</td>\n      <td>critical/other existing credit</td>\n      <td>education</td>\n      <td>2096.0</td>\n      <td>&lt;100</td>\n      <td>4&lt;=X&lt;7</td>\n      <td>2.0</td>\n      <td>male single</td>\n      <td>none</td>\n      <td>3.0</td>\n      <td>real estate</td>\n      <td>49.0</td>\n      <td>none</td>\n      <td>own</td>\n      <td>1.0</td>\n      <td>unskilled resident</td>\n      <td>2.0</td>\n      <td>none</td>\n      <td>yes</td>\n    </tr>\n    <tr>\n      <th>3</th>\n      <td>&lt;0</td>\n      <td>42.0</td>\n      <td>existing paid</td>\n      <td>furniture/equipment</td>\n      <td>7882.0</td>\n      <td>&lt;100</td>\n      <td>4&lt;=X&lt;7</td>\n      <td>2.0</td>\n      <td>male single</td>\n      <td>guarantor</td>\n      <td>4.0</td>\n      <td>life insurance</td>\n      <td>45.0</td>\n      <td>none</td>\n      <td>for free</td>\n      <td>1.0</td>\n      <td>skilled</td>\n      <td>2.0</td>\n      <td>none</td>\n      <td>yes</td>\n    </tr>\n    <tr>\n      <th>4</th>\n      <td>&lt;0</td>\n      <td>24.0</td>\n      <td>delayed previously</td>\n      <td>new car</td>\n      <td>4870.0</td>\n      <td>&lt;100</td>\n      <td>1&lt;=X&lt;4</td>\n      <td>3.0</td>\n      <td>male single</td>\n      <td>none</td>\n      <td>4.0</td>\n      <td>no known property</td>\n      <td>53.0</td>\n      <td>none</td>\n      <td>for free</td>\n      <td>2.0</td>\n      <td>skilled</td>\n      <td>2.0</td>\n      <td>none</td>\n      <td>yes</td>\n    </tr>\n  </tbody>\n</table>\n</div>"
     },
     "metadata": {},
     "execution_count": 3
    }
   ],
   "source": [
    "from sklearn.datasets import fetch_openml\n",
    "from sklearn.model_selection import train_test_split\n",
    "dataset = fetch_openml(name='credit-g', version=1, as_frame=True)\n",
    "dataset.data.head(5)"
   ]
  },
  {
   "cell_type": "code",
   "execution_count": 4,
   "metadata": {
    "ExecuteTime": {
     "end_time": "2020-05-07T01:05:55.928291Z",
     "start_time": "2020-05-07T01:05:55.905770Z"
    }
   },
   "outputs": [
    {
     "output_type": "execute_result",
     "data": {
      "text/plain": "0    good\n1     bad\n2    good\n3    good\n4     bad\nName: class, dtype: category\nCategories (2, object): [good, bad]"
     },
     "metadata": {},
     "execution_count": 4
    }
   ],
   "source": [
    "dataset.target[:5]"
   ]
  },
  {
   "cell_type": "code",
   "execution_count": 5,
   "metadata": {
    "ExecuteTime": {
     "end_time": "2020-05-07T01:05:56.353082Z",
     "start_time": "2020-05-07T01:05:56.345076Z"
    }
   },
   "outputs": [
    {
     "output_type": "execute_result",
     "data": {
      "text/plain": "0    0\n1    1\n2    0\n3    0\n4    1\ndtype: int8"
     },
     "metadata": {},
     "execution_count": 5
    }
   ],
   "source": [
    "dataset.target = dataset.target.astype('category').cat.codes\n",
    "dataset.target[:5]"
   ]
  },
  {
   "cell_type": "code",
   "execution_count": 6,
   "metadata": {
    "ExecuteTime": {
     "end_time": "2020-05-07T01:05:56.756465Z",
     "start_time": "2020-05-07T01:05:56.734220Z"
    }
   },
   "outputs": [
    {
     "output_type": "execute_result",
     "data": {
      "text/plain": "((750, 20), (250, 20))"
     },
     "metadata": {},
     "execution_count": 6
    }
   ],
   "source": [
    "X_train, X_test, y_train, y_test = train_test_split(dataset.data, \n",
    "                                                    dataset.target,\n",
    "                                                    test_size=0.25, \n",
    "                                                    random_state=RANDOM_SEED,)\n",
    "X_train.shape, X_test.shape"
   ]
  },
  {
   "cell_type": "markdown",
   "metadata": {},
   "source": [
    "## Model"
   ]
  },
  {
   "cell_type": "code",
   "execution_count": 7,
   "metadata": {
    "ExecuteTime": {
     "end_time": "2020-05-07T01:05:59.848085Z",
     "start_time": "2020-05-07T01:05:59.337884Z"
    }
   },
   "outputs": [],
   "source": [
    "model = AutoML(X_train, y_train, X_test, type_of_estimator='classifier', random_state=RANDOM_SEED)\n",
    "\n",
    "# or Simply\n",
    "model = AutoMLClassifier(X_train, y_train, X_test, random_state=RANDOM_SEED)"
   ]
  },
  {
   "cell_type": "code",
   "execution_count": 8,
   "metadata": {
    "ExecuteTime": {
     "end_time": "2020-05-06T17:01:04.947762Z",
     "start_time": "2020-05-06T16:47:23.396089Z"
    }
   },
   "outputs": [
    {
     "output_type": "stream",
     "name": "stdout",
     "text": "\n Step1: Opt StackingModels\nOne iteration takes ~ 0.5 sec\nStart Auto calibration parameters\nStart optimization with the parameters:\nCV =10\nScore_folds =3\nOpt_lvl =3\nCold_start =48.0\nEarly_stoping =100\nMetric =roc_auc_score\nDirection =maximize\nStart Model LightGBM Score roc_auc_score = 0.6909\n112it [07:36,  4.63s/it, Best Score roc_auc_score = 0.803 +- 0.033468 Best Model: CatBoost]\n EarlyStopping Exceeded: Best Score: 0.803roc_auc_score\n\n Step2: Get new X_train from StackingModels\n100%|██████████| 25/25 [05:25<00:00, 13.04s/it]\n\n StackModels Mean roc_auc_score Score Train:0.7968\n\n Step3: Opt MetaModels\n100%|██████████| 2/2 [07:50<00:00, 235.06s/it, Model: XGBoost | Best Score roc_auc_score = 0.6604 +- 0.038579 ]\n\n Step4: Predict from MetaModels\n100%|██████████| 10/10 [00:32<00:00,  3.23s/it]\nMetaModels Mean roc_auc_score Score Train : 0.7877764334207165\n\n Finish!\n"
    }
   ],
   "source": [
    "predict_test, predict_train = model.fit_predict(timeout=1000, verbose=2)"
   ]
  },
  {
   "cell_type": "code",
   "execution_count": 11,
   "metadata": {
    "ExecuteTime": {
     "end_time": "2020-05-07T01:11:28.827682Z",
     "start_time": "2020-05-07T01:11:28.808642Z"
    }
   },
   "outputs": [
    {
     "output_type": "execute_result",
     "data": {
      "text/plain": "array([0.47702889, 0.58550138, 0.67426957, 0.30171942, 0.10358626])"
     },
     "metadata": {},
     "execution_count": 11
    }
   ],
   "source": [
    "predict_test[:5]"
   ]
  },
  {
   "cell_type": "code",
   "execution_count": 12,
   "metadata": {},
   "outputs": [
    {
     "output_type": "stream",
     "name": "stdout",
     "text": "Test AUC:0.7976\n"
    }
   ],
   "source": [
    "print('Test AUC: ', round(sklearn.metrics.roc_auc_score(y_test, predict_test),4))"
   ]
  },
  {
   "cell_type": "code",
   "execution_count": 15,
   "metadata": {},
   "outputs": [
    {
     "output_type": "execute_result",
     "data": {
      "text/plain": "     score_opt  model_score  score_std model_name  \\\n9       0.8030       0.8365   0.033468   CatBoost   \n94      0.8009       0.8311   0.030243   CatBoost   \n64      0.7871       0.8333   0.046219   CatBoost   \n85      0.7801       0.8173   0.037194   CatBoost   \n110     0.7704       0.8117   0.041280   CatBoost   \n\n                                           model_param  \\\n9    {'verbose': 0, 'early_stopping_rounds': 50, 't...   \n94   {'verbose': 0, 'early_stopping_rounds': 50, 't...   \n64   {'verbose': 0, 'early_stopping_rounds': 50, 't...   \n85   {'verbose': 0, 'early_stopping_rounds': 50, 't...   \n110  {'verbose': 0, 'early_stopping_rounds': 50, 't...   \n\n                                        wrapper_params     cat_encoder  \\\n9    {'need_norm_data': False, 'early_stopping': True}  HashingEncoder   \n94   {'need_norm_data': False, 'early_stopping': True}  HashingEncoder   \n64   {'need_norm_data': False, 'early_stopping': True}  HashingEncoder   \n85   {'need_norm_data': False, 'early_stopping': True}  HashingEncoder   \n110  {'need_norm_data': False, 'early_stopping': True}  HashingEncoder   \n\n        target_encoder  \n9    JamesSteinEncoder  \n94   JamesSteinEncoder  \n64   JamesSteinEncoder  \n85   JamesSteinEncoder  \n110  JamesSteinEncoder  ",
      "text/html": "<div>\n<style scoped>\n    .dataframe tbody tr th:only-of-type {\n        vertical-align: middle;\n    }\n\n    .dataframe tbody tr th {\n        vertical-align: top;\n    }\n\n    .dataframe thead th {\n        text-align: right;\n    }\n</style>\n<table border=\"1\" class=\"dataframe\">\n  <thead>\n    <tr style=\"text-align: right;\">\n      <th></th>\n      <th>score_opt</th>\n      <th>model_score</th>\n      <th>score_std</th>\n      <th>model_name</th>\n      <th>model_param</th>\n      <th>wrapper_params</th>\n      <th>cat_encoder</th>\n      <th>target_encoder</th>\n    </tr>\n  </thead>\n  <tbody>\n    <tr>\n      <th>9</th>\n      <td>0.8030</td>\n      <td>0.8365</td>\n      <td>0.033468</td>\n      <td>CatBoost</td>\n      <td>{'verbose': 0, 'early_stopping_rounds': 50, 't...</td>\n      <td>{'need_norm_data': False, 'early_stopping': True}</td>\n      <td>HashingEncoder</td>\n      <td>JamesSteinEncoder</td>\n    </tr>\n    <tr>\n      <th>94</th>\n      <td>0.8009</td>\n      <td>0.8311</td>\n      <td>0.030243</td>\n      <td>CatBoost</td>\n      <td>{'verbose': 0, 'early_stopping_rounds': 50, 't...</td>\n      <td>{'need_norm_data': False, 'early_stopping': True}</td>\n      <td>HashingEncoder</td>\n      <td>JamesSteinEncoder</td>\n    </tr>\n    <tr>\n      <th>64</th>\n      <td>0.7871</td>\n      <td>0.8333</td>\n      <td>0.046219</td>\n      <td>CatBoost</td>\n      <td>{'verbose': 0, 'early_stopping_rounds': 50, 't...</td>\n      <td>{'need_norm_data': False, 'early_stopping': True}</td>\n      <td>HashingEncoder</td>\n      <td>JamesSteinEncoder</td>\n    </tr>\n    <tr>\n      <th>85</th>\n      <td>0.7801</td>\n      <td>0.8173</td>\n      <td>0.037194</td>\n      <td>CatBoost</td>\n      <td>{'verbose': 0, 'early_stopping_rounds': 50, 't...</td>\n      <td>{'need_norm_data': False, 'early_stopping': True}</td>\n      <td>HashingEncoder</td>\n      <td>JamesSteinEncoder</td>\n    </tr>\n    <tr>\n      <th>110</th>\n      <td>0.7704</td>\n      <td>0.8117</td>\n      <td>0.041280</td>\n      <td>CatBoost</td>\n      <td>{'verbose': 0, 'early_stopping_rounds': 50, 't...</td>\n      <td>{'need_norm_data': False, 'early_stopping': True}</td>\n      <td>HashingEncoder</td>\n      <td>JamesSteinEncoder</td>\n    </tr>\n  </tbody>\n</table>\n</div>"
     },
     "metadata": {},
     "execution_count": 15
    }
   ],
   "source": [
    "model.stack_models_trails.head(5)"
   ]
  },
  {
   "cell_type": "code",
   "execution_count": null,
   "metadata": {},
   "outputs": [],
   "source": []
  }
 ],
 "metadata": {
  "kernelspec": {
   "display_name": "Python 3",
   "language": "python",
   "name": "python3"
  },
  "language_info": {
   "codemirror_mode": {
    "name": "ipython",
    "version": 3
   },
   "file_extension": ".py",
   "mimetype": "text/x-python",
   "name": "python",
   "nbconvert_exporter": "python",
   "pygments_lexer": "ipython3",
   "version": "3.7.4-final"
  },
  "toc": {
   "base_numbering": 1,
   "nav_menu": {},
   "number_sections": false,
   "sideBar": true,
   "skip_h1_title": false,
   "title_cell": "Table of Contents",
   "title_sidebar": "Contents",
   "toc_cell": false,
   "toc_position": {
    "height": "calc(100% - 180px)",
    "left": "10px",
    "top": "150px",
    "width": "165px"
   },
   "toc_section_display": true,
   "toc_window_display": true
  }
 },
 "nbformat": 4,
 "nbformat_minor": 4
}