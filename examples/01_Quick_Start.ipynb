{
 "cells": [
  {
   "cell_type": "code",
   "execution_count": 1,
   "metadata": {
    "ExecuteTime": {
     "end_time": "2020-05-07T01:04:07.223678Z",
     "start_time": "2020-05-07T01:04:07.203114Z"
    }
   },
   "outputs": [],
   "source": [
    "# If you run this notebook on Google Colaboratory, uncomment the below to install automl_alex.\n",
    "#!pip install --quiet automl_alex"
   ]
  },
  {
   "cell_type": "code",
   "execution_count": 1,
   "metadata": {
    "ExecuteTime": {
     "end_time": "2020-05-07T01:05:50.878720Z",
     "start_time": "2020-05-07T01:05:50.874642Z"
    }
   },
   "outputs": [
    {
     "output_type": "stream",
     "name": "stdout",
     "text": "0.05.15\n"
    }
   ],
   "source": [
    "import automl_alex\n",
    "import sklearn\n",
    "import time\n",
    "from automl_alex import AutoML, AutoMLClassifier\n",
    "print(automl_alex.__version__)"
   ]
  },
  {
   "cell_type": "code",
   "execution_count": 2,
   "metadata": {
    "ExecuteTime": {
     "end_time": "2020-05-07T01:05:52.553896Z",
     "start_time": "2020-05-07T01:05:52.549132Z"
    }
   },
   "outputs": [],
   "source": [
    "RANDOM_SEED = 42"
   ]
  },
  {
   "cell_type": "markdown",
   "metadata": {},
   "source": [
    "# Classifier"
   ]
  },
  {
   "cell_type": "markdown",
   "metadata": {},
   "source": [
    "## Data"
   ]
  },
  {
   "cell_type": "code",
   "execution_count": 3,
   "metadata": {
    "ExecuteTime": {
     "end_time": "2020-05-07T01:05:55.127924Z",
     "start_time": "2020-05-07T01:05:55.037616Z"
    }
   },
   "outputs": [
    {
     "output_type": "execute_result",
     "data": {
      "text/plain": "  checking_status  duration                  credit_history  \\\n0              <0       6.0  critical/other existing credit   \n1        0<=X<200      48.0                   existing paid   \n2     no checking      12.0  critical/other existing credit   \n3              <0      42.0                   existing paid   \n4              <0      24.0              delayed previously   \n\n               purpose  credit_amount    savings_status employment  \\\n0             radio/tv         1169.0  no known savings        >=7   \n1             radio/tv         5951.0              <100     1<=X<4   \n2            education         2096.0              <100     4<=X<7   \n3  furniture/equipment         7882.0              <100     4<=X<7   \n4              new car         4870.0              <100     1<=X<4   \n\n   installment_commitment     personal_status other_parties  residence_since  \\\n0                     4.0         male single          none              4.0   \n1                     2.0  female div/dep/mar          none              2.0   \n2                     2.0         male single          none              3.0   \n3                     2.0         male single     guarantor              4.0   \n4                     3.0         male single          none              4.0   \n\n  property_magnitude   age other_payment_plans   housing  existing_credits  \\\n0        real estate  67.0                none       own               2.0   \n1        real estate  22.0                none       own               1.0   \n2        real estate  49.0                none       own               1.0   \n3     life insurance  45.0                none  for free               1.0   \n4  no known property  53.0                none  for free               2.0   \n\n                  job  num_dependents own_telephone foreign_worker  \n0             skilled             1.0           yes            yes  \n1             skilled             1.0          none            yes  \n2  unskilled resident             2.0          none            yes  \n3             skilled             2.0          none            yes  \n4             skilled             2.0          none            yes  ",
      "text/html": "<div>\n<style scoped>\n    .dataframe tbody tr th:only-of-type {\n        vertical-align: middle;\n    }\n\n    .dataframe tbody tr th {\n        vertical-align: top;\n    }\n\n    .dataframe thead th {\n        text-align: right;\n    }\n</style>\n<table border=\"1\" class=\"dataframe\">\n  <thead>\n    <tr style=\"text-align: right;\">\n      <th></th>\n      <th>checking_status</th>\n      <th>duration</th>\n      <th>credit_history</th>\n      <th>purpose</th>\n      <th>credit_amount</th>\n      <th>savings_status</th>\n      <th>employment</th>\n      <th>installment_commitment</th>\n      <th>personal_status</th>\n      <th>other_parties</th>\n      <th>residence_since</th>\n      <th>property_magnitude</th>\n      <th>age</th>\n      <th>other_payment_plans</th>\n      <th>housing</th>\n      <th>existing_credits</th>\n      <th>job</th>\n      <th>num_dependents</th>\n      <th>own_telephone</th>\n      <th>foreign_worker</th>\n    </tr>\n  </thead>\n  <tbody>\n    <tr>\n      <th>0</th>\n      <td>&lt;0</td>\n      <td>6.0</td>\n      <td>critical/other existing credit</td>\n      <td>radio/tv</td>\n      <td>1169.0</td>\n      <td>no known savings</td>\n      <td>&gt;=7</td>\n      <td>4.0</td>\n      <td>male single</td>\n      <td>none</td>\n      <td>4.0</td>\n      <td>real estate</td>\n      <td>67.0</td>\n      <td>none</td>\n      <td>own</td>\n      <td>2.0</td>\n      <td>skilled</td>\n      <td>1.0</td>\n      <td>yes</td>\n      <td>yes</td>\n    </tr>\n    <tr>\n      <th>1</th>\n      <td>0&lt;=X&lt;200</td>\n      <td>48.0</td>\n      <td>existing paid</td>\n      <td>radio/tv</td>\n      <td>5951.0</td>\n      <td>&lt;100</td>\n      <td>1&lt;=X&lt;4</td>\n      <td>2.0</td>\n      <td>female div/dep/mar</td>\n      <td>none</td>\n      <td>2.0</td>\n      <td>real estate</td>\n      <td>22.0</td>\n      <td>none</td>\n      <td>own</td>\n      <td>1.0</td>\n      <td>skilled</td>\n      <td>1.0</td>\n      <td>none</td>\n      <td>yes</td>\n    </tr>\n    <tr>\n      <th>2</th>\n      <td>no checking</td>\n      <td>12.0</td>\n      <td>critical/other existing credit</td>\n      <td>education</td>\n      <td>2096.0</td>\n      <td>&lt;100</td>\n      <td>4&lt;=X&lt;7</td>\n      <td>2.0</td>\n      <td>male single</td>\n      <td>none</td>\n      <td>3.0</td>\n      <td>real estate</td>\n      <td>49.0</td>\n      <td>none</td>\n      <td>own</td>\n      <td>1.0</td>\n      <td>unskilled resident</td>\n      <td>2.0</td>\n      <td>none</td>\n      <td>yes</td>\n    </tr>\n    <tr>\n      <th>3</th>\n      <td>&lt;0</td>\n      <td>42.0</td>\n      <td>existing paid</td>\n      <td>furniture/equipment</td>\n      <td>7882.0</td>\n      <td>&lt;100</td>\n      <td>4&lt;=X&lt;7</td>\n      <td>2.0</td>\n      <td>male single</td>\n      <td>guarantor</td>\n      <td>4.0</td>\n      <td>life insurance</td>\n      <td>45.0</td>\n      <td>none</td>\n      <td>for free</td>\n      <td>1.0</td>\n      <td>skilled</td>\n      <td>2.0</td>\n      <td>none</td>\n      <td>yes</td>\n    </tr>\n    <tr>\n      <th>4</th>\n      <td>&lt;0</td>\n      <td>24.0</td>\n      <td>delayed previously</td>\n      <td>new car</td>\n      <td>4870.0</td>\n      <td>&lt;100</td>\n      <td>1&lt;=X&lt;4</td>\n      <td>3.0</td>\n      <td>male single</td>\n      <td>none</td>\n      <td>4.0</td>\n      <td>no known property</td>\n      <td>53.0</td>\n      <td>none</td>\n      <td>for free</td>\n      <td>2.0</td>\n      <td>skilled</td>\n      <td>2.0</td>\n      <td>none</td>\n      <td>yes</td>\n    </tr>\n  </tbody>\n</table>\n</div>"
     },
     "metadata": {},
     "execution_count": 3
    }
   ],
   "source": [
    "from sklearn.datasets import fetch_openml\n",
    "from sklearn.model_selection import train_test_split\n",
    "dataset = fetch_openml(name='credit-g', version=1, as_frame=True)\n",
    "dataset.target = dataset.target.astype('category').cat.codes\n",
    "dataset.data.head(5)"
   ]
  },
  {
   "cell_type": "code",
   "execution_count": 4,
   "metadata": {
    "ExecuteTime": {
     "end_time": "2020-05-07T01:05:56.756465Z",
     "start_time": "2020-05-07T01:05:56.734220Z"
    }
   },
   "outputs": [
    {
     "output_type": "execute_result",
     "data": {
      "text/plain": "((750, 20), (250, 20))"
     },
     "metadata": {},
     "execution_count": 4
    }
   ],
   "source": [
    "X_train, X_test, y_train, y_test = train_test_split(dataset.data, \n",
    "                                                    dataset.target,\n",
    "                                                    test_size=0.25, \n",
    "                                                    random_state=RANDOM_SEED,)\n",
    "X_train.shape, X_test.shape"
   ]
  },
  {
   "cell_type": "markdown",
   "metadata": {},
   "source": [
    "## Model"
   ]
  },
  {
   "cell_type": "code",
   "execution_count": 5,
   "metadata": {
    "ExecuteTime": {
     "end_time": "2020-05-07T01:05:59.848085Z",
     "start_time": "2020-05-07T01:05:59.337884Z"
    }
   },
   "outputs": [],
   "source": [
    "model = AutoML(X_train, y_train, X_test, type_of_estimator='classifier', random_state=RANDOM_SEED)\n",
    "\n",
    "# or Simply\n",
    "model = AutoMLClassifier(X_train, y_train, X_test, random_state=RANDOM_SEED)"
   ]
  },
  {
   "cell_type": "code",
   "execution_count": 6,
   "metadata": {
    "ExecuteTime": {
     "end_time": "2020-05-06T17:01:04.947762Z",
     "start_time": "2020-05-06T16:47:23.396089Z"
    }
   },
   "outputs": [
    {
     "output_type": "stream",
     "name": "stdout",
     "text": "\n Opt StackingModels\nOne iteration takes ~ 0.5 sec\nStart Auto calibration parameters\nStart optimization with the parameters:\nScore_folds =3\nOpt_lvl =3\nCold_start =87.0\nEarly_stoping =174.0\nMetric =roc_auc_score\nDirection =maximize\nDefault model roc_auc_score = 0.6891\n########################################\nOptimize: : 185it [12:28,  6.07s/it, CatBoost Best Score roc_auc_score = 0.8301 +- 0.041296]\n EarlyStopping Exceeded: Best Score: 0.7888roc_auc_score\nOptimize: : 185it [12:28,  4.05s/it, CatBoost Best Score roc_auc_score = 0.8301 +- 0.041296]\n\n Predict from StackingModels\n  0%|          | 0/25 [00:00<?, ?it/s]\n Mean Score roc_auc_score on 30 Folds: 0.7983 std: 0.050993\n  4%|▍         | 1/25 [00:47<18:48, 47.02s/it]\n Mean Score roc_auc_score on 30 Folds: 0.8013 std: 0.048718\n  8%|▊         | 2/25 [01:32<17:48, 46.44s/it]\n Mean Score roc_auc_score on 30 Folds: 0.8 std: 0.048258\n 12%|█▏        | 3/25 [01:54<14:22, 39.19s/it]\n Mean Score roc_auc_score on 30 Folds: 0.7994 std: 0.051537\n 16%|█▌        | 4/25 [02:35<13:57, 39.90s/it]\n Mean Score roc_auc_score on 30 Folds: 0.7985 std: 0.050019\n 20%|██        | 5/25 [03:19<13:39, 40.96s/it]\n Mean Score roc_auc_score on 30 Folds: 0.7988 std: 0.049318\n 24%|██▍       | 6/25 [03:41<11:11, 35.33s/it]\n Mean Score roc_auc_score on 30 Folds: 0.7932 std: 0.048022\n 28%|██▊       | 7/25 [04:28<11:38, 38.82s/it]\n Mean Score roc_auc_score on 30 Folds: 0.7936 std: 0.049869\n 32%|███▏      | 8/25 [05:12<11:27, 40.47s/it]\n Mean Score roc_auc_score on 30 Folds: 0.8048 std: 0.051475\n 36%|███▌      | 9/25 [05:52<10:41, 40.11s/it]\n Mean Score roc_auc_score on 30 Folds: 0.8008 std: 0.047599\n 40%|████      | 10/25 [06:34<10:12, 40.85s/it]\n Mean Score roc_auc_score on 30 Folds: 0.8072 std: 0.048263\n 44%|████▍     | 11/25 [06:55<08:05, 34.70s/it]\n Mean Score roc_auc_score on 30 Folds: 0.7989 std: 0.044409\n 48%|████▊     | 12/25 [07:19<06:50, 31.56s/it]\n Mean Score roc_auc_score on 30 Folds: 0.8057 std: 0.046127\n 52%|█████▏    | 13/25 [08:02<07:02, 35.19s/it]\n Mean Score roc_auc_score on 30 Folds: 0.7987 std: 0.051153\n 56%|█████▌    | 14/25 [08:46<06:55, 37.78s/it]\n Mean Score roc_auc_score on 30 Folds: 0.8 std: 0.050956\n 60%|██████    | 15/25 [09:07<05:26, 32.70s/it]\n Mean Score roc_auc_score on 30 Folds: 0.7918 std: 0.054657\n 64%|██████▍   | 16/25 [09:35<04:41, 31.28s/it]\n Mean Score roc_auc_score on 30 Folds: 0.8045 std: 0.047008\n 68%|██████▊   | 17/25 [10:00<03:55, 29.38s/it]\n Mean Score roc_auc_score on 30 Folds: 0.7973 std: 0.050509\n 72%|███████▏  | 18/25 [10:40<03:47, 32.45s/it]\n Mean Score roc_auc_score on 30 Folds: 0.8004 std: 0.04791\n 76%|███████▌  | 19/25 [11:24<03:35, 35.93s/it]\n Mean Score roc_auc_score on 30 Folds: 0.8061 std: 0.044126\n 80%|████████  | 20/25 [11:42<02:32, 30.60s/it]\n Mean Score roc_auc_score on 30 Folds: 0.7855 std: 0.047974\n 84%|████████▍ | 21/25 [13:33<03:39, 54.80s/it]\n Mean Score roc_auc_score on 30 Folds: 0.8024 std: 0.043988\n 88%|████████▊ | 22/25 [13:58<02:17, 45.84s/it]\n Mean Score roc_auc_score on 30 Folds: 0.8044 std: 0.048931\n 92%|█████████▏| 23/25 [14:24<01:19, 39.97s/it]\n Mean Score roc_auc_score on 30 Folds: 0.8079 std: 0.046511\n 96%|█████████▌| 24/25 [14:45<00:34, 34.09s/it]\n Mean Score roc_auc_score on 30 Folds: 0.7963 std: 0.049121\n100%|██████████| 25/25 [15:28<00:00, 37.13s/it]\n\n StackModels Mean roc_auc_score Score Train:0.8029\nCPU times: user 1h 13min 52s, sys: 6min 18s, total: 1h 20min 10s\nWall time: 27min 59s\n"
    }
   ],
   "source": [
    "%%time\n",
    "predict_test, predict_train = model.fit_predict(timeout=2000, verbose=2)"
   ]
  },
  {
   "cell_type": "code",
   "execution_count": 7,
   "metadata": {
    "ExecuteTime": {
     "end_time": "2020-05-07T01:11:28.827682Z",
     "start_time": "2020-05-07T01:11:28.808642Z"
    }
   },
   "outputs": [
    {
     "output_type": "execute_result",
     "data": {
      "text/plain": "array([0.42217891, 0.48217917, 0.5430897 , 0.34699358, 0.2460748 ])"
     },
     "metadata": {},
     "execution_count": 7
    }
   ],
   "source": [
    "predict_test[:5]"
   ]
  },
  {
   "cell_type": "code",
   "execution_count": 8,
   "metadata": {},
   "outputs": [
    {
     "output_type": "stream",
     "name": "stdout",
     "text": "Test AUC:0.7962\n"
    }
   ],
   "source": [
    "print('Test AUC: ', round(sklearn.metrics.roc_auc_score(y_test, predict_test),4))"
   ]
  },
  {
   "cell_type": "code",
   "execution_count": null,
   "metadata": {},
   "outputs": [],
   "source": []
  }
 ],
 "metadata": {
  "kernelspec": {
   "display_name": "Python 3",
   "language": "python",
   "name": "python3"
  },
  "language_info": {
   "codemirror_mode": {
    "name": "ipython",
    "version": 3
   },
   "file_extension": ".py",
   "mimetype": "text/x-python",
   "name": "python",
   "nbconvert_exporter": "python",
   "pygments_lexer": "ipython3",
   "version": "3.7.4-final"
  },
  "toc": {
   "base_numbering": 1,
   "nav_menu": {},
   "number_sections": false,
   "sideBar": true,
   "skip_h1_title": false,
   "title_cell": "Table of Contents",
   "title_sidebar": "Contents",
   "toc_cell": false,
   "toc_position": {
    "height": "calc(100% - 180px)",
    "left": "10px",
    "top": "150px",
    "width": "165px"
   },
   "toc_section_display": true,
   "toc_window_display": true
  }
 },
 "nbformat": 4,
 "nbformat_minor": 4
}