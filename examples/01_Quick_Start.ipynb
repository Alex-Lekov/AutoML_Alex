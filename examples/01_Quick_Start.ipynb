{
 "cells": [
  {
   "cell_type": "code",
   "execution_count": 1,
   "metadata": {
    "ExecuteTime": {
     "end_time": "2020-05-07T01:04:07.223678Z",
     "start_time": "2020-05-07T01:04:07.203114Z"
    }
   },
   "outputs": [],
   "source": [
    "# If you run this notebook on Google Colaboratory, uncomment the below to install automl_alex.\n",
    "#!pip install --quiet automl_alex"
   ]
  },
  {
   "cell_type": "code",
   "execution_count": 1,
   "metadata": {
    "ExecuteTime": {
     "end_time": "2020-05-07T01:05:50.878720Z",
     "start_time": "2020-05-07T01:05:50.874642Z"
    },
    "tags": []
   },
   "outputs": [
    {
     "output_type": "stream",
     "name": "stdout",
     "text": "0.07.18\n"
    }
   ],
   "source": [
    "import automl_alex\n",
    "import sklearn\n",
    "import time\n",
    "from automl_alex import AutoML, AutoMLClassifier\n",
    "print(automl_alex.__version__)"
   ]
  },
  {
   "cell_type": "code",
   "execution_count": 2,
   "metadata": {
    "ExecuteTime": {
     "end_time": "2020-05-07T01:05:52.553896Z",
     "start_time": "2020-05-07T01:05:52.549132Z"
    }
   },
   "outputs": [],
   "source": [
    "RANDOM_SEED = 42"
   ]
  },
  {
   "cell_type": "markdown",
   "metadata": {},
   "source": [
    "# Classifier"
   ]
  },
  {
   "cell_type": "markdown",
   "metadata": {},
   "source": [
    "## Data"
   ]
  },
  {
   "cell_type": "code",
   "execution_count": 3,
   "metadata": {
    "ExecuteTime": {
     "end_time": "2020-05-07T01:05:55.127924Z",
     "start_time": "2020-05-07T01:05:55.037616Z"
    }
   },
   "outputs": [
    {
     "output_type": "execute_result",
     "data": {
      "text/plain": "  checking_status  duration                  credit_history  \\\n0              <0       6.0  critical/other existing credit   \n1        0<=X<200      48.0                   existing paid   \n2     no checking      12.0  critical/other existing credit   \n3              <0      42.0                   existing paid   \n4              <0      24.0              delayed previously   \n\n               purpose  credit_amount    savings_status employment  \\\n0             radio/tv         1169.0  no known savings        >=7   \n1             radio/tv         5951.0              <100     1<=X<4   \n2            education         2096.0              <100     4<=X<7   \n3  furniture/equipment         7882.0              <100     4<=X<7   \n4              new car         4870.0              <100     1<=X<4   \n\n   installment_commitment     personal_status other_parties  residence_since  \\\n0                     4.0         male single          none              4.0   \n1                     2.0  female div/dep/mar          none              2.0   \n2                     2.0         male single          none              3.0   \n3                     2.0         male single     guarantor              4.0   \n4                     3.0         male single          none              4.0   \n\n  property_magnitude   age other_payment_plans   housing  existing_credits  \\\n0        real estate  67.0                none       own               2.0   \n1        real estate  22.0                none       own               1.0   \n2        real estate  49.0                none       own               1.0   \n3     life insurance  45.0                none  for free               1.0   \n4  no known property  53.0                none  for free               2.0   \n\n                  job  num_dependents own_telephone foreign_worker  \n0             skilled             1.0           yes            yes  \n1             skilled             1.0          none            yes  \n2  unskilled resident             2.0          none            yes  \n3             skilled             2.0          none            yes  \n4             skilled             2.0          none            yes  ",
      "text/html": "<div>\n<style scoped>\n    .dataframe tbody tr th:only-of-type {\n        vertical-align: middle;\n    }\n\n    .dataframe tbody tr th {\n        vertical-align: top;\n    }\n\n    .dataframe thead th {\n        text-align: right;\n    }\n</style>\n<table border=\"1\" class=\"dataframe\">\n  <thead>\n    <tr style=\"text-align: right;\">\n      <th></th>\n      <th>checking_status</th>\n      <th>duration</th>\n      <th>credit_history</th>\n      <th>purpose</th>\n      <th>credit_amount</th>\n      <th>savings_status</th>\n      <th>employment</th>\n      <th>installment_commitment</th>\n      <th>personal_status</th>\n      <th>other_parties</th>\n      <th>residence_since</th>\n      <th>property_magnitude</th>\n      <th>age</th>\n      <th>other_payment_plans</th>\n      <th>housing</th>\n      <th>existing_credits</th>\n      <th>job</th>\n      <th>num_dependents</th>\n      <th>own_telephone</th>\n      <th>foreign_worker</th>\n    </tr>\n  </thead>\n  <tbody>\n    <tr>\n      <th>0</th>\n      <td>&lt;0</td>\n      <td>6.0</td>\n      <td>critical/other existing credit</td>\n      <td>radio/tv</td>\n      <td>1169.0</td>\n      <td>no known savings</td>\n      <td>&gt;=7</td>\n      <td>4.0</td>\n      <td>male single</td>\n      <td>none</td>\n      <td>4.0</td>\n      <td>real estate</td>\n      <td>67.0</td>\n      <td>none</td>\n      <td>own</td>\n      <td>2.0</td>\n      <td>skilled</td>\n      <td>1.0</td>\n      <td>yes</td>\n      <td>yes</td>\n    </tr>\n    <tr>\n      <th>1</th>\n      <td>0&lt;=X&lt;200</td>\n      <td>48.0</td>\n      <td>existing paid</td>\n      <td>radio/tv</td>\n      <td>5951.0</td>\n      <td>&lt;100</td>\n      <td>1&lt;=X&lt;4</td>\n      <td>2.0</td>\n      <td>female div/dep/mar</td>\n      <td>none</td>\n      <td>2.0</td>\n      <td>real estate</td>\n      <td>22.0</td>\n      <td>none</td>\n      <td>own</td>\n      <td>1.0</td>\n      <td>skilled</td>\n      <td>1.0</td>\n      <td>none</td>\n      <td>yes</td>\n    </tr>\n    <tr>\n      <th>2</th>\n      <td>no checking</td>\n      <td>12.0</td>\n      <td>critical/other existing credit</td>\n      <td>education</td>\n      <td>2096.0</td>\n      <td>&lt;100</td>\n      <td>4&lt;=X&lt;7</td>\n      <td>2.0</td>\n      <td>male single</td>\n      <td>none</td>\n      <td>3.0</td>\n      <td>real estate</td>\n      <td>49.0</td>\n      <td>none</td>\n      <td>own</td>\n      <td>1.0</td>\n      <td>unskilled resident</td>\n      <td>2.0</td>\n      <td>none</td>\n      <td>yes</td>\n    </tr>\n    <tr>\n      <th>3</th>\n      <td>&lt;0</td>\n      <td>42.0</td>\n      <td>existing paid</td>\n      <td>furniture/equipment</td>\n      <td>7882.0</td>\n      <td>&lt;100</td>\n      <td>4&lt;=X&lt;7</td>\n      <td>2.0</td>\n      <td>male single</td>\n      <td>guarantor</td>\n      <td>4.0</td>\n      <td>life insurance</td>\n      <td>45.0</td>\n      <td>none</td>\n      <td>for free</td>\n      <td>1.0</td>\n      <td>skilled</td>\n      <td>2.0</td>\n      <td>none</td>\n      <td>yes</td>\n    </tr>\n    <tr>\n      <th>4</th>\n      <td>&lt;0</td>\n      <td>24.0</td>\n      <td>delayed previously</td>\n      <td>new car</td>\n      <td>4870.0</td>\n      <td>&lt;100</td>\n      <td>1&lt;=X&lt;4</td>\n      <td>3.0</td>\n      <td>male single</td>\n      <td>none</td>\n      <td>4.0</td>\n      <td>no known property</td>\n      <td>53.0</td>\n      <td>none</td>\n      <td>for free</td>\n      <td>2.0</td>\n      <td>skilled</td>\n      <td>2.0</td>\n      <td>none</td>\n      <td>yes</td>\n    </tr>\n  </tbody>\n</table>\n</div>"
     },
     "metadata": {},
     "execution_count": 3
    }
   ],
   "source": [
    "from sklearn.datasets import fetch_openml\n",
    "from sklearn.model_selection import train_test_split\n",
    "dataset = fetch_openml(name='credit-g', version=1, as_frame=True)\n",
    "dataset.target = dataset.target.astype('category').cat.codes\n",
    "dataset.data.head(5)"
   ]
  },
  {
   "cell_type": "code",
   "execution_count": 4,
   "metadata": {
    "ExecuteTime": {
     "end_time": "2020-05-07T01:05:56.756465Z",
     "start_time": "2020-05-07T01:05:56.734220Z"
    }
   },
   "outputs": [
    {
     "output_type": "execute_result",
     "data": {
      "text/plain": "((750, 20), (250, 20))"
     },
     "metadata": {},
     "execution_count": 4
    }
   ],
   "source": [
    "X_train, X_test, y_train, y_test = train_test_split(dataset.data, \n",
    "                                                    dataset.target,\n",
    "                                                    test_size=0.25, \n",
    "                                                    random_state=RANDOM_SEED,)\n",
    "X_train.shape, X_test.shape"
   ]
  },
  {
   "cell_type": "markdown",
   "metadata": {},
   "source": [
    "## Model"
   ]
  },
  {
   "cell_type": "code",
   "execution_count": 5,
   "metadata": {
    "ExecuteTime": {
     "end_time": "2020-05-07T01:05:59.848085Z",
     "start_time": "2020-05-07T01:05:59.337884Z"
    },
    "tags": []
   },
   "outputs": [
    {
     "output_type": "stream",
     "name": "stdout",
     "text": "Source X_train shape:  (750, 20) | X_test shape:  (250, 20)\n##################################################\nAuto detect cat features:  13\n> Start preprocessing Data\n> Generate cat encodet features\n +  44  Features from  HelmertEncoder\n +  54  Features from  HashingEncoder\n +  16  Features from  FrequencyEncoder\n> Clean Nans in num features\n> Generate interaction Num Features\n +  24  Interaction Features\n> Normalization Features\n##################################################\n> Total Features:  142\n##################################################\nNew X_train shape:  (750, 142) | X_test shape:  (250, 142)\n"
    }
   ],
   "source": [
    "model = AutoML(X_train, y_train, X_test, type_of_estimator='classifier', random_state=RANDOM_SEED)\n",
    "\n",
    "# or Simply\n",
    "model = AutoMLClassifier(X_train, y_train, X_test, random_state=RANDOM_SEED, verbose=1)"
   ]
  },
  {
   "cell_type": "code",
   "execution_count": 6,
   "metadata": {
    "ExecuteTime": {
     "end_time": "2020-05-06T17:01:04.947762Z",
     "start_time": "2020-05-06T16:47:23.396089Z"
    },
    "tags": []
   },
   "outputs": [
    {
     "output_type": "stream",
     "name": "stdout",
     "text": "\n Opt StackingModels\nOne iteration takes ~ 0.6 sec\n> Start Auto calibration parameters\n> Start optimization with the parameters:\nCV_Folds =  10\nScore_CV_Folds =  5\nFeature_Selection =  True\nOpt_lvl =  3\nCold_start =  74.0\nEarly_stoping =  148.0\nMetric =  roc_auc_score\nDirection =  maximize\n##################################################\nDefault model OptScore = 0.6207\nOptimize: : 194it [11:40,  3.61s/it,  | Model: CatBoost | OptScore: 0.7766 | Best roc_auc_score: 0.8144 +- 0.037814]\n\n Predict from StackingModels\n 10%|█         | 1/10 [00:11<01:39, 11.03s/it]\n Mean Score roc_auc_score on 30 Folds: 0.7965 std: 0.050695\n 20%|██        | 2/10 [00:22<01:29, 11.21s/it]\n Mean Score roc_auc_score on 30 Folds: 0.7951 std: 0.044614\n 30%|███       | 3/10 [00:37<01:26, 12.40s/it]\n Mean Score roc_auc_score on 30 Folds: 0.7926 std: 0.045813\n 40%|████      | 4/10 [00:56<01:26, 14.40s/it]\n Mean Score roc_auc_score on 30 Folds: 0.7943 std: 0.049529\n 50%|█████     | 5/10 [01:11<01:12, 14.49s/it]\n Mean Score roc_auc_score on 30 Folds: 0.7836 std: 0.050257\n 60%|██████    | 6/10 [01:32<01:05, 16.34s/it]\n Mean Score roc_auc_score on 30 Folds: 0.7963 std: 0.050803\n 70%|███████   | 7/10 [01:43<00:44, 14.96s/it]\n Mean Score roc_auc_score on 30 Folds: 0.7884 std: 0.049357\n 80%|████████  | 8/10 [02:03<00:32, 16.26s/it]\n Mean Score roc_auc_score on 30 Folds: 0.7902 std: 0.047447\n 90%|█████████ | 9/10 [02:12<00:14, 14.01s/it]\n Mean Score roc_auc_score on 30 Folds: 0.7908 std: 0.051123\n100%|██████████| 10/10 [02:31<00:00, 15.19s/it]\n Mean Score roc_auc_score on 30 Folds: 0.7937 std: 0.052559\n\n StackModels Mean roc_auc_score Score Train:  0.7967\nCPU times: user 51min 51s, sys: 3min 26s, total: 55min 18s\nWall time: 14min 15s\n\n"
    }
   ],
   "source": [
    "%%time\n",
    "predict_test, predict_train = model.fit_predict(timeout=1000, verbose=2)"
   ]
  },
  {
   "cell_type": "code",
   "execution_count": 7,
   "metadata": {
    "ExecuteTime": {
     "end_time": "2020-05-07T01:11:28.827682Z",
     "start_time": "2020-05-07T01:11:28.808642Z"
    }
   },
   "outputs": [
    {
     "output_type": "execute_result",
     "data": {
      "text/plain": "array([0.41460593, 0.42930199, 0.52585414, 0.4129506 , 0.23435901])"
     },
     "metadata": {},
     "execution_count": 7
    }
   ],
   "source": [
    "predict_test[:5]"
   ]
  },
  {
   "cell_type": "code",
   "execution_count": 8,
   "metadata": {
    "tags": []
   },
   "outputs": [
    {
     "output_type": "stream",
     "name": "stdout",
     "text": "Test AUC:  0.802\n"
    }
   ],
   "source": [
    "print('Test AUC: ', round(sklearn.metrics.roc_auc_score(y_test, predict_test),4))"
   ]
  },
  {
   "cell_type": "code",
   "execution_count": 9,
   "metadata": {},
   "outputs": [
    {
     "output_type": "execute_result",
     "data": {
      "text/plain": "     score_opt  model_score  score_std    model_name  \\\n86      0.7766       0.8144   0.037814      CatBoost   \n74      0.7739       0.8094   0.035474      CatBoost   \n170     0.7733       0.8100   0.036668      CatBoost   \n77      0.7682       0.8130   0.044830      CatBoost   \n69      0.7680       0.8062   0.038191  RandomForest   \n13      0.7670       0.8126   0.045642      CatBoost   \n75      0.7667       0.8060   0.039348      CatBoost   \n188     0.7666       0.8139   0.047309      CatBoost   \n85      0.7660       0.8004   0.034388      CatBoost   \n97      0.7639       0.8210   0.057089      CatBoost   \n\n                                           model_param  \\\n86   {'verbose': 0, 'early_stopping_rounds': 50, 't...   \n74   {'verbose': 0, 'early_stopping_rounds': 50, 't...   \n170  {'verbose': 0, 'early_stopping_rounds': 50, 't...   \n77   {'verbose': 0, 'early_stopping_rounds': 50, 't...   \n69   {'verbose': 0, 'random_state': 42, 'n_jobs': -...   \n13   {'verbose': 0, 'early_stopping_rounds': 50, 't...   \n75   {'verbose': 0, 'early_stopping_rounds': 50, 't...   \n188  {'verbose': 0, 'early_stopping_rounds': 50, 't...   \n85   {'verbose': 0, 'early_stopping_rounds': 50, 't...   \n97   {'verbose': 0, 'early_stopping_rounds': 50, 't...   \n\n               wrapper_params  \\\n86   {'early_stopping': True}   \n74   {'early_stopping': True}   \n170  {'early_stopping': True}   \n77   {'early_stopping': True}   \n69                         {}   \n13   {'early_stopping': True}   \n75   {'early_stopping': True}   \n188  {'early_stopping': True}   \n85   {'early_stopping': True}   \n97   {'early_stopping': True}   \n\n                                          cat_encoders  \\\n86   [HelmertEncoder, HashingEncoder, FrequencyEnco...   \n74   [HelmertEncoder, HashingEncoder, FrequencyEnco...   \n170  [HelmertEncoder, HashingEncoder, FrequencyEnco...   \n77   [HelmertEncoder, HashingEncoder, FrequencyEnco...   \n69   [HelmertEncoder, HashingEncoder, FrequencyEnco...   \n13   [HelmertEncoder, HashingEncoder, FrequencyEnco...   \n75   [HelmertEncoder, HashingEncoder, FrequencyEnco...   \n188  [HelmertEncoder, HashingEncoder, FrequencyEnco...   \n85   [HelmertEncoder, HashingEncoder, FrequencyEnco...   \n97   [HelmertEncoder, HashingEncoder, FrequencyEnco...   \n\n                                               columns  cv_folds  \n86   [duration, credit_amount, age, num_dependents,...        10  \n74   [duration, credit_amount, age, num_dependents,...        10  \n170  [duration, credit_amount, age, num_dependents,...        10  \n77   [duration, credit_amount, age, num_dependents,...        10  \n69   [duration, credit_amount, age, HelmertEncoder_...        10  \n13   [credit_amount, HelmertEncoder_purpose_0, Helm...        10  \n75   [duration, credit_amount, age, num_dependents,...        10  \n188  [duration, credit_amount, age, num_dependents,...        10  \n85   [duration, credit_amount, age, num_dependents,...        10  \n97   [duration, credit_amount, age, num_dependents,...        10  ",
      "text/html": "<div>\n<style scoped>\n    .dataframe tbody tr th:only-of-type {\n        vertical-align: middle;\n    }\n\n    .dataframe tbody tr th {\n        vertical-align: top;\n    }\n\n    .dataframe thead th {\n        text-align: right;\n    }\n</style>\n<table border=\"1\" class=\"dataframe\">\n  <thead>\n    <tr style=\"text-align: right;\">\n      <th></th>\n      <th>score_opt</th>\n      <th>model_score</th>\n      <th>score_std</th>\n      <th>model_name</th>\n      <th>model_param</th>\n      <th>wrapper_params</th>\n      <th>cat_encoders</th>\n      <th>columns</th>\n      <th>cv_folds</th>\n    </tr>\n  </thead>\n  <tbody>\n    <tr>\n      <th>86</th>\n      <td>0.7766</td>\n      <td>0.8144</td>\n      <td>0.037814</td>\n      <td>CatBoost</td>\n      <td>{'verbose': 0, 'early_stopping_rounds': 50, 't...</td>\n      <td>{'early_stopping': True}</td>\n      <td>[HelmertEncoder, HashingEncoder, FrequencyEnco...</td>\n      <td>[duration, credit_amount, age, num_dependents,...</td>\n      <td>10</td>\n    </tr>\n    <tr>\n      <th>74</th>\n      <td>0.7739</td>\n      <td>0.8094</td>\n      <td>0.035474</td>\n      <td>CatBoost</td>\n      <td>{'verbose': 0, 'early_stopping_rounds': 50, 't...</td>\n      <td>{'early_stopping': True}</td>\n      <td>[HelmertEncoder, HashingEncoder, FrequencyEnco...</td>\n      <td>[duration, credit_amount, age, num_dependents,...</td>\n      <td>10</td>\n    </tr>\n    <tr>\n      <th>170</th>\n      <td>0.7733</td>\n      <td>0.8100</td>\n      <td>0.036668</td>\n      <td>CatBoost</td>\n      <td>{'verbose': 0, 'early_stopping_rounds': 50, 't...</td>\n      <td>{'early_stopping': True}</td>\n      <td>[HelmertEncoder, HashingEncoder, FrequencyEnco...</td>\n      <td>[duration, credit_amount, age, num_dependents,...</td>\n      <td>10</td>\n    </tr>\n    <tr>\n      <th>77</th>\n      <td>0.7682</td>\n      <td>0.8130</td>\n      <td>0.044830</td>\n      <td>CatBoost</td>\n      <td>{'verbose': 0, 'early_stopping_rounds': 50, 't...</td>\n      <td>{'early_stopping': True}</td>\n      <td>[HelmertEncoder, HashingEncoder, FrequencyEnco...</td>\n      <td>[duration, credit_amount, age, num_dependents,...</td>\n      <td>10</td>\n    </tr>\n    <tr>\n      <th>69</th>\n      <td>0.7680</td>\n      <td>0.8062</td>\n      <td>0.038191</td>\n      <td>RandomForest</td>\n      <td>{'verbose': 0, 'random_state': 42, 'n_jobs': -...</td>\n      <td>{}</td>\n      <td>[HelmertEncoder, HashingEncoder, FrequencyEnco...</td>\n      <td>[duration, credit_amount, age, HelmertEncoder_...</td>\n      <td>10</td>\n    </tr>\n    <tr>\n      <th>13</th>\n      <td>0.7670</td>\n      <td>0.8126</td>\n      <td>0.045642</td>\n      <td>CatBoost</td>\n      <td>{'verbose': 0, 'early_stopping_rounds': 50, 't...</td>\n      <td>{'early_stopping': True}</td>\n      <td>[HelmertEncoder, HashingEncoder, FrequencyEnco...</td>\n      <td>[credit_amount, HelmertEncoder_purpose_0, Helm...</td>\n      <td>10</td>\n    </tr>\n    <tr>\n      <th>75</th>\n      <td>0.7667</td>\n      <td>0.8060</td>\n      <td>0.039348</td>\n      <td>CatBoost</td>\n      <td>{'verbose': 0, 'early_stopping_rounds': 50, 't...</td>\n      <td>{'early_stopping': True}</td>\n      <td>[HelmertEncoder, HashingEncoder, FrequencyEnco...</td>\n      <td>[duration, credit_amount, age, num_dependents,...</td>\n      <td>10</td>\n    </tr>\n    <tr>\n      <th>188</th>\n      <td>0.7666</td>\n      <td>0.8139</td>\n      <td>0.047309</td>\n      <td>CatBoost</td>\n      <td>{'verbose': 0, 'early_stopping_rounds': 50, 't...</td>\n      <td>{'early_stopping': True}</td>\n      <td>[HelmertEncoder, HashingEncoder, FrequencyEnco...</td>\n      <td>[duration, credit_amount, age, num_dependents,...</td>\n      <td>10</td>\n    </tr>\n    <tr>\n      <th>85</th>\n      <td>0.7660</td>\n      <td>0.8004</td>\n      <td>0.034388</td>\n      <td>CatBoost</td>\n      <td>{'verbose': 0, 'early_stopping_rounds': 50, 't...</td>\n      <td>{'early_stopping': True}</td>\n      <td>[HelmertEncoder, HashingEncoder, FrequencyEnco...</td>\n      <td>[duration, credit_amount, age, num_dependents,...</td>\n      <td>10</td>\n    </tr>\n    <tr>\n      <th>97</th>\n      <td>0.7639</td>\n      <td>0.8210</td>\n      <td>0.057089</td>\n      <td>CatBoost</td>\n      <td>{'verbose': 0, 'early_stopping_rounds': 50, 't...</td>\n      <td>{'early_stopping': True}</td>\n      <td>[HelmertEncoder, HashingEncoder, FrequencyEnco...</td>\n      <td>[duration, credit_amount, age, num_dependents,...</td>\n      <td>10</td>\n    </tr>\n  </tbody>\n</table>\n</div>"
     },
     "metadata": {},
     "execution_count": 9
    }
   ],
   "source": [
    "model.stack_models_cfgs"
   ]
  },
  {
   "cell_type": "code",
   "execution_count": null,
   "metadata": {},
   "outputs": [],
   "source": []
  }
 ],
 "metadata": {
  "kernelspec": {
   "display_name": "Python 3.8.3 64-bit ('ds': conda)",
   "language": "python",
   "name": "python38364bitdscondadc8f49c0681c4f8d9aaeec09a1cf65fe"
  },
  "language_info": {
   "codemirror_mode": {
    "name": "ipython",
    "version": 3
   },
   "file_extension": ".py",
   "mimetype": "text/x-python",
   "name": "python",
   "nbconvert_exporter": "python",
   "pygments_lexer": "ipython3",
   "version": "3.8.3-final"
  },
  "toc": {
   "base_numbering": 1,
   "nav_menu": {},
   "number_sections": false,
   "sideBar": true,
   "skip_h1_title": false,
   "title_cell": "Table of Contents",
   "title_sidebar": "Contents",
   "toc_cell": false,
   "toc_position": {
    "height": "calc(100% - 180px)",
    "left": "10px",
    "top": "150px",
    "width": "165px"
   },
   "toc_section_display": true,
   "toc_window_display": true
  }
 },
 "nbformat": 4,
 "nbformat_minor": 4
}