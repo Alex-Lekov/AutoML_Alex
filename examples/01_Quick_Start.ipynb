{
 "cells": [
  {
   "cell_type": "code",
   "execution_count": 1,
   "metadata": {
    "ExecuteTime": {
     "end_time": "2020-05-07T01:04:07.223678Z",
     "start_time": "2020-05-07T01:04:07.203114Z"
    }
   },
   "outputs": [],
   "source": [
    "# If you run this notebook on Google Colaboratory, uncomment the below to install automl_alex.\n",
    "#!pip install --quiet -U automl_alex"
   ]
  },
  {
   "cell_type": "code",
   "execution_count": 2,
   "metadata": {
    "ExecuteTime": {
     "end_time": "2020-05-07T01:05:50.878720Z",
     "start_time": "2020-05-07T01:05:50.874642Z"
    },
    "tags": []
   },
   "outputs": [
    {
     "output_type": "stream",
     "name": "stdout",
     "text": "0.07.26\n"
    }
   ],
   "source": [
    "import automl_alex\n",
    "import sklearn\n",
    "import time\n",
    "from automl_alex import AutoML, AutoMLClassifier\n",
    "print(automl_alex.__version__)"
   ]
  },
  {
   "cell_type": "code",
   "execution_count": 3,
   "metadata": {
    "ExecuteTime": {
     "end_time": "2020-05-07T01:05:52.553896Z",
     "start_time": "2020-05-07T01:05:52.549132Z"
    }
   },
   "outputs": [],
   "source": [
    "RANDOM_SEED = 42"
   ]
  },
  {
   "cell_type": "markdown",
   "metadata": {},
   "source": [
    "# Classifier"
   ]
  },
  {
   "cell_type": "markdown",
   "metadata": {},
   "source": [
    "## Data"
   ]
  },
  {
   "cell_type": "code",
   "execution_count": 4,
   "metadata": {
    "ExecuteTime": {
     "end_time": "2020-05-07T01:05:55.127924Z",
     "start_time": "2020-05-07T01:05:55.037616Z"
    }
   },
   "outputs": [
    {
     "output_type": "execute_result",
     "data": {
      "text/plain": "  checking_status  duration                  credit_history  \\\n0              <0       6.0  critical/other existing credit   \n1        0<=X<200      48.0                   existing paid   \n2     no checking      12.0  critical/other existing credit   \n3              <0      42.0                   existing paid   \n4              <0      24.0              delayed previously   \n\n               purpose  credit_amount    savings_status employment  \\\n0             radio/tv         1169.0  no known savings        >=7   \n1             radio/tv         5951.0              <100     1<=X<4   \n2            education         2096.0              <100     4<=X<7   \n3  furniture/equipment         7882.0              <100     4<=X<7   \n4              new car         4870.0              <100     1<=X<4   \n\n   installment_commitment     personal_status other_parties  residence_since  \\\n0                     4.0         male single          none              4.0   \n1                     2.0  female div/dep/mar          none              2.0   \n2                     2.0         male single          none              3.0   \n3                     2.0         male single     guarantor              4.0   \n4                     3.0         male single          none              4.0   \n\n  property_magnitude   age other_payment_plans   housing  existing_credits  \\\n0        real estate  67.0                none       own               2.0   \n1        real estate  22.0                none       own               1.0   \n2        real estate  49.0                none       own               1.0   \n3     life insurance  45.0                none  for free               1.0   \n4  no known property  53.0                none  for free               2.0   \n\n                  job  num_dependents own_telephone foreign_worker  \n0             skilled             1.0           yes            yes  \n1             skilled             1.0          none            yes  \n2  unskilled resident             2.0          none            yes  \n3             skilled             2.0          none            yes  \n4             skilled             2.0          none            yes  ",
      "text/html": "<div>\n<style scoped>\n    .dataframe tbody tr th:only-of-type {\n        vertical-align: middle;\n    }\n\n    .dataframe tbody tr th {\n        vertical-align: top;\n    }\n\n    .dataframe thead th {\n        text-align: right;\n    }\n</style>\n<table border=\"1\" class=\"dataframe\">\n  <thead>\n    <tr style=\"text-align: right;\">\n      <th></th>\n      <th>checking_status</th>\n      <th>duration</th>\n      <th>credit_history</th>\n      <th>purpose</th>\n      <th>credit_amount</th>\n      <th>savings_status</th>\n      <th>employment</th>\n      <th>installment_commitment</th>\n      <th>personal_status</th>\n      <th>other_parties</th>\n      <th>residence_since</th>\n      <th>property_magnitude</th>\n      <th>age</th>\n      <th>other_payment_plans</th>\n      <th>housing</th>\n      <th>existing_credits</th>\n      <th>job</th>\n      <th>num_dependents</th>\n      <th>own_telephone</th>\n      <th>foreign_worker</th>\n    </tr>\n  </thead>\n  <tbody>\n    <tr>\n      <th>0</th>\n      <td>&lt;0</td>\n      <td>6.0</td>\n      <td>critical/other existing credit</td>\n      <td>radio/tv</td>\n      <td>1169.0</td>\n      <td>no known savings</td>\n      <td>&gt;=7</td>\n      <td>4.0</td>\n      <td>male single</td>\n      <td>none</td>\n      <td>4.0</td>\n      <td>real estate</td>\n      <td>67.0</td>\n      <td>none</td>\n      <td>own</td>\n      <td>2.0</td>\n      <td>skilled</td>\n      <td>1.0</td>\n      <td>yes</td>\n      <td>yes</td>\n    </tr>\n    <tr>\n      <th>1</th>\n      <td>0&lt;=X&lt;200</td>\n      <td>48.0</td>\n      <td>existing paid</td>\n      <td>radio/tv</td>\n      <td>5951.0</td>\n      <td>&lt;100</td>\n      <td>1&lt;=X&lt;4</td>\n      <td>2.0</td>\n      <td>female div/dep/mar</td>\n      <td>none</td>\n      <td>2.0</td>\n      <td>real estate</td>\n      <td>22.0</td>\n      <td>none</td>\n      <td>own</td>\n      <td>1.0</td>\n      <td>skilled</td>\n      <td>1.0</td>\n      <td>none</td>\n      <td>yes</td>\n    </tr>\n    <tr>\n      <th>2</th>\n      <td>no checking</td>\n      <td>12.0</td>\n      <td>critical/other existing credit</td>\n      <td>education</td>\n      <td>2096.0</td>\n      <td>&lt;100</td>\n      <td>4&lt;=X&lt;7</td>\n      <td>2.0</td>\n      <td>male single</td>\n      <td>none</td>\n      <td>3.0</td>\n      <td>real estate</td>\n      <td>49.0</td>\n      <td>none</td>\n      <td>own</td>\n      <td>1.0</td>\n      <td>unskilled resident</td>\n      <td>2.0</td>\n      <td>none</td>\n      <td>yes</td>\n    </tr>\n    <tr>\n      <th>3</th>\n      <td>&lt;0</td>\n      <td>42.0</td>\n      <td>existing paid</td>\n      <td>furniture/equipment</td>\n      <td>7882.0</td>\n      <td>&lt;100</td>\n      <td>4&lt;=X&lt;7</td>\n      <td>2.0</td>\n      <td>male single</td>\n      <td>guarantor</td>\n      <td>4.0</td>\n      <td>life insurance</td>\n      <td>45.0</td>\n      <td>none</td>\n      <td>for free</td>\n      <td>1.0</td>\n      <td>skilled</td>\n      <td>2.0</td>\n      <td>none</td>\n      <td>yes</td>\n    </tr>\n    <tr>\n      <th>4</th>\n      <td>&lt;0</td>\n      <td>24.0</td>\n      <td>delayed previously</td>\n      <td>new car</td>\n      <td>4870.0</td>\n      <td>&lt;100</td>\n      <td>1&lt;=X&lt;4</td>\n      <td>3.0</td>\n      <td>male single</td>\n      <td>none</td>\n      <td>4.0</td>\n      <td>no known property</td>\n      <td>53.0</td>\n      <td>none</td>\n      <td>for free</td>\n      <td>2.0</td>\n      <td>skilled</td>\n      <td>2.0</td>\n      <td>none</td>\n      <td>yes</td>\n    </tr>\n  </tbody>\n</table>\n</div>"
     },
     "metadata": {},
     "execution_count": 4
    }
   ],
   "source": [
    "from sklearn.datasets import fetch_openml\n",
    "from sklearn.model_selection import train_test_split\n",
    "dataset = fetch_openml(name='credit-g', version=1, as_frame=True)\n",
    "dataset.target = dataset.target.astype('category').cat.codes\n",
    "dataset.data.head(5)"
   ]
  },
  {
   "cell_type": "code",
   "execution_count": 5,
   "metadata": {
    "ExecuteTime": {
     "end_time": "2020-05-07T01:05:56.756465Z",
     "start_time": "2020-05-07T01:05:56.734220Z"
    }
   },
   "outputs": [
    {
     "output_type": "execute_result",
     "data": {
      "text/plain": "((750, 20), (250, 20))"
     },
     "metadata": {},
     "execution_count": 5
    }
   ],
   "source": [
    "X_train, X_test, y_train, y_test = train_test_split(dataset.data, \n",
    "                                                    dataset.target,\n",
    "                                                    test_size=0.25, \n",
    "                                                    random_state=RANDOM_SEED,)\n",
    "X_train.shape, X_test.shape"
   ]
  },
  {
   "cell_type": "markdown",
   "metadata": {},
   "source": [
    "## Model"
   ]
  },
  {
   "cell_type": "code",
   "execution_count": 6,
   "metadata": {
    "ExecuteTime": {
     "end_time": "2020-05-07T01:05:59.848085Z",
     "start_time": "2020-05-07T01:05:59.337884Z"
    },
    "tags": []
   },
   "outputs": [
    {
     "output_type": "stream",
     "name": "stdout",
     "text": "Source X_train shape:(750, 20)| X_test shape:(250, 20)\n##################################################\nAuto detect cat features:13\n> Start preprocessing Data\n> Generate cat encodet features\n +55 Features fromOneHotEncoder\n +44 Features fromHelmertEncoder\n +54 Features fromHashingEncoder\n +16 Features fromFrequencyEncoder\n> Generate Frequency Encode num features\n +4 Frequency Encode Num Features\n> Clean Nans in num features\n> Generate interaction Num Features\n +24 Interaction Features\n> Normalization Features\n##################################################\n> Total Features:201\n##################################################\nNew X_train shape:(750, 201)| X_test shape:(250, 201)\n"
    }
   ],
   "source": [
    "#model = AutoML(X_train, y_train, X_test, type_of_estimator='classifier', random_state=RANDOM_SEED)\n",
    "\n",
    "# or Simply\n",
    "model = AutoMLClassifier(X_train, y_train, X_test, random_state=RANDOM_SEED, verbose=1)"
   ]
  },
  {
   "cell_type": "code",
   "execution_count": 9,
   "metadata": {
    "ExecuteTime": {
     "end_time": "2020-05-06T17:01:04.947762Z",
     "start_time": "2020-05-06T16:47:23.396089Z"
    },
    "tags": []
   },
   "outputs": [
    {
     "output_type": "stream",
     "name": "stdout",
     "text": "__________________________________________________\nStep 1: Model 0\n__________________________________________________\n100%|██████████| 1/1 [00:05<00:00,  5.52s/it]\n--------------------------------------------------\nModel 1\nOne iteration takes ~ 1.4 sec\n> Start Auto calibration parameters\n> Start optimization with the parameters:\nCV_Folds =10\nScore_CV_Folds =3\nFeature_Selection =True\nOpt_lvl =2\nCold_start =43.0\nEarly_stoping =100\nMetric =roc_auc_score\nDirection =maximize\n##################################################\nDefault model OptScore = 0.7087\nOptimize: : 255it [09:01,  1.66s/it,  | Model: RandomForest | OptScore: 0.7619 | Best roc_auc_score: 0.8087 +- 0.046755]\n EarlyStopping Exceeded: Best Score: 0.7619roc_auc_score\nOptimize: : 255it [09:01,  2.12s/it,  | Model: RandomForest | OptScore: 0.7619 | Best roc_auc_score: 0.8087 +- 0.046755]\n\n Predict from Models_1\n100%|██████████| 3/3 [00:01<00:00,  1.64it/s]\n\n > Calc predict policy on Models_1:\n | posible_repeats:89 | stack_top:10 | n_repeats:3\n  0%|          | 0/10 [00:00<?, ?it/s]\n Mean Score roc_auc_score on 30 Folds: 0.7888 std: 0.048257\n 10%|█         | 1/10 [00:18<02:42, 18.09s/it]\n Mean Score roc_auc_score on 30 Folds: 0.7856 std: 0.050739\n 20%|██        | 2/10 [00:36<02:24, 18.10s/it]\n Mean Score roc_auc_score on 30 Folds: 0.7862 std: 0.049794\n 30%|███       | 3/10 [00:54<02:06, 18.10s/it]\n Mean Score roc_auc_score on 30 Folds: 0.7898 std: 0.048919\n 40%|████      | 4/10 [01:12<01:48, 18.09s/it]\n Mean Score roc_auc_score on 30 Folds: 0.7905 std: 0.048702\n 50%|█████     | 5/10 [01:30<01:30, 18.09s/it]\n Mean Score roc_auc_score on 30 Folds: 0.7926 std: 0.047854\n 60%|██████    | 6/10 [01:52<01:17, 19.32s/it]\n Mean Score roc_auc_score on 30 Folds: 0.789 std: 0.048828\n 70%|███████   | 7/10 [02:14<01:00, 20.18s/it]\n Mean Score roc_auc_score on 30 Folds: 0.7866 std: 0.048522\n 80%|████████  | 8/10 [02:32<00:39, 19.56s/it]\n Mean Score roc_auc_score on 30 Folds: 0.7895 std: 0.051912\n 90%|█████████ | 9/10 [02:51<00:19, 19.31s/it]\n Mean Score roc_auc_score on 30 Folds: 0.7911 std: 0.049441\n100%|██████████| 10/10 [03:10<00:00, 19.09s/it]\n\n Models_1 Mean roc_auc_score Score Train:0.7903\n--------------------------------------------------\nModel 2\nOne iteration takes ~ 0.7 sec\n> Start Auto calibration parameters\n> Start optimization with the parameters:\nCV_Folds =10\nScore_CV_Folds =3\nFeature_Selection =True\nOpt_lvl =2\nCold_start =44.0\nEarly_stoping =100\nMetric =roc_auc_score\nDirection =maximize\n##################################################\nDefault model OptScore = 0.7087\nOptimize: : 258it [02:00,  1.97it/s,  | Model: MLP | OptScore: 0.7666 | Best roc_auc_score: 0.7914 +- 0.024789]\n EarlyStopping Exceeded: Best Score: 0.7666roc_auc_score\nOptimize: : 258it [02:01,  2.13it/s,  | Model: MLP | OptScore: 0.7666 | Best roc_auc_score: 0.7914 +- 0.024789]\n\n Predict from Models_2\n  0%|          | 0/5 [00:00<?, ?it/s]\n Mean Score roc_auc_score on 10 Folds: 0.742 std: 0.050959\n 20%|██        | 1/5 [00:00<00:02,  1.54it/s]\n Mean Score roc_auc_score on 10 Folds: 0.7677 std: 0.03902\n 40%|████      | 2/5 [00:01<00:02,  1.29it/s]\n Mean Score roc_auc_score on 10 Folds: 0.7634 std: 0.042963\n 60%|██████    | 3/5 [00:02<00:01,  1.30it/s]\n Mean Score roc_auc_score on 10 Folds: 0.7671 std: 0.038082\n 80%|████████  | 4/5 [00:03<00:00,  1.18it/s]\n Mean Score roc_auc_score on 10 Folds: 0.7669 std: 0.037953\n100%|██████████| 5/5 [00:04<00:00,  1.09it/s]\n\n Models_2 Mean roc_auc_score Score Train:0.7684\n\n Mean Models roc_auc_score Score Train:0.7947\n__________________________________________________\nStep 2: Stacking\n__________________________________________________\nNew X_train:(750, 15) y_train:(750,)| X_test shape:(250, 15)\nOne iteration takes ~ 0.4 sec\n> Start optimization with the parameters:\nCV_Folds =10\nScore_CV_Folds =10\nFeature_Selection =True\nOpt_lvl =3\nCold_start =25\nEarly_stoping =100\nMetric =roc_auc_score\nDirection =maximize\n##################################################\nDefault model OptScore = 0.734\nOptimize: : 150it [00:22,  6.70it/s,  | Model: LinearModel | OptScore: 0.7957 | Best roc_auc_score: 0.7957 +- 0.045896]\n  0%|          | 0/2 [00:00<?, ?it/s]\n Mean Score roc_auc_score on 20 Folds: 0.7944 std: 0.041173\n 50%|█████     | 1/2 [00:00<00:00,  7.41it/s]\n Mean Score roc_auc_score on 20 Folds: 0.7944 std: 0.041823\n100%|██████████| 2/2 [00:00<00:00,  7.30it/s]\n\n Stacking model roc_auc_score Score Train:0.7928\n\n Final Model roc_auc_score Score Train:0.7947\nCPU times: user 16min 16s, sys: 2min 7s, total: 18min 23s\nWall time: 14min 56s\n"
    }
   ],
   "source": [
    "%%time\n",
    "predict_test, predict_train = model.fit_predict(timeout=1500, verbose=2)"
   ]
  },
  {
   "cell_type": "code",
   "execution_count": 12,
   "metadata": {
    "ExecuteTime": {
     "end_time": "2020-05-07T01:11:28.827682Z",
     "start_time": "2020-05-07T01:11:28.808642Z"
    }
   },
   "outputs": [
    {
     "output_type": "execute_result",
     "data": {
      "text/plain": "array([0.3442651 , 0.46008764, 0.52973425, 0.37271726, 0.10340613])"
     },
     "metadata": {},
     "execution_count": 12
    }
   ],
   "source": [
    "predict_test[:5]"
   ]
  },
  {
   "cell_type": "code",
   "execution_count": 10,
   "metadata": {
    "tags": []
   },
   "outputs": [
    {
     "output_type": "stream",
     "name": "stdout",
     "text": "Test AUC:0.8096\n"
    }
   ],
   "source": [
    "print('Test AUC: ', round(sklearn.metrics.roc_auc_score(y_test, predict_test),4))"
   ]
  },
  {
   "cell_type": "code",
   "execution_count": 11,
   "metadata": {},
   "outputs": [
    {
     "output_type": "execute_result",
     "data": {
      "text/plain": "    score_opt  model_score  score_std    model_name  \\\n0      0.7619       0.8087   0.046755  RandomForest   \n1      0.7602       0.8072   0.046989  RandomForest   \n2      0.7588       0.8026   0.043793  RandomForest   \n3      0.7559       0.8002   0.044282  RandomForest   \n4      0.7545       0.8014   0.046876  RandomForest   \n5      0.7540       0.8033   0.049344  RandomForest   \n6      0.7534       0.8062   0.052843  RandomForest   \n7      0.7529       0.8044   0.051466  RandomForest   \n8      0.7525       0.8045   0.052013  RandomForest   \n9      0.7517       0.7985   0.046768  RandomForest   \n10     0.7666       0.7914   0.024789           MLP   \n11     0.7590       0.7642   0.005185           MLP   \n12     0.7586       0.7634   0.004806           MLP   \n13     0.7583       0.7631   0.004828           MLP   \n14     0.7580       0.7625   0.004505           MLP   \n\n                                          model_param wrapper_params  \\\n0   {'verbose': 0, 'random_state': 42, 'n_jobs': -...             {}   \n1   {'verbose': 0, 'random_state': 42, 'n_jobs': -...             {}   \n2   {'verbose': 0, 'random_state': 42, 'n_jobs': -...             {}   \n3   {'verbose': 0, 'random_state': 42, 'n_jobs': -...             {}   \n4   {'verbose': 0, 'random_state': 42, 'n_jobs': -...             {}   \n5   {'verbose': 0, 'random_state': 42, 'n_jobs': -...             {}   \n6   {'verbose': 0, 'random_state': 42, 'n_jobs': -...             {}   \n7   {'verbose': 0, 'random_state': 42, 'n_jobs': -...             {}   \n8   {'verbose': 0, 'random_state': 42, 'n_jobs': -...             {}   \n9   {'verbose': 0, 'random_state': 42, 'n_jobs': -...             {}   \n10  {'verbose': 0, 'random_state': 42, 'max_iter':...             {}   \n11  {'verbose': 0, 'random_state': 42, 'max_iter':...             {}   \n12  {'verbose': 0, 'random_state': 42, 'max_iter':...             {}   \n13  {'verbose': 0, 'random_state': 42, 'max_iter':...             {}   \n14  {'verbose': 0, 'random_state': 42, 'max_iter':...             {}   \n\n                                         cat_encoders  \\\n0   [OneHotEncoder, HelmertEncoder, HashingEncoder...   \n1   [OneHotEncoder, HelmertEncoder, HashingEncoder...   \n2   [OneHotEncoder, HelmertEncoder, HashingEncoder...   \n3   [OneHotEncoder, HelmertEncoder, HashingEncoder...   \n4   [OneHotEncoder, HelmertEncoder, HashingEncoder...   \n5   [OneHotEncoder, HelmertEncoder, HashingEncoder...   \n6   [OneHotEncoder, HelmertEncoder, HashingEncoder...   \n7   [OneHotEncoder, HelmertEncoder, HashingEncoder...   \n8   [OneHotEncoder, HelmertEncoder, HashingEncoder...   \n9   [OneHotEncoder, HelmertEncoder, HashingEncoder...   \n10  [OneHotEncoder, HelmertEncoder, HashingEncoder...   \n11  [OneHotEncoder, HelmertEncoder, HashingEncoder...   \n12  [OneHotEncoder, HelmertEncoder, HashingEncoder...   \n13  [OneHotEncoder, HelmertEncoder, HashingEncoder...   \n14  [OneHotEncoder, HelmertEncoder, HashingEncoder...   \n\n                                              columns  cv_folds  \n0   (duration, age, num_dependents, OneHotEncoder_...        10  \n1   (duration, age, num_dependents, OneHotEncoder_...        10  \n2   (duration, age, OneHotEncoder_other_payment_pl...        10  \n3   (duration, age, num_dependents, OneHotEncoder_...        10  \n4   (duration, age, num_dependents, OneHotEncoder_...        10  \n5   (duration, age, num_dependents, OneHotEncoder_...        10  \n6   (duration, age, num_dependents, OneHotEncoder_...        10  \n7   (duration, age, OneHotEncoder_other_payment_pl...        10  \n8   (duration, age, num_dependents, OneHotEncoder_...        10  \n9   (duration, age, num_dependents, OneHotEncoder_...        10  \n10  (duration, age, OneHotEncoder_other_payment_pl...        10  \n11  (duration, age, OneHotEncoder_other_payment_pl...        10  \n12  (duration, age, OneHotEncoder_other_payment_pl...        10  \n13  (duration, age, OneHotEncoder_other_payment_pl...        10  \n14  (duration, age, OneHotEncoder_other_payment_pl...        10  ",
      "text/html": "<div>\n<style scoped>\n    .dataframe tbody tr th:only-of-type {\n        vertical-align: middle;\n    }\n\n    .dataframe tbody tr th {\n        vertical-align: top;\n    }\n\n    .dataframe thead th {\n        text-align: right;\n    }\n</style>\n<table border=\"1\" class=\"dataframe\">\n  <thead>\n    <tr style=\"text-align: right;\">\n      <th></th>\n      <th>score_opt</th>\n      <th>model_score</th>\n      <th>score_std</th>\n      <th>model_name</th>\n      <th>model_param</th>\n      <th>wrapper_params</th>\n      <th>cat_encoders</th>\n      <th>columns</th>\n      <th>cv_folds</th>\n    </tr>\n  </thead>\n  <tbody>\n    <tr>\n      <th>0</th>\n      <td>0.7619</td>\n      <td>0.8087</td>\n      <td>0.046755</td>\n      <td>RandomForest</td>\n      <td>{'verbose': 0, 'random_state': 42, 'n_jobs': -...</td>\n      <td>{}</td>\n      <td>[OneHotEncoder, HelmertEncoder, HashingEncoder...</td>\n      <td>(duration, age, num_dependents, OneHotEncoder_...</td>\n      <td>10</td>\n    </tr>\n    <tr>\n      <th>1</th>\n      <td>0.7602</td>\n      <td>0.8072</td>\n      <td>0.046989</td>\n      <td>RandomForest</td>\n      <td>{'verbose': 0, 'random_state': 42, 'n_jobs': -...</td>\n      <td>{}</td>\n      <td>[OneHotEncoder, HelmertEncoder, HashingEncoder...</td>\n      <td>(duration, age, num_dependents, OneHotEncoder_...</td>\n      <td>10</td>\n    </tr>\n    <tr>\n      <th>2</th>\n      <td>0.7588</td>\n      <td>0.8026</td>\n      <td>0.043793</td>\n      <td>RandomForest</td>\n      <td>{'verbose': 0, 'random_state': 42, 'n_jobs': -...</td>\n      <td>{}</td>\n      <td>[OneHotEncoder, HelmertEncoder, HashingEncoder...</td>\n      <td>(duration, age, OneHotEncoder_other_payment_pl...</td>\n      <td>10</td>\n    </tr>\n    <tr>\n      <th>3</th>\n      <td>0.7559</td>\n      <td>0.8002</td>\n      <td>0.044282</td>\n      <td>RandomForest</td>\n      <td>{'verbose': 0, 'random_state': 42, 'n_jobs': -...</td>\n      <td>{}</td>\n      <td>[OneHotEncoder, HelmertEncoder, HashingEncoder...</td>\n      <td>(duration, age, num_dependents, OneHotEncoder_...</td>\n      <td>10</td>\n    </tr>\n    <tr>\n      <th>4</th>\n      <td>0.7545</td>\n      <td>0.8014</td>\n      <td>0.046876</td>\n      <td>RandomForest</td>\n      <td>{'verbose': 0, 'random_state': 42, 'n_jobs': -...</td>\n      <td>{}</td>\n      <td>[OneHotEncoder, HelmertEncoder, HashingEncoder...</td>\n      <td>(duration, age, num_dependents, OneHotEncoder_...</td>\n      <td>10</td>\n    </tr>\n    <tr>\n      <th>5</th>\n      <td>0.7540</td>\n      <td>0.8033</td>\n      <td>0.049344</td>\n      <td>RandomForest</td>\n      <td>{'verbose': 0, 'random_state': 42, 'n_jobs': -...</td>\n      <td>{}</td>\n      <td>[OneHotEncoder, HelmertEncoder, HashingEncoder...</td>\n      <td>(duration, age, num_dependents, OneHotEncoder_...</td>\n      <td>10</td>\n    </tr>\n    <tr>\n      <th>6</th>\n      <td>0.7534</td>\n      <td>0.8062</td>\n      <td>0.052843</td>\n      <td>RandomForest</td>\n      <td>{'verbose': 0, 'random_state': 42, 'n_jobs': -...</td>\n      <td>{}</td>\n      <td>[OneHotEncoder, HelmertEncoder, HashingEncoder...</td>\n      <td>(duration, age, num_dependents, OneHotEncoder_...</td>\n      <td>10</td>\n    </tr>\n    <tr>\n      <th>7</th>\n      <td>0.7529</td>\n      <td>0.8044</td>\n      <td>0.051466</td>\n      <td>RandomForest</td>\n      <td>{'verbose': 0, 'random_state': 42, 'n_jobs': -...</td>\n      <td>{}</td>\n      <td>[OneHotEncoder, HelmertEncoder, HashingEncoder...</td>\n      <td>(duration, age, OneHotEncoder_other_payment_pl...</td>\n      <td>10</td>\n    </tr>\n    <tr>\n      <th>8</th>\n      <td>0.7525</td>\n      <td>0.8045</td>\n      <td>0.052013</td>\n      <td>RandomForest</td>\n      <td>{'verbose': 0, 'random_state': 42, 'n_jobs': -...</td>\n      <td>{}</td>\n      <td>[OneHotEncoder, HelmertEncoder, HashingEncoder...</td>\n      <td>(duration, age, num_dependents, OneHotEncoder_...</td>\n      <td>10</td>\n    </tr>\n    <tr>\n      <th>9</th>\n      <td>0.7517</td>\n      <td>0.7985</td>\n      <td>0.046768</td>\n      <td>RandomForest</td>\n      <td>{'verbose': 0, 'random_state': 42, 'n_jobs': -...</td>\n      <td>{}</td>\n      <td>[OneHotEncoder, HelmertEncoder, HashingEncoder...</td>\n      <td>(duration, age, num_dependents, OneHotEncoder_...</td>\n      <td>10</td>\n    </tr>\n    <tr>\n      <th>10</th>\n      <td>0.7666</td>\n      <td>0.7914</td>\n      <td>0.024789</td>\n      <td>MLP</td>\n      <td>{'verbose': 0, 'random_state': 42, 'max_iter':...</td>\n      <td>{}</td>\n      <td>[OneHotEncoder, HelmertEncoder, HashingEncoder...</td>\n      <td>(duration, age, OneHotEncoder_other_payment_pl...</td>\n      <td>10</td>\n    </tr>\n    <tr>\n      <th>11</th>\n      <td>0.7590</td>\n      <td>0.7642</td>\n      <td>0.005185</td>\n      <td>MLP</td>\n      <td>{'verbose': 0, 'random_state': 42, 'max_iter':...</td>\n      <td>{}</td>\n      <td>[OneHotEncoder, HelmertEncoder, HashingEncoder...</td>\n      <td>(duration, age, OneHotEncoder_other_payment_pl...</td>\n      <td>10</td>\n    </tr>\n    <tr>\n      <th>12</th>\n      <td>0.7586</td>\n      <td>0.7634</td>\n      <td>0.004806</td>\n      <td>MLP</td>\n      <td>{'verbose': 0, 'random_state': 42, 'max_iter':...</td>\n      <td>{}</td>\n      <td>[OneHotEncoder, HelmertEncoder, HashingEncoder...</td>\n      <td>(duration, age, OneHotEncoder_other_payment_pl...</td>\n      <td>10</td>\n    </tr>\n    <tr>\n      <th>13</th>\n      <td>0.7583</td>\n      <td>0.7631</td>\n      <td>0.004828</td>\n      <td>MLP</td>\n      <td>{'verbose': 0, 'random_state': 42, 'max_iter':...</td>\n      <td>{}</td>\n      <td>[OneHotEncoder, HelmertEncoder, HashingEncoder...</td>\n      <td>(duration, age, OneHotEncoder_other_payment_pl...</td>\n      <td>10</td>\n    </tr>\n    <tr>\n      <th>14</th>\n      <td>0.7580</td>\n      <td>0.7625</td>\n      <td>0.004505</td>\n      <td>MLP</td>\n      <td>{'verbose': 0, 'random_state': 42, 'max_iter':...</td>\n      <td>{}</td>\n      <td>[OneHotEncoder, HelmertEncoder, HashingEncoder...</td>\n      <td>(duration, age, OneHotEncoder_other_payment_pl...</td>\n      <td>10</td>\n    </tr>\n  </tbody>\n</table>\n</div>"
     },
     "metadata": {},
     "execution_count": 11
    }
   ],
   "source": [
    "model.stack_models_cfgs"
   ]
  },
  {
   "cell_type": "code",
   "execution_count": null,
   "metadata": {},
   "outputs": [],
   "source": []
  }
 ],
 "metadata": {
  "kernelspec": {
   "display_name": "Python 3.7.6 64-bit ('ds': conda)",
   "language": "python",
   "name": "python37664bitdscondaeb5aeb426ade4b82a5cf907714e87c5f"
  },
  "language_info": {
   "codemirror_mode": {
    "name": "ipython",
    "version": 3
   },
   "file_extension": ".py",
   "mimetype": "text/x-python",
   "name": "python",
   "nbconvert_exporter": "python",
   "pygments_lexer": "ipython3",
   "version": "3.7.7-final"
  },
  "toc": {
   "base_numbering": 1,
   "nav_menu": {},
   "number_sections": false,
   "sideBar": true,
   "skip_h1_title": false,
   "title_cell": "Table of Contents",
   "title_sidebar": "Contents",
   "toc_cell": false,
   "toc_position": {
    "height": "calc(100% - 180px)",
    "left": "10px",
    "top": "150px",
    "width": "165px"
   },
   "toc_section_display": true,
   "toc_window_display": true
  }
 },
 "nbformat": 4,
 "nbformat_minor": 4
}