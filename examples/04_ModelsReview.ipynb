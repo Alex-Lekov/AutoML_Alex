{
  "cells": [
    {
      "cell_type": "code",
      "metadata": {
        "ExecuteTime": {
          "end_time": "2020-05-07T01:04:07.223678Z",
          "start_time": "2020-05-07T01:04:07.203114Z"
        },
        "id": "35Z4O1J4HrLG",
        "colab_type": "code",
        "colab": {}
      },
      "source": [
        "# If you run this notebook on Google Colaboratory, uncomment the below to install automl_alex.\n",
        "##!pip install automl-alex"
      ],
      "execution_count": 0,
      "outputs": []
    },
    {
      "cell_type": "code",
      "metadata": {
        "ExecuteTime": {
          "end_time": "2020-05-07T01:05:50.878720Z",
          "start_time": "2020-05-07T01:05:50.874642Z"
        },
        "id": "LUMq_v3aHrLO",
        "colab_type": "code",
        "colab": {}
      },
      "source": [
        "import pandas as pd\n",
        "import sklearn\n",
        "import automl_alex\n",
        "from automl_alex import ModelsReview, ModelsReviewClassifier"
      ],
      "execution_count": 0,
      "outputs": []
    },
    {
      "cell_type": "code",
      "metadata": {
        "ExecuteTime": {
          "end_time": "2020-05-07T01:05:52.046515Z",
          "start_time": "2020-05-07T01:05:52.037648Z"
        },
        "id": "B570gI83HrLW",
        "colab_type": "code",
        "colab": {
          "base_uri": "https://localhost:8080/",
          "height": 34
        },
        "outputId": "9649bb4f-38e6-43cf-abfe-bf94cc288e90"
      },
      "source": [
        "print(automl_alex.__version__)"
      ],
      "execution_count": 5,
      "outputs": [
        {
          "output_type": "stream",
          "text": [
            "0.05.07.5\n"
          ],
          "name": "stdout"
        }
      ]
    },
    {
      "cell_type": "code",
      "metadata": {
        "ExecuteTime": {
          "end_time": "2020-05-07T01:05:52.553896Z",
          "start_time": "2020-05-07T01:05:52.549132Z"
        },
        "id": "_x57fK3gHrLd",
        "colab_type": "code",
        "colab": {}
      },
      "source": [
        "RANDOM_SEED = 42"
      ],
      "execution_count": 0,
      "outputs": []
    },
    {
      "cell_type": "markdown",
      "metadata": {
        "id": "3JTScDUSHrLi",
        "colab_type": "text"
      },
      "source": [
        "# Classifier"
      ]
    },
    {
      "cell_type": "markdown",
      "metadata": {
        "id": "bfUOOcyiHrLj",
        "colab_type": "text"
      },
      "source": [
        "## Data"
      ]
    },
    {
      "cell_type": "code",
      "metadata": {
        "ExecuteTime": {
          "end_time": "2020-05-07T01:05:54.829381Z",
          "start_time": "2020-05-07T01:05:54.820896Z"
        },
        "id": "08kwyRMAHrLk",
        "colab_type": "code",
        "colab": {
          "base_uri": "https://localhost:8080/",
          "height": 258
        },
        "outputId": "37007c24-8007-4207-f8b1-aa5b4f027698"
      },
      "source": [
        "from sklearn.datasets import fetch_openml\n",
        "from sklearn.model_selection import train_test_split\n",
        "dataset = fetch_openml(name='credit-g', version=1, as_frame=True)\n",
        "dataset.data.head(5)"
      ],
      "execution_count": 7,
      "outputs": [
        {
          "output_type": "execute_result",
          "data": {
            "text/html": [
              "<div>\n",
              "<style scoped>\n",
              "    .dataframe tbody tr th:only-of-type {\n",
              "        vertical-align: middle;\n",
              "    }\n",
              "\n",
              "    .dataframe tbody tr th {\n",
              "        vertical-align: top;\n",
              "    }\n",
              "\n",
              "    .dataframe thead th {\n",
              "        text-align: right;\n",
              "    }\n",
              "</style>\n",
              "<table border=\"1\" class=\"dataframe\">\n",
              "  <thead>\n",
              "    <tr style=\"text-align: right;\">\n",
              "      <th></th>\n",
              "      <th>checking_status</th>\n",
              "      <th>duration</th>\n",
              "      <th>credit_history</th>\n",
              "      <th>purpose</th>\n",
              "      <th>credit_amount</th>\n",
              "      <th>savings_status</th>\n",
              "      <th>employment</th>\n",
              "      <th>installment_commitment</th>\n",
              "      <th>personal_status</th>\n",
              "      <th>other_parties</th>\n",
              "      <th>residence_since</th>\n",
              "      <th>property_magnitude</th>\n",
              "      <th>age</th>\n",
              "      <th>other_payment_plans</th>\n",
              "      <th>housing</th>\n",
              "      <th>existing_credits</th>\n",
              "      <th>job</th>\n",
              "      <th>num_dependents</th>\n",
              "      <th>own_telephone</th>\n",
              "      <th>foreign_worker</th>\n",
              "    </tr>\n",
              "  </thead>\n",
              "  <tbody>\n",
              "    <tr>\n",
              "      <th>0</th>\n",
              "      <td>&lt;0</td>\n",
              "      <td>6.0</td>\n",
              "      <td>critical/other existing credit</td>\n",
              "      <td>radio/tv</td>\n",
              "      <td>1169.0</td>\n",
              "      <td>no known savings</td>\n",
              "      <td>&gt;=7</td>\n",
              "      <td>4.0</td>\n",
              "      <td>male single</td>\n",
              "      <td>none</td>\n",
              "      <td>4.0</td>\n",
              "      <td>real estate</td>\n",
              "      <td>67.0</td>\n",
              "      <td>none</td>\n",
              "      <td>own</td>\n",
              "      <td>2.0</td>\n",
              "      <td>skilled</td>\n",
              "      <td>1.0</td>\n",
              "      <td>yes</td>\n",
              "      <td>yes</td>\n",
              "    </tr>\n",
              "    <tr>\n",
              "      <th>1</th>\n",
              "      <td>0&lt;=X&lt;200</td>\n",
              "      <td>48.0</td>\n",
              "      <td>existing paid</td>\n",
              "      <td>radio/tv</td>\n",
              "      <td>5951.0</td>\n",
              "      <td>&lt;100</td>\n",
              "      <td>1&lt;=X&lt;4</td>\n",
              "      <td>2.0</td>\n",
              "      <td>female div/dep/mar</td>\n",
              "      <td>none</td>\n",
              "      <td>2.0</td>\n",
              "      <td>real estate</td>\n",
              "      <td>22.0</td>\n",
              "      <td>none</td>\n",
              "      <td>own</td>\n",
              "      <td>1.0</td>\n",
              "      <td>skilled</td>\n",
              "      <td>1.0</td>\n",
              "      <td>none</td>\n",
              "      <td>yes</td>\n",
              "    </tr>\n",
              "    <tr>\n",
              "      <th>2</th>\n",
              "      <td>no checking</td>\n",
              "      <td>12.0</td>\n",
              "      <td>critical/other existing credit</td>\n",
              "      <td>education</td>\n",
              "      <td>2096.0</td>\n",
              "      <td>&lt;100</td>\n",
              "      <td>4&lt;=X&lt;7</td>\n",
              "      <td>2.0</td>\n",
              "      <td>male single</td>\n",
              "      <td>none</td>\n",
              "      <td>3.0</td>\n",
              "      <td>real estate</td>\n",
              "      <td>49.0</td>\n",
              "      <td>none</td>\n",
              "      <td>own</td>\n",
              "      <td>1.0</td>\n",
              "      <td>unskilled resident</td>\n",
              "      <td>2.0</td>\n",
              "      <td>none</td>\n",
              "      <td>yes</td>\n",
              "    </tr>\n",
              "    <tr>\n",
              "      <th>3</th>\n",
              "      <td>&lt;0</td>\n",
              "      <td>42.0</td>\n",
              "      <td>existing paid</td>\n",
              "      <td>furniture/equipment</td>\n",
              "      <td>7882.0</td>\n",
              "      <td>&lt;100</td>\n",
              "      <td>4&lt;=X&lt;7</td>\n",
              "      <td>2.0</td>\n",
              "      <td>male single</td>\n",
              "      <td>guarantor</td>\n",
              "      <td>4.0</td>\n",
              "      <td>life insurance</td>\n",
              "      <td>45.0</td>\n",
              "      <td>none</td>\n",
              "      <td>for free</td>\n",
              "      <td>1.0</td>\n",
              "      <td>skilled</td>\n",
              "      <td>2.0</td>\n",
              "      <td>none</td>\n",
              "      <td>yes</td>\n",
              "    </tr>\n",
              "    <tr>\n",
              "      <th>4</th>\n",
              "      <td>&lt;0</td>\n",
              "      <td>24.0</td>\n",
              "      <td>delayed previously</td>\n",
              "      <td>new car</td>\n",
              "      <td>4870.0</td>\n",
              "      <td>&lt;100</td>\n",
              "      <td>1&lt;=X&lt;4</td>\n",
              "      <td>3.0</td>\n",
              "      <td>male single</td>\n",
              "      <td>none</td>\n",
              "      <td>4.0</td>\n",
              "      <td>no known property</td>\n",
              "      <td>53.0</td>\n",
              "      <td>none</td>\n",
              "      <td>for free</td>\n",
              "      <td>2.0</td>\n",
              "      <td>skilled</td>\n",
              "      <td>2.0</td>\n",
              "      <td>none</td>\n",
              "      <td>yes</td>\n",
              "    </tr>\n",
              "  </tbody>\n",
              "</table>\n",
              "</div>"
            ],
            "text/plain": [
              "  checking_status  duration  ... own_telephone foreign_worker\n",
              "0              <0       6.0  ...           yes            yes\n",
              "1        0<=X<200      48.0  ...          none            yes\n",
              "2     no checking      12.0  ...          none            yes\n",
              "3              <0      42.0  ...          none            yes\n",
              "4              <0      24.0  ...          none            yes\n",
              "\n",
              "[5 rows x 20 columns]"
            ]
          },
          "metadata": {
            "tags": []
          },
          "execution_count": 7
        }
      ]
    },
    {
      "cell_type": "code",
      "metadata": {
        "ExecuteTime": {
          "end_time": "2020-05-07T01:05:55.928291Z",
          "start_time": "2020-05-07T01:05:55.905770Z"
        },
        "id": "Dty916mMHrLn",
        "colab_type": "code",
        "colab": {
          "base_uri": "https://localhost:8080/",
          "height": 136
        },
        "outputId": "eb318607-68cd-44d6-83e8-75e1ddf86b85"
      },
      "source": [
        "dataset.target[:5]"
      ],
      "execution_count": 8,
      "outputs": [
        {
          "output_type": "execute_result",
          "data": {
            "text/plain": [
              "0    good\n",
              "1     bad\n",
              "2    good\n",
              "3    good\n",
              "4     bad\n",
              "Name: class, dtype: category\n",
              "Categories (2, object): [good, bad]"
            ]
          },
          "metadata": {
            "tags": []
          },
          "execution_count": 8
        }
      ]
    },
    {
      "cell_type": "code",
      "metadata": {
        "ExecuteTime": {
          "end_time": "2020-05-07T01:05:56.353082Z",
          "start_time": "2020-05-07T01:05:56.345076Z"
        },
        "id": "bLbGW3UOHrLs",
        "colab_type": "code",
        "colab": {
          "base_uri": "https://localhost:8080/",
          "height": 119
        },
        "outputId": "b9f06907-22b0-460a-bc39-74f748ac8d62"
      },
      "source": [
        "dataset.target = dataset.target.astype('category').cat.codes\n",
        "dataset.target[:5]"
      ],
      "execution_count": 9,
      "outputs": [
        {
          "output_type": "execute_result",
          "data": {
            "text/plain": [
              "0    0\n",
              "1    1\n",
              "2    0\n",
              "3    0\n",
              "4    1\n",
              "dtype: int8"
            ]
          },
          "metadata": {
            "tags": []
          },
          "execution_count": 9
        }
      ]
    },
    {
      "cell_type": "code",
      "metadata": {
        "ExecuteTime": {
          "end_time": "2020-05-07T01:05:56.756465Z",
          "start_time": "2020-05-07T01:05:56.734220Z"
        },
        "id": "VMHXspocHrLu",
        "colab_type": "code",
        "colab": {
          "base_uri": "https://localhost:8080/",
          "height": 34
        },
        "outputId": "3b61d379-2be4-47de-ec88-92f5f645b181"
      },
      "source": [
        "X_train, X_test, y_train, y_test = train_test_split(dataset.data, \n",
        "                                                    dataset.target,\n",
        "                                                    test_size=0.25, \n",
        "                                                    random_state=RANDOM_SEED,)\n",
        "X_train.shape, X_test.shape"
      ],
      "execution_count": 10,
      "outputs": [
        {
          "output_type": "execute_result",
          "data": {
            "text/plain": [
              "((750, 20), (250, 20))"
            ]
          },
          "metadata": {
            "tags": []
          },
          "execution_count": 10
        }
      ]
    },
    {
      "cell_type": "markdown",
      "metadata": {
        "id": "Nv22CQlxHrLw",
        "colab_type": "text"
      },
      "source": [
        "## Model"
      ]
    },
    {
      "cell_type": "code",
      "metadata": {
        "ExecuteTime": {
          "end_time": "2020-05-07T01:05:59.848085Z",
          "start_time": "2020-05-07T01:05:59.337884Z"
        },
        "id": "QNuj6yuOHrLw",
        "colab_type": "code",
        "colab": {}
      },
      "source": [
        "model = ModelsReview(X_train, y_train, X_test, type_of_estimator='classifier', random_state=RANDOM_SEED)\n",
        "\n",
        "# or Simply\n",
        "model = ModelsReviewClassifier(X_train, y_train, X_test, random_state=RANDOM_SEED)"
      ],
      "execution_count": 0,
      "outputs": []
    },
    {
      "cell_type": "code",
      "metadata": {
        "ExecuteTime": {
          "end_time": "2020-05-06T17:01:04.947762Z",
          "start_time": "2020-05-06T16:47:23.396089Z"
        },
        "id": "b2FfF7WYHrLy",
        "colab_type": "code",
        "colab": {
          "base_uri": "https://localhost:8080/",
          "height": 34
        },
        "outputId": "ed480a4c-c763-46d2-dd8d-f18e396241ec"
      },
      "source": [
        "review = model.opt(timeout=2000, verbose=1) "
      ],
      "execution_count": 12,
      "outputs": [
        {
          "output_type": "stream",
          "text": [
            "100%|██████████| 10/10 [47:17<00:00, 283.71s/it, Model: MLP | Best Score roc_auc_score = 0.7203 +- 0.04331 ]\n"
          ],
          "name": "stderr"
        }
      ]
    },
    {
      "cell_type": "code",
      "metadata": {
        "ExecuteTime": {
          "end_time": "2020-05-07T01:11:28.827682Z",
          "start_time": "2020-05-07T01:11:28.808642Z"
        },
        "id": "X2ye5d0WHrL0",
        "colab_type": "code",
        "colab": {
          "base_uri": "https://localhost:8080/",
          "height": 359
        },
        "outputId": "11d1161f-7547-4927-a63a-cf6aa045bc24"
      },
      "source": [
        "review"
      ],
      "execution_count": 13,
      "outputs": [
        {
          "output_type": "execute_result",
          "data": {
            "text/html": [
              "<div>\n",
              "<style scoped>\n",
              "    .dataframe tbody tr th:only-of-type {\n",
              "        vertical-align: middle;\n",
              "    }\n",
              "\n",
              "    .dataframe tbody tr th {\n",
              "        vertical-align: top;\n",
              "    }\n",
              "\n",
              "    .dataframe thead th {\n",
              "        text-align: right;\n",
              "    }\n",
              "</style>\n",
              "<table border=\"1\" class=\"dataframe\">\n",
              "  <thead>\n",
              "    <tr style=\"text-align: right;\">\n",
              "      <th></th>\n",
              "      <th>score_opt</th>\n",
              "      <th>model_score</th>\n",
              "      <th>score_std</th>\n",
              "      <th>model_name</th>\n",
              "      <th>model_param</th>\n",
              "      <th>wrapper_params</th>\n",
              "      <th>cat_encoder</th>\n",
              "      <th>target_encoder</th>\n",
              "    </tr>\n",
              "  </thead>\n",
              "  <tbody>\n",
              "    <tr>\n",
              "      <th>0</th>\n",
              "      <td>0.7899</td>\n",
              "      <td>0.8392</td>\n",
              "      <td>0.049314</td>\n",
              "      <td>LightGBM</td>\n",
              "      <td>{'random_seed': 42, 'early_stopping_rounds': 5...</td>\n",
              "      <td>{'need_norm_data': False, 'early_stopping': Fa...</td>\n",
              "      <td>OneHotEncoder</td>\n",
              "      <td>JamesSteinEncoder</td>\n",
              "    </tr>\n",
              "    <tr>\n",
              "      <th>1</th>\n",
              "      <td>0.8199</td>\n",
              "      <td>0.8291</td>\n",
              "      <td>0.009220</td>\n",
              "      <td>KNeighbors</td>\n",
              "      <td>{'n_jobs': -1, 'n_neighbors': 150, 'weights': ...</td>\n",
              "      <td>{'need_norm_data': True, 'scaler_name': 'MinMa...</td>\n",
              "      <td>OneHotEncoder</td>\n",
              "      <td>JamesSteinEncoder</td>\n",
              "    </tr>\n",
              "    <tr>\n",
              "      <th>2</th>\n",
              "      <td>0.6956</td>\n",
              "      <td>0.7419</td>\n",
              "      <td>0.046312</td>\n",
              "      <td>LinearSVM</td>\n",
              "      <td>{'verbose': 0, 'random_state': 42, 'tol': 0.00...</td>\n",
              "      <td>{'need_norm_data': True, 'norm_data': True, 's...</td>\n",
              "      <td>OneHotEncoder</td>\n",
              "      <td>JamesSteinEncoder</td>\n",
              "    </tr>\n",
              "    <tr>\n",
              "      <th>3</th>\n",
              "      <td>0.8070</td>\n",
              "      <td>0.8203</td>\n",
              "      <td>0.013293</td>\n",
              "      <td>LinearModel</td>\n",
              "      <td>{'verbose': 0, 'fit_intercept': False, 'C': 0....</td>\n",
              "      <td>{'need_norm_data': True, 'scaler_name': 'Robus...</td>\n",
              "      <td>OneHotEncoder</td>\n",
              "      <td>JamesSteinEncoder</td>\n",
              "    </tr>\n",
              "    <tr>\n",
              "      <th>4</th>\n",
              "      <td>0.6747</td>\n",
              "      <td>0.7228</td>\n",
              "      <td>0.048086</td>\n",
              "      <td>SGD</td>\n",
              "      <td>{'max_iter': 5000, 'verbose': 0, 'fit_intercep...</td>\n",
              "      <td>{'need_norm_data': True, 'norm_data': True, 's...</td>\n",
              "      <td>OneHotEncoder</td>\n",
              "      <td>JamesSteinEncoder</td>\n",
              "    </tr>\n",
              "    <tr>\n",
              "      <th>5</th>\n",
              "      <td>0.7839</td>\n",
              "      <td>0.8302</td>\n",
              "      <td>0.046312</td>\n",
              "      <td>RandomForest</td>\n",
              "      <td>{'verbose': 0, 'random_state': 42, 'n_jobs': -...</td>\n",
              "      <td>{'need_norm_data': False}</td>\n",
              "      <td>OneHotEncoder</td>\n",
              "      <td>JamesSteinEncoder</td>\n",
              "    </tr>\n",
              "    <tr>\n",
              "      <th>6</th>\n",
              "      <td>0.8070</td>\n",
              "      <td>0.8370</td>\n",
              "      <td>0.030017</td>\n",
              "      <td>ExtraTrees</td>\n",
              "      <td>{'verbose': 0, 'random_state': 42, 'n_jobs': -...</td>\n",
              "      <td>{'need_norm_data': False}</td>\n",
              "      <td>OneHotEncoder</td>\n",
              "      <td>JamesSteinEncoder</td>\n",
              "    </tr>\n",
              "    <tr>\n",
              "      <th>7</th>\n",
              "      <td>0.6574</td>\n",
              "      <td>0.7303</td>\n",
              "      <td>0.072899</td>\n",
              "      <td>XGBoost</td>\n",
              "      <td>{'verbosity': 0, 'early_stopping_rounds': 100,...</td>\n",
              "      <td>{'need_norm_data': False, 'early_stopping': Fa...</td>\n",
              "      <td>OneHotEncoder</td>\n",
              "      <td>JamesSteinEncoder</td>\n",
              "    </tr>\n",
              "    <tr>\n",
              "      <th>8</th>\n",
              "      <td>0.8002</td>\n",
              "      <td>0.8336</td>\n",
              "      <td>0.033370</td>\n",
              "      <td>CatBoost</td>\n",
              "      <td>{'verbose': 0, 'early_stopping_rounds': 50, 't...</td>\n",
              "      <td>{'need_norm_data': False, 'early_stopping': True}</td>\n",
              "      <td>OneHotEncoder</td>\n",
              "      <td>JamesSteinEncoder</td>\n",
              "    </tr>\n",
              "    <tr>\n",
              "      <th>9</th>\n",
              "      <td>0.7095</td>\n",
              "      <td>0.7760</td>\n",
              "      <td>0.066515</td>\n",
              "      <td>MLP</td>\n",
              "      <td>{'verbose': 0, 'random_state': 42, 'max_iter':...</td>\n",
              "      <td>{'need_norm_data': True, 'scaler_name': 'Robus...</td>\n",
              "      <td>OneHotEncoder</td>\n",
              "      <td>JamesSteinEncoder</td>\n",
              "    </tr>\n",
              "  </tbody>\n",
              "</table>\n",
              "</div>"
            ],
            "text/plain": [
              "   score_opt  model_score  ...    cat_encoder     target_encoder\n",
              "0     0.7899       0.8392  ...  OneHotEncoder  JamesSteinEncoder\n",
              "1     0.8199       0.8291  ...  OneHotEncoder  JamesSteinEncoder\n",
              "2     0.6956       0.7419  ...  OneHotEncoder  JamesSteinEncoder\n",
              "3     0.8070       0.8203  ...  OneHotEncoder  JamesSteinEncoder\n",
              "4     0.6747       0.7228  ...  OneHotEncoder  JamesSteinEncoder\n",
              "5     0.7839       0.8302  ...  OneHotEncoder  JamesSteinEncoder\n",
              "6     0.8070       0.8370  ...  OneHotEncoder  JamesSteinEncoder\n",
              "7     0.6574       0.7303  ...  OneHotEncoder  JamesSteinEncoder\n",
              "8     0.8002       0.8336  ...  OneHotEncoder  JamesSteinEncoder\n",
              "9     0.7095       0.7760  ...  OneHotEncoder  JamesSteinEncoder\n",
              "\n",
              "[10 rows x 8 columns]"
            ]
          },
          "metadata": {
            "tags": []
          },
          "execution_count": 13
        }
      ]
    },
    {
      "cell_type": "code",
      "metadata": {
        "id": "Cef1QUobJcWb",
        "colab_type": "code",
        "colab": {
          "base_uri": "https://localhost:8080/",
          "height": 34
        },
        "outputId": "e830bf83-6275-4124-de68-fa172dc048b7"
      },
      "source": [
        "predicts = model.predict()"
      ],
      "execution_count": 14,
      "outputs": [
        {
          "output_type": "stream",
          "text": [
            "100%|██████████| 10/10 [01:07<00:00,  6.79s/it]\n"
          ],
          "name": "stderr"
        }
      ]
    },
    {
      "cell_type": "code",
      "metadata": {
        "id": "GLvITCqnJgMn",
        "colab_type": "code",
        "colab": {
          "base_uri": "https://localhost:8080/",
          "height": 359
        },
        "outputId": "61c8125a-5974-458b-8679-4843b480a3d1"
      },
      "source": [
        "pd.DataFrame(predicts)"
      ],
      "execution_count": 18,
      "outputs": [
        {
          "output_type": "execute_result",
          "data": {
            "text/html": [
              "<div>\n",
              "<style scoped>\n",
              "    .dataframe tbody tr th:only-of-type {\n",
              "        vertical-align: middle;\n",
              "    }\n",
              "\n",
              "    .dataframe tbody tr th {\n",
              "        vertical-align: top;\n",
              "    }\n",
              "\n",
              "    .dataframe thead th {\n",
              "        text-align: right;\n",
              "    }\n",
              "</style>\n",
              "<table border=\"1\" class=\"dataframe\">\n",
              "  <thead>\n",
              "    <tr style=\"text-align: right;\">\n",
              "      <th></th>\n",
              "      <th>model_name</th>\n",
              "      <th>predict_test</th>\n",
              "      <th>predict_train</th>\n",
              "    </tr>\n",
              "  </thead>\n",
              "  <tbody>\n",
              "    <tr>\n",
              "      <th>0</th>\n",
              "      <td>0_LightGBM</td>\n",
              "      <td>[0.33710323243720536, 0.4377319236597748, 0.48...</td>\n",
              "      <td>[0.26684486309110855, 0.195029184038383, 0.441...</td>\n",
              "    </tr>\n",
              "    <tr>\n",
              "      <th>1</th>\n",
              "      <td>1_KNeighbors</td>\n",
              "      <td>[0.372, 0.326, 0.41200000000000003, 0.30466666...</td>\n",
              "      <td>[0.32666666666666666, 0.14666666666666667, 0.4...</td>\n",
              "    </tr>\n",
              "    <tr>\n",
              "      <th>2</th>\n",
              "      <td>2_LinearSVM</td>\n",
              "      <td>[0.9999999999999999, 0.9999999999999999, 0.999...</td>\n",
              "      <td>[0.0, 0.0, 1.0, 0.0, 1.0, 1.0, 0.0, 0.0, 1.0, ...</td>\n",
              "    </tr>\n",
              "    <tr>\n",
              "      <th>3</th>\n",
              "      <td>3_LinearModel</td>\n",
              "      <td>[0.5720534148766729, 0.6572557887438732, 0.800...</td>\n",
              "      <td>[0.45480057904961524, 0.2951061080952058, 0.84...</td>\n",
              "    </tr>\n",
              "    <tr>\n",
              "      <th>4</th>\n",
              "      <td>4_SGD</td>\n",
              "      <td>[0.8999999999999999, 0.9999999999999999, 0.999...</td>\n",
              "      <td>[0.0, 0.0, 1.0, 0.0, 0.0, 1.0, 0.0, 0.0, 1.0, ...</td>\n",
              "    </tr>\n",
              "    <tr>\n",
              "      <th>5</th>\n",
              "      <td>5_RandomForest</td>\n",
              "      <td>[0.37226504329004334, 0.5245888888888888, 0.68...</td>\n",
              "      <td>[0.3688333333333334, 0.17307936507936503, 0.52...</td>\n",
              "    </tr>\n",
              "    <tr>\n",
              "      <th>6</th>\n",
              "      <td>6_ExtraTrees</td>\n",
              "      <td>[0.4190824400179773, 0.542102956199289, 0.6586...</td>\n",
              "      <td>[0.35953010031099064, 0.20199736495057985, 0.4...</td>\n",
              "    </tr>\n",
              "    <tr>\n",
              "      <th>7</th>\n",
              "      <td>7_XGBoost</td>\n",
              "      <td>[0.1, 0.4, 0.7, 0.1, 0.0, 0.1, 0.0, 0.2, 0.0, ...</td>\n",
              "      <td>[0.0, 0.0, 1.0, 0.0, 0.0, 0.0, 0.0, 0.0, 0.0, ...</td>\n",
              "    </tr>\n",
              "    <tr>\n",
              "      <th>8</th>\n",
              "      <td>8_CatBoost</td>\n",
              "      <td>[0.4329892924312411, 0.49063796908949664, 0.51...</td>\n",
              "      <td>[0.4593566430413601, 0.4478723861755469, 0.542...</td>\n",
              "    </tr>\n",
              "    <tr>\n",
              "      <th>9</th>\n",
              "      <td>9_MLP</td>\n",
              "      <td>[0.4285098190739281, 0.38119179843973944, 0.51...</td>\n",
              "      <td>[0.3324338860278719, 0.15738012862707415, 0.61...</td>\n",
              "    </tr>\n",
              "  </tbody>\n",
              "</table>\n",
              "</div>"
            ],
            "text/plain": [
              "       model_name  ...                                      predict_train\n",
              "0      0_LightGBM  ...  [0.26684486309110855, 0.195029184038383, 0.441...\n",
              "1    1_KNeighbors  ...  [0.32666666666666666, 0.14666666666666667, 0.4...\n",
              "2     2_LinearSVM  ...  [0.0, 0.0, 1.0, 0.0, 1.0, 1.0, 0.0, 0.0, 1.0, ...\n",
              "3   3_LinearModel  ...  [0.45480057904961524, 0.2951061080952058, 0.84...\n",
              "4           4_SGD  ...  [0.0, 0.0, 1.0, 0.0, 0.0, 1.0, 0.0, 0.0, 1.0, ...\n",
              "5  5_RandomForest  ...  [0.3688333333333334, 0.17307936507936503, 0.52...\n",
              "6    6_ExtraTrees  ...  [0.35953010031099064, 0.20199736495057985, 0.4...\n",
              "7       7_XGBoost  ...  [0.0, 0.0, 1.0, 0.0, 0.0, 0.0, 0.0, 0.0, 0.0, ...\n",
              "8      8_CatBoost  ...  [0.4593566430413601, 0.4478723861755469, 0.542...\n",
              "9           9_MLP  ...  [0.3324338860278719, 0.15738012862707415, 0.61...\n",
              "\n",
              "[10 rows x 3 columns]"
            ]
          },
          "metadata": {
            "tags": []
          },
          "execution_count": 18
        }
      ]
    },
    {
      "cell_type": "code",
      "metadata": {
        "ExecuteTime": {
          "end_time": "2020-05-06T17:01:04.956415Z",
          "start_time": "2020-05-06T17:01:04.950061Z"
        },
        "id": "-5E4Uz0cHrL1",
        "colab_type": "code",
        "colab": {
          "base_uri": "https://localhost:8080/",
          "height": 34
        },
        "outputId": "7413f71b-cb6a-458e-d5b6-43d5274a0099"
      },
      "source": [
        "print('Test AUC: ', round(sklearn.metrics.roc_auc_score(y_test, pd.DataFrame(predicts)['predict_test'].mean()),4))"
      ],
      "execution_count": 21,
      "outputs": [
        {
          "output_type": "stream",
          "text": [
            "Test AUC:  0.7985\n"
          ],
          "name": "stdout"
        }
      ]
    },
    {
      "cell_type": "code",
      "metadata": {
        "id": "ZU2oHBclHrL3",
        "colab_type": "code",
        "colab": {}
      },
      "source": [
        ""
      ],
      "execution_count": 0,
      "outputs": []
    }
  ],
  "metadata": {
    "kernelspec": {
      "name": "python3",
      "display_name": "Python 3"
    },
    "toc": {
      "base_numbering": 1,
      "nav_menu": {},
      "number_sections": false,
      "sideBar": true,
      "skip_h1_title": false,
      "title_cell": "Table of Contents",
      "title_sidebar": "Contents",
      "toc_cell": false,
      "toc_position": {
        "height": "calc(100% - 180px)",
        "left": "10px",
        "top": "150px",
        "width": "165px"
      },
      "toc_section_display": true,
      "toc_window_display": true
    },
    "colab": {
      "name": "04_ModelsReview.ipynb",
      "provenance": [],
      "collapsed_sections": []
    }
  },
  "nbformat": 4,
  "nbformat_minor": 0
}