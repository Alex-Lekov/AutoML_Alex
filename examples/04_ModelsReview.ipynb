{
  "cells": [
    {
      "cell_type": "code",
      "metadata": {
        "ExecuteTime": {
          "end_time": "2020-05-07T01:04:07.223678Z",
          "start_time": "2020-05-07T01:04:07.203114Z"
        },
        "id": "35Z4O1J4HrLG",
        "colab_type": "code",
        "colab": {}
      },
      "source": [
        "# If you run this notebook on Google Colaboratory, uncomment the below to install automl_alex.\n",
        "##!pip install automl-alex"
      ],
      "execution_count": 0,
      "outputs": []
    },
    {
      "cell_type": "code",
      "metadata": {
        "ExecuteTime": {
          "end_time": "2020-05-07T01:05:50.878720Z",
          "start_time": "2020-05-07T01:05:50.874642Z"
        },
        "id": "LUMq_v3aHrLO",
        "colab_type": "code",
        "colab": {}
      },
      "source": [
        "import pandas as pd\n",
        "import sklearn\n",
        "import automl_alex\n",
        "from automl_alex import ModelsReview, ModelsReviewClassifier"
      ],
      "execution_count": 1,
      "outputs": []
    },
    {
      "cell_type": "code",
      "metadata": {
        "ExecuteTime": {
          "end_time": "2020-05-07T01:05:52.046515Z",
          "start_time": "2020-05-07T01:05:52.037648Z"
        },
        "id": "B570gI83HrLW",
        "colab_type": "code",
        "colab": {
          "base_uri": "https://localhost:8080/",
          "height": 34
        },
        "outputId": "9649bb4f-38e6-43cf-abfe-bf94cc288e90",
        "tags": []
      },
      "source": [
        "print(automl_alex.__version__)"
      ],
      "execution_count": 2,
      "outputs": [
        {
          "output_type": "stream",
          "name": "stdout",
          "text": "0.07.17\n"
        }
      ]
    },
    {
      "cell_type": "code",
      "metadata": {
        "ExecuteTime": {
          "end_time": "2020-05-07T01:05:52.553896Z",
          "start_time": "2020-05-07T01:05:52.549132Z"
        },
        "id": "_x57fK3gHrLd",
        "colab_type": "code",
        "colab": {}
      },
      "source": [
        "RANDOM_SEED = 42"
      ],
      "execution_count": 3,
      "outputs": []
    },
    {
      "cell_type": "markdown",
      "metadata": {
        "id": "3JTScDUSHrLi",
        "colab_type": "text"
      },
      "source": [
        "# Classifier"
      ]
    },
    {
      "cell_type": "markdown",
      "metadata": {
        "id": "bfUOOcyiHrLj",
        "colab_type": "text"
      },
      "source": [
        "## Data"
      ]
    },
    {
      "cell_type": "code",
      "metadata": {
        "ExecuteTime": {
          "end_time": "2020-05-07T01:05:54.829381Z",
          "start_time": "2020-05-07T01:05:54.820896Z"
        },
        "id": "08kwyRMAHrLk",
        "colab_type": "code",
        "colab": {
          "base_uri": "https://localhost:8080/",
          "height": 258
        },
        "outputId": "37007c24-8007-4207-f8b1-aa5b4f027698"
      },
      "source": [
        "from sklearn.datasets import fetch_openml\n",
        "from sklearn.model_selection import train_test_split\n",
        "dataset = fetch_openml(name='credit-g', version=1, as_frame=True)\n",
        "dataset.target = dataset.target.astype('category').cat.codes\n",
        "dataset.data.head(5)"
      ],
      "execution_count": 4,
      "outputs": [
        {
          "output_type": "execute_result",
          "data": {
            "text/plain": "  checking_status  duration                  credit_history  \\\n0              <0       6.0  critical/other existing credit   \n1        0<=X<200      48.0                   existing paid   \n2     no checking      12.0  critical/other existing credit   \n3              <0      42.0                   existing paid   \n4              <0      24.0              delayed previously   \n\n               purpose  credit_amount    savings_status employment  \\\n0             radio/tv         1169.0  no known savings        >=7   \n1             radio/tv         5951.0              <100     1<=X<4   \n2            education         2096.0              <100     4<=X<7   \n3  furniture/equipment         7882.0              <100     4<=X<7   \n4              new car         4870.0              <100     1<=X<4   \n\n   installment_commitment     personal_status other_parties  residence_since  \\\n0                     4.0         male single          none              4.0   \n1                     2.0  female div/dep/mar          none              2.0   \n2                     2.0         male single          none              3.0   \n3                     2.0         male single     guarantor              4.0   \n4                     3.0         male single          none              4.0   \n\n  property_magnitude   age other_payment_plans   housing  existing_credits  \\\n0        real estate  67.0                none       own               2.0   \n1        real estate  22.0                none       own               1.0   \n2        real estate  49.0                none       own               1.0   \n3     life insurance  45.0                none  for free               1.0   \n4  no known property  53.0                none  for free               2.0   \n\n                  job  num_dependents own_telephone foreign_worker  \n0             skilled             1.0           yes            yes  \n1             skilled             1.0          none            yes  \n2  unskilled resident             2.0          none            yes  \n3             skilled             2.0          none            yes  \n4             skilled             2.0          none            yes  ",
            "text/html": "<div>\n<style scoped>\n    .dataframe tbody tr th:only-of-type {\n        vertical-align: middle;\n    }\n\n    .dataframe tbody tr th {\n        vertical-align: top;\n    }\n\n    .dataframe thead th {\n        text-align: right;\n    }\n</style>\n<table border=\"1\" class=\"dataframe\">\n  <thead>\n    <tr style=\"text-align: right;\">\n      <th></th>\n      <th>checking_status</th>\n      <th>duration</th>\n      <th>credit_history</th>\n      <th>purpose</th>\n      <th>credit_amount</th>\n      <th>savings_status</th>\n      <th>employment</th>\n      <th>installment_commitment</th>\n      <th>personal_status</th>\n      <th>other_parties</th>\n      <th>residence_since</th>\n      <th>property_magnitude</th>\n      <th>age</th>\n      <th>other_payment_plans</th>\n      <th>housing</th>\n      <th>existing_credits</th>\n      <th>job</th>\n      <th>num_dependents</th>\n      <th>own_telephone</th>\n      <th>foreign_worker</th>\n    </tr>\n  </thead>\n  <tbody>\n    <tr>\n      <th>0</th>\n      <td>&lt;0</td>\n      <td>6.0</td>\n      <td>critical/other existing credit</td>\n      <td>radio/tv</td>\n      <td>1169.0</td>\n      <td>no known savings</td>\n      <td>&gt;=7</td>\n      <td>4.0</td>\n      <td>male single</td>\n      <td>none</td>\n      <td>4.0</td>\n      <td>real estate</td>\n      <td>67.0</td>\n      <td>none</td>\n      <td>own</td>\n      <td>2.0</td>\n      <td>skilled</td>\n      <td>1.0</td>\n      <td>yes</td>\n      <td>yes</td>\n    </tr>\n    <tr>\n      <th>1</th>\n      <td>0&lt;=X&lt;200</td>\n      <td>48.0</td>\n      <td>existing paid</td>\n      <td>radio/tv</td>\n      <td>5951.0</td>\n      <td>&lt;100</td>\n      <td>1&lt;=X&lt;4</td>\n      <td>2.0</td>\n      <td>female div/dep/mar</td>\n      <td>none</td>\n      <td>2.0</td>\n      <td>real estate</td>\n      <td>22.0</td>\n      <td>none</td>\n      <td>own</td>\n      <td>1.0</td>\n      <td>skilled</td>\n      <td>1.0</td>\n      <td>none</td>\n      <td>yes</td>\n    </tr>\n    <tr>\n      <th>2</th>\n      <td>no checking</td>\n      <td>12.0</td>\n      <td>critical/other existing credit</td>\n      <td>education</td>\n      <td>2096.0</td>\n      <td>&lt;100</td>\n      <td>4&lt;=X&lt;7</td>\n      <td>2.0</td>\n      <td>male single</td>\n      <td>none</td>\n      <td>3.0</td>\n      <td>real estate</td>\n      <td>49.0</td>\n      <td>none</td>\n      <td>own</td>\n      <td>1.0</td>\n      <td>unskilled resident</td>\n      <td>2.0</td>\n      <td>none</td>\n      <td>yes</td>\n    </tr>\n    <tr>\n      <th>3</th>\n      <td>&lt;0</td>\n      <td>42.0</td>\n      <td>existing paid</td>\n      <td>furniture/equipment</td>\n      <td>7882.0</td>\n      <td>&lt;100</td>\n      <td>4&lt;=X&lt;7</td>\n      <td>2.0</td>\n      <td>male single</td>\n      <td>guarantor</td>\n      <td>4.0</td>\n      <td>life insurance</td>\n      <td>45.0</td>\n      <td>none</td>\n      <td>for free</td>\n      <td>1.0</td>\n      <td>skilled</td>\n      <td>2.0</td>\n      <td>none</td>\n      <td>yes</td>\n    </tr>\n    <tr>\n      <th>4</th>\n      <td>&lt;0</td>\n      <td>24.0</td>\n      <td>delayed previously</td>\n      <td>new car</td>\n      <td>4870.0</td>\n      <td>&lt;100</td>\n      <td>1&lt;=X&lt;4</td>\n      <td>3.0</td>\n      <td>male single</td>\n      <td>none</td>\n      <td>4.0</td>\n      <td>no known property</td>\n      <td>53.0</td>\n      <td>none</td>\n      <td>for free</td>\n      <td>2.0</td>\n      <td>skilled</td>\n      <td>2.0</td>\n      <td>none</td>\n      <td>yes</td>\n    </tr>\n  </tbody>\n</table>\n</div>"
          },
          "metadata": {},
          "execution_count": 4
        }
      ]
    },
    {
      "cell_type": "code",
      "metadata": {
        "ExecuteTime": {
          "end_time": "2020-05-07T01:05:56.756465Z",
          "start_time": "2020-05-07T01:05:56.734220Z"
        },
        "id": "VMHXspocHrLu",
        "colab_type": "code",
        "colab": {
          "base_uri": "https://localhost:8080/",
          "height": 34
        },
        "outputId": "3b61d379-2be4-47de-ec88-92f5f645b181"
      },
      "source": [
        "X_train, X_test, y_train, y_test = train_test_split(dataset.data, \n",
        "                                                    dataset.target,\n",
        "                                                    test_size=0.25, \n",
        "                                                    random_state=RANDOM_SEED,)\n",
        "X_train.shape, X_test.shape"
      ],
      "execution_count": 5,
      "outputs": [
        {
          "output_type": "execute_result",
          "data": {
            "text/plain": "((750, 20), (250, 20))"
          },
          "metadata": {},
          "execution_count": 5
        }
      ]
    },
    {
      "cell_type": "markdown",
      "metadata": {
        "id": "Nv22CQlxHrLw",
        "colab_type": "text"
      },
      "source": [
        "## Model"
      ]
    },
    {
      "cell_type": "code",
      "metadata": {
        "ExecuteTime": {
          "end_time": "2020-05-07T01:05:59.848085Z",
          "start_time": "2020-05-07T01:05:59.337884Z"
        },
        "id": "QNuj6yuOHrLw",
        "colab_type": "code",
        "colab": {},
        "tags": []
      },
      "source": [
        "model = ModelsReview(X_train, y_train, X_test, type_of_estimator='classifier', random_state=RANDOM_SEED)\n",
        "\n",
        "# or Simply\n",
        "model = ModelsReviewClassifier(X_train, y_train, X_test, random_state=RANDOM_SEED)"
      ],
      "execution_count": 6,
      "outputs": []
    },
    {
      "cell_type": "code",
      "execution_count": 7,
      "metadata": {
        "tags": []
      },
      "outputs": [
        {
          "output_type": "stream",
          "name": "stderr",
          "text": "10%|█         | 1/10 [00:03<00:31,  3.50s/it]\n Mean Score roc_auc_score on 10 Folds: 0.7513 std: 0.050257\n 20%|██        | 2/10 [00:03<00:20,  2.56s/it]\n Mean Score roc_auc_score on 10 Folds: 0.6947 std: 0.069592\n 30%|███       | 3/10 [00:06<00:18,  2.65s/it]\n Mean Score roc_auc_score on 10 Folds: 0.6663 std: 0.038932\n 40%|████      | 4/10 [00:07<00:12,  2.14s/it]\n Mean Score roc_auc_score on 10 Folds: 0.7541 std: 0.050257\n 50%|█████     | 5/10 [00:08<00:08,  1.66s/it]\n Mean Score roc_auc_score on 10 Folds: 0.6055 std: 0.046167\n 60%|██████    | 6/10 [00:12<00:09,  2.31s/it]\n Mean Score roc_auc_score on 10 Folds: 0.7785 std: 0.048161\n 70%|███████   | 7/10 [00:14<00:07,  2.44s/it]\n Mean Score roc_auc_score on 10 Folds: 0.763 std: 0.051063\n 80%|████████  | 8/10 [00:18<00:05,  2.88s/it]\n Mean Score roc_auc_score on 10 Folds: 0.6648 std: 0.052364\n 90%|█████████ | 9/10 [00:23<00:03,  3.59s/it]\n Mean Score roc_auc_score on 10 Folds: 0.8063 std: 0.044474\n100%|██████████| 10/10 [00:27<00:00,  2.73s/it]\n Mean Score roc_auc_score on 10 Folds: 0.7497 std: 0.059307\n\n"
        },
        {
          "output_type": "execute_result",
          "data": {
            "text/plain": "   score_opt  model_score  score_std    model_name  \\\n0   0.701043       0.7513   0.050257      LightGBM   \n1   0.625108       0.6947   0.069592    KNeighbors   \n2   0.627368       0.6663   0.038932     LinearSVM   \n3   0.703843       0.7541   0.050257   LinearModel   \n4   0.559333       0.6055   0.046167           SGD   \n5   0.730339       0.7785   0.048161  RandomForest   \n6   0.711937       0.7630   0.051063    ExtraTrees   \n7   0.612436       0.6648   0.052364       XGBoost   \n8   0.761826       0.8063   0.044474      CatBoost   \n9   0.690393       0.7497   0.059307           MLP   \n\n                                         model_param  \\\n0  {'random_seed': 42, 'early_stopping_rounds': 5...   \n1                                     {'n_jobs': -1}   \n2                 {'verbose': 0, 'random_state': 42}   \n3                                     {'verbose': 0}   \n4  {'max_iter': 5000, 'verbose': 0, 'fit_intercep...   \n5   {'verbose': 0, 'random_state': 42, 'n_jobs': -1}   \n6   {'verbose': 0, 'random_state': 42, 'n_jobs': -1}   \n7  {'verbosity': 0, 'early_stopping_rounds': 100,...   \n8  {'verbose': 0, 'early_stopping_rounds': 50, 't...   \n9  {'verbose': 0, 'random_state': 42, 'max_iter':...   \n\n              wrapper_params  \\\n0  {'early_stopping': False}   \n1                         {}   \n2                         {}   \n3                         {}   \n4                         {}   \n5                         {}   \n6                         {}   \n7  {'early_stopping': False}   \n8   {'early_stopping': True}   \n9                         {}   \n\n                                         cat_encoder  \\\n0  [OneHotEncoder, HelmertEncoder, HashingEncoder...   \n1  [OneHotEncoder, HelmertEncoder, HashingEncoder...   \n2  [OneHotEncoder, HelmertEncoder, HashingEncoder...   \n3  [OneHotEncoder, HelmertEncoder, HashingEncoder...   \n4  [OneHotEncoder, HelmertEncoder, HashingEncoder...   \n5  [OneHotEncoder, HelmertEncoder, HashingEncoder...   \n6  [OneHotEncoder, HelmertEncoder, HashingEncoder...   \n7  [OneHotEncoder, HelmertEncoder, HashingEncoder...   \n8  [OneHotEncoder, HelmertEncoder, HashingEncoder...   \n9  [OneHotEncoder, HelmertEncoder, HashingEncoder...   \n\n                                             columns  cv_folds  \n0  [duration, credit_amount, age, num_dependents,...        10  \n1  [duration, credit_amount, age, num_dependents,...        10  \n2  [duration, credit_amount, age, num_dependents,...        10  \n3  [duration, credit_amount, age, num_dependents,...        10  \n4  [duration, credit_amount, age, num_dependents,...        10  \n5  [duration, credit_amount, age, num_dependents,...        10  \n6  [duration, credit_amount, age, num_dependents,...        10  \n7  [duration, credit_amount, age, num_dependents,...        10  \n8  [duration, credit_amount, age, num_dependents,...        10  \n9  [duration, credit_amount, age, num_dependents,...        10  ",
            "text/html": "<div>\n<style scoped>\n    .dataframe tbody tr th:only-of-type {\n        vertical-align: middle;\n    }\n\n    .dataframe tbody tr th {\n        vertical-align: top;\n    }\n\n    .dataframe thead th {\n        text-align: right;\n    }\n</style>\n<table border=\"1\" class=\"dataframe\">\n  <thead>\n    <tr style=\"text-align: right;\">\n      <th></th>\n      <th>score_opt</th>\n      <th>model_score</th>\n      <th>score_std</th>\n      <th>model_name</th>\n      <th>model_param</th>\n      <th>wrapper_params</th>\n      <th>cat_encoder</th>\n      <th>columns</th>\n      <th>cv_folds</th>\n    </tr>\n  </thead>\n  <tbody>\n    <tr>\n      <th>0</th>\n      <td>0.701043</td>\n      <td>0.7513</td>\n      <td>0.050257</td>\n      <td>LightGBM</td>\n      <td>{'random_seed': 42, 'early_stopping_rounds': 5...</td>\n      <td>{'early_stopping': False}</td>\n      <td>[OneHotEncoder, HelmertEncoder, HashingEncoder...</td>\n      <td>[duration, credit_amount, age, num_dependents,...</td>\n      <td>10</td>\n    </tr>\n    <tr>\n      <th>1</th>\n      <td>0.625108</td>\n      <td>0.6947</td>\n      <td>0.069592</td>\n      <td>KNeighbors</td>\n      <td>{'n_jobs': -1}</td>\n      <td>{}</td>\n      <td>[OneHotEncoder, HelmertEncoder, HashingEncoder...</td>\n      <td>[duration, credit_amount, age, num_dependents,...</td>\n      <td>10</td>\n    </tr>\n    <tr>\n      <th>2</th>\n      <td>0.627368</td>\n      <td>0.6663</td>\n      <td>0.038932</td>\n      <td>LinearSVM</td>\n      <td>{'verbose': 0, 'random_state': 42}</td>\n      <td>{}</td>\n      <td>[OneHotEncoder, HelmertEncoder, HashingEncoder...</td>\n      <td>[duration, credit_amount, age, num_dependents,...</td>\n      <td>10</td>\n    </tr>\n    <tr>\n      <th>3</th>\n      <td>0.703843</td>\n      <td>0.7541</td>\n      <td>0.050257</td>\n      <td>LinearModel</td>\n      <td>{'verbose': 0}</td>\n      <td>{}</td>\n      <td>[OneHotEncoder, HelmertEncoder, HashingEncoder...</td>\n      <td>[duration, credit_amount, age, num_dependents,...</td>\n      <td>10</td>\n    </tr>\n    <tr>\n      <th>4</th>\n      <td>0.559333</td>\n      <td>0.6055</td>\n      <td>0.046167</td>\n      <td>SGD</td>\n      <td>{'max_iter': 5000, 'verbose': 0, 'fit_intercep...</td>\n      <td>{}</td>\n      <td>[OneHotEncoder, HelmertEncoder, HashingEncoder...</td>\n      <td>[duration, credit_amount, age, num_dependents,...</td>\n      <td>10</td>\n    </tr>\n    <tr>\n      <th>5</th>\n      <td>0.730339</td>\n      <td>0.7785</td>\n      <td>0.048161</td>\n      <td>RandomForest</td>\n      <td>{'verbose': 0, 'random_state': 42, 'n_jobs': -1}</td>\n      <td>{}</td>\n      <td>[OneHotEncoder, HelmertEncoder, HashingEncoder...</td>\n      <td>[duration, credit_amount, age, num_dependents,...</td>\n      <td>10</td>\n    </tr>\n    <tr>\n      <th>6</th>\n      <td>0.711937</td>\n      <td>0.7630</td>\n      <td>0.051063</td>\n      <td>ExtraTrees</td>\n      <td>{'verbose': 0, 'random_state': 42, 'n_jobs': -1}</td>\n      <td>{}</td>\n      <td>[OneHotEncoder, HelmertEncoder, HashingEncoder...</td>\n      <td>[duration, credit_amount, age, num_dependents,...</td>\n      <td>10</td>\n    </tr>\n    <tr>\n      <th>7</th>\n      <td>0.612436</td>\n      <td>0.6648</td>\n      <td>0.052364</td>\n      <td>XGBoost</td>\n      <td>{'verbosity': 0, 'early_stopping_rounds': 100,...</td>\n      <td>{'early_stopping': False}</td>\n      <td>[OneHotEncoder, HelmertEncoder, HashingEncoder...</td>\n      <td>[duration, credit_amount, age, num_dependents,...</td>\n      <td>10</td>\n    </tr>\n    <tr>\n      <th>8</th>\n      <td>0.761826</td>\n      <td>0.8063</td>\n      <td>0.044474</td>\n      <td>CatBoost</td>\n      <td>{'verbose': 0, 'early_stopping_rounds': 50, 't...</td>\n      <td>{'early_stopping': True}</td>\n      <td>[OneHotEncoder, HelmertEncoder, HashingEncoder...</td>\n      <td>[duration, credit_amount, age, num_dependents,...</td>\n      <td>10</td>\n    </tr>\n    <tr>\n      <th>9</th>\n      <td>0.690393</td>\n      <td>0.7497</td>\n      <td>0.059307</td>\n      <td>MLP</td>\n      <td>{'verbose': 0, 'random_state': 42, 'max_iter':...</td>\n      <td>{}</td>\n      <td>[OneHotEncoder, HelmertEncoder, HashingEncoder...</td>\n      <td>[duration, credit_amount, age, num_dependents,...</td>\n      <td>10</td>\n    </tr>\n  </tbody>\n</table>\n</div>"
          },
          "metadata": {},
          "execution_count": 7
        }
      ],
      "source": [
        "# let's see what the results are for all available models with default settings\n",
        "review = model.fit()\n",
        "review"
      ]
    },
    {
      "cell_type": "code",
      "metadata": {
        "ExecuteTime": {
          "end_time": "2020-05-06T17:01:04.947762Z",
          "start_time": "2020-05-06T16:47:23.396089Z"
        },
        "id": "b2FfF7WYHrLy",
        "colab_type": "code",
        "colab": {
          "base_uri": "https://localhost:8080/",
          "height": 34
        },
        "outputId": "ed480a4c-c763-46d2-dd8d-f18e396241ec",
        "tags": []
      },
      "source": [
        "# let's optimize all the models and see what the result will be (it takes a lot of time)\n",
        "review = model.opt(timeout=1000, verbose=1)"
      ],
      "execution_count": 8,
      "outputs": [
        {
          "output_type": "stream",
          "name": "stderr",
          "text": "10%|█         | 1/10 [01:43<15:34, 103.83s/it]\n LightGBM  Best Score:  0.7907\n 20%|██        | 2/10 [02:31<11:36, 87.05s/it]\n KNeighbors  Best Score:  0.8105\n 30%|███       | 3/10 [04:18<10:51, 93.07s/it]\n LinearSVM  Best Score:  0.7025\n 40%|████      | 4/10 [06:39<10:44, 107.34s/it]\n LinearModel  Best Score:  0.7527\n 50%|█████     | 5/10 [07:32<07:34, 90.96s/it]\n SGD  Best Score:  0.7279\n 60%|██████    | 6/10 [11:16<08:43, 130.92s/it]\n RandomForest  Best Score:  0.8036\n 70%|███████   | 7/10 [15:40<08:32, 170.84s/it]\n ExtraTrees  Best Score:  0.8035\n 80%|████████  | 8/10 [21:06<07:14, 217.34s/it]\n XGBoost  Best Score:  0.7136\n 90%|█████████ | 9/10 [26:58<04:17, 257.74s/it]\n CatBoost  Best Score:  0.8041\n100%|██████████| 10/10 [31:20<00:00, 188.03s/it]\n MLP  Best Score:  0.7854\n\n"
        }
      ]
    },
    {
      "cell_type": "code",
      "metadata": {
        "ExecuteTime": {
          "end_time": "2020-05-07T01:11:28.827682Z",
          "start_time": "2020-05-07T01:11:28.808642Z"
        },
        "id": "X2ye5d0WHrL0",
        "colab_type": "code",
        "colab": {
          "base_uri": "https://localhost:8080/",
          "height": 359
        },
        "outputId": "11d1161f-7547-4927-a63a-cf6aa045bc24"
      },
      "source": [
        "model.top1_models_cfgs"
      ],
      "execution_count": 9,
      "outputs": [
        {
          "output_type": "execute_result",
          "data": {
            "text/plain": "   score_opt  model_score  score_std    model_name  \\\n0     0.7502       0.7907   0.040533      LightGBM   \n1     0.7629       0.8105   0.047637    KNeighbors   \n2     0.6894       0.7025   0.013116     LinearSVM   \n3     0.7058       0.7527   0.046933   LinearModel   \n4     0.6712       0.7279   0.056703           SGD   \n5     0.7540       0.8036   0.049615  RandomForest   \n6     0.7576       0.8035   0.045896    ExtraTrees   \n7     0.6724       0.7136   0.041203       XGBoost   \n8     0.7932       0.8041   0.010855      CatBoost   \n9     0.7402       0.7854   0.045211           MLP   \n\n                                         model_param  \\\n0  {'random_seed': 42, 'early_stopping_rounds': 5...   \n1  {'n_jobs': -1, 'n_neighbors': 29, 'weights': '...   \n2  {'verbose': 0, 'random_state': 42, 'tol': 0.00...   \n3  {'verbose': 0, 'fit_intercept': False, 'C': 88...   \n4  {'max_iter': 5000, 'verbose': 0, 'fit_intercep...   \n5  {'verbose': 0, 'random_state': 42, 'n_jobs': -...   \n6  {'verbose': 0, 'random_state': 42, 'n_jobs': -...   \n7  {'verbosity': 0, 'early_stopping_rounds': 0, '...   \n8  {'verbose': 0, 'early_stopping_rounds': 50, 't...   \n9  {'verbose': 0, 'random_state': 42, 'max_iter':...   \n\n              wrapper_params  \\\n0  {'early_stopping': False}   \n1                         {}   \n2                         {}   \n3                         {}   \n4                         {}   \n5                         {}   \n6                         {}   \n7  {'early_stopping': False}   \n8   {'early_stopping': True}   \n9                         {}   \n\n                                        cat_encoders  \\\n0  [OneHotEncoder, HelmertEncoder, HashingEncoder...   \n1  [OneHotEncoder, HelmertEncoder, HashingEncoder...   \n2  [OneHotEncoder, HelmertEncoder, HashingEncoder...   \n3  [OneHotEncoder, HelmertEncoder, HashingEncoder...   \n4  [OneHotEncoder, HelmertEncoder, HashingEncoder...   \n5  [OneHotEncoder, HelmertEncoder, HashingEncoder...   \n6  [OneHotEncoder, HelmertEncoder, HashingEncoder...   \n7  [OneHotEncoder, HelmertEncoder, HashingEncoder...   \n8  [OneHotEncoder, HelmertEncoder, HashingEncoder...   \n9  [OneHotEncoder, HelmertEncoder, HashingEncoder...   \n\n                                             columns  cv_folds  \n0  [duration, credit_amount, age, OneHotEncoder_p...        10  \n1  [duration, credit_amount, num_dependents, OneH...        10  \n2  [age, num_dependents, OneHotEncoder_property_m...        10  \n3  [age, OneHotEncoder_property_magnitude_4, OneH...        10  \n4  [age, OneHotEncoder_property_magnitude_1, OneH...        10  \n5  [duration, age, num_dependents, OneHotEncoder_...        10  \n6  [duration, age, num_dependents, OneHotEncoder_...        10  \n7  [duration, age, OneHotEncoder_property_magnitu...        10  \n8  [duration, num_dependents, OneHotEncoder_prope...        10  \n9  [age, OneHotEncoder_property_magnitude_1, OneH...        10  ",
            "text/html": "<div>\n<style scoped>\n    .dataframe tbody tr th:only-of-type {\n        vertical-align: middle;\n    }\n\n    .dataframe tbody tr th {\n        vertical-align: top;\n    }\n\n    .dataframe thead th {\n        text-align: right;\n    }\n</style>\n<table border=\"1\" class=\"dataframe\">\n  <thead>\n    <tr style=\"text-align: right;\">\n      <th></th>\n      <th>score_opt</th>\n      <th>model_score</th>\n      <th>score_std</th>\n      <th>model_name</th>\n      <th>model_param</th>\n      <th>wrapper_params</th>\n      <th>cat_encoders</th>\n      <th>columns</th>\n      <th>cv_folds</th>\n    </tr>\n  </thead>\n  <tbody>\n    <tr>\n      <th>0</th>\n      <td>0.7502</td>\n      <td>0.7907</td>\n      <td>0.040533</td>\n      <td>LightGBM</td>\n      <td>{'random_seed': 42, 'early_stopping_rounds': 5...</td>\n      <td>{'early_stopping': False}</td>\n      <td>[OneHotEncoder, HelmertEncoder, HashingEncoder...</td>\n      <td>[duration, credit_amount, age, OneHotEncoder_p...</td>\n      <td>10</td>\n    </tr>\n    <tr>\n      <th>1</th>\n      <td>0.7629</td>\n      <td>0.8105</td>\n      <td>0.047637</td>\n      <td>KNeighbors</td>\n      <td>{'n_jobs': -1, 'n_neighbors': 29, 'weights': '...</td>\n      <td>{}</td>\n      <td>[OneHotEncoder, HelmertEncoder, HashingEncoder...</td>\n      <td>[duration, credit_amount, num_dependents, OneH...</td>\n      <td>10</td>\n    </tr>\n    <tr>\n      <th>2</th>\n      <td>0.6894</td>\n      <td>0.7025</td>\n      <td>0.013116</td>\n      <td>LinearSVM</td>\n      <td>{'verbose': 0, 'random_state': 42, 'tol': 0.00...</td>\n      <td>{}</td>\n      <td>[OneHotEncoder, HelmertEncoder, HashingEncoder...</td>\n      <td>[age, num_dependents, OneHotEncoder_property_m...</td>\n      <td>10</td>\n    </tr>\n    <tr>\n      <th>3</th>\n      <td>0.7058</td>\n      <td>0.7527</td>\n      <td>0.046933</td>\n      <td>LinearModel</td>\n      <td>{'verbose': 0, 'fit_intercept': False, 'C': 88...</td>\n      <td>{}</td>\n      <td>[OneHotEncoder, HelmertEncoder, HashingEncoder...</td>\n      <td>[age, OneHotEncoder_property_magnitude_4, OneH...</td>\n      <td>10</td>\n    </tr>\n    <tr>\n      <th>4</th>\n      <td>0.6712</td>\n      <td>0.7279</td>\n      <td>0.056703</td>\n      <td>SGD</td>\n      <td>{'max_iter': 5000, 'verbose': 0, 'fit_intercep...</td>\n      <td>{}</td>\n      <td>[OneHotEncoder, HelmertEncoder, HashingEncoder...</td>\n      <td>[age, OneHotEncoder_property_magnitude_1, OneH...</td>\n      <td>10</td>\n    </tr>\n    <tr>\n      <th>5</th>\n      <td>0.7540</td>\n      <td>0.8036</td>\n      <td>0.049615</td>\n      <td>RandomForest</td>\n      <td>{'verbose': 0, 'random_state': 42, 'n_jobs': -...</td>\n      <td>{}</td>\n      <td>[OneHotEncoder, HelmertEncoder, HashingEncoder...</td>\n      <td>[duration, age, num_dependents, OneHotEncoder_...</td>\n      <td>10</td>\n    </tr>\n    <tr>\n      <th>6</th>\n      <td>0.7576</td>\n      <td>0.8035</td>\n      <td>0.045896</td>\n      <td>ExtraTrees</td>\n      <td>{'verbose': 0, 'random_state': 42, 'n_jobs': -...</td>\n      <td>{}</td>\n      <td>[OneHotEncoder, HelmertEncoder, HashingEncoder...</td>\n      <td>[duration, age, num_dependents, OneHotEncoder_...</td>\n      <td>10</td>\n    </tr>\n    <tr>\n      <th>7</th>\n      <td>0.6724</td>\n      <td>0.7136</td>\n      <td>0.041203</td>\n      <td>XGBoost</td>\n      <td>{'verbosity': 0, 'early_stopping_rounds': 0, '...</td>\n      <td>{'early_stopping': False}</td>\n      <td>[OneHotEncoder, HelmertEncoder, HashingEncoder...</td>\n      <td>[duration, age, OneHotEncoder_property_magnitu...</td>\n      <td>10</td>\n    </tr>\n    <tr>\n      <th>8</th>\n      <td>0.7932</td>\n      <td>0.8041</td>\n      <td>0.010855</td>\n      <td>CatBoost</td>\n      <td>{'verbose': 0, 'early_stopping_rounds': 50, 't...</td>\n      <td>{'early_stopping': True}</td>\n      <td>[OneHotEncoder, HelmertEncoder, HashingEncoder...</td>\n      <td>[duration, num_dependents, OneHotEncoder_prope...</td>\n      <td>10</td>\n    </tr>\n    <tr>\n      <th>9</th>\n      <td>0.7402</td>\n      <td>0.7854</td>\n      <td>0.045211</td>\n      <td>MLP</td>\n      <td>{'verbose': 0, 'random_state': 42, 'max_iter':...</td>\n      <td>{}</td>\n      <td>[OneHotEncoder, HelmertEncoder, HashingEncoder...</td>\n      <td>[age, OneHotEncoder_property_magnitude_1, OneH...</td>\n      <td>10</td>\n    </tr>\n  </tbody>\n</table>\n</div>"
          },
          "metadata": {},
          "execution_count": 9
        }
      ]
    },
    {
      "cell_type": "code",
      "metadata": {
        "id": "ZU2oHBclHrL3",
        "colab_type": "code",
        "colab": {}
      },
      "source": [
        ""
      ],
      "execution_count": 0,
      "outputs": []
    }
  ],
  "metadata": {
    "kernelspec": {
      "name": "python38364bitdscondadc8f49c0681c4f8d9aaeec09a1cf65fe",
      "display_name": "Python 3.8.3 64-bit ('ds': conda)"
    },
    "toc": {
      "base_numbering": 1,
      "nav_menu": {},
      "number_sections": false,
      "sideBar": true,
      "skip_h1_title": false,
      "title_cell": "Table of Contents",
      "title_sidebar": "Contents",
      "toc_cell": false,
      "toc_position": {
        "height": "calc(100% - 180px)",
        "left": "10px",
        "top": "150px",
        "width": "165px"
      },
      "toc_section_display": true,
      "toc_window_display": true
    },
    "colab": {
      "name": "04_ModelsReview.ipynb",
      "provenance": [],
      "collapsed_sections": []
    }
  },
  "nbformat": 4,
  "nbformat_minor": 0
}