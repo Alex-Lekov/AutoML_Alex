{
  "cells": [
    {
      "cell_type": "code",
      "metadata": {
        "ExecuteTime": {
          "end_time": "2020-05-07T01:04:07.223678Z",
          "start_time": "2020-05-07T01:04:07.203114Z"
        },
        "id": "35Z4O1J4HrLG",
        "colab_type": "code",
        "colab": {}
      },
      "source": [
        "# If you run this notebook on Google Colaboratory, uncomment the below to install automl_alex.\n",
        "##!pip install automl-alex"
      ],
      "execution_count": 0,
      "outputs": []
    },
    {
      "cell_type": "code",
      "metadata": {
        "ExecuteTime": {
          "end_time": "2020-05-07T01:05:50.878720Z",
          "start_time": "2020-05-07T01:05:50.874642Z"
        },
        "id": "LUMq_v3aHrLO",
        "colab_type": "code",
        "colab": {}
      },
      "source": [
        "import pandas as pd\n",
        "import sklearn\n",
        "import automl_alex\n",
        "from automl_alex import ModelsReview, ModelsReviewClassifier"
      ],
      "execution_count": 1,
      "outputs": []
    },
    {
      "cell_type": "code",
      "metadata": {
        "ExecuteTime": {
          "end_time": "2020-05-07T01:05:52.046515Z",
          "start_time": "2020-05-07T01:05:52.037648Z"
        },
        "id": "B570gI83HrLW",
        "colab_type": "code",
        "colab": {
          "base_uri": "https://localhost:8080/",
          "height": 34
        },
        "outputId": "9649bb4f-38e6-43cf-abfe-bf94cc288e90"
      },
      "source": [
        "print(automl_alex.__version__)"
      ],
      "execution_count": 2,
      "outputs": [
        {
          "output_type": "stream",
          "name": "stdout",
          "text": "0.05.15\n"
        }
      ]
    },
    {
      "cell_type": "code",
      "metadata": {
        "ExecuteTime": {
          "end_time": "2020-05-07T01:05:52.553896Z",
          "start_time": "2020-05-07T01:05:52.549132Z"
        },
        "id": "_x57fK3gHrLd",
        "colab_type": "code",
        "colab": {}
      },
      "source": [
        "RANDOM_SEED = 42"
      ],
      "execution_count": 3,
      "outputs": []
    },
    {
      "cell_type": "markdown",
      "metadata": {
        "id": "3JTScDUSHrLi",
        "colab_type": "text"
      },
      "source": [
        "# Classifier"
      ]
    },
    {
      "cell_type": "markdown",
      "metadata": {
        "id": "bfUOOcyiHrLj",
        "colab_type": "text"
      },
      "source": [
        "## Data"
      ]
    },
    {
      "cell_type": "code",
      "metadata": {
        "ExecuteTime": {
          "end_time": "2020-05-07T01:05:54.829381Z",
          "start_time": "2020-05-07T01:05:54.820896Z"
        },
        "id": "08kwyRMAHrLk",
        "colab_type": "code",
        "colab": {
          "base_uri": "https://localhost:8080/",
          "height": 258
        },
        "outputId": "37007c24-8007-4207-f8b1-aa5b4f027698"
      },
      "source": [
        "from sklearn.datasets import fetch_openml\n",
        "from sklearn.model_selection import train_test_split\n",
        "dataset = fetch_openml(name='credit-g', version=1, as_frame=True)\n",
        "dataset.target = dataset.target.astype('category').cat.codes\n",
        "dataset.data.head(5)"
      ],
      "execution_count": 4,
      "outputs": [
        {
          "output_type": "execute_result",
          "data": {
            "text/plain": "  checking_status  duration                  credit_history  \\\n0              <0       6.0  critical/other existing credit   \n1        0<=X<200      48.0                   existing paid   \n2     no checking      12.0  critical/other existing credit   \n3              <0      42.0                   existing paid   \n4              <0      24.0              delayed previously   \n\n               purpose  credit_amount    savings_status employment  \\\n0             radio/tv         1169.0  no known savings        >=7   \n1             radio/tv         5951.0              <100     1<=X<4   \n2            education         2096.0              <100     4<=X<7   \n3  furniture/equipment         7882.0              <100     4<=X<7   \n4              new car         4870.0              <100     1<=X<4   \n\n   installment_commitment     personal_status other_parties  residence_since  \\\n0                     4.0         male single          none              4.0   \n1                     2.0  female div/dep/mar          none              2.0   \n2                     2.0         male single          none              3.0   \n3                     2.0         male single     guarantor              4.0   \n4                     3.0         male single          none              4.0   \n\n  property_magnitude   age other_payment_plans   housing  existing_credits  \\\n0        real estate  67.0                none       own               2.0   \n1        real estate  22.0                none       own               1.0   \n2        real estate  49.0                none       own               1.0   \n3     life insurance  45.0                none  for free               1.0   \n4  no known property  53.0                none  for free               2.0   \n\n                  job  num_dependents own_telephone foreign_worker  \n0             skilled             1.0           yes            yes  \n1             skilled             1.0          none            yes  \n2  unskilled resident             2.0          none            yes  \n3             skilled             2.0          none            yes  \n4             skilled             2.0          none            yes  ",
            "text/html": "<div>\n<style scoped>\n    .dataframe tbody tr th:only-of-type {\n        vertical-align: middle;\n    }\n\n    .dataframe tbody tr th {\n        vertical-align: top;\n    }\n\n    .dataframe thead th {\n        text-align: right;\n    }\n</style>\n<table border=\"1\" class=\"dataframe\">\n  <thead>\n    <tr style=\"text-align: right;\">\n      <th></th>\n      <th>checking_status</th>\n      <th>duration</th>\n      <th>credit_history</th>\n      <th>purpose</th>\n      <th>credit_amount</th>\n      <th>savings_status</th>\n      <th>employment</th>\n      <th>installment_commitment</th>\n      <th>personal_status</th>\n      <th>other_parties</th>\n      <th>residence_since</th>\n      <th>property_magnitude</th>\n      <th>age</th>\n      <th>other_payment_plans</th>\n      <th>housing</th>\n      <th>existing_credits</th>\n      <th>job</th>\n      <th>num_dependents</th>\n      <th>own_telephone</th>\n      <th>foreign_worker</th>\n    </tr>\n  </thead>\n  <tbody>\n    <tr>\n      <th>0</th>\n      <td>&lt;0</td>\n      <td>6.0</td>\n      <td>critical/other existing credit</td>\n      <td>radio/tv</td>\n      <td>1169.0</td>\n      <td>no known savings</td>\n      <td>&gt;=7</td>\n      <td>4.0</td>\n      <td>male single</td>\n      <td>none</td>\n      <td>4.0</td>\n      <td>real estate</td>\n      <td>67.0</td>\n      <td>none</td>\n      <td>own</td>\n      <td>2.0</td>\n      <td>skilled</td>\n      <td>1.0</td>\n      <td>yes</td>\n      <td>yes</td>\n    </tr>\n    <tr>\n      <th>1</th>\n      <td>0&lt;=X&lt;200</td>\n      <td>48.0</td>\n      <td>existing paid</td>\n      <td>radio/tv</td>\n      <td>5951.0</td>\n      <td>&lt;100</td>\n      <td>1&lt;=X&lt;4</td>\n      <td>2.0</td>\n      <td>female div/dep/mar</td>\n      <td>none</td>\n      <td>2.0</td>\n      <td>real estate</td>\n      <td>22.0</td>\n      <td>none</td>\n      <td>own</td>\n      <td>1.0</td>\n      <td>skilled</td>\n      <td>1.0</td>\n      <td>none</td>\n      <td>yes</td>\n    </tr>\n    <tr>\n      <th>2</th>\n      <td>no checking</td>\n      <td>12.0</td>\n      <td>critical/other existing credit</td>\n      <td>education</td>\n      <td>2096.0</td>\n      <td>&lt;100</td>\n      <td>4&lt;=X&lt;7</td>\n      <td>2.0</td>\n      <td>male single</td>\n      <td>none</td>\n      <td>3.0</td>\n      <td>real estate</td>\n      <td>49.0</td>\n      <td>none</td>\n      <td>own</td>\n      <td>1.0</td>\n      <td>unskilled resident</td>\n      <td>2.0</td>\n      <td>none</td>\n      <td>yes</td>\n    </tr>\n    <tr>\n      <th>3</th>\n      <td>&lt;0</td>\n      <td>42.0</td>\n      <td>existing paid</td>\n      <td>furniture/equipment</td>\n      <td>7882.0</td>\n      <td>&lt;100</td>\n      <td>4&lt;=X&lt;7</td>\n      <td>2.0</td>\n      <td>male single</td>\n      <td>guarantor</td>\n      <td>4.0</td>\n      <td>life insurance</td>\n      <td>45.0</td>\n      <td>none</td>\n      <td>for free</td>\n      <td>1.0</td>\n      <td>skilled</td>\n      <td>2.0</td>\n      <td>none</td>\n      <td>yes</td>\n    </tr>\n    <tr>\n      <th>4</th>\n      <td>&lt;0</td>\n      <td>24.0</td>\n      <td>delayed previously</td>\n      <td>new car</td>\n      <td>4870.0</td>\n      <td>&lt;100</td>\n      <td>1&lt;=X&lt;4</td>\n      <td>3.0</td>\n      <td>male single</td>\n      <td>none</td>\n      <td>4.0</td>\n      <td>no known property</td>\n      <td>53.0</td>\n      <td>none</td>\n      <td>for free</td>\n      <td>2.0</td>\n      <td>skilled</td>\n      <td>2.0</td>\n      <td>none</td>\n      <td>yes</td>\n    </tr>\n  </tbody>\n</table>\n</div>"
          },
          "metadata": {},
          "execution_count": 4
        }
      ]
    },
    {
      "cell_type": "code",
      "metadata": {
        "ExecuteTime": {
          "end_time": "2020-05-07T01:05:56.756465Z",
          "start_time": "2020-05-07T01:05:56.734220Z"
        },
        "id": "VMHXspocHrLu",
        "colab_type": "code",
        "colab": {
          "base_uri": "https://localhost:8080/",
          "height": 34
        },
        "outputId": "3b61d379-2be4-47de-ec88-92f5f645b181"
      },
      "source": [
        "X_train, X_test, y_train, y_test = train_test_split(dataset.data, \n",
        "                                                    dataset.target,\n",
        "                                                    test_size=0.25, \n",
        "                                                    random_state=RANDOM_SEED,)\n",
        "X_train.shape, X_test.shape"
      ],
      "execution_count": 5,
      "outputs": [
        {
          "output_type": "execute_result",
          "data": {
            "text/plain": "((750, 20), (250, 20))"
          },
          "metadata": {},
          "execution_count": 5
        }
      ]
    },
    {
      "cell_type": "markdown",
      "metadata": {
        "id": "Nv22CQlxHrLw",
        "colab_type": "text"
      },
      "source": [
        "## Model"
      ]
    },
    {
      "cell_type": "code",
      "metadata": {
        "ExecuteTime": {
          "end_time": "2020-05-07T01:05:59.848085Z",
          "start_time": "2020-05-07T01:05:59.337884Z"
        },
        "id": "QNuj6yuOHrLw",
        "colab_type": "code",
        "colab": {}
      },
      "source": [
        "model = ModelsReview(X_train, y_train, X_test, type_of_estimator='classifier', random_state=RANDOM_SEED)\n",
        "\n",
        "# or Simply\n",
        "model = ModelsReviewClassifier(X_train, y_train, X_test, random_state=RANDOM_SEED)"
      ],
      "execution_count": 6,
      "outputs": []
    },
    {
      "cell_type": "code",
      "execution_count": 7,
      "metadata": {},
      "outputs": [
        {
          "output_type": "stream",
          "name": "stderr",
          "text": "100%|██████████| 10/10 [00:53<00:00,  5.35s/it]\n"
        },
        {
          "output_type": "execute_result",
          "data": {
            "text/plain": "   score_opt  model_score  score_std    model_name  \\\n0   0.717053       0.7563   0.039247      LightGBM   \n1   0.628857       0.7026   0.073743    KNeighbors   \n2   0.612375       0.6760   0.063625     LinearSVM   \n3   0.703071       0.7584   0.055329   LinearModel   \n4   0.600601       0.6511   0.050499           SGD   \n5   0.735086       0.7810   0.045914  RandomForest   \n6   0.697041       0.7459   0.048859    ExtraTrees   \n7   0.607501       0.6689   0.061399       XGBoost   \n8   0.736037       0.7924   0.056363      CatBoost   \n9   0.664761       0.7324   0.067639           MLP   \n\n                                         model_param  \\\n0  {'random_seed': 42, 'early_stopping_rounds': 5...   \n1                                     {'n_jobs': -1}   \n2                 {'verbose': 0, 'random_state': 42}   \n3                                     {'verbose': 0}   \n4  {'max_iter': 5000, 'verbose': 0, 'fit_intercep...   \n5   {'verbose': 0, 'random_state': 42, 'n_jobs': -1}   \n6   {'verbose': 0, 'random_state': 42, 'n_jobs': -1}   \n7  {'verbosity': 0, 'early_stopping_rounds': 100,...   \n8  {'verbose': 0, 'early_stopping_rounds': 50, 't...   \n9  {'verbose': 0, 'random_state': 42, 'max_iter':...   \n\n                                      wrapper_params     cat_encoder  \\\n0  {'need_norm_data': False, 'early_stopping': Fa...  HelmertEncoder   \n1  {'need_norm_data': True, 'scaler_name': 'Stand...  HelmertEncoder   \n2  {'need_norm_data': True, 'norm_data': True, 's...  HelmertEncoder   \n3  {'need_norm_data': True, 'scaler_name': 'Stand...  HelmertEncoder   \n4  {'need_norm_data': True, 'norm_data': True, 's...  HelmertEncoder   \n5                          {'need_norm_data': False}  HelmertEncoder   \n6                          {'need_norm_data': False}  HelmertEncoder   \n7  {'need_norm_data': False, 'early_stopping': Fa...  HelmertEncoder   \n8  {'need_norm_data': False, 'early_stopping': True}  HelmertEncoder   \n9  {'need_norm_data': True, 'scaler_name': 'Stand...  HelmertEncoder   \n\n      target_encoder  \n0  JamesSteinEncoder  \n1  JamesSteinEncoder  \n2  JamesSteinEncoder  \n3  JamesSteinEncoder  \n4  JamesSteinEncoder  \n5  JamesSteinEncoder  \n6  JamesSteinEncoder  \n7  JamesSteinEncoder  \n8  JamesSteinEncoder  \n9  JamesSteinEncoder  ",
            "text/html": "<div>\n<style scoped>\n    .dataframe tbody tr th:only-of-type {\n        vertical-align: middle;\n    }\n\n    .dataframe tbody tr th {\n        vertical-align: top;\n    }\n\n    .dataframe thead th {\n        text-align: right;\n    }\n</style>\n<table border=\"1\" class=\"dataframe\">\n  <thead>\n    <tr style=\"text-align: right;\">\n      <th></th>\n      <th>score_opt</th>\n      <th>model_score</th>\n      <th>score_std</th>\n      <th>model_name</th>\n      <th>model_param</th>\n      <th>wrapper_params</th>\n      <th>cat_encoder</th>\n      <th>target_encoder</th>\n    </tr>\n  </thead>\n  <tbody>\n    <tr>\n      <th>0</th>\n      <td>0.717053</td>\n      <td>0.7563</td>\n      <td>0.039247</td>\n      <td>LightGBM</td>\n      <td>{'random_seed': 42, 'early_stopping_rounds': 5...</td>\n      <td>{'need_norm_data': False, 'early_stopping': Fa...</td>\n      <td>HelmertEncoder</td>\n      <td>JamesSteinEncoder</td>\n    </tr>\n    <tr>\n      <th>1</th>\n      <td>0.628857</td>\n      <td>0.7026</td>\n      <td>0.073743</td>\n      <td>KNeighbors</td>\n      <td>{'n_jobs': -1}</td>\n      <td>{'need_norm_data': True, 'scaler_name': 'Stand...</td>\n      <td>HelmertEncoder</td>\n      <td>JamesSteinEncoder</td>\n    </tr>\n    <tr>\n      <th>2</th>\n      <td>0.612375</td>\n      <td>0.6760</td>\n      <td>0.063625</td>\n      <td>LinearSVM</td>\n      <td>{'verbose': 0, 'random_state': 42}</td>\n      <td>{'need_norm_data': True, 'norm_data': True, 's...</td>\n      <td>HelmertEncoder</td>\n      <td>JamesSteinEncoder</td>\n    </tr>\n    <tr>\n      <th>3</th>\n      <td>0.703071</td>\n      <td>0.7584</td>\n      <td>0.055329</td>\n      <td>LinearModel</td>\n      <td>{'verbose': 0}</td>\n      <td>{'need_norm_data': True, 'scaler_name': 'Stand...</td>\n      <td>HelmertEncoder</td>\n      <td>JamesSteinEncoder</td>\n    </tr>\n    <tr>\n      <th>4</th>\n      <td>0.600601</td>\n      <td>0.6511</td>\n      <td>0.050499</td>\n      <td>SGD</td>\n      <td>{'max_iter': 5000, 'verbose': 0, 'fit_intercep...</td>\n      <td>{'need_norm_data': True, 'norm_data': True, 's...</td>\n      <td>HelmertEncoder</td>\n      <td>JamesSteinEncoder</td>\n    </tr>\n    <tr>\n      <th>5</th>\n      <td>0.735086</td>\n      <td>0.7810</td>\n      <td>0.045914</td>\n      <td>RandomForest</td>\n      <td>{'verbose': 0, 'random_state': 42, 'n_jobs': -1}</td>\n      <td>{'need_norm_data': False}</td>\n      <td>HelmertEncoder</td>\n      <td>JamesSteinEncoder</td>\n    </tr>\n    <tr>\n      <th>6</th>\n      <td>0.697041</td>\n      <td>0.7459</td>\n      <td>0.048859</td>\n      <td>ExtraTrees</td>\n      <td>{'verbose': 0, 'random_state': 42, 'n_jobs': -1}</td>\n      <td>{'need_norm_data': False}</td>\n      <td>HelmertEncoder</td>\n      <td>JamesSteinEncoder</td>\n    </tr>\n    <tr>\n      <th>7</th>\n      <td>0.607501</td>\n      <td>0.6689</td>\n      <td>0.061399</td>\n      <td>XGBoost</td>\n      <td>{'verbosity': 0, 'early_stopping_rounds': 100,...</td>\n      <td>{'need_norm_data': False, 'early_stopping': Fa...</td>\n      <td>HelmertEncoder</td>\n      <td>JamesSteinEncoder</td>\n    </tr>\n    <tr>\n      <th>8</th>\n      <td>0.736037</td>\n      <td>0.7924</td>\n      <td>0.056363</td>\n      <td>CatBoost</td>\n      <td>{'verbose': 0, 'early_stopping_rounds': 50, 't...</td>\n      <td>{'need_norm_data': False, 'early_stopping': True}</td>\n      <td>HelmertEncoder</td>\n      <td>JamesSteinEncoder</td>\n    </tr>\n    <tr>\n      <th>9</th>\n      <td>0.664761</td>\n      <td>0.7324</td>\n      <td>0.067639</td>\n      <td>MLP</td>\n      <td>{'verbose': 0, 'random_state': 42, 'max_iter':...</td>\n      <td>{'need_norm_data': True, 'scaler_name': 'Stand...</td>\n      <td>HelmertEncoder</td>\n      <td>JamesSteinEncoder</td>\n    </tr>\n  </tbody>\n</table>\n</div>"
          },
          "metadata": {},
          "execution_count": 7
        }
      ],
      "source": [
        "# let's see what the results are for all available models with default settings\n",
        "review = model.fit()\n",
        "review"
      ]
    },
    {
      "cell_type": "code",
      "metadata": {
        "ExecuteTime": {
          "end_time": "2020-05-06T17:01:04.947762Z",
          "start_time": "2020-05-06T16:47:23.396089Z"
        },
        "id": "b2FfF7WYHrLy",
        "colab_type": "code",
        "colab": {
          "base_uri": "https://localhost:8080/",
          "height": 34
        },
        "outputId": "ed480a4c-c763-46d2-dd8d-f18e396241ec"
      },
      "source": [
        "# let's optimize all the models and see what the result will be (it takes a lot of time)\n",
        "review = model.opt(timeout=2000, verbose=1)"
      ],
      "execution_count": 8,
      "outputs": [
        {
          "output_type": "stream",
          "name": "stderr",
          "text": "0%|          | 0/10 [00:00<?, ?it/s]\nLightGBM Best Score:0.8059\n 10%|█         | 1/10 [02:06<18:59, 126.63s/it]\nKNeighbors Best Score:0.8389\n 20%|██        | 2/10 [04:31<17:37, 132.17s/it]\nLinearSVM Best Score:0.704\n 30%|███       | 3/10 [07:43<17:30, 150.08s/it]\nLinearModel Best Score:0.763\n 40%|████      | 4/10 [09:30<13:41, 137.00s/it]\nSGD Best Score:0.7008\n 50%|█████     | 5/10 [12:05<11:52, 142.44s/it]\nRandomForest Best Score:0.8353\n 60%|██████    | 6/10 [14:00<08:57, 134.37s/it]\nExtraTrees Best Score:0.7901\n 70%|███████   | 7/10 [21:03<11:02, 220.88s/it]\nXGBoost Best Score:0.7123\n 80%|████████  | 8/10 [25:39<07:55, 237.50s/it]\nCatBoost Best Score:0.819\n 90%|█████████ | 9/10 [29:27<03:54, 234.47s/it]\nMLP Best Score:0.7568\n100%|██████████| 10/10 [34:20<00:00, 206.04s/it]\n"
        }
      ]
    },
    {
      "cell_type": "code",
      "metadata": {
        "ExecuteTime": {
          "end_time": "2020-05-07T01:11:28.827682Z",
          "start_time": "2020-05-07T01:11:28.808642Z"
        },
        "id": "X2ye5d0WHrL0",
        "colab_type": "code",
        "colab": {
          "base_uri": "https://localhost:8080/",
          "height": 359
        },
        "outputId": "11d1161f-7547-4927-a63a-cf6aa045bc24"
      },
      "source": [
        "model.top1_models_cfgs"
      ],
      "execution_count": 9,
      "outputs": [
        {
          "output_type": "execute_result",
          "data": {
            "text/plain": "   score_opt  model_score  score_std    model_name  \\\n0     0.8059       0.8059   0.000000      LightGBM   \n1     0.8389       0.8389   0.000000    KNeighbors   \n2     0.6588       0.7040   0.045238     LinearSVM   \n3     0.7465       0.7630   0.016508   LinearModel   \n4     0.6556       0.7008   0.045238           SGD   \n5     0.8353       0.8353   0.000000  RandomForest   \n6     0.7480       0.7901   0.042116    ExtraTrees   \n7     0.6404       0.7123   0.071858       XGBoost   \n8     0.7875       0.8190   0.031534      CatBoost   \n9     0.6793       0.7568   0.077505           MLP   \n\n                                         model_param  \\\n0  {'random_seed': 42, 'early_stopping_rounds': 5...   \n1  {'n_jobs': -1, 'n_neighbors': 140, 'weights': ...   \n2  {'verbose': 0, 'random_state': 42, 'tol': 0.00...   \n3  {'verbose': 0, 'fit_intercept': False, 'C': 80...   \n4  {'max_iter': 5000, 'verbose': 0, 'fit_intercep...   \n5  {'verbose': 0, 'random_state': 42, 'n_jobs': -...   \n6  {'verbose': 0, 'random_state': 42, 'n_jobs': -...   \n7  {'verbosity': 0, 'early_stopping_rounds': 100,...   \n8  {'verbose': 0, 'early_stopping_rounds': 50, 't...   \n9  {'verbose': 0, 'random_state': 42, 'max_iter':...   \n\n                                      wrapper_params     cat_encoder  \\\n0  {'need_norm_data': False, 'early_stopping': Fa...  HelmertEncoder   \n1  {'need_norm_data': True, 'scaler_name': 'MinMa...  HelmertEncoder   \n2  {'need_norm_data': True, 'norm_data': True, 's...  HelmertEncoder   \n3  {'need_norm_data': True, 'scaler_name': 'Stand...  HelmertEncoder   \n4  {'need_norm_data': True, 'norm_data': True, 's...  HelmertEncoder   \n5                          {'need_norm_data': False}  HelmertEncoder   \n6                          {'need_norm_data': False}  HelmertEncoder   \n7  {'need_norm_data': False, 'early_stopping': Fa...  HelmertEncoder   \n8  {'need_norm_data': False, 'early_stopping': True}  HelmertEncoder   \n9  {'need_norm_data': True, 'scaler_name': 'Stand...  HelmertEncoder   \n\n      target_encoder  \n0  JamesSteinEncoder  \n1  JamesSteinEncoder  \n2  JamesSteinEncoder  \n3  JamesSteinEncoder  \n4  JamesSteinEncoder  \n5  JamesSteinEncoder  \n6  JamesSteinEncoder  \n7  JamesSteinEncoder  \n8  JamesSteinEncoder  \n9  JamesSteinEncoder  ",
            "text/html": "<div>\n<style scoped>\n    .dataframe tbody tr th:only-of-type {\n        vertical-align: middle;\n    }\n\n    .dataframe tbody tr th {\n        vertical-align: top;\n    }\n\n    .dataframe thead th {\n        text-align: right;\n    }\n</style>\n<table border=\"1\" class=\"dataframe\">\n  <thead>\n    <tr style=\"text-align: right;\">\n      <th></th>\n      <th>score_opt</th>\n      <th>model_score</th>\n      <th>score_std</th>\n      <th>model_name</th>\n      <th>model_param</th>\n      <th>wrapper_params</th>\n      <th>cat_encoder</th>\n      <th>target_encoder</th>\n    </tr>\n  </thead>\n  <tbody>\n    <tr>\n      <th>0</th>\n      <td>0.8059</td>\n      <td>0.8059</td>\n      <td>0.000000</td>\n      <td>LightGBM</td>\n      <td>{'random_seed': 42, 'early_stopping_rounds': 5...</td>\n      <td>{'need_norm_data': False, 'early_stopping': Fa...</td>\n      <td>HelmertEncoder</td>\n      <td>JamesSteinEncoder</td>\n    </tr>\n    <tr>\n      <th>1</th>\n      <td>0.8389</td>\n      <td>0.8389</td>\n      <td>0.000000</td>\n      <td>KNeighbors</td>\n      <td>{'n_jobs': -1, 'n_neighbors': 140, 'weights': ...</td>\n      <td>{'need_norm_data': True, 'scaler_name': 'MinMa...</td>\n      <td>HelmertEncoder</td>\n      <td>JamesSteinEncoder</td>\n    </tr>\n    <tr>\n      <th>2</th>\n      <td>0.6588</td>\n      <td>0.7040</td>\n      <td>0.045238</td>\n      <td>LinearSVM</td>\n      <td>{'verbose': 0, 'random_state': 42, 'tol': 0.00...</td>\n      <td>{'need_norm_data': True, 'norm_data': True, 's...</td>\n      <td>HelmertEncoder</td>\n      <td>JamesSteinEncoder</td>\n    </tr>\n    <tr>\n      <th>3</th>\n      <td>0.7465</td>\n      <td>0.7630</td>\n      <td>0.016508</td>\n      <td>LinearModel</td>\n      <td>{'verbose': 0, 'fit_intercept': False, 'C': 80...</td>\n      <td>{'need_norm_data': True, 'scaler_name': 'Stand...</td>\n      <td>HelmertEncoder</td>\n      <td>JamesSteinEncoder</td>\n    </tr>\n    <tr>\n      <th>4</th>\n      <td>0.6556</td>\n      <td>0.7008</td>\n      <td>0.045238</td>\n      <td>SGD</td>\n      <td>{'max_iter': 5000, 'verbose': 0, 'fit_intercep...</td>\n      <td>{'need_norm_data': True, 'norm_data': True, 's...</td>\n      <td>HelmertEncoder</td>\n      <td>JamesSteinEncoder</td>\n    </tr>\n    <tr>\n      <th>5</th>\n      <td>0.8353</td>\n      <td>0.8353</td>\n      <td>0.000000</td>\n      <td>RandomForest</td>\n      <td>{'verbose': 0, 'random_state': 42, 'n_jobs': -...</td>\n      <td>{'need_norm_data': False}</td>\n      <td>HelmertEncoder</td>\n      <td>JamesSteinEncoder</td>\n    </tr>\n    <tr>\n      <th>6</th>\n      <td>0.7480</td>\n      <td>0.7901</td>\n      <td>0.042116</td>\n      <td>ExtraTrees</td>\n      <td>{'verbose': 0, 'random_state': 42, 'n_jobs': -...</td>\n      <td>{'need_norm_data': False}</td>\n      <td>HelmertEncoder</td>\n      <td>JamesSteinEncoder</td>\n    </tr>\n    <tr>\n      <th>7</th>\n      <td>0.6404</td>\n      <td>0.7123</td>\n      <td>0.071858</td>\n      <td>XGBoost</td>\n      <td>{'verbosity': 0, 'early_stopping_rounds': 100,...</td>\n      <td>{'need_norm_data': False, 'early_stopping': Fa...</td>\n      <td>HelmertEncoder</td>\n      <td>JamesSteinEncoder</td>\n    </tr>\n    <tr>\n      <th>8</th>\n      <td>0.7875</td>\n      <td>0.8190</td>\n      <td>0.031534</td>\n      <td>CatBoost</td>\n      <td>{'verbose': 0, 'early_stopping_rounds': 50, 't...</td>\n      <td>{'need_norm_data': False, 'early_stopping': True}</td>\n      <td>HelmertEncoder</td>\n      <td>JamesSteinEncoder</td>\n    </tr>\n    <tr>\n      <th>9</th>\n      <td>0.6793</td>\n      <td>0.7568</td>\n      <td>0.077505</td>\n      <td>MLP</td>\n      <td>{'verbose': 0, 'random_state': 42, 'max_iter':...</td>\n      <td>{'need_norm_data': True, 'scaler_name': 'Stand...</td>\n      <td>HelmertEncoder</td>\n      <td>JamesSteinEncoder</td>\n    </tr>\n  </tbody>\n</table>\n</div>"
          },
          "metadata": {},
          "execution_count": 9
        }
      ]
    },
    {
      "cell_type": "code",
      "metadata": {
        "id": "ZU2oHBclHrL3",
        "colab_type": "code",
        "colab": {}
      },
      "source": [
        ""
      ],
      "execution_count": 0,
      "outputs": []
    }
  ],
  "metadata": {
    "kernelspec": {
      "name": "python3",
      "display_name": "Python 3"
    },
    "toc": {
      "base_numbering": 1,
      "nav_menu": {},
      "number_sections": false,
      "sideBar": true,
      "skip_h1_title": false,
      "title_cell": "Table of Contents",
      "title_sidebar": "Contents",
      "toc_cell": false,
      "toc_position": {
        "height": "calc(100% - 180px)",
        "left": "10px",
        "top": "150px",
        "width": "165px"
      },
      "toc_section_display": true,
      "toc_window_display": true
    },
    "colab": {
      "name": "04_ModelsReview.ipynb",
      "provenance": [],
      "collapsed_sections": []
    }
  },
  "nbformat": 4,
  "nbformat_minor": 0
}