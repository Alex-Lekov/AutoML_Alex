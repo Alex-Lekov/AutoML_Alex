{
  "cells": [
    {
      "cell_type": "code",
      "metadata": {
        "ExecuteTime": {
          "end_time": "2020-05-07T01:04:07.223678Z",
          "start_time": "2020-05-07T01:04:07.203114Z"
        },
        "id": "35Z4O1J4HrLG",
        "colab_type": "code",
        "colab": {}
      },
      "source": [
        "# If you run this notebook on Google Colaboratory, uncomment the below to install automl_alex.\n",
        "##!pip install automl-alex"
      ],
      "execution_count": 0,
      "outputs": []
    },
    {
      "cell_type": "code",
      "metadata": {
        "ExecuteTime": {
          "end_time": "2020-05-07T01:05:50.878720Z",
          "start_time": "2020-05-07T01:05:50.874642Z"
        },
        "id": "LUMq_v3aHrLO",
        "colab_type": "code",
        "colab": {}
      },
      "source": [
        "import pandas as pd\n",
        "import sklearn\n",
        "import automl_alex\n",
        "from automl_alex import ModelsReview, ModelsReviewClassifier"
      ],
      "execution_count": 1,
      "outputs": []
    },
    {
      "cell_type": "code",
      "metadata": {
        "ExecuteTime": {
          "end_time": "2020-05-07T01:05:52.046515Z",
          "start_time": "2020-05-07T01:05:52.037648Z"
        },
        "id": "B570gI83HrLW",
        "colab_type": "code",
        "colab": {
          "base_uri": "https://localhost:8080/",
          "height": 34
        },
        "outputId": "9649bb4f-38e6-43cf-abfe-bf94cc288e90",
        "tags": []
      },
      "source": [
        "print(automl_alex.__version__)"
      ],
      "execution_count": 2,
      "outputs": [
        {
          "output_type": "stream",
          "name": "stdout",
          "text": "0.07.03\n"
        }
      ]
    },
    {
      "cell_type": "code",
      "metadata": {
        "ExecuteTime": {
          "end_time": "2020-05-07T01:05:52.553896Z",
          "start_time": "2020-05-07T01:05:52.549132Z"
        },
        "id": "_x57fK3gHrLd",
        "colab_type": "code",
        "colab": {}
      },
      "source": [
        "RANDOM_SEED = 42"
      ],
      "execution_count": 3,
      "outputs": []
    },
    {
      "cell_type": "markdown",
      "metadata": {
        "id": "3JTScDUSHrLi",
        "colab_type": "text"
      },
      "source": [
        "# Classifier"
      ]
    },
    {
      "cell_type": "markdown",
      "metadata": {
        "id": "bfUOOcyiHrLj",
        "colab_type": "text"
      },
      "source": [
        "## Data"
      ]
    },
    {
      "cell_type": "code",
      "metadata": {
        "ExecuteTime": {
          "end_time": "2020-05-07T01:05:54.829381Z",
          "start_time": "2020-05-07T01:05:54.820896Z"
        },
        "id": "08kwyRMAHrLk",
        "colab_type": "code",
        "colab": {
          "base_uri": "https://localhost:8080/",
          "height": 258
        },
        "outputId": "37007c24-8007-4207-f8b1-aa5b4f027698"
      },
      "source": [
        "from sklearn.datasets import fetch_openml\n",
        "from sklearn.model_selection import train_test_split\n",
        "dataset = fetch_openml(name='credit-g', version=1, as_frame=True)\n",
        "dataset.target = dataset.target.astype('category').cat.codes\n",
        "dataset.data.head(5)"
      ],
      "execution_count": 4,
      "outputs": [
        {
          "output_type": "execute_result",
          "data": {
            "text/plain": "  checking_status  duration                  credit_history  \\\n0              <0       6.0  critical/other existing credit   \n1        0<=X<200      48.0                   existing paid   \n2     no checking      12.0  critical/other existing credit   \n3              <0      42.0                   existing paid   \n4              <0      24.0              delayed previously   \n\n               purpose  credit_amount    savings_status employment  \\\n0             radio/tv         1169.0  no known savings        >=7   \n1             radio/tv         5951.0              <100     1<=X<4   \n2            education         2096.0              <100     4<=X<7   \n3  furniture/equipment         7882.0              <100     4<=X<7   \n4              new car         4870.0              <100     1<=X<4   \n\n   installment_commitment     personal_status other_parties  residence_since  \\\n0                     4.0         male single          none              4.0   \n1                     2.0  female div/dep/mar          none              2.0   \n2                     2.0         male single          none              3.0   \n3                     2.0         male single     guarantor              4.0   \n4                     3.0         male single          none              4.0   \n\n  property_magnitude   age other_payment_plans   housing  existing_credits  \\\n0        real estate  67.0                none       own               2.0   \n1        real estate  22.0                none       own               1.0   \n2        real estate  49.0                none       own               1.0   \n3     life insurance  45.0                none  for free               1.0   \n4  no known property  53.0                none  for free               2.0   \n\n                  job  num_dependents own_telephone foreign_worker  \n0             skilled             1.0           yes            yes  \n1             skilled             1.0          none            yes  \n2  unskilled resident             2.0          none            yes  \n3             skilled             2.0          none            yes  \n4             skilled             2.0          none            yes  ",
            "text/html": "<div>\n<style scoped>\n    .dataframe tbody tr th:only-of-type {\n        vertical-align: middle;\n    }\n\n    .dataframe tbody tr th {\n        vertical-align: top;\n    }\n\n    .dataframe thead th {\n        text-align: right;\n    }\n</style>\n<table border=\"1\" class=\"dataframe\">\n  <thead>\n    <tr style=\"text-align: right;\">\n      <th></th>\n      <th>checking_status</th>\n      <th>duration</th>\n      <th>credit_history</th>\n      <th>purpose</th>\n      <th>credit_amount</th>\n      <th>savings_status</th>\n      <th>employment</th>\n      <th>installment_commitment</th>\n      <th>personal_status</th>\n      <th>other_parties</th>\n      <th>residence_since</th>\n      <th>property_magnitude</th>\n      <th>age</th>\n      <th>other_payment_plans</th>\n      <th>housing</th>\n      <th>existing_credits</th>\n      <th>job</th>\n      <th>num_dependents</th>\n      <th>own_telephone</th>\n      <th>foreign_worker</th>\n    </tr>\n  </thead>\n  <tbody>\n    <tr>\n      <th>0</th>\n      <td>&lt;0</td>\n      <td>6.0</td>\n      <td>critical/other existing credit</td>\n      <td>radio/tv</td>\n      <td>1169.0</td>\n      <td>no known savings</td>\n      <td>&gt;=7</td>\n      <td>4.0</td>\n      <td>male single</td>\n      <td>none</td>\n      <td>4.0</td>\n      <td>real estate</td>\n      <td>67.0</td>\n      <td>none</td>\n      <td>own</td>\n      <td>2.0</td>\n      <td>skilled</td>\n      <td>1.0</td>\n      <td>yes</td>\n      <td>yes</td>\n    </tr>\n    <tr>\n      <th>1</th>\n      <td>0&lt;=X&lt;200</td>\n      <td>48.0</td>\n      <td>existing paid</td>\n      <td>radio/tv</td>\n      <td>5951.0</td>\n      <td>&lt;100</td>\n      <td>1&lt;=X&lt;4</td>\n      <td>2.0</td>\n      <td>female div/dep/mar</td>\n      <td>none</td>\n      <td>2.0</td>\n      <td>real estate</td>\n      <td>22.0</td>\n      <td>none</td>\n      <td>own</td>\n      <td>1.0</td>\n      <td>skilled</td>\n      <td>1.0</td>\n      <td>none</td>\n      <td>yes</td>\n    </tr>\n    <tr>\n      <th>2</th>\n      <td>no checking</td>\n      <td>12.0</td>\n      <td>critical/other existing credit</td>\n      <td>education</td>\n      <td>2096.0</td>\n      <td>&lt;100</td>\n      <td>4&lt;=X&lt;7</td>\n      <td>2.0</td>\n      <td>male single</td>\n      <td>none</td>\n      <td>3.0</td>\n      <td>real estate</td>\n      <td>49.0</td>\n      <td>none</td>\n      <td>own</td>\n      <td>1.0</td>\n      <td>unskilled resident</td>\n      <td>2.0</td>\n      <td>none</td>\n      <td>yes</td>\n    </tr>\n    <tr>\n      <th>3</th>\n      <td>&lt;0</td>\n      <td>42.0</td>\n      <td>existing paid</td>\n      <td>furniture/equipment</td>\n      <td>7882.0</td>\n      <td>&lt;100</td>\n      <td>4&lt;=X&lt;7</td>\n      <td>2.0</td>\n      <td>male single</td>\n      <td>guarantor</td>\n      <td>4.0</td>\n      <td>life insurance</td>\n      <td>45.0</td>\n      <td>none</td>\n      <td>for free</td>\n      <td>1.0</td>\n      <td>skilled</td>\n      <td>2.0</td>\n      <td>none</td>\n      <td>yes</td>\n    </tr>\n    <tr>\n      <th>4</th>\n      <td>&lt;0</td>\n      <td>24.0</td>\n      <td>delayed previously</td>\n      <td>new car</td>\n      <td>4870.0</td>\n      <td>&lt;100</td>\n      <td>1&lt;=X&lt;4</td>\n      <td>3.0</td>\n      <td>male single</td>\n      <td>none</td>\n      <td>4.0</td>\n      <td>no known property</td>\n      <td>53.0</td>\n      <td>none</td>\n      <td>for free</td>\n      <td>2.0</td>\n      <td>skilled</td>\n      <td>2.0</td>\n      <td>none</td>\n      <td>yes</td>\n    </tr>\n  </tbody>\n</table>\n</div>"
          },
          "metadata": {},
          "execution_count": 4
        }
      ]
    },
    {
      "cell_type": "code",
      "metadata": {
        "ExecuteTime": {
          "end_time": "2020-05-07T01:05:56.756465Z",
          "start_time": "2020-05-07T01:05:56.734220Z"
        },
        "id": "VMHXspocHrLu",
        "colab_type": "code",
        "colab": {
          "base_uri": "https://localhost:8080/",
          "height": 34
        },
        "outputId": "3b61d379-2be4-47de-ec88-92f5f645b181"
      },
      "source": [
        "X_train, X_test, y_train, y_test = train_test_split(dataset.data, \n",
        "                                                    dataset.target,\n",
        "                                                    test_size=0.25, \n",
        "                                                    random_state=RANDOM_SEED,)\n",
        "X_train.shape, X_test.shape"
      ],
      "execution_count": 5,
      "outputs": [
        {
          "output_type": "execute_result",
          "data": {
            "text/plain": "((750, 20), (250, 20))"
          },
          "metadata": {},
          "execution_count": 5
        }
      ]
    },
    {
      "cell_type": "markdown",
      "metadata": {
        "id": "Nv22CQlxHrLw",
        "colab_type": "text"
      },
      "source": [
        "## Model"
      ]
    },
    {
      "cell_type": "code",
      "metadata": {
        "ExecuteTime": {
          "end_time": "2020-05-07T01:05:59.848085Z",
          "start_time": "2020-05-07T01:05:59.337884Z"
        },
        "id": "QNuj6yuOHrLw",
        "colab_type": "code",
        "colab": {}
      },
      "source": [
        "model = ModelsReview(X_train, y_train, X_test, type_of_estimator='classifier', random_state=RANDOM_SEED)\n",
        "\n",
        "# or Simply\n",
        "model = ModelsReviewClassifier(X_train, y_train, X_test, random_state=RANDOM_SEED)"
      ],
      "execution_count": 6,
      "outputs": []
    },
    {
      "cell_type": "code",
      "execution_count": 7,
      "metadata": {
        "tags": []
      },
      "outputs": [
        {
          "output_type": "stream",
          "name": "stderr",
          "text": "0%|          | 0/10 [00:00<?, ?it/s]\n Mean Score roc_auc_score on 10 Folds: 0.7466 std: 0.041375\n 10%|█         | 1/10 [00:01<00:15,  1.67s/it]\n Mean Score roc_auc_score on 10 Folds: 0.5878 std: 0.050595\n 20%|██        | 2/10 [00:02<00:12,  1.53s/it]\n Mean Score roc_auc_score on 10 Folds: 0.5137 std: 0.01306\n 30%|███       | 3/10 [00:03<00:08,  1.24s/it]\n Mean Score roc_auc_score on 10 Folds: 0.7819 std: 0.053523\n 40%|████      | 4/10 [00:03<00:05,  1.01it/s]\n Mean Score roc_auc_score on 10 Folds: 0.4979 std: 0.02354\n 50%|█████     | 5/10 [00:03<00:03,  1.38it/s]\n Mean Score roc_auc_score on 10 Folds: 0.7832 std: 0.058924\n 60%|██████    | 6/10 [00:08<00:07,  1.90s/it]\n Mean Score roc_auc_score on 10 Folds: 0.7546 std: 0.054554\n 70%|███████   | 7/10 [00:12<00:07,  2.43s/it]\n Mean Score roc_auc_score on 10 Folds: 0.6463 std: 0.0539\n 80%|████████  | 8/10 [00:13<00:04,  2.07s/it]\n Mean Score roc_auc_score on 10 Folds: 0.7948 std: 0.063596\n 90%|█████████ | 9/10 [00:16<00:02,  2.38s/it]\n Mean Score roc_auc_score on 10 Folds: 0.5063 std: 0.122387\n100%|██████████| 10/10 [00:17<00:00,  1.74s/it]\n"
        },
        {
          "output_type": "execute_result",
          "data": {
            "text/plain": "   score_opt  model_score  score_std    model_name  \\\n0   0.705225       0.7466   0.041375      LightGBM   \n1   0.537205       0.5878   0.050595    KNeighbors   \n2   0.500640       0.5137   0.013060     LinearSVM   \n3   0.728377       0.7819   0.053523   LinearModel   \n4   0.474360       0.4979   0.023540           SGD   \n5   0.724276       0.7832   0.058924  RandomForest   \n6   0.700046       0.7546   0.054554    ExtraTrees   \n7   0.592400       0.6463   0.053900       XGBoost   \n8   0.731204       0.7948   0.063596      CatBoost   \n9   0.383913       0.5063   0.122387           MLP   \n\n                                         model_param  \\\n0  {'random_seed': 42, 'early_stopping_rounds': 5...   \n1                                     {'n_jobs': -1}   \n2                 {'verbose': 0, 'random_state': 42}   \n3                                     {'verbose': 0}   \n4  {'max_iter': 5000, 'verbose': 0, 'fit_intercep...   \n5   {'verbose': 0, 'random_state': 42, 'n_jobs': -1}   \n6   {'verbose': 0, 'random_state': 42, 'n_jobs': -1}   \n7  {'verbosity': 0, 'early_stopping_rounds': 100,...   \n8  {'verbose': 0, 'early_stopping_rounds': 50, 't...   \n9  {'verbose': 0, 'random_state': 42, 'max_iter':...   \n\n              wrapper_params    cat_encoder  cv_folds  \n0  {'early_stopping': False}  OneHotEncoder        10  \n1                         {}  OneHotEncoder        10  \n2                         {}  OneHotEncoder        10  \n3                         {}  OneHotEncoder        10  \n4                         {}  OneHotEncoder        10  \n5                         {}  OneHotEncoder        10  \n6                         {}  OneHotEncoder        10  \n7  {'early_stopping': False}  OneHotEncoder        10  \n8   {'early_stopping': True}  OneHotEncoder        10  \n9                         {}  OneHotEncoder        10  ",
            "text/html": "<div>\n<style scoped>\n    .dataframe tbody tr th:only-of-type {\n        vertical-align: middle;\n    }\n\n    .dataframe tbody tr th {\n        vertical-align: top;\n    }\n\n    .dataframe thead th {\n        text-align: right;\n    }\n</style>\n<table border=\"1\" class=\"dataframe\">\n  <thead>\n    <tr style=\"text-align: right;\">\n      <th></th>\n      <th>score_opt</th>\n      <th>model_score</th>\n      <th>score_std</th>\n      <th>model_name</th>\n      <th>model_param</th>\n      <th>wrapper_params</th>\n      <th>cat_encoder</th>\n      <th>cv_folds</th>\n    </tr>\n  </thead>\n  <tbody>\n    <tr>\n      <th>0</th>\n      <td>0.705225</td>\n      <td>0.7466</td>\n      <td>0.041375</td>\n      <td>LightGBM</td>\n      <td>{'random_seed': 42, 'early_stopping_rounds': 5...</td>\n      <td>{'early_stopping': False}</td>\n      <td>OneHotEncoder</td>\n      <td>10</td>\n    </tr>\n    <tr>\n      <th>1</th>\n      <td>0.537205</td>\n      <td>0.5878</td>\n      <td>0.050595</td>\n      <td>KNeighbors</td>\n      <td>{'n_jobs': -1}</td>\n      <td>{}</td>\n      <td>OneHotEncoder</td>\n      <td>10</td>\n    </tr>\n    <tr>\n      <th>2</th>\n      <td>0.500640</td>\n      <td>0.5137</td>\n      <td>0.013060</td>\n      <td>LinearSVM</td>\n      <td>{'verbose': 0, 'random_state': 42}</td>\n      <td>{}</td>\n      <td>OneHotEncoder</td>\n      <td>10</td>\n    </tr>\n    <tr>\n      <th>3</th>\n      <td>0.728377</td>\n      <td>0.7819</td>\n      <td>0.053523</td>\n      <td>LinearModel</td>\n      <td>{'verbose': 0}</td>\n      <td>{}</td>\n      <td>OneHotEncoder</td>\n      <td>10</td>\n    </tr>\n    <tr>\n      <th>4</th>\n      <td>0.474360</td>\n      <td>0.4979</td>\n      <td>0.023540</td>\n      <td>SGD</td>\n      <td>{'max_iter': 5000, 'verbose': 0, 'fit_intercep...</td>\n      <td>{}</td>\n      <td>OneHotEncoder</td>\n      <td>10</td>\n    </tr>\n    <tr>\n      <th>5</th>\n      <td>0.724276</td>\n      <td>0.7832</td>\n      <td>0.058924</td>\n      <td>RandomForest</td>\n      <td>{'verbose': 0, 'random_state': 42, 'n_jobs': -1}</td>\n      <td>{}</td>\n      <td>OneHotEncoder</td>\n      <td>10</td>\n    </tr>\n    <tr>\n      <th>6</th>\n      <td>0.700046</td>\n      <td>0.7546</td>\n      <td>0.054554</td>\n      <td>ExtraTrees</td>\n      <td>{'verbose': 0, 'random_state': 42, 'n_jobs': -1}</td>\n      <td>{}</td>\n      <td>OneHotEncoder</td>\n      <td>10</td>\n    </tr>\n    <tr>\n      <th>7</th>\n      <td>0.592400</td>\n      <td>0.6463</td>\n      <td>0.053900</td>\n      <td>XGBoost</td>\n      <td>{'verbosity': 0, 'early_stopping_rounds': 100,...</td>\n      <td>{'early_stopping': False}</td>\n      <td>OneHotEncoder</td>\n      <td>10</td>\n    </tr>\n    <tr>\n      <th>8</th>\n      <td>0.731204</td>\n      <td>0.7948</td>\n      <td>0.063596</td>\n      <td>CatBoost</td>\n      <td>{'verbose': 0, 'early_stopping_rounds': 50, 't...</td>\n      <td>{'early_stopping': True}</td>\n      <td>OneHotEncoder</td>\n      <td>10</td>\n    </tr>\n    <tr>\n      <th>9</th>\n      <td>0.383913</td>\n      <td>0.5063</td>\n      <td>0.122387</td>\n      <td>MLP</td>\n      <td>{'verbose': 0, 'random_state': 42, 'max_iter':...</td>\n      <td>{}</td>\n      <td>OneHotEncoder</td>\n      <td>10</td>\n    </tr>\n  </tbody>\n</table>\n</div>"
          },
          "metadata": {},
          "execution_count": 7
        }
      ],
      "source": [
        "# let's see what the results are for all available models with default settings\n",
        "review = model.fit()\n",
        "review"
      ]
    },
    {
      "cell_type": "code",
      "metadata": {
        "ExecuteTime": {
          "end_time": "2020-05-06T17:01:04.947762Z",
          "start_time": "2020-05-06T16:47:23.396089Z"
        },
        "id": "b2FfF7WYHrLy",
        "colab_type": "code",
        "colab": {
          "base_uri": "https://localhost:8080/",
          "height": 34
        },
        "outputId": "ed480a4c-c763-46d2-dd8d-f18e396241ec",
        "tags": []
      },
      "source": [
        "# let's optimize all the models and see what the result will be (it takes a lot of time)\n",
        "review = model.opt(timeout=1000, verbose=1)"
      ],
      "execution_count": 8,
      "outputs": [
        {
          "output_type": "stream",
          "name": "stderr",
          "text": "0%|          | 0/10 [00:00<?, ?it/s]\nLightGBM Best Score:0.782\n 10%|█         | 1/10 [01:04<09:36, 64.05s/it]\nKNeighbors Best Score:0.5764\n 20%|██        | 2/10 [02:29<09:24, 70.54s/it]\nLinearSVM Best Score:0.6656\n 30%|███       | 3/10 [02:51<06:30, 55.78s/it]\nLinearModel Best Score:0.7817\n 40%|████      | 4/10 [05:22<08:26, 84.45s/it]\nSGD Best Score:0.6156\n 50%|█████     | 5/10 [08:23<09:27, 113.48s/it]\nRandomForest Best Score:0.8311\n 60%|██████    | 6/10 [09:30<06:37, 99.40s/it]\nExtraTrees Best Score:0.7957\n 70%|███████   | 7/10 [13:39<07:12, 144.26s/it]\nXGBoost Best Score:0.7039\n 80%|████████  | 8/10 [18:00<05:58, 179.40s/it]\nCatBoost Best Score:0.8106\n 90%|█████████ | 9/10 [21:53<03:15, 195.59s/it]\nMLP Best Score:0.6048\n100%|██████████| 10/10 [24:13<00:00, 145.33s/it]\n"
        }
      ]
    },
    {
      "cell_type": "code",
      "metadata": {
        "ExecuteTime": {
          "end_time": "2020-05-07T01:11:28.827682Z",
          "start_time": "2020-05-07T01:11:28.808642Z"
        },
        "id": "X2ye5d0WHrL0",
        "colab_type": "code",
        "colab": {
          "base_uri": "https://localhost:8080/",
          "height": 359
        },
        "outputId": "11d1161f-7547-4927-a63a-cf6aa045bc24"
      },
      "source": [
        "model.top1_models_cfgs"
      ],
      "execution_count": 9,
      "outputs": [
        {
          "output_type": "execute_result",
          "data": {
            "text/plain": "   score_opt  model_score  score_std    model_name  \\\n0     0.7820       0.7820   0.000000      LightGBM   \n1     0.5390       0.5764   0.037354    KNeighbors   \n2     0.6001       0.6656   0.065494     LinearSVM   \n3     0.7305       0.7817   0.051193   LinearModel   \n4     0.5452       0.6156   0.070448           SGD   \n5     0.8311       0.8311   0.000000  RandomForest   \n6     0.7433       0.7957   0.052381    ExtraTrees   \n7     0.6106       0.7039   0.093301       XGBoost   \n8     0.7649       0.8106   0.045714      CatBoost   \n9     0.5114       0.6048   0.093434           MLP   \n\n                                         model_param  \\\n0  {'random_seed': 42, 'early_stopping_rounds': 5...   \n1  {'n_jobs': -1, 'n_neighbors': 43, 'weights': '...   \n2  {'verbose': 0, 'random_state': 42, 'tol': 0.00...   \n3  {'verbose': 0, 'fit_intercept': True, 'C': 0.0...   \n4  {'max_iter': 5000, 'verbose': 0, 'fit_intercep...   \n5  {'verbose': 0, 'random_state': 42, 'n_jobs': -...   \n6  {'verbose': 0, 'random_state': 42, 'n_jobs': -...   \n7  {'verbosity': 0, 'early_stopping_rounds': 0, '...   \n8  {'verbose': 0, 'early_stopping_rounds': 50, 't...   \n9  {'verbose': 0, 'random_state': 42, 'max_iter':...   \n\n              wrapper_params    cat_encoder  cv_folds  \n0  {'early_stopping': False}  OneHotEncoder         5  \n1                         {}  OneHotEncoder         5  \n2                         {}  OneHotEncoder        10  \n3                         {}  OneHotEncoder        10  \n4                         {}  OneHotEncoder        10  \n5                         {}  OneHotEncoder         5  \n6                         {}  OneHotEncoder         5  \n7  {'early_stopping': False}  OneHotEncoder        10  \n8   {'early_stopping': True}  OneHotEncoder         5  \n9                         {}  OneHotEncoder        10  ",
            "text/html": "<div>\n<style scoped>\n    .dataframe tbody tr th:only-of-type {\n        vertical-align: middle;\n    }\n\n    .dataframe tbody tr th {\n        vertical-align: top;\n    }\n\n    .dataframe thead th {\n        text-align: right;\n    }\n</style>\n<table border=\"1\" class=\"dataframe\">\n  <thead>\n    <tr style=\"text-align: right;\">\n      <th></th>\n      <th>score_opt</th>\n      <th>model_score</th>\n      <th>score_std</th>\n      <th>model_name</th>\n      <th>model_param</th>\n      <th>wrapper_params</th>\n      <th>cat_encoder</th>\n      <th>cv_folds</th>\n    </tr>\n  </thead>\n  <tbody>\n    <tr>\n      <th>0</th>\n      <td>0.7820</td>\n      <td>0.7820</td>\n      <td>0.000000</td>\n      <td>LightGBM</td>\n      <td>{'random_seed': 42, 'early_stopping_rounds': 5...</td>\n      <td>{'early_stopping': False}</td>\n      <td>OneHotEncoder</td>\n      <td>5</td>\n    </tr>\n    <tr>\n      <th>1</th>\n      <td>0.5390</td>\n      <td>0.5764</td>\n      <td>0.037354</td>\n      <td>KNeighbors</td>\n      <td>{'n_jobs': -1, 'n_neighbors': 43, 'weights': '...</td>\n      <td>{}</td>\n      <td>OneHotEncoder</td>\n      <td>5</td>\n    </tr>\n    <tr>\n      <th>2</th>\n      <td>0.6001</td>\n      <td>0.6656</td>\n      <td>0.065494</td>\n      <td>LinearSVM</td>\n      <td>{'verbose': 0, 'random_state': 42, 'tol': 0.00...</td>\n      <td>{}</td>\n      <td>OneHotEncoder</td>\n      <td>10</td>\n    </tr>\n    <tr>\n      <th>3</th>\n      <td>0.7305</td>\n      <td>0.7817</td>\n      <td>0.051193</td>\n      <td>LinearModel</td>\n      <td>{'verbose': 0, 'fit_intercept': True, 'C': 0.0...</td>\n      <td>{}</td>\n      <td>OneHotEncoder</td>\n      <td>10</td>\n    </tr>\n    <tr>\n      <th>4</th>\n      <td>0.5452</td>\n      <td>0.6156</td>\n      <td>0.070448</td>\n      <td>SGD</td>\n      <td>{'max_iter': 5000, 'verbose': 0, 'fit_intercep...</td>\n      <td>{}</td>\n      <td>OneHotEncoder</td>\n      <td>10</td>\n    </tr>\n    <tr>\n      <th>5</th>\n      <td>0.8311</td>\n      <td>0.8311</td>\n      <td>0.000000</td>\n      <td>RandomForest</td>\n      <td>{'verbose': 0, 'random_state': 42, 'n_jobs': -...</td>\n      <td>{}</td>\n      <td>OneHotEncoder</td>\n      <td>5</td>\n    </tr>\n    <tr>\n      <th>6</th>\n      <td>0.7433</td>\n      <td>0.7957</td>\n      <td>0.052381</td>\n      <td>ExtraTrees</td>\n      <td>{'verbose': 0, 'random_state': 42, 'n_jobs': -...</td>\n      <td>{}</td>\n      <td>OneHotEncoder</td>\n      <td>5</td>\n    </tr>\n    <tr>\n      <th>7</th>\n      <td>0.6106</td>\n      <td>0.7039</td>\n      <td>0.093301</td>\n      <td>XGBoost</td>\n      <td>{'verbosity': 0, 'early_stopping_rounds': 0, '...</td>\n      <td>{'early_stopping': False}</td>\n      <td>OneHotEncoder</td>\n      <td>10</td>\n    </tr>\n    <tr>\n      <th>8</th>\n      <td>0.7649</td>\n      <td>0.8106</td>\n      <td>0.045714</td>\n      <td>CatBoost</td>\n      <td>{'verbose': 0, 'early_stopping_rounds': 50, 't...</td>\n      <td>{'early_stopping': True}</td>\n      <td>OneHotEncoder</td>\n      <td>5</td>\n    </tr>\n    <tr>\n      <th>9</th>\n      <td>0.5114</td>\n      <td>0.6048</td>\n      <td>0.093434</td>\n      <td>MLP</td>\n      <td>{'verbose': 0, 'random_state': 42, 'max_iter':...</td>\n      <td>{}</td>\n      <td>OneHotEncoder</td>\n      <td>10</td>\n    </tr>\n  </tbody>\n</table>\n</div>"
          },
          "metadata": {},
          "execution_count": 9
        }
      ]
    },
    {
      "cell_type": "code",
      "metadata": {
        "id": "ZU2oHBclHrL3",
        "colab_type": "code",
        "colab": {}
      },
      "source": [
        ""
      ],
      "execution_count": 0,
      "outputs": []
    }
  ],
  "metadata": {
    "kernelspec": {
      "name": "python3",
      "display_name": "Python 3"
    },
    "toc": {
      "base_numbering": 1,
      "nav_menu": {},
      "number_sections": false,
      "sideBar": true,
      "skip_h1_title": false,
      "title_cell": "Table of Contents",
      "title_sidebar": "Contents",
      "toc_cell": false,
      "toc_position": {
        "height": "calc(100% - 180px)",
        "left": "10px",
        "top": "150px",
        "width": "165px"
      },
      "toc_section_display": true,
      "toc_window_display": true
    },
    "colab": {
      "name": "04_ModelsReview.ipynb",
      "provenance": [],
      "collapsed_sections": []
    }
  },
  "nbformat": 4,
  "nbformat_minor": 0
}