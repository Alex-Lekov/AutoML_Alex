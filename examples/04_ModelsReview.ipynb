{
  "cells": [
    {
      "cell_type": "code",
      "metadata": {
        "ExecuteTime": {
          "end_time": "2020-05-07T01:04:07.223678Z",
          "start_time": "2020-05-07T01:04:07.203114Z"
        },
        "id": "35Z4O1J4HrLG",
        "colab_type": "code",
        "colab": {}
      },
      "source": [
        "# If you run this notebook on Google Colaboratory, uncomment the below to install automl_alex.\n",
        "#!pip install -U -q automl-alex"
      ],
      "execution_count": 1,
      "outputs": []
    },
    {
      "cell_type": "code",
      "metadata": {
        "ExecuteTime": {
          "end_time": "2020-05-07T01:05:50.878720Z",
          "start_time": "2020-05-07T01:05:50.874642Z"
        },
        "id": "LUMq_v3aHrLO",
        "colab_type": "code",
        "colab": {}
      },
      "source": [
        "import pandas as pd\n",
        "import sklearn\n",
        "import automl_alex\n",
        "from automl_alex import ModelsReview, ModelsReviewClassifier, DataPrepare"
      ],
      "execution_count": 1,
      "outputs": []
    },
    {
      "cell_type": "code",
      "metadata": {
        "ExecuteTime": {
          "end_time": "2020-05-07T01:05:52.046515Z",
          "start_time": "2020-05-07T01:05:52.037648Z"
        },
        "id": "B570gI83HrLW",
        "colab_type": "code",
        "colab": {
          "base_uri": "https://localhost:8080/",
          "height": 34
        },
        "outputId": "9649bb4f-38e6-43cf-abfe-bf94cc288e90",
        "tags": []
      },
      "source": [
        "print(automl_alex.__version__)"
      ],
      "execution_count": 2,
      "outputs": [
        {
          "output_type": "stream",
          "name": "stdout",
          "text": [
            "1.02.15\n"
          ]
        }
      ]
    },
    {
      "cell_type": "code",
      "metadata": {
        "ExecuteTime": {
          "end_time": "2020-05-07T01:05:52.553896Z",
          "start_time": "2020-05-07T01:05:52.549132Z"
        },
        "id": "_x57fK3gHrLd",
        "colab_type": "code",
        "colab": {}
      },
      "source": [
        "RANDOM_SEED = 42"
      ],
      "execution_count": 3,
      "outputs": []
    },
    {
      "cell_type": "markdown",
      "metadata": {
        "id": "bfUOOcyiHrLj",
        "colab_type": "text"
      },
      "source": [
        "## Data"
      ]
    },
    {
      "cell_type": "code",
      "metadata": {
        "ExecuteTime": {
          "end_time": "2020-05-07T01:05:54.829381Z",
          "start_time": "2020-05-07T01:05:54.820896Z"
        },
        "id": "08kwyRMAHrLk",
        "colab_type": "code",
        "colab": {
          "base_uri": "https://localhost:8080/",
          "height": 258
        },
        "outputId": "37007c24-8007-4207-f8b1-aa5b4f027698"
      },
      "source": [
        "from sklearn.datasets import fetch_openml\n",
        "from sklearn.model_selection import train_test_split\n",
        "dataset = fetch_openml(name='credit-g', version=1, as_frame=True)\n",
        "dataset.target = dataset.target.astype('category').cat.codes"
      ],
      "execution_count": 4,
      "outputs": []
    },
    {
      "cell_type": "code",
      "metadata": {
        "ExecuteTime": {
          "end_time": "2020-05-07T01:05:56.756465Z",
          "start_time": "2020-05-07T01:05:56.734220Z"
        },
        "id": "VMHXspocHrLu",
        "colab_type": "code",
        "colab": {
          "base_uri": "https://localhost:8080/",
          "height": 34
        },
        "outputId": "3b61d379-2be4-47de-ec88-92f5f645b181"
      },
      "source": [
        "X_train, X_test, y_train, y_test = train_test_split(dataset.data, \n",
        "                                                    dataset.target,\n",
        "                                                    test_size=0.25, \n",
        "                                                    random_state=RANDOM_SEED,)\n",
        "X_train.shape, X_test.shape"
      ],
      "execution_count": 5,
      "outputs": [
        {
          "output_type": "execute_result",
          "data": {
            "text/plain": [
              "((750, 20), (250, 20))"
            ]
          },
          "metadata": {},
          "execution_count": 5
        }
      ]
    },
    {
      "cell_type": "code",
      "execution_count": 6,
      "metadata": {},
      "outputs": [
        {
          "output_type": "execute_result",
          "data": {
            "text/plain": [
              "((750, 72), (250, 72))"
            ]
          },
          "metadata": {},
          "execution_count": 6
        }
      ],
      "source": [
        "de = DataPrepare(verbose=0,random_state=RANDOM_SEED)\n",
        "X_train = de.fit_transform(X_train)\n",
        "X_test = de.transform(X_test)\n",
        "X_train.shape, X_test.shape"
      ]
    },
    {
      "cell_type": "markdown",
      "metadata": {
        "id": "Nv22CQlxHrLw",
        "colab_type": "text"
      },
      "source": [
        "# ModelsReview"
      ]
    },
    {
      "cell_type": "code",
      "metadata": {
        "ExecuteTime": {
          "end_time": "2020-05-07T01:05:59.848085Z",
          "start_time": "2020-05-07T01:05:59.337884Z"
        },
        "id": "QNuj6yuOHrLw",
        "colab_type": "code",
        "colab": {},
        "tags": []
      },
      "source": [
        "model = ModelsReview(type_of_estimator='classifier', random_state=RANDOM_SEED)\n",
        "\n",
        "# or Simply\n",
        "model = ModelsReviewClassifier(\n",
        "    metric = sklearn.metrics.roc_auc_score,\n",
        "    random_state=RANDOM_SEED)"
      ],
      "execution_count": 7,
      "outputs": []
    },
    {
      "cell_type": "code",
      "execution_count": 10,
      "metadata": {
        "tags": []
      },
      "outputs": [
        {
          "output_type": "stream",
          "name": "stderr",
          "text": [
            "100%|██████████| 9/9 [00:03<00:00,  2.26it/s]\n"
          ]
        }
      ],
      "source": [
        "# let's see what the results are for all available models with default settings\n",
        "review = model.fit(\n",
        "    X_train=X_train, \n",
        "    y_train=y_train, \n",
        "    X_test=X_test, \n",
        "    y_test=y_test,\n",
        "    )"
      ]
    },
    {
      "cell_type": "code",
      "execution_count": 11,
      "metadata": {},
      "outputs": [
        {
          "output_type": "execute_result",
          "data": {
            "text/plain": [
              "     Model_Name   Score  Time_Fit_Sec\n",
              "0      LightGBM  0.7906          0.52\n",
              "1    KNeighbors  0.6894          0.03\n",
              "2   LinearModel  0.7991          0.03\n",
              "3           SGD  0.6557          0.03\n",
              "4  RandomForest  0.7847          0.34\n",
              "5    ExtraTrees  0.7690          0.25\n",
              "6       XGBoost  0.6742          0.45\n",
              "7      CatBoost  0.8024          2.01\n",
              "8           MLP  0.7538          0.30"
            ],
            "text/html": "<div>\n<style scoped>\n    .dataframe tbody tr th:only-of-type {\n        vertical-align: middle;\n    }\n\n    .dataframe tbody tr th {\n        vertical-align: top;\n    }\n\n    .dataframe thead th {\n        text-align: right;\n    }\n</style>\n<table border=\"1\" class=\"dataframe\">\n  <thead>\n    <tr style=\"text-align: right;\">\n      <th></th>\n      <th>Model_Name</th>\n      <th>Score</th>\n      <th>Time_Fit_Sec</th>\n    </tr>\n  </thead>\n  <tbody>\n    <tr>\n      <th>0</th>\n      <td>LightGBM</td>\n      <td>0.7906</td>\n      <td>0.52</td>\n    </tr>\n    <tr>\n      <th>1</th>\n      <td>KNeighbors</td>\n      <td>0.6894</td>\n      <td>0.03</td>\n    </tr>\n    <tr>\n      <th>2</th>\n      <td>LinearModel</td>\n      <td>0.7991</td>\n      <td>0.03</td>\n    </tr>\n    <tr>\n      <th>3</th>\n      <td>SGD</td>\n      <td>0.6557</td>\n      <td>0.03</td>\n    </tr>\n    <tr>\n      <th>4</th>\n      <td>RandomForest</td>\n      <td>0.7847</td>\n      <td>0.34</td>\n    </tr>\n    <tr>\n      <th>5</th>\n      <td>ExtraTrees</td>\n      <td>0.7690</td>\n      <td>0.25</td>\n    </tr>\n    <tr>\n      <th>6</th>\n      <td>XGBoost</td>\n      <td>0.6742</td>\n      <td>0.45</td>\n    </tr>\n    <tr>\n      <th>7</th>\n      <td>CatBoost</td>\n      <td>0.8024</td>\n      <td>2.01</td>\n    </tr>\n    <tr>\n      <th>8</th>\n      <td>MLP</td>\n      <td>0.7538</td>\n      <td>0.30</td>\n    </tr>\n  </tbody>\n</table>\n</div>"
          },
          "metadata": {},
          "execution_count": 11
        }
      ],
      "source": [
        "review"
      ]
    },
    {
      "cell_type": "code",
      "metadata": {
        "id": "ZU2oHBclHrL3",
        "colab_type": "code",
        "colab": {}
      },
      "source": [],
      "execution_count": 0,
      "outputs": []
    }
  ],
  "metadata": {
    "kernelspec": {
      "name": "python3",
      "display_name": "Python 3",
      "language": "python"
    },
    "toc": {
      "base_numbering": 1,
      "nav_menu": {},
      "number_sections": false,
      "sideBar": true,
      "skip_h1_title": false,
      "title_cell": "Table of Contents",
      "title_sidebar": "Contents",
      "toc_cell": false,
      "toc_position": {
        "height": "calc(100% - 180px)",
        "left": "10px",
        "top": "150px",
        "width": "165px"
      },
      "toc_section_display": true,
      "toc_window_display": true
    },
    "colab": {
      "name": "04_ModelsReview.ipynb",
      "provenance": [],
      "collapsed_sections": []
    }
  },
  "nbformat": 4,
  "nbformat_minor": 0
}