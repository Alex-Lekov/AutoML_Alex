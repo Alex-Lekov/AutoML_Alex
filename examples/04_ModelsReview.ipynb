{
  "cells": [
    {
      "cell_type": "code",
      "metadata": {
        "ExecuteTime": {
          "end_time": "2020-05-07T01:04:07.223678Z",
          "start_time": "2020-05-07T01:04:07.203114Z"
        },
        "id": "35Z4O1J4HrLG",
        "colab_type": "code",
        "colab": {}
      },
      "source": [
        "# If you run this notebook on Google Colaboratory, uncomment the below to install automl_alex.\n",
        "#!pip install -U -q automl-alex"
      ],
      "execution_count": 1,
      "outputs": []
    },
    {
      "cell_type": "code",
      "metadata": {
        "ExecuteTime": {
          "end_time": "2020-05-07T01:05:50.878720Z",
          "start_time": "2020-05-07T01:05:50.874642Z"
        },
        "id": "LUMq_v3aHrLO",
        "colab_type": "code",
        "colab": {}
      },
      "source": [
        "import pandas as pd\n",
        "import sklearn\n",
        "import automl_alex\n",
        "from automl_alex import ModelsReview, ModelsReviewClassifier"
      ],
      "execution_count": 2,
      "outputs": []
    },
    {
      "cell_type": "code",
      "metadata": {
        "ExecuteTime": {
          "end_time": "2020-05-07T01:05:52.046515Z",
          "start_time": "2020-05-07T01:05:52.037648Z"
        },
        "id": "B570gI83HrLW",
        "colab_type": "code",
        "colab": {
          "base_uri": "https://localhost:8080/",
          "height": 34
        },
        "outputId": "9649bb4f-38e6-43cf-abfe-bf94cc288e90",
        "tags": []
      },
      "source": [
        "print(automl_alex.__version__)"
      ],
      "execution_count": 3,
      "outputs": [
        {
          "output_type": "stream",
          "name": "stdout",
          "text": [
            "0.11.24\n"
          ]
        }
      ]
    },
    {
      "cell_type": "code",
      "metadata": {
        "ExecuteTime": {
          "end_time": "2020-05-07T01:05:52.553896Z",
          "start_time": "2020-05-07T01:05:52.549132Z"
        },
        "id": "_x57fK3gHrLd",
        "colab_type": "code",
        "colab": {}
      },
      "source": [
        "RANDOM_SEED = 42"
      ],
      "execution_count": 4,
      "outputs": []
    },
    {
      "cell_type": "markdown",
      "metadata": {
        "id": "3JTScDUSHrLi",
        "colab_type": "text"
      },
      "source": [
        "# Classifier"
      ]
    },
    {
      "cell_type": "markdown",
      "metadata": {
        "id": "bfUOOcyiHrLj",
        "colab_type": "text"
      },
      "source": [
        "## Data"
      ]
    },
    {
      "cell_type": "code",
      "metadata": {
        "ExecuteTime": {
          "end_time": "2020-05-07T01:05:54.829381Z",
          "start_time": "2020-05-07T01:05:54.820896Z"
        },
        "id": "08kwyRMAHrLk",
        "colab_type": "code",
        "colab": {
          "base_uri": "https://localhost:8080/",
          "height": 258
        },
        "outputId": "37007c24-8007-4207-f8b1-aa5b4f027698"
      },
      "source": [
        "from sklearn.datasets import fetch_openml\n",
        "from sklearn.model_selection import train_test_split\n",
        "dataset = fetch_openml(name='credit-g', version=1, as_frame=True)\n",
        "dataset.target = dataset.target.astype('category').cat.codes\n",
        "dataset.data.head(5)"
      ],
      "execution_count": 5,
      "outputs": [
        {
          "output_type": "execute_result",
          "data": {
            "text/plain": [
              "  checking_status  duration                  credit_history  \\\n",
              "0              <0       6.0  critical/other existing credit   \n",
              "1        0<=X<200      48.0                   existing paid   \n",
              "2     no checking      12.0  critical/other existing credit   \n",
              "3              <0      42.0                   existing paid   \n",
              "4              <0      24.0              delayed previously   \n",
              "\n",
              "               purpose  credit_amount    savings_status employment  \\\n",
              "0             radio/tv         1169.0  no known savings        >=7   \n",
              "1             radio/tv         5951.0              <100     1<=X<4   \n",
              "2            education         2096.0              <100     4<=X<7   \n",
              "3  furniture/equipment         7882.0              <100     4<=X<7   \n",
              "4              new car         4870.0              <100     1<=X<4   \n",
              "\n",
              "   installment_commitment     personal_status other_parties  residence_since  \\\n",
              "0                     4.0         male single          none              4.0   \n",
              "1                     2.0  female div/dep/mar          none              2.0   \n",
              "2                     2.0         male single          none              3.0   \n",
              "3                     2.0         male single     guarantor              4.0   \n",
              "4                     3.0         male single          none              4.0   \n",
              "\n",
              "  property_magnitude   age other_payment_plans   housing  existing_credits  \\\n",
              "0        real estate  67.0                none       own               2.0   \n",
              "1        real estate  22.0                none       own               1.0   \n",
              "2        real estate  49.0                none       own               1.0   \n",
              "3     life insurance  45.0                none  for free               1.0   \n",
              "4  no known property  53.0                none  for free               2.0   \n",
              "\n",
              "                  job  num_dependents own_telephone foreign_worker  \n",
              "0             skilled             1.0           yes            yes  \n",
              "1             skilled             1.0          none            yes  \n",
              "2  unskilled resident             2.0          none            yes  \n",
              "3             skilled             2.0          none            yes  \n",
              "4             skilled             2.0          none            yes  "
            ],
            "text/html": "<div>\n<style scoped>\n    .dataframe tbody tr th:only-of-type {\n        vertical-align: middle;\n    }\n\n    .dataframe tbody tr th {\n        vertical-align: top;\n    }\n\n    .dataframe thead th {\n        text-align: right;\n    }\n</style>\n<table border=\"1\" class=\"dataframe\">\n  <thead>\n    <tr style=\"text-align: right;\">\n      <th></th>\n      <th>checking_status</th>\n      <th>duration</th>\n      <th>credit_history</th>\n      <th>purpose</th>\n      <th>credit_amount</th>\n      <th>savings_status</th>\n      <th>employment</th>\n      <th>installment_commitment</th>\n      <th>personal_status</th>\n      <th>other_parties</th>\n      <th>residence_since</th>\n      <th>property_magnitude</th>\n      <th>age</th>\n      <th>other_payment_plans</th>\n      <th>housing</th>\n      <th>existing_credits</th>\n      <th>job</th>\n      <th>num_dependents</th>\n      <th>own_telephone</th>\n      <th>foreign_worker</th>\n    </tr>\n  </thead>\n  <tbody>\n    <tr>\n      <th>0</th>\n      <td>&lt;0</td>\n      <td>6.0</td>\n      <td>critical/other existing credit</td>\n      <td>radio/tv</td>\n      <td>1169.0</td>\n      <td>no known savings</td>\n      <td>&gt;=7</td>\n      <td>4.0</td>\n      <td>male single</td>\n      <td>none</td>\n      <td>4.0</td>\n      <td>real estate</td>\n      <td>67.0</td>\n      <td>none</td>\n      <td>own</td>\n      <td>2.0</td>\n      <td>skilled</td>\n      <td>1.0</td>\n      <td>yes</td>\n      <td>yes</td>\n    </tr>\n    <tr>\n      <th>1</th>\n      <td>0&lt;=X&lt;200</td>\n      <td>48.0</td>\n      <td>existing paid</td>\n      <td>radio/tv</td>\n      <td>5951.0</td>\n      <td>&lt;100</td>\n      <td>1&lt;=X&lt;4</td>\n      <td>2.0</td>\n      <td>female div/dep/mar</td>\n      <td>none</td>\n      <td>2.0</td>\n      <td>real estate</td>\n      <td>22.0</td>\n      <td>none</td>\n      <td>own</td>\n      <td>1.0</td>\n      <td>skilled</td>\n      <td>1.0</td>\n      <td>none</td>\n      <td>yes</td>\n    </tr>\n    <tr>\n      <th>2</th>\n      <td>no checking</td>\n      <td>12.0</td>\n      <td>critical/other existing credit</td>\n      <td>education</td>\n      <td>2096.0</td>\n      <td>&lt;100</td>\n      <td>4&lt;=X&lt;7</td>\n      <td>2.0</td>\n      <td>male single</td>\n      <td>none</td>\n      <td>3.0</td>\n      <td>real estate</td>\n      <td>49.0</td>\n      <td>none</td>\n      <td>own</td>\n      <td>1.0</td>\n      <td>unskilled resident</td>\n      <td>2.0</td>\n      <td>none</td>\n      <td>yes</td>\n    </tr>\n    <tr>\n      <th>3</th>\n      <td>&lt;0</td>\n      <td>42.0</td>\n      <td>existing paid</td>\n      <td>furniture/equipment</td>\n      <td>7882.0</td>\n      <td>&lt;100</td>\n      <td>4&lt;=X&lt;7</td>\n      <td>2.0</td>\n      <td>male single</td>\n      <td>guarantor</td>\n      <td>4.0</td>\n      <td>life insurance</td>\n      <td>45.0</td>\n      <td>none</td>\n      <td>for free</td>\n      <td>1.0</td>\n      <td>skilled</td>\n      <td>2.0</td>\n      <td>none</td>\n      <td>yes</td>\n    </tr>\n    <tr>\n      <th>4</th>\n      <td>&lt;0</td>\n      <td>24.0</td>\n      <td>delayed previously</td>\n      <td>new car</td>\n      <td>4870.0</td>\n      <td>&lt;100</td>\n      <td>1&lt;=X&lt;4</td>\n      <td>3.0</td>\n      <td>male single</td>\n      <td>none</td>\n      <td>4.0</td>\n      <td>no known property</td>\n      <td>53.0</td>\n      <td>none</td>\n      <td>for free</td>\n      <td>2.0</td>\n      <td>skilled</td>\n      <td>2.0</td>\n      <td>none</td>\n      <td>yes</td>\n    </tr>\n  </tbody>\n</table>\n</div>"
          },
          "metadata": {},
          "execution_count": 5
        }
      ]
    },
    {
      "cell_type": "code",
      "metadata": {
        "ExecuteTime": {
          "end_time": "2020-05-07T01:05:56.756465Z",
          "start_time": "2020-05-07T01:05:56.734220Z"
        },
        "id": "VMHXspocHrLu",
        "colab_type": "code",
        "colab": {
          "base_uri": "https://localhost:8080/",
          "height": 34
        },
        "outputId": "3b61d379-2be4-47de-ec88-92f5f645b181"
      },
      "source": [
        "X_train, X_test, y_train, y_test = train_test_split(dataset.data, \n",
        "                                                    dataset.target,\n",
        "                                                    test_size=0.25, \n",
        "                                                    random_state=RANDOM_SEED,)\n",
        "X_train.shape, X_test.shape"
      ],
      "execution_count": 6,
      "outputs": [
        {
          "output_type": "execute_result",
          "data": {
            "text/plain": [
              "((750, 20), (250, 20))"
            ]
          },
          "metadata": {},
          "execution_count": 6
        }
      ]
    },
    {
      "cell_type": "markdown",
      "metadata": {
        "id": "Nv22CQlxHrLw",
        "colab_type": "text"
      },
      "source": [
        "## Model"
      ]
    },
    {
      "cell_type": "code",
      "metadata": {
        "ExecuteTime": {
          "end_time": "2020-05-07T01:05:59.848085Z",
          "start_time": "2020-05-07T01:05:59.337884Z"
        },
        "id": "QNuj6yuOHrLw",
        "colab_type": "code",
        "colab": {},
        "tags": []
      },
      "source": [
        "model = ModelsReview(X_train, y_train, X_test, type_of_estimator='classifier', random_state=RANDOM_SEED)\n",
        "\n",
        "# or Simply\n",
        "model = ModelsReviewClassifier(X_train, y_train, X_test, random_state=RANDOM_SEED)"
      ],
      "execution_count": 7,
      "outputs": []
    },
    {
      "cell_type": "code",
      "execution_count": 8,
      "metadata": {
        "tags": []
      },
      "outputs": [
        {
          "output_type": "stream",
          "name": "stderr",
          "text": [
            " 10%|█         | 1/10 [00:28<04:14, 28.31s/it]\n",
            " Mean Score roc_auc_score on 10 Folds: 0.7503 std: 0.04765\n",
            " 20%|██        | 2/10 [00:28<02:39, 19.93s/it]\n",
            " Mean Score roc_auc_score on 10 Folds: 0.6936 std: 0.078554\n",
            " 30%|███       | 3/10 [00:33<01:47, 15.42s/it]\n",
            " Mean Score roc_auc_score on 10 Folds: 0.6678 std: 0.037481\n",
            " 40%|████      | 4/10 [00:35<01:08, 11.36s/it]\n",
            " Mean Score roc_auc_score on 10 Folds: 0.7592 std: 0.047259\n",
            " 50%|█████     | 5/10 [00:36<00:40,  8.12s/it]\n",
            " Mean Score roc_auc_score on 10 Folds: 0.6429 std: 0.050253\n",
            " 60%|██████    | 6/10 [00:39<00:26,  6.60s/it]\n",
            " Mean Score roc_auc_score on 10 Folds: 0.7661 std: 0.053527\n",
            " 70%|███████   | 7/10 [00:41<00:15,  5.32s/it]\n",
            " Mean Score roc_auc_score on 10 Folds: 0.7595 std: 0.054004\n",
            " 80%|████████  | 8/10 [00:55<00:15,  7.85s/it]\n",
            " Mean Score roc_auc_score on 10 Folds: 0.6543 std: 0.04842\n",
            " 90%|█████████ | 9/10 [01:02<00:07,  7.73s/it]\n",
            " Mean Score roc_auc_score on 10 Folds: 0.7974 std: 0.048408\n",
            "100%|██████████| 10/10 [01:08<00:00,  6.80s/it]\n",
            " Mean Score roc_auc_score on 10 Folds: 0.7603 std: 0.059691\n",
            "\n"
          ]
        }
      ],
      "source": [
        "# let's see what the results are for all available models with default settings\n",
        "review = model.fit()"
      ]
    },
    {
      "cell_type": "code",
      "execution_count": 9,
      "metadata": {},
      "outputs": [
        {
          "output_type": "execute_result",
          "data": {
            "text/plain": [
              "   score_opt  model_score  score_std    model_name  \\\n",
              "0   0.702650       0.7503   0.047650      LightGBM   \n",
              "1   0.615046       0.6936   0.078554    KNeighbors   \n",
              "2   0.630319       0.6678   0.037481     LinearSVM   \n",
              "3   0.711941       0.7592   0.047259   LinearModel   \n",
              "4   0.592647       0.6429   0.050253           SGD   \n",
              "5   0.712573       0.7661   0.053527  RandomForest   \n",
              "6   0.705496       0.7595   0.054004    ExtraTrees   \n",
              "7   0.605880       0.6543   0.048420       XGBoost   \n",
              "8   0.748992       0.7974   0.048408      CatBoost   \n",
              "9   0.700609       0.7603   0.059691           MLP   \n",
              "\n",
              "                                         model_param  \\\n",
              "0  {'random_seed': 42, 'early_stopping_rounds': 5...   \n",
              "1                                     {'n_jobs': -1}   \n",
              "2                 {'verbose': 0, 'random_state': 42}   \n",
              "3                                                 {}   \n",
              "4  {'max_iter': 5000, 'verbose': 0, 'fit_intercep...   \n",
              "5   {'verbose': 0, 'random_state': 42, 'n_jobs': -1}   \n",
              "6   {'verbose': 0, 'random_state': 42, 'n_jobs': -1}   \n",
              "7  {'verbosity': 0, 'early_stopping_rounds': 100,...   \n",
              "8  {'verbose': 0, 'early_stopping_rounds': 50, 't...   \n",
              "9  {'verbose': 0, 'random_state': 42, 'max_iter':...   \n",
              "\n",
              "              wrapper_params  \\\n",
              "0  {'early_stopping': False}   \n",
              "1                         {}   \n",
              "2                         {}   \n",
              "3                         {}   \n",
              "4                         {}   \n",
              "5                         {}   \n",
              "6                         {}   \n",
              "7  {'early_stopping': False}   \n",
              "8   {'early_stopping': True}   \n",
              "9                         {}   \n",
              "\n",
              "                                         cat_encoder  \\\n",
              "0  [OneHotEncoder, HelmertEncoder, HashingEncoder...   \n",
              "1  [OneHotEncoder, HelmertEncoder, HashingEncoder...   \n",
              "2  [OneHotEncoder, HelmertEncoder, HashingEncoder...   \n",
              "3  [OneHotEncoder, HelmertEncoder, HashingEncoder...   \n",
              "4  [OneHotEncoder, HelmertEncoder, HashingEncoder...   \n",
              "5  [OneHotEncoder, HelmertEncoder, HashingEncoder...   \n",
              "6  [OneHotEncoder, HelmertEncoder, HashingEncoder...   \n",
              "7  [OneHotEncoder, HelmertEncoder, HashingEncoder...   \n",
              "8  [OneHotEncoder, HelmertEncoder, HashingEncoder...   \n",
              "9  [OneHotEncoder, HelmertEncoder, HashingEncoder...   \n",
              "\n",
              "                                             columns  cv_folds  \n",
              "0  [duration, credit_amount, age, num_dependents,...        10  \n",
              "1  [duration, credit_amount, age, num_dependents,...        10  \n",
              "2  [duration, credit_amount, age, num_dependents,...        10  \n",
              "3  [duration, credit_amount, age, num_dependents,...        10  \n",
              "4  [duration, credit_amount, age, num_dependents,...        10  \n",
              "5  [duration, credit_amount, age, num_dependents,...        10  \n",
              "6  [duration, credit_amount, age, num_dependents,...        10  \n",
              "7  [duration, credit_amount, age, num_dependents,...        10  \n",
              "8  [duration, credit_amount, age, num_dependents,...        10  \n",
              "9  [duration, credit_amount, age, num_dependents,...        10  "
            ],
            "text/html": "<div>\n<style scoped>\n    .dataframe tbody tr th:only-of-type {\n        vertical-align: middle;\n    }\n\n    .dataframe tbody tr th {\n        vertical-align: top;\n    }\n\n    .dataframe thead th {\n        text-align: right;\n    }\n</style>\n<table border=\"1\" class=\"dataframe\">\n  <thead>\n    <tr style=\"text-align: right;\">\n      <th></th>\n      <th>score_opt</th>\n      <th>model_score</th>\n      <th>score_std</th>\n      <th>model_name</th>\n      <th>model_param</th>\n      <th>wrapper_params</th>\n      <th>cat_encoder</th>\n      <th>columns</th>\n      <th>cv_folds</th>\n    </tr>\n  </thead>\n  <tbody>\n    <tr>\n      <th>0</th>\n      <td>0.702650</td>\n      <td>0.7503</td>\n      <td>0.047650</td>\n      <td>LightGBM</td>\n      <td>{'random_seed': 42, 'early_stopping_rounds': 5...</td>\n      <td>{'early_stopping': False}</td>\n      <td>[OneHotEncoder, HelmertEncoder, HashingEncoder...</td>\n      <td>[duration, credit_amount, age, num_dependents,...</td>\n      <td>10</td>\n    </tr>\n    <tr>\n      <th>1</th>\n      <td>0.615046</td>\n      <td>0.6936</td>\n      <td>0.078554</td>\n      <td>KNeighbors</td>\n      <td>{'n_jobs': -1}</td>\n      <td>{}</td>\n      <td>[OneHotEncoder, HelmertEncoder, HashingEncoder...</td>\n      <td>[duration, credit_amount, age, num_dependents,...</td>\n      <td>10</td>\n    </tr>\n    <tr>\n      <th>2</th>\n      <td>0.630319</td>\n      <td>0.6678</td>\n      <td>0.037481</td>\n      <td>LinearSVM</td>\n      <td>{'verbose': 0, 'random_state': 42}</td>\n      <td>{}</td>\n      <td>[OneHotEncoder, HelmertEncoder, HashingEncoder...</td>\n      <td>[duration, credit_amount, age, num_dependents,...</td>\n      <td>10</td>\n    </tr>\n    <tr>\n      <th>3</th>\n      <td>0.711941</td>\n      <td>0.7592</td>\n      <td>0.047259</td>\n      <td>LinearModel</td>\n      <td>{}</td>\n      <td>{}</td>\n      <td>[OneHotEncoder, HelmertEncoder, HashingEncoder...</td>\n      <td>[duration, credit_amount, age, num_dependents,...</td>\n      <td>10</td>\n    </tr>\n    <tr>\n      <th>4</th>\n      <td>0.592647</td>\n      <td>0.6429</td>\n      <td>0.050253</td>\n      <td>SGD</td>\n      <td>{'max_iter': 5000, 'verbose': 0, 'fit_intercep...</td>\n      <td>{}</td>\n      <td>[OneHotEncoder, HelmertEncoder, HashingEncoder...</td>\n      <td>[duration, credit_amount, age, num_dependents,...</td>\n      <td>10</td>\n    </tr>\n    <tr>\n      <th>5</th>\n      <td>0.712573</td>\n      <td>0.7661</td>\n      <td>0.053527</td>\n      <td>RandomForest</td>\n      <td>{'verbose': 0, 'random_state': 42, 'n_jobs': -1}</td>\n      <td>{}</td>\n      <td>[OneHotEncoder, HelmertEncoder, HashingEncoder...</td>\n      <td>[duration, credit_amount, age, num_dependents,...</td>\n      <td>10</td>\n    </tr>\n    <tr>\n      <th>6</th>\n      <td>0.705496</td>\n      <td>0.7595</td>\n      <td>0.054004</td>\n      <td>ExtraTrees</td>\n      <td>{'verbose': 0, 'random_state': 42, 'n_jobs': -1}</td>\n      <td>{}</td>\n      <td>[OneHotEncoder, HelmertEncoder, HashingEncoder...</td>\n      <td>[duration, credit_amount, age, num_dependents,...</td>\n      <td>10</td>\n    </tr>\n    <tr>\n      <th>7</th>\n      <td>0.605880</td>\n      <td>0.6543</td>\n      <td>0.048420</td>\n      <td>XGBoost</td>\n      <td>{'verbosity': 0, 'early_stopping_rounds': 100,...</td>\n      <td>{'early_stopping': False}</td>\n      <td>[OneHotEncoder, HelmertEncoder, HashingEncoder...</td>\n      <td>[duration, credit_amount, age, num_dependents,...</td>\n      <td>10</td>\n    </tr>\n    <tr>\n      <th>8</th>\n      <td>0.748992</td>\n      <td>0.7974</td>\n      <td>0.048408</td>\n      <td>CatBoost</td>\n      <td>{'verbose': 0, 'early_stopping_rounds': 50, 't...</td>\n      <td>{'early_stopping': True}</td>\n      <td>[OneHotEncoder, HelmertEncoder, HashingEncoder...</td>\n      <td>[duration, credit_amount, age, num_dependents,...</td>\n      <td>10</td>\n    </tr>\n    <tr>\n      <th>9</th>\n      <td>0.700609</td>\n      <td>0.7603</td>\n      <td>0.059691</td>\n      <td>MLP</td>\n      <td>{'verbose': 0, 'random_state': 42, 'max_iter':...</td>\n      <td>{}</td>\n      <td>[OneHotEncoder, HelmertEncoder, HashingEncoder...</td>\n      <td>[duration, credit_amount, age, num_dependents,...</td>\n      <td>10</td>\n    </tr>\n  </tbody>\n</table>\n</div>"
          },
          "metadata": {},
          "execution_count": 9
        }
      ],
      "source": [
        "review"
      ]
    },
    {
      "cell_type": "code",
      "metadata": {
        "ExecuteTime": {
          "end_time": "2020-05-06T17:01:04.947762Z",
          "start_time": "2020-05-06T16:47:23.396089Z"
        },
        "id": "b2FfF7WYHrLy",
        "colab_type": "code",
        "colab": {
          "base_uri": "https://localhost:8080/",
          "height": 34
        },
        "outputId": "ed480a4c-c763-46d2-dd8d-f18e396241ec",
        "tags": []
      },
      "source": [
        "# let's optimize all the models and see what the result will be (it takes a lot of time)\n",
        "review = model.opt(timeout=1000, verbose=1)"
      ],
      "execution_count": 10,
      "outputs": [
        {
          "output_type": "stream",
          "name": "stderr",
          "text": [
            "  0%|          | 0/10 [00:00<?, ?it/s]\u001b[32m[I 2020-11-23 12:43:33,722]\u001b[0m A new study created in memory with name: no-name-1c94f97d-f258-44c9-83ab-03080766a5da\u001b[0m\n",
            " 10%|█         | 1/10 [01:47<16:11, 107.94s/it]\n",
            " LightGBM  Best Score:  0.7644\n",
            " 20%|██        | 2/10 [02:41<12:12, 91.62s/it] \n",
            " KNeighbors  Best Score:  0.8276\n",
            " 30%|███       | 3/10 [04:57<12:14, 104.90s/it]\n",
            " LinearSVM  Best Score:  0.7076\n",
            " 40%|████      | 4/10 [07:41<12:16, 122.68s/it]\n",
            " LinearModel  Best Score:  0.761\n",
            " 50%|█████     | 5/10 [10:09<10:50, 130.18s/it]\n",
            " SGD  Best Score:  0.735\n",
            " 60%|██████    | 6/10 [14:02<10:44, 161.04s/it]\n",
            " RandomForest  Best Score:  0.7945\n",
            " 70%|███████   | 7/10 [18:44<09:51, 197.27s/it]\n",
            " ExtraTrees  Best Score:  0.7902\n",
            " 80%|████████  | 8/10 [24:28<08:02, 241.46s/it]\n",
            " XGBoost  Best Score:  0.6848\n",
            " 90%|█████████ | 9/10 [31:12<04:50, 290.13s/it]\n",
            " CatBoost  Best Score:  0.8184\n",
            "100%|██████████| 10/10 [39:12<00:00, 235.29s/it]\n",
            " MLP  Best Score:  0.7674\n",
            "\n"
          ]
        }
      ]
    },
    {
      "cell_type": "code",
      "metadata": {
        "ExecuteTime": {
          "end_time": "2020-05-07T01:11:28.827682Z",
          "start_time": "2020-05-07T01:11:28.808642Z"
        },
        "id": "X2ye5d0WHrL0",
        "colab_type": "code",
        "colab": {
          "base_uri": "https://localhost:8080/",
          "height": 359
        },
        "outputId": "11d1161f-7547-4927-a63a-cf6aa045bc24"
      },
      "source": [
        "model.top1_models_cfgs"
      ],
      "execution_count": 11,
      "outputs": [
        {
          "output_type": "execute_result",
          "data": {
            "text/plain": [
              "   score_opt  model_score  score_std    model_name  \\\n",
              "0     0.7261       0.7644   0.038315      LightGBM   \n",
              "1     0.7968       0.8276   0.030760    KNeighbors   \n",
              "2     0.6843       0.7076   0.023320     LinearSVM   \n",
              "3     0.7368       0.7610   0.024152   LinearModel   \n",
              "4     0.7208       0.7350   0.014166           SGD   \n",
              "5     0.7535       0.7945   0.041027  RandomForest   \n",
              "6     0.7508       0.7902   0.039376    ExtraTrees   \n",
              "7     0.6488       0.6848   0.035964       XGBoost   \n",
              "8     0.7864       0.8184   0.032003      CatBoost   \n",
              "9     0.7567       0.7674   0.010686           MLP   \n",
              "\n",
              "                                         model_param  \\\n",
              "0  {'random_seed': 42, 'early_stopping_rounds': 5...   \n",
              "1  {'n_jobs': -1, 'n_neighbors': 46, 'weights': '...   \n",
              "2  {'verbose': 0, 'random_state': 42, 'tol': 0.00...   \n",
              "3  {'fit_intercept': True, 'C': 57.59620969341546...   \n",
              "4  {'max_iter': 5000, 'verbose': 0, 'fit_intercep...   \n",
              "5  {'verbose': 0, 'random_state': 42, 'n_jobs': -...   \n",
              "6  {'verbose': 0, 'random_state': 42, 'n_jobs': -...   \n",
              "7  {'verbosity': 0, 'early_stopping_rounds': 0, '...   \n",
              "8  {'verbose': 0, 'early_stopping_rounds': 50, 't...   \n",
              "9  {'verbose': 0, 'random_state': 42, 'max_iter':...   \n",
              "\n",
              "              wrapper_params  \\\n",
              "0  {'early_stopping': False}   \n",
              "1                         {}   \n",
              "2                         {}   \n",
              "3                         {}   \n",
              "4                         {}   \n",
              "5                         {}   \n",
              "6                         {}   \n",
              "7  {'early_stopping': False}   \n",
              "8   {'early_stopping': True}   \n",
              "9                         {}   \n",
              "\n",
              "                                        cat_encoders  \\\n",
              "0  [OneHotEncoder, HelmertEncoder, HashingEncoder...   \n",
              "1  [OneHotEncoder, HelmertEncoder, HashingEncoder...   \n",
              "2  [OneHotEncoder, HelmertEncoder, HashingEncoder...   \n",
              "3  [OneHotEncoder, HelmertEncoder, HashingEncoder...   \n",
              "4  [OneHotEncoder, HelmertEncoder, HashingEncoder...   \n",
              "5  [OneHotEncoder, HelmertEncoder, HashingEncoder...   \n",
              "6  [OneHotEncoder, HelmertEncoder, HashingEncoder...   \n",
              "7  [OneHotEncoder, HelmertEncoder, HashingEncoder...   \n",
              "8  [OneHotEncoder, HelmertEncoder, HashingEncoder...   \n",
              "9  [OneHotEncoder, HelmertEncoder, HashingEncoder...   \n",
              "\n",
              "                                             columns  cv_folds  \n",
              "0  (credit_amount, OneHotEncoder_savings_status_1...        10  \n",
              "1  (duration, OneHotEncoder_savings_status_4, One...        10  \n",
              "2  (duration, credit_amount, num_dependents, OneH...        10  \n",
              "3  (OneHotEncoder_savings_status_2, OneHotEncoder...        10  \n",
              "4  (num_dependents, OneHotEncoder_savings_status_...        10  \n",
              "5  (duration, age, num_dependents, OneHotEncoder_...        10  \n",
              "6  (credit_amount, age, OneHotEncoder_savings_sta...        10  \n",
              "7  (duration, credit_amount, age, OneHotEncoder_s...        10  \n",
              "8  (duration, credit_amount, OneHotEncoder_saving...        10  \n",
              "9  (credit_amount, OneHotEncoder_savings_status_3...        10  "
            ],
            "text/html": "<div>\n<style scoped>\n    .dataframe tbody tr th:only-of-type {\n        vertical-align: middle;\n    }\n\n    .dataframe tbody tr th {\n        vertical-align: top;\n    }\n\n    .dataframe thead th {\n        text-align: right;\n    }\n</style>\n<table border=\"1\" class=\"dataframe\">\n  <thead>\n    <tr style=\"text-align: right;\">\n      <th></th>\n      <th>score_opt</th>\n      <th>model_score</th>\n      <th>score_std</th>\n      <th>model_name</th>\n      <th>model_param</th>\n      <th>wrapper_params</th>\n      <th>cat_encoders</th>\n      <th>columns</th>\n      <th>cv_folds</th>\n    </tr>\n  </thead>\n  <tbody>\n    <tr>\n      <th>0</th>\n      <td>0.7261</td>\n      <td>0.7644</td>\n      <td>0.038315</td>\n      <td>LightGBM</td>\n      <td>{'random_seed': 42, 'early_stopping_rounds': 5...</td>\n      <td>{'early_stopping': False}</td>\n      <td>[OneHotEncoder, HelmertEncoder, HashingEncoder...</td>\n      <td>(credit_amount, OneHotEncoder_savings_status_1...</td>\n      <td>10</td>\n    </tr>\n    <tr>\n      <th>1</th>\n      <td>0.7968</td>\n      <td>0.8276</td>\n      <td>0.030760</td>\n      <td>KNeighbors</td>\n      <td>{'n_jobs': -1, 'n_neighbors': 46, 'weights': '...</td>\n      <td>{}</td>\n      <td>[OneHotEncoder, HelmertEncoder, HashingEncoder...</td>\n      <td>(duration, OneHotEncoder_savings_status_4, One...</td>\n      <td>10</td>\n    </tr>\n    <tr>\n      <th>2</th>\n      <td>0.6843</td>\n      <td>0.7076</td>\n      <td>0.023320</td>\n      <td>LinearSVM</td>\n      <td>{'verbose': 0, 'random_state': 42, 'tol': 0.00...</td>\n      <td>{}</td>\n      <td>[OneHotEncoder, HelmertEncoder, HashingEncoder...</td>\n      <td>(duration, credit_amount, num_dependents, OneH...</td>\n      <td>10</td>\n    </tr>\n    <tr>\n      <th>3</th>\n      <td>0.7368</td>\n      <td>0.7610</td>\n      <td>0.024152</td>\n      <td>LinearModel</td>\n      <td>{'fit_intercept': True, 'C': 57.59620969341546...</td>\n      <td>{}</td>\n      <td>[OneHotEncoder, HelmertEncoder, HashingEncoder...</td>\n      <td>(OneHotEncoder_savings_status_2, OneHotEncoder...</td>\n      <td>10</td>\n    </tr>\n    <tr>\n      <th>4</th>\n      <td>0.7208</td>\n      <td>0.7350</td>\n      <td>0.014166</td>\n      <td>SGD</td>\n      <td>{'max_iter': 5000, 'verbose': 0, 'fit_intercep...</td>\n      <td>{}</td>\n      <td>[OneHotEncoder, HelmertEncoder, HashingEncoder...</td>\n      <td>(num_dependents, OneHotEncoder_savings_status_...</td>\n      <td>10</td>\n    </tr>\n    <tr>\n      <th>5</th>\n      <td>0.7535</td>\n      <td>0.7945</td>\n      <td>0.041027</td>\n      <td>RandomForest</td>\n      <td>{'verbose': 0, 'random_state': 42, 'n_jobs': -...</td>\n      <td>{}</td>\n      <td>[OneHotEncoder, HelmertEncoder, HashingEncoder...</td>\n      <td>(duration, age, num_dependents, OneHotEncoder_...</td>\n      <td>10</td>\n    </tr>\n    <tr>\n      <th>6</th>\n      <td>0.7508</td>\n      <td>0.7902</td>\n      <td>0.039376</td>\n      <td>ExtraTrees</td>\n      <td>{'verbose': 0, 'random_state': 42, 'n_jobs': -...</td>\n      <td>{}</td>\n      <td>[OneHotEncoder, HelmertEncoder, HashingEncoder...</td>\n      <td>(credit_amount, age, OneHotEncoder_savings_sta...</td>\n      <td>10</td>\n    </tr>\n    <tr>\n      <th>7</th>\n      <td>0.6488</td>\n      <td>0.6848</td>\n      <td>0.035964</td>\n      <td>XGBoost</td>\n      <td>{'verbosity': 0, 'early_stopping_rounds': 0, '...</td>\n      <td>{'early_stopping': False}</td>\n      <td>[OneHotEncoder, HelmertEncoder, HashingEncoder...</td>\n      <td>(duration, credit_amount, age, OneHotEncoder_s...</td>\n      <td>10</td>\n    </tr>\n    <tr>\n      <th>8</th>\n      <td>0.7864</td>\n      <td>0.8184</td>\n      <td>0.032003</td>\n      <td>CatBoost</td>\n      <td>{'verbose': 0, 'early_stopping_rounds': 50, 't...</td>\n      <td>{'early_stopping': True}</td>\n      <td>[OneHotEncoder, HelmertEncoder, HashingEncoder...</td>\n      <td>(duration, credit_amount, OneHotEncoder_saving...</td>\n      <td>10</td>\n    </tr>\n    <tr>\n      <th>9</th>\n      <td>0.7567</td>\n      <td>0.7674</td>\n      <td>0.010686</td>\n      <td>MLP</td>\n      <td>{'verbose': 0, 'random_state': 42, 'max_iter':...</td>\n      <td>{}</td>\n      <td>[OneHotEncoder, HelmertEncoder, HashingEncoder...</td>\n      <td>(credit_amount, OneHotEncoder_savings_status_3...</td>\n      <td>10</td>\n    </tr>\n  </tbody>\n</table>\n</div>"
          },
          "metadata": {},
          "execution_count": 11
        }
      ]
    },
    {
      "cell_type": "code",
      "metadata": {
        "id": "ZU2oHBclHrL3",
        "colab_type": "code",
        "colab": {}
      },
      "source": [
        ""
      ],
      "execution_count": 0,
      "outputs": []
    }
  ],
  "metadata": {
    "kernelspec": {
      "name": "python3",
      "display_name": "Python 3.8.6 64-bit",
      "metadata": {
        "interpreter": {
          "hash": "4cd7ab41f5fca4b9b44701077e38c5ffd31fe66a6cab21e0214b68d958d0e462"
        }
      }
    },
    "toc": {
      "base_numbering": 1,
      "nav_menu": {},
      "number_sections": false,
      "sideBar": true,
      "skip_h1_title": false,
      "title_cell": "Table of Contents",
      "title_sidebar": "Contents",
      "toc_cell": false,
      "toc_position": {
        "height": "calc(100% - 180px)",
        "left": "10px",
        "top": "150px",
        "width": "165px"
      },
      "toc_section_display": true,
      "toc_window_display": true
    },
    "colab": {
      "name": "04_ModelsReview.ipynb",
      "provenance": [],
      "collapsed_sections": []
    }
  },
  "nbformat": 4,
  "nbformat_minor": 0
}