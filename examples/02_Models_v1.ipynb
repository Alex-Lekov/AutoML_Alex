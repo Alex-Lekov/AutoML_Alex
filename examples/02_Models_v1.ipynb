{
  "cells": [
    {
      "cell_type": "code",
      "metadata": {
        "ExecuteTime": {
          "end_time": "2020-05-07T08:40:27.950196Z",
          "start_time": "2020-05-07T08:40:27.947264Z"
        },
        "id": "JWu_N5HFbV4v",
        "colab_type": "code",
        "colab": {
          "base_uri": "https://localhost:8080/",
          "height": 972
        },
        "outputId": "1a501a70-5ec4-49cf-d38e-cfde0567f306"
      },
      "source": [
        "# If you run this notebook on Google Colaboratory, uncomment the below to install automl_alex.\n",
        "#!pip install automl-alex"
      ],
      "execution_count": 1,
      "outputs": []
    },
    {
      "cell_type": "code",
      "metadata": {
        "ExecuteTime": {
          "end_time": "2020-05-07T08:40:30.084237Z",
          "start_time": "2020-05-07T08:40:28.530481Z"
        },
        "id": "im_z95sdbV46",
        "colab_type": "code",
        "colab": {
          "base_uri": "https://localhost:8080/",
          "height": 34
        },
        "outputId": "d0ed0122-7cfa-4d56-85f3-863b4e92973c"
      },
      "source": [
        "import sklearn\n",
        "import pandas as pd\n",
        "from sklearn.model_selection import train_test_split\n",
        "\n",
        "import automl_alex\n",
        "print(automl_alex.__version__)"
      ],
      "execution_count": 2,
      "outputs": [
        {
          "output_type": "stream",
          "name": "stdout",
          "text": "0.05.08.11\n"
        }
      ]
    },
    {
      "cell_type": "code",
      "metadata": {
        "ExecuteTime": {
          "end_time": "2020-05-07T08:40:30.989504Z",
          "start_time": "2020-05-07T08:40:30.985837Z"
        },
        "id": "MLtO5wRAbV5A",
        "colab_type": "code",
        "colab": {}
      },
      "source": [
        "RANDOM_SEED = 42"
      ],
      "execution_count": 3,
      "outputs": []
    },
    {
      "cell_type": "markdown",
      "metadata": {
        "id": "4ef2pWXrbV5G",
        "colab_type": "text"
      },
      "source": [
        "# Regression"
      ]
    },
    {
      "cell_type": "markdown",
      "metadata": {
        "id": "rIom-hsebV5H",
        "colab_type": "text"
      },
      "source": [
        "## Data"
      ]
    },
    {
      "cell_type": "code",
      "metadata": {
        "ExecuteTime": {
          "end_time": "2020-05-07T08:40:43.537111Z",
          "start_time": "2020-05-07T08:40:43.487884Z"
        },
        "id": "N2J9L7o5bV5H",
        "colab_type": "code",
        "colab": {
          "base_uri": "https://localhost:8080/",
          "height": 34
        },
        "outputId": "d3e84afd-71dc-475d-c393-47d4e00fc295"
      },
      "source": [
        "from sklearn.datasets import load_boston\n",
        "data = load_boston()\n",
        "X_train, X_test, y_train, y_test = train_test_split(pd.DataFrame(data.data), \n",
        "                                                    pd.DataFrame(data.target), \n",
        "                                                    test_size=0.15, \n",
        "                                                    random_state=RANDOM_SEED,)\n",
        "\n",
        "X_train.shape, X_test.shape"
      ],
      "execution_count": 4,
      "outputs": [
        {
          "output_type": "execute_result",
          "data": {
            "text/plain": "((430, 13), (76, 13))"
          },
          "metadata": {},
          "execution_count": 4
        }
      ]
    },
    {
      "cell_type": "markdown",
      "metadata": {
        "id": "dp1LnCd8bV5L",
        "colab_type": "text"
      },
      "source": [
        "## Model"
      ]
    },
    {
      "cell_type": "code",
      "metadata": {
        "ExecuteTime": {
          "end_time": "2020-05-07T08:40:44.210481Z",
          "start_time": "2020-05-07T08:40:44.203520Z"
        },
        "id": "_bPRxyuwbV5L",
        "colab_type": "code",
        "colab": {
          "base_uri": "https://localhost:8080/",
          "height": 170
        },
        "outputId": "4408921c-e14a-42cc-de56-8b9bad8eb6d3"
      },
      "source": [
        "# Libraries are currently available:\n",
        "automl_alex.models.all_models"
      ],
      "execution_count": 5,
      "outputs": [
        {
          "output_type": "execute_result",
          "data": {
            "text/plain": "{'LightGBM': automl_alex.models.model_lightgbm.LightGBM,\n 'KNeighbors': automl_alex.models.sklearn_models.KNeighbors,\n 'LinearSVM': automl_alex.models.sklearn_models.LinearSVM,\n 'LinearModel': automl_alex.models.sklearn_models.LinearModel,\n 'SGD': automl_alex.models.sklearn_models.SGD,\n 'RandomForest': automl_alex.models.sklearn_models.RandomForest,\n 'ExtraTrees': automl_alex.models.sklearn_models.ExtraTrees,\n 'XGBoost': automl_alex.models.model_xgboost.XGBoost,\n 'CatBoost': automl_alex.models.model_catboost.CatBoost,\n 'MLP': automl_alex.models.sklearn_models.MLP}"
          },
          "metadata": {},
          "execution_count": 5
        }
      ]
    },
    {
      "cell_type": "markdown",
      "metadata": {
        "id": "gZt0Owq1bV5O",
        "colab_type": "text"
      },
      "source": [
        "You can add a library if you wish."
      ]
    },
    {
      "cell_type": "code",
      "metadata": {
        "ExecuteTime": {
          "end_time": "2020-05-07T08:40:45.348064Z",
          "start_time": "2020-05-07T08:40:45.287480Z"
        },
        "id": "cH0AUcRAbV5P",
        "colab_type": "code",
        "colab": {}
      },
      "source": [
        "from automl_alex import LightGBM, LightGBMRegressor\n",
        "\n",
        "# We will use LightGBM for this dataset\n",
        "model = LightGBM(X_train, y_train, X_test, type_of_estimator='regression', random_state=RANDOM_SEED)\n",
        "\n",
        "# or Simply\n",
        "model = LightGBMRegressor(X_train, y_train, X_test, random_state=RANDOM_SEED)"
      ],
      "execution_count": 6,
      "outputs": []
    },
    {
      "cell_type": "code",
      "metadata": {
        "ExecuteTime": {
          "end_time": "2020-05-07T08:40:48.905014Z",
          "start_time": "2020-05-07T08:40:48.148436Z"
        },
        "id": "A5PK92UMbV5S",
        "colab_type": "code",
        "colab": {
          "base_uri": "https://localhost:8080/",
          "height": 34
        },
        "outputId": "9265396c-8c86-48fb-c7fc-00f2e8d5e6dc"
      },
      "source": [
        "# fit with default model parameters\n",
        "predict_test, predict_train = model.fit_predict()"
      ],
      "execution_count": 7,
      "outputs": [
        {
          "output_type": "stream",
          "name": "stdout",
          "text": "Mean Score mean_squared_error on 10 Folds: 12.6553 std: 5.579096\n"
        }
      ]
    },
    {
      "cell_type": "code",
      "metadata": {
        "ExecuteTime": {
          "end_time": "2020-05-07T08:40:48.918246Z",
          "start_time": "2020-05-07T08:40:48.907770Z"
        },
        "id": "8tMAyj73bV5V",
        "colab_type": "code",
        "colab": {
          "base_uri": "https://localhost:8080/",
          "height": 34
        },
        "outputId": "445f70e7-2a71-486f-dc73-4fde577d5d25"
      },
      "source": [
        "print('Test MSE: ', sklearn.metrics.mean_squared_error(y_test, predict_test))"
      ],
      "execution_count": 8,
      "outputs": [
        {
          "output_type": "stream",
          "name": "stdout",
          "text": "Test MSE:5.5167241820196855\n"
        }
      ]
    },
    {
      "cell_type": "markdown",
      "metadata": {
        "id": "GLUexSl2bV5Z",
        "colab_type": "text"
      },
      "source": [
        "if we can optimize the model parameters the result can be improved"
      ]
    },
    {
      "cell_type": "markdown",
      "metadata": {
        "id": "AijWHeRMbV5a",
        "colab_type": "text"
      },
      "source": [
        "### Optimizing Parameters\n",
        "In this library, I tried to simplify the process of optimizing and iterating parameters as much as possible. You just specify how much time you are willing to spend on optimization, and the library will select the rules for cross-validation, optimization depth, and other optimization parameters based on this time. The more time you give it, the better it will be able to select parameters."
      ]
    },
    {
      "cell_type": "markdown",
      "metadata": {
        "id": "SKjOE6NybV5a",
        "colab_type": "text"
      },
      "source": [
        "[RUS]\n",
        "В этой библиотеке я постарался максимально упростить процесс оптимизации и перебора параметров. Вы просто указываете сколько вы готовы потратить времени на оптимизацию, а библиотека сама подберет правила кроссвалидации, глубины оптимизации и прочии параметры оптимизации исходя из этого времени. Чем больше времени вы ей дадите, тем более качественней она сможет подобрать параметры."
      ]
    },
    {
      "cell_type": "code",
      "metadata": {
        "ExecuteTime": {
          "end_time": "2020-05-07T06:07:42.156917Z",
          "start_time": "2020-05-07T05:59:20.211976Z"
        },
        "id": "A12prppBbV5b",
        "colab_type": "code",
        "colab": {
          "base_uri": "https://localhost:8080/",
          "height": 187
        },
        "outputId": "cd28bb67-93eb-4803-8011-b1b8c350de1c"
      },
      "source": [
        "history = model.opt(timeout=500, verbose=1)"
      ],
      "execution_count": 9,
      "outputs": [
        {
          "output_type": "stream",
          "name": "stdout",
          "text": "Start Auto calibration parameters\nOne iteration takes ~ 0.1 sec\nStart optimization with the parameters:\nScore_folds =4\nOpt_lvl =3\nCold_start =60.0\nEarly_stoping =85.0\nMetric =mean_squared_error\nDirection =minimize\nDefault model mean_squared_error = 11.0183\nOptimize: : 169it [08:22,  2.97s/it, Best Score mean_squared_error = 8.3515 +- 0.874894]\n"
        }
      ]
    },
    {
      "cell_type": "code",
      "metadata": {
        "ExecuteTime": {
          "end_time": "2020-05-07T06:07:49.822057Z",
          "start_time": "2020-05-07T06:07:42.159986Z"
        },
        "id": "cVvSu682bV5d",
        "colab_type": "code",
        "colab": {
          "base_uri": "https://localhost:8080/",
          "height": 51
        },
        "outputId": "e85466e7-2711-4d53-8fe1-005cd27cf357"
      },
      "source": [
        "predict_test, predict_train = model.fit_predict()\n",
        "print('Test MSE: ', sklearn.metrics.mean_squared_error(y_test, predict_test))"
      ],
      "execution_count": 10,
      "outputs": [
        {
          "output_type": "stream",
          "name": "stdout",
          "text": "Mean Score mean_squared_error on 10 Folds: 9.6067 std: 3.495197\nTest MSE:4.762940718514881\n"
        }
      ]
    },
    {
      "cell_type": "code",
      "metadata": {
        "ExecuteTime": {
          "end_time": "2020-05-07T06:08:03.970747Z",
          "start_time": "2020-05-07T06:08:03.947425Z"
        },
        "id": "4Y9c59khbV5g",
        "colab_type": "code",
        "colab": {
          "base_uri": "https://localhost:8080/",
          "height": 529
        },
        "outputId": "92cb08a4-8dc4-4998-9307-a7922b53ea52"
      },
      "source": [
        "history.head(10)"
      ],
      "execution_count": 11,
      "outputs": [
        {
          "output_type": "execute_result",
          "data": {
            "text/plain": "     score_opt  model_score  score_std         model_name  \\\n140     8.5742       7.0166   1.557645  LightGBMRegressor   \n119     8.9550       7.0809   1.874130  LightGBMRegressor   \n110     8.5664       7.1161   1.450290  LightGBMRegressor   \n113     8.8122       7.1322   1.680023  LightGBMRegressor   \n114     8.8122       7.1322   1.680023  LightGBMRegressor   \n117     8.8122       7.1322   1.680023  LightGBMRegressor   \n157     8.9361       7.1457   1.790357  LightGBMRegressor   \n108     9.0694       7.1485   1.920943  LightGBMRegressor   \n139     8.6888       7.2149   1.473939  LightGBMRegressor   \n138     8.6888       7.2149   1.473939  LightGBMRegressor   \n\n                                           model_param  \\\n140  {'random_seed': 42, 'early_stopping_rounds': 5...   \n119  {'random_seed': 42, 'early_stopping_rounds': 5...   \n110  {'random_seed': 42, 'early_stopping_rounds': 5...   \n113  {'random_seed': 42, 'early_stopping_rounds': 5...   \n114  {'random_seed': 42, 'early_stopping_rounds': 5...   \n117  {'random_seed': 42, 'early_stopping_rounds': 5...   \n157  {'random_seed': 42, 'early_stopping_rounds': 5...   \n108  {'random_seed': 42, 'early_stopping_rounds': 5...   \n139  {'random_seed': 42, 'early_stopping_rounds': 5...   \n138  {'random_seed': 42, 'early_stopping_rounds': 5...   \n\n                                        wrapper_params     cat_encoder  \\\n140  {'need_norm_data': False, 'early_stopping': Fa...  HelmertEncoder   \n119  {'need_norm_data': False, 'early_stopping': Fa...  HelmertEncoder   \n110  {'need_norm_data': False, 'early_stopping': Fa...  HelmertEncoder   \n113  {'need_norm_data': False, 'early_stopping': Fa...  HelmertEncoder   \n114  {'need_norm_data': False, 'early_stopping': Fa...  HelmertEncoder   \n117  {'need_norm_data': False, 'early_stopping': Fa...  HelmertEncoder   \n157  {'need_norm_data': False, 'early_stopping': Fa...  HelmertEncoder   \n108  {'need_norm_data': False, 'early_stopping': Fa...  HelmertEncoder   \n139  {'need_norm_data': False, 'early_stopping': Fa...  HelmertEncoder   \n138  {'need_norm_data': False, 'early_stopping': Fa...  HelmertEncoder   \n\n        target_encoder  \n140  JamesSteinEncoder  \n119  JamesSteinEncoder  \n110  JamesSteinEncoder  \n113  JamesSteinEncoder  \n114  JamesSteinEncoder  \n117  JamesSteinEncoder  \n157  JamesSteinEncoder  \n108  JamesSteinEncoder  \n139  JamesSteinEncoder  \n138  JamesSteinEncoder  ",
            "text/html": "<div>\n<style scoped>\n    .dataframe tbody tr th:only-of-type {\n        vertical-align: middle;\n    }\n\n    .dataframe tbody tr th {\n        vertical-align: top;\n    }\n\n    .dataframe thead th {\n        text-align: right;\n    }\n</style>\n<table border=\"1\" class=\"dataframe\">\n  <thead>\n    <tr style=\"text-align: right;\">\n      <th></th>\n      <th>score_opt</th>\n      <th>model_score</th>\n      <th>score_std</th>\n      <th>model_name</th>\n      <th>model_param</th>\n      <th>wrapper_params</th>\n      <th>cat_encoder</th>\n      <th>target_encoder</th>\n    </tr>\n  </thead>\n  <tbody>\n    <tr>\n      <th>140</th>\n      <td>8.5742</td>\n      <td>7.0166</td>\n      <td>1.557645</td>\n      <td>LightGBMRegressor</td>\n      <td>{'random_seed': 42, 'early_stopping_rounds': 5...</td>\n      <td>{'need_norm_data': False, 'early_stopping': Fa...</td>\n      <td>HelmertEncoder</td>\n      <td>JamesSteinEncoder</td>\n    </tr>\n    <tr>\n      <th>119</th>\n      <td>8.9550</td>\n      <td>7.0809</td>\n      <td>1.874130</td>\n      <td>LightGBMRegressor</td>\n      <td>{'random_seed': 42, 'early_stopping_rounds': 5...</td>\n      <td>{'need_norm_data': False, 'early_stopping': Fa...</td>\n      <td>HelmertEncoder</td>\n      <td>JamesSteinEncoder</td>\n    </tr>\n    <tr>\n      <th>110</th>\n      <td>8.5664</td>\n      <td>7.1161</td>\n      <td>1.450290</td>\n      <td>LightGBMRegressor</td>\n      <td>{'random_seed': 42, 'early_stopping_rounds': 5...</td>\n      <td>{'need_norm_data': False, 'early_stopping': Fa...</td>\n      <td>HelmertEncoder</td>\n      <td>JamesSteinEncoder</td>\n    </tr>\n    <tr>\n      <th>113</th>\n      <td>8.8122</td>\n      <td>7.1322</td>\n      <td>1.680023</td>\n      <td>LightGBMRegressor</td>\n      <td>{'random_seed': 42, 'early_stopping_rounds': 5...</td>\n      <td>{'need_norm_data': False, 'early_stopping': Fa...</td>\n      <td>HelmertEncoder</td>\n      <td>JamesSteinEncoder</td>\n    </tr>\n    <tr>\n      <th>114</th>\n      <td>8.8122</td>\n      <td>7.1322</td>\n      <td>1.680023</td>\n      <td>LightGBMRegressor</td>\n      <td>{'random_seed': 42, 'early_stopping_rounds': 5...</td>\n      <td>{'need_norm_data': False, 'early_stopping': Fa...</td>\n      <td>HelmertEncoder</td>\n      <td>JamesSteinEncoder</td>\n    </tr>\n    <tr>\n      <th>117</th>\n      <td>8.8122</td>\n      <td>7.1322</td>\n      <td>1.680023</td>\n      <td>LightGBMRegressor</td>\n      <td>{'random_seed': 42, 'early_stopping_rounds': 5...</td>\n      <td>{'need_norm_data': False, 'early_stopping': Fa...</td>\n      <td>HelmertEncoder</td>\n      <td>JamesSteinEncoder</td>\n    </tr>\n    <tr>\n      <th>157</th>\n      <td>8.9361</td>\n      <td>7.1457</td>\n      <td>1.790357</td>\n      <td>LightGBMRegressor</td>\n      <td>{'random_seed': 42, 'early_stopping_rounds': 5...</td>\n      <td>{'need_norm_data': False, 'early_stopping': Fa...</td>\n      <td>HelmertEncoder</td>\n      <td>JamesSteinEncoder</td>\n    </tr>\n    <tr>\n      <th>108</th>\n      <td>9.0694</td>\n      <td>7.1485</td>\n      <td>1.920943</td>\n      <td>LightGBMRegressor</td>\n      <td>{'random_seed': 42, 'early_stopping_rounds': 5...</td>\n      <td>{'need_norm_data': False, 'early_stopping': Fa...</td>\n      <td>HelmertEncoder</td>\n      <td>JamesSteinEncoder</td>\n    </tr>\n    <tr>\n      <th>139</th>\n      <td>8.6888</td>\n      <td>7.2149</td>\n      <td>1.473939</td>\n      <td>LightGBMRegressor</td>\n      <td>{'random_seed': 42, 'early_stopping_rounds': 5...</td>\n      <td>{'need_norm_data': False, 'early_stopping': Fa...</td>\n      <td>HelmertEncoder</td>\n      <td>JamesSteinEncoder</td>\n    </tr>\n    <tr>\n      <th>138</th>\n      <td>8.6888</td>\n      <td>7.2149</td>\n      <td>1.473939</td>\n      <td>LightGBMRegressor</td>\n      <td>{'random_seed': 42, 'early_stopping_rounds': 5...</td>\n      <td>{'need_norm_data': False, 'early_stopping': Fa...</td>\n      <td>HelmertEncoder</td>\n      <td>JamesSteinEncoder</td>\n    </tr>\n  </tbody>\n</table>\n</div>"
          },
          "metadata": {},
          "execution_count": 11
        }
      ]
    },
    {
      "cell_type": "code",
      "metadata": {
        "ExecuteTime": {
          "end_time": "2020-05-07T06:08:05.201547Z",
          "start_time": "2020-05-07T06:08:04.447020Z"
        },
        "id": "IB55EkhbbV5k",
        "colab_type": "code",
        "colab": {
          "base_uri": "https://localhost:8080/",
          "height": 350
        },
        "outputId": "ec6d21cc-15d0-477b-8e26-f9b2c2f1015c"
      },
      "source": [
        "model.plot_opt_history()"
      ],
      "execution_count": 17,
      "outputs": [
        {
          "output_type": "display_data",
          "data": {
            "text/plain": "<Figure size 1080x360 with 2 Axes>",
            "image/png": "[encoded data removed]"
          },
          "metadata": {}
        }
      ]
    },
    {
      "cell_type": "code",
      "metadata": {
        "ExecuteTime": {
          "end_time": "2020-05-07T06:08:09.999554Z",
          "start_time": "2020-05-07T06:08:09.993178Z"
        },
        "id": "X01Wv81PbV5n",
        "colab_type": "code",
        "colab": {
          "base_uri": "https://localhost:8080/",
          "height": 204
        },
        "outputId": "03b1ced0-3962-4f51-c7d8-29b49430439b"
      },
      "source": [
        "model.best_model_param"
      ],
      "execution_count": 13,
      "outputs": [
        {
          "output_type": "execute_result",
          "data": {
            "text/plain": "{'random_seed': 42,\n 'early_stopping_rounds': 50,\n 'num_iterations': 1000,\n 'verbose': -1,\n 'device_type': 'cpu',\n 'min_child_samples': 2,\n 'bagging_fraction': 0.6000000000000001,\n 'feature_fraction': 1.0,\n 'bagging_freq': 4,\n 'learning_rate': 0.018,\n 'num_leaves': 48}"
          },
          "metadata": {},
          "execution_count": 13
        }
      ]
    },
    {
      "cell_type": "markdown",
      "metadata": {
        "id": "gb3_R42zbV5q",
        "colab_type": "text"
      },
      "source": [
        "# Classifier"
      ]
    },
    {
      "cell_type": "markdown",
      "metadata": {
        "id": "jq0E1D6kbV5q",
        "colab_type": "text"
      },
      "source": [
        "## Data"
      ]
    },
    {
      "cell_type": "code",
      "metadata": {
        "ExecuteTime": {
          "end_time": "2020-05-07T08:40:58.411925Z",
          "start_time": "2020-05-07T08:40:57.415324Z"
        },
        "id": "d0fjvkRdbV5q",
        "colab_type": "code",
        "colab": {
          "base_uri": "https://localhost:8080/",
          "height": 306
        },
        "outputId": "f20ea86c-70b1-4b02-c869-8aebef8a7e07"
      },
      "source": [
        "from sklearn.datasets import fetch_openml\n",
        "dataset = fetch_openml(name='adult', version=1, as_frame=True)\n",
        "dataset.data.head(5)"
      ],
      "execution_count": 14,
      "outputs": [
        {
          "output_type": "execute_result",
          "data": {
            "text/plain": "  age         workclass    fnlwgt  education  education-num  \\\n0   2         State-gov   77516.0  Bachelors           13.0   \n1   3  Self-emp-not-inc   83311.0  Bachelors           13.0   \n2   2           Private  215646.0    HS-grad            9.0   \n3   3           Private  234721.0       11th            7.0   \n4   1           Private  338409.0  Bachelors           13.0   \n\n       marital-status         occupation   relationship   race     sex  \\\n0       Never-married       Adm-clerical  Not-in-family  White    Male   \n1  Married-civ-spouse    Exec-managerial        Husband  White    Male   \n2            Divorced  Handlers-cleaners  Not-in-family  White    Male   \n3  Married-civ-spouse  Handlers-cleaners        Husband  Black    Male   \n4  Married-civ-spouse     Prof-specialty           Wife  Black  Female   \n\n  capitalgain capitalloss hoursperweek native-country  \n0           1           0            2  United-States  \n1           0           0            0  United-States  \n2           0           0            2  United-States  \n3           0           0            2  United-States  \n4           0           0            2           Cuba  ",
            "text/html": "<div>\n<style scoped>\n    .dataframe tbody tr th:only-of-type {\n        vertical-align: middle;\n    }\n\n    .dataframe tbody tr th {\n        vertical-align: top;\n    }\n\n    .dataframe thead th {\n        text-align: right;\n    }\n</style>\n<table border=\"1\" class=\"dataframe\">\n  <thead>\n    <tr style=\"text-align: right;\">\n      <th></th>\n      <th>age</th>\n      <th>workclass</th>\n      <th>fnlwgt</th>\n      <th>education</th>\n      <th>education-num</th>\n      <th>marital-status</th>\n      <th>occupation</th>\n      <th>relationship</th>\n      <th>race</th>\n      <th>sex</th>\n      <th>capitalgain</th>\n      <th>capitalloss</th>\n      <th>hoursperweek</th>\n      <th>native-country</th>\n    </tr>\n  </thead>\n  <tbody>\n    <tr>\n      <th>0</th>\n      <td>2</td>\n      <td>State-gov</td>\n      <td>77516.0</td>\n      <td>Bachelors</td>\n      <td>13.0</td>\n      <td>Never-married</td>\n      <td>Adm-clerical</td>\n      <td>Not-in-family</td>\n      <td>White</td>\n      <td>Male</td>\n      <td>1</td>\n      <td>0</td>\n      <td>2</td>\n      <td>United-States</td>\n    </tr>\n    <tr>\n      <th>1</th>\n      <td>3</td>\n      <td>Self-emp-not-inc</td>\n      <td>83311.0</td>\n      <td>Bachelors</td>\n      <td>13.0</td>\n      <td>Married-civ-spouse</td>\n      <td>Exec-managerial</td>\n      <td>Husband</td>\n      <td>White</td>\n      <td>Male</td>\n      <td>0</td>\n      <td>0</td>\n      <td>0</td>\n      <td>United-States</td>\n    </tr>\n    <tr>\n      <th>2</th>\n      <td>2</td>\n      <td>Private</td>\n      <td>215646.0</td>\n      <td>HS-grad</td>\n      <td>9.0</td>\n      <td>Divorced</td>\n      <td>Handlers-cleaners</td>\n      <td>Not-in-family</td>\n      <td>White</td>\n      <td>Male</td>\n      <td>0</td>\n      <td>0</td>\n      <td>2</td>\n      <td>United-States</td>\n    </tr>\n    <tr>\n      <th>3</th>\n      <td>3</td>\n      <td>Private</td>\n      <td>234721.0</td>\n      <td>11th</td>\n      <td>7.0</td>\n      <td>Married-civ-spouse</td>\n      <td>Handlers-cleaners</td>\n      <td>Husband</td>\n      <td>Black</td>\n      <td>Male</td>\n      <td>0</td>\n      <td>0</td>\n      <td>2</td>\n      <td>United-States</td>\n    </tr>\n    <tr>\n      <th>4</th>\n      <td>1</td>\n      <td>Private</td>\n      <td>338409.0</td>\n      <td>Bachelors</td>\n      <td>13.0</td>\n      <td>Married-civ-spouse</td>\n      <td>Prof-specialty</td>\n      <td>Wife</td>\n      <td>Black</td>\n      <td>Female</td>\n      <td>0</td>\n      <td>0</td>\n      <td>2</td>\n      <td>Cuba</td>\n    </tr>\n  </tbody>\n</table>\n</div>"
          },
          "metadata": {},
          "execution_count": 14
        }
      ]
    },
    {
      "cell_type": "code",
      "metadata": {
        "ExecuteTime": {
          "end_time": "2020-05-07T08:40:59.924214Z",
          "start_time": "2020-05-07T08:40:59.918830Z"
        },
        "id": "6Us5hxJHbV5s",
        "colab_type": "code",
        "colab": {}
      },
      "source": [
        "dataset.target = dataset.target.astype('category').cat.codes"
      ],
      "execution_count": 15,
      "outputs": []
    },
    {
      "cell_type": "code",
      "metadata": {
        "ExecuteTime": {
          "end_time": "2020-05-07T08:41:00.468954Z",
          "start_time": "2020-05-07T08:41:00.448904Z"
        },
        "id": "-oOpKUzBbV5u",
        "colab_type": "code",
        "colab": {
          "base_uri": "https://localhost:8080/",
          "height": 34
        },
        "outputId": "b9f59b2c-d080-4931-bcca-21d9b4ab44d3"
      },
      "source": [
        "X_train, X_test, y_train, y_test = train_test_split(dataset.data, \n",
        "                                                    dataset.target,\n",
        "                                                    test_size=0.25, \n",
        "                                                    random_state=RANDOM_SEED,)\n",
        "X_train.shape, X_test.shape"
      ],
      "execution_count": 16,
      "outputs": [
        {
          "output_type": "execute_result",
          "data": {
            "text/plain": "((36631, 14), (12211, 14))"
          },
          "metadata": {},
          "execution_count": 16
        }
      ]
    },
    {
      "cell_type": "markdown",
      "metadata": {
        "id": "w9iD1uIcbV5w",
        "colab_type": "text"
      },
      "source": [
        "## Model"
      ]
    },
    {
      "cell_type": "code",
      "metadata": {
        "ExecuteTime": {
          "end_time": "2020-05-07T08:41:18.151442Z",
          "start_time": "2020-05-07T08:41:16.348597Z"
        },
        "id": "t3HLXhTwbV5w",
        "colab_type": "code",
        "colab": {}
      },
      "source": [
        "from automl_alex import LightGBMClassifier\n",
        "model = LightGBMClassifier(X_train, y_train, X_test, random_state=RANDOM_SEED)"
      ],
      "execution_count": 18,
      "outputs": []
    },
    {
      "cell_type": "code",
      "metadata": {
        "ExecuteTime": {
          "end_time": "2020-05-07T08:41:32.880152Z",
          "start_time": "2020-05-07T08:41:18.804741Z"
        },
        "id": "bMT5yiFCbV52",
        "colab_type": "code",
        "colab": {
          "base_uri": "https://localhost:8080/",
          "height": 34
        },
        "outputId": "6d6d2866-5168-4018-9f02-7a8989814125"
      },
      "source": [
        "# fit with default model parameters\n",
        "predict_test, predict_train = model.fit_predict()"
      ],
      "execution_count": 19,
      "outputs": [
        {
          "output_type": "stream",
          "name": "stdout",
          "text": "Mean Score roc_auc_score on 10 Folds: 0.9127 std: 0.005814\n"
        }
      ]
    },
    {
      "cell_type": "code",
      "metadata": {
        "ExecuteTime": {
          "end_time": "2020-05-07T08:41:32.902827Z",
          "start_time": "2020-05-07T08:41:32.883185Z"
        },
        "id": "9WPGAelvbV54",
        "colab_type": "code",
        "colab": {
          "base_uri": "https://localhost:8080/",
          "height": 34
        },
        "outputId": "7045a916-74a5-47c6-f6f5-51d867e3c9ff"
      },
      "source": [
        "print('Test AUC: ', round(sklearn.metrics.roc_auc_score(y_test, predict_test),4))"
      ],
      "execution_count": 20,
      "outputs": [
        {
          "output_type": "stream",
          "name": "stdout",
          "text": "Test AUC:0.9111\n"
        }
      ]
    },
    {
      "cell_type": "markdown",
      "metadata": {
        "id": "JCAaEnV_bV55",
        "colab_type": "text"
      },
      "source": [
        "### Optimize"
      ]
    },
    {
      "cell_type": "code",
      "metadata": {
        "ExecuteTime": {
          "end_time": "2020-05-07T06:17:16.137351Z",
          "start_time": "2020-05-07T06:08:51.881924Z"
        },
        "id": "CzU8b06dbV56",
        "colab_type": "code",
        "colab": {
          "base_uri": "https://localhost:8080/",
          "height": 187
        },
        "outputId": "a5bfc2ef-fe70-413f-b83c-28fafd394d20"
      },
      "source": [
        "history = model.opt(timeout=1000, verbose=1)"
      ],
      "execution_count": 22,
      "outputs": [
        {
          "output_type": "stream",
          "name": "stdout",
          "text": "Start Auto calibration parameters\nOne iteration takes ~ 6.1 sec\nStart optimization with the parameters:\nScore_folds =1\nOpt_lvl =1\nCold_start =16.0\nEarly_stoping =100\nMetric =roc_auc_score\nDirection =maximize\nDefault model roc_auc_score = 0.9131\nOptimize: : 11it [01:38,  7.21s/it, Best Score roc_auc_score = 0.9133 ]"
        }
      ]
    },
    {
      "cell_type": "code",
      "metadata": {
        "ExecuteTime": {
          "end_time": "2020-05-07T06:17:30.429843Z",
          "start_time": "2020-05-07T06:17:16.141226Z"
        },
        "id": "Dt8R7DwJbV57",
        "colab_type": "code",
        "colab": {
          "base_uri": "https://localhost:8080/",
          "height": 51
        },
        "outputId": "cff09b5c-56a9-4316-c89d-206be7ca1962"
      },
      "source": [
        "predict_test, predict_train = model.fit_predict()\n",
        "print('Test AUC: ', round(sklearn.metrics.roc_auc_score(y_test, predict_test),4))"
      ],
      "execution_count": 43,
      "outputs": [
        {
          "output_type": "stream",
          "text": [
            "Mean Score roc_auc_score on 10 Folds: 0.9157 std: 0.006157\n",
            "Test AUC:  0.9136\n"
          ],
          "name": "stdout"
        }
      ]
    },
    {
      "cell_type": "code",
      "metadata": {
        "ExecuteTime": {
          "end_time": "2020-05-07T06:17:30.836607Z",
          "start_time": "2020-05-07T06:17:30.434634Z"
        },
        "id": "_8DQlxECbV58",
        "colab_type": "code",
        "colab": {
          "base_uri": "https://localhost:8080/",
          "height": 350
        },
        "outputId": "5f39df30-709d-4295-a7f0-1a907d4bf4ef"
      },
      "source": [
        "model.plot_opt_history()"
      ],
      "execution_count": 44,
      "outputs": [
        {
          "output_type": "display_data",
          "data": {
            "image/png": "[encoded data removed]",
            "text/plain": [
              "<Figure size 1080x360 with 2 Axes>"
            ]
          },
          "metadata": {
            "tags": []
          }
        }
      ]
    },
    {
      "cell_type": "code",
      "metadata": {
        "ExecuteTime": {
          "end_time": "2020-05-07T07:20:54.313271Z",
          "start_time": "2020-05-07T07:20:54.295147Z"
        },
        "id": "It3eZQ2QbV5-",
        "colab_type": "code",
        "colab": {
          "base_uri": "https://localhost:8080/",
          "height": 221
        },
        "outputId": "d5612f49-20c1-465e-a60a-12260bf14b4b"
      },
      "source": [
        "save_best_params = model.best_model_param\n",
        "model.best_model_param"
      ],
      "execution_count": 45,
      "outputs": [
        {
          "output_type": "execute_result",
          "data": {
            "text/plain": [
              "{'bagging_fraction': 0.9,\n",
              " 'bagging_freq': 6,\n",
              " 'device_type': 'cpu',\n",
              " 'early_stopping_rounds': 50,\n",
              " 'feature_fraction': 0.3,\n",
              " 'learning_rate': 0.04,\n",
              " 'min_child_samples': 37,\n",
              " 'num_iterations': 300,\n",
              " 'num_leaves': 34,\n",
              " 'objective': 'binary',\n",
              " 'random_seed': 42,\n",
              " 'verbose': -1}"
            ]
          },
          "metadata": {
            "tags": []
          },
          "execution_count": 45
        }
      ]
    },
    {
      "cell_type": "markdown",
      "metadata": {
        "id": "ECaRp0ADbV5_",
        "colab_type": "text"
      },
      "source": [
        "# How it works\n",
        "first let's look at all the parameters available to us     \n",
        "для начала посмотрим все доступные нам параметры"
      ]
    },
    {
      "cell_type": "markdown",
      "metadata": {
        "id": "RiYgobwBbV6A",
        "colab_type": "text"
      },
      "source": [
        "```python\n",
        "model = LightGBMClassifier(\n",
        "    X_train, \n",
        "    y_train, \n",
        "    X_test, # be sure to specify X_test, because the encoder needs all dataset to work.\n",
        "    cat_features=None, # see in 03. Data Cleaning and Encoding (DataBunch).ipynb\n",
        "    clean_and_encod_data=True, # see in 03. Data Cleaning and Encoding (DataBunch).ipynb\n",
        "    cat_encoder_name='OneHotEncoder', # see in 03. Data Cleaning and Encoding (DataBunch).ipynb\n",
        "    target_encoder_name='JamesSteinEncoder', # see in 03. Data Cleaning and Encoding (DataBunch).ipynb\n",
        "    clean_nan=True, # see in 03. Data Cleaning and Encoding (DataBunch).ipynb\n",
        "    databunch=None, # see in 03. Data Cleaning and Encoding (DataBunch).ipynb\n",
        "    model_param=None, # default model parameters\n",
        "    wrapper_params=None, # default wrapper_params parameters\n",
        "    auto_parameters=True, # automatic selection of optimization parameters\n",
        "    cv=10, # Cross-validation folds\n",
        "    score_cv_folds=5, # how many folds are actually used for score\n",
        "    opt_lvl=3, # depth of selection of parameters\n",
        "    metric=sklearn.metrics.roc_auc_score, # any metric from sklearn\n",
        "    direction='maximize', # optimization direction\n",
        "    combined_score_opt=True, # score_opt = score - std\n",
        "    metric_round=4, \n",
        "    cold_start=150, # how many iterations the selection of parameters will be random\n",
        "    gpu=False, \n",
        "    random_state=RANDOM_SEED,\n",
        "    )\n",
        "```\n",
        "**Let's look at the important parameters and what they give.**"
      ]
    },
    {
      "cell_type": "markdown",
      "metadata": {
        "id": "vpZzOYVtbV6A",
        "colab_type": "text"
      },
      "source": [
        "### *model_param*\n",
        "parameters of the model itself. As you already understood, to work with the library itself, I use some kind of wrapper, but *model_param* pass the settings directly to the model itself"
      ]
    },
    {
      "cell_type": "code",
      "metadata": {
        "ExecuteTime": {
          "end_time": "2020-05-07T07:23:00.264089Z",
          "start_time": "2020-05-07T07:22:44.807971Z"
        },
        "id": "nbiInESObV6A",
        "colab_type": "code",
        "colab": {
          "base_uri": "https://localhost:8080/",
          "height": 51
        },
        "outputId": "5fd97028-409a-4054-d45d-a5dfab94504e"
      },
      "source": [
        "model = LightGBMClassifier(X_train, y_train, X_test, random_state=RANDOM_SEED)\n",
        "predict_test, predict_train = model.fit_predict()\n",
        "print('Test AUC: ', round(sklearn.metrics.roc_auc_score(y_test, predict_test),4))"
      ],
      "execution_count": 46,
      "outputs": [
        {
          "output_type": "stream",
          "text": [
            "Mean Score roc_auc_score on 10 Folds: 0.9128 std: 0.005397\n",
            "Test AUC:  0.9118\n"
          ],
          "name": "stdout"
        }
      ]
    },
    {
      "cell_type": "code",
      "metadata": {
        "ExecuteTime": {
          "end_time": "2020-05-07T07:23:33.250098Z",
          "start_time": "2020-05-07T07:23:17.763973Z"
        },
        "id": "w0ujKpm-bV6B",
        "colab_type": "code",
        "colab": {
          "base_uri": "https://localhost:8080/",
          "height": 51
        },
        "outputId": "4c7d8bb3-f125-4f7d-b788-d6a9822732d3"
      },
      "source": [
        "# Load model_param\n",
        "model.model_param = save_best_params\n",
        "predict_test, predict_train = model.fit_predict()\n",
        "print('Test AUC: ', round(sklearn.metrics.roc_auc_score(y_test, predict_test),4))"
      ],
      "execution_count": 47,
      "outputs": [
        {
          "output_type": "stream",
          "text": [
            "Mean Score roc_auc_score on 10 Folds: 0.9157 std: 0.006157\n",
            "Test AUC:  0.9136\n"
          ],
          "name": "stdout"
        }
      ]
    },
    {
      "cell_type": "markdown",
      "metadata": {
        "ExecuteTime": {
          "end_time": "2020-05-07T08:10:47.614148Z",
          "start_time": "2020-05-07T08:10:47.609992Z"
        },
        "id": "w0MlkziebV6D",
        "colab_type": "text"
      },
      "source": [
        "### *wrapper_params*"
      ]
    },
    {
      "cell_type": "code",
      "metadata": {
        "ExecuteTime": {
          "end_time": "2020-05-07T08:11:10.910951Z",
          "start_time": "2020-05-07T08:11:10.903054Z"
        },
        "id": "8VpoM57vbV6D",
        "colab_type": "code",
        "colab": {
          "base_uri": "https://localhost:8080/",
          "height": 34
        },
        "outputId": "6bd084b3-6435-44fa-bffd-a07e2acf7782"
      },
      "source": [
        "model.wrapper_params"
      ],
      "execution_count": 48,
      "outputs": [
        {
          "output_type": "execute_result",
          "data": {
            "text/plain": [
              "{'early_stopping': False, 'need_norm_data': False}"
            ]
          },
          "metadata": {
            "tags": []
          },
          "execution_count": 48
        }
      ]
    },
    {
      "cell_type": "markdown",
      "metadata": {
        "id": "CZ54eTqTbV6E",
        "colab_type": "text"
      },
      "source": [
        "Here we specify the settings of the wrapper. For example, for some algorithms (such as networks), we need to normalize the data. But this is not a reason to do it for the all dataset if we are opt various algorithms. For this reason, specifying *'need_norm_data': False* of the wrapper will automatically normalize the data (you can even choose normalization options)for this algorithm.\n",
        "\n",
        "Здесь мы указываем настройки обертки. Например для некоторых алгоритмов (например сети) нам нужно проводить нормализацию данных. Но это не повод делать для всего датасета целиком если у нас происходит перебор различных алгоритмов. По этому указав *'need_norm_data': False* оберкта автоматически произведет нормализацию данных (можно даже выбрать варианты нормализации) именно для этого алгоритма."
      ]
    },
    {
      "cell_type": "markdown",
      "metadata": {
        "id": "SvXrBLljbV6F",
        "colab_type": "text"
      },
      "source": [
        "### *metric* and *direction*\n",
        "you can use standard metrics from sklearn.metrics or add custom metrics. Be sure to indicate the direction of improvement of the metric     \n",
        "\n",
        "вы можете использовать стандартные метрики из sklearn.metrics или добавить кастомную. Обязательно указывайте направление улучшения метрики"
      ]
    },
    {
      "cell_type": "markdown",
      "metadata": {
        "ExecuteTime": {
          "end_time": "2020-05-07T06:54:12.453492Z",
          "start_time": "2020-05-07T06:54:12.439012Z"
        },
        "id": "kjruMAqEbV6F",
        "colab_type": "text"
      },
      "source": [
        "## Optimization\n",
        "\n",
        "```python\n",
        "history = model.opt(\n",
        "            timeout=100, # optimization time in seconds\n",
        "            auto_parameters=None, # automatic selection of optimization parameters\n",
        "            cv=10, # Cross-validation folds\n",
        "            score_cv_folds=5, # how many folds are actually used for score\n",
        "            cold_start=None, # how many iterations the selection of parameters will be random\n",
        "            opt_lvl=None, # depth of selection of parameters\n",
        "            direction=None, # optimization direction\n",
        "            early_stoping=100, # stop otimization if no better parameters are found through iterations\n",
        "            save_to_sqlite=False, # experimentally\n",
        "            verbose=1,)\n",
        "```\n",
        "\n",
        "To optimize hyperparameters used Optuna (https://optuna.org), but with some modifications. Inside Optuna uses the TPE algorithm.\n",
        "\n",
        "good visualization from: https://medium.com/criteo-labs/hyper-parameter-optimization-algorithms-2fe447525903\n",
        "<img src=\"https://miro.medium.com/max/2000/1*m1JYCHHhbmn6TCHcJIklZA.gif\" width=\"800\">\n"
      ]
    },
    {
      "cell_type": "markdown",
      "metadata": {
        "id": "IbtbRVMebV6F",
        "colab_type": "text"
      },
      "source": [
        "### *cv* and *score_cv_folds*\n",
        "In training, I use cross validation. But if we don’t have much time, then we go to the trick, and learn only part of the folds (score_cv_folds)    \n",
        "\n",
        "В обучении я использую кросс валидацию. Но если у нас мало времени то мы идем на хитрость, и обучаемся только на части фолдов (score_cv_folds)\n"
      ]
    },
    {
      "cell_type": "markdown",
      "metadata": {
        "ExecuteTime": {
          "end_time": "2020-05-07T08:00:39.460470Z",
          "start_time": "2020-05-07T08:00:39.424490Z"
        },
        "id": "D9xT9cTgbV6F",
        "colab_type": "text"
      },
      "source": [
        "### *cold_start*\n",
        "In the *cold_start* parameter, we specify how many iterations we give for this warm-up.\n",
        "before the algorithm starts searching for optimal parameters, it must collect statistics on the represented space.this is why it starts in the randomsample solution at the beginning. The longer it works in this mode , the less likely it is to get stuck in the local minimum. But if you take too long to warm up, you may not have time to search with a more \"smart\" algorithm. Therefore, it is important to maintain a balance. \n",
        "\n",
        "перед тем как алгоритм начинает поиск оптимальных параметров, он должен собрать статистику по представляемому пространству, по этому в начале он запускаеться в решиме randomsample. Чем дольше он проработает в этом режиме - тем меньше вероятность что он застрянет в локальном минимуме. Но если слишком долго делать прогрев - то может не остаться времени на поиск с более \"умным\" алгоритмом. Поэтому важно соблюдать баланс. В параметре cold_start указываем сколько итераций мы даем на этот прогрев. "
      ]
    },
    {
      "cell_type": "markdown",
      "metadata": {
        "id": "apIHobyxbV6F",
        "colab_type": "text"
      },
      "source": [
        "### *opt_lvl*\n",
        "by limiting the optimization time, we will have to choose how deep we should optimize the parameters. Perhaps some parameters are not so important and can only give a fraction of a percent. By setting the opt_lvl parameter, you control the depth of optimization.\n",
        "\n",
        "in the code *automl_alex.models.model_lightgbm.LightGBM* you can find how parameters are substituted for iteration:\n",
        "\n",
        "```python\n",
        "....\n",
        "def get_model_opt_params(self, trial):\n",
        "    \"\"\"\n",
        "    Return:\n",
        "        dict of DistributionWrappers\n",
        "    \"\"\"\n",
        "    self._init_model_param()\n",
        "    ################################# LVL 1 ########################################\n",
        "    if self._opt_lvl == 1:\n",
        "        self.model_param['num_leaves'] = trial.suggest_int('lgbm_num_leaves', 2, 50,)\n",
        "\n",
        "    if self._opt_lvl >= 1:\n",
        "        self.model_param['min_child_samples'] = trial.suggest_int('lgbm_min_child_samples', 2, \\\n",
        "                                                                    (len(self.X_train)//100))\n",
        "\n",
        "    ################################# LVL 2 ########################################\n",
        "    if self._opt_lvl == 2:\n",
        "        self.model_param['learning_rate'] = trial.suggest_int('lgbm_learning_rate', 1, 11)/100\n",
        "        self.model_param['num_leaves'] = trial.suggest_int('lgbm_num_leaves', 2, 50,)\n",
        "        \n",
        "        if not self.wrapper_params['early_stopping']:\n",
        "            self.model_param['num_iterations'] = trial.suggest_int('lgbm_num_iterations', 1, 3,)*100\n",
        "\n",
        "    if self._opt_lvl >= 2:\n",
        "        self.model_param['bagging_fraction'] = trial.suggest_discrete_uniform('lgbm_bagging_fraction', 0.4, 1., 0.1)\n",
        "        if self.model_param['bagging_fraction'] < 1.:\n",
        "            self.model_param['feature_fraction'] = trial.suggest_discrete_uniform('lgbm_feature_fraction', 0.3, 1., 0.1)\n",
        "            self.model_param['bagging_freq'] = trial.suggest_int('lgbm_bagging_freq', 2, 11,)\n",
        "    \n",
        "    ################################# LVL 3 ########################################\n",
        "    if self._opt_lvl == 3:\n",
        "        self.model_param['learning_rate'] = trial.suggest_int('lgbm_learning_rate', 1, 100)/1000\n",
        "...\n",
        "```\n",
        "\n",
        "ограничивая время оптимизации, нам придется выбирать насколько глубоко мы должны оптимизировать параметры. Возможно некоторые параметры не так важны и могут дать лишь доли процента. Устанавливая параметр opt_lvl вы регулируете глубину оптимизации."
      ]
    },
    {
      "cell_type": "markdown",
      "metadata": {
        "id": "tl8zhvjVbV6G",
        "colab_type": "text"
      },
      "source": [
        "### *auto_parameters*\n",
        "If we don't want to select anything, we just set *auto_parameters=True*. Then the algorithm itself will select, depending on the time allotted to it, the optimal values for:\n",
        "* cv \n",
        "* score_cv_folds\n",
        "* cold_start\n",
        "* opt_lvl\n",
        "\n",
        "Если мы не хотим ни чего подбирать, то просто устанавливаем auto_parameters=True. Тогда алгоритм сам подберет, в зависимости от выделенного ему времени, оптимальные значения этих параметров."
      ]
    },
    {
      "cell_type": "markdown",
      "metadata": {
        "id": "UyDu6ufSbV6G",
        "colab_type": "text"
      },
      "source": [
        "# Advanced Use"
      ]
    },
    {
      "cell_type": "code",
      "metadata": {
        "id": "NuLC3C4HsxeK",
        "colab_type": "code",
        "colab": {
          "base_uri": "https://localhost:8080/",
          "height": 34
        },
        "outputId": "980c6ff7-42fb-4959-e94d-eb654939e0aa"
      },
      "source": [
        "from sklearn.datasets import fetch_openml\n",
        "dataset = fetch_openml(name='credit-g', version=1, as_frame=True)\n",
        "dataset.target = dataset.target.astype('category').cat.codes\n",
        "X_train, X_test, y_train, y_test = train_test_split(dataset.data, \n",
        "                                                    dataset.target,\n",
        "                                                    test_size=0.25, \n",
        "                                                    random_state=RANDOM_SEED,)\n",
        "X_train.shape, X_test.shape"
      ],
      "execution_count": 64,
      "outputs": [
        {
          "output_type": "execute_result",
          "data": {
            "text/plain": [
              "((750, 20), (250, 20))"
            ]
          },
          "metadata": {
            "tags": []
          },
          "execution_count": 64
        }
      ]
    },
    {
      "cell_type": "code",
      "metadata": {
        "ExecuteTime": {
          "end_time": "2020-05-07T08:41:34.627100Z",
          "start_time": "2020-05-07T08:41:32.908965Z"
        },
        "id": "YrskBROvbV6G",
        "colab_type": "code",
        "colab": {}
      },
      "source": [
        "model = LightGBMClassifier(\n",
        "    X_train, \n",
        "    y_train, \n",
        "    X_test,\n",
        "    cv=10, # .fit_predict use cv to\n",
        "    metric=sklearn.metrics.log_loss, # log_loss\n",
        "    direction='minimize', # changed optimization direction for log_loss\n",
        "    combined_score_opt=True, # in 'minimize' score_opt = score + std\n",
        "    metric_round=4, \n",
        "    gpu=False, \n",
        "    random_state=RANDOM_SEED,\n",
        "    )"
      ],
      "execution_count": 0,
      "outputs": []
    },
    {
      "cell_type": "code",
      "metadata": {
        "ExecuteTime": {
          "end_time": "2020-05-07T08:41:47.459524Z",
          "start_time": "2020-05-07T08:41:34.629425Z"
        },
        "id": "uGj15m_PbV6H",
        "colab_type": "code",
        "colab": {
          "base_uri": "https://localhost:8080/",
          "height": 51
        },
        "outputId": "f944ec25-e352-459d-a90c-5acdafcd7b2c"
      },
      "source": [
        "predict_test, predict_train = model.fit_predict()\n",
        "print('Test metric: ', round(sklearn.metrics.log_loss(y_test, predict_test),4))"
      ],
      "execution_count": 73,
      "outputs": [
        {
          "output_type": "stream",
          "text": [
            "Mean Score log_loss on 10 Folds: 0.8233 std: 0.114094\n",
            "Test metric:  0.6344\n"
          ],
          "name": "stdout"
        }
      ]
    },
    {
      "cell_type": "code",
      "metadata": {
        "ExecuteTime": {
          "end_time": "2020-05-07T08:52:14.362888Z",
          "start_time": "2020-05-07T08:42:07.420500Z"
        },
        "id": "7GMuIW6UbV6J",
        "colab_type": "code",
        "colab": {
          "base_uri": "https://localhost:8080/",
          "height": 187
        },
        "outputId": "ca594d1b-bd4b-42cf-ff1a-6444add1ae92"
      },
      "source": [
        "history = model.opt(\n",
        "            timeout=500, # sec\n",
        "            auto_parameters=False, # try to set the rules ourselves\n",
        "            cv=10,\n",
        "            score_cv_folds=3, # put 3 folds\n",
        "            cold_start=50, # I plan > 200 iterations. 50 iterations are enough to evaluate the space\n",
        "            opt_lvl=3,\n",
        "            early_stoping=100, # stop otimization if no better parameters are found through iterations\n",
        "            verbose=1,)"
      ],
      "execution_count": 74,
      "outputs": [
        {
          "output_type": "stream",
          "text": [
            "Start optimization with the parameters:\n",
            "Score_folds =  3\n",
            "Opt_lvl =  3\n",
            "Cold_start =  50\n",
            "Early_stoping =  100\n",
            "Metric =  log_loss\n",
            "Direction =  minimize\n",
            "Default model log_loss = 0.9054\n",
            "Optimize: : 109it [05:11,  1.69s/it, Best Score log_loss = 0.5278 +- 0.040205]\n",
            " EarlyStopping Exceeded: Best Score: 0.5278 log_loss\n"
          ],
          "name": "stdout"
        }
      ]
    },
    {
      "cell_type": "code",
      "metadata": {
        "ExecuteTime": {
          "end_time": "2020-05-07T08:52:50.083150Z",
          "start_time": "2020-05-07T08:52:14.366249Z"
        },
        "id": "H0SxAZPbbV6L",
        "colab_type": "code",
        "colab": {
          "base_uri": "https://localhost:8080/",
          "height": 51
        },
        "outputId": "23308887-3710-4f7b-feb8-7b7b65e29716"
      },
      "source": [
        "predict_test, predict_train = model.fit_predict()\n",
        "print('Test metric: ', round(sklearn.metrics.log_loss(y_test, predict_test),4))"
      ],
      "execution_count": 75,
      "outputs": [
        {
          "output_type": "stream",
          "text": [
            "Mean Score log_loss on 10 Folds: 0.5125 std: 0.037215\n",
            "Test metric:  0.4836\n"
          ],
          "name": "stdout"
        }
      ]
    },
    {
      "cell_type": "code",
      "metadata": {
        "id": "m52jjJJlbV6M",
        "colab_type": "code",
        "colab": {
          "base_uri": "https://localhost:8080/",
          "height": 350
        },
        "outputId": "6c08ebd5-ef2a-4b24-aecb-1f3dce418918"
      },
      "source": [
        "model.plot_opt_history()"
      ],
      "execution_count": 76,
      "outputs": [
        {
          "output_type": "display_data",
          "data": {
            "image/png": "[encoded data removed]",
            "text/plain": [
              "<Figure size 1080x360 with 2 Axes>"
            ]
          },
          "metadata": {
            "tags": []
          }
        }
      ]
    },
    {
      "cell_type": "code",
      "metadata": {
        "id": "jpB87bs5t9ID",
        "colab_type": "code",
        "colab": {
          "base_uri": "https://localhost:8080/",
          "height": 187
        },
        "outputId": "6d3fbf31-cf5b-4fd5-d45b-c3a3ce9c9218"
      },
      "source": [
        "model.best_model_param"
      ],
      "execution_count": 77,
      "outputs": [
        {
          "output_type": "execute_result",
          "data": {
            "text/plain": [
              "{'bagging_fraction': 1.0,\n",
              " 'device_type': 'cpu',\n",
              " 'early_stopping_rounds': 50,\n",
              " 'learning_rate': 0.014,\n",
              " 'min_child_samples': 5,\n",
              " 'num_iterations': 200,\n",
              " 'num_leaves': 10,\n",
              " 'objective': 'binary',\n",
              " 'random_seed': 42,\n",
              " 'verbose': -1}"
            ]
          },
          "metadata": {
            "tags": []
          },
          "execution_count": 77
        }
      ]
    },
    {
      "cell_type": "code",
      "metadata": {
        "id": "mZ2YyUhibV6N",
        "colab_type": "code",
        "colab": {
          "base_uri": "https://localhost:8080/",
          "height": 542
        },
        "outputId": "2462b282-ec55-4cff-cebc-8769772d5261"
      },
      "source": [
        "model.plot_opt_params_parallel_coordinate()"
      ],
      "execution_count": 78,
      "outputs": [
        {
          "output_type": "display_data",
          "data": {
            "text/html": [
              "<html>\n",
              "<head><meta charset=\"utf-8\" /></head>\n",
              "<body>\n",
              "    <div>\n",
              "            <script src=\"https://cdnjs.cloudflare.com/ajax/libs/mathjax/2.7.5/MathJax.js?config=TeX-AMS-MML_SVG\"></script><script type=\"text/javascript\">if (window.MathJax) {MathJax.Hub.Config({SVG: {font: \"STIX-Web\"}});}</script>\n",
              "                <script type=\"text/javascript\">window.PlotlyConfig = {MathJaxConfig: 'local'};</script>\n",
              "        <script src=\"https://cdn.plot.ly/plotly-latest.min.js\"></script>    \n",
              "            <div id=\"4428a8f9-b486-4c36-9474-bdd5677ee763\" class=\"plotly-graph-div\" style=\"height:525px; width:100%;\"></div>\n",
              "            <script type=\"text/javascript\">\n",
              "                \n",
              "                    window.PLOTLYENV=window.PLOTLYENV || {};\n",
              "                    \n",
              "                if (document.getElementById(\"4428a8f9-b486-4c36-9474-bdd5677ee763\")) {\n",
              "                    Plotly.newPlot(\n",
              "                        '4428a8f9-b486-4c36-9474-bdd5677ee763',\n",
              "                        [{\"dimensions\": [{\"label\": \"Objective Value\", \"range\": [0.5278, 20.0178], \"values\": [1.738, 0.6193, 0.5791, 0.787, 1.1075, 1.4534, 0.5278, 1.3741, 0.5517, 1.4569, 0.8064, 0.8035, 1.7261, 0.5498, 0.7169, 1.1143, 0.7538, 1.4295, 0.7111, 1.4308, 0.8702, 1.8285, 0.7195, 1.6872, 0.7906, 1.2448, 0.6826, 0.5621, 20.0178, 1.5995, 0.6899, 1.6376, 0.95, 1.5414, 0.8121, 0.5721, 0.8788, 1.1664, 1.1471, 0.5818, 0.9376, 0.6628, 1.5841, 1.5924, 0.6319, 0.5339, 0.637, 0.9583, 0.8103, 0.7567, 0.5426, 0.5335, 0.5532, 0.5851, 0.6971, 0.5507, 0.5375, 0.6413, 0.5985, 0.6055, 1.0064, 0.5466, 0.572, 0.5471, 0.5428, 0.5612, 0.5477, 0.6988, 0.5523, 0.5656, 0.6356, 0.5428, 0.5445, 0.5579, 0.6165, 0.5661, 0.5711, 0.5501, 0.8744, 0.5415, 0.5488, 0.5447, 0.5452, 0.5621, 0.5335, 0.6432, 0.6368, 0.5534, 0.5488, 0.5799, 0.6063, 0.5463, 0.5404, 0.5435, 0.5401, 0.54, 0.5304, 0.5304, 0.5505, 0.5407, 0.5392, 0.5502, 0.5298, 0.5391, 0.5391, 0.5462, 0.5436, 0.5514, 0.5473]}, {\"label\": \"lgbm_bagging_frac...\", \"range\": [0.4, 1.0], \"values\": [1.0, 0.7000000000000001, 1.0, 0.5, 0.6000000000000001, 0.4, 1.0, 0.4, 1.0, 0.6000000000000001, 1.0, 0.5, 1.0, 0.4, 0.5, 0.6000000000000001, 0.4, 1.0, 0.9, 0.8, 0.7000000000000001, 1.0, 1.0, 0.9, 0.5, 0.7000000000000001, 0.6000000000000001, 0.5, 0.5, 0.8, 0.5, 0.8, 1.0, 0.7000000000000001, 0.9, 0.8, 0.4, 0.6000000000000001, 0.8, 0.4, 0.8, 0.7000000000000001, 0.6000000000000001, 0.8, 0.9, 0.9, 0.6000000000000001, 0.6000000000000001, 0.8, 0.5, 0.9, 0.9, 0.9, 0.9, 1.0, 0.9, 0.9, 0.9, 1.0, 0.9, 0.9, 0.9, 0.9, 1.0, 1.0, 1.0, 1.0, 0.9, 0.9, 1.0, 0.9, 1.0, 1.0, 1.0, 1.0, 1.0, 1.0, 1.0, 1.0, 0.9, 0.9, 0.9, 1.0, 0.8, 0.9, 0.9, 0.9, 0.8, 0.9, 0.9, 0.8, 1.0, 1.0, 0.9, 1.0, 0.9, 0.9, 0.9, 0.8, 0.9, 0.9, 0.9, 0.9, 0.9, 0.9, 0.9, 0.9, 0.8, 0.9]}, {\"label\": \"lgbm_bagging_freq\", \"range\": [2, 11], \"values\": [9, 7, 4, 6, 8, 5, 9, 9, 4, 8, 9, 8, 4, 8, 11, 10, 6, 10, 8, 7, 6, 9, 2, 8, 10, 11, 6, 4, 9, 4, 10, 9, 4, 4, 2, 6, 4, 4, 9, 11, 7, 11, 4, 9, 11, 5, 2, 4, 3, 8, 5, 7, 5, 7, 7, 7, 6, 5, 6, 6, 5, 6, 6, 5, 6, 7, 7, 7, 7, 8, 5, 5, 6, 5, 5, 5, 3, 6, 5, 3]}, {\"label\": \"lgbm_feature_frac...\", \"range\": [0.3, 1.0], \"values\": [0.5, 0.5, 0.3, 0.7, 0.8, 0.4, 0.3, 1.0, 0.8, 0.3, 0.5, 0.8, 0.3, 1.0, 0.4, 0.8, 0.6000000000000001, 0.7, 0.4, 1.0, 0.8, 0.8, 0.8, 0.4, 0.8, 0.4, 1.0, 0.8, 0.3, 0.3, 0.8, 0.4, 0.7, 1.0, 0.7, 0.3, 1.0, 0.9000000000000001, 0.7, 0.5, 0.4, 0.5, 0.9000000000000001, 0.5, 1.0, 0.3, 0.9000000000000001, 0.3, 0.5, 0.3, 0.6000000000000001, 0.3, 0.4, 0.3, 0.4, 0.4, 0.4, 0.6000000000000001, 0.5, 0.5, 0.5, 0.4, 0.4, 0.4, 0.5, 0.6000000000000001, 0.6000000000000001, 0.6000000000000001, 0.6000000000000001, 0.6000000000000001, 0.6000000000000001, 0.6000000000000001, 0.6000000000000001, 0.7, 0.7, 0.7, 0.7, 0.7, 0.7, 0.7]}, {\"label\": \"lgbm_learning_rate\", \"range\": [1, 100], \"values\": [72, 24, 30, 89, 55, 73, 14, 44, 36, 54, 62, 85, 60, 1, 33, 73, 37, 65, 14, 63, 15, 71, 45, 92, 77, 97, 52, 2, 87, 44, 17, 73, 59, 52, 89, 60, 32, 20, 36, 25, 100, 8, 86, 54, 69, 6, 60, 18, 32, 17, 2, 3, 1, 7, 10, 4, 4, 10, 4, 12, 24, 5, 1, 6, 6, 13, 4, 21, 10, 1, 27, 6, 6, 8, 14, 11, 1, 7, 15, 3, 3, 8, 5, 1, 9, 12, 20, 16, 9, 3, 13, 7, 6, 3, 10, 10, 18, 18, 22, 16, 19, 19, 27, 28, 28, 28, 40, 30, 24]}, {\"label\": \"lgbm_min_child_sa...\", \"range\": [2, 7], \"values\": [5, 4, 6, 5, 4, 2, 5, 3, 4, 3, 5, 7, 3, 6, 4, 3, 3, 7, 7, 2, 6, 5, 5, 5, 2, 7, 4, 2, 2, 2, 7, 6, 6, 3, 3, 7, 2, 2, 2, 7, 3, 2, 2, 7, 4, 4, 6, 6, 7, 3, 4, 4, 4, 4, 5, 4, 4, 5, 4, 4, 5, 4, 4, 4, 4, 5, 4, 4, 4, 5, 4, 4, 4, 3, 4, 4, 5, 4, 3, 4, 5, 4, 4, 4, 4, 5, 4, 4, 3, 4, 4, 4, 4, 4, 3, 3, 3, 3, 3, 3, 3, 3, 3, 3, 3, 3, 3, 3, 3]}, {\"label\": \"lgbm_num_iterations\", \"range\": [1, 11], \"values\": [5, 3, 6, 1, 4, 7, 2, 8, 2, 2, 4, 2, 9, 8, 11, 8, 3, 3, 7, 7, 11, 11, 9, 9, 9, 3, 1, 3, 5, 10, 6, 11, 4, 9, 2, 1, 11, 8, 6, 2, 1, 7, 7, 8, 3, 3, 1, 9, 6, 8, 5, 5, 5, 5, 4, 2, 4, 4, 5, 4, 5, 2, 3, 2, 2, 2, 3, 4, 3, 4, 2, 2, 2, 1, 3, 2, 3, 1, 5, 4, 4, 4, 3, 5, 2, 6, 3, 2, 4, 1, 5, 2, 2, 3, 2, 1, 1, 1, 1, 1, 1, 1, 1, 1, 1, 1, 1, 1, 1]}, {\"label\": \"lgbm_num_leaves\", \"range\": [3, 100], \"values\": [84, 23, 3, 92, 65, 19, 10, 48, 5, 91, 15, 54, 30, 89, 6, 13, 45, 48, 28, 53, 30, 87, 7, 63, 4, 45, 63, 57, 97, 33, 25, 71, 20, 34, 24, 3, 10, 55, 85, 83, 69, 68, 23, 28, 5, 38, 64, 96, 24, 34, 76, 78, 77, 78, 76, 93, 92, 100, 90, 81, 89, 94, 100, 39, 40, 42, 38, 59, 50, 73, 94, 40, 45, 45, 39, 48, 43, 51, 60, 36, 17, 36, 41, 31, 46, 36, 47, 51, 28, 54, 32, 44, 41, 41, 36, 37, 36, 36, 37, 26, 20, 10, 21, 21, 21, 21, 13, 18, 21]}], \"labelangle\": 30, \"labelside\": \"bottom\", \"line\": {\"color\": [1.738, 0.6193, 0.5791, 0.787, 1.1075, 1.4534, 0.5278, 1.3741, 0.5517, 1.4569, 0.8064, 0.8035, 1.7261, 0.5498, 0.7169, 1.1143, 0.7538, 1.4295, 0.7111, 1.4308, 0.8702, 1.8285, 0.7195, 1.6872, 0.7906, 1.2448, 0.6826, 0.5621, 20.0178, 1.5995, 0.6899, 1.6376, 0.95, 1.5414, 0.8121, 0.5721, 0.8788, 1.1664, 1.1471, 0.5818, 0.9376, 0.6628, 1.5841, 1.5924, 0.6319, 0.5339, 0.637, 0.9583, 0.8103, 0.7567, 0.5426, 0.5335, 0.5532, 0.5851, 0.6971, 0.5507, 0.5375, 0.6413, 0.5985, 0.6055, 1.0064, 0.5466, 0.572, 0.5471, 0.5428, 0.5612, 0.5477, 0.6988, 0.5523, 0.5656, 0.6356, 0.5428, 0.5445, 0.5579, 0.6165, 0.5661, 0.5711, 0.5501, 0.8744, 0.5415, 0.5488, 0.5447, 0.5452, 0.5621, 0.5335, 0.6432, 0.6368, 0.5534, 0.5488, 0.5799, 0.6063, 0.5463, 0.5404, 0.5435, 0.5401, 0.54, 0.5304, 0.5304, 0.5505, 0.5407, 0.5392, 0.5502, 0.5298, 0.5391, 0.5391, 0.5462, 0.5436, 0.5514, 0.5473], \"colorbar\": {\"title\": {\"text\": \"Objective Value\"}}, \"colorscale\": [[0.0, \"rgb(247,251,255)\"], [0.125, \"rgb(222,235,247)\"], [0.25, \"rgb(198,219,239)\"], [0.375, \"rgb(158,202,225)\"], [0.5, \"rgb(107,174,214)\"], [0.625, \"rgb(66,146,198)\"], [0.75, \"rgb(33,113,181)\"], [0.875, \"rgb(8,81,156)\"], [1.0, \"rgb(8,48,107)\"]], \"reversescale\": true, \"showscale\": true}, \"type\": \"parcoords\"}],\n",
              "                        {\"template\": {\"data\": {\"bar\": [{\"error_x\": {\"color\": \"#2a3f5f\"}, \"error_y\": {\"color\": \"#2a3f5f\"}, \"marker\": {\"line\": {\"color\": \"#E5ECF6\", \"width\": 0.5}}, \"type\": \"bar\"}], \"barpolar\": [{\"marker\": {\"line\": {\"color\": \"#E5ECF6\", \"width\": 0.5}}, \"type\": \"barpolar\"}], \"carpet\": [{\"aaxis\": {\"endlinecolor\": \"#2a3f5f\", \"gridcolor\": \"white\", \"linecolor\": \"white\", \"minorgridcolor\": \"white\", \"startlinecolor\": \"#2a3f5f\"}, \"baxis\": {\"endlinecolor\": \"#2a3f5f\", \"gridcolor\": \"white\", \"linecolor\": \"white\", \"minorgridcolor\": \"white\", \"startlinecolor\": \"#2a3f5f\"}, \"type\": \"carpet\"}], \"choropleth\": [{\"colorbar\": {\"outlinewidth\": 0, \"ticks\": \"\"}, \"type\": \"choropleth\"}], \"contour\": [{\"colorbar\": {\"outlinewidth\": 0, \"ticks\": \"\"}, \"colorscale\": [[0.0, \"#0d0887\"], [0.1111111111111111, \"#46039f\"], [0.2222222222222222, \"#7201a8\"], [0.3333333333333333, \"#9c179e\"], [0.4444444444444444, \"#bd3786\"], [0.5555555555555556, \"#d8576b\"], [0.6666666666666666, \"#ed7953\"], [0.7777777777777778, \"#fb9f3a\"], [0.8888888888888888, \"#fdca26\"], [1.0, \"#f0f921\"]], \"type\": \"contour\"}], \"contourcarpet\": [{\"colorbar\": {\"outlinewidth\": 0, \"ticks\": \"\"}, \"type\": \"contourcarpet\"}], \"heatmap\": [{\"colorbar\": {\"outlinewidth\": 0, \"ticks\": \"\"}, \"colorscale\": [[0.0, \"#0d0887\"], [0.1111111111111111, \"#46039f\"], [0.2222222222222222, \"#7201a8\"], [0.3333333333333333, \"#9c179e\"], [0.4444444444444444, \"#bd3786\"], [0.5555555555555556, \"#d8576b\"], [0.6666666666666666, \"#ed7953\"], [0.7777777777777778, \"#fb9f3a\"], [0.8888888888888888, \"#fdca26\"], [1.0, \"#f0f921\"]], \"type\": \"heatmap\"}], \"heatmapgl\": [{\"colorbar\": {\"outlinewidth\": 0, \"ticks\": \"\"}, \"colorscale\": [[0.0, \"#0d0887\"], [0.1111111111111111, \"#46039f\"], [0.2222222222222222, \"#7201a8\"], [0.3333333333333333, \"#9c179e\"], [0.4444444444444444, \"#bd3786\"], [0.5555555555555556, \"#d8576b\"], [0.6666666666666666, \"#ed7953\"], [0.7777777777777778, \"#fb9f3a\"], [0.8888888888888888, \"#fdca26\"], [1.0, \"#f0f921\"]], \"type\": \"heatmapgl\"}], \"histogram\": [{\"marker\": {\"colorbar\": {\"outlinewidth\": 0, \"ticks\": \"\"}}, \"type\": \"histogram\"}], \"histogram2d\": [{\"colorbar\": {\"outlinewidth\": 0, \"ticks\": \"\"}, \"colorscale\": [[0.0, \"#0d0887\"], [0.1111111111111111, \"#46039f\"], [0.2222222222222222, \"#7201a8\"], [0.3333333333333333, \"#9c179e\"], [0.4444444444444444, \"#bd3786\"], [0.5555555555555556, \"#d8576b\"], [0.6666666666666666, \"#ed7953\"], [0.7777777777777778, \"#fb9f3a\"], [0.8888888888888888, \"#fdca26\"], [1.0, \"#f0f921\"]], \"type\": \"histogram2d\"}], \"histogram2dcontour\": [{\"colorbar\": {\"outlinewidth\": 0, \"ticks\": \"\"}, \"colorscale\": [[0.0, \"#0d0887\"], [0.1111111111111111, \"#46039f\"], [0.2222222222222222, \"#7201a8\"], [0.3333333333333333, \"#9c179e\"], [0.4444444444444444, \"#bd3786\"], [0.5555555555555556, \"#d8576b\"], [0.6666666666666666, \"#ed7953\"], [0.7777777777777778, \"#fb9f3a\"], [0.8888888888888888, \"#fdca26\"], [1.0, \"#f0f921\"]], \"type\": \"histogram2dcontour\"}], \"mesh3d\": [{\"colorbar\": {\"outlinewidth\": 0, \"ticks\": \"\"}, \"type\": \"mesh3d\"}], \"parcoords\": [{\"line\": {\"colorbar\": {\"outlinewidth\": 0, \"ticks\": \"\"}}, \"type\": \"parcoords\"}], \"pie\": [{\"automargin\": true, \"type\": \"pie\"}], \"scatter\": [{\"marker\": {\"colorbar\": {\"outlinewidth\": 0, \"ticks\": \"\"}}, \"type\": \"scatter\"}], \"scatter3d\": [{\"line\": {\"colorbar\": {\"outlinewidth\": 0, \"ticks\": \"\"}}, \"marker\": {\"colorbar\": {\"outlinewidth\": 0, \"ticks\": \"\"}}, \"type\": \"scatter3d\"}], \"scattercarpet\": [{\"marker\": {\"colorbar\": {\"outlinewidth\": 0, \"ticks\": \"\"}}, \"type\": \"scattercarpet\"}], \"scattergeo\": [{\"marker\": {\"colorbar\": {\"outlinewidth\": 0, \"ticks\": \"\"}}, \"type\": \"scattergeo\"}], \"scattergl\": [{\"marker\": {\"colorbar\": {\"outlinewidth\": 0, \"ticks\": \"\"}}, \"type\": \"scattergl\"}], \"scattermapbox\": [{\"marker\": {\"colorbar\": {\"outlinewidth\": 0, \"ticks\": \"\"}}, \"type\": \"scattermapbox\"}], \"scatterpolar\": [{\"marker\": {\"colorbar\": {\"outlinewidth\": 0, \"ticks\": \"\"}}, \"type\": \"scatterpolar\"}], \"scatterpolargl\": [{\"marker\": {\"colorbar\": {\"outlinewidth\": 0, \"ticks\": \"\"}}, \"type\": \"scatterpolargl\"}], \"scatterternary\": [{\"marker\": {\"colorbar\": {\"outlinewidth\": 0, \"ticks\": \"\"}}, \"type\": \"scatterternary\"}], \"surface\": [{\"colorbar\": {\"outlinewidth\": 0, \"ticks\": \"\"}, \"colorscale\": [[0.0, \"#0d0887\"], [0.1111111111111111, \"#46039f\"], [0.2222222222222222, \"#7201a8\"], [0.3333333333333333, \"#9c179e\"], [0.4444444444444444, \"#bd3786\"], [0.5555555555555556, \"#d8576b\"], [0.6666666666666666, \"#ed7953\"], [0.7777777777777778, \"#fb9f3a\"], [0.8888888888888888, \"#fdca26\"], [1.0, \"#f0f921\"]], \"type\": \"surface\"}], \"table\": [{\"cells\": {\"fill\": {\"color\": \"#EBF0F8\"}, \"line\": {\"color\": \"white\"}}, \"header\": {\"fill\": {\"color\": \"#C8D4E3\"}, \"line\": {\"color\": \"white\"}}, \"type\": \"table\"}]}, \"layout\": {\"annotationdefaults\": {\"arrowcolor\": \"#2a3f5f\", \"arrowhead\": 0, \"arrowwidth\": 1}, \"coloraxis\": {\"colorbar\": {\"outlinewidth\": 0, \"ticks\": \"\"}}, \"colorscale\": {\"diverging\": [[0, \"#8e0152\"], [0.1, \"#c51b7d\"], [0.2, \"#de77ae\"], [0.3, \"#f1b6da\"], [0.4, \"#fde0ef\"], [0.5, \"#f7f7f7\"], [0.6, \"#e6f5d0\"], [0.7, \"#b8e186\"], [0.8, \"#7fbc41\"], [0.9, \"#4d9221\"], [1, \"#276419\"]], \"sequential\": [[0.0, \"#0d0887\"], [0.1111111111111111, \"#46039f\"], [0.2222222222222222, \"#7201a8\"], [0.3333333333333333, \"#9c179e\"], [0.4444444444444444, \"#bd3786\"], [0.5555555555555556, \"#d8576b\"], [0.6666666666666666, \"#ed7953\"], [0.7777777777777778, \"#fb9f3a\"], [0.8888888888888888, \"#fdca26\"], [1.0, \"#f0f921\"]], \"sequentialminus\": [[0.0, \"#0d0887\"], [0.1111111111111111, \"#46039f\"], [0.2222222222222222, \"#7201a8\"], [0.3333333333333333, \"#9c179e\"], [0.4444444444444444, \"#bd3786\"], [0.5555555555555556, \"#d8576b\"], [0.6666666666666666, \"#ed7953\"], [0.7777777777777778, \"#fb9f3a\"], [0.8888888888888888, \"#fdca26\"], [1.0, \"#f0f921\"]]}, \"colorway\": [\"#636efa\", \"#EF553B\", \"#00cc96\", \"#ab63fa\", \"#FFA15A\", \"#19d3f3\", \"#FF6692\", \"#B6E880\", \"#FF97FF\", \"#FECB52\"], \"font\": {\"color\": \"#2a3f5f\"}, \"geo\": {\"bgcolor\": \"white\", \"lakecolor\": \"white\", \"landcolor\": \"#E5ECF6\", \"showlakes\": true, \"showland\": true, \"subunitcolor\": \"white\"}, \"hoverlabel\": {\"align\": \"left\"}, \"hovermode\": \"closest\", \"mapbox\": {\"style\": \"light\"}, \"paper_bgcolor\": \"white\", \"plot_bgcolor\": \"#E5ECF6\", \"polar\": {\"angularaxis\": {\"gridcolor\": \"white\", \"linecolor\": \"white\", \"ticks\": \"\"}, \"bgcolor\": \"#E5ECF6\", \"radialaxis\": {\"gridcolor\": \"white\", \"linecolor\": \"white\", \"ticks\": \"\"}}, \"scene\": {\"xaxis\": {\"backgroundcolor\": \"#E5ECF6\", \"gridcolor\": \"white\", \"gridwidth\": 2, \"linecolor\": \"white\", \"showbackground\": true, \"ticks\": \"\", \"zerolinecolor\": \"white\"}, \"yaxis\": {\"backgroundcolor\": \"#E5ECF6\", \"gridcolor\": \"white\", \"gridwidth\": 2, \"linecolor\": \"white\", \"showbackground\": true, \"ticks\": \"\", \"zerolinecolor\": \"white\"}, \"zaxis\": {\"backgroundcolor\": \"#E5ECF6\", \"gridcolor\": \"white\", \"gridwidth\": 2, \"linecolor\": \"white\", \"showbackground\": true, \"ticks\": \"\", \"zerolinecolor\": \"white\"}}, \"shapedefaults\": {\"line\": {\"color\": \"#2a3f5f\"}}, \"ternary\": {\"aaxis\": {\"gridcolor\": \"white\", \"linecolor\": \"white\", \"ticks\": \"\"}, \"baxis\": {\"gridcolor\": \"white\", \"linecolor\": \"white\", \"ticks\": \"\"}, \"bgcolor\": \"#E5ECF6\", \"caxis\": {\"gridcolor\": \"white\", \"linecolor\": \"white\", \"ticks\": \"\"}}, \"title\": {\"x\": 0.05}, \"xaxis\": {\"automargin\": true, \"gridcolor\": \"white\", \"linecolor\": \"white\", \"ticks\": \"\", \"title\": {\"standoff\": 15}, \"zerolinecolor\": \"white\", \"zerolinewidth\": 2}, \"yaxis\": {\"automargin\": true, \"gridcolor\": \"white\", \"linecolor\": \"white\", \"ticks\": \"\", \"title\": {\"standoff\": 15}, \"zerolinecolor\": \"white\", \"zerolinewidth\": 2}}}, \"title\": {\"text\": \"Parallel Coordinate Plot\"}},\n",
              "                        {\"responsive\": true}\n",
              "                    ).then(function(){\n",
              "                            \n",
              "var gd = document.getElementById('4428a8f9-b486-4c36-9474-bdd5677ee763');\n",
              "var x = new MutationObserver(function (mutations, observer) {{\n",
              "        var display = window.getComputedStyle(gd).display;\n",
              "        if (!display || display === 'none') {{\n",
              "            console.log([gd, 'removed!']);\n",
              "            Plotly.purge(gd);\n",
              "            observer.disconnect();\n",
              "        }}\n",
              "}});\n",
              "\n",
              "// Listen for the removal of the full notebook cells\n",
              "var notebookContainer = gd.closest('#notebook-container');\n",
              "if (notebookContainer) {{\n",
              "    x.observe(notebookContainer, {childList: true});\n",
              "}}\n",
              "\n",
              "// Listen for the clearing of the current output cell\n",
              "var outputEl = gd.closest('.output');\n",
              "if (outputEl) {{\n",
              "    x.observe(outputEl, {childList: true});\n",
              "}}\n",
              "\n",
              "                        })\n",
              "                };\n",
              "                \n",
              "            </script>\n",
              "        </div>\n",
              "</body>\n",
              "</html>"
            ]
          },
          "metadata": {
            "tags": []
          }
        }
      ]
    },
    {
      "cell_type": "code",
      "metadata": {
        "id": "STj1slnHbV6O",
        "colab_type": "code",
        "colab": {
          "base_uri": "https://localhost:8080/",
          "height": 562
        },
        "outputId": "688ce8d6-8389-452b-8b91-fbc4ff591bec"
      },
      "source": [
        "model.plot_opt_params_slice()"
      ],
      "execution_count": 79,
      "outputs": [
        {
          "output_type": "display_data",
          "data": {
            "text/html": [
              "<html>\n",
              "<head><meta charset=\"utf-8\" /></head>\n",
              "<body>\n",
              "    <div>\n",
              "            <script src=\"https://cdnjs.cloudflare.com/ajax/libs/mathjax/2.7.5/MathJax.js?config=TeX-AMS-MML_SVG\"></script><script type=\"text/javascript\">if (window.MathJax) {MathJax.Hub.Config({SVG: {font: \"STIX-Web\"}});}</script>\n",
              "                <script type=\"text/javascript\">window.PlotlyConfig = {MathJaxConfig: 'local'};</script>\n",
              "        <script src=\"https://cdn.plot.ly/plotly-latest.min.js\"></script>    \n",
              "            <div id=\"77fdbe07-9cad-43ff-afb1-b762cc8a7476\" class=\"plotly-graph-div\" style=\"height:525px; width:2100px;\"></div>\n",
              "            <script type=\"text/javascript\">\n",
              "                \n",
              "                    window.PLOTLYENV=window.PLOTLYENV || {};\n",
              "                    \n",
              "                if (document.getElementById(\"77fdbe07-9cad-43ff-afb1-b762cc8a7476\")) {\n",
              "                    Plotly.newPlot(\n",
              "                        '77fdbe07-9cad-43ff-afb1-b762cc8a7476',\n",
              "                        [{\"marker\": {\"color\": [0, 1, 2, 3, 4, 5, 6, 7, 8, 9, 10, 11, 12, 13, 14, 15, 16, 17, 18, 19, 20, 21, 22, 23, 24, 25, 26, 27, 28, 29, 30, 31, 32, 33, 34, 35, 36, 37, 38, 39, 40, 41, 42, 43, 44, 45, 46, 47, 48, 49, 50, 51, 52, 53, 54, 55, 56, 57, 58, 59, 60, 61, 62, 63, 64, 65, 66, 67, 68, 69, 70, 71, 72, 73, 74, 75, 76, 77, 78, 79, 80, 81, 82, 83, 84, 85, 86, 87, 88, 89, 90, 91, 92, 93, 94, 95, 96, 97, 98, 99, 100, 101, 102, 103, 104, 105, 106, 107, 108], \"colorbar\": {\"title\": {\"text\": \"#Trials\"}, \"x\": 1.0, \"xpad\": 40}, \"colorscale\": [[0.0, \"rgb(247,251,255)\"], [0.125, \"rgb(222,235,247)\"], [0.25, \"rgb(198,219,239)\"], [0.375, \"rgb(158,202,225)\"], [0.5, \"rgb(107,174,214)\"], [0.625, \"rgb(66,146,198)\"], [0.75, \"rgb(33,113,181)\"], [0.875, \"rgb(8,81,156)\"], [1.0, \"rgb(8,48,107)\"]], \"line\": {\"color\": \"Grey\", \"width\": 0.5}, \"showscale\": true}, \"mode\": \"markers\", \"showlegend\": false, \"type\": \"scatter\", \"x\": [1.0, 0.7000000000000001, 1.0, 0.5, 0.6000000000000001, 0.4, 1.0, 0.4, 1.0, 0.6000000000000001, 1.0, 0.5, 1.0, 0.4, 0.5, 0.6000000000000001, 0.4, 1.0, 0.9, 0.8, 0.7000000000000001, 1.0, 1.0, 0.9, 0.5, 0.7000000000000001, 0.6000000000000001, 0.5, 0.5, 0.8, 0.5, 0.8, 1.0, 0.7000000000000001, 0.9, 0.8, 0.4, 0.6000000000000001, 0.8, 0.4, 0.8, 0.7000000000000001, 0.6000000000000001, 0.8, 0.9, 0.9, 0.6000000000000001, 0.6000000000000001, 0.8, 0.5, 0.9, 0.9, 0.9, 0.9, 1.0, 0.9, 0.9, 0.9, 1.0, 0.9, 0.9, 0.9, 0.9, 1.0, 1.0, 1.0, 1.0, 0.9, 0.9, 1.0, 0.9, 1.0, 1.0, 1.0, 1.0, 1.0, 1.0, 1.0, 1.0, 0.9, 0.9, 0.9, 1.0, 0.8, 0.9, 0.9, 0.9, 0.8, 0.9, 0.9, 0.8, 1.0, 1.0, 0.9, 1.0, 0.9, 0.9, 0.9, 0.8, 0.9, 0.9, 0.9, 0.9, 0.9, 0.9, 0.9, 0.9, 0.8, 0.9], \"xaxis\": \"x\", \"y\": [1.738, 0.6193, 0.5791, 0.787, 1.1075, 1.4534, 0.5278, 1.3741, 0.5517, 1.4569, 0.8064, 0.8035, 1.7261, 0.5498, 0.7169, 1.1143, 0.7538, 1.4295, 0.7111, 1.4308, 0.8702, 1.8285, 0.7195, 1.6872, 0.7906, 1.2448, 0.6826, 0.5621, 20.0178, 1.5995, 0.6899, 1.6376, 0.95, 1.5414, 0.8121, 0.5721, 0.8788, 1.1664, 1.1471, 0.5818, 0.9376, 0.6628, 1.5841, 1.5924, 0.6319, 0.5339, 0.637, 0.9583, 0.8103, 0.7567, 0.5426, 0.5335, 0.5532, 0.5851, 0.6971, 0.5507, 0.5375, 0.6413, 0.5985, 0.6055, 1.0064, 0.5466, 0.572, 0.5471, 0.5428, 0.5612, 0.5477, 0.6988, 0.5523, 0.5656, 0.6356, 0.5428, 0.5445, 0.5579, 0.6165, 0.5661, 0.5711, 0.5501, 0.8744, 0.5415, 0.5488, 0.5447, 0.5452, 0.5621, 0.5335, 0.6432, 0.6368, 0.5534, 0.5488, 0.5799, 0.6063, 0.5463, 0.5404, 0.5435, 0.5401, 0.54, 0.5304, 0.5304, 0.5505, 0.5407, 0.5392, 0.5502, 0.5298, 0.5391, 0.5391, 0.5462, 0.5436, 0.5514, 0.5473], \"yaxis\": \"y\"}, {\"marker\": {\"color\": [1, 3, 4, 5, 7, 9, 11, 13, 14, 15, 16, 18, 19, 20, 23, 24, 25, 26, 27, 28, 29, 30, 31, 33, 34, 35, 36, 37, 38, 39, 40, 41, 42, 43, 44, 45, 46, 47, 48, 49, 50, 51, 52, 53, 55, 56, 57, 59, 60, 61, 62, 67, 68, 70, 79, 80, 81, 83, 84, 85, 86, 87, 88, 89, 90, 93, 95, 96, 97, 98, 99, 100, 101, 102, 103, 104, 105, 106, 107, 108], \"colorbar\": {\"title\": {\"text\": \"#Trials\"}, \"x\": 1.0, \"xpad\": 40}, \"colorscale\": [[0.0, \"rgb(247,251,255)\"], [0.125, \"rgb(222,235,247)\"], [0.25, \"rgb(198,219,239)\"], [0.375, \"rgb(158,202,225)\"], [0.5, \"rgb(107,174,214)\"], [0.625, \"rgb(66,146,198)\"], [0.75, \"rgb(33,113,181)\"], [0.875, \"rgb(8,81,156)\"], [1.0, \"rgb(8,48,107)\"]], \"line\": {\"color\": \"Grey\", \"width\": 0.5}, \"showscale\": false}, \"mode\": \"markers\", \"showlegend\": false, \"type\": \"scatter\", \"x\": [9, 7, 4, 6, 8, 5, 9, 9, 4, 8, 9, 8, 4, 8, 11, 10, 6, 10, 8, 7, 6, 9, 2, 8, 10, 11, 6, 4, 9, 4, 10, 9, 4, 4, 2, 6, 4, 4, 9, 11, 7, 11, 4, 9, 11, 5, 2, 4, 3, 8, 5, 7, 5, 7, 7, 7, 6, 5, 6, 6, 5, 6, 6, 5, 6, 7, 7, 7, 7, 8, 5, 5, 6, 5, 5, 5, 3, 6, 5, 3], \"xaxis\": \"x2\", \"y\": [0.6193, 0.787, 1.1075, 1.4534, 1.3741, 1.4569, 0.8035, 0.5498, 0.7169, 1.1143, 0.7538, 0.7111, 1.4308, 0.8702, 1.6872, 0.7906, 1.2448, 0.6826, 0.5621, 20.0178, 1.5995, 0.6899, 1.6376, 1.5414, 0.8121, 0.5721, 0.8788, 1.1664, 1.1471, 0.5818, 0.9376, 0.6628, 1.5841, 1.5924, 0.6319, 0.5339, 0.637, 0.9583, 0.8103, 0.7567, 0.5426, 0.5335, 0.5532, 0.5851, 0.5507, 0.5375, 0.6413, 0.6055, 1.0064, 0.5466, 0.572, 0.6988, 0.5523, 0.6356, 0.5415, 0.5488, 0.5447, 0.5621, 0.5335, 0.6432, 0.6368, 0.5534, 0.5488, 0.5799, 0.6063, 0.5435, 0.54, 0.5304, 0.5304, 0.5505, 0.5407, 0.5392, 0.5502, 0.5298, 0.5391, 0.5391, 0.5462, 0.5436, 0.5514, 0.5473], \"yaxis\": \"y2\"}, {\"marker\": {\"color\": [1, 3, 4, 5, 7, 9, 11, 13, 14, 15, 16, 18, 19, 20, 23, 24, 25, 26, 27, 28, 29, 30, 31, 33, 34, 35, 36, 37, 38, 39, 40, 41, 42, 43, 44, 45, 46, 47, 48, 49, 50, 51, 52, 53, 55, 56, 57, 59, 60, 61, 62, 67, 68, 70, 79, 80, 81, 83, 84, 85, 86, 87, 88, 89, 90, 93, 95, 96, 97, 98, 99, 100, 101, 102, 103, 104, 105, 106, 107, 108], \"colorbar\": {\"title\": {\"text\": \"#Trials\"}, \"x\": 1.0, \"xpad\": 40}, \"colorscale\": [[0.0, \"rgb(247,251,255)\"], [0.125, \"rgb(222,235,247)\"], [0.25, \"rgb(198,219,239)\"], [0.375, \"rgb(158,202,225)\"], [0.5, \"rgb(107,174,214)\"], [0.625, \"rgb(66,146,198)\"], [0.75, \"rgb(33,113,181)\"], [0.875, \"rgb(8,81,156)\"], [1.0, \"rgb(8,48,107)\"]], \"line\": {\"color\": \"Grey\", \"width\": 0.5}, \"showscale\": false}, \"mode\": \"markers\", \"showlegend\": false, \"type\": \"scatter\", \"x\": [0.5, 0.5, 0.3, 0.7, 0.8, 0.4, 0.3, 1.0, 0.8, 0.3, 0.5, 0.8, 0.3, 1.0, 0.4, 0.8, 0.6000000000000001, 0.7, 0.4, 1.0, 0.8, 0.8, 0.8, 0.4, 0.8, 0.4, 1.0, 0.8, 0.3, 0.3, 0.8, 0.4, 0.7, 1.0, 0.7, 0.3, 1.0, 0.9000000000000001, 0.7, 0.5, 0.4, 0.5, 0.9000000000000001, 0.5, 1.0, 0.3, 0.9000000000000001, 0.3, 0.5, 0.3, 0.6000000000000001, 0.3, 0.4, 0.3, 0.4, 0.4, 0.4, 0.6000000000000001, 0.5, 0.5, 0.5, 0.4, 0.4, 0.4, 0.5, 0.6000000000000001, 0.6000000000000001, 0.6000000000000001, 0.6000000000000001, 0.6000000000000001, 0.6000000000000001, 0.6000000000000001, 0.6000000000000001, 0.7, 0.7, 0.7, 0.7, 0.7, 0.7, 0.7], \"xaxis\": \"x3\", \"y\": [0.6193, 0.787, 1.1075, 1.4534, 1.3741, 1.4569, 0.8035, 0.5498, 0.7169, 1.1143, 0.7538, 0.7111, 1.4308, 0.8702, 1.6872, 0.7906, 1.2448, 0.6826, 0.5621, 20.0178, 1.5995, 0.6899, 1.6376, 1.5414, 0.8121, 0.5721, 0.8788, 1.1664, 1.1471, 0.5818, 0.9376, 0.6628, 1.5841, 1.5924, 0.6319, 0.5339, 0.637, 0.9583, 0.8103, 0.7567, 0.5426, 0.5335, 0.5532, 0.5851, 0.5507, 0.5375, 0.6413, 0.6055, 1.0064, 0.5466, 0.572, 0.6988, 0.5523, 0.6356, 0.5415, 0.5488, 0.5447, 0.5621, 0.5335, 0.6432, 0.6368, 0.5534, 0.5488, 0.5799, 0.6063, 0.5435, 0.54, 0.5304, 0.5304, 0.5505, 0.5407, 0.5392, 0.5502, 0.5298, 0.5391, 0.5391, 0.5462, 0.5436, 0.5514, 0.5473], \"yaxis\": \"y3\"}, {\"marker\": {\"color\": [0, 1, 2, 3, 4, 5, 6, 7, 8, 9, 10, 11, 12, 13, 14, 15, 16, 17, 18, 19, 20, 21, 22, 23, 24, 25, 26, 27, 28, 29, 30, 31, 32, 33, 34, 35, 36, 37, 38, 39, 40, 41, 42, 43, 44, 45, 46, 47, 48, 49, 50, 51, 52, 53, 54, 55, 56, 57, 58, 59, 60, 61, 62, 63, 64, 65, 66, 67, 68, 69, 70, 71, 72, 73, 74, 75, 76, 77, 78, 79, 80, 81, 82, 83, 84, 85, 86, 87, 88, 89, 90, 91, 92, 93, 94, 95, 96, 97, 98, 99, 100, 101, 102, 103, 104, 105, 106, 107, 108], \"colorbar\": {\"title\": {\"text\": \"#Trials\"}, \"x\": 1.0, \"xpad\": 40}, \"colorscale\": [[0.0, \"rgb(247,251,255)\"], [0.125, \"rgb(222,235,247)\"], [0.25, \"rgb(198,219,239)\"], [0.375, \"rgb(158,202,225)\"], [0.5, \"rgb(107,174,214)\"], [0.625, \"rgb(66,146,198)\"], [0.75, \"rgb(33,113,181)\"], [0.875, \"rgb(8,81,156)\"], [1.0, \"rgb(8,48,107)\"]], \"line\": {\"color\": \"Grey\", \"width\": 0.5}, \"showscale\": false}, \"mode\": \"markers\", \"showlegend\": false, \"type\": \"scatter\", \"x\": [72, 24, 30, 89, 55, 73, 14, 44, 36, 54, 62, 85, 60, 1, 33, 73, 37, 65, 14, 63, 15, 71, 45, 92, 77, 97, 52, 2, 87, 44, 17, 73, 59, 52, 89, 60, 32, 20, 36, 25, 100, 8, 86, 54, 69, 6, 60, 18, 32, 17, 2, 3, 1, 7, 10, 4, 4, 10, 4, 12, 24, 5, 1, 6, 6, 13, 4, 21, 10, 1, 27, 6, 6, 8, 14, 11, 1, 7, 15, 3, 3, 8, 5, 1, 9, 12, 20, 16, 9, 3, 13, 7, 6, 3, 10, 10, 18, 18, 22, 16, 19, 19, 27, 28, 28, 28, 40, 30, 24], \"xaxis\": \"x4\", \"y\": [1.738, 0.6193, 0.5791, 0.787, 1.1075, 1.4534, 0.5278, 1.3741, 0.5517, 1.4569, 0.8064, 0.8035, 1.7261, 0.5498, 0.7169, 1.1143, 0.7538, 1.4295, 0.7111, 1.4308, 0.8702, 1.8285, 0.7195, 1.6872, 0.7906, 1.2448, 0.6826, 0.5621, 20.0178, 1.5995, 0.6899, 1.6376, 0.95, 1.5414, 0.8121, 0.5721, 0.8788, 1.1664, 1.1471, 0.5818, 0.9376, 0.6628, 1.5841, 1.5924, 0.6319, 0.5339, 0.637, 0.9583, 0.8103, 0.7567, 0.5426, 0.5335, 0.5532, 0.5851, 0.6971, 0.5507, 0.5375, 0.6413, 0.5985, 0.6055, 1.0064, 0.5466, 0.572, 0.5471, 0.5428, 0.5612, 0.5477, 0.6988, 0.5523, 0.5656, 0.6356, 0.5428, 0.5445, 0.5579, 0.6165, 0.5661, 0.5711, 0.5501, 0.8744, 0.5415, 0.5488, 0.5447, 0.5452, 0.5621, 0.5335, 0.6432, 0.6368, 0.5534, 0.5488, 0.5799, 0.6063, 0.5463, 0.5404, 0.5435, 0.5401, 0.54, 0.5304, 0.5304, 0.5505, 0.5407, 0.5392, 0.5502, 0.5298, 0.5391, 0.5391, 0.5462, 0.5436, 0.5514, 0.5473], \"yaxis\": \"y4\"}, {\"marker\": {\"color\": [0, 1, 2, 3, 4, 5, 6, 7, 8, 9, 10, 11, 12, 13, 14, 15, 16, 17, 18, 19, 20, 21, 22, 23, 24, 25, 26, 27, 28, 29, 30, 31, 32, 33, 34, 35, 36, 37, 38, 39, 40, 41, 42, 43, 44, 45, 46, 47, 48, 49, 50, 51, 52, 53, 54, 55, 56, 57, 58, 59, 60, 61, 62, 63, 64, 65, 66, 67, 68, 69, 70, 71, 72, 73, 74, 75, 76, 77, 78, 79, 80, 81, 82, 83, 84, 85, 86, 87, 88, 89, 90, 91, 92, 93, 94, 95, 96, 97, 98, 99, 100, 101, 102, 103, 104, 105, 106, 107, 108], \"colorbar\": {\"title\": {\"text\": \"#Trials\"}, \"x\": 1.0, \"xpad\": 40}, \"colorscale\": [[0.0, \"rgb(247,251,255)\"], [0.125, \"rgb(222,235,247)\"], [0.25, \"rgb(198,219,239)\"], [0.375, \"rgb(158,202,225)\"], [0.5, \"rgb(107,174,214)\"], [0.625, \"rgb(66,146,198)\"], [0.75, \"rgb(33,113,181)\"], [0.875, \"rgb(8,81,156)\"], [1.0, \"rgb(8,48,107)\"]], \"line\": {\"color\": \"Grey\", \"width\": 0.5}, \"showscale\": false}, \"mode\": \"markers\", \"showlegend\": false, \"type\": \"scatter\", \"x\": [5, 4, 6, 5, 4, 2, 5, 3, 4, 3, 5, 7, 3, 6, 4, 3, 3, 7, 7, 2, 6, 5, 5, 5, 2, 7, 4, 2, 2, 2, 7, 6, 6, 3, 3, 7, 2, 2, 2, 7, 3, 2, 2, 7, 4, 4, 6, 6, 7, 3, 4, 4, 4, 4, 5, 4, 4, 5, 4, 4, 5, 4, 4, 4, 4, 5, 4, 4, 4, 5, 4, 4, 4, 3, 4, 4, 5, 4, 3, 4, 5, 4, 4, 4, 4, 5, 4, 4, 3, 4, 4, 4, 4, 4, 3, 3, 3, 3, 3, 3, 3, 3, 3, 3, 3, 3, 3, 3, 3], \"xaxis\": \"x5\", \"y\": [1.738, 0.6193, 0.5791, 0.787, 1.1075, 1.4534, 0.5278, 1.3741, 0.5517, 1.4569, 0.8064, 0.8035, 1.7261, 0.5498, 0.7169, 1.1143, 0.7538, 1.4295, 0.7111, 1.4308, 0.8702, 1.8285, 0.7195, 1.6872, 0.7906, 1.2448, 0.6826, 0.5621, 20.0178, 1.5995, 0.6899, 1.6376, 0.95, 1.5414, 0.8121, 0.5721, 0.8788, 1.1664, 1.1471, 0.5818, 0.9376, 0.6628, 1.5841, 1.5924, 0.6319, 0.5339, 0.637, 0.9583, 0.8103, 0.7567, 0.5426, 0.5335, 0.5532, 0.5851, 0.6971, 0.5507, 0.5375, 0.6413, 0.5985, 0.6055, 1.0064, 0.5466, 0.572, 0.5471, 0.5428, 0.5612, 0.5477, 0.6988, 0.5523, 0.5656, 0.6356, 0.5428, 0.5445, 0.5579, 0.6165, 0.5661, 0.5711, 0.5501, 0.8744, 0.5415, 0.5488, 0.5447, 0.5452, 0.5621, 0.5335, 0.6432, 0.6368, 0.5534, 0.5488, 0.5799, 0.6063, 0.5463, 0.5404, 0.5435, 0.5401, 0.54, 0.5304, 0.5304, 0.5505, 0.5407, 0.5392, 0.5502, 0.5298, 0.5391, 0.5391, 0.5462, 0.5436, 0.5514, 0.5473], \"yaxis\": \"y5\"}, {\"marker\": {\"color\": [0, 1, 2, 3, 4, 5, 6, 7, 8, 9, 10, 11, 12, 13, 14, 15, 16, 17, 18, 19, 20, 21, 22, 23, 24, 25, 26, 27, 28, 29, 30, 31, 32, 33, 34, 35, 36, 37, 38, 39, 40, 41, 42, 43, 44, 45, 46, 47, 48, 49, 50, 51, 52, 53, 54, 55, 56, 57, 58, 59, 60, 61, 62, 63, 64, 65, 66, 67, 68, 69, 70, 71, 72, 73, 74, 75, 76, 77, 78, 79, 80, 81, 82, 83, 84, 85, 86, 87, 88, 89, 90, 91, 92, 93, 94, 95, 96, 97, 98, 99, 100, 101, 102, 103, 104, 105, 106, 107, 108], \"colorbar\": {\"title\": {\"text\": \"#Trials\"}, \"x\": 1.0, \"xpad\": 40}, \"colorscale\": [[0.0, \"rgb(247,251,255)\"], [0.125, \"rgb(222,235,247)\"], [0.25, \"rgb(198,219,239)\"], [0.375, \"rgb(158,202,225)\"], [0.5, \"rgb(107,174,214)\"], [0.625, \"rgb(66,146,198)\"], [0.75, \"rgb(33,113,181)\"], [0.875, \"rgb(8,81,156)\"], [1.0, \"rgb(8,48,107)\"]], \"line\": {\"color\": \"Grey\", \"width\": 0.5}, \"showscale\": false}, \"mode\": \"markers\", \"showlegend\": false, \"type\": \"scatter\", \"x\": [5, 3, 6, 1, 4, 7, 2, 8, 2, 2, 4, 2, 9, 8, 11, 8, 3, 3, 7, 7, 11, 11, 9, 9, 9, 3, 1, 3, 5, 10, 6, 11, 4, 9, 2, 1, 11, 8, 6, 2, 1, 7, 7, 8, 3, 3, 1, 9, 6, 8, 5, 5, 5, 5, 4, 2, 4, 4, 5, 4, 5, 2, 3, 2, 2, 2, 3, 4, 3, 4, 2, 2, 2, 1, 3, 2, 3, 1, 5, 4, 4, 4, 3, 5, 2, 6, 3, 2, 4, 1, 5, 2, 2, 3, 2, 1, 1, 1, 1, 1, 1, 1, 1, 1, 1, 1, 1, 1, 1], \"xaxis\": \"x6\", \"y\": [1.738, 0.6193, 0.5791, 0.787, 1.1075, 1.4534, 0.5278, 1.3741, 0.5517, 1.4569, 0.8064, 0.8035, 1.7261, 0.5498, 0.7169, 1.1143, 0.7538, 1.4295, 0.7111, 1.4308, 0.8702, 1.8285, 0.7195, 1.6872, 0.7906, 1.2448, 0.6826, 0.5621, 20.0178, 1.5995, 0.6899, 1.6376, 0.95, 1.5414, 0.8121, 0.5721, 0.8788, 1.1664, 1.1471, 0.5818, 0.9376, 0.6628, 1.5841, 1.5924, 0.6319, 0.5339, 0.637, 0.9583, 0.8103, 0.7567, 0.5426, 0.5335, 0.5532, 0.5851, 0.6971, 0.5507, 0.5375, 0.6413, 0.5985, 0.6055, 1.0064, 0.5466, 0.572, 0.5471, 0.5428, 0.5612, 0.5477, 0.6988, 0.5523, 0.5656, 0.6356, 0.5428, 0.5445, 0.5579, 0.6165, 0.5661, 0.5711, 0.5501, 0.8744, 0.5415, 0.5488, 0.5447, 0.5452, 0.5621, 0.5335, 0.6432, 0.6368, 0.5534, 0.5488, 0.5799, 0.6063, 0.5463, 0.5404, 0.5435, 0.5401, 0.54, 0.5304, 0.5304, 0.5505, 0.5407, 0.5392, 0.5502, 0.5298, 0.5391, 0.5391, 0.5462, 0.5436, 0.5514, 0.5473], \"yaxis\": \"y6\"}, {\"marker\": {\"color\": [0, 1, 2, 3, 4, 5, 6, 7, 8, 9, 10, 11, 12, 13, 14, 15, 16, 17, 18, 19, 20, 21, 22, 23, 24, 25, 26, 27, 28, 29, 30, 31, 32, 33, 34, 35, 36, 37, 38, 39, 40, 41, 42, 43, 44, 45, 46, 47, 48, 49, 50, 51, 52, 53, 54, 55, 56, 57, 58, 59, 60, 61, 62, 63, 64, 65, 66, 67, 68, 69, 70, 71, 72, 73, 74, 75, 76, 77, 78, 79, 80, 81, 82, 83, 84, 85, 86, 87, 88, 89, 90, 91, 92, 93, 94, 95, 96, 97, 98, 99, 100, 101, 102, 103, 104, 105, 106, 107, 108], \"colorbar\": {\"title\": {\"text\": \"#Trials\"}, \"x\": 1.0, \"xpad\": 40}, \"colorscale\": [[0.0, \"rgb(247,251,255)\"], [0.125, \"rgb(222,235,247)\"], [0.25, \"rgb(198,219,239)\"], [0.375, \"rgb(158,202,225)\"], [0.5, \"rgb(107,174,214)\"], [0.625, \"rgb(66,146,198)\"], [0.75, \"rgb(33,113,181)\"], [0.875, \"rgb(8,81,156)\"], [1.0, \"rgb(8,48,107)\"]], \"line\": {\"color\": \"Grey\", \"width\": 0.5}, \"showscale\": false}, \"mode\": \"markers\", \"showlegend\": false, \"type\": \"scatter\", \"x\": [84, 23, 3, 92, 65, 19, 10, 48, 5, 91, 15, 54, 30, 89, 6, 13, 45, 48, 28, 53, 30, 87, 7, 63, 4, 45, 63, 57, 97, 33, 25, 71, 20, 34, 24, 3, 10, 55, 85, 83, 69, 68, 23, 28, 5, 38, 64, 96, 24, 34, 76, 78, 77, 78, 76, 93, 92, 100, 90, 81, 89, 94, 100, 39, 40, 42, 38, 59, 50, 73, 94, 40, 45, 45, 39, 48, 43, 51, 60, 36, 17, 36, 41, 31, 46, 36, 47, 51, 28, 54, 32, 44, 41, 41, 36, 37, 36, 36, 37, 26, 20, 10, 21, 21, 21, 21, 13, 18, 21], \"xaxis\": \"x7\", \"y\": [1.738, 0.6193, 0.5791, 0.787, 1.1075, 1.4534, 0.5278, 1.3741, 0.5517, 1.4569, 0.8064, 0.8035, 1.7261, 0.5498, 0.7169, 1.1143, 0.7538, 1.4295, 0.7111, 1.4308, 0.8702, 1.8285, 0.7195, 1.6872, 0.7906, 1.2448, 0.6826, 0.5621, 20.0178, 1.5995, 0.6899, 1.6376, 0.95, 1.5414, 0.8121, 0.5721, 0.8788, 1.1664, 1.1471, 0.5818, 0.9376, 0.6628, 1.5841, 1.5924, 0.6319, 0.5339, 0.637, 0.9583, 0.8103, 0.7567, 0.5426, 0.5335, 0.5532, 0.5851, 0.6971, 0.5507, 0.5375, 0.6413, 0.5985, 0.6055, 1.0064, 0.5466, 0.572, 0.5471, 0.5428, 0.5612, 0.5477, 0.6988, 0.5523, 0.5656, 0.6356, 0.5428, 0.5445, 0.5579, 0.6165, 0.5661, 0.5711, 0.5501, 0.8744, 0.5415, 0.5488, 0.5447, 0.5452, 0.5621, 0.5335, 0.6432, 0.6368, 0.5534, 0.5488, 0.5799, 0.6063, 0.5463, 0.5404, 0.5435, 0.5401, 0.54, 0.5304, 0.5304, 0.5505, 0.5407, 0.5392, 0.5502, 0.5298, 0.5391, 0.5391, 0.5462, 0.5436, 0.5514, 0.5473], \"yaxis\": \"y7\"}],\n",
              "                        {\"template\": {\"data\": {\"bar\": [{\"error_x\": {\"color\": \"#2a3f5f\"}, \"error_y\": {\"color\": \"#2a3f5f\"}, \"marker\": {\"line\": {\"color\": \"#E5ECF6\", \"width\": 0.5}}, \"type\": \"bar\"}], \"barpolar\": [{\"marker\": {\"line\": {\"color\": \"#E5ECF6\", \"width\": 0.5}}, \"type\": \"barpolar\"}], \"carpet\": [{\"aaxis\": {\"endlinecolor\": \"#2a3f5f\", \"gridcolor\": \"white\", \"linecolor\": \"white\", \"minorgridcolor\": \"white\", \"startlinecolor\": \"#2a3f5f\"}, \"baxis\": {\"endlinecolor\": \"#2a3f5f\", \"gridcolor\": \"white\", \"linecolor\": \"white\", \"minorgridcolor\": \"white\", \"startlinecolor\": \"#2a3f5f\"}, \"type\": \"carpet\"}], \"choropleth\": [{\"colorbar\": {\"outlinewidth\": 0, \"ticks\": \"\"}, \"type\": \"choropleth\"}], \"contour\": [{\"colorbar\": {\"outlinewidth\": 0, \"ticks\": \"\"}, \"colorscale\": [[0.0, \"#0d0887\"], [0.1111111111111111, \"#46039f\"], [0.2222222222222222, \"#7201a8\"], [0.3333333333333333, \"#9c179e\"], [0.4444444444444444, \"#bd3786\"], [0.5555555555555556, \"#d8576b\"], [0.6666666666666666, \"#ed7953\"], [0.7777777777777778, \"#fb9f3a\"], [0.8888888888888888, \"#fdca26\"], [1.0, \"#f0f921\"]], \"type\": \"contour\"}], \"contourcarpet\": [{\"colorbar\": {\"outlinewidth\": 0, \"ticks\": \"\"}, \"type\": \"contourcarpet\"}], \"heatmap\": [{\"colorbar\": {\"outlinewidth\": 0, \"ticks\": \"\"}, \"colorscale\": [[0.0, \"#0d0887\"], [0.1111111111111111, \"#46039f\"], [0.2222222222222222, \"#7201a8\"], [0.3333333333333333, \"#9c179e\"], [0.4444444444444444, \"#bd3786\"], [0.5555555555555556, \"#d8576b\"], [0.6666666666666666, \"#ed7953\"], [0.7777777777777778, \"#fb9f3a\"], [0.8888888888888888, \"#fdca26\"], [1.0, \"#f0f921\"]], \"type\": \"heatmap\"}], \"heatmapgl\": [{\"colorbar\": {\"outlinewidth\": 0, \"ticks\": \"\"}, \"colorscale\": [[0.0, \"#0d0887\"], [0.1111111111111111, \"#46039f\"], [0.2222222222222222, \"#7201a8\"], [0.3333333333333333, \"#9c179e\"], [0.4444444444444444, \"#bd3786\"], [0.5555555555555556, \"#d8576b\"], [0.6666666666666666, \"#ed7953\"], [0.7777777777777778, \"#fb9f3a\"], [0.8888888888888888, \"#fdca26\"], [1.0, \"#f0f921\"]], \"type\": \"heatmapgl\"}], \"histogram\": [{\"marker\": {\"colorbar\": {\"outlinewidth\": 0, \"ticks\": \"\"}}, \"type\": \"histogram\"}], \"histogram2d\": [{\"colorbar\": {\"outlinewidth\": 0, \"ticks\": \"\"}, \"colorscale\": [[0.0, \"#0d0887\"], [0.1111111111111111, \"#46039f\"], [0.2222222222222222, \"#7201a8\"], [0.3333333333333333, \"#9c179e\"], [0.4444444444444444, \"#bd3786\"], [0.5555555555555556, \"#d8576b\"], [0.6666666666666666, \"#ed7953\"], [0.7777777777777778, \"#fb9f3a\"], [0.8888888888888888, \"#fdca26\"], [1.0, \"#f0f921\"]], \"type\": \"histogram2d\"}], \"histogram2dcontour\": [{\"colorbar\": {\"outlinewidth\": 0, \"ticks\": \"\"}, \"colorscale\": [[0.0, \"#0d0887\"], [0.1111111111111111, \"#46039f\"], [0.2222222222222222, \"#7201a8\"], [0.3333333333333333, \"#9c179e\"], [0.4444444444444444, \"#bd3786\"], [0.5555555555555556, \"#d8576b\"], [0.6666666666666666, \"#ed7953\"], [0.7777777777777778, \"#fb9f3a\"], [0.8888888888888888, \"#fdca26\"], [1.0, \"#f0f921\"]], \"type\": \"histogram2dcontour\"}], \"mesh3d\": [{\"colorbar\": {\"outlinewidth\": 0, \"ticks\": \"\"}, \"type\": \"mesh3d\"}], \"parcoords\": [{\"line\": {\"colorbar\": {\"outlinewidth\": 0, \"ticks\": \"\"}}, \"type\": \"parcoords\"}], \"pie\": [{\"automargin\": true, \"type\": \"pie\"}], \"scatter\": [{\"marker\": {\"colorbar\": {\"outlinewidth\": 0, \"ticks\": \"\"}}, \"type\": \"scatter\"}], \"scatter3d\": [{\"line\": {\"colorbar\": {\"outlinewidth\": 0, \"ticks\": \"\"}}, \"marker\": {\"colorbar\": {\"outlinewidth\": 0, \"ticks\": \"\"}}, \"type\": \"scatter3d\"}], \"scattercarpet\": [{\"marker\": {\"colorbar\": {\"outlinewidth\": 0, \"ticks\": \"\"}}, \"type\": \"scattercarpet\"}], \"scattergeo\": [{\"marker\": {\"colorbar\": {\"outlinewidth\": 0, \"ticks\": \"\"}}, \"type\": \"scattergeo\"}], \"scattergl\": [{\"marker\": {\"colorbar\": {\"outlinewidth\": 0, \"ticks\": \"\"}}, \"type\": \"scattergl\"}], \"scattermapbox\": [{\"marker\": {\"colorbar\": {\"outlinewidth\": 0, \"ticks\": \"\"}}, \"type\": \"scattermapbox\"}], \"scatterpolar\": [{\"marker\": {\"colorbar\": {\"outlinewidth\": 0, \"ticks\": \"\"}}, \"type\": \"scatterpolar\"}], \"scatterpolargl\": [{\"marker\": {\"colorbar\": {\"outlinewidth\": 0, \"ticks\": \"\"}}, \"type\": \"scatterpolargl\"}], \"scatterternary\": [{\"marker\": {\"colorbar\": {\"outlinewidth\": 0, \"ticks\": \"\"}}, \"type\": \"scatterternary\"}], \"surface\": [{\"colorbar\": {\"outlinewidth\": 0, \"ticks\": \"\"}, \"colorscale\": [[0.0, \"#0d0887\"], [0.1111111111111111, \"#46039f\"], [0.2222222222222222, \"#7201a8\"], [0.3333333333333333, \"#9c179e\"], [0.4444444444444444, \"#bd3786\"], [0.5555555555555556, \"#d8576b\"], [0.6666666666666666, \"#ed7953\"], [0.7777777777777778, \"#fb9f3a\"], [0.8888888888888888, \"#fdca26\"], [1.0, \"#f0f921\"]], \"type\": \"surface\"}], \"table\": [{\"cells\": {\"fill\": {\"color\": \"#EBF0F8\"}, \"line\": {\"color\": \"white\"}}, \"header\": {\"fill\": {\"color\": \"#C8D4E3\"}, \"line\": {\"color\": \"white\"}}, \"type\": \"table\"}]}, \"layout\": {\"annotationdefaults\": {\"arrowcolor\": \"#2a3f5f\", \"arrowhead\": 0, \"arrowwidth\": 1}, \"coloraxis\": {\"colorbar\": {\"outlinewidth\": 0, \"ticks\": \"\"}}, \"colorscale\": {\"diverging\": [[0, \"#8e0152\"], [0.1, \"#c51b7d\"], [0.2, \"#de77ae\"], [0.3, \"#f1b6da\"], [0.4, \"#fde0ef\"], [0.5, \"#f7f7f7\"], [0.6, \"#e6f5d0\"], [0.7, \"#b8e186\"], [0.8, \"#7fbc41\"], [0.9, \"#4d9221\"], [1, \"#276419\"]], \"sequential\": [[0.0, \"#0d0887\"], [0.1111111111111111, \"#46039f\"], [0.2222222222222222, \"#7201a8\"], [0.3333333333333333, \"#9c179e\"], [0.4444444444444444, \"#bd3786\"], [0.5555555555555556, \"#d8576b\"], [0.6666666666666666, \"#ed7953\"], [0.7777777777777778, \"#fb9f3a\"], [0.8888888888888888, \"#fdca26\"], [1.0, \"#f0f921\"]], \"sequentialminus\": [[0.0, \"#0d0887\"], [0.1111111111111111, \"#46039f\"], [0.2222222222222222, \"#7201a8\"], [0.3333333333333333, \"#9c179e\"], [0.4444444444444444, \"#bd3786\"], [0.5555555555555556, \"#d8576b\"], [0.6666666666666666, \"#ed7953\"], [0.7777777777777778, \"#fb9f3a\"], [0.8888888888888888, \"#fdca26\"], [1.0, \"#f0f921\"]]}, \"colorway\": [\"#636efa\", \"#EF553B\", \"#00cc96\", \"#ab63fa\", \"#FFA15A\", \"#19d3f3\", \"#FF6692\", \"#B6E880\", \"#FF97FF\", \"#FECB52\"], \"font\": {\"color\": \"#2a3f5f\"}, \"geo\": {\"bgcolor\": \"white\", \"lakecolor\": \"white\", \"landcolor\": \"#E5ECF6\", \"showlakes\": true, \"showland\": true, \"subunitcolor\": \"white\"}, \"hoverlabel\": {\"align\": \"left\"}, \"hovermode\": \"closest\", \"mapbox\": {\"style\": \"light\"}, \"paper_bgcolor\": \"white\", \"plot_bgcolor\": \"#E5ECF6\", \"polar\": {\"angularaxis\": {\"gridcolor\": \"white\", \"linecolor\": \"white\", \"ticks\": \"\"}, \"bgcolor\": \"#E5ECF6\", \"radialaxis\": {\"gridcolor\": \"white\", \"linecolor\": \"white\", \"ticks\": \"\"}}, \"scene\": {\"xaxis\": {\"backgroundcolor\": \"#E5ECF6\", \"gridcolor\": \"white\", \"gridwidth\": 2, \"linecolor\": \"white\", \"showbackground\": true, \"ticks\": \"\", \"zerolinecolor\": \"white\"}, \"yaxis\": {\"backgroundcolor\": \"#E5ECF6\", \"gridcolor\": \"white\", \"gridwidth\": 2, \"linecolor\": \"white\", \"showbackground\": true, \"ticks\": \"\", \"zerolinecolor\": \"white\"}, \"zaxis\": {\"backgroundcolor\": \"#E5ECF6\", \"gridcolor\": \"white\", \"gridwidth\": 2, \"linecolor\": \"white\", \"showbackground\": true, \"ticks\": \"\", \"zerolinecolor\": \"white\"}}, \"shapedefaults\": {\"line\": {\"color\": \"#2a3f5f\"}}, \"ternary\": {\"aaxis\": {\"gridcolor\": \"white\", \"linecolor\": \"white\", \"ticks\": \"\"}, \"baxis\": {\"gridcolor\": \"white\", \"linecolor\": \"white\", \"ticks\": \"\"}, \"bgcolor\": \"#E5ECF6\", \"caxis\": {\"gridcolor\": \"white\", \"linecolor\": \"white\", \"ticks\": \"\"}}, \"title\": {\"x\": 0.05}, \"xaxis\": {\"automargin\": true, \"gridcolor\": \"white\", \"linecolor\": \"white\", \"ticks\": \"\", \"title\": {\"standoff\": 15}, \"zerolinecolor\": \"white\", \"zerolinewidth\": 2}, \"yaxis\": {\"automargin\": true, \"gridcolor\": \"white\", \"linecolor\": \"white\", \"ticks\": \"\", \"title\": {\"standoff\": 15}, \"zerolinecolor\": \"white\", \"zerolinewidth\": 2}}}, \"title\": {\"text\": \"Slice Plot\"}, \"width\": 2100, \"xaxis\": {\"anchor\": \"y\", \"domain\": [0.0, 0.1183673469387755], \"title\": {\"text\": \"lgbm_bagging_fraction\"}}, \"xaxis2\": {\"anchor\": \"y2\", \"domain\": [0.14693877551020407, 0.26530612244897955], \"title\": {\"text\": \"lgbm_bagging_freq\"}}, \"xaxis3\": {\"anchor\": \"y3\", \"domain\": [0.29387755102040813, 0.4122448979591836], \"title\": {\"text\": \"lgbm_feature_fraction\"}}, \"xaxis4\": {\"anchor\": \"y4\", \"domain\": [0.4408163265306122, 0.5591836734693877], \"title\": {\"text\": \"lgbm_learning_rate\"}}, \"xaxis5\": {\"anchor\": \"y5\", \"domain\": [0.5877551020408163, 0.7061224489795918], \"title\": {\"text\": \"lgbm_min_child_samples\"}}, \"xaxis6\": {\"anchor\": \"y6\", \"domain\": [0.7346938775510204, 0.8530612244897959], \"title\": {\"text\": \"lgbm_num_iterations\"}}, \"xaxis7\": {\"anchor\": \"y7\", \"domain\": [0.8816326530612244, 0.9999999999999999], \"title\": {\"text\": \"lgbm_num_leaves\"}}, \"yaxis\": {\"anchor\": \"x\", \"domain\": [0.0, 1.0], \"title\": {\"text\": \"Objective Value\"}}, \"yaxis2\": {\"anchor\": \"x2\", \"domain\": [0.0, 1.0], \"matches\": \"y\", \"showticklabels\": false}, \"yaxis3\": {\"anchor\": \"x3\", \"domain\": [0.0, 1.0], \"matches\": \"y\", \"showticklabels\": false}, \"yaxis4\": {\"anchor\": \"x4\", \"domain\": [0.0, 1.0], \"matches\": \"y\", \"showticklabels\": false}, \"yaxis5\": {\"anchor\": \"x5\", \"domain\": [0.0, 1.0], \"matches\": \"y\", \"showticklabels\": false}, \"yaxis6\": {\"anchor\": \"x6\", \"domain\": [0.0, 1.0], \"matches\": \"y\", \"showticklabels\": false}, \"yaxis7\": {\"anchor\": \"x7\", \"domain\": [0.0, 1.0], \"matches\": \"y\", \"showticklabels\": false}},\n",
              "                        {\"responsive\": true}\n",
              "                    ).then(function(){\n",
              "                            \n",
              "var gd = document.getElementById('77fdbe07-9cad-43ff-afb1-b762cc8a7476');\n",
              "var x = new MutationObserver(function (mutations, observer) {{\n",
              "        var display = window.getComputedStyle(gd).display;\n",
              "        if (!display || display === 'none') {{\n",
              "            console.log([gd, 'removed!']);\n",
              "            Plotly.purge(gd);\n",
              "            observer.disconnect();\n",
              "        }}\n",
              "}});\n",
              "\n",
              "// Listen for the removal of the full notebook cells\n",
              "var notebookContainer = gd.closest('#notebook-container');\n",
              "if (notebookContainer) {{\n",
              "    x.observe(notebookContainer, {childList: true});\n",
              "}}\n",
              "\n",
              "// Listen for the clearing of the current output cell\n",
              "var outputEl = gd.closest('.output');\n",
              "if (outputEl) {{\n",
              "    x.observe(outputEl, {childList: true});\n",
              "}}\n",
              "\n",
              "                        })\n",
              "                };\n",
              "                \n",
              "            </script>\n",
              "        </div>\n",
              "</body>\n",
              "</html>"
            ]
          },
          "metadata": {
            "tags": []
          }
        }
      ]
    },
    {
      "cell_type": "code",
      "metadata": {
        "id": "NsnNnlEisGAs",
        "colab_type": "code",
        "colab": {}
      },
      "source": [
        ""
      ],
      "execution_count": 0,
      "outputs": []
    }
  ],
  "metadata": {
    "kernelspec": {
      "display_name": "Python 3",
      "language": "python",
      "name": "python3"
    },
    "language_info": {
      "codemirror_mode": {
        "name": "ipython",
        "version": 3
      },
      "file_extension": ".py",
      "mimetype": "text/x-python",
      "name": "python",
      "nbconvert_exporter": "python",
      "pygments_lexer": "ipython3",
      "version": "3.7.4-final"
    },
    "toc": {
      "base_numbering": 1,
      "nav_menu": {},
      "number_sections": false,
      "sideBar": true,
      "skip_h1_title": false,
      "title_cell": "Table of Contents",
      "title_sidebar": "Contents",
      "toc_cell": false,
      "toc_position": {
        "height": "calc(100% - 180px)",
        "left": "10px",
        "top": "150px",
        "width": "165px"
      },
      "toc_section_display": true,
      "toc_window_display": true
    },
    "colab": {
      "name": "02. Models v1.ipynb",
      "provenance": [],
      "collapsed_sections": [
        "SvXrBLljbV6F",
        "IbtbRVMebV6F",
        "D9xT9cTgbV6F",
        "apIHobyxbV6F",
        "tl8zhvjVbV6G"
      ]
    }
  },
  "nbformat": 4,
  "nbformat_minor": 0
}