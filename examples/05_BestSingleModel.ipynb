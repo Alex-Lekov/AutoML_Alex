{
 "cells": [
  {
   "cell_type": "code",
   "execution_count": 1,
   "metadata": {
    "ExecuteTime": {
     "end_time": "2020-05-07T01:04:07.223678Z",
     "start_time": "2020-05-07T01:04:07.203114Z"
    }
   },
   "outputs": [],
   "source": [
    "# If you run this notebook on Google Colaboratory, uncomment the below to install automl_alex.\n",
    "#!pip install -q -U automl_alex"
   ]
  },
  {
   "cell_type": "code",
   "execution_count": 1,
   "metadata": {
    "ExecuteTime": {
     "end_time": "2020-05-07T01:05:50.878720Z",
     "start_time": "2020-05-07T01:05:50.874642Z"
    },
    "tags": []
   },
   "outputs": [
    {
     "output_type": "stream",
     "name": "stdout",
     "text": [
      "AutoML-Alex version: 1.2.28\n"
     ]
    }
   ],
   "source": [
    "import sklearn\n",
    "import pandas as pd\n",
    "import time\n",
    "import automl_alex\n",
    "from automl_alex import DataPrepare\n",
    "from automl_alex import BestSingleModel, BestSingleModelClassifier, BestSingleModelRegressor\n",
    "print('AutoML-Alex version:', automl_alex.__version__)"
   ]
  },
  {
   "cell_type": "code",
   "execution_count": 2,
   "metadata": {
    "ExecuteTime": {
     "end_time": "2020-05-07T01:05:52.553896Z",
     "start_time": "2020-05-07T01:05:52.549132Z"
    }
   },
   "outputs": [],
   "source": [
    "RANDOM_SEED = 42"
   ]
  },
  {
   "cell_type": "markdown",
   "metadata": {},
   "source": [
    "# Classifier"
   ]
  },
  {
   "cell_type": "markdown",
   "metadata": {},
   "source": [
    "## Data"
   ]
  },
  {
   "cell_type": "code",
   "execution_count": 3,
   "metadata": {
    "ExecuteTime": {
     "end_time": "2020-05-07T01:05:55.127924Z",
     "start_time": "2020-05-07T01:05:55.037616Z"
    }
   },
   "outputs": [
    {
     "output_type": "execute_result",
     "data": {
      "text/plain": [
       "  age         workclass    fnlwgt  education  education-num  \\\n",
       "0   2         State-gov   77516.0  Bachelors           13.0   \n",
       "1   3  Self-emp-not-inc   83311.0  Bachelors           13.0   \n",
       "2   2           Private  215646.0    HS-grad            9.0   \n",
       "3   3           Private  234721.0       11th            7.0   \n",
       "4   1           Private  338409.0  Bachelors           13.0   \n",
       "\n",
       "       marital-status         occupation   relationship   race     sex  \\\n",
       "0       Never-married       Adm-clerical  Not-in-family  White    Male   \n",
       "1  Married-civ-spouse    Exec-managerial        Husband  White    Male   \n",
       "2            Divorced  Handlers-cleaners  Not-in-family  White    Male   \n",
       "3  Married-civ-spouse  Handlers-cleaners        Husband  Black    Male   \n",
       "4  Married-civ-spouse     Prof-specialty           Wife  Black  Female   \n",
       "\n",
       "  capitalgain capitalloss hoursperweek native-country  \n",
       "0           1           0            2  United-States  \n",
       "1           0           0            0  United-States  \n",
       "2           0           0            2  United-States  \n",
       "3           0           0            2  United-States  \n",
       "4           0           0            2           Cuba  "
      ],
      "text/html": "<div>\n<style scoped>\n    .dataframe tbody tr th:only-of-type {\n        vertical-align: middle;\n    }\n\n    .dataframe tbody tr th {\n        vertical-align: top;\n    }\n\n    .dataframe thead th {\n        text-align: right;\n    }\n</style>\n<table border=\"1\" class=\"dataframe\">\n  <thead>\n    <tr style=\"text-align: right;\">\n      <th></th>\n      <th>age</th>\n      <th>workclass</th>\n      <th>fnlwgt</th>\n      <th>education</th>\n      <th>education-num</th>\n      <th>marital-status</th>\n      <th>occupation</th>\n      <th>relationship</th>\n      <th>race</th>\n      <th>sex</th>\n      <th>capitalgain</th>\n      <th>capitalloss</th>\n      <th>hoursperweek</th>\n      <th>native-country</th>\n    </tr>\n  </thead>\n  <tbody>\n    <tr>\n      <th>0</th>\n      <td>2</td>\n      <td>State-gov</td>\n      <td>77516.0</td>\n      <td>Bachelors</td>\n      <td>13.0</td>\n      <td>Never-married</td>\n      <td>Adm-clerical</td>\n      <td>Not-in-family</td>\n      <td>White</td>\n      <td>Male</td>\n      <td>1</td>\n      <td>0</td>\n      <td>2</td>\n      <td>United-States</td>\n    </tr>\n    <tr>\n      <th>1</th>\n      <td>3</td>\n      <td>Self-emp-not-inc</td>\n      <td>83311.0</td>\n      <td>Bachelors</td>\n      <td>13.0</td>\n      <td>Married-civ-spouse</td>\n      <td>Exec-managerial</td>\n      <td>Husband</td>\n      <td>White</td>\n      <td>Male</td>\n      <td>0</td>\n      <td>0</td>\n      <td>0</td>\n      <td>United-States</td>\n    </tr>\n    <tr>\n      <th>2</th>\n      <td>2</td>\n      <td>Private</td>\n      <td>215646.0</td>\n      <td>HS-grad</td>\n      <td>9.0</td>\n      <td>Divorced</td>\n      <td>Handlers-cleaners</td>\n      <td>Not-in-family</td>\n      <td>White</td>\n      <td>Male</td>\n      <td>0</td>\n      <td>0</td>\n      <td>2</td>\n      <td>United-States</td>\n    </tr>\n    <tr>\n      <th>3</th>\n      <td>3</td>\n      <td>Private</td>\n      <td>234721.0</td>\n      <td>11th</td>\n      <td>7.0</td>\n      <td>Married-civ-spouse</td>\n      <td>Handlers-cleaners</td>\n      <td>Husband</td>\n      <td>Black</td>\n      <td>Male</td>\n      <td>0</td>\n      <td>0</td>\n      <td>2</td>\n      <td>United-States</td>\n    </tr>\n    <tr>\n      <th>4</th>\n      <td>1</td>\n      <td>Private</td>\n      <td>338409.0</td>\n      <td>Bachelors</td>\n      <td>13.0</td>\n      <td>Married-civ-spouse</td>\n      <td>Prof-specialty</td>\n      <td>Wife</td>\n      <td>Black</td>\n      <td>Female</td>\n      <td>0</td>\n      <td>0</td>\n      <td>2</td>\n      <td>Cuba</td>\n    </tr>\n  </tbody>\n</table>\n</div>"
     },
     "metadata": {},
     "execution_count": 3
    }
   ],
   "source": [
    "from sklearn.datasets import fetch_openml\n",
    "from sklearn.model_selection import train_test_split\n",
    "# https://www.openml.org/d/179\n",
    "dataset = fetch_openml(data_id=179, as_frame=True)\n",
    "dataset.target = dataset.target.astype('category').cat.codes\n",
    "dataset.data.head(5)"
   ]
  },
  {
   "cell_type": "code",
   "execution_count": 4,
   "metadata": {
    "ExecuteTime": {
     "end_time": "2020-05-07T01:05:56.756465Z",
     "start_time": "2020-05-07T01:05:56.734220Z"
    }
   },
   "outputs": [
    {
     "output_type": "execute_result",
     "data": {
      "text/plain": [
       "((39073, 14), (9769, 14))"
      ]
     },
     "metadata": {},
     "execution_count": 4
    }
   ],
   "source": [
    "X_train, X_test, y_train, y_test = train_test_split(dataset.data, \n",
    "                                                    dataset.target,\n",
    "                                                    test_size=0.2, \n",
    "                                                    random_state=RANDOM_SEED,)\n",
    "X_train.shape, X_test.shape"
   ]
  },
  {
   "source": [
    "### DataPrepare"
   ],
   "cell_type": "markdown",
   "metadata": {}
  },
  {
   "cell_type": "code",
   "execution_count": 5,
   "metadata": {},
   "outputs": [
    {
     "output_type": "stream",
     "name": "stderr",
     "text": [
      "00:49:41 | Source data shape: (39073, 14)\n",
      "00:49:41 | ##################################################\n",
      "00:49:41 | ! START preprocessing Data\n",
      "00:49:42 | - Auto detect cat features: 12\n",
      "00:49:42 | > Binary Features\n",
      "00:49:42 | > Clean Categorical Features\n",
      "00:49:42 | > Transform Categorical Features.\n",
      "00:49:43 |  - Encoder: HelmertEncoder ADD features: 123\n",
      "00:49:43 |  - Encoder: CountEncoder ADD features: 12\n",
      "00:49:43 | > CleanOutliers\n",
      "00:49:43 | Num of outlier detected: 253 in Feature education-num\n",
      "00:49:43 | Proportion of outlier detected: 0.6 %\n",
      "00:49:43 | Num of outlier detected: 560 in Feature fnlwgt\n",
      "00:49:43 | Proportion of outlier detected: 1.4 %\n",
      "00:49:43 |   No nans features\n",
      "00:49:43 | > Generate interaction Num Features\n",
      "00:49:43 |  ADD features: 5\n",
      "00:49:43 | ##################################################\n",
      "00:49:43 | Final data shape: (39073, 156)\n",
      "00:49:43 | Total ADD columns: 142\n",
      "00:49:43 | ##################################################\n",
      "00:49:43 | ##################################################\n",
      "00:49:43 | ! Start Transform Data\n",
      "00:49:43 | > Clean Binary Features\n",
      "00:49:43 | > Clean Categorical Features\n",
      "00:49:43 | > Transform Categorical Features.\n",
      "00:49:43 |  - Encoder: HelmertEncoder ADD features: 123\n",
      "00:49:43 |  - Encoder: CountEncoder ADD features: 12\n",
      "00:49:43 | > Generate interaction Num Features\n",
      "00:49:43 |  ADD features: 5\n",
      "00:49:43 | ##################################################\n",
      "00:49:43 | Final data shape: (9769, 156)\n",
      "00:49:43 | Total ADD columns: 142\n",
      "00:49:43 | ##################################################\n"
     ]
    },
    {
     "output_type": "execute_result",
     "data": {
      "text/plain": [
       "((39073, 156), (9769, 156))"
      ]
     },
     "metadata": {},
     "execution_count": 5
    }
   ],
   "source": [
    "de = DataPrepare(\n",
    "    normalization=False, # if you use Linar based models -> True (for Tree based models normalization is not needed)\n",
    "    random_state=RANDOM_SEED,\n",
    "    )\n",
    "X_train = de.fit_transform(X_train)\n",
    "X_test = de.transform(X_test)\n",
    "X_train.shape, X_test.shape"
   ]
  },
  {
   "source": [
    "## BestSingleModel"
   ],
   "cell_type": "markdown",
   "metadata": {}
  },
  {
   "cell_type": "code",
   "execution_count": 6,
   "metadata": {
    "tags": []
   },
   "outputs": [
    {
     "output_type": "stream",
     "name": "stderr",
     "text": [
      "00:49:43 | metric is None! Default metric will be used. classifier: AUC, regression: MSE\n"
     ]
    }
   ],
   "source": [
    "model = BestSingleModelClassifier(\n",
    "    models_names = ['LightGBM', 'ExtraTrees', 'RandomForest', 'XGBoost'],\n",
    "    auto_parameters=True,\n",
    "    feature_selection=True,\n",
    "    random_state=RANDOM_SEED,)"
   ]
  },
  {
   "cell_type": "code",
   "execution_count": 7,
   "metadata": {},
   "outputs": [
    {
     "output_type": "stream",
     "name": "stderr",
     "text": [
      "00:49:49 | ##################################################\n",
      "00:49:49 | > Step 1: calc parameters and pruned score: get test 10 trials\n",
      "00:51:40 |  One iteration ~ 11.1 sec\n",
      "00:51:40 |  Possible iters ~ 54.0\n",
      "00:51:40 | ! Not enough time to find the optimal parameters. \n",
      "                     Possible iters < 100. \n",
      "                     Please, Increase the 'timeout' parameter for normal optimization.\n",
      "00:51:40 | --------------------------------------------------\n",
      "00:51:40 |   Pruned Threshold Score: 0.9061\n",
      "00:51:40 | ##################################################\n",
      "00:51:40 | > Step 2: Full opt with Threshold Score Pruner\n",
      "00:51:40 | ##################################################\n",
      "00:51:40 | > Start optimization with the parameters:\n",
      "00:51:40 | CV_Folds = 10\n",
      "00:51:40 | Score_CV_Folds = 2\n",
      "00:51:40 | Feature_Selection = True\n",
      "00:51:40 | Opt_lvl = 1\n",
      "00:51:40 | Cold_start = 10\n",
      "00:51:40 | Early_stoping = 25\n",
      "00:51:40 | Metric = roc_auc_score\n",
      "00:51:40 | Direction = maximize\n",
      "00:51:40 | ##################################################\n",
      "Optimize: : 39it [10:26, 16.06s/it, | Model: LightGBM | OptScore: 0.9176 | Best roc_auc_score: 0.9182 ]\n",
      "01:02:07 | > Finish Opt!\n",
      "Finished loading model, total used 300 iterations\n",
      "Finished loading model, total used 300 iterations\n",
      "Finished loading model, total used 300 iterations\n",
      "Finished loading model, total used 300 iterations\n",
      "Finished loading model, total used 300 iterations\n",
      "Finished loading model, total used 300 iterations\n",
      "Finished loading model, total used 300 iterations\n",
      "Finished loading model, total used 300 iterations\n",
      "Finished loading model, total used 300 iterations\n",
      "Finished loading model, total used 300 iterations\n",
      "01:02:37 | Best Score: 0.9182 roc_auc_score\n"
     ]
    },
    {
     "output_type": "execute_result",
     "data": {
      "text/plain": [
       "                    True   \n",
       "7                              True                             True   \n",
       "8                             False                            False   \n",
       "9                              True                            False   \n",
       "10                            False                            False   \n",
       "11                            False                            False   \n",
       "12                            False                            False   \n",
       "13                            False                            False   \n",
       "14                            False                            False   \n",
       "15                            False                            False   \n",
       "16                            False                            False   \n",
       "17                            False                            False   \n",
       "18                            False                            False   \n",
       "19                            False                            False   \n",
       "20                            False                            False   \n",
       "21                            False                            False   \n",
       "22                            False                            False   \n",
       "23                            False                            False   \n",
       "24                            False                            False   \n",
       "25                            False                            False   \n",
       "26                            False                            False   \n",
       "27                             True                            False   \n",
       "28                            False                            False   \n",
       "29                             True                            False   \n",
       "30                            False                            False   \n",
       "31                            False                            False   \n",
       "32                            False                            False   \n",
       "33                            False                            False   \n",
       "34                            False                            False   \n",
       "35                            False                            False   \n",
       "36                            False                            False   \n",
       "37                            False                             True   \n",
       "38                            False                             True   \n",
       "39                             True                             True   \n",
       "40                            False                             True   \n",
       "41                            False                             True   \n",
       "42                            False                             True   \n",
       "43                            False                             True   \n",
       "44                            False                             True   \n",
       "45                            False                             True   \n",
       "46                            False                             True   \n",
       "47                            False                             True   \n",
       "48                            False                             True   \n",
       "49                             True                             True   \n",
       "50                            False                             True   \n",
       "51                            False                            False   \n",
       "52                            False                            False   \n",
       "53                            False                            False   \n",
       "54                            False                             True   \n",
       "55                            False                            False   \n",
       "\n",
       "    params_CountEncoder_education  params_CountEncoder_education-num  ...  \\\n",
       "0                            True                               True  ...   \n",
       "1                           False                               True  ...   \n",
       "2                            True                              False  ...   \n",
       "3                            True                              False  ...   \n",
       "4                           False                              False  ...   \n",
       "5                           False                              False  ...   \n",
       "6                            True                              False  ...   \n",
       "7                           False                               True  ...   \n",
       "8                            True                               True  ...   \n",
       "9                           False                               True  ...   \n",
       "10                           True                              False  ...   \n",
       "11                           True                              False  ...   \n",
       "12                           True                              False  ...   \n",
       "13                           True                              False  ...   \n",
       "14                           True                              False  ...   \n",
       "15                           True                              False  ...   \n",
       "16                           True                              False  ...   \n",
       "17                           True                              False  ...   \n",
       "18                           True                              False  ...   \n",
       "19                           True                              False  ...   \n",
       "20                           True                              False  ...   \n",
       "21                           True                              False  ...   \n",
       "22                           True                              False  ...   \n",
       "23                           True                              False  ...   \n",
       "24                           True                              False  ...   \n",
       "25                           True                              False  ...   \n",
       "26                           True                              False  ...   \n",
       "27                           True                              False  ...   \n",
       "28                           True                              False  ...   \n",
       "29                           True                               True  ...   \n",
       "30                           True                              False  ...   \n",
       "31                           True                              False  ...   \n",
       "32                           True                              False  ...   \n",
       "33                           True                              False  ...   \n",
       "34                           True                              False  ...   \n",
       "35                           True                              False  ...   \n",
       "36                          False                              False  ...   \n",
       "37                           True                              False  ...   \n",
       "38                          False                               True  ...   \n",
       "39                           True                              False  ...   \n",
       "40                           True                              False  ...   \n",
       "41                           True                              False  ...   \n",
       "42                           True                              False  ...   \n",
       "43                           True                              False  ...   \n",
       "44                           True                              False  ...   \n",
       "45                          False                               True  ...   \n",
       "46                           True                              False  ...   \n",
       "47                           True                              False  ...   \n",
       "48                           True                              False  ...   \n",
       "49                           True                              False  ...   \n",
       "50                           True                              False  ...   \n",
       "51                           True                              False  ...   \n",
       "52                           True                              False  ...   \n",
       "53                           True                              False  ...   \n",
       "54                           True                              False  ...   \n",
       "55                           True                              False  ...   \n",
       "\n",
       "    params_occupation  params_race  params_relationship  params_rf_max_depth  \\\n",
       "0                True        False                 True                 80.0   \n",
       "1                True        False                 True                  NaN   \n",
       "2               False        False                 True                  NaN   \n",
       "3               False         True                 True                  NaN   \n",
       "4               False         True                 True                  NaN   \n",
       "5               False         True                 True                 90.0   \n",
       "6                True        False                False                 50.0   \n",
       "7                True         True                 True                 20.0   \n",
       "8                True        False                False                100.0   \n",
       "9               False         True                 True                 10.0   \n",
       "10              False        False                False                  NaN   \n",
       "11              False        False                False                  NaN   \n",
       "12              False        False                False                  NaN   \n",
       "13              False        False                False                  NaN   \n",
       "14              False        False                False                  NaN   \n",
       "15              False        False                False                 50.0   \n",
       "16              False        False                False                  NaN   \n",
       "17              False        False                False                  NaN   \n",
       "18              False        False                False                  NaN   \n",
       "19              False        False                False                 30.0   \n",
       "20              False        False                False                  NaN   \n",
       "21              False        False                False                  NaN   \n",
       "22              False        False                False                  NaN   \n",
       "23              False        False                False                  NaN   \n",
       "24              False        False                False                  NaN   \n",
       "25              False        False                False                  NaN   \n",
       "26              False        False                False                  NaN   \n",
       "27              False        False                False                  NaN   \n",
       "28              False        False                False                  NaN   \n",
       "29               True        False                False                  NaN   \n",
       "30              False        False                False                  NaN   \n",
       "31              False        False                False                  NaN   \n",
       "32              False        False                False                  NaN   \n",
       "33              False        False                False                  NaN   \n",
       "34              False        False                False                  NaN   \n",
       "35              False        False                False                  NaN   \n",
       "36              False         True                False                 70.0   \n",
       "37               True        False                False                  NaN   \n",
       "38               True        False                 True                  NaN   \n",
       "39               True         True                False                  NaN   \n",
       "40               True        False                 True                 30.0   \n",
       "41               True        False                False                  NaN   \n",
       "42               True        False                False                  NaN   \n",
       "43               True        False                False                  NaN   \n",
       "44               True        False                False                  NaN   \n",
       "45               True        False                False                  NaN   \n",
       "46               True         True                False                  NaN   \n",
       "47               True        False                 True                 70.0   \n",
       "48               True        False                False                  NaN   \n",
       "49               True        False                False                 40.0   \n",
       "50               True        False                False                  NaN   \n",
       "51              False        False                False                  NaN   \n",
       "52              False        False                False                  NaN   \n",
       "53              False        False                False                  NaN   \n",
       "54              False        False                False                  NaN   \n",
       "55              False        False                False                  NaN   \n",
       "\n",
       "    params_rf_min_samples_split  params_sex  params_workclass  \\\n",
       "0                          53.0        True              True   \n",
       "1                           NaN       False             False   \n",
       "2                           NaN       False              True   \n",
       "3                           NaN        True              True   \n",
       "4                           NaN        True              True   \n",
       "5                          85.0        True              True   \n",
       "6                           2.0       False             False   \n",
       "7                          39.0       False             False   \n",
       "8                          87.0        True             False   \n",
       "9                          36.0        True             False   \n",
       "10                          NaN       False              True   \n",
       "11                          NaN       False              True   \n",
       "12                          NaN       False              True   \n",
       "13                          NaN       False              True   \n",
       "14                          NaN       False              True   \n",
       "15                          4.0       False              True   \n",
       "16                          NaN       False              True   \n",
       "17                          NaN       False              True   \n",
       "18                          NaN       False              True   \n",
       "19                         65.0       False              True   \n",
       "20                          NaN       False              True   \n",
       "21                          NaN       False              True   \n",
       "22                          NaN       False              True   \n",
       "23                          NaN       False              True   \n",
       "24                          NaN       False              True   \n",
       "25                          NaN       False              True   \n",
       "26                          NaN       False              True   \n",
       "27                          NaN       False              True   \n",
       "28                          NaN       False              True   \n",
       "29                          NaN       False              True   \n",
       "30                          NaN       False              True   \n",
       "31                          NaN       False              True   \n",
       "32                          NaN       False              True   \n",
       "33                          NaN       False              True   \n",
       "34                          NaN       False              True   \n",
       "35                          NaN       False              True   \n",
       "36                         20.0        True              True   \n",
       "37                          NaN       False             False   \n",
       "38                          NaN       False             False   \n",
       "39                          NaN        True             False   \n",
       "40                         97.0       False             False   \n",
       "41                          NaN       False             False   \n",
       "42                          NaN       False             False   \n",
       "43                          NaN       False             False   \n",
       "44                          NaN       False             False   \n",
       "45                          NaN       False             False   \n",
       "46                          NaN       False             False   \n",
       "47                         70.0        True             False   \n",
       "48                          NaN       False             False   \n",
       "49                         18.0       False             False   \n",
       "50                          NaN       False             False   \n",
       "51                          NaN       False              True   \n",
       "52                          NaN       False              True   \n",
       "53                          NaN       False              True   \n",
       "54                          NaN       False             False   \n",
       "55                          NaN       False              True   \n",
       "\n",
       "    params_xgb_max_depth  params_xgb_min_child_weight     state  \n",
       "0                    NaN                          NaN  COMPLETE  \n",
       "1                    5.0                          3.0  COMPLETE  \n",
       "2                    NaN                          NaN  COMPLETE  \n",
       "3                    NaN                          NaN  COMPLETE  \n",
       "4                    NaN                          NaN  COMPLETE  \n",
       "5                    NaN                          NaN  COMPLETE  \n",
       "6                    NaN                          NaN  COMPLETE  \n",
       "7                    NaN                          NaN  COMPLETE  \n",
       "8                    NaN                          NaN  COMPLETE  \n",
       "9                    NaN                          NaN  COMPLETE  \n",
       "10                   NaN                          NaN  COMPLETE  \n",
       "11                   NaN                          NaN  COMPLETE  \n",
       "12                   NaN                          NaN  COMPLETE  \n",
       "13                   NaN                          NaN  COMPLETE  \n",
       "14                   NaN                          NaN  COMPLETE  \n",
       "15                   NaN                          NaN    PRUNED  \n",
       "16                   8.0                          7.0    PRUNED  \n",
       "17                   NaN                          NaN  COMPLETE  \n",
       "18                   NaN                          NaN  COMPLETE  \n",
       "19                   NaN                          NaN  COMPLETE  \n",
       "20                   2.0                          7.0    PRUNED  \n",
       "21                   NaN                          NaN  COMPLETE  \n",
       "22                   NaN                          NaN  COMPLETE  \n",
       "23                   NaN                          NaN  COMPLETE  \n",
       "24                   NaN                          NaN  COMPLETE  \n",
       "25                   NaN                          NaN  COMPLETE  \n",
       "26                   NaN                          NaN  COMPLETE  \n",
       "27                   NaN                          NaN  COMPLETE  \n",
       "28                   NaN                          NaN  COMPLETE  \n",
       "29                   NaN                          NaN  COMPLETE  \n",
       "30                   8.0                          2.0    PRUNED  \n",
       "31                   NaN                          NaN  COMPLETE  \n",
       "32                   NaN                          NaN  COMPLETE  \n",
       "33                   NaN                          NaN  COMPLETE  \n",
       "34                   NaN                          NaN  COMPLETE  \n",
       "35                   NaN                          NaN  COMPLETE  \n",
       "36                   NaN                          NaN  COMPLETE  \n",
       "37                   NaN                          NaN  COMPLETE  \n",
       "38                   NaN                          NaN  COMPLETE  \n",
       "39                   2.0                          5.0    PRUNED  \n",
       "40                   NaN                          NaN  COMPLETE  \n",
       "41                   NaN                          NaN  COMPLETE  \n",
       "42                   NaN                          NaN  COMPLETE  \n",
       "43                   NaN                          NaN  COMPLETE  \n",
       "44                   NaN                          NaN  COMPLETE  \n",
       "45                   NaN                          NaN  COMPLETE  \n",
       "46                   NaN                          NaN    PRUNED  \n",
       "47                   NaN                          NaN  COMPLETE  \n",
       "48                   NaN                          NaN  COMPLETE  \n",
       "49                   NaN                          NaN    PRUNED  \n",
       "50                   NaN                          NaN  COMPLETE  \n",
       "51                   NaN                          NaN  COMPLETE  \n",
       "52                   NaN                          NaN  COMPLETE  \n",
       "53                   NaN                          NaN  COMPLETE  \n",
       "54                   NaN                          NaN  COMPLETE  \n",
       "55                   NaN                          NaN  COMPLETE  \n",
       "\n",
       "[56 rows x 169 columns]"
      ],
      "text/html": "<div>\n<style scoped>\n    .dataframe tbody tr th:only-of-type {\n        vertical-align: middle;\n    }\n\n    .dataframe tbody tr th {\n        vertical-align: top;\n    }\n\n    .dataframe thead th {\n        text-align: right;\n    }\n</style>\n<table border=\"1\" class=\"dataframe\">\n  <thead>\n    <tr style=\"text-align: right;\">\n      <th></th>\n      <th>number</th>\n      <th>value</th>\n      <th>datetime_start</th>\n      <th>datetime_complete</th>\n      <th>duration</th>\n      <th>params_CountEncoder_age</th>\n      <th>params_CountEncoder_capitalgain</th>\n      <th>params_CountEncoder_capitalloss</th>\n      <th>params_CountEncoder_education</th>\n      <th>params_CountEncoder_education-num</th>\n      <th>...</th>\n      <th>params_occupation</th>\n      <th>params_race</th>\n      <th>params_relationship</th>\n      <th>params_rf_max_depth</th>\n      <th>params_rf_min_samples_split</th>\n      <th>params_sex</th>\n      <th>params_workclass</th>\n      <th>params_xgb_max_depth</th>\n      <th>params_xgb_min_child_weight</th>\n      <th>state</th>\n    </tr>\n  </thead>\n  <tbody>\n    <tr>\n      <th>0</th>\n      <td>0</td>\n      <td>0.9048</td>\n      <td>2021-03-02 00:49:49.765976</td>\n      <td>2021-03-02 00:49:56.262464</td>\n      <td>0 days 00:00:06.496488</td>\n      <td>False</td>\n      <td>True</td>\n      <td>True</td>\n      <td>True</td>\n      <td>True</td>\n      <td>...</td>\n      <td>True</td>\n      <td>False</td>\n      <td>True</td>\n      <td>80.0</td>\n      <td>53.0</td>\n      <td>True</td>\n      <td>True</td>\n      <td>NaN</td>\n      <td>NaN</td>\n      <td>COMPLETE</td>\n    </tr>\n    <tr>\n      <th>1</th>\n      <td>1</td>\n      <td>0.7690</td>\n      <td>2021-03-02 00:49:56.322477</td>\n      <td>2021-03-02 00:50:38.423642</td>\n      <td>0 days 00:00:42.101165</td>\n      <td>True</td>\n      <td>False</td>\n      <td>True</td>\n      <td>False</td>\n      <td>True</td>\n      <td>...</td>\n      <td>True</td>\n      <td>False</td>\n      <td>True</td>\n      <td>NaN</td>\n      <td>NaN</td>\n      <td>False</td>\n      <td>False</td>\n      <td>5.0</td>\n      <td>3.0</td>\n      <td>COMPLETE</td>\n    </tr>\n    <tr>\n      <th>2</th>\n      <td>2</td>\n      <td>0.9151</td>\n      <td>2021-03-02 00:50:38.534579</td>\n      <td>2021-03-02 00:50:46.779759</td>\n      <td>0 days 00:00:08.245180</td>\n      <td>True</td>\n      <td>False</td>\n      <td>True</td>\n      <td>True</td>\n      <td>False</td>\n      <td>...</td>\n      <td>False</td>\n      <td>False</td>\n      <td>True</td>\n      <td>NaN</td>\n      <td>NaN</td>\n      <td>False</td>\n      <td>True</td>\n      <td>NaN</td>\n      <td>NaN</td>\n      <td>COMPLETE</td>\n    </tr>\n    <tr>\n      <th>3</th>\n      <td>3</td>\n      <td>0.9140</td>\n      <td>2021-03-02 00:50:46.896133</td>\n      <td>2021-03-02 00:50:52.614083</td>\n      <td>0 days 00:00:05.717950</td>\n      <td>True</td>\n      <td>True</td>\n      <td>True</td>\n      <td>True</td>\n      <td>False</td>\n      <td>...</td>\n      <td>False</td>\n      <td>True</td>\n      <td>True</td>\n      <td>NaN</td>\n      <td>NaN</td>\n      <td>True</td>\n      <td>True</td>\n      <td>NaN</td>\n      <td>NaN</td>\n      <td>COMPLETE</td>\n    </tr>\n    <tr>\n      <th>4</th>\n      <td>4</td>\n      <td>0.9144</td>\n      <td>2021-03-02 00:50:52.735636</td>\n      <td>2021-03-02 00:51:04.081883</td>\n      <td>0 days 00:00:11.346247</td>\n      <td>True</td>\n      <td>False</td>\n      <td>True</td>\n      <td>False</td>\n      <td>False</td>\n      <td>...</td>\n      <td>False</td>\n      <td>True</td>\n      <td>True</td>\n      <td>NaN</td>\n      <td>NaN</td>\n      <td>True</td>\n      <td>True</td>\n      <td>NaN</td>\n      <td>NaN</td>\n      <td>COMPLETE</td>\n    </tr>\n    <tr>\n      <th>5</th>\n      <td>5</td>\n      <td>0.9012</td>\n      <td>2021-03-02 00:51:04.167992</td>\n      <td>2021-03-02 00:51:11.884367</td>\n      <td>0 days 00:00:07.716375</td>\n      <td>True</td>\n      <td>False</td>\n      <td>True</td>\n      <td>False</td>\n      <td>False</td>\n      <td>...</td>\n      <td>False</td>\n      <td>True</td>\n      <td>True</td>\n      <td>90.0</td>\n      <td>85.0</td>\n      <td>True</td>\n      <td>True</td>\n      <td>NaN</td>\n      <td>NaN</td>\n      <td>COMPLETE</td>\n    </tr>\n    <tr>\n      <th>6</th>\n      <td>6</td>\n      <td>0.8770</td>\n      <td>2021-03-02 00:51:11.941630</td>\n      <td>2021-03-02 00:51:20.307728</td>\n      <td>0 days 00:00:08.366098</td>\n      <td>False</td>\n      <td>False</td>\n      <td>True</td>\n      <td>True</td>\n      <td>False</td>\n      <td>...</td>\n      <td>True</td>\n      <td>False</td>\n      <td>False</td>\n      <td>50.0</td>\n      <td>2.0</td>\n      <td>False</td>\n      <td>False</td>\n      <td>NaN</td>\n      <td>NaN</td>\n      <td>COMPLETE</td>\n    </tr>\n    <tr>\n      <th>7</th>\n      <td>7</td>\n      <td>0.9083</td>\n      <td>2021-03-02 00:51:20.361832</td>\n      <td>2021-03-02 00:51:27.396670</td>\n      <td>0 days 00:00:07.034838</td>\n      <td>True</td>\n      <td>True</td>\n      <td>True</td>\n      <td>False</td>\n      <td>True</td>\n      <td>...</td>\n      <td>True</td>\n      <td>True</td>\n      <td>True</td>\n      <td>20.0</td>\n      <td>39.0</td>\n      <td>False</td>\n      <td>False</td>\n      <td>NaN</td>\n      <td>NaN</td>\n      <td>COMPLETE</td>\n    </tr>\n    <tr>\n      <th>8</th>\n      <td>8</td>\n      <td>0.9052</td>\n      <td>2021-03-02 00:51:27.463799</td>\n      <td>2021-03-02 00:51:34.037658</td>\n      <td>0 days 00:00:06.573859</td>\n      <td>False</td>\n      <td>False</td>\n      <td>False</td>\n      <td>True</td>\n      <td>True</td>\n      <td>...</td>\n      <td>True</td>\n      <td>False</td>\n      <td>False</td>\n      <td>100.0</td>\n      <td>87.0</td>\n      <td>True</td>\n      <td>False</td>\n      <td>NaN</td>\n      <td>NaN</td>\n      <td>COMPLETE</td>\n    </tr>\n    <tr>\n      <th>9</th>\n      <td>9</td>\n      <td>0.9070</td>\n      <td>2021-03-02 00:51:34.098910</td>\n      <td>2021-03-02 00:51:40.548988</td>\n      <td>0 days 00:00:06.450078</td>\n      <td>False</td>\n      <td>True</td>\n      <td>False</td>\n      <td>False</td>\n      <td>True</td>\n      <td>...</td>\n      <td>False</td>\n      <td>True</td>\n      <td>True</td>\n      <td>10.0</td>\n      <td>36.0</td>\n      <td>True</td>\n      <td>False</td>\n      <td>NaN</td>\n      <td>NaN</td>\n      <td>COMPLETE</td>\n    </tr>\n    <tr>\n      <th>10</th>\n      <td>10</td>\n      <td>0.9154</td>\n      <td>2021-03-02 00:51:40.723439</td>\n      <td>2021-03-02 00:51:53.067177</td>\n      <td>0 days 00:00:12.343738</td>\n      <td>True</td>\n      <td>False</td>\n      <td>False</td>\n      <td>True</td>\n      <td>False</td>\n      <td>...</td>\n      <td>False</td>\n      <td>False</td>\n      <td>False</td>\n      <td>NaN</td>\n      <td>NaN</td>\n      <td>False</td>\n      <td>True</td>\n      <td>NaN</td>\n      <td>NaN</td>\n      <td>COMPLETE</td>\n    </tr>\n    <tr>\n      <th>11</th>\n      <td>11</td>\n      <td>0.9154</td>\n      <td>2021-03-02 00:51:53.229239</td>\n      <td>2021-03-02 00:52:05.498112</td>\n      <td>0 days 00:00:12.268873</td>\n      <td>True</td>\n      <td>False</td>\n      <td>False</td>\n      <td>True</td>\n      <td>False</td>\n      <td>...</td>\n      <td>False</td>\n      <td>False</td>\n      <td>False</td>\n      <td>NaN</td>\n      <td>NaN</td>\n      <td>False</td>\n      <td>True</td>\n      <td>NaN</td>\n      <td>NaN</td>\n      <td>COMPLETE</td>\n    </tr>\n    <tr>\n      <th>12</th>\n      <td>12</td>\n      <td>0.9140</td>\n      <td>2021-03-02 00:52:05.693633</td>\n      <td>2021-03-02 00:52:18.135094</td>\n      <td>0 days 00:00:12.441461</td>\n      <td>True</td>\n      <td>False</td>\n      <td>False</td>\n      <td>True</td>\n      <td>False</td>\n      <td>...</td>\n      <td>False</td>\n      <td>False</td>\n      <td>False</td>\n      <td>NaN</td>\n      <td>NaN</td>\n      <td>False</td>\n      <td>True</td>\n      <td>NaN</td>\n      <td>NaN</td>\n      <td>COMPLETE</td>\n    </tr>\n    <tr>\n      <th>13</th>\n      <td>13</td>\n      <td>0.9154</td>\n      <td>2021-03-02 00:52:18.297174</td>\n      <td>2021-03-02 00:52:29.489730</td>\n      <td>0 days 00:00:11.192556</td>\n      <td>True</td>\n      <td>False</td>\n      <td>False</td>\n      <td>True</td>\n      <td>False</td>\n      <td>...</td>\n      <td>False</td>\n      <td>False</td>\n      <td>False</td>\n      <td>NaN</td>\n      <td>NaN</td>\n      <td>False</td>\n      <td>True</td>\n      <td>NaN</td>\n      <td>NaN</td>\n      <td>COMPLETE</td>\n    </tr>\n    <tr>\n      <th>14</th>\n      <td>14</td>\n      <td>0.9169</td>\n      <td>2021-03-02 00:52:29.618498</td>\n      <td>2021-03-02 00:52:40.211054</td>\n      <td>0 days 00:00:10.592556</td>\n      <td>True</td>\n      <td>False</td>\n      <td>False</td>\n      <td>True</td>\n      <td>False</td>\n      <td>...</td>\n      <td>False</td>\n      <td>False</td>\n      <td>False</td>\n      <td>NaN</td>\n      <td>NaN</td>\n      <td>False</td>\n      <td>True</td>\n      <td>NaN</td>\n      <td>NaN</td>\n      <td>COMPLETE</td>\n    </tr>\n    <tr>\n      <th>15</th>\n      <td>15</td>\n      <td>0.8808</td>\n      <td>2021-03-02 00:52:40.351251</td>\n      <td>2021-03-02 00:52:45.919586</td>\n      <td>0 days 00:00:05.568335</td>\n      <td>True</td>\n      <td>False</td>\n      <td>False</td>\n      <td>True</td>\n      <td>False</td>\n      <td>...</td>\n      <td>False</td>\n      <td>False</td>\n      <td>False</td>\n      <td>50.0</td>\n      <td>4.0</td>\n      <td>False</td>\n      <td>True</td>\n      <td>NaN</td>\n      <td>NaN</td>\n      <td>PRUNED</td>\n    </tr>\n    <tr>\n      <th>16</th>\n      <td>16</td>\n      <td>0.7752</td>\n      <td>2021-03-02 00:52:45.976775</td>\n      <td>2021-03-02 00:53:35.543553</td>\n      <td>0 days 00:00:49.566778</td>\n      <td>True</td>\n      <td>False</td>\n      <td>False</td>\n      <td>True</td>\n      <td>False</td>\n      <td>...</td>\n      <td>False</td>\n      <td>False</td>\n      <td>False</td>\n      <td>NaN</td>\n      <td>NaN</td>\n      <td>False</td>\n      <td>True</td>\n      <td>8.0</td>\n      <td>7.0</td>\n      <td>PRUNED</td>\n    </tr>\n    <tr>\n      <th>17</th>\n      <td>17</td>\n      <td>0.9148</td>\n      <td>2021-03-02 00:53:35.734994</td>\n      <td>2021-03-02 00:53:47.686993</td>\n      <td>0 days 00:00:11.951999</td>\n      <td>True</td>\n      <td>False</td>\n      <td>False</td>\n      <td>True</td>\n      <td>False</td>\n      <td>...</td>\n      <td>False</td>\n      <td>False</td>\n      <td>False</td>\n      <td>NaN</td>\n      <td>NaN</td>\n      <td>False</td>\n      <td>True</td>\n      <td>NaN</td>\n      <td>NaN</td>\n      <td>COMPLETE</td>\n    </tr>\n    <tr>\n      <th>18</th>\n      <td>18</td>\n      <td>0.9098</td>\n      <td>2021-03-02 00:53:47.830804</td>\n      <td>2021-03-02 00:53:53.675341</td>\n      <td>0 days 00:00:05.844537</td>\n      <td>True</td>\n      <td>False</td>\n      <td>False</td>\n      <td>True</td>\n      <td>False</td>\n      <td>...</td>\n      <td>False</td>\n      <td>False</td>\n      <td>False</td>\n      <td>NaN</td>\n      <td>NaN</td>\n      <td>False</td>\n      <td>True</td>\n      <td>NaN</td>\n      <td>NaN</td>\n      <td>COMPLETE</td>\n    </tr>\n    <tr>\n      <th>19</th>\n      <td>19</td>\n      <td>0.9107</td>\n      <td>2021-03-02 00:53:53.829680</td>\n      <td>2021-03-02 00:54:00.438526</td>\n      <td>0 days 00:00:06.608846</td>\n      <td>True</td>\n      <td>False</td>\n      <td>False</td>\n      <td>True</td>\n      <td>False</td>\n      <td>...</td>\n      <td>False</td>\n      <td>False</td>\n      <td>False</td>\n      <td>30.0</td>\n      <td>65.0</td>\n      <td>False</td>\n      <td>True</td>\n      <td>NaN</td>\n      <td>NaN</td>\n      <td>COMPLETE</td>\n    </tr>\n    <tr>\n      <th>20</th>\n      <td>20</td>\n      <td>0.7775</td>\n      <td>2021-03-02 00:54:00.514781</td>\n      <td>2021-03-02 00:54:11.980627</td>\n      <td>0 days 00:00:11.465846</td>\n      <td>True</td>\n      <td>False</td>\n      <td>False</td>\n      <td>True</td>\n      <td>False</td>\n      <td>...</td>\n      <td>False</td>\n      <td>False</td>\n      <td>False</td>\n      <td>NaN</td>\n      <td>NaN</td>\n      <td>False</td>\n      <td>True</td>\n      <td>2.0</td>\n      <td>7.0</td>\n      <td>PRUNED</td>\n    </tr>\n    <tr>\n      <th>21</th>\n      <td>21</td>\n      <td>0.9160</td>\n      <td>2021-03-02 00:54:12.049660</td>\n      <td>2021-03-02 00:54:30.327077</td>\n      <td>0 days 00:00:18.277417</td>\n      <td>True</td>\n      <td>False</td>\n      <td>False</td>\n      <td>True</td>\n      <td>False</td>\n      <td>...</td>\n      <td>False</td>\n      <td>False</td>\n      <td>False</td>\n      <td>NaN</td>\n      <td>NaN</td>\n      <td>False</td>\n      <td>True</td>\n      <td>NaN</td>\n      <td>NaN</td>\n      <td>COMPLETE</td>\n    </tr>\n    <tr>\n      <th>22</th>\n      <td>22</td>\n      <td>0.9156</td>\n      <td>2021-03-02 00:54:30.432591</td>\n      <td>2021-03-02 00:54:44.385808</td>\n      <td>0 days 00:00:13.953217</td>\n      <td>True</td>\n      <td>False</td>\n      <td>False</td>\n      <td>True</td>\n      <td>False</td>\n      <td>...</td>\n      <td>False</td>\n      <td>False</td>\n      <td>False</td>\n      <td>NaN</td>\n      <td>NaN</td>\n      <td>False</td>\n      <td>True</td>\n      <td>NaN</td>\n      <td>NaN</td>\n      <td>COMPLETE</td>\n    </tr>\n    <tr>\n      <th>23</th>\n      <td>23</td>\n      <td>0.9180</td>\n      <td>2021-03-02 00:54:44.559380</td>\n      <td>2021-03-02 00:54:57.071575</td>\n      <td>0 days 00:00:12.512195</td>\n      <td>True</td>\n      <td>False</td>\n      <td>False</td>\n      <td>True</td>\n      <td>False</td>\n      <td>...</td>\n      <td>False</td>\n      <td>False</td>\n      <td>False</td>\n      <td>NaN</td>\n      <td>NaN</td>\n      <td>False</td>\n      <td>True</td>\n      <td>NaN</td>\n      <td>NaN</td>\n      <td>COMPLETE</td>\n    </tr>\n    <tr>\n      <th>24</th>\n      <td>24</td>\n      <td>0.9176</td>\n      <td>2021-03-02 00:54:57.235817</td>\n      <td>2021-03-02 00:55:06.599069</td>\n      <td>0 days 00:00:09.363252</td>\n      <td>True</td>\n      <td>False</td>\n      <td>False</td>\n      <td>True</td>\n      <td>False</td>\n      <td>...</td>\n      <td>False</td>\n      <td>False</td>\n      <td>False</td>\n      <td>NaN</td>\n      <td>NaN</td>\n      <td>False</td>\n      <td>True</td>\n      <td>NaN</td>\n      <td>NaN</td>\n      <td>COMPLETE</td>\n    </tr>\n    <tr>\n      <th>25</th>\n      <td>25</td>\n      <td>0.9174</td>\n      <td>2021-03-02 00:55:06.716499</td>\n      <td>2021-03-02 00:55:24.480321</td>\n      <td>0 days 00:00:17.763822</td>\n      <td>True</td>\n      <td>False</td>\n      <td>False</td>\n      <td>True</td>\n      <td>False</td>\n      <td>...</td>\n      <td>False</td>\n      <td>False</td>\n      <td>False</td>\n      <td>NaN</td>\n      <td>NaN</td>\n      <td>False</td>\n      <td>True</td>\n      <td>NaN</td>\n      <td>NaN</td>\n      <td>COMPLETE</td>\n    </tr>\n    <tr>\n      <th>26</th>\n      <td>26</td>\n      <td>0.9172</td>\n      <td>2021-03-02 00:55:24.674405</td>\n      <td>2021-03-02 00:55:44.293204</td>\n      <td>0 days 00:00:19.618799</td>\n      <td>True</td>\n      <td>False</td>\n      <td>False</td>\n      <td>True</td>\n      <td>False</td>\n      <td>...</td>\n      <td>False</td>\n      <td>False</td>\n      <td>False</td>\n      <td>NaN</td>\n      <td>NaN</td>\n      <td>False</td>\n      <td>True</td>\n      <td>NaN</td>\n      <td>NaN</td>\n      <td>COMPLETE</td>\n    </tr>\n    <tr>\n      <th>27</th>\n      <td>27</td>\n      <td>0.9170</td>\n      <td>2021-03-02 00:55:44.516787</td>\n      <td>2021-03-02 00:55:54.007514</td>\n      <td>0 days 00:00:09.490727</td>\n      <td>False</td>\n      <td>True</td>\n      <td>False</td>\n      <td>True</td>\n      <td>False</td>\n      <td>...</td>\n      <td>False</td>\n      <td>False</td>\n      <td>False</td>\n      <td>NaN</td>\n      <td>NaN</td>\n      <td>False</td>\n      <td>True</td>\n      <td>NaN</td>\n      <td>NaN</td>\n      <td>COMPLETE</td>\n    </tr>\n    <tr>\n      <th>28</th>\n      <td>28</td>\n      <td>0.9182</td>\n      <td>2021-03-02 00:55:54.149945</td>\n      <td>2021-03-02 00:56:03.982310</td>\n      <td>0 days 00:00:09.832365</td>\n      <td>True</td>\n      <td>False</td>\n      <td>False</td>\n      <td>True</td>\n      <td>False</td>\n      <td>...</td>\n      <td>False</td>\n      <td>False</td>\n      <td>False</td>\n      <td>NaN</td>\n      <td>NaN</td>\n      <td>False</td>\n      <td>True</td>\n      <td>NaN</td>\n      <td>NaN</td>\n      <td>COMPLETE</td>\n    </tr>\n    <tr>\n      <th>29</th>\n      <td>29</td>\n      <td>0.9156</td>\n      <td>2021-03-02 00:56:04.130143</td>\n      <td>2021-03-02 00:56:10.400947</td>\n      <td>0 days 00:00:06.270804</td>\n      <td>False</td>\n      <td>True</td>\n      <td>False</td>\n      <td>True</td>\n      <td>True</td>\n      <td>...</td>\n      <td>True</td>\n      <td>False</td>\n      <td>False</td>\n      <td>NaN</td>\n      <td>NaN</td>\n      <td>False</td>\n      <td>True</td>\n      <td>NaN</td>\n      <td>NaN</td>\n      <td>COMPLETE</td>\n    </tr>\n    <tr>\n      <th>30</th>\n      <td>30</td>\n      <td>0.7723</td>\n      <td>2021-03-02 00:56:10.600490</td>\n      <td>2021-03-02 00:56:39.071542</td>\n      <td>0 days 00:00:28.471052</td>\n      <td>True</td>\n      <td>False</td>\n      <td>False</td>\n      <td>True</td>\n      <td>False</td>\n      <td>...</td>\n      <td>False</td>\n      <td>False</td>\n      <td>False</td>\n      <td>NaN</td>\n      <td>NaN</td>\n      <td>False</td>\n      <td>True</td>\n      <td>8.0</td>\n      <td>2.0</td>\n      <td>PRUNED</td>\n    </tr>\n    <tr>\n      <th>31</th>\n      <td>31</td>\n      <td>0.9173</td>\n      <td>2021-03-02 00:56:39.135557</td>\n      <td>2021-03-02 00:56:48.266537</td>\n      <td>0 days 00:00:09.130980</td>\n      <td>True</td>\n      <td>False</td>\n      <td>False</td>\n      <td>True</td>\n      <td>False</td>\n      <td>...</td>\n      <td>False</td>\n      <td>False</td>\n      <td>False</td>\n      <td>NaN</td>\n      <td>NaN</td>\n      <td>False</td>\n      <td>True</td>\n      <td>NaN</td>\n      <td>NaN</td>\n      <td>COMPLETE</td>\n    </tr>\n    <tr>\n      <th>32</th>\n      <td>32</td>\n      <td>0.9168</td>\n      <td>2021-03-02 00:56:48.420643</td>\n      <td>2021-03-02 00:56:56.028103</td>\n      <td>0 days 00:00:07.607460</td>\n      <td>True</td>\n      <td>False</td>\n      <td>False</td>\n      <td>True</td>\n      <td>False</td>\n      <td>...</td>\n      <td>False</td>\n      <td>False</td>\n      <td>False</td>\n      <td>NaN</td>\n      <td>NaN</td>\n      <td>False</td>\n      <td>True</td>\n      <td>NaN</td>\n      <td>NaN</td>\n      <td>COMPLETE</td>\n    </tr>\n    <tr>\n      <th>33</th>\n      <td>33</td>\n      <td>0.9178</td>\n      <td>2021-03-02 00:56:56.194495</td>\n      <td>2021-03-02 00:57:09.934202</td>\n      <td>0 days 00:00:13.739707</td>\n      <td>True</td>\n      <td>False</td>\n      <td>False</td>\n      <td>True</td>\n      <td>False</td>\n      <td>...</td>\n      <td>False</td>\n      <td>False</td>\n      <td>False</td>\n      <td>NaN</td>\n      <td>NaN</td>\n      <td>False</td>\n      <td>True</td>\n      <td>NaN</td>\n      <td>NaN</td>\n      <td>COMPLETE</td>\n    </tr>\n    <tr>\n      <th>34</th>\n      <td>34</td>\n      <td>0.9166</td>\n      <td>2021-03-02 00:57:10.191321</td>\n      <td>2021-03-02 00:57:36.041355</td>\n      <td>0 days 00:00:25.850034</td>\n      <td>True</td>\n      <td>False</td>\n      <td>False</td>\n      <td>True</td>\n      <td>False</td>\n      <td>...</td>\n      <td>False</td>\n      <td>False</td>\n      <td>False</td>\n      <td>NaN</td>\n      <td>NaN</td>\n      <td>False</td>\n      <td>True</td>\n      <td>NaN</td>\n      <td>NaN</td>\n      <td>COMPLETE</td>\n    </tr>\n    <tr>\n      <th>35</th>\n      <td>35</td>\n      <td>0.9151</td>\n      <td>2021-03-02 00:57:36.245777</td>\n      <td>2021-03-02 00:57:53.404266</td>\n      <td>0 days 00:00:17.158489</td>\n      <td>True</td>\n      <td>False</td>\n      <td>False</td>\n      <td>True</td>\n      <td>False</td>\n      <td>...</td>\n      <td>False</td>\n      <td>False</td>\n      <td>False</td>\n      <td>NaN</td>\n      <td>NaN</td>\n      <td>False</td>\n      <td>True</td>\n      <td>NaN</td>\n      <td>NaN</td>\n      <td>COMPLETE</td>\n    </tr>\n    <tr>\n      <th>36</th>\n      <td>36</td>\n      <td>0.9088</td>\n      <td>2021-03-02 00:57:53.568187</td>\n      <td>2021-03-02 00:58:01.094956</td>\n      <td>0 days 00:00:07.526769</td>\n      <td>True</td>\n      <td>False</td>\n      <td>False</td>\n      <td>False</td>\n      <td>False</td>\n      <td>...</td>\n      <td>False</td>\n      <td>True</td>\n      <td>False</td>\n      <td>70.0</td>\n      <td>20.0</td>\n      <td>True</td>\n      <td>True</td>\n      <td>NaN</td>\n      <td>NaN</td>\n      <td>COMPLETE</td>\n    </tr>\n    <tr>\n      <th>37</th>\n      <td>37</td>\n      <td>0.9178</td>\n      <td>2021-03-02 00:58:01.188597</td>\n      <td>2021-03-02 00:58:09.935730</td>\n      <td>0 days 00:00:08.747133</td>\n      <td>True</td>\n      <td>False</td>\n      <td>True</td>\n      <td>True</td>\n      <td>False</td>\n      <td>...</td>\n      <td>True</td>\n      <td>False</td>\n      <td>False</td>\n      <td>NaN</td>\n      <td>NaN</td>\n      <td>False</td>\n      <td>False</td>\n      <td>NaN</td>\n      <td>NaN</td>\n      <td>COMPLETE</td>\n    </tr>\n    <tr>\n      <th>38</th>\n      <td>38</td>\n      <td>0.9165</td>\n      <td>2021-03-02 00:58:10.114082</td>\n      <td>2021-03-02 00:58:17.625762</td>\n      <td>0 days 00:00:07.511680</td>\n      <td>True</td>\n      <td>False</td>\n      <td>True</td>\n      <td>False</td>\n      <td>True</td>\n      <td>...</td>\n      <td>True</td>\n      <td>False</td>\n      <td>True</td>\n      <td>NaN</td>\n      <td>NaN</td>\n      <td>False</td>\n      <td>False</td>\n      <td>NaN</td>\n      <td>NaN</td>\n      <td>COMPLETE</td>\n    </tr>\n    <tr>\n      <th>39</th>\n      <td>39</td>\n      <td>0.7833</td>\n      <td>2021-03-02 00:58:17.755315</td>\n      <td>2021-03-02 00:58:29.377670</td>\n      <td>0 days 00:00:11.622355</td>\n      <td>True</td>\n      <td>True</td>\n      <td>True</td>\n      <td>True</td>\n      <td>False</td>\n      <td>...</td>\n      <td>True</td>\n      <td>True</td>\n      <td>False</td>\n      <td>NaN</td>\n      <td>NaN</td>\n      <td>True</td>\n      <td>False</td>\n      <td>2.0</td>\n      <td>5.0</td>\n      <td>PRUNED</td>\n    </tr>\n    <tr>\n      <th>40</th>\n      <td>40</td>\n      <td>0.9102</td>\n      <td>2021-03-02 00:58:29.439201</td>\n      <td>2021-03-02 00:58:36.982811</td>\n      <td>0 days 00:00:07.543610</td>\n      <td>False</td>\n      <td>False</td>\n      <td>True</td>\n      <td>True</td>\n      <td>False</td>\n      <td>...</td>\n      <td>True</td>\n      <td>False</td>\n      <td>True</td>\n      <td>30.0</td>\n      <td>97.0</td>\n      <td>False</td>\n      <td>False</td>\n      <td>NaN</td>\n      <td>NaN</td>\n      <td>COMPLETE</td>\n    </tr>\n    <tr>\n      <th>41</th>\n      <td>41</td>\n      <td>0.9173</td>\n      <td>2021-03-02 00:58:37.068762</td>\n      <td>2021-03-02 00:58:46.642310</td>\n      <td>0 days 00:00:09.573548</td>\n      <td>True</td>\n      <td>False</td>\n      <td>True</td>\n      <td>True</td>\n      <td>False</td>\n      <td>...</td>\n      <td>True</td>\n      <td>False</td>\n      <td>False</td>\n      <td>NaN</td>\n      <td>NaN</td>\n      <td>False</td>\n      <td>False</td>\n      <td>NaN</td>\n      <td>NaN</td>\n      <td>COMPLETE</td>\n    </tr>\n    <tr>\n      <th>42</th>\n      <td>42</td>\n      <td>0.9180</td>\n      <td>2021-03-02 00:58:46.810581</td>\n      <td>2021-03-02 00:58:59.185577</td>\n      <td>0 days 00:00:12.374996</td>\n      <td>True</td>\n      <td>False</td>\n      <td>True</td>\n      <td>True</td>\n      <td>False</td>\n      <td>...</td>\n      <td>True</td>\n      <td>False</td>\n      <td>False</td>\n      <td>NaN</td>\n      <td>NaN</td>\n      <td>False</td>\n      <td>False</td>\n      <td>NaN</td>\n      <td>NaN</td>\n      <td>COMPLETE</td>\n    </tr>\n    <tr>\n      <th>43</th>\n      <td>43</td>\n      <td>0.9164</td>\n      <td>2021-03-02 00:58:59.326824</td>\n      <td>2021-03-02 00:59:11.612736</td>\n      <td>0 days 00:00:12.285912</td>\n      <td>True</td>\n      <td>False</td>\n      <td>True</td>\n      <td>True</td>\n      <td>False</td>\n      <td>...</td>\n      <td>True</td>\n      <td>False</td>\n      <td>False</td>\n      <td>NaN</td>\n      <td>NaN</td>\n      <td>False</td>\n      <td>False</td>\n      <td>NaN</td>\n      <td>NaN</td>\n      <td>COMPLETE</td>\n    </tr>\n    <tr>\n      <th>44</th>\n      <td>44</td>\n      <td>0.9154</td>\n      <td>2021-03-02 00:59:11.835961</td>\n      <td>2021-03-02 00:59:29.635058</td>\n      <td>0 days 00:00:17.799097</td>\n      <td>True</td>\n      <td>False</td>\n      <td>True</td>\n      <td>True</td>\n      <td>False</td>\n      <td>...</td>\n      <td>True</td>\n      <td>False</td>\n      <td>False</td>\n      <td>NaN</td>\n      <td>NaN</td>\n      <td>False</td>\n      <td>False</td>\n      <td>NaN</td>\n      <td>NaN</td>\n      <td>COMPLETE</td>\n    </tr>\n    <tr>\n      <th>45</th>\n      <td>45</td>\n      <td>0.9144</td>\n      <td>2021-03-02 00:59:29.836208</td>\n      <td>2021-03-02 00:59:43.111559</td>\n      <td>0 days 00:00:13.275351</td>\n      <td>True</td>\n      <td>False</td>\n      <td>True</td>\n      <td>False</td>\n      <td>True</td>\n      <td>...</td>\n      <td>True</td>\n      <td>False</td>\n      <td>False</td>\n      <td>NaN</td>\n      <td>NaN</td>\n      <td>False</td>\n      <td>False</td>\n      <td>NaN</td>\n      <td>NaN</td>\n      <td>COMPLETE</td>\n    </tr>\n    <tr>\n      <th>46</th>\n      <td>46</td>\n      <td>0.9039</td>\n      <td>2021-03-02 00:59:43.344227</td>\n      <td>2021-03-02 00:59:57.255259</td>\n      <td>0 days 00:00:13.911032</td>\n      <td>True</td>\n      <td>False</td>\n      <td>True</td>\n      <td>True</td>\n      <td>False</td>\n      <td>...</td>\n      <td>True</td>\n      <td>True</td>\n      <td>False</td>\n      <td>NaN</td>\n      <td>NaN</td>\n      <td>False</td>\n      <td>False</td>\n      <td>NaN</td>\n      <td>NaN</td>\n      <td>PRUNED</td>\n    </tr>\n    <tr>\n      <th>47</th>\n      <td>47</td>\n      <td>0.9149</td>\n      <td>2021-03-02 00:59:57.388071</td>\n      <td>2021-03-02 01:00:06.152809</td>\n      <td>0 days 00:00:08.764738</td>\n      <td>True</td>\n      <td>False</td>\n      <td>True</td>\n      <td>True</td>\n      <td>False</td>\n      <td>...</td>\n      <td>True</td>\n      <td>False</td>\n      <td>True</td>\n      <td>70.0</td>\n      <td>70.0</td>\n      <td>True</td>\n      <td>False</td>\n      <td>NaN</td>\n      <td>NaN</td>\n      <td>COMPLETE</td>\n    </tr>\n    <tr>\n      <th>48</th>\n      <td>48</td>\n      <td>0.9174</td>\n      <td>2021-03-02 01:00:06.261455</td>\n      <td>2021-03-02 01:00:16.282543</td>\n      <td>0 days 00:00:10.021088</td>\n      <td>True</td>\n      <td>False</td>\n      <td>True</td>\n      <td>True</td>\n      <td>False</td>\n      <td>...</td>\n      <td>True</td>\n      <td>False</td>\n      <td>False</td>\n      <td>NaN</td>\n      <td>NaN</td>\n      <td>False</td>\n      <td>False</td>\n      <td>NaN</td>\n      <td>NaN</td>\n      <td>COMPLETE</td>\n    </tr>\n    <tr>\n      <th>49</th>\n      <td>49</td>\n      <td>0.9048</td>\n      <td>2021-03-02 01:00:16.449427</td>\n      <td>2021-03-02 01:00:22.215940</td>\n      <td>0 days 00:00:05.766513</td>\n      <td>True</td>\n      <td>True</td>\n      <td>True</td>\n      <td>True</td>\n      <td>False</td>\n      <td>...</td>\n      <td>True</td>\n      <td>False</td>\n      <td>False</td>\n      <td>40.0</td>\n      <td>18.0</td>\n      <td>False</td>\n      <td>False</td>\n      <td>NaN</td>\n      <td>NaN</td>\n      <td>PRUNED</td>\n    </tr>\n    <tr>\n      <th>50</th>\n      <td>50</td>\n      <td>0.9136</td>\n      <td>2021-03-02 01:00:22.263956</td>\n      <td>2021-03-02 01:00:34.283790</td>\n      <td>0 days 00:00:12.019834</td>\n      <td>False</td>\n      <td>False</td>\n      <td>True</td>\n      <td>True</td>\n      <td>False</td>\n      <td>...</td>\n      <td>True</td>\n      <td>False</td>\n      <td>False</td>\n      <td>NaN</td>\n      <td>NaN</td>\n      <td>False</td>\n      <td>False</td>\n      <td>NaN</td>\n      <td>NaN</td>\n      <td>COMPLETE</td>\n    </tr>\n    <tr>\n      <th>51</th>\n      <td>51</td>\n      <td>0.9174</td>\n      <td>2021-03-02 01:00:34.453842</td>\n      <td>2021-03-02 01:00:46.823144</td>\n      <td>0 days 00:00:12.369302</td>\n      <td>True</td>\n      <td>False</td>\n      <td>False</td>\n      <td>True</td>\n      <td>False</td>\n      <td>...</td>\n      <td>False</td>\n      <td>False</td>\n      <td>False</td>\n      <td>NaN</td>\n      <td>NaN</td>\n      <td>False</td>\n      <td>True</td>\n      <td>NaN</td>\n      <td>NaN</td>\n      <td>COMPLETE</td>\n    </tr>\n    <tr>\n      <th>52</th>\n      <td>52</td>\n      <td>0.9162</td>\n      <td>2021-03-02 01:00:46.927536</td>\n      <td>2021-03-02 01:01:03.942517</td>\n      <td>0 days 00:00:17.014981</td>\n      <td>True</td>\n      <td>False</td>\n      <td>False</td>\n      <td>True</td>\n      <td>False</td>\n      <td>...</td>\n      <td>False</td>\n      <td>False</td>\n      <td>False</td>\n      <td>NaN</td>\n      <td>NaN</td>\n      <td>False</td>\n      <td>True</td>\n      <td>NaN</td>\n      <td>NaN</td>\n      <td>COMPLETE</td>\n    </tr>\n    <tr>\n      <th>53</th>\n      <td>53</td>\n      <td>0.9173</td>\n      <td>2021-03-02 01:01:04.116957</td>\n      <td>2021-03-02 01:01:17.972448</td>\n      <td>0 days 00:00:13.855491</td>\n      <td>True</td>\n      <td>False</td>\n      <td>False</td>\n      <td>True</td>\n      <td>False</td>\n      <td>...</td>\n      <td>False</td>\n      <td>False</td>\n      <td>False</td>\n      <td>NaN</td>\n      <td>NaN</td>\n      <td>False</td>\n      <td>True</td>\n      <td>NaN</td>\n      <td>NaN</td>\n      <td>COMPLETE</td>\n    </tr>\n    <tr>\n      <th>54</th>\n      <td>54</td>\n      <td>0.9174</td>\n      <td>2021-03-02 01:01:18.093058</td>\n      <td>2021-03-02 01:01:35.969215</td>\n      <td>0 days 00:00:17.876157</td>\n      <td>True</td>\n      <td>False</td>\n      <td>True</td>\n      <td>True</td>\n      <td>False</td>\n      <td>...</td>\n      <td>False</td>\n      <td>False</td>\n      <td>False</td>\n      <td>NaN</td>\n      <td>NaN</td>\n      <td>False</td>\n      <td>False</td>\n      <td>NaN</td>\n      <td>NaN</td>\n      <td>COMPLETE</td>\n    </tr>\n    <tr>\n      <th>55</th>\n      <td>55</td>\n      <td>0.9176</td>\n      <td>2021-03-02 01:01:36.165249</td>\n      <td>2021-03-02 01:02:07.055607</td>\n      <td>0 days 00:00:30.890358</td>\n      <td>True</td>\n      <td>False</td>\n      <td>False</td>\n      <td>True</td>\n      <td>False</td>\n      <td>...</td>\n      <td>False</td>\n      <td>False</td>\n      <td>False</td>\n      <td>NaN</td>\n      <td>NaN</td>\n      <td>False</td>\n      <td>True</td>\n      <td>NaN</td>\n      <td>NaN</td>\n      <td>COMPLETE</td>\n    </tr>\n  </tbody>\n</table>\n<p>56 rows × 169 columns</p>\n</div>"
     },
     "metadata": {},
     "execution_count": 7
    }
   ],
   "source": [
    "model.opt(X_train, y_train, timeout=600, verbose=3)"
   ]
  },
  {
   "cell_type": "code",
   "execution_count": 8,
   "metadata": {
    "tags": []
   },
   "outputs": [],
   "source": [
    "predicts = model.predict(X_test)"
   ]
  },
  {
   "cell_type": "code",
   "execution_count": 9,
   "metadata": {},
   "outputs": [
    {
     "output_type": "stream",
     "name": "stdout",
     "text": [
      "Test AUC:  0.9098\n"
     ]
    }
   ],
   "source": [
    "print('Test AUC: ', round(sklearn.metrics.roc_auc_score(y_test, predicts),4))"
   ]
  },
  {
   "cell_type": "code",
   "execution_count": 10,
   "metadata": {},
   "outputs": [
    {
     "output_type": "execute_result",
     "data": {
      "text/plain": [
       "'LightGBM'"
      ]
     },
     "metadata": {},
     "execution_count": 10
    }
   ],
   "source": [
    "model.best_model_name"
   ]
  },
  {
   "cell_type": "code",
   "execution_count": 11,
   "metadata": {},
   "outputs": [
    {
     "output_type": "execute_result",
     "data": {
      "text/plain": [
       "{'random_seed': 42,\n",
       " 'num_iterations': 300,\n",
       " 'verbose': -1,\n",
       " 'device_type': 'cpu',\n",
       " 'objective': 'binary',\n",
       " 'num_leaves': 22,\n",
       " 'min_child_samples': 99}"
      ]
     },
     "metadata": {},
     "execution_count": 11
    }
   ],
   "source": [
    "model.best_model_param"
   ]
  },
  {
   "cell_type": "code",
   "execution_count": 17,
   "metadata": {},
   "outputs": [
    {
     "output_type": "execute_result",
     "data": {
      "text/plain": [
       "['age',\n",
       " 'workclass',\n",
       " 'education-num',\n",
       " 'marital-status',\n",
       " 'capitalgain',\n",
       " 'capitalloss',\n",
       " 'hoursperweek',\n",
       " 'HelmertEncoder_age_0',\n",
       " 'HelmertEncoder_age_2',\n",
       " 'HelmertEncoder_workclass_0']"
      ]
     },
     "metadata": {},
     "execution_count": 17
    }
   ],
   "source": [
    "# select Features \n",
    "# if feature_selection=True\n",
    "model.select_columns[:10]"
   ]
  },
  {
   "source": [
    "## Save & Load"
   ],
   "cell_type": "markdown",
   "metadata": {}
  },
  {
   "cell_type": "code",
   "execution_count": 13,
   "metadata": {},
   "outputs": [
    {
     "output_type": "stream",
     "name": "stderr",
     "text": [
      "01:02:38 | Save Model\n",
      "01:02:38 | Save Model\n",
      "01:02:38 | Save Model\n",
      "01:02:38 | Save Model\n",
      "01:02:38 | Save Model\n",
      "01:02:38 | Save Model\n",
      "01:02:38 | Save Model\n",
      "01:02:38 | Save Model\n",
      "01:02:39 | Save Model\n",
      "01:02:39 | Save Model\n",
      "Save model\n"
     ]
    }
   ],
   "source": [
    "model.save('model_1')"
   ]
  },
  {
   "cell_type": "code",
   "execution_count": 14,
   "metadata": {},
   "outputs": [
    {
     "output_type": "stream",
     "name": "stderr",
     "text": [
      "01:02:40 | metric is None! Default metric will be used. classifier: AUC, regression: MSE\n",
      "01:02:41 | Load Model\n",
      "Finished loading model, total used 300 iterations\n",
      "01:02:41 | Load Model\n",
      "Finished loading model, total used 300 iterations\n",
      "01:02:41 | Load Model\n",
      "Finished loading model, total used 300 iterations\n",
      "01:02:41 | Load Model\n",
      "Finished loading model, total used 300 iterations\n",
      "01:02:41 | Load Model\n",
      "Finished loading model, total used 300 iterations\n",
      "01:02:41 | Load Model\n",
      "Finished loading model, total used 300 iterations\n",
      "01:02:41 | Load Model\n",
      "Finished loading model, total used 300 iterations\n",
      "01:02:41 | Load Model\n",
      "Finished loading model, total used 300 iterations\n",
      "01:02:41 | Load Model\n",
      "Finished loading model, total used 300 iterations\n",
      "01:02:41 | Load Model\n",
      "Finished loading model, total used 300 iterations\n",
      "Load CrossValidation\n",
      "Load CrossValidation\n"
     ]
    }
   ],
   "source": [
    "model_new = BestSingleModelClassifier(random_state=RANDOM_SEED,)\n",
    "model_new = model_new.load('model_1')"
   ]
  },
  {
   "cell_type": "code",
   "execution_count": 15,
   "metadata": {},
   "outputs": [
    {
     "output_type": "stream",
     "name": "stdout",
     "text": [
      "Test AUC:  0.9098\n"
     ]
    }
   ],
   "source": [
    "predicts = model_new.predict(X_test)\n",
    "print('Test AUC: ', round(sklearn.metrics.roc_auc_score(y_test, predicts),4))"
   ]
  },
  {
   "cell_type": "code",
   "execution_count": null,
   "metadata": {},
   "outputs": [],
   "source": []
  }
 ],
 "metadata": {
  "kernelspec": {
   "name": "python3",
   "display_name": "Python 3",
   "language": "python"
  },
  "language_info": {
   "codemirror_mode": {
    "name": "ipython",
    "version": 3
   },
   "file_extension": ".py",
   "mimetype": "text/x-python",
   "name": "python",
   "nbconvert_exporter": "python",
   "pygments_lexer": "ipython3",
   "version": "3.8.3-final"
  },
  "toc": {
   "base_numbering": 1,
   "nav_menu": {},
   "number_sections": false,
   "sideBar": true,
   "skip_h1_title": false,
   "title_cell": "Table of Contents",
   "title_sidebar": "Contents",
   "toc_cell": false,
   "toc_position": {
    "height": "calc(100% - 180px)",
    "left": "10px",
    "top": "150px",
    "width": "165px"
   },
   "toc_section_display": true,
   "toc_window_display": true
  }
 },
 "nbformat": 4,
 "nbformat_minor": 4
}