{
  "cells": [
    {
      "cell_type": "code",
      "metadata": {
        "ExecuteTime": {
          "end_time": "2020-05-07T01:04:07.223678Z",
          "start_time": "2020-05-07T01:04:07.203114Z"
        },
        "id": "35Z4O1J4HrLG",
        "colab_type": "code",
        "colab": {}
      },
      "source": [
        "# If you run this notebook on Google Colaboratory, uncomment the below to install automl_alex.\n",
        "#!pip install automl-alex"
      ],
      "execution_count": 0,
      "outputs": []
    },
    {
      "cell_type": "code",
      "metadata": {
        "ExecuteTime": {
          "end_time": "2020-05-07T01:05:50.878720Z",
          "start_time": "2020-05-07T01:05:50.874642Z"
        },
        "id": "LUMq_v3aHrLO",
        "colab_type": "code",
        "colab": {}
      },
      "source": [
        "import pandas as pd\n",
        "import numpy as np\n",
        "import sklearn\n",
        "import automl_alex\n",
        "import json\n",
        "from automl_alex import BestSingleModelClassifier"
      ],
      "execution_count": 8,
      "outputs": []
    },
    {
      "cell_type": "code",
      "metadata": {
        "ExecuteTime": {
          "end_time": "2020-05-07T01:05:52.046515Z",
          "start_time": "2020-05-07T01:05:52.037648Z"
        },
        "id": "B570gI83HrLW",
        "colab_type": "code",
        "colab": {
          "base_uri": "https://localhost:8080/",
          "height": 34
        },
        "outputId": "9649bb4f-38e6-43cf-abfe-bf94cc288e90"
      },
      "source": [
        "print(automl_alex.__version__)"
      ],
      "execution_count": 9,
      "outputs": [
        {
          "output_type": "stream",
          "name": "stdout",
          "text": "0.05.08.11\n"
        }
      ]
    },
    {
      "cell_type": "code",
      "metadata": {
        "ExecuteTime": {
          "end_time": "2020-05-07T01:05:52.553896Z",
          "start_time": "2020-05-07T01:05:52.549132Z"
        },
        "id": "_x57fK3gHrLd",
        "colab_type": "code",
        "colab": {}
      },
      "source": [
        "RANDOM_SEED = 42"
      ],
      "execution_count": 10,
      "outputs": []
    },
    {
      "cell_type": "markdown",
      "metadata": {
        "id": "3JTScDUSHrLi",
        "colab_type": "text"
      },
      "source": [
        "# Classifier"
      ]
    },
    {
      "cell_type": "markdown",
      "metadata": {
        "id": "bfUOOcyiHrLj",
        "colab_type": "text"
      },
      "source": [
        "## Data"
      ]
    },
    {
      "cell_type": "code",
      "metadata": {
        "ExecuteTime": {
          "end_time": "2020-05-07T01:05:54.829381Z",
          "start_time": "2020-05-07T01:05:54.820896Z"
        },
        "id": "08kwyRMAHrLk",
        "colab_type": "code",
        "colab": {
          "base_uri": "https://localhost:8080/",
          "height": 258
        },
        "outputId": "37007c24-8007-4207-f8b1-aa5b4f027698"
      },
      "source": [
        "from sklearn.datasets import fetch_openml\n",
        "from sklearn.model_selection import train_test_split\n",
        "dataset = fetch_openml(name='credit-g', version=1, as_frame=True)\n",
        "dataset.data.head(5)"
      ],
      "execution_count": 11,
      "outputs": [
        {
          "output_type": "execute_result",
          "data": {
            "text/plain": "  checking_status  duration                  credit_history  \\\n0              <0       6.0  critical/other existing credit   \n1        0<=X<200      48.0                   existing paid   \n2     no checking      12.0  critical/other existing credit   \n3              <0      42.0                   existing paid   \n4              <0      24.0              delayed previously   \n\n               purpose  credit_amount    savings_status employment  \\\n0             radio/tv         1169.0  no known savings        >=7   \n1             radio/tv         5951.0              <100     1<=X<4   \n2            education         2096.0              <100     4<=X<7   \n3  furniture/equipment         7882.0              <100     4<=X<7   \n4              new car         4870.0              <100     1<=X<4   \n\n   installment_commitment     personal_status other_parties  residence_since  \\\n0                     4.0         male single          none              4.0   \n1                     2.0  female div/dep/mar          none              2.0   \n2                     2.0         male single          none              3.0   \n3                     2.0         male single     guarantor              4.0   \n4                     3.0         male single          none              4.0   \n\n  property_magnitude   age other_payment_plans   housing  existing_credits  \\\n0        real estate  67.0                none       own               2.0   \n1        real estate  22.0                none       own               1.0   \n2        real estate  49.0                none       own               1.0   \n3     life insurance  45.0                none  for free               1.0   \n4  no known property  53.0                none  for free               2.0   \n\n                  job  num_dependents own_telephone foreign_worker  \n0             skilled             1.0           yes            yes  \n1             skilled             1.0          none            yes  \n2  unskilled resident             2.0          none            yes  \n3             skilled             2.0          none            yes  \n4             skilled             2.0          none            yes  ",
            "text/html": "<div>\n<style scoped>\n    .dataframe tbody tr th:only-of-type {\n        vertical-align: middle;\n    }\n\n    .dataframe tbody tr th {\n        vertical-align: top;\n    }\n\n    .dataframe thead th {\n        text-align: right;\n    }\n</style>\n<table border=\"1\" class=\"dataframe\">\n  <thead>\n    <tr style=\"text-align: right;\">\n      <th></th>\n      <th>checking_status</th>\n      <th>duration</th>\n      <th>credit_history</th>\n      <th>purpose</th>\n      <th>credit_amount</th>\n      <th>savings_status</th>\n      <th>employment</th>\n      <th>installment_commitment</th>\n      <th>personal_status</th>\n      <th>other_parties</th>\n      <th>residence_since</th>\n      <th>property_magnitude</th>\n      <th>age</th>\n      <th>other_payment_plans</th>\n      <th>housing</th>\n      <th>existing_credits</th>\n      <th>job</th>\n      <th>num_dependents</th>\n      <th>own_telephone</th>\n      <th>foreign_worker</th>\n    </tr>\n  </thead>\n  <tbody>\n    <tr>\n      <th>0</th>\n      <td>&lt;0</td>\n      <td>6.0</td>\n      <td>critical/other existing credit</td>\n      <td>radio/tv</td>\n      <td>1169.0</td>\n      <td>no known savings</td>\n      <td>&gt;=7</td>\n      <td>4.0</td>\n      <td>male single</td>\n      <td>none</td>\n      <td>4.0</td>\n      <td>real estate</td>\n      <td>67.0</td>\n      <td>none</td>\n      <td>own</td>\n      <td>2.0</td>\n      <td>skilled</td>\n      <td>1.0</td>\n      <td>yes</td>\n      <td>yes</td>\n    </tr>\n    <tr>\n      <th>1</th>\n      <td>0&lt;=X&lt;200</td>\n      <td>48.0</td>\n      <td>existing paid</td>\n      <td>radio/tv</td>\n      <td>5951.0</td>\n      <td>&lt;100</td>\n      <td>1&lt;=X&lt;4</td>\n      <td>2.0</td>\n      <td>female div/dep/mar</td>\n      <td>none</td>\n      <td>2.0</td>\n      <td>real estate</td>\n      <td>22.0</td>\n      <td>none</td>\n      <td>own</td>\n      <td>1.0</td>\n      <td>skilled</td>\n      <td>1.0</td>\n      <td>none</td>\n      <td>yes</td>\n    </tr>\n    <tr>\n      <th>2</th>\n      <td>no checking</td>\n      <td>12.0</td>\n      <td>critical/other existing credit</td>\n      <td>education</td>\n      <td>2096.0</td>\n      <td>&lt;100</td>\n      <td>4&lt;=X&lt;7</td>\n      <td>2.0</td>\n      <td>male single</td>\n      <td>none</td>\n      <td>3.0</td>\n      <td>real estate</td>\n      <td>49.0</td>\n      <td>none</td>\n      <td>own</td>\n      <td>1.0</td>\n      <td>unskilled resident</td>\n      <td>2.0</td>\n      <td>none</td>\n      <td>yes</td>\n    </tr>\n    <tr>\n      <th>3</th>\n      <td>&lt;0</td>\n      <td>42.0</td>\n      <td>existing paid</td>\n      <td>furniture/equipment</td>\n      <td>7882.0</td>\n      <td>&lt;100</td>\n      <td>4&lt;=X&lt;7</td>\n      <td>2.0</td>\n      <td>male single</td>\n      <td>guarantor</td>\n      <td>4.0</td>\n      <td>life insurance</td>\n      <td>45.0</td>\n      <td>none</td>\n      <td>for free</td>\n      <td>1.0</td>\n      <td>skilled</td>\n      <td>2.0</td>\n      <td>none</td>\n      <td>yes</td>\n    </tr>\n    <tr>\n      <th>4</th>\n      <td>&lt;0</td>\n      <td>24.0</td>\n      <td>delayed previously</td>\n      <td>new car</td>\n      <td>4870.0</td>\n      <td>&lt;100</td>\n      <td>1&lt;=X&lt;4</td>\n      <td>3.0</td>\n      <td>male single</td>\n      <td>none</td>\n      <td>4.0</td>\n      <td>no known property</td>\n      <td>53.0</td>\n      <td>none</td>\n      <td>for free</td>\n      <td>2.0</td>\n      <td>skilled</td>\n      <td>2.0</td>\n      <td>none</td>\n      <td>yes</td>\n    </tr>\n  </tbody>\n</table>\n</div>"
          },
          "metadata": {},
          "execution_count": 11
        }
      ]
    },
    {
      "cell_type": "code",
      "metadata": {
        "ExecuteTime": {
          "end_time": "2020-05-07T01:05:56.353082Z",
          "start_time": "2020-05-07T01:05:56.345076Z"
        },
        "id": "bLbGW3UOHrLs",
        "colab_type": "code",
        "colab": {
          "base_uri": "https://localhost:8080/",
          "height": 119
        },
        "outputId": "b9f06907-22b0-460a-bc39-74f748ac8d62"
      },
      "source": [
        "dataset.target = dataset.target.astype('category').cat.codes"
      ],
      "execution_count": 12,
      "outputs": []
    },
    {
      "cell_type": "code",
      "metadata": {
        "ExecuteTime": {
          "end_time": "2020-05-07T01:05:56.756465Z",
          "start_time": "2020-05-07T01:05:56.734220Z"
        },
        "id": "VMHXspocHrLu",
        "colab_type": "code",
        "colab": {
          "base_uri": "https://localhost:8080/",
          "height": 34
        },
        "outputId": "3b61d379-2be4-47de-ec88-92f5f645b181"
      },
      "source": [
        "X_train, X_test, y_train, y_test = train_test_split(dataset.data, \n",
        "                                                    dataset.target,\n",
        "                                                    test_size=0.25, \n",
        "                                                    random_state=RANDOM_SEED,)\n",
        "X_train.shape, X_test.shape"
      ],
      "execution_count": 13,
      "outputs": [
        {
          "output_type": "execute_result",
          "data": {
            "text/plain": "((750, 20), (250, 20))"
          },
          "metadata": {},
          "execution_count": 13
        }
      ]
    },
    {
      "cell_type": "markdown",
      "metadata": {
        "id": "Nv22CQlxHrLw",
        "colab_type": "text"
      },
      "source": [
        "## Model"
      ]
    },
    {
      "cell_type": "code",
      "metadata": {
        "ExecuteTime": {
          "end_time": "2020-05-07T01:05:59.848085Z",
          "start_time": "2020-05-07T01:05:59.337884Z"
        },
        "id": "QNuj6yuOHrLw",
        "colab_type": "code",
        "colab": {}
      },
      "source": [
        "model = BestSingleModelClassifier(X_train, y_train, X_test, random_state=RANDOM_SEED)"
      ],
      "execution_count": 14,
      "outputs": []
    },
    {
      "cell_type": "code",
      "metadata": {
        "ExecuteTime": {
          "end_time": "2020-05-06T17:01:04.947762Z",
          "start_time": "2020-05-06T16:47:23.396089Z"
        },
        "id": "b2FfF7WYHrLy",
        "colab_type": "code",
        "colab": {
          "base_uri": "https://localhost:8080/",
          "height": 34
        },
        "outputId": "ed480a4c-c763-46d2-dd8d-f18e396241ec"
      },
      "source": [
        "history = model.opt(timeout=1000, verbose=1) "
      ],
      "execution_count": 8,
      "outputs": [
        {
          "output_type": "stream",
          "name": "stdout",
          "text": "One iteration takes ~ 0.5 sec\nStart Auto calibration parameters\nStart optimization with the parameters:\nCV =10\nScore_folds =2\nOpt_lvl =2\nCold_start =63.0\nEarly_stoping =100\nMetric =roc_auc_score\nDirection =maximize\nStart Model LightGBM Score roc_auc_score = 0.6909\n115it [05:01,  2.84s/it, Best Score roc_auc_score = 0.825 +- 0.003859 Best Model: KNeighbors]"
        }
      ]
    },
    {
      "cell_type": "code",
      "metadata": {
        "id": "Cef1QUobJcWb",
        "colab_type": "code",
        "colab": {
          "base_uri": "https://localhost:8080/",
          "height": 34
        },
        "outputId": "e830bf83-6275-4124-de68-fa172dc048b7"
      },
      "source": [
        "predicts_test, predict_train = model.predict()\n",
        "print('Test AUC: ', round(sklearn.metrics.roc_auc_score(y_test, predicts_test),4))"
      ],
      "execution_count": 13,
      "outputs": [
        {
          "output_type": "stream",
          "name": "stdout",
          "text": "Test AUC:0.7722\n"
        }
      ]
    },
    {
      "cell_type": "code",
      "execution_count": 9,
      "metadata": {},
      "outputs": [
        {
          "output_type": "display_data",
          "data": {
            "text/plain": "<Figure size 1500x500 with 2 Axes>"
          },
          "metadata": {}
        }
      ],
      "source": [
        "model.plot_opt_history()"
      ]
    },
    {
      "cell_type": "code",
      "metadata": {
        "ExecuteTime": {
          "end_time": "2020-05-07T01:11:28.827682Z",
          "start_time": "2020-05-07T01:11:28.808642Z"
        },
        "id": "X2ye5d0WHrL0",
        "colab_type": "code",
        "colab": {
          "base_uri": "https://localhost:8080/",
          "height": 359
        },
        "outputId": "11d1161f-7547-4927-a63a-cf6aa045bc24"
      },
      "source": [
        "history.head(1)"
      ],
      "execution_count": 10,
      "outputs": [
        {
          "output_type": "execute_result",
          "data": {
            "text/plain": "     score_opt  model_score  score_std  model_name  \\\n109      0.825       0.8289   0.003859  KNeighbors   \n\n                                           model_param  \\\n109  {'n_jobs': -1, 'n_neighbors': 133, 'weights': ...   \n\n                                        wrapper_params     cat_encoder  \\\n109  {'need_norm_data': True, 'scaler_name': 'MinMa...  HashingEncoder   \n\n    target_encoder  \n109  TargetEncoder  ",
            "text/html": "<div>\n<style scoped>\n    .dataframe tbody tr th:only-of-type {\n        vertical-align: middle;\n    }\n\n    .dataframe tbody tr th {\n        vertical-align: top;\n    }\n\n    .dataframe thead th {\n        text-align: right;\n    }\n</style>\n<table border=\"1\" class=\"dataframe\">\n  <thead>\n    <tr style=\"text-align: right;\">\n      <th></th>\n      <th>score_opt</th>\n      <th>model_score</th>\n      <th>score_std</th>\n      <th>model_name</th>\n      <th>model_param</th>\n      <th>wrapper_params</th>\n      <th>cat_encoder</th>\n      <th>target_encoder</th>\n    </tr>\n  </thead>\n  <tbody>\n    <tr>\n      <th>109</th>\n      <td>0.825</td>\n      <td>0.8289</td>\n      <td>0.003859</td>\n      <td>KNeighbors</td>\n      <td>{'n_jobs': -1, 'n_neighbors': 133, 'weights': ...</td>\n      <td>{'need_norm_data': True, 'scaler_name': 'MinMa...</td>\n      <td>HashingEncoder</td>\n      <td>TargetEncoder</td>\n    </tr>\n  </tbody>\n</table>\n</div>"
          },
          "metadata": {},
          "execution_count": 10
        }
      ]
    },
    {
      "cell_type": "code",
      "execution_count": 11,
      "metadata": {},
      "outputs": [
        {
          "output_type": "execute_result",
          "data": {
            "text/plain": "{'need_norm_data': True, 'scaler_name': 'MinMaxScaler'}"
          },
          "metadata": {},
          "execution_count": 11
        }
      ],
      "source": [
        "model.wrapper_params"
      ]
    },
    {
      "cell_type": "code",
      "metadata": {
        "id": "ZU2oHBclHrL3",
        "colab_type": "code",
        "colab": {}
      },
      "source": [
        "history.head(10)"
      ],
      "execution_count": 14,
      "outputs": [
        {
          "output_type": "execute_result",
          "data": {
            "text/plain": "     score_opt  model_score  score_std  model_name  \\\n109     0.8250       0.8289   0.003859  KNeighbors   \n104     0.8234       0.8285   0.005146  KNeighbors   \n99      0.8194       0.8233   0.003859  KNeighbors   \n10      0.8191       0.8435   0.024443    CatBoost   \n106     0.8190       0.8190   0.000000  KNeighbors   \n71      0.8182       0.8225   0.004288  KNeighbors   \n69      0.8182       0.8216   0.003431  KNeighbors   \n73      0.8173       0.8272   0.009863  KNeighbors   \n77      0.8161       0.8212   0.005146  KNeighbors   \n87      0.8147       0.8190   0.004288  KNeighbors   \n\n                                           model_param  \\\n109  {'n_jobs': -1, 'n_neighbors': 133, 'weights': ...   \n104  {'n_jobs': -1, 'n_neighbors': 143, 'weights': ...   \n99   {'n_jobs': -1, 'n_neighbors': 93, 'weights': '...   \n10   {'verbose': 0, 'early_stopping_rounds': 50, 't...   \n106  {'n_jobs': -1, 'n_neighbors': 80, 'weights': '...   \n71   {'n_jobs': -1, 'n_neighbors': 92, 'weights': '...   \n69   {'n_jobs': -1, 'n_neighbors': 46, 'weights': '...   \n73   {'n_jobs': -1, 'n_neighbors': 149, 'weights': ...   \n77   {'n_jobs': -1, 'n_neighbors': 45, 'weights': '...   \n87   {'n_jobs': -1, 'n_neighbors': 142, 'weights': ...   \n\n                                        wrapper_params     cat_encoder  \\\n109  {'need_norm_data': True, 'scaler_name': 'MinMa...  HashingEncoder   \n104  {'need_norm_data': True, 'scaler_name': 'MinMa...  HashingEncoder   \n99   {'need_norm_data': True, 'scaler_name': 'Stand...  HashingEncoder   \n10   {'need_norm_data': False, 'early_stopping': True}  HashingEncoder   \n106  {'need_norm_data': True, 'scaler_name': 'MinMa...  HashingEncoder   \n71   {'need_norm_data': True, 'scaler_name': 'MinMa...  HashingEncoder   \n69   {'need_norm_data': True, 'scaler_name': 'MinMa...  HashingEncoder   \n73   {'need_norm_data': True, 'scaler_name': 'Stand...  HashingEncoder   \n77   {'need_norm_data': True, 'scaler_name': 'Stand...  HashingEncoder   \n87   {'need_norm_data': True, 'scaler_name': 'Robus...  HashingEncoder   \n\n    target_encoder  \n109  TargetEncoder  \n104  TargetEncoder  \n99   TargetEncoder  \n10   TargetEncoder  \n106  TargetEncoder  \n71   TargetEncoder  \n69   TargetEncoder  \n73   TargetEncoder  \n77   TargetEncoder  \n87   TargetEncoder  ",
            "text/html": "<div>\n<style scoped>\n    .dataframe tbody tr th:only-of-type {\n        vertical-align: middle;\n    }\n\n    .dataframe tbody tr th {\n        vertical-align: top;\n    }\n\n    .dataframe thead th {\n        text-align: right;\n    }\n</style>\n<table border=\"1\" class=\"dataframe\">\n  <thead>\n    <tr style=\"text-align: right;\">\n      <th></th>\n      <th>score_opt</th>\n      <th>model_score</th>\n      <th>score_std</th>\n      <th>model_name</th>\n      <th>model_param</th>\n      <th>wrapper_params</th>\n      <th>cat_encoder</th>\n      <th>target_encoder</th>\n    </tr>\n  </thead>\n  <tbody>\n    <tr>\n      <th>109</th>\n      <td>0.8250</td>\n      <td>0.8289</td>\n      <td>0.003859</td>\n      <td>KNeighbors</td>\n      <td>{'n_jobs': -1, 'n_neighbors': 133, 'weights': ...</td>\n      <td>{'need_norm_data': True, 'scaler_name': 'MinMa...</td>\n      <td>HashingEncoder</td>\n      <td>TargetEncoder</td>\n    </tr>\n    <tr>\n      <th>104</th>\n      <td>0.8234</td>\n      <td>0.8285</td>\n      <td>0.005146</td>\n      <td>KNeighbors</td>\n      <td>{'n_jobs': -1, 'n_neighbors': 143, 'weights': ...</td>\n      <td>{'need_norm_data': True, 'scaler_name': 'MinMa...</td>\n      <td>HashingEncoder</td>\n      <td>TargetEncoder</td>\n    </tr>\n    <tr>\n      <th>99</th>\n      <td>0.8194</td>\n      <td>0.8233</td>\n      <td>0.003859</td>\n      <td>KNeighbors</td>\n      <td>{'n_jobs': -1, 'n_neighbors': 93, 'weights': '...</td>\n      <td>{'need_norm_data': True, 'scaler_name': 'Stand...</td>\n      <td>HashingEncoder</td>\n      <td>TargetEncoder</td>\n    </tr>\n    <tr>\n      <th>10</th>\n      <td>0.8191</td>\n      <td>0.8435</td>\n      <td>0.024443</td>\n      <td>CatBoost</td>\n      <td>{'verbose': 0, 'early_stopping_rounds': 50, 't...</td>\n      <td>{'need_norm_data': False, 'early_stopping': True}</td>\n      <td>HashingEncoder</td>\n      <td>TargetEncoder</td>\n    </tr>\n    <tr>\n      <th>106</th>\n      <td>0.8190</td>\n      <td>0.8190</td>\n      <td>0.000000</td>\n      <td>KNeighbors</td>\n      <td>{'n_jobs': -1, 'n_neighbors': 80, 'weights': '...</td>\n      <td>{'need_norm_data': True, 'scaler_name': 'MinMa...</td>\n      <td>HashingEncoder</td>\n      <td>TargetEncoder</td>\n    </tr>\n    <tr>\n      <th>71</th>\n      <td>0.8182</td>\n      <td>0.8225</td>\n      <td>0.004288</td>\n      <td>KNeighbors</td>\n      <td>{'n_jobs': -1, 'n_neighbors': 92, 'weights': '...</td>\n      <td>{'need_norm_data': True, 'scaler_name': 'MinMa...</td>\n      <td>HashingEncoder</td>\n      <td>TargetEncoder</td>\n    </tr>\n    <tr>\n      <th>69</th>\n      <td>0.8182</td>\n      <td>0.8216</td>\n      <td>0.003431</td>\n      <td>KNeighbors</td>\n      <td>{'n_jobs': -1, 'n_neighbors': 46, 'weights': '...</td>\n      <td>{'need_norm_data': True, 'scaler_name': 'MinMa...</td>\n      <td>HashingEncoder</td>\n      <td>TargetEncoder</td>\n    </tr>\n    <tr>\n      <th>73</th>\n      <td>0.8173</td>\n      <td>0.8272</td>\n      <td>0.009863</td>\n      <td>KNeighbors</td>\n      <td>{'n_jobs': -1, 'n_neighbors': 149, 'weights': ...</td>\n      <td>{'need_norm_data': True, 'scaler_name': 'Stand...</td>\n      <td>HashingEncoder</td>\n      <td>TargetEncoder</td>\n    </tr>\n    <tr>\n      <th>77</th>\n      <td>0.8161</td>\n      <td>0.8212</td>\n      <td>0.005146</td>\n      <td>KNeighbors</td>\n      <td>{'n_jobs': -1, 'n_neighbors': 45, 'weights': '...</td>\n      <td>{'need_norm_data': True, 'scaler_name': 'Stand...</td>\n      <td>HashingEncoder</td>\n      <td>TargetEncoder</td>\n    </tr>\n    <tr>\n      <th>87</th>\n      <td>0.8147</td>\n      <td>0.8190</td>\n      <td>0.004288</td>\n      <td>KNeighbors</td>\n      <td>{'n_jobs': -1, 'n_neighbors': 142, 'weights': ...</td>\n      <td>{'need_norm_data': True, 'scaler_name': 'Robus...</td>\n      <td>HashingEncoder</td>\n      <td>TargetEncoder</td>\n    </tr>\n  </tbody>\n</table>\n</div>"
          },
          "metadata": {},
          "execution_count": 14
        }
      ]
    },
    {
      "cell_type": "code",
      "execution_count": null,
      "metadata": {},
      "outputs": [],
      "source": []
    },
    {
      "cell_type": "code",
      "execution_count": null,
      "metadata": {},
      "outputs": [],
      "source": []
    }
  ],
  "metadata": {
    "kernelspec": {
      "name": "python3",
      "display_name": "Python 3"
    },
    "toc": {
      "base_numbering": 1,
      "nav_menu": {},
      "number_sections": false,
      "sideBar": true,
      "skip_h1_title": false,
      "title_cell": "Table of Contents",
      "title_sidebar": "Contents",
      "toc_cell": false,
      "toc_position": {
        "height": "calc(100% - 180px)",
        "left": "10px",
        "top": "150px",
        "width": "165px"
      },
      "toc_section_display": true,
      "toc_window_display": true
    },
    "colab": {
      "name": "04_ModelsReview.ipynb",
      "provenance": [],
      "collapsed_sections": []
    }
  },
  "nbformat": 4,
  "nbformat_minor": 0
}