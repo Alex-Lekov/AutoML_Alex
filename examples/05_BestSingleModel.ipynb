{
 "cells": [
  {
   "cell_type": "code",
   "execution_count": 1,
   "metadata": {
    "ExecuteTime": {
     "end_time": "2020-05-07T01:04:07.223678Z",
     "start_time": "2020-05-07T01:04:07.203114Z"
    }
   },
   "outputs": [],
   "source": [
    "# If you run this notebook on Google Colaboratory, uncomment the below to install automl_alex.\n",
    "#!pip install -q -U automl_alex"
   ]
  },
  {
   "cell_type": "code",
   "execution_count": 1,
   "metadata": {
    "ExecuteTime": {
     "end_time": "2020-05-07T01:05:50.878720Z",
     "start_time": "2020-05-07T01:05:50.874642Z"
    },
    "tags": []
   },
   "outputs": [
    {
     "output_type": "stream",
     "name": "stdout",
     "text": [
      "AutoML-Alex version: 1.3.8\n"
     ]
    }
   ],
   "source": [
    "import sklearn\n",
    "import pandas as pd\n",
    "import time\n",
    "import automl_alex\n",
    "from automl_alex import DataPrepare\n",
    "from automl_alex import BestSingleModel, BestSingleModelClassifier, BestSingleModelRegressor\n",
    "print('AutoML-Alex version:', automl_alex.__version__)"
   ]
  },
  {
   "cell_type": "code",
   "execution_count": 2,
   "metadata": {
    "ExecuteTime": {
     "end_time": "2020-05-07T01:05:52.553896Z",
     "start_time": "2020-05-07T01:05:52.549132Z"
    }
   },
   "outputs": [],
   "source": [
    "RANDOM_SEED = 42"
   ]
  },
  {
   "cell_type": "markdown",
   "metadata": {},
   "source": [
    "# Classifier"
   ]
  },
  {
   "cell_type": "markdown",
   "metadata": {},
   "source": [
    "## Data"
   ]
  },
  {
   "cell_type": "code",
   "execution_count": 3,
   "metadata": {
    "ExecuteTime": {
     "end_time": "2020-05-07T01:05:55.127924Z",
     "start_time": "2020-05-07T01:05:55.037616Z"
    }
   },
   "outputs": [
    {
     "output_type": "execute_result",
     "data": {
      "text/plain": [
       "  age         workclass    fnlwgt  education  education-num  \\\n",
       "0   2         State-gov   77516.0  Bachelors           13.0   \n",
       "1   3  Self-emp-not-inc   83311.0  Bachelors           13.0   \n",
       "2   2           Private  215646.0    HS-grad            9.0   \n",
       "3   3           Private  234721.0       11th            7.0   \n",
       "4   1           Private  338409.0  Bachelors           13.0   \n",
       "\n",
       "       marital-status         occupation   relationship   race     sex  \\\n",
       "0       Never-married       Adm-clerical  Not-in-family  White    Male   \n",
       "1  Married-civ-spouse    Exec-managerial        Husband  White    Male   \n",
       "2            Divorced  Handlers-cleaners  Not-in-family  White    Male   \n",
       "3  Married-civ-spouse  Handlers-cleaners        Husband  Black    Male   \n",
       "4  Married-civ-spouse     Prof-specialty           Wife  Black  Female   \n",
       "\n",
       "  capitalgain capitalloss hoursperweek native-country  \n",
       "0           1           0            2  United-States  \n",
       "1           0           0            0  United-States  \n",
       "2           0           0            2  United-States  \n",
       "3           0           0            2  United-States  \n",
       "4           0           0            2           Cuba  "
      ],
      "text/html": "<div>\n<style scoped>\n    .dataframe tbody tr th:only-of-type {\n        vertical-align: middle;\n    }\n\n    .dataframe tbody tr th {\n        vertical-align: top;\n    }\n\n    .dataframe thead th {\n        text-align: right;\n    }\n</style>\n<table border=\"1\" class=\"dataframe\">\n  <thead>\n    <tr style=\"text-align: right;\">\n      <th></th>\n      <th>age</th>\n      <th>workclass</th>\n      <th>fnlwgt</th>\n      <th>education</th>\n      <th>education-num</th>\n      <th>marital-status</th>\n      <th>occupation</th>\n      <th>relationship</th>\n      <th>race</th>\n      <th>sex</th>\n      <th>capitalgain</th>\n      <th>capitalloss</th>\n      <th>hoursperweek</th>\n      <th>native-country</th>\n    </tr>\n  </thead>\n  <tbody>\n    <tr>\n      <th>0</th>\n      <td>2</td>\n      <td>State-gov</td>\n      <td>77516.0</td>\n      <td>Bachelors</td>\n      <td>13.0</td>\n      <td>Never-married</td>\n      <td>Adm-clerical</td>\n      <td>Not-in-family</td>\n      <td>White</td>\n      <td>Male</td>\n      <td>1</td>\n      <td>0</td>\n      <td>2</td>\n      <td>United-States</td>\n    </tr>\n    <tr>\n      <th>1</th>\n      <td>3</td>\n      <td>Self-emp-not-inc</td>\n      <td>83311.0</td>\n      <td>Bachelors</td>\n      <td>13.0</td>\n      <td>Married-civ-spouse</td>\n      <td>Exec-managerial</td>\n      <td>Husband</td>\n      <td>White</td>\n      <td>Male</td>\n      <td>0</td>\n      <td>0</td>\n      <td>0</td>\n      <td>United-States</td>\n    </tr>\n    <tr>\n      <th>2</th>\n      <td>2</td>\n      <td>Private</td>\n      <td>215646.0</td>\n      <td>HS-grad</td>\n      <td>9.0</td>\n      <td>Divorced</td>\n      <td>Handlers-cleaners</td>\n      <td>Not-in-family</td>\n      <td>White</td>\n      <td>Male</td>\n      <td>0</td>\n      <td>0</td>\n      <td>2</td>\n      <td>United-States</td>\n    </tr>\n    <tr>\n      <th>3</th>\n      <td>3</td>\n      <td>Private</td>\n      <td>234721.0</td>\n      <td>11th</td>\n      <td>7.0</td>\n      <td>Married-civ-spouse</td>\n      <td>Handlers-cleaners</td>\n      <td>Husband</td>\n      <td>Black</td>\n      <td>Male</td>\n      <td>0</td>\n      <td>0</td>\n      <td>2</td>\n      <td>United-States</td>\n    </tr>\n    <tr>\n      <th>4</th>\n      <td>1</td>\n      <td>Private</td>\n      <td>338409.0</td>\n      <td>Bachelors</td>\n      <td>13.0</td>\n      <td>Married-civ-spouse</td>\n      <td>Prof-specialty</td>\n      <td>Wife</td>\n      <td>Black</td>\n      <td>Female</td>\n      <td>0</td>\n      <td>0</td>\n      <td>2</td>\n      <td>Cuba</td>\n    </tr>\n  </tbody>\n</table>\n</div>"
     },
     "metadata": {},
     "execution_count": 3
    }
   ],
   "source": [
    "from sklearn.datasets import fetch_openml\n",
    "from sklearn.model_selection import train_test_split\n",
    "# https://www.openml.org/d/179\n",
    "dataset = fetch_openml(data_id=179, as_frame=True)\n",
    "dataset.target = dataset.target.astype('category').cat.codes\n",
    "dataset.data.head(5)"
   ]
  },
  {
   "cell_type": "code",
   "execution_count": 4,
   "metadata": {
    "ExecuteTime": {
     "end_time": "2020-05-07T01:05:56.756465Z",
     "start_time": "2020-05-07T01:05:56.734220Z"
    }
   },
   "outputs": [
    {
     "output_type": "execute_result",
     "data": {
      "text/plain": [
       "((39073, 14), (9769, 14))"
      ]
     },
     "metadata": {},
     "execution_count": 4
    }
   ],
   "source": [
    "X_train, X_test, y_train, y_test = train_test_split(dataset.data, \n",
    "                                                    dataset.target,\n",
    "                                                    test_size=0.2, \n",
    "                                                    random_state=RANDOM_SEED,)\n",
    "X_train.shape, X_test.shape"
   ]
  },
  {
   "source": [
    "## BestSingleModel"
   ],
   "cell_type": "markdown",
   "metadata": {}
  },
  {
   "cell_type": "code",
   "execution_count": 5,
   "metadata": {
    "tags": []
   },
   "outputs": [
    {
     "output_type": "stream",
     "name": "stderr",
     "text": [
      "15:06:11 | metric is None! Default metric will be used. classifier: AUC, regression: MSE\n"
     ]
    }
   ],
   "source": [
    "model = BestSingleModelClassifier(\n",
    "    clean_and_encod_data=True,\n",
    "    opt_data_prepare=True,\n",
    "    models_names = ['LightGBM', 'ExtraTrees', 'RandomForest',],\n",
    "    cat_encoder_names= [\n",
    "            \"HelmertEncoder\",\n",
    "            \"OneHotEncoder\",\n",
    "            \"CountEncoder\",\n",
    "            \"HashingEncoder\",\n",
    "            \"BackwardDifferenceEncoder\",\n",
    "        ],\n",
    "    target_encoders_names= [\n",
    "            \"TargetEncoder\",\n",
    "            \"JamesSteinEncoder\",\n",
    "            \"CatBoostEncoder\",\n",
    "        ],\n",
    "    clean_outliers = [True, False],\n",
    "    num_generator_select_operations = True,\n",
    "    num_generator_operations = [\"/\", \"*\", \"-\"],\n",
    "    auto_parameters=True,\n",
    "    feature_selection=False,\n",
    "    random_state=RANDOM_SEED,)"
   ]
  },
  {
   "cell_type": "code",
   "execution_count": 6,
   "metadata": {
    "tags": []
   },
   "outputs": [
    {
     "output_type": "stream",
     "name": "stderr",
     "text": [
      "17:48:07 | ##################################################\n",
      "17:48:07 | > Step 1: calc parameters and pruned score: get test 10 trials\n",
      "17:50:51 |  One iteration ~ 16.4 sec\n",
      "17:50:51 |  Possible iters ~ 18.0\n",
      "17:50:51 | ! Not enough time to find the optimal parameters. \n",
      "                     Possible iters < 100. \n",
      "                     Please, Increase the 'timeout' parameter for normal optimization.\n",
      "17:50:51 | --------------------------------------------------\n",
      "17:50:51 |   Pruned Threshold Score: 0.9054\n",
      "17:50:51 | ##################################################\n",
      "17:50:51 | > Step 2: Full opt with Threshold Score Pruner\n",
      "17:50:51 | ##################################################\n",
      "17:50:51 | > Start optimization with the parameters:\n",
      "17:50:51 | CV_Folds = 7\n",
      "17:50:51 | Score_CV_Folds = 2\n",
      "17:50:51 | Feature_Selection = False\n",
      "17:50:51 | Opt_lvl = 1\n",
      "17:50:51 | Cold_start = 15\n",
      "17:50:51 | Early_stoping = 25\n",
      "17:50:51 | Metric = roc_auc_score\n",
      "17:50:51 | Direction = maximize\n",
      "17:50:51 | ##################################################\n",
      "Optimize: : 2it [00:26, 13.32s/it, | Model: LightGBM | OptScore: 0.9131 | Best roc_auc_score: 0.9116 ]\n",
      "17:51:18 | > Finish Opt!\n",
      "Finished loading model, total used 300 iterations\n",
      "Finished loading model, total used 300 iterations\n",
      "Finished loading model, total used 300 iterations\n",
      "Finished loading model, total used 300 iterations\n",
      "Finished loading model, total used 300 iterations\n",
      "Finished loading model, total used 300 iterations\n",
      "Finished loading model, total used 300 iterations\n",
      "17:52:15 | Best Score: 0.9131 roc_auc_score\n"
     ]
    }
   ],
   "source": [
    "history = model.opt(X_train, y_train, timeout=600, verbose=3)"
   ]
  },
  {
   "cell_type": "code",
   "execution_count": 7,
   "metadata": {
    "tags": []
   },
   "outputs": [],
   "source": [
    "predicts = model.predict(X_test)"
   ]
  },
  {
   "cell_type": "code",
   "execution_count": 8,
   "metadata": {},
   "outputs": [
    {
     "output_type": "stream",
     "name": "stdout",
     "text": [
      "Test AUC:  0.9122\n"
     ]
    }
   ],
   "source": [
    "print('Test AUC: ', round(sklearn.metrics.roc_auc_score(y_test, predicts),4))"
   ]
  },
  {
   "cell_type": "code",
   "execution_count": 9,
   "metadata": {},
   "outputs": [
    {
     "output_type": "execute_result",
     "data": {
      "text/plain": [
       "'LightGBM'"
      ]
     },
     "metadata": {},
     "execution_count": 9
    }
   ],
   "source": [
    "model.best_model_name"
   ]
  },
  {
   "cell_type": "code",
   "execution_count": 10,
   "metadata": {},
   "outputs": [
    {
     "output_type": "execute_result",
     "data": {
      "text/plain": [
       "{'random_seed': 42,\n",
       " 'num_iterations': 300,\n",
       " 'verbose': -1,\n",
       " 'device_type': 'cpu',\n",
       " 'objective': 'binary',\n",
       " 'num_leaves': 4,\n",
       " 'learning_rate': 0.2104512193446279}"
      ]
     },
     "metadata": {},
     "execution_count": 10
    }
   ],
   "source": [
    "model.best_model_param"
   ]
  },
  {
   "cell_type": "code",
   "execution_count": null,
   "metadata": {},
   "outputs": [],
   "source": [
    "# select Features \n",
    "# if feature_selection=True\n",
    "#model.select_columns[:10]"
   ]
  },
  {
   "cell_type": "code",
   "execution_count": 22,
   "metadata": {},
   "outputs": [
    {
     "output_type": "execute_result",
     "data": {
      "text/plain": [
       "{'*': True,\n",
       " '-': True,\n",
       " '/': True,\n",
       " 'BackwardDifferenceEncoder': False,\n",
       " 'CatBoostEncoder': True,\n",
       " 'CountEncoder': True,\n",
       " 'HashingEncoder': False,\n",
       " 'HelmertEncoder': True,\n",
       " 'JamesSteinEncoder': True,\n",
       " 'OneHotEncoder': False,\n",
       " 'TargetEncoder': False,\n",
       " 'de_clean_outliers': True,\n",
       " 'lgbm_learning_rate': 0.2104512193446279,\n",
       " 'lgbm_num_leaves': 4,\n",
       " 'model_name': 'LightGBM'}"
      ]
     },
     "metadata": {},
     "execution_count": 22
    }
   ],
   "source": [
    "model.study.best_params"
   ]
  },
  {
   "cell_type": "code",
   "execution_count": 35,
   "metadata": {},
   "outputs": [
    {
     "output_type": "execute_result",
     "data": {
      "text/plain": [
       "    number   value             datetime_start          datetime_complete  \\\n",
       "12      12  0.9131 2021-03-06 17:51:04.898592 2021-03-06 17:51:18.432278   \n",
       "8        8  0.9116 2021-03-06 17:50:14.236088 2021-03-06 17:50:42.930326   \n",
       "0        0  0.9078 2021-03-06 17:48:07.752162 2021-03-06 17:48:26.015151   \n",
       "5        5  0.9066 2021-03-06 17:49:15.035773 2021-03-06 17:49:17.897428   \n",
       "9        9  0.9061 2021-03-06 17:50:42.997106 2021-03-06 17:50:51.803024   \n",
       "\n",
       "                 duration  params_*  params_-  params_/  \\\n",
       "12 0 days 00:00:13.533686      True      True      True   \n",
       "8  0 days 00:00:28.694238      True     False      True   \n",
       "0  0 days 00:00:18.262989     False     False      True   \n",
       "5  0 days 00:00:02.861655     False      True     False   \n",
       "9  0 days 00:00:08.805918     False     False     False   \n",
       "\n",
       "    params_BackwardDifferenceEncoder  params_CatBoostEncoder  ...  \\\n",
       "12                             False                    True  ...   \n",
       "8                              False                    True  ...   \n",
       "0                               True                    True  ...   \n",
       "5                              False                   False  ...   \n",
       "9                              False                    True  ...   \n",
       "\n",
       "    params_TargetEncoder  params_de_clean_outliers  params_ext_max_depth  \\\n",
       "12                 False                      True                   NaN   \n",
       "8                  False                      True                   NaN   \n",
       "0                   True                     False                   NaN   \n",
       "5                  False                     False                   NaN   \n",
       "9                   True                      True                   NaN   \n",
       "\n",
       "    params_ext_min_samples_split  params_lgbm_learning_rate  \\\n",
       "12                           NaN                   0.210451   \n",
       "8                            NaN                   0.012886   \n",
       "0                            NaN                        NaN   \n",
       "5                            NaN                        NaN   \n",
       "9                            NaN                        NaN   \n",
       "\n",
       "    params_lgbm_num_leaves  params_model_name  params_rf_max_depth  \\\n",
       "12                     4.0           LightGBM                  NaN   \n",
       "8                     44.0           LightGBM                  NaN   \n",
       "0                      NaN       RandomForest                 80.0   \n",
       "5                      NaN       RandomForest                 10.0   \n",
       "9                      NaN       RandomForest                 10.0   \n",
       "\n",
       "    params_rf_min_samples_split     state  \n",
       "12                          NaN  COMPLETE  \n",
       "8                           NaN  COMPLETE  \n",
       "0                          53.0  COMPLETE  \n",
       "5                          36.0  COMPLETE  \n",
       "9                          36.0  COMPLETE  \n",
       "\n",
       "[5 rows x 25 columns]"
      ],
      "text/html": "<div>\n<style scoped>\n    .dataframe tbody tr th:only-of-type {\n        vertical-align: middle;\n    }\n\n    .dataframe tbody tr th {\n        vertical-align: top;\n    }\n\n    .dataframe thead th {\n        text-align: right;\n    }\n</style>\n<table border=\"1\" class=\"dataframe\">\n  <thead>\n    <tr style=\"text-align: right;\">\n      <th></th>\n      <th>number</th>\n      <th>value</th>\n      <th>datetime_start</th>\n      <th>datetime_complete</th>\n      <th>duration</th>\n      <th>params_*</th>\n      <th>params_-</th>\n      <th>params_/</th>\n      <th>params_BackwardDifferenceEncoder</th>\n      <th>params_CatBoostEncoder</th>\n      <th>...</th>\n      <th>params_TargetEncoder</th>\n      <th>params_de_clean_outliers</th>\n      <th>params_ext_max_depth</th>\n      <th>params_ext_min_samples_split</th>\n      <th>params_lgbm_learning_rate</th>\n      <th>params_lgbm_num_leaves</th>\n      <th>params_model_name</th>\n      <th>params_rf_max_depth</th>\n      <th>params_rf_min_samples_split</th>\n      <th>state</th>\n    </tr>\n  </thead>\n  <tbody>\n    <tr>\n      <th>12</th>\n      <td>12</td>\n      <td>0.9131</td>\n      <td>2021-03-06 17:51:04.898592</td>\n      <td>2021-03-06 17:51:18.432278</td>\n      <td>0 days 00:00:13.533686</td>\n      <td>True</td>\n      <td>True</td>\n      <td>True</td>\n      <td>False</td>\n      <td>True</td>\n      <td>...</td>\n      <td>False</td>\n      <td>True</td>\n      <td>NaN</td>\n      <td>NaN</td>\n      <td>0.210451</td>\n      <td>4.0</td>\n      <td>LightGBM</td>\n      <td>NaN</td>\n      <td>NaN</td>\n      <td>COMPLETE</td>\n    </tr>\n    <tr>\n      <th>8</th>\n      <td>8</td>\n      <td>0.9116</td>\n      <td>2021-03-06 17:50:14.236088</td>\n      <td>2021-03-06 17:50:42.930326</td>\n      <td>0 days 00:00:28.694238</td>\n      <td>True</td>\n      <td>False</td>\n      <td>True</td>\n      <td>False</td>\n      <td>True</td>\n      <td>...</td>\n      <td>False</td>\n      <td>True</td>\n      <td>NaN</td>\n      <td>NaN</td>\n      <td>0.012886</td>\n      <td>44.0</td>\n      <td>LightGBM</td>\n      <td>NaN</td>\n      <td>NaN</td>\n      <td>COMPLETE</td>\n    </tr>\n    <tr>\n      <th>0</th>\n      <td>0</td>\n      <td>0.9078</td>\n      <td>2021-03-06 17:48:07.752162</td>\n      <td>2021-03-06 17:48:26.015151</td>\n      <td>0 days 00:00:18.262989</td>\n      <td>False</td>\n      <td>False</td>\n      <td>True</td>\n      <td>True</td>\n      <td>True</td>\n      <td>...</td>\n      <td>True</td>\n      <td>False</td>\n      <td>NaN</td>\n      <td>NaN</td>\n      <td>NaN</td>\n      <td>NaN</td>\n      <td>RandomForest</td>\n      <td>80.0</td>\n      <td>53.0</td>\n      <td>COMPLETE</td>\n    </tr>\n    <tr>\n      <th>5</th>\n      <td>5</td>\n      <td>0.9066</td>\n      <td>2021-03-06 17:49:15.035773</td>\n      <td>2021-03-06 17:49:17.897428</td>\n      <td>0 days 00:00:02.861655</td>\n      <td>False</td>\n      <td>True</td>\n      <td>False</td>\n      <td>False</td>\n      <td>False</td>\n      <td>...</td>\n      <td>False</td>\n      <td>False</td>\n      <td>NaN</td>\n      <td>NaN</td>\n      <td>NaN</td>\n      <td>NaN</td>\n      <td>RandomForest</td>\n      <td>10.0</td>\n      <td>36.0</td>\n      <td>COMPLETE</td>\n    </tr>\n    <tr>\n      <th>9</th>\n      <td>9</td>\n      <td>0.9061</td>\n      <td>2021-03-06 17:50:42.997106</td>\n      <td>2021-03-06 17:50:51.803024</td>\n      <td>0 days 00:00:08.805918</td>\n      <td>False</td>\n      <td>False</td>\n      <td>False</td>\n      <td>False</td>\n      <td>True</td>\n      <td>...</td>\n      <td>True</td>\n      <td>True</td>\n      <td>NaN</td>\n      <td>NaN</td>\n      <td>NaN</td>\n      <td>NaN</td>\n      <td>RandomForest</td>\n      <td>10.0</td>\n      <td>36.0</td>\n      <td>COMPLETE</td>\n    </tr>\n  </tbody>\n</table>\n<p>5 rows × 25 columns</p>\n</div>"
     },
     "metadata": {},
     "execution_count": 35
    }
   ],
   "source": [
    "history.sort_values('value', ascending=False).head(5)"
   ]
  },
  {
   "cell_type": "code",
   "execution_count": 29,
   "metadata": {},
   "outputs": [
    {
     "output_type": "execute_result",
     "data": {
      "text/plain": [
       "{'model_name': 'LightGBM',\n",
       " 'lgbm_num_leaves': 44,\n",
       " 'lgbm_learning_rate': 0.012886065671894011,\n",
       " 'HelmertEncoder': True,\n",
       " 'OneHotEncoder': True,\n",
       " 'CountEncoder': False,\n",
       " 'HashingEncoder': True,\n",
       " 'BackwardDifferenceEncoder': False,\n",
       " 'TargetEncoder': False,\n",
       " 'JamesSteinEncoder': False,\n",
       " 'CatBoostEncoder': True,\n",
       " 'de_clean_outliers': True,\n",
       " '/': True,\n",
       " '*': True,\n",
       " '-': False}"
      ]
     },
     "metadata": {},
     "execution_count": 29
    }
   ],
   "source": [
    "model.study.trials[8].params"
   ]
  },
  {
   "cell_type": "code",
   "execution_count": 24,
   "metadata": {},
   "outputs": [
    {
     "output_type": "stream",
     "name": "stdout",
     "text": [
      "Finished loading model, total used 300 iterations\n",
      "Finished loading model, total used 300 iterations\n",
      "Finished loading model, total used 300 iterations\n",
      "Finished loading model, total used 300 iterations\n",
      "Finished loading model, total used 300 iterations\n",
      "Finished loading model, total used 300 iterations\n",
      "Finished loading model, total used 300 iterations\n"
     ]
    }
   ],
   "source": [
    "model = model.get_model_from_iter(X_train, y_train, model.study.trials[8].params)"
   ]
  },
  {
   "cell_type": "code",
   "execution_count": 25,
   "metadata": {},
   "outputs": [
    {
     "output_type": "stream",
     "name": "stdout",
     "text": [
      "Test AUC:  0.9097\n"
     ]
    }
   ],
   "source": [
    "predicts = model.predict(X_test)\n",
    "print('Test AUC: ', round(sklearn.metrics.roc_auc_score(y_test, predicts),4))"
   ]
  },
  {
   "source": [
    "## Save & Load"
   ],
   "cell_type": "markdown",
   "metadata": {}
  },
  {
   "cell_type": "code",
   "execution_count": 26,
   "metadata": {},
   "outputs": [
    {
     "output_type": "stream",
     "name": "stdout",
     "text": [
      "Save model\n"
     ]
    }
   ],
   "source": [
    "model.save('model_1')"
   ]
  },
  {
   "cell_type": "code",
   "execution_count": 27,
   "metadata": {},
   "outputs": [
    {
     "output_type": "stream",
     "name": "stderr",
     "text": [
      "18:03:27 | Load DataPrepare\n",
      "18:03:28 | Load Model\n",
      "Finished loading model, total used 300 iterations\n",
      "18:03:28 | Load Model\n",
      "Finished loading model, total used 300 iterations\n",
      "18:03:28 | Load Model\n",
      "Finished loading model, total used 300 iterations\n",
      "18:03:28 | Load Model\n",
      "Finished loading model, total used 300 iterations\n",
      "18:03:28 | Load Model\n",
      "Finished loading model, total used 300 iterations\n",
      "18:03:28 | Load Model\n",
      "Finished loading model, total used 300 iterations\n",
      "18:03:28 | Load Model\n",
      "Finished loading model, total used 300 iterations\n",
      "Load CrossValidation\n",
      "Load model\n"
     ]
    }
   ],
   "source": [
    "model_new = BestSingleModelClassifier(random_state=RANDOM_SEED,)\n",
    "model_new = model_new.load('model_1')"
   ]
  },
  {
   "cell_type": "code",
   "execution_count": 28,
   "metadata": {},
   "outputs": [
    {
     "output_type": "stream",
     "name": "stdout",
     "text": [
      "Test AUC:  0.9097\n"
     ]
    }
   ],
   "source": [
    "predicts = model_new.predict(X_test)\n",
    "print('Test AUC: ', round(sklearn.metrics.roc_auc_score(y_test, predicts),4))"
   ]
  },
  {
   "cell_type": "code",
   "execution_count": null,
   "metadata": {},
   "outputs": [],
   "source": []
  }
 ],
 "metadata": {
  "kernelspec": {
   "name": "python3",
   "display_name": "Python 3",
   "language": "python"
  },
  "language_info": {
   "codemirror_mode": {
    "name": "ipython",
    "version": 3
   },
   "file_extension": ".py",
   "mimetype": "text/x-python",
   "name": "python",
   "nbconvert_exporter": "python",
   "pygments_lexer": "ipython3",
   "version": "3.8.3-final"
  },
  "toc": {
   "base_numbering": 1,
   "nav_menu": {},
   "number_sections": false,
   "sideBar": true,
   "skip_h1_title": false,
   "title_cell": "Table of Contents",
   "title_sidebar": "Contents",
   "toc_cell": false,
   "toc_position": {
    "height": "calc(100% - 180px)",
    "left": "10px",
    "top": "150px",
    "width": "165px"
   },
   "toc_section_display": true,
   "toc_window_display": true
  }
 },
 "nbformat": 4,
 "nbformat_minor": 4
}