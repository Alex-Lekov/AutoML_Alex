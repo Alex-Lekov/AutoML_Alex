{
 "cells": [
  {
   "cell_type": "code",
   "execution_count": 1,
   "metadata": {
    "ExecuteTime": {
     "end_time": "2020-05-07T04:23:49.057981Z",
     "start_time": "2020-05-07T04:23:49.053936Z"
    }
   },
   "outputs": [],
   "source": [
    "# If you run this notebook on Google Colaboratory, uncomment the below to install automl_alex.\n",
    "#!pip install -U -q automl-alex"
   ]
  },
  {
   "cell_type": "code",
   "execution_count": 1,
   "metadata": {
    "ExecuteTime": {
     "end_time": "2020-05-07T04:23:53.125987Z",
     "start_time": "2020-05-07T04:23:49.634140Z"
    },
    "tags": []
   },
   "outputs": [
    {
     "output_type": "stream",
     "name": "stdout",
     "text": [
      "1.3.4\n"
     ]
    }
   ],
   "source": [
    "import sklearn\n",
    "from sklearn.model_selection import train_test_split\n",
    "from sklearn.datasets import fetch_openml\n",
    "\n",
    "import automl_alex\n",
    "from automl_alex import DataPrepare\n",
    "\n",
    "print(automl_alex.__version__)"
   ]
  },
  {
   "cell_type": "code",
   "execution_count": 2,
   "metadata": {
    "ExecuteTime": {
     "end_time": "2020-05-07T04:23:53.136324Z",
     "start_time": "2020-05-07T04:23:53.129088Z"
    }
   },
   "outputs": [],
   "source": [
    "RANDOM_SEED = 42"
   ]
  },
  {
   "cell_type": "markdown",
   "metadata": {},
   "source": [
    "# Load Data"
   ]
  },
  {
   "cell_type": "code",
   "execution_count": 3,
   "metadata": {
    "ExecuteTime": {
     "end_time": "2020-05-07T04:23:54.266953Z",
     "start_time": "2020-05-07T04:23:53.244733Z"
    }
   },
   "outputs": [
    {
     "output_type": "execute_result",
     "data": {
      "text/plain": [
       "  age         workclass    fnlwgt  education  education-num  \\\n",
       "0   2         State-gov   77516.0  Bachelors           13.0   \n",
       "1   3  Self-emp-not-inc   83311.0  Bachelors           13.0   \n",
       "2   2           Private  215646.0    HS-grad            9.0   \n",
       "3   3           Private  234721.0       11th            7.0   \n",
       "4   1           Private  338409.0  Bachelors           13.0   \n",
       "\n",
       "       marital-status         occupation   relationship   race     sex  \\\n",
       "0       Never-married       Adm-clerical  Not-in-family  White    Male   \n",
       "1  Married-civ-spouse    Exec-managerial        Husband  White    Male   \n",
       "2            Divorced  Handlers-cleaners  Not-in-family  White    Male   \n",
       "3  Married-civ-spouse  Handlers-cleaners        Husband  Black    Male   \n",
       "4  Married-civ-spouse     Prof-specialty           Wife  Black  Female   \n",
       "\n",
       "  capitalgain capitalloss hoursperweek native-country  \n",
       "0           1           0            2  United-States  \n",
       "1           0           0            0  United-States  \n",
       "2           0           0            2  United-States  \n",
       "3           0           0            2  United-States  \n",
       "4           0           0            2           Cuba  "
      ],
      "text/html": "<div>\n<style scoped>\n    .dataframe tbody tr th:only-of-type {\n        vertical-align: middle;\n    }\n\n    .dataframe tbody tr th {\n        vertical-align: top;\n    }\n\n    .dataframe thead th {\n        text-align: right;\n    }\n</style>\n<table border=\"1\" class=\"dataframe\">\n  <thead>\n    <tr style=\"text-align: right;\">\n      <th></th>\n      <th>age</th>\n      <th>workclass</th>\n      <th>fnlwgt</th>\n      <th>education</th>\n      <th>education-num</th>\n      <th>marital-status</th>\n      <th>occupation</th>\n      <th>relationship</th>\n      <th>race</th>\n      <th>sex</th>\n      <th>capitalgain</th>\n      <th>capitalloss</th>\n      <th>hoursperweek</th>\n      <th>native-country</th>\n    </tr>\n  </thead>\n  <tbody>\n    <tr>\n      <th>0</th>\n      <td>2</td>\n      <td>State-gov</td>\n      <td>77516.0</td>\n      <td>Bachelors</td>\n      <td>13.0</td>\n      <td>Never-married</td>\n      <td>Adm-clerical</td>\n      <td>Not-in-family</td>\n      <td>White</td>\n      <td>Male</td>\n      <td>1</td>\n      <td>0</td>\n      <td>2</td>\n      <td>United-States</td>\n    </tr>\n    <tr>\n      <th>1</th>\n      <td>3</td>\n      <td>Self-emp-not-inc</td>\n      <td>83311.0</td>\n      <td>Bachelors</td>\n      <td>13.0</td>\n      <td>Married-civ-spouse</td>\n      <td>Exec-managerial</td>\n      <td>Husband</td>\n      <td>White</td>\n      <td>Male</td>\n      <td>0</td>\n      <td>0</td>\n      <td>0</td>\n      <td>United-States</td>\n    </tr>\n    <tr>\n      <th>2</th>\n      <td>2</td>\n      <td>Private</td>\n      <td>215646.0</td>\n      <td>HS-grad</td>\n      <td>9.0</td>\n      <td>Divorced</td>\n      <td>Handlers-cleaners</td>\n      <td>Not-in-family</td>\n      <td>White</td>\n      <td>Male</td>\n      <td>0</td>\n      <td>0</td>\n      <td>2</td>\n      <td>United-States</td>\n    </tr>\n    <tr>\n      <th>3</th>\n      <td>3</td>\n      <td>Private</td>\n      <td>234721.0</td>\n      <td>11th</td>\n      <td>7.0</td>\n      <td>Married-civ-spouse</td>\n      <td>Handlers-cleaners</td>\n      <td>Husband</td>\n      <td>Black</td>\n      <td>Male</td>\n      <td>0</td>\n      <td>0</td>\n      <td>2</td>\n      <td>United-States</td>\n    </tr>\n    <tr>\n      <th>4</th>\n      <td>1</td>\n      <td>Private</td>\n      <td>338409.0</td>\n      <td>Bachelors</td>\n      <td>13.0</td>\n      <td>Married-civ-spouse</td>\n      <td>Prof-specialty</td>\n      <td>Wife</td>\n      <td>Black</td>\n      <td>Female</td>\n      <td>0</td>\n      <td>0</td>\n      <td>2</td>\n      <td>Cuba</td>\n    </tr>\n  </tbody>\n</table>\n</div>"
     },
     "metadata": {},
     "execution_count": 3
    }
   ],
   "source": [
    "dataset = fetch_openml(name='adult', version=1, as_frame=True)\n",
    "# convert target to binary\n",
    "dataset.target = dataset.target.astype('category').cat.codes\n",
    "dataset.data.head(5)"
   ]
  },
  {
   "cell_type": "code",
   "execution_count": 4,
   "metadata": {
    "ExecuteTime": {
     "end_time": "2020-05-07T04:23:54.292030Z",
     "start_time": "2020-05-07T04:23:54.276548Z"
    }
   },
   "outputs": [
    {
     "output_type": "execute_result",
     "data": {
      "text/plain": [
       "((39073, 14), (9769, 14))"
      ]
     },
     "metadata": {},
     "execution_count": 4
    }
   ],
   "source": [
    "X_train, X_test, y_train, y_test = train_test_split(dataset.data, \n",
    "                                                    dataset.target,\n",
    "                                                    test_size=0.2, \n",
    "                                                    random_state=RANDOM_SEED,)\n",
    "X_train.shape, X_test.shape"
   ]
  },
  {
   "cell_type": "code",
   "execution_count": 5,
   "metadata": {},
   "outputs": [
    {
     "output_type": "stream",
     "name": "stdout",
     "text": [
      "<class 'pandas.core.frame.DataFrame'>\nInt64Index: 39073 entries, 37193 to 15795\nData columns (total 14 columns):\n #   Column          Non-Null Count  Dtype   \n---  ------          --------------  -----   \n 0   age             39073 non-null  category\n 1   workclass       36851 non-null  category\n 2   fnlwgt          39073 non-null  float64 \n 3   education       39073 non-null  category\n 4   education-num   39073 non-null  float64 \n 5   marital-status  39073 non-null  category\n 6   occupation      36842 non-null  category\n 7   relationship    39073 non-null  category\n 8   race            39073 non-null  category\n 9   sex             39073 non-null  category\n 10  capitalgain     39073 non-null  category\n 11  capitalloss     39073 non-null  category\n 12  hoursperweek    39073 non-null  category\n 13  native-country  38396 non-null  category\ndtypes: category(12), float64(2)\nmemory usage: 1.3 MB\n"
     ]
    }
   ],
   "source": [
    "X_train.info()"
   ]
  },
  {
   "source": [
    "As we can see, the data is quite dirty, there are object/category features and nans. But the **model is successfully trained even in such a dirty dataset**      \n",
    "[RUS] Как мы видим, данные довольно грязные, есть object/category признаки и nans. Но модель успешно обучаеться даже таком грязном датасете"
   ],
   "cell_type": "markdown",
   "metadata": {}
  },
  {
   "cell_type": "markdown",
   "metadata": {},
   "source": [
    "# Data Cleaning (DataPrepare)\n",
    "before entering the AutoML, the data goes through a full cycle of pre-processing in DataPrepare Class     \n",
    "[RUS] до того как попасть в AutoML, данные проходят полный цикл предобработки в классе DataPrepare. Давайте расмотрим его отдельно"
   ]
  },
  {
   "cell_type": "code",
   "execution_count": 6,
   "metadata": {
    "tags": []
   },
   "outputs": [
    {
     "output_type": "stream",
     "name": "stderr",
     "text": [
      "06:32:37 | Source data shape: (39073, 14)\n",
      "06:32:37 | ##################################################\n",
      "06:32:37 | ! START preprocessing Data\n",
      "06:32:37 | - Auto detect cat features: 12\n",
      "06:32:37 | > Binary Features\n",
      "06:32:37 | > Clean Categorical Features\n",
      "06:32:37 | > Transform Categorical Features.\n",
      "06:32:38 |  - Encoder: HelmertEncoder ADD features: 123\n",
      "06:32:38 |  - Encoder: OneHotEncoder ADD features: 135\n",
      "06:32:39 |   No nans features\n",
      "06:32:39 | > CleanOutliers\n",
      "06:32:39 | Num of outlier detected: 560 in Feature fnlwgt\n",
      "06:32:39 | Proportion of outlier detected: 1.4 %\n",
      "06:32:39 | Num of outlier detected: 253 in Feature education-num\n",
      "06:32:39 | Proportion of outlier detected: 0.6 %\n",
      "06:32:39 | > Generate interaction Num Features\n",
      "06:32:39 |  ADD features: 5\n",
      "06:32:39 | > Normalization Features\n",
      "06:32:39 | ##################################################\n",
      "06:32:39 | Final data shape: (39073, 279)\n",
      "06:32:39 | Total ADD columns: 265\n",
      "06:32:39 | ##################################################\n",
      "CPU times: user 2.4 s, sys: 391 ms, total: 2.79 s\n",
      "Wall time: 2.79 s\n"
     ]
    }
   ],
   "source": [
    "%%time\n",
    "de = DataPrepare(clean_and_encod_data=True,\n",
    "                cat_encoder_names=['HelmertEncoder','OneHotEncoder'], # Encoders list for Generator cat encodet features\n",
    "                clean_nan=True, # fillnan\n",
    "                clean_outliers=True, # method='IQR', threshold=2,\n",
    "                drop_invariant=True, # drop invariant features (data.nunique < 2)\n",
    "                num_generator_features=True, # Generator interaction Num Features\n",
    "                num_denoising_autoencoder=True, # denoising_autoencoder if num features > 2\n",
    "                normalization=True, # normalization data (StandardScaler)\n",
    "                cat_features=None, # DataPrepare can auto detect categorical features\n",
    "                random_state=RANDOM_SEED,\n",
    "                verbose=3)\n",
    "clean_X_train = de.fit_transform(X_train)"
   ]
  },
  {
   "cell_type": "code",
   "execution_count": 7,
   "metadata": {},
   "outputs": [
    {
     "output_type": "execute_result",
     "data": {
      "text/plain": [
       "   sex  HelmertEncoder_age_3  HelmertEncoder_workclass_7  \\\n",
       "0    1                  -1.0                        -1.0   \n",
       "1    1                  -1.0                        -1.0   \n",
       "2    1                  -1.0                        -1.0   \n",
       "3    1                  -1.0                        -1.0   \n",
       "4    1                  -1.0                        -1.0   \n",
       "\n",
       "   HelmertEncoder_education_14  HelmertEncoder_education-num_14  \\\n",
       "0                         -1.0                             -1.0   \n",
       "1                         -1.0                             -1.0   \n",
       "2                         -1.0                             -1.0   \n",
       "3                         -1.0                             -1.0   \n",
       "4                         -1.0                             -1.0   \n",
       "\n",
       "   HelmertEncoder_marital-status_5  HelmertEncoder_occupation_13  \\\n",
       "0                             -1.0                          -1.0   \n",
       "1                             -1.0                          -1.0   \n",
       "2                             -1.0                          -1.0   \n",
       "3                             -1.0                          -1.0   \n",
       "4                             -1.0                          -1.0   \n",
       "\n",
       "   HelmertEncoder_relationship_4  HelmertEncoder_race_3  \\\n",
       "0                           -1.0                   -1.0   \n",
       "1                           -1.0                   -1.0   \n",
       "2                           -1.0                   -1.0   \n",
       "3                           -1.0                   -1.0   \n",
       "4                           -1.0                   -1.0   \n",
       "\n",
       "   HelmertEncoder_capitalgain_3  ...  HelmertEncoder_native-country_34  \\\n",
       "0                          -1.0  ...                         -0.034332   \n",
       "1                          -1.0  ...                         -0.034332   \n",
       "2                          -1.0  ...                         -0.034332   \n",
       "3                          -1.0  ...                         -0.034332   \n",
       "4                          -1.0  ...                         -0.034332   \n",
       "\n",
       "   HelmertEncoder_native-country_35  HelmertEncoder_native-country_36  \\\n",
       "0                         -0.047411                         -0.028698   \n",
       "1                         -0.047411                         -0.028698   \n",
       "2                         -0.047411                         -0.028698   \n",
       "3                         -0.047411                         -0.028698   \n",
       "4                         -0.047411                         -0.028698   \n",
       "\n",
       "   HelmertEncoder_native-country_37  HelmertEncoder_native-country_38  \\\n",
       "0                         -0.040404                         -0.020771   \n",
       "1                         -0.040404                         -0.020771   \n",
       "2                         -0.040404                         -0.020771   \n",
       "3                         -0.040404                         -0.020771   \n",
       "4                         -0.040404                         -0.020771   \n",
       "\n",
       "   fnlwgt_/_education-num  fnlwgt_-_education-num  education-num_/_fnlwgt  \\\n",
       "0               -0.993707               -1.393774                1.279582   \n",
       "1               -0.684578               -0.445501                0.222263   \n",
       "2                0.719357                0.647444               -0.636650   \n",
       "3               -0.855686               -1.203579                0.649488   \n",
       "4               -1.156498               -1.618104                3.085444   \n",
       "\n",
       "   education-num_-_fnlwgt  fnlwgt_*_education-num  \n",
       "0                1.393774               -1.286950  \n",
       "1                0.445501                0.118233  \n",
       "2               -0.647444                0.115378  \n",
       "3                1.203579               -1.135171  \n",
       "4                1.618104               -1.465968  \n",
       "\n",
       "[5 rows x 279 columns]"
      ],
      "text/html": "<div>\n<style scoped>\n    .dataframe tbody tr th:only-of-type {\n        vertical-align: middle;\n    }\n\n    .dataframe tbody tr th {\n        vertical-align: top;\n    }\n\n    .dataframe thead th {\n        text-align: right;\n    }\n</style>\n<table border=\"1\" class=\"dataframe\">\n  <thead>\n    <tr style=\"text-align: right;\">\n      <th></th>\n      <th>sex</th>\n      <th>HelmertEncoder_age_3</th>\n      <th>HelmertEncoder_workclass_7</th>\n      <th>HelmertEncoder_education_14</th>\n      <th>HelmertEncoder_education-num_14</th>\n      <th>HelmertEncoder_marital-status_5</th>\n      <th>HelmertEncoder_occupation_13</th>\n      <th>HelmertEncoder_relationship_4</th>\n      <th>HelmertEncoder_race_3</th>\n      <th>HelmertEncoder_capitalgain_3</th>\n      <th>...</th>\n      <th>HelmertEncoder_native-country_34</th>\n      <th>HelmertEncoder_native-country_35</th>\n      <th>HelmertEncoder_native-country_36</th>\n      <th>HelmertEncoder_native-country_37</th>\n      <th>HelmertEncoder_native-country_38</th>\n      <th>fnlwgt_/_education-num</th>\n      <th>fnlwgt_-_education-num</th>\n      <th>education-num_/_fnlwgt</th>\n      <th>education-num_-_fnlwgt</th>\n      <th>fnlwgt_*_education-num</th>\n    </tr>\n  </thead>\n  <tbody>\n    <tr>\n      <th>0</th>\n      <td>1</td>\n      <td>-1.0</td>\n      <td>-1.0</td>\n      <td>-1.0</td>\n      <td>-1.0</td>\n      <td>-1.0</td>\n      <td>-1.0</td>\n      <td>-1.0</td>\n      <td>-1.0</td>\n      <td>-1.0</td>\n      <td>...</td>\n      <td>-0.034332</td>\n      <td>-0.047411</td>\n      <td>-0.028698</td>\n      <td>-0.040404</td>\n      <td>-0.020771</td>\n      <td>-0.993707</td>\n      <td>-1.393774</td>\n      <td>1.279582</td>\n      <td>1.393774</td>\n      <td>-1.286950</td>\n    </tr>\n    <tr>\n      <th>1</th>\n      <td>1</td>\n      <td>-1.0</td>\n      <td>-1.0</td>\n      <td>-1.0</td>\n      <td>-1.0</td>\n      <td>-1.0</td>\n      <td>-1.0</td>\n      <td>-1.0</td>\n      <td>-1.0</td>\n      <td>-1.0</td>\n      <td>...</td>\n      <td>-0.034332</td>\n      <td>-0.047411</td>\n      <td>-0.028698</td>\n      <td>-0.040404</td>\n      <td>-0.020771</td>\n      <td>-0.684578</td>\n      <td>-0.445501</td>\n      <td>0.222263</td>\n      <td>0.445501</td>\n      <td>0.118233</td>\n    </tr>\n    <tr>\n      <th>2</th>\n      <td>1</td>\n      <td>-1.0</td>\n      <td>-1.0</td>\n      <td>-1.0</td>\n      <td>-1.0</td>\n      <td>-1.0</td>\n      <td>-1.0</td>\n      <td>-1.0</td>\n      <td>-1.0</td>\n      <td>-1.0</td>\n      <td>...</td>\n      <td>-0.034332</td>\n      <td>-0.047411</td>\n      <td>-0.028698</td>\n      <td>-0.040404</td>\n      <td>-0.020771</td>\n      <td>0.719357</td>\n      <td>0.647444</td>\n      <td>-0.636650</td>\n      <td>-0.647444</td>\n      <td>0.115378</td>\n    </tr>\n    <tr>\n      <th>3</th>\n      <td>1</td>\n      <td>-1.0</td>\n      <td>-1.0</td>\n      <td>-1.0</td>\n      <td>-1.0</td>\n      <td>-1.0</td>\n      <td>-1.0</td>\n      <td>-1.0</td>\n      <td>-1.0</td>\n      <td>-1.0</td>\n      <td>...</td>\n      <td>-0.034332</td>\n      <td>-0.047411</td>\n      <td>-0.028698</td>\n      <td>-0.040404</td>\n      <td>-0.020771</td>\n      <td>-0.855686</td>\n      <td>-1.203579</td>\n      <td>0.649488</td>\n      <td>1.203579</td>\n      <td>-1.135171</td>\n    </tr>\n    <tr>\n      <th>4</th>\n      <td>1</td>\n      <td>-1.0</td>\n      <td>-1.0</td>\n      <td>-1.0</td>\n      <td>-1.0</td>\n      <td>-1.0</td>\n      <td>-1.0</td>\n      <td>-1.0</td>\n      <td>-1.0</td>\n      <td>-1.0</td>\n      <td>...</td>\n      <td>-0.034332</td>\n      <td>-0.047411</td>\n      <td>-0.028698</td>\n      <td>-0.040404</td>\n      <td>-0.020771</td>\n      <td>-1.156498</td>\n      <td>-1.618104</td>\n      <td>3.085444</td>\n      <td>1.618104</td>\n      <td>-1.465968</td>\n    </tr>\n  </tbody>\n</table>\n<p>5 rows × 279 columns</p>\n</div>"
     },
     "metadata": {},
     "execution_count": 7
    }
   ],
   "source": [
    "clean_X_train.head(5)"
   ]
  },
  {
   "source": [
    "<img src=\"./img/magic.gif\" width=\"400\">"
   ],
   "cell_type": "markdown",
   "metadata": {}
  },
  {
   "cell_type": "code",
   "execution_count": 8,
   "metadata": {},
   "outputs": [
    {
     "output_type": "stream",
     "name": "stderr",
     "text": [
      "06:32:40 | ##################################################\n",
      "06:32:40 | ! Start Transform Data\n",
      "06:32:40 | > Clean Binary Features\n",
      "06:32:40 | > Clean Categorical Features\n",
      "06:32:40 | > Transform Categorical Features.\n",
      "06:32:40 |  - Encoder: HelmertEncoder ADD features: 123\n",
      "06:32:40 |  - Encoder: OneHotEncoder ADD features: 135\n",
      "06:32:40 | > Generate interaction Num Features\n",
      "06:32:40 |  ADD features: 5\n",
      "06:32:40 | > Normalization Features\n",
      "06:32:40 | ##################################################\n",
      "06:32:40 | Final data shape: (9769, 279)\n",
      "06:32:40 | Total ADD columns: 265\n",
      "06:32:40 | ##################################################\n"
     ]
    }
   ],
   "source": [
    "clean_X_test = de.transform(X_test)"
   ]
  },
  {
   "cell_type": "code",
   "execution_count": 9,
   "metadata": {},
   "outputs": [
    {
     "output_type": "execute_result",
     "data": {
      "text/plain": [
       "   sex  HelmertEncoder_age_3  HelmertEncoder_workclass_7  \\\n",
       "0    1                   4.0                        -1.0   \n",
       "1    0                   4.0                        -1.0   \n",
       "2    1                   4.0                        -1.0   \n",
       "3    0                   4.0                        -1.0   \n",
       "4    1                  -1.0                        -1.0   \n",
       "\n",
       "   HelmertEncoder_education_14  HelmertEncoder_education-num_14  \\\n",
       "0                         -1.0                             -1.0   \n",
       "1                         -1.0                             -1.0   \n",
       "2                         -1.0                             -1.0   \n",
       "3                         -1.0                             -1.0   \n",
       "4                         -1.0                             -1.0   \n",
       "\n",
       "   HelmertEncoder_marital-status_5  HelmertEncoder_occupation_13  \\\n",
       "0                             -1.0                          -1.0   \n",
       "1                             -1.0                          -1.0   \n",
       "2                             -1.0                          -1.0   \n",
       "3                             -1.0                          -1.0   \n",
       "4                             -1.0                          -1.0   \n",
       "\n",
       "   HelmertEncoder_relationship_4  HelmertEncoder_race_3  \\\n",
       "0                           -1.0                   -1.0   \n",
       "1                           -1.0                   -1.0   \n",
       "2                           -1.0                   -1.0   \n",
       "3                           -1.0                   -1.0   \n",
       "4                           -1.0                    4.0   \n",
       "\n",
       "   HelmertEncoder_capitalgain_3  ...  HelmertEncoder_native-country_34  \\\n",
       "0                          -1.0  ...                         -0.034332   \n",
       "1                          -1.0  ...                         -0.034332   \n",
       "2                          -1.0  ...                         -0.034332   \n",
       "3                          -1.0  ...                         -0.034332   \n",
       "4                          -1.0  ...                         -0.034332   \n",
       "\n",
       "   HelmertEncoder_native-country_35  HelmertEncoder_native-country_36  \\\n",
       "0                         -0.047411                         -0.028698   \n",
       "1                         -0.047411                         -0.028698   \n",
       "2                         -0.047411                         -0.028698   \n",
       "3                         -0.047411                         -0.028698   \n",
       "4                         -0.047411                         -0.028698   \n",
       "\n",
       "   HelmertEncoder_native-country_37  HelmertEncoder_native-country_38  \\\n",
       "0                         -0.040404                         -0.020771   \n",
       "1                         -0.040404                         -0.020771   \n",
       "2                         -0.040404                         -0.020771   \n",
       "3                         -0.040404                         -0.020771   \n",
       "4                         -0.040404                         -0.020771   \n",
       "\n",
       "   fnlwgt_/_education-num  fnlwgt_-_education-num  education-num_/_fnlwgt  \\\n",
       "0                1.743411                2.378030               -0.774084   \n",
       "1                0.113351               -0.094857               -0.465758   \n",
       "2                1.199047                1.627886               -0.714685   \n",
       "3                0.077113                0.302920               -0.450994   \n",
       "4                0.427323                0.564434               -0.568708   \n",
       "\n",
       "   education-num_-_fnlwgt  fnlwgt_*_education-num  \n",
       "0               -2.378030                1.723003  \n",
       "1                0.094857               -0.411171  \n",
       "2               -1.627886                1.124377  \n",
       "3               -0.302920                0.263083  \n",
       "4               -0.564434                0.275728  \n",
       "\n",
       "[5 rows x 279 columns]"
      ],
      "text/html": "<div>\n<style scoped>\n    .dataframe tbody tr th:only-of-type {\n        vertical-align: middle;\n    }\n\n    .dataframe tbody tr th {\n        vertical-align: top;\n    }\n\n    .dataframe thead th {\n        text-align: right;\n    }\n</style>\n<table border=\"1\" class=\"dataframe\">\n  <thead>\n    <tr style=\"text-align: right;\">\n      <th></th>\n      <th>sex</th>\n      <th>HelmertEncoder_age_3</th>\n      <th>HelmertEncoder_workclass_7</th>\n      <th>HelmertEncoder_education_14</th>\n      <th>HelmertEncoder_education-num_14</th>\n      <th>HelmertEncoder_marital-status_5</th>\n      <th>HelmertEncoder_occupation_13</th>\n      <th>HelmertEncoder_relationship_4</th>\n      <th>HelmertEncoder_race_3</th>\n      <th>HelmertEncoder_capitalgain_3</th>\n      <th>...</th>\n      <th>HelmertEncoder_native-country_34</th>\n      <th>HelmertEncoder_native-country_35</th>\n      <th>HelmertEncoder_native-country_36</th>\n      <th>HelmertEncoder_native-country_37</th>\n      <th>HelmertEncoder_native-country_38</th>\n      <th>fnlwgt_/_education-num</th>\n      <th>fnlwgt_-_education-num</th>\n      <th>education-num_/_fnlwgt</th>\n      <th>education-num_-_fnlwgt</th>\n      <th>fnlwgt_*_education-num</th>\n    </tr>\n  </thead>\n  <tbody>\n    <tr>\n      <th>0</th>\n      <td>1</td>\n      <td>4.0</td>\n      <td>-1.0</td>\n      <td>-1.0</td>\n      <td>-1.0</td>\n      <td>-1.0</td>\n      <td>-1.0</td>\n      <td>-1.0</td>\n      <td>-1.0</td>\n      <td>-1.0</td>\n      <td>...</td>\n      <td>-0.034332</td>\n      <td>-0.047411</td>\n      <td>-0.028698</td>\n      <td>-0.040404</td>\n      <td>-0.020771</td>\n      <td>1.743411</td>\n      <td>2.378030</td>\n      <td>-0.774084</td>\n      <td>-2.378030</td>\n      <td>1.723003</td>\n    </tr>\n    <tr>\n      <th>1</th>\n      <td>0</td>\n      <td>4.0</td>\n      <td>-1.0</td>\n      <td>-1.0</td>\n      <td>-1.0</td>\n      <td>-1.0</td>\n      <td>-1.0</td>\n      <td>-1.0</td>\n      <td>-1.0</td>\n      <td>-1.0</td>\n      <td>...</td>\n      <td>-0.034332</td>\n      <td>-0.047411</td>\n      <td>-0.028698</td>\n      <td>-0.040404</td>\n      <td>-0.020771</td>\n      <td>0.113351</td>\n      <td>-0.094857</td>\n      <td>-0.465758</td>\n      <td>0.094857</td>\n      <td>-0.411171</td>\n    </tr>\n    <tr>\n      <th>2</th>\n      <td>1</td>\n      <td>4.0</td>\n      <td>-1.0</td>\n      <td>-1.0</td>\n      <td>-1.0</td>\n      <td>-1.0</td>\n      <td>-1.0</td>\n      <td>-1.0</td>\n      <td>-1.0</td>\n      <td>-1.0</td>\n      <td>...</td>\n      <td>-0.034332</td>\n      <td>-0.047411</td>\n      <td>-0.028698</td>\n      <td>-0.040404</td>\n      <td>-0.020771</td>\n      <td>1.199047</td>\n      <td>1.627886</td>\n      <td>-0.714685</td>\n      <td>-1.627886</td>\n      <td>1.124377</td>\n    </tr>\n    <tr>\n      <th>3</th>\n      <td>0</td>\n      <td>4.0</td>\n      <td>-1.0</td>\n      <td>-1.0</td>\n      <td>-1.0</td>\n      <td>-1.0</td>\n      <td>-1.0</td>\n      <td>-1.0</td>\n      <td>-1.0</td>\n      <td>-1.0</td>\n      <td>...</td>\n      <td>-0.034332</td>\n      <td>-0.047411</td>\n      <td>-0.028698</td>\n      <td>-0.040404</td>\n      <td>-0.020771</td>\n      <td>0.077113</td>\n      <td>0.302920</td>\n      <td>-0.450994</td>\n      <td>-0.302920</td>\n      <td>0.263083</td>\n    </tr>\n    <tr>\n      <th>4</th>\n      <td>1</td>\n      <td>-1.0</td>\n      <td>-1.0</td>\n      <td>-1.0</td>\n      <td>-1.0</td>\n      <td>-1.0</td>\n      <td>-1.0</td>\n      <td>-1.0</td>\n      <td>4.0</td>\n      <td>-1.0</td>\n      <td>...</td>\n      <td>-0.034332</td>\n      <td>-0.047411</td>\n      <td>-0.028698</td>\n      <td>-0.040404</td>\n      <td>-0.020771</td>\n      <td>0.427323</td>\n      <td>0.564434</td>\n      <td>-0.568708</td>\n      <td>-0.564434</td>\n      <td>0.275728</td>\n    </tr>\n  </tbody>\n</table>\n<p>5 rows × 279 columns</p>\n</div>"
     },
     "metadata": {},
     "execution_count": 9
    }
   ],
   "source": [
    "clean_X_test.head(5)"
   ]
  },
  {
   "source": [
    "## Save and Load\n",
    "separate transform allows us to save and transfer processing to new data \n",
    "[RUS] раздельный transform позволяет нам сохранять и переносить обработку на новые данные"
   ],
   "cell_type": "markdown",
   "metadata": {}
  },
  {
   "cell_type": "code",
   "execution_count": 12,
   "metadata": {},
   "outputs": [
    {
     "output_type": "stream",
     "name": "stderr",
     "text": [
      "06:32:49 | Save DataPrepare\n"
     ]
    }
   ],
   "source": [
    "de.save('de', folder='./save/')"
   ]
  },
  {
   "cell_type": "code",
   "execution_count": 13,
   "metadata": {},
   "outputs": [
    {
     "output_type": "stream",
     "name": "stderr",
     "text": [
      "06:32:50 | Load DataPrepare\n"
     ]
    }
   ],
   "source": [
    "de_new = DataPrepare()\n",
    "de_new = de.load('de', folder='./save/')"
   ]
  },
  {
   "cell_type": "code",
   "execution_count": 14,
   "metadata": {},
   "outputs": [
    {
     "output_type": "stream",
     "name": "stderr",
     "text": [
      "06:32:50 | ##################################################\n",
      "06:32:50 | ! Start Transform Data\n",
      "06:32:50 | > Clean Binary Features\n",
      "06:32:50 | > Clean Categorical Features\n",
      "06:32:50 | > Transform Categorical Features.\n",
      "06:32:50 |  - Encoder: HelmertEncoder ADD features: 123\n",
      "06:32:50 |  - Encoder: OneHotEncoder ADD features: 135\n",
      "06:32:51 | > Generate interaction Num Features\n",
      "06:32:51 |  ADD features: 5\n",
      "06:32:51 | > Normalization Features\n",
      "06:32:51 | ##################################################\n",
      "06:32:51 | Final data shape: (9769, 279)\n",
      "06:32:51 | Total ADD columns: 265\n",
      "06:32:51 | ##################################################\n"
     ]
    },
    {
     "output_type": "execute_result",
     "data": {
      "text/plain": [
       "   sex  HelmertEncoder_age_3  HelmertEncoder_workclass_7  \\\n",
       "0    1                   4.0                        -1.0   \n",
       "1    0                   4.0                        -1.0   \n",
       "2    1                   4.0                        -1.0   \n",
       "3    0                   4.0                        -1.0   \n",
       "4    1                  -1.0                        -1.0   \n",
       "\n",
       "   HelmertEncoder_education_14  HelmertEncoder_education-num_14  \\\n",
       "0                         -1.0                             -1.0   \n",
       "1                         -1.0                             -1.0   \n",
       "2                         -1.0                             -1.0   \n",
       "3                         -1.0                             -1.0   \n",
       "4                         -1.0                             -1.0   \n",
       "\n",
       "   HelmertEncoder_marital-status_5  HelmertEncoder_occupation_13  \\\n",
       "0                             -1.0                          -1.0   \n",
       "1                             -1.0                          -1.0   \n",
       "2                             -1.0                          -1.0   \n",
       "3                             -1.0                          -1.0   \n",
       "4                             -1.0                          -1.0   \n",
       "\n",
       "   HelmertEncoder_relationship_4  HelmertEncoder_race_3  \\\n",
       "0                           -1.0                   -1.0   \n",
       "1                           -1.0                   -1.0   \n",
       "2                           -1.0                   -1.0   \n",
       "3                           -1.0                   -1.0   \n",
       "4                           -1.0                    4.0   \n",
       "\n",
       "   HelmertEncoder_capitalgain_3  ...  HelmertEncoder_native-country_34  \\\n",
       "0                          -1.0  ...                         -0.034332   \n",
       "1                          -1.0  ...                         -0.034332   \n",
       "2                          -1.0  ...                         -0.034332   \n",
       "3                          -1.0  ...                         -0.034332   \n",
       "4                          -1.0  ...                         -0.034332   \n",
       "\n",
       "   HelmertEncoder_native-country_35  HelmertEncoder_native-country_36  \\\n",
       "0                         -0.047411                         -0.028698   \n",
       "1                         -0.047411                         -0.028698   \n",
       "2                         -0.047411                         -0.028698   \n",
       "3                         -0.047411                         -0.028698   \n",
       "4                         -0.047411                         -0.028698   \n",
       "\n",
       "   HelmertEncoder_native-country_37  HelmertEncoder_native-country_38  \\\n",
       "0                         -0.040404                         -0.020771   \n",
       "1                         -0.040404                         -0.020771   \n",
       "2                         -0.040404                         -0.020771   \n",
       "3                         -0.040404                         -0.020771   \n",
       "4                         -0.040404                         -0.020771   \n",
       "\n",
       "   fnlwgt_/_education-num  fnlwgt_-_education-num  education-num_/_fnlwgt  \\\n",
       "0                1.743411                2.378030               -0.774084   \n",
       "1                0.113351               -0.094857               -0.465758   \n",
       "2                1.199047                1.627886               -0.714685   \n",
       "3                0.077113                0.302920               -0.450994   \n",
       "4                0.427323                0.564434               -0.568708   \n",
       "\n",
       "   education-num_-_fnlwgt  fnlwgt_*_education-num  \n",
       "0               -2.378030                1.723003  \n",
       "1                0.094857               -0.411171  \n",
       "2               -1.627886                1.124377  \n",
       "3               -0.302920                0.263083  \n",
       "4               -0.564434                0.275728  \n",
       "\n",
       "[5 rows x 279 columns]"
      ],
      "text/html": "<div>\n<style scoped>\n    .dataframe tbody tr th:only-of-type {\n        vertical-align: middle;\n    }\n\n    .dataframe tbody tr th {\n        vertical-align: top;\n    }\n\n    .dataframe thead th {\n        text-align: right;\n    }\n</style>\n<table border=\"1\" class=\"dataframe\">\n  <thead>\n    <tr style=\"text-align: right;\">\n      <th></th>\n      <th>sex</th>\n      <th>HelmertEncoder_age_3</th>\n      <th>HelmertEncoder_workclass_7</th>\n      <th>HelmertEncoder_education_14</th>\n      <th>HelmertEncoder_education-num_14</th>\n      <th>HelmertEncoder_marital-status_5</th>\n      <th>HelmertEncoder_occupation_13</th>\n      <th>HelmertEncoder_relationship_4</th>\n      <th>HelmertEncoder_race_3</th>\n      <th>HelmertEncoder_capitalgain_3</th>\n      <th>...</th>\n      <th>HelmertEncoder_native-country_34</th>\n      <th>HelmertEncoder_native-country_35</th>\n      <th>HelmertEncoder_native-country_36</th>\n      <th>HelmertEncoder_native-country_37</th>\n      <th>HelmertEncoder_native-country_38</th>\n      <th>fnlwgt_/_education-num</th>\n      <th>fnlwgt_-_education-num</th>\n      <th>education-num_/_fnlwgt</th>\n      <th>education-num_-_fnlwgt</th>\n      <th>fnlwgt_*_education-num</th>\n    </tr>\n  </thead>\n  <tbody>\n    <tr>\n      <th>0</th>\n      <td>1</td>\n      <td>4.0</td>\n      <td>-1.0</td>\n      <td>-1.0</td>\n      <td>-1.0</td>\n      <td>-1.0</td>\n      <td>-1.0</td>\n      <td>-1.0</td>\n      <td>-1.0</td>\n      <td>-1.0</td>\n      <td>...</td>\n      <td>-0.034332</td>\n      <td>-0.047411</td>\n      <td>-0.028698</td>\n      <td>-0.040404</td>\n      <td>-0.020771</td>\n      <td>1.743411</td>\n      <td>2.378030</td>\n      <td>-0.774084</td>\n      <td>-2.378030</td>\n      <td>1.723003</td>\n    </tr>\n    <tr>\n      <th>1</th>\n      <td>0</td>\n      <td>4.0</td>\n      <td>-1.0</td>\n      <td>-1.0</td>\n      <td>-1.0</td>\n      <td>-1.0</td>\n      <td>-1.0</td>\n      <td>-1.0</td>\n      <td>-1.0</td>\n      <td>-1.0</td>\n      <td>...</td>\n      <td>-0.034332</td>\n      <td>-0.047411</td>\n      <td>-0.028698</td>\n      <td>-0.040404</td>\n      <td>-0.020771</td>\n      <td>0.113351</td>\n      <td>-0.094857</td>\n      <td>-0.465758</td>\n      <td>0.094857</td>\n      <td>-0.411171</td>\n    </tr>\n    <tr>\n      <th>2</th>\n      <td>1</td>\n      <td>4.0</td>\n      <td>-1.0</td>\n      <td>-1.0</td>\n      <td>-1.0</td>\n      <td>-1.0</td>\n      <td>-1.0</td>\n      <td>-1.0</td>\n      <td>-1.0</td>\n      <td>-1.0</td>\n      <td>...</td>\n      <td>-0.034332</td>\n      <td>-0.047411</td>\n      <td>-0.028698</td>\n      <td>-0.040404</td>\n      <td>-0.020771</td>\n      <td>1.199047</td>\n      <td>1.627886</td>\n      <td>-0.714685</td>\n      <td>-1.627886</td>\n      <td>1.124377</td>\n    </tr>\n    <tr>\n      <th>3</th>\n      <td>0</td>\n      <td>4.0</td>\n      <td>-1.0</td>\n      <td>-1.0</td>\n      <td>-1.0</td>\n      <td>-1.0</td>\n      <td>-1.0</td>\n      <td>-1.0</td>\n      <td>-1.0</td>\n      <td>-1.0</td>\n      <td>...</td>\n      <td>-0.034332</td>\n      <td>-0.047411</td>\n      <td>-0.028698</td>\n      <td>-0.040404</td>\n      <td>-0.020771</td>\n      <td>0.077113</td>\n      <td>0.302920</td>\n      <td>-0.450994</td>\n      <td>-0.302920</td>\n      <td>0.263083</td>\n    </tr>\n    <tr>\n      <th>4</th>\n      <td>1</td>\n      <td>-1.0</td>\n      <td>-1.0</td>\n      <td>-1.0</td>\n      <td>-1.0</td>\n      <td>-1.0</td>\n      <td>-1.0</td>\n      <td>-1.0</td>\n      <td>4.0</td>\n      <td>-1.0</td>\n      <td>...</td>\n      <td>-0.034332</td>\n      <td>-0.047411</td>\n      <td>-0.028698</td>\n      <td>-0.040404</td>\n      <td>-0.020771</td>\n      <td>0.427323</td>\n      <td>0.564434</td>\n      <td>-0.568708</td>\n      <td>-0.564434</td>\n      <td>0.275728</td>\n    </tr>\n  </tbody>\n</table>\n<p>5 rows × 279 columns</p>\n</div>"
     },
     "metadata": {},
     "execution_count": 14
    }
   ],
   "source": [
    "de_new.transform(X_test).head(5)"
   ]
  },
  {
   "cell_type": "markdown",
   "metadata": {},
   "source": [
    "# Feature Engineering"
   ]
  },
  {
   "cell_type": "markdown",
   "metadata": {},
   "source": [
    "## Categorical Features \n",
    "### Encoders"
   ]
  },
  {
   "cell_type": "code",
   "execution_count": 15,
   "metadata": {
    "ExecuteTime": {
     "end_time": "2020-05-07T04:24:11.951750Z",
     "start_time": "2020-05-07T04:24:11.945886Z"
    }
   },
   "outputs": [
    {
     "output_type": "execute_result",
     "data": {
      "text/plain": [
       "{'HashingEncoder': category_encoders.hashing.HashingEncoder,\n",
       " 'SumEncoder': category_encoders.sum_coding.SumEncoder,\n",
       " 'BackwardDifferenceEncoder': category_encoders.backward_difference.BackwardDifferenceEncoder,\n",
       " 'OneHotEncoder': category_encoders.one_hot.OneHotEncoder,\n",
       " 'HelmertEncoder': category_encoders.helmert.HelmertEncoder,\n",
       " 'BaseNEncoder': category_encoders.basen.BaseNEncoder,\n",
       " 'CountEncoder': category_encoders.count.CountEncoder}"
      ]
     },
     "metadata": {},
     "execution_count": 15
    }
   ],
   "source": [
    "# available Encoders:\n",
    "automl_alex._encoders.cat_encoders_names"
   ]
  },
  {
   "source": [
    "you can use any encoders for categorical features, combining their results (if you have enough memory)"
   ],
   "cell_type": "markdown",
   "metadata": {}
  },
  {
   "cell_type": "code",
   "execution_count": 16,
   "metadata": {},
   "outputs": [
    {
     "output_type": "execute_result",
     "data": {
      "text/plain": [
       "              workclass      marital-status\n",
       "37193           Private  Married-civ-spouse\n",
       "31093         State-gov  Married-civ-spouse\n",
       "33814         Local-gov  Married-civ-spouse\n",
       "14500           Private            Divorced\n",
       "23399  Self-emp-not-inc             Widowed"
      ],
      "text/html": "<div>\n<style scoped>\n    .dataframe tbody tr th:only-of-type {\n        vertical-align: middle;\n    }\n\n    .dataframe tbody tr th {\n        vertical-align: top;\n    }\n\n    .dataframe thead th {\n        text-align: right;\n    }\n</style>\n<table border=\"1\" class=\"dataframe\">\n  <thead>\n    <tr style=\"text-align: right;\">\n      <th></th>\n      <th>workclass</th>\n      <th>marital-status</th>\n    </tr>\n  </thead>\n  <tbody>\n    <tr>\n      <th>37193</th>\n      <td>Private</td>\n      <td>Married-civ-spouse</td>\n    </tr>\n    <tr>\n      <th>31093</th>\n      <td>State-gov</td>\n      <td>Married-civ-spouse</td>\n    </tr>\n    <tr>\n      <th>33814</th>\n      <td>Local-gov</td>\n      <td>Married-civ-spouse</td>\n    </tr>\n    <tr>\n      <th>14500</th>\n      <td>Private</td>\n      <td>Divorced</td>\n    </tr>\n    <tr>\n      <th>23399</th>\n      <td>Self-emp-not-inc</td>\n      <td>Widowed</td>\n    </tr>\n  </tbody>\n</table>\n</div>"
     },
     "metadata": {},
     "execution_count": 16
    }
   ],
   "source": [
    "X_train[['workclass','marital-status']].head(5)"
   ]
  },
  {
   "cell_type": "code",
   "execution_count": 17,
   "metadata": {
    "ExecuteTime": {
     "end_time": "2020-05-07T04:24:13.268269Z",
     "start_time": "2020-05-07T04:24:11.964195Z"
    },
    "tags": []
   },
   "outputs": [
    {
     "output_type": "stream",
     "name": "stderr",
     "text": [
      "06:32:57 | Source data shape: (39073, 2)\n",
      "06:32:57 | ##################################################\n",
      "06:32:57 | ! START preprocessing Data\n",
      "06:32:57 | - Auto detect cat features: 2\n",
      "06:32:57 | > Clean Categorical Features\n",
      "06:32:57 | > Transform Categorical Features.\n",
      "06:32:57 |  - Encoder: OneHotEncoder ADD features: 16\n",
      "06:32:57 |   No nans features\n",
      "06:32:57 | > CleanOutliers\n",
      "06:32:57 | > Normalization Features\n",
      "06:32:57 | ##################################################\n",
      "06:32:57 | Final data shape: (39073, 18)\n",
      "06:32:57 | Total ADD columns: 16\n",
      "06:32:57 | ##################################################\n"
     ]
    }
   ],
   "source": [
    "de = DataPrepare(\n",
    "    cat_encoder_names=['OneHotEncoder',], # Encoders list for Generator cat encodet features\n",
    "    )  \n",
    "clean_X_train = de.fit_transform(X_train[['workclass','marital-status']])"
   ]
  },
  {
   "cell_type": "code",
   "execution_count": 18,
   "metadata": {},
   "outputs": [
    {
     "output_type": "execute_result",
     "data": {
      "text/plain": [
       "   OneHotEncoder_workclass_1  OneHotEncoder_workclass_2  \\\n",
       "0                          1                          0   \n",
       "1                          0                          1   \n",
       "2                          0                          0   \n",
       "3                          1                          0   \n",
       "4                          0                          0   \n",
       "\n",
       "   OneHotEncoder_workclass_3  OneHotEncoder_workclass_4  \\\n",
       "0                          0                          0   \n",
       "1                          0                          0   \n",
       "2                          1                          0   \n",
       "3                          0                          0   \n",
       "4                          0                          1   \n",
       "\n",
       "   OneHotEncoder_workclass_5  OneHotEncoder_workclass_6  \\\n",
       "0                          0                          0   \n",
       "1                          0                          0   \n",
       "2                          0                          0   \n",
       "3                          0                          0   \n",
       "4                          0                          0   \n",
       "\n",
       "   OneHotEncoder_workclass_7  OneHotEncoder_workclass_8  \\\n",
       "0                          0                          0   \n",
       "1                          0                          0   \n",
       "2                          0                          0   \n",
       "3                          0                          0   \n",
       "4                          0                          0   \n",
       "\n",
       "   OneHotEncoder_workclass_9  OneHotEncoder_marital-status_1  \\\n",
       "0                          0                               1   \n",
       "1                          0                               1   \n",
       "2                          0                               1   \n",
       "3                          0                               0   \n",
       "4                          0                               0   \n",
       "\n",
       "   OneHotEncoder_marital-status_2  OneHotEncoder_marital-status_3  \\\n",
       "0                               0                               0   \n",
       "1                               0                               0   \n",
       "2                               0                               0   \n",
       "3                               1                               0   \n",
       "4                               0                               1   \n",
       "\n",
       "   OneHotEncoder_marital-status_4  OneHotEncoder_marital-status_5  \\\n",
       "0                               0                               0   \n",
       "1                               0                               0   \n",
       "2                               0                               0   \n",
       "3                               0                               0   \n",
       "4                               0                               0   \n",
       "\n",
       "   OneHotEncoder_marital-status_6  OneHotEncoder_marital-status_7  workclass  \\\n",
       "0                               0                               0  -0.578503   \n",
       "1                               0                               0   0.008976   \n",
       "2                               0                               0   0.596455   \n",
       "3                               0                               0  -0.578503   \n",
       "4                               0                               0   1.183934   \n",
       "\n",
       "   marital-status  \n",
       "0       -0.938503  \n",
       "1       -0.938503  \n",
       "2       -0.938503  \n",
       "3       -0.259678  \n",
       "4        0.419147  "
      ],
      "text/html": "<div>\n<style scoped>\n    .dataframe tbody tr th:only-of-type {\n        vertical-align: middle;\n    }\n\n    .dataframe tbody tr th {\n        vertical-align: top;\n    }\n\n    .dataframe thead th {\n        text-align: right;\n    }\n</style>\n<table border=\"1\" class=\"dataframe\">\n  <thead>\n    <tr style=\"text-align: right;\">\n      <th></th>\n      <th>OneHotEncoder_workclass_1</th>\n      <th>OneHotEncoder_workclass_2</th>\n      <th>OneHotEncoder_workclass_3</th>\n      <th>OneHotEncoder_workclass_4</th>\n      <th>OneHotEncoder_workclass_5</th>\n      <th>OneHotEncoder_workclass_6</th>\n      <th>OneHotEncoder_workclass_7</th>\n      <th>OneHotEncoder_workclass_8</th>\n      <th>OneHotEncoder_workclass_9</th>\n      <th>OneHotEncoder_marital-status_1</th>\n      <th>OneHotEncoder_marital-status_2</th>\n      <th>OneHotEncoder_marital-status_3</th>\n      <th>OneHotEncoder_marital-status_4</th>\n      <th>OneHotEncoder_marital-status_5</th>\n      <th>OneHotEncoder_marital-status_6</th>\n      <th>OneHotEncoder_marital-status_7</th>\n      <th>workclass</th>\n      <th>marital-status</th>\n    </tr>\n  </thead>\n  <tbody>\n    <tr>\n      <th>0</th>\n      <td>1</td>\n      <td>0</td>\n      <td>0</td>\n      <td>0</td>\n      <td>0</td>\n      <td>0</td>\n      <td>0</td>\n      <td>0</td>\n      <td>0</td>\n      <td>1</td>\n      <td>0</td>\n      <td>0</td>\n      <td>0</td>\n      <td>0</td>\n      <td>0</td>\n      <td>0</td>\n      <td>-0.578503</td>\n      <td>-0.938503</td>\n    </tr>\n    <tr>\n      <th>1</th>\n      <td>0</td>\n      <td>1</td>\n      <td>0</td>\n      <td>0</td>\n      <td>0</td>\n      <td>0</td>\n      <td>0</td>\n      <td>0</td>\n      <td>0</td>\n      <td>1</td>\n      <td>0</td>\n      <td>0</td>\n      <td>0</td>\n      <td>0</td>\n      <td>0</td>\n      <td>0</td>\n      <td>0.008976</td>\n      <td>-0.938503</td>\n    </tr>\n    <tr>\n      <th>2</th>\n      <td>0</td>\n      <td>0</td>\n      <td>1</td>\n      <td>0</td>\n      <td>0</td>\n      <td>0</td>\n      <td>0</td>\n      <td>0</td>\n      <td>0</td>\n      <td>1</td>\n      <td>0</td>\n      <td>0</td>\n      <td>0</td>\n      <td>0</td>\n      <td>0</td>\n      <td>0</td>\n      <td>0.596455</td>\n      <td>-0.938503</td>\n    </tr>\n    <tr>\n      <th>3</th>\n      <td>1</td>\n      <td>0</td>\n      <td>0</td>\n      <td>0</td>\n      <td>0</td>\n      <td>0</td>\n      <td>0</td>\n      <td>0</td>\n      <td>0</td>\n      <td>0</td>\n      <td>1</td>\n      <td>0</td>\n      <td>0</td>\n      <td>0</td>\n      <td>0</td>\n      <td>0</td>\n      <td>-0.578503</td>\n      <td>-0.259678</td>\n    </tr>\n    <tr>\n      <th>4</th>\n      <td>0</td>\n      <td>0</td>\n      <td>0</td>\n      <td>1</td>\n      <td>0</td>\n      <td>0</td>\n      <td>0</td>\n      <td>0</td>\n      <td>0</td>\n      <td>0</td>\n      <td>0</td>\n      <td>1</td>\n      <td>0</td>\n      <td>0</td>\n      <td>0</td>\n      <td>0</td>\n      <td>1.183934</td>\n      <td>0.419147</td>\n    </tr>\n  </tbody>\n</table>\n</div>"
     },
     "metadata": {},
     "execution_count": 18
    }
   ],
   "source": [
    "clean_X_train.head(5)"
   ]
  },
  {
   "source": [
    "**Encoder selection is important part of all AutoML**    "
   ],
   "cell_type": "markdown",
   "metadata": {}
  },
  {
   "cell_type": "markdown",
   "metadata": {},
   "source": [
    "## Numerical Features"
   ]
  },
  {
   "source": [
    "### Clean NANs"
   ],
   "cell_type": "markdown",
   "metadata": {}
  },
  {
   "cell_type": "code",
   "execution_count": 19,
   "metadata": {},
   "outputs": [
    {
     "output_type": "stream",
     "name": "stdout",
     "text": [
      "<class 'pandas.core.frame.DataFrame'>\nInt64Index: 39073 entries, 37193 to 15795\nData columns (total 14 columns):\n #   Column          Non-Null Count  Dtype   \n---  ------          --------------  -----   \n 0   age             39073 non-null  category\n 1   workclass       36851 non-null  category\n 2   fnlwgt          39073 non-null  float64 \n 3   education       39073 non-null  category\n 4   education-num   39073 non-null  float64 \n 5   marital-status  39073 non-null  category\n 6   occupation      36842 non-null  category\n 7   relationship    39073 non-null  category\n 8   race            39073 non-null  category\n 9   sex             39073 non-null  category\n 10  capitalgain     39073 non-null  category\n 11  capitalloss     39073 non-null  category\n 12  hoursperweek    39073 non-null  category\n 13  native-country  38396 non-null  category\ndtypes: category(12), float64(2)\nmemory usage: 1.3 MB\n"
     ]
    }
   ],
   "source": [
    "X_train.info()"
   ]
  },
  {
   "cell_type": "code",
   "execution_count": 20,
   "metadata": {},
   "outputs": [
    {
     "output_type": "execute_result",
     "data": {
      "text/plain": [
       "True"
      ]
     },
     "metadata": {},
     "execution_count": 20
    }
   ],
   "source": [
    "X_train.isnull().any().any()"
   ]
  },
  {
   "cell_type": "code",
   "execution_count": 21,
   "metadata": {},
   "outputs": [],
   "source": [
    "de = DataPrepare(\n",
    "    clean_nan=True,\n",
    "    verbose=0,\n",
    "    )\n",
    "clean_X_train = de.fit_transform(X_train)"
   ]
  },
  {
   "cell_type": "code",
   "execution_count": 22,
   "metadata": {},
   "outputs": [
    {
     "output_type": "execute_result",
     "data": {
      "text/plain": [
       "False"
      ]
     },
     "metadata": {},
     "execution_count": 22
    }
   ],
   "source": [
    "clean_X_train.isnull().any().any()"
   ]
  },
  {
   "source": [
    "## Clean Outliers\n",
    "remove outliers from your data.    \n",
    "Available two methods solution based on \"z score\" and solution based on \"IQR\". default \"IQR\" "
   ],
   "cell_type": "markdown",
   "metadata": {}
  },
  {
   "source": [
    "<img src=\"./img/boxplot.png\" width=\"600\">"
   ],
   "cell_type": "markdown",
   "metadata": {}
  },
  {
   "cell_type": "code",
   "execution_count": 23,
   "metadata": {},
   "outputs": [
    {
     "output_type": "execute_result",
     "data": {
      "text/plain": [
       "    checking_status  duration                  credit_history    purpose  \\\n",
       "29               <0      60.0              delayed previously   business   \n",
       "535           >=200      21.0  critical/other existing credit  education   \n",
       "695     no checking       6.0                   existing paid   used car   \n",
       "\n",
       "     credit_amount savings_status employment  installment_commitment  \\\n",
       "29          6836.0           <100        >=7                     3.0   \n",
       "535         2319.0           <100         <1                     2.0   \n",
       "695         1236.0    500<=X<1000     1<=X<4                     2.0   \n",
       "\n",
       "    personal_status other_parties  residence_since property_magnitude   age  \\\n",
       "29      male single          none              4.0  no known property  63.0   \n",
       "535    male div/sep          none              1.0                car  33.0   \n",
       "695     male single          none              4.0     life insurance  50.0   \n",
       "\n",
       "    other_payment_plans housing  existing_credits      job  num_dependents  \\\n",
       "29                 none     own               2.0  skilled             1.0   \n",
       "535                none    rent               1.0  skilled             1.0   \n",
       "695                none    rent               1.0  skilled             1.0   \n",
       "\n",
       "    own_telephone foreign_worker  \n",
       "29            yes            yes  \n",
       "535          none            yes  \n",
       "695          none            yes  "
      ],
      "text/html": "<div>\n<style scoped>\n    .dataframe tbody tr th:only-of-type {\n        vertical-align: middle;\n    }\n\n    .dataframe tbody tr th {\n        vertical-align: top;\n    }\n\n    .dataframe thead th {\n        text-align: right;\n    }\n</style>\n<table border=\"1\" class=\"dataframe\">\n  <thead>\n    <tr style=\"text-align: right;\">\n      <th></th>\n      <th>checking_status</th>\n      <th>duration</th>\n      <th>credit_history</th>\n      <th>purpose</th>\n      <th>credit_amount</th>\n      <th>savings_status</th>\n      <th>employment</th>\n      <th>installment_commitment</th>\n      <th>personal_status</th>\n      <th>other_parties</th>\n      <th>residence_since</th>\n      <th>property_magnitude</th>\n      <th>age</th>\n      <th>other_payment_plans</th>\n      <th>housing</th>\n      <th>existing_credits</th>\n      <th>job</th>\n      <th>num_dependents</th>\n      <th>own_telephone</th>\n      <th>foreign_worker</th>\n    </tr>\n  </thead>\n  <tbody>\n    <tr>\n      <th>29</th>\n      <td>&lt;0</td>\n      <td>60.0</td>\n      <td>delayed previously</td>\n      <td>business</td>\n      <td>6836.0</td>\n      <td>&lt;100</td>\n      <td>&gt;=7</td>\n      <td>3.0</td>\n      <td>male single</td>\n      <td>none</td>\n      <td>4.0</td>\n      <td>no known property</td>\n      <td>63.0</td>\n      <td>none</td>\n      <td>own</td>\n      <td>2.0</td>\n      <td>skilled</td>\n      <td>1.0</td>\n      <td>yes</td>\n      <td>yes</td>\n    </tr>\n    <tr>\n      <th>535</th>\n      <td>&gt;=200</td>\n      <td>21.0</td>\n      <td>critical/other existing credit</td>\n      <td>education</td>\n      <td>2319.0</td>\n      <td>&lt;100</td>\n      <td>&lt;1</td>\n      <td>2.0</td>\n      <td>male div/sep</td>\n      <td>none</td>\n      <td>1.0</td>\n      <td>car</td>\n      <td>33.0</td>\n      <td>none</td>\n      <td>rent</td>\n      <td>1.0</td>\n      <td>skilled</td>\n      <td>1.0</td>\n      <td>none</td>\n      <td>yes</td>\n    </tr>\n    <tr>\n      <th>695</th>\n      <td>no checking</td>\n      <td>6.0</td>\n      <td>existing paid</td>\n      <td>used car</td>\n      <td>1236.0</td>\n      <td>500&lt;=X&lt;1000</td>\n      <td>1&lt;=X&lt;4</td>\n      <td>2.0</td>\n      <td>male single</td>\n      <td>none</td>\n      <td>4.0</td>\n      <td>life insurance</td>\n      <td>50.0</td>\n      <td>none</td>\n      <td>rent</td>\n      <td>1.0</td>\n      <td>skilled</td>\n      <td>1.0</td>\n      <td>none</td>\n      <td>yes</td>\n    </tr>\n  </tbody>\n</table>\n</div>"
     },
     "metadata": {},
     "execution_count": 23
    }
   ],
   "source": [
    "# add dataset whis more num features\n",
    "dataset = fetch_openml(name='credit-g', version=1, as_frame=True)\n",
    "dataset.target = dataset.target.astype('category').cat.codes\n",
    "\n",
    "X_train, X_test, y_train, y_test = train_test_split(dataset.data, dataset.target, test_size=0.2, random_state=RANDOM_SEED,)\n",
    "X_train.head(3)"
   ]
  },
  {
   "cell_type": "code",
   "execution_count": 24,
   "metadata": {},
   "outputs": [
    {
     "output_type": "execute_result",
     "data": {
      "text/plain": [
       "<matplotlib.axes._subplots.AxesSubplot at 0x7f369263e220>"
      ]
     },
     "metadata": {},
     "execution_count": 24
    },
    {
     "output_type": "display_data",
     "data": {
      "text/plain": "<Figure size 432x288 with 1 Axes>",
      "image/svg+xml": "<?xml version=\"1.0\" encoding=\"utf-8\" standalone=\"no\"?>\n<!DOCTYPE svg PUBLIC \"-//W3C//DTD SVG 1.1//EN\"\n  \"http://www.w3.org/Graphics/SVG/1.1/DTD/svg11.dtd\">\n<!-- Created with matplotlib (https://matplotlib.org/) -->\n<svg height=\"248.518125pt\" version=\"1.1\" viewBox=\"0 0 368.925 248.518125\" width=\"368.925pt\" xmlns=\"http://www.w3.org/2000/svg\" xmlns:xlink=\"http://www.w3.org/1999/xlink\">\n <defs>\n  <style type=\"text/css\">\n*{stroke-linecap:butt;stroke-linejoin:round;}\n  </style>\n </defs>\n <g id=\"figure_1\">\n  <g id=\"patch_1\">\n   <path d=\"M -0 248.518125 \nL 368.925 248.518125 \nL 368.925 0 \nL -0 0 \nz\n\" style=\"fill:#ffffff;\"/>\n  </g>\n  <g id=\"axes_1\">\n   <g id=\"patch_2\">\n    <path d=\"M 26.925 224.64 \nL 361.725 224.64 \nL 361.725 7.2 \nL 26.925 7.2 \nz\n\" style=\"fill:#eaeaf2;\"/>\n   </g>\n   <g id=\"matplotlib.axis_1\">\n    <g id=\"xtick_1\">\n     <g id=\"line2d_1\">\n      <path clip-path=\"url(#p18a5fb91ac)\" d=\"M 194.325 224.64 \nL 194.325 7.2 \n\" style=\"fill:none;stroke:#ffffff;stroke-linecap:round;stroke-width:0.8;\"/>\n     </g>\n     <g id=\"text_1\">\n      <!-- duration -->\n      <defs>\n       <path d=\"M 45.40625 46.390625 \nL 45.40625 75.984375 \nL 54.390625 75.984375 \nL 54.390625 0 \nL 45.40625 0 \nL 45.40625 8.203125 \nQ 42.578125 3.328125 38.25 0.953125 \nQ 33.9375 -1.421875 27.875 -1.421875 \nQ 17.96875 -1.421875 11.734375 6.484375 \nQ 5.515625 14.40625 5.515625 27.296875 \nQ 5.515625 40.1875 11.734375 48.09375 \nQ 17.96875 56 27.875 56 \nQ 33.9375 56 38.25 53.625 \nQ 42.578125 51.265625 45.40625 46.390625 \nz\nM 14.796875 27.296875 \nQ 14.796875 17.390625 18.875 11.75 \nQ 22.953125 6.109375 30.078125 6.109375 \nQ 37.203125 6.109375 41.296875 11.75 \nQ 45.40625 17.390625 45.40625 27.296875 \nQ 45.40625 37.203125 41.296875 42.84375 \nQ 37.203125 48.484375 30.078125 48.484375 \nQ 22.953125 48.484375 18.875 42.84375 \nQ 14.796875 37.203125 14.796875 27.296875 \nz\n\" id=\"DejaVuSans-100\"/>\n       <path d=\"M 8.5 21.578125 \nL 8.5 54.6875 \nL 17.484375 54.6875 \nL 17.484375 21.921875 \nQ 17.484375 14.15625 20.5 10.265625 \nQ 23.53125 6.390625 29.59375 6.390625 \nQ 36.859375 6.390625 41.078125 11.03125 \nQ 45.3125 15.671875 45.3125 23.6875 \nL 45.3125 54.6875 \nL 54.296875 54.6875 \nL 54.296875 0 \nL 45.3125 0 \nL 45.3125 8.40625 \nQ 42.046875 3.421875 37.71875 1 \nQ 33.40625 -1.421875 27.6875 -1.421875 \nQ 18.265625 -1.421875 13.375 4.4375 \nQ 8.5 10.296875 8.5 21.578125 \nz\nM 31.109375 56 \nz\n\" id=\"DejaVuSans-117\"/>\n       <path d=\"M 41.109375 46.296875 \nQ 39.59375 47.171875 37.8125 47.578125 \nQ 36.03125 48 33.890625 48 \nQ 26.265625 48 22.1875 43.046875 \nQ 18.109375 38.09375 18.109375 28.8125 \nL 18.109375 0 \nL 9.078125 0 \nL 9.078125 54.6875 \nL 18.109375 54.6875 \nL 18.109375 46.1875 \nQ 20.953125 51.171875 25.484375 53.578125 \nQ 30.03125 56 36.53125 56 \nQ 37.453125 56 38.578125 55.875 \nQ 39.703125 55.765625 41.0625 55.515625 \nz\n\" id=\"DejaVuSans-114\"/>\n       <path d=\"M 34.28125 27.484375 \nQ 23.390625 27.484375 19.1875 25 \nQ 14.984375 22.515625 14.984375 16.5 \nQ 14.984375 11.71875 18.140625 8.90625 \nQ 21.296875 6.109375 26.703125 6.109375 \nQ 34.1875 6.109375 38.703125 11.40625 \nQ 43.21875 16.703125 43.21875 25.484375 \nL 43.21875 27.484375 \nz\nM 52.203125 31.203125 \nL 52.203125 0 \nL 43.21875 0 \nL 43.21875 8.296875 \nQ 40.140625 3.328125 35.546875 0.953125 \nQ 30.953125 -1.421875 24.3125 -1.421875 \nQ 15.921875 -1.421875 10.953125 3.296875 \nQ 6 8.015625 6 15.921875 \nQ 6 25.140625 12.171875 29.828125 \nQ 18.359375 34.515625 30.609375 34.515625 \nL 43.21875 34.515625 \nL 43.21875 35.40625 \nQ 43.21875 41.609375 39.140625 45 \nQ 35.0625 48.390625 27.6875 48.390625 \nQ 23 48.390625 18.546875 47.265625 \nQ 14.109375 46.140625 10.015625 43.890625 \nL 10.015625 52.203125 \nQ 14.9375 54.109375 19.578125 55.046875 \nQ 24.21875 56 28.609375 56 \nQ 40.484375 56 46.34375 49.84375 \nQ 52.203125 43.703125 52.203125 31.203125 \nz\n\" id=\"DejaVuSans-97\"/>\n       <path d=\"M 18.3125 70.21875 \nL 18.3125 54.6875 \nL 36.8125 54.6875 \nL 36.8125 47.703125 \nL 18.3125 47.703125 \nL 18.3125 18.015625 \nQ 18.3125 11.328125 20.140625 9.421875 \nQ 21.96875 7.515625 27.59375 7.515625 \nL 36.8125 7.515625 \nL 36.8125 0 \nL 27.59375 0 \nQ 17.1875 0 13.234375 3.875 \nQ 9.28125 7.765625 9.28125 18.015625 \nL 9.28125 47.703125 \nL 2.6875 47.703125 \nL 2.6875 54.6875 \nL 9.28125 54.6875 \nL 9.28125 70.21875 \nz\n\" id=\"DejaVuSans-116\"/>\n       <path d=\"M 9.421875 54.6875 \nL 18.40625 54.6875 \nL 18.40625 0 \nL 9.421875 0 \nz\nM 9.421875 75.984375 \nL 18.40625 75.984375 \nL 18.40625 64.59375 \nL 9.421875 64.59375 \nz\n\" id=\"DejaVuSans-105\"/>\n       <path d=\"M 30.609375 48.390625 \nQ 23.390625 48.390625 19.1875 42.75 \nQ 14.984375 37.109375 14.984375 27.296875 \nQ 14.984375 17.484375 19.15625 11.84375 \nQ 23.34375 6.203125 30.609375 6.203125 \nQ 37.796875 6.203125 41.984375 11.859375 \nQ 46.1875 17.53125 46.1875 27.296875 \nQ 46.1875 37.015625 41.984375 42.703125 \nQ 37.796875 48.390625 30.609375 48.390625 \nz\nM 30.609375 56 \nQ 42.328125 56 49.015625 48.375 \nQ 55.71875 40.765625 55.71875 27.296875 \nQ 55.71875 13.875 49.015625 6.21875 \nQ 42.328125 -1.421875 30.609375 -1.421875 \nQ 18.84375 -1.421875 12.171875 6.21875 \nQ 5.515625 13.875 5.515625 27.296875 \nQ 5.515625 40.765625 12.171875 48.375 \nQ 18.84375 56 30.609375 56 \nz\n\" id=\"DejaVuSans-111\"/>\n       <path d=\"M 54.890625 33.015625 \nL 54.890625 0 \nL 45.90625 0 \nL 45.90625 32.71875 \nQ 45.90625 40.484375 42.875 44.328125 \nQ 39.84375 48.1875 33.796875 48.1875 \nQ 26.515625 48.1875 22.3125 43.546875 \nQ 18.109375 38.921875 18.109375 30.90625 \nL 18.109375 0 \nL 9.078125 0 \nL 9.078125 54.6875 \nL 18.109375 54.6875 \nL 18.109375 46.1875 \nQ 21.34375 51.125 25.703125 53.5625 \nQ 30.078125 56 35.796875 56 \nQ 45.21875 56 50.046875 50.171875 \nQ 54.890625 44.34375 54.890625 33.015625 \nz\n\" id=\"DejaVuSans-110\"/>\n      </defs>\n      <g style=\"fill:#262626;\" transform=\"translate(173.285156 239.238437)scale(0.1 -0.1)\">\n       <use xlink:href=\"#DejaVuSans-100\"/>\n       <use x=\"63.476562\" xlink:href=\"#DejaVuSans-117\"/>\n       <use x=\"126.855469\" xlink:href=\"#DejaVuSans-114\"/>\n       <use x=\"167.96875\" xlink:href=\"#DejaVuSans-97\"/>\n       <use x=\"229.248047\" xlink:href=\"#DejaVuSans-116\"/>\n       <use x=\"268.457031\" xlink:href=\"#DejaVuSans-105\"/>\n       <use x=\"296.240234\" xlink:href=\"#DejaVuSans-111\"/>\n       <use x=\"357.421875\" xlink:href=\"#DejaVuSans-110\"/>\n      </g>\n     </g>\n    </g>\n   </g>\n   <g id=\"matplotlib.axis_2\">\n    <g id=\"ytick_1\">\n     <g id=\"line2d_2\">\n      <path clip-path=\"url(#p18a5fb91ac)\" d=\"M 26.925 193.577143 \nL 361.725 193.577143 \n\" style=\"fill:none;stroke:#ffffff;stroke-linecap:round;stroke-width:0.8;\"/>\n     </g>\n     <g id=\"text_2\">\n      <!-- 10 -->\n      <defs>\n       <path d=\"M 12.40625 8.296875 \nL 28.515625 8.296875 \nL 28.515625 63.921875 \nL 10.984375 60.40625 \nL 10.984375 69.390625 \nL 28.421875 72.90625 \nL 38.28125 72.90625 \nL 38.28125 8.296875 \nL 54.390625 8.296875 \nL 54.390625 0 \nL 12.40625 0 \nz\n\" id=\"DejaVuSans-49\"/>\n       <path d=\"M 31.78125 66.40625 \nQ 24.171875 66.40625 20.328125 58.90625 \nQ 16.5 51.421875 16.5 36.375 \nQ 16.5 21.390625 20.328125 13.890625 \nQ 24.171875 6.390625 31.78125 6.390625 \nQ 39.453125 6.390625 43.28125 13.890625 \nQ 47.125 21.390625 47.125 36.375 \nQ 47.125 51.421875 43.28125 58.90625 \nQ 39.453125 66.40625 31.78125 66.40625 \nz\nM 31.78125 74.21875 \nQ 44.046875 74.21875 50.515625 64.515625 \nQ 56.984375 54.828125 56.984375 36.375 \nQ 56.984375 17.96875 50.515625 8.265625 \nQ 44.046875 -1.421875 31.78125 -1.421875 \nQ 19.53125 -1.421875 13.0625 8.265625 \nQ 6.59375 17.96875 6.59375 36.375 \nQ 6.59375 54.828125 13.0625 64.515625 \nQ 19.53125 74.21875 31.78125 74.21875 \nz\n\" id=\"DejaVuSans-48\"/>\n      </defs>\n      <g style=\"fill:#262626;\" transform=\"translate(7.2 197.376362)scale(0.1 -0.1)\">\n       <use xlink:href=\"#DejaVuSans-49\"/>\n       <use x=\"63.623047\" xlink:href=\"#DejaVuSans-48\"/>\n      </g>\n     </g>\n    </g>\n    <g id=\"ytick_2\">\n     <g id=\"line2d_3\">\n      <path clip-path=\"url(#p18a5fb91ac)\" d=\"M 26.925 158.278442 \nL 361.725 158.278442 \n\" style=\"fill:none;stroke:#ffffff;stroke-linecap:round;stroke-width:0.8;\"/>\n     </g>\n     <g id=\"text_3\">\n      <!-- 20 -->\n      <defs>\n       <path d=\"M 19.1875 8.296875 \nL 53.609375 8.296875 \nL 53.609375 0 \nL 7.328125 0 \nL 7.328125 8.296875 \nQ 12.9375 14.109375 22.625 23.890625 \nQ 32.328125 33.6875 34.8125 36.53125 \nQ 39.546875 41.84375 41.421875 45.53125 \nQ 43.3125 49.21875 43.3125 52.78125 \nQ 43.3125 58.59375 39.234375 62.25 \nQ 35.15625 65.921875 28.609375 65.921875 \nQ 23.96875 65.921875 18.8125 64.3125 \nQ 13.671875 62.703125 7.8125 59.421875 \nL 7.8125 69.390625 \nQ 13.765625 71.78125 18.9375 73 \nQ 24.125 74.21875 28.421875 74.21875 \nQ 39.75 74.21875 46.484375 68.546875 \nQ 53.21875 62.890625 53.21875 53.421875 \nQ 53.21875 48.921875 51.53125 44.890625 \nQ 49.859375 40.875 45.40625 35.40625 \nQ 44.1875 33.984375 37.640625 27.21875 \nQ 31.109375 20.453125 19.1875 8.296875 \nz\n\" id=\"DejaVuSans-50\"/>\n      </defs>\n      <g style=\"fill:#262626;\" transform=\"translate(7.2 162.07766)scale(0.1 -0.1)\">\n       <use xlink:href=\"#DejaVuSans-50\"/>\n       <use x=\"63.623047\" xlink:href=\"#DejaVuSans-48\"/>\n      </g>\n     </g>\n    </g>\n    <g id=\"ytick_3\">\n     <g id=\"line2d_4\">\n      <path clip-path=\"url(#p18a5fb91ac)\" d=\"M 26.925 122.97974 \nL 361.725 122.97974 \n\" style=\"fill:none;stroke:#ffffff;stroke-linecap:round;stroke-width:0.8;\"/>\n     </g>\n     <g id=\"text_4\">\n      <!-- 30 -->\n      <defs>\n       <path d=\"M 40.578125 39.3125 \nQ 47.65625 37.796875 51.625 33 \nQ 55.609375 28.21875 55.609375 21.1875 \nQ 55.609375 10.40625 48.1875 4.484375 \nQ 40.765625 -1.421875 27.09375 -1.421875 \nQ 22.515625 -1.421875 17.65625 -0.515625 \nQ 12.796875 0.390625 7.625 2.203125 \nL 7.625 11.71875 \nQ 11.71875 9.328125 16.59375 8.109375 \nQ 21.484375 6.890625 26.8125 6.890625 \nQ 36.078125 6.890625 40.9375 10.546875 \nQ 45.796875 14.203125 45.796875 21.1875 \nQ 45.796875 27.640625 41.28125 31.265625 \nQ 36.765625 34.90625 28.71875 34.90625 \nL 20.21875 34.90625 \nL 20.21875 43.015625 \nL 29.109375 43.015625 \nQ 36.375 43.015625 40.234375 45.921875 \nQ 44.09375 48.828125 44.09375 54.296875 \nQ 44.09375 59.90625 40.109375 62.90625 \nQ 36.140625 65.921875 28.71875 65.921875 \nQ 24.65625 65.921875 20.015625 65.03125 \nQ 15.375 64.15625 9.8125 62.3125 \nL 9.8125 71.09375 \nQ 15.4375 72.65625 20.34375 73.4375 \nQ 25.25 74.21875 29.59375 74.21875 \nQ 40.828125 74.21875 47.359375 69.109375 \nQ 53.90625 64.015625 53.90625 55.328125 \nQ 53.90625 49.265625 50.4375 45.09375 \nQ 46.96875 40.921875 40.578125 39.3125 \nz\n\" id=\"DejaVuSans-51\"/>\n      </defs>\n      <g style=\"fill:#262626;\" transform=\"translate(7.2 126.778959)scale(0.1 -0.1)\">\n       <use xlink:href=\"#DejaVuSans-51\"/>\n       <use x=\"63.623047\" xlink:href=\"#DejaVuSans-48\"/>\n      </g>\n     </g>\n    </g>\n    <g id=\"ytick_4\">\n     <g id=\"line2d_5\">\n      <path clip-path=\"url(#p18a5fb91ac)\" d=\"M 26.925 87.681039 \nL 361.725 87.681039 \n\" style=\"fill:none;stroke:#ffffff;stroke-linecap:round;stroke-width:0.8;\"/>\n     </g>\n     <g id=\"text_5\">\n      <!-- 40 -->\n      <defs>\n       <path d=\"M 37.796875 64.3125 \nL 12.890625 25.390625 \nL 37.796875 25.390625 \nz\nM 35.203125 72.90625 \nL 47.609375 72.90625 \nL 47.609375 25.390625 \nL 58.015625 25.390625 \nL 58.015625 17.1875 \nL 47.609375 17.1875 \nL 47.609375 0 \nL 37.796875 0 \nL 37.796875 17.1875 \nL 4.890625 17.1875 \nL 4.890625 26.703125 \nz\n\" id=\"DejaVuSans-52\"/>\n      </defs>\n      <g style=\"fill:#262626;\" transform=\"translate(7.2 91.480258)scale(0.1 -0.1)\">\n       <use xlink:href=\"#DejaVuSans-52\"/>\n       <use x=\"63.623047\" xlink:href=\"#DejaVuSans-48\"/>\n      </g>\n     </g>\n    </g>\n    <g id=\"ytick_5\">\n     <g id=\"line2d_6\">\n      <path clip-path=\"url(#p18a5fb91ac)\" d=\"M 26.925 52.382338 \nL 361.725 52.382338 \n\" style=\"fill:none;stroke:#ffffff;stroke-linecap:round;stroke-width:0.8;\"/>\n     </g>\n     <g id=\"text_6\">\n      <!-- 50 -->\n      <defs>\n       <path d=\"M 10.796875 72.90625 \nL 49.515625 72.90625 \nL 49.515625 64.59375 \nL 19.828125 64.59375 \nL 19.828125 46.734375 \nQ 21.96875 47.46875 24.109375 47.828125 \nQ 26.265625 48.1875 28.421875 48.1875 \nQ 40.625 48.1875 47.75 41.5 \nQ 54.890625 34.8125 54.890625 23.390625 \nQ 54.890625 11.625 47.5625 5.09375 \nQ 40.234375 -1.421875 26.90625 -1.421875 \nQ 22.3125 -1.421875 17.546875 -0.640625 \nQ 12.796875 0.140625 7.71875 1.703125 \nL 7.71875 11.625 \nQ 12.109375 9.234375 16.796875 8.0625 \nQ 21.484375 6.890625 26.703125 6.890625 \nQ 35.15625 6.890625 40.078125 11.328125 \nQ 45.015625 15.765625 45.015625 23.390625 \nQ 45.015625 31 40.078125 35.4375 \nQ 35.15625 39.890625 26.703125 39.890625 \nQ 22.75 39.890625 18.8125 39.015625 \nQ 14.890625 38.140625 10.796875 36.28125 \nz\n\" id=\"DejaVuSans-53\"/>\n      </defs>\n      <g style=\"fill:#262626;\" transform=\"translate(7.2 56.181556)scale(0.1 -0.1)\">\n       <use xlink:href=\"#DejaVuSans-53\"/>\n       <use x=\"63.623047\" xlink:href=\"#DejaVuSans-48\"/>\n      </g>\n     </g>\n    </g>\n    <g id=\"ytick_6\">\n     <g id=\"line2d_7\">\n      <path clip-path=\"url(#p18a5fb91ac)\" d=\"M 26.925 17.083636 \nL 361.725 17.083636 \n\" style=\"fill:none;stroke:#ffffff;stroke-linecap:round;stroke-width:0.8;\"/>\n     </g>\n     <g id=\"text_7\">\n      <!-- 60 -->\n      <defs>\n       <path d=\"M 33.015625 40.375 \nQ 26.375 40.375 22.484375 35.828125 \nQ 18.609375 31.296875 18.609375 23.390625 \nQ 18.609375 15.53125 22.484375 10.953125 \nQ 26.375 6.390625 33.015625 6.390625 \nQ 39.65625 6.390625 43.53125 10.953125 \nQ 47.40625 15.53125 47.40625 23.390625 \nQ 47.40625 31.296875 43.53125 35.828125 \nQ 39.65625 40.375 33.015625 40.375 \nz\nM 52.59375 71.296875 \nL 52.59375 62.3125 \nQ 48.875 64.0625 45.09375 64.984375 \nQ 41.3125 65.921875 37.59375 65.921875 \nQ 27.828125 65.921875 22.671875 59.328125 \nQ 17.53125 52.734375 16.796875 39.40625 \nQ 19.671875 43.65625 24.015625 45.921875 \nQ 28.375 48.1875 33.59375 48.1875 \nQ 44.578125 48.1875 50.953125 41.515625 \nQ 57.328125 34.859375 57.328125 23.390625 \nQ 57.328125 12.15625 50.6875 5.359375 \nQ 44.046875 -1.421875 33.015625 -1.421875 \nQ 20.359375 -1.421875 13.671875 8.265625 \nQ 6.984375 17.96875 6.984375 36.375 \nQ 6.984375 53.65625 15.1875 63.9375 \nQ 23.390625 74.21875 37.203125 74.21875 \nQ 40.921875 74.21875 44.703125 73.484375 \nQ 48.484375 72.75 52.59375 71.296875 \nz\n\" id=\"DejaVuSans-54\"/>\n      </defs>\n      <g style=\"fill:#262626;\" transform=\"translate(7.2 20.882855)scale(0.1 -0.1)\">\n       <use xlink:href=\"#DejaVuSans-54\"/>\n       <use x=\"63.623047\" xlink:href=\"#DejaVuSans-48\"/>\n      </g>\n     </g>\n    </g>\n   </g>\n   <g id=\"line2d_8\">\n    <path clip-path=\"url(#p18a5fb91ac)\" d=\"M 169.215 186.517403 \nL 219.435 186.517403 \nL 219.435 144.158961 \nL 169.215 144.158961 \nL 169.215 186.517403 \n\" style=\"fill:none;stroke:#1f77b4;stroke-linecap:round;\"/>\n   </g>\n   <g id=\"line2d_9\">\n    <path clip-path=\"url(#p18a5fb91ac)\" d=\"M 194.325 186.517403 \nL 194.325 214.756364 \n\" style=\"fill:none;stroke:#1f77b4;stroke-linecap:round;\"/>\n   </g>\n   <g id=\"line2d_10\">\n    <path clip-path=\"url(#p18a5fb91ac)\" d=\"M 194.325 144.158961 \nL 194.325 80.621299 \n\" style=\"fill:none;stroke:#1f77b4;stroke-linecap:round;\"/>\n   </g>\n   <g id=\"line2d_11\">\n    <path clip-path=\"url(#p18a5fb91ac)\" d=\"M 181.77 214.756364 \nL 206.88 214.756364 \n\" style=\"fill:none;stroke:#000000;stroke-linecap:round;\"/>\n   </g>\n   <g id=\"line2d_12\">\n    <path clip-path=\"url(#p18a5fb91ac)\" d=\"M 181.77 80.621299 \nL 206.88 80.621299 \n\" style=\"fill:none;stroke:#000000;stroke-linecap:round;\"/>\n   </g>\n   <g id=\"line2d_13\">\n    <defs>\n     <path d=\"M 0 3 \nC 0.795609 3 1.55874 2.683901 2.12132 2.12132 \nC 2.683901 1.55874 3 0.795609 3 0 \nC 3 -0.795609 2.683901 -1.55874 2.12132 -2.12132 \nC 1.55874 -2.683901 0.795609 -3 0 -3 \nC -0.795609 -3 -1.55874 -2.683901 -2.12132 -2.12132 \nC -2.683901 -1.55874 -3 -0.795609 -3 0 \nC -3 0.795609 -2.683901 1.55874 -2.12132 2.12132 \nC -1.55874 2.683901 -0.795609 3 0 3 \nz\n\" id=\"mbfe2e9f2b4\" style=\"stroke:#000000;\"/>\n    </defs>\n    <g clip-path=\"url(#p18a5fb91ac)\">\n     <use style=\"fill-opacity:0;stroke:#000000;\" x=\"194.325\" xlink:href=\"#mbfe2e9f2b4\" y=\"17.083636\"/>\n     <use style=\"fill-opacity:0;stroke:#000000;\" x=\"194.325\" xlink:href=\"#mbfe2e9f2b4\" y=\"59.442078\"/>\n     <use style=\"fill-opacity:0;stroke:#000000;\" x=\"194.325\" xlink:href=\"#mbfe2e9f2b4\" y=\"59.442078\"/>\n     <use style=\"fill-opacity:0;stroke:#000000;\" x=\"194.325\" xlink:href=\"#mbfe2e9f2b4\" y=\"59.442078\"/>\n     <use style=\"fill-opacity:0;stroke:#000000;\" x=\"194.325\" xlink:href=\"#mbfe2e9f2b4\" y=\"59.442078\"/>\n     <use style=\"fill-opacity:0;stroke:#000000;\" x=\"194.325\" xlink:href=\"#mbfe2e9f2b4\" y=\"59.442078\"/>\n     <use style=\"fill-opacity:0;stroke:#000000;\" x=\"194.325\" xlink:href=\"#mbfe2e9f2b4\" y=\"59.442078\"/>\n     <use style=\"fill-opacity:0;stroke:#000000;\" x=\"194.325\" xlink:href=\"#mbfe2e9f2b4\" y=\"59.442078\"/>\n     <use style=\"fill-opacity:0;stroke:#000000;\" x=\"194.325\" xlink:href=\"#mbfe2e9f2b4\" y=\"59.442078\"/>\n     <use style=\"fill-opacity:0;stroke:#000000;\" x=\"194.325\" xlink:href=\"#mbfe2e9f2b4\" y=\"70.031688\"/>\n     <use style=\"fill-opacity:0;stroke:#000000;\" x=\"194.325\" xlink:href=\"#mbfe2e9f2b4\" y=\"59.442078\"/>\n     <use style=\"fill-opacity:0;stroke:#000000;\" x=\"194.325\" xlink:href=\"#mbfe2e9f2b4\" y=\"59.442078\"/>\n     <use style=\"fill-opacity:0;stroke:#000000;\" x=\"194.325\" xlink:href=\"#mbfe2e9f2b4\" y=\"62.971948\"/>\n     <use style=\"fill-opacity:0;stroke:#000000;\" x=\"194.325\" xlink:href=\"#mbfe2e9f2b4\" y=\"59.442078\"/>\n     <use style=\"fill-opacity:0;stroke:#000000;\" x=\"194.325\" xlink:href=\"#mbfe2e9f2b4\" y=\"59.442078\"/>\n     <use style=\"fill-opacity:0;stroke:#000000;\" x=\"194.325\" xlink:href=\"#mbfe2e9f2b4\" y=\"59.442078\"/>\n     <use style=\"fill-opacity:0;stroke:#000000;\" x=\"194.325\" xlink:href=\"#mbfe2e9f2b4\" y=\"59.442078\"/>\n     <use style=\"fill-opacity:0;stroke:#000000;\" x=\"194.325\" xlink:href=\"#mbfe2e9f2b4\" y=\"59.442078\"/>\n     <use style=\"fill-opacity:0;stroke:#000000;\" x=\"194.325\" xlink:href=\"#mbfe2e9f2b4\" y=\"59.442078\"/>\n     <use style=\"fill-opacity:0;stroke:#000000;\" x=\"194.325\" xlink:href=\"#mbfe2e9f2b4\" y=\"59.442078\"/>\n     <use style=\"fill-opacity:0;stroke:#000000;\" x=\"194.325\" xlink:href=\"#mbfe2e9f2b4\" y=\"70.031688\"/>\n     <use style=\"fill-opacity:0;stroke:#000000;\" x=\"194.325\" xlink:href=\"#mbfe2e9f2b4\" y=\"59.442078\"/>\n     <use style=\"fill-opacity:0;stroke:#000000;\" x=\"194.325\" xlink:href=\"#mbfe2e9f2b4\" y=\"59.442078\"/>\n     <use style=\"fill-opacity:0;stroke:#000000;\" x=\"194.325\" xlink:href=\"#mbfe2e9f2b4\" y=\"59.442078\"/>\n     <use style=\"fill-opacity:0;stroke:#000000;\" x=\"194.325\" xlink:href=\"#mbfe2e9f2b4\" y=\"59.442078\"/>\n     <use style=\"fill-opacity:0;stroke:#000000;\" x=\"194.325\" xlink:href=\"#mbfe2e9f2b4\" y=\"59.442078\"/>\n     <use style=\"fill-opacity:0;stroke:#000000;\" x=\"194.325\" xlink:href=\"#mbfe2e9f2b4\" y=\"17.083636\"/>\n     <use style=\"fill-opacity:0;stroke:#000000;\" x=\"194.325\" xlink:href=\"#mbfe2e9f2b4\" y=\"59.442078\"/>\n     <use style=\"fill-opacity:0;stroke:#000000;\" x=\"194.325\" xlink:href=\"#mbfe2e9f2b4\" y=\"59.442078\"/>\n     <use style=\"fill-opacity:0;stroke:#000000;\" x=\"194.325\" xlink:href=\"#mbfe2e9f2b4\" y=\"17.083636\"/>\n     <use style=\"fill-opacity:0;stroke:#000000;\" x=\"194.325\" xlink:href=\"#mbfe2e9f2b4\" y=\"17.083636\"/>\n     <use style=\"fill-opacity:0;stroke:#000000;\" x=\"194.325\" xlink:href=\"#mbfe2e9f2b4\" y=\"17.083636\"/>\n     <use style=\"fill-opacity:0;stroke:#000000;\" x=\"194.325\" xlink:href=\"#mbfe2e9f2b4\" y=\"70.031688\"/>\n     <use style=\"fill-opacity:0;stroke:#000000;\" x=\"194.325\" xlink:href=\"#mbfe2e9f2b4\" y=\"59.442078\"/>\n     <use style=\"fill-opacity:0;stroke:#000000;\" x=\"194.325\" xlink:href=\"#mbfe2e9f2b4\" y=\"17.083636\"/>\n     <use style=\"fill-opacity:0;stroke:#000000;\" x=\"194.325\" xlink:href=\"#mbfe2e9f2b4\" y=\"59.442078\"/>\n     <use style=\"fill-opacity:0;stroke:#000000;\" x=\"194.325\" xlink:href=\"#mbfe2e9f2b4\" y=\"59.442078\"/>\n     <use style=\"fill-opacity:0;stroke:#000000;\" x=\"194.325\" xlink:href=\"#mbfe2e9f2b4\" y=\"59.442078\"/>\n     <use style=\"fill-opacity:0;stroke:#000000;\" x=\"194.325\" xlink:href=\"#mbfe2e9f2b4\" y=\"59.442078\"/>\n     <use style=\"fill-opacity:0;stroke:#000000;\" x=\"194.325\" xlink:href=\"#mbfe2e9f2b4\" y=\"17.083636\"/>\n     <use style=\"fill-opacity:0;stroke:#000000;\" x=\"194.325\" xlink:href=\"#mbfe2e9f2b4\" y=\"59.442078\"/>\n     <use style=\"fill-opacity:0;stroke:#000000;\" x=\"194.325\" xlink:href=\"#mbfe2e9f2b4\" y=\"17.083636\"/>\n     <use style=\"fill-opacity:0;stroke:#000000;\" x=\"194.325\" xlink:href=\"#mbfe2e9f2b4\" y=\"59.442078\"/>\n     <use style=\"fill-opacity:0;stroke:#000000;\" x=\"194.325\" xlink:href=\"#mbfe2e9f2b4\" y=\"59.442078\"/>\n     <use style=\"fill-opacity:0;stroke:#000000;\" x=\"194.325\" xlink:href=\"#mbfe2e9f2b4\" y=\"59.442078\"/>\n     <use style=\"fill-opacity:0;stroke:#000000;\" x=\"194.325\" xlink:href=\"#mbfe2e9f2b4\" y=\"70.031688\"/>\n     <use style=\"fill-opacity:0;stroke:#000000;\" x=\"194.325\" xlink:href=\"#mbfe2e9f2b4\" y=\"38.262857\"/>\n     <use style=\"fill-opacity:0;stroke:#000000;\" x=\"194.325\" xlink:href=\"#mbfe2e9f2b4\" y=\"17.083636\"/>\n     <use style=\"fill-opacity:0;stroke:#000000;\" x=\"194.325\" xlink:href=\"#mbfe2e9f2b4\" y=\"59.442078\"/>\n     <use style=\"fill-opacity:0;stroke:#000000;\" x=\"194.325\" xlink:href=\"#mbfe2e9f2b4\" y=\"59.442078\"/>\n     <use style=\"fill-opacity:0;stroke:#000000;\" x=\"194.325\" xlink:href=\"#mbfe2e9f2b4\" y=\"59.442078\"/>\n     <use style=\"fill-opacity:0;stroke:#000000;\" x=\"194.325\" xlink:href=\"#mbfe2e9f2b4\" y=\"59.442078\"/>\n     <use style=\"fill-opacity:0;stroke:#000000;\" x=\"194.325\" xlink:href=\"#mbfe2e9f2b4\" y=\"59.442078\"/>\n     <use style=\"fill-opacity:0;stroke:#000000;\" x=\"194.325\" xlink:href=\"#mbfe2e9f2b4\" y=\"59.442078\"/>\n    </g>\n   </g>\n   <g id=\"line2d_14\">\n    <path clip-path=\"url(#p18a5fb91ac)\" d=\"M 169.215 165.338182 \nL 219.435 165.338182 \n\" style=\"fill:none;stroke:#2ca02c;stroke-linecap:round;\"/>\n   </g>\n   <g id=\"patch_3\">\n    <path d=\"M 26.925 224.64 \nL 26.925 7.2 \n\" style=\"fill:none;stroke:#ffffff;stroke-linecap:square;stroke-linejoin:miter;stroke-width:0.8;\"/>\n   </g>\n   <g id=\"patch_4\">\n    <path d=\"M 361.725 224.64 \nL 361.725 7.2 \n\" style=\"fill:none;stroke:#ffffff;stroke-linecap:square;stroke-linejoin:miter;stroke-width:0.8;\"/>\n   </g>\n   <g id=\"patch_5\">\n    <path d=\"M 26.925 224.64 \nL 361.725 224.64 \n\" style=\"fill:none;stroke:#ffffff;stroke-linecap:square;stroke-linejoin:miter;stroke-width:0.8;\"/>\n   </g>\n   <g id=\"patch_6\">\n    <path d=\"M 26.925 7.2 \nL 361.725 7.2 \n\" style=\"fill:none;stroke:#ffffff;stroke-linecap:square;stroke-linejoin:miter;stroke-width:0.8;\"/>\n   </g>\n  </g>\n </g>\n <defs>\n  <clipPath id=\"p18a5fb91ac\">\n   <rect height=\"217.44\" width=\"334.8\" x=\"26.925\" y=\"7.2\"/>\n  </clipPath>\n </defs>\n</svg>\n",
      "image/png": "[encoded data removed]"
     },
     "metadata": {}
    }
   ],
   "source": [
    "X_train.boxplot(column=['duration',])"
   ]
  },
  {
   "cell_type": "code",
   "execution_count": 25,
   "metadata": {},
   "outputs": [
    {
     "output_type": "stream",
     "name": "stderr",
     "text": [
      "06:33:04 | Source data shape: (800, 20)\n",
      "06:33:04 | ##################################################\n",
      "06:33:04 | ! START preprocessing Data\n",
      "06:33:04 | - Auto detect cat features: 13\n",
      "06:33:04 | > Binary Features\n",
      "06:33:04 | > Clean Categorical Features\n",
      "06:33:04 | > Transform Categorical Features.\n",
      "06:33:04 |  - Encoder: HelmertEncoder ADD features: 39\n",
      "06:33:04 |  - Encoder: CountEncoder ADD features: 13\n",
      "06:33:04 |   No nans features\n",
      "06:33:04 | > Start fit DenoisingAutoencoder\n",
      "Epoch 1/25\n",
      "Epoch 2/25\n",
      "Epoch 3/25\n",
      "Epoch 4/25\n",
      "Epoch 5/25\n",
      "Epoch 6/25\n",
      "Epoch 7/25\n",
      "Epoch 8/25\n",
      "Epoch 9/25\n",
      "Epoch 10/25\n",
      "Epoch 11/25\n",
      "Epoch 12/25\n",
      "Epoch 13/25\n",
      "Epoch 14/25\n",
      "Epoch 15/25\n",
      "Epoch 16/25\n",
      "Epoch 17/25\n",
      "Epoch 18/25\n",
      "Epoch 19/25\n",
      "Epoch 20/25\n",
      "Epoch 21/25\n",
      "Epoch 22/25\n",
      "Epoch 23/25\n",
      "Epoch 24/25\n",
      "Epoch 25/25\n",
      "06:33:09 | > Add Denoising features\n",
      "06:33:09 | > CleanOutliers\n",
      "06:33:09 | Num of outlier detected: 54 in Feature duration\n",
      "06:33:09 | Proportion of outlier detected: 6.8 %\n",
      "06:33:09 | Num of outlier detected: 58 in Feature credit_amount\n",
      "06:33:09 | Proportion of outlier detected: 7.3 %\n",
      "06:33:09 | Num of outlier detected: 18 in Feature age\n",
      "06:33:09 | Proportion of outlier detected: 2.2 %\n",
      "06:33:09 | Num of outlier detected: 5 in Feature existing_credits\n",
      "06:33:09 | Proportion of outlier detected: 0.6 %\n",
      "06:33:09 | > Generate interaction Num Features\n",
      "06:33:09 |  ADD features: 75\n",
      "06:33:09 | > Normalization Features\n",
      "06:33:09 | ##################################################\n",
      "06:33:09 | Final data shape: (800, 159)\n",
      "06:33:09 | Total ADD columns: 139\n",
      "06:33:09 | ##################################################\n"
     ]
    }
   ],
   "source": [
    "de = DataPrepare(\n",
    "    clean_outliers=True,\n",
    "    outliers_method='IQR', # method : ['IQR', 'z_score',]\n",
    "    outliers_threshold=1.5,\n",
    "    )\n",
    "clean_X_train = de.fit_transform(X_train)"
   ]
  },
  {
   "cell_type": "code",
   "execution_count": 26,
   "metadata": {},
   "outputs": [
    {
     "output_type": "execute_result",
     "data": {
      "text/plain": [
       "<matplotlib.axes._subplots.AxesSubplot at 0x7f36907575b0>"
      ]
     },
     "metadata": {},
     "execution_count": 26
    },
    {
     "output_type": "display_data",
     "data": {
      "text/plain": "<Figure size 432x288 with 1 Axes>",
      "image/svg+xml": "<?xml version=\"1.0\" encoding=\"utf-8\" standalone=\"no\"?>\n<!DOCTYPE svg PUBLIC \"-//W3C//DTD SVG 1.1//EN\"\n  \"http://www.w3.org/Graphics/SVG/1.1/DTD/svg11.dtd\">\n<!-- Created with matplotlib (https://matplotlib.org/) -->\n<svg height=\"248.518125pt\" version=\"1.1\" viewBox=\"0 0 380.482813 248.518125\" width=\"380.482813pt\" xmlns=\"http://www.w3.org/2000/svg\" xmlns:xlink=\"http://www.w3.org/1999/xlink\">\n <defs>\n  <style type=\"text/css\">\n*{stroke-linecap:butt;stroke-linejoin:round;}\n  </style>\n </defs>\n <g id=\"figure_1\">\n  <g id=\"patch_1\">\n   <path d=\"M -0 248.518125 \nL 380.482813 248.518125 \nL 380.482813 0 \nL -0 0 \nz\n\" style=\"fill:#ffffff;\"/>\n  </g>\n  <g id=\"axes_1\">\n   <g id=\"patch_2\">\n    <path d=\"M 38.482813 224.64 \nL 373.282813 224.64 \nL 373.282813 7.2 \nL 38.482813 7.2 \nz\n\" style=\"fill:#eaeaf2;\"/>\n   </g>\n   <g id=\"matplotlib.axis_1\">\n    <g id=\"xtick_1\">\n     <g id=\"line2d_1\">\n      <path clip-path=\"url(#pdc3892aa24)\" d=\"M 205.882812 224.64 \nL 205.882812 7.2 \n\" style=\"fill:none;stroke:#ffffff;stroke-linecap:round;stroke-width:0.8;\"/>\n     </g>\n     <g id=\"text_1\">\n      <!-- duration -->\n      <defs>\n       <path d=\"M 45.40625 46.390625 \nL 45.40625 75.984375 \nL 54.390625 75.984375 \nL 54.390625 0 \nL 45.40625 0 \nL 45.40625 8.203125 \nQ 42.578125 3.328125 38.25 0.953125 \nQ 33.9375 -1.421875 27.875 -1.421875 \nQ 17.96875 -1.421875 11.734375 6.484375 \nQ 5.515625 14.40625 5.515625 27.296875 \nQ 5.515625 40.1875 11.734375 48.09375 \nQ 17.96875 56 27.875 56 \nQ 33.9375 56 38.25 53.625 \nQ 42.578125 51.265625 45.40625 46.390625 \nz\nM 14.796875 27.296875 \nQ 14.796875 17.390625 18.875 11.75 \nQ 22.953125 6.109375 30.078125 6.109375 \nQ 37.203125 6.109375 41.296875 11.75 \nQ 45.40625 17.390625 45.40625 27.296875 \nQ 45.40625 37.203125 41.296875 42.84375 \nQ 37.203125 48.484375 30.078125 48.484375 \nQ 22.953125 48.484375 18.875 42.84375 \nQ 14.796875 37.203125 14.796875 27.296875 \nz\n\" id=\"DejaVuSans-100\"/>\n       <path d=\"M 8.5 21.578125 \nL 8.5 54.6875 \nL 17.484375 54.6875 \nL 17.484375 21.921875 \nQ 17.484375 14.15625 20.5 10.265625 \nQ 23.53125 6.390625 29.59375 6.390625 \nQ 36.859375 6.390625 41.078125 11.03125 \nQ 45.3125 15.671875 45.3125 23.6875 \nL 45.3125 54.6875 \nL 54.296875 54.6875 \nL 54.296875 0 \nL 45.3125 0 \nL 45.3125 8.40625 \nQ 42.046875 3.421875 37.71875 1 \nQ 33.40625 -1.421875 27.6875 -1.421875 \nQ 18.265625 -1.421875 13.375 4.4375 \nQ 8.5 10.296875 8.5 21.578125 \nz\nM 31.109375 56 \nz\n\" id=\"DejaVuSans-117\"/>\n       <path d=\"M 41.109375 46.296875 \nQ 39.59375 47.171875 37.8125 47.578125 \nQ 36.03125 48 33.890625 48 \nQ 26.265625 48 22.1875 43.046875 \nQ 18.109375 38.09375 18.109375 28.8125 \nL 18.109375 0 \nL 9.078125 0 \nL 9.078125 54.6875 \nL 18.109375 54.6875 \nL 18.109375 46.1875 \nQ 20.953125 51.171875 25.484375 53.578125 \nQ 30.03125 56 36.53125 56 \nQ 37.453125 56 38.578125 55.875 \nQ 39.703125 55.765625 41.0625 55.515625 \nz\n\" id=\"DejaVuSans-114\"/>\n       <path d=\"M 34.28125 27.484375 \nQ 23.390625 27.484375 19.1875 25 \nQ 14.984375 22.515625 14.984375 16.5 \nQ 14.984375 11.71875 18.140625 8.90625 \nQ 21.296875 6.109375 26.703125 6.109375 \nQ 34.1875 6.109375 38.703125 11.40625 \nQ 43.21875 16.703125 43.21875 25.484375 \nL 43.21875 27.484375 \nz\nM 52.203125 31.203125 \nL 52.203125 0 \nL 43.21875 0 \nL 43.21875 8.296875 \nQ 40.140625 3.328125 35.546875 0.953125 \nQ 30.953125 -1.421875 24.3125 -1.421875 \nQ 15.921875 -1.421875 10.953125 3.296875 \nQ 6 8.015625 6 15.921875 \nQ 6 25.140625 12.171875 29.828125 \nQ 18.359375 34.515625 30.609375 34.515625 \nL 43.21875 34.515625 \nL 43.21875 35.40625 \nQ 43.21875 41.609375 39.140625 45 \nQ 35.0625 48.390625 27.6875 48.390625 \nQ 23 48.390625 18.546875 47.265625 \nQ 14.109375 46.140625 10.015625 43.890625 \nL 10.015625 52.203125 \nQ 14.9375 54.109375 19.578125 55.046875 \nQ 24.21875 56 28.609375 56 \nQ 40.484375 56 46.34375 49.84375 \nQ 52.203125 43.703125 52.203125 31.203125 \nz\n\" id=\"DejaVuSans-97\"/>\n       <path d=\"M 18.3125 70.21875 \nL 18.3125 54.6875 \nL 36.8125 54.6875 \nL 36.8125 47.703125 \nL 18.3125 47.703125 \nL 18.3125 18.015625 \nQ 18.3125 11.328125 20.140625 9.421875 \nQ 21.96875 7.515625 27.59375 7.515625 \nL 36.8125 7.515625 \nL 36.8125 0 \nL 27.59375 0 \nQ 17.1875 0 13.234375 3.875 \nQ 9.28125 7.765625 9.28125 18.015625 \nL 9.28125 47.703125 \nL 2.6875 47.703125 \nL 2.6875 54.6875 \nL 9.28125 54.6875 \nL 9.28125 70.21875 \nz\n\" id=\"DejaVuSans-116\"/>\n       <path d=\"M 9.421875 54.6875 \nL 18.40625 54.6875 \nL 18.40625 0 \nL 9.421875 0 \nz\nM 9.421875 75.984375 \nL 18.40625 75.984375 \nL 18.40625 64.59375 \nL 9.421875 64.59375 \nz\n\" id=\"DejaVuSans-105\"/>\n       <path d=\"M 30.609375 48.390625 \nQ 23.390625 48.390625 19.1875 42.75 \nQ 14.984375 37.109375 14.984375 27.296875 \nQ 14.984375 17.484375 19.15625 11.84375 \nQ 23.34375 6.203125 30.609375 6.203125 \nQ 37.796875 6.203125 41.984375 11.859375 \nQ 46.1875 17.53125 46.1875 27.296875 \nQ 46.1875 37.015625 41.984375 42.703125 \nQ 37.796875 48.390625 30.609375 48.390625 \nz\nM 30.609375 56 \nQ 42.328125 56 49.015625 48.375 \nQ 55.71875 40.765625 55.71875 27.296875 \nQ 55.71875 13.875 49.015625 6.21875 \nQ 42.328125 -1.421875 30.609375 -1.421875 \nQ 18.84375 -1.421875 12.171875 6.21875 \nQ 5.515625 13.875 5.515625 27.296875 \nQ 5.515625 40.765625 12.171875 48.375 \nQ 18.84375 56 30.609375 56 \nz\n\" id=\"DejaVuSans-111\"/>\n       <path d=\"M 54.890625 33.015625 \nL 54.890625 0 \nL 45.90625 0 \nL 45.90625 32.71875 \nQ 45.90625 40.484375 42.875 44.328125 \nQ 39.84375 48.1875 33.796875 48.1875 \nQ 26.515625 48.1875 22.3125 43.546875 \nQ 18.109375 38.921875 18.109375 30.90625 \nL 18.109375 0 \nL 9.078125 0 \nL 9.078125 54.6875 \nL 18.109375 54.6875 \nL 18.109375 46.1875 \nQ 21.34375 51.125 25.703125 53.5625 \nQ 30.078125 56 35.796875 56 \nQ 45.21875 56 50.046875 50.171875 \nQ 54.890625 44.34375 54.890625 33.015625 \nz\n\" id=\"DejaVuSans-110\"/>\n      </defs>\n      <g style=\"fill:#262626;\" transform=\"translate(184.842969 239.238437)scale(0.1 -0.1)\">\n       <use xlink:href=\"#DejaVuSans-100\"/>\n       <use x=\"63.476562\" xlink:href=\"#DejaVuSans-117\"/>\n       <use x=\"126.855469\" xlink:href=\"#DejaVuSans-114\"/>\n       <use x=\"167.96875\" xlink:href=\"#DejaVuSans-97\"/>\n       <use x=\"229.248047\" xlink:href=\"#DejaVuSans-116\"/>\n       <use x=\"268.457031\" xlink:href=\"#DejaVuSans-105\"/>\n       <use x=\"296.240234\" xlink:href=\"#DejaVuSans-111\"/>\n       <use x=\"357.421875\" xlink:href=\"#DejaVuSans-110\"/>\n      </g>\n     </g>\n    </g>\n   </g>\n   <g id=\"matplotlib.axis_2\">\n    <g id=\"ytick_1\">\n     <g id=\"line2d_2\">\n      <path clip-path=\"url(#pdc3892aa24)\" d=\"M 38.482813 210.833324 \nL 373.282813 210.833324 \n\" style=\"fill:none;stroke:#ffffff;stroke-linecap:round;stroke-width:0.8;\"/>\n     </g>\n     <g id=\"text_2\">\n      <!-- −1.5 -->\n      <defs>\n       <path d=\"M 10.59375 35.5 \nL 73.1875 35.5 \nL 73.1875 27.203125 \nL 10.59375 27.203125 \nz\n\" id=\"DejaVuSans-8722\"/>\n       <path d=\"M 12.40625 8.296875 \nL 28.515625 8.296875 \nL 28.515625 63.921875 \nL 10.984375 60.40625 \nL 10.984375 69.390625 \nL 28.421875 72.90625 \nL 38.28125 72.90625 \nL 38.28125 8.296875 \nL 54.390625 8.296875 \nL 54.390625 0 \nL 12.40625 0 \nz\n\" id=\"DejaVuSans-49\"/>\n       <path d=\"M 10.6875 12.40625 \nL 21 12.40625 \nL 21 0 \nL 10.6875 0 \nz\n\" id=\"DejaVuSans-46\"/>\n       <path d=\"M 10.796875 72.90625 \nL 49.515625 72.90625 \nL 49.515625 64.59375 \nL 19.828125 64.59375 \nL 19.828125 46.734375 \nQ 21.96875 47.46875 24.109375 47.828125 \nQ 26.265625 48.1875 28.421875 48.1875 \nQ 40.625 48.1875 47.75 41.5 \nQ 54.890625 34.8125 54.890625 23.390625 \nQ 54.890625 11.625 47.5625 5.09375 \nQ 40.234375 -1.421875 26.90625 -1.421875 \nQ 22.3125 -1.421875 17.546875 -0.640625 \nQ 12.796875 0.140625 7.71875 1.703125 \nL 7.71875 11.625 \nQ 12.109375 9.234375 16.796875 8.0625 \nQ 21.484375 6.890625 26.703125 6.890625 \nQ 35.15625 6.890625 40.078125 11.328125 \nQ 45.015625 15.765625 45.015625 23.390625 \nQ 45.015625 31 40.078125 35.4375 \nQ 35.15625 39.890625 26.703125 39.890625 \nQ 22.75 39.890625 18.8125 39.015625 \nQ 14.890625 38.140625 10.796875 36.28125 \nz\n\" id=\"DejaVuSans-53\"/>\n      </defs>\n      <g style=\"fill:#262626;\" transform=\"translate(7.2 214.632543)scale(0.1 -0.1)\">\n       <use xlink:href=\"#DejaVuSans-8722\"/>\n       <use x=\"83.789062\" xlink:href=\"#DejaVuSans-49\"/>\n       <use x=\"147.412109\" xlink:href=\"#DejaVuSans-46\"/>\n       <use x=\"179.199219\" xlink:href=\"#DejaVuSans-53\"/>\n      </g>\n     </g>\n    </g>\n    <g id=\"ytick_2\">\n     <g id=\"line2d_3\">\n      <path clip-path=\"url(#pdc3892aa24)\" d=\"M 38.482813 183.419937 \nL 373.282813 183.419937 \n\" style=\"fill:none;stroke:#ffffff;stroke-linecap:round;stroke-width:0.8;\"/>\n     </g>\n     <g id=\"text_3\">\n      <!-- −1.0 -->\n      <defs>\n       <path d=\"M 31.78125 66.40625 \nQ 24.171875 66.40625 20.328125 58.90625 \nQ 16.5 51.421875 16.5 36.375 \nQ 16.5 21.390625 20.328125 13.890625 \nQ 24.171875 6.390625 31.78125 6.390625 \nQ 39.453125 6.390625 43.28125 13.890625 \nQ 47.125 21.390625 47.125 36.375 \nQ 47.125 51.421875 43.28125 58.90625 \nQ 39.453125 66.40625 31.78125 66.40625 \nz\nM 31.78125 74.21875 \nQ 44.046875 74.21875 50.515625 64.515625 \nQ 56.984375 54.828125 56.984375 36.375 \nQ 56.984375 17.96875 50.515625 8.265625 \nQ 44.046875 -1.421875 31.78125 -1.421875 \nQ 19.53125 -1.421875 13.0625 8.265625 \nQ 6.59375 17.96875 6.59375 36.375 \nQ 6.59375 54.828125 13.0625 64.515625 \nQ 19.53125 74.21875 31.78125 74.21875 \nz\n\" id=\"DejaVuSans-48\"/>\n      </defs>\n      <g style=\"fill:#262626;\" transform=\"translate(7.2 187.219156)scale(0.1 -0.1)\">\n       <use xlink:href=\"#DejaVuSans-8722\"/>\n       <use x=\"83.789062\" xlink:href=\"#DejaVuSans-49\"/>\n       <use x=\"147.412109\" xlink:href=\"#DejaVuSans-46\"/>\n       <use x=\"179.199219\" xlink:href=\"#DejaVuSans-48\"/>\n      </g>\n     </g>\n    </g>\n    <g id=\"ytick_3\">\n     <g id=\"line2d_4\">\n      <path clip-path=\"url(#pdc3892aa24)\" d=\"M 38.482813 156.00655 \nL 373.282813 156.00655 \n\" style=\"fill:none;stroke:#ffffff;stroke-linecap:round;stroke-width:0.8;\"/>\n     </g>\n     <g id=\"text_4\">\n      <!-- −0.5 -->\n      <g style=\"fill:#262626;\" transform=\"translate(7.2 159.805769)scale(0.1 -0.1)\">\n       <use xlink:href=\"#DejaVuSans-8722\"/>\n       <use x=\"83.789062\" xlink:href=\"#DejaVuSans-48\"/>\n       <use x=\"147.412109\" xlink:href=\"#DejaVuSans-46\"/>\n       <use x=\"179.199219\" xlink:href=\"#DejaVuSans-53\"/>\n      </g>\n     </g>\n    </g>\n    <g id=\"ytick_4\">\n     <g id=\"line2d_5\">\n      <path clip-path=\"url(#pdc3892aa24)\" d=\"M 38.482813 128.593163 \nL 373.282813 128.593163 \n\" style=\"fill:none;stroke:#ffffff;stroke-linecap:round;stroke-width:0.8;\"/>\n     </g>\n     <g id=\"text_5\">\n      <!-- 0.0 -->\n      <g style=\"fill:#262626;\" transform=\"translate(15.579688 132.392381)scale(0.1 -0.1)\">\n       <use xlink:href=\"#DejaVuSans-48\"/>\n       <use x=\"63.623047\" xlink:href=\"#DejaVuSans-46\"/>\n       <use x=\"95.410156\" xlink:href=\"#DejaVuSans-48\"/>\n      </g>\n     </g>\n    </g>\n    <g id=\"ytick_5\">\n     <g id=\"line2d_6\">\n      <path clip-path=\"url(#pdc3892aa24)\" d=\"M 38.482813 101.179775 \nL 373.282813 101.179775 \n\" style=\"fill:none;stroke:#ffffff;stroke-linecap:round;stroke-width:0.8;\"/>\n     </g>\n     <g id=\"text_6\">\n      <!-- 0.5 -->\n      <g style=\"fill:#262626;\" transform=\"translate(15.579688 104.978994)scale(0.1 -0.1)\">\n       <use xlink:href=\"#DejaVuSans-48\"/>\n       <use x=\"63.623047\" xlink:href=\"#DejaVuSans-46\"/>\n       <use x=\"95.410156\" xlink:href=\"#DejaVuSans-53\"/>\n      </g>\n     </g>\n    </g>\n    <g id=\"ytick_6\">\n     <g id=\"line2d_7\">\n      <path clip-path=\"url(#pdc3892aa24)\" d=\"M 38.482813 73.766388 \nL 373.282813 73.766388 \n\" style=\"fill:none;stroke:#ffffff;stroke-linecap:round;stroke-width:0.8;\"/>\n     </g>\n     <g id=\"text_7\">\n      <!-- 1.0 -->\n      <g style=\"fill:#262626;\" transform=\"translate(15.579688 77.565607)scale(0.1 -0.1)\">\n       <use xlink:href=\"#DejaVuSans-49\"/>\n       <use x=\"63.623047\" xlink:href=\"#DejaVuSans-46\"/>\n       <use x=\"95.410156\" xlink:href=\"#DejaVuSans-48\"/>\n      </g>\n     </g>\n    </g>\n    <g id=\"ytick_7\">\n     <g id=\"line2d_8\">\n      <path clip-path=\"url(#pdc3892aa24)\" d=\"M 38.482813 46.353001 \nL 373.282813 46.353001 \n\" style=\"fill:none;stroke:#ffffff;stroke-linecap:round;stroke-width:0.8;\"/>\n     </g>\n     <g id=\"text_8\">\n      <!-- 1.5 -->\n      <g style=\"fill:#262626;\" transform=\"translate(15.579688 50.15222)scale(0.1 -0.1)\">\n       <use xlink:href=\"#DejaVuSans-49\"/>\n       <use x=\"63.623047\" xlink:href=\"#DejaVuSans-46\"/>\n       <use x=\"95.410156\" xlink:href=\"#DejaVuSans-53\"/>\n      </g>\n     </g>\n    </g>\n    <g id=\"ytick_8\">\n     <g id=\"line2d_9\">\n      <path clip-path=\"url(#pdc3892aa24)\" d=\"M 38.482813 18.939614 \nL 373.282813 18.939614 \n\" style=\"fill:none;stroke:#ffffff;stroke-linecap:round;stroke-width:0.8;\"/>\n     </g>\n     <g id=\"text_9\">\n      <!-- 2.0 -->\n      <defs>\n       <path d=\"M 19.1875 8.296875 \nL 53.609375 8.296875 \nL 53.609375 0 \nL 7.328125 0 \nL 7.328125 8.296875 \nQ 12.9375 14.109375 22.625 23.890625 \nQ 32.328125 33.6875 34.8125 36.53125 \nQ 39.546875 41.84375 41.421875 45.53125 \nQ 43.3125 49.21875 43.3125 52.78125 \nQ 43.3125 58.59375 39.234375 62.25 \nQ 35.15625 65.921875 28.609375 65.921875 \nQ 23.96875 65.921875 18.8125 64.3125 \nQ 13.671875 62.703125 7.8125 59.421875 \nL 7.8125 69.390625 \nQ 13.765625 71.78125 18.9375 73 \nQ 24.125 74.21875 28.421875 74.21875 \nQ 39.75 74.21875 46.484375 68.546875 \nQ 53.21875 62.890625 53.21875 53.421875 \nQ 53.21875 48.921875 51.53125 44.890625 \nQ 49.859375 40.875 45.40625 35.40625 \nQ 44.1875 33.984375 37.640625 27.21875 \nQ 31.109375 20.453125 19.1875 8.296875 \nz\n\" id=\"DejaVuSans-50\"/>\n      </defs>\n      <g style=\"fill:#262626;\" transform=\"translate(15.579688 22.738832)scale(0.1 -0.1)\">\n       <use xlink:href=\"#DejaVuSans-50\"/>\n       <use x=\"63.623047\" xlink:href=\"#DejaVuSans-46\"/>\n       <use x=\"95.410156\" xlink:href=\"#DejaVuSans-48\"/>\n      </g>\n     </g>\n    </g>\n   </g>\n   <g id=\"line2d_10\">\n    <path clip-path=\"url(#pdc3892aa24)\" d=\"M 180.772812 173.141053 \nL 230.992813 173.141053 \nL 230.992813 110.718086 \nL 180.772812 110.718086 \nL 180.772812 173.141053 \n\" style=\"fill:none;stroke:#1f77b4;stroke-linecap:round;\"/>\n   </g>\n   <g id=\"line2d_11\">\n    <path clip-path=\"url(#pdc3892aa24)\" d=\"M 205.882812 173.141053 \nL 205.882812 214.756364 \n\" style=\"fill:none;stroke:#1f77b4;stroke-linecap:round;\"/>\n   </g>\n   <g id=\"line2d_12\">\n    <path clip-path=\"url(#pdc3892aa24)\" d=\"M 205.882812 110.718086 \nL 205.882812 17.083636 \n\" style=\"fill:none;stroke:#1f77b4;stroke-linecap:round;\"/>\n   </g>\n   <g id=\"line2d_13\">\n    <path clip-path=\"url(#pdc3892aa24)\" d=\"M 193.327812 214.756364 \nL 218.437813 214.756364 \n\" style=\"fill:none;stroke:#000000;stroke-linecap:round;\"/>\n   </g>\n   <g id=\"line2d_14\">\n    <path clip-path=\"url(#pdc3892aa24)\" d=\"M 193.327812 17.083636 \nL 218.437813 17.083636 \n\" style=\"fill:none;stroke:#000000;stroke-linecap:round;\"/>\n   </g>\n   <g id=\"line2d_15\"/>\n   <g id=\"line2d_16\">\n    <path clip-path=\"url(#pdc3892aa24)\" d=\"M 180.772812 141.929569 \nL 230.992813 141.929569 \n\" style=\"fill:none;stroke:#2ca02c;stroke-linecap:round;\"/>\n   </g>\n   <g id=\"patch_3\">\n    <path d=\"M 38.482813 224.64 \nL 38.482813 7.2 \n\" style=\"fill:none;stroke:#ffffff;stroke-linecap:square;stroke-linejoin:miter;stroke-width:0.8;\"/>\n   </g>\n   <g id=\"patch_4\">\n    <path d=\"M 373.282813 224.64 \nL 373.282813 7.2 \n\" style=\"fill:none;stroke:#ffffff;stroke-linecap:square;stroke-linejoin:miter;stroke-width:0.8;\"/>\n   </g>\n   <g id=\"patch_5\">\n    <path d=\"M 38.482812 224.64 \nL 373.282813 224.64 \n\" style=\"fill:none;stroke:#ffffff;stroke-linecap:square;stroke-linejoin:miter;stroke-width:0.8;\"/>\n   </g>\n   <g id=\"patch_6\">\n    <path d=\"M 38.482812 7.2 \nL 373.282813 7.2 \n\" style=\"fill:none;stroke:#ffffff;stroke-linecap:square;stroke-linejoin:miter;stroke-width:0.8;\"/>\n   </g>\n  </g>\n </g>\n <defs>\n  <clipPath id=\"pdc3892aa24\">\n   <rect height=\"217.44\" width=\"334.8\" x=\"38.482813\" y=\"7.2\"/>\n  </clipPath>\n </defs>\n</svg>\n",
      "image/png": "[encoded data removed]"
     },
     "metadata": {}
    }
   ],
   "source": [
    "clean_X_train.boxplot(column=['duration',])"
   ]
  },
  {
   "source": [
    "try different values threshold and method"
   ],
   "cell_type": "markdown",
   "metadata": {}
  },
  {
   "source": [
    "### Generator interaction Num Features\n",
    "Numerical interaction generator features: A/B, A*B, A-B, A+B"
   ],
   "cell_type": "markdown",
   "metadata": {}
  },
  {
   "cell_type": "code",
   "execution_count": 27,
   "metadata": {
    "tags": []
   },
   "outputs": [
    {
     "output_type": "stream",
     "name": "stderr",
     "text": [
      "06:33:09 | Source data shape: (800, 20)\n",
      "06:33:09 | ##################################################\n",
      "06:33:09 | ! START preprocessing Data\n",
      "06:33:10 | - Auto detect cat features: 13\n",
      "06:33:10 | > Binary Features\n",
      "06:33:10 | > Clean Categorical Features\n",
      "06:33:10 | > Transform Categorical Features.\n",
      "06:33:10 |  - Encoder: HelmertEncoder ADD features: 39\n",
      "06:33:10 |  - Encoder: CountEncoder ADD features: 13\n",
      "06:33:10 |   No nans features\n",
      "06:33:10 | > Start fit DenoisingAutoencoder\n",
      "Epoch 1/25\n",
      "Epoch 2/25\n",
      "Epoch 3/25\n",
      "Epoch 4/25\n",
      "Epoch 5/25\n",
      "Epoch 6/25\n",
      "Epoch 7/25\n",
      "Epoch 8/25\n",
      "Epoch 9/25\n",
      "Epoch 10/25\n",
      "Epoch 11/25\n",
      "Epoch 12/25\n",
      "Epoch 13/25\n",
      "Epoch 14/25\n",
      "Epoch 15/25\n",
      "Epoch 16/25\n",
      "Epoch 17/25\n",
      "Epoch 18/25\n",
      "Epoch 19/25\n",
      "Epoch 20/25\n",
      "Epoch 21/25\n",
      "Epoch 22/25\n",
      "Epoch 23/25\n",
      "Epoch 24/25\n",
      "Epoch 25/25\n",
      "06:33:15 | > Add Denoising features\n",
      "06:33:15 | > CleanOutliers\n",
      "06:33:15 | Num of outlier detected: 10 in Feature duration\n",
      "06:33:15 | Proportion of outlier detected: 1.2 %\n",
      "06:33:15 | Num of outlier detected: 38 in Feature credit_amount\n",
      "06:33:15 | Proportion of outlier detected: 4.8 %\n",
      "06:33:15 | Num of outlier detected: 6 in Feature age\n",
      "06:33:15 | Proportion of outlier detected: 0.8 %\n",
      "06:33:15 | > Generate interaction Num Features\n",
      "06:33:15 |  ADD features: 75\n",
      "06:33:15 | > Normalization Features\n",
      "06:33:15 | ##################################################\n",
      "06:33:15 | Final data shape: (800, 159)\n",
      "06:33:15 | Total ADD columns: 139\n",
      "06:33:15 | ##################################################\n"
     ]
    }
   ],
   "source": [
    "de = DataPrepare(\n",
    "                num_generator_features=True, # Generator interaction Num Features\n",
    "                operations_num_generator=['/','*','-',],\n",
    "                )\n",
    "clean_X_train = de.fit_transform(X_train)"
   ]
  },
  {
   "cell_type": "code",
   "execution_count": 28,
   "metadata": {},
   "outputs": [
    {
     "output_type": "execute_result",
     "data": {
      "text/plain": [
       "   num_dependents  own_telephone  foreign_worker  \\\n",
       "0             1.0              1               1   \n",
       "1             1.0              0               1   \n",
       "2             1.0              0               1   \n",
       "3             1.0              1               1   \n",
       "4             1.0              0               1   \n",
       "\n",
       "   HelmertEncoder_checking_status_2  HelmertEncoder_credit_history_3  \\\n",
       "0                              -1.0                             -1.0   \n",
       "1                              -1.0                             -1.0   \n",
       "2                              -1.0                             -1.0   \n",
       "3                              -1.0                             -1.0   \n",
       "4                              -1.0                             -1.0   \n",
       "\n",
       "   HelmertEncoder_savings_status_3  HelmertEncoder_employment_3  \\\n",
       "0                             -1.0                         -1.0   \n",
       "1                             -1.0                         -1.0   \n",
       "2                             -1.0                         -1.0   \n",
       "3                             -1.0                         -1.0   \n",
       "4                             -1.0                         -1.0   \n",
       "\n",
       "   HelmertEncoder_installment_commitment_2  HelmertEncoder_personal_status_2  \\\n",
       "0                                     -1.0                              -1.0   \n",
       "1                                     -1.0                              -1.0   \n",
       "2                                     -1.0                              -1.0   \n",
       "3                                     -1.0                              -1.0   \n",
       "4                                      3.0                              -1.0   \n",
       "\n",
       "   HelmertEncoder_other_parties_1  ...  credit_amount_*_age  \\\n",
       "0                            -1.0  ...             3.092961   \n",
       "1                            -1.0  ...            -0.383651   \n",
       "2                            -1.0  ...            -0.528226   \n",
       "3                            -1.0  ...             0.289405   \n",
       "4                            -1.0  ...            -0.952262   \n",
       "\n",
       "   credit_amount_*_existing_credits  credit_amount_*_residence_since  \\\n",
       "0                          2.068558                         2.101616   \n",
       "1                         -0.522170                        -0.813868   \n",
       "2                         -0.769308                        -0.508048   \n",
       "3                          1.231985                         1.247417   \n",
       "4                         -0.849178                        -0.877595   \n",
       "\n",
       "   credit_amount_*_installment_commitment  age_*_existing_credits  \\\n",
       "0                                1.656095                2.493409   \n",
       "1                               -0.575610               -0.599913   \n",
       "2                               -0.880202               -0.034467   \n",
       "3                               -0.524283                0.231625   \n",
       "4                               -0.729453               -0.999052   \n",
       "\n",
       "   age_*_residence_since  age_*_installment_commitment  \\\n",
       "0               2.426710                      1.541039   \n",
       "1              -1.180281                     -0.738207   \n",
       "2               1.570256                     -0.108172   \n",
       "3               0.186752                     -1.423834   \n",
       "4              -1.032048                     -0.404659   \n",
       "\n",
       "   existing_credits_*_residence_since  \\\n",
       "0                            1.576737   \n",
       "1                           -1.229023   \n",
       "2                           -0.026555   \n",
       "3                            1.576737   \n",
       "4                           -0.828200   \n",
       "\n",
       "   existing_credits_*_installment_commitment  \\\n",
       "0                                   0.742693   \n",
       "1                                  -0.900888   \n",
       "2                                  -0.900888   \n",
       "3                                  -0.900888   \n",
       "4                                  -0.079097   \n",
       "\n",
       "   residence_since_*_installment_commitment  \n",
       "0                                  0.742980  \n",
       "1                                 -1.364766  \n",
       "2                                 -0.100118  \n",
       "3                                 -0.943216  \n",
       "4                                 -0.100118  \n",
       "\n",
       "[5 rows x 159 columns]"
      ],
      "text/html": "<div>\n<style scoped>\n    .dataframe tbody tr th:only-of-type {\n        vertical-align: middle;\n    }\n\n    .dataframe tbody tr th {\n        vertical-align: top;\n    }\n\n    .dataframe thead th {\n        text-align: right;\n    }\n</style>\n<table border=\"1\" class=\"dataframe\">\n  <thead>\n    <tr style=\"text-align: right;\">\n      <th></th>\n      <th>num_dependents</th>\n      <th>own_telephone</th>\n      <th>foreign_worker</th>\n      <th>HelmertEncoder_checking_status_2</th>\n      <th>HelmertEncoder_credit_history_3</th>\n      <th>HelmertEncoder_savings_status_3</th>\n      <th>HelmertEncoder_employment_3</th>\n      <th>HelmertEncoder_installment_commitment_2</th>\n      <th>HelmertEncoder_personal_status_2</th>\n      <th>HelmertEncoder_other_parties_1</th>\n      <th>...</th>\n      <th>credit_amount_*_age</th>\n      <th>credit_amount_*_existing_credits</th>\n      <th>credit_amount_*_residence_since</th>\n      <th>credit_amount_*_installment_commitment</th>\n      <th>age_*_existing_credits</th>\n      <th>age_*_residence_since</th>\n      <th>age_*_installment_commitment</th>\n      <th>existing_credits_*_residence_since</th>\n      <th>existing_credits_*_installment_commitment</th>\n      <th>residence_since_*_installment_commitment</th>\n    </tr>\n  </thead>\n  <tbody>\n    <tr>\n      <th>0</th>\n      <td>1.0</td>\n      <td>1</td>\n      <td>1</td>\n      <td>-1.0</td>\n      <td>-1.0</td>\n      <td>-1.0</td>\n      <td>-1.0</td>\n      <td>-1.0</td>\n      <td>-1.0</td>\n      <td>-1.0</td>\n      <td>...</td>\n      <td>3.092961</td>\n      <td>2.068558</td>\n      <td>2.101616</td>\n      <td>1.656095</td>\n      <td>2.493409</td>\n      <td>2.426710</td>\n      <td>1.541039</td>\n      <td>1.576737</td>\n      <td>0.742693</td>\n      <td>0.742980</td>\n    </tr>\n    <tr>\n      <th>1</th>\n      <td>1.0</td>\n      <td>0</td>\n      <td>1</td>\n      <td>-1.0</td>\n      <td>-1.0</td>\n      <td>-1.0</td>\n      <td>-1.0</td>\n      <td>-1.0</td>\n      <td>-1.0</td>\n      <td>-1.0</td>\n      <td>...</td>\n      <td>-0.383651</td>\n      <td>-0.522170</td>\n      <td>-0.813868</td>\n      <td>-0.575610</td>\n      <td>-0.599913</td>\n      <td>-1.180281</td>\n      <td>-0.738207</td>\n      <td>-1.229023</td>\n      <td>-0.900888</td>\n      <td>-1.364766</td>\n    </tr>\n    <tr>\n      <th>2</th>\n      <td>1.0</td>\n      <td>0</td>\n      <td>1</td>\n      <td>-1.0</td>\n      <td>-1.0</td>\n      <td>-1.0</td>\n      <td>-1.0</td>\n      <td>-1.0</td>\n      <td>-1.0</td>\n      <td>-1.0</td>\n      <td>...</td>\n      <td>-0.528226</td>\n      <td>-0.769308</td>\n      <td>-0.508048</td>\n      <td>-0.880202</td>\n      <td>-0.034467</td>\n      <td>1.570256</td>\n      <td>-0.108172</td>\n      <td>-0.026555</td>\n      <td>-0.900888</td>\n      <td>-0.100118</td>\n    </tr>\n    <tr>\n      <th>3</th>\n      <td>1.0</td>\n      <td>1</td>\n      <td>1</td>\n      <td>-1.0</td>\n      <td>-1.0</td>\n      <td>-1.0</td>\n      <td>-1.0</td>\n      <td>-1.0</td>\n      <td>-1.0</td>\n      <td>-1.0</td>\n      <td>...</td>\n      <td>0.289405</td>\n      <td>1.231985</td>\n      <td>1.247417</td>\n      <td>-0.524283</td>\n      <td>0.231625</td>\n      <td>0.186752</td>\n      <td>-1.423834</td>\n      <td>1.576737</td>\n      <td>-0.900888</td>\n      <td>-0.943216</td>\n    </tr>\n    <tr>\n      <th>4</th>\n      <td>1.0</td>\n      <td>0</td>\n      <td>1</td>\n      <td>-1.0</td>\n      <td>-1.0</td>\n      <td>-1.0</td>\n      <td>-1.0</td>\n      <td>3.0</td>\n      <td>-1.0</td>\n      <td>-1.0</td>\n      <td>...</td>\n      <td>-0.952262</td>\n      <td>-0.849178</td>\n      <td>-0.877595</td>\n      <td>-0.729453</td>\n      <td>-0.999052</td>\n      <td>-1.032048</td>\n      <td>-0.404659</td>\n      <td>-0.828200</td>\n      <td>-0.079097</td>\n      <td>-0.100118</td>\n    </tr>\n  </tbody>\n</table>\n<p>5 rows × 159 columns</p>\n</div>"
     },
     "metadata": {},
     "execution_count": 28
    }
   ],
   "source": [
    "clean_X_train.head(5)"
   ]
  },
  {
   "source": [
    "### Normalization"
   ],
   "cell_type": "markdown",
   "metadata": {}
  },
  {
   "cell_type": "code",
   "execution_count": 36,
   "metadata": {},
   "outputs": [
    {
     "output_type": "execute_result",
     "data": {
      "text/plain": [
       "   num_dependents  own_telephone  foreign_worker  \\\n",
       "0             1.0              1               1   \n",
       "1             1.0              0               1   \n",
       "2             1.0              0               1   \n",
       "3             1.0              1               1   \n",
       "4             1.0              0               1   \n",
       "\n",
       "   HelmertEncoder_checking_status_2  HelmertEncoder_credit_history_3  \\\n",
       "0                              -1.0                             -1.0   \n",
       "1                              -1.0                             -1.0   \n",
       "2                              -1.0                             -1.0   \n",
       "3                              -1.0                             -1.0   \n",
       "4                              -1.0                             -1.0   \n",
       "\n",
       "   HelmertEncoder_savings_status_3  HelmertEncoder_employment_3  \\\n",
       "0                             -1.0                         -1.0   \n",
       "1                             -1.0                         -1.0   \n",
       "2                             -1.0                         -1.0   \n",
       "3                             -1.0                         -1.0   \n",
       "4                             -1.0                         -1.0   \n",
       "\n",
       "   HelmertEncoder_installment_commitment_2  HelmertEncoder_personal_status_2  \\\n",
       "0                                     -1.0                              -1.0   \n",
       "1                                     -1.0                              -1.0   \n",
       "2                                     -1.0                              -1.0   \n",
       "3                                     -1.0                              -1.0   \n",
       "4                                      3.0                              -1.0   \n",
       "\n",
       "   HelmertEncoder_other_parties_1  ...  credit_amount_*_age  \\\n",
       "0                            -1.0  ...             3.092961   \n",
       "1                            -1.0  ...            -0.383651   \n",
       "2                            -1.0  ...            -0.528226   \n",
       "3                            -1.0  ...             0.289405   \n",
       "4                            -1.0  ...            -0.952262   \n",
       "\n",
       "   credit_amount_*_existing_credits  credit_amount_*_residence_since  \\\n",
       "0                          2.068558                         2.101616   \n",
       "1                         -0.522170                        -0.813868   \n",
       "2                         -0.769308                        -0.508048   \n",
       "3                          1.231985                         1.247417   \n",
       "4                         -0.849178                        -0.877595   \n",
       "\n",
       "   credit_amount_*_installment_commitment  age_*_existing_credits  \\\n",
       "0                                1.656095                2.493409   \n",
       "1                               -0.575610               -0.599913   \n",
       "2                               -0.880202               -0.034467   \n",
       "3                               -0.524283                0.231625   \n",
       "4                               -0.729453               -0.999052   \n",
       "\n",
       "   age_*_residence_since  age_*_installment_commitment  \\\n",
       "0               2.426710                      1.541039   \n",
       "1              -1.180281                     -0.738207   \n",
       "2               1.570256                     -0.108172   \n",
       "3               0.186752                     -1.423834   \n",
       "4              -1.032048                     -0.404659   \n",
       "\n",
       "   existing_credits_*_residence_since  \\\n",
       "0                            1.576737   \n",
       "1                           -1.229023   \n",
       "2                           -0.026555   \n",
       "3                            1.576737   \n",
       "4                           -0.828200   \n",
       "\n",
       "   existing_credits_*_installment_commitment  \\\n",
       "0                                   0.742693   \n",
       "1                                  -0.900888   \n",
       "2                                  -0.900888   \n",
       "3                                  -0.900888   \n",
       "4                                  -0.079097   \n",
       "\n",
       "   residence_since_*_installment_commitment  \n",
       "0                                  0.742980  \n",
       "1                                 -1.364766  \n",
       "2                                 -0.100118  \n",
       "3                                 -0.943216  \n",
       "4                                 -0.100118  \n",
       "\n",
       "[5 rows x 159 columns]"
      ],
      "text/html": "<div>\n<style scoped>\n    .dataframe tbody tr th:only-of-type {\n        vertical-align: middle;\n    }\n\n    .dataframe tbody tr th {\n        vertical-align: top;\n    }\n\n    .dataframe thead th {\n        text-align: right;\n    }\n</style>\n<table border=\"1\" class=\"dataframe\">\n  <thead>\n    <tr style=\"text-align: right;\">\n      <th></th>\n      <th>num_dependents</th>\n      <th>own_telephone</th>\n      <th>foreign_worker</th>\n      <th>HelmertEncoder_checking_status_2</th>\n      <th>HelmertEncoder_credit_history_3</th>\n      <th>HelmertEncoder_savings_status_3</th>\n      <th>HelmertEncoder_employment_3</th>\n      <th>HelmertEncoder_installment_commitment_2</th>\n      <th>HelmertEncoder_personal_status_2</th>\n      <th>HelmertEncoder_other_parties_1</th>\n      <th>...</th>\n      <th>credit_amount_*_age</th>\n      <th>credit_amount_*_existing_credits</th>\n      <th>credit_amount_*_residence_since</th>\n      <th>credit_amount_*_installment_commitment</th>\n      <th>age_*_existing_credits</th>\n      <th>age_*_residence_since</th>\n      <th>age_*_installment_commitment</th>\n      <th>existing_credits_*_residence_since</th>\n      <th>existing_credits_*_installment_commitment</th>\n      <th>residence_since_*_installment_commitment</th>\n    </tr>\n  </thead>\n  <tbody>\n    <tr>\n      <th>0</th>\n      <td>1.0</td>\n      <td>1</td>\n      <td>1</td>\n      <td>-1.0</td>\n      <td>-1.0</td>\n      <td>-1.0</td>\n      <td>-1.0</td>\n      <td>-1.0</td>\n      <td>-1.0</td>\n      <td>-1.0</td>\n      <td>...</td>\n      <td>3.092961</td>\n      <td>2.068558</td>\n      <td>2.101616</td>\n      <td>1.656095</td>\n      <td>2.493409</td>\n      <td>2.426710</td>\n      <td>1.541039</td>\n      <td>1.576737</td>\n      <td>0.742693</td>\n      <td>0.742980</td>\n    </tr>\n    <tr>\n      <th>1</th>\n      <td>1.0</td>\n      <td>0</td>\n      <td>1</td>\n      <td>-1.0</td>\n      <td>-1.0</td>\n      <td>-1.0</td>\n      <td>-1.0</td>\n      <td>-1.0</td>\n      <td>-1.0</td>\n      <td>-1.0</td>\n      <td>...</td>\n      <td>-0.383651</td>\n      <td>-0.522170</td>\n      <td>-0.813868</td>\n      <td>-0.575610</td>\n      <td>-0.599913</td>\n      <td>-1.180281</td>\n      <td>-0.738207</td>\n      <td>-1.229023</td>\n      <td>-0.900888</td>\n      <td>-1.364766</td>\n    </tr>\n    <tr>\n      <th>2</th>\n      <td>1.0</td>\n      <td>0</td>\n      <td>1</td>\n      <td>-1.0</td>\n      <td>-1.0</td>\n      <td>-1.0</td>\n      <td>-1.0</td>\n      <td>-1.0</td>\n      <td>-1.0</td>\n      <td>-1.0</td>\n      <td>...</td>\n      <td>-0.528226</td>\n      <td>-0.769308</td>\n      <td>-0.508048</td>\n      <td>-0.880202</td>\n      <td>-0.034467</td>\n      <td>1.570256</td>\n      <td>-0.108172</td>\n      <td>-0.026555</td>\n      <td>-0.900888</td>\n      <td>-0.100118</td>\n    </tr>\n    <tr>\n      <th>3</th>\n      <td>1.0</td>\n      <td>1</td>\n      <td>1</td>\n      <td>-1.0</td>\n      <td>-1.0</td>\n      <td>-1.0</td>\n      <td>-1.0</td>\n      <td>-1.0</td>\n      <td>-1.0</td>\n      <td>-1.0</td>\n      <td>...</td>\n      <td>0.289405</td>\n      <td>1.231985</td>\n      <td>1.247417</td>\n      <td>-0.524283</td>\n      <td>0.231625</td>\n      <td>0.186752</td>\n      <td>-1.423834</td>\n      <td>1.576737</td>\n      <td>-0.900888</td>\n      <td>-0.943216</td>\n    </tr>\n    <tr>\n      <th>4</th>\n      <td>1.0</td>\n      <td>0</td>\n      <td>1</td>\n      <td>-1.0</td>\n      <td>-1.0</td>\n      <td>-1.0</td>\n      <td>-1.0</td>\n      <td>3.0</td>\n      <td>-1.0</td>\n      <td>-1.0</td>\n      <td>...</td>\n      <td>-0.952262</td>\n      <td>-0.849178</td>\n      <td>-0.877595</td>\n      <td>-0.729453</td>\n      <td>-0.999052</td>\n      <td>-1.032048</td>\n      <td>-0.404659</td>\n      <td>-0.828200</td>\n      <td>-0.079097</td>\n      <td>-0.100118</td>\n    </tr>\n  </tbody>\n</table>\n<p>5 rows × 159 columns</p>\n</div>"
     },
     "metadata": {},
     "execution_count": 36
    }
   ],
   "source": [
    "de = DataPrepare(\n",
    "    normalization=True, # normalization data - StandardScaler\n",
    "    verbose=0,\n",
    "    )\n",
    "clean_X_train = de.fit_transform(X_train)\n",
    "clean_X_train.head(5)"
   ]
  },
  {
   "cell_type": "markdown",
   "metadata": {},
   "source": [
    "Even with such smart preprocessing, don't forget the basic DS rule: **Garbage in the input is garbage in the output.**"
   ]
  },
  {
   "cell_type": "markdown",
   "metadata": {},
   "source": [
    "[RUS] Даже с такой умной предобработкой не забывайте: Мусор на входе - мусор на выходе."
   ]
  },
  {
   "source": [
    "<img src=\"./img/data-cleaning.png\" width=\"700\">"
   ],
   "cell_type": "markdown",
   "metadata": {}
  },
  {
   "cell_type": "code",
   "execution_count": null,
   "metadata": {},
   "outputs": [],
   "source": []
  },
  {
   "cell_type": "code",
   "execution_count": null,
   "metadata": {},
   "outputs": [],
   "source": []
  }
 ],
 "metadata": {
  "kernelspec": {
   "display_name": "Python 3",
   "language": "python",
   "name": "python3"
  },
  "language_info": {
   "codemirror_mode": {
    "name": "ipython",
    "version": 3
   },
   "file_extension": ".py",
   "mimetype": "text/x-python",
   "name": "python",
   "nbconvert_exporter": "python",
   "pygments_lexer": "ipython3",
   "version": "3.8.3-final"
  },
  "toc": {
   "base_numbering": 1,
   "nav_menu": {},
   "number_sections": false,
   "sideBar": true,
   "skip_h1_title": false,
   "title_cell": "Table of Contents",
   "title_sidebar": "Contents",
   "toc_cell": false,
   "toc_position": {
    "height": "calc(100% - 180px)",
    "left": "10px",
    "top": "150px",
    "width": "165px"
   },
   "toc_section_display": true,
   "toc_window_display": true
  }
 },
 "nbformat": 4,
 "nbformat_minor": 4
}