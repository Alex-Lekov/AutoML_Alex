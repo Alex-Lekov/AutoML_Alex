{
 "cells": [
  {
   "cell_type": "code",
   "execution_count": 1,
   "metadata": {
    "ExecuteTime": {
     "end_time": "2020-05-07T04:23:49.057981Z",
     "start_time": "2020-05-07T04:23:49.053936Z"
    }
   },
   "outputs": [],
   "source": [
    "# If you run this notebook on Google Colaboratory, uncomment the below to install automl_alex.\n",
    "#!pip install -U -q automl-alex"
   ]
  },
  {
   "cell_type": "code",
   "execution_count": 1,
   "metadata": {
    "ExecuteTime": {
     "end_time": "2020-05-07T04:23:53.125987Z",
     "start_time": "2020-05-07T04:23:49.634140Z"
    },
    "tags": []
   },
   "outputs": [
    {
     "output_type": "stream",
     "name": "stdout",
     "text": [
      "1.02.15\n"
     ]
    }
   ],
   "source": [
    "import sklearn\n",
    "from sklearn.model_selection import train_test_split\n",
    "from sklearn.datasets import fetch_openml\n",
    "\n",
    "import automl_alex\n",
    "from automl_alex import DataPrepare\n",
    "\n",
    "print(automl_alex.__version__)"
   ]
  },
  {
   "cell_type": "code",
   "execution_count": 2,
   "metadata": {
    "ExecuteTime": {
     "end_time": "2020-05-07T04:23:53.136324Z",
     "start_time": "2020-05-07T04:23:53.129088Z"
    }
   },
   "outputs": [],
   "source": [
    "RANDOM_SEED = 42"
   ]
  },
  {
   "cell_type": "markdown",
   "metadata": {},
   "source": [
    "# Load Data"
   ]
  },
  {
   "cell_type": "code",
   "execution_count": 3,
   "metadata": {
    "ExecuteTime": {
     "end_time": "2020-05-07T04:23:54.266953Z",
     "start_time": "2020-05-07T04:23:53.244733Z"
    }
   },
   "outputs": [
    {
     "output_type": "execute_result",
     "data": {
      "text/plain": [
       "  age         workclass    fnlwgt  education  education-num  \\\n",
       "0   2         State-gov   77516.0  Bachelors           13.0   \n",
       "1   3  Self-emp-not-inc   83311.0  Bachelors           13.0   \n",
       "2   2           Private  215646.0    HS-grad            9.0   \n",
       "3   3           Private  234721.0       11th            7.0   \n",
       "4   1           Private  338409.0  Bachelors           13.0   \n",
       "\n",
       "       marital-status         occupation   relationship   race     sex  \\\n",
       "0       Never-married       Adm-clerical  Not-in-family  White    Male   \n",
       "1  Married-civ-spouse    Exec-managerial        Husband  White    Male   \n",
       "2            Divorced  Handlers-cleaners  Not-in-family  White    Male   \n",
       "3  Married-civ-spouse  Handlers-cleaners        Husband  Black    Male   \n",
       "4  Married-civ-spouse     Prof-specialty           Wife  Black  Female   \n",
       "\n",
       "  capitalgain capitalloss hoursperweek native-country  \n",
       "0           1           0            2  United-States  \n",
       "1           0           0            0  United-States  \n",
       "2           0           0            2  United-States  \n",
       "3           0           0            2  United-States  \n",
       "4           0           0            2           Cuba  "
      ],
      "text/html": "<div>\n<style scoped>\n    .dataframe tbody tr th:only-of-type {\n        vertical-align: middle;\n    }\n\n    .dataframe tbody tr th {\n        vertical-align: top;\n    }\n\n    .dataframe thead th {\n        text-align: right;\n    }\n</style>\n<table border=\"1\" class=\"dataframe\">\n  <thead>\n    <tr style=\"text-align: right;\">\n      <th></th>\n      <th>age</th>\n      <th>workclass</th>\n      <th>fnlwgt</th>\n      <th>education</th>\n      <th>education-num</th>\n      <th>marital-status</th>\n      <th>occupation</th>\n      <th>relationship</th>\n      <th>race</th>\n      <th>sex</th>\n      <th>capitalgain</th>\n      <th>capitalloss</th>\n      <th>hoursperweek</th>\n      <th>native-country</th>\n    </tr>\n  </thead>\n  <tbody>\n    <tr>\n      <th>0</th>\n      <td>2</td>\n      <td>State-gov</td>\n      <td>77516.0</td>\n      <td>Bachelors</td>\n      <td>13.0</td>\n      <td>Never-married</td>\n      <td>Adm-clerical</td>\n      <td>Not-in-family</td>\n      <td>White</td>\n      <td>Male</td>\n      <td>1</td>\n      <td>0</td>\n      <td>2</td>\n      <td>United-States</td>\n    </tr>\n    <tr>\n      <th>1</th>\n      <td>3</td>\n      <td>Self-emp-not-inc</td>\n      <td>83311.0</td>\n      <td>Bachelors</td>\n      <td>13.0</td>\n      <td>Married-civ-spouse</td>\n      <td>Exec-managerial</td>\n      <td>Husband</td>\n      <td>White</td>\n      <td>Male</td>\n      <td>0</td>\n      <td>0</td>\n      <td>0</td>\n      <td>United-States</td>\n    </tr>\n    <tr>\n      <th>2</th>\n      <td>2</td>\n      <td>Private</td>\n      <td>215646.0</td>\n      <td>HS-grad</td>\n      <td>9.0</td>\n      <td>Divorced</td>\n      <td>Handlers-cleaners</td>\n      <td>Not-in-family</td>\n      <td>White</td>\n      <td>Male</td>\n      <td>0</td>\n      <td>0</td>\n      <td>2</td>\n      <td>United-States</td>\n    </tr>\n    <tr>\n      <th>3</th>\n      <td>3</td>\n      <td>Private</td>\n      <td>234721.0</td>\n      <td>11th</td>\n      <td>7.0</td>\n      <td>Married-civ-spouse</td>\n      <td>Handlers-cleaners</td>\n      <td>Husband</td>\n      <td>Black</td>\n      <td>Male</td>\n      <td>0</td>\n      <td>0</td>\n      <td>2</td>\n      <td>United-States</td>\n    </tr>\n    <tr>\n      <th>4</th>\n      <td>1</td>\n      <td>Private</td>\n      <td>338409.0</td>\n      <td>Bachelors</td>\n      <td>13.0</td>\n      <td>Married-civ-spouse</td>\n      <td>Prof-specialty</td>\n      <td>Wife</td>\n      <td>Black</td>\n      <td>Female</td>\n      <td>0</td>\n      <td>0</td>\n      <td>2</td>\n      <td>Cuba</td>\n    </tr>\n  </tbody>\n</table>\n</div>"
     },
     "metadata": {},
     "execution_count": 3
    }
   ],
   "source": [
    "dataset = fetch_openml(name='adult', version=1, as_frame=True)\n",
    "# convert target to binary\n",
    "dataset.target = dataset.target.astype('category').cat.codes\n",
    "dataset.data.head(5)"
   ]
  },
  {
   "cell_type": "code",
   "execution_count": 4,
   "metadata": {
    "ExecuteTime": {
     "end_time": "2020-05-07T04:23:54.292030Z",
     "start_time": "2020-05-07T04:23:54.276548Z"
    }
   },
   "outputs": [
    {
     "output_type": "execute_result",
     "data": {
      "text/plain": [
       "((39073, 14), (9769, 14))"
      ]
     },
     "metadata": {},
     "execution_count": 4
    }
   ],
   "source": [
    "X_train, X_test, y_train, y_test = train_test_split(dataset.data, \n",
    "                                                    dataset.target,\n",
    "                                                    test_size=0.2, \n",
    "                                                    random_state=RANDOM_SEED,)\n",
    "X_train.shape, X_test.shape"
   ]
  },
  {
   "cell_type": "code",
   "execution_count": 5,
   "metadata": {},
   "outputs": [
    {
     "output_type": "stream",
     "name": "stdout",
     "text": [
      "<class 'pandas.core.frame.DataFrame'>\nInt64Index: 39073 entries, 37193 to 15795\nData columns (total 14 columns):\n #   Column          Non-Null Count  Dtype   \n---  ------          --------------  -----   \n 0   age             39073 non-null  category\n 1   workclass       36851 non-null  category\n 2   fnlwgt          39073 non-null  float64 \n 3   education       39073 non-null  category\n 4   education-num   39073 non-null  float64 \n 5   marital-status  39073 non-null  category\n 6   occupation      36842 non-null  category\n 7   relationship    39073 non-null  category\n 8   race            39073 non-null  category\n 9   sex             39073 non-null  category\n 10  capitalgain     39073 non-null  category\n 11  capitalloss     39073 non-null  category\n 12  hoursperweek    39073 non-null  category\n 13  native-country  38396 non-null  category\ndtypes: category(12), float64(2)\nmemory usage: 1.3 MB\n"
     ]
    }
   ],
   "source": [
    "X_train.info()"
   ]
  },
  {
   "source": [
    "As we can see, the data is quite dirty, there are object/category features and nans. But the **model is successfully trained even in such a dirty dataset**      \n",
    "[RUS] Как мы видим, данные довольно грязные, есть object/category признаки и nans. Но модель успешно обучаеться даже таком грязном датасете"
   ],
   "cell_type": "markdown",
   "metadata": {}
  },
  {
   "cell_type": "markdown",
   "metadata": {},
   "source": [
    "# Data Cleaning (DataPrepare)\n",
    "before entering the AutoML, the data goes through a full cycle of pre-processing in DataPrepare Class     \n",
    "[RUS] до того как попасть в AutoML, данные проходят полный цикл предобработки в классе DataPrepare. Давайте расмотрим его отдельно"
   ]
  },
  {
   "cell_type": "code",
   "execution_count": 6,
   "metadata": {},
   "outputs": [
    {
     "output_type": "stream",
     "name": "stdout",
     "text": [
      "Source data shape:  (39073, 14)\n",
      "##################################################\n",
      "! START preprocessing Data\n",
      "- Auto detect cat features:  12\n",
      "> Binary Features\n",
      "> Clean Categorical Features\n",
      "> Transform Categorical Features.\n",
      " - Encoder: HelmertEncoder ADD features: 123\n",
      " - Encoder: HashingEncoder ADD features: 12\n",
      "Num of outlier detected: 560 in Feature fnlwgt\n",
      "Proportion of outlier detected: 1.4 %\n",
      "Num of outlier detected: 253 in Feature education-num\n",
      "Proportion of outlier detected: 0.6 %\n",
      "  No nans features\n",
      "> Generate interaction Num Features\n",
      " ADD features: 3\n",
      "> Normalization Features\n",
      "##################################################\n",
      "Final data shape:  (39073, 154)\n",
      "Total ADD columns: 140\n",
      "Memory usage of dataframe is 45.91 MB\n",
      "Memory usage after optimization is: 11.48 MB\n",
      "Decreased by 75.0%\n"
     ]
    }
   ],
   "source": [
    "de = DataPrepare(clean_and_encod_data=True,\n",
    "                #cat_encoder_names=['HelmertEncoder','CountEncoder'], # Encoders list for Generator cat encodet features\n",
    "                clean_nan=True, # fillnan\n",
    "                clean_outliers=True, # method='IQR', threshold=1.5,\n",
    "                drop_invariant=True, # drop invariant features (data.nunique < 2)\n",
    "                num_generator_features=True, # Generator interaction Num Features\n",
    "                normalization=True, # normalization data (StandardScaler)\n",
    "                cat_features=None, # DataPrepare can auto detect categorical features\n",
    "                random_state=RANDOM_SEED)\n",
    "clean_X_train = de.fit_transform(X_train)"
   ]
  },
  {
   "cell_type": "code",
   "execution_count": 7,
   "metadata": {},
   "outputs": [
    {
     "output_type": "execute_result",
     "data": {
      "text/plain": [
       "        age  workclass    fnlwgt  education  education-num  marital-status  \\\n",
       "0 -1.213867  -0.578613 -1.393555  -0.994141      -0.427490       -0.938477   \n",
       "1 -0.540527   0.008980 -0.445557  -0.737793       1.541016       -0.938477   \n",
       "2 -1.213867   0.596680  0.647461  -0.481689      -0.820801       -0.938477   \n",
       "3  0.132446  -0.578613 -1.203125  -0.994141      -0.427490       -0.259766   \n",
       "4  0.132446   1.183594 -1.618164  -0.994141      -0.427490        0.419189   \n",
       "\n",
       "   occupation  relationship      race      sex  ...  HashingEncoder_race  \\\n",
       "0   -1.571289     -0.973145 -0.343994  0.70459  ...            -0.343994   \n",
       "1   -1.293945     -0.973145 -0.343994  0.70459  ...            -0.343994   \n",
       "2   -1.015625     -0.973145 -0.343994  0.70459  ...            -0.343994   \n",
       "3   -0.737305     -0.356934 -0.343994  0.70459  ...            -0.343994   \n",
       "4   -0.459229      0.259277 -0.343994  0.70459  ...            -0.343994   \n",
       "\n",
       "   HashingEncoder_capitalgain  HashingEncoder_capitalloss  \\\n",
       "0                   -0.270752                    -0.19812   \n",
       "1                   -0.270752                    -0.19812   \n",
       "2                   -0.270752                    -0.19812   \n",
       "3                   -0.270752                    -0.19812   \n",
       "4                   -0.270752                    -0.19812   \n",
       "\n",
       "   HashingEncoder_hoursperweek  HashingEncoder_native-country  \\\n",
       "0                    -0.771973                      -0.224609   \n",
       "1                    -0.771973                      -0.224609   \n",
       "2                    -0.771973                      -0.224609   \n",
       "3                    -0.124207                      -0.224609   \n",
       "4                     0.523438                      -0.224609   \n",
       "\n",
       "   fnlwgt_Is_Outliers_IQR  education-num_Is_Outliers_IQR  \\\n",
       "0                     0.0                            0.0   \n",
       "1                     0.0                            0.0   \n",
       "2                     0.0                            0.0   \n",
       "3                     0.0                            0.0   \n",
       "4                     0.0                            0.0   \n",
       "\n",
       "   fnlwgt_/_education-num  fnlwgt_*_education-num  fnlwgt_-_education-num  \n",
       "0               -0.993652               -1.287109               -1.393555  \n",
       "1               -0.684570                0.118225               -0.445557  \n",
       "2                0.719238                0.115356                0.647461  \n",
       "3               -0.855469               -1.134766               -1.203125  \n",
       "4               -1.156250               -1.465820               -1.618164  \n",
       "\n",
       "[5 rows x 154 columns]"
      ],
      "text/html": "<div>\n<style scoped>\n    .dataframe tbody tr th:only-of-type {\n        vertical-align: middle;\n    }\n\n    .dataframe tbody tr th {\n        vertical-align: top;\n    }\n\n    .dataframe thead th {\n        text-align: right;\n    }\n</style>\n<table border=\"1\" class=\"dataframe\">\n  <thead>\n    <tr style=\"text-align: right;\">\n      <th></th>\n      <th>age</th>\n      <th>workclass</th>\n      <th>fnlwgt</th>\n      <th>education</th>\n      <th>education-num</th>\n      <th>marital-status</th>\n      <th>occupation</th>\n      <th>relationship</th>\n      <th>race</th>\n      <th>sex</th>\n      <th>...</th>\n      <th>HashingEncoder_race</th>\n      <th>HashingEncoder_capitalgain</th>\n      <th>HashingEncoder_capitalloss</th>\n      <th>HashingEncoder_hoursperweek</th>\n      <th>HashingEncoder_native-country</th>\n      <th>fnlwgt_Is_Outliers_IQR</th>\n      <th>education-num_Is_Outliers_IQR</th>\n      <th>fnlwgt_/_education-num</th>\n      <th>fnlwgt_*_education-num</th>\n      <th>fnlwgt_-_education-num</th>\n    </tr>\n  </thead>\n  <tbody>\n    <tr>\n      <th>0</th>\n      <td>-1.213867</td>\n      <td>-0.578613</td>\n      <td>-1.393555</td>\n      <td>-0.994141</td>\n      <td>-0.427490</td>\n      <td>-0.938477</td>\n      <td>-1.571289</td>\n      <td>-0.973145</td>\n      <td>-0.343994</td>\n      <td>0.70459</td>\n      <td>...</td>\n      <td>-0.343994</td>\n      <td>-0.270752</td>\n      <td>-0.19812</td>\n      <td>-0.771973</td>\n      <td>-0.224609</td>\n      <td>0.0</td>\n      <td>0.0</td>\n      <td>-0.993652</td>\n      <td>-1.287109</td>\n      <td>-1.393555</td>\n    </tr>\n    <tr>\n      <th>1</th>\n      <td>-0.540527</td>\n      <td>0.008980</td>\n      <td>-0.445557</td>\n      <td>-0.737793</td>\n      <td>1.541016</td>\n      <td>-0.938477</td>\n      <td>-1.293945</td>\n      <td>-0.973145</td>\n      <td>-0.343994</td>\n      <td>0.70459</td>\n      <td>...</td>\n      <td>-0.343994</td>\n      <td>-0.270752</td>\n      <td>-0.19812</td>\n      <td>-0.771973</td>\n      <td>-0.224609</td>\n      <td>0.0</td>\n      <td>0.0</td>\n      <td>-0.684570</td>\n      <td>0.118225</td>\n      <td>-0.445557</td>\n    </tr>\n    <tr>\n      <th>2</th>\n      <td>-1.213867</td>\n      <td>0.596680</td>\n      <td>0.647461</td>\n      <td>-0.481689</td>\n      <td>-0.820801</td>\n      <td>-0.938477</td>\n      <td>-1.015625</td>\n      <td>-0.973145</td>\n      <td>-0.343994</td>\n      <td>0.70459</td>\n      <td>...</td>\n      <td>-0.343994</td>\n      <td>-0.270752</td>\n      <td>-0.19812</td>\n      <td>-0.771973</td>\n      <td>-0.224609</td>\n      <td>0.0</td>\n      <td>0.0</td>\n      <td>0.719238</td>\n      <td>0.115356</td>\n      <td>0.647461</td>\n    </tr>\n    <tr>\n      <th>3</th>\n      <td>0.132446</td>\n      <td>-0.578613</td>\n      <td>-1.203125</td>\n      <td>-0.994141</td>\n      <td>-0.427490</td>\n      <td>-0.259766</td>\n      <td>-0.737305</td>\n      <td>-0.356934</td>\n      <td>-0.343994</td>\n      <td>0.70459</td>\n      <td>...</td>\n      <td>-0.343994</td>\n      <td>-0.270752</td>\n      <td>-0.19812</td>\n      <td>-0.124207</td>\n      <td>-0.224609</td>\n      <td>0.0</td>\n      <td>0.0</td>\n      <td>-0.855469</td>\n      <td>-1.134766</td>\n      <td>-1.203125</td>\n    </tr>\n    <tr>\n      <th>4</th>\n      <td>0.132446</td>\n      <td>1.183594</td>\n      <td>-1.618164</td>\n      <td>-0.994141</td>\n      <td>-0.427490</td>\n      <td>0.419189</td>\n      <td>-0.459229</td>\n      <td>0.259277</td>\n      <td>-0.343994</td>\n      <td>0.70459</td>\n      <td>...</td>\n      <td>-0.343994</td>\n      <td>-0.270752</td>\n      <td>-0.19812</td>\n      <td>0.523438</td>\n      <td>-0.224609</td>\n      <td>0.0</td>\n      <td>0.0</td>\n      <td>-1.156250</td>\n      <td>-1.465820</td>\n      <td>-1.618164</td>\n    </tr>\n  </tbody>\n</table>\n<p>5 rows × 154 columns</p>\n</div>"
     },
     "metadata": {},
     "execution_count": 7
    }
   ],
   "source": [
    "clean_X_train.head(5)"
   ]
  },
  {
   "source": [
    "<img src=\"./img/magic.gif\" width=\"400\">"
   ],
   "cell_type": "markdown",
   "metadata": {}
  },
  {
   "cell_type": "code",
   "execution_count": 8,
   "metadata": {},
   "outputs": [
    {
     "output_type": "stream",
     "name": "stdout",
     "text": [
      "##################################################\n",
      "! Start Transform Data\n",
      "> Clean Binary Features\n",
      "> Clean Categorical Features\n",
      "> Transform Categorical Features.\n",
      " - Encoder: HelmertEncoder ADD features: 123\n",
      " - Encoder: HashingEncoder ADD features: 12\n",
      "> Generate interaction Num Features\n",
      " ADD features: 3\n",
      "> Normalization Features\n",
      "##################################################\n",
      "Final data shape:  (9769, 154)\n",
      "Total ADD columns: 140\n",
      "Memory usage of dataframe is 11.48 MB\n",
      "Memory usage after optimization is: 2.87 MB\n",
      "Decreased by 75.0%\n"
     ]
    }
   ],
   "source": [
    "clean_X_test = de.transform(X_test)"
   ]
  },
  {
   "cell_type": "code",
   "execution_count": 9,
   "metadata": {},
   "outputs": [
    {
     "output_type": "execute_result",
     "data": {
      "text/plain": [
       "        age  workclass    fnlwgt  education  education-num  marital-status  \\\n",
       "0  1.478516  -0.578613  2.378906  -0.994141      -0.427490        1.097656   \n",
       "1  1.478516  -0.578613 -0.094849  -0.481689      -0.820801        1.097656   \n",
       "2  1.478516   0.596680  1.627930  -0.994141      -0.427490        1.097656   \n",
       "3  1.478516  -0.578613  0.302979   0.286621      -0.033783        1.097656   \n",
       "4  0.805664  -0.578613  0.564453  -0.994141      -0.427490        1.097656   \n",
       "\n",
       "   occupation  relationship      race       sex  ...  HashingEncoder_race  \\\n",
       "0   -0.181274      0.259277 -0.343994  0.704590  ...            -0.343994   \n",
       "1   -0.459229      1.492188 -0.343994 -1.419922  ...            -0.343994   \n",
       "2    0.931152      0.875488  1.069336  0.704590  ...             1.069336   \n",
       "3   -0.459229      1.492188 -0.343994 -1.419922  ...            -0.343994   \n",
       "4    1.208984     -0.356934  5.308594  0.704590  ...             5.308594   \n",
       "\n",
       "   HashingEncoder_capitalgain  HashingEncoder_capitalloss  \\\n",
       "0                   -0.270752                    -0.19812   \n",
       "1                   -0.270752                    -0.19812   \n",
       "2                   -0.270752                    -0.19812   \n",
       "3                   -0.270752                    -0.19812   \n",
       "4                   -0.270752                    -0.19812   \n",
       "\n",
       "   HashingEncoder_hoursperweek  HashingEncoder_native-country  \\\n",
       "0                    -0.124207                      -0.224609   \n",
       "1                    -0.124207                      -0.224609   \n",
       "2                    -0.771973                      -0.224609   \n",
       "3                     1.818359                      -0.224609   \n",
       "4                     1.170898                       0.986816   \n",
       "\n",
       "   fnlwgt_Is_Outliers_IQR  education-num_Is_Outliers_IQR  \\\n",
       "0                     0.0                            0.0   \n",
       "1                     0.0                            0.0   \n",
       "2                     0.0                            0.0   \n",
       "3                     0.0                            0.0   \n",
       "4                     0.0                            0.0   \n",
       "\n",
       "   fnlwgt_/_education-num  fnlwgt_*_education-num  fnlwgt_-_education-num  \n",
       "0                1.743164                1.722656                2.378906  \n",
       "1                0.113342               -0.411133               -0.094849  \n",
       "2                1.199219                1.124023                1.627930  \n",
       "3                0.077087                0.263184                0.302979  \n",
       "4                0.427246                0.275635                0.564453  \n",
       "\n",
       "[5 rows x 154 columns]"
      ],
      "text/html": "<div>\n<style scoped>\n    .dataframe tbody tr th:only-of-type {\n        vertical-align: middle;\n    }\n\n    .dataframe tbody tr th {\n        vertical-align: top;\n    }\n\n    .dataframe thead th {\n        text-align: right;\n    }\n</style>\n<table border=\"1\" class=\"dataframe\">\n  <thead>\n    <tr style=\"text-align: right;\">\n      <th></th>\n      <th>age</th>\n      <th>workclass</th>\n      <th>fnlwgt</th>\n      <th>education</th>\n      <th>education-num</th>\n      <th>marital-status</th>\n      <th>occupation</th>\n      <th>relationship</th>\n      <th>race</th>\n      <th>sex</th>\n      <th>...</th>\n      <th>HashingEncoder_race</th>\n      <th>HashingEncoder_capitalgain</th>\n      <th>HashingEncoder_capitalloss</th>\n      <th>HashingEncoder_hoursperweek</th>\n      <th>HashingEncoder_native-country</th>\n      <th>fnlwgt_Is_Outliers_IQR</th>\n      <th>education-num_Is_Outliers_IQR</th>\n      <th>fnlwgt_/_education-num</th>\n      <th>fnlwgt_*_education-num</th>\n      <th>fnlwgt_-_education-num</th>\n    </tr>\n  </thead>\n  <tbody>\n    <tr>\n      <th>0</th>\n      <td>1.478516</td>\n      <td>-0.578613</td>\n      <td>2.378906</td>\n      <td>-0.994141</td>\n      <td>-0.427490</td>\n      <td>1.097656</td>\n      <td>-0.181274</td>\n      <td>0.259277</td>\n      <td>-0.343994</td>\n      <td>0.704590</td>\n      <td>...</td>\n      <td>-0.343994</td>\n      <td>-0.270752</td>\n      <td>-0.19812</td>\n      <td>-0.124207</td>\n      <td>-0.224609</td>\n      <td>0.0</td>\n      <td>0.0</td>\n      <td>1.743164</td>\n      <td>1.722656</td>\n      <td>2.378906</td>\n    </tr>\n    <tr>\n      <th>1</th>\n      <td>1.478516</td>\n      <td>-0.578613</td>\n      <td>-0.094849</td>\n      <td>-0.481689</td>\n      <td>-0.820801</td>\n      <td>1.097656</td>\n      <td>-0.459229</td>\n      <td>1.492188</td>\n      <td>-0.343994</td>\n      <td>-1.419922</td>\n      <td>...</td>\n      <td>-0.343994</td>\n      <td>-0.270752</td>\n      <td>-0.19812</td>\n      <td>-0.124207</td>\n      <td>-0.224609</td>\n      <td>0.0</td>\n      <td>0.0</td>\n      <td>0.113342</td>\n      <td>-0.411133</td>\n      <td>-0.094849</td>\n    </tr>\n    <tr>\n      <th>2</th>\n      <td>1.478516</td>\n      <td>0.596680</td>\n      <td>1.627930</td>\n      <td>-0.994141</td>\n      <td>-0.427490</td>\n      <td>1.097656</td>\n      <td>0.931152</td>\n      <td>0.875488</td>\n      <td>1.069336</td>\n      <td>0.704590</td>\n      <td>...</td>\n      <td>1.069336</td>\n      <td>-0.270752</td>\n      <td>-0.19812</td>\n      <td>-0.771973</td>\n      <td>-0.224609</td>\n      <td>0.0</td>\n      <td>0.0</td>\n      <td>1.199219</td>\n      <td>1.124023</td>\n      <td>1.627930</td>\n    </tr>\n    <tr>\n      <th>3</th>\n      <td>1.478516</td>\n      <td>-0.578613</td>\n      <td>0.302979</td>\n      <td>0.286621</td>\n      <td>-0.033783</td>\n      <td>1.097656</td>\n      <td>-0.459229</td>\n      <td>1.492188</td>\n      <td>-0.343994</td>\n      <td>-1.419922</td>\n      <td>...</td>\n      <td>-0.343994</td>\n      <td>-0.270752</td>\n      <td>-0.19812</td>\n      <td>1.818359</td>\n      <td>-0.224609</td>\n      <td>0.0</td>\n      <td>0.0</td>\n      <td>0.077087</td>\n      <td>0.263184</td>\n      <td>0.302979</td>\n    </tr>\n    <tr>\n      <th>4</th>\n      <td>0.805664</td>\n      <td>-0.578613</td>\n      <td>0.564453</td>\n      <td>-0.994141</td>\n      <td>-0.427490</td>\n      <td>1.097656</td>\n      <td>1.208984</td>\n      <td>-0.356934</td>\n      <td>5.308594</td>\n      <td>0.704590</td>\n      <td>...</td>\n      <td>5.308594</td>\n      <td>-0.270752</td>\n      <td>-0.19812</td>\n      <td>1.170898</td>\n      <td>0.986816</td>\n      <td>0.0</td>\n      <td>0.0</td>\n      <td>0.427246</td>\n      <td>0.275635</td>\n      <td>0.564453</td>\n    </tr>\n  </tbody>\n</table>\n<p>5 rows × 154 columns</p>\n</div>"
     },
     "metadata": {},
     "execution_count": 9
    }
   ],
   "source": [
    "clean_X_test.head(5)"
   ]
  },
  {
   "source": [
    "## Save and Load\n",
    "separate transform allows us to save and transfer processing to new data \n",
    "[RUS] раздельный transform позволяет нам сохранять и переносить обработку на новые данные"
   ],
   "cell_type": "markdown",
   "metadata": {}
  },
  {
   "cell_type": "code",
   "execution_count": 10,
   "metadata": {},
   "outputs": [
    {
     "output_type": "stream",
     "name": "stdout",
     "text": [
      "Save DataPrepare\n"
     ]
    }
   ],
   "source": [
    "de.save('de')"
   ]
  },
  {
   "cell_type": "code",
   "execution_count": 11,
   "metadata": {},
   "outputs": [],
   "source": [
    "de = DataPrepare()\n",
    "de = de.load('de')"
   ]
  },
  {
   "cell_type": "code",
   "execution_count": 12,
   "metadata": {},
   "outputs": [
    {
     "output_type": "stream",
     "name": "stdout",
     "text": [
      "##################################################\n",
      "! Start Transform Data\n",
      "> Clean Binary Features\n",
      "> Clean Categorical Features\n",
      "> Transform Categorical Features.\n",
      " - Encoder: HelmertEncoder ADD features: 123\n",
      " - Encoder: HashingEncoder ADD features: 12\n",
      "> Generate interaction Num Features\n",
      " ADD features: 3\n",
      "> Normalization Features\n",
      "##################################################\n",
      "Final data shape:  (9769, 154)\n",
      "Total ADD columns: 140\n",
      "Memory usage of dataframe is 11.48 MB\n",
      "Memory usage after optimization is: 2.87 MB\n",
      "Decreased by 75.0%\n"
     ]
    },
    {
     "output_type": "execute_result",
     "data": {
      "text/plain": [
       "        age  workclass    fnlwgt  education  education-num  marital-status  \\\n",
       "0  1.478516  -0.578613  2.378906  -0.994141      -0.427490        1.097656   \n",
       "1  1.478516  -0.578613 -0.094849  -0.481689      -0.820801        1.097656   \n",
       "2  1.478516   0.596680  1.627930  -0.994141      -0.427490        1.097656   \n",
       "3  1.478516  -0.578613  0.302979   0.286621      -0.033783        1.097656   \n",
       "4  0.805664  -0.578613  0.564453  -0.994141      -0.427490        1.097656   \n",
       "\n",
       "   occupation  relationship      race       sex  ...  HashingEncoder_race  \\\n",
       "0   -0.181274      0.259277 -0.343994  0.704590  ...            -0.343994   \n",
       "1   -0.459229      1.492188 -0.343994 -1.419922  ...            -0.343994   \n",
       "2    0.931152      0.875488  1.069336  0.704590  ...             1.069336   \n",
       "3   -0.459229      1.492188 -0.343994 -1.419922  ...            -0.343994   \n",
       "4    1.208984     -0.356934  5.308594  0.704590  ...             5.308594   \n",
       "\n",
       "   HashingEncoder_capitalgain  HashingEncoder_capitalloss  \\\n",
       "0                   -0.270752                    -0.19812   \n",
       "1                   -0.270752                    -0.19812   \n",
       "2                   -0.270752                    -0.19812   \n",
       "3                   -0.270752                    -0.19812   \n",
       "4                   -0.270752                    -0.19812   \n",
       "\n",
       "   HashingEncoder_hoursperweek  HashingEncoder_native-country  \\\n",
       "0                    -0.124207                      -0.224609   \n",
       "1                    -0.124207                      -0.224609   \n",
       "2                    -0.771973                      -0.224609   \n",
       "3                     1.818359                      -0.224609   \n",
       "4                     1.170898                       0.986816   \n",
       "\n",
       "   fnlwgt_Is_Outliers_IQR  education-num_Is_Outliers_IQR  \\\n",
       "0                     0.0                            0.0   \n",
       "1                     0.0                            0.0   \n",
       "2                     0.0                            0.0   \n",
       "3                     0.0                            0.0   \n",
       "4                     0.0                            0.0   \n",
       "\n",
       "   fnlwgt_/_education-num  fnlwgt_*_education-num  fnlwgt_-_education-num  \n",
       "0                1.743164                1.722656                2.378906  \n",
       "1                0.113342               -0.411133               -0.094849  \n",
       "2                1.199219                1.124023                1.627930  \n",
       "3                0.077087                0.263184                0.302979  \n",
       "4                0.427246                0.275635                0.564453  \n",
       "\n",
       "[5 rows x 154 columns]"
      ],
      "text/html": "<div>\n<style scoped>\n    .dataframe tbody tr th:only-of-type {\n        vertical-align: middle;\n    }\n\n    .dataframe tbody tr th {\n        vertical-align: top;\n    }\n\n    .dataframe thead th {\n        text-align: right;\n    }\n</style>\n<table border=\"1\" class=\"dataframe\">\n  <thead>\n    <tr style=\"text-align: right;\">\n      <th></th>\n      <th>age</th>\n      <th>workclass</th>\n      <th>fnlwgt</th>\n      <th>education</th>\n      <th>education-num</th>\n      <th>marital-status</th>\n      <th>occupation</th>\n      <th>relationship</th>\n      <th>race</th>\n      <th>sex</th>\n      <th>...</th>\n      <th>HashingEncoder_race</th>\n      <th>HashingEncoder_capitalgain</th>\n      <th>HashingEncoder_capitalloss</th>\n      <th>HashingEncoder_hoursperweek</th>\n      <th>HashingEncoder_native-country</th>\n      <th>fnlwgt_Is_Outliers_IQR</th>\n      <th>education-num_Is_Outliers_IQR</th>\n      <th>fnlwgt_/_education-num</th>\n      <th>fnlwgt_*_education-num</th>\n      <th>fnlwgt_-_education-num</th>\n    </tr>\n  </thead>\n  <tbody>\n    <tr>\n      <th>0</th>\n      <td>1.478516</td>\n      <td>-0.578613</td>\n      <td>2.378906</td>\n      <td>-0.994141</td>\n      <td>-0.427490</td>\n      <td>1.097656</td>\n      <td>-0.181274</td>\n      <td>0.259277</td>\n      <td>-0.343994</td>\n      <td>0.704590</td>\n      <td>...</td>\n      <td>-0.343994</td>\n      <td>-0.270752</td>\n      <td>-0.19812</td>\n      <td>-0.124207</td>\n      <td>-0.224609</td>\n      <td>0.0</td>\n      <td>0.0</td>\n      <td>1.743164</td>\n      <td>1.722656</td>\n      <td>2.378906</td>\n    </tr>\n    <tr>\n      <th>1</th>\n      <td>1.478516</td>\n      <td>-0.578613</td>\n      <td>-0.094849</td>\n      <td>-0.481689</td>\n      <td>-0.820801</td>\n      <td>1.097656</td>\n      <td>-0.459229</td>\n      <td>1.492188</td>\n      <td>-0.343994</td>\n      <td>-1.419922</td>\n      <td>...</td>\n      <td>-0.343994</td>\n      <td>-0.270752</td>\n      <td>-0.19812</td>\n      <td>-0.124207</td>\n      <td>-0.224609</td>\n      <td>0.0</td>\n      <td>0.0</td>\n      <td>0.113342</td>\n      <td>-0.411133</td>\n      <td>-0.094849</td>\n    </tr>\n    <tr>\n      <th>2</th>\n      <td>1.478516</td>\n      <td>0.596680</td>\n      <td>1.627930</td>\n      <td>-0.994141</td>\n      <td>-0.427490</td>\n      <td>1.097656</td>\n      <td>0.931152</td>\n      <td>0.875488</td>\n      <td>1.069336</td>\n      <td>0.704590</td>\n      <td>...</td>\n      <td>1.069336</td>\n      <td>-0.270752</td>\n      <td>-0.19812</td>\n      <td>-0.771973</td>\n      <td>-0.224609</td>\n      <td>0.0</td>\n      <td>0.0</td>\n      <td>1.199219</td>\n      <td>1.124023</td>\n      <td>1.627930</td>\n    </tr>\n    <tr>\n      <th>3</th>\n      <td>1.478516</td>\n      <td>-0.578613</td>\n      <td>0.302979</td>\n      <td>0.286621</td>\n      <td>-0.033783</td>\n      <td>1.097656</td>\n      <td>-0.459229</td>\n      <td>1.492188</td>\n      <td>-0.343994</td>\n      <td>-1.419922</td>\n      <td>...</td>\n      <td>-0.343994</td>\n      <td>-0.270752</td>\n      <td>-0.19812</td>\n      <td>1.818359</td>\n      <td>-0.224609</td>\n      <td>0.0</td>\n      <td>0.0</td>\n      <td>0.077087</td>\n      <td>0.263184</td>\n      <td>0.302979</td>\n    </tr>\n    <tr>\n      <th>4</th>\n      <td>0.805664</td>\n      <td>-0.578613</td>\n      <td>0.564453</td>\n      <td>-0.994141</td>\n      <td>-0.427490</td>\n      <td>1.097656</td>\n      <td>1.208984</td>\n      <td>-0.356934</td>\n      <td>5.308594</td>\n      <td>0.704590</td>\n      <td>...</td>\n      <td>5.308594</td>\n      <td>-0.270752</td>\n      <td>-0.19812</td>\n      <td>1.170898</td>\n      <td>0.986816</td>\n      <td>0.0</td>\n      <td>0.0</td>\n      <td>0.427246</td>\n      <td>0.275635</td>\n      <td>0.564453</td>\n    </tr>\n  </tbody>\n</table>\n<p>5 rows × 154 columns</p>\n</div>"
     },
     "metadata": {},
     "execution_count": 12
    }
   ],
   "source": [
    "de.transform(X_test).head(5)"
   ]
  },
  {
   "cell_type": "markdown",
   "metadata": {},
   "source": [
    "# Feature Engineering"
   ]
  },
  {
   "cell_type": "markdown",
   "metadata": {},
   "source": [
    "## Categorical Features \n",
    "### Encoders"
   ]
  },
  {
   "cell_type": "code",
   "execution_count": 13,
   "metadata": {
    "ExecuteTime": {
     "end_time": "2020-05-07T04:24:11.951750Z",
     "start_time": "2020-05-07T04:24:11.945886Z"
    }
   },
   "outputs": [
    {
     "output_type": "execute_result",
     "data": {
      "text/plain": [
       "{'HashingEncoder': category_encoders.hashing.HashingEncoder,\n",
       " 'SumEncoder': category_encoders.sum_coding.SumEncoder,\n",
       " 'BackwardDifferenceEncoder': category_encoders.backward_difference.BackwardDifferenceEncoder,\n",
       " 'OneHotEncoder': category_encoders.one_hot.OneHotEncoder,\n",
       " 'HelmertEncoder': category_encoders.helmert.HelmertEncoder,\n",
       " 'BaseNEncoder': category_encoders.basen.BaseNEncoder,\n",
       " 'CountEncoder': category_encoders.count.CountEncoder}"
      ]
     },
     "metadata": {},
     "execution_count": 13
    }
   ],
   "source": [
    "# available Encoders:\n",
    "automl_alex.encoders.cat_encoders_names"
   ]
  },
  {
   "source": [
    "you can use any encoders for categorical features, combining their results (if you have enough memory)"
   ],
   "cell_type": "markdown",
   "metadata": {}
  },
  {
   "cell_type": "code",
   "execution_count": 14,
   "metadata": {
    "ExecuteTime": {
     "end_time": "2020-05-07T04:24:13.268269Z",
     "start_time": "2020-05-07T04:24:11.964195Z"
    },
    "tags": []
   },
   "outputs": [
    {
     "output_type": "stream",
     "name": "stdout",
     "text": [
      "Source data shape:  (39073, 14)\n",
      "##################################################\n",
      "! START preprocessing Data\n",
      "- Auto detect cat features:  12\n",
      "> Binary Features\n",
      "> Clean Categorical Features\n",
      "> Transform Categorical Features.\n",
      " - Encoder: HelmertEncoder ADD features: 123\n",
      " - Encoder: OneHotEncoder ADD features: 135\n",
      " - Encoder: HashingEncoder ADD features: 12\n",
      "Num of outlier detected: 560 in Feature fnlwgt\n",
      "Proportion of outlier detected: 1.4 %\n",
      "Num of outlier detected: 253 in Feature education-num\n",
      "Proportion of outlier detected: 0.6 %\n",
      "  No nans features\n",
      "> Generate interaction Num Features\n",
      " ADD features: 3\n",
      "> Normalization Features\n",
      "##################################################\n",
      "Final data shape:  (39073, 289)\n",
      "Total ADD columns: 275\n",
      "Memory usage of dataframe is 86.15 MB\n",
      "Memory usage after optimization is: 21.54 MB\n",
      "Decreased by 75.0%\n"
     ]
    }
   ],
   "source": [
    "de = DataPrepare(\n",
    "    cat_encoder_names=['HelmertEncoder','OneHotEncoder','HashingEncoder'], # Encoders list for Generator cat encodet features\n",
    "    )  \n",
    "clean_X_train = de.fit_transform(X_train)"
   ]
  },
  {
   "cell_type": "markdown",
   "metadata": {},
   "source": [
    "## Numerical Features"
   ]
  },
  {
   "cell_type": "code",
   "execution_count": 15,
   "metadata": {},
   "outputs": [
    {
     "output_type": "execute_result",
     "data": {
      "text/plain": [
       "    checking_status  duration                  credit_history    purpose  \\\n",
       "29               <0      60.0              delayed previously   business   \n",
       "535           >=200      21.0  critical/other existing credit  education   \n",
       "695     no checking       6.0                   existing paid   used car   \n",
       "\n",
       "     credit_amount savings_status employment  installment_commitment  \\\n",
       "29          6836.0           <100        >=7                     3.0   \n",
       "535         2319.0           <100         <1                     2.0   \n",
       "695         1236.0    500<=X<1000     1<=X<4                     2.0   \n",
       "\n",
       "    personal_status other_parties  residence_since property_magnitude   age  \\\n",
       "29      male single          none              4.0  no known property  63.0   \n",
       "535    male div/sep          none              1.0                car  33.0   \n",
       "695     male single          none              4.0     life insurance  50.0   \n",
       "\n",
       "    other_payment_plans housing  existing_credits      job  num_dependents  \\\n",
       "29                 none     own               2.0  skilled             1.0   \n",
       "535                none    rent               1.0  skilled             1.0   \n",
       "695                none    rent               1.0  skilled             1.0   \n",
       "\n",
       "    own_telephone foreign_worker  \n",
       "29            yes            yes  \n",
       "535          none            yes  \n",
       "695          none            yes  "
      ],
      "text/html": "<div>\n<style scoped>\n    .dataframe tbody tr th:only-of-type {\n        vertical-align: middle;\n    }\n\n    .dataframe tbody tr th {\n        vertical-align: top;\n    }\n\n    .dataframe thead th {\n        text-align: right;\n    }\n</style>\n<table border=\"1\" class=\"dataframe\">\n  <thead>\n    <tr style=\"text-align: right;\">\n      <th></th>\n      <th>checking_status</th>\n      <th>duration</th>\n      <th>credit_history</th>\n      <th>purpose</th>\n      <th>credit_amount</th>\n      <th>savings_status</th>\n      <th>employment</th>\n      <th>installment_commitment</th>\n      <th>personal_status</th>\n      <th>other_parties</th>\n      <th>residence_since</th>\n      <th>property_magnitude</th>\n      <th>age</th>\n      <th>other_payment_plans</th>\n      <th>housing</th>\n      <th>existing_credits</th>\n      <th>job</th>\n      <th>num_dependents</th>\n      <th>own_telephone</th>\n      <th>foreign_worker</th>\n    </tr>\n  </thead>\n  <tbody>\n    <tr>\n      <th>29</th>\n      <td>&lt;0</td>\n      <td>60.0</td>\n      <td>delayed previously</td>\n      <td>business</td>\n      <td>6836.0</td>\n      <td>&lt;100</td>\n      <td>&gt;=7</td>\n      <td>3.0</td>\n      <td>male single</td>\n      <td>none</td>\n      <td>4.0</td>\n      <td>no known property</td>\n      <td>63.0</td>\n      <td>none</td>\n      <td>own</td>\n      <td>2.0</td>\n      <td>skilled</td>\n      <td>1.0</td>\n      <td>yes</td>\n      <td>yes</td>\n    </tr>\n    <tr>\n      <th>535</th>\n      <td>&gt;=200</td>\n      <td>21.0</td>\n      <td>critical/other existing credit</td>\n      <td>education</td>\n      <td>2319.0</td>\n      <td>&lt;100</td>\n      <td>&lt;1</td>\n      <td>2.0</td>\n      <td>male div/sep</td>\n      <td>none</td>\n      <td>1.0</td>\n      <td>car</td>\n      <td>33.0</td>\n      <td>none</td>\n      <td>rent</td>\n      <td>1.0</td>\n      <td>skilled</td>\n      <td>1.0</td>\n      <td>none</td>\n      <td>yes</td>\n    </tr>\n    <tr>\n      <th>695</th>\n      <td>no checking</td>\n      <td>6.0</td>\n      <td>existing paid</td>\n      <td>used car</td>\n      <td>1236.0</td>\n      <td>500&lt;=X&lt;1000</td>\n      <td>1&lt;=X&lt;4</td>\n      <td>2.0</td>\n      <td>male single</td>\n      <td>none</td>\n      <td>4.0</td>\n      <td>life insurance</td>\n      <td>50.0</td>\n      <td>none</td>\n      <td>rent</td>\n      <td>1.0</td>\n      <td>skilled</td>\n      <td>1.0</td>\n      <td>none</td>\n      <td>yes</td>\n    </tr>\n  </tbody>\n</table>\n</div>"
     },
     "metadata": {},
     "execution_count": 15
    }
   ],
   "source": [
    "# add dataset whis more num features\n",
    "dataset = fetch_openml(name='credit-g', version=1, as_frame=True)\n",
    "dataset.target = dataset.target.astype('category').cat.codes\n",
    "\n",
    "X_train, X_test, y_train, y_test = train_test_split(dataset.data, dataset.target, test_size=0.2, random_state=RANDOM_SEED,)\n",
    "X_train.head(3)"
   ]
  },
  {
   "source": [
    "### Generator interaction Num Features\n",
    "Numerical interaction generator features: A/B, A*B, A-B, A+B"
   ],
   "cell_type": "markdown",
   "metadata": {}
  },
  {
   "cell_type": "code",
   "execution_count": 16,
   "metadata": {
    "tags": []
   },
   "outputs": [
    {
     "output_type": "stream",
     "name": "stdout",
     "text": [
      "Source data shape:  (800, 20)\n",
      "##################################################\n",
      "! START preprocessing Data\n",
      "- Auto detect cat features:  13\n",
      "> Binary Features\n",
      "> Clean Categorical Features\n",
      "> Transform Categorical Features.\n",
      " - Encoder: HelmertEncoder ADD features: 39\n",
      " - Encoder: HashingEncoder ADD features: 13\n",
      "Num of outlier detected: 10 in Feature duration\n",
      "Proportion of outlier detected: 1.2 %\n",
      "Num of outlier detected: 6 in Feature age\n",
      "Proportion of outlier detected: 0.8 %\n",
      "Num of outlier detected: 38 in Feature credit_amount\n",
      "Proportion of outlier detected: 4.8 %\n",
      "  No nans features\n",
      "> Generate interaction Num Features\n",
      " ADD features: 45\n",
      "##################################################\n",
      "Final data shape:  (800, 123)\n",
      "Total ADD columns: 103\n",
      "Memory usage of dataframe is 0.30 MB\n",
      "Memory usage after optimization is: 0.17 MB\n",
      "Decreased by 44.2%\n"
     ]
    }
   ],
   "source": [
    "de = DataPrepare(\n",
    "                #cat_encoder_names=[],\n",
    "                num_generator_features=True, # Generator interaction Num Features\n",
    "                normalization=False, # normalization data (StandardScaler)\n",
    "                )\n",
    "clean_X_train = de.fit_transform(X_train)"
   ]
  },
  {
   "cell_type": "code",
   "execution_count": 17,
   "metadata": {},
   "outputs": [
    {
     "output_type": "execute_result",
     "data": {
      "text/plain": [
       "   checking_status  duration  credit_history  purpose  credit_amount  \\\n",
       "0                1      48.0               1        1         6836.0   \n",
       "1                2      21.0               2        2         2320.0   \n",
       "2                3       6.0               3        3         1236.0   \n",
       "3                3      21.0               4        4         5004.0   \n",
       "4                3      12.0               3        5          886.0   \n",
       "\n",
       "   savings_status  employment  installment_commitment  personal_status  \\\n",
       "0               1           1                     3.0                1   \n",
       "1               1           2                     2.0                2   \n",
       "2               2           3                     2.0                1   \n",
       "3               3           3                     1.0                3   \n",
       "4               3           3                     4.0                3   \n",
       "\n",
       "   other_parties  ...  age_-_installment_commitment  \\\n",
       "0              1  ...                          60.0   \n",
       "1              1  ...                          31.0   \n",
       "2              1  ...                          48.0   \n",
       "3              1  ...                          28.0   \n",
       "4              1  ...                          17.0   \n",
       "\n",
       "   credit_amount_/_existing_credits  credit_amount_*_existing_credits  \\\n",
       "0                            3418.0                           13672.0   \n",
       "1                            2320.0                            2320.0   \n",
       "2                            1236.0                            1236.0   \n",
       "3                            2502.0                           10008.0   \n",
       "4                             886.0                             886.0   \n",
       "\n",
       "   credit_amount_-_existing_credits  credit_amount_/_installment_commitment  \\\n",
       "0                            6832.0                                  2278.0   \n",
       "1                            2318.0                                  1160.0   \n",
       "2                            1235.0                                   618.0   \n",
       "3                            5000.0                                  5004.0   \n",
       "4                             885.0                                   221.5   \n",
       "\n",
       "   credit_amount_*_installment_commitment  \\\n",
       "0                                 20512.0   \n",
       "1                                  4640.0   \n",
       "2                                  2472.0   \n",
       "3                                  5004.0   \n",
       "4                                  3544.0   \n",
       "\n",
       "   credit_amount_-_installment_commitment  \\\n",
       "0                                  6832.0   \n",
       "1                                  2316.0   \n",
       "2                                  1234.0   \n",
       "3                                  5000.0   \n",
       "4                                   882.0   \n",
       "\n",
       "   existing_credits_/_installment_commitment  \\\n",
       "0                                   0.666504   \n",
       "1                                   0.500000   \n",
       "2                                   0.500000   \n",
       "3                                   2.000000   \n",
       "4                                   0.250000   \n",
       "\n",
       "   existing_credits_*_installment_commitment  \\\n",
       "0                                        6.0   \n",
       "1                                        2.0   \n",
       "2                                        2.0   \n",
       "3                                        2.0   \n",
       "4                                        4.0   \n",
       "\n",
       "   existing_credits_-_installment_commitment  \n",
       "0                                       -1.0  \n",
       "1                                       -1.0  \n",
       "2                                       -1.0  \n",
       "3                                        1.0  \n",
       "4                                       -3.0  \n",
       "\n",
       "[5 rows x 123 columns]"
      ],
      "text/html": "<div>\n<style scoped>\n    .dataframe tbody tr th:only-of-type {\n        vertical-align: middle;\n    }\n\n    .dataframe tbody tr th {\n        vertical-align: top;\n    }\n\n    .dataframe thead th {\n        text-align: right;\n    }\n</style>\n<table border=\"1\" class=\"dataframe\">\n  <thead>\n    <tr style=\"text-align: right;\">\n      <th></th>\n      <th>checking_status</th>\n      <th>duration</th>\n      <th>credit_history</th>\n      <th>purpose</th>\n      <th>credit_amount</th>\n      <th>savings_status</th>\n      <th>employment</th>\n      <th>installment_commitment</th>\n      <th>personal_status</th>\n      <th>other_parties</th>\n      <th>...</th>\n      <th>age_-_installment_commitment</th>\n      <th>credit_amount_/_existing_credits</th>\n      <th>credit_amount_*_existing_credits</th>\n      <th>credit_amount_-_existing_credits</th>\n      <th>credit_amount_/_installment_commitment</th>\n      <th>credit_amount_*_installment_commitment</th>\n      <th>credit_amount_-_installment_commitment</th>\n      <th>existing_credits_/_installment_commitment</th>\n      <th>existing_credits_*_installment_commitment</th>\n      <th>existing_credits_-_installment_commitment</th>\n    </tr>\n  </thead>\n  <tbody>\n    <tr>\n      <th>0</th>\n      <td>1</td>\n      <td>48.0</td>\n      <td>1</td>\n      <td>1</td>\n      <td>6836.0</td>\n      <td>1</td>\n      <td>1</td>\n      <td>3.0</td>\n      <td>1</td>\n      <td>1</td>\n      <td>...</td>\n      <td>60.0</td>\n      <td>3418.0</td>\n      <td>13672.0</td>\n      <td>6832.0</td>\n      <td>2278.0</td>\n      <td>20512.0</td>\n      <td>6832.0</td>\n      <td>0.666504</td>\n      <td>6.0</td>\n      <td>-1.0</td>\n    </tr>\n    <tr>\n      <th>1</th>\n      <td>2</td>\n      <td>21.0</td>\n      <td>2</td>\n      <td>2</td>\n      <td>2320.0</td>\n      <td>1</td>\n      <td>2</td>\n      <td>2.0</td>\n      <td>2</td>\n      <td>1</td>\n      <td>...</td>\n      <td>31.0</td>\n      <td>2320.0</td>\n      <td>2320.0</td>\n      <td>2318.0</td>\n      <td>1160.0</td>\n      <td>4640.0</td>\n      <td>2316.0</td>\n      <td>0.500000</td>\n      <td>2.0</td>\n      <td>-1.0</td>\n    </tr>\n    <tr>\n      <th>2</th>\n      <td>3</td>\n      <td>6.0</td>\n      <td>3</td>\n      <td>3</td>\n      <td>1236.0</td>\n      <td>2</td>\n      <td>3</td>\n      <td>2.0</td>\n      <td>1</td>\n      <td>1</td>\n      <td>...</td>\n      <td>48.0</td>\n      <td>1236.0</td>\n      <td>1236.0</td>\n      <td>1235.0</td>\n      <td>618.0</td>\n      <td>2472.0</td>\n      <td>1234.0</td>\n      <td>0.500000</td>\n      <td>2.0</td>\n      <td>-1.0</td>\n    </tr>\n    <tr>\n      <th>3</th>\n      <td>3</td>\n      <td>21.0</td>\n      <td>4</td>\n      <td>4</td>\n      <td>5004.0</td>\n      <td>3</td>\n      <td>3</td>\n      <td>1.0</td>\n      <td>3</td>\n      <td>1</td>\n      <td>...</td>\n      <td>28.0</td>\n      <td>2502.0</td>\n      <td>10008.0</td>\n      <td>5000.0</td>\n      <td>5004.0</td>\n      <td>5004.0</td>\n      <td>5000.0</td>\n      <td>2.000000</td>\n      <td>2.0</td>\n      <td>1.0</td>\n    </tr>\n    <tr>\n      <th>4</th>\n      <td>3</td>\n      <td>12.0</td>\n      <td>3</td>\n      <td>5</td>\n      <td>886.0</td>\n      <td>3</td>\n      <td>3</td>\n      <td>4.0</td>\n      <td>3</td>\n      <td>1</td>\n      <td>...</td>\n      <td>17.0</td>\n      <td>886.0</td>\n      <td>886.0</td>\n      <td>885.0</td>\n      <td>221.5</td>\n      <td>3544.0</td>\n      <td>882.0</td>\n      <td>0.250000</td>\n      <td>4.0</td>\n      <td>-3.0</td>\n    </tr>\n  </tbody>\n</table>\n<p>5 rows × 123 columns</p>\n</div>"
     },
     "metadata": {},
     "execution_count": 17
    }
   ],
   "source": [
    "clean_X_train.head(5)"
   ]
  },
  {
   "cell_type": "markdown",
   "metadata": {},
   "source": [
    "**Encoder selection is an important part of all AutoML**    \n",
    "Even with such smart preprocessing, don't forget the basic DS rule: **Garbage in the input is garbage in the output.**"
   ]
  },
  {
   "cell_type": "markdown",
   "metadata": {},
   "source": [
    "[RUS] Даже с такой умной предобработкой не забывайте: Мусор на входе - мусор на выходе."
   ]
  },
  {
   "source": [
    "<img src=\"./img/data-cleaning.png\" width=\"500\">"
   ],
   "cell_type": "markdown",
   "metadata": {}
  },
  {
   "cell_type": "code",
   "execution_count": null,
   "metadata": {},
   "outputs": [],
   "source": []
  }
 ],
 "metadata": {
  "kernelspec": {
   "display_name": "Python 3",
   "language": "python",
   "name": "python3"
  },
  "language_info": {
   "codemirror_mode": {
    "name": "ipython",
    "version": 3
   },
   "file_extension": ".py",
   "mimetype": "text/x-python",
   "name": "python",
   "nbconvert_exporter": "python",
   "pygments_lexer": "ipython3",
   "version": "3.8.3"
  },
  "toc": {
   "base_numbering": 1,
   "nav_menu": {},
   "number_sections": false,
   "sideBar": true,
   "skip_h1_title": false,
   "title_cell": "Table of Contents",
   "title_sidebar": "Contents",
   "toc_cell": false,
   "toc_position": {
    "height": "calc(100% - 180px)",
    "left": "10px",
    "top": "150px",
    "width": "165px"
   },
   "toc_section_display": true,
   "toc_window_display": true
  }
 },
 "nbformat": 4,
 "nbformat_minor": 4
}