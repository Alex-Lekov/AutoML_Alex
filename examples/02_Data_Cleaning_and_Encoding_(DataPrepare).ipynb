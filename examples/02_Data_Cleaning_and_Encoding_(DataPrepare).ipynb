{
 "cells": [
  {
   "cell_type": "code",
   "execution_count": 1,
   "metadata": {
    "ExecuteTime": {
     "end_time": "2020-05-07T04:23:49.057981Z",
     "start_time": "2020-05-07T04:23:49.053936Z"
    }
   },
   "outputs": [],
   "source": [
    "# If you run this notebook on Google Colaboratory, uncomment the below to install automl_alex.\n",
    "#!pip install -U -q automl-alex"
   ]
  },
  {
   "cell_type": "code",
   "execution_count": 1,
   "metadata": {
    "ExecuteTime": {
     "end_time": "2020-05-07T04:23:53.125987Z",
     "start_time": "2020-05-07T04:23:49.634140Z"
    },
    "tags": []
   },
   "outputs": [
    {
     "output_type": "stream",
     "name": "stdout",
     "text": [
      "1.02.15\n"
     ]
    }
   ],
   "source": [
    "import sklearn\n",
    "from sklearn.model_selection import train_test_split\n",
    "from sklearn.datasets import fetch_openml\n",
    "\n",
    "import automl_alex\n",
    "from automl_alex import DataPrepare\n",
    "\n",
    "print(automl_alex.__version__)"
   ]
  },
  {
   "cell_type": "code",
   "execution_count": null,
   "metadata": {
    "ExecuteTime": {
     "end_time": "2020-05-07T04:23:53.136324Z",
     "start_time": "2020-05-07T04:23:53.129088Z"
    }
   },
   "outputs": [],
   "source": [
    "RANDOM_SEED = 42"
   ]
  },
  {
   "cell_type": "markdown",
   "metadata": {},
   "source": [
    "# Load Data"
   ]
  },
  {
   "cell_type": "code",
   "execution_count": 3,
   "metadata": {
    "ExecuteTime": {
     "end_time": "2020-05-07T04:23:54.266953Z",
     "start_time": "2020-05-07T04:23:53.244733Z"
    }
   },
   "outputs": [
    {
     "output_type": "execute_result",
     "data": {
      "text/plain": [
       "  age         workclass    fnlwgt  education  education-num  \\\n",
       "0   2         State-gov   77516.0  Bachelors           13.0   \n",
       "1   3  Self-emp-not-inc   83311.0  Bachelors           13.0   \n",
       "2   2           Private  215646.0    HS-grad            9.0   \n",
       "3   3           Private  234721.0       11th            7.0   \n",
       "4   1           Private  338409.0  Bachelors           13.0   \n",
       "\n",
       "       marital-status         occupation   relationship   race     sex  \\\n",
       "0       Never-married       Adm-clerical  Not-in-family  White    Male   \n",
       "1  Married-civ-spouse    Exec-managerial        Husband  White    Male   \n",
       "2            Divorced  Handlers-cleaners  Not-in-family  White    Male   \n",
       "3  Married-civ-spouse  Handlers-cleaners        Husband  Black    Male   \n",
       "4  Married-civ-spouse     Prof-specialty           Wife  Black  Female   \n",
       "\n",
       "  capitalgain capitalloss hoursperweek native-country  \n",
       "0           1           0            2  United-States  \n",
       "1           0           0            0  United-States  \n",
       "2           0           0            2  United-States  \n",
       "3           0           0            2  United-States  \n",
       "4           0           0            2           Cuba  "
      ],
      "text/html": "<div>\n<style scoped>\n    .dataframe tbody tr th:only-of-type {\n        vertical-align: middle;\n    }\n\n    .dataframe tbody tr th {\n        vertical-align: top;\n    }\n\n    .dataframe thead th {\n        text-align: right;\n    }\n</style>\n<table border=\"1\" class=\"dataframe\">\n  <thead>\n    <tr style=\"text-align: right;\">\n      <th></th>\n      <th>age</th>\n      <th>workclass</th>\n      <th>fnlwgt</th>\n      <th>education</th>\n      <th>education-num</th>\n      <th>marital-status</th>\n      <th>occupation</th>\n      <th>relationship</th>\n      <th>race</th>\n      <th>sex</th>\n      <th>capitalgain</th>\n      <th>capitalloss</th>\n      <th>hoursperweek</th>\n      <th>native-country</th>\n    </tr>\n  </thead>\n  <tbody>\n    <tr>\n      <th>0</th>\n      <td>2</td>\n      <td>State-gov</td>\n      <td>77516.0</td>\n      <td>Bachelors</td>\n      <td>13.0</td>\n      <td>Never-married</td>\n      <td>Adm-clerical</td>\n      <td>Not-in-family</td>\n      <td>White</td>\n      <td>Male</td>\n      <td>1</td>\n      <td>0</td>\n      <td>2</td>\n      <td>United-States</td>\n    </tr>\n    <tr>\n      <th>1</th>\n      <td>3</td>\n      <td>Self-emp-not-inc</td>\n      <td>83311.0</td>\n      <td>Bachelors</td>\n      <td>13.0</td>\n      <td>Married-civ-spouse</td>\n      <td>Exec-managerial</td>\n      <td>Husband</td>\n      <td>White</td>\n      <td>Male</td>\n      <td>0</td>\n      <td>0</td>\n      <td>0</td>\n      <td>United-States</td>\n    </tr>\n    <tr>\n      <th>2</th>\n      <td>2</td>\n      <td>Private</td>\n      <td>215646.0</td>\n      <td>HS-grad</td>\n      <td>9.0</td>\n      <td>Divorced</td>\n      <td>Handlers-cleaners</td>\n      <td>Not-in-family</td>\n      <td>White</td>\n      <td>Male</td>\n      <td>0</td>\n      <td>0</td>\n      <td>2</td>\n      <td>United-States</td>\n    </tr>\n    <tr>\n      <th>3</th>\n      <td>3</td>\n      <td>Private</td>\n      <td>234721.0</td>\n      <td>11th</td>\n      <td>7.0</td>\n      <td>Married-civ-spouse</td>\n      <td>Handlers-cleaners</td>\n      <td>Husband</td>\n      <td>Black</td>\n      <td>Male</td>\n      <td>0</td>\n      <td>0</td>\n      <td>2</td>\n      <td>United-States</td>\n    </tr>\n    <tr>\n      <th>4</th>\n      <td>1</td>\n      <td>Private</td>\n      <td>338409.0</td>\n      <td>Bachelors</td>\n      <td>13.0</td>\n      <td>Married-civ-spouse</td>\n      <td>Prof-specialty</td>\n      <td>Wife</td>\n      <td>Black</td>\n      <td>Female</td>\n      <td>0</td>\n      <td>0</td>\n      <td>2</td>\n      <td>Cuba</td>\n    </tr>\n  </tbody>\n</table>\n</div>"
     },
     "metadata": {},
     "execution_count": 3
    }
   ],
   "source": [
    "dataset = fetch_openml(name='adult', version=1, as_frame=True)\n",
    "# convert target to binary\n",
    "dataset.target = dataset.target.astype('category').cat.codes\n",
    "dataset.data.head(5)"
   ]
  },
  {
   "cell_type": "code",
   "execution_count": 4,
   "metadata": {
    "ExecuteTime": {
     "end_time": "2020-05-07T04:23:54.292030Z",
     "start_time": "2020-05-07T04:23:54.276548Z"
    }
   },
   "outputs": [
    {
     "output_type": "execute_result",
     "data": {
      "text/plain": [
       "((39073, 14), (9769, 14))"
      ]
     },
     "metadata": {},
     "execution_count": 4
    }
   ],
   "source": [
    "X_train, X_test, y_train, y_test = train_test_split(dataset.data, \n",
    "                                                    dataset.target,\n",
    "                                                    test_size=0.2, \n",
    "                                                    random_state=RANDOM_SEED,)\n",
    "X_train.shape, X_test.shape"
   ]
  },
  {
   "cell_type": "code",
   "execution_count": 5,
   "metadata": {},
   "outputs": [
    {
     "output_type": "stream",
     "name": "stdout",
     "text": [
      "<class 'pandas.core.frame.DataFrame'>\nInt64Index: 39073 entries, 37193 to 15795\nData columns (total 14 columns):\n #   Column          Non-Null Count  Dtype   \n---  ------          --------------  -----   \n 0   age             39073 non-null  category\n 1   workclass       36851 non-null  category\n 2   fnlwgt          39073 non-null  float64 \n 3   education       39073 non-null  category\n 4   education-num   39073 non-null  float64 \n 5   marital-status  39073 non-null  category\n 6   occupation      36842 non-null  category\n 7   relationship    39073 non-null  category\n 8   race            39073 non-null  category\n 9   sex             39073 non-null  category\n 10  capitalgain     39073 non-null  category\n 11  capitalloss     39073 non-null  category\n 12  hoursperweek    39073 non-null  category\n 13  native-country  38396 non-null  category\ndtypes: category(12), float64(2)\nmemory usage: 1.3 MB\n"
     ]
    }
   ],
   "source": [
    "X_train.info()"
   ]
  },
  {
   "source": [
    "As we can see, the data is quite dirty, there are object/category features and nans. But the **model is successfully trained even in such a dirty dataset**      \n",
    "[RUS] Как мы видим, данные довольно грязные, есть object/category признаки и nans. Но модель успешно обучаеться даже таком грязном датасете"
   ],
   "cell_type": "markdown",
   "metadata": {}
  },
  {
   "cell_type": "markdown",
   "metadata": {},
   "source": [
    "# Data Cleaning (DataPrepare)\n",
    "before entering the AutoML, the data goes through a full cycle of pre-processing in DataPrepare Class     \n",
    "[RUS] до того как попасть в AutoML, данные проходят полный цикл предобработки в классе DataPrepare. Давайте расмотрим его отдельно"
   ]
  },
  {
   "cell_type": "code",
   "execution_count": 6,
   "metadata": {},
   "outputs": [
    {
     "output_type": "stream",
     "name": "stdout",
     "text": [
      "Source data shape:  (39073, 14)\n",
      "##################################################\n",
      "! START preprocessing Data\n",
      "- Auto detect cat features:  12\n",
      "> Binary Features\n",
      "> Clean Categorical Features\n",
      "> Transform Categorical Features.\n",
      " - Encoder: HelmertEncoder ADD features: 123\n",
      " - Encoder: CountEncoder ADD features: 12\n",
      "  No nans features\n",
      "> Generate interaction Num Features\n",
      " ADD features: 4\n",
      "> Normalization Features\n",
      "##################################################\n",
      "Final data shape:  (39073, 153)\n",
      "Total ADD columns: 139\n"
     ]
    }
   ],
   "source": [
    "de = DataPrepare(clean_and_encod_data=True,\n",
    "                cat_encoder_names=['HelmertEncoder','CountEncoder'], # Encoders list for Generator cat encodet features\n",
    "                clean_nan=True, # fillnan\n",
    "                drop_invariant=True, # drop invariant features (data.nunique < 2)\n",
    "                num_generator_features=True, # Generator interaction Num Features\n",
    "                normalization=True, # normalization data (StandardScaler)\n",
    "                cat_features=None, # DataPrepare can auto detect categorical features\n",
    "                random_state=RANDOM_SEED)\n",
    "clean_X_train = de.fit_transform(X_train)"
   ]
  },
  {
   "cell_type": "code",
   "execution_count": 7,
   "metadata": {},
   "outputs": [
    {
     "output_type": "execute_result",
     "data": {
      "text/plain": [
       "        age  workclass    fnlwgt  education  education-num  marital-status  \\\n",
       "0 -1.213983  -0.578503 -1.315975  -0.994139      -0.420108       -0.938503   \n",
       "1 -0.540769   0.008976 -0.431457  -0.737964       1.529031       -0.938503   \n",
       "2 -1.213983   0.596455  0.587895  -0.481790      -0.809935       -0.938503   \n",
       "3  0.132444  -0.578503 -1.138576  -0.994139      -0.420108       -0.259678   \n",
       "4  0.132444   1.183934 -1.525211  -0.994139      -0.420108        0.419147   \n",
       "\n",
       "   occupation  relationship      race       sex  ...  \\\n",
       "0   -1.571706     -0.973272 -0.343966  0.704448  ...   \n",
       "1   -1.293613     -0.973272 -0.343966  0.704448  ...   \n",
       "2   -1.015520     -0.973272 -0.343966  0.704448  ...   \n",
       "3   -0.737427     -0.356984 -0.343966  0.704448  ...   \n",
       "4   -0.459334      0.259304 -0.343966  0.704448  ...   \n",
       "\n",
       "   CountEncoder_relationship  CountEncoder_race  CountEncoder_capitalgain  \\\n",
       "0                   1.066668           0.410588                  0.302964   \n",
       "1                   1.066668           0.410588                  0.302964   \n",
       "2                   1.066668           0.410588                  0.302964   \n",
       "3                  -1.286459           0.410588                  0.302964   \n",
       "4                  -0.076981           0.410588                  0.302964   \n",
       "\n",
       "   CountEncoder_capitalloss  CountEncoder_hoursperweek  \\\n",
       "0                   0.22103                   0.859071   \n",
       "1                   0.22103                   0.859071   \n",
       "2                   0.22103                   0.859071   \n",
       "3                   0.22103                  -1.335637   \n",
       "4                   0.22103                  -1.598870   \n",
       "\n",
       "   CountEncoder_native-country  education-num_/_fnlwgt  \\\n",
       "0                      0.33534                1.279547   \n",
       "1                      0.33534                0.223280   \n",
       "2                      0.33534               -0.634778   \n",
       "3                      0.33534                0.650080   \n",
       "4                      0.33534                3.083612   \n",
       "\n",
       "   education-num_*_fnlwgt  education-num_-_fnlwgt  education-num_+_fnlwgt  \n",
       "0               -1.224664                1.315963               -1.315986  \n",
       "1                0.098973                0.431494               -0.431421  \n",
       "2                0.096284               -0.587914                0.587876  \n",
       "3               -1.081693                1.138565               -1.138587  \n",
       "4               -1.393293                1.525199               -1.525223  \n",
       "\n",
       "[5 rows x 153 columns]"
      ],
      "text/html": "<div>\n<style scoped>\n    .dataframe tbody tr th:only-of-type {\n        vertical-align: middle;\n    }\n\n    .dataframe tbody tr th {\n        vertical-align: top;\n    }\n\n    .dataframe thead th {\n        text-align: right;\n    }\n</style>\n<table border=\"1\" class=\"dataframe\">\n  <thead>\n    <tr style=\"text-align: right;\">\n      <th></th>\n      <th>age</th>\n      <th>workclass</th>\n      <th>fnlwgt</th>\n      <th>education</th>\n      <th>education-num</th>\n      <th>marital-status</th>\n      <th>occupation</th>\n      <th>relationship</th>\n      <th>race</th>\n      <th>sex</th>\n      <th>...</th>\n      <th>CountEncoder_relationship</th>\n      <th>CountEncoder_race</th>\n      <th>CountEncoder_capitalgain</th>\n      <th>CountEncoder_capitalloss</th>\n      <th>CountEncoder_hoursperweek</th>\n      <th>CountEncoder_native-country</th>\n      <th>education-num_/_fnlwgt</th>\n      <th>education-num_*_fnlwgt</th>\n      <th>education-num_-_fnlwgt</th>\n      <th>education-num_+_fnlwgt</th>\n    </tr>\n  </thead>\n  <tbody>\n    <tr>\n      <th>0</th>\n      <td>-1.213983</td>\n      <td>-0.578503</td>\n      <td>-1.315975</td>\n      <td>-0.994139</td>\n      <td>-0.420108</td>\n      <td>-0.938503</td>\n      <td>-1.571706</td>\n      <td>-0.973272</td>\n      <td>-0.343966</td>\n      <td>0.704448</td>\n      <td>...</td>\n      <td>1.066668</td>\n      <td>0.410588</td>\n      <td>0.302964</td>\n      <td>0.22103</td>\n      <td>0.859071</td>\n      <td>0.33534</td>\n      <td>1.279547</td>\n      <td>-1.224664</td>\n      <td>1.315963</td>\n      <td>-1.315986</td>\n    </tr>\n    <tr>\n      <th>1</th>\n      <td>-0.540769</td>\n      <td>0.008976</td>\n      <td>-0.431457</td>\n      <td>-0.737964</td>\n      <td>1.529031</td>\n      <td>-0.938503</td>\n      <td>-1.293613</td>\n      <td>-0.973272</td>\n      <td>-0.343966</td>\n      <td>0.704448</td>\n      <td>...</td>\n      <td>1.066668</td>\n      <td>0.410588</td>\n      <td>0.302964</td>\n      <td>0.22103</td>\n      <td>0.859071</td>\n      <td>0.33534</td>\n      <td>0.223280</td>\n      <td>0.098973</td>\n      <td>0.431494</td>\n      <td>-0.431421</td>\n    </tr>\n    <tr>\n      <th>2</th>\n      <td>-1.213983</td>\n      <td>0.596455</td>\n      <td>0.587895</td>\n      <td>-0.481790</td>\n      <td>-0.809935</td>\n      <td>-0.938503</td>\n      <td>-1.015520</td>\n      <td>-0.973272</td>\n      <td>-0.343966</td>\n      <td>0.704448</td>\n      <td>...</td>\n      <td>1.066668</td>\n      <td>0.410588</td>\n      <td>0.302964</td>\n      <td>0.22103</td>\n      <td>0.859071</td>\n      <td>0.33534</td>\n      <td>-0.634778</td>\n      <td>0.096284</td>\n      <td>-0.587914</td>\n      <td>0.587876</td>\n    </tr>\n    <tr>\n      <th>3</th>\n      <td>0.132444</td>\n      <td>-0.578503</td>\n      <td>-1.138576</td>\n      <td>-0.994139</td>\n      <td>-0.420108</td>\n      <td>-0.259678</td>\n      <td>-0.737427</td>\n      <td>-0.356984</td>\n      <td>-0.343966</td>\n      <td>0.704448</td>\n      <td>...</td>\n      <td>-1.286459</td>\n      <td>0.410588</td>\n      <td>0.302964</td>\n      <td>0.22103</td>\n      <td>-1.335637</td>\n      <td>0.33534</td>\n      <td>0.650080</td>\n      <td>-1.081693</td>\n      <td>1.138565</td>\n      <td>-1.138587</td>\n    </tr>\n    <tr>\n      <th>4</th>\n      <td>0.132444</td>\n      <td>1.183934</td>\n      <td>-1.525211</td>\n      <td>-0.994139</td>\n      <td>-0.420108</td>\n      <td>0.419147</td>\n      <td>-0.459334</td>\n      <td>0.259304</td>\n      <td>-0.343966</td>\n      <td>0.704448</td>\n      <td>...</td>\n      <td>-0.076981</td>\n      <td>0.410588</td>\n      <td>0.302964</td>\n      <td>0.22103</td>\n      <td>-1.598870</td>\n      <td>0.33534</td>\n      <td>3.083612</td>\n      <td>-1.393293</td>\n      <td>1.525199</td>\n      <td>-1.525223</td>\n    </tr>\n  </tbody>\n</table>\n<p>5 rows × 153 columns</p>\n</div>"
     },
     "metadata": {},
     "execution_count": 7
    }
   ],
   "source": [
    "clean_X_train.head(5)"
   ]
  },
  {
   "source": [
    "<img src=\"./img/magic.gif\" width=\"400\">"
   ],
   "cell_type": "markdown",
   "metadata": {}
  },
  {
   "cell_type": "code",
   "execution_count": 8,
   "metadata": {},
   "outputs": [
    {
     "output_type": "stream",
     "name": "stdout",
     "text": [
      "##################################################\n",
      "! Start Transform Data\n",
      "> Clean Binary Features\n",
      "> Clean Categorical Features\n",
      "> Transform Categorical Features.\n",
      " - Encoder: HelmertEncoder ADD features: 123\n",
      " - Encoder: CountEncoder ADD features: 12\n",
      "> Generate interaction Num Features\n",
      " ADD features: 4\n",
      "> Normalization Features\n",
      "##################################################\n",
      "Final data shape:  (9769, 153)\n",
      "Total ADD columns: 139\n"
     ]
    }
   ],
   "source": [
    "clean_X_test = de.transform(X_test)"
   ]
  },
  {
   "cell_type": "code",
   "execution_count": 9,
   "metadata": {},
   "outputs": [
    {
     "output_type": "execute_result",
     "data": {
      "text/plain": [
       "        age  workclass    fnlwgt  education  education-num  marital-status  \\\n",
       "0  1.478871  -0.578503  2.202051  -0.994139      -0.420108        1.097972   \n",
       "1  1.478871  -0.578503 -0.104463  -0.481790      -0.809935        1.097972   \n",
       "2  1.478871   0.596455  1.502379  -0.994139      -0.420108        1.097972   \n",
       "3  1.478871  -0.578503  0.266570   0.286733      -0.030280        1.097972   \n",
       "4  0.805658  -0.578503  0.510479  -0.994139      -0.420108        1.097972   \n",
       "\n",
       "   occupation  relationship      race       sex  ...  \\\n",
       "0   -0.181241      0.259304 -0.343966  0.704448  ...   \n",
       "1   -0.459334      1.491880 -0.343966 -1.419551  ...   \n",
       "2    0.931131      0.875592  1.069113  0.704448  ...   \n",
       "3   -0.459334      1.491880 -0.343966 -1.419551  ...   \n",
       "4    1.209224     -0.356984  5.308352  0.704448  ...   \n",
       "\n",
       "   CountEncoder_relationship  CountEncoder_race  CountEncoder_capitalgain  \\\n",
       "0                  -0.076981           0.410588                  0.302964   \n",
       "1                  -0.871154           0.410588                  0.302964   \n",
       "2                  -1.866034          -2.340468                  0.302964   \n",
       "3                  -0.871154           0.410588                  0.302964   \n",
       "4                  -1.286459          -2.651793                  0.302964   \n",
       "\n",
       "   CountEncoder_capitalloss  CountEncoder_hoursperweek  \\\n",
       "0                   0.22103                  -1.335637   \n",
       "1                   0.22103                  -1.335637   \n",
       "2                   0.22103                   0.859071   \n",
       "3                   0.22103                  -1.204548   \n",
       "4                   0.22103                  -0.914557   \n",
       "\n",
       "   CountEncoder_native-country  education-num_/_fnlwgt  \\\n",
       "0                     0.335340               -0.772076   \n",
       "1                     0.335340               -0.464056   \n",
       "2                     0.335340               -0.712736   \n",
       "3                     0.335340               -0.449307   \n",
       "4                    -2.997947               -0.566904   \n",
       "\n",
       "   education-num_*_fnlwgt  education-num_-_fnlwgt  education-num_+_fnlwgt  \n",
       "0                1.610616               -2.202059                2.202043  \n",
       "1               -0.399708                0.104443               -0.104482  \n",
       "2                1.046730               -1.502387                1.502370  \n",
       "3                0.235418               -0.266571                0.266570  \n",
       "4                0.247329               -0.510489                0.510469  \n",
       "\n",
       "[5 rows x 153 columns]"
      ],
      "text/html": "<div>\n<style scoped>\n    .dataframe tbody tr th:only-of-type {\n        vertical-align: middle;\n    }\n\n    .dataframe tbody tr th {\n        vertical-align: top;\n    }\n\n    .dataframe thead th {\n        text-align: right;\n    }\n</style>\n<table border=\"1\" class=\"dataframe\">\n  <thead>\n    <tr style=\"text-align: right;\">\n      <th></th>\n      <th>age</th>\n      <th>workclass</th>\n      <th>fnlwgt</th>\n      <th>education</th>\n      <th>education-num</th>\n      <th>marital-status</th>\n      <th>occupation</th>\n      <th>relationship</th>\n      <th>race</th>\n      <th>sex</th>\n      <th>...</th>\n      <th>CountEncoder_relationship</th>\n      <th>CountEncoder_race</th>\n      <th>CountEncoder_capitalgain</th>\n      <th>CountEncoder_capitalloss</th>\n      <th>CountEncoder_hoursperweek</th>\n      <th>CountEncoder_native-country</th>\n      <th>education-num_/_fnlwgt</th>\n      <th>education-num_*_fnlwgt</th>\n      <th>education-num_-_fnlwgt</th>\n      <th>education-num_+_fnlwgt</th>\n    </tr>\n  </thead>\n  <tbody>\n    <tr>\n      <th>0</th>\n      <td>1.478871</td>\n      <td>-0.578503</td>\n      <td>2.202051</td>\n      <td>-0.994139</td>\n      <td>-0.420108</td>\n      <td>1.097972</td>\n      <td>-0.181241</td>\n      <td>0.259304</td>\n      <td>-0.343966</td>\n      <td>0.704448</td>\n      <td>...</td>\n      <td>-0.076981</td>\n      <td>0.410588</td>\n      <td>0.302964</td>\n      <td>0.22103</td>\n      <td>-1.335637</td>\n      <td>0.335340</td>\n      <td>-0.772076</td>\n      <td>1.610616</td>\n      <td>-2.202059</td>\n      <td>2.202043</td>\n    </tr>\n    <tr>\n      <th>1</th>\n      <td>1.478871</td>\n      <td>-0.578503</td>\n      <td>-0.104463</td>\n      <td>-0.481790</td>\n      <td>-0.809935</td>\n      <td>1.097972</td>\n      <td>-0.459334</td>\n      <td>1.491880</td>\n      <td>-0.343966</td>\n      <td>-1.419551</td>\n      <td>...</td>\n      <td>-0.871154</td>\n      <td>0.410588</td>\n      <td>0.302964</td>\n      <td>0.22103</td>\n      <td>-1.335637</td>\n      <td>0.335340</td>\n      <td>-0.464056</td>\n      <td>-0.399708</td>\n      <td>0.104443</td>\n      <td>-0.104482</td>\n    </tr>\n    <tr>\n      <th>2</th>\n      <td>1.478871</td>\n      <td>0.596455</td>\n      <td>1.502379</td>\n      <td>-0.994139</td>\n      <td>-0.420108</td>\n      <td>1.097972</td>\n      <td>0.931131</td>\n      <td>0.875592</td>\n      <td>1.069113</td>\n      <td>0.704448</td>\n      <td>...</td>\n      <td>-1.866034</td>\n      <td>-2.340468</td>\n      <td>0.302964</td>\n      <td>0.22103</td>\n      <td>0.859071</td>\n      <td>0.335340</td>\n      <td>-0.712736</td>\n      <td>1.046730</td>\n      <td>-1.502387</td>\n      <td>1.502370</td>\n    </tr>\n    <tr>\n      <th>3</th>\n      <td>1.478871</td>\n      <td>-0.578503</td>\n      <td>0.266570</td>\n      <td>0.286733</td>\n      <td>-0.030280</td>\n      <td>1.097972</td>\n      <td>-0.459334</td>\n      <td>1.491880</td>\n      <td>-0.343966</td>\n      <td>-1.419551</td>\n      <td>...</td>\n      <td>-0.871154</td>\n      <td>0.410588</td>\n      <td>0.302964</td>\n      <td>0.22103</td>\n      <td>-1.204548</td>\n      <td>0.335340</td>\n      <td>-0.449307</td>\n      <td>0.235418</td>\n      <td>-0.266571</td>\n      <td>0.266570</td>\n    </tr>\n    <tr>\n      <th>4</th>\n      <td>0.805658</td>\n      <td>-0.578503</td>\n      <td>0.510479</td>\n      <td>-0.994139</td>\n      <td>-0.420108</td>\n      <td>1.097972</td>\n      <td>1.209224</td>\n      <td>-0.356984</td>\n      <td>5.308352</td>\n      <td>0.704448</td>\n      <td>...</td>\n      <td>-1.286459</td>\n      <td>-2.651793</td>\n      <td>0.302964</td>\n      <td>0.22103</td>\n      <td>-0.914557</td>\n      <td>-2.997947</td>\n      <td>-0.566904</td>\n      <td>0.247329</td>\n      <td>-0.510489</td>\n      <td>0.510469</td>\n    </tr>\n  </tbody>\n</table>\n<p>5 rows × 153 columns</p>\n</div>"
     },
     "metadata": {},
     "execution_count": 9
    }
   ],
   "source": [
    "clean_X_test.head(5)"
   ]
  },
  {
   "source": [
    "## Save and Load\n",
    "separate transform allows us to save and transfer processing to new data \n",
    "[RUS] раздельный transform позволяет нам сохранять и переносить обработку на новые данные"
   ],
   "cell_type": "markdown",
   "metadata": {}
  },
  {
   "cell_type": "code",
   "execution_count": 10,
   "metadata": {},
   "outputs": [
    {
     "output_type": "stream",
     "name": "stdout",
     "text": [
      "Save DataPrepare\n"
     ]
    }
   ],
   "source": [
    "de.save('de')"
   ]
  },
  {
   "cell_type": "code",
   "execution_count": 11,
   "metadata": {},
   "outputs": [],
   "source": [
    "de = DataPrepare()\n",
    "de = de.load('de')"
   ]
  },
  {
   "cell_type": "code",
   "execution_count": 12,
   "metadata": {},
   "outputs": [
    {
     "output_type": "stream",
     "name": "stdout",
     "text": [
      "##################################################\n",
      "! Start Transform Data\n",
      "> Clean Binary Features\n",
      "> Clean Categorical Features\n",
      "> Transform Categorical Features.\n",
      " - Encoder: HelmertEncoder ADD features: 123\n",
      " - Encoder: CountEncoder ADD features: 12\n",
      "> Generate interaction Num Features\n",
      " ADD features: 4\n",
      "> Normalization Features\n",
      "##################################################\n",
      "Final data shape:  (9769, 153)\n",
      "Total ADD columns: 139\n"
     ]
    },
    {
     "output_type": "execute_result",
     "data": {
      "text/plain": [
       "        age  workclass    fnlwgt  education  education-num  marital-status  \\\n",
       "0  1.478871  -0.578503  2.202051  -0.994139      -0.420108        1.097972   \n",
       "1  1.478871  -0.578503 -0.104463  -0.481790      -0.809935        1.097972   \n",
       "2  1.478871   0.596455  1.502379  -0.994139      -0.420108        1.097972   \n",
       "3  1.478871  -0.578503  0.266570   0.286733      -0.030280        1.097972   \n",
       "4  0.805658  -0.578503  0.510479  -0.994139      -0.420108        1.097972   \n",
       "\n",
       "   occupation  relationship      race       sex  ...  \\\n",
       "0   -0.181241      0.259304 -0.343966  0.704448  ...   \n",
       "1   -0.459334      1.491880 -0.343966 -1.419551  ...   \n",
       "2    0.931131      0.875592  1.069113  0.704448  ...   \n",
       "3   -0.459334      1.491880 -0.343966 -1.419551  ...   \n",
       "4    1.209224     -0.356984  5.308352  0.704448  ...   \n",
       "\n",
       "   CountEncoder_relationship  CountEncoder_race  CountEncoder_capitalgain  \\\n",
       "0                  -0.076981           0.410588                  0.302964   \n",
       "1                  -0.871154           0.410588                  0.302964   \n",
       "2                  -1.866034          -2.340468                  0.302964   \n",
       "3                  -0.871154           0.410588                  0.302964   \n",
       "4                  -1.286459          -2.651793                  0.302964   \n",
       "\n",
       "   CountEncoder_capitalloss  CountEncoder_hoursperweek  \\\n",
       "0                   0.22103                  -1.335637   \n",
       "1                   0.22103                  -1.335637   \n",
       "2                   0.22103                   0.859071   \n",
       "3                   0.22103                  -1.204548   \n",
       "4                   0.22103                  -0.914557   \n",
       "\n",
       "   CountEncoder_native-country  education-num_/_fnlwgt  \\\n",
       "0                     0.335340               -0.772076   \n",
       "1                     0.335340               -0.464056   \n",
       "2                     0.335340               -0.712736   \n",
       "3                     0.335340               -0.449307   \n",
       "4                    -2.997947               -0.566904   \n",
       "\n",
       "   education-num_*_fnlwgt  education-num_-_fnlwgt  education-num_+_fnlwgt  \n",
       "0                1.610616               -2.202059                2.202043  \n",
       "1               -0.399708                0.104443               -0.104482  \n",
       "2                1.046730               -1.502387                1.502370  \n",
       "3                0.235418               -0.266571                0.266570  \n",
       "4                0.247329               -0.510489                0.510469  \n",
       "\n",
       "[5 rows x 153 columns]"
      ],
      "text/html": "<div>\n<style scoped>\n    .dataframe tbody tr th:only-of-type {\n        vertical-align: middle;\n    }\n\n    .dataframe tbody tr th {\n        vertical-align: top;\n    }\n\n    .dataframe thead th {\n        text-align: right;\n    }\n</style>\n<table border=\"1\" class=\"dataframe\">\n  <thead>\n    <tr style=\"text-align: right;\">\n      <th></th>\n      <th>age</th>\n      <th>workclass</th>\n      <th>fnlwgt</th>\n      <th>education</th>\n      <th>education-num</th>\n      <th>marital-status</th>\n      <th>occupation</th>\n      <th>relationship</th>\n      <th>race</th>\n      <th>sex</th>\n      <th>...</th>\n      <th>CountEncoder_relationship</th>\n      <th>CountEncoder_race</th>\n      <th>CountEncoder_capitalgain</th>\n      <th>CountEncoder_capitalloss</th>\n      <th>CountEncoder_hoursperweek</th>\n      <th>CountEncoder_native-country</th>\n      <th>education-num_/_fnlwgt</th>\n      <th>education-num_*_fnlwgt</th>\n      <th>education-num_-_fnlwgt</th>\n      <th>education-num_+_fnlwgt</th>\n    </tr>\n  </thead>\n  <tbody>\n    <tr>\n      <th>0</th>\n      <td>1.478871</td>\n      <td>-0.578503</td>\n      <td>2.202051</td>\n      <td>-0.994139</td>\n      <td>-0.420108</td>\n      <td>1.097972</td>\n      <td>-0.181241</td>\n      <td>0.259304</td>\n      <td>-0.343966</td>\n      <td>0.704448</td>\n      <td>...</td>\n      <td>-0.076981</td>\n      <td>0.410588</td>\n      <td>0.302964</td>\n      <td>0.22103</td>\n      <td>-1.335637</td>\n      <td>0.335340</td>\n      <td>-0.772076</td>\n      <td>1.610616</td>\n      <td>-2.202059</td>\n      <td>2.202043</td>\n    </tr>\n    <tr>\n      <th>1</th>\n      <td>1.478871</td>\n      <td>-0.578503</td>\n      <td>-0.104463</td>\n      <td>-0.481790</td>\n      <td>-0.809935</td>\n      <td>1.097972</td>\n      <td>-0.459334</td>\n      <td>1.491880</td>\n      <td>-0.343966</td>\n      <td>-1.419551</td>\n      <td>...</td>\n      <td>-0.871154</td>\n      <td>0.410588</td>\n      <td>0.302964</td>\n      <td>0.22103</td>\n      <td>-1.335637</td>\n      <td>0.335340</td>\n      <td>-0.464056</td>\n      <td>-0.399708</td>\n      <td>0.104443</td>\n      <td>-0.104482</td>\n    </tr>\n    <tr>\n      <th>2</th>\n      <td>1.478871</td>\n      <td>0.596455</td>\n      <td>1.502379</td>\n      <td>-0.994139</td>\n      <td>-0.420108</td>\n      <td>1.097972</td>\n      <td>0.931131</td>\n      <td>0.875592</td>\n      <td>1.069113</td>\n      <td>0.704448</td>\n      <td>...</td>\n      <td>-1.866034</td>\n      <td>-2.340468</td>\n      <td>0.302964</td>\n      <td>0.22103</td>\n      <td>0.859071</td>\n      <td>0.335340</td>\n      <td>-0.712736</td>\n      <td>1.046730</td>\n      <td>-1.502387</td>\n      <td>1.502370</td>\n    </tr>\n    <tr>\n      <th>3</th>\n      <td>1.478871</td>\n      <td>-0.578503</td>\n      <td>0.266570</td>\n      <td>0.286733</td>\n      <td>-0.030280</td>\n      <td>1.097972</td>\n      <td>-0.459334</td>\n      <td>1.491880</td>\n      <td>-0.343966</td>\n      <td>-1.419551</td>\n      <td>...</td>\n      <td>-0.871154</td>\n      <td>0.410588</td>\n      <td>0.302964</td>\n      <td>0.22103</td>\n      <td>-1.204548</td>\n      <td>0.335340</td>\n      <td>-0.449307</td>\n      <td>0.235418</td>\n      <td>-0.266571</td>\n      <td>0.266570</td>\n    </tr>\n    <tr>\n      <th>4</th>\n      <td>0.805658</td>\n      <td>-0.578503</td>\n      <td>0.510479</td>\n      <td>-0.994139</td>\n      <td>-0.420108</td>\n      <td>1.097972</td>\n      <td>1.209224</td>\n      <td>-0.356984</td>\n      <td>5.308352</td>\n      <td>0.704448</td>\n      <td>...</td>\n      <td>-1.286459</td>\n      <td>-2.651793</td>\n      <td>0.302964</td>\n      <td>0.22103</td>\n      <td>-0.914557</td>\n      <td>-2.997947</td>\n      <td>-0.566904</td>\n      <td>0.247329</td>\n      <td>-0.510489</td>\n      <td>0.510469</td>\n    </tr>\n  </tbody>\n</table>\n<p>5 rows × 153 columns</p>\n</div>"
     },
     "metadata": {},
     "execution_count": 12
    }
   ],
   "source": [
    "de.transform(X_test).head(5)"
   ]
  },
  {
   "cell_type": "markdown",
   "metadata": {},
   "source": [
    "# Feature Engineering"
   ]
  },
  {
   "cell_type": "markdown",
   "metadata": {},
   "source": [
    "## Categorical Features \n",
    "### Encoders"
   ]
  },
  {
   "cell_type": "code",
   "execution_count": 13,
   "metadata": {
    "ExecuteTime": {
     "end_time": "2020-05-07T04:24:11.951750Z",
     "start_time": "2020-05-07T04:24:11.945886Z"
    }
   },
   "outputs": [
    {
     "output_type": "execute_result",
     "data": {
      "text/plain": [
       "{'HashingEncoder': category_encoders.hashing.HashingEncoder,\n",
       " 'SumEncoder': category_encoders.sum_coding.SumEncoder,\n",
       " 'BackwardDifferenceEncoder': category_encoders.backward_difference.BackwardDifferenceEncoder,\n",
       " 'OneHotEncoder': category_encoders.one_hot.OneHotEncoder,\n",
       " 'HelmertEncoder': category_encoders.helmert.HelmertEncoder,\n",
       " 'BaseNEncoder': category_encoders.basen.BaseNEncoder,\n",
       " 'CountEncoder': category_encoders.count.CountEncoder}"
      ]
     },
     "metadata": {},
     "execution_count": 13
    }
   ],
   "source": [
    "# available Encoders:\n",
    "automl_alex.encoders.cat_encoders_names"
   ]
  },
  {
   "source": [
    "you can use any encoders for categorical features, combining their results (if you have enough memory)"
   ],
   "cell_type": "markdown",
   "metadata": {}
  },
  {
   "cell_type": "code",
   "execution_count": 14,
   "metadata": {
    "ExecuteTime": {
     "end_time": "2020-05-07T04:24:13.268269Z",
     "start_time": "2020-05-07T04:24:11.964195Z"
    },
    "tags": []
   },
   "outputs": [
    {
     "output_type": "stream",
     "name": "stdout",
     "text": [
      "Source data shape:  (39073, 14)\n",
      "##################################################\n",
      "! START preprocessing Data\n",
      "- Auto detect cat features:  12\n",
      "> Binary Features\n",
      "> Clean Categorical Features\n",
      "> Transform Categorical Features.\n",
      " - Encoder: HelmertEncoder ADD features: 123\n",
      " - Encoder: OneHotEncoder ADD features: 135\n",
      " - Encoder: CountEncoder ADD features: 12\n",
      " - Encoder: HashingEncoder ADD features: 12\n",
      "  No nans features\n",
      "> Generate interaction Num Features\n",
      " ADD features: 4\n",
      "> Normalization Features\n",
      "##################################################\n",
      "Final data shape:  (39073, 300)\n",
      "Total ADD columns: 286\n"
     ]
    }
   ],
   "source": [
    "de = DataPrepare(\n",
    "    cat_encoder_names=['HelmertEncoder','OneHotEncoder','CountEncoder','HashingEncoder'], # Encoders list for Generator cat encodet features\n",
    "    )  \n",
    "clean_X_train = de.fit_transform(X_train)"
   ]
  },
  {
   "cell_type": "markdown",
   "metadata": {},
   "source": [
    "## Numerical Features"
   ]
  },
  {
   "cell_type": "code",
   "execution_count": 17,
   "metadata": {},
   "outputs": [
    {
     "output_type": "execute_result",
     "data": {
      "text/plain": [
       "    checking_status  duration                  credit_history    purpose  \\\n",
       "29               <0      60.0              delayed previously   business   \n",
       "535           >=200      21.0  critical/other existing credit  education   \n",
       "695     no checking       6.0                   existing paid   used car   \n",
       "\n",
       "     credit_amount savings_status employment  installment_commitment  \\\n",
       "29          6836.0           <100        >=7                     3.0   \n",
       "535         2319.0           <100         <1                     2.0   \n",
       "695         1236.0    500<=X<1000     1<=X<4                     2.0   \n",
       "\n",
       "    personal_status other_parties  residence_since property_magnitude   age  \\\n",
       "29      male single          none              4.0  no known property  63.0   \n",
       "535    male div/sep          none              1.0                car  33.0   \n",
       "695     male single          none              4.0     life insurance  50.0   \n",
       "\n",
       "    other_payment_plans housing  existing_credits      job  num_dependents  \\\n",
       "29                 none     own               2.0  skilled             1.0   \n",
       "535                none    rent               1.0  skilled             1.0   \n",
       "695                none    rent               1.0  skilled             1.0   \n",
       "\n",
       "    own_telephone foreign_worker  \n",
       "29            yes            yes  \n",
       "535          none            yes  \n",
       "695          none            yes  "
      ],
      "text/html": "<div>\n<style scoped>\n    .dataframe tbody tr th:only-of-type {\n        vertical-align: middle;\n    }\n\n    .dataframe tbody tr th {\n        vertical-align: top;\n    }\n\n    .dataframe thead th {\n        text-align: right;\n    }\n</style>\n<table border=\"1\" class=\"dataframe\">\n  <thead>\n    <tr style=\"text-align: right;\">\n      <th></th>\n      <th>checking_status</th>\n      <th>duration</th>\n      <th>credit_history</th>\n      <th>purpose</th>\n      <th>credit_amount</th>\n      <th>savings_status</th>\n      <th>employment</th>\n      <th>installment_commitment</th>\n      <th>personal_status</th>\n      <th>other_parties</th>\n      <th>residence_since</th>\n      <th>property_magnitude</th>\n      <th>age</th>\n      <th>other_payment_plans</th>\n      <th>housing</th>\n      <th>existing_credits</th>\n      <th>job</th>\n      <th>num_dependents</th>\n      <th>own_telephone</th>\n      <th>foreign_worker</th>\n    </tr>\n  </thead>\n  <tbody>\n    <tr>\n      <th>29</th>\n      <td>&lt;0</td>\n      <td>60.0</td>\n      <td>delayed previously</td>\n      <td>business</td>\n      <td>6836.0</td>\n      <td>&lt;100</td>\n      <td>&gt;=7</td>\n      <td>3.0</td>\n      <td>male single</td>\n      <td>none</td>\n      <td>4.0</td>\n      <td>no known property</td>\n      <td>63.0</td>\n      <td>none</td>\n      <td>own</td>\n      <td>2.0</td>\n      <td>skilled</td>\n      <td>1.0</td>\n      <td>yes</td>\n      <td>yes</td>\n    </tr>\n    <tr>\n      <th>535</th>\n      <td>&gt;=200</td>\n      <td>21.0</td>\n      <td>critical/other existing credit</td>\n      <td>education</td>\n      <td>2319.0</td>\n      <td>&lt;100</td>\n      <td>&lt;1</td>\n      <td>2.0</td>\n      <td>male div/sep</td>\n      <td>none</td>\n      <td>1.0</td>\n      <td>car</td>\n      <td>33.0</td>\n      <td>none</td>\n      <td>rent</td>\n      <td>1.0</td>\n      <td>skilled</td>\n      <td>1.0</td>\n      <td>none</td>\n      <td>yes</td>\n    </tr>\n    <tr>\n      <th>695</th>\n      <td>no checking</td>\n      <td>6.0</td>\n      <td>existing paid</td>\n      <td>used car</td>\n      <td>1236.0</td>\n      <td>500&lt;=X&lt;1000</td>\n      <td>1&lt;=X&lt;4</td>\n      <td>2.0</td>\n      <td>male single</td>\n      <td>none</td>\n      <td>4.0</td>\n      <td>life insurance</td>\n      <td>50.0</td>\n      <td>none</td>\n      <td>rent</td>\n      <td>1.0</td>\n      <td>skilled</td>\n      <td>1.0</td>\n      <td>none</td>\n      <td>yes</td>\n    </tr>\n  </tbody>\n</table>\n</div>"
     },
     "metadata": {},
     "execution_count": 17
    }
   ],
   "source": [
    "# add dataset whis more num features\n",
    "dataset = fetch_openml(name='credit-g', version=1, as_frame=True)\n",
    "dataset.target = dataset.target.astype('category').cat.codes\n",
    "\n",
    "X_train, X_test, y_train, y_test = train_test_split(dataset.data, dataset.target, test_size=0.2, random_state=RANDOM_SEED,)\n",
    "X_train.head(3)"
   ]
  },
  {
   "source": [
    "### Generator interaction Num Features\n",
    "Numerical interaction generator features: A/B, A*B, A-B, A+B"
   ],
   "cell_type": "markdown",
   "metadata": {}
  },
  {
   "cell_type": "code",
   "execution_count": 21,
   "metadata": {
    "tags": []
   },
   "outputs": [
    {
     "output_type": "stream",
     "name": "stdout",
     "text": [
      "Source data shape:  (800, 20)\n",
      "##################################################\n",
      "! START preprocessing Data\n",
      "- Auto detect cat features:  13\n",
      "> Binary Features\n",
      "> Clean Categorical Features\n",
      "> Transform Categorical Features.\n",
      "  No nans features\n",
      "> Generate interaction Num Features\n",
      " ADD features: 60\n",
      "##################################################\n",
      "Final data shape:  (800, 80)\n",
      "Total ADD columns: 60\n"
     ]
    }
   ],
   "source": [
    "de = DataPrepare(\n",
    "                cat_encoder_names=[],\n",
    "                num_generator_features=True, # Generator interaction Num Features\n",
    "                normalization=False, # normalization data (StandardScaler)\n",
    "                )\n",
    "clean_X_train = de.fit_transform(X_train)"
   ]
  },
  {
   "cell_type": "code",
   "execution_count": 24,
   "metadata": {},
   "outputs": [
    {
     "output_type": "execute_result",
     "data": {
      "text/plain": [
       "   checking_status  duration  credit_history  purpose  credit_amount  \\\n",
       "0                1      60.0               1        1         6836.0   \n",
       "1                2      21.0               2        2         2319.0   \n",
       "2                3       6.0               3        3         1236.0   \n",
       "3                3      21.0               4        4         5003.0   \n",
       "4                3      12.0               3        5          886.0   \n",
       "\n",
       "   savings_status  employment  installment_commitment  personal_status  \\\n",
       "0               1           1                     3.0                1   \n",
       "1               1           2                     2.0                2   \n",
       "2               2           3                     2.0                1   \n",
       "3               3           3                     1.0                3   \n",
       "4               3           3                     4.0                3   \n",
       "\n",
       "   other_parties  ...  duration_-_age  duration_+_age  \\\n",
       "0              1  ...            -3.0           123.0   \n",
       "1              1  ...           -12.0            54.0   \n",
       "2              1  ...           -44.0            56.0   \n",
       "3              1  ...            -8.0            50.0   \n",
       "4              1  ...            -9.0            33.0   \n",
       "\n",
       "   duration_/_existing_credits  duration_*_existing_credits  \\\n",
       "0                         30.0                        120.0   \n",
       "1                         21.0                         21.0   \n",
       "2                          6.0                          6.0   \n",
       "3                         10.5                         42.0   \n",
       "4                         12.0                         12.0   \n",
       "\n",
       "   duration_-_existing_credits  duration_+_existing_credits  \\\n",
       "0                         58.0                         62.0   \n",
       "1                         20.0                         22.0   \n",
       "2                          5.0                          7.0   \n",
       "3                         19.0                         23.0   \n",
       "4                         11.0                         13.0   \n",
       "\n",
       "   age_/_existing_credits age_*_existing_credits age_-_existing_credits  \\\n",
       "0                    31.5                  126.0                   61.0   \n",
       "1                    33.0                   33.0                   32.0   \n",
       "2                    50.0                   50.0                   49.0   \n",
       "3                    14.5                   58.0                   27.0   \n",
       "4                    21.0                   21.0                   20.0   \n",
       "\n",
       "  age_+_existing_credits  \n",
       "0                   65.0  \n",
       "1                   34.0  \n",
       "2                   51.0  \n",
       "3                   31.0  \n",
       "4                   22.0  \n",
       "\n",
       "[5 rows x 80 columns]"
      ],
      "text/html": "<div>\n<style scoped>\n    .dataframe tbody tr th:only-of-type {\n        vertical-align: middle;\n    }\n\n    .dataframe tbody tr th {\n        vertical-align: top;\n    }\n\n    .dataframe thead th {\n        text-align: right;\n    }\n</style>\n<table border=\"1\" class=\"dataframe\">\n  <thead>\n    <tr style=\"text-align: right;\">\n      <th></th>\n      <th>checking_status</th>\n      <th>duration</th>\n      <th>credit_history</th>\n      <th>purpose</th>\n      <th>credit_amount</th>\n      <th>savings_status</th>\n      <th>employment</th>\n      <th>installment_commitment</th>\n      <th>personal_status</th>\n      <th>other_parties</th>\n      <th>...</th>\n      <th>duration_-_age</th>\n      <th>duration_+_age</th>\n      <th>duration_/_existing_credits</th>\n      <th>duration_*_existing_credits</th>\n      <th>duration_-_existing_credits</th>\n      <th>duration_+_existing_credits</th>\n      <th>age_/_existing_credits</th>\n      <th>age_*_existing_credits</th>\n      <th>age_-_existing_credits</th>\n      <th>age_+_existing_credits</th>\n    </tr>\n  </thead>\n  <tbody>\n    <tr>\n      <th>0</th>\n      <td>1</td>\n      <td>60.0</td>\n      <td>1</td>\n      <td>1</td>\n      <td>6836.0</td>\n      <td>1</td>\n      <td>1</td>\n      <td>3.0</td>\n      <td>1</td>\n      <td>1</td>\n      <td>...</td>\n      <td>-3.0</td>\n      <td>123.0</td>\n      <td>30.0</td>\n      <td>120.0</td>\n      <td>58.0</td>\n      <td>62.0</td>\n      <td>31.5</td>\n      <td>126.0</td>\n      <td>61.0</td>\n      <td>65.0</td>\n    </tr>\n    <tr>\n      <th>1</th>\n      <td>2</td>\n      <td>21.0</td>\n      <td>2</td>\n      <td>2</td>\n      <td>2319.0</td>\n      <td>1</td>\n      <td>2</td>\n      <td>2.0</td>\n      <td>2</td>\n      <td>1</td>\n      <td>...</td>\n      <td>-12.0</td>\n      <td>54.0</td>\n      <td>21.0</td>\n      <td>21.0</td>\n      <td>20.0</td>\n      <td>22.0</td>\n      <td>33.0</td>\n      <td>33.0</td>\n      <td>32.0</td>\n      <td>34.0</td>\n    </tr>\n    <tr>\n      <th>2</th>\n      <td>3</td>\n      <td>6.0</td>\n      <td>3</td>\n      <td>3</td>\n      <td>1236.0</td>\n      <td>2</td>\n      <td>3</td>\n      <td>2.0</td>\n      <td>1</td>\n      <td>1</td>\n      <td>...</td>\n      <td>-44.0</td>\n      <td>56.0</td>\n      <td>6.0</td>\n      <td>6.0</td>\n      <td>5.0</td>\n      <td>7.0</td>\n      <td>50.0</td>\n      <td>50.0</td>\n      <td>49.0</td>\n      <td>51.0</td>\n    </tr>\n    <tr>\n      <th>3</th>\n      <td>3</td>\n      <td>21.0</td>\n      <td>4</td>\n      <td>4</td>\n      <td>5003.0</td>\n      <td>3</td>\n      <td>3</td>\n      <td>1.0</td>\n      <td>3</td>\n      <td>1</td>\n      <td>...</td>\n      <td>-8.0</td>\n      <td>50.0</td>\n      <td>10.5</td>\n      <td>42.0</td>\n      <td>19.0</td>\n      <td>23.0</td>\n      <td>14.5</td>\n      <td>58.0</td>\n      <td>27.0</td>\n      <td>31.0</td>\n    </tr>\n    <tr>\n      <th>4</th>\n      <td>3</td>\n      <td>12.0</td>\n      <td>3</td>\n      <td>5</td>\n      <td>886.0</td>\n      <td>3</td>\n      <td>3</td>\n      <td>4.0</td>\n      <td>3</td>\n      <td>1</td>\n      <td>...</td>\n      <td>-9.0</td>\n      <td>33.0</td>\n      <td>12.0</td>\n      <td>12.0</td>\n      <td>11.0</td>\n      <td>13.0</td>\n      <td>21.0</td>\n      <td>21.0</td>\n      <td>20.0</td>\n      <td>22.0</td>\n    </tr>\n  </tbody>\n</table>\n<p>5 rows × 80 columns</p>\n</div>"
     },
     "metadata": {},
     "execution_count": 24
    }
   ],
   "source": [
    "clean_X_train.head(5)"
   ]
  },
  {
   "cell_type": "markdown",
   "metadata": {},
   "source": [
    "**Encoder selection is an important part of all AutoML**    \n",
    "Even with such smart preprocessing, don't forget the basic DS rule: **Garbage in the input is garbage in the output.**"
   ]
  },
  {
   "cell_type": "markdown",
   "metadata": {},
   "source": [
    "[RUS] Даже с такой умной предобработкой не забывайте: Мусор на входе - мусор на выходе."
   ]
  },
  {
   "source": [
    "<img src=\"./img/data-cleaning.png\" width=\"500\">"
   ],
   "cell_type": "markdown",
   "metadata": {}
  },
  {
   "cell_type": "code",
   "execution_count": null,
   "metadata": {},
   "outputs": [],
   "source": []
  }
 ],
 "metadata": {
  "kernelspec": {
   "display_name": "Python 3",
   "language": "python",
   "name": "python3"
  },
  "language_info": {
   "codemirror_mode": {
    "name": "ipython",
    "version": 3
   },
   "file_extension": ".py",
   "mimetype": "text/x-python",
   "name": "python",
   "nbconvert_exporter": "python",
   "pygments_lexer": "ipython3",
   "version": "3.8.5-final"
  },
  "toc": {
   "base_numbering": 1,
   "nav_menu": {},
   "number_sections": false,
   "sideBar": true,
   "skip_h1_title": false,
   "title_cell": "Table of Contents",
   "title_sidebar": "Contents",
   "toc_cell": false,
   "toc_position": {
    "height": "calc(100% - 180px)",
    "left": "10px",
    "top": "150px",
    "width": "165px"
   },
   "toc_section_display": true,
   "toc_window_display": true
  }
 },
 "nbformat": 4,
 "nbformat_minor": 4
}