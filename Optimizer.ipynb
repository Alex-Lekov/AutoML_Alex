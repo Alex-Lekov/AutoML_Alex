{
 "metadata": {
  "language_info": {
   "codemirror_mode": {
    "name": "ipython",
    "version": 3
   },
   "file_extension": ".py",
   "mimetype": "text/x-python",
   "name": "python",
   "nbconvert_exporter": "python",
   "pygments_lexer": "ipython3",
   "version": "3.8.3-final"
  },
  "orig_nbformat": 2,
  "kernelspec": {
   "name": "python3",
   "display_name": "Python 3.8.3 64-bit ('ds': conda)",
   "metadata": {
    "interpreter": {
     "hash": "124e176087ee05a8dc3d129d52a16721c3ba354791ba1329665a616a40ded651"
    }
   }
  }
 },
 "nbformat": 4,
 "nbformat_minor": 2,
 "cells": [
  {
   "cell_type": "code",
   "execution_count": 1,
   "metadata": {},
   "outputs": [],
   "source": [
    "import sklearn\n",
    "import pandas as pd\n",
    "from sklearn.model_selection import train_test_split\n",
    "from sklearn.datasets import fetch_openml\n",
    "\n",
    "import automl_alex\n",
    "from automl_alex import DataPrepare\n",
    "from automl_alex import CrossValidation"
   ]
  },
  {
   "cell_type": "code",
   "execution_count": 2,
   "metadata": {},
   "outputs": [],
   "source": [
    "RANDOM_SEED = 42"
   ]
  },
  {
   "cell_type": "code",
   "execution_count": 3,
   "metadata": {},
   "outputs": [],
   "source": [
    "import optuna\n",
    "import time"
   ]
  },
  {
   "cell_type": "code",
   "execution_count": 4,
   "metadata": {},
   "outputs": [
    {
     "output_type": "execute_result",
     "data": {
      "text/plain": [
       "((800, 20), (200, 20))"
      ]
     },
     "metadata": {},
     "execution_count": 4
    }
   ],
   "source": [
    "# add dataset whis more num features\n",
    "dataset = fetch_openml(name='credit-g', version=1, as_frame=True)\n",
    "dataset.target = dataset.target.astype('category').cat.codes\n",
    "\n",
    "X_train, X_test, y_train, y_test = train_test_split(dataset.data, dataset.target, test_size=0.2, random_state=RANDOM_SEED,)\n",
    "X_train.shape, X_test.shape"
   ]
  },
  {
   "cell_type": "code",
   "execution_count": 5,
   "metadata": {},
   "outputs": [
    {
     "output_type": "stream",
     "name": "stderr",
     "text": [
      "09:12:55 | Source data shape: (800, 20)\n",
      "09:12:55 | ##################################################\n",
      "09:12:55 | ! START preprocessing Data\n",
      "09:12:55 | - Auto detect cat features: 13\n",
      "09:12:55 | > Binary Features\n",
      "09:12:55 | > Clean Categorical Features\n",
      "09:12:55 | > Transform Categorical Features.\n",
      "09:12:55 |  - Encoder: HelmertEncoder ADD features: 39\n",
      "09:12:55 |  - Encoder: CountEncoder ADD features: 13\n",
      "09:12:55 | > CleanOutliers\n",
      "09:12:55 | Num of outlier detected: 38 in Feature credit_amount\n",
      "09:12:55 | Proportion of outlier detected: 4.8 %\n",
      "09:12:55 | Num of outlier detected: 6 in Feature age\n",
      "09:12:55 | Proportion of outlier detected: 0.8 %\n",
      "09:12:55 | Num of outlier detected: 10 in Feature duration\n",
      "09:12:55 | Proportion of outlier detected: 1.2 %\n",
      "09:12:55 |   No nans features\n",
      "09:12:55 | > Generate interaction Num Features\n",
      "09:12:55 |  ADD features: 45\n",
      "09:12:55 | > Reduce_Memory\n",
      "09:12:55 | Memory usage of dataframe is 0.45 MB\n",
      "09:12:55 | Memory usage after optimization is: 0.33 MB\n",
      "09:12:55 | Decreased by 27.0%\n",
      "09:12:55 | ##################################################\n",
      "09:12:55 | Final data shape: (800, 123)\n",
      "09:12:55 | Total ADD columns: 103\n",
      "09:12:55 | ##################################################\n",
      "09:12:55 | ##################################################\n",
      "09:12:55 | ! Start Transform Data\n",
      "09:12:55 | > Clean Binary Features\n",
      "09:12:55 | > Clean Categorical Features\n",
      "09:12:55 | > Transform Categorical Features.\n",
      "09:12:55 |  - Encoder: HelmertEncoder ADD features: 39\n",
      "09:12:56 |  - Encoder: CountEncoder ADD features: 13\n",
      "09:12:56 | > Generate interaction Num Features\n",
      "09:12:56 |  ADD features: 45\n",
      "09:12:56 | > Reduce_Memory\n",
      "09:12:56 | Memory usage of dataframe is 0.11 MB\n",
      "09:12:56 | Memory usage after optimization is: 0.08 MB\n",
      "09:12:56 | Decreased by 27.0%\n",
      "09:12:56 | ##################################################\n",
      "09:12:56 | Final data shape: (200, 123)\n",
      "09:12:56 | Total ADD columns: 103\n",
      "09:12:56 | ##################################################\n"
     ]
    },
    {
     "output_type": "execute_result",
     "data": {
      "text/plain": [
       "((800, 123), (200, 123))"
      ]
     },
     "metadata": {},
     "execution_count": 5
    }
   ],
   "source": [
    "de = DataPrepare(\n",
    "    normalization=False, # if you use Linar based models -> True (for Tree based models normalization is not needed)\n",
    "    random_state=RANDOM_SEED,\n",
    "    )\n",
    "X_train = de.fit_transform(X_train)\n",
    "X_test = de.transform(X_test)\n",
    "X_train.shape, X_test.shape"
   ]
  },
  {
   "cell_type": "code",
   "execution_count": 6,
   "metadata": {},
   "outputs": [],
   "source": [
    "from automl_alex import LightGBM, LightGBMClassifier\n",
    "\n",
    "# We will use LightGBM for this dataset\n",
    "model = LightGBM(type_of_estimator='classifier', random_state=RANDOM_SEED)\n",
    "\n",
    "# or Simply\n",
    "model = LightGBMClassifier(random_state=RANDOM_SEED)"
   ]
  },
  {
   "cell_type": "code",
   "execution_count": 7,
   "metadata": {},
   "outputs": [],
   "source": [
    "from automl_alex.optimizer import *"
   ]
  },
  {
   "cell_type": "code",
   "execution_count": 8,
   "metadata": {},
   "outputs": [],
   "source": [
    "optimizer = Optimizer(model)"
   ]
  },
  {
   "cell_type": "code",
   "execution_count": 9,
   "metadata": {
    "tags": []
   },
   "outputs": [
    {
     "output_type": "stream",
     "name": "stderr",
     "text": [
      "09:10:51 | One iteration takes ~ 8.8 sec\n",
      "09:10:51 | Not enough time to find the optimal parameters. \n",
      "                     Possible iters < 100. \n",
      "                     Please, Increase the 'timeout' parameter for normal optimization.\n",
      "09:10:51 | > Start optimization with the parameters:\n",
      "09:10:51 | CV_Folds = 5\n",
      "09:10:51 | Score_CV_Folds = 1\n",
      "09:10:51 | Feature_Selection = True\n",
      "09:10:51 | Opt_lvl = 1\n",
      "09:10:51 | Cold_start = 10\n",
      "09:10:51 | Early_stoping = 25\n",
      "09:10:51 | Metric = roc_auc_score\n",
      "09:10:51 | Direction = maximize\n",
      "09:10:51 | ##################################################\n",
      "09:10:51 | > Step 1: calc pruned score => get 10 trials\n"
     ]
    },
    {
     "output_type": "error",
     "ename": "KeyboardInterrupt",
     "evalue": "",
     "traceback": [
      "\u001b[0;31m---------------------------------------------------------------------------\u001b[0m",
      "\u001b[0;31mKeyboardInterrupt\u001b[0m                         Traceback (most recent call last)",
      "\u001b[0;32m<ipython-input-9-c800e97bed43>\u001b[0m in \u001b[0;36m<module>\u001b[0;34m\u001b[0m\n\u001b[0;32m----> 1\u001b[0;31m \u001b[0mmodel\u001b[0m \u001b[0;34m=\u001b[0m \u001b[0moptimizer\u001b[0m\u001b[0;34m.\u001b[0m\u001b[0mopt\u001b[0m\u001b[0;34m(\u001b[0m\u001b[0mX_train\u001b[0m\u001b[0;34m,\u001b[0m \u001b[0my_train\u001b[0m\u001b[0;34m,\u001b[0m \u001b[0mtimeout\u001b[0m\u001b[0;34m=\u001b[0m\u001b[0;36m200\u001b[0m\u001b[0;34m,\u001b[0m \u001b[0mverbose\u001b[0m\u001b[0;34m=\u001b[0m\u001b[0;36m3\u001b[0m\u001b[0;34m)\u001b[0m\u001b[0;34m\u001b[0m\u001b[0;34m\u001b[0m\u001b[0m\n\u001b[0m",
      "\u001b[0;32m~/anaconda3/envs/ds/lib/python3.8/site-packages/loguru/_logger.py\u001b[0m in \u001b[0;36mcatch_wrapper\u001b[0;34m(*args, **kwargs)\u001b[0m\n\u001b[1;32m   1218\u001b[0m                     \u001b[0;32mdef\u001b[0m \u001b[0mcatch_wrapper\u001b[0m\u001b[0;34m(\u001b[0m\u001b[0;34m*\u001b[0m\u001b[0margs\u001b[0m\u001b[0;34m,\u001b[0m \u001b[0;34m**\u001b[0m\u001b[0mkwargs\u001b[0m\u001b[0;34m)\u001b[0m\u001b[0;34m:\u001b[0m\u001b[0;34m\u001b[0m\u001b[0;34m\u001b[0m\u001b[0m\n\u001b[1;32m   1219\u001b[0m                         \u001b[0;32mwith\u001b[0m \u001b[0mcatcher\u001b[0m\u001b[0;34m:\u001b[0m\u001b[0;34m\u001b[0m\u001b[0;34m\u001b[0m\u001b[0m\n\u001b[0;32m-> 1220\u001b[0;31m                             \u001b[0;32mreturn\u001b[0m \u001b[0mfunction\u001b[0m\u001b[0;34m(\u001b[0m\u001b[0;34m*\u001b[0m\u001b[0margs\u001b[0m\u001b[0;34m,\u001b[0m \u001b[0;34m**\u001b[0m\u001b[0mkwargs\u001b[0m\u001b[0;34m)\u001b[0m\u001b[0;34m\u001b[0m\u001b[0;34m\u001b[0m\u001b[0m\n\u001b[0m\u001b[1;32m   1221\u001b[0m                         \u001b[0;32mreturn\u001b[0m \u001b[0mdefault\u001b[0m\u001b[0;34m\u001b[0m\u001b[0;34m\u001b[0m\u001b[0m\n\u001b[1;32m   1222\u001b[0m \u001b[0;34m\u001b[0m\u001b[0m\n",
      "\u001b[0;32m~/Documents/AutoML/AutoML_Alex/automl_alex/optimizer.py\u001b[0m in \u001b[0;36mopt\u001b[0;34m(self, X, y, timeout, verbose)\u001b[0m\n\u001b[1;32m    416\u001b[0m         \u001b[0mlogger\u001b[0m\u001b[0;34m.\u001b[0m\u001b[0minfo\u001b[0m\u001b[0;34m(\u001b[0m\u001b[0;34mf'> Step 1: calc pruned score => get 10 trials'\u001b[0m\u001b[0;34m)\u001b[0m\u001b[0;34m\u001b[0m\u001b[0;34m\u001b[0m\u001b[0m\n\u001b[1;32m    417\u001b[0m \u001b[0;34m\u001b[0m\u001b[0m\n\u001b[0;32m--> 418\u001b[0;31m         self.study.optimize(\n\u001b[0m\u001b[1;32m    419\u001b[0m             \u001b[0;32mlambda\u001b[0m \u001b[0mtrial\u001b[0m\u001b[0;34m:\u001b[0m \u001b[0mobjective\u001b[0m\u001b[0;34m(\u001b[0m\u001b[0mtrial\u001b[0m\u001b[0;34m,\u001b[0m \u001b[0mself\u001b[0m\u001b[0;34m,\u001b[0m \u001b[0;34m**\u001b[0m\u001b[0mobj_config\u001b[0m\u001b[0;34m,\u001b[0m\u001b[0;34m)\u001b[0m\u001b[0;34m,\u001b[0m\u001b[0;34m\u001b[0m\u001b[0;34m\u001b[0m\u001b[0m\n\u001b[1;32m    420\u001b[0m             \u001b[0mn_trials\u001b[0m\u001b[0;34m=\u001b[0m\u001b[0;36m10\u001b[0m\u001b[0;34m,\u001b[0m\u001b[0;34m\u001b[0m\u001b[0;34m\u001b[0m\u001b[0m\n",
      "\u001b[0;32m~/anaconda3/envs/ds/lib/python3.8/site-packages/optuna/study.py\u001b[0m in \u001b[0;36moptimize\u001b[0;34m(self, func, n_trials, timeout, n_jobs, catch, callbacks, gc_after_trial, show_progress_bar)\u001b[0m\n\u001b[1;32m    374\u001b[0m                 \u001b[0mIf\u001b[0m \u001b[0mnested\u001b[0m \u001b[0minvocation\u001b[0m \u001b[0mof\u001b[0m \u001b[0mthis\u001b[0m \u001b[0mmethod\u001b[0m \u001b[0moccurs\u001b[0m\u001b[0;34m.\u001b[0m\u001b[0;34m\u001b[0m\u001b[0;34m\u001b[0m\u001b[0m\n\u001b[1;32m    375\u001b[0m         \"\"\"\n\u001b[0;32m--> 376\u001b[0;31m         _optimize(\n\u001b[0m\u001b[1;32m    377\u001b[0m             \u001b[0mstudy\u001b[0m\u001b[0;34m=\u001b[0m\u001b[0mself\u001b[0m\u001b[0;34m,\u001b[0m\u001b[0;34m\u001b[0m\u001b[0;34m\u001b[0m\u001b[0m\n\u001b[1;32m    378\u001b[0m             \u001b[0mfunc\u001b[0m\u001b[0;34m=\u001b[0m\u001b[0mfunc\u001b[0m\u001b[0;34m,\u001b[0m\u001b[0;34m\u001b[0m\u001b[0;34m\u001b[0m\u001b[0m\n",
      "\u001b[0;32m~/anaconda3/envs/ds/lib/python3.8/site-packages/optuna/_optimize.py\u001b[0m in \u001b[0;36m_optimize\u001b[0;34m(study, func, n_trials, timeout, n_jobs, catch, callbacks, gc_after_trial, show_progress_bar)\u001b[0m\n\u001b[1;32m     61\u001b[0m     \u001b[0;32mtry\u001b[0m\u001b[0;34m:\u001b[0m\u001b[0;34m\u001b[0m\u001b[0;34m\u001b[0m\u001b[0m\n\u001b[1;32m     62\u001b[0m         \u001b[0;32mif\u001b[0m \u001b[0mn_jobs\u001b[0m \u001b[0;34m==\u001b[0m \u001b[0;36m1\u001b[0m\u001b[0;34m:\u001b[0m\u001b[0;34m\u001b[0m\u001b[0;34m\u001b[0m\u001b[0m\n\u001b[0;32m---> 63\u001b[0;31m             _optimize_sequential(\n\u001b[0m\u001b[1;32m     64\u001b[0m                 \u001b[0mstudy\u001b[0m\u001b[0;34m,\u001b[0m\u001b[0;34m\u001b[0m\u001b[0;34m\u001b[0m\u001b[0m\n\u001b[1;32m     65\u001b[0m                 \u001b[0mfunc\u001b[0m\u001b[0;34m,\u001b[0m\u001b[0;34m\u001b[0m\u001b[0;34m\u001b[0m\u001b[0m\n",
      "\u001b[0;32m~/anaconda3/envs/ds/lib/python3.8/site-packages/optuna/_optimize.py\u001b[0m in \u001b[0;36m_optimize_sequential\u001b[0;34m(study, func, n_trials, timeout, catch, callbacks, gc_after_trial, reseed_sampler_rng, time_start, progress_bar)\u001b[0m\n\u001b[1;32m    162\u001b[0m \u001b[0;34m\u001b[0m\u001b[0m\n\u001b[1;32m    163\u001b[0m         \u001b[0;32mtry\u001b[0m\u001b[0;34m:\u001b[0m\u001b[0;34m\u001b[0m\u001b[0;34m\u001b[0m\u001b[0m\n\u001b[0;32m--> 164\u001b[0;31m             \u001b[0mtrial\u001b[0m \u001b[0;34m=\u001b[0m \u001b[0m_run_trial\u001b[0m\u001b[0;34m(\u001b[0m\u001b[0mstudy\u001b[0m\u001b[0;34m,\u001b[0m \u001b[0mfunc\u001b[0m\u001b[0;34m,\u001b[0m \u001b[0mcatch\u001b[0m\u001b[0;34m)\u001b[0m\u001b[0;34m\u001b[0m\u001b[0;34m\u001b[0m\u001b[0m\n\u001b[0m\u001b[1;32m    165\u001b[0m         \u001b[0;32mexcept\u001b[0m \u001b[0mException\u001b[0m\u001b[0;34m:\u001b[0m\u001b[0;34m\u001b[0m\u001b[0;34m\u001b[0m\u001b[0m\n\u001b[1;32m    166\u001b[0m             \u001b[0;32mraise\u001b[0m\u001b[0;34m\u001b[0m\u001b[0;34m\u001b[0m\u001b[0m\n",
      "\u001b[0;32m~/anaconda3/envs/ds/lib/python3.8/site-packages/optuna/_optimize.py\u001b[0m in \u001b[0;36m_run_trial\u001b[0;34m(study, func, catch)\u001b[0m\n\u001b[1;32m    209\u001b[0m \u001b[0;34m\u001b[0m\u001b[0m\n\u001b[1;32m    210\u001b[0m     \u001b[0;32mtry\u001b[0m\u001b[0;34m:\u001b[0m\u001b[0;34m\u001b[0m\u001b[0;34m\u001b[0m\u001b[0m\n\u001b[0;32m--> 211\u001b[0;31m         \u001b[0mvalue_or_values\u001b[0m \u001b[0;34m=\u001b[0m \u001b[0mfunc\u001b[0m\u001b[0;34m(\u001b[0m\u001b[0mtrial\u001b[0m\u001b[0;34m)\u001b[0m\u001b[0;34m\u001b[0m\u001b[0;34m\u001b[0m\u001b[0m\n\u001b[0m\u001b[1;32m    212\u001b[0m     \u001b[0;32mexcept\u001b[0m \u001b[0mexceptions\u001b[0m\u001b[0;34m.\u001b[0m\u001b[0mTrialPruned\u001b[0m \u001b[0;32mas\u001b[0m \u001b[0me\u001b[0m\u001b[0;34m:\u001b[0m\u001b[0;34m\u001b[0m\u001b[0;34m\u001b[0m\u001b[0m\n\u001b[1;32m    213\u001b[0m         \u001b[0;31m# TODO(mamu): Handle multi-objective cases.\u001b[0m\u001b[0;34m\u001b[0m\u001b[0;34m\u001b[0m\u001b[0;34m\u001b[0m\u001b[0m\n",
      "\u001b[0;32m~/Documents/AutoML/AutoML_Alex/automl_alex/optimizer.py\u001b[0m in \u001b[0;36m<lambda>\u001b[0;34m(trial)\u001b[0m\n\u001b[1;32m    417\u001b[0m \u001b[0;34m\u001b[0m\u001b[0m\n\u001b[1;32m    418\u001b[0m         self.study.optimize(\n\u001b[0;32m--> 419\u001b[0;31m             \u001b[0;32mlambda\u001b[0m \u001b[0mtrial\u001b[0m\u001b[0;34m:\u001b[0m \u001b[0mobjective\u001b[0m\u001b[0;34m(\u001b[0m\u001b[0mtrial\u001b[0m\u001b[0;34m,\u001b[0m \u001b[0mself\u001b[0m\u001b[0;34m,\u001b[0m \u001b[0;34m**\u001b[0m\u001b[0mobj_config\u001b[0m\u001b[0;34m,\u001b[0m\u001b[0;34m)\u001b[0m\u001b[0;34m,\u001b[0m\u001b[0;34m\u001b[0m\u001b[0;34m\u001b[0m\u001b[0m\n\u001b[0m\u001b[1;32m    420\u001b[0m             \u001b[0mn_trials\u001b[0m\u001b[0;34m=\u001b[0m\u001b[0;36m10\u001b[0m\u001b[0;34m,\u001b[0m\u001b[0;34m\u001b[0m\u001b[0;34m\u001b[0m\u001b[0m\n\u001b[1;32m    421\u001b[0m             \u001b[0mshow_progress_bar\u001b[0m\u001b[0;34m=\u001b[0m\u001b[0;32mFalse\u001b[0m\u001b[0;34m\u001b[0m\u001b[0;34m\u001b[0m\u001b[0m\n",
      "\u001b[0;32m~/Documents/AutoML/AutoML_Alex/automl_alex/optimizer.py\u001b[0m in \u001b[0;36mobjective\u001b[0;34m(trial, opt, model, X, y, step, return_model, verbose)\u001b[0m\n\u001b[1;32m    350\u001b[0m             \u001b[0mmodel\u001b[0m\u001b[0;34m.\u001b[0m\u001b[0mselect_columns\u001b[0m \u001b[0;34m=\u001b[0m \u001b[0mX\u001b[0m\u001b[0;34m.\u001b[0m\u001b[0mcolumns\u001b[0m\u001b[0;34m\u001b[0m\u001b[0;34m\u001b[0m\u001b[0m\n\u001b[1;32m    351\u001b[0m             \u001b[0;32mif\u001b[0m \u001b[0mopt\u001b[0m\u001b[0;34m.\u001b[0m\u001b[0mfeature_selection\u001b[0m\u001b[0;34m:\u001b[0m\u001b[0;34m\u001b[0m\u001b[0;34m\u001b[0m\u001b[0m\n\u001b[0;32m--> 352\u001b[0;31m                 \u001b[0mmodel\u001b[0m\u001b[0;34m.\u001b[0m\u001b[0mselect_columns\u001b[0m \u001b[0;34m=\u001b[0m \u001b[0mopt\u001b[0m\u001b[0;34m.\u001b[0m\u001b[0m_opt_feature_selector\u001b[0m\u001b[0;34m(\u001b[0m\u001b[0mX\u001b[0m\u001b[0;34m.\u001b[0m\u001b[0mcolumns\u001b[0m\u001b[0;34m,\u001b[0m \u001b[0mtrial\u001b[0m\u001b[0;34m=\u001b[0m\u001b[0mtrial\u001b[0m\u001b[0;34m)\u001b[0m\u001b[0;34m\u001b[0m\u001b[0;34m\u001b[0m\u001b[0m\n\u001b[0m\u001b[1;32m    353\u001b[0m \u001b[0;34m\u001b[0m\u001b[0m\n\u001b[1;32m    354\u001b[0m             cv = CrossValidation(\n",
      "\u001b[0;32m~/Documents/AutoML/AutoML_Alex/automl_alex/optimizer.py\u001b[0m in \u001b[0;36m_opt_feature_selector\u001b[0;34m(self, columns, trial)\u001b[0m\n\u001b[1;32m    253\u001b[0m         \u001b[0mselect_columns\u001b[0m \u001b[0;34m=\u001b[0m \u001b[0;34m{\u001b[0m\u001b[0;34m}\u001b[0m\u001b[0;34m\u001b[0m\u001b[0;34m\u001b[0m\u001b[0m\n\u001b[1;32m    254\u001b[0m         \u001b[0;32mfor\u001b[0m \u001b[0mcolum\u001b[0m \u001b[0;32min\u001b[0m \u001b[0mcolumns\u001b[0m\u001b[0;34m:\u001b[0m\u001b[0;34m\u001b[0m\u001b[0;34m\u001b[0m\u001b[0m\n\u001b[0;32m--> 255\u001b[0;31m             \u001b[0mselect_columns\u001b[0m\u001b[0;34m[\u001b[0m\u001b[0mcolum\u001b[0m\u001b[0;34m]\u001b[0m \u001b[0;34m=\u001b[0m \u001b[0mtrial\u001b[0m\u001b[0;34m.\u001b[0m\u001b[0msuggest_categorical\u001b[0m\u001b[0;34m(\u001b[0m\u001b[0mcolum\u001b[0m\u001b[0;34m,\u001b[0m \u001b[0;34m[\u001b[0m\u001b[0;32mTrue\u001b[0m\u001b[0;34m,\u001b[0m \u001b[0;32mFalse\u001b[0m\u001b[0;34m]\u001b[0m\u001b[0;34m)\u001b[0m\u001b[0;34m\u001b[0m\u001b[0;34m\u001b[0m\u001b[0m\n\u001b[0m\u001b[1;32m    256\u001b[0m         \u001b[0mselect_columns_\u001b[0m \u001b[0;34m=\u001b[0m \u001b[0;34m{\u001b[0m\u001b[0mk\u001b[0m\u001b[0;34m:\u001b[0m \u001b[0mv\u001b[0m \u001b[0;32mfor\u001b[0m \u001b[0mk\u001b[0m\u001b[0;34m,\u001b[0m \u001b[0mv\u001b[0m \u001b[0;32min\u001b[0m \u001b[0mselect_columns\u001b[0m\u001b[0;34m.\u001b[0m\u001b[0mitems\u001b[0m\u001b[0;34m(\u001b[0m\u001b[0;34m)\u001b[0m \u001b[0;32mif\u001b[0m \u001b[0mv\u001b[0m \u001b[0;32mis\u001b[0m \u001b[0;32mTrue\u001b[0m\u001b[0;34m}\u001b[0m\u001b[0;34m\u001b[0m\u001b[0;34m\u001b[0m\u001b[0m\n\u001b[1;32m    257\u001b[0m \u001b[0;34m\u001b[0m\u001b[0m\n",
      "\u001b[0;32m~/anaconda3/envs/ds/lib/python3.8/site-packages/optuna/trial/_trial.py\u001b[0m in \u001b[0;36msuggest_categorical\u001b[0;34m(self, name, choices)\u001b[0m\n\u001b[1;32m    503\u001b[0m         \u001b[0;31m# CategoricalDistribution does not support dynamic value space.\u001b[0m\u001b[0;34m\u001b[0m\u001b[0;34m\u001b[0m\u001b[0;34m\u001b[0m\u001b[0m\n\u001b[1;32m    504\u001b[0m \u001b[0;34m\u001b[0m\u001b[0m\n\u001b[0;32m--> 505\u001b[0;31m         \u001b[0;32mreturn\u001b[0m \u001b[0mself\u001b[0m\u001b[0;34m.\u001b[0m\u001b[0m_suggest\u001b[0m\u001b[0;34m(\u001b[0m\u001b[0mname\u001b[0m\u001b[0;34m,\u001b[0m \u001b[0mCategoricalDistribution\u001b[0m\u001b[0;34m(\u001b[0m\u001b[0mchoices\u001b[0m\u001b[0;34m=\u001b[0m\u001b[0mchoices\u001b[0m\u001b[0;34m)\u001b[0m\u001b[0;34m)\u001b[0m\u001b[0;34m\u001b[0m\u001b[0;34m\u001b[0m\u001b[0m\n\u001b[0m\u001b[1;32m    506\u001b[0m \u001b[0;34m\u001b[0m\u001b[0m\n\u001b[1;32m    507\u001b[0m     \u001b[0;32mdef\u001b[0m \u001b[0mreport\u001b[0m\u001b[0;34m(\u001b[0m\u001b[0mself\u001b[0m\u001b[0;34m,\u001b[0m \u001b[0mvalue\u001b[0m\u001b[0;34m:\u001b[0m \u001b[0mfloat\u001b[0m\u001b[0;34m,\u001b[0m \u001b[0mstep\u001b[0m\u001b[0;34m:\u001b[0m \u001b[0mint\u001b[0m\u001b[0;34m)\u001b[0m \u001b[0;34m->\u001b[0m \u001b[0;32mNone\u001b[0m\u001b[0;34m:\u001b[0m\u001b[0;34m\u001b[0m\u001b[0;34m\u001b[0m\u001b[0m\n",
      "\u001b[0;32m~/anaconda3/envs/ds/lib/python3.8/site-packages/optuna/trial/_trial.py\u001b[0m in \u001b[0;36m_suggest\u001b[0;34m(self, name, distribution)\u001b[0m\n\u001b[1;32m    714\u001b[0m             \u001b[0;32melse\u001b[0m\u001b[0;34m:\u001b[0m\u001b[0;34m\u001b[0m\u001b[0;34m\u001b[0m\u001b[0m\n\u001b[1;32m    715\u001b[0m                 \u001b[0mstudy\u001b[0m \u001b[0;34m=\u001b[0m \u001b[0mpruners\u001b[0m\u001b[0;34m.\u001b[0m\u001b[0m_filter_study\u001b[0m\u001b[0;34m(\u001b[0m\u001b[0mself\u001b[0m\u001b[0;34m.\u001b[0m\u001b[0mstudy\u001b[0m\u001b[0;34m,\u001b[0m \u001b[0mtrial\u001b[0m\u001b[0;34m)\u001b[0m\u001b[0;34m\u001b[0m\u001b[0;34m\u001b[0m\u001b[0m\n\u001b[0;32m--> 716\u001b[0;31m                 param_value = self.study.sampler.sample_independent(\n\u001b[0m\u001b[1;32m    717\u001b[0m                     \u001b[0mstudy\u001b[0m\u001b[0;34m,\u001b[0m \u001b[0mtrial\u001b[0m\u001b[0;34m,\u001b[0m \u001b[0mname\u001b[0m\u001b[0;34m,\u001b[0m \u001b[0mdistribution\u001b[0m\u001b[0;34m\u001b[0m\u001b[0;34m\u001b[0m\u001b[0m\n\u001b[1;32m    718\u001b[0m                 )\n",
      "\u001b[0;32m~/anaconda3/envs/ds/lib/python3.8/site-packages/optuna/samplers/_tpe/sampler.py\u001b[0m in \u001b[0;36msample_independent\u001b[0;34m(self, study, trial, param_name, param_distribution)\u001b[0m\n\u001b[1;32m    274\u001b[0m         \u001b[0mself\u001b[0m\u001b[0;34m.\u001b[0m\u001b[0m_raise_error_if_multi_objective\u001b[0m\u001b[0;34m(\u001b[0m\u001b[0mstudy\u001b[0m\u001b[0;34m)\u001b[0m\u001b[0;34m\u001b[0m\u001b[0;34m\u001b[0m\u001b[0m\n\u001b[1;32m    275\u001b[0m \u001b[0;34m\u001b[0m\u001b[0m\n\u001b[0;32m--> 276\u001b[0;31m         \u001b[0mvalues\u001b[0m\u001b[0;34m,\u001b[0m \u001b[0mscores\u001b[0m \u001b[0;34m=\u001b[0m \u001b[0m_get_observation_pairs\u001b[0m\u001b[0;34m(\u001b[0m\u001b[0mstudy\u001b[0m\u001b[0;34m,\u001b[0m \u001b[0mparam_name\u001b[0m\u001b[0;34m)\u001b[0m\u001b[0;34m\u001b[0m\u001b[0;34m\u001b[0m\u001b[0m\n\u001b[0m\u001b[1;32m    277\u001b[0m \u001b[0;34m\u001b[0m\u001b[0m\n\u001b[1;32m    278\u001b[0m         \u001b[0mn\u001b[0m \u001b[0;34m=\u001b[0m \u001b[0mlen\u001b[0m\u001b[0;34m(\u001b[0m\u001b[0mvalues\u001b[0m\u001b[0;34m)\u001b[0m\u001b[0;34m\u001b[0m\u001b[0;34m\u001b[0m\u001b[0m\n",
      "\u001b[0;32m~/anaconda3/envs/ds/lib/python3.8/site-packages/optuna/samplers/_tpe/sampler.py\u001b[0m in \u001b[0;36m_get_observation_pairs\u001b[0;34m(study, param_name)\u001b[0m\n\u001b[1;32m    768\u001b[0m     \u001b[0mvalues\u001b[0m \u001b[0;34m=\u001b[0m \u001b[0;34m[\u001b[0m\u001b[0;34m]\u001b[0m\u001b[0;34m\u001b[0m\u001b[0;34m\u001b[0m\u001b[0m\n\u001b[1;32m    769\u001b[0m     \u001b[0mscores\u001b[0m \u001b[0;34m=\u001b[0m \u001b[0;34m[\u001b[0m\u001b[0;34m]\u001b[0m\u001b[0;34m\u001b[0m\u001b[0;34m\u001b[0m\u001b[0m\n\u001b[0;32m--> 770\u001b[0;31m     \u001b[0;32mfor\u001b[0m \u001b[0mtrial\u001b[0m \u001b[0;32min\u001b[0m \u001b[0mstudy\u001b[0m\u001b[0;34m.\u001b[0m\u001b[0mget_trials\u001b[0m\u001b[0;34m(\u001b[0m\u001b[0mdeepcopy\u001b[0m\u001b[0;34m=\u001b[0m\u001b[0;32mFalse\u001b[0m\u001b[0;34m,\u001b[0m \u001b[0mstates\u001b[0m\u001b[0;34m=\u001b[0m\u001b[0;34m(\u001b[0m\u001b[0mTrialState\u001b[0m\u001b[0;34m.\u001b[0m\u001b[0mCOMPLETE\u001b[0m\u001b[0;34m,\u001b[0m \u001b[0mTrialState\u001b[0m\u001b[0;34m.\u001b[0m\u001b[0mPRUNED\u001b[0m\u001b[0;34m)\u001b[0m\u001b[0;34m)\u001b[0m\u001b[0;34m:\u001b[0m\u001b[0;34m\u001b[0m\u001b[0;34m\u001b[0m\u001b[0m\n\u001b[0m\u001b[1;32m    771\u001b[0m         \u001b[0;32mif\u001b[0m \u001b[0mtrial\u001b[0m\u001b[0;34m.\u001b[0m\u001b[0mstate\u001b[0m \u001b[0;32mis\u001b[0m \u001b[0mTrialState\u001b[0m\u001b[0;34m.\u001b[0m\u001b[0mCOMPLETE\u001b[0m\u001b[0;34m:\u001b[0m\u001b[0;34m\u001b[0m\u001b[0;34m\u001b[0m\u001b[0m\n\u001b[1;32m    772\u001b[0m             \u001b[0;32mif\u001b[0m \u001b[0mtrial\u001b[0m\u001b[0;34m.\u001b[0m\u001b[0mvalue\u001b[0m \u001b[0;32mis\u001b[0m \u001b[0;32mNone\u001b[0m\u001b[0;34m:\u001b[0m\u001b[0;34m\u001b[0m\u001b[0;34m\u001b[0m\u001b[0m\n",
      "\u001b[0;32m~/anaconda3/envs/ds/lib/python3.8/site-packages/optuna/study.py\u001b[0m in \u001b[0;36mget_trials\u001b[0;34m(self, deepcopy, states)\u001b[0m\n\u001b[1;32m    201\u001b[0m         \"\"\"\n\u001b[1;32m    202\u001b[0m \u001b[0;34m\u001b[0m\u001b[0m\n\u001b[0;32m--> 203\u001b[0;31m         \u001b[0mself\u001b[0m\u001b[0;34m.\u001b[0m\u001b[0m_storage\u001b[0m\u001b[0;34m.\u001b[0m\u001b[0mread_trials_from_remote_storage\u001b[0m\u001b[0;34m(\u001b[0m\u001b[0mself\u001b[0m\u001b[0;34m.\u001b[0m\u001b[0m_study_id\u001b[0m\u001b[0;34m)\u001b[0m\u001b[0;34m\u001b[0m\u001b[0;34m\u001b[0m\u001b[0m\n\u001b[0m\u001b[1;32m    204\u001b[0m         \u001b[0;32mreturn\u001b[0m \u001b[0mself\u001b[0m\u001b[0;34m.\u001b[0m\u001b[0m_storage\u001b[0m\u001b[0;34m.\u001b[0m\u001b[0mget_all_trials\u001b[0m\u001b[0;34m(\u001b[0m\u001b[0mself\u001b[0m\u001b[0;34m.\u001b[0m\u001b[0m_study_id\u001b[0m\u001b[0;34m,\u001b[0m \u001b[0mdeepcopy\u001b[0m\u001b[0;34m=\u001b[0m\u001b[0mdeepcopy\u001b[0m\u001b[0;34m,\u001b[0m \u001b[0mstates\u001b[0m\u001b[0;34m=\u001b[0m\u001b[0mstates\u001b[0m\u001b[0;34m)\u001b[0m\u001b[0;34m\u001b[0m\u001b[0;34m\u001b[0m\u001b[0m\n\u001b[1;32m    205\u001b[0m \u001b[0;34m\u001b[0m\u001b[0m\n",
      "\u001b[0;32m~/anaconda3/envs/ds/lib/python3.8/site-packages/optuna/storages/_cached_storage.py\u001b[0m in \u001b[0;36mread_trials_from_remote_storage\u001b[0;34m(self, study_id)\u001b[0m\n\u001b[1;32m    396\u001b[0m                 \u001b[0mself\u001b[0m\u001b[0;34m.\u001b[0m\u001b[0m_studies\u001b[0m\u001b[0;34m[\u001b[0m\u001b[0mstudy_id\u001b[0m\u001b[0;34m]\u001b[0m \u001b[0;34m=\u001b[0m \u001b[0m_StudyInfo\u001b[0m\u001b[0;34m(\u001b[0m\u001b[0;34m)\u001b[0m\u001b[0;34m\u001b[0m\u001b[0;34m\u001b[0m\u001b[0m\n\u001b[1;32m    397\u001b[0m             \u001b[0mstudy\u001b[0m \u001b[0;34m=\u001b[0m \u001b[0mself\u001b[0m\u001b[0;34m.\u001b[0m\u001b[0m_studies\u001b[0m\u001b[0;34m[\u001b[0m\u001b[0mstudy_id\u001b[0m\u001b[0;34m]\u001b[0m\u001b[0;34m\u001b[0m\u001b[0;34m\u001b[0m\u001b[0m\n\u001b[0;32m--> 398\u001b[0;31m             trials = self._backend._get_trials(\n\u001b[0m\u001b[1;32m    399\u001b[0m                 \u001b[0mstudy_id\u001b[0m\u001b[0;34m,\u001b[0m \u001b[0mstates\u001b[0m\u001b[0;34m=\u001b[0m\u001b[0;32mNone\u001b[0m\u001b[0;34m,\u001b[0m \u001b[0mexcluded_trial_ids\u001b[0m\u001b[0;34m=\u001b[0m\u001b[0mstudy\u001b[0m\u001b[0;34m.\u001b[0m\u001b[0mowned_or_finished_trial_ids\u001b[0m\u001b[0;34m\u001b[0m\u001b[0;34m\u001b[0m\u001b[0m\n\u001b[1;32m    400\u001b[0m             )\n",
      "\u001b[0;32m~/anaconda3/envs/ds/lib/python3.8/site-packages/optuna/storages/_rdb/storage.py\u001b[0m in \u001b[0;36m_get_trials\u001b[0;34m(self, study_id, states, excluded_trial_ids)\u001b[0m\n\u001b[1;32m    982\u001b[0m         \u001b[0;32mwith\u001b[0m \u001b[0m_create_scoped_session\u001b[0m\u001b[0;34m(\u001b[0m\u001b[0mself\u001b[0m\u001b[0;34m.\u001b[0m\u001b[0mscoped_session\u001b[0m\u001b[0;34m)\u001b[0m \u001b[0;32mas\u001b[0m \u001b[0msession\u001b[0m\u001b[0;34m:\u001b[0m\u001b[0;34m\u001b[0m\u001b[0;34m\u001b[0m\u001b[0m\n\u001b[1;32m    983\u001b[0m             \u001b[0;31m# Ensure that the study exists.\u001b[0m\u001b[0;34m\u001b[0m\u001b[0;34m\u001b[0m\u001b[0;34m\u001b[0m\u001b[0m\n\u001b[0;32m--> 984\u001b[0;31m             \u001b[0mmodels\u001b[0m\u001b[0;34m.\u001b[0m\u001b[0mStudyModel\u001b[0m\u001b[0;34m.\u001b[0m\u001b[0mfind_or_raise_by_id\u001b[0m\u001b[0;34m(\u001b[0m\u001b[0mstudy_id\u001b[0m\u001b[0;34m,\u001b[0m \u001b[0msession\u001b[0m\u001b[0;34m)\u001b[0m\u001b[0;34m\u001b[0m\u001b[0;34m\u001b[0m\u001b[0m\n\u001b[0m\u001b[1;32m    985\u001b[0m             query = session.query(models.TrialModel.trial_id).filter(\n\u001b[1;32m    986\u001b[0m                 \u001b[0mmodels\u001b[0m\u001b[0;34m.\u001b[0m\u001b[0mTrialModel\u001b[0m\u001b[0;34m.\u001b[0m\u001b[0mstudy_id\u001b[0m \u001b[0;34m==\u001b[0m \u001b[0mstudy_id\u001b[0m\u001b[0;34m\u001b[0m\u001b[0;34m\u001b[0m\u001b[0m\n",
      "\u001b[0;32m~/anaconda3/envs/ds/lib/python3.8/site-packages/optuna/storages/_rdb/models.py\u001b[0m in \u001b[0;36mfind_or_raise_by_id\u001b[0;34m(cls, study_id, session, for_update)\u001b[0m\n\u001b[1;32m     52\u001b[0m             \u001b[0mquery\u001b[0m \u001b[0;34m=\u001b[0m \u001b[0mquery\u001b[0m\u001b[0;34m.\u001b[0m\u001b[0mwith_for_update\u001b[0m\u001b[0;34m(\u001b[0m\u001b[0;34m)\u001b[0m\u001b[0;34m\u001b[0m\u001b[0;34m\u001b[0m\u001b[0m\n\u001b[1;32m     53\u001b[0m \u001b[0;34m\u001b[0m\u001b[0m\n\u001b[0;32m---> 54\u001b[0;31m         \u001b[0mstudy\u001b[0m \u001b[0;34m=\u001b[0m \u001b[0mquery\u001b[0m\u001b[0;34m.\u001b[0m\u001b[0mone_or_none\u001b[0m\u001b[0;34m(\u001b[0m\u001b[0;34m)\u001b[0m\u001b[0;34m\u001b[0m\u001b[0;34m\u001b[0m\u001b[0m\n\u001b[0m\u001b[1;32m     55\u001b[0m         \u001b[0;32mif\u001b[0m \u001b[0mstudy\u001b[0m \u001b[0;32mis\u001b[0m \u001b[0;32mNone\u001b[0m\u001b[0;34m:\u001b[0m\u001b[0;34m\u001b[0m\u001b[0;34m\u001b[0m\u001b[0m\n\u001b[1;32m     56\u001b[0m             \u001b[0;32mraise\u001b[0m \u001b[0mKeyError\u001b[0m\u001b[0;34m(\u001b[0m\u001b[0mNOT_FOUND_MSG\u001b[0m\u001b[0;34m)\u001b[0m\u001b[0;34m\u001b[0m\u001b[0;34m\u001b[0m\u001b[0m\n",
      "\u001b[0;32m~/anaconda3/envs/ds/lib/python3.8/site-packages/sqlalchemy/orm/query.py\u001b[0m in \u001b[0;36mone_or_none\u001b[0;34m(self)\u001b[0m\n\u001b[1;32m   3403\u001b[0m \u001b[0;34m\u001b[0m\u001b[0m\n\u001b[1;32m   3404\u001b[0m         \"\"\"\n\u001b[0;32m-> 3405\u001b[0;31m         \u001b[0mret\u001b[0m \u001b[0;34m=\u001b[0m \u001b[0mlist\u001b[0m\u001b[0;34m(\u001b[0m\u001b[0mself\u001b[0m\u001b[0;34m)\u001b[0m\u001b[0;34m\u001b[0m\u001b[0;34m\u001b[0m\u001b[0m\n\u001b[0m\u001b[1;32m   3406\u001b[0m \u001b[0;34m\u001b[0m\u001b[0m\n\u001b[1;32m   3407\u001b[0m         \u001b[0ml\u001b[0m \u001b[0;34m=\u001b[0m \u001b[0mlen\u001b[0m\u001b[0;34m(\u001b[0m\u001b[0mret\u001b[0m\u001b[0;34m)\u001b[0m\u001b[0;34m\u001b[0m\u001b[0;34m\u001b[0m\u001b[0m\n",
      "\u001b[0;32m~/anaconda3/envs/ds/lib/python3.8/site-packages/sqlalchemy/orm/query.py\u001b[0m in \u001b[0;36m__iter__\u001b[0;34m(self)\u001b[0m\n\u001b[1;32m   3479\u001b[0m         \u001b[0;32mif\u001b[0m \u001b[0mself\u001b[0m\u001b[0;34m.\u001b[0m\u001b[0m_autoflush\u001b[0m \u001b[0;32mand\u001b[0m \u001b[0;32mnot\u001b[0m \u001b[0mself\u001b[0m\u001b[0;34m.\u001b[0m\u001b[0m_populate_existing\u001b[0m\u001b[0;34m:\u001b[0m\u001b[0;34m\u001b[0m\u001b[0;34m\u001b[0m\u001b[0m\n\u001b[1;32m   3480\u001b[0m             \u001b[0mself\u001b[0m\u001b[0;34m.\u001b[0m\u001b[0msession\u001b[0m\u001b[0;34m.\u001b[0m\u001b[0m_autoflush\u001b[0m\u001b[0;34m(\u001b[0m\u001b[0;34m)\u001b[0m\u001b[0;34m\u001b[0m\u001b[0;34m\u001b[0m\u001b[0m\n\u001b[0;32m-> 3481\u001b[0;31m         \u001b[0;32mreturn\u001b[0m \u001b[0mself\u001b[0m\u001b[0;34m.\u001b[0m\u001b[0m_execute_and_instances\u001b[0m\u001b[0;34m(\u001b[0m\u001b[0mcontext\u001b[0m\u001b[0;34m)\u001b[0m\u001b[0;34m\u001b[0m\u001b[0;34m\u001b[0m\u001b[0m\n\u001b[0m\u001b[1;32m   3482\u001b[0m \u001b[0;34m\u001b[0m\u001b[0m\n\u001b[1;32m   3483\u001b[0m     \u001b[0;32mdef\u001b[0m \u001b[0m__str__\u001b[0m\u001b[0;34m(\u001b[0m\u001b[0mself\u001b[0m\u001b[0;34m)\u001b[0m\u001b[0;34m:\u001b[0m\u001b[0;34m\u001b[0m\u001b[0;34m\u001b[0m\u001b[0m\n",
      "\u001b[0;32m~/anaconda3/envs/ds/lib/python3.8/site-packages/sqlalchemy/orm/query.py\u001b[0m in \u001b[0;36m_execute_and_instances\u001b[0;34m(self, querycontext)\u001b[0m\n\u001b[1;32m   3504\u001b[0m         )\n\u001b[1;32m   3505\u001b[0m \u001b[0;34m\u001b[0m\u001b[0m\n\u001b[0;32m-> 3506\u001b[0;31m         \u001b[0mresult\u001b[0m \u001b[0;34m=\u001b[0m \u001b[0mconn\u001b[0m\u001b[0;34m.\u001b[0m\u001b[0mexecute\u001b[0m\u001b[0;34m(\u001b[0m\u001b[0mquerycontext\u001b[0m\u001b[0;34m.\u001b[0m\u001b[0mstatement\u001b[0m\u001b[0;34m,\u001b[0m \u001b[0mself\u001b[0m\u001b[0;34m.\u001b[0m\u001b[0m_params\u001b[0m\u001b[0;34m)\u001b[0m\u001b[0;34m\u001b[0m\u001b[0;34m\u001b[0m\u001b[0m\n\u001b[0m\u001b[1;32m   3507\u001b[0m         \u001b[0;32mreturn\u001b[0m \u001b[0mloading\u001b[0m\u001b[0;34m.\u001b[0m\u001b[0minstances\u001b[0m\u001b[0;34m(\u001b[0m\u001b[0mquerycontext\u001b[0m\u001b[0;34m.\u001b[0m\u001b[0mquery\u001b[0m\u001b[0;34m,\u001b[0m \u001b[0mresult\u001b[0m\u001b[0;34m,\u001b[0m \u001b[0mquerycontext\u001b[0m\u001b[0;34m)\u001b[0m\u001b[0;34m\u001b[0m\u001b[0;34m\u001b[0m\u001b[0m\n\u001b[1;32m   3508\u001b[0m \u001b[0;34m\u001b[0m\u001b[0m\n",
      "\u001b[0;32m~/anaconda3/envs/ds/lib/python3.8/site-packages/sqlalchemy/engine/base.py\u001b[0m in \u001b[0;36mexecute\u001b[0;34m(self, object_, *multiparams, **params)\u001b[0m\n\u001b[1;32m   1018\u001b[0m             )\n\u001b[1;32m   1019\u001b[0m         \u001b[0;32melse\u001b[0m\u001b[0;34m:\u001b[0m\u001b[0;34m\u001b[0m\u001b[0;34m\u001b[0m\u001b[0m\n\u001b[0;32m-> 1020\u001b[0;31m             \u001b[0;32mreturn\u001b[0m \u001b[0mmeth\u001b[0m\u001b[0;34m(\u001b[0m\u001b[0mself\u001b[0m\u001b[0;34m,\u001b[0m \u001b[0mmultiparams\u001b[0m\u001b[0;34m,\u001b[0m \u001b[0mparams\u001b[0m\u001b[0;34m)\u001b[0m\u001b[0;34m\u001b[0m\u001b[0;34m\u001b[0m\u001b[0m\n\u001b[0m\u001b[1;32m   1021\u001b[0m \u001b[0;34m\u001b[0m\u001b[0m\n\u001b[1;32m   1022\u001b[0m     \u001b[0;32mdef\u001b[0m \u001b[0m_execute_function\u001b[0m\u001b[0;34m(\u001b[0m\u001b[0mself\u001b[0m\u001b[0;34m,\u001b[0m \u001b[0mfunc\u001b[0m\u001b[0;34m,\u001b[0m \u001b[0mmultiparams\u001b[0m\u001b[0;34m,\u001b[0m \u001b[0mparams\u001b[0m\u001b[0;34m)\u001b[0m\u001b[0;34m:\u001b[0m\u001b[0;34m\u001b[0m\u001b[0;34m\u001b[0m\u001b[0m\n",
      "\u001b[0;32m~/anaconda3/envs/ds/lib/python3.8/site-packages/sqlalchemy/sql/elements.py\u001b[0m in \u001b[0;36m_execute_on_connection\u001b[0;34m(self, connection, multiparams, params)\u001b[0m\n\u001b[1;32m    296\u001b[0m     \u001b[0;32mdef\u001b[0m \u001b[0m_execute_on_connection\u001b[0m\u001b[0;34m(\u001b[0m\u001b[0mself\u001b[0m\u001b[0;34m,\u001b[0m \u001b[0mconnection\u001b[0m\u001b[0;34m,\u001b[0m \u001b[0mmultiparams\u001b[0m\u001b[0;34m,\u001b[0m \u001b[0mparams\u001b[0m\u001b[0;34m)\u001b[0m\u001b[0;34m:\u001b[0m\u001b[0;34m\u001b[0m\u001b[0;34m\u001b[0m\u001b[0m\n\u001b[1;32m    297\u001b[0m         \u001b[0;32mif\u001b[0m \u001b[0mself\u001b[0m\u001b[0;34m.\u001b[0m\u001b[0msupports_execution\u001b[0m\u001b[0;34m:\u001b[0m\u001b[0;34m\u001b[0m\u001b[0;34m\u001b[0m\u001b[0m\n\u001b[0;32m--> 298\u001b[0;31m             \u001b[0;32mreturn\u001b[0m \u001b[0mconnection\u001b[0m\u001b[0;34m.\u001b[0m\u001b[0m_execute_clauseelement\u001b[0m\u001b[0;34m(\u001b[0m\u001b[0mself\u001b[0m\u001b[0;34m,\u001b[0m \u001b[0mmultiparams\u001b[0m\u001b[0;34m,\u001b[0m \u001b[0mparams\u001b[0m\u001b[0;34m)\u001b[0m\u001b[0;34m\u001b[0m\u001b[0;34m\u001b[0m\u001b[0m\n\u001b[0m\u001b[1;32m    299\u001b[0m         \u001b[0;32melse\u001b[0m\u001b[0;34m:\u001b[0m\u001b[0;34m\u001b[0m\u001b[0;34m\u001b[0m\u001b[0m\n\u001b[1;32m    300\u001b[0m             \u001b[0;32mraise\u001b[0m \u001b[0mexc\u001b[0m\u001b[0;34m.\u001b[0m\u001b[0mObjectNotExecutableError\u001b[0m\u001b[0;34m(\u001b[0m\u001b[0mself\u001b[0m\u001b[0;34m)\u001b[0m\u001b[0;34m\u001b[0m\u001b[0;34m\u001b[0m\u001b[0m\n",
      "\u001b[0;32m~/anaconda3/envs/ds/lib/python3.8/site-packages/sqlalchemy/engine/base.py\u001b[0m in \u001b[0;36m_execute_clauseelement\u001b[0;34m(self, elem, multiparams, params)\u001b[0m\n\u001b[1;32m   1131\u001b[0m             )\n\u001b[1;32m   1132\u001b[0m \u001b[0;34m\u001b[0m\u001b[0m\n\u001b[0;32m-> 1133\u001b[0;31m         ret = self._execute_context(\n\u001b[0m\u001b[1;32m   1134\u001b[0m             \u001b[0mdialect\u001b[0m\u001b[0;34m,\u001b[0m\u001b[0;34m\u001b[0m\u001b[0;34m\u001b[0m\u001b[0m\n\u001b[1;32m   1135\u001b[0m             \u001b[0mdialect\u001b[0m\u001b[0;34m.\u001b[0m\u001b[0mexecution_ctx_cls\u001b[0m\u001b[0;34m.\u001b[0m\u001b[0m_init_compiled\u001b[0m\u001b[0;34m,\u001b[0m\u001b[0;34m\u001b[0m\u001b[0;34m\u001b[0m\u001b[0m\n",
      "\u001b[0;32m~/anaconda3/envs/ds/lib/python3.8/site-packages/sqlalchemy/engine/base.py\u001b[0m in \u001b[0;36m_execute_context\u001b[0;34m(self, dialect, constructor, statement, parameters, *args)\u001b[0m\n\u001b[1;32m   1321\u001b[0m \u001b[0;34m\u001b[0m\u001b[0m\n\u001b[1;32m   1322\u001b[0m         \u001b[0;32mexcept\u001b[0m \u001b[0mBaseException\u001b[0m \u001b[0;32mas\u001b[0m \u001b[0me\u001b[0m\u001b[0;34m:\u001b[0m\u001b[0;34m\u001b[0m\u001b[0;34m\u001b[0m\u001b[0m\n\u001b[0;32m-> 1323\u001b[0;31m             self._handle_dbapi_exception(\n\u001b[0m\u001b[1;32m   1324\u001b[0m                 \u001b[0me\u001b[0m\u001b[0;34m,\u001b[0m \u001b[0mstatement\u001b[0m\u001b[0;34m,\u001b[0m \u001b[0mparameters\u001b[0m\u001b[0;34m,\u001b[0m \u001b[0mcursor\u001b[0m\u001b[0;34m,\u001b[0m \u001b[0mcontext\u001b[0m\u001b[0;34m\u001b[0m\u001b[0;34m\u001b[0m\u001b[0m\n\u001b[1;32m   1325\u001b[0m             )\n",
      "\u001b[0;32m~/anaconda3/envs/ds/lib/python3.8/site-packages/sqlalchemy/engine/base.py\u001b[0m in \u001b[0;36m_handle_dbapi_exception\u001b[0;34m(self, e, statement, parameters, cursor, context)\u001b[0m\n\u001b[1;32m   1519\u001b[0m                 )\n\u001b[1;32m   1520\u001b[0m             \u001b[0;32melse\u001b[0m\u001b[0;34m:\u001b[0m\u001b[0;34m\u001b[0m\u001b[0;34m\u001b[0m\u001b[0m\n\u001b[0;32m-> 1521\u001b[0;31m                 \u001b[0mutil\u001b[0m\u001b[0;34m.\u001b[0m\u001b[0mraise_\u001b[0m\u001b[0;34m(\u001b[0m\u001b[0mexc_info\u001b[0m\u001b[0;34m[\u001b[0m\u001b[0;36m1\u001b[0m\u001b[0;34m]\u001b[0m\u001b[0;34m,\u001b[0m \u001b[0mwith_traceback\u001b[0m\u001b[0;34m=\u001b[0m\u001b[0mexc_info\u001b[0m\u001b[0;34m[\u001b[0m\u001b[0;36m2\u001b[0m\u001b[0;34m]\u001b[0m\u001b[0;34m)\u001b[0m\u001b[0;34m\u001b[0m\u001b[0;34m\u001b[0m\u001b[0m\n\u001b[0m\u001b[1;32m   1522\u001b[0m \u001b[0;34m\u001b[0m\u001b[0m\n\u001b[1;32m   1523\u001b[0m         \u001b[0;32mfinally\u001b[0m\u001b[0;34m:\u001b[0m\u001b[0;34m\u001b[0m\u001b[0;34m\u001b[0m\u001b[0m\n",
      "\u001b[0;32m~/anaconda3/envs/ds/lib/python3.8/site-packages/sqlalchemy/util/compat.py\u001b[0m in \u001b[0;36mraise_\u001b[0;34m(***failed resolving arguments***)\u001b[0m\n\u001b[1;32m    176\u001b[0m \u001b[0;34m\u001b[0m\u001b[0m\n\u001b[1;32m    177\u001b[0m         \u001b[0;32mtry\u001b[0m\u001b[0;34m:\u001b[0m\u001b[0;34m\u001b[0m\u001b[0;34m\u001b[0m\u001b[0m\n\u001b[0;32m--> 178\u001b[0;31m             \u001b[0;32mraise\u001b[0m \u001b[0mexception\u001b[0m\u001b[0;34m\u001b[0m\u001b[0;34m\u001b[0m\u001b[0m\n\u001b[0m\u001b[1;32m    179\u001b[0m         \u001b[0;32mfinally\u001b[0m\u001b[0;34m:\u001b[0m\u001b[0;34m\u001b[0m\u001b[0;34m\u001b[0m\u001b[0m\n\u001b[1;32m    180\u001b[0m             \u001b[0;31m# credit to\u001b[0m\u001b[0;34m\u001b[0m\u001b[0;34m\u001b[0m\u001b[0;34m\u001b[0m\u001b[0m\n",
      "\u001b[0;32m~/anaconda3/envs/ds/lib/python3.8/site-packages/sqlalchemy/engine/base.py\u001b[0m in \u001b[0;36m_execute_context\u001b[0;34m(self, dialect, constructor, statement, parameters, *args)\u001b[0m\n\u001b[1;32m   1281\u001b[0m                             \u001b[0;32mbreak\u001b[0m\u001b[0;34m\u001b[0m\u001b[0;34m\u001b[0m\u001b[0m\n\u001b[1;32m   1282\u001b[0m                 \u001b[0;32mif\u001b[0m \u001b[0;32mnot\u001b[0m \u001b[0mevt_handled\u001b[0m\u001b[0;34m:\u001b[0m\u001b[0;34m\u001b[0m\u001b[0;34m\u001b[0m\u001b[0m\n\u001b[0;32m-> 1283\u001b[0;31m                     self.dialect.do_execute(\n\u001b[0m\u001b[1;32m   1284\u001b[0m                         \u001b[0mcursor\u001b[0m\u001b[0;34m,\u001b[0m \u001b[0mstatement\u001b[0m\u001b[0;34m,\u001b[0m \u001b[0mparameters\u001b[0m\u001b[0;34m,\u001b[0m \u001b[0mcontext\u001b[0m\u001b[0;34m\u001b[0m\u001b[0;34m\u001b[0m\u001b[0m\n\u001b[1;32m   1285\u001b[0m                     )\n",
      "\u001b[0;32m~/anaconda3/envs/ds/lib/python3.8/site-packages/sqlalchemy/engine/default.py\u001b[0m in \u001b[0;36mdo_execute\u001b[0;34m(self, cursor, statement, parameters, context)\u001b[0m\n\u001b[1;32m    588\u001b[0m \u001b[0;34m\u001b[0m\u001b[0m\n\u001b[1;32m    589\u001b[0m     \u001b[0;32mdef\u001b[0m \u001b[0mdo_execute\u001b[0m\u001b[0;34m(\u001b[0m\u001b[0mself\u001b[0m\u001b[0;34m,\u001b[0m \u001b[0mcursor\u001b[0m\u001b[0;34m,\u001b[0m \u001b[0mstatement\u001b[0m\u001b[0;34m,\u001b[0m \u001b[0mparameters\u001b[0m\u001b[0;34m,\u001b[0m \u001b[0mcontext\u001b[0m\u001b[0;34m=\u001b[0m\u001b[0;32mNone\u001b[0m\u001b[0;34m)\u001b[0m\u001b[0;34m:\u001b[0m\u001b[0;34m\u001b[0m\u001b[0;34m\u001b[0m\u001b[0m\n\u001b[0;32m--> 590\u001b[0;31m         \u001b[0mcursor\u001b[0m\u001b[0;34m.\u001b[0m\u001b[0mexecute\u001b[0m\u001b[0;34m(\u001b[0m\u001b[0mstatement\u001b[0m\u001b[0;34m,\u001b[0m \u001b[0mparameters\u001b[0m\u001b[0;34m)\u001b[0m\u001b[0;34m\u001b[0m\u001b[0;34m\u001b[0m\u001b[0m\n\u001b[0m\u001b[1;32m    591\u001b[0m \u001b[0;34m\u001b[0m\u001b[0m\n\u001b[1;32m    592\u001b[0m     \u001b[0;32mdef\u001b[0m \u001b[0mdo_execute_no_params\u001b[0m\u001b[0;34m(\u001b[0m\u001b[0mself\u001b[0m\u001b[0;34m,\u001b[0m \u001b[0mcursor\u001b[0m\u001b[0;34m,\u001b[0m \u001b[0mstatement\u001b[0m\u001b[0;34m,\u001b[0m \u001b[0mcontext\u001b[0m\u001b[0;34m=\u001b[0m\u001b[0;32mNone\u001b[0m\u001b[0;34m)\u001b[0m\u001b[0;34m:\u001b[0m\u001b[0;34m\u001b[0m\u001b[0;34m\u001b[0m\u001b[0m\n",
      "\u001b[0;31mKeyboardInterrupt\u001b[0m: "
     ]
    }
   ],
   "source": [
    "model = optimizer.opt(X_train, y_train, timeout=200, verbose=3)"
   ]
  },
  {
   "cell_type": "code",
   "execution_count": null,
   "metadata": {},
   "outputs": [],
   "source": [
    "model = model.fit(X_train, y_train)\n",
    "predicts = model.predict_proba(X_test)\n",
    "print('Test AUC: ', round(sklearn.metrics.roc_auc_score(y_test, predicts),4))"
   ]
  },
  {
   "cell_type": "code",
   "execution_count": null,
   "metadata": {},
   "outputs": [],
   "source": [
    "model.select_columns"
   ]
  },
  {
   "cell_type": "code",
   "execution_count": null,
   "metadata": {},
   "outputs": [],
   "source": []
  },
  {
   "cell_type": "code",
   "execution_count": null,
   "metadata": {},
   "outputs": [],
   "source": []
  },
  {
   "cell_type": "code",
   "execution_count": 20,
   "metadata": {},
   "outputs": [],
   "source": [
    "# time 1 iter\n",
    "start_time = time.time()\n",
    "model = model.fit(X_train, y_train)\n",
    "iter_time = (time.time() - start_time)"
   ]
  },
  {
   "cell_type": "code",
   "execution_count": 21,
   "metadata": {},
   "outputs": [],
   "source": [
    "timeout = 600"
   ]
  },
  {
   "cell_type": "code",
   "execution_count": 22,
   "metadata": {},
   "outputs": [
    {
     "output_type": "execute_result",
     "data": {
      "text/plain": [
       "307.0"
      ]
     },
     "metadata": {},
     "execution_count": 22
    }
   ],
   "source": [
    "possible_iters = timeout // (iter_time)\n",
    "possible_iters"
   ]
  },
  {
   "cell_type": "code",
   "execution_count": 23,
   "metadata": {},
   "outputs": [],
   "source": [
    "def auto_parameters_calc(possible_iters,):\n",
    "        \"\"\"\n",
    "        Automatic determination of optimization parameters depending on the number of possible iterations\n",
    "\n",
    "        Args:\n",
    "            possible_iters (int): possible_iters\n",
    "            verbose (int): print status\n",
    "\n",
    "        Return:\n",
    "            early_stoping (int)\n",
    "            cv (int)\n",
    "            score_cv_folds (int)\n",
    "            opt_lvl (int)\n",
    "            cold_start (int)\n",
    "        \"\"\"\n",
    "        early_stoping = 25\n",
    "        folds = 5\n",
    "        score_folds = 1\n",
    "        opt_lvl = 1\n",
    "        cold_start = 10\n",
    "            \n",
    "        if possible_iters > 50:\n",
    "            folds = 10\n",
    "            score_folds = 2\n",
    "            cold_start = (possible_iters / score_folds) // 2\n",
    "            early_stoping = 30\n",
    "\n",
    "        if possible_iters > 100:\n",
    "            opt_lvl = 2\n",
    "\n",
    "        if possible_iters > 300:\n",
    "            opt_lvl = 3\n",
    "            score_folds = 3\n",
    "            cold_start = (possible_iters / score_folds) // 3\n",
    "            early_stoping = cold_start * 2\n",
    "\n",
    "        if possible_iters > 500:\n",
    "            opt_lvl = 4\n",
    "            score_folds = 4\n",
    "            cold_start = (possible_iters / score_folds) // 4\n",
    "            early_stoping = cold_start * 2\n",
    "        \n",
    "        if possible_iters > 1000:\n",
    "            opt_lvl = 5\n",
    "            score_folds = 5\n",
    "            cold_start = (possible_iters / score_folds) // 4\n",
    "            early_stoping = cold_start * 2\n",
    "\n",
    "        return(early_stoping, folds, score_folds, opt_lvl, cold_start,)"
   ]
  },
  {
   "cell_type": "code",
   "execution_count": 24,
   "metadata": {},
   "outputs": [],
   "source": [
    "early_stoping, folds, score_folds, opt_lvl, cold_start = \\\n",
    "                    auto_parameters_calc(possible_iters)"
   ]
  },
  {
   "cell_type": "code",
   "execution_count": 25,
   "metadata": {},
   "outputs": [],
   "source": [
    "def objective(\n",
    "    trial,\n",
    "    model, \n",
    "    folds, \n",
    "    score_folds, \n",
    "    opt_lvl,\n",
    "    return_model=False,\n",
    "    ):\n",
    "    model.model_param = model.get_model_opt_params(\n",
    "            trial=trial, \n",
    "            opt_lvl=opt_lvl,\n",
    "            )\n",
    "    cv = CrossValidation(\n",
    "        estimator=model,\n",
    "        folds=folds,\n",
    "        score_folds=score_folds,\n",
    "        n_repeats=1,\n",
    "        metric=sklearn.metrics.roc_auc_score,\n",
    "        print_metric=False, \n",
    "        metric_round=4, \n",
    "        random_state=RANDOM_SEED\n",
    "        )\n",
    "    score, score_std = cv.fit_score(X_train, y_train, print_metric=False, trial=trial)\n",
    "    score_opt = model.__calc_combined_score_opt__('maximize', score, score_std)\n",
    "            \n",
    "    if cv._pruned_cv:\n",
    "        raise optuna.TrialPruned()\n",
    "    if return_model:\n",
    "        return(model)\n",
    "    else:\n",
    "        return(score_opt)"
   ]
  },
  {
   "cell_type": "code",
   "execution_count": 26,
   "metadata": {},
   "outputs": [],
   "source": [
    "optuna.logging.disable_default_handler()"
   ]
  },
  {
   "cell_type": "code",
   "execution_count": 27,
   "metadata": {},
   "outputs": [],
   "source": [
    "model = LightGBMClassifier(random_state=RANDOM_SEED)"
   ]
  },
  {
   "cell_type": "code",
   "execution_count": 28,
   "metadata": {},
   "outputs": [],
   "source": [
    "sampler = optuna.samplers.TPESampler(seed=42)"
   ]
  },
  {
   "cell_type": "code",
   "execution_count": 29,
   "metadata": {},
   "outputs": [],
   "source": [
    "study = optuna.create_study(\n",
    "    sampler=sampler,\n",
    "    direction='maximize',\n",
    "    pruner=optuna.pruners.NopPruner(),\n",
    "    )"
   ]
  },
  {
   "cell_type": "code",
   "execution_count": 30,
   "metadata": {},
   "outputs": [],
   "source": [
    "dafault_params = model.get_model_start_opt_params()"
   ]
  },
  {
   "cell_type": "code",
   "execution_count": 31,
   "metadata": {},
   "outputs": [],
   "source": [
    "study.enqueue_trial(dafault_params)"
   ]
  },
  {
   "cell_type": "code",
   "execution_count": 32,
   "metadata": {},
   "outputs": [],
   "source": [
    "study.optimize(lambda trial: objective(\n",
    "                                    trial, \n",
    "                                    model,\n",
    "                                    folds, \n",
    "                                    score_folds, \n",
    "                                    opt_lvl,\n",
    "                                    ),\n",
    "                n_trials=10, \n",
    "                show_progress_bar=False)"
   ]
  },
  {
   "cell_type": "code",
   "execution_count": 33,
   "metadata": {},
   "outputs": [
    {
     "output_type": "execute_result",
     "data": {
      "text/plain": [
       "{'lgbm_min_child_samples': 3,\n",
       " 'lgbm_bagging_fraction': 1.0,\n",
       " 'lgbm_learning_rate': 0.13962563737015762,\n",
       " 'lgbm_num_iterations': 400,\n",
       " 'lgbm_num_leaves': 8}"
      ]
     },
     "metadata": {},
     "execution_count": 33
    }
   ],
   "source": [
    "study.best_params "
   ]
  },
  {
   "cell_type": "code",
   "execution_count": 34,
   "metadata": {},
   "outputs": [
    {
     "output_type": "execute_result",
     "data": {
      "text/plain": [
       "FrozenTrial(number=9, values=[0.69533], datetime_start=datetime.datetime(2021, 2, 28, 2, 39, 27, 790560), datetime_complete=datetime.datetime(2021, 2, 28, 2, 39, 30, 23880), params={'lgbm_min_child_samples': 3, 'lgbm_bagging_fraction': 1.0, 'lgbm_learning_rate': 0.13962563737015762, 'lgbm_num_iterations': 400, 'lgbm_num_leaves': 8}, distributions={'lgbm_min_child_samples': IntLogUniformDistribution(high=100, low=2, step=1), 'lgbm_bagging_fraction': DiscreteUniformDistribution(high=1.0, low=0.4, q=0.1), 'lgbm_learning_rate': LogUniformDistribution(high=0.3, low=0.01), 'lgbm_num_iterations': IntUniformDistribution(high=1000, low=300, step=100), 'lgbm_num_leaves': IntLogUniformDistribution(high=100, low=2, step=1)}, user_attrs={}, system_attrs={}, intermediate_values={0: 0.7309}, trial_id=9, state=TrialState.COMPLETE, value=None)"
      ]
     },
     "metadata": {},
     "execution_count": 34
    }
   ],
   "source": [
    "study.best_trial"
   ]
  },
  {
   "cell_type": "code",
   "execution_count": 35,
   "metadata": {},
   "outputs": [
    {
     "output_type": "execute_result",
     "data": {
      "text/plain": [
       "0.69533"
      ]
     },
     "metadata": {},
     "execution_count": 35
    }
   ],
   "source": [
    "study.best_value"
   ]
  },
  {
   "cell_type": "code",
   "execution_count": 37,
   "metadata": {},
   "outputs": [
    {
     "output_type": "error",
     "ename": "NameError",
     "evalue": "name 'trial' is not defined",
     "traceback": [
      "\u001b[0;31m---------------------------------------------------------------------------\u001b[0m",
      "\u001b[0;31mNameError\u001b[0m                                 Traceback (most recent call last)",
      "\u001b[0;32m<ipython-input-37-c1134a2e1f92>\u001b[0m in \u001b[0;36m<module>\u001b[0;34m\u001b[0m\n\u001b[0;32m----> 1\u001b[0;31m \u001b[0mtrial\u001b[0m\u001b[0;34m.\u001b[0m\u001b[0mtrials\u001b[0m\u001b[0;34m\u001b[0m\u001b[0;34m\u001b[0m\u001b[0m\n\u001b[0m",
      "\u001b[0;31mNameError\u001b[0m: name 'trial' is not defined"
     ]
    }
   ],
   "source": [
    "trial.trials"
   ]
  },
  {
   "cell_type": "code",
   "execution_count": 21,
   "metadata": {},
   "outputs": [],
   "source": [
    "df = study.trials_dataframe()"
   ]
  },
  {
   "cell_type": "code",
   "execution_count": 22,
   "metadata": {},
   "outputs": [],
   "source": [
    "pruned_scor = df.value.median()"
   ]
  },
  {
   "cell_type": "code",
   "execution_count": 23,
   "metadata": {},
   "outputs": [],
   "source": [
    "study.pruner = optuna.pruners.ThresholdPruner(lower=pruned_scor)"
   ]
  },
  {
   "cell_type": "code",
   "execution_count": 24,
   "metadata": {},
   "outputs": [
    {
     "output_type": "stream",
     "name": "stderr",
     "text": [
      "00:52:14 | Pruned on 0 fold\n"
     ]
    }
   ],
   "source": [
    "study.optimize(lambda trial: objective(\n",
    "                                    trial, \n",
    "                                    model,\n",
    "                                    folds, \n",
    "                                    score_folds, \n",
    "                                    opt_lvl,\n",
    "                                    ),\n",
    "                timeout=600,\n",
    "                show_progress_bar=False)"
   ]
  },
  {
   "cell_type": "code",
   "execution_count": 25,
   "metadata": {},
   "outputs": [
    {
     "output_type": "display_data",
     "data": {
      "application/vnd.plotly.v1+json": {
       "config": {
        "plotlyServerURL": "https://plot.ly"
       },
       "data": [
        {
         "mode": "markers",
         "name": "Objective Value",
         "type": "scatter",
         "x": [
          0,
          1,
          2,
          3,
          4,
          5,
          6,
          7,
          8,
          9,
          10,
          11,
          12,
          13,
          14,
          15,
          16,
          17,
          18,
          19,
          20,
          21,
          22,
          23,
          24,
          25,
          26,
          27,
          28,
          29,
          30,
          31,
          32,
          33,
          34,
          35,
          36,
          37,
          38,
          39,
          40,
          41,
          42,
          43,
          44,
          45,
          46,
          47,
          48,
          49,
          50,
          51,
          52,
          53,
          54,
          55,
          56,
          57,
          58,
          59,
          60,
          61,
          62,
          63,
          64,
          65,
          66,
          67,
          69,
          70,
          71,
          72,
          73,
          74,
          75,
          76,
          77,
          78,
          79,
          80,
          81,
          82,
          83,
          84,
          85,
          86,
          87,
          88,
          89,
          90,
          91,
          92,
          93,
          94,
          95,
          96,
          97,
          98,
          99,
          100,
          101,
          102,
          103,
          104,
          105,
          106,
          107,
          108,
          109,
          110,
          111,
          112,
          113,
          114,
          115,
          116,
          117,
          118,
          119,
          120,
          121,
          122,
          123,
          124,
          125,
          126,
          127,
          128,
          129,
          130,
          131,
          132,
          133,
          134,
          135,
          136,
          137,
          138,
          139,
          140,
          141,
          142,
          143,
          144,
          145,
          146,
          147,
          148,
          149,
          150,
          151,
          152,
          153,
          154,
          155,
          156,
          157,
          158,
          159,
          160,
          161,
          162,
          163,
          164,
          165,
          166,
          167,
          168,
          169,
          170,
          171,
          172,
          173,
          174,
          175,
          176,
          177,
          178,
          179,
          180,
          181,
          182,
          183,
          184,
          185,
          186,
          187,
          188,
          189,
          190,
          191,
          192,
          193,
          194,
          195,
          196,
          197,
          198,
          199,
          200,
          201,
          202,
          203,
          204,
          205,
          206,
          207,
          208,
          209,
          210,
          211,
          212,
          213,
          214,
          215,
          216,
          217,
          218,
          219,
          220,
          221,
          222,
          223,
          224,
          225,
          226,
          227,
          228,
          229,
          230,
          231,
          232,
          233,
          234,
          235,
          236,
          237,
          238,
          239,
          240,
          241,
          242,
          243,
          244,
          245,
          246,
          247,
          248,
          249,
          250,
          251,
          252,
          253,
          254,
          255,
          256,
          257,
          258,
          259,
          260,
          261,
          262,
          263,
          264,
          265,
          266,
          267,
          268,
          269,
          270,
          271,
          272,
          273,
          274,
          275,
          276,
          277,
          278,
          279,
          280,
          281,
          282,
          283,
          284,
          285,
          286,
          287,
          288,
          289,
          290,
          291,
          292,
          293,
          294,
          295,
          296,
          297,
          298,
          299,
          300,
          301,
          302,
          303,
          304,
          305,
          306,
          307,
          308,
          309,
          310,
          311,
          312,
          313,
          314,
          315,
          316,
          317,
          318,
          319,
          320,
          321,
          322,
          323,
          324,
          325,
          326,
          327,
          328,
          329,
          330,
          331,
          332,
          333,
          334,
          335,
          336,
          337,
          338,
          339,
          340,
          341,
          342,
          343,
          344,
          345
         ],
         "y": [
          0.6440319999999999,
          0.662644,
          0.679723,
          0.654467,
          0.699566,
          0.6658710000000001,
          0.660418,
          0.690326,
          0.6322920000000001,
          0.696013,
          0.704268,
          0.695745,
          0.687853,
          0.676215,
          0.7002219999999999,
          0.691739,
          0.683983,
          0.666206,
          0.679519,
          0.6746420000000001,
          0.673715,
          0.684934,
          0.683568,
          0.695497,
          0.708783,
          0.711072,
          0.702759,
          0.695067,
          0.7043170000000001,
          0.6991769999999999,
          0.725499,
          0.742684,
          0.7028420000000001,
          0.725403,
          0.720985,
          0.730802,
          0.713224,
          0.706883,
          0.7013499999999999,
          0.688147,
          0.721754,
          0.719808,
          0.728822,
          0.7003569999999999,
          0.7010449999999999,
          0.714031,
          0.707194,
          0.707274,
          0.6906,
          0.695146,
          0.699445,
          0.724276,
          0.7166100000000001,
          0.714868,
          0.701169,
          0.704481,
          0.730981,
          0.7117939999999999,
          0.739895,
          0.6879329999999999,
          0.6967,
          0.722352,
          0.743357,
          0.717726,
          0.729506,
          0.707244,
          0.701915,
          0.695557,
          0.692009,
          0.68679,
          0.728741,
          0.732272,
          0.743015,
          0.7513209999999999,
          0.7399439999999999,
          0.713555,
          0.72624,
          0.715813,
          0.689759,
          0.684885,
          0.71912,
          0.7044549999999999,
          0.72636,
          0.712589,
          0.716664,
          0.690001,
          0.7209920000000001,
          0.707375,
          0.706101,
          0.7088679999999999,
          0.707164,
          0.7292190000000001,
          0.734804,
          0.71831,
          0.727385,
          0.7326619999999999,
          0.712902,
          0.722303,
          0.7306699999999999,
          0.6999280000000001,
          0.692104,
          0.736122,
          0.735429,
          0.7405499999999999,
          0.731943,
          0.707,
          0.7297130000000001,
          0.7341610000000001,
          0.7138100000000001,
          0.7242890000000001,
          0.7261789999999999,
          0.7210749999999999,
          0.743055,
          0.721217,
          0.728907,
          0.7320329999999999,
          0.697117,
          0.7261930000000001,
          0.71319,
          0.726305,
          0.7205619999999999,
          0.745515,
          0.720069,
          0.738392,
          0.734279,
          0.725897,
          0.726853,
          0.722349,
          0.7259030000000001,
          0.715949,
          0.741988,
          0.7322529999999999,
          0.7186429999999999,
          0.718412,
          0.722342,
          0.725611,
          0.707719,
          0.720508,
          0.6945490000000001,
          0.740908,
          0.7265900000000001,
          0.723197,
          0.727946,
          0.7259819999999999,
          0.6926519999999999,
          0.736716,
          0.741444,
          0.732282,
          0.730879,
          0.720465,
          0.7268619999999999,
          0.712768,
          0.728258,
          0.7393230000000001,
          0.720096,
          0.710896,
          0.749021,
          0.7117749999999999,
          0.717867,
          0.7256800000000001,
          0.728136,
          0.723581,
          0.7020029999999999,
          0.726929,
          0.74321,
          0.70936,
          0.7225090000000001,
          0.736776,
          0.737069,
          0.715003,
          0.7241799999999999,
          0.730568,
          0.740098,
          0.732413,
          0.72801,
          0.7185360000000001,
          0.745232,
          0.7318319999999999,
          0.724142,
          0.7223620000000001,
          0.733133,
          0.7204010000000001,
          0.730993,
          0.7237830000000001,
          0.739665,
          0.733706,
          0.727741,
          0.7111989999999999,
          0.7342879999999999,
          0.739602,
          0.73931,
          0.732074,
          0.7200989999999999,
          0.7227520000000001,
          0.7369600000000001,
          0.7413679999999999,
          0.74168,
          0.7391519999999999,
          0.730827,
          0.7260829999999999,
          0.7187979999999999,
          0.727344,
          0.733417,
          0.7175750000000001,
          0.7265499999999999,
          0.743957,
          0.726235,
          0.724052,
          0.731572,
          0.734923,
          0.722357,
          0.723253,
          0.7292320000000001,
          0.719714,
          0.738133,
          0.73636,
          0.7197870000000001,
          0.736211,
          0.732414,
          0.7335440000000001,
          0.7315290000000001,
          0.744711,
          0.739116,
          0.726489,
          0.7397379999999999,
          0.737258,
          0.737124,
          0.729519,
          0.7376929999999999,
          0.732645,
          0.736052,
          0.7459910000000001,
          0.725015,
          0.7282190000000001,
          0.72751,
          0.720606,
          0.739379,
          0.739375,
          0.726614,
          0.719376,
          0.729719,
          0.7356849999999999,
          0.732283,
          0.728793,
          0.726661,
          0.739856,
          0.746172,
          0.72776,
          0.725701,
          0.737081,
          0.721457,
          0.736898,
          0.736339,
          0.742818,
          0.740436,
          0.721969,
          0.716627,
          0.7112470000000001,
          0.723212,
          0.730066,
          0.7394270000000001,
          0.736452,
          0.727205,
          0.745615,
          0.7421829999999999,
          0.730784,
          0.727803,
          0.719491,
          0.727318,
          0.7261580000000001,
          0.728184,
          0.742438,
          0.7222580000000001,
          0.733966,
          0.727202,
          0.7337210000000001,
          0.7215659999999999,
          0.734365,
          0.714913,
          0.740617,
          0.720689,
          0.720808,
          0.7465539999999999,
          0.736877,
          0.735356,
          0.706272,
          0.743353,
          0.727379,
          0.7406699999999999,
          0.74122,
          0.728391,
          0.741038,
          0.7419279999999999,
          0.728651,
          0.7250920000000001,
          0.724361,
          0.7393730000000001,
          0.738336,
          0.728354,
          0.742825,
          0.716584,
          0.7219720000000001,
          0.7221500000000001,
          0.7367980000000001,
          0.719789,
          0.72628,
          0.7200529999999999,
          0.7192050000000001,
          0.749684,
          0.7043699999999999,
          0.739476,
          0.717978,
          0.7410439999999999,
          0.7099129999999999,
          0.742339,
          0.747885,
          0.734124,
          0.732253,
          0.747644,
          0.740793,
          0.725449,
          0.7214710000000001,
          0.7293280000000001,
          0.747603,
          0.732892,
          0.730993,
          0.722429,
          0.734402,
          0.729318,
          0.726934,
          0.73464,
          0.7359549999999999,
          0.73217,
          0.723472,
          0.720201,
          0.725321,
          0.7222639999999999,
          0.731334,
          0.700556,
          0.7350009999999999,
          0.729071,
          0.720445,
          0.745344,
          0.729556,
          0.727227
         ]
        },
        {
         "name": "Best Value",
         "type": "scatter",
         "x": [
          0,
          1,
          2,
          3,
          4,
          5,
          6,
          7,
          8,
          9,
          10,
          11,
          12,
          13,
          14,
          15,
          16,
          17,
          18,
          19,
          20,
          21,
          22,
          23,
          24,
          25,
          26,
          27,
          28,
          29,
          30,
          31,
          32,
          33,
          34,
          35,
          36,
          37,
          38,
          39,
          40,
          41,
          42,
          43,
          44,
          45,
          46,
          47,
          48,
          49,
          50,
          51,
          52,
          53,
          54,
          55,
          56,
          57,
          58,
          59,
          60,
          61,
          62,
          63,
          64,
          65,
          66,
          67,
          69,
          70,
          71,
          72,
          73,
          74,
          75,
          76,
          77,
          78,
          79,
          80,
          81,
          82,
          83,
          84,
          85,
          86,
          87,
          88,
          89,
          90,
          91,
          92,
          93,
          94,
          95,
          96,
          97,
          98,
          99,
          100,
          101,
          102,
          103,
          104,
          105,
          106,
          107,
          108,
          109,
          110,
          111,
          112,
          113,
          114,
          115,
          116,
          117,
          118,
          119,
          120,
          121,
          122,
          123,
          124,
          125,
          126,
          127,
          128,
          129,
          130,
          131,
          132,
          133,
          134,
          135,
          136,
          137,
          138,
          139,
          140,
          141,
          142,
          143,
          144,
          145,
          146,
          147,
          148,
          149,
          150,
          151,
          152,
          153,
          154,
          155,
          156,
          157,
          158,
          159,
          160,
          161,
          162,
          163,
          164,
          165,
          166,
          167,
          168,
          169,
          170,
          171,
          172,
          173,
          174,
          175,
          176,
          177,
          178,
          179,
          180,
          181,
          182,
          183,
          184,
          185,
          186,
          187,
          188,
          189,
          190,
          191,
          192,
          193,
          194,
          195,
          196,
          197,
          198,
          199,
          200,
          201,
          202,
          203,
          204,
          205,
          206,
          207,
          208,
          209,
          210,
          211,
          212,
          213,
          214,
          215,
          216,
          217,
          218,
          219,
          220,
          221,
          222,
          223,
          224,
          225,
          226,
          227,
          228,
          229,
          230,
          231,
          232,
          233,
          234,
          235,
          236,
          237,
          238,
          239,
          240,
          241,
          242,
          243,
          244,
          245,
          246,
          247,
          248,
          249,
          250,
          251,
          252,
          253,
          254,
          255,
          256,
          257,
          258,
          259,
          260,
          261,
          262,
          263,
          264,
          265,
          266,
          267,
          268,
          269,
          270,
          271,
          272,
          273,
          274,
          275,
          276,
          277,
          278,
          279,
          280,
          281,
          282,
          283,
          284,
          285,
          286,
          287,
          288,
          289,
          290,
          291,
          292,
          293,
          294,
          295,
          296,
          297,
          298,
          299,
          300,
          301,
          302,
          303,
          304,
          305,
          306,
          307,
          308,
          309,
          310,
          311,
          312,
          313,
          314,
          315,
          316,
          317,
          318,
          319,
          320,
          321,
          322,
          323,
          324,
          325,
          326,
          327,
          328,
          329,
          330,
          331,
          332,
          333,
          334,
          335,
          336,
          337,
          338,
          339,
          340,
          341,
          342,
          343,
          344,
          345
         ],
         "y": [
          0.6440319999999999,
          0.662644,
          0.679723,
          0.679723,
          0.699566,
          0.699566,
          0.699566,
          0.699566,
          0.699566,
          0.699566,
          0.704268,
          0.704268,
          0.704268,
          0.704268,
          0.704268,
          0.704268,
          0.704268,
          0.704268,
          0.704268,
          0.704268,
          0.704268,
          0.704268,
          0.704268,
          0.704268,
          0.708783,
          0.711072,
          0.711072,
          0.711072,
          0.711072,
          0.711072,
          0.725499,
          0.742684,
          0.742684,
          0.742684,
          0.742684,
          0.742684,
          0.742684,
          0.742684,
          0.742684,
          0.742684,
          0.742684,
          0.742684,
          0.742684,
          0.742684,
          0.742684,
          0.742684,
          0.742684,
          0.742684,
          0.742684,
          0.742684,
          0.742684,
          0.742684,
          0.742684,
          0.742684,
          0.742684,
          0.742684,
          0.742684,
          0.742684,
          0.742684,
          0.742684,
          0.742684,
          0.742684,
          0.743357,
          0.743357,
          0.743357,
          0.743357,
          0.743357,
          0.743357,
          0.743357,
          0.743357,
          0.743357,
          0.743357,
          0.743357,
          0.7513209999999999,
          0.7513209999999999,
          0.7513209999999999,
          0.7513209999999999,
          0.7513209999999999,
          0.7513209999999999,
          0.7513209999999999,
          0.7513209999999999,
          0.7513209999999999,
          0.7513209999999999,
          0.7513209999999999,
          0.7513209999999999,
          0.7513209999999999,
          0.7513209999999999,
          0.7513209999999999,
          0.7513209999999999,
          0.7513209999999999,
          0.7513209999999999,
          0.7513209999999999,
          0.7513209999999999,
          0.7513209999999999,
          0.7513209999999999,
          0.7513209999999999,
          0.7513209999999999,
          0.7513209999999999,
          0.7513209999999999,
          0.7513209999999999,
          0.7513209999999999,
          0.7513209999999999,
          0.7513209999999999,
          0.7513209999999999,
          0.7513209999999999,
          0.7513209999999999,
          0.7513209999999999,
          0.7513209999999999,
          0.7513209999999999,
          0.7513209999999999,
          0.7513209999999999,
          0.7513209999999999,
          0.7513209999999999,
          0.7513209999999999,
          0.7513209999999999,
          0.7513209999999999,
          0.7513209999999999,
          0.7513209999999999,
          0.7513209999999999,
          0.7513209999999999,
          0.7513209999999999,
          0.7513209999999999,
          0.7513209999999999,
          0.7513209999999999,
          0.7513209999999999,
          0.7513209999999999,
          0.7513209999999999,
          0.7513209999999999,
          0.7513209999999999,
          0.7513209999999999,
          0.7513209999999999,
          0.7513209999999999,
          0.7513209999999999,
          0.7513209999999999,
          0.7513209999999999,
          0.7513209999999999,
          0.7513209999999999,
          0.7513209999999999,
          0.7513209999999999,
          0.7513209999999999,
          0.7513209999999999,
          0.7513209999999999,
          0.7513209999999999,
          0.7513209999999999,
          0.7513209999999999,
          0.7513209999999999,
          0.7513209999999999,
          0.7513209999999999,
          0.7513209999999999,
          0.7513209999999999,
          0.7513209999999999,
          0.7513209999999999,
          0.7513209999999999,
          0.7513209999999999,
          0.7513209999999999,
          0.7513209999999999,
          0.7513209999999999,
          0.7513209999999999,
          0.7513209999999999,
          0.7513209999999999,
          0.7513209999999999,
          0.7513209999999999,
          0.7513209999999999,
          0.7513209999999999,
          0.7513209999999999,
          0.7513209999999999,
          0.7513209999999999,
          0.7513209999999999,
          0.7513209999999999,
          0.7513209999999999,
          0.7513209999999999,
          0.7513209999999999,
          0.7513209999999999,
          0.7513209999999999,
          0.7513209999999999,
          0.7513209999999999,
          0.7513209999999999,
          0.7513209999999999,
          0.7513209999999999,
          0.7513209999999999,
          0.7513209999999999,
          0.7513209999999999,
          0.7513209999999999,
          0.7513209999999999,
          0.7513209999999999,
          0.7513209999999999,
          0.7513209999999999,
          0.7513209999999999,
          0.7513209999999999,
          0.7513209999999999,
          0.7513209999999999,
          0.7513209999999999,
          0.7513209999999999,
          0.7513209999999999,
          0.7513209999999999,
          0.7513209999999999,
          0.7513209999999999,
          0.7513209999999999,
          0.7513209999999999,
          0.7513209999999999,
          0.7513209999999999,
          0.7513209999999999,
          0.7513209999999999,
          0.7513209999999999,
          0.7513209999999999,
          0.7513209999999999,
          0.7513209999999999,
          0.7513209999999999,
          0.7513209999999999,
          0.7513209999999999,
          0.7513209999999999,
          0.7513209999999999,
          0.7513209999999999,
          0.7513209999999999,
          0.7513209999999999,
          0.7513209999999999,
          0.7513209999999999,
          0.7513209999999999,
          0.7513209999999999,
          0.7513209999999999,
          0.7513209999999999,
          0.7513209999999999,
          0.7513209999999999,
          0.7513209999999999,
          0.7513209999999999,
          0.7513209999999999,
          0.7513209999999999,
          0.7513209999999999,
          0.7513209999999999,
          0.7513209999999999,
          0.7513209999999999,
          0.7513209999999999,
          0.7513209999999999,
          0.7513209999999999,
          0.7513209999999999,
          0.7513209999999999,
          0.7513209999999999,
          0.7513209999999999,
          0.7513209999999999,
          0.7513209999999999,
          0.7513209999999999,
          0.7513209999999999,
          0.7513209999999999,
          0.7513209999999999,
          0.7513209999999999,
          0.7513209999999999,
          0.7513209999999999,
          0.7513209999999999,
          0.7513209999999999,
          0.7513209999999999,
          0.7513209999999999,
          0.7513209999999999,
          0.7513209999999999,
          0.7513209999999999,
          0.7513209999999999,
          0.7513209999999999,
          0.7513209999999999,
          0.7513209999999999,
          0.7513209999999999,
          0.7513209999999999,
          0.7513209999999999,
          0.7513209999999999,
          0.7513209999999999,
          0.7513209999999999,
          0.7513209999999999,
          0.7513209999999999,
          0.7513209999999999,
          0.7513209999999999,
          0.7513209999999999,
          0.7513209999999999,
          0.7513209999999999,
          0.7513209999999999,
          0.7513209999999999,
          0.7513209999999999,
          0.7513209999999999,
          0.7513209999999999,
          0.7513209999999999,
          0.7513209999999999,
          0.7513209999999999,
          0.7513209999999999,
          0.7513209999999999,
          0.7513209999999999,
          0.7513209999999999,
          0.7513209999999999,
          0.7513209999999999,
          0.7513209999999999,
          0.7513209999999999,
          0.7513209999999999,
          0.7513209999999999,
          0.7513209999999999,
          0.7513209999999999,
          0.7513209999999999,
          0.7513209999999999,
          0.7513209999999999,
          0.7513209999999999,
          0.7513209999999999,
          0.7513209999999999,
          0.7513209999999999,
          0.7513209999999999,
          0.7513209999999999,
          0.7513209999999999,
          0.7513209999999999,
          0.7513209999999999,
          0.7513209999999999,
          0.7513209999999999,
          0.7513209999999999,
          0.7513209999999999,
          0.7513209999999999,
          0.7513209999999999,
          0.7513209999999999,
          0.7513209999999999,
          0.7513209999999999,
          0.7513209999999999,
          0.7513209999999999,
          0.7513209999999999,
          0.7513209999999999,
          0.7513209999999999,
          0.7513209999999999,
          0.7513209999999999,
          0.7513209999999999,
          0.7513209999999999,
          0.7513209999999999,
          0.7513209999999999,
          0.7513209999999999,
          0.7513209999999999,
          0.7513209999999999,
          0.7513209999999999,
          0.7513209999999999,
          0.7513209999999999,
          0.7513209999999999,
          0.7513209999999999,
          0.7513209999999999,
          0.7513209999999999,
          0.7513209999999999,
          0.7513209999999999,
          0.7513209999999999,
          0.7513209999999999,
          0.7513209999999999,
          0.7513209999999999,
          0.7513209999999999,
          0.7513209999999999,
          0.7513209999999999,
          0.7513209999999999,
          0.7513209999999999,
          0.7513209999999999
         ]
        }
       ],
       "layout": {
        "template": {
         "data": {
          "bar": [
           {
            "error_x": {
             "color": "#2a3f5f"
            },
            "error_y": {
             "color": "#2a3f5f"
            },
            "marker": {
             "line": {
              "color": "#E5ECF6",
              "width": 0.5
             }
            },
            "type": "bar"
           }
          ],
          "barpolar": [
           {
            "marker": {
             "line": {
              "color": "#E5ECF6",
              "width": 0.5
             }
            },
            "type": "barpolar"
           }
          ],
          "carpet": [
           {
            "aaxis": {
             "endlinecolor": "#2a3f5f",
             "gridcolor": "white",
             "linecolor": "white",
             "minorgridcolor": "white",
             "startlinecolor": "#2a3f5f"
            },
            "baxis": {
             "endlinecolor": "#2a3f5f",
             "gridcolor": "white",
             "linecolor": "white",
             "minorgridcolor": "white",
             "startlinecolor": "#2a3f5f"
            },
            "type": "carpet"
           }
          ],
          "choropleth": [
           {
            "colorbar": {
             "outlinewidth": 0,
             "ticks": ""
            },
            "type": "choropleth"
           }
          ],
          "contour": [
           {
            "colorbar": {
             "outlinewidth": 0,
             "ticks": ""
            },
            "colorscale": [
             [
              0,
              "#0d0887"
             ],
             [
              0.1111111111111111,
              "#46039f"
             ],
             [
              0.2222222222222222,
              "#7201a8"
             ],
             [
              0.3333333333333333,
              "#9c179e"
             ],
             [
              0.4444444444444444,
              "#bd3786"
             ],
             [
              0.5555555555555556,
              "#d8576b"
             ],
             [
              0.6666666666666666,
              "#ed7953"
             ],
             [
              0.7777777777777778,
              "#fb9f3a"
             ],
             [
              0.8888888888888888,
              "#fdca26"
             ],
             [
              1,
              "#f0f921"
             ]
            ],
            "type": "contour"
           }
          ],
          "contourcarpet": [
           {
            "colorbar": {
             "outlinewidth": 0,
             "ticks": ""
            },
            "type": "contourcarpet"
           }
          ],
          "heatmap": [
           {
            "colorbar": {
             "outlinewidth": 0,
             "ticks": ""
            },
            "colorscale": [
             [
              0,
              "#0d0887"
             ],
             [
              0.1111111111111111,
              "#46039f"
             ],
             [
              0.2222222222222222,
              "#7201a8"
             ],
             [
              0.3333333333333333,
              "#9c179e"
             ],
             [
              0.4444444444444444,
              "#bd3786"
             ],
             [
              0.5555555555555556,
              "#d8576b"
             ],
             [
              0.6666666666666666,
              "#ed7953"
             ],
             [
              0.7777777777777778,
              "#fb9f3a"
             ],
             [
              0.8888888888888888,
              "#fdca26"
             ],
             [
              1,
              "#f0f921"
             ]
            ],
            "type": "heatmap"
           }
          ],
          "heatmapgl": [
           {
            "colorbar": {
             "outlinewidth": 0,
             "ticks": ""
            },
            "colorscale": [
             [
              0,
              "#0d0887"
             ],
             [
              0.1111111111111111,
              "#46039f"
             ],
             [
              0.2222222222222222,
              "#7201a8"
             ],
             [
              0.3333333333333333,
              "#9c179e"
             ],
             [
              0.4444444444444444,
              "#bd3786"
             ],
             [
              0.5555555555555556,
              "#d8576b"
             ],
             [
              0.6666666666666666,
              "#ed7953"
             ],
             [
              0.7777777777777778,
              "#fb9f3a"
             ],
             [
              0.8888888888888888,
              "#fdca26"
             ],
             [
              1,
              "#f0f921"
             ]
            ],
            "type": "heatmapgl"
           }
          ],
          "histogram": [
           {
            "marker": {
             "colorbar": {
              "outlinewidth": 0,
              "ticks": ""
             }
            },
            "type": "histogram"
           }
          ],
          "histogram2d": [
           {
            "colorbar": {
             "outlinewidth": 0,
             "ticks": ""
            },
            "colorscale": [
             [
              0,
              "#0d0887"
             ],
             [
              0.1111111111111111,
              "#46039f"
             ],
             [
              0.2222222222222222,
              "#7201a8"
             ],
             [
              0.3333333333333333,
              "#9c179e"
             ],
             [
              0.4444444444444444,
              "#bd3786"
             ],
             [
              0.5555555555555556,
              "#d8576b"
             ],
             [
              0.6666666666666666,
              "#ed7953"
             ],
             [
              0.7777777777777778,
              "#fb9f3a"
             ],
             [
              0.8888888888888888,
              "#fdca26"
             ],
             [
              1,
              "#f0f921"
             ]
            ],
            "type": "histogram2d"
           }
          ],
          "histogram2dcontour": [
           {
            "colorbar": {
             "outlinewidth": 0,
             "ticks": ""
            },
            "colorscale": [
             [
              0,
              "#0d0887"
             ],
             [
              0.1111111111111111,
              "#46039f"
             ],
             [
              0.2222222222222222,
              "#7201a8"
             ],
             [
              0.3333333333333333,
              "#9c179e"
             ],
             [
              0.4444444444444444,
              "#bd3786"
             ],
             [
              0.5555555555555556,
              "#d8576b"
             ],
             [
              0.6666666666666666,
              "#ed7953"
             ],
             [
              0.7777777777777778,
              "#fb9f3a"
             ],
             [
              0.8888888888888888,
              "#fdca26"
             ],
             [
              1,
              "#f0f921"
             ]
            ],
            "type": "histogram2dcontour"
           }
          ],
          "mesh3d": [
           {
            "colorbar": {
             "outlinewidth": 0,
             "ticks": ""
            },
            "type": "mesh3d"
           }
          ],
          "parcoords": [
           {
            "line": {
             "colorbar": {
              "outlinewidth": 0,
              "ticks": ""
             }
            },
            "type": "parcoords"
           }
          ],
          "pie": [
           {
            "automargin": true,
            "type": "pie"
           }
          ],
          "scatter": [
           {
            "marker": {
             "colorbar": {
              "outlinewidth": 0,
              "ticks": ""
             }
            },
            "type": "scatter"
           }
          ],
          "scatter3d": [
           {
            "line": {
             "colorbar": {
              "outlinewidth": 0,
              "ticks": ""
             }
            },
            "marker": {
             "colorbar": {
              "outlinewidth": 0,
              "ticks": ""
             }
            },
            "type": "scatter3d"
           }
          ],
          "scattercarpet": [
           {
            "marker": {
             "colorbar": {
              "outlinewidth": 0,
              "ticks": ""
             }
            },
            "type": "scattercarpet"
           }
          ],
          "scattergeo": [
           {
            "marker": {
             "colorbar": {
              "outlinewidth": 0,
              "ticks": ""
             }
            },
            "type": "scattergeo"
           }
          ],
          "scattergl": [
           {
            "marker": {
             "colorbar": {
              "outlinewidth": 0,
              "ticks": ""
             }
            },
            "type": "scattergl"
           }
          ],
          "scattermapbox": [
           {
            "marker": {
             "colorbar": {
              "outlinewidth": 0,
              "ticks": ""
             }
            },
            "type": "scattermapbox"
           }
          ],
          "scatterpolar": [
           {
            "marker": {
             "colorbar": {
              "outlinewidth": 0,
              "ticks": ""
             }
            },
            "type": "scatterpolar"
           }
          ],
          "scatterpolargl": [
           {
            "marker": {
             "colorbar": {
              "outlinewidth": 0,
              "ticks": ""
             }
            },
            "type": "scatterpolargl"
           }
          ],
          "scatterternary": [
           {
            "marker": {
             "colorbar": {
              "outlinewidth": 0,
              "ticks": ""
             }
            },
            "type": "scatterternary"
           }
          ],
          "surface": [
           {
            "colorbar": {
             "outlinewidth": 0,
             "ticks": ""
            },
            "colorscale": [
             [
              0,
              "#0d0887"
             ],
             [
              0.1111111111111111,
              "#46039f"
             ],
             [
              0.2222222222222222,
              "#7201a8"
             ],
             [
              0.3333333333333333,
              "#9c179e"
             ],
             [
              0.4444444444444444,
              "#bd3786"
             ],
             [
              0.5555555555555556,
              "#d8576b"
             ],
             [
              0.6666666666666666,
              "#ed7953"
             ],
             [
              0.7777777777777778,
              "#fb9f3a"
             ],
             [
              0.8888888888888888,
              "#fdca26"
             ],
             [
              1,
              "#f0f921"
             ]
            ],
            "type": "surface"
           }
          ],
          "table": [
           {
            "cells": {
             "fill": {
              "color": "#EBF0F8"
             },
             "line": {
              "color": "white"
             }
            },
            "header": {
             "fill": {
              "color": "#C8D4E3"
             },
             "line": {
              "color": "white"
             }
            },
            "type": "table"
           }
          ]
         },
         "layout": {
          "annotationdefaults": {
           "arrowcolor": "#2a3f5f",
           "arrowhead": 0,
           "arrowwidth": 1
          },
          "coloraxis": {
           "colorbar": {
            "outlinewidth": 0,
            "ticks": ""
           }
          },
          "colorscale": {
           "diverging": [
            [
             0,
             "#8e0152"
            ],
            [
             0.1,
             "#c51b7d"
            ],
            [
             0.2,
             "#de77ae"
            ],
            [
             0.3,
             "#f1b6da"
            ],
            [
             0.4,
             "#fde0ef"
            ],
            [
             0.5,
             "#f7f7f7"
            ],
            [
             0.6,
             "#e6f5d0"
            ],
            [
             0.7,
             "#b8e186"
            ],
            [
             0.8,
             "#7fbc41"
            ],
            [
             0.9,
             "#4d9221"
            ],
            [
             1,
             "#276419"
            ]
           ],
           "sequential": [
            [
             0,
             "#0d0887"
            ],
            [
             0.1111111111111111,
             "#46039f"
            ],
            [
             0.2222222222222222,
             "#7201a8"
            ],
            [
             0.3333333333333333,
             "#9c179e"
            ],
            [
             0.4444444444444444,
             "#bd3786"
            ],
            [
             0.5555555555555556,
             "#d8576b"
            ],
            [
             0.6666666666666666,
             "#ed7953"
            ],
            [
             0.7777777777777778,
             "#fb9f3a"
            ],
            [
             0.8888888888888888,
             "#fdca26"
            ],
            [
             1,
             "#f0f921"
            ]
           ],
           "sequentialminus": [
            [
             0,
             "#0d0887"
            ],
            [
             0.1111111111111111,
             "#46039f"
            ],
            [
             0.2222222222222222,
             "#7201a8"
            ],
            [
             0.3333333333333333,
             "#9c179e"
            ],
            [
             0.4444444444444444,
             "#bd3786"
            ],
            [
             0.5555555555555556,
             "#d8576b"
            ],
            [
             0.6666666666666666,
             "#ed7953"
            ],
            [
             0.7777777777777778,
             "#fb9f3a"
            ],
            [
             0.8888888888888888,
             "#fdca26"
            ],
            [
             1,
             "#f0f921"
            ]
           ]
          },
          "colorway": [
           "#636efa",
           "#EF553B",
           "#00cc96",
           "#ab63fa",
           "#FFA15A",
           "#19d3f3",
           "#FF6692",
           "#B6E880",
           "#FF97FF",
           "#FECB52"
          ],
          "font": {
           "color": "#2a3f5f"
          },
          "geo": {
           "bgcolor": "white",
           "lakecolor": "white",
           "landcolor": "#E5ECF6",
           "showlakes": true,
           "showland": true,
           "subunitcolor": "white"
          },
          "hoverlabel": {
           "align": "left"
          },
          "hovermode": "closest",
          "mapbox": {
           "style": "light"
          },
          "paper_bgcolor": "white",
          "plot_bgcolor": "#E5ECF6",
          "polar": {
           "angularaxis": {
            "gridcolor": "white",
            "linecolor": "white",
            "ticks": ""
           },
           "bgcolor": "#E5ECF6",
           "radialaxis": {
            "gridcolor": "white",
            "linecolor": "white",
            "ticks": ""
           }
          },
          "scene": {
           "xaxis": {
            "backgroundcolor": "#E5ECF6",
            "gridcolor": "white",
            "gridwidth": 2,
            "linecolor": "white",
            "showbackground": true,
            "ticks": "",
            "zerolinecolor": "white"
           },
           "yaxis": {
            "backgroundcolor": "#E5ECF6",
            "gridcolor": "white",
            "gridwidth": 2,
            "linecolor": "white",
            "showbackground": true,
            "ticks": "",
            "zerolinecolor": "white"
           },
           "zaxis": {
            "backgroundcolor": "#E5ECF6",
            "gridcolor": "white",
            "gridwidth": 2,
            "linecolor": "white",
            "showbackground": true,
            "ticks": "",
            "zerolinecolor": "white"
           }
          },
          "shapedefaults": {
           "line": {
            "color": "#2a3f5f"
           }
          },
          "ternary": {
           "aaxis": {
            "gridcolor": "white",
            "linecolor": "white",
            "ticks": ""
           },
           "baxis": {
            "gridcolor": "white",
            "linecolor": "white",
            "ticks": ""
           },
           "bgcolor": "#E5ECF6",
           "caxis": {
            "gridcolor": "white",
            "linecolor": "white",
            "ticks": ""
           }
          },
          "title": {
           "x": 0.05
          },
          "xaxis": {
           "automargin": true,
           "gridcolor": "white",
           "linecolor": "white",
           "ticks": "",
           "title": {
            "standoff": 15
           },
           "zerolinecolor": "white",
           "zerolinewidth": 2
          },
          "yaxis": {
           "automargin": true,
           "gridcolor": "white",
           "linecolor": "white",
           "ticks": "",
           "title": {
            "standoff": 15
           },
           "zerolinecolor": "white",
           "zerolinewidth": 2
          }
         }
        },
        "title": {
         "text": "Optimization History Plot"
        },
        "xaxis": {
         "title": {
          "text": "#Trials"
         }
        },
        "yaxis": {
         "title": {
          "text": "Objective Value"
         }
        }
       }
      }
     },
     "metadata": {}
    }
   ],
   "source": [
    "optuna.visualization.plot_optimization_history(study)"
   ]
  },
  {
   "cell_type": "code",
   "execution_count": 26,
   "metadata": {},
   "outputs": [
    {
     "output_type": "execute_result",
     "data": {
      "text/plain": [
       "     number     value             datetime_start          datetime_complete  \\\n",
       "0         0  0.644032 2021-02-28 00:47:33.790410 2021-02-28 00:47:41.385382   \n",
       "1         1  0.662644 2021-02-28 00:47:41.386177 2021-02-28 00:47:48.771069   \n",
       "2         2  0.679723 2021-02-28 00:47:48.771769 2021-02-28 00:47:49.858986   \n",
       "3         3  0.654467 2021-02-28 00:47:49.859580 2021-02-28 00:47:51.066421   \n",
       "4         4  0.699566 2021-02-28 00:47:51.067120 2021-02-28 00:48:09.422505   \n",
       "..      ...       ...                        ...                        ...   \n",
       "341     341  0.729071 2021-02-28 00:58:05.393539 2021-02-28 00:58:07.247810   \n",
       "342     342  0.720445 2021-02-28 00:58:07.249320 2021-02-28 00:58:09.656463   \n",
       "343     343  0.745344 2021-02-28 00:58:09.657982 2021-02-28 00:58:12.227924   \n",
       "344     344  0.729556 2021-02-28 00:58:12.229945 2021-02-28 00:58:17.761292   \n",
       "345     345  0.727227 2021-02-28 00:58:17.762871 2021-02-28 00:58:22.359709   \n",
       "\n",
       "                  duration  params_lgbm_bagging_fraction  \\\n",
       "0   0 days 00:00:07.594972                           0.6   \n",
       "1   0 days 00:00:07.384892                           0.5   \n",
       "2   0 days 00:00:01.087217                           1.0   \n",
       "3   0 days 00:00:01.206841                           0.8   \n",
       "4   0 days 00:00:18.355385                           1.0   \n",
       "..                     ...                           ...   \n",
       "341 0 days 00:00:01.854271                           1.0   \n",
       "342 0 days 00:00:02.407143                           1.0   \n",
       "343 0 days 00:00:02.569942                           1.0   \n",
       "344 0 days 00:00:05.531347                           1.0   \n",
       "345 0 days 00:00:04.596838                           1.0   \n",
       "\n",
       "     params_lgbm_bagging_freq  params_lgbm_feature_fraction  \\\n",
       "0                         9.0                           1.0   \n",
       "1                         9.0                           0.5   \n",
       "2                         NaN                           NaN   \n",
       "3                        10.0                           0.8   \n",
       "4                         NaN                           NaN   \n",
       "..                        ...                           ...   \n",
       "341                       NaN                           NaN   \n",
       "342                       NaN                           NaN   \n",
       "343                       NaN                           NaN   \n",
       "344                       NaN                           NaN   \n",
       "345                       NaN                           NaN   \n",
       "\n",
       "     params_lgbm_learning_rate  params_lgbm_min_child_samples  \\\n",
       "0                     0.100000                             20   \n",
       "1                     0.031112                             19   \n",
       "2                     0.169675                              2   \n",
       "3                     0.026927                             97   \n",
       "4                     0.022071                              2   \n",
       "..                         ...                            ...   \n",
       "341                   0.041963                              2   \n",
       "342                   0.045403                              2   \n",
       "343                   0.051121                              2   \n",
       "344                   0.055252                              2   \n",
       "345                   0.052183                              2   \n",
       "\n",
       "     params_lgbm_num_iterations  params_lgbm_num_leaves  \\\n",
       "0                           300                      31   \n",
       "1                          1000                      29   \n",
       "2                           800                       2   \n",
       "3                           500                       8   \n",
       "4                           800                      41   \n",
       "..                          ...                     ...   \n",
       "341                         300                       4   \n",
       "342                         300                       7   \n",
       "343                         300                       5   \n",
       "344                         300                       5   \n",
       "345                         300                       4   \n",
       "\n",
       "                             system_attrs_fixed_params     state  \n",
       "0    {'lgbm_num_leaves': 31, 'lgbm_min_child_sample...  COMPLETE  \n",
       "1                                                  NaN  COMPLETE  \n",
       "2                                                  NaN  COMPLETE  \n",
       "3                                                  NaN  COMPLETE  \n",
       "4                                                  NaN  COMPLETE  \n",
       "..                                                 ...       ...  \n",
       "341                                                NaN  COMPLETE  \n",
       "342                                                NaN  COMPLETE  \n",
       "343                                                NaN  COMPLETE  \n",
       "344                                                NaN  COMPLETE  \n",
       "345                                                NaN  COMPLETE  \n",
       "\n",
       "[346 rows x 14 columns]"
      ],
      "text/html": "<div>\n<style scoped>\n    .dataframe tbody tr th:only-of-type {\n        vertical-align: middle;\n    }\n\n    .dataframe tbody tr th {\n        vertical-align: top;\n    }\n\n    .dataframe thead th {\n        text-align: right;\n    }\n</style>\n<table border=\"1\" class=\"dataframe\">\n  <thead>\n    <tr style=\"text-align: right;\">\n      <th></th>\n      <th>number</th>\n      <th>value</th>\n      <th>datetime_start</th>\n      <th>datetime_complete</th>\n      <th>duration</th>\n      <th>params_lgbm_bagging_fraction</th>\n      <th>params_lgbm_bagging_freq</th>\n      <th>params_lgbm_feature_fraction</th>\n      <th>params_lgbm_learning_rate</th>\n      <th>params_lgbm_min_child_samples</th>\n      <th>params_lgbm_num_iterations</th>\n      <th>params_lgbm_num_leaves</th>\n      <th>system_attrs_fixed_params</th>\n      <th>state</th>\n    </tr>\n  </thead>\n  <tbody>\n    <tr>\n      <th>0</th>\n      <td>0</td>\n      <td>0.644032</td>\n      <td>2021-02-28 00:47:33.790410</td>\n      <td>2021-02-28 00:47:41.385382</td>\n      <td>0 days 00:00:07.594972</td>\n      <td>0.6</td>\n      <td>9.0</td>\n      <td>1.0</td>\n      <td>0.100000</td>\n      <td>20</td>\n      <td>300</td>\n      <td>31</td>\n      <td>{'lgbm_num_leaves': 31, 'lgbm_min_child_sample...</td>\n      <td>COMPLETE</td>\n    </tr>\n    <tr>\n      <th>1</th>\n      <td>1</td>\n      <td>0.662644</td>\n      <td>2021-02-28 00:47:41.386177</td>\n      <td>2021-02-28 00:47:48.771069</td>\n      <td>0 days 00:00:07.384892</td>\n      <td>0.5</td>\n      <td>9.0</td>\n      <td>0.5</td>\n      <td>0.031112</td>\n      <td>19</td>\n      <td>1000</td>\n      <td>29</td>\n      <td>NaN</td>\n      <td>COMPLETE</td>\n    </tr>\n    <tr>\n      <th>2</th>\n      <td>2</td>\n      <td>0.679723</td>\n      <td>2021-02-28 00:47:48.771769</td>\n      <td>2021-02-28 00:47:49.858986</td>\n      <td>0 days 00:00:01.087217</td>\n      <td>1.0</td>\n      <td>NaN</td>\n      <td>NaN</td>\n      <td>0.169675</td>\n      <td>2</td>\n      <td>800</td>\n      <td>2</td>\n      <td>NaN</td>\n      <td>COMPLETE</td>\n    </tr>\n    <tr>\n      <th>3</th>\n      <td>3</td>\n      <td>0.654467</td>\n      <td>2021-02-28 00:47:49.859580</td>\n      <td>2021-02-28 00:47:51.066421</td>\n      <td>0 days 00:00:01.206841</td>\n      <td>0.8</td>\n      <td>10.0</td>\n      <td>0.8</td>\n      <td>0.026927</td>\n      <td>97</td>\n      <td>500</td>\n      <td>8</td>\n      <td>NaN</td>\n      <td>COMPLETE</td>\n    </tr>\n    <tr>\n      <th>4</th>\n      <td>4</td>\n      <td>0.699566</td>\n      <td>2021-02-28 00:47:51.067120</td>\n      <td>2021-02-28 00:48:09.422505</td>\n      <td>0 days 00:00:18.355385</td>\n      <td>1.0</td>\n      <td>NaN</td>\n      <td>NaN</td>\n      <td>0.022071</td>\n      <td>2</td>\n      <td>800</td>\n      <td>41</td>\n      <td>NaN</td>\n      <td>COMPLETE</td>\n    </tr>\n    <tr>\n      <th>...</th>\n      <td>...</td>\n      <td>...</td>\n      <td>...</td>\n      <td>...</td>\n      <td>...</td>\n      <td>...</td>\n      <td>...</td>\n      <td>...</td>\n      <td>...</td>\n      <td>...</td>\n      <td>...</td>\n      <td>...</td>\n      <td>...</td>\n      <td>...</td>\n    </tr>\n    <tr>\n      <th>341</th>\n      <td>341</td>\n      <td>0.729071</td>\n      <td>2021-02-28 00:58:05.393539</td>\n      <td>2021-02-28 00:58:07.247810</td>\n      <td>0 days 00:00:01.854271</td>\n      <td>1.0</td>\n      <td>NaN</td>\n      <td>NaN</td>\n      <td>0.041963</td>\n      <td>2</td>\n      <td>300</td>\n      <td>4</td>\n      <td>NaN</td>\n      <td>COMPLETE</td>\n    </tr>\n    <tr>\n      <th>342</th>\n      <td>342</td>\n      <td>0.720445</td>\n      <td>2021-02-28 00:58:07.249320</td>\n      <td>2021-02-28 00:58:09.656463</td>\n      <td>0 days 00:00:02.407143</td>\n      <td>1.0</td>\n      <td>NaN</td>\n      <td>NaN</td>\n      <td>0.045403</td>\n      <td>2</td>\n      <td>300</td>\n      <td>7</td>\n      <td>NaN</td>\n      <td>COMPLETE</td>\n    </tr>\n    <tr>\n      <th>343</th>\n      <td>343</td>\n      <td>0.745344</td>\n      <td>2021-02-28 00:58:09.657982</td>\n      <td>2021-02-28 00:58:12.227924</td>\n      <td>0 days 00:00:02.569942</td>\n      <td>1.0</td>\n      <td>NaN</td>\n      <td>NaN</td>\n      <td>0.051121</td>\n      <td>2</td>\n      <td>300</td>\n      <td>5</td>\n      <td>NaN</td>\n      <td>COMPLETE</td>\n    </tr>\n    <tr>\n      <th>344</th>\n      <td>344</td>\n      <td>0.729556</td>\n      <td>2021-02-28 00:58:12.229945</td>\n      <td>2021-02-28 00:58:17.761292</td>\n      <td>0 days 00:00:05.531347</td>\n      <td>1.0</td>\n      <td>NaN</td>\n      <td>NaN</td>\n      <td>0.055252</td>\n      <td>2</td>\n      <td>300</td>\n      <td>5</td>\n      <td>NaN</td>\n      <td>COMPLETE</td>\n    </tr>\n    <tr>\n      <th>345</th>\n      <td>345</td>\n      <td>0.727227</td>\n      <td>2021-02-28 00:58:17.762871</td>\n      <td>2021-02-28 00:58:22.359709</td>\n      <td>0 days 00:00:04.596838</td>\n      <td>1.0</td>\n      <td>NaN</td>\n      <td>NaN</td>\n      <td>0.052183</td>\n      <td>2</td>\n      <td>300</td>\n      <td>4</td>\n      <td>NaN</td>\n      <td>COMPLETE</td>\n    </tr>\n  </tbody>\n</table>\n<p>346 rows × 14 columns</p>\n</div>"
     },
     "metadata": {},
     "execution_count": 26
    }
   ],
   "source": [
    "df = study.trials_dataframe()\n",
    "df"
   ]
  },
  {
   "cell_type": "code",
   "execution_count": 27,
   "metadata": {},
   "outputs": [
    {
     "output_type": "execute_result",
     "data": {
      "text/plain": [
       "COMPLETE    345\n",
       "PRUNED        1\n",
       "Name: state, dtype: int64"
      ]
     },
     "metadata": {},
     "execution_count": 27
    }
   ],
   "source": [
    "df.state.value_counts()"
   ]
  },
  {
   "cell_type": "code",
   "execution_count": 28,
   "metadata": {},
   "outputs": [
    {
     "output_type": "execute_result",
     "data": {
      "text/plain": [
       "{'lgbm_min_child_samples': 2,\n",
       " 'lgbm_bagging_fraction': 1.0,\n",
       " 'lgbm_learning_rate': 0.04348842010570929,\n",
       " 'lgbm_num_iterations': 300,\n",
       " 'lgbm_num_leaves': 5}"
      ]
     },
     "metadata": {},
     "execution_count": 28
    }
   ],
   "source": [
    "study.best_params"
   ]
  },
  {
   "cell_type": "code",
   "execution_count": 29,
   "metadata": {},
   "outputs": [
    {
     "output_type": "execute_result",
     "data": {
      "text/plain": [
       "{'random_seed': 42,\n",
       " 'num_iterations': 300,\n",
       " 'verbose': -1,\n",
       " 'device_type': 'cpu',\n",
       " 'objective': 'binary'}"
      ]
     },
     "metadata": {},
     "execution_count": 29
    }
   ],
   "source": [
    "model = LightGBMClassifier(random_state=RANDOM_SEED)\n",
    "model.model_param"
   ]
  },
  {
   "cell_type": "code",
   "execution_count": 30,
   "metadata": {},
   "outputs": [],
   "source": [
    "model = objective(optuna.trial.FixedTrial(study.best_params), \n",
    "                                    model,\n",
    "                                    folds, \n",
    "                                    score_folds, \n",
    "                                    opt_lvl, \n",
    "                                    return_model=True,)"
   ]
  },
  {
   "cell_type": "code",
   "execution_count": 31,
   "metadata": {},
   "outputs": [
    {
     "output_type": "execute_result",
     "data": {
      "text/plain": [
       "{'random_seed': 42,\n",
       " 'num_iterations': 300,\n",
       " 'verbose': -1,\n",
       " 'device_type': 'cpu',\n",
       " 'objective': 'binary',\n",
       " 'min_child_samples': 2,\n",
       " 'bagging_fraction': 1.0,\n",
       " 'learning_rate': 0.04348842010570929,\n",
       " 'num_leaves': 5}"
      ]
     },
     "metadata": {},
     "execution_count": 31
    }
   ],
   "source": [
    "model.model_param"
   ]
  },
  {
   "cell_type": "code",
   "execution_count": 33,
   "metadata": {},
   "outputs": [],
   "source": [
    "cv = CrossValidation(\n",
    "        estimator=model,\n",
    "        folds=folds,\n",
    "        score_folds=score_folds,\n",
    "        n_repeats=1,\n",
    "        metric=sklearn.metrics.roc_auc_score,\n",
    "        print_metric=False, \n",
    "        metric_round=4, \n",
    "        random_state=RANDOM_SEED\n",
    "        )"
   ]
  },
  {
   "cell_type": "code",
   "execution_count": 34,
   "metadata": {},
   "outputs": [
    {
     "output_type": "stream",
     "name": "stdout",
     "text": [
      "Finished loading model, total used 300 iterations\n",
      "Finished loading model, total used 300 iterations\n",
      "Finished loading model, total used 300 iterations\n",
      "Finished loading model, total used 300 iterations\n",
      "Finished loading model, total used 300 iterations\n",
      "Finished loading model, total used 300 iterations\n",
      "Finished loading model, total used 300 iterations\n",
      "Finished loading model, total used 300 iterations\n",
      "Finished loading model, total used 300 iterations\n",
      "Finished loading model, total used 300 iterations\n"
     ]
    }
   ],
   "source": [
    "cv.fit(X_train, y_train)"
   ]
  },
  {
   "cell_type": "code",
   "execution_count": 35,
   "metadata": {},
   "outputs": [
    {
     "output_type": "stream",
     "name": "stdout",
     "text": [
      "Test AUC:  0.8283\n"
     ]
    }
   ],
   "source": [
    "predicts = cv.predict_test(X_test)\n",
    "print('Test AUC: ', round(sklearn.metrics.roc_auc_score(y_test, predicts),4))"
   ]
  },
  {
   "cell_type": "code",
   "execution_count": null,
   "metadata": {},
   "outputs": [],
   "source": []
  },
  {
   "cell_type": "code",
   "execution_count": 36,
   "metadata": {},
   "outputs": [],
   "source": [
    "model = LightGBMClassifier(random_state=RANDOM_SEED)"
   ]
  },
  {
   "cell_type": "code",
   "execution_count": 37,
   "metadata": {},
   "outputs": [
    {
     "output_type": "stream",
     "name": "stdout",
     "text": [
      "Finished loading model, total used 300 iterations\n",
      "Finished loading model, total used 300 iterations\n",
      "Finished loading model, total used 300 iterations\n",
      "Finished loading model, total used 300 iterations\n",
      "Finished loading model, total used 300 iterations\n",
      "Finished loading model, total used 300 iterations\n",
      "Finished loading model, total used 300 iterations\n",
      "Finished loading model, total used 300 iterations\n",
      "Finished loading model, total used 300 iterations\n",
      "Finished loading model, total used 300 iterations\n"
     ]
    }
   ],
   "source": [
    "cv = CrossValidation(\n",
    "        estimator=model,\n",
    "        folds=folds,\n",
    "        score_folds=folds,\n",
    "        n_repeats=1,\n",
    "        metric=sklearn.metrics.roc_auc_score,\n",
    "        print_metric=False, \n",
    "        metric_round=4, \n",
    "        random_state=RANDOM_SEED\n",
    "        )\n",
    "cv.fit(X_train, y_train)"
   ]
  },
  {
   "cell_type": "code",
   "execution_count": 38,
   "metadata": {},
   "outputs": [
    {
     "output_type": "stream",
     "name": "stdout",
     "text": [
      "Test AUC:  0.8161\n"
     ]
    }
   ],
   "source": [
    "predicts = cv.predict_test(X_test)\n",
    "print('Test AUC: ', round(sklearn.metrics.roc_auc_score(y_test, predicts),4))"
   ]
  },
  {
   "cell_type": "code",
   "execution_count": null,
   "metadata": {},
   "outputs": [],
   "source": []
  },
  {
   "cell_type": "code",
   "execution_count": 7,
   "metadata": {},
   "outputs": [],
   "source": [
    "from automl_alex.optimizer import *"
   ]
  },
  {
   "cell_type": "code",
   "execution_count": 8,
   "metadata": {},
   "outputs": [],
   "source": [
    "opt = Optimizer(model)"
   ]
  },
  {
   "cell_type": "code",
   "execution_count": 9,
   "metadata": {
    "tags": [
     "outputPrepend"
    ]
   },
   "outputs": [
    {
     "output_type": "stream",
     "name": "stderr",
     "text": [
      "63870143504, 'lgbm_num_leaves': 9, 'lgbm_num_iterations': 400, 'lgbm_bagging_fraction': 0.8, 'lgbm_feature_fraction': 0.6000000000000001, 'lgbm_bagging_freq': 9}. Best is trial 117 with value: 0.74555.\n",
      "[I 2021-02-28 02:15:37,572] Trial 134 finished with value: 0.72 and parameters: {'lgbm_min_child_samples': 2, 'lgbm_learning_rate': 0.03533649508899552, 'lgbm_num_leaves': 4, 'lgbm_num_iterations': 500, 'lgbm_bagging_fraction': 1.0}. Best is trial 117 with value: 0.74555.\n",
      "[I 2021-02-28 02:15:38,113] Trial 135 finished with value: 0.6972499999999999 and parameters: {'lgbm_min_child_samples': 8, 'lgbm_learning_rate': 0.05647341589411643, 'lgbm_num_leaves': 7, 'lgbm_num_iterations': 300, 'lgbm_bagging_fraction': 0.8, 'lgbm_feature_fraction': 0.7000000000000001, 'lgbm_bagging_freq': 8}. Best is trial 117 with value: 0.74555.\n",
      "[I 2021-02-28 02:15:39,271] Trial 136 finished with value: 0.7082499999999999 and parameters: {'lgbm_min_child_samples': 2, 'lgbm_learning_rate': 0.049274134301148874, 'lgbm_num_leaves': 6, 'lgbm_num_iterations': 500, 'lgbm_bagging_fraction': 0.9, 'lgbm_feature_fraction': 0.5, 'lgbm_bagging_freq': 11}. Best is trial 117 with value: 0.74555.\n",
      "[I 2021-02-28 02:15:40,156] Trial 137 finished with value: 0.7009 and parameters: {'lgbm_min_child_samples': 2, 'lgbm_learning_rate': 0.08872108456196978, 'lgbm_num_leaves': 6, 'lgbm_num_iterations': 500, 'lgbm_bagging_fraction': 1.0}. Best is trial 117 with value: 0.74555.\n",
      "[I 2021-02-28 02:15:41,342] Trial 138 finished with value: 0.69565 and parameters: {'lgbm_min_child_samples': 2, 'lgbm_learning_rate': 0.031159998076244682, 'lgbm_num_leaves': 10, 'lgbm_num_iterations': 500, 'lgbm_bagging_fraction': 1.0}. Best is trial 117 with value: 0.74555.\n",
      "[I 2021-02-28 02:15:42,482] Trial 139 finished with value: 0.7395999999999999 and parameters: {'lgbm_min_child_samples': 2, 'lgbm_learning_rate': 0.03281004612490826, 'lgbm_num_leaves': 5, 'lgbm_num_iterations': 500, 'lgbm_bagging_fraction': 1.0}. Best is trial 117 with value: 0.74555.\n",
      "[I 2021-02-28 02:15:43,111] Trial 140 finished with value: 0.7061999999999999 and parameters: {'lgbm_min_child_samples': 3, 'lgbm_learning_rate': 0.05872499237850378, 'lgbm_num_leaves': 7, 'lgbm_num_iterations': 300, 'lgbm_bagging_fraction': 0.9, 'lgbm_feature_fraction': 0.4, 'lgbm_bagging_freq': 10}. Best is trial 117 with value: 0.74555.\n",
      "[I 2021-02-28 02:15:44,239] Trial 141 finished with value: 0.7309 and parameters: {'lgbm_min_child_samples': 4, 'lgbm_learning_rate': 0.026863563419699043, 'lgbm_num_leaves': 5, 'lgbm_num_iterations': 500, 'lgbm_bagging_fraction': 1.0}. Best is trial 117 with value: 0.74555.\n",
      "[I 2021-02-28 02:15:45,726] Trial 142 finished with value: 0.7454999999999999 and parameters: {'lgbm_min_child_samples': 2, 'lgbm_learning_rate': 0.028939144619399466, 'lgbm_num_leaves': 6, 'lgbm_num_iterations': 500, 'lgbm_bagging_fraction': 1.0}. Best is trial 117 with value: 0.74555.\n",
      "[I 2021-02-28 02:15:48,255] Trial 143 finished with value: 0.7287 and parameters: {'lgbm_min_child_samples': 2, 'lgbm_learning_rate': 0.021377216604973045, 'lgbm_num_leaves': 5, 'lgbm_num_iterations': 500, 'lgbm_bagging_fraction': 1.0}. Best is trial 117 with value: 0.74555.\n",
      "[I 2021-02-28 02:15:57,954] Trial 144 finished with value: 0.724 and parameters: {'lgbm_min_child_samples': 2, 'lgbm_learning_rate': 0.02688520886702358, 'lgbm_num_leaves': 7, 'lgbm_num_iterations': 500, 'lgbm_bagging_fraction': 0.9, 'lgbm_feature_fraction': 0.7000000000000001, 'lgbm_bagging_freq': 7}. Best is trial 117 with value: 0.74555.\n",
      "[I 2021-02-28 02:16:03,919] Trial 145 finished with value: 0.7307 and parameters: {'lgbm_min_child_samples': 2, 'lgbm_learning_rate': 0.02295632888582447, 'lgbm_num_leaves': 7, 'lgbm_num_iterations': 500, 'lgbm_bagging_fraction': 1.0}. Best is trial 117 with value: 0.74555.\n",
      "[I 2021-02-28 02:16:07,329] Trial 146 finished with value: 0.7193 and parameters: {'lgbm_min_child_samples': 3, 'lgbm_learning_rate': 0.018757940919899137, 'lgbm_num_leaves': 9, 'lgbm_num_iterations': 300, 'lgbm_bagging_fraction': 0.9, 'lgbm_feature_fraction': 0.5, 'lgbm_bagging_freq': 9}. Best is trial 117 with value: 0.74555.\n",
      "[I 2021-02-28 02:16:09,932] Trial 147 finished with value: 0.70615 and parameters: {'lgbm_min_child_samples': 5, 'lgbm_learning_rate': 0.02016395685960337, 'lgbm_num_leaves': 5, 'lgbm_num_iterations': 500, 'lgbm_bagging_fraction': 0.9, 'lgbm_feature_fraction': 0.6000000000000001, 'lgbm_bagging_freq': 8}. Best is trial 117 with value: 0.74555.\n",
      "[I 2021-02-28 02:16:11,341] Trial 148 pruned. \n",
      "[I 2021-02-28 02:16:13,693] Trial 149 finished with value: 0.73305 and parameters: {'lgbm_min_child_samples': 2, 'lgbm_learning_rate': 0.024598359629259138, 'lgbm_num_leaves': 6, 'lgbm_num_iterations': 300, 'lgbm_bagging_fraction': 0.9, 'lgbm_feature_fraction': 0.6000000000000001, 'lgbm_bagging_freq': 10}. Best is trial 117 with value: 0.74555.\n",
      "[I 2021-02-28 02:16:17,569] Trial 150 finished with value: 0.6346999999999999 and parameters: {'lgbm_min_child_samples': 3, 'lgbm_learning_rate': 0.2332346603798212, 'lgbm_num_leaves': 13, 'lgbm_num_iterations': 400, 'lgbm_bagging_fraction': 0.8, 'lgbm_feature_fraction': 0.6000000000000001, 'lgbm_bagging_freq': 10}. Best is trial 117 with value: 0.74555.\n",
      "[I 2021-02-28 02:16:19,640] Trial 151 finished with value: 0.6916000000000001 and parameters: {'lgbm_min_child_samples': 3, 'lgbm_learning_rate': 0.02048646227976115, 'lgbm_num_leaves': 3, 'lgbm_num_iterations': 300, 'lgbm_bagging_fraction': 0.8, 'lgbm_feature_fraction': 0.5, 'lgbm_bagging_freq': 10}. Best is trial 117 with value: 0.74555.\n",
      "[I 2021-02-28 02:16:20,594] Trial 152 pruned. \n",
      "[I 2021-02-28 02:16:22,668] Trial 153 finished with value: 0.7244 and parameters: {'lgbm_min_child_samples': 2, 'lgbm_learning_rate': 0.013412763858907675, 'lgbm_num_leaves': 7, 'lgbm_num_iterations': 300, 'lgbm_bagging_fraction': 0.9, 'lgbm_feature_fraction': 0.5, 'lgbm_bagging_freq': 9}. Best is trial 117 with value: 0.74555.\n",
      "[I 2021-02-28 02:16:24,290] Trial 154 finished with value: 0.6713 and parameters: {'lgbm_min_child_samples': 12, 'lgbm_learning_rate': 0.010111793857645704, 'lgbm_num_leaves': 3, 'lgbm_num_iterations': 300, 'lgbm_bagging_fraction': 0.9, 'lgbm_feature_fraction': 0.6000000000000001, 'lgbm_bagging_freq': 10}. Best is trial 117 with value: 0.74555.\n",
      "[I 2021-02-28 02:16:25,752] Trial 155 finished with value: 0.71195 and parameters: {'lgbm_min_child_samples': 2, 'lgbm_learning_rate': 0.03364223710318632, 'lgbm_num_leaves': 4, 'lgbm_num_iterations': 300, 'lgbm_bagging_fraction': 0.9, 'lgbm_feature_fraction': 0.7000000000000001, 'lgbm_bagging_freq': 11}. Best is trial 117 with value: 0.74555.\n",
      "[I 2021-02-28 02:16:27,414] Trial 156 finished with value: 0.6944999999999999 and parameters: {'lgbm_min_child_samples': 10, 'lgbm_learning_rate': 0.09354452983662671, 'lgbm_num_leaves': 2, 'lgbm_num_iterations': 500, 'lgbm_bagging_fraction': 0.7000000000000001, 'lgbm_feature_fraction': 0.5, 'lgbm_bagging_freq': 9}. Best is trial 117 with value: 0.74555.\n",
      "[I 2021-02-28 02:16:29,738] Trial 157 finished with value: 0.7295499999999999 and parameters: {'lgbm_min_child_samples': 2, 'lgbm_learning_rate': 0.019556420803243577, 'lgbm_num_leaves': 7, 'lgbm_num_iterations': 300, 'lgbm_bagging_fraction': 0.9, 'lgbm_feature_fraction': 0.6000000000000001, 'lgbm_bagging_freq': 10}. Best is trial 117 with value: 0.74555.\n",
      "[I 2021-02-28 02:16:30,964] Trial 158 finished with value: 0.7323999999999999 and parameters: {'lgbm_min_child_samples': 3, 'lgbm_learning_rate': 0.031194470781652675, 'lgbm_num_leaves': 5, 'lgbm_num_iterations': 500, 'lgbm_bagging_fraction': 1.0}. Best is trial 117 with value: 0.74555.\n",
      "[I 2021-02-28 02:16:31,880] Trial 159 finished with value: 0.73965 and parameters: {'lgbm_min_child_samples': 2, 'lgbm_learning_rate': 0.030100804508642016, 'lgbm_num_leaves': 5, 'lgbm_num_iterations': 500, 'lgbm_bagging_fraction': 1.0}. Best is trial 117 with value: 0.74555.\n",
      "[I 2021-02-28 02:16:32,965] Trial 160 finished with value: 0.7172999999999999 and parameters: {'lgbm_min_child_samples': 5, 'lgbm_learning_rate': 0.021729087656436438, 'lgbm_num_leaves': 10, 'lgbm_num_iterations': 500, 'lgbm_bagging_fraction': 1.0}. Best is trial 117 with value: 0.74555.\n",
      "[I 2021-02-28 02:16:34,373] Trial 161 finished with value: 0.72245 and parameters: {'lgbm_min_child_samples': 5, 'lgbm_learning_rate': 0.01061699291420834, 'lgbm_num_leaves': 14, 'lgbm_num_iterations': 400, 'lgbm_bagging_fraction': 1.0}. Best is trial 117 with value: 0.74555.\n",
      "[I 2021-02-28 02:16:35,202] Trial 162 finished with value: 0.7171 and parameters: {'lgbm_min_child_samples': 2, 'lgbm_learning_rate': 0.030182210453881312, 'lgbm_num_leaves': 6, 'lgbm_num_iterations': 300, 'lgbm_bagging_fraction': 1.0}. Best is trial 117 with value: 0.74555.\n",
      "[I 2021-02-28 02:16:36,069] Trial 163 finished with value: 0.7225 and parameters: {'lgbm_min_child_samples': 3, 'lgbm_learning_rate': 0.03431922486172445, 'lgbm_num_leaves': 7, 'lgbm_num_iterations': 500, 'lgbm_bagging_fraction': 1.0}. Best is trial 117 with value: 0.74555.\n",
      "[I 2021-02-28 02:16:36,630] Trial 164 finished with value: 0.63835 and parameters: {'lgbm_min_child_samples': 72, 'lgbm_learning_rate': 0.27568783860292906, 'lgbm_num_leaves': 29, 'lgbm_num_iterations': 500, 'lgbm_bagging_fraction': 0.7000000000000001, 'lgbm_feature_fraction': 0.7000000000000001, 'lgbm_bagging_freq': 11}. Best is trial 117 with value: 0.74555.\n",
      "[I 2021-02-28 02:16:37,298] Trial 165 finished with value: 0.6967 and parameters: {'lgbm_min_child_samples': 2, 'lgbm_learning_rate': 0.0217318738588542, 'lgbm_num_leaves': 4, 'lgbm_num_iterations': 500, 'lgbm_bagging_fraction': 0.9, 'lgbm_feature_fraction': 0.6000000000000001, 'lgbm_bagging_freq': 8}. Best is trial 117 with value: 0.74555.\n",
      "[I 2021-02-28 02:16:38,152] Trial 166 finished with value: 0.7163499999999999 and parameters: {'lgbm_min_child_samples': 2, 'lgbm_learning_rate': 0.026216236708371442, 'lgbm_num_leaves': 6, 'lgbm_num_iterations': 500, 'lgbm_bagging_fraction': 1.0}. Best is trial 117 with value: 0.74555.\n",
      "[I 2021-02-28 02:16:39,082] Trial 167 finished with value: 0.73665 and parameters: {'lgbm_min_child_samples': 2, 'lgbm_learning_rate': 0.0188068675453096, 'lgbm_num_leaves': 8, 'lgbm_num_iterations': 400, 'lgbm_bagging_fraction': 1.0}. Best is trial 117 with value: 0.74555.\n",
      "[I 2021-02-28 02:16:40,352] Trial 168 finished with value: 0.71265 and parameters: {'lgbm_min_child_samples': 2, 'lgbm_learning_rate': 0.02287214521455959, 'lgbm_num_leaves': 7, 'lgbm_num_iterations': 400, 'lgbm_bagging_fraction': 0.9, 'lgbm_feature_fraction': 0.4, 'lgbm_bagging_freq': 10}. Best is trial 117 with value: 0.74555.\n",
      "[I 2021-02-28 02:16:41,475] Trial 169 finished with value: 0.66225 and parameters: {'lgbm_min_child_samples': 2, 'lgbm_learning_rate': 0.22166781343044525, 'lgbm_num_leaves': 35, 'lgbm_num_iterations': 300, 'lgbm_bagging_fraction': 0.9, 'lgbm_feature_fraction': 0.5, 'lgbm_bagging_freq': 9}. Best is trial 117 with value: 0.74555.\n",
      "[I 2021-02-28 02:16:42,418] Trial 170 finished with value: 0.72915 and parameters: {'lgbm_min_child_samples': 3, 'lgbm_learning_rate': 0.017829054541042492, 'lgbm_num_leaves': 9, 'lgbm_num_iterations': 400, 'lgbm_bagging_fraction': 1.0}. Best is trial 117 with value: 0.74555.\n",
      "[I 2021-02-28 02:16:43,091] Trial 171 finished with value: 0.728 and parameters: {'lgbm_min_child_samples': 2, 'lgbm_learning_rate': 0.012821449784150882, 'lgbm_num_leaves': 10, 'lgbm_num_iterations': 300, 'lgbm_bagging_fraction': 0.8, 'lgbm_feature_fraction': 0.5, 'lgbm_bagging_freq': 7}. Best is trial 117 with value: 0.74555.\n",
      "[I 2021-02-28 02:16:44,493] Trial 172 finished with value: 0.66225 and parameters: {'lgbm_min_child_samples': 17, 'lgbm_learning_rate': 0.03494427122160604, 'lgbm_num_leaves': 45, 'lgbm_num_iterations': 400, 'lgbm_bagging_fraction': 0.7000000000000001, 'lgbm_feature_fraction': 0.6000000000000001, 'lgbm_bagging_freq': 11}. Best is trial 117 with value: 0.74555.\n",
      "[I 2021-02-28 02:16:45,262] Trial 173 finished with value: 0.7265 and parameters: {'lgbm_min_child_samples': 2, 'lgbm_learning_rate': 0.04204742799186917, 'lgbm_num_leaves': 5, 'lgbm_num_iterations': 500, 'lgbm_bagging_fraction': 1.0}. Best is trial 117 with value: 0.74555.\n",
      "[I 2021-02-28 02:16:48,625] Trial 174 finished with value: 0.7001 and parameters: {'lgbm_min_child_samples': 3, 'lgbm_learning_rate': 0.024437497877552426, 'lgbm_num_leaves': 50, 'lgbm_num_iterations': 300, 'lgbm_bagging_fraction': 0.5, 'lgbm_feature_fraction': 0.7000000000000001, 'lgbm_bagging_freq': 8}. Best is trial 117 with value: 0.74555.\n",
      "[I 2021-02-28 02:16:49,466] Trial 175 finished with value: 0.7388 and parameters: {'lgbm_min_child_samples': 2, 'lgbm_learning_rate': 0.021215795004665514, 'lgbm_num_leaves': 7, 'lgbm_num_iterations': 400, 'lgbm_bagging_fraction': 1.0}. Best is trial 117 with value: 0.74555.\n",
      "[I 2021-02-28 02:16:50,408] Trial 176 finished with value: 0.7258 and parameters: {'lgbm_min_child_samples': 2, 'lgbm_learning_rate': 0.012623691415337245, 'lgbm_num_leaves': 8, 'lgbm_num_iterations': 400, 'lgbm_bagging_fraction': 1.0}. Best is trial 117 with value: 0.74555.\n",
      "[I 2021-02-28 02:16:51,358] Trial 177 finished with value: 0.6981999999999999 and parameters: {'lgbm_min_child_samples': 3, 'lgbm_learning_rate': 0.011312950252847417, 'lgbm_num_leaves': 4, 'lgbm_num_iterations': 400, 'lgbm_bagging_fraction': 1.0}. Best is trial 117 with value: 0.74555.\n",
      "[I 2021-02-28 02:16:52,191] Trial 178 finished with value: 0.7277 and parameters: {'lgbm_min_child_samples': 2, 'lgbm_learning_rate': 0.03740167147128916, 'lgbm_num_leaves': 5, 'lgbm_num_iterations': 400, 'lgbm_bagging_fraction': 0.9, 'lgbm_feature_fraction': 0.6000000000000001, 'lgbm_bagging_freq': 9}. Best is trial 117 with value: 0.74555.\n",
      "[I 2021-02-28 02:16:52,486] Trial 179 pruned. \n",
      "[I 2021-02-28 02:16:53,429] Trial 180 finished with value: 0.7165 and parameters: {'lgbm_min_child_samples': 2, 'lgbm_learning_rate': 0.03522993759989854, 'lgbm_num_leaves': 9, 'lgbm_num_iterations': 400, 'lgbm_bagging_fraction': 1.0}. Best is trial 117 with value: 0.74555.\n",
      "[I 2021-02-28 02:16:54,012] Trial 181 finished with value: 0.72285 and parameters: {'lgbm_min_child_samples': 2, 'lgbm_learning_rate': 0.022650388412310887, 'lgbm_num_leaves': 5, 'lgbm_num_iterations': 400, 'lgbm_bagging_fraction': 1.0}. Best is trial 117 with value: 0.74555.\n",
      "[I 2021-02-28 02:16:55,490] Trial 182 finished with value: 0.70845 and parameters: {'lgbm_min_child_samples': 4, 'lgbm_learning_rate': 0.018628179748076436, 'lgbm_num_leaves': 11, 'lgbm_num_iterations': 400, 'lgbm_bagging_fraction': 0.9, 'lgbm_feature_fraction': 0.4, 'lgbm_bagging_freq': 10}. Best is trial 117 with value: 0.74555.\n",
      "[I 2021-02-28 02:16:56,344] Trial 183 finished with value: 0.7158 and parameters: {'lgbm_min_child_samples': 2, 'lgbm_learning_rate': 0.05261119823215287, 'lgbm_num_leaves': 6, 'lgbm_num_iterations': 500, 'lgbm_bagging_fraction': 1.0}. Best is trial 117 with value: 0.74555.\n",
      "[I 2021-02-28 02:16:57,512] Trial 184 finished with value: 0.7316 and parameters: {'lgbm_min_child_samples': 2, 'lgbm_learning_rate': 0.019162517745468663, 'lgbm_num_leaves': 7, 'lgbm_num_iterations': 500, 'lgbm_bagging_fraction': 1.0}. Best is trial 117 with value: 0.74555.\n",
      "[I 2021-02-28 02:16:58,346] Trial 185 finished with value: 0.73025 and parameters: {'lgbm_min_child_samples': 2, 'lgbm_learning_rate': 0.02136281742591614, 'lgbm_num_leaves': 8, 'lgbm_num_iterations': 400, 'lgbm_bagging_fraction': 1.0}. Best is trial 117 with value: 0.74555.\n",
      "[I 2021-02-28 02:16:59,141] Trial 186 finished with value: 0.73735 and parameters: {'lgbm_min_child_samples': 2, 'lgbm_learning_rate': 0.0103728671931286, 'lgbm_num_leaves': 12, 'lgbm_num_iterations': 300, 'lgbm_bagging_fraction': 0.9, 'lgbm_feature_fraction': 0.7000000000000001, 'lgbm_bagging_freq': 9}. Best is trial 117 with value: 0.74555.\n",
      "[I 2021-02-28 02:17:00,366] Trial 187 finished with value: 0.7222500000000001 and parameters: {'lgbm_min_child_samples': 2, 'lgbm_learning_rate': 0.015953563363881325, 'lgbm_num_leaves': 13, 'lgbm_num_iterations': 300, 'lgbm_bagging_fraction': 1.0}. Best is trial 117 with value: 0.74555.\n",
      "[I 2021-02-28 02:17:00,881] Trial 188 finished with value: 0.7091500000000001 and parameters: {'lgbm_min_child_samples': 4, 'lgbm_learning_rate': 0.028362933053591943, 'lgbm_num_leaves': 3, 'lgbm_num_iterations': 500, 'lgbm_bagging_fraction': 1.0}. Best is trial 117 with value: 0.74555.\n",
      "[I 2021-02-28 02:17:02,244] Trial 189 finished with value: 0.7292000000000001 and parameters: {'lgbm_min_child_samples': 3, 'lgbm_learning_rate': 0.016435316698262172, 'lgbm_num_leaves': 15, 'lgbm_num_iterations': 300, 'lgbm_bagging_fraction': 0.9, 'lgbm_feature_fraction': 0.7000000000000001, 'lgbm_bagging_freq': 10}. Best is trial 117 with value: 0.74555.\n",
      "[I 2021-02-28 02:17:03,121] Trial 190 finished with value: 0.7055 and parameters: {'lgbm_min_child_samples': 4, 'lgbm_learning_rate': 0.019481472210967462, 'lgbm_num_leaves': 6, 'lgbm_num_iterations': 300, 'lgbm_bagging_fraction': 0.8, 'lgbm_feature_fraction': 0.8, 'lgbm_bagging_freq': 9}. Best is trial 117 with value: 0.74555.\n",
      "[I 2021-02-28 02:17:03,860] Trial 191 finished with value: 0.7091000000000001 and parameters: {'lgbm_min_child_samples': 4, 'lgbm_learning_rate': 0.013145648657316931, 'lgbm_num_leaves': 8, 'lgbm_num_iterations': 300, 'lgbm_bagging_fraction': 1.0}. Best is trial 117 with value: 0.74555.\n",
      "[I 2021-02-28 02:17:04,682] Trial 192 finished with value: 0.7112999999999999 and parameters: {'lgbm_min_child_samples': 2, 'lgbm_learning_rate': 0.01046926396272931, 'lgbm_num_leaves': 10, 'lgbm_num_iterations': 300, 'lgbm_bagging_fraction': 0.8, 'lgbm_feature_fraction': 0.8, 'lgbm_bagging_freq': 10}. Best is trial 117 with value: 0.74555.\n",
      "[I 2021-02-28 02:17:06,950] Trial 193 finished with value: 0.6972 and parameters: {'lgbm_min_child_samples': 2, 'lgbm_learning_rate': 0.020709510291844164, 'lgbm_num_leaves': 22, 'lgbm_num_iterations': 400, 'lgbm_bagging_fraction': 1.0}. Best is trial 117 with value: 0.74555.\n",
      "[I 2021-02-28 02:17:08,469] Trial 194 finished with value: 0.72475 and parameters: {'lgbm_min_child_samples': 2, 'lgbm_learning_rate': 0.012030354548786787, 'lgbm_num_leaves': 16, 'lgbm_num_iterations': 300, 'lgbm_bagging_fraction': 0.9, 'lgbm_feature_fraction': 0.7000000000000001, 'lgbm_bagging_freq': 11}. Best is trial 117 with value: 0.74555.\n",
      "[I 2021-02-28 02:17:09,396] Trial 195 finished with value: 0.71565 and parameters: {'lgbm_min_child_samples': 4, 'lgbm_learning_rate': 0.018947486881544514, 'lgbm_num_leaves': 5, 'lgbm_num_iterations': 500, 'lgbm_bagging_fraction': 1.0}. Best is trial 117 with value: 0.74555.\n",
      "[I 2021-02-28 02:17:10,007] Trial 196 finished with value: 0.6975 and parameters: {'lgbm_min_child_samples': 2, 'lgbm_learning_rate': 0.031410175668574326, 'lgbm_num_leaves': 3, 'lgbm_num_iterations': 500, 'lgbm_bagging_fraction': 0.9, 'lgbm_feature_fraction': 0.6000000000000001, 'lgbm_bagging_freq': 9}. Best is trial 117 with value: 0.74555.\n",
      "[I 2021-02-28 02:17:10,714] Trial 197 finished with value: 0.712 and parameters: {'lgbm_min_child_samples': 3, 'lgbm_learning_rate': 0.03561929897335165, 'lgbm_num_leaves': 4, 'lgbm_num_iterations': 300, 'lgbm_bagging_fraction': 0.7000000000000001, 'lgbm_feature_fraction': 0.6000000000000001, 'lgbm_bagging_freq': 10}. Best is trial 117 with value: 0.74555.\n",
      "[I 2021-02-28 02:17:12,261] Trial 198 finished with value: 0.7225 and parameters: {'lgbm_min_child_samples': 2, 'lgbm_learning_rate': 0.031391957858669176, 'lgbm_num_leaves': 12, 'lgbm_num_iterations': 300, 'lgbm_bagging_fraction': 0.8, 'lgbm_feature_fraction': 0.7000000000000001, 'lgbm_bagging_freq': 11}. Best is trial 117 with value: 0.74555.\n",
      "189it [05:09,  1.64s/it, 309.82/309.1196792125702 seconds]\n",
      "02:17:13 | Best Params: {'random_seed': 42, 'num_iterations': 500, 'verbose': -1, 'device_type': 'cpu', 'objective': 'binary', 'min_child_samples': 2, 'learning_rate': 0.023884929601125395, 'num_leaves': 5, 'bagging_fraction': 1.0}\n"
     ]
    }
   ],
   "source": [
    "model = opt.opt(X_train, y_train, timeout=300, verbose=3)"
   ]
  },
  {
   "cell_type": "code",
   "execution_count": 42,
   "metadata": {},
   "outputs": [
    {
     "output_type": "stream",
     "name": "stdout",
     "text": [
      "Test AUC:  0.8277\n"
     ]
    }
   ],
   "source": [
    "model = model.fit(X_train, y_train)\n",
    "predicts = model.predict_proba(X_test)\n",
    "print('Test AUC: ', round(sklearn.metrics.roc_auc_score(y_test, predicts),4))"
   ]
  },
  {
   "cell_type": "code",
   "execution_count": 43,
   "metadata": {},
   "outputs": [
    {
     "output_type": "stream",
     "name": "stdout",
     "text": [
      "Finished loading model, total used 300 iterations\n",
      "Finished loading model, total used 300 iterations\n",
      "Finished loading model, total used 300 iterations\n",
      "Finished loading model, total used 300 iterations\n",
      "Finished loading model, total used 300 iterations\n",
      "Finished loading model, total used 300 iterations\n",
      "Finished loading model, total used 300 iterations\n",
      "Finished loading model, total used 300 iterations\n",
      "Finished loading model, total used 300 iterations\n",
      "Finished loading model, total used 300 iterations\n"
     ]
    }
   ],
   "source": [
    "cv = CrossValidation(\n",
    "        estimator=model,\n",
    "        folds=opt.folds,\n",
    "        score_folds=folds,\n",
    "        n_repeats=1,\n",
    "        print_metric=False, \n",
    "        metric_round=4, \n",
    "        random_state=RANDOM_SEED\n",
    "        )\n",
    "cv.fit(X_train, y_train)"
   ]
  },
  {
   "cell_type": "code",
   "execution_count": 44,
   "metadata": {},
   "outputs": [
    {
     "output_type": "stream",
     "name": "stdout",
     "text": [
      "Test AUC:  0.827\n"
     ]
    }
   ],
   "source": [
    "predicts = cv.predict_test(X_test)\n",
    "print('Test AUC: ', round(sklearn.metrics.roc_auc_score(y_test, predicts),4))"
   ]
  },
  {
   "cell_type": "code",
   "execution_count": null,
   "metadata": {},
   "outputs": [],
   "source": []
  },
  {
   "cell_type": "code",
   "execution_count": null,
   "metadata": {},
   "outputs": [],
   "source": []
  },
  {
   "cell_type": "code",
   "execution_count": null,
   "metadata": {},
   "outputs": [],
   "source": []
  },
  {
   "cell_type": "code",
   "execution_count": 49,
   "metadata": {},
   "outputs": [
    {
     "output_type": "stream",
     "name": "stdout",
     "text": [
      "Test AUC:  0.8151\n"
     ]
    }
   ],
   "source": [
    "predicts = model.predict_proba(X_test)\n",
    "print('Test AUC: ', round(sklearn.metrics.roc_auc_score(y_test, predicts),4))"
   ]
  },
  {
   "cell_type": "code",
   "execution_count": 50,
   "metadata": {},
   "outputs": [
    {
     "output_type": "stream",
     "name": "stderr",
     "text": [
      "23:24:29 | roc_auc_score: 0.8151\n"
     ]
    }
   ],
   "source": [
    "# or just use .score()\n",
    "score = model.score(\n",
    "    X_test, y_test,\n",
    "    metric=sklearn.metrics.roc_auc_score,\n",
    "    metric_round=4,\n",
    "    print_metric=True,\n",
    "    )"
   ]
  },
  {
   "cell_type": "code",
   "execution_count": 51,
   "metadata": {},
   "outputs": [],
   "source": [
    "from automl_alex import CrossValidation"
   ]
  },
  {
   "cell_type": "code",
   "execution_count": 52,
   "metadata": {},
   "outputs": [],
   "source": [
    "cv = CrossValidation(\n",
    "        estimator=model,\n",
    "        folds=10,\n",
    "        score_folds=5,\n",
    "        n_repeats=1,\n",
    "        metric=sklearn.metrics.roc_auc_score,\n",
    "        print_metric=False, \n",
    "        metric_round=4, \n",
    "        random_state=RANDOM_SEED\n",
    "        )"
   ]
  },
  {
   "cell_type": "code",
   "execution_count": 53,
   "metadata": {},
   "outputs": [],
   "source": [
    "score, score_std = cv.fit_score(X_train, y_train, print_metric=False)"
   ]
  },
  {
   "cell_type": "code",
   "execution_count": 54,
   "metadata": {},
   "outputs": [],
   "source": [
    "start_score = score - score_std"
   ]
  },
  {
   "cell_type": "code",
   "execution_count": 55,
   "metadata": {},
   "outputs": [
    {
     "output_type": "execute_result",
     "data": {
      "text/plain": [
       "{'random_seed': 42,\n",
       " 'num_iterations': 300,\n",
       " 'verbose': -1,\n",
       " 'device_type': 'cpu',\n",
       " 'objective': 'binary'}"
      ]
     },
     "metadata": {},
     "execution_count": 55
    }
   ],
   "source": [
    "model.model_param"
   ]
  },
  {
   "cell_type": "code",
   "execution_count": 17,
   "metadata": {},
   "outputs": [],
   "source": [
    "def objective(trial, model):\n",
    "    model.model_param = model.get_model_opt_params(\n",
    "            trial=trial, \n",
    "            opt_lvl=4,\n",
    "            )\n",
    "    cv = CrossValidation(\n",
    "        estimator=model,\n",
    "        folds=10,\n",
    "        score_folds=3,\n",
    "        n_repeats=1,\n",
    "        metric=sklearn.metrics.roc_auc_score,\n",
    "        print_metric=False, \n",
    "        metric_round=4, \n",
    "        random_state=RANDOM_SEED\n",
    "        )\n",
    "    score, score_std = cv.fit_score(X_train, y_train, print_metric=False, trial=trial)\n",
    "    if cv._pruned_cv:\n",
    "        raise optuna.TrialPruned()\n",
    "    return(score)"
   ]
  },
  {
   "cell_type": "code",
   "execution_count": 15,
   "metadata": {},
   "outputs": [],
   "source": [
    "def objective(trial):\n",
    "    model = LightGBMClassifier(random_state=RANDOM_SEED)\n",
    "    model.model_param = model.get_model_opt_params(\n",
    "            trial=trial, \n",
    "            opt_lvl=4,\n",
    "            )\n",
    "    model = model.fit(X_train, y_train)\n",
    "    score = model.score(\n",
    "    X_test, y_test,\n",
    "    metric=sklearn.metrics.roc_auc_score,\n",
    "    metric_round=4,\n",
    "    print_metric=False,\n",
    "    )\n",
    "    return(score)"
   ]
  },
  {
   "cell_type": "code",
   "execution_count": 18,
   "metadata": {},
   "outputs": [],
   "source": [
    "optuna.logging.disable_default_handler()"
   ]
  },
  {
   "cell_type": "code",
   "execution_count": 19,
   "metadata": {},
   "outputs": [],
   "source": [
    "model = LightGBMClassifier(random_state=RANDOM_SEED)"
   ]
  },
  {
   "cell_type": "code",
   "execution_count": 20,
   "metadata": {},
   "outputs": [
    {
     "output_type": "execute_result",
     "data": {
      "text/plain": [
       "0.722"
      ]
     },
     "metadata": {},
     "execution_count": 20
    }
   ],
   "source": [
    "start_score"
   ]
  },
  {
   "cell_type": "code",
   "execution_count": 21,
   "metadata": {},
   "outputs": [],
   "source": [
    "study = optuna.create_study(\n",
    "    direction='maximize',\n",
    "    pruner=optuna.pruners.ThresholdPruner(lower=start_score)\n",
    "    )"
   ]
  },
  {
   "cell_type": "code",
   "execution_count": 22,
   "metadata": {},
   "outputs": [],
   "source": [
    "dafault_params = model.get_model_start_opt_params()"
   ]
  },
  {
   "cell_type": "code",
   "execution_count": 23,
   "metadata": {},
   "outputs": [],
   "source": [
    "study.enqueue_trial(dafault_params)"
   ]
  },
  {
   "cell_type": "code",
   "execution_count": 24,
   "metadata": {
    "tags": []
   },
   "outputs": [
    {
     "output_type": "stream",
     "name": "stderr",
     "text": [
      "04:05:33 | Pruned on 0 fold\n",
      "04:05:34 | Pruned on 0 fold\n",
      "04:05:34 | Pruned on 0 fold\n",
      "04:05:35 | Pruned on 0 fold\n",
      "04:05:35 | Pruned on 0 fold\n",
      "04:05:35 | Pruned on 0 fold\n",
      "04:05:36 | Pruned on 0 fold\n",
      "04:05:37 | Pruned on 0 fold\n",
      "04:05:49 | Pruned on 0 fold\n",
      "04:07:04 | Pruned on 0 fold\n",
      "04:07:05 | Pruned on 0 fold\n",
      "04:07:09 | Pruned on 0 fold\n",
      "04:07:14 | Pruned on 0 fold\n",
      "04:07:16 | Pruned on 0 fold\n",
      "04:07:21 | Pruned on 0 fold\n",
      "04:07:52 | Pruned on 0 fold\n",
      "04:07:54 | Pruned on 0 fold\n",
      "04:07:54 | Pruned on 0 fold\n",
      "04:08:01 | Pruned on 0 fold\n",
      "04:08:09 | Pruned on 0 fold\n",
      "04:08:14 | Pruned on 0 fold\n",
      "04:08:41 | Pruned on 0 fold\n",
      "04:09:18 | Pruned on 0 fold\n",
      "04:09:24 | Pruned on 0 fold\n",
      "04:09:25 | Pruned on 0 fold\n",
      "04:09:27 | Pruned on 0 fold\n",
      "04:09:40 | Pruned on 0 fold\n",
      "04:09:54 | Pruned on 0 fold\n",
      "04:10:16 | Pruned on 0 fold\n",
      "04:10:24 | Pruned on 0 fold\n",
      "04:10:42 | Pruned on 0 fold\n",
      "04:11:00 | Pruned on 0 fold\n",
      "04:12:02 | Pruned on 0 fold\n",
      "04:12:44 | Pruned on 0 fold\n",
      "04:12:44 | Pruned on 0 fold\n",
      "04:13:41 | Pruned on 0 fold\n",
      "04:13:41 | Pruned on 0 fold\n",
      "04:13:42 | Pruned on 0 fold\n",
      "04:13:44 | Pruned on 0 fold\n",
      "04:13:52 | Pruned on 0 fold\n"
     ]
    }
   ],
   "source": [
    "\n",
    "study.optimize(lambda trial: objective(trial, model), timeout=500, show_progress_bar=False)"
   ]
  },
  {
   "cell_type": "code",
   "execution_count": 25,
   "metadata": {},
   "outputs": [
    {
     "output_type": "execute_result",
     "data": {
      "text/plain": [
       "{'lgbm_min_child_samples': 3,\n",
       " 'lgbm_bagging_fraction': 0.9,\n",
       " 'lgbm_feature_fraction': 0.9,\n",
       " 'lgbm_bagging_freq': 5,\n",
       " 'lgbm_num_leaves': 14,\n",
       " 'lgbm_learning_rate': 0.008293990812611252,\n",
       " 'lgbm_boosting': 'gbdt',\n",
       " 'lgbm_num_iterations': 600,\n",
       " 'lgbm_objective': 'binary'}"
      ]
     },
     "metadata": {},
     "execution_count": 25
    }
   ],
   "source": [
    "study.best_params "
   ]
  },
  {
   "cell_type": "code",
   "execution_count": 26,
   "metadata": {},
   "outputs": [
    {
     "output_type": "display_data",
     "data": {
      "application/vnd.plotly.v1+json": {
       "config": {
        "plotlyServerURL": "https://plot.ly"
       },
       "data": [
        {
         "mode": "markers",
         "name": "Objective Value",
         "type": "scatter",
         "x": [
          8,
          10,
          11,
          12,
          13,
          14,
          15,
          16,
          17,
          20,
          22,
          25,
          27,
          28,
          29,
          30,
          34,
          38,
          40,
          41,
          42,
          43,
          44,
          45,
          46,
          47,
          49,
          50,
          54,
          56,
          58,
          60,
          62,
          63,
          64,
          65,
          67,
          68,
          70,
          71,
          72,
          73,
          74,
          75,
          77,
          78,
          79,
          80,
          81,
          82,
          83,
          86,
          87,
          88,
          89,
          90,
          94,
          96,
          97,
          98,
          100
         ],
         "y": [
          0.7537,
          0.7519,
          0.7558,
          0.7613,
          0.7526,
          0.764,
          0.7645,
          0.7696,
          0.7702,
          0.7712,
          0.7596,
          0.7493,
          0.7486,
          0.7688,
          0.7404,
          0.7649,
          0.7384,
          0.7542,
          0.7462,
          0.772,
          0.7725,
          0.7666,
          0.7604,
          0.7606,
          0.7634,
          0.7394,
          0.766,
          0.7536,
          0.7561,
          0.7538,
          0.7658,
          0.7674,
          0.7654,
          0.757,
          0.7519,
          0.7419,
          0.7553,
          0.767,
          0.7686,
          0.7632,
          0.7596,
          0.7615,
          0.7554,
          0.7673,
          0.7512,
          0.7602,
          0.7543,
          0.7374,
          0.7655,
          0.7659,
          0.7614,
          0.7617,
          0.7609,
          0.7531,
          0.7653,
          0.7499,
          0.7687,
          0.754,
          0.7668,
          0.7625,
          0.7625
         ]
        },
        {
         "name": "Best Value",
         "type": "scatter",
         "x": [
          8,
          10,
          11,
          12,
          13,
          14,
          15,
          16,
          17,
          20,
          22,
          25,
          27,
          28,
          29,
          30,
          34,
          38,
          40,
          41,
          42,
          43,
          44,
          45,
          46,
          47,
          49,
          50,
          54,
          56,
          58,
          60,
          62,
          63,
          64,
          65,
          67,
          68,
          70,
          71,
          72,
          73,
          74,
          75,
          77,
          78,
          79,
          80,
          81,
          82,
          83,
          86,
          87,
          88,
          89,
          90,
          94,
          96,
          97,
          98,
          100
         ],
         "y": [
          0.7537,
          0.7537,
          0.7558,
          0.7613,
          0.7613,
          0.764,
          0.7645,
          0.7696,
          0.7702,
          0.7712,
          0.7712,
          0.7712,
          0.7712,
          0.7712,
          0.7712,
          0.7712,
          0.7712,
          0.7712,
          0.7712,
          0.772,
          0.7725,
          0.7725,
          0.7725,
          0.7725,
          0.7725,
          0.7725,
          0.7725,
          0.7725,
          0.7725,
          0.7725,
          0.7725,
          0.7725,
          0.7725,
          0.7725,
          0.7725,
          0.7725,
          0.7725,
          0.7725,
          0.7725,
          0.7725,
          0.7725,
          0.7725,
          0.7725,
          0.7725,
          0.7725,
          0.7725,
          0.7725,
          0.7725,
          0.7725,
          0.7725,
          0.7725,
          0.7725,
          0.7725,
          0.7725,
          0.7725,
          0.7725,
          0.7725,
          0.7725,
          0.7725,
          0.7725,
          0.7725
         ]
        }
       ],
       "layout": {
        "template": {
         "data": {
          "bar": [
           {
            "error_x": {
             "color": "#2a3f5f"
            },
            "error_y": {
             "color": "#2a3f5f"
            },
            "marker": {
             "line": {
              "color": "#E5ECF6",
              "width": 0.5
             }
            },
            "type": "bar"
           }
          ],
          "barpolar": [
           {
            "marker": {
             "line": {
              "color": "#E5ECF6",
              "width": 0.5
             }
            },
            "type": "barpolar"
           }
          ],
          "carpet": [
           {
            "aaxis": {
             "endlinecolor": "#2a3f5f",
             "gridcolor": "white",
             "linecolor": "white",
             "minorgridcolor": "white",
             "startlinecolor": "#2a3f5f"
            },
            "baxis": {
             "endlinecolor": "#2a3f5f",
             "gridcolor": "white",
             "linecolor": "white",
             "minorgridcolor": "white",
             "startlinecolor": "#2a3f5f"
            },
            "type": "carpet"
           }
          ],
          "choropleth": [
           {
            "colorbar": {
             "outlinewidth": 0,
             "ticks": ""
            },
            "type": "choropleth"
           }
          ],
          "contour": [
           {
            "colorbar": {
             "outlinewidth": 0,
             "ticks": ""
            },
            "colorscale": [
             [
              0,
              "#0d0887"
             ],
             [
              0.1111111111111111,
              "#46039f"
             ],
             [
              0.2222222222222222,
              "#7201a8"
             ],
             [
              0.3333333333333333,
              "#9c179e"
             ],
             [
              0.4444444444444444,
              "#bd3786"
             ],
             [
              0.5555555555555556,
              "#d8576b"
             ],
             [
              0.6666666666666666,
              "#ed7953"
             ],
             [
              0.7777777777777778,
              "#fb9f3a"
             ],
             [
              0.8888888888888888,
              "#fdca26"
             ],
             [
              1,
              "#f0f921"
             ]
            ],
            "type": "contour"
           }
          ],
          "contourcarpet": [
           {
            "colorbar": {
             "outlinewidth": 0,
             "ticks": ""
            },
            "type": "contourcarpet"
           }
          ],
          "heatmap": [
           {
            "colorbar": {
             "outlinewidth": 0,
             "ticks": ""
            },
            "colorscale": [
             [
              0,
              "#0d0887"
             ],
             [
              0.1111111111111111,
              "#46039f"
             ],
             [
              0.2222222222222222,
              "#7201a8"
             ],
             [
              0.3333333333333333,
              "#9c179e"
             ],
             [
              0.4444444444444444,
              "#bd3786"
             ],
             [
              0.5555555555555556,
              "#d8576b"
             ],
             [
              0.6666666666666666,
              "#ed7953"
             ],
             [
              0.7777777777777778,
              "#fb9f3a"
             ],
             [
              0.8888888888888888,
              "#fdca26"
             ],
             [
              1,
              "#f0f921"
             ]
            ],
            "type": "heatmap"
           }
          ],
          "heatmapgl": [
           {
            "colorbar": {
             "outlinewidth": 0,
             "ticks": ""
            },
            "colorscale": [
             [
              0,
              "#0d0887"
             ],
             [
              0.1111111111111111,
              "#46039f"
             ],
             [
              0.2222222222222222,
              "#7201a8"
             ],
             [
              0.3333333333333333,
              "#9c179e"
             ],
             [
              0.4444444444444444,
              "#bd3786"
             ],
             [
              0.5555555555555556,
              "#d8576b"
             ],
             [
              0.6666666666666666,
              "#ed7953"
             ],
             [
              0.7777777777777778,
              "#fb9f3a"
             ],
             [
              0.8888888888888888,
              "#fdca26"
             ],
             [
              1,
              "#f0f921"
             ]
            ],
            "type": "heatmapgl"
           }
          ],
          "histogram": [
           {
            "marker": {
             "colorbar": {
              "outlinewidth": 0,
              "ticks": ""
             }
            },
            "type": "histogram"
           }
          ],
          "histogram2d": [
           {
            "colorbar": {
             "outlinewidth": 0,
             "ticks": ""
            },
            "colorscale": [
             [
              0,
              "#0d0887"
             ],
             [
              0.1111111111111111,
              "#46039f"
             ],
             [
              0.2222222222222222,
              "#7201a8"
             ],
             [
              0.3333333333333333,
              "#9c179e"
             ],
             [
              0.4444444444444444,
              "#bd3786"
             ],
             [
              0.5555555555555556,
              "#d8576b"
             ],
             [
              0.6666666666666666,
              "#ed7953"
             ],
             [
              0.7777777777777778,
              "#fb9f3a"
             ],
             [
              0.8888888888888888,
              "#fdca26"
             ],
             [
              1,
              "#f0f921"
             ]
            ],
            "type": "histogram2d"
           }
          ],
          "histogram2dcontour": [
           {
            "colorbar": {
             "outlinewidth": 0,
             "ticks": ""
            },
            "colorscale": [
             [
              0,
              "#0d0887"
             ],
             [
              0.1111111111111111,
              "#46039f"
             ],
             [
              0.2222222222222222,
              "#7201a8"
             ],
             [
              0.3333333333333333,
              "#9c179e"
             ],
             [
              0.4444444444444444,
              "#bd3786"
             ],
             [
              0.5555555555555556,
              "#d8576b"
             ],
             [
              0.6666666666666666,
              "#ed7953"
             ],
             [
              0.7777777777777778,
              "#fb9f3a"
             ],
             [
              0.8888888888888888,
              "#fdca26"
             ],
             [
              1,
              "#f0f921"
             ]
            ],
            "type": "histogram2dcontour"
           }
          ],
          "mesh3d": [
           {
            "colorbar": {
             "outlinewidth": 0,
             "ticks": ""
            },
            "type": "mesh3d"
           }
          ],
          "parcoords": [
           {
            "line": {
             "colorbar": {
              "outlinewidth": 0,
              "ticks": ""
             }
            },
            "type": "parcoords"
           }
          ],
          "pie": [
           {
            "automargin": true,
            "type": "pie"
           }
          ],
          "scatter": [
           {
            "marker": {
             "colorbar": {
              "outlinewidth": 0,
              "ticks": ""
             }
            },
            "type": "scatter"
           }
          ],
          "scatter3d": [
           {
            "line": {
             "colorbar": {
              "outlinewidth": 0,
              "ticks": ""
             }
            },
            "marker": {
             "colorbar": {
              "outlinewidth": 0,
              "ticks": ""
             }
            },
            "type": "scatter3d"
           }
          ],
          "scattercarpet": [
           {
            "marker": {
             "colorbar": {
              "outlinewidth": 0,
              "ticks": ""
             }
            },
            "type": "scattercarpet"
           }
          ],
          "scattergeo": [
           {
            "marker": {
             "colorbar": {
              "outlinewidth": 0,
              "ticks": ""
             }
            },
            "type": "scattergeo"
           }
          ],
          "scattergl": [
           {
            "marker": {
             "colorbar": {
              "outlinewidth": 0,
              "ticks": ""
             }
            },
            "type": "scattergl"
           }
          ],
          "scattermapbox": [
           {
            "marker": {
             "colorbar": {
              "outlinewidth": 0,
              "ticks": ""
             }
            },
            "type": "scattermapbox"
           }
          ],
          "scatterpolar": [
           {
            "marker": {
             "colorbar": {
              "outlinewidth": 0,
              "ticks": ""
             }
            },
            "type": "scatterpolar"
           }
          ],
          "scatterpolargl": [
           {
            "marker": {
             "colorbar": {
              "outlinewidth": 0,
              "ticks": ""
             }
            },
            "type": "scatterpolargl"
           }
          ],
          "scatterternary": [
           {
            "marker": {
             "colorbar": {
              "outlinewidth": 0,
              "ticks": ""
             }
            },
            "type": "scatterternary"
           }
          ],
          "surface": [
           {
            "colorbar": {
             "outlinewidth": 0,
             "ticks": ""
            },
            "colorscale": [
             [
              0,
              "#0d0887"
             ],
             [
              0.1111111111111111,
              "#46039f"
             ],
             [
              0.2222222222222222,
              "#7201a8"
             ],
             [
              0.3333333333333333,
              "#9c179e"
             ],
             [
              0.4444444444444444,
              "#bd3786"
             ],
             [
              0.5555555555555556,
              "#d8576b"
             ],
             [
              0.6666666666666666,
              "#ed7953"
             ],
             [
              0.7777777777777778,
              "#fb9f3a"
             ],
             [
              0.8888888888888888,
              "#fdca26"
             ],
             [
              1,
              "#f0f921"
             ]
            ],
            "type": "surface"
           }
          ],
          "table": [
           {
            "cells": {
             "fill": {
              "color": "#EBF0F8"
             },
             "line": {
              "color": "white"
             }
            },
            "header": {
             "fill": {
              "color": "#C8D4E3"
             },
             "line": {
              "color": "white"
             }
            },
            "type": "table"
           }
          ]
         },
         "layout": {
          "annotationdefaults": {
           "arrowcolor": "#2a3f5f",
           "arrowhead": 0,
           "arrowwidth": 1
          },
          "coloraxis": {
           "colorbar": {
            "outlinewidth": 0,
            "ticks": ""
           }
          },
          "colorscale": {
           "diverging": [
            [
             0,
             "#8e0152"
            ],
            [
             0.1,
             "#c51b7d"
            ],
            [
             0.2,
             "#de77ae"
            ],
            [
             0.3,
             "#f1b6da"
            ],
            [
             0.4,
             "#fde0ef"
            ],
            [
             0.5,
             "#f7f7f7"
            ],
            [
             0.6,
             "#e6f5d0"
            ],
            [
             0.7,
             "#b8e186"
            ],
            [
             0.8,
             "#7fbc41"
            ],
            [
             0.9,
             "#4d9221"
            ],
            [
             1,
             "#276419"
            ]
           ],
           "sequential": [
            [
             0,
             "#0d0887"
            ],
            [
             0.1111111111111111,
             "#46039f"
            ],
            [
             0.2222222222222222,
             "#7201a8"
            ],
            [
             0.3333333333333333,
             "#9c179e"
            ],
            [
             0.4444444444444444,
             "#bd3786"
            ],
            [
             0.5555555555555556,
             "#d8576b"
            ],
            [
             0.6666666666666666,
             "#ed7953"
            ],
            [
             0.7777777777777778,
             "#fb9f3a"
            ],
            [
             0.8888888888888888,
             "#fdca26"
            ],
            [
             1,
             "#f0f921"
            ]
           ],
           "sequentialminus": [
            [
             0,
             "#0d0887"
            ],
            [
             0.1111111111111111,
             "#46039f"
            ],
            [
             0.2222222222222222,
             "#7201a8"
            ],
            [
             0.3333333333333333,
             "#9c179e"
            ],
            [
             0.4444444444444444,
             "#bd3786"
            ],
            [
             0.5555555555555556,
             "#d8576b"
            ],
            [
             0.6666666666666666,
             "#ed7953"
            ],
            [
             0.7777777777777778,
             "#fb9f3a"
            ],
            [
             0.8888888888888888,
             "#fdca26"
            ],
            [
             1,
             "#f0f921"
            ]
           ]
          },
          "colorway": [
           "#636efa",
           "#EF553B",
           "#00cc96",
           "#ab63fa",
           "#FFA15A",
           "#19d3f3",
           "#FF6692",
           "#B6E880",
           "#FF97FF",
           "#FECB52"
          ],
          "font": {
           "color": "#2a3f5f"
          },
          "geo": {
           "bgcolor": "white",
           "lakecolor": "white",
           "landcolor": "#E5ECF6",
           "showlakes": true,
           "showland": true,
           "subunitcolor": "white"
          },
          "hoverlabel": {
           "align": "left"
          },
          "hovermode": "closest",
          "mapbox": {
           "style": "light"
          },
          "paper_bgcolor": "white",
          "plot_bgcolor": "#E5ECF6",
          "polar": {
           "angularaxis": {
            "gridcolor": "white",
            "linecolor": "white",
            "ticks": ""
           },
           "bgcolor": "#E5ECF6",
           "radialaxis": {
            "gridcolor": "white",
            "linecolor": "white",
            "ticks": ""
           }
          },
          "scene": {
           "xaxis": {
            "backgroundcolor": "#E5ECF6",
            "gridcolor": "white",
            "gridwidth": 2,
            "linecolor": "white",
            "showbackground": true,
            "ticks": "",
            "zerolinecolor": "white"
           },
           "yaxis": {
            "backgroundcolor": "#E5ECF6",
            "gridcolor": "white",
            "gridwidth": 2,
            "linecolor": "white",
            "showbackground": true,
            "ticks": "",
            "zerolinecolor": "white"
           },
           "zaxis": {
            "backgroundcolor": "#E5ECF6",
            "gridcolor": "white",
            "gridwidth": 2,
            "linecolor": "white",
            "showbackground": true,
            "ticks": "",
            "zerolinecolor": "white"
           }
          },
          "shapedefaults": {
           "line": {
            "color": "#2a3f5f"
           }
          },
          "ternary": {
           "aaxis": {
            "gridcolor": "white",
            "linecolor": "white",
            "ticks": ""
           },
           "baxis": {
            "gridcolor": "white",
            "linecolor": "white",
            "ticks": ""
           },
           "bgcolor": "#E5ECF6",
           "caxis": {
            "gridcolor": "white",
            "linecolor": "white",
            "ticks": ""
           }
          },
          "title": {
           "x": 0.05
          },
          "xaxis": {
           "automargin": true,
           "gridcolor": "white",
           "linecolor": "white",
           "ticks": "",
           "title": {
            "standoff": 15
           },
           "zerolinecolor": "white",
           "zerolinewidth": 2
          },
          "yaxis": {
           "automargin": true,
           "gridcolor": "white",
           "linecolor": "white",
           "ticks": "",
           "title": {
            "standoff": 15
           },
           "zerolinecolor": "white",
           "zerolinewidth": 2
          }
         }
        },
        "title": {
         "text": "Optimization History Plot"
        },
        "xaxis": {
         "title": {
          "text": "#Trials"
         }
        },
        "yaxis": {
         "title": {
          "text": "Objective Value"
         }
        }
       }
      }
     },
     "metadata": {}
    }
   ],
   "source": [
    "optuna.visualization.plot_optimization_history(study)"
   ]
  },
  {
   "cell_type": "code",
   "execution_count": 27,
   "metadata": {},
   "outputs": [
    {
     "output_type": "display_data",
     "data": {
      "application/vnd.plotly.v1+json": {
       "config": {
        "plotlyServerURL": "https://plot.ly"
       },
       "data": [
        {
         "cliponaxis": false,
         "hovertemplate": [
          "lgbm_objective (CategoricalDistribution): 8.785654273771261e-07<extra></extra>",
          "lgbm_min_child_samples (IntLogUniformDistribution): 0.0006402637036298108<extra></extra>",
          "lgbm_boosting (CategoricalDistribution): 0.028230725181593957<extra></extra>",
          "lgbm_bagging_fraction (DiscreteUniformDistribution): 0.1700346750377423<extra></extra>",
          "lgbm_learning_rate (LogUniformDistribution): 0.17114067724553686<extra></extra>",
          "lgbm_num_iterations (IntUniformDistribution): 0.21784491952167187<extra></extra>",
          "lgbm_num_leaves (IntLogUniformDistribution): 0.41210786074439776<extra></extra>"
         ],
         "marker": {
          "color": [
           "rgb(66,146,198)",
           "rgb(8,81,156)",
           "rgb(66,146,198)",
           "rgb(8,48,107)",
           "rgb(8,48,107)",
           "rgb(8,81,156)",
           "rgb(8,81,156)"
          ]
         },
         "orientation": "h",
         "text": [
          "8.785654273771261e-07",
          "0.0006402637036298108",
          "0.028230725181593957",
          "0.1700346750377423",
          "0.17114067724553686",
          "0.21784491952167187",
          "0.41210786074439776"
         ],
         "textposition": "outside",
         "texttemplate": "%{text:.2f}",
         "type": "bar",
         "x": [
          8.785654273771261e-7,
          0.0006402637036298108,
          0.028230725181593957,
          0.1700346750377423,
          0.17114067724553686,
          0.21784491952167187,
          0.41210786074439776
         ],
         "y": [
          "lgbm_objective",
          "lgbm_min_child_samples",
          "lgbm_boosting",
          "lgbm_bagging_fraction",
          "lgbm_learning_rate",
          "lgbm_num_iterations",
          "lgbm_num_leaves"
         ]
        }
       ],
       "layout": {
        "showlegend": false,
        "template": {
         "data": {
          "bar": [
           {
            "error_x": {
             "color": "#2a3f5f"
            },
            "error_y": {
             "color": "#2a3f5f"
            },
            "marker": {
             "line": {
              "color": "#E5ECF6",
              "width": 0.5
             }
            },
            "type": "bar"
           }
          ],
          "barpolar": [
           {
            "marker": {
             "line": {
              "color": "#E5ECF6",
              "width": 0.5
             }
            },
            "type": "barpolar"
           }
          ],
          "carpet": [
           {
            "aaxis": {
             "endlinecolor": "#2a3f5f",
             "gridcolor": "white",
             "linecolor": "white",
             "minorgridcolor": "white",
             "startlinecolor": "#2a3f5f"
            },
            "baxis": {
             "endlinecolor": "#2a3f5f",
             "gridcolor": "white",
             "linecolor": "white",
             "minorgridcolor": "white",
             "startlinecolor": "#2a3f5f"
            },
            "type": "carpet"
           }
          ],
          "choropleth": [
           {
            "colorbar": {
             "outlinewidth": 0,
             "ticks": ""
            },
            "type": "choropleth"
           }
          ],
          "contour": [
           {
            "colorbar": {
             "outlinewidth": 0,
             "ticks": ""
            },
            "colorscale": [
             [
              0,
              "#0d0887"
             ],
             [
              0.1111111111111111,
              "#46039f"
             ],
             [
              0.2222222222222222,
              "#7201a8"
             ],
             [
              0.3333333333333333,
              "#9c179e"
             ],
             [
              0.4444444444444444,
              "#bd3786"
             ],
             [
              0.5555555555555556,
              "#d8576b"
             ],
             [
              0.6666666666666666,
              "#ed7953"
             ],
             [
              0.7777777777777778,
              "#fb9f3a"
             ],
             [
              0.8888888888888888,
              "#fdca26"
             ],
             [
              1,
              "#f0f921"
             ]
            ],
            "type": "contour"
           }
          ],
          "contourcarpet": [
           {
            "colorbar": {
             "outlinewidth": 0,
             "ticks": ""
            },
            "type": "contourcarpet"
           }
          ],
          "heatmap": [
           {
            "colorbar": {
             "outlinewidth": 0,
             "ticks": ""
            },
            "colorscale": [
             [
              0,
              "#0d0887"
             ],
             [
              0.1111111111111111,
              "#46039f"
             ],
             [
              0.2222222222222222,
              "#7201a8"
             ],
             [
              0.3333333333333333,
              "#9c179e"
             ],
             [
              0.4444444444444444,
              "#bd3786"
             ],
             [
              0.5555555555555556,
              "#d8576b"
             ],
             [
              0.6666666666666666,
              "#ed7953"
             ],
             [
              0.7777777777777778,
              "#fb9f3a"
             ],
             [
              0.8888888888888888,
              "#fdca26"
             ],
             [
              1,
              "#f0f921"
             ]
            ],
            "type": "heatmap"
           }
          ],
          "heatmapgl": [
           {
            "colorbar": {
             "outlinewidth": 0,
             "ticks": ""
            },
            "colorscale": [
             [
              0,
              "#0d0887"
             ],
             [
              0.1111111111111111,
              "#46039f"
             ],
             [
              0.2222222222222222,
              "#7201a8"
             ],
             [
              0.3333333333333333,
              "#9c179e"
             ],
             [
              0.4444444444444444,
              "#bd3786"
             ],
             [
              0.5555555555555556,
              "#d8576b"
             ],
             [
              0.6666666666666666,
              "#ed7953"
             ],
             [
              0.7777777777777778,
              "#fb9f3a"
             ],
             [
              0.8888888888888888,
              "#fdca26"
             ],
             [
              1,
              "#f0f921"
             ]
            ],
            "type": "heatmapgl"
           }
          ],
          "histogram": [
           {
            "marker": {
             "colorbar": {
              "outlinewidth": 0,
              "ticks": ""
             }
            },
            "type": "histogram"
           }
          ],
          "histogram2d": [
           {
            "colorbar": {
             "outlinewidth": 0,
             "ticks": ""
            },
            "colorscale": [
             [
              0,
              "#0d0887"
             ],
             [
              0.1111111111111111,
              "#46039f"
             ],
             [
              0.2222222222222222,
              "#7201a8"
             ],
             [
              0.3333333333333333,
              "#9c179e"
             ],
             [
              0.4444444444444444,
              "#bd3786"
             ],
             [
              0.5555555555555556,
              "#d8576b"
             ],
             [
              0.6666666666666666,
              "#ed7953"
             ],
             [
              0.7777777777777778,
              "#fb9f3a"
             ],
             [
              0.8888888888888888,
              "#fdca26"
             ],
             [
              1,
              "#f0f921"
             ]
            ],
            "type": "histogram2d"
           }
          ],
          "histogram2dcontour": [
           {
            "colorbar": {
             "outlinewidth": 0,
             "ticks": ""
            },
            "colorscale": [
             [
              0,
              "#0d0887"
             ],
             [
              0.1111111111111111,
              "#46039f"
             ],
             [
              0.2222222222222222,
              "#7201a8"
             ],
             [
              0.3333333333333333,
              "#9c179e"
             ],
             [
              0.4444444444444444,
              "#bd3786"
             ],
             [
              0.5555555555555556,
              "#d8576b"
             ],
             [
              0.6666666666666666,
              "#ed7953"
             ],
             [
              0.7777777777777778,
              "#fb9f3a"
             ],
             [
              0.8888888888888888,
              "#fdca26"
             ],
             [
              1,
              "#f0f921"
             ]
            ],
            "type": "histogram2dcontour"
           }
          ],
          "mesh3d": [
           {
            "colorbar": {
             "outlinewidth": 0,
             "ticks": ""
            },
            "type": "mesh3d"
           }
          ],
          "parcoords": [
           {
            "line": {
             "colorbar": {
              "outlinewidth": 0,
              "ticks": ""
             }
            },
            "type": "parcoords"
           }
          ],
          "pie": [
           {
            "automargin": true,
            "type": "pie"
           }
          ],
          "scatter": [
           {
            "marker": {
             "colorbar": {
              "outlinewidth": 0,
              "ticks": ""
             }
            },
            "type": "scatter"
           }
          ],
          "scatter3d": [
           {
            "line": {
             "colorbar": {
              "outlinewidth": 0,
              "ticks": ""
             }
            },
            "marker": {
             "colorbar": {
              "outlinewidth": 0,
              "ticks": ""
             }
            },
            "type": "scatter3d"
           }
          ],
          "scattercarpet": [
           {
            "marker": {
             "colorbar": {
              "outlinewidth": 0,
              "ticks": ""
             }
            },
            "type": "scattercarpet"
           }
          ],
          "scattergeo": [
           {
            "marker": {
             "colorbar": {
              "outlinewidth": 0,
              "ticks": ""
             }
            },
            "type": "scattergeo"
           }
          ],
          "scattergl": [
           {
            "marker": {
             "colorbar": {
              "outlinewidth": 0,
              "ticks": ""
             }
            },
            "type": "scattergl"
           }
          ],
          "scattermapbox": [
           {
            "marker": {
             "colorbar": {
              "outlinewidth": 0,
              "ticks": ""
             }
            },
            "type": "scattermapbox"
           }
          ],
          "scatterpolar": [
           {
            "marker": {
             "colorbar": {
              "outlinewidth": 0,
              "ticks": ""
             }
            },
            "type": "scatterpolar"
           }
          ],
          "scatterpolargl": [
           {
            "marker": {
             "colorbar": {
              "outlinewidth": 0,
              "ticks": ""
             }
            },
            "type": "scatterpolargl"
           }
          ],
          "scatterternary": [
           {
            "marker": {
             "colorbar": {
              "outlinewidth": 0,
              "ticks": ""
             }
            },
            "type": "scatterternary"
           }
          ],
          "surface": [
           {
            "colorbar": {
             "outlinewidth": 0,
             "ticks": ""
            },
            "colorscale": [
             [
              0,
              "#0d0887"
             ],
             [
              0.1111111111111111,
              "#46039f"
             ],
             [
              0.2222222222222222,
              "#7201a8"
             ],
             [
              0.3333333333333333,
              "#9c179e"
             ],
             [
              0.4444444444444444,
              "#bd3786"
             ],
             [
              0.5555555555555556,
              "#d8576b"
             ],
             [
              0.6666666666666666,
              "#ed7953"
             ],
             [
              0.7777777777777778,
              "#fb9f3a"
             ],
             [
              0.8888888888888888,
              "#fdca26"
             ],
             [
              1,
              "#f0f921"
             ]
            ],
            "type": "surface"
           }
          ],
          "table": [
           {
            "cells": {
             "fill": {
              "color": "#EBF0F8"
             },
             "line": {
              "color": "white"
             }
            },
            "header": {
             "fill": {
              "color": "#C8D4E3"
             },
             "line": {
              "color": "white"
             }
            },
            "type": "table"
           }
          ]
         },
         "layout": {
          "annotationdefaults": {
           "arrowcolor": "#2a3f5f",
           "arrowhead": 0,
           "arrowwidth": 1
          },
          "coloraxis": {
           "colorbar": {
            "outlinewidth": 0,
            "ticks": ""
           }
          },
          "colorscale": {
           "diverging": [
            [
             0,
             "#8e0152"
            ],
            [
             0.1,
             "#c51b7d"
            ],
            [
             0.2,
             "#de77ae"
            ],
            [
             0.3,
             "#f1b6da"
            ],
            [
             0.4,
             "#fde0ef"
            ],
            [
             0.5,
             "#f7f7f7"
            ],
            [
             0.6,
             "#e6f5d0"
            ],
            [
             0.7,
             "#b8e186"
            ],
            [
             0.8,
             "#7fbc41"
            ],
            [
             0.9,
             "#4d9221"
            ],
            [
             1,
             "#276419"
            ]
           ],
           "sequential": [
            [
             0,
             "#0d0887"
            ],
            [
             0.1111111111111111,
             "#46039f"
            ],
            [
             0.2222222222222222,
             "#7201a8"
            ],
            [
             0.3333333333333333,
             "#9c179e"
            ],
            [
             0.4444444444444444,
             "#bd3786"
            ],
            [
             0.5555555555555556,
             "#d8576b"
            ],
            [
             0.6666666666666666,
             "#ed7953"
            ],
            [
             0.7777777777777778,
             "#fb9f3a"
            ],
            [
             0.8888888888888888,
             "#fdca26"
            ],
            [
             1,
             "#f0f921"
            ]
           ],
           "sequentialminus": [
            [
             0,
             "#0d0887"
            ],
            [
             0.1111111111111111,
             "#46039f"
            ],
            [
             0.2222222222222222,
             "#7201a8"
            ],
            [
             0.3333333333333333,
             "#9c179e"
            ],
            [
             0.4444444444444444,
             "#bd3786"
            ],
            [
             0.5555555555555556,
             "#d8576b"
            ],
            [
             0.6666666666666666,
             "#ed7953"
            ],
            [
             0.7777777777777778,
             "#fb9f3a"
            ],
            [
             0.8888888888888888,
             "#fdca26"
            ],
            [
             1,
             "#f0f921"
            ]
           ]
          },
          "colorway": [
           "#636efa",
           "#EF553B",
           "#00cc96",
           "#ab63fa",
           "#FFA15A",
           "#19d3f3",
           "#FF6692",
           "#B6E880",
           "#FF97FF",
           "#FECB52"
          ],
          "font": {
           "color": "#2a3f5f"
          },
          "geo": {
           "bgcolor": "white",
           "lakecolor": "white",
           "landcolor": "#E5ECF6",
           "showlakes": true,
           "showland": true,
           "subunitcolor": "white"
          },
          "hoverlabel": {
           "align": "left"
          },
          "hovermode": "closest",
          "mapbox": {
           "style": "light"
          },
          "paper_bgcolor": "white",
          "plot_bgcolor": "#E5ECF6",
          "polar": {
           "angularaxis": {
            "gridcolor": "white",
            "linecolor": "white",
            "ticks": ""
           },
           "bgcolor": "#E5ECF6",
           "radialaxis": {
            "gridcolor": "white",
            "linecolor": "white",
            "ticks": ""
           }
          },
          "scene": {
           "xaxis": {
            "backgroundcolor": "#E5ECF6",
            "gridcolor": "white",
            "gridwidth": 2,
            "linecolor": "white",
            "showbackground": true,
            "ticks": "",
            "zerolinecolor": "white"
           },
           "yaxis": {
            "backgroundcolor": "#E5ECF6",
            "gridcolor": "white",
            "gridwidth": 2,
            "linecolor": "white",
            "showbackground": true,
            "ticks": "",
            "zerolinecolor": "white"
           },
           "zaxis": {
            "backgroundcolor": "#E5ECF6",
            "gridcolor": "white",
            "gridwidth": 2,
            "linecolor": "white",
            "showbackground": true,
            "ticks": "",
            "zerolinecolor": "white"
           }
          },
          "shapedefaults": {
           "line": {
            "color": "#2a3f5f"
           }
          },
          "ternary": {
           "aaxis": {
            "gridcolor": "white",
            "linecolor": "white",
            "ticks": ""
           },
           "baxis": {
            "gridcolor": "white",
            "linecolor": "white",
            "ticks": ""
           },
           "bgcolor": "#E5ECF6",
           "caxis": {
            "gridcolor": "white",
            "linecolor": "white",
            "ticks": ""
           }
          },
          "title": {
           "x": 0.05
          },
          "xaxis": {
           "automargin": true,
           "gridcolor": "white",
           "linecolor": "white",
           "ticks": "",
           "title": {
            "standoff": 15
           },
           "zerolinecolor": "white",
           "zerolinewidth": 2
          },
          "yaxis": {
           "automargin": true,
           "gridcolor": "white",
           "linecolor": "white",
           "ticks": "",
           "title": {
            "standoff": 15
           },
           "zerolinecolor": "white",
           "zerolinewidth": 2
          }
         }
        },
        "title": {
         "text": "Hyperparameter Importances"
        },
        "xaxis": {
         "title": {
          "text": "Importance for Objective Value"
         }
        },
        "yaxis": {
         "title": {
          "text": "Hyperparameter"
         }
        }
       }
      }
     },
     "metadata": {}
    }
   ],
   "source": [
    "optuna.visualization.plot_param_importances(study)"
   ]
  },
  {
   "cell_type": "code",
   "execution_count": 33,
   "metadata": {},
   "outputs": [
    {
     "output_type": "display_data",
     "data": {
      "application/vnd.plotly.v1+json": {
       "config": {
        "plotlyServerURL": "https://plot.ly"
       },
       "data": [
        {
         "marker": {
          "color": [
           8,
           10,
           11,
           12,
           13,
           14,
           15,
           16,
           17,
           20,
           22,
           25,
           27,
           28,
           29,
           30,
           34,
           38,
           40,
           41,
           42,
           43,
           44,
           45,
           46,
           47,
           49,
           50,
           54,
           56,
           58,
           60,
           62,
           63,
           64,
           65,
           67,
           68,
           70,
           71,
           72,
           73,
           74,
           75,
           77,
           78,
           79,
           80,
           81,
           82,
           83,
           86,
           87,
           88,
           89,
           90,
           94,
           96,
           97,
           98,
           100
          ],
          "colorbar": {
           "title": {
            "text": "#Trials"
           },
           "x": 1,
           "xpad": 40
          },
          "colorscale": [
           [
            0,
            "rgb(247,251,255)"
           ],
           [
            0.125,
            "rgb(222,235,247)"
           ],
           [
            0.25,
            "rgb(198,219,239)"
           ],
           [
            0.375,
            "rgb(158,202,225)"
           ],
           [
            0.5,
            "rgb(107,174,214)"
           ],
           [
            0.625,
            "rgb(66,146,198)"
           ],
           [
            0.75,
            "rgb(33,113,181)"
           ],
           [
            0.875,
            "rgb(8,81,156)"
           ],
           [
            1,
            "rgb(8,48,107)"
           ]
          ],
          "line": {
           "color": "Grey",
           "width": 0.5
          },
          "showscale": true
         },
         "mode": "markers",
         "showlegend": false,
         "type": "scatter",
         "x": [
          0.5,
          0.4,
          0.4,
          0.6000000000000001,
          0.8,
          0.6000000000000001,
          0.6000000000000001,
          0.8,
          0.9,
          0.9,
          0.8,
          1,
          0.9,
          0.8,
          1,
          0.9,
          0.7000000000000001,
          0.9,
          1,
          0.9,
          0.9,
          0.9,
          1,
          0.9,
          0.9,
          1,
          0.8,
          0.9,
          0.9,
          1,
          0.8,
          0.9,
          0.9,
          0.9,
          1,
          0.8,
          0.9,
          0.6000000000000001,
          0.8,
          0.8,
          0.8,
          0.9,
          0.7000000000000001,
          0.9,
          0.9,
          0.8,
          0.8,
          0.9,
          0.9,
          0.9,
          0.9,
          0.8,
          0.9,
          1,
          0.9,
          0.8,
          0.6000000000000001,
          0.7000000000000001,
          0.9,
          0.9,
          0.6000000000000001
         ],
         "xaxis": "x",
         "y": [
          0.7537,
          0.7519,
          0.7558,
          0.7613,
          0.7526,
          0.764,
          0.7645,
          0.7696,
          0.7702,
          0.7712,
          0.7596,
          0.7493,
          0.7486,
          0.7688,
          0.7404,
          0.7649,
          0.7384,
          0.7542,
          0.7462,
          0.772,
          0.7725,
          0.7666,
          0.7604,
          0.7606,
          0.7634,
          0.7394,
          0.766,
          0.7536,
          0.7561,
          0.7538,
          0.7658,
          0.7674,
          0.7654,
          0.757,
          0.7519,
          0.7419,
          0.7553,
          0.767,
          0.7686,
          0.7632,
          0.7596,
          0.7615,
          0.7554,
          0.7673,
          0.7512,
          0.7602,
          0.7543,
          0.7374,
          0.7655,
          0.7659,
          0.7614,
          0.7617,
          0.7609,
          0.7531,
          0.7653,
          0.7499,
          0.7687,
          0.754,
          0.7668,
          0.7625,
          0.7625
         ],
         "yaxis": "y"
        },
        {
         "marker": {
          "color": [
           8,
           10,
           11,
           12,
           13,
           14,
           15,
           16,
           17,
           20,
           22,
           27,
           28,
           30,
           34,
           38,
           41,
           42,
           43,
           45,
           46,
           49,
           50,
           54,
           58,
           60,
           62,
           63,
           65,
           67,
           68,
           70,
           71,
           72,
           73,
           74,
           75,
           77,
           78,
           79,
           80,
           81,
           82,
           83,
           86,
           87,
           89,
           90,
           94,
           96,
           97,
           98,
           100
          ],
          "colorbar": {
           "title": {
            "text": "#Trials"
           },
           "x": 1,
           "xpad": 40
          },
          "colorscale": [
           [
            0,
            "rgb(247,251,255)"
           ],
           [
            0.125,
            "rgb(222,235,247)"
           ],
           [
            0.25,
            "rgb(198,219,239)"
           ],
           [
            0.375,
            "rgb(158,202,225)"
           ],
           [
            0.5,
            "rgb(107,174,214)"
           ],
           [
            0.625,
            "rgb(66,146,198)"
           ],
           [
            0.75,
            "rgb(33,113,181)"
           ],
           [
            0.875,
            "rgb(8,81,156)"
           ],
           [
            1,
            "rgb(8,48,107)"
           ]
          ],
          "line": {
           "color": "Grey",
           "width": 0.5
          },
          "showscale": false
         },
         "mode": "markers",
         "showlegend": false,
         "type": "scatter",
         "x": [
          4,
          2,
          2,
          3,
          2,
          2,
          8,
          8,
          8,
          8,
          8,
          7,
          10,
          7,
          9,
          6,
          7,
          5,
          5,
          6,
          4,
          6,
          7,
          7,
          9,
          5,
          4,
          5,
          8,
          7,
          3,
          8,
          8,
          9,
          8,
          7,
          4,
          5,
          8,
          7,
          9,
          3,
          4,
          5,
          10,
          6,
          4,
          8,
          3,
          7,
          8,
          5,
          4
         ],
         "xaxis": "x2",
         "y": [
          0.7537,
          0.7519,
          0.7558,
          0.7613,
          0.7526,
          0.764,
          0.7645,
          0.7696,
          0.7702,
          0.7712,
          0.7596,
          0.7486,
          0.7688,
          0.7649,
          0.7384,
          0.7542,
          0.772,
          0.7725,
          0.7666,
          0.7606,
          0.7634,
          0.766,
          0.7536,
          0.7561,
          0.7658,
          0.7674,
          0.7654,
          0.757,
          0.7419,
          0.7553,
          0.767,
          0.7686,
          0.7632,
          0.7596,
          0.7615,
          0.7554,
          0.7673,
          0.7512,
          0.7602,
          0.7543,
          0.7374,
          0.7655,
          0.7659,
          0.7614,
          0.7617,
          0.7609,
          0.7653,
          0.7499,
          0.7687,
          0.754,
          0.7668,
          0.7625,
          0.7625
         ],
         "yaxis": "y2"
        },
        {
         "marker": {
          "color": [
           8,
           10,
           11,
           12,
           13,
           14,
           15,
           16,
           17,
           20,
           22,
           25,
           27,
           28,
           29,
           30,
           34,
           38,
           40,
           41,
           42,
           43,
           44,
           45,
           46,
           47,
           49,
           50,
           54,
           56,
           58,
           60,
           62,
           63,
           64,
           65,
           67,
           68,
           70,
           71,
           72,
           73,
           74,
           75,
           77,
           78,
           79,
           80,
           81,
           82,
           83,
           86,
           87,
           88,
           89,
           90,
           94,
           96,
           97,
           98,
           100
          ],
          "colorbar": {
           "title": {
            "text": "#Trials"
           },
           "x": 1,
           "xpad": 40
          },
          "colorscale": [
           [
            0,
            "rgb(247,251,255)"
           ],
           [
            0.125,
            "rgb(222,235,247)"
           ],
           [
            0.25,
            "rgb(198,219,239)"
           ],
           [
            0.375,
            "rgb(158,202,225)"
           ],
           [
            0.5,
            "rgb(107,174,214)"
           ],
           [
            0.625,
            "rgb(66,146,198)"
           ],
           [
            0.75,
            "rgb(33,113,181)"
           ],
           [
            0.875,
            "rgb(8,81,156)"
           ],
           [
            1,
            "rgb(8,48,107)"
           ]
          ],
          "line": {
           "color": "Grey",
           "width": 0.5
          },
          "showscale": false
         },
         "mode": "markers",
         "showlegend": false,
         "type": "scatter",
         "x": [
          "gbdt",
          "gbdt",
          "gbdt",
          "gbdt",
          "gbdt",
          "gbdt",
          "gbdt",
          "gbdt",
          "gbdt",
          "gbdt",
          "gbdt",
          "gbdt",
          "gbdt",
          "gbdt",
          "gbdt",
          "gbdt",
          "gbdt",
          "dart",
          "gbdt",
          "gbdt",
          "gbdt",
          "gbdt",
          "gbdt",
          "dart",
          "gbdt",
          "gbdt",
          "gbdt",
          "gbdt",
          "gbdt",
          "gbdt",
          "dart",
          "gbdt",
          "gbdt",
          "gbdt",
          "gbdt",
          "gbdt",
          "gbdt",
          "gbdt",
          "gbdt",
          "gbdt",
          "gbdt",
          "gbdt",
          "gbdt",
          "gbdt",
          "gbdt",
          "gbdt",
          "dart",
          "gbdt",
          "gbdt",
          "gbdt",
          "gbdt",
          "gbdt",
          "gbdt",
          "gbdt",
          "gbdt",
          "gbdt",
          "gbdt",
          "gbdt",
          "gbdt",
          "gbdt",
          "gbdt"
         ],
         "xaxis": "x3",
         "y": [
          0.7537,
          0.7519,
          0.7558,
          0.7613,
          0.7526,
          0.764,
          0.7645,
          0.7696,
          0.7702,
          0.7712,
          0.7596,
          0.7493,
          0.7486,
          0.7688,
          0.7404,
          0.7649,
          0.7384,
          0.7542,
          0.7462,
          0.772,
          0.7725,
          0.7666,
          0.7604,
          0.7606,
          0.7634,
          0.7394,
          0.766,
          0.7536,
          0.7561,
          0.7538,
          0.7658,
          0.7674,
          0.7654,
          0.757,
          0.7519,
          0.7419,
          0.7553,
          0.767,
          0.7686,
          0.7632,
          0.7596,
          0.7615,
          0.7554,
          0.7673,
          0.7512,
          0.7602,
          0.7543,
          0.7374,
          0.7655,
          0.7659,
          0.7614,
          0.7617,
          0.7609,
          0.7531,
          0.7653,
          0.7499,
          0.7687,
          0.754,
          0.7668,
          0.7625,
          0.7625
         ],
         "yaxis": "y3"
        },
        {
         "marker": {
          "color": [
           38,
           45,
           58,
           79
          ],
          "colorbar": {
           "title": {
            "text": "#Trials"
           },
           "x": 1,
           "xpad": 40
          },
          "colorscale": [
           [
            0,
            "rgb(247,251,255)"
           ],
           [
            0.125,
            "rgb(222,235,247)"
           ],
           [
            0.25,
            "rgb(198,219,239)"
           ],
           [
            0.375,
            "rgb(158,202,225)"
           ],
           [
            0.5,
            "rgb(107,174,214)"
           ],
           [
            0.625,
            "rgb(66,146,198)"
           ],
           [
            0.75,
            "rgb(33,113,181)"
           ],
           [
            0.875,
            "rgb(8,81,156)"
           ],
           [
            1,
            "rgb(8,48,107)"
           ]
          ],
          "line": {
           "color": "Grey",
           "width": 0.5
          },
          "showscale": false
         },
         "mode": "markers",
         "showlegend": false,
         "type": "scatter",
         "x": [
          0.0034423501150849414,
          0.0054952848369547325,
          1.702410422422596e-8,
          2.4327140159652964e-8
         ],
         "xaxis": "x4",
         "y": [
          0.7542,
          0.7606,
          0.7658,
          0.7543
         ],
         "yaxis": "y4"
        },
        {
         "marker": {
          "color": [
           8,
           10,
           11,
           12,
           13,
           14,
           15,
           16,
           17,
           20,
           22,
           27,
           28,
           30,
           34,
           38,
           41,
           42,
           43,
           45,
           46,
           49,
           50,
           54,
           58,
           60,
           62,
           63,
           65,
           67,
           68,
           70,
           71,
           72,
           73,
           74,
           75,
           77,
           78,
           79,
           80,
           81,
           82,
           83,
           86,
           87,
           89,
           90,
           94,
           96,
           97,
           98,
           100
          ],
          "colorbar": {
           "title": {
            "text": "#Trials"
           },
           "x": 1,
           "xpad": 40
          },
          "colorscale": [
           [
            0,
            "rgb(247,251,255)"
           ],
           [
            0.125,
            "rgb(222,235,247)"
           ],
           [
            0.25,
            "rgb(198,219,239)"
           ],
           [
            0.375,
            "rgb(158,202,225)"
           ],
           [
            0.5,
            "rgb(107,174,214)"
           ],
           [
            0.625,
            "rgb(66,146,198)"
           ],
           [
            0.75,
            "rgb(33,113,181)"
           ],
           [
            0.875,
            "rgb(8,81,156)"
           ],
           [
            1,
            "rgb(8,48,107)"
           ]
          ],
          "line": {
           "color": "Grey",
           "width": 0.5
          },
          "showscale": false
         },
         "mode": "markers",
         "showlegend": false,
         "type": "scatter",
         "x": [
          1,
          0.8,
          0.8,
          1,
          0.8,
          0.8,
          0.9,
          0.9,
          0.9,
          0.9,
          1,
          0.9,
          1,
          0.9,
          1,
          1,
          0.9,
          0.9,
          0.9,
          0.8,
          0.9,
          0.4,
          0.8,
          1,
          0.9,
          1,
          1,
          0.9,
          1,
          0.9,
          0.9,
          0.8,
          0.8,
          0.9,
          0.8,
          0.9,
          0.9,
          1,
          1,
          0.8,
          0.9,
          0.9,
          0.9,
          0.9,
          0.9,
          1,
          0.9,
          1,
          0.9,
          1,
          0.9,
          0.9,
          0.8
         ],
         "xaxis": "x5",
         "y": [
          0.7537,
          0.7519,
          0.7558,
          0.7613,
          0.7526,
          0.764,
          0.7645,
          0.7696,
          0.7702,
          0.7712,
          0.7596,
          0.7486,
          0.7688,
          0.7649,
          0.7384,
          0.7542,
          0.772,
          0.7725,
          0.7666,
          0.7606,
          0.7634,
          0.766,
          0.7536,
          0.7561,
          0.7658,
          0.7674,
          0.7654,
          0.757,
          0.7419,
          0.7553,
          0.767,
          0.7686,
          0.7632,
          0.7596,
          0.7615,
          0.7554,
          0.7673,
          0.7512,
          0.7602,
          0.7543,
          0.7374,
          0.7655,
          0.7659,
          0.7614,
          0.7617,
          0.7609,
          0.7653,
          0.7499,
          0.7687,
          0.754,
          0.7668,
          0.7625,
          0.7625
         ],
         "yaxis": "y5"
        },
        {
         "marker": {
          "color": [
           8,
           10,
           11,
           12,
           13,
           14,
           15,
           16,
           17,
           20,
           22,
           25,
           27,
           28,
           29,
           30,
           34,
           38,
           40,
           41,
           42,
           43,
           44,
           45,
           46,
           47,
           49,
           50,
           54,
           56,
           58,
           60,
           62,
           63,
           64,
           65,
           67,
           68,
           70,
           71,
           72,
           73,
           74,
           75,
           77,
           78,
           79,
           80,
           81,
           82,
           83,
           86,
           87,
           88,
           89,
           90,
           94,
           96,
           97,
           98,
           100
          ],
          "colorbar": {
           "title": {
            "text": "#Trials"
           },
           "x": 1,
           "xpad": 40
          },
          "colorscale": [
           [
            0,
            "rgb(247,251,255)"
           ],
           [
            0.125,
            "rgb(222,235,247)"
           ],
           [
            0.25,
            "rgb(198,219,239)"
           ],
           [
            0.375,
            "rgb(158,202,225)"
           ],
           [
            0.5,
            "rgb(107,174,214)"
           ],
           [
            0.625,
            "rgb(66,146,198)"
           ],
           [
            0.75,
            "rgb(33,113,181)"
           ],
           [
            0.875,
            "rgb(8,81,156)"
           ],
           [
            1,
            "rgb(8,48,107)"
           ]
          ],
          "line": {
           "color": "Grey",
           "width": 0.5
          },
          "showscale": false
         },
         "mode": "markers",
         "showlegend": false,
         "type": "scatter",
         "x": [
          0.0014461950144490832,
          0.0012645790251996855,
          0.0013545983155073518,
          0.001045639748670989,
          0.0025084337421150014,
          0.0010357457762086824,
          0.002821116688381409,
          0.0031240173389987793,
          0.0041994768032635795,
          0.004358671629420805,
          0.002003604945567771,
          0.013230245007364173,
          0.006681393262900451,
          0.01315260086097967,
          0.0033829774306254347,
          0.0051748532678625855,
          0.009489507989057813,
          0.01957829665910099,
          0.004068096619594417,
          0.005420686160779479,
          0.008293990812611252,
          0.006282791101816985,
          0.008434041947207944,
          0.0027895899273081047,
          0.004394250295306502,
          0.010658002302203764,
          0.005619320122249186,
          0.003608628856544064,
          0.002670494210386086,
          0.004651771002427579,
          0.002244850654653427,
          0.007576434458116245,
          0.006202354284094023,
          0.003130092143216909,
          0.0038354333459829555,
          0.02263315410353125,
          0.015658816951540026,
          0.00961664908465011,
          0.006002096286866822,
          0.007383978191188081,
          0.005971885696949591,
          0.011503023301515891,
          0.003141087046954242,
          0.004009512556516424,
          0.00913321746364041,
          0.004377492737443698,
          0.005521009223050309,
          0.012449599793495136,
          0.0035847529226782034,
          0.0049045297566276975,
          0.0024226783439439555,
          0.008221276748529741,
          0.00608668836174602,
          0.0041459438127675104,
          0.0035269381155594412,
          0.005652667455666598,
          0.006669592928841034,
          0.08511200828082219,
          0.0050614454699811715,
          0.004536331079871426,
          0.0038820319714891523
         ],
         "xaxis": "x6",
         "y": [
          0.7537,
          0.7519,
          0.7558,
          0.7613,
          0.7526,
          0.764,
          0.7645,
          0.7696,
          0.7702,
          0.7712,
          0.7596,
          0.7493,
          0.7486,
          0.7688,
          0.7404,
          0.7649,
          0.7384,
          0.7542,
          0.7462,
          0.772,
          0.7725,
          0.7666,
          0.7604,
          0.7606,
          0.7634,
          0.7394,
          0.766,
          0.7536,
          0.7561,
          0.7538,
          0.7658,
          0.7674,
          0.7654,
          0.757,
          0.7519,
          0.7419,
          0.7553,
          0.767,
          0.7686,
          0.7632,
          0.7596,
          0.7615,
          0.7554,
          0.7673,
          0.7512,
          0.7602,
          0.7543,
          0.7374,
          0.7655,
          0.7659,
          0.7614,
          0.7617,
          0.7609,
          0.7531,
          0.7653,
          0.7499,
          0.7687,
          0.754,
          0.7668,
          0.7625,
          0.7625
         ],
         "yaxis": "y6"
        },
        {
         "marker": {
          "color": [
           38,
           45,
           58,
           79
          ],
          "colorbar": {
           "title": {
            "text": "#Trials"
           },
           "x": 1,
           "xpad": 40
          },
          "colorscale": [
           [
            0,
            "rgb(247,251,255)"
           ],
           [
            0.125,
            "rgb(222,235,247)"
           ],
           [
            0.25,
            "rgb(198,219,239)"
           ],
           [
            0.375,
            "rgb(158,202,225)"
           ],
           [
            0.5,
            "rgb(107,174,214)"
           ],
           [
            0.625,
            "rgb(66,146,198)"
           ],
           [
            0.75,
            "rgb(33,113,181)"
           ],
           [
            0.875,
            "rgb(8,81,156)"
           ],
           [
            1,
            "rgb(8,48,107)"
           ]
          ],
          "line": {
           "color": "Grey",
           "width": 0.5
          },
          "showscale": false
         },
         "mode": "markers",
         "showlegend": false,
         "type": "scatter",
         "x": [
          76,
          25,
          3,
          96
         ],
         "xaxis": "x7",
         "y": [
          0.7542,
          0.7606,
          0.7658,
          0.7543
         ],
         "yaxis": "y7"
        },
        {
         "marker": {
          "color": [
           8,
           10,
           11,
           12,
           13,
           14,
           15,
           16,
           17,
           20,
           22,
           25,
           27,
           28,
           29,
           30,
           34,
           38,
           40,
           41,
           42,
           43,
           44,
           45,
           46,
           47,
           49,
           50,
           54,
           56,
           58,
           60,
           62,
           63,
           64,
           65,
           67,
           68,
           70,
           71,
           72,
           73,
           74,
           75,
           77,
           78,
           79,
           80,
           81,
           82,
           83,
           86,
           87,
           88,
           89,
           90,
           94,
           96,
           97,
           98,
           100
          ],
          "colorbar": {
           "title": {
            "text": "#Trials"
           },
           "x": 1,
           "xpad": 40
          },
          "colorscale": [
           [
            0,
            "rgb(247,251,255)"
           ],
           [
            0.125,
            "rgb(222,235,247)"
           ],
           [
            0.25,
            "rgb(198,219,239)"
           ],
           [
            0.375,
            "rgb(158,202,225)"
           ],
           [
            0.5,
            "rgb(107,174,214)"
           ],
           [
            0.625,
            "rgb(66,146,198)"
           ],
           [
            0.75,
            "rgb(33,113,181)"
           ],
           [
            0.875,
            "rgb(8,81,156)"
           ],
           [
            1,
            "rgb(8,48,107)"
           ]
          ],
          "line": {
           "color": "Grey",
           "width": 0.5
          },
          "showscale": false
         },
         "mode": "markers",
         "showlegend": false,
         "type": "scatter",
         "x": [
          2,
          2,
          2,
          2,
          5,
          2,
          3,
          3,
          4,
          3,
          8,
          7,
          2,
          2,
          3,
          6,
          2,
          2,
          4,
          2,
          3,
          2,
          2,
          3,
          2,
          2,
          2,
          2,
          2,
          2,
          2,
          3,
          2,
          2,
          3,
          2,
          2,
          2,
          2,
          2,
          2,
          2,
          2,
          2,
          2,
          3,
          2,
          2,
          2,
          2,
          2,
          2,
          2,
          2,
          2,
          2,
          2,
          2,
          2,
          2,
          2
         ],
         "xaxis": "x8",
         "y": [
          0.7537,
          0.7519,
          0.7558,
          0.7613,
          0.7526,
          0.764,
          0.7645,
          0.7696,
          0.7702,
          0.7712,
          0.7596,
          0.7493,
          0.7486,
          0.7688,
          0.7404,
          0.7649,
          0.7384,
          0.7542,
          0.7462,
          0.772,
          0.7725,
          0.7666,
          0.7604,
          0.7606,
          0.7634,
          0.7394,
          0.766,
          0.7536,
          0.7561,
          0.7538,
          0.7658,
          0.7674,
          0.7654,
          0.757,
          0.7519,
          0.7419,
          0.7553,
          0.767,
          0.7686,
          0.7632,
          0.7596,
          0.7615,
          0.7554,
          0.7673,
          0.7512,
          0.7602,
          0.7543,
          0.7374,
          0.7655,
          0.7659,
          0.7614,
          0.7617,
          0.7609,
          0.7531,
          0.7653,
          0.7499,
          0.7687,
          0.754,
          0.7668,
          0.7625,
          0.7625
         ],
         "yaxis": "y8"
        },
        {
         "marker": {
          "color": [
           8,
           10,
           11,
           12,
           13,
           14,
           15,
           16,
           17,
           20,
           22,
           25,
           27,
           28,
           29,
           30,
           34,
           38,
           40,
           41,
           42,
           43,
           44,
           45,
           46,
           47,
           49,
           50,
           54,
           56,
           58,
           60,
           62,
           63,
           64,
           65,
           67,
           68,
           70,
           71,
           72,
           73,
           74,
           75,
           77,
           78,
           79,
           80,
           81,
           82,
           83,
           86,
           87,
           88,
           89,
           90,
           94,
           96,
           97,
           98,
           100
          ],
          "colorbar": {
           "title": {
            "text": "#Trials"
           },
           "x": 1,
           "xpad": 40
          },
          "colorscale": [
           [
            0,
            "rgb(247,251,255)"
           ],
           [
            0.125,
            "rgb(222,235,247)"
           ],
           [
            0.25,
            "rgb(198,219,239)"
           ],
           [
            0.375,
            "rgb(158,202,225)"
           ],
           [
            0.5,
            "rgb(107,174,214)"
           ],
           [
            0.625,
            "rgb(66,146,198)"
           ],
           [
            0.75,
            "rgb(33,113,181)"
           ],
           [
            0.875,
            "rgb(8,81,156)"
           ],
           [
            1,
            "rgb(8,48,107)"
           ]
          ],
          "line": {
           "color": "Grey",
           "width": 0.5
          },
          "showscale": false
         },
         "mode": "markers",
         "showlegend": false,
         "type": "scatter",
         "x": [
          1500,
          1500,
          1400,
          1500,
          1300,
          1300,
          1100,
          1100,
          1000,
          900,
          800,
          800,
          1200,
          900,
          200,
          700,
          1200,
          600,
          1000,
          700,
          600,
          500,
          600,
          400,
          500,
          700,
          600,
          300,
          1100,
          900,
          1300,
          500,
          300,
          400,
          800,
          1100,
          1000,
          400,
          600,
          900,
          600,
          700,
          800,
          500,
          1000,
          700,
          900,
          1000,
          500,
          400,
          500,
          500,
          1100,
          800,
          700,
          900,
          300,
          200,
          300,
          500,
          1100
         ],
         "xaxis": "x9",
         "y": [
          0.7537,
          0.7519,
          0.7558,
          0.7613,
          0.7526,
          0.764,
          0.7645,
          0.7696,
          0.7702,
          0.7712,
          0.7596,
          0.7493,
          0.7486,
          0.7688,
          0.7404,
          0.7649,
          0.7384,
          0.7542,
          0.7462,
          0.772,
          0.7725,
          0.7666,
          0.7604,
          0.7606,
          0.7634,
          0.7394,
          0.766,
          0.7536,
          0.7561,
          0.7538,
          0.7658,
          0.7674,
          0.7654,
          0.757,
          0.7519,
          0.7419,
          0.7553,
          0.767,
          0.7686,
          0.7632,
          0.7596,
          0.7615,
          0.7554,
          0.7673,
          0.7512,
          0.7602,
          0.7543,
          0.7374,
          0.7655,
          0.7659,
          0.7614,
          0.7617,
          0.7609,
          0.7531,
          0.7653,
          0.7499,
          0.7687,
          0.754,
          0.7668,
          0.7625,
          0.7625
         ],
         "yaxis": "y9"
        },
        {
         "marker": {
          "color": [
           8,
           10,
           11,
           12,
           13,
           14,
           15,
           16,
           17,
           20,
           22,
           25,
           27,
           28,
           29,
           30,
           34,
           38,
           40,
           41,
           42,
           43,
           44,
           45,
           46,
           47,
           49,
           50,
           54,
           56,
           58,
           60,
           62,
           63,
           64,
           65,
           67,
           68,
           70,
           71,
           72,
           73,
           74,
           75,
           77,
           78,
           79,
           80,
           81,
           82,
           83,
           86,
           87,
           88,
           89,
           90,
           94,
           96,
           97,
           98,
           100
          ],
          "colorbar": {
           "title": {
            "text": "#Trials"
           },
           "x": 1,
           "xpad": 40
          },
          "colorscale": [
           [
            0,
            "rgb(247,251,255)"
           ],
           [
            0.125,
            "rgb(222,235,247)"
           ],
           [
            0.25,
            "rgb(198,219,239)"
           ],
           [
            0.375,
            "rgb(158,202,225)"
           ],
           [
            0.5,
            "rgb(107,174,214)"
           ],
           [
            0.625,
            "rgb(66,146,198)"
           ],
           [
            0.75,
            "rgb(33,113,181)"
           ],
           [
            0.875,
            "rgb(8,81,156)"
           ],
           [
            1,
            "rgb(8,48,107)"
           ]
          ],
          "line": {
           "color": "Grey",
           "width": 0.5
          },
          "showscale": false
         },
         "mode": "markers",
         "showlegend": false,
         "type": "scatter",
         "x": [
          23,
          24,
          20,
          21,
          57,
          12,
          11,
          11,
          9,
          9,
          14,
          15,
          37,
          9,
          35,
          17,
          12,
          17,
          28,
          16,
          14,
          15,
          13,
          19,
          11,
          23,
          18,
          11,
          28,
          10,
          8,
          13,
          12,
          13,
          22,
          16,
          8,
          10,
          19,
          20,
          14,
          12,
          28,
          17,
          24,
          11,
          19,
          38,
          17,
          13,
          16,
          14,
          20,
          11,
          8,
          17,
          12,
          25,
          15,
          12,
          15
         ],
         "xaxis": "x10",
         "y": [
          0.7537,
          0.7519,
          0.7558,
          0.7613,
          0.7526,
          0.764,
          0.7645,
          0.7696,
          0.7702,
          0.7712,
          0.7596,
          0.7493,
          0.7486,
          0.7688,
          0.7404,
          0.7649,
          0.7384,
          0.7542,
          0.7462,
          0.772,
          0.7725,
          0.7666,
          0.7604,
          0.7606,
          0.7634,
          0.7394,
          0.766,
          0.7536,
          0.7561,
          0.7538,
          0.7658,
          0.7674,
          0.7654,
          0.757,
          0.7519,
          0.7419,
          0.7553,
          0.767,
          0.7686,
          0.7632,
          0.7596,
          0.7615,
          0.7554,
          0.7673,
          0.7512,
          0.7602,
          0.7543,
          0.7374,
          0.7655,
          0.7659,
          0.7614,
          0.7617,
          0.7609,
          0.7531,
          0.7653,
          0.7499,
          0.7687,
          0.754,
          0.7668,
          0.7625,
          0.7625
         ],
         "yaxis": "y10"
        },
        {
         "marker": {
          "color": [
           8,
           10,
           11,
           12,
           13,
           14,
           15,
           16,
           17,
           20,
           22,
           25,
           27,
           28,
           29,
           30,
           34,
           38,
           40,
           41,
           42,
           43,
           44,
           45,
           46,
           47,
           49,
           50,
           54,
           56,
           58,
           60,
           62,
           63,
           64,
           65,
           67,
           68,
           70,
           71,
           72,
           73,
           74,
           75,
           77,
           78,
           79,
           80,
           81,
           82,
           83,
           86,
           87,
           88,
           89,
           90,
           94,
           96,
           97,
           98,
           100
          ],
          "colorbar": {
           "title": {
            "text": "#Trials"
           },
           "x": 1,
           "xpad": 40
          },
          "colorscale": [
           [
            0,
            "rgb(247,251,255)"
           ],
           [
            0.125,
            "rgb(222,235,247)"
           ],
           [
            0.25,
            "rgb(198,219,239)"
           ],
           [
            0.375,
            "rgb(158,202,225)"
           ],
           [
            0.5,
            "rgb(107,174,214)"
           ],
           [
            0.625,
            "rgb(66,146,198)"
           ],
           [
            0.75,
            "rgb(33,113,181)"
           ],
           [
            0.875,
            "rgb(8,81,156)"
           ],
           [
            1,
            "rgb(8,48,107)"
           ]
          ],
          "line": {
           "color": "Grey",
           "width": 0.5
          },
          "showscale": false
         },
         "mode": "markers",
         "showlegend": false,
         "type": "scatter",
         "x": [
          "binary",
          "binary",
          "binary",
          "binary",
          "binary",
          "binary",
          "binary",
          "binary",
          "binary",
          "binary",
          "binary",
          "binary",
          "binary",
          "binary",
          "binary",
          "binary",
          "binary",
          "binary",
          "binary",
          "binary",
          "binary",
          "binary",
          "binary",
          "cross_entropy",
          "binary",
          "binary",
          "cross_entropy",
          "binary",
          "binary",
          "binary",
          "binary",
          "binary",
          "binary",
          "binary",
          "binary",
          "binary",
          "binary",
          "binary",
          "binary",
          "binary",
          "binary",
          "binary",
          "binary",
          "binary",
          "binary",
          "binary",
          "binary",
          "binary",
          "binary",
          "binary",
          "binary",
          "binary",
          "binary",
          "binary",
          "cross_entropy",
          "binary",
          "binary",
          "binary",
          "binary",
          "binary",
          "binary"
         ],
         "xaxis": "x11",
         "y": [
          0.7537,
          0.7519,
          0.7558,
          0.7613,
          0.7526,
          0.764,
          0.7645,
          0.7696,
          0.7702,
          0.7712,
          0.7596,
          0.7493,
          0.7486,
          0.7688,
          0.7404,
          0.7649,
          0.7384,
          0.7542,
          0.7462,
          0.772,
          0.7725,
          0.7666,
          0.7604,
          0.7606,
          0.7634,
          0.7394,
          0.766,
          0.7536,
          0.7561,
          0.7538,
          0.7658,
          0.7674,
          0.7654,
          0.757,
          0.7519,
          0.7419,
          0.7553,
          0.767,
          0.7686,
          0.7632,
          0.7596,
          0.7615,
          0.7554,
          0.7673,
          0.7512,
          0.7602,
          0.7543,
          0.7374,
          0.7655,
          0.7659,
          0.7614,
          0.7617,
          0.7609,
          0.7531,
          0.7653,
          0.7499,
          0.7687,
          0.754,
          0.7668,
          0.7625,
          0.7625
         ],
         "yaxis": "y11"
        },
        {
         "marker": {
          "color": [
           38,
           45,
           58,
           79
          ],
          "colorbar": {
           "title": {
            "text": "#Trials"
           },
           "x": 1,
           "xpad": 40
          },
          "colorscale": [
           [
            0,
            "rgb(247,251,255)"
           ],
           [
            0.125,
            "rgb(222,235,247)"
           ],
           [
            0.25,
            "rgb(198,219,239)"
           ],
           [
            0.375,
            "rgb(158,202,225)"
           ],
           [
            0.5,
            "rgb(107,174,214)"
           ],
           [
            0.625,
            "rgb(66,146,198)"
           ],
           [
            0.75,
            "rgb(33,113,181)"
           ],
           [
            0.875,
            "rgb(8,81,156)"
           ],
           [
            1,
            "rgb(8,48,107)"
           ]
          ],
          "line": {
           "color": "Grey",
           "width": 0.5
          },
          "showscale": false
         },
         "mode": "markers",
         "showlegend": false,
         "type": "scatter",
         "x": [
          0.9244572743591596,
          0.8445785337074464,
          0.007475681698528027,
          0.0012483177581590634
         ],
         "xaxis": "x12",
         "y": [
          0.7542,
          0.7606,
          0.7658,
          0.7543
         ],
         "yaxis": "y12"
        },
        {
         "marker": {
          "color": [
           38,
           45,
           58,
           79
          ],
          "colorbar": {
           "title": {
            "text": "#Trials"
           },
           "x": 1,
           "xpad": 40
          },
          "colorscale": [
           [
            0,
            "rgb(247,251,255)"
           ],
           [
            0.125,
            "rgb(222,235,247)"
           ],
           [
            0.25,
            "rgb(198,219,239)"
           ],
           [
            0.375,
            "rgb(158,202,225)"
           ],
           [
            0.5,
            "rgb(107,174,214)"
           ],
           [
            0.625,
            "rgb(66,146,198)"
           ],
           [
            0.75,
            "rgb(33,113,181)"
           ],
           [
            0.875,
            "rgb(8,81,156)"
           ],
           [
            1,
            "rgb(8,48,107)"
           ]
          ],
          "line": {
           "color": "Grey",
           "width": 0.5
          },
          "showscale": false
         },
         "mode": "markers",
         "showlegend": false,
         "type": "scatter",
         "x": [
          true,
          false,
          true,
          true
         ],
         "xaxis": "x13",
         "y": [
          0.7542,
          0.7606,
          0.7658,
          0.7543
         ],
         "yaxis": "y13"
        },
        {
         "marker": {
          "color": [
           38,
           45,
           58,
           79
          ],
          "colorbar": {
           "title": {
            "text": "#Trials"
           },
           "x": 1,
           "xpad": 40
          },
          "colorscale": [
           [
            0,
            "rgb(247,251,255)"
           ],
           [
            0.125,
            "rgb(222,235,247)"
           ],
           [
            0.25,
            "rgb(198,219,239)"
           ],
           [
            0.375,
            "rgb(158,202,225)"
           ],
           [
            0.5,
            "rgb(107,174,214)"
           ],
           [
            0.625,
            "rgb(66,146,198)"
           ],
           [
            0.75,
            "rgb(33,113,181)"
           ],
           [
            0.875,
            "rgb(8,81,156)"
           ],
           [
            1,
            "rgb(8,48,107)"
           ]
          ],
          "line": {
           "color": "Grey",
           "width": 0.5
          },
          "showscale": false
         },
         "mode": "markers",
         "showlegend": false,
         "type": "scatter",
         "x": [
          false,
          false,
          false,
          true
         ],
         "xaxis": "x14",
         "y": [
          0.7542,
          0.7606,
          0.7658,
          0.7543
         ],
         "yaxis": "y14"
        }
       ],
       "layout": {
        "template": {
         "data": {
          "bar": [
           {
            "error_x": {
             "color": "#2a3f5f"
            },
            "error_y": {
             "color": "#2a3f5f"
            },
            "marker": {
             "line": {
              "color": "#E5ECF6",
              "width": 0.5
             }
            },
            "type": "bar"
           }
          ],
          "barpolar": [
           {
            "marker": {
             "line": {
              "color": "#E5ECF6",
              "width": 0.5
             }
            },
            "type": "barpolar"
           }
          ],
          "carpet": [
           {
            "aaxis": {
             "endlinecolor": "#2a3f5f",
             "gridcolor": "white",
             "linecolor": "white",
             "minorgridcolor": "white",
             "startlinecolor": "#2a3f5f"
            },
            "baxis": {
             "endlinecolor": "#2a3f5f",
             "gridcolor": "white",
             "linecolor": "white",
             "minorgridcolor": "white",
             "startlinecolor": "#2a3f5f"
            },
            "type": "carpet"
           }
          ],
          "choropleth": [
           {
            "colorbar": {
             "outlinewidth": 0,
             "ticks": ""
            },
            "type": "choropleth"
           }
          ],
          "contour": [
           {
            "colorbar": {
             "outlinewidth": 0,
             "ticks": ""
            },
            "colorscale": [
             [
              0,
              "#0d0887"
             ],
             [
              0.1111111111111111,
              "#46039f"
             ],
             [
              0.2222222222222222,
              "#7201a8"
             ],
             [
              0.3333333333333333,
              "#9c179e"
             ],
             [
              0.4444444444444444,
              "#bd3786"
             ],
             [
              0.5555555555555556,
              "#d8576b"
             ],
             [
              0.6666666666666666,
              "#ed7953"
             ],
             [
              0.7777777777777778,
              "#fb9f3a"
             ],
             [
              0.8888888888888888,
              "#fdca26"
             ],
             [
              1,
              "#f0f921"
             ]
            ],
            "type": "contour"
           }
          ],
          "contourcarpet": [
           {
            "colorbar": {
             "outlinewidth": 0,
             "ticks": ""
            },
            "type": "contourcarpet"
           }
          ],
          "heatmap": [
           {
            "colorbar": {
             "outlinewidth": 0,
             "ticks": ""
            },
            "colorscale": [
             [
              0,
              "#0d0887"
             ],
             [
              0.1111111111111111,
              "#46039f"
             ],
             [
              0.2222222222222222,
              "#7201a8"
             ],
             [
              0.3333333333333333,
              "#9c179e"
             ],
             [
              0.4444444444444444,
              "#bd3786"
             ],
             [
              0.5555555555555556,
              "#d8576b"
             ],
             [
              0.6666666666666666,
              "#ed7953"
             ],
             [
              0.7777777777777778,
              "#fb9f3a"
             ],
             [
              0.8888888888888888,
              "#fdca26"
             ],
             [
              1,
              "#f0f921"
             ]
            ],
            "type": "heatmap"
           }
          ],
          "heatmapgl": [
           {
            "colorbar": {
             "outlinewidth": 0,
             "ticks": ""
            },
            "colorscale": [
             [
              0,
              "#0d0887"
             ],
             [
              0.1111111111111111,
              "#46039f"
             ],
             [
              0.2222222222222222,
              "#7201a8"
             ],
             [
              0.3333333333333333,
              "#9c179e"
             ],
             [
              0.4444444444444444,
              "#bd3786"
             ],
             [
              0.5555555555555556,
              "#d8576b"
             ],
             [
              0.6666666666666666,
              "#ed7953"
             ],
             [
              0.7777777777777778,
              "#fb9f3a"
             ],
             [
              0.8888888888888888,
              "#fdca26"
             ],
             [
              1,
              "#f0f921"
             ]
            ],
            "type": "heatmapgl"
           }
          ],
          "histogram": [
           {
            "marker": {
             "colorbar": {
              "outlinewidth": 0,
              "ticks": ""
             }
            },
            "type": "histogram"
           }
          ],
          "histogram2d": [
           {
            "colorbar": {
             "outlinewidth": 0,
             "ticks": ""
            },
            "colorscale": [
             [
              0,
              "#0d0887"
             ],
             [
              0.1111111111111111,
              "#46039f"
             ],
             [
              0.2222222222222222,
              "#7201a8"
             ],
             [
              0.3333333333333333,
              "#9c179e"
             ],
             [
              0.4444444444444444,
              "#bd3786"
             ],
             [
              0.5555555555555556,
              "#d8576b"
             ],
             [
              0.6666666666666666,
              "#ed7953"
             ],
             [
              0.7777777777777778,
              "#fb9f3a"
             ],
             [
              0.8888888888888888,
              "#fdca26"
             ],
             [
              1,
              "#f0f921"
             ]
            ],
            "type": "histogram2d"
           }
          ],
          "histogram2dcontour": [
           {
            "colorbar": {
             "outlinewidth": 0,
             "ticks": ""
            },
            "colorscale": [
             [
              0,
              "#0d0887"
             ],
             [
              0.1111111111111111,
              "#46039f"
             ],
             [
              0.2222222222222222,
              "#7201a8"
             ],
             [
              0.3333333333333333,
              "#9c179e"
             ],
             [
              0.4444444444444444,
              "#bd3786"
             ],
             [
              0.5555555555555556,
              "#d8576b"
             ],
             [
              0.6666666666666666,
              "#ed7953"
             ],
             [
              0.7777777777777778,
              "#fb9f3a"
             ],
             [
              0.8888888888888888,
              "#fdca26"
             ],
             [
              1,
              "#f0f921"
             ]
            ],
            "type": "histogram2dcontour"
           }
          ],
          "mesh3d": [
           {
            "colorbar": {
             "outlinewidth": 0,
             "ticks": ""
            },
            "type": "mesh3d"
           }
          ],
          "parcoords": [
           {
            "line": {
             "colorbar": {
              "outlinewidth": 0,
              "ticks": ""
             }
            },
            "type": "parcoords"
           }
          ],
          "pie": [
           {
            "automargin": true,
            "type": "pie"
           }
          ],
          "scatter": [
           {
            "marker": {
             "colorbar": {
              "outlinewidth": 0,
              "ticks": ""
             }
            },
            "type": "scatter"
           }
          ],
          "scatter3d": [
           {
            "line": {
             "colorbar": {
              "outlinewidth": 0,
              "ticks": ""
             }
            },
            "marker": {
             "colorbar": {
              "outlinewidth": 0,
              "ticks": ""
             }
            },
            "type": "scatter3d"
           }
          ],
          "scattercarpet": [
           {
            "marker": {
             "colorbar": {
              "outlinewidth": 0,
              "ticks": ""
             }
            },
            "type": "scattercarpet"
           }
          ],
          "scattergeo": [
           {
            "marker": {
             "colorbar": {
              "outlinewidth": 0,
              "ticks": ""
             }
            },
            "type": "scattergeo"
           }
          ],
          "scattergl": [
           {
            "marker": {
             "colorbar": {
              "outlinewidth": 0,
              "ticks": ""
             }
            },
            "type": "scattergl"
           }
          ],
          "scattermapbox": [
           {
            "marker": {
             "colorbar": {
              "outlinewidth": 0,
              "ticks": ""
             }
            },
            "type": "scattermapbox"
           }
          ],
          "scatterpolar": [
           {
            "marker": {
             "colorbar": {
              "outlinewidth": 0,
              "ticks": ""
             }
            },
            "type": "scatterpolar"
           }
          ],
          "scatterpolargl": [
           {
            "marker": {
             "colorbar": {
              "outlinewidth": 0,
              "ticks": ""
             }
            },
            "type": "scatterpolargl"
           }
          ],
          "scatterternary": [
           {
            "marker": {
             "colorbar": {
              "outlinewidth": 0,
              "ticks": ""
             }
            },
            "type": "scatterternary"
           }
          ],
          "surface": [
           {
            "colorbar": {
             "outlinewidth": 0,
             "ticks": ""
            },
            "colorscale": [
             [
              0,
              "#0d0887"
             ],
             [
              0.1111111111111111,
              "#46039f"
             ],
             [
              0.2222222222222222,
              "#7201a8"
             ],
             [
              0.3333333333333333,
              "#9c179e"
             ],
             [
              0.4444444444444444,
              "#bd3786"
             ],
             [
              0.5555555555555556,
              "#d8576b"
             ],
             [
              0.6666666666666666,
              "#ed7953"
             ],
             [
              0.7777777777777778,
              "#fb9f3a"
             ],
             [
              0.8888888888888888,
              "#fdca26"
             ],
             [
              1,
              "#f0f921"
             ]
            ],
            "type": "surface"
           }
          ],
          "table": [
           {
            "cells": {
             "fill": {
              "color": "#EBF0F8"
             },
             "line": {
              "color": "white"
             }
            },
            "header": {
             "fill": {
              "color": "#C8D4E3"
             },
             "line": {
              "color": "white"
             }
            },
            "type": "table"
           }
          ]
         },
         "layout": {
          "annotationdefaults": {
           "arrowcolor": "#2a3f5f",
           "arrowhead": 0,
           "arrowwidth": 1
          },
          "coloraxis": {
           "colorbar": {
            "outlinewidth": 0,
            "ticks": ""
           }
          },
          "colorscale": {
           "diverging": [
            [
             0,
             "#8e0152"
            ],
            [
             0.1,
             "#c51b7d"
            ],
            [
             0.2,
             "#de77ae"
            ],
            [
             0.3,
             "#f1b6da"
            ],
            [
             0.4,
             "#fde0ef"
            ],
            [
             0.5,
             "#f7f7f7"
            ],
            [
             0.6,
             "#e6f5d0"
            ],
            [
             0.7,
             "#b8e186"
            ],
            [
             0.8,
             "#7fbc41"
            ],
            [
             0.9,
             "#4d9221"
            ],
            [
             1,
             "#276419"
            ]
           ],
           "sequential": [
            [
             0,
             "#0d0887"
            ],
            [
             0.1111111111111111,
             "#46039f"
            ],
            [
             0.2222222222222222,
             "#7201a8"
            ],
            [
             0.3333333333333333,
             "#9c179e"
            ],
            [
             0.4444444444444444,
             "#bd3786"
            ],
            [
             0.5555555555555556,
             "#d8576b"
            ],
            [
             0.6666666666666666,
             "#ed7953"
            ],
            [
             0.7777777777777778,
             "#fb9f3a"
            ],
            [
             0.8888888888888888,
             "#fdca26"
            ],
            [
             1,
             "#f0f921"
            ]
           ],
           "sequentialminus": [
            [
             0,
             "#0d0887"
            ],
            [
             0.1111111111111111,
             "#46039f"
            ],
            [
             0.2222222222222222,
             "#7201a8"
            ],
            [
             0.3333333333333333,
             "#9c179e"
            ],
            [
             0.4444444444444444,
             "#bd3786"
            ],
            [
             0.5555555555555556,
             "#d8576b"
            ],
            [
             0.6666666666666666,
             "#ed7953"
            ],
            [
             0.7777777777777778,
             "#fb9f3a"
            ],
            [
             0.8888888888888888,
             "#fdca26"
            ],
            [
             1,
             "#f0f921"
            ]
           ]
          },
          "colorway": [
           "#636efa",
           "#EF553B",
           "#00cc96",
           "#ab63fa",
           "#FFA15A",
           "#19d3f3",
           "#FF6692",
           "#B6E880",
           "#FF97FF",
           "#FECB52"
          ],
          "font": {
           "color": "#2a3f5f"
          },
          "geo": {
           "bgcolor": "white",
           "lakecolor": "white",
           "landcolor": "#E5ECF6",
           "showlakes": true,
           "showland": true,
           "subunitcolor": "white"
          },
          "hoverlabel": {
           "align": "left"
          },
          "hovermode": "closest",
          "mapbox": {
           "style": "light"
          },
          "paper_bgcolor": "white",
          "plot_bgcolor": "#E5ECF6",
          "polar": {
           "angularaxis": {
            "gridcolor": "white",
            "linecolor": "white",
            "ticks": ""
           },
           "bgcolor": "#E5ECF6",
           "radialaxis": {
            "gridcolor": "white",
            "linecolor": "white",
            "ticks": ""
           }
          },
          "scene": {
           "xaxis": {
            "backgroundcolor": "#E5ECF6",
            "gridcolor": "white",
            "gridwidth": 2,
            "linecolor": "white",
            "showbackground": true,
            "ticks": "",
            "zerolinecolor": "white"
           },
           "yaxis": {
            "backgroundcolor": "#E5ECF6",
            "gridcolor": "white",
            "gridwidth": 2,
            "linecolor": "white",
            "showbackground": true,
            "ticks": "",
            "zerolinecolor": "white"
           },
           "zaxis": {
            "backgroundcolor": "#E5ECF6",
            "gridcolor": "white",
            "gridwidth": 2,
            "linecolor": "white",
            "showbackground": true,
            "ticks": "",
            "zerolinecolor": "white"
           }
          },
          "shapedefaults": {
           "line": {
            "color": "#2a3f5f"
           }
          },
          "ternary": {
           "aaxis": {
            "gridcolor": "white",
            "linecolor": "white",
            "ticks": ""
           },
           "baxis": {
            "gridcolor": "white",
            "linecolor": "white",
            "ticks": ""
           },
           "bgcolor": "#E5ECF6",
           "caxis": {
            "gridcolor": "white",
            "linecolor": "white",
            "ticks": ""
           }
          },
          "title": {
           "x": 0.05
          },
          "xaxis": {
           "automargin": true,
           "gridcolor": "white",
           "linecolor": "white",
           "ticks": "",
           "title": {
            "standoff": 15
           },
           "zerolinecolor": "white",
           "zerolinewidth": 2
          },
          "yaxis": {
           "automargin": true,
           "gridcolor": "white",
           "linecolor": "white",
           "ticks": "",
           "title": {
            "standoff": 15
           },
           "zerolinecolor": "white",
           "zerolinewidth": 2
          }
         }
        },
        "title": {
         "text": "Slice Plot"
        },
        "width": 4200,
        "xaxis": {
         "anchor": "y",
         "domain": [
          0,
          0.058163265306122446
         ],
         "title": {
          "text": "lgbm_bagging_fraction"
         }
        },
        "xaxis10": {
         "anchor": "y10",
         "domain": [
          0.6520408163265305,
          0.710204081632653
         ],
         "title": {
          "text": "lgbm_num_leaves"
         }
        },
        "xaxis11": {
         "anchor": "y11",
         "domain": [
          0.7244897959183674,
          0.7826530612244899
         ],
         "title": {
          "text": "lgbm_objective"
         }
        },
        "xaxis12": {
         "anchor": "y12",
         "domain": [
          0.7969387755102041,
          0.8551020408163266
         ],
         "title": {
          "text": "lgbm_skip_drop"
         },
         "type": "log"
        },
        "xaxis13": {
         "anchor": "y13",
         "domain": [
          0.8693877551020408,
          0.9275510204081633
         ],
         "title": {
          "text": "lgbm_uniform_drop"
         }
        },
        "xaxis14": {
         "anchor": "y14",
         "domain": [
          0.9418367346938776,
          1
         ],
         "title": {
          "text": "lgbm_xgboost_dart_mode"
         }
        },
        "xaxis2": {
         "anchor": "y2",
         "domain": [
          0.07244897959183673,
          0.13061224489795917
         ],
         "title": {
          "text": "lgbm_bagging_freq"
         }
        },
        "xaxis3": {
         "anchor": "y3",
         "domain": [
          0.14489795918367346,
          0.2030612244897959
         ],
         "title": {
          "text": "lgbm_boosting"
         }
        },
        "xaxis4": {
         "anchor": "y4",
         "domain": [
          0.2173469387755102,
          0.2755102040816326
         ],
         "title": {
          "text": "lgbm_drop_rate"
         },
         "type": "log"
        },
        "xaxis5": {
         "anchor": "y5",
         "domain": [
          0.2897959183673469,
          0.34795918367346934
         ],
         "title": {
          "text": "lgbm_feature_fraction"
         }
        },
        "xaxis6": {
         "anchor": "y6",
         "domain": [
          0.3622448979591837,
          0.4204081632653061
         ],
         "title": {
          "text": "lgbm_learning_rate"
         },
         "type": "log"
        },
        "xaxis7": {
         "anchor": "y7",
         "domain": [
          0.4346938775510204,
          0.4928571428571428
         ],
         "title": {
          "text": "lgbm_max_drop"
         }
        },
        "xaxis8": {
         "anchor": "y8",
         "domain": [
          0.5071428571428571,
          0.5653061224489796
         ],
         "title": {
          "text": "lgbm_min_child_samples"
         }
        },
        "xaxis9": {
         "anchor": "y9",
         "domain": [
          0.5795918367346938,
          0.6377551020408163
         ],
         "title": {
          "text": "lgbm_num_iterations"
         }
        },
        "yaxis": {
         "anchor": "x",
         "domain": [
          0,
          1
         ],
         "title": {
          "text": "Objective Value"
         }
        },
        "yaxis10": {
         "anchor": "x10",
         "domain": [
          0,
          1
         ],
         "matches": "y",
         "showticklabels": false
        },
        "yaxis11": {
         "anchor": "x11",
         "domain": [
          0,
          1
         ],
         "matches": "y",
         "showticklabels": false
        },
        "yaxis12": {
         "anchor": "x12",
         "domain": [
          0,
          1
         ],
         "matches": "y",
         "showticklabels": false
        },
        "yaxis13": {
         "anchor": "x13",
         "domain": [
          0,
          1
         ],
         "matches": "y",
         "showticklabels": false
        },
        "yaxis14": {
         "anchor": "x14",
         "domain": [
          0,
          1
         ],
         "matches": "y",
         "showticklabels": false
        },
        "yaxis2": {
         "anchor": "x2",
         "domain": [
          0,
          1
         ],
         "matches": "y",
         "showticklabels": false
        },
        "yaxis3": {
         "anchor": "x3",
         "domain": [
          0,
          1
         ],
         "matches": "y",
         "showticklabels": false
        },
        "yaxis4": {
         "anchor": "x4",
         "domain": [
          0,
          1
         ],
         "matches": "y",
         "showticklabels": false
        },
        "yaxis5": {
         "anchor": "x5",
         "domain": [
          0,
          1
         ],
         "matches": "y",
         "showticklabels": false
        },
        "yaxis6": {
         "anchor": "x6",
         "domain": [
          0,
          1
         ],
         "matches": "y",
         "showticklabels": false
        },
        "yaxis7": {
         "anchor": "x7",
         "domain": [
          0,
          1
         ],
         "matches": "y",
         "showticklabels": false
        },
        "yaxis8": {
         "anchor": "x8",
         "domain": [
          0,
          1
         ],
         "matches": "y",
         "showticklabels": false
        },
        "yaxis9": {
         "anchor": "x9",
         "domain": [
          0,
          1
         ],
         "matches": "y",
         "showticklabels": false
        }
       }
      }
     },
     "metadata": {}
    }
   ],
   "source": [
    "optuna.visualization.plot_slice(study)"
   ]
  },
  {
   "cell_type": "code",
   "execution_count": 37,
   "metadata": {},
   "outputs": [],
   "source": [
    "df = study.trials_dataframe()"
   ]
  },
  {
   "cell_type": "code",
   "execution_count": 39,
   "metadata": {},
   "outputs": [
    {
     "output_type": "execute_result",
     "data": {
      "text/plain": [
       "     number   value             datetime_start          datetime_complete  \\\n",
       "0         0  0.7084 2021-02-27 04:05:31.104612 2021-02-27 04:05:33.155673   \n",
       "1         1  0.6895 2021-02-27 04:05:33.167604 2021-02-27 04:05:34.468074   \n",
       "2         2  0.6844 2021-02-27 04:05:34.469271 2021-02-27 04:05:34.708783   \n",
       "3         3  0.6545 2021-02-27 04:05:34.708890 2021-02-27 04:05:35.123811   \n",
       "4         4  0.6902 2021-02-27 04:05:35.123929 2021-02-27 04:05:35.388900   \n",
       "..      ...     ...                        ...                        ...   \n",
       "96       96  0.7540 2021-02-27 04:13:44.815034 2021-02-27 04:13:46.600442   \n",
       "97       97  0.7668 2021-02-27 04:13:46.601343 2021-02-27 04:13:48.193296   \n",
       "98       98  0.7625 2021-02-27 04:13:48.194160 2021-02-27 04:13:50.526372   \n",
       "99       99  0.7215 2021-02-27 04:13:50.527248 2021-02-27 04:13:52.695120   \n",
       "100     100  0.7625 2021-02-27 04:13:52.695293 2021-02-27 04:13:58.337961   \n",
       "\n",
       "                  duration  params_lgbm_bagging_fraction  \\\n",
       "0   0 days 00:00:02.051061                           0.4   \n",
       "1   0 days 00:00:01.300470                           0.7   \n",
       "2   0 days 00:00:00.239512                           0.5   \n",
       "3   0 days 00:00:00.414921                           0.5   \n",
       "4   0 days 00:00:00.264971                           1.0   \n",
       "..                     ...                           ...   \n",
       "96  0 days 00:00:01.785408                           0.7   \n",
       "97  0 days 00:00:01.591953                           0.9   \n",
       "98  0 days 00:00:02.332212                           0.9   \n",
       "99  0 days 00:00:02.167872                           0.7   \n",
       "100 0 days 00:00:05.642668                           0.6   \n",
       "\n",
       "     params_lgbm_bagging_freq params_lgbm_boosting  params_lgbm_drop_rate  \\\n",
       "0                         5.0                 gbdt                    NaN   \n",
       "1                         3.0                 dart           1.470119e-01   \n",
       "2                         6.0                 dart           1.170914e-05   \n",
       "3                        11.0                 dart           2.239867e-07   \n",
       "4                         NaN                 gbdt                    NaN   \n",
       "..                        ...                  ...                    ...   \n",
       "96                        7.0                 gbdt                    NaN   \n",
       "97                        8.0                 gbdt                    NaN   \n",
       "98                        5.0                 gbdt                    NaN   \n",
       "99                        6.0                 gbdt                    NaN   \n",
       "100                       4.0                 gbdt                    NaN   \n",
       "\n",
       "     params_lgbm_feature_fraction  ...  params_lgbm_max_drop  \\\n",
       "0                             0.4  ...                   NaN   \n",
       "1                             0.6  ...                  49.0   \n",
       "2                             0.9  ...                   9.0   \n",
       "3                             0.5  ...                  60.0   \n",
       "4                             NaN  ...                   NaN   \n",
       "..                            ...  ...                   ...   \n",
       "96                            1.0  ...                   NaN   \n",
       "97                            0.9  ...                   NaN   \n",
       "98                            0.9  ...                   NaN   \n",
       "99                            1.0  ...                   NaN   \n",
       "100                           0.8  ...                   NaN   \n",
       "\n",
       "     params_lgbm_min_child_samples  params_lgbm_num_iterations  \\\n",
       "0                               20                         300   \n",
       "1                                2                         700   \n",
       "2                               34                         400   \n",
       "3                               80                        1100   \n",
       "4                                5                         700   \n",
       "..                             ...                         ...   \n",
       "96                               2                         200   \n",
       "97                               2                         300   \n",
       "98                               2                         500   \n",
       "99                               2                        1000   \n",
       "100                              2                        1100   \n",
       "\n",
       "     params_lgbm_num_leaves  params_lgbm_objective params_lgbm_skip_drop  \\\n",
       "0                        31          cross_entropy                   NaN   \n",
       "1                         3                 binary              0.061949   \n",
       "2                         2          cross_entropy              0.266699   \n",
       "3                         2          cross_entropy              0.048539   \n",
       "4                         2          cross_entropy                   NaN   \n",
       "..                      ...                    ...                   ...   \n",
       "96                       25                 binary                   NaN   \n",
       "97                       15                 binary                   NaN   \n",
       "98                       12                 binary                   NaN   \n",
       "99                       18                 binary                   NaN   \n",
       "100                      15                 binary                   NaN   \n",
       "\n",
       "     params_lgbm_uniform_drop params_lgbm_xgboost_dart_mode  \\\n",
       "0                         NaN                           NaN   \n",
       "1                        True                          True   \n",
       "2                       False                          True   \n",
       "3                       False                          True   \n",
       "4                         NaN                           NaN   \n",
       "..                        ...                           ...   \n",
       "96                        NaN                           NaN   \n",
       "97                        NaN                           NaN   \n",
       "98                        NaN                           NaN   \n",
       "99                        NaN                           NaN   \n",
       "100                       NaN                           NaN   \n",
       "\n",
       "                             system_attrs_fixed_params     state  \n",
       "0    {'lgbm_num_leaves': 31, 'lgbm_min_child_sample...    PRUNED  \n",
       "1                                                  NaN    PRUNED  \n",
       "2                                                  NaN    PRUNED  \n",
       "3                                                  NaN    PRUNED  \n",
       "4                                                  NaN    PRUNED  \n",
       "..                                                 ...       ...  \n",
       "96                                                 NaN  COMPLETE  \n",
       "97                                                 NaN  COMPLETE  \n",
       "98                                                 NaN  COMPLETE  \n",
       "99                                                 NaN    PRUNED  \n",
       "100                                                NaN  COMPLETE  \n",
       "\n",
       "[101 rows x 21 columns]"
      ],
      "text/html": "<div>\n<style scoped>\n    .dataframe tbody tr th:only-of-type {\n        vertical-align: middle;\n    }\n\n    .dataframe tbody tr th {\n        vertical-align: top;\n    }\n\n    .dataframe thead th {\n        text-align: right;\n    }\n</style>\n<table border=\"1\" class=\"dataframe\">\n  <thead>\n    <tr style=\"text-align: right;\">\n      <th></th>\n      <th>number</th>\n      <th>value</th>\n      <th>datetime_start</th>\n      <th>datetime_complete</th>\n      <th>duration</th>\n      <th>params_lgbm_bagging_fraction</th>\n      <th>params_lgbm_bagging_freq</th>\n      <th>params_lgbm_boosting</th>\n      <th>params_lgbm_drop_rate</th>\n      <th>params_lgbm_feature_fraction</th>\n      <th>...</th>\n      <th>params_lgbm_max_drop</th>\n      <th>params_lgbm_min_child_samples</th>\n      <th>params_lgbm_num_iterations</th>\n      <th>params_lgbm_num_leaves</th>\n      <th>params_lgbm_objective</th>\n      <th>params_lgbm_skip_drop</th>\n      <th>params_lgbm_uniform_drop</th>\n      <th>params_lgbm_xgboost_dart_mode</th>\n      <th>system_attrs_fixed_params</th>\n      <th>state</th>\n    </tr>\n  </thead>\n  <tbody>\n    <tr>\n      <th>0</th>\n      <td>0</td>\n      <td>0.7084</td>\n      <td>2021-02-27 04:05:31.104612</td>\n      <td>2021-02-27 04:05:33.155673</td>\n      <td>0 days 00:00:02.051061</td>\n      <td>0.4</td>\n      <td>5.0</td>\n      <td>gbdt</td>\n      <td>NaN</td>\n      <td>0.4</td>\n      <td>...</td>\n      <td>NaN</td>\n      <td>20</td>\n      <td>300</td>\n      <td>31</td>\n      <td>cross_entropy</td>\n      <td>NaN</td>\n      <td>NaN</td>\n      <td>NaN</td>\n      <td>{'lgbm_num_leaves': 31, 'lgbm_min_child_sample...</td>\n      <td>PRUNED</td>\n    </tr>\n    <tr>\n      <th>1</th>\n      <td>1</td>\n      <td>0.6895</td>\n      <td>2021-02-27 04:05:33.167604</td>\n      <td>2021-02-27 04:05:34.468074</td>\n      <td>0 days 00:00:01.300470</td>\n      <td>0.7</td>\n      <td>3.0</td>\n      <td>dart</td>\n      <td>1.470119e-01</td>\n      <td>0.6</td>\n      <td>...</td>\n      <td>49.0</td>\n      <td>2</td>\n      <td>700</td>\n      <td>3</td>\n      <td>binary</td>\n      <td>0.061949</td>\n      <td>True</td>\n      <td>True</td>\n      <td>NaN</td>\n      <td>PRUNED</td>\n    </tr>\n    <tr>\n      <th>2</th>\n      <td>2</td>\n      <td>0.6844</td>\n      <td>2021-02-27 04:05:34.469271</td>\n      <td>2021-02-27 04:05:34.708783</td>\n      <td>0 days 00:00:00.239512</td>\n      <td>0.5</td>\n      <td>6.0</td>\n      <td>dart</td>\n      <td>1.170914e-05</td>\n      <td>0.9</td>\n      <td>...</td>\n      <td>9.0</td>\n      <td>34</td>\n      <td>400</td>\n      <td>2</td>\n      <td>cross_entropy</td>\n      <td>0.266699</td>\n      <td>False</td>\n      <td>True</td>\n      <td>NaN</td>\n      <td>PRUNED</td>\n    </tr>\n    <tr>\n      <th>3</th>\n      <td>3</td>\n      <td>0.6545</td>\n      <td>2021-02-27 04:05:34.708890</td>\n      <td>2021-02-27 04:05:35.123811</td>\n      <td>0 days 00:00:00.414921</td>\n      <td>0.5</td>\n      <td>11.0</td>\n      <td>dart</td>\n      <td>2.239867e-07</td>\n      <td>0.5</td>\n      <td>...</td>\n      <td>60.0</td>\n      <td>80</td>\n      <td>1100</td>\n      <td>2</td>\n      <td>cross_entropy</td>\n      <td>0.048539</td>\n      <td>False</td>\n      <td>True</td>\n      <td>NaN</td>\n      <td>PRUNED</td>\n    </tr>\n    <tr>\n      <th>4</th>\n      <td>4</td>\n      <td>0.6902</td>\n      <td>2021-02-27 04:05:35.123929</td>\n      <td>2021-02-27 04:05:35.388900</td>\n      <td>0 days 00:00:00.264971</td>\n      <td>1.0</td>\n      <td>NaN</td>\n      <td>gbdt</td>\n      <td>NaN</td>\n      <td>NaN</td>\n      <td>...</td>\n      <td>NaN</td>\n      <td>5</td>\n      <td>700</td>\n      <td>2</td>\n      <td>cross_entropy</td>\n      <td>NaN</td>\n      <td>NaN</td>\n      <td>NaN</td>\n      <td>NaN</td>\n      <td>PRUNED</td>\n    </tr>\n    <tr>\n      <th>...</th>\n      <td>...</td>\n      <td>...</td>\n      <td>...</td>\n      <td>...</td>\n      <td>...</td>\n      <td>...</td>\n      <td>...</td>\n      <td>...</td>\n      <td>...</td>\n      <td>...</td>\n      <td>...</td>\n      <td>...</td>\n      <td>...</td>\n      <td>...</td>\n      <td>...</td>\n      <td>...</td>\n      <td>...</td>\n      <td>...</td>\n      <td>...</td>\n      <td>...</td>\n      <td>...</td>\n    </tr>\n    <tr>\n      <th>96</th>\n      <td>96</td>\n      <td>0.7540</td>\n      <td>2021-02-27 04:13:44.815034</td>\n      <td>2021-02-27 04:13:46.600442</td>\n      <td>0 days 00:00:01.785408</td>\n      <td>0.7</td>\n      <td>7.0</td>\n      <td>gbdt</td>\n      <td>NaN</td>\n      <td>1.0</td>\n      <td>...</td>\n      <td>NaN</td>\n      <td>2</td>\n      <td>200</td>\n      <td>25</td>\n      <td>binary</td>\n      <td>NaN</td>\n      <td>NaN</td>\n      <td>NaN</td>\n      <td>NaN</td>\n      <td>COMPLETE</td>\n    </tr>\n    <tr>\n      <th>97</th>\n      <td>97</td>\n      <td>0.7668</td>\n      <td>2021-02-27 04:13:46.601343</td>\n      <td>2021-02-27 04:13:48.193296</td>\n      <td>0 days 00:00:01.591953</td>\n      <td>0.9</td>\n      <td>8.0</td>\n      <td>gbdt</td>\n      <td>NaN</td>\n      <td>0.9</td>\n      <td>...</td>\n      <td>NaN</td>\n      <td>2</td>\n      <td>300</td>\n      <td>15</td>\n      <td>binary</td>\n      <td>NaN</td>\n      <td>NaN</td>\n      <td>NaN</td>\n      <td>NaN</td>\n      <td>COMPLETE</td>\n    </tr>\n    <tr>\n      <th>98</th>\n      <td>98</td>\n      <td>0.7625</td>\n      <td>2021-02-27 04:13:48.194160</td>\n      <td>2021-02-27 04:13:50.526372</td>\n      <td>0 days 00:00:02.332212</td>\n      <td>0.9</td>\n      <td>5.0</td>\n      <td>gbdt</td>\n      <td>NaN</td>\n      <td>0.9</td>\n      <td>...</td>\n      <td>NaN</td>\n      <td>2</td>\n      <td>500</td>\n      <td>12</td>\n      <td>binary</td>\n      <td>NaN</td>\n      <td>NaN</td>\n      <td>NaN</td>\n      <td>NaN</td>\n      <td>COMPLETE</td>\n    </tr>\n    <tr>\n      <th>99</th>\n      <td>99</td>\n      <td>0.7215</td>\n      <td>2021-02-27 04:13:50.527248</td>\n      <td>2021-02-27 04:13:52.695120</td>\n      <td>0 days 00:00:02.167872</td>\n      <td>0.7</td>\n      <td>6.0</td>\n      <td>gbdt</td>\n      <td>NaN</td>\n      <td>1.0</td>\n      <td>...</td>\n      <td>NaN</td>\n      <td>2</td>\n      <td>1000</td>\n      <td>18</td>\n      <td>binary</td>\n      <td>NaN</td>\n      <td>NaN</td>\n      <td>NaN</td>\n      <td>NaN</td>\n      <td>PRUNED</td>\n    </tr>\n    <tr>\n      <th>100</th>\n      <td>100</td>\n      <td>0.7625</td>\n      <td>2021-02-27 04:13:52.695293</td>\n      <td>2021-02-27 04:13:58.337961</td>\n      <td>0 days 00:00:05.642668</td>\n      <td>0.6</td>\n      <td>4.0</td>\n      <td>gbdt</td>\n      <td>NaN</td>\n      <td>0.8</td>\n      <td>...</td>\n      <td>NaN</td>\n      <td>2</td>\n      <td>1100</td>\n      <td>15</td>\n      <td>binary</td>\n      <td>NaN</td>\n      <td>NaN</td>\n      <td>NaN</td>\n      <td>NaN</td>\n      <td>COMPLETE</td>\n    </tr>\n  </tbody>\n</table>\n<p>101 rows × 21 columns</p>\n</div>"
     },
     "metadata": {},
     "execution_count": 39
    }
   ],
   "source": [
    "df"
   ]
  },
  {
   "cell_type": "code",
   "execution_count": 38,
   "metadata": {},
   "outputs": [
    {
     "output_type": "error",
     "ename": "TypeError",
     "evalue": "unhashable type: 'dict'",
     "traceback": [
      "\u001b[0;31m---------------------------------------------------------------------------\u001b[0m",
      "\u001b[0;31mTypeError\u001b[0m                                 Traceback (most recent call last)",
      "\u001b[0;32m<ipython-input-38-e767f2043ea1>\u001b[0m in \u001b[0;36m<module>\u001b[0;34m\u001b[0m\n\u001b[0;32m----> 1\u001b[0;31m \u001b[0mdf\u001b[0m\u001b[0;34m.\u001b[0m\u001b[0mnunique\u001b[0m\u001b[0;34m(\u001b[0m\u001b[0;34m)\u001b[0m\u001b[0;34m\u001b[0m\u001b[0;34m\u001b[0m\u001b[0m\n\u001b[0m",
      "\u001b[0;32m~/anaconda3/envs/ds/lib/python3.8/site-packages/pandas/core/frame.py\u001b[0m in \u001b[0;36mnunique\u001b[0;34m(self, axis, dropna)\u001b[0m\n\u001b[1;32m   8733\u001b[0m         \u001b[0mdtype\u001b[0m\u001b[0;34m:\u001b[0m \u001b[0mint64\u001b[0m\u001b[0;34m\u001b[0m\u001b[0;34m\u001b[0m\u001b[0m\n\u001b[1;32m   8734\u001b[0m         \"\"\"\n\u001b[0;32m-> 8735\u001b[0;31m         \u001b[0;32mreturn\u001b[0m \u001b[0mself\u001b[0m\u001b[0;34m.\u001b[0m\u001b[0mapply\u001b[0m\u001b[0;34m(\u001b[0m\u001b[0mSeries\u001b[0m\u001b[0;34m.\u001b[0m\u001b[0mnunique\u001b[0m\u001b[0;34m,\u001b[0m \u001b[0maxis\u001b[0m\u001b[0;34m=\u001b[0m\u001b[0maxis\u001b[0m\u001b[0;34m,\u001b[0m \u001b[0mdropna\u001b[0m\u001b[0;34m=\u001b[0m\u001b[0mdropna\u001b[0m\u001b[0;34m)\u001b[0m\u001b[0;34m\u001b[0m\u001b[0;34m\u001b[0m\u001b[0m\n\u001b[0m\u001b[1;32m   8736\u001b[0m \u001b[0;34m\u001b[0m\u001b[0m\n\u001b[1;32m   8737\u001b[0m     \u001b[0;32mdef\u001b[0m \u001b[0midxmin\u001b[0m\u001b[0;34m(\u001b[0m\u001b[0mself\u001b[0m\u001b[0;34m,\u001b[0m \u001b[0maxis\u001b[0m\u001b[0;34m=\u001b[0m\u001b[0;36m0\u001b[0m\u001b[0;34m,\u001b[0m \u001b[0mskipna\u001b[0m\u001b[0;34m=\u001b[0m\u001b[0;32mTrue\u001b[0m\u001b[0;34m)\u001b[0m \u001b[0;34m->\u001b[0m \u001b[0mSeries\u001b[0m\u001b[0;34m:\u001b[0m\u001b[0;34m\u001b[0m\u001b[0;34m\u001b[0m\u001b[0m\n",
      "\u001b[0;32m~/anaconda3/envs/ds/lib/python3.8/site-packages/pandas/core/frame.py\u001b[0m in \u001b[0;36mapply\u001b[0;34m(self, func, axis, raw, result_type, args, **kwds)\u001b[0m\n\u001b[1;32m   7550\u001b[0m             \u001b[0mkwds\u001b[0m\u001b[0;34m=\u001b[0m\u001b[0mkwds\u001b[0m\u001b[0;34m,\u001b[0m\u001b[0;34m\u001b[0m\u001b[0;34m\u001b[0m\u001b[0m\n\u001b[1;32m   7551\u001b[0m         )\n\u001b[0;32m-> 7552\u001b[0;31m         \u001b[0;32mreturn\u001b[0m \u001b[0mop\u001b[0m\u001b[0;34m.\u001b[0m\u001b[0mget_result\u001b[0m\u001b[0;34m(\u001b[0m\u001b[0;34m)\u001b[0m\u001b[0;34m\u001b[0m\u001b[0;34m\u001b[0m\u001b[0m\n\u001b[0m\u001b[1;32m   7553\u001b[0m \u001b[0;34m\u001b[0m\u001b[0m\n\u001b[1;32m   7554\u001b[0m     \u001b[0;32mdef\u001b[0m \u001b[0mapplymap\u001b[0m\u001b[0;34m(\u001b[0m\u001b[0mself\u001b[0m\u001b[0;34m,\u001b[0m \u001b[0mfunc\u001b[0m\u001b[0;34m)\u001b[0m \u001b[0;34m->\u001b[0m \u001b[0;34m\"DataFrame\"\u001b[0m\u001b[0;34m:\u001b[0m\u001b[0;34m\u001b[0m\u001b[0;34m\u001b[0m\u001b[0m\n",
      "\u001b[0;32m~/anaconda3/envs/ds/lib/python3.8/site-packages/pandas/core/apply.py\u001b[0m in \u001b[0;36mget_result\u001b[0;34m(self)\u001b[0m\n\u001b[1;32m    178\u001b[0m             \u001b[0;32mreturn\u001b[0m \u001b[0mself\u001b[0m\u001b[0;34m.\u001b[0m\u001b[0mapply_raw\u001b[0m\u001b[0;34m(\u001b[0m\u001b[0;34m)\u001b[0m\u001b[0;34m\u001b[0m\u001b[0;34m\u001b[0m\u001b[0m\n\u001b[1;32m    179\u001b[0m \u001b[0;34m\u001b[0m\u001b[0m\n\u001b[0;32m--> 180\u001b[0;31m         \u001b[0;32mreturn\u001b[0m \u001b[0mself\u001b[0m\u001b[0;34m.\u001b[0m\u001b[0mapply_standard\u001b[0m\u001b[0;34m(\u001b[0m\u001b[0;34m)\u001b[0m\u001b[0;34m\u001b[0m\u001b[0;34m\u001b[0m\u001b[0m\n\u001b[0m\u001b[1;32m    181\u001b[0m \u001b[0;34m\u001b[0m\u001b[0m\n\u001b[1;32m    182\u001b[0m     \u001b[0;32mdef\u001b[0m \u001b[0mapply_empty_result\u001b[0m\u001b[0;34m(\u001b[0m\u001b[0mself\u001b[0m\u001b[0;34m)\u001b[0m\u001b[0;34m:\u001b[0m\u001b[0;34m\u001b[0m\u001b[0;34m\u001b[0m\u001b[0m\n",
      "\u001b[0;32m~/anaconda3/envs/ds/lib/python3.8/site-packages/pandas/core/apply.py\u001b[0m in \u001b[0;36mapply_standard\u001b[0;34m(self)\u001b[0m\n\u001b[1;32m    269\u001b[0m \u001b[0;34m\u001b[0m\u001b[0m\n\u001b[1;32m    270\u001b[0m     \u001b[0;32mdef\u001b[0m \u001b[0mapply_standard\u001b[0m\u001b[0;34m(\u001b[0m\u001b[0mself\u001b[0m\u001b[0;34m)\u001b[0m\u001b[0;34m:\u001b[0m\u001b[0;34m\u001b[0m\u001b[0;34m\u001b[0m\u001b[0m\n\u001b[0;32m--> 271\u001b[0;31m         \u001b[0mresults\u001b[0m\u001b[0;34m,\u001b[0m \u001b[0mres_index\u001b[0m \u001b[0;34m=\u001b[0m \u001b[0mself\u001b[0m\u001b[0;34m.\u001b[0m\u001b[0mapply_series_generator\u001b[0m\u001b[0;34m(\u001b[0m\u001b[0;34m)\u001b[0m\u001b[0;34m\u001b[0m\u001b[0;34m\u001b[0m\u001b[0m\n\u001b[0m\u001b[1;32m    272\u001b[0m \u001b[0;34m\u001b[0m\u001b[0m\n\u001b[1;32m    273\u001b[0m         \u001b[0;31m# wrap results\u001b[0m\u001b[0;34m\u001b[0m\u001b[0;34m\u001b[0m\u001b[0;34m\u001b[0m\u001b[0m\n",
      "\u001b[0;32m~/anaconda3/envs/ds/lib/python3.8/site-packages/pandas/core/apply.py\u001b[0m in \u001b[0;36mapply_series_generator\u001b[0;34m(self)\u001b[0m\n\u001b[1;32m    298\u001b[0m                 \u001b[0;32mfor\u001b[0m \u001b[0mi\u001b[0m\u001b[0;34m,\u001b[0m \u001b[0mv\u001b[0m \u001b[0;32min\u001b[0m \u001b[0menumerate\u001b[0m\u001b[0;34m(\u001b[0m\u001b[0mseries_gen\u001b[0m\u001b[0;34m)\u001b[0m\u001b[0;34m:\u001b[0m\u001b[0;34m\u001b[0m\u001b[0;34m\u001b[0m\u001b[0m\n\u001b[1;32m    299\u001b[0m                     \u001b[0;31m# ignore SettingWithCopy here in case the user mutates\u001b[0m\u001b[0;34m\u001b[0m\u001b[0;34m\u001b[0m\u001b[0;34m\u001b[0m\u001b[0m\n\u001b[0;32m--> 300\u001b[0;31m                     \u001b[0mresults\u001b[0m\u001b[0;34m[\u001b[0m\u001b[0mi\u001b[0m\u001b[0;34m]\u001b[0m \u001b[0;34m=\u001b[0m \u001b[0mself\u001b[0m\u001b[0;34m.\u001b[0m\u001b[0mf\u001b[0m\u001b[0;34m(\u001b[0m\u001b[0mv\u001b[0m\u001b[0;34m)\u001b[0m\u001b[0;34m\u001b[0m\u001b[0;34m\u001b[0m\u001b[0m\n\u001b[0m\u001b[1;32m    301\u001b[0m                     \u001b[0;32mif\u001b[0m \u001b[0misinstance\u001b[0m\u001b[0;34m(\u001b[0m\u001b[0mresults\u001b[0m\u001b[0;34m[\u001b[0m\u001b[0mi\u001b[0m\u001b[0;34m]\u001b[0m\u001b[0;34m,\u001b[0m \u001b[0mABCSeries\u001b[0m\u001b[0;34m)\u001b[0m\u001b[0;34m:\u001b[0m\u001b[0;34m\u001b[0m\u001b[0;34m\u001b[0m\u001b[0m\n\u001b[1;32m    302\u001b[0m                         \u001b[0;31m# If we have a view on v, we need to make a copy because\u001b[0m\u001b[0;34m\u001b[0m\u001b[0;34m\u001b[0m\u001b[0;34m\u001b[0m\u001b[0m\n",
      "\u001b[0;32m~/anaconda3/envs/ds/lib/python3.8/site-packages/pandas/core/apply.py\u001b[0m in \u001b[0;36mf\u001b[0;34m(x)\u001b[0m\n\u001b[1;32m    107\u001b[0m \u001b[0;34m\u001b[0m\u001b[0m\n\u001b[1;32m    108\u001b[0m             \u001b[0;32mdef\u001b[0m \u001b[0mf\u001b[0m\u001b[0;34m(\u001b[0m\u001b[0mx\u001b[0m\u001b[0;34m)\u001b[0m\u001b[0;34m:\u001b[0m\u001b[0;34m\u001b[0m\u001b[0;34m\u001b[0m\u001b[0m\n\u001b[0;32m--> 109\u001b[0;31m                 \u001b[0;32mreturn\u001b[0m \u001b[0mfunc\u001b[0m\u001b[0;34m(\u001b[0m\u001b[0mx\u001b[0m\u001b[0;34m,\u001b[0m \u001b[0;34m*\u001b[0m\u001b[0margs\u001b[0m\u001b[0;34m,\u001b[0m \u001b[0;34m**\u001b[0m\u001b[0mkwds\u001b[0m\u001b[0;34m)\u001b[0m\u001b[0;34m\u001b[0m\u001b[0;34m\u001b[0m\u001b[0m\n\u001b[0m\u001b[1;32m    110\u001b[0m \u001b[0;34m\u001b[0m\u001b[0m\n\u001b[1;32m    111\u001b[0m         \u001b[0;32melse\u001b[0m\u001b[0;34m:\u001b[0m\u001b[0;34m\u001b[0m\u001b[0;34m\u001b[0m\u001b[0m\n",
      "\u001b[0;32m~/anaconda3/envs/ds/lib/python3.8/site-packages/pandas/core/base.py\u001b[0m in \u001b[0;36mnunique\u001b[0;34m(self, dropna)\u001b[0m\n\u001b[1;32m   1301\u001b[0m         \u001b[0;36m4\u001b[0m\u001b[0;34m\u001b[0m\u001b[0;34m\u001b[0m\u001b[0m\n\u001b[1;32m   1302\u001b[0m         \"\"\"\n\u001b[0;32m-> 1303\u001b[0;31m         \u001b[0muniqs\u001b[0m \u001b[0;34m=\u001b[0m \u001b[0mself\u001b[0m\u001b[0;34m.\u001b[0m\u001b[0munique\u001b[0m\u001b[0;34m(\u001b[0m\u001b[0;34m)\u001b[0m\u001b[0;34m\u001b[0m\u001b[0;34m\u001b[0m\u001b[0m\n\u001b[0m\u001b[1;32m   1304\u001b[0m         \u001b[0mn\u001b[0m \u001b[0;34m=\u001b[0m \u001b[0mlen\u001b[0m\u001b[0;34m(\u001b[0m\u001b[0muniqs\u001b[0m\u001b[0;34m)\u001b[0m\u001b[0;34m\u001b[0m\u001b[0;34m\u001b[0m\u001b[0m\n\u001b[1;32m   1305\u001b[0m         \u001b[0;32mif\u001b[0m \u001b[0mdropna\u001b[0m \u001b[0;32mand\u001b[0m \u001b[0misna\u001b[0m\u001b[0;34m(\u001b[0m\u001b[0muniqs\u001b[0m\u001b[0;34m)\u001b[0m\u001b[0;34m.\u001b[0m\u001b[0many\u001b[0m\u001b[0;34m(\u001b[0m\u001b[0;34m)\u001b[0m\u001b[0;34m:\u001b[0m\u001b[0;34m\u001b[0m\u001b[0;34m\u001b[0m\u001b[0m\n",
      "\u001b[0;32m~/anaconda3/envs/ds/lib/python3.8/site-packages/pandas/core/series.py\u001b[0m in \u001b[0;36munique\u001b[0;34m(self)\u001b[0m\n\u001b[1;32m   1878\u001b[0m         \u001b[0mCategories\u001b[0m \u001b[0;34m(\u001b[0m\u001b[0;36m3\u001b[0m\u001b[0;34m,\u001b[0m \u001b[0mobject\u001b[0m\u001b[0;34m)\u001b[0m\u001b[0;34m:\u001b[0m \u001b[0;34m[\u001b[0m\u001b[0;34m'a'\u001b[0m \u001b[0;34m<\u001b[0m \u001b[0;34m'b'\u001b[0m \u001b[0;34m<\u001b[0m \u001b[0;34m'c'\u001b[0m\u001b[0;34m]\u001b[0m\u001b[0;34m\u001b[0m\u001b[0;34m\u001b[0m\u001b[0m\n\u001b[1;32m   1879\u001b[0m         \"\"\"\n\u001b[0;32m-> 1880\u001b[0;31m         \u001b[0mresult\u001b[0m \u001b[0;34m=\u001b[0m \u001b[0msuper\u001b[0m\u001b[0;34m(\u001b[0m\u001b[0;34m)\u001b[0m\u001b[0;34m.\u001b[0m\u001b[0munique\u001b[0m\u001b[0;34m(\u001b[0m\u001b[0;34m)\u001b[0m\u001b[0;34m\u001b[0m\u001b[0;34m\u001b[0m\u001b[0m\n\u001b[0m\u001b[1;32m   1881\u001b[0m         \u001b[0;32mreturn\u001b[0m \u001b[0mresult\u001b[0m\u001b[0;34m\u001b[0m\u001b[0;34m\u001b[0m\u001b[0m\n\u001b[1;32m   1882\u001b[0m \u001b[0;34m\u001b[0m\u001b[0m\n",
      "\u001b[0;32m~/anaconda3/envs/ds/lib/python3.8/site-packages/pandas/core/base.py\u001b[0m in \u001b[0;36munique\u001b[0;34m(self)\u001b[0m\n\u001b[1;32m   1263\u001b[0m                     \u001b[0mresult\u001b[0m \u001b[0;34m=\u001b[0m \u001b[0mnp\u001b[0m\u001b[0;34m.\u001b[0m\u001b[0masarray\u001b[0m\u001b[0;34m(\u001b[0m\u001b[0mresult\u001b[0m\u001b[0;34m)\u001b[0m\u001b[0;34m\u001b[0m\u001b[0;34m\u001b[0m\u001b[0m\n\u001b[1;32m   1264\u001b[0m         \u001b[0;32melse\u001b[0m\u001b[0;34m:\u001b[0m\u001b[0;34m\u001b[0m\u001b[0;34m\u001b[0m\u001b[0m\n\u001b[0;32m-> 1265\u001b[0;31m             \u001b[0mresult\u001b[0m \u001b[0;34m=\u001b[0m \u001b[0munique1d\u001b[0m\u001b[0;34m(\u001b[0m\u001b[0mvalues\u001b[0m\u001b[0;34m)\u001b[0m\u001b[0;34m\u001b[0m\u001b[0;34m\u001b[0m\u001b[0m\n\u001b[0m\u001b[1;32m   1266\u001b[0m \u001b[0;34m\u001b[0m\u001b[0m\n\u001b[1;32m   1267\u001b[0m         \u001b[0;32mreturn\u001b[0m \u001b[0mresult\u001b[0m\u001b[0;34m\u001b[0m\u001b[0;34m\u001b[0m\u001b[0m\n",
      "\u001b[0;32m~/anaconda3/envs/ds/lib/python3.8/site-packages/pandas/core/algorithms.py\u001b[0m in \u001b[0;36munique\u001b[0;34m(values)\u001b[0m\n\u001b[1;32m    387\u001b[0m \u001b[0;34m\u001b[0m\u001b[0m\n\u001b[1;32m    388\u001b[0m     \u001b[0mtable\u001b[0m \u001b[0;34m=\u001b[0m \u001b[0mhtable\u001b[0m\u001b[0;34m(\u001b[0m\u001b[0mlen\u001b[0m\u001b[0;34m(\u001b[0m\u001b[0mvalues\u001b[0m\u001b[0;34m)\u001b[0m\u001b[0;34m)\u001b[0m\u001b[0;34m\u001b[0m\u001b[0;34m\u001b[0m\u001b[0m\n\u001b[0;32m--> 389\u001b[0;31m     \u001b[0muniques\u001b[0m \u001b[0;34m=\u001b[0m \u001b[0mtable\u001b[0m\u001b[0;34m.\u001b[0m\u001b[0munique\u001b[0m\u001b[0;34m(\u001b[0m\u001b[0mvalues\u001b[0m\u001b[0;34m)\u001b[0m\u001b[0;34m\u001b[0m\u001b[0;34m\u001b[0m\u001b[0m\n\u001b[0m\u001b[1;32m    390\u001b[0m     \u001b[0muniques\u001b[0m \u001b[0;34m=\u001b[0m \u001b[0m_reconstruct_data\u001b[0m\u001b[0;34m(\u001b[0m\u001b[0muniques\u001b[0m\u001b[0;34m,\u001b[0m \u001b[0moriginal\u001b[0m\u001b[0;34m.\u001b[0m\u001b[0mdtype\u001b[0m\u001b[0;34m,\u001b[0m \u001b[0moriginal\u001b[0m\u001b[0;34m)\u001b[0m\u001b[0;34m\u001b[0m\u001b[0;34m\u001b[0m\u001b[0m\n\u001b[1;32m    391\u001b[0m     \u001b[0;32mreturn\u001b[0m \u001b[0muniques\u001b[0m\u001b[0;34m\u001b[0m\u001b[0;34m\u001b[0m\u001b[0m\n",
      "\u001b[0;32mpandas/_libs/hashtable_class_helper.pxi\u001b[0m in \u001b[0;36mpandas._libs.hashtable.PyObjectHashTable.unique\u001b[0;34m()\u001b[0m\n",
      "\u001b[0;32mpandas/_libs/hashtable_class_helper.pxi\u001b[0m in \u001b[0;36mpandas._libs.hashtable.PyObjectHashTable._unique\u001b[0;34m()\u001b[0m\n",
      "\u001b[0;31mTypeError\u001b[0m: unhashable type: 'dict'"
     ]
    }
   ],
   "source": [
    "df.nunique()"
   ]
  },
  {
   "cell_type": "code",
   "execution_count": 36,
   "metadata": {},
   "outputs": [
    {
     "output_type": "execute_result",
     "data": {
      "text/plain": [
       "COMPLETE    61\n",
       "PRUNED      40\n",
       "Name: state, dtype: int64"
      ]
     },
     "metadata": {},
     "execution_count": 36
    }
   ],
   "source": [
    "df.state.value_counts()"
   ]
  },
  {
   "cell_type": "code",
   "execution_count": null,
   "metadata": {},
   "outputs": [],
   "source": [
    "df"
   ]
  },
  {
   "cell_type": "code",
   "execution_count": null,
   "metadata": {},
   "outputs": [],
   "source": []
  }
 ]
}