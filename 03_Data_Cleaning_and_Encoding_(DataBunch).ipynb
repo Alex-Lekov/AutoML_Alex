{
 "cells": [
  {
   "cell_type": "code",
   "execution_count": 1,
   "metadata": {
    "ExecuteTime": {
     "end_time": "2020-05-07T04:23:49.057981Z",
     "start_time": "2020-05-07T04:23:49.053936Z"
    }
   },
   "outputs": [],
   "source": [
    "# If you run this notebook on Google Colaboratory, uncomment the below to install automl_alex.\n",
    "#!pip install automl-alex"
   ]
  },
  {
   "cell_type": "code",
   "execution_count": 1,
   "metadata": {
    "ExecuteTime": {
     "end_time": "2020-05-07T04:23:53.125987Z",
     "start_time": "2020-05-07T04:23:49.634140Z"
    },
    "tags": []
   },
   "outputs": [
    {
     "output_type": "stream",
     "name": "stdout",
     "text": "0.07.02\n"
    }
   ],
   "source": [
    "import sklearn\n",
    "from sklearn.model_selection import train_test_split\n",
    "\n",
    "import automl_alex\n",
    "from automl_alex import LightGBMClassifier, DataBunch\n",
    "\n",
    "print(automl_alex.__version__)"
   ]
  },
  {
   "cell_type": "code",
   "execution_count": 2,
   "metadata": {
    "ExecuteTime": {
     "end_time": "2020-05-07T04:23:53.136324Z",
     "start_time": "2020-05-07T04:23:53.129088Z"
    }
   },
   "outputs": [],
   "source": [
    "RANDOM_SEED = 42"
   ]
  },
  {
   "cell_type": "markdown",
   "metadata": {},
   "source": [
    "# Load Data"
   ]
  },
  {
   "cell_type": "code",
   "execution_count": 3,
   "metadata": {
    "ExecuteTime": {
     "end_time": "2020-05-07T04:23:53.241848Z",
     "start_time": "2020-05-07T04:23:53.141433Z"
    }
   },
   "outputs": [],
   "source": [
    "from sklearn.datasets import fetch_openml"
   ]
  },
  {
   "cell_type": "code",
   "execution_count": 4,
   "metadata": {
    "ExecuteTime": {
     "end_time": "2020-05-07T04:23:54.266953Z",
     "start_time": "2020-05-07T04:23:53.244733Z"
    }
   },
   "outputs": [
    {
     "output_type": "execute_result",
     "data": {
      "text/plain": "  age         workclass    fnlwgt  education  education-num  \\\n0   2         State-gov   77516.0  Bachelors           13.0   \n1   3  Self-emp-not-inc   83311.0  Bachelors           13.0   \n2   2           Private  215646.0    HS-grad            9.0   \n3   3           Private  234721.0       11th            7.0   \n4   1           Private  338409.0  Bachelors           13.0   \n\n       marital-status         occupation   relationship   race     sex  \\\n0       Never-married       Adm-clerical  Not-in-family  White    Male   \n1  Married-civ-spouse    Exec-managerial        Husband  White    Male   \n2            Divorced  Handlers-cleaners  Not-in-family  White    Male   \n3  Married-civ-spouse  Handlers-cleaners        Husband  Black    Male   \n4  Married-civ-spouse     Prof-specialty           Wife  Black  Female   \n\n  capitalgain capitalloss hoursperweek native-country  \n0           1           0            2  United-States  \n1           0           0            0  United-States  \n2           0           0            2  United-States  \n3           0           0            2  United-States  \n4           0           0            2           Cuba  ",
      "text/html": "<div>\n<style scoped>\n    .dataframe tbody tr th:only-of-type {\n        vertical-align: middle;\n    }\n\n    .dataframe tbody tr th {\n        vertical-align: top;\n    }\n\n    .dataframe thead th {\n        text-align: right;\n    }\n</style>\n<table border=\"1\" class=\"dataframe\">\n  <thead>\n    <tr style=\"text-align: right;\">\n      <th></th>\n      <th>age</th>\n      <th>workclass</th>\n      <th>fnlwgt</th>\n      <th>education</th>\n      <th>education-num</th>\n      <th>marital-status</th>\n      <th>occupation</th>\n      <th>relationship</th>\n      <th>race</th>\n      <th>sex</th>\n      <th>capitalgain</th>\n      <th>capitalloss</th>\n      <th>hoursperweek</th>\n      <th>native-country</th>\n    </tr>\n  </thead>\n  <tbody>\n    <tr>\n      <th>0</th>\n      <td>2</td>\n      <td>State-gov</td>\n      <td>77516.0</td>\n      <td>Bachelors</td>\n      <td>13.0</td>\n      <td>Never-married</td>\n      <td>Adm-clerical</td>\n      <td>Not-in-family</td>\n      <td>White</td>\n      <td>Male</td>\n      <td>1</td>\n      <td>0</td>\n      <td>2</td>\n      <td>United-States</td>\n    </tr>\n    <tr>\n      <th>1</th>\n      <td>3</td>\n      <td>Self-emp-not-inc</td>\n      <td>83311.0</td>\n      <td>Bachelors</td>\n      <td>13.0</td>\n      <td>Married-civ-spouse</td>\n      <td>Exec-managerial</td>\n      <td>Husband</td>\n      <td>White</td>\n      <td>Male</td>\n      <td>0</td>\n      <td>0</td>\n      <td>0</td>\n      <td>United-States</td>\n    </tr>\n    <tr>\n      <th>2</th>\n      <td>2</td>\n      <td>Private</td>\n      <td>215646.0</td>\n      <td>HS-grad</td>\n      <td>9.0</td>\n      <td>Divorced</td>\n      <td>Handlers-cleaners</td>\n      <td>Not-in-family</td>\n      <td>White</td>\n      <td>Male</td>\n      <td>0</td>\n      <td>0</td>\n      <td>2</td>\n      <td>United-States</td>\n    </tr>\n    <tr>\n      <th>3</th>\n      <td>3</td>\n      <td>Private</td>\n      <td>234721.0</td>\n      <td>11th</td>\n      <td>7.0</td>\n      <td>Married-civ-spouse</td>\n      <td>Handlers-cleaners</td>\n      <td>Husband</td>\n      <td>Black</td>\n      <td>Male</td>\n      <td>0</td>\n      <td>0</td>\n      <td>2</td>\n      <td>United-States</td>\n    </tr>\n    <tr>\n      <th>4</th>\n      <td>1</td>\n      <td>Private</td>\n      <td>338409.0</td>\n      <td>Bachelors</td>\n      <td>13.0</td>\n      <td>Married-civ-spouse</td>\n      <td>Prof-specialty</td>\n      <td>Wife</td>\n      <td>Black</td>\n      <td>Female</td>\n      <td>0</td>\n      <td>0</td>\n      <td>2</td>\n      <td>Cuba</td>\n    </tr>\n  </tbody>\n</table>\n</div>"
     },
     "metadata": {},
     "execution_count": 4
    }
   ],
   "source": [
    "dataset = fetch_openml(name='adult', version=1, as_frame=True)\n",
    "# convert target to binary\n",
    "dataset.target = dataset.target.astype('category').cat.codes\n",
    "dataset.data.head(5)"
   ]
  },
  {
   "cell_type": "code",
   "execution_count": 5,
   "metadata": {
    "ExecuteTime": {
     "end_time": "2020-05-07T04:23:54.292030Z",
     "start_time": "2020-05-07T04:23:54.276548Z"
    }
   },
   "outputs": [
    {
     "output_type": "execute_result",
     "data": {
      "text/plain": "((36631, 14), (12211, 14))"
     },
     "metadata": {},
     "execution_count": 5
    }
   ],
   "source": [
    "X_train, X_test, y_train, y_test = train_test_split(dataset.data, \n",
    "                                                    dataset.target,\n",
    "                                                    test_size=0.25, \n",
    "                                                    random_state=RANDOM_SEED,)\n",
    "X_train.shape, X_test.shape"
   ]
  },
  {
   "cell_type": "markdown",
   "metadata": {},
   "source": [
    "# Data Cleaning and Encoding (DataBunch)"
   ]
  },
  {
   "cell_type": "code",
   "execution_count": 6,
   "metadata": {
    "ExecuteTime": {
     "end_time": "2020-05-07T04:23:54.610535Z",
     "start_time": "2020-05-07T04:23:54.589857Z"
    }
   },
   "outputs": [
    {
     "output_type": "execute_result",
     "data": {
      "text/plain": "      age         workclass    fnlwgt     education  education-num  \\\n27859   3           Private  304857.0       Masters           14.0   \n5654    0           Private  189590.0     Bachelors           13.0   \n3779    4           Private   96299.0       HS-grad            9.0   \n10522   4  Self-emp-not-inc  196307.0     Bachelors           13.0   \n22461   0           Private  265434.0  Some-college           10.0   \n\n      marital-status        occupation   relationship   race     sex  \\\n27859      Separated      Tech-support  Not-in-family  White    Male   \n5654   Never-married      Tech-support  Not-in-family  White    Male   \n3779        Divorced  Transport-moving      Unmarried  White    Male   \n10522  Never-married    Prof-specialty  Not-in-family  White    Male   \n22461  Never-married    Prof-specialty      Own-child  White  Female   \n\n      capitalgain capitalloss hoursperweek native-country  \n27859           4           0            2  United-States  \n5654            0           0            2  United-States  \n3779            0           0            2  United-States  \n10522           0           0            0  United-States  \n22461           0           0            1  United-States  ",
      "text/html": "<div>\n<style scoped>\n    .dataframe tbody tr th:only-of-type {\n        vertical-align: middle;\n    }\n\n    .dataframe tbody tr th {\n        vertical-align: top;\n    }\n\n    .dataframe thead th {\n        text-align: right;\n    }\n</style>\n<table border=\"1\" class=\"dataframe\">\n  <thead>\n    <tr style=\"text-align: right;\">\n      <th></th>\n      <th>age</th>\n      <th>workclass</th>\n      <th>fnlwgt</th>\n      <th>education</th>\n      <th>education-num</th>\n      <th>marital-status</th>\n      <th>occupation</th>\n      <th>relationship</th>\n      <th>race</th>\n      <th>sex</th>\n      <th>capitalgain</th>\n      <th>capitalloss</th>\n      <th>hoursperweek</th>\n      <th>native-country</th>\n    </tr>\n  </thead>\n  <tbody>\n    <tr>\n      <th>27859</th>\n      <td>3</td>\n      <td>Private</td>\n      <td>304857.0</td>\n      <td>Masters</td>\n      <td>14.0</td>\n      <td>Separated</td>\n      <td>Tech-support</td>\n      <td>Not-in-family</td>\n      <td>White</td>\n      <td>Male</td>\n      <td>4</td>\n      <td>0</td>\n      <td>2</td>\n      <td>United-States</td>\n    </tr>\n    <tr>\n      <th>5654</th>\n      <td>0</td>\n      <td>Private</td>\n      <td>189590.0</td>\n      <td>Bachelors</td>\n      <td>13.0</td>\n      <td>Never-married</td>\n      <td>Tech-support</td>\n      <td>Not-in-family</td>\n      <td>White</td>\n      <td>Male</td>\n      <td>0</td>\n      <td>0</td>\n      <td>2</td>\n      <td>United-States</td>\n    </tr>\n    <tr>\n      <th>3779</th>\n      <td>4</td>\n      <td>Private</td>\n      <td>96299.0</td>\n      <td>HS-grad</td>\n      <td>9.0</td>\n      <td>Divorced</td>\n      <td>Transport-moving</td>\n      <td>Unmarried</td>\n      <td>White</td>\n      <td>Male</td>\n      <td>0</td>\n      <td>0</td>\n      <td>2</td>\n      <td>United-States</td>\n    </tr>\n    <tr>\n      <th>10522</th>\n      <td>4</td>\n      <td>Self-emp-not-inc</td>\n      <td>196307.0</td>\n      <td>Bachelors</td>\n      <td>13.0</td>\n      <td>Never-married</td>\n      <td>Prof-specialty</td>\n      <td>Not-in-family</td>\n      <td>White</td>\n      <td>Male</td>\n      <td>0</td>\n      <td>0</td>\n      <td>0</td>\n      <td>United-States</td>\n    </tr>\n    <tr>\n      <th>22461</th>\n      <td>0</td>\n      <td>Private</td>\n      <td>265434.0</td>\n      <td>Some-college</td>\n      <td>10.0</td>\n      <td>Never-married</td>\n      <td>Prof-specialty</td>\n      <td>Own-child</td>\n      <td>White</td>\n      <td>Female</td>\n      <td>0</td>\n      <td>0</td>\n      <td>1</td>\n      <td>United-States</td>\n    </tr>\n  </tbody>\n</table>\n</div>"
     },
     "metadata": {},
     "execution_count": 6
    }
   ],
   "source": [
    "X_train.head(5)"
   ]
  },
  {
   "cell_type": "code",
   "execution_count": 7,
   "metadata": {
    "ExecuteTime": {
     "end_time": "2020-05-07T04:23:55.231008Z",
     "start_time": "2020-05-07T04:23:55.209899Z"
    },
    "tags": []
   },
   "outputs": [
    {
     "output_type": "stream",
     "name": "stdout",
     "text": "<class 'pandas.core.frame.DataFrame'>\nInt64Index: 36631 entries, 27859 to 15795\nData columns (total 14 columns):\n #   Column          Non-Null Count  Dtype   \n---  ------          --------------  -----   \n 0   age             36631 non-null  category\n 1   workclass       34534 non-null  category\n 2   fnlwgt          36631 non-null  float64 \n 3   education       36631 non-null  category\n 4   education-num   36631 non-null  float64 \n 5   marital-status  36631 non-null  category\n 6   occupation      34525 non-null  category\n 7   relationship    36631 non-null  category\n 8   race            36631 non-null  category\n 9   sex             36631 non-null  category\n 10  capitalgain     36631 non-null  category\n 11  capitalloss     36631 non-null  category\n 12  hoursperweek    36631 non-null  category\n 13  native-country  35993 non-null  category\ndtypes: category(12), float64(2)\nmemory usage: 1.3 MB\n"
    }
   ],
   "source": [
    "X_train.info()"
   ]
  },
  {
   "cell_type": "markdown",
   "metadata": {},
   "source": [
    "As we can see, the data is quite dirty, there are object/category features and nans. But the **model is successfully trained even in such a dirty dataset**"
   ]
  },
  {
   "cell_type": "markdown",
   "metadata": {
    "ExecuteTime": {
     "end_time": "2020-05-07T01:38:37.740374Z",
     "start_time": "2020-05-07T01:38:37.732963Z"
    }
   },
   "source": [
    "[RUS] Как мы видим, данные довольно грязные, есть object/category признаки и nans. Но модель успешно обучаеться даже таком грязном датасете:"
   ]
  },
  {
   "cell_type": "code",
   "execution_count": 8,
   "metadata": {
    "ExecuteTime": {
     "end_time": "2020-05-07T04:23:58.470851Z",
     "start_time": "2020-05-07T04:23:56.885982Z"
    }
   },
   "outputs": [],
   "source": [
    "model = LightGBMClassifier(X_train, y_train, X_test, random_state=RANDOM_SEED)"
   ]
  },
  {
   "cell_type": "code",
   "execution_count": 9,
   "metadata": {
    "ExecuteTime": {
     "end_time": "2020-05-07T04:24:10.501288Z",
     "start_time": "2020-05-07T04:23:58.473630Z"
    }
   },
   "outputs": [
    {
     "output_type": "stream",
     "name": "stderr",
     "text": "0%|          | 0/1 [00:00<?, ?it/s]\n Mean Score roc_auc_score on 30 Folds: 0.9131 std: 0.004999\n100%|██████████| 1/1 [02:48<00:00, 168.25s/it]\nTest AUC:0.9122\n"
    }
   ],
   "source": [
    "# fit with default model parameters\n",
    "predicts = model.predict()\n",
    "print('Test AUC: ', round(sklearn.metrics.roc_auc_score(y_test, predicts['predict_test'][0]),4))"
   ]
  },
  {
   "cell_type": "markdown",
   "metadata": {},
   "source": [
    "**How is this possible?**      \n",
    "[RUS] как это возможно?"
   ]
  },
  {
   "cell_type": "markdown",
   "metadata": {
    "ExecuteTime": {
     "end_time": "2020-05-07T01:51:30.503806Z",
     "start_time": "2020-05-07T01:51:30.489339Z"
    }
   },
   "source": [
    "<img src=\"./img/magic.gif\" width=\"400\">"
   ]
  },
  {
   "cell_type": "markdown",
   "metadata": {},
   "source": [
    "## DataBunch\n",
    "before entering the model, the data goes through a full cycle of pre-processing in DataBunch     \n",
    "[RUS] до того как попасть в модель, данные проходят полный цикл предобработки."
   ]
  },
  {
   "cell_type": "code",
   "execution_count": 8,
   "metadata": {
    "ExecuteTime": {
     "end_time": "2020-05-07T04:24:11.924652Z",
     "start_time": "2020-05-07T04:24:10.506103Z"
    }
   },
   "outputs": [],
   "source": [
    "data = DataBunch(X_train=X_train, \n",
    "                y_train=y_train,\n",
    "                X_test=X_test, # be sure to specify X_test, because the encoder needs all dataset to work.\n",
    "                clean_and_encod_data=True,\n",
    "                cat_encoder_name='OneHotEncoder',\n",
    "                clean_nan=True, # fillnan\n",
    "                cat_features=None, # DataBunch can auto detect categorical features\n",
    "                random_state=RANDOM_SEED)"
   ]
  },
  {
   "cell_type": "code",
   "execution_count": 9,
   "metadata": {
    "ExecuteTime": {
     "end_time": "2020-05-07T04:24:11.943189Z",
     "start_time": "2020-05-07T04:24:11.927186Z"
    }
   },
   "outputs": [
    {
     "output_type": "execute_result",
     "data": {
      "text/plain": "     fnlwgt  OneHotEncoder_age_1  OneHotEncoder_age_2  OneHotEncoder_age_3  \\\n0  304857.0                    1                    0                    0   \n1  189590.0                    0                    1                    0   \n2   96299.0                    0                    0                    1   \n3  196307.0                    0                    0                    1   \n4  265434.0                    0                    1                    0   \n\n   OneHotEncoder_age_4  OneHotEncoder_age_5  OneHotEncoder_capitalloss_1  \\\n0                    0                    0                            1   \n1                    0                    0                            1   \n2                    0                    0                            1   \n3                    0                    0                            1   \n4                    0                    0                            1   \n\n   OneHotEncoder_capitalloss_2  OneHotEncoder_capitalloss_3  \\\n0                            0                            0   \n1                            0                            0   \n2                            0                            0   \n3                            0                            0   \n4                            0                            0   \n\n   OneHotEncoder_capitalloss_4  ...  OneHotEncoder_capitalgain_2  \\\n0                            0  ...                            0   \n1                            0  ...                            1   \n2                            0  ...                            1   \n3                            0  ...                            1   \n4                            0  ...                            1   \n\n   OneHotEncoder_capitalgain_3  OneHotEncoder_capitalgain_4  \\\n0                            0                            0   \n1                            0                            0   \n2                            0                            0   \n3                            0                            0   \n4                            0                            0   \n\n   OneHotEncoder_capitalgain_5  OneHotEncoder_relationship_1  \\\n0                            0                             1   \n1                            0                             1   \n2                            0                             0   \n3                            0                             1   \n4                            0                             0   \n\n   OneHotEncoder_relationship_2  OneHotEncoder_relationship_3  \\\n0                             0                             0   \n1                             0                             0   \n2                             1                             0   \n3                             0                             0   \n4                             0                             1   \n\n   OneHotEncoder_relationship_4  OneHotEncoder_relationship_5  \\\n0                             0                             0   \n1                             0                             0   \n2                             0                             0   \n3                             0                             0   \n4                             0                             0   \n\n   OneHotEncoder_relationship_6  \n0                             0  \n1                             0  \n2                             0  \n3                             0  \n4                             0  \n\n[5 rows x 122 columns]",
      "text/html": "<div>\n<style scoped>\n    .dataframe tbody tr th:only-of-type {\n        vertical-align: middle;\n    }\n\n    .dataframe tbody tr th {\n        vertical-align: top;\n    }\n\n    .dataframe thead th {\n        text-align: right;\n    }\n</style>\n<table border=\"1\" class=\"dataframe\">\n  <thead>\n    <tr style=\"text-align: right;\">\n      <th></th>\n      <th>fnlwgt</th>\n      <th>OneHotEncoder_age_1</th>\n      <th>OneHotEncoder_age_2</th>\n      <th>OneHotEncoder_age_3</th>\n      <th>OneHotEncoder_age_4</th>\n      <th>OneHotEncoder_age_5</th>\n      <th>OneHotEncoder_capitalloss_1</th>\n      <th>OneHotEncoder_capitalloss_2</th>\n      <th>OneHotEncoder_capitalloss_3</th>\n      <th>OneHotEncoder_capitalloss_4</th>\n      <th>...</th>\n      <th>OneHotEncoder_capitalgain_2</th>\n      <th>OneHotEncoder_capitalgain_3</th>\n      <th>OneHotEncoder_capitalgain_4</th>\n      <th>OneHotEncoder_capitalgain_5</th>\n      <th>OneHotEncoder_relationship_1</th>\n      <th>OneHotEncoder_relationship_2</th>\n      <th>OneHotEncoder_relationship_3</th>\n      <th>OneHotEncoder_relationship_4</th>\n      <th>OneHotEncoder_relationship_5</th>\n      <th>OneHotEncoder_relationship_6</th>\n    </tr>\n  </thead>\n  <tbody>\n    <tr>\n      <th>0</th>\n      <td>304857.0</td>\n      <td>1</td>\n      <td>0</td>\n      <td>0</td>\n      <td>0</td>\n      <td>0</td>\n      <td>1</td>\n      <td>0</td>\n      <td>0</td>\n      <td>0</td>\n      <td>...</td>\n      <td>0</td>\n      <td>0</td>\n      <td>0</td>\n      <td>0</td>\n      <td>1</td>\n      <td>0</td>\n      <td>0</td>\n      <td>0</td>\n      <td>0</td>\n      <td>0</td>\n    </tr>\n    <tr>\n      <th>1</th>\n      <td>189590.0</td>\n      <td>0</td>\n      <td>1</td>\n      <td>0</td>\n      <td>0</td>\n      <td>0</td>\n      <td>1</td>\n      <td>0</td>\n      <td>0</td>\n      <td>0</td>\n      <td>...</td>\n      <td>1</td>\n      <td>0</td>\n      <td>0</td>\n      <td>0</td>\n      <td>1</td>\n      <td>0</td>\n      <td>0</td>\n      <td>0</td>\n      <td>0</td>\n      <td>0</td>\n    </tr>\n    <tr>\n      <th>2</th>\n      <td>96299.0</td>\n      <td>0</td>\n      <td>0</td>\n      <td>1</td>\n      <td>0</td>\n      <td>0</td>\n      <td>1</td>\n      <td>0</td>\n      <td>0</td>\n      <td>0</td>\n      <td>...</td>\n      <td>1</td>\n      <td>0</td>\n      <td>0</td>\n      <td>0</td>\n      <td>0</td>\n      <td>1</td>\n      <td>0</td>\n      <td>0</td>\n      <td>0</td>\n      <td>0</td>\n    </tr>\n    <tr>\n      <th>3</th>\n      <td>196307.0</td>\n      <td>0</td>\n      <td>0</td>\n      <td>1</td>\n      <td>0</td>\n      <td>0</td>\n      <td>1</td>\n      <td>0</td>\n      <td>0</td>\n      <td>0</td>\n      <td>...</td>\n      <td>1</td>\n      <td>0</td>\n      <td>0</td>\n      <td>0</td>\n      <td>1</td>\n      <td>0</td>\n      <td>0</td>\n      <td>0</td>\n      <td>0</td>\n      <td>0</td>\n    </tr>\n    <tr>\n      <th>4</th>\n      <td>265434.0</td>\n      <td>0</td>\n      <td>1</td>\n      <td>0</td>\n      <td>0</td>\n      <td>0</td>\n      <td>1</td>\n      <td>0</td>\n      <td>0</td>\n      <td>0</td>\n      <td>...</td>\n      <td>1</td>\n      <td>0</td>\n      <td>0</td>\n      <td>0</td>\n      <td>0</td>\n      <td>0</td>\n      <td>1</td>\n      <td>0</td>\n      <td>0</td>\n      <td>0</td>\n    </tr>\n  </tbody>\n</table>\n<p>5 rows × 122 columns</p>\n</div>"
     },
     "metadata": {},
     "execution_count": 9
    }
   ],
   "source": [
    "data.X_train.head(5)"
   ]
  },
  {
   "cell_type": "markdown",
   "metadata": {},
   "source": [
    "## Encoders"
   ]
  },
  {
   "cell_type": "code",
   "execution_count": 10,
   "metadata": {
    "ExecuteTime": {
     "end_time": "2020-05-07T04:24:11.951750Z",
     "start_time": "2020-05-07T04:24:11.945886Z"
    }
   },
   "outputs": [
    {
     "output_type": "execute_result",
     "data": {
      "text/plain": "{'HashingEncoder': category_encoders.hashing.HashingEncoder,\n 'SumEncoder': category_encoders.sum_coding.SumEncoder,\n 'OneHotEncoder': category_encoders.one_hot.OneHotEncoder,\n 'HelmertEncoder': category_encoders.helmert.HelmertEncoder,\n 'OrdinalEncoder': category_encoders.ordinal.OrdinalEncoder}"
     },
     "metadata": {},
     "execution_count": 10
    }
   ],
   "source": [
    "# available Encoders:\n",
    "automl_alex.encoders.encoders_names"
   ]
  },
  {
   "cell_type": "code",
   "execution_count": 12,
   "metadata": {
    "ExecuteTime": {
     "end_time": "2020-05-07T04:24:13.268269Z",
     "start_time": "2020-05-07T04:24:11.964195Z"
    }
   },
   "outputs": [
    {
     "output_type": "execute_result",
     "data": {
      "text/plain": "     fnlwgt  HelmertEncoder_age_0  HelmertEncoder_age_1  HelmertEncoder_age_2  \\\n0  304857.0                  -1.0                  -1.0                  -1.0   \n1  189590.0                   1.0                  -1.0                  -1.0   \n2   96299.0                   0.0                   2.0                  -1.0   \n3  196307.0                   0.0                   2.0                  -1.0   \n4  265434.0                   1.0                  -1.0                  -1.0   \n\n   HelmertEncoder_age_3  HelmertEncoder_capitalloss_0  \\\n0                  -1.0                          -1.0   \n1                  -1.0                          -1.0   \n2                  -1.0                          -1.0   \n3                  -1.0                          -1.0   \n4                  -1.0                          -1.0   \n\n   HelmertEncoder_capitalloss_1  HelmertEncoder_capitalloss_2  \\\n0                          -1.0                          -1.0   \n1                          -1.0                          -1.0   \n2                          -1.0                          -1.0   \n3                          -1.0                          -1.0   \n4                          -1.0                          -1.0   \n\n   HelmertEncoder_capitalloss_3  HelmertEncoder_education-num  ...  \\\n0                          -1.0                          14.0  ...   \n1                          -1.0                          13.0  ...   \n2                          -1.0                           9.0  ...   \n3                          -1.0                          13.0  ...   \n4                          -1.0                          10.0  ...   \n\n   HelmertEncoder_education_14  HelmertEncoder_capitalgain_0  \\\n0                         -1.0                          -1.0   \n1                         -1.0                           1.0   \n2                         -1.0                           1.0   \n3                         -1.0                           1.0   \n4                         -1.0                           1.0   \n\n   HelmertEncoder_capitalgain_1  HelmertEncoder_capitalgain_2  \\\n0                          -1.0                          -1.0   \n1                          -1.0                          -1.0   \n2                          -1.0                          -1.0   \n3                          -1.0                          -1.0   \n4                          -1.0                          -1.0   \n\n   HelmertEncoder_capitalgain_3  HelmertEncoder_relationship_0  \\\n0                          -1.0                           -1.0   \n1                          -1.0                           -1.0   \n2                          -1.0                            1.0   \n3                          -1.0                           -1.0   \n4                          -1.0                            0.0   \n\n   HelmertEncoder_relationship_1  HelmertEncoder_relationship_2  \\\n0                           -1.0                           -1.0   \n1                           -1.0                           -1.0   \n2                           -1.0                           -1.0   \n3                           -1.0                           -1.0   \n4                            2.0                           -1.0   \n\n   HelmertEncoder_relationship_3  HelmertEncoder_relationship_4  \n0                           -1.0                           -1.0  \n1                           -1.0                           -1.0  \n2                           -1.0                           -1.0  \n3                           -1.0                           -1.0  \n4                           -1.0                           -1.0  \n\n[5 rows x 112 columns]",
      "text/html": "<div>\n<style scoped>\n    .dataframe tbody tr th:only-of-type {\n        vertical-align: middle;\n    }\n\n    .dataframe tbody tr th {\n        vertical-align: top;\n    }\n\n    .dataframe thead th {\n        text-align: right;\n    }\n</style>\n<table border=\"1\" class=\"dataframe\">\n  <thead>\n    <tr style=\"text-align: right;\">\n      <th></th>\n      <th>fnlwgt</th>\n      <th>HelmertEncoder_age_0</th>\n      <th>HelmertEncoder_age_1</th>\n      <th>HelmertEncoder_age_2</th>\n      <th>HelmertEncoder_age_3</th>\n      <th>HelmertEncoder_capitalloss_0</th>\n      <th>HelmertEncoder_capitalloss_1</th>\n      <th>HelmertEncoder_capitalloss_2</th>\n      <th>HelmertEncoder_capitalloss_3</th>\n      <th>HelmertEncoder_education-num</th>\n      <th>...</th>\n      <th>HelmertEncoder_education_14</th>\n      <th>HelmertEncoder_capitalgain_0</th>\n      <th>HelmertEncoder_capitalgain_1</th>\n      <th>HelmertEncoder_capitalgain_2</th>\n      <th>HelmertEncoder_capitalgain_3</th>\n      <th>HelmertEncoder_relationship_0</th>\n      <th>HelmertEncoder_relationship_1</th>\n      <th>HelmertEncoder_relationship_2</th>\n      <th>HelmertEncoder_relationship_3</th>\n      <th>HelmertEncoder_relationship_4</th>\n    </tr>\n  </thead>\n  <tbody>\n    <tr>\n      <th>0</th>\n      <td>304857.0</td>\n      <td>-1.0</td>\n      <td>-1.0</td>\n      <td>-1.0</td>\n      <td>-1.0</td>\n      <td>-1.0</td>\n      <td>-1.0</td>\n      <td>-1.0</td>\n      <td>-1.0</td>\n      <td>14.0</td>\n      <td>...</td>\n      <td>-1.0</td>\n      <td>-1.0</td>\n      <td>-1.0</td>\n      <td>-1.0</td>\n      <td>-1.0</td>\n      <td>-1.0</td>\n      <td>-1.0</td>\n      <td>-1.0</td>\n      <td>-1.0</td>\n      <td>-1.0</td>\n    </tr>\n    <tr>\n      <th>1</th>\n      <td>189590.0</td>\n      <td>1.0</td>\n      <td>-1.0</td>\n      <td>-1.0</td>\n      <td>-1.0</td>\n      <td>-1.0</td>\n      <td>-1.0</td>\n      <td>-1.0</td>\n      <td>-1.0</td>\n      <td>13.0</td>\n      <td>...</td>\n      <td>-1.0</td>\n      <td>1.0</td>\n      <td>-1.0</td>\n      <td>-1.0</td>\n      <td>-1.0</td>\n      <td>-1.0</td>\n      <td>-1.0</td>\n      <td>-1.0</td>\n      <td>-1.0</td>\n      <td>-1.0</td>\n    </tr>\n    <tr>\n      <th>2</th>\n      <td>96299.0</td>\n      <td>0.0</td>\n      <td>2.0</td>\n      <td>-1.0</td>\n      <td>-1.0</td>\n      <td>-1.0</td>\n      <td>-1.0</td>\n      <td>-1.0</td>\n      <td>-1.0</td>\n      <td>9.0</td>\n      <td>...</td>\n      <td>-1.0</td>\n      <td>1.0</td>\n      <td>-1.0</td>\n      <td>-1.0</td>\n      <td>-1.0</td>\n      <td>1.0</td>\n      <td>-1.0</td>\n      <td>-1.0</td>\n      <td>-1.0</td>\n      <td>-1.0</td>\n    </tr>\n    <tr>\n      <th>3</th>\n      <td>196307.0</td>\n      <td>0.0</td>\n      <td>2.0</td>\n      <td>-1.0</td>\n      <td>-1.0</td>\n      <td>-1.0</td>\n      <td>-1.0</td>\n      <td>-1.0</td>\n      <td>-1.0</td>\n      <td>13.0</td>\n      <td>...</td>\n      <td>-1.0</td>\n      <td>1.0</td>\n      <td>-1.0</td>\n      <td>-1.0</td>\n      <td>-1.0</td>\n      <td>-1.0</td>\n      <td>-1.0</td>\n      <td>-1.0</td>\n      <td>-1.0</td>\n      <td>-1.0</td>\n    </tr>\n    <tr>\n      <th>4</th>\n      <td>265434.0</td>\n      <td>1.0</td>\n      <td>-1.0</td>\n      <td>-1.0</td>\n      <td>-1.0</td>\n      <td>-1.0</td>\n      <td>-1.0</td>\n      <td>-1.0</td>\n      <td>-1.0</td>\n      <td>10.0</td>\n      <td>...</td>\n      <td>-1.0</td>\n      <td>1.0</td>\n      <td>-1.0</td>\n      <td>-1.0</td>\n      <td>-1.0</td>\n      <td>0.0</td>\n      <td>2.0</td>\n      <td>-1.0</td>\n      <td>-1.0</td>\n      <td>-1.0</td>\n    </tr>\n  </tbody>\n</table>\n<p>5 rows × 112 columns</p>\n</div>"
     },
     "metadata": {},
     "execution_count": 12
    }
   ],
   "source": [
    "data = DataBunch(X_train=X_train, \n",
    "                y_train=y_train,\n",
    "                X_test=X_test, # be sure to specify X_test, because the encoder needs all dataset to work.\n",
    "                clean_and_encod_data=True,\n",
    "                cat_encoder_name='HelmertEncoder',\n",
    "                clean_nan=True, # fillnan\n",
    "                #cat_features=categorical_features, # DataBunch can detect categorical features itself.\n",
    "                random_state=RANDOM_SEED)\n",
    "data.X_train.head(5)"
   ]
  },
  {
   "cell_type": "markdown",
   "metadata": {},
   "source": [
    "**Please note:** *Target Encoders processing takes place **inside cross-validation**. This shows unprocessed features after adding Target Encoders*"
   ]
  },
  {
   "cell_type": "markdown",
   "metadata": {},
   "source": [
    "[RUS] *Обратите внимание что обработка Target Encoder происходит внутри кроссвалидации. По этому видны не обработанные признаки после добавления Target Encoders.*"
   ]
  },
  {
   "cell_type": "markdown",
   "metadata": {
    "ExecuteTime": {
     "end_time": "2020-05-07T04:02:06.925090Z",
     "start_time": "2020-05-07T04:02:06.922362Z"
    }
   },
   "source": [
    "## Model databunch"
   ]
  },
  {
   "cell_type": "code",
   "execution_count": 15,
   "metadata": {
    "ExecuteTime": {
     "end_time": "2020-05-07T04:24:13.307830Z",
     "start_time": "2020-05-07T04:24:13.271370Z"
    }
   },
   "outputs": [
    {
     "output_type": "execute_result",
     "data": {
      "text/plain": "  age         workclass    fnlwgt     education  education-num marital-status  \\\n0   3           Private  304857.0       Masters           14.0      Separated   \n1   0           Private  189590.0     Bachelors           13.0  Never-married   \n2   4           Private   96299.0       HS-grad            9.0       Divorced   \n3   4  Self-emp-not-inc  196307.0     Bachelors           13.0  Never-married   \n4   0           Private  265434.0  Some-college           10.0  Never-married   \n\n         occupation   relationship   race  sex  ...  \\\n0      Tech-support  Not-in-family  White    1  ...   \n1      Tech-support  Not-in-family  White    1  ...   \n2  Transport-moving      Unmarried  White    1  ...   \n3    Prof-specialty  Not-in-family  White    1  ...   \n4    Prof-specialty      Own-child  White    0  ...   \n\n  HelmertEncoder_marital-status_0 HelmertEncoder_marital-status_1  \\\n0                            -1.0                            -1.0   \n1                             1.0                            -1.0   \n2                             0.0                             2.0   \n3                             1.0                            -1.0   \n4                             1.0                            -1.0   \n\n  HelmertEncoder_marital-status_2 HelmertEncoder_marital-status_3  \\\n0                            -1.0                            -1.0   \n1                            -1.0                            -1.0   \n2                            -1.0                            -1.0   \n3                            -1.0                            -1.0   \n4                            -1.0                            -1.0   \n\n   HelmertEncoder_marital-status_4  HelmertEncoder_marital-status_5  \\\n0                             -1.0                             -1.0   \n1                             -1.0                             -1.0   \n2                             -1.0                             -1.0   \n3                             -1.0                             -1.0   \n4                             -1.0                             -1.0   \n\n   HelmertEncoder_hoursperweek_0  HelmertEncoder_hoursperweek_1  \\\n0                           -1.0                           -1.0   \n1                           -1.0                           -1.0   \n2                           -1.0                           -1.0   \n3                            1.0                           -1.0   \n4                            0.0                            2.0   \n\n   HelmertEncoder_hoursperweek_2  HelmertEncoder_hoursperweek_3  \n0                           -1.0                           -1.0  \n1                           -1.0                           -1.0  \n2                           -1.0                           -1.0  \n3                           -1.0                           -1.0  \n4                           -1.0                           -1.0  \n\n[5 rows x 125 columns]",
      "text/html": "<div>\n<style scoped>\n    .dataframe tbody tr th:only-of-type {\n        vertical-align: middle;\n    }\n\n    .dataframe tbody tr th {\n        vertical-align: top;\n    }\n\n    .dataframe thead th {\n        text-align: right;\n    }\n</style>\n<table border=\"1\" class=\"dataframe\">\n  <thead>\n    <tr style=\"text-align: right;\">\n      <th></th>\n      <th>age</th>\n      <th>workclass</th>\n      <th>fnlwgt</th>\n      <th>education</th>\n      <th>education-num</th>\n      <th>marital-status</th>\n      <th>occupation</th>\n      <th>relationship</th>\n      <th>race</th>\n      <th>sex</th>\n      <th>...</th>\n      <th>HelmertEncoder_marital-status_0</th>\n      <th>HelmertEncoder_marital-status_1</th>\n      <th>HelmertEncoder_marital-status_2</th>\n      <th>HelmertEncoder_marital-status_3</th>\n      <th>HelmertEncoder_marital-status_4</th>\n      <th>HelmertEncoder_marital-status_5</th>\n      <th>HelmertEncoder_hoursperweek_0</th>\n      <th>HelmertEncoder_hoursperweek_1</th>\n      <th>HelmertEncoder_hoursperweek_2</th>\n      <th>HelmertEncoder_hoursperweek_3</th>\n    </tr>\n  </thead>\n  <tbody>\n    <tr>\n      <th>0</th>\n      <td>3</td>\n      <td>Private</td>\n      <td>304857.0</td>\n      <td>Masters</td>\n      <td>14.0</td>\n      <td>Separated</td>\n      <td>Tech-support</td>\n      <td>Not-in-family</td>\n      <td>White</td>\n      <td>1</td>\n      <td>...</td>\n      <td>-1.0</td>\n      <td>-1.0</td>\n      <td>-1.0</td>\n      <td>-1.0</td>\n      <td>-1.0</td>\n      <td>-1.0</td>\n      <td>-1.0</td>\n      <td>-1.0</td>\n      <td>-1.0</td>\n      <td>-1.0</td>\n    </tr>\n    <tr>\n      <th>1</th>\n      <td>0</td>\n      <td>Private</td>\n      <td>189590.0</td>\n      <td>Bachelors</td>\n      <td>13.0</td>\n      <td>Never-married</td>\n      <td>Tech-support</td>\n      <td>Not-in-family</td>\n      <td>White</td>\n      <td>1</td>\n      <td>...</td>\n      <td>1.0</td>\n      <td>-1.0</td>\n      <td>-1.0</td>\n      <td>-1.0</td>\n      <td>-1.0</td>\n      <td>-1.0</td>\n      <td>-1.0</td>\n      <td>-1.0</td>\n      <td>-1.0</td>\n      <td>-1.0</td>\n    </tr>\n    <tr>\n      <th>2</th>\n      <td>4</td>\n      <td>Private</td>\n      <td>96299.0</td>\n      <td>HS-grad</td>\n      <td>9.0</td>\n      <td>Divorced</td>\n      <td>Transport-moving</td>\n      <td>Unmarried</td>\n      <td>White</td>\n      <td>1</td>\n      <td>...</td>\n      <td>0.0</td>\n      <td>2.0</td>\n      <td>-1.0</td>\n      <td>-1.0</td>\n      <td>-1.0</td>\n      <td>-1.0</td>\n      <td>-1.0</td>\n      <td>-1.0</td>\n      <td>-1.0</td>\n      <td>-1.0</td>\n    </tr>\n    <tr>\n      <th>3</th>\n      <td>4</td>\n      <td>Self-emp-not-inc</td>\n      <td>196307.0</td>\n      <td>Bachelors</td>\n      <td>13.0</td>\n      <td>Never-married</td>\n      <td>Prof-specialty</td>\n      <td>Not-in-family</td>\n      <td>White</td>\n      <td>1</td>\n      <td>...</td>\n      <td>1.0</td>\n      <td>-1.0</td>\n      <td>-1.0</td>\n      <td>-1.0</td>\n      <td>-1.0</td>\n      <td>-1.0</td>\n      <td>1.0</td>\n      <td>-1.0</td>\n      <td>-1.0</td>\n      <td>-1.0</td>\n    </tr>\n    <tr>\n      <th>4</th>\n      <td>0</td>\n      <td>Private</td>\n      <td>265434.0</td>\n      <td>Some-college</td>\n      <td>10.0</td>\n      <td>Never-married</td>\n      <td>Prof-specialty</td>\n      <td>Own-child</td>\n      <td>White</td>\n      <td>0</td>\n      <td>...</td>\n      <td>1.0</td>\n      <td>-1.0</td>\n      <td>-1.0</td>\n      <td>-1.0</td>\n      <td>-1.0</td>\n      <td>-1.0</td>\n      <td>0.0</td>\n      <td>2.0</td>\n      <td>-1.0</td>\n      <td>-1.0</td>\n    </tr>\n  </tbody>\n</table>\n<p>5 rows × 125 columns</p>\n</div>"
     },
     "metadata": {},
     "execution_count": 15
    }
   ],
   "source": [
    "# After you can pass databunch in model\n",
    "model = LightGBMClassifier(databunch=data, random_state=RANDOM_SEED)\n",
    "model._data.X_train.head(5)"
   ]
  },
  {
   "cell_type": "code",
   "execution_count": 16,
   "metadata": {
    "ExecuteTime": {
     "end_time": "2020-05-07T04:24:14.648430Z",
     "start_time": "2020-05-07T04:24:13.310331Z"
    }
   },
   "outputs": [
    {
     "output_type": "execute_result",
     "data": {
      "text/plain": "  age         workclass    fnlwgt     education  education-num marital-status  \\\n0   3           Private  304857.0       Masters           14.0      Separated   \n1   0           Private  189590.0     Bachelors           13.0  Never-married   \n2   4           Private   96299.0       HS-grad            9.0       Divorced   \n3   4  Self-emp-not-inc  196307.0     Bachelors           13.0  Never-married   \n4   0           Private  265434.0  Some-college           10.0  Never-married   \n\n         occupation   relationship   race  sex  ...  \\\n0      Tech-support  Not-in-family  White    1  ...   \n1      Tech-support  Not-in-family  White    1  ...   \n2  Transport-moving      Unmarried  White    1  ...   \n3    Prof-specialty  Not-in-family  White    1  ...   \n4    Prof-specialty      Own-child  White    0  ...   \n\n  HelmertEncoder_marital-status_0 HelmertEncoder_marital-status_1  \\\n0                            -1.0                            -1.0   \n1                             1.0                            -1.0   \n2                             0.0                             2.0   \n3                             1.0                            -1.0   \n4                             1.0                            -1.0   \n\n  HelmertEncoder_marital-status_2 HelmertEncoder_marital-status_3  \\\n0                            -1.0                            -1.0   \n1                            -1.0                            -1.0   \n2                            -1.0                            -1.0   \n3                            -1.0                            -1.0   \n4                            -1.0                            -1.0   \n\n   HelmertEncoder_marital-status_4  HelmertEncoder_marital-status_5  \\\n0                             -1.0                             -1.0   \n1                             -1.0                             -1.0   \n2                             -1.0                             -1.0   \n3                             -1.0                             -1.0   \n4                             -1.0                             -1.0   \n\n   HelmertEncoder_hoursperweek_0  HelmertEncoder_hoursperweek_1  \\\n0                           -1.0                           -1.0   \n1                           -1.0                           -1.0   \n2                           -1.0                           -1.0   \n3                            1.0                           -1.0   \n4                            0.0                            2.0   \n\n   HelmertEncoder_hoursperweek_2  HelmertEncoder_hoursperweek_3  \n0                           -1.0                           -1.0  \n1                           -1.0                           -1.0  \n2                           -1.0                           -1.0  \n3                           -1.0                           -1.0  \n4                           -1.0                           -1.0  \n\n[5 rows x 125 columns]",
      "text/html": "<div>\n<style scoped>\n    .dataframe tbody tr th:only-of-type {\n        vertical-align: middle;\n    }\n\n    .dataframe tbody tr th {\n        vertical-align: top;\n    }\n\n    .dataframe thead th {\n        text-align: right;\n    }\n</style>\n<table border=\"1\" class=\"dataframe\">\n  <thead>\n    <tr style=\"text-align: right;\">\n      <th></th>\n      <th>age</th>\n      <th>workclass</th>\n      <th>fnlwgt</th>\n      <th>education</th>\n      <th>education-num</th>\n      <th>marital-status</th>\n      <th>occupation</th>\n      <th>relationship</th>\n      <th>race</th>\n      <th>sex</th>\n      <th>...</th>\n      <th>HelmertEncoder_marital-status_0</th>\n      <th>HelmertEncoder_marital-status_1</th>\n      <th>HelmertEncoder_marital-status_2</th>\n      <th>HelmertEncoder_marital-status_3</th>\n      <th>HelmertEncoder_marital-status_4</th>\n      <th>HelmertEncoder_marital-status_5</th>\n      <th>HelmertEncoder_hoursperweek_0</th>\n      <th>HelmertEncoder_hoursperweek_1</th>\n      <th>HelmertEncoder_hoursperweek_2</th>\n      <th>HelmertEncoder_hoursperweek_3</th>\n    </tr>\n  </thead>\n  <tbody>\n    <tr>\n      <th>0</th>\n      <td>3</td>\n      <td>Private</td>\n      <td>304857.0</td>\n      <td>Masters</td>\n      <td>14.0</td>\n      <td>Separated</td>\n      <td>Tech-support</td>\n      <td>Not-in-family</td>\n      <td>White</td>\n      <td>1</td>\n      <td>...</td>\n      <td>-1.0</td>\n      <td>-1.0</td>\n      <td>-1.0</td>\n      <td>-1.0</td>\n      <td>-1.0</td>\n      <td>-1.0</td>\n      <td>-1.0</td>\n      <td>-1.0</td>\n      <td>-1.0</td>\n      <td>-1.0</td>\n    </tr>\n    <tr>\n      <th>1</th>\n      <td>0</td>\n      <td>Private</td>\n      <td>189590.0</td>\n      <td>Bachelors</td>\n      <td>13.0</td>\n      <td>Never-married</td>\n      <td>Tech-support</td>\n      <td>Not-in-family</td>\n      <td>White</td>\n      <td>1</td>\n      <td>...</td>\n      <td>1.0</td>\n      <td>-1.0</td>\n      <td>-1.0</td>\n      <td>-1.0</td>\n      <td>-1.0</td>\n      <td>-1.0</td>\n      <td>-1.0</td>\n      <td>-1.0</td>\n      <td>-1.0</td>\n      <td>-1.0</td>\n    </tr>\n    <tr>\n      <th>2</th>\n      <td>4</td>\n      <td>Private</td>\n      <td>96299.0</td>\n      <td>HS-grad</td>\n      <td>9.0</td>\n      <td>Divorced</td>\n      <td>Transport-moving</td>\n      <td>Unmarried</td>\n      <td>White</td>\n      <td>1</td>\n      <td>...</td>\n      <td>0.0</td>\n      <td>2.0</td>\n      <td>-1.0</td>\n      <td>-1.0</td>\n      <td>-1.0</td>\n      <td>-1.0</td>\n      <td>-1.0</td>\n      <td>-1.0</td>\n      <td>-1.0</td>\n      <td>-1.0</td>\n    </tr>\n    <tr>\n      <th>3</th>\n      <td>4</td>\n      <td>Self-emp-not-inc</td>\n      <td>196307.0</td>\n      <td>Bachelors</td>\n      <td>13.0</td>\n      <td>Never-married</td>\n      <td>Prof-specialty</td>\n      <td>Not-in-family</td>\n      <td>White</td>\n      <td>1</td>\n      <td>...</td>\n      <td>1.0</td>\n      <td>-1.0</td>\n      <td>-1.0</td>\n      <td>-1.0</td>\n      <td>-1.0</td>\n      <td>-1.0</td>\n      <td>1.0</td>\n      <td>-1.0</td>\n      <td>-1.0</td>\n      <td>-1.0</td>\n    </tr>\n    <tr>\n      <th>4</th>\n      <td>0</td>\n      <td>Private</td>\n      <td>265434.0</td>\n      <td>Some-college</td>\n      <td>10.0</td>\n      <td>Never-married</td>\n      <td>Prof-specialty</td>\n      <td>Own-child</td>\n      <td>White</td>\n      <td>0</td>\n      <td>...</td>\n      <td>1.0</td>\n      <td>-1.0</td>\n      <td>-1.0</td>\n      <td>-1.0</td>\n      <td>-1.0</td>\n      <td>-1.0</td>\n      <td>0.0</td>\n      <td>2.0</td>\n      <td>-1.0</td>\n      <td>-1.0</td>\n    </tr>\n  </tbody>\n</table>\n<p>5 rows × 125 columns</p>\n</div>"
     },
     "metadata": {},
     "execution_count": 16
    }
   ],
   "source": [
    "# or you can specify all DataBunch settings in model\n",
    "model = LightGBMClassifier(X_train, \n",
    "                            y_train, \n",
    "                            X_test,\n",
    "                            cat_features=None,\n",
    "                            clean_and_encod_data=True,\n",
    "                            cat_encoder_name='HelmertEncoder',\n",
    "                            target_encoder_name='JamesSteinEncoder',\n",
    "                            clean_nan=True,\n",
    "                            random_state=RANDOM_SEED)\n",
    "model._data.X_train.head(5)"
   ]
  },
  {
   "cell_type": "markdown",
   "metadata": {},
   "source": [
    "If you need to make changes to the data, you can access the databunch directly in the model model._data.X_train. But I do not recommend doing this."
   ]
  },
  {
   "cell_type": "code",
   "execution_count": 22,
   "metadata": {
    "ExecuteTime": {
     "end_time": "2020-05-07T04:24:37.124919Z",
     "start_time": "2020-05-07T04:24:14.650366Z"
    }
   },
   "outputs": [
    {
     "output_type": "stream",
     "name": "stderr",
     "text": "0%|          | 0/1 [00:00<?, ?it/s]\n Mean Score roc_auc_score on 30 Folds: 0.9131 std: 0.005\n100%|██████████| 1/1 [00:49<00:00, 49.84s/it]\nTest AUC:0.9122\n"
    }
   ],
   "source": [
    "# fit with default model parameters\n",
    "predicts = model.predict()\n",
    "print('Test AUC: ', round(sklearn.metrics.roc_auc_score(y_test, predicts['predict_test'][0]),4))"
   ]
  },
  {
   "cell_type": "markdown",
   "metadata": {},
   "source": [
    "## Opt Encoders"
   ]
  },
  {
   "cell_type": "code",
   "execution_count": 23,
   "metadata": {},
   "outputs": [
    {
     "output_type": "stream",
     "name": "stdout",
     "text": "One iteration takes ~ 7.8 sec\nStart Auto calibration parameters\nStart optimization with the parameters:\nScore_folds =1\nOpt_lvl =1\nCold_start =63.0\nEarly_stoping =100\nMetric =roc_auc_score\nDirection =maximize\nDefault model roc_auc_score = 0.9102\n########################################\nOptimize: : 31it [05:49, 11.29s/it, LightGBM Best Score roc_auc_score = 0.9146 ]\n"
    }
   ],
   "source": [
    "history = model.opt(timeout=300, opt_encoders=True)"
   ]
  },
  {
   "cell_type": "code",
   "execution_count": 24,
   "metadata": {},
   "outputs": [
    {
     "output_type": "execute_result",
     "data": {
      "text/plain": "    score_opt  model_score  score_std model_name  \\\n2      0.9146       0.9146          0   LightGBM   \n23     0.9146       0.9146          0   LightGBM   \n0      0.9144       0.9144          0   LightGBM   \n29     0.9144       0.9144          0   LightGBM   \n22     0.9143       0.9143          0   LightGBM   \n12     0.9139       0.9139          0   LightGBM   \n10     0.9139       0.9139          0   LightGBM   \n11     0.9134       0.9134          0   LightGBM   \n3      0.9132       0.9132          0   LightGBM   \n13     0.9132       0.9132          0   LightGBM   \n\n                                          model_param  \\\n2   {'random_seed': 42, 'early_stopping_rounds': 5...   \n23  {'random_seed': 42, 'early_stopping_rounds': 5...   \n0   {'random_seed': 42, 'early_stopping_rounds': 5...   \n29  {'random_seed': 42, 'early_stopping_rounds': 5...   \n22  {'random_seed': 42, 'early_stopping_rounds': 5...   \n12  {'random_seed': 42, 'early_stopping_rounds': 5...   \n10  {'random_seed': 42, 'early_stopping_rounds': 5...   \n11  {'random_seed': 42, 'early_stopping_rounds': 5...   \n3   {'random_seed': 42, 'early_stopping_rounds': 5...   \n13  {'random_seed': 42, 'early_stopping_rounds': 5...   \n\n                                       wrapper_params     cat_encoder  \\\n2   {'need_norm_data': False, 'early_stopping': Fa...   OneHotEncoder   \n23  {'need_norm_data': False, 'early_stopping': Fa...  HashingEncoder   \n0   {'need_norm_data': False, 'early_stopping': Fa...  HelmertEncoder   \n29  {'need_norm_data': False, 'early_stopping': Fa...  OrdinalEncoder   \n22  {'need_norm_data': False, 'early_stopping': Fa...  HashingEncoder   \n12  {'need_norm_data': False, 'early_stopping': Fa...      SumEncoder   \n10  {'need_norm_data': False, 'early_stopping': Fa...  HelmertEncoder   \n11  {'need_norm_data': False, 'early_stopping': Fa...      SumEncoder   \n3   {'need_norm_data': False, 'early_stopping': Fa...  OrdinalEncoder   \n13  {'need_norm_data': False, 'early_stopping': Fa...   OneHotEncoder   \n\n       target_encoder  \n2   JamesSteinEncoder  \n23  JamesSteinEncoder  \n0       TargetEncoder  \n29  JamesSteinEncoder  \n22  JamesSteinEncoder  \n12  JamesSteinEncoder  \n10      TargetEncoder  \n11      TargetEncoder  \n3   JamesSteinEncoder  \n13    CatBoostEncoder  ",
      "text/html": "<div>\n<style scoped>\n    .dataframe tbody tr th:only-of-type {\n        vertical-align: middle;\n    }\n\n    .dataframe tbody tr th {\n        vertical-align: top;\n    }\n\n    .dataframe thead th {\n        text-align: right;\n    }\n</style>\n<table border=\"1\" class=\"dataframe\">\n  <thead>\n    <tr style=\"text-align: right;\">\n      <th></th>\n      <th>score_opt</th>\n      <th>model_score</th>\n      <th>score_std</th>\n      <th>model_name</th>\n      <th>model_param</th>\n      <th>wrapper_params</th>\n      <th>cat_encoder</th>\n      <th>target_encoder</th>\n    </tr>\n  </thead>\n  <tbody>\n    <tr>\n      <th>2</th>\n      <td>0.9146</td>\n      <td>0.9146</td>\n      <td>0</td>\n      <td>LightGBM</td>\n      <td>{'random_seed': 42, 'early_stopping_rounds': 5...</td>\n      <td>{'need_norm_data': False, 'early_stopping': Fa...</td>\n      <td>OneHotEncoder</td>\n      <td>JamesSteinEncoder</td>\n    </tr>\n    <tr>\n      <th>23</th>\n      <td>0.9146</td>\n      <td>0.9146</td>\n      <td>0</td>\n      <td>LightGBM</td>\n      <td>{'random_seed': 42, 'early_stopping_rounds': 5...</td>\n      <td>{'need_norm_data': False, 'early_stopping': Fa...</td>\n      <td>HashingEncoder</td>\n      <td>JamesSteinEncoder</td>\n    </tr>\n    <tr>\n      <th>0</th>\n      <td>0.9144</td>\n      <td>0.9144</td>\n      <td>0</td>\n      <td>LightGBM</td>\n      <td>{'random_seed': 42, 'early_stopping_rounds': 5...</td>\n      <td>{'need_norm_data': False, 'early_stopping': Fa...</td>\n      <td>HelmertEncoder</td>\n      <td>TargetEncoder</td>\n    </tr>\n    <tr>\n      <th>29</th>\n      <td>0.9144</td>\n      <td>0.9144</td>\n      <td>0</td>\n      <td>LightGBM</td>\n      <td>{'random_seed': 42, 'early_stopping_rounds': 5...</td>\n      <td>{'need_norm_data': False, 'early_stopping': Fa...</td>\n      <td>OrdinalEncoder</td>\n      <td>JamesSteinEncoder</td>\n    </tr>\n    <tr>\n      <th>22</th>\n      <td>0.9143</td>\n      <td>0.9143</td>\n      <td>0</td>\n      <td>LightGBM</td>\n      <td>{'random_seed': 42, 'early_stopping_rounds': 5...</td>\n      <td>{'need_norm_data': False, 'early_stopping': Fa...</td>\n      <td>HashingEncoder</td>\n      <td>JamesSteinEncoder</td>\n    </tr>\n    <tr>\n      <th>12</th>\n      <td>0.9139</td>\n      <td>0.9139</td>\n      <td>0</td>\n      <td>LightGBM</td>\n      <td>{'random_seed': 42, 'early_stopping_rounds': 5...</td>\n      <td>{'need_norm_data': False, 'early_stopping': Fa...</td>\n      <td>SumEncoder</td>\n      <td>JamesSteinEncoder</td>\n    </tr>\n    <tr>\n      <th>10</th>\n      <td>0.9139</td>\n      <td>0.9139</td>\n      <td>0</td>\n      <td>LightGBM</td>\n      <td>{'random_seed': 42, 'early_stopping_rounds': 5...</td>\n      <td>{'need_norm_data': False, 'early_stopping': Fa...</td>\n      <td>HelmertEncoder</td>\n      <td>TargetEncoder</td>\n    </tr>\n    <tr>\n      <th>11</th>\n      <td>0.9134</td>\n      <td>0.9134</td>\n      <td>0</td>\n      <td>LightGBM</td>\n      <td>{'random_seed': 42, 'early_stopping_rounds': 5...</td>\n      <td>{'need_norm_data': False, 'early_stopping': Fa...</td>\n      <td>SumEncoder</td>\n      <td>TargetEncoder</td>\n    </tr>\n    <tr>\n      <th>3</th>\n      <td>0.9132</td>\n      <td>0.9132</td>\n      <td>0</td>\n      <td>LightGBM</td>\n      <td>{'random_seed': 42, 'early_stopping_rounds': 5...</td>\n      <td>{'need_norm_data': False, 'early_stopping': Fa...</td>\n      <td>OrdinalEncoder</td>\n      <td>JamesSteinEncoder</td>\n    </tr>\n    <tr>\n      <th>13</th>\n      <td>0.9132</td>\n      <td>0.9132</td>\n      <td>0</td>\n      <td>LightGBM</td>\n      <td>{'random_seed': 42, 'early_stopping_rounds': 5...</td>\n      <td>{'need_norm_data': False, 'early_stopping': Fa...</td>\n      <td>OneHotEncoder</td>\n      <td>CatBoostEncoder</td>\n    </tr>\n  </tbody>\n</table>\n</div>"
     },
     "metadata": {},
     "execution_count": 24
    }
   ],
   "source": [
    "history.head(10)"
   ]
  },
  {
   "cell_type": "markdown",
   "metadata": {},
   "source": [
    "**Encoder selection is an important part of all AutoML**    \n",
    "Even with such smart preprocessing, don't forget the basic DS rule: **Garbage in the input is garbage in the output.**"
   ]
  },
  {
   "cell_type": "markdown",
   "metadata": {},
   "source": [
    "[RUS] Даже с такой умной предобработкой не забывайте: Мусор на входе - мусор на выходе."
   ]
  },
  {
   "cell_type": "code",
   "execution_count": null,
   "metadata": {},
   "outputs": [],
   "source": []
  }
 ],
 "metadata": {
  "kernelspec": {
   "display_name": "Python 3",
   "language": "python",
   "name": "python3"
  },
  "language_info": {
   "codemirror_mode": {
    "name": "ipython",
    "version": 3
   },
   "file_extension": ".py",
   "mimetype": "text/x-python",
   "name": "python",
   "nbconvert_exporter": "python",
   "pygments_lexer": "ipython3",
   "version": "3.8.3-final"
  },
  "toc": {
   "base_numbering": 1,
   "nav_menu": {},
   "number_sections": false,
   "sideBar": true,
   "skip_h1_title": false,
   "title_cell": "Table of Contents",
   "title_sidebar": "Contents",
   "toc_cell": false,
   "toc_position": {
    "height": "calc(100% - 180px)",
    "left": "10px",
    "top": "150px",
    "width": "165px"
   },
   "toc_section_display": true,
   "toc_window_display": true
  }
 },
 "nbformat": 4,
 "nbformat_minor": 4
}