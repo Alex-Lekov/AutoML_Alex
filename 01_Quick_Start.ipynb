{
 "cells": [
  {
   "cell_type": "code",
   "execution_count": 1,
   "metadata": {
    "ExecuteTime": {
     "end_time": "2020-05-07T01:04:07.223678Z",
     "start_time": "2020-05-07T01:04:07.203114Z"
    }
   },
   "outputs": [],
   "source": [
    "# If you run this notebook on Google Colaboratory, uncomment the below to install automl_alex.\n",
    "#!pip install --quiet -U automl_alex"
   ]
  },
  {
   "cell_type": "code",
   "execution_count": 1,
   "metadata": {
    "ExecuteTime": {
     "end_time": "2020-05-07T01:05:50.878720Z",
     "start_time": "2020-05-07T01:05:50.874642Z"
    },
    "tags": []
   },
   "outputs": [
    {
     "output_type": "stream",
     "name": "stdout",
     "text": "0.07.24\n"
    }
   ],
   "source": [
    "import automl_alex\n",
    "import sklearn\n",
    "import time\n",
    "from automl_alex import AutoML, AutoMLClassifier\n",
    "print(automl_alex.__version__)"
   ]
  },
  {
   "cell_type": "code",
   "execution_count": 2,
   "metadata": {
    "ExecuteTime": {
     "end_time": "2020-05-07T01:05:52.553896Z",
     "start_time": "2020-05-07T01:05:52.549132Z"
    }
   },
   "outputs": [],
   "source": [
    "RANDOM_SEED = 42"
   ]
  },
  {
   "cell_type": "markdown",
   "metadata": {},
   "source": [
    "# Classifier"
   ]
  },
  {
   "cell_type": "markdown",
   "metadata": {},
   "source": [
    "## Data"
   ]
  },
  {
   "cell_type": "code",
   "execution_count": 3,
   "metadata": {
    "ExecuteTime": {
     "end_time": "2020-05-07T01:05:55.127924Z",
     "start_time": "2020-05-07T01:05:55.037616Z"
    }
   },
   "outputs": [
    {
     "output_type": "execute_result",
     "data": {
      "text/plain": "  checking_status  duration                  credit_history  \\\n0              <0       6.0  critical/other existing credit   \n1        0<=X<200      48.0                   existing paid   \n2     no checking      12.0  critical/other existing credit   \n3              <0      42.0                   existing paid   \n4              <0      24.0              delayed previously   \n\n               purpose  credit_amount    savings_status employment  \\\n0             radio/tv         1169.0  no known savings        >=7   \n1             radio/tv         5951.0              <100     1<=X<4   \n2            education         2096.0              <100     4<=X<7   \n3  furniture/equipment         7882.0              <100     4<=X<7   \n4              new car         4870.0              <100     1<=X<4   \n\n   installment_commitment     personal_status other_parties  residence_since  \\\n0                     4.0         male single          none              4.0   \n1                     2.0  female div/dep/mar          none              2.0   \n2                     2.0         male single          none              3.0   \n3                     2.0         male single     guarantor              4.0   \n4                     3.0         male single          none              4.0   \n\n  property_magnitude   age other_payment_plans   housing  existing_credits  \\\n0        real estate  67.0                none       own               2.0   \n1        real estate  22.0                none       own               1.0   \n2        real estate  49.0                none       own               1.0   \n3     life insurance  45.0                none  for free               1.0   \n4  no known property  53.0                none  for free               2.0   \n\n                  job  num_dependents own_telephone foreign_worker  \n0             skilled             1.0           yes            yes  \n1             skilled             1.0          none            yes  \n2  unskilled resident             2.0          none            yes  \n3             skilled             2.0          none            yes  \n4             skilled             2.0          none            yes  ",
      "text/html": "<div>\n<style scoped>\n    .dataframe tbody tr th:only-of-type {\n        vertical-align: middle;\n    }\n\n    .dataframe tbody tr th {\n        vertical-align: top;\n    }\n\n    .dataframe thead th {\n        text-align: right;\n    }\n</style>\n<table border=\"1\" class=\"dataframe\">\n  <thead>\n    <tr style=\"text-align: right;\">\n      <th></th>\n      <th>checking_status</th>\n      <th>duration</th>\n      <th>credit_history</th>\n      <th>purpose</th>\n      <th>credit_amount</th>\n      <th>savings_status</th>\n      <th>employment</th>\n      <th>installment_commitment</th>\n      <th>personal_status</th>\n      <th>other_parties</th>\n      <th>residence_since</th>\n      <th>property_magnitude</th>\n      <th>age</th>\n      <th>other_payment_plans</th>\n      <th>housing</th>\n      <th>existing_credits</th>\n      <th>job</th>\n      <th>num_dependents</th>\n      <th>own_telephone</th>\n      <th>foreign_worker</th>\n    </tr>\n  </thead>\n  <tbody>\n    <tr>\n      <th>0</th>\n      <td>&lt;0</td>\n      <td>6.0</td>\n      <td>critical/other existing credit</td>\n      <td>radio/tv</td>\n      <td>1169.0</td>\n      <td>no known savings</td>\n      <td>&gt;=7</td>\n      <td>4.0</td>\n      <td>male single</td>\n      <td>none</td>\n      <td>4.0</td>\n      <td>real estate</td>\n      <td>67.0</td>\n      <td>none</td>\n      <td>own</td>\n      <td>2.0</td>\n      <td>skilled</td>\n      <td>1.0</td>\n      <td>yes</td>\n      <td>yes</td>\n    </tr>\n    <tr>\n      <th>1</th>\n      <td>0&lt;=X&lt;200</td>\n      <td>48.0</td>\n      <td>existing paid</td>\n      <td>radio/tv</td>\n      <td>5951.0</td>\n      <td>&lt;100</td>\n      <td>1&lt;=X&lt;4</td>\n      <td>2.0</td>\n      <td>female div/dep/mar</td>\n      <td>none</td>\n      <td>2.0</td>\n      <td>real estate</td>\n      <td>22.0</td>\n      <td>none</td>\n      <td>own</td>\n      <td>1.0</td>\n      <td>skilled</td>\n      <td>1.0</td>\n      <td>none</td>\n      <td>yes</td>\n    </tr>\n    <tr>\n      <th>2</th>\n      <td>no checking</td>\n      <td>12.0</td>\n      <td>critical/other existing credit</td>\n      <td>education</td>\n      <td>2096.0</td>\n      <td>&lt;100</td>\n      <td>4&lt;=X&lt;7</td>\n      <td>2.0</td>\n      <td>male single</td>\n      <td>none</td>\n      <td>3.0</td>\n      <td>real estate</td>\n      <td>49.0</td>\n      <td>none</td>\n      <td>own</td>\n      <td>1.0</td>\n      <td>unskilled resident</td>\n      <td>2.0</td>\n      <td>none</td>\n      <td>yes</td>\n    </tr>\n    <tr>\n      <th>3</th>\n      <td>&lt;0</td>\n      <td>42.0</td>\n      <td>existing paid</td>\n      <td>furniture/equipment</td>\n      <td>7882.0</td>\n      <td>&lt;100</td>\n      <td>4&lt;=X&lt;7</td>\n      <td>2.0</td>\n      <td>male single</td>\n      <td>guarantor</td>\n      <td>4.0</td>\n      <td>life insurance</td>\n      <td>45.0</td>\n      <td>none</td>\n      <td>for free</td>\n      <td>1.0</td>\n      <td>skilled</td>\n      <td>2.0</td>\n      <td>none</td>\n      <td>yes</td>\n    </tr>\n    <tr>\n      <th>4</th>\n      <td>&lt;0</td>\n      <td>24.0</td>\n      <td>delayed previously</td>\n      <td>new car</td>\n      <td>4870.0</td>\n      <td>&lt;100</td>\n      <td>1&lt;=X&lt;4</td>\n      <td>3.0</td>\n      <td>male single</td>\n      <td>none</td>\n      <td>4.0</td>\n      <td>no known property</td>\n      <td>53.0</td>\n      <td>none</td>\n      <td>for free</td>\n      <td>2.0</td>\n      <td>skilled</td>\n      <td>2.0</td>\n      <td>none</td>\n      <td>yes</td>\n    </tr>\n  </tbody>\n</table>\n</div>"
     },
     "metadata": {},
     "execution_count": 3
    }
   ],
   "source": [
    "from sklearn.datasets import fetch_openml\n",
    "from sklearn.model_selection import train_test_split\n",
    "dataset = fetch_openml(name='credit-g', version=1, as_frame=True)\n",
    "dataset.target = dataset.target.astype('category').cat.codes\n",
    "dataset.data.head(5)"
   ]
  },
  {
   "cell_type": "code",
   "execution_count": 4,
   "metadata": {
    "ExecuteTime": {
     "end_time": "2020-05-07T01:05:56.756465Z",
     "start_time": "2020-05-07T01:05:56.734220Z"
    }
   },
   "outputs": [
    {
     "output_type": "execute_result",
     "data": {
      "text/plain": "((750, 20), (250, 20))"
     },
     "metadata": {},
     "execution_count": 4
    }
   ],
   "source": [
    "X_train, X_test, y_train, y_test = train_test_split(dataset.data, \n",
    "                                                    dataset.target,\n",
    "                                                    test_size=0.25, \n",
    "                                                    random_state=RANDOM_SEED,)\n",
    "X_train.shape, X_test.shape"
   ]
  },
  {
   "cell_type": "markdown",
   "metadata": {},
   "source": [
    "## Model"
   ]
  },
  {
   "cell_type": "code",
   "execution_count": 5,
   "metadata": {
    "ExecuteTime": {
     "end_time": "2020-05-07T01:05:59.848085Z",
     "start_time": "2020-05-07T01:05:59.337884Z"
    },
    "tags": []
   },
   "outputs": [
    {
     "output_type": "stream",
     "name": "stdout",
     "text": "Source X_train shape:  (750, 20) | X_test shape:  (250, 20)\n##################################################\nAuto detect cat features:  13\n> Start preprocessing Data\n> Generate cat encodet features\n +  55  Features from  OneHotEncoder\n +  44  Features from  HelmertEncoder\n +  54  Features from  HashingEncoder\n +  16  Features from  FrequencyEncoder\n> Generate Frequency Encode num features\n +  4  Frequency Encode Num Features \n> Clean Nans in num features\n> Generate interaction Num Features\n +  24  Interaction Features\n> Normalization Features\n##################################################\n> Total Features:  201\n##################################################\nNew X_train shape:  (750, 201) | X_test shape:  (250, 201)\n"
    }
   ],
   "source": [
    "#model = AutoML(X_train, y_train, X_test, type_of_estimator='classifier', random_state=RANDOM_SEED)\n",
    "\n",
    "# or Simply\n",
    "model = AutoMLClassifier(X_train, y_train, X_test, random_state=RANDOM_SEED, verbose=1)"
   ]
  },
  {
   "cell_type": "code",
   "execution_count": 6,
   "metadata": {
    "ExecuteTime": {
     "end_time": "2020-05-06T17:01:04.947762Z",
     "start_time": "2020-05-06T16:47:23.396089Z"
    },
    "tags": []
   },
   "outputs": [
    {
     "output_type": "stream",
     "name": "stdout",
     "text": "__________________________________________________\nStep 1: Model 1\n__________________________________________________\nOne iteration takes ~ 0.5 sec\n> Start Auto calibration parameters\n> Start optimization with the parameters:\nCV_Folds =  10\nScore_CV_Folds =  5\nFeature_Selection =  True\nOpt_lvl =  3\nCold_start =  60.0\nEarly_stoping =  120.0\nMetric =  roc_auc_score\nDirection =  maximize\n##################################################\nDefault model OptScore = 0.7081\nOptimize: : 125it [08:07,  3.45s/it,  | Model: CatBoost | OptScore: 0.7933 | Best roc_auc_score: 0.825 +- 0.031694]\n EarlyStopping Exceeded: Best Score: 0.7933 roc_auc_score\nOptimize: : 125it [08:07,  3.90s/it,  | Model: CatBoost | OptScore: 0.7933 | Best roc_auc_score: 0.825 +- 0.031694]\n\n Predict from Models_1\n 25%|██▌       | 1/4 [00:06<00:20,  6.69s/it]\n Mean Score roc_auc_score on 20 Folds: 0.8032 std: 0.040215\n 50%|█████     | 2/4 [00:21<00:18,  9.03s/it]\n Mean Score roc_auc_score on 20 Folds: 0.8064 std: 0.048625\n 75%|███████▌  | 3/4 [00:32<00:09,  9.69s/it]\n Mean Score roc_auc_score on 20 Folds: 0.812 std: 0.045649\n100%|██████████| 4/4 [00:46<00:00, 11.59s/it]\n Mean Score roc_auc_score on 20 Folds: 0.8 std: 0.050067\n\n Models_1 Mean roc_auc_score Score Train:  0.7984\n__________________________________________________\nStep 2: Model 2\n__________________________________________________\n\nOne iteration takes ~ 0.5 sec\n> Start optimization with the parameters:\nCV_Folds =  10\nScore_CV_Folds =  10\nFeature_Selection =  True\nOpt_lvl =  3\nCold_start =  25\nEarly_stoping =  100\nMetric =  roc_auc_score\nDirection =  maximize\n##################################################\nDefault model OptScore = 0.7065\nOptimize: : 424it [04:53,  1.45it/s,  | Model: KNeighbors | OptScore: 0.7632 | Best roc_auc_score: 0.7902 +- 0.027039]\n\n Predict from Models_2\n 50%|█████     | 1/2 [00:00<00:00,  1.16it/s]\n Mean Score roc_auc_score on 20 Folds: 0.79 std: 0.040884\n100%|██████████| 2/2 [00:01<00:00,  1.16it/s]\n Mean Score roc_auc_score on 20 Folds: 0.7901 std: 0.041739\n\n Models_2 Mean roc_auc_score Score Train:  0.791\n\n Mean Models roc_auc_score Score Train:  0.8049\n__________________________________________________\nStep 3: Stacking\n__________________________________________________\n\nNew X_train:  (750, 6)  y_train:  (750,) | X_test shape:  (250, 6)\nOne iteration takes ~ 0.2 sec\n> Start optimization with the parameters:\nCV_Folds =  10\nScore_CV_Folds =  10\nFeature_Selection =  False\nOpt_lvl =  3\nCold_start =  25\nEarly_stoping =  100\nMetric =  roc_auc_score\nDirection =  maximize\n##################################################\nDefault model OptScore = 0.7477\n  0%|          | 0/2 [00:00<?, ?it/s]\n 50%|█████     | 1/2 [00:00<00:00,  6.38it/s]\n Mean Score roc_auc_score on 20 Folds: 0.8078 std: 0.041576\n100%|██████████| 2/2 [00:00<00:00,  6.23it/s]\n Mean Score roc_auc_score on 20 Folds: 0.8086 std: 0.043092\n\n Stacking model roc_auc_score Score Train:  0.8013\n\n\n Final Model roc_auc_score Score Train:  0.8049\nCPU times: user 47min 15s, sys: 8min 34s, total: 55min 50s\nWall time: 14min 43s\n"
    }
   ],
   "source": [
    "%%time\n",
    "predict_test, predict_train = model.fit_predict(timeout=1000, verbose=2)"
   ]
  },
  {
   "cell_type": "code",
   "execution_count": 7,
   "metadata": {
    "ExecuteTime": {
     "end_time": "2020-05-07T01:11:28.827682Z",
     "start_time": "2020-05-07T01:11:28.808642Z"
    }
   },
   "outputs": [
    {
     "output_type": "execute_result",
     "data": {
      "text/plain": "array([0.37783634, 0.38169086, 0.46794197, 0.34147796, 0.24674719])"
     },
     "metadata": {},
     "execution_count": 7
    }
   ],
   "source": [
    "predict_test[:5]"
   ]
  },
  {
   "cell_type": "code",
   "execution_count": 10,
   "metadata": {
    "tags": []
   },
   "outputs": [
    {
     "output_type": "stream",
     "name": "stdout",
     "text": "Test AUC:  0.8067\n"
    }
   ],
   "source": [
    "print('Test AUC: ', round(sklearn.metrics.roc_auc_score(y_test, predict_test),4))"
   ]
  },
  {
   "cell_type": "code",
   "execution_count": 9,
   "metadata": {},
   "outputs": [
    {
     "output_type": "execute_result",
     "data": {
      "text/plain": "   score_opt  model_score  score_std  model_name  \\\n0     0.7933       0.8250   0.031694    CatBoost   \n1     0.7829       0.8307   0.047783    CatBoost   \n2     0.7787       0.8269   0.048175    CatBoost   \n3     0.7786       0.8217   0.043135    CatBoost   \n4     0.7632       0.7902   0.027039  KNeighbors   \n5     0.7629       0.7928   0.029939  KNeighbors   \n\n                                         model_param  \\\n0  {'verbose': 0, 'early_stopping_rounds': 50, 't...   \n1  {'verbose': 0, 'early_stopping_rounds': 50, 't...   \n2  {'verbose': 0, 'early_stopping_rounds': 50, 't...   \n3  {'verbose': 0, 'early_stopping_rounds': 50, 't...   \n4  {'n_jobs': -1, 'n_neighbors': 125, 'weights': ...   \n5  {'n_jobs': -1, 'n_neighbors': 128, 'weights': ...   \n\n             wrapper_params  \\\n0  {'early_stopping': True}   \n1  {'early_stopping': True}   \n2  {'early_stopping': True}   \n3  {'early_stopping': True}   \n4                        {}   \n5                        {}   \n\n                                        cat_encoders  \\\n0  [OneHotEncoder, HelmertEncoder, HashingEncoder...   \n1  [OneHotEncoder, HelmertEncoder, HashingEncoder...   \n2  [OneHotEncoder, HelmertEncoder, HashingEncoder...   \n3  [OneHotEncoder, HelmertEncoder, HashingEncoder...   \n4  [OneHotEncoder, HelmertEncoder, HashingEncoder...   \n5  [OneHotEncoder, HelmertEncoder, HashingEncoder...   \n\n                                             columns  cv_folds  \n0  (duration, credit_amount, num_dependents, OneH...        10  \n1  (duration, OneHotEncoder_savings_status_1, One...        10  \n2  (duration, OneHotEncoder_savings_status_1, One...        10  \n3  (duration, OneHotEncoder_savings_status_1, One...        10  \n4  (age, OneHotEncoder_foreign_worker, OneHotEnco...        10  \n5  (age, OneHotEncoder_foreign_worker, OneHotEnco...        10  ",
      "text/html": "<div>\n<style scoped>\n    .dataframe tbody tr th:only-of-type {\n        vertical-align: middle;\n    }\n\n    .dataframe tbody tr th {\n        vertical-align: top;\n    }\n\n    .dataframe thead th {\n        text-align: right;\n    }\n</style>\n<table border=\"1\" class=\"dataframe\">\n  <thead>\n    <tr style=\"text-align: right;\">\n      <th></th>\n      <th>score_opt</th>\n      <th>model_score</th>\n      <th>score_std</th>\n      <th>model_name</th>\n      <th>model_param</th>\n      <th>wrapper_params</th>\n      <th>cat_encoders</th>\n      <th>columns</th>\n      <th>cv_folds</th>\n    </tr>\n  </thead>\n  <tbody>\n    <tr>\n      <th>0</th>\n      <td>0.7933</td>\n      <td>0.8250</td>\n      <td>0.031694</td>\n      <td>CatBoost</td>\n      <td>{'verbose': 0, 'early_stopping_rounds': 50, 't...</td>\n      <td>{'early_stopping': True}</td>\n      <td>[OneHotEncoder, HelmertEncoder, HashingEncoder...</td>\n      <td>(duration, credit_amount, num_dependents, OneH...</td>\n      <td>10</td>\n    </tr>\n    <tr>\n      <th>1</th>\n      <td>0.7829</td>\n      <td>0.8307</td>\n      <td>0.047783</td>\n      <td>CatBoost</td>\n      <td>{'verbose': 0, 'early_stopping_rounds': 50, 't...</td>\n      <td>{'early_stopping': True}</td>\n      <td>[OneHotEncoder, HelmertEncoder, HashingEncoder...</td>\n      <td>(duration, OneHotEncoder_savings_status_1, One...</td>\n      <td>10</td>\n    </tr>\n    <tr>\n      <th>2</th>\n      <td>0.7787</td>\n      <td>0.8269</td>\n      <td>0.048175</td>\n      <td>CatBoost</td>\n      <td>{'verbose': 0, 'early_stopping_rounds': 50, 't...</td>\n      <td>{'early_stopping': True}</td>\n      <td>[OneHotEncoder, HelmertEncoder, HashingEncoder...</td>\n      <td>(duration, OneHotEncoder_savings_status_1, One...</td>\n      <td>10</td>\n    </tr>\n    <tr>\n      <th>3</th>\n      <td>0.7786</td>\n      <td>0.8217</td>\n      <td>0.043135</td>\n      <td>CatBoost</td>\n      <td>{'verbose': 0, 'early_stopping_rounds': 50, 't...</td>\n      <td>{'early_stopping': True}</td>\n      <td>[OneHotEncoder, HelmertEncoder, HashingEncoder...</td>\n      <td>(duration, OneHotEncoder_savings_status_1, One...</td>\n      <td>10</td>\n    </tr>\n    <tr>\n      <th>4</th>\n      <td>0.7632</td>\n      <td>0.7902</td>\n      <td>0.027039</td>\n      <td>KNeighbors</td>\n      <td>{'n_jobs': -1, 'n_neighbors': 125, 'weights': ...</td>\n      <td>{}</td>\n      <td>[OneHotEncoder, HelmertEncoder, HashingEncoder...</td>\n      <td>(age, OneHotEncoder_foreign_worker, OneHotEnco...</td>\n      <td>10</td>\n    </tr>\n    <tr>\n      <th>5</th>\n      <td>0.7629</td>\n      <td>0.7928</td>\n      <td>0.029939</td>\n      <td>KNeighbors</td>\n      <td>{'n_jobs': -1, 'n_neighbors': 128, 'weights': ...</td>\n      <td>{}</td>\n      <td>[OneHotEncoder, HelmertEncoder, HashingEncoder...</td>\n      <td>(age, OneHotEncoder_foreign_worker, OneHotEnco...</td>\n      <td>10</td>\n    </tr>\n  </tbody>\n</table>\n</div>"
     },
     "metadata": {},
     "execution_count": 9
    }
   ],
   "source": [
    "model.stack_models_cfgs"
   ]
  },
  {
   "cell_type": "code",
   "execution_count": null,
   "metadata": {},
   "outputs": [],
   "source": []
  }
 ],
 "metadata": {
  "kernelspec": {
   "display_name": "Python 3.8.3 64-bit ('ds': conda)",
   "language": "python",
   "name": "python38364bitdscondadc8f49c0681c4f8d9aaeec09a1cf65fe"
  },
  "language_info": {
   "codemirror_mode": {
    "name": "ipython",
    "version": 3
   },
   "file_extension": ".py",
   "mimetype": "text/x-python",
   "name": "python",
   "nbconvert_exporter": "python",
   "pygments_lexer": "ipython3",
   "version": "3.8.3-final"
  },
  "toc": {
   "base_numbering": 1,
   "nav_menu": {},
   "number_sections": false,
   "sideBar": true,
   "skip_h1_title": false,
   "title_cell": "Table of Contents",
   "title_sidebar": "Contents",
   "toc_cell": false,
   "toc_position": {
    "height": "calc(100% - 180px)",
    "left": "10px",
    "top": "150px",
    "width": "165px"
   },
   "toc_section_display": true,
   "toc_window_display": true
  }
 },
 "nbformat": 4,
 "nbformat_minor": 4
}