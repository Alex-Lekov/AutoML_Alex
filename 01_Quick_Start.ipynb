{
 "cells": [
  {
   "cell_type": "code",
   "execution_count": 1,
   "metadata": {
    "ExecuteTime": {
     "end_time": "2020-05-07T01:04:07.223678Z",
     "start_time": "2020-05-07T01:04:07.203114Z"
    }
   },
   "outputs": [],
   "source": [
    "# If you run this notebook on Google Colaboratory, uncomment the below to install automl_alex.\n",
    "#!pip install --quiet automl_alex"
   ]
  },
  {
   "cell_type": "code",
   "execution_count": 1,
   "metadata": {
    "ExecuteTime": {
     "end_time": "2020-05-07T01:05:50.878720Z",
     "start_time": "2020-05-07T01:05:50.874642Z"
    },
    "tags": []
   },
   "outputs": [
    {
     "output_type": "stream",
     "name": "stdout",
     "text": "0.07.18\n"
    }
   ],
   "source": [
    "import automl_alex\n",
    "import sklearn\n",
    "import time\n",
    "from automl_alex import AutoML, AutoMLClassifier\n",
    "print(automl_alex.__version__)"
   ]
  },
  {
   "cell_type": "code",
   "execution_count": 2,
   "metadata": {
    "ExecuteTime": {
     "end_time": "2020-05-07T01:05:52.553896Z",
     "start_time": "2020-05-07T01:05:52.549132Z"
    }
   },
   "outputs": [],
   "source": [
    "RANDOM_SEED = 42"
   ]
  },
  {
   "cell_type": "markdown",
   "metadata": {},
   "source": [
    "# Classifier"
   ]
  },
  {
   "cell_type": "markdown",
   "metadata": {},
   "source": [
    "## Data"
   ]
  },
  {
   "cell_type": "code",
   "execution_count": 3,
   "metadata": {
    "ExecuteTime": {
     "end_time": "2020-05-07T01:05:55.127924Z",
     "start_time": "2020-05-07T01:05:55.037616Z"
    }
   },
   "outputs": [
    {
     "output_type": "execute_result",
     "data": {
      "text/plain": "  checking_status  duration                  credit_history  \\\n0              <0       6.0  critical/other existing credit   \n1        0<=X<200      48.0                   existing paid   \n2     no checking      12.0  critical/other existing credit   \n3              <0      42.0                   existing paid   \n4              <0      24.0              delayed previously   \n\n               purpose  credit_amount    savings_status employment  \\\n0             radio/tv         1169.0  no known savings        >=7   \n1             radio/tv         5951.0              <100     1<=X<4   \n2            education         2096.0              <100     4<=X<7   \n3  furniture/equipment         7882.0              <100     4<=X<7   \n4              new car         4870.0              <100     1<=X<4   \n\n   installment_commitment     personal_status other_parties  residence_since  \\\n0                     4.0         male single          none              4.0   \n1                     2.0  female div/dep/mar          none              2.0   \n2                     2.0         male single          none              3.0   \n3                     2.0         male single     guarantor              4.0   \n4                     3.0         male single          none              4.0   \n\n  property_magnitude   age other_payment_plans   housing  existing_credits  \\\n0        real estate  67.0                none       own               2.0   \n1        real estate  22.0                none       own               1.0   \n2        real estate  49.0                none       own               1.0   \n3     life insurance  45.0                none  for free               1.0   \n4  no known property  53.0                none  for free               2.0   \n\n                  job  num_dependents own_telephone foreign_worker  \n0             skilled             1.0           yes            yes  \n1             skilled             1.0          none            yes  \n2  unskilled resident             2.0          none            yes  \n3             skilled             2.0          none            yes  \n4             skilled             2.0          none            yes  ",
      "text/html": "<div>\n<style scoped>\n    .dataframe tbody tr th:only-of-type {\n        vertical-align: middle;\n    }\n\n    .dataframe tbody tr th {\n        vertical-align: top;\n    }\n\n    .dataframe thead th {\n        text-align: right;\n    }\n</style>\n<table border=\"1\" class=\"dataframe\">\n  <thead>\n    <tr style=\"text-align: right;\">\n      <th></th>\n      <th>checking_status</th>\n      <th>duration</th>\n      <th>credit_history</th>\n      <th>purpose</th>\n      <th>credit_amount</th>\n      <th>savings_status</th>\n      <th>employment</th>\n      <th>installment_commitment</th>\n      <th>personal_status</th>\n      <th>other_parties</th>\n      <th>residence_since</th>\n      <th>property_magnitude</th>\n      <th>age</th>\n      <th>other_payment_plans</th>\n      <th>housing</th>\n      <th>existing_credits</th>\n      <th>job</th>\n      <th>num_dependents</th>\n      <th>own_telephone</th>\n      <th>foreign_worker</th>\n    </tr>\n  </thead>\n  <tbody>\n    <tr>\n      <th>0</th>\n      <td>&lt;0</td>\n      <td>6.0</td>\n      <td>critical/other existing credit</td>\n      <td>radio/tv</td>\n      <td>1169.0</td>\n      <td>no known savings</td>\n      <td>&gt;=7</td>\n      <td>4.0</td>\n      <td>male single</td>\n      <td>none</td>\n      <td>4.0</td>\n      <td>real estate</td>\n      <td>67.0</td>\n      <td>none</td>\n      <td>own</td>\n      <td>2.0</td>\n      <td>skilled</td>\n      <td>1.0</td>\n      <td>yes</td>\n      <td>yes</td>\n    </tr>\n    <tr>\n      <th>1</th>\n      <td>0&lt;=X&lt;200</td>\n      <td>48.0</td>\n      <td>existing paid</td>\n      <td>radio/tv</td>\n      <td>5951.0</td>\n      <td>&lt;100</td>\n      <td>1&lt;=X&lt;4</td>\n      <td>2.0</td>\n      <td>female div/dep/mar</td>\n      <td>none</td>\n      <td>2.0</td>\n      <td>real estate</td>\n      <td>22.0</td>\n      <td>none</td>\n      <td>own</td>\n      <td>1.0</td>\n      <td>skilled</td>\n      <td>1.0</td>\n      <td>none</td>\n      <td>yes</td>\n    </tr>\n    <tr>\n      <th>2</th>\n      <td>no checking</td>\n      <td>12.0</td>\n      <td>critical/other existing credit</td>\n      <td>education</td>\n      <td>2096.0</td>\n      <td>&lt;100</td>\n      <td>4&lt;=X&lt;7</td>\n      <td>2.0</td>\n      <td>male single</td>\n      <td>none</td>\n      <td>3.0</td>\n      <td>real estate</td>\n      <td>49.0</td>\n      <td>none</td>\n      <td>own</td>\n      <td>1.0</td>\n      <td>unskilled resident</td>\n      <td>2.0</td>\n      <td>none</td>\n      <td>yes</td>\n    </tr>\n    <tr>\n      <th>3</th>\n      <td>&lt;0</td>\n      <td>42.0</td>\n      <td>existing paid</td>\n      <td>furniture/equipment</td>\n      <td>7882.0</td>\n      <td>&lt;100</td>\n      <td>4&lt;=X&lt;7</td>\n      <td>2.0</td>\n      <td>male single</td>\n      <td>guarantor</td>\n      <td>4.0</td>\n      <td>life insurance</td>\n      <td>45.0</td>\n      <td>none</td>\n      <td>for free</td>\n      <td>1.0</td>\n      <td>skilled</td>\n      <td>2.0</td>\n      <td>none</td>\n      <td>yes</td>\n    </tr>\n    <tr>\n      <th>4</th>\n      <td>&lt;0</td>\n      <td>24.0</td>\n      <td>delayed previously</td>\n      <td>new car</td>\n      <td>4870.0</td>\n      <td>&lt;100</td>\n      <td>1&lt;=X&lt;4</td>\n      <td>3.0</td>\n      <td>male single</td>\n      <td>none</td>\n      <td>4.0</td>\n      <td>no known property</td>\n      <td>53.0</td>\n      <td>none</td>\n      <td>for free</td>\n      <td>2.0</td>\n      <td>skilled</td>\n      <td>2.0</td>\n      <td>none</td>\n      <td>yes</td>\n    </tr>\n  </tbody>\n</table>\n</div>"
     },
     "metadata": {},
     "execution_count": 3
    }
   ],
   "source": [
    "from sklearn.datasets import fetch_openml\n",
    "from sklearn.model_selection import train_test_split\n",
    "dataset = fetch_openml(name='credit-g', version=1, as_frame=True)\n",
    "dataset.target = dataset.target.astype('category').cat.codes\n",
    "dataset.data.head(5)"
   ]
  },
  {
   "cell_type": "code",
   "execution_count": 4,
   "metadata": {
    "ExecuteTime": {
     "end_time": "2020-05-07T01:05:56.756465Z",
     "start_time": "2020-05-07T01:05:56.734220Z"
    }
   },
   "outputs": [
    {
     "output_type": "execute_result",
     "data": {
      "text/plain": "((750, 20), (250, 20))"
     },
     "metadata": {},
     "execution_count": 4
    }
   ],
   "source": [
    "X_train, X_test, y_train, y_test = train_test_split(dataset.data, \n",
    "                                                    dataset.target,\n",
    "                                                    test_size=0.25, \n",
    "                                                    random_state=RANDOM_SEED,)\n",
    "X_train.shape, X_test.shape"
   ]
  },
  {
   "cell_type": "markdown",
   "metadata": {},
   "source": [
    "## Model"
   ]
  },
  {
   "cell_type": "code",
   "execution_count": 5,
   "metadata": {
    "ExecuteTime": {
     "end_time": "2020-05-07T01:05:59.848085Z",
     "start_time": "2020-05-07T01:05:59.337884Z"
    },
    "tags": []
   },
   "outputs": [
    {
     "output_type": "stream",
     "name": "stdout",
     "text": "Source X_train shape:  (750, 20) | X_test shape:  (250, 20)\n##################################################\nAuto detect cat features:  13\n> Start preprocessing Data\n> Generate cat encodet features\n +  55  Features from  OneHotEncoder\n +  44  Features from  HelmertEncoder\n +  54  Features from  HashingEncoder\n +  16  Features from  FrequencyEncoder\n> Generate Frequency Encode num features\n +  4  Frequency Encode Num Features \n> Clean Nans in num features\n> Generate interaction Num Features\n +  24  Interaction Features\n> Normalization Features\n##################################################\n> Total Features:  201\n##################################################\nNew X_train shape:  (750, 201) | X_test shape:  (250, 201)\n"
    }
   ],
   "source": [
    "model = AutoML(X_train, y_train, X_test, type_of_estimator='classifier', random_state=RANDOM_SEED)\n",
    "\n",
    "# or Simply\n",
    "model = AutoMLClassifier(X_train, y_train, X_test, random_state=RANDOM_SEED, verbose=1)"
   ]
  },
  {
   "cell_type": "code",
   "execution_count": 6,
   "metadata": {
    "ExecuteTime": {
     "end_time": "2020-05-06T17:01:04.947762Z",
     "start_time": "2020-05-06T16:47:23.396089Z"
    },
    "tags": []
   },
   "outputs": [
    {
     "output_type": "stream",
     "name": "stdout",
     "text": "\n Opt BestModels\nOne iteration takes ~ 0.8 sec\n> Start Auto calibration parameters\n> Start optimization with the parameters:\nCV_Folds =  10\nScore_CV_Folds =  5\nFeature_Selection =  True\nOpt_lvl =  3\nCold_start =  122.0\nEarly_stoping =  244.0\nMetric =  roc_auc_score\nDirection =  maximize\n##################################################\nDefault model OptScore = 0.625\nOptimize: : 319it [21:48,  2.29s/it,  | Model: CatBoost | OptScore: 0.7946 | Best roc_auc_score: 0.8262 +- 0.031581]\n EarlyStopping Exceeded: Best Score: 0.7946 roc_auc_score\nOptimize: : 319it [21:48,  4.10s/it,  | Model: CatBoost | OptScore: 0.7946 | Best roc_auc_score: 0.8262 +- 0.031581]\n\n Predict from Models_1\n 10%|█         | 1/10 [00:51<07:44, 51.58s/it]\n Mean Score roc_auc_score on 30 Folds: 0.7994 std: 0.0483\n 20%|██        | 2/10 [01:12<05:39, 42.47s/it]\n Mean Score roc_auc_score on 30 Folds: 0.8006 std: 0.040451\n 30%|███       | 3/10 [01:21<03:45, 32.27s/it]\n Mean Score roc_auc_score on 30 Folds: 0.7973 std: 0.046485\n 40%|████      | 4/10 [01:30<02:31, 25.22s/it]\n Mean Score roc_auc_score on 30 Folds: 0.7988 std: 0.045756\n 50%|█████     | 5/10 [02:32<03:02, 36.44s/it]\n Mean Score roc_auc_score on 30 Folds: 0.7875 std: 0.045731\n 60%|██████    | 6/10 [03:40<03:04, 46.01s/it]\n Mean Score roc_auc_score on 30 Folds: 0.7972 std: 0.047295\n 70%|███████   | 7/10 [04:50<02:39, 53.04s/it]\n Mean Score roc_auc_score on 30 Folds: 0.7959 std: 0.040444\n 80%|████████  | 8/10 [05:53<01:51, 55.92s/it]\n Mean Score roc_auc_score on 30 Folds: 0.7883 std: 0.043723\n 90%|█████████ | 9/10 [06:02<00:41, 41.90s/it]\n Mean Score roc_auc_score on 30 Folds: 0.8046 std: 0.041977\n100%|██████████| 10/10 [07:17<00:00, 43.75s/it]\n Mean Score roc_auc_score on 30 Folds: 0.7899 std: 0.041145\n\n Models_1 Mean roc_auc_score Score Train:  0.8023\n\nOne iteration takes ~ 0.3 sec\n> Start Auto calibration parameters\n> Start optimization with the parameters:\nCV_Folds =  10\nScore_CV_Folds =  5\nFeature_Selection =  True\nOpt_lvl =  3\nCold_start =  77.0\nEarly_stoping =  154.0\nMetric =  roc_auc_score\nDirection =  maximize\n##################################################\nDefault model OptScore = 0.6939\nOptimize: : 289it [02:03,  2.20it/s,  | Model: LinearModel | OptScore: 0.7331 | Best roc_auc_score: 0.7781 +- 0.045041]\n EarlyStopping Exceeded: Best Score: 0.7331 roc_auc_score\nOptimize: : 289it [02:03,  2.35it/s,  | Model: LinearModel | OptScore: 0.7331 | Best roc_auc_score: 0.7781 +- 0.045041]\n\n Predict from Models_2\n 20%|██        | 1/5 [00:00<00:03,  1.03it/s]\n Mean Score roc_auc_score on 30 Folds: 0.7674 std: 0.04717\n 40%|████      | 2/5 [00:01<00:02,  1.02it/s]\n Mean Score roc_auc_score on 30 Folds: 0.764 std: 0.045717\n 60%|██████    | 3/5 [00:02<00:01,  1.02it/s]\n Mean Score roc_auc_score on 30 Folds: 0.7656 std: 0.045807\n 80%|████████  | 4/5 [00:03<00:00,  1.02it/s]\n Mean Score roc_auc_score on 30 Folds: 0.7638 std: 0.047988\n100%|██████████| 5/5 [00:04<00:00,  1.03it/s]\n Mean Score roc_auc_score on 30 Folds: 0.7655 std: 0.046288\n\n Models_2 Mean roc_auc_score Score Train:  0.7667\n\n StackModels roc_auc_score Score Train:  0.7945\n\nCPU times: user 2h 11min 44s, sys: 6min 57s, total: 2h 18min 42s\nWall time: 31min 18s\n"
    }
   ],
   "source": [
    "%%time\n",
    "predict_test, predict_train = model.fit_predict(timeout=1000, verbose=2)"
   ]
  },
  {
   "cell_type": "code",
   "execution_count": 7,
   "metadata": {
    "ExecuteTime": {
     "end_time": "2020-05-07T01:11:28.827682Z",
     "start_time": "2020-05-07T01:11:28.808642Z"
    }
   },
   "outputs": [
    {
     "output_type": "execute_result",
     "data": {
      "text/plain": "array([0.51055295, 0.52282972, 0.62619949, 0.48629442, 0.23862737])"
     },
     "metadata": {},
     "execution_count": 7
    }
   ],
   "source": [
    "predict_test[:5]"
   ]
  },
  {
   "cell_type": "code",
   "execution_count": 10,
   "metadata": {
    "tags": []
   },
   "outputs": [
    {
     "output_type": "stream",
     "name": "stdout",
     "text": "Test AUC:  0.817\n"
    }
   ],
   "source": [
    "print('Test AUC: ', round(sklearn.metrics.roc_auc_score(y_test, predict_test),4))"
   ]
  },
  {
   "cell_type": "code",
   "execution_count": 11,
   "metadata": {},
   "outputs": [
    {
     "output_type": "execute_result",
     "data": {
      "text/plain": "    score_opt  model_score  score_std   model_name  \\\n0      0.7946       0.8262   0.031581     CatBoost   \n1      0.7930       0.8200   0.026979     CatBoost   \n2      0.7870       0.8199   0.032916     CatBoost   \n3      0.7850       0.8178   0.032841     CatBoost   \n4      0.7850       0.8040   0.019039     CatBoost   \n5      0.7837       0.8180   0.034271     CatBoost   \n6      0.7831       0.8211   0.037984     CatBoost   \n7      0.7820       0.8222   0.040157     CatBoost   \n8      0.7814       0.8098   0.028421     CatBoost   \n9      0.7804       0.7995   0.019051     CatBoost   \n10     0.7331       0.7781   0.045041  LinearModel   \n11     0.7322       0.7826   0.050418  LinearModel   \n12     0.7312       0.7782   0.047038  LinearModel   \n13     0.7311       0.7780   0.046925  LinearModel   \n14     0.7311       0.7812   0.050054  LinearModel   \n\n                                          model_param  \\\n0   {'verbose': 0, 'early_stopping_rounds': 50, 't...   \n1   {'verbose': 0, 'early_stopping_rounds': 50, 't...   \n2   {'verbose': 0, 'early_stopping_rounds': 50, 't...   \n3   {'verbose': 0, 'early_stopping_rounds': 50, 't...   \n4   {'verbose': 0, 'early_stopping_rounds': 50, 't...   \n5   {'verbose': 0, 'early_stopping_rounds': 50, 't...   \n6   {'verbose': 0, 'early_stopping_rounds': 50, 't...   \n7   {'verbose': 0, 'early_stopping_rounds': 50, 't...   \n8   {'verbose': 0, 'early_stopping_rounds': 50, 't...   \n9   {'verbose': 0, 'early_stopping_rounds': 50, 't...   \n10  {'verbose': 0, 'fit_intercept': False, 'C': 74...   \n11  {'verbose': 0, 'fit_intercept': False, 'C': 63...   \n12  {'verbose': 0, 'fit_intercept': False, 'C': 62...   \n13  {'verbose': 0, 'fit_intercept': False, 'C': 71...   \n14  {'verbose': 0, 'fit_intercept': False, 'C': 69...   \n\n              wrapper_params  \\\n0   {'early_stopping': True}   \n1   {'early_stopping': True}   \n2   {'early_stopping': True}   \n3   {'early_stopping': True}   \n4   {'early_stopping': True}   \n5   {'early_stopping': True}   \n6   {'early_stopping': True}   \n7   {'early_stopping': True}   \n8   {'early_stopping': True}   \n9   {'early_stopping': True}   \n10                        {}   \n11                        {}   \n12                        {}   \n13                        {}   \n14                        {}   \n\n                                         cat_encoders  \\\n0   [OneHotEncoder, HelmertEncoder, HashingEncoder...   \n1   [OneHotEncoder, HelmertEncoder, HashingEncoder...   \n2   [OneHotEncoder, HelmertEncoder, HashingEncoder...   \n3   [OneHotEncoder, HelmertEncoder, HashingEncoder...   \n4   [OneHotEncoder, HelmertEncoder, HashingEncoder...   \n5   [OneHotEncoder, HelmertEncoder, HashingEncoder...   \n6   [OneHotEncoder, HelmertEncoder, HashingEncoder...   \n7   [OneHotEncoder, HelmertEncoder, HashingEncoder...   \n8   [OneHotEncoder, HelmertEncoder, HashingEncoder...   \n9   [OneHotEncoder, HelmertEncoder, HashingEncoder...   \n10  [OneHotEncoder, HelmertEncoder, HashingEncoder...   \n11  [OneHotEncoder, HelmertEncoder, HashingEncoder...   \n12  [OneHotEncoder, HelmertEncoder, HashingEncoder...   \n13  [OneHotEncoder, HelmertEncoder, HashingEncoder...   \n14  [OneHotEncoder, HelmertEncoder, HashingEncoder...   \n\n                                              columns  cv_folds  \n0   [duration, age, OneHotEncoder_existing_credits...        10  \n1   [OneHotEncoder_existing_credits, OneHotEncoder...        10  \n2   [OneHotEncoder_existing_credits, OneHotEncoder...        10  \n3   [OneHotEncoder_existing_credits, OneHotEncoder...        10  \n4   [duration, credit_amount, age, OneHotEncoder_i...        10  \n5   [OneHotEncoder_existing_credits, OneHotEncoder...        10  \n6   [OneHotEncoder_existing_credits, OneHotEncoder...        10  \n7   [num_dependents, OneHotEncoder_installment_com...        10  \n8   [OneHotEncoder_existing_credits, OneHotEncoder...        10  \n9   [OneHotEncoder_existing_credits, OneHotEncoder...        10  \n10  [credit_amount, age, OneHotEncoder_existing_cr...        10  \n11  [credit_amount, age, OneHotEncoder_existing_cr...        10  \n12  [credit_amount, age, OneHotEncoder_existing_cr...        10  \n13  [credit_amount, age, OneHotEncoder_existing_cr...        10  \n14  [credit_amount, age, OneHotEncoder_existing_cr...        10  ",
      "text/html": "<div>\n<style scoped>\n    .dataframe tbody tr th:only-of-type {\n        vertical-align: middle;\n    }\n\n    .dataframe tbody tr th {\n        vertical-align: top;\n    }\n\n    .dataframe thead th {\n        text-align: right;\n    }\n</style>\n<table border=\"1\" class=\"dataframe\">\n  <thead>\n    <tr style=\"text-align: right;\">\n      <th></th>\n      <th>score_opt</th>\n      <th>model_score</th>\n      <th>score_std</th>\n      <th>model_name</th>\n      <th>model_param</th>\n      <th>wrapper_params</th>\n      <th>cat_encoders</th>\n      <th>columns</th>\n      <th>cv_folds</th>\n    </tr>\n  </thead>\n  <tbody>\n    <tr>\n      <th>0</th>\n      <td>0.7946</td>\n      <td>0.8262</td>\n      <td>0.031581</td>\n      <td>CatBoost</td>\n      <td>{'verbose': 0, 'early_stopping_rounds': 50, 't...</td>\n      <td>{'early_stopping': True}</td>\n      <td>[OneHotEncoder, HelmertEncoder, HashingEncoder...</td>\n      <td>[duration, age, OneHotEncoder_existing_credits...</td>\n      <td>10</td>\n    </tr>\n    <tr>\n      <th>1</th>\n      <td>0.7930</td>\n      <td>0.8200</td>\n      <td>0.026979</td>\n      <td>CatBoost</td>\n      <td>{'verbose': 0, 'early_stopping_rounds': 50, 't...</td>\n      <td>{'early_stopping': True}</td>\n      <td>[OneHotEncoder, HelmertEncoder, HashingEncoder...</td>\n      <td>[OneHotEncoder_existing_credits, OneHotEncoder...</td>\n      <td>10</td>\n    </tr>\n    <tr>\n      <th>2</th>\n      <td>0.7870</td>\n      <td>0.8199</td>\n      <td>0.032916</td>\n      <td>CatBoost</td>\n      <td>{'verbose': 0, 'early_stopping_rounds': 50, 't...</td>\n      <td>{'early_stopping': True}</td>\n      <td>[OneHotEncoder, HelmertEncoder, HashingEncoder...</td>\n      <td>[OneHotEncoder_existing_credits, OneHotEncoder...</td>\n      <td>10</td>\n    </tr>\n    <tr>\n      <th>3</th>\n      <td>0.7850</td>\n      <td>0.8178</td>\n      <td>0.032841</td>\n      <td>CatBoost</td>\n      <td>{'verbose': 0, 'early_stopping_rounds': 50, 't...</td>\n      <td>{'early_stopping': True}</td>\n      <td>[OneHotEncoder, HelmertEncoder, HashingEncoder...</td>\n      <td>[OneHotEncoder_existing_credits, OneHotEncoder...</td>\n      <td>10</td>\n    </tr>\n    <tr>\n      <th>4</th>\n      <td>0.7850</td>\n      <td>0.8040</td>\n      <td>0.019039</td>\n      <td>CatBoost</td>\n      <td>{'verbose': 0, 'early_stopping_rounds': 50, 't...</td>\n      <td>{'early_stopping': True}</td>\n      <td>[OneHotEncoder, HelmertEncoder, HashingEncoder...</td>\n      <td>[duration, credit_amount, age, OneHotEncoder_i...</td>\n      <td>10</td>\n    </tr>\n    <tr>\n      <th>5</th>\n      <td>0.7837</td>\n      <td>0.8180</td>\n      <td>0.034271</td>\n      <td>CatBoost</td>\n      <td>{'verbose': 0, 'early_stopping_rounds': 50, 't...</td>\n      <td>{'early_stopping': True}</td>\n      <td>[OneHotEncoder, HelmertEncoder, HashingEncoder...</td>\n      <td>[OneHotEncoder_existing_credits, OneHotEncoder...</td>\n      <td>10</td>\n    </tr>\n    <tr>\n      <th>6</th>\n      <td>0.7831</td>\n      <td>0.8211</td>\n      <td>0.037984</td>\n      <td>CatBoost</td>\n      <td>{'verbose': 0, 'early_stopping_rounds': 50, 't...</td>\n      <td>{'early_stopping': True}</td>\n      <td>[OneHotEncoder, HelmertEncoder, HashingEncoder...</td>\n      <td>[OneHotEncoder_existing_credits, OneHotEncoder...</td>\n      <td>10</td>\n    </tr>\n    <tr>\n      <th>7</th>\n      <td>0.7820</td>\n      <td>0.8222</td>\n      <td>0.040157</td>\n      <td>CatBoost</td>\n      <td>{'verbose': 0, 'early_stopping_rounds': 50, 't...</td>\n      <td>{'early_stopping': True}</td>\n      <td>[OneHotEncoder, HelmertEncoder, HashingEncoder...</td>\n      <td>[num_dependents, OneHotEncoder_installment_com...</td>\n      <td>10</td>\n    </tr>\n    <tr>\n      <th>8</th>\n      <td>0.7814</td>\n      <td>0.8098</td>\n      <td>0.028421</td>\n      <td>CatBoost</td>\n      <td>{'verbose': 0, 'early_stopping_rounds': 50, 't...</td>\n      <td>{'early_stopping': True}</td>\n      <td>[OneHotEncoder, HelmertEncoder, HashingEncoder...</td>\n      <td>[OneHotEncoder_existing_credits, OneHotEncoder...</td>\n      <td>10</td>\n    </tr>\n    <tr>\n      <th>9</th>\n      <td>0.7804</td>\n      <td>0.7995</td>\n      <td>0.019051</td>\n      <td>CatBoost</td>\n      <td>{'verbose': 0, 'early_stopping_rounds': 50, 't...</td>\n      <td>{'early_stopping': True}</td>\n      <td>[OneHotEncoder, HelmertEncoder, HashingEncoder...</td>\n      <td>[OneHotEncoder_existing_credits, OneHotEncoder...</td>\n      <td>10</td>\n    </tr>\n    <tr>\n      <th>10</th>\n      <td>0.7331</td>\n      <td>0.7781</td>\n      <td>0.045041</td>\n      <td>LinearModel</td>\n      <td>{'verbose': 0, 'fit_intercept': False, 'C': 74...</td>\n      <td>{}</td>\n      <td>[OneHotEncoder, HelmertEncoder, HashingEncoder...</td>\n      <td>[credit_amount, age, OneHotEncoder_existing_cr...</td>\n      <td>10</td>\n    </tr>\n    <tr>\n      <th>11</th>\n      <td>0.7322</td>\n      <td>0.7826</td>\n      <td>0.050418</td>\n      <td>LinearModel</td>\n      <td>{'verbose': 0, 'fit_intercept': False, 'C': 63...</td>\n      <td>{}</td>\n      <td>[OneHotEncoder, HelmertEncoder, HashingEncoder...</td>\n      <td>[credit_amount, age, OneHotEncoder_existing_cr...</td>\n      <td>10</td>\n    </tr>\n    <tr>\n      <th>12</th>\n      <td>0.7312</td>\n      <td>0.7782</td>\n      <td>0.047038</td>\n      <td>LinearModel</td>\n      <td>{'verbose': 0, 'fit_intercept': False, 'C': 62...</td>\n      <td>{}</td>\n      <td>[OneHotEncoder, HelmertEncoder, HashingEncoder...</td>\n      <td>[credit_amount, age, OneHotEncoder_existing_cr...</td>\n      <td>10</td>\n    </tr>\n    <tr>\n      <th>13</th>\n      <td>0.7311</td>\n      <td>0.7780</td>\n      <td>0.046925</td>\n      <td>LinearModel</td>\n      <td>{'verbose': 0, 'fit_intercept': False, 'C': 71...</td>\n      <td>{}</td>\n      <td>[OneHotEncoder, HelmertEncoder, HashingEncoder...</td>\n      <td>[credit_amount, age, OneHotEncoder_existing_cr...</td>\n      <td>10</td>\n    </tr>\n    <tr>\n      <th>14</th>\n      <td>0.7311</td>\n      <td>0.7812</td>\n      <td>0.050054</td>\n      <td>LinearModel</td>\n      <td>{'verbose': 0, 'fit_intercept': False, 'C': 69...</td>\n      <td>{}</td>\n      <td>[OneHotEncoder, HelmertEncoder, HashingEncoder...</td>\n      <td>[credit_amount, age, OneHotEncoder_existing_cr...</td>\n      <td>10</td>\n    </tr>\n  </tbody>\n</table>\n</div>"
     },
     "metadata": {},
     "execution_count": 11
    }
   ],
   "source": [
    "model.stack_models_cfgs"
   ]
  },
  {
   "cell_type": "code",
   "execution_count": null,
   "metadata": {},
   "outputs": [],
   "source": []
  },
  {
   "cell_type": "code",
   "execution_count": null,
   "metadata": {},
   "outputs": [],
   "source": []
  }
 ],
 "metadata": {
  "kernelspec": {
   "display_name": "Python 3.8.3 64-bit ('ds': conda)",
   "language": "python",
   "name": "python38364bitdscondadc8f49c0681c4f8d9aaeec09a1cf65fe"
  },
  "language_info": {
   "codemirror_mode": {
    "name": "ipython",
    "version": 3
   },
   "file_extension": ".py",
   "mimetype": "text/x-python",
   "name": "python",
   "nbconvert_exporter": "python",
   "pygments_lexer": "ipython3",
   "version": "3.8.3-final"
  },
  "toc": {
   "base_numbering": 1,
   "nav_menu": {},
   "number_sections": false,
   "sideBar": true,
   "skip_h1_title": false,
   "title_cell": "Table of Contents",
   "title_sidebar": "Contents",
   "toc_cell": false,
   "toc_position": {
    "height": "calc(100% - 180px)",
    "left": "10px",
    "top": "150px",
    "width": "165px"
   },
   "toc_section_display": true,
   "toc_window_display": true
  }
 },
 "nbformat": 4,
 "nbformat_minor": 4
}