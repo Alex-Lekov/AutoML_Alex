{
 "cells": [
  {
   "cell_type": "code",
   "execution_count": 1,
   "metadata": {
    "ExecuteTime": {
     "end_time": "2020-05-07T01:04:07.223678Z",
     "start_time": "2020-05-07T01:04:07.203114Z"
    }
   },
   "outputs": [],
   "source": [
    "# If you run this notebook on Google Colaboratory, uncomment the below to install automl_alex.\n",
    "#!pip install --quiet -U automl_alex"
   ]
  },
  {
   "cell_type": "code",
   "execution_count": 1,
   "metadata": {
    "ExecuteTime": {
     "end_time": "2020-05-07T01:05:50.878720Z",
     "start_time": "2020-05-07T01:05:50.874642Z"
    },
    "tags": []
   },
   "outputs": [
    {
     "output_type": "stream",
     "name": "stdout",
     "text": "0.07.25.6\n"
    }
   ],
   "source": [
    "import automl_alex\n",
    "import sklearn\n",
    "import time\n",
    "from automl_alex import AutoML, AutoMLClassifier\n",
    "print(automl_alex.__version__)"
   ]
  },
  {
   "cell_type": "code",
   "execution_count": 2,
   "metadata": {
    "ExecuteTime": {
     "end_time": "2020-05-07T01:05:52.553896Z",
     "start_time": "2020-05-07T01:05:52.549132Z"
    }
   },
   "outputs": [],
   "source": [
    "RANDOM_SEED = 42"
   ]
  },
  {
   "cell_type": "markdown",
   "metadata": {},
   "source": [
    "# Classifier"
   ]
  },
  {
   "cell_type": "markdown",
   "metadata": {},
   "source": [
    "## Data"
   ]
  },
  {
   "cell_type": "code",
   "execution_count": 3,
   "metadata": {
    "ExecuteTime": {
     "end_time": "2020-05-07T01:05:55.127924Z",
     "start_time": "2020-05-07T01:05:55.037616Z"
    }
   },
   "outputs": [
    {
     "output_type": "execute_result",
     "data": {
      "text/plain": "  checking_status  duration                  credit_history  \\\n0              <0       6.0  critical/other existing credit   \n1        0<=X<200      48.0                   existing paid   \n2     no checking      12.0  critical/other existing credit   \n3              <0      42.0                   existing paid   \n4              <0      24.0              delayed previously   \n\n               purpose  credit_amount    savings_status employment  \\\n0             radio/tv         1169.0  no known savings        >=7   \n1             radio/tv         5951.0              <100     1<=X<4   \n2            education         2096.0              <100     4<=X<7   \n3  furniture/equipment         7882.0              <100     4<=X<7   \n4              new car         4870.0              <100     1<=X<4   \n\n   installment_commitment     personal_status other_parties  residence_since  \\\n0                     4.0         male single          none              4.0   \n1                     2.0  female div/dep/mar          none              2.0   \n2                     2.0         male single          none              3.0   \n3                     2.0         male single     guarantor              4.0   \n4                     3.0         male single          none              4.0   \n\n  property_magnitude   age other_payment_plans   housing  existing_credits  \\\n0        real estate  67.0                none       own               2.0   \n1        real estate  22.0                none       own               1.0   \n2        real estate  49.0                none       own               1.0   \n3     life insurance  45.0                none  for free               1.0   \n4  no known property  53.0                none  for free               2.0   \n\n                  job  num_dependents own_telephone foreign_worker  \n0             skilled             1.0           yes            yes  \n1             skilled             1.0          none            yes  \n2  unskilled resident             2.0          none            yes  \n3             skilled             2.0          none            yes  \n4             skilled             2.0          none            yes  ",
      "text/html": "<div>\n<style scoped>\n    .dataframe tbody tr th:only-of-type {\n        vertical-align: middle;\n    }\n\n    .dataframe tbody tr th {\n        vertical-align: top;\n    }\n\n    .dataframe thead th {\n        text-align: right;\n    }\n</style>\n<table border=\"1\" class=\"dataframe\">\n  <thead>\n    <tr style=\"text-align: right;\">\n      <th></th>\n      <th>checking_status</th>\n      <th>duration</th>\n      <th>credit_history</th>\n      <th>purpose</th>\n      <th>credit_amount</th>\n      <th>savings_status</th>\n      <th>employment</th>\n      <th>installment_commitment</th>\n      <th>personal_status</th>\n      <th>other_parties</th>\n      <th>residence_since</th>\n      <th>property_magnitude</th>\n      <th>age</th>\n      <th>other_payment_plans</th>\n      <th>housing</th>\n      <th>existing_credits</th>\n      <th>job</th>\n      <th>num_dependents</th>\n      <th>own_telephone</th>\n      <th>foreign_worker</th>\n    </tr>\n  </thead>\n  <tbody>\n    <tr>\n      <th>0</th>\n      <td>&lt;0</td>\n      <td>6.0</td>\n      <td>critical/other existing credit</td>\n      <td>radio/tv</td>\n      <td>1169.0</td>\n      <td>no known savings</td>\n      <td>&gt;=7</td>\n      <td>4.0</td>\n      <td>male single</td>\n      <td>none</td>\n      <td>4.0</td>\n      <td>real estate</td>\n      <td>67.0</td>\n      <td>none</td>\n      <td>own</td>\n      <td>2.0</td>\n      <td>skilled</td>\n      <td>1.0</td>\n      <td>yes</td>\n      <td>yes</td>\n    </tr>\n    <tr>\n      <th>1</th>\n      <td>0&lt;=X&lt;200</td>\n      <td>48.0</td>\n      <td>existing paid</td>\n      <td>radio/tv</td>\n      <td>5951.0</td>\n      <td>&lt;100</td>\n      <td>1&lt;=X&lt;4</td>\n      <td>2.0</td>\n      <td>female div/dep/mar</td>\n      <td>none</td>\n      <td>2.0</td>\n      <td>real estate</td>\n      <td>22.0</td>\n      <td>none</td>\n      <td>own</td>\n      <td>1.0</td>\n      <td>skilled</td>\n      <td>1.0</td>\n      <td>none</td>\n      <td>yes</td>\n    </tr>\n    <tr>\n      <th>2</th>\n      <td>no checking</td>\n      <td>12.0</td>\n      <td>critical/other existing credit</td>\n      <td>education</td>\n      <td>2096.0</td>\n      <td>&lt;100</td>\n      <td>4&lt;=X&lt;7</td>\n      <td>2.0</td>\n      <td>male single</td>\n      <td>none</td>\n      <td>3.0</td>\n      <td>real estate</td>\n      <td>49.0</td>\n      <td>none</td>\n      <td>own</td>\n      <td>1.0</td>\n      <td>unskilled resident</td>\n      <td>2.0</td>\n      <td>none</td>\n      <td>yes</td>\n    </tr>\n    <tr>\n      <th>3</th>\n      <td>&lt;0</td>\n      <td>42.0</td>\n      <td>existing paid</td>\n      <td>furniture/equipment</td>\n      <td>7882.0</td>\n      <td>&lt;100</td>\n      <td>4&lt;=X&lt;7</td>\n      <td>2.0</td>\n      <td>male single</td>\n      <td>guarantor</td>\n      <td>4.0</td>\n      <td>life insurance</td>\n      <td>45.0</td>\n      <td>none</td>\n      <td>for free</td>\n      <td>1.0</td>\n      <td>skilled</td>\n      <td>2.0</td>\n      <td>none</td>\n      <td>yes</td>\n    </tr>\n    <tr>\n      <th>4</th>\n      <td>&lt;0</td>\n      <td>24.0</td>\n      <td>delayed previously</td>\n      <td>new car</td>\n      <td>4870.0</td>\n      <td>&lt;100</td>\n      <td>1&lt;=X&lt;4</td>\n      <td>3.0</td>\n      <td>male single</td>\n      <td>none</td>\n      <td>4.0</td>\n      <td>no known property</td>\n      <td>53.0</td>\n      <td>none</td>\n      <td>for free</td>\n      <td>2.0</td>\n      <td>skilled</td>\n      <td>2.0</td>\n      <td>none</td>\n      <td>yes</td>\n    </tr>\n  </tbody>\n</table>\n</div>"
     },
     "metadata": {},
     "execution_count": 3
    }
   ],
   "source": [
    "from sklearn.datasets import fetch_openml\n",
    "from sklearn.model_selection import train_test_split\n",
    "dataset = fetch_openml(name='credit-g', version=1, as_frame=True)\n",
    "dataset.target = dataset.target.astype('category').cat.codes\n",
    "dataset.data.head(5)"
   ]
  },
  {
   "cell_type": "code",
   "execution_count": 4,
   "metadata": {
    "ExecuteTime": {
     "end_time": "2020-05-07T01:05:56.756465Z",
     "start_time": "2020-05-07T01:05:56.734220Z"
    }
   },
   "outputs": [
    {
     "output_type": "execute_result",
     "data": {
      "text/plain": "((750, 20), (250, 20))"
     },
     "metadata": {},
     "execution_count": 4
    }
   ],
   "source": [
    "X_train, X_test, y_train, y_test = train_test_split(dataset.data, \n",
    "                                                    dataset.target,\n",
    "                                                    test_size=0.25, \n",
    "                                                    random_state=RANDOM_SEED,)\n",
    "X_train.shape, X_test.shape"
   ]
  },
  {
   "cell_type": "markdown",
   "metadata": {},
   "source": [
    "## Model"
   ]
  },
  {
   "cell_type": "code",
   "execution_count": 5,
   "metadata": {
    "ExecuteTime": {
     "end_time": "2020-05-07T01:05:59.848085Z",
     "start_time": "2020-05-07T01:05:59.337884Z"
    },
    "tags": []
   },
   "outputs": [
    {
     "output_type": "stream",
     "name": "stdout",
     "text": "Source X_train shape:(750, 20)| X_test shape:(250, 20)\n##################################################\nAuto detect cat features:13\n> Start preprocessing Data\n> Generate cat encodet features\n +55 Features fromOneHotEncoder\n +44 Features fromHelmertEncoder\n +54 Features fromHashingEncoder\n +16 Features fromFrequencyEncoder\n> Generate Frequency Encode num features\n +4 Frequency Encode Num Features\n> Clean Nans in num features\n> Generate interaction Num Features\n +24 Interaction Features\n> Normalization Features\n##################################################\n> Total Features:201\n##################################################\nNew X_train shape:(750, 201)| X_test shape:(250, 201)\n"
    }
   ],
   "source": [
    "#model = AutoML(X_train, y_train, X_test, type_of_estimator='classifier', random_state=RANDOM_SEED)\n",
    "\n",
    "# or Simply\n",
    "model = AutoMLClassifier(X_train, y_train, X_test, random_state=RANDOM_SEED, verbose=1)"
   ]
  },
  {
   "cell_type": "code",
   "execution_count": 6,
   "metadata": {
    "ExecuteTime": {
     "end_time": "2020-05-06T17:01:04.947762Z",
     "start_time": "2020-05-06T16:47:23.396089Z"
    },
    "tags": []
   },
   "outputs": [
    {
     "output_type": "stream",
     "name": "stdout",
     "text": "__________________________________________________\nStep 1: Model 1\n__________________________________________________\nOne iteration takes ~ 0.8 sec\n> Start Auto calibration parameters\n> Start optimization with the parameters:\nCV_Folds =10\nScore_CV_Folds =3\nFeature_Selection =True\nOpt_lvl =2\nCold_start =42.0\nEarly_stoping =100\nMetric =roc_auc_score\nDirection =maximize\n##################################################\nDefault model OptScore = 0.6952\nOptimize: : 150it [06:06,  1.70s/it,  | Model: CatBoost | OptScore: 0.7765 | Best roc_auc_score: 0.8259 +- 0.049425]\n EarlyStopping Exceeded: Best Score: 0.7765roc_auc_score\nOptimize: : 150it [06:06,  2.44s/it,  | Model: CatBoost | OptScore: 0.7765 | Best roc_auc_score: 0.8259 +- 0.049425]\n\n Predict from Models_1\n100%|██████████| 3/3 [00:45<00:00, 15.13s/it]\n\n > Calc predict policy on Models_1:\n | posible_repeats:2 | stack_top:2 | n_repeats:1\n  0%|          | 0/2 [00:00<?, ?it/s]\n Mean Score roc_auc_score on 10 Folds: 0.8091 std: 0.052263\n 50%|█████     | 1/2 [00:05<00:05,  5.75s/it]\n Mean Score roc_auc_score on 10 Folds: 0.7937 std: 0.052965\n100%|██████████| 2/2 [00:50<00:00, 25.22s/it]\n\n Models_1 Mean roc_auc_score Score Train:0.7752\n__________________________________________________\nStep 2: Model 2\n__________________________________________________\nOne iteration takes ~ 1.7 sec\n> Start Auto calibration parameters\n> Start optimization with the parameters:\nCV_Folds =5\nScore_CV_Folds =2\nFeature_Selection =True\nOpt_lvl =1\nCold_start =96.0\nEarly_stoping =100\nMetric =roc_auc_score\nDirection =maximize\n##################################################\nDefault model OptScore = 0.7395\nOptimize: : 257it [04:34,  1.92s/it,  | Model: LightGBM | OptScore: 0.7697 | Best roc_auc_score: 0.7784 +- 0.008677]\n EarlyStopping Exceeded: Best Score: 0.7697roc_auc_score\nOptimize: : 257it [04:35,  1.07s/it,  | Model: LightGBM | OptScore: 0.7697 | Best roc_auc_score: 0.7784 +- 0.008677]\n\n Predict from Models_2\n  0%|          | 0/1 [00:00<?, ?it/s]\n Mean Score roc_auc_score on 10 Folds: 0.7616 std: 0.021583\n100%|██████████| 1/1 [00:10<00:00, 10.63s/it]\n\n Models_2 Mean roc_auc_score Score Train:0.7689\n\n Mean Models roc_auc_score Score Train:0.7766\n__________________________________________________\nStep 3: Stacking\n__________________________________________________\nNew X_train:(750, 3) y_train:(750,)| X_test shape:(250, 3)\nOne iteration takes ~ 0.4 sec\n> Start optimization with the parameters:\nCV_Folds =10\nScore_CV_Folds =10\nFeature_Selection =True\nOpt_lvl =3\nCold_start =25\nEarly_stoping =100\nMetric =roc_auc_score\nDirection =maximize\n##################################################\nDefault model OptScore = 0.7425\nOptimize: : 149it [00:30,  3.84it/s,  | Model: LinearModel | OptScore: 0.8111 | Best roc_auc_score: 0.8111 +- 0.05536]\n EarlyStopping Exceeded: Best Score: 0.8111roc_auc_score\nOptimize: : 149it [00:30,  4.83it/s,  | Model: LinearModel | OptScore: 0.8111 | Best roc_auc_score: 0.8111 +- 0.05536]\n  0%|          | 0/2 [00:00<?, ?it/s]\n Mean Score roc_auc_score on 20 Folds: 0.793 std: 0.054664\n 50%|█████     | 1/2 [00:00<00:00,  4.15it/s]\n Mean Score roc_auc_score on 20 Folds: 0.793 std: 0.05466\n100%|██████████| 2/2 [00:00<00:00,  4.11it/s]\n\n Stacking model roc_auc_score Score Train:0.7698\n\n Final Model roc_auc_score Score Train:0.7766\nCPU times: user 25min 25s, sys: 3min 4s, total: 28min 30s\nWall time: 13min 13s\n"
    }
   ],
   "source": [
    "%%time\n",
    "predict_test, predict_train = model.fit_predict(timeout=1000, verbose=2)"
   ]
  },
  {
   "cell_type": "code",
   "execution_count": 7,
   "metadata": {
    "ExecuteTime": {
     "end_time": "2020-05-07T01:11:28.827682Z",
     "start_time": "2020-05-07T01:11:28.808642Z"
    }
   },
   "outputs": [
    {
     "output_type": "execute_result",
     "data": {
      "text/plain": "array([0.24193633, 0.35972893, 0.61733314, 0.43786328, 0.14497995])"
     },
     "metadata": {},
     "execution_count": 7
    }
   ],
   "source": [
    "predict_test[:5]"
   ]
  },
  {
   "cell_type": "code",
   "execution_count": 8,
   "metadata": {
    "tags": []
   },
   "outputs": [
    {
     "output_type": "stream",
     "name": "stdout",
     "text": "Test AUC:0.8158\n"
    }
   ],
   "source": [
    "print('Test AUC: ', round(sklearn.metrics.roc_auc_score(y_test, predict_test),4))"
   ]
  },
  {
   "cell_type": "code",
   "execution_count": 9,
   "metadata": {},
   "outputs": [
    {
     "output_type": "execute_result",
     "data": {
      "text/plain": "   score_opt  model_score  score_std model_name  \\\n0     0.7765       0.8259   0.049425   CatBoost   \n1     0.7731       0.8177   0.044644   CatBoost   \n2     0.7697       0.7784   0.008677   LightGBM   \n\n                                         model_param  \\\n0  {'verbose': 0, 'early_stopping_rounds': 50, 't...   \n1  {'verbose': 0, 'early_stopping_rounds': 50, 't...   \n2  {'random_seed': 42, 'early_stopping_rounds': 5...   \n\n              wrapper_params  \\\n0   {'early_stopping': True}   \n1   {'early_stopping': True}   \n2  {'early_stopping': False}   \n\n                                        cat_encoders  \\\n0  [OneHotEncoder, HelmertEncoder, HashingEncoder...   \n1  [OneHotEncoder, HelmertEncoder, HashingEncoder...   \n2  [OneHotEncoder, HelmertEncoder, HashingEncoder...   \n\n                                             columns  cv_folds  \n0  (duration, age, num_dependents, OneHotEncoder_...        10  \n1  (duration, age, num_dependents, OneHotEncoder_...        10  \n2  (credit_amount, age, OneHotEncoder_checking_st...         5  ",
      "text/html": "<div>\n<style scoped>\n    .dataframe tbody tr th:only-of-type {\n        vertical-align: middle;\n    }\n\n    .dataframe tbody tr th {\n        vertical-align: top;\n    }\n\n    .dataframe thead th {\n        text-align: right;\n    }\n</style>\n<table border=\"1\" class=\"dataframe\">\n  <thead>\n    <tr style=\"text-align: right;\">\n      <th></th>\n      <th>score_opt</th>\n      <th>model_score</th>\n      <th>score_std</th>\n      <th>model_name</th>\n      <th>model_param</th>\n      <th>wrapper_params</th>\n      <th>cat_encoders</th>\n      <th>columns</th>\n      <th>cv_folds</th>\n    </tr>\n  </thead>\n  <tbody>\n    <tr>\n      <th>0</th>\n      <td>0.7765</td>\n      <td>0.8259</td>\n      <td>0.049425</td>\n      <td>CatBoost</td>\n      <td>{'verbose': 0, 'early_stopping_rounds': 50, 't...</td>\n      <td>{'early_stopping': True}</td>\n      <td>[OneHotEncoder, HelmertEncoder, HashingEncoder...</td>\n      <td>(duration, age, num_dependents, OneHotEncoder_...</td>\n      <td>10</td>\n    </tr>\n    <tr>\n      <th>1</th>\n      <td>0.7731</td>\n      <td>0.8177</td>\n      <td>0.044644</td>\n      <td>CatBoost</td>\n      <td>{'verbose': 0, 'early_stopping_rounds': 50, 't...</td>\n      <td>{'early_stopping': True}</td>\n      <td>[OneHotEncoder, HelmertEncoder, HashingEncoder...</td>\n      <td>(duration, age, num_dependents, OneHotEncoder_...</td>\n      <td>10</td>\n    </tr>\n    <tr>\n      <th>2</th>\n      <td>0.7697</td>\n      <td>0.7784</td>\n      <td>0.008677</td>\n      <td>LightGBM</td>\n      <td>{'random_seed': 42, 'early_stopping_rounds': 5...</td>\n      <td>{'early_stopping': False}</td>\n      <td>[OneHotEncoder, HelmertEncoder, HashingEncoder...</td>\n      <td>(credit_amount, age, OneHotEncoder_checking_st...</td>\n      <td>5</td>\n    </tr>\n  </tbody>\n</table>\n</div>"
     },
     "metadata": {},
     "execution_count": 9
    }
   ],
   "source": [
    "model.stack_models_cfgs"
   ]
  },
  {
   "cell_type": "code",
   "execution_count": null,
   "metadata": {},
   "outputs": [],
   "source": []
  }
 ],
 "metadata": {
  "kernelspec": {
   "display_name": "Python 3.7.6 64-bit ('ds': conda)",
   "language": "python",
   "name": "python37664bitdscondaeb5aeb426ade4b82a5cf907714e87c5f"
  },
  "language_info": {
   "codemirror_mode": {
    "name": "ipython",
    "version": 3
   },
   "file_extension": ".py",
   "mimetype": "text/x-python",
   "name": "python",
   "nbconvert_exporter": "python",
   "pygments_lexer": "ipython3",
   "version": "3.7.7-final"
  },
  "toc": {
   "base_numbering": 1,
   "nav_menu": {},
   "number_sections": false,
   "sideBar": true,
   "skip_h1_title": false,
   "title_cell": "Table of Contents",
   "title_sidebar": "Contents",
   "toc_cell": false,
   "toc_position": {
    "height": "calc(100% - 180px)",
    "left": "10px",
    "top": "150px",
    "width": "165px"
   },
   "toc_section_display": true,
   "toc_window_display": true
  }
 },
 "nbformat": 4,
 "nbformat_minor": 4
}