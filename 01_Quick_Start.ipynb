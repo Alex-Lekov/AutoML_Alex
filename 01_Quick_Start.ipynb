{
 "cells": [
  {
   "cell_type": "code",
   "execution_count": 1,
   "metadata": {
    "ExecuteTime": {
     "end_time": "2020-05-07T01:04:07.223678Z",
     "start_time": "2020-05-07T01:04:07.203114Z"
    }
   },
   "outputs": [],
   "source": [
    "# If you run this notebook on Google Colaboratory, uncomment the below to install automl_alex.\n",
    "#!pip install --quiet automl_alex"
   ]
  },
  {
   "cell_type": "code",
   "execution_count": 1,
   "metadata": {
    "ExecuteTime": {
     "end_time": "2020-05-07T01:05:50.878720Z",
     "start_time": "2020-05-07T01:05:50.874642Z"
    },
    "tags": []
   },
   "outputs": [
    {
     "output_type": "stream",
     "name": "stdout",
     "text": "0.07.17\n"
    }
   ],
   "source": [
    "import automl_alex\n",
    "import sklearn\n",
    "import time\n",
    "from automl_alex import AutoML, AutoMLClassifier\n",
    "print(automl_alex.__version__)"
   ]
  },
  {
   "cell_type": "code",
   "execution_count": 2,
   "metadata": {
    "ExecuteTime": {
     "end_time": "2020-05-07T01:05:52.553896Z",
     "start_time": "2020-05-07T01:05:52.549132Z"
    }
   },
   "outputs": [],
   "source": [
    "RANDOM_SEED = 42"
   ]
  },
  {
   "cell_type": "markdown",
   "metadata": {},
   "source": [
    "# Classifier"
   ]
  },
  {
   "cell_type": "markdown",
   "metadata": {},
   "source": [
    "## Data"
   ]
  },
  {
   "cell_type": "code",
   "execution_count": 3,
   "metadata": {
    "ExecuteTime": {
     "end_time": "2020-05-07T01:05:55.127924Z",
     "start_time": "2020-05-07T01:05:55.037616Z"
    }
   },
   "outputs": [
    {
     "output_type": "execute_result",
     "data": {
      "text/plain": "  checking_status  duration                  credit_history  \\\n0              <0       6.0  critical/other existing credit   \n1        0<=X<200      48.0                   existing paid   \n2     no checking      12.0  critical/other existing credit   \n3              <0      42.0                   existing paid   \n4              <0      24.0              delayed previously   \n\n               purpose  credit_amount    savings_status employment  \\\n0             radio/tv         1169.0  no known savings        >=7   \n1             radio/tv         5951.0              <100     1<=X<4   \n2            education         2096.0              <100     4<=X<7   \n3  furniture/equipment         7882.0              <100     4<=X<7   \n4              new car         4870.0              <100     1<=X<4   \n\n   installment_commitment     personal_status other_parties  residence_since  \\\n0                     4.0         male single          none              4.0   \n1                     2.0  female div/dep/mar          none              2.0   \n2                     2.0         male single          none              3.0   \n3                     2.0         male single     guarantor              4.0   \n4                     3.0         male single          none              4.0   \n\n  property_magnitude   age other_payment_plans   housing  existing_credits  \\\n0        real estate  67.0                none       own               2.0   \n1        real estate  22.0                none       own               1.0   \n2        real estate  49.0                none       own               1.0   \n3     life insurance  45.0                none  for free               1.0   \n4  no known property  53.0                none  for free               2.0   \n\n                  job  num_dependents own_telephone foreign_worker  \n0             skilled             1.0           yes            yes  \n1             skilled             1.0          none            yes  \n2  unskilled resident             2.0          none            yes  \n3             skilled             2.0          none            yes  \n4             skilled             2.0          none            yes  ",
      "text/html": "<div>\n<style scoped>\n    .dataframe tbody tr th:only-of-type {\n        vertical-align: middle;\n    }\n\n    .dataframe tbody tr th {\n        vertical-align: top;\n    }\n\n    .dataframe thead th {\n        text-align: right;\n    }\n</style>\n<table border=\"1\" class=\"dataframe\">\n  <thead>\n    <tr style=\"text-align: right;\">\n      <th></th>\n      <th>checking_status</th>\n      <th>duration</th>\n      <th>credit_history</th>\n      <th>purpose</th>\n      <th>credit_amount</th>\n      <th>savings_status</th>\n      <th>employment</th>\n      <th>installment_commitment</th>\n      <th>personal_status</th>\n      <th>other_parties</th>\n      <th>residence_since</th>\n      <th>property_magnitude</th>\n      <th>age</th>\n      <th>other_payment_plans</th>\n      <th>housing</th>\n      <th>existing_credits</th>\n      <th>job</th>\n      <th>num_dependents</th>\n      <th>own_telephone</th>\n      <th>foreign_worker</th>\n    </tr>\n  </thead>\n  <tbody>\n    <tr>\n      <th>0</th>\n      <td>&lt;0</td>\n      <td>6.0</td>\n      <td>critical/other existing credit</td>\n      <td>radio/tv</td>\n      <td>1169.0</td>\n      <td>no known savings</td>\n      <td>&gt;=7</td>\n      <td>4.0</td>\n      <td>male single</td>\n      <td>none</td>\n      <td>4.0</td>\n      <td>real estate</td>\n      <td>67.0</td>\n      <td>none</td>\n      <td>own</td>\n      <td>2.0</td>\n      <td>skilled</td>\n      <td>1.0</td>\n      <td>yes</td>\n      <td>yes</td>\n    </tr>\n    <tr>\n      <th>1</th>\n      <td>0&lt;=X&lt;200</td>\n      <td>48.0</td>\n      <td>existing paid</td>\n      <td>radio/tv</td>\n      <td>5951.0</td>\n      <td>&lt;100</td>\n      <td>1&lt;=X&lt;4</td>\n      <td>2.0</td>\n      <td>female div/dep/mar</td>\n      <td>none</td>\n      <td>2.0</td>\n      <td>real estate</td>\n      <td>22.0</td>\n      <td>none</td>\n      <td>own</td>\n      <td>1.0</td>\n      <td>skilled</td>\n      <td>1.0</td>\n      <td>none</td>\n      <td>yes</td>\n    </tr>\n    <tr>\n      <th>2</th>\n      <td>no checking</td>\n      <td>12.0</td>\n      <td>critical/other existing credit</td>\n      <td>education</td>\n      <td>2096.0</td>\n      <td>&lt;100</td>\n      <td>4&lt;=X&lt;7</td>\n      <td>2.0</td>\n      <td>male single</td>\n      <td>none</td>\n      <td>3.0</td>\n      <td>real estate</td>\n      <td>49.0</td>\n      <td>none</td>\n      <td>own</td>\n      <td>1.0</td>\n      <td>unskilled resident</td>\n      <td>2.0</td>\n      <td>none</td>\n      <td>yes</td>\n    </tr>\n    <tr>\n      <th>3</th>\n      <td>&lt;0</td>\n      <td>42.0</td>\n      <td>existing paid</td>\n      <td>furniture/equipment</td>\n      <td>7882.0</td>\n      <td>&lt;100</td>\n      <td>4&lt;=X&lt;7</td>\n      <td>2.0</td>\n      <td>male single</td>\n      <td>guarantor</td>\n      <td>4.0</td>\n      <td>life insurance</td>\n      <td>45.0</td>\n      <td>none</td>\n      <td>for free</td>\n      <td>1.0</td>\n      <td>skilled</td>\n      <td>2.0</td>\n      <td>none</td>\n      <td>yes</td>\n    </tr>\n    <tr>\n      <th>4</th>\n      <td>&lt;0</td>\n      <td>24.0</td>\n      <td>delayed previously</td>\n      <td>new car</td>\n      <td>4870.0</td>\n      <td>&lt;100</td>\n      <td>1&lt;=X&lt;4</td>\n      <td>3.0</td>\n      <td>male single</td>\n      <td>none</td>\n      <td>4.0</td>\n      <td>no known property</td>\n      <td>53.0</td>\n      <td>none</td>\n      <td>for free</td>\n      <td>2.0</td>\n      <td>skilled</td>\n      <td>2.0</td>\n      <td>none</td>\n      <td>yes</td>\n    </tr>\n  </tbody>\n</table>\n</div>"
     },
     "metadata": {},
     "execution_count": 3
    }
   ],
   "source": [
    "from sklearn.datasets import fetch_openml\n",
    "from sklearn.model_selection import train_test_split\n",
    "dataset = fetch_openml(name='credit-g', version=1, as_frame=True)\n",
    "dataset.target = dataset.target.astype('category').cat.codes\n",
    "dataset.data.head(5)"
   ]
  },
  {
   "cell_type": "code",
   "execution_count": 4,
   "metadata": {
    "ExecuteTime": {
     "end_time": "2020-05-07T01:05:56.756465Z",
     "start_time": "2020-05-07T01:05:56.734220Z"
    }
   },
   "outputs": [
    {
     "output_type": "execute_result",
     "data": {
      "text/plain": "((800, 20), (200, 20))"
     },
     "metadata": {},
     "execution_count": 4
    }
   ],
   "source": [
    "X_train, X_test, y_train, y_test = train_test_split(dataset.data, \n",
    "                                                    dataset.target,\n",
    "                                                    test_size=0.2, \n",
    "                                                    random_state=RANDOM_SEED,)\n",
    "X_train.shape, X_test.shape"
   ]
  },
  {
   "cell_type": "markdown",
   "metadata": {},
   "source": [
    "## Model"
   ]
  },
  {
   "cell_type": "code",
   "execution_count": 5,
   "metadata": {
    "ExecuteTime": {
     "end_time": "2020-05-07T01:05:59.848085Z",
     "start_time": "2020-05-07T01:05:59.337884Z"
    },
    "tags": []
   },
   "outputs": [
    {
     "output_type": "stream",
     "name": "stdout",
     "text": "Source X_train shape:  (800, 20) | X_test shape:  (200, 20)\n##################################################\nAuto detect cat features:  13\n> Start preprocessing Data\n> Generate cat encodet features\n +  55  Features from  OneHotEncoder\n +  44  Features from  HelmertEncoder\n +  54  Features from  HashingEncoder\n +  16  Features from  FrequencyEncoder\n> Clean Nans in num features\n> Generate interaction Num Features\n +  24  Interaction Features\n##################################################\n> Total Generated Features:  185\n##################################################\nNew X_train shape:  (800, 201) | X_test shape:  (200, 201)\n"
    }
   ],
   "source": [
    "model = AutoML(X_train, y_train, X_test, type_of_estimator='classifier', random_state=RANDOM_SEED)\n",
    "\n",
    "# or Simply\n",
    "model = AutoMLClassifier(X_train, y_train, X_test, random_state=RANDOM_SEED, verbose=1)"
   ]
  },
  {
   "cell_type": "code",
   "execution_count": 6,
   "metadata": {
    "ExecuteTime": {
     "end_time": "2020-05-06T17:01:04.947762Z",
     "start_time": "2020-05-06T16:47:23.396089Z"
    },
    "tags": []
   },
   "outputs": [
    {
     "output_type": "stream",
     "name": "stdout",
     "text": "\n Opt StackingModels\nOne iteration takes ~ 0.8 sec\n> Start Auto calibration parameters\n> Start optimization with the parameters:\nCV_Folds =  10\nScore_CV_Folds =  3\nFeature_Selection =  True\nOpt_lvl =  2\nCold_start =  59.0\nEarly_stoping =  100\nMetric =  roc_auc_score\nDirection =  maximize\n##################################################\nDefault model OptScore = 0.5939\nOptimize: : 209it [11:46,  3.38s/it,  | Model: CatBoost | OptScore: 0.7822 | Best roc_auc_score: 0.8097 +- 0.027544]\n\n Predict from StackingModels\n 10%|█         | 1/10 [01:12<10:48, 72.01s/it]\n Mean Score roc_auc_score on 30 Folds: 0.7928 std: 0.059757\n 20%|██        | 2/10 [01:22<07:07, 53.43s/it]\n Mean Score roc_auc_score on 30 Folds: 0.7943 std: 0.05901\n 30%|███       | 3/10 [01:23<04:24, 37.82s/it]\n Mean Score roc_auc_score on 30 Folds: 0.7726 std: 0.0615\n 40%|████      | 4/10 [01:24<02:41, 26.89s/it]\n Mean Score roc_auc_score on 30 Folds: 0.7715 std: 0.062109\n 50%|█████     | 5/10 [01:26<01:35, 19.19s/it]\n Mean Score roc_auc_score on 30 Folds: 0.7723 std: 0.062552\n 60%|██████    | 6/10 [02:26<02:06, 31.61s/it]\n Mean Score roc_auc_score on 30 Folds: 0.7865 std: 0.059595\n 70%|███████   | 7/10 [02:40<01:18, 26.28s/it]\n Mean Score roc_auc_score on 30 Folds: 0.7945 std: 0.061668\n 80%|████████  | 8/10 [02:41<00:37, 18.81s/it]\n Mean Score roc_auc_score on 30 Folds: 0.7725 std: 0.061679\n 90%|█████████ | 9/10 [02:43<00:13, 13.58s/it]\n Mean Score roc_auc_score on 30 Folds: 0.7728 std: 0.06132\n100%|██████████| 10/10 [02:44<00:00, 16.47s/it]\n Mean Score roc_auc_score on 30 Folds: 0.7726 std: 0.061774\n\n StackModels Mean roc_auc_score Score Train:  0.7835\nCPU times: user 1h 4min 22s, sys: 3min 9s, total: 1h 7min 32s\nWall time: 14min 33s\n\n"
    }
   ],
   "source": [
    "%%time\n",
    "predict_test, predict_train = model.fit_predict(timeout=1000, verbose=2)"
   ]
  },
  {
   "cell_type": "code",
   "execution_count": 7,
   "metadata": {
    "ExecuteTime": {
     "end_time": "2020-05-07T01:11:28.827682Z",
     "start_time": "2020-05-07T01:11:28.808642Z"
    }
   },
   "outputs": [
    {
     "output_type": "execute_result",
     "data": {
      "text/plain": "array([0.54027738, 0.57470047, 0.76622332, 0.452619  , 0.14477764])"
     },
     "metadata": {},
     "execution_count": 7
    }
   ],
   "source": [
    "predict_test[:5]"
   ]
  },
  {
   "cell_type": "code",
   "execution_count": 8,
   "metadata": {
    "tags": []
   },
   "outputs": [
    {
     "output_type": "stream",
     "name": "stdout",
     "text": "Test AUC:  0.8216\n"
    }
   ],
   "source": [
    "print('Test AUC: ', round(sklearn.metrics.roc_auc_score(y_test, predict_test),4))"
   ]
  },
  {
   "cell_type": "code",
   "execution_count": 10,
   "metadata": {},
   "outputs": [
    {
     "output_type": "execute_result",
     "data": {
      "text/plain": "     score_opt  model_score  score_std   model_name  \\\n179     0.7822       0.8097   0.027544     CatBoost   \n189     0.7720       0.8153   0.043300     CatBoost   \n73      0.7529       0.7735   0.020599  LinearModel   \n68      0.7514       0.7746   0.023156  LinearModel   \n119     0.7505       0.7741   0.023554  LinearModel   \n165     0.7503       0.7854   0.035122     CatBoost   \n198     0.7482       0.7908   0.042579     CatBoost   \n71      0.7473       0.7716   0.024275  LinearModel   \n60      0.7468       0.7711   0.024293  LinearModel   \n72      0.7468       0.7744   0.027643  LinearModel   \n\n                                           model_param  \\\n179  {'verbose': 0, 'early_stopping_rounds': 50, 't...   \n189  {'verbose': 0, 'early_stopping_rounds': 50, 't...   \n73   {'verbose': 0, 'fit_intercept': True, 'C': 61....   \n68   {'verbose': 0, 'fit_intercept': True, 'C': 74....   \n119  {'verbose': 0, 'fit_intercept': True, 'C': 83....   \n165  {'verbose': 0, 'early_stopping_rounds': 50, 't...   \n198  {'verbose': 0, 'early_stopping_rounds': 50, 't...   \n71   {'verbose': 0, 'fit_intercept': True, 'C': 68....   \n60   {'verbose': 0, 'fit_intercept': True, 'C': 98....   \n72   {'verbose': 0, 'fit_intercept': True, 'C': 69....   \n\n               wrapper_params  \\\n179  {'early_stopping': True}   \n189  {'early_stopping': True}   \n73                         {}   \n68                         {}   \n119                        {}   \n165  {'early_stopping': True}   \n198  {'early_stopping': True}   \n71                         {}   \n60                         {}   \n72                         {}   \n\n                                          cat_encoders  \\\n179  [OneHotEncoder, HelmertEncoder, HashingEncoder...   \n189  [OneHotEncoder, HelmertEncoder, HashingEncoder...   \n73   [OneHotEncoder, HelmertEncoder, HashingEncoder...   \n68   [OneHotEncoder, HelmertEncoder, HashingEncoder...   \n119  [OneHotEncoder, HelmertEncoder, HashingEncoder...   \n165  [OneHotEncoder, HelmertEncoder, HashingEncoder...   \n198  [OneHotEncoder, HelmertEncoder, HashingEncoder...   \n71   [OneHotEncoder, HelmertEncoder, HashingEncoder...   \n60   [OneHotEncoder, HelmertEncoder, HashingEncoder...   \n72   [OneHotEncoder, HelmertEncoder, HashingEncoder...   \n\n                                               columns  cv_folds  \n179  [duration, num_dependents, OneHotEncoder_job_3...        10  \n189  [duration, num_dependents, OneHotEncoder_job_3...        10  \n73   [duration, num_dependents, OneHotEncoder_job_3...        10  \n68   [duration, num_dependents, OneHotEncoder_job_3...        10  \n119  [duration, num_dependents, OneHotEncoder_job_3...        10  \n165  [duration, num_dependents, OneHotEncoder_job_3...        10  \n198  [duration, num_dependents, OneHotEncoder_job_3...        10  \n71   [duration, num_dependents, OneHotEncoder_job_3...        10  \n60   [duration, num_dependents, OneHotEncoder_job_3...        10  \n72   [duration, num_dependents, OneHotEncoder_job_3...        10  ",
      "text/html": "<div>\n<style scoped>\n    .dataframe tbody tr th:only-of-type {\n        vertical-align: middle;\n    }\n\n    .dataframe tbody tr th {\n        vertical-align: top;\n    }\n\n    .dataframe thead th {\n        text-align: right;\n    }\n</style>\n<table border=\"1\" class=\"dataframe\">\n  <thead>\n    <tr style=\"text-align: right;\">\n      <th></th>\n      <th>score_opt</th>\n      <th>model_score</th>\n      <th>score_std</th>\n      <th>model_name</th>\n      <th>model_param</th>\n      <th>wrapper_params</th>\n      <th>cat_encoders</th>\n      <th>columns</th>\n      <th>cv_folds</th>\n    </tr>\n  </thead>\n  <tbody>\n    <tr>\n      <th>179</th>\n      <td>0.7822</td>\n      <td>0.8097</td>\n      <td>0.027544</td>\n      <td>CatBoost</td>\n      <td>{'verbose': 0, 'early_stopping_rounds': 50, 't...</td>\n      <td>{'early_stopping': True}</td>\n      <td>[OneHotEncoder, HelmertEncoder, HashingEncoder...</td>\n      <td>[duration, num_dependents, OneHotEncoder_job_3...</td>\n      <td>10</td>\n    </tr>\n    <tr>\n      <th>189</th>\n      <td>0.7720</td>\n      <td>0.8153</td>\n      <td>0.043300</td>\n      <td>CatBoost</td>\n      <td>{'verbose': 0, 'early_stopping_rounds': 50, 't...</td>\n      <td>{'early_stopping': True}</td>\n      <td>[OneHotEncoder, HelmertEncoder, HashingEncoder...</td>\n      <td>[duration, num_dependents, OneHotEncoder_job_3...</td>\n      <td>10</td>\n    </tr>\n    <tr>\n      <th>73</th>\n      <td>0.7529</td>\n      <td>0.7735</td>\n      <td>0.020599</td>\n      <td>LinearModel</td>\n      <td>{'verbose': 0, 'fit_intercept': True, 'C': 61....</td>\n      <td>{}</td>\n      <td>[OneHotEncoder, HelmertEncoder, HashingEncoder...</td>\n      <td>[duration, num_dependents, OneHotEncoder_job_3...</td>\n      <td>10</td>\n    </tr>\n    <tr>\n      <th>68</th>\n      <td>0.7514</td>\n      <td>0.7746</td>\n      <td>0.023156</td>\n      <td>LinearModel</td>\n      <td>{'verbose': 0, 'fit_intercept': True, 'C': 74....</td>\n      <td>{}</td>\n      <td>[OneHotEncoder, HelmertEncoder, HashingEncoder...</td>\n      <td>[duration, num_dependents, OneHotEncoder_job_3...</td>\n      <td>10</td>\n    </tr>\n    <tr>\n      <th>119</th>\n      <td>0.7505</td>\n      <td>0.7741</td>\n      <td>0.023554</td>\n      <td>LinearModel</td>\n      <td>{'verbose': 0, 'fit_intercept': True, 'C': 83....</td>\n      <td>{}</td>\n      <td>[OneHotEncoder, HelmertEncoder, HashingEncoder...</td>\n      <td>[duration, num_dependents, OneHotEncoder_job_3...</td>\n      <td>10</td>\n    </tr>\n    <tr>\n      <th>165</th>\n      <td>0.7503</td>\n      <td>0.7854</td>\n      <td>0.035122</td>\n      <td>CatBoost</td>\n      <td>{'verbose': 0, 'early_stopping_rounds': 50, 't...</td>\n      <td>{'early_stopping': True}</td>\n      <td>[OneHotEncoder, HelmertEncoder, HashingEncoder...</td>\n      <td>[duration, num_dependents, OneHotEncoder_job_3...</td>\n      <td>10</td>\n    </tr>\n    <tr>\n      <th>198</th>\n      <td>0.7482</td>\n      <td>0.7908</td>\n      <td>0.042579</td>\n      <td>CatBoost</td>\n      <td>{'verbose': 0, 'early_stopping_rounds': 50, 't...</td>\n      <td>{'early_stopping': True}</td>\n      <td>[OneHotEncoder, HelmertEncoder, HashingEncoder...</td>\n      <td>[duration, num_dependents, OneHotEncoder_job_3...</td>\n      <td>10</td>\n    </tr>\n    <tr>\n      <th>71</th>\n      <td>0.7473</td>\n      <td>0.7716</td>\n      <td>0.024275</td>\n      <td>LinearModel</td>\n      <td>{'verbose': 0, 'fit_intercept': True, 'C': 68....</td>\n      <td>{}</td>\n      <td>[OneHotEncoder, HelmertEncoder, HashingEncoder...</td>\n      <td>[duration, num_dependents, OneHotEncoder_job_3...</td>\n      <td>10</td>\n    </tr>\n    <tr>\n      <th>60</th>\n      <td>0.7468</td>\n      <td>0.7711</td>\n      <td>0.024293</td>\n      <td>LinearModel</td>\n      <td>{'verbose': 0, 'fit_intercept': True, 'C': 98....</td>\n      <td>{}</td>\n      <td>[OneHotEncoder, HelmertEncoder, HashingEncoder...</td>\n      <td>[duration, num_dependents, OneHotEncoder_job_3...</td>\n      <td>10</td>\n    </tr>\n    <tr>\n      <th>72</th>\n      <td>0.7468</td>\n      <td>0.7744</td>\n      <td>0.027643</td>\n      <td>LinearModel</td>\n      <td>{'verbose': 0, 'fit_intercept': True, 'C': 69....</td>\n      <td>{}</td>\n      <td>[OneHotEncoder, HelmertEncoder, HashingEncoder...</td>\n      <td>[duration, num_dependents, OneHotEncoder_job_3...</td>\n      <td>10</td>\n    </tr>\n  </tbody>\n</table>\n</div>"
     },
     "metadata": {},
     "execution_count": 10
    }
   ],
   "source": [
    "model.stack_models_cfgs"
   ]
  },
  {
   "cell_type": "code",
   "execution_count": null,
   "metadata": {},
   "outputs": [],
   "source": []
  }
 ],
 "metadata": {
  "kernelspec": {
   "display_name": "Python 3.8.3 64-bit ('ds': conda)",
   "language": "python",
   "name": "python38364bitdscondadc8f49c0681c4f8d9aaeec09a1cf65fe"
  },
  "language_info": {
   "codemirror_mode": {
    "name": "ipython",
    "version": 3
   },
   "file_extension": ".py",
   "mimetype": "text/x-python",
   "name": "python",
   "nbconvert_exporter": "python",
   "pygments_lexer": "ipython3",
   "version": "3.8.3-final"
  },
  "toc": {
   "base_numbering": 1,
   "nav_menu": {},
   "number_sections": false,
   "sideBar": true,
   "skip_h1_title": false,
   "title_cell": "Table of Contents",
   "title_sidebar": "Contents",
   "toc_cell": false,
   "toc_position": {
    "height": "calc(100% - 180px)",
    "left": "10px",
    "top": "150px",
    "width": "165px"
   },
   "toc_section_display": true,
   "toc_window_display": true
  }
 },
 "nbformat": 4,
 "nbformat_minor": 4
}