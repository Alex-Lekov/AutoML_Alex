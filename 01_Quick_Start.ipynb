{
 "cells": [
  {
   "cell_type": "code",
   "execution_count": 1,
   "metadata": {
    "ExecuteTime": {
     "end_time": "2020-05-07T01:04:07.223678Z",
     "start_time": "2020-05-07T01:04:07.203114Z"
    }
   },
   "outputs": [],
   "source": [
    "# If you run this notebook on Google Colaboratory, uncomment the below to install automl_alex.\n",
    "#!pip install --quiet -U automl_alex"
   ]
  },
  {
   "cell_type": "code",
   "execution_count": 1,
   "metadata": {
    "ExecuteTime": {
     "end_time": "2020-05-07T01:05:50.878720Z",
     "start_time": "2020-05-07T01:05:50.874642Z"
    },
    "tags": []
   },
   "outputs": [
    {
     "output_type": "stream",
     "name": "stdout",
     "text": "0.07.18\n"
    }
   ],
   "source": [
    "import automl_alex\n",
    "import sklearn\n",
    "import time\n",
    "from automl_alex import AutoML, AutoMLClassifier\n",
    "print(automl_alex.__version__)"
   ]
  },
  {
   "cell_type": "code",
   "execution_count": 3,
   "metadata": {
    "ExecuteTime": {
     "end_time": "2020-05-07T01:05:52.553896Z",
     "start_time": "2020-05-07T01:05:52.549132Z"
    }
   },
   "outputs": [],
   "source": [
    "RANDOM_SEED = 42"
   ]
  },
  {
   "cell_type": "markdown",
   "metadata": {},
   "source": [
    "# Classifier"
   ]
  },
  {
   "cell_type": "markdown",
   "metadata": {},
   "source": [
    "## Data"
   ]
  },
  {
   "cell_type": "code",
   "execution_count": 2,
   "metadata": {
    "ExecuteTime": {
     "end_time": "2020-05-07T01:05:55.127924Z",
     "start_time": "2020-05-07T01:05:55.037616Z"
    }
   },
   "outputs": [
    {
     "output_type": "execute_result",
     "data": {
      "text/plain": "  checking_status  duration                  credit_history  \\\n0              <0       6.0  critical/other existing credit   \n1        0<=X<200      48.0                   existing paid   \n2     no checking      12.0  critical/other existing credit   \n3              <0      42.0                   existing paid   \n4              <0      24.0              delayed previously   \n\n               purpose  credit_amount    savings_status employment  \\\n0             radio/tv         1169.0  no known savings        >=7   \n1             radio/tv         5951.0              <100     1<=X<4   \n2            education         2096.0              <100     4<=X<7   \n3  furniture/equipment         7882.0              <100     4<=X<7   \n4              new car         4870.0              <100     1<=X<4   \n\n   installment_commitment     personal_status other_parties  residence_since  \\\n0                     4.0         male single          none              4.0   \n1                     2.0  female div/dep/mar          none              2.0   \n2                     2.0         male single          none              3.0   \n3                     2.0         male single     guarantor              4.0   \n4                     3.0         male single          none              4.0   \n\n  property_magnitude   age other_payment_plans   housing  existing_credits  \\\n0        real estate  67.0                none       own               2.0   \n1        real estate  22.0                none       own               1.0   \n2        real estate  49.0                none       own               1.0   \n3     life insurance  45.0                none  for free               1.0   \n4  no known property  53.0                none  for free               2.0   \n\n                  job  num_dependents own_telephone foreign_worker  \n0             skilled             1.0           yes            yes  \n1             skilled             1.0          none            yes  \n2  unskilled resident             2.0          none            yes  \n3             skilled             2.0          none            yes  \n4             skilled             2.0          none            yes  ",
      "text/html": "<div>\n<style scoped>\n    .dataframe tbody tr th:only-of-type {\n        vertical-align: middle;\n    }\n\n    .dataframe tbody tr th {\n        vertical-align: top;\n    }\n\n    .dataframe thead th {\n        text-align: right;\n    }\n</style>\n<table border=\"1\" class=\"dataframe\">\n  <thead>\n    <tr style=\"text-align: right;\">\n      <th></th>\n      <th>checking_status</th>\n      <th>duration</th>\n      <th>credit_history</th>\n      <th>purpose</th>\n      <th>credit_amount</th>\n      <th>savings_status</th>\n      <th>employment</th>\n      <th>installment_commitment</th>\n      <th>personal_status</th>\n      <th>other_parties</th>\n      <th>residence_since</th>\n      <th>property_magnitude</th>\n      <th>age</th>\n      <th>other_payment_plans</th>\n      <th>housing</th>\n      <th>existing_credits</th>\n      <th>job</th>\n      <th>num_dependents</th>\n      <th>own_telephone</th>\n      <th>foreign_worker</th>\n    </tr>\n  </thead>\n  <tbody>\n    <tr>\n      <th>0</th>\n      <td>&lt;0</td>\n      <td>6.0</td>\n      <td>critical/other existing credit</td>\n      <td>radio/tv</td>\n      <td>1169.0</td>\n      <td>no known savings</td>\n      <td>&gt;=7</td>\n      <td>4.0</td>\n      <td>male single</td>\n      <td>none</td>\n      <td>4.0</td>\n      <td>real estate</td>\n      <td>67.0</td>\n      <td>none</td>\n      <td>own</td>\n      <td>2.0</td>\n      <td>skilled</td>\n      <td>1.0</td>\n      <td>yes</td>\n      <td>yes</td>\n    </tr>\n    <tr>\n      <th>1</th>\n      <td>0&lt;=X&lt;200</td>\n      <td>48.0</td>\n      <td>existing paid</td>\n      <td>radio/tv</td>\n      <td>5951.0</td>\n      <td>&lt;100</td>\n      <td>1&lt;=X&lt;4</td>\n      <td>2.0</td>\n      <td>female div/dep/mar</td>\n      <td>none</td>\n      <td>2.0</td>\n      <td>real estate</td>\n      <td>22.0</td>\n      <td>none</td>\n      <td>own</td>\n      <td>1.0</td>\n      <td>skilled</td>\n      <td>1.0</td>\n      <td>none</td>\n      <td>yes</td>\n    </tr>\n    <tr>\n      <th>2</th>\n      <td>no checking</td>\n      <td>12.0</td>\n      <td>critical/other existing credit</td>\n      <td>education</td>\n      <td>2096.0</td>\n      <td>&lt;100</td>\n      <td>4&lt;=X&lt;7</td>\n      <td>2.0</td>\n      <td>male single</td>\n      <td>none</td>\n      <td>3.0</td>\n      <td>real estate</td>\n      <td>49.0</td>\n      <td>none</td>\n      <td>own</td>\n      <td>1.0</td>\n      <td>unskilled resident</td>\n      <td>2.0</td>\n      <td>none</td>\n      <td>yes</td>\n    </tr>\n    <tr>\n      <th>3</th>\n      <td>&lt;0</td>\n      <td>42.0</td>\n      <td>existing paid</td>\n      <td>furniture/equipment</td>\n      <td>7882.0</td>\n      <td>&lt;100</td>\n      <td>4&lt;=X&lt;7</td>\n      <td>2.0</td>\n      <td>male single</td>\n      <td>guarantor</td>\n      <td>4.0</td>\n      <td>life insurance</td>\n      <td>45.0</td>\n      <td>none</td>\n      <td>for free</td>\n      <td>1.0</td>\n      <td>skilled</td>\n      <td>2.0</td>\n      <td>none</td>\n      <td>yes</td>\n    </tr>\n    <tr>\n      <th>4</th>\n      <td>&lt;0</td>\n      <td>24.0</td>\n      <td>delayed previously</td>\n      <td>new car</td>\n      <td>4870.0</td>\n      <td>&lt;100</td>\n      <td>1&lt;=X&lt;4</td>\n      <td>3.0</td>\n      <td>male single</td>\n      <td>none</td>\n      <td>4.0</td>\n      <td>no known property</td>\n      <td>53.0</td>\n      <td>none</td>\n      <td>for free</td>\n      <td>2.0</td>\n      <td>skilled</td>\n      <td>2.0</td>\n      <td>none</td>\n      <td>yes</td>\n    </tr>\n  </tbody>\n</table>\n</div>"
     },
     "metadata": {},
     "execution_count": 2
    }
   ],
   "source": [
    "from sklearn.datasets import fetch_openml\n",
    "from sklearn.model_selection import train_test_split\n",
    "dataset = fetch_openml(name='credit-g', version=1, as_frame=True)\n",
    "dataset.target = dataset.target.astype('category').cat.codes\n",
    "dataset.data.head(5)"
   ]
  },
  {
   "cell_type": "code",
   "execution_count": 4,
   "metadata": {
    "ExecuteTime": {
     "end_time": "2020-05-07T01:05:56.756465Z",
     "start_time": "2020-05-07T01:05:56.734220Z"
    }
   },
   "outputs": [
    {
     "output_type": "execute_result",
     "data": {
      "text/plain": "((750, 20), (250, 20))"
     },
     "metadata": {},
     "execution_count": 4
    }
   ],
   "source": [
    "X_train, X_test, y_train, y_test = train_test_split(dataset.data, \n",
    "                                                    dataset.target,\n",
    "                                                    test_size=0.25, \n",
    "                                                    random_state=RANDOM_SEED,)\n",
    "X_train.shape, X_test.shape"
   ]
  },
  {
   "cell_type": "markdown",
   "metadata": {},
   "source": [
    "## Model"
   ]
  },
  {
   "cell_type": "code",
   "execution_count": 5,
   "metadata": {
    "ExecuteTime": {
     "end_time": "2020-05-07T01:05:59.848085Z",
     "start_time": "2020-05-07T01:05:59.337884Z"
    },
    "tags": []
   },
   "outputs": [
    {
     "output_type": "stream",
     "name": "stdout",
     "text": "Source X_train shape:  (750, 20) | X_test shape:  (250, 20)\n##################################################\nAuto detect cat features:  13\n> Start preprocessing Data\n> Generate cat encodet features\n +  55  Features from  OneHotEncoder\n +  44  Features from  HelmertEncoder\n +  54  Features from  HashingEncoder\n +  16  Features from  FrequencyEncoder\n> Generate Frequency Encode num features\n +  4  Frequency Encode Num Features \n> Clean Nans in num features\n> Generate interaction Num Features\n +  24  Interaction Features\n> Normalization Features\n##################################################\n> Total Features:  201\n##################################################\nNew X_train shape:  (750, 201) | X_test shape:  (250, 201)\n"
    }
   ],
   "source": [
    "model = AutoML(X_train, y_train, X_test, type_of_estimator='classifier', random_state=RANDOM_SEED)\n",
    "\n",
    "# or Simply\n",
    "model = AutoMLClassifier(X_train, y_train, X_test, random_state=RANDOM_SEED, verbose=1)"
   ]
  },
  {
   "cell_type": "code",
   "execution_count": 6,
   "metadata": {
    "ExecuteTime": {
     "end_time": "2020-05-06T17:01:04.947762Z",
     "start_time": "2020-05-06T16:47:23.396089Z"
    },
    "tags": []
   },
   "outputs": [
    {
     "output_type": "stream",
     "name": "stdout",
     "text": "\n Opt BestModels\nOne iteration takes ~ 0.6 sec\n> Start Auto calibration parameters\n> Start optimization with the parameters:\nCV_Folds =  10\nScore_CV_Folds =  3\nFeature_Selection =  True\nOpt_lvl =  2\nCold_start =  46.0\nEarly_stoping =  100\nMetric =  roc_auc_score\nDirection =  maximize\n##################################################\nDefault model OptScore = 0.5588\nOptimize: : 88it [06:43,  4.59s/it,  | Model: CatBoost | OptScore: 0.7979 | Best roc_auc_score: 0.827 +- 0.029059]\n\n Predict from Models_1\n 10%|█         | 1/10 [01:20<12:07, 80.83s/it]\n Mean Score roc_auc_score on 30 Folds: 0.7927 std: 0.050418\n 20%|██        | 2/10 [02:42<10:49, 81.13s/it]\n Mean Score roc_auc_score on 30 Folds: 0.7898 std: 0.04651\n 30%|███       | 3/10 [03:50<08:59, 77.09s/it]\n Mean Score roc_auc_score on 30 Folds: 0.7917 std: 0.049745\n 40%|████      | 4/10 [05:26<08:16, 82.81s/it]\n Mean Score roc_auc_score on 30 Folds: 0.795 std: 0.042919\n 50%|█████     | 5/10 [06:45<06:49, 81.82s/it]\n Mean Score roc_auc_score on 30 Folds: 0.7969 std: 0.045958\n 60%|██████    | 6/10 [08:17<05:38, 84.62s/it]\n Mean Score roc_auc_score on 30 Folds: 0.7924 std: 0.053438\n 70%|███████   | 7/10 [08:18<02:59, 59.69s/it]\n Mean Score roc_auc_score on 30 Folds: 0.7615 std: 0.055441\n 80%|████████  | 8/10 [09:35<02:09, 64.87s/it]\n Mean Score roc_auc_score on 30 Folds: 0.7983 std: 0.048666\n 90%|█████████ | 9/10 [10:58<01:10, 70.21s/it]\n Mean Score roc_auc_score on 30 Folds: 0.7918 std: 0.046065\n100%|██████████| 10/10 [12:15<00:00, 73.56s/it]\n Mean Score roc_auc_score on 30 Folds: 0.7927 std: 0.053633\n\n Models_1 Mean roc_auc_score Score Train:  0.8014\n\nOne iteration takes ~ 0.2 sec\n> Start Auto calibration parameters\n> Start optimization with the parameters:\nCV_Folds =  10\nScore_CV_Folds =  5\nFeature_Selection =  True\nOpt_lvl =  3\nCold_start =  122.0\nEarly_stoping =  244.0\nMetric =  roc_auc_score\nDirection =  maximize\n##################################################\nDefault model OptScore = 0.695\nOptimize: : 425it [02:36,  1.96it/s,  | Model: LinearModel | OptScore: 0.7423 | Best roc_auc_score: 0.7938 +- 0.051454]\n EarlyStopping Exceeded: Best Score: 0.7423 roc_auc_score\nOptimize: : 425it [02:36,  2.71it/s,  | Model: LinearModel | OptScore: 0.7423 | Best roc_auc_score: 0.7938 +- 0.051454]\n\n Predict from Models_2\n 20%|██        | 1/5 [00:00<00:03,  1.05it/s]\n Mean Score roc_auc_score on 30 Folds: 0.7772 std: 0.049412\n 40%|████      | 2/5 [00:01<00:02,  1.03it/s]\n Mean Score roc_auc_score on 30 Folds: 0.7772 std: 0.049383\n 60%|██████    | 3/5 [00:02<00:01,  1.02it/s]\n Mean Score roc_auc_score on 30 Folds: 0.7771 std: 0.048813\n 80%|████████  | 4/5 [00:03<00:00,  1.03it/s]\n Mean Score roc_auc_score on 30 Folds: 0.7771 std: 0.048812\n100%|██████████| 5/5 [00:04<00:00,  1.01it/s]\n Mean Score roc_auc_score on 30 Folds: 0.7772 std: 0.049234\n\n Models_2 Mean roc_auc_score Score Train:  0.7796\n\n StackModels roc_auc_score Score Train:  0.8037\n\nCPU times: user 1h 52min 59s, sys: 4min 23s, total: 1h 57min 23s\nWall time: 21min 43s\n"
    }
   ],
   "source": [
    "%%time\n",
    "predict_test, predict_train = model.fit_predict(timeout=1000, verbose=2)"
   ]
  },
  {
   "cell_type": "code",
   "execution_count": 7,
   "metadata": {
    "ExecuteTime": {
     "end_time": "2020-05-07T01:11:28.827682Z",
     "start_time": "2020-05-07T01:11:28.808642Z"
    }
   },
   "outputs": [
    {
     "output_type": "execute_result",
     "data": {
      "text/plain": "array([0.50593874, 0.47516297, 0.62275006, 0.4502443 , 0.2075947 ])"
     },
     "metadata": {},
     "execution_count": 7
    }
   ],
   "source": [
    "predict_test[:5]"
   ]
  },
  {
   "cell_type": "code",
   "execution_count": 8,
   "metadata": {
    "tags": []
   },
   "outputs": [
    {
     "output_type": "stream",
     "name": "stdout",
     "text": "Test AUC:  0.8191\n"
    }
   ],
   "source": [
    "print('Test AUC: ', round(sklearn.metrics.roc_auc_score(y_test, predict_test),4))"
   ]
  },
  {
   "cell_type": "code",
   "execution_count": 9,
   "metadata": {},
   "outputs": [
    {
     "output_type": "execute_result",
     "data": {
      "text/plain": "    score_opt  model_score  score_std   model_name  \\\n0      0.7979       0.8270   0.029059     CatBoost   \n1      0.7830       0.8157   0.032703     CatBoost   \n2      0.7810       0.8206   0.039552     CatBoost   \n3      0.7759       0.8064   0.030494     CatBoost   \n4      0.7727       0.8124   0.039652     CatBoost   \n5      0.7657       0.8142   0.048497     CatBoost   \n6      0.7628       0.8025   0.039686   KNeighbors   \n7      0.7625       0.8215   0.059007     CatBoost   \n8      0.7613       0.8043   0.043044     CatBoost   \n9      0.7611       0.8154   0.054328     CatBoost   \n10     0.7423       0.7938   0.051454  LinearModel   \n11     0.7423       0.7936   0.051316  LinearModel   \n12     0.7422       0.7921   0.049947  LinearModel   \n13     0.7422       0.7920   0.049800  LinearModel   \n14     0.7419       0.7935   0.051595  LinearModel   \n\n                                          model_param  \\\n0   {'verbose': 0, 'early_stopping_rounds': 50, 't...   \n1   {'verbose': 0, 'early_stopping_rounds': 50, 't...   \n2   {'verbose': 0, 'early_stopping_rounds': 50, 't...   \n3   {'verbose': 0, 'early_stopping_rounds': 50, 't...   \n4   {'verbose': 0, 'early_stopping_rounds': 50, 't...   \n5   {'verbose': 0, 'early_stopping_rounds': 50, 't...   \n6   {'n_jobs': -1, 'n_neighbors': 59, 'weights': '...   \n7   {'verbose': 0, 'early_stopping_rounds': 50, 't...   \n8   {'verbose': 0, 'early_stopping_rounds': 50, 't...   \n9   {'verbose': 0, 'early_stopping_rounds': 50, 't...   \n10  {'verbose': 0, 'fit_intercept': False, 'C': 20...   \n11  {'verbose': 0, 'fit_intercept': False, 'C': 20...   \n12  {'verbose': 0, 'fit_intercept': False, 'C': 20...   \n13  {'verbose': 0, 'fit_intercept': False, 'C': 21...   \n14  {'verbose': 0, 'fit_intercept': False, 'C': 25...   \n\n              wrapper_params  \\\n0   {'early_stopping': True}   \n1   {'early_stopping': True}   \n2   {'early_stopping': True}   \n3   {'early_stopping': True}   \n4   {'early_stopping': True}   \n5   {'early_stopping': True}   \n6                         {}   \n7   {'early_stopping': True}   \n8   {'early_stopping': True}   \n9   {'early_stopping': True}   \n10                        {}   \n11                        {}   \n12                        {}   \n13                        {}   \n14                        {}   \n\n                                         cat_encoders  \\\n0   [OneHotEncoder, HelmertEncoder, HashingEncoder...   \n1   [OneHotEncoder, HelmertEncoder, HashingEncoder...   \n2   [OneHotEncoder, HelmertEncoder, HashingEncoder...   \n3   [OneHotEncoder, HelmertEncoder, HashingEncoder...   \n4   [OneHotEncoder, HelmertEncoder, HashingEncoder...   \n5   [OneHotEncoder, HelmertEncoder, HashingEncoder...   \n6   [OneHotEncoder, HelmertEncoder, HashingEncoder...   \n7   [OneHotEncoder, HelmertEncoder, HashingEncoder...   \n8   [OneHotEncoder, HelmertEncoder, HashingEncoder...   \n9   [OneHotEncoder, HelmertEncoder, HashingEncoder...   \n10  [OneHotEncoder, HelmertEncoder, HashingEncoder...   \n11  [OneHotEncoder, HelmertEncoder, HashingEncoder...   \n12  [OneHotEncoder, HelmertEncoder, HashingEncoder...   \n13  [OneHotEncoder, HelmertEncoder, HashingEncoder...   \n14  [OneHotEncoder, HelmertEncoder, HashingEncoder...   \n\n                                              columns  cv_folds  \n0   [age, OneHotEncoder_residence_since, OneHotEnc...        10  \n1   [age, OneHotEncoder_residence_since, OneHotEnc...        10  \n2   [age, OneHotEncoder_property_magnitude_2, OneH...        10  \n3   [age, OneHotEncoder_residence_since, OneHotEnc...        10  \n4   [age, OneHotEncoder_residence_since, OneHotEnc...        10  \n5   [age, OneHotEncoder_residence_since, OneHotEnc...        10  \n6   [duration, age, num_dependents, OneHotEncoder_...        10  \n7   [OneHotEncoder_residence_since, OneHotEncoder_...        10  \n8   [age, OneHotEncoder_residence_since, OneHotEnc...        10  \n9   [age, OneHotEncoder_residence_since, OneHotEnc...        10  \n10  [duration, num_dependents, OneHotEncoder_resid...        10  \n11  [duration, num_dependents, OneHotEncoder_resid...        10  \n12  [duration, num_dependents, OneHotEncoder_resid...        10  \n13  [duration, num_dependents, OneHotEncoder_resid...        10  \n14  [duration, num_dependents, OneHotEncoder_resid...        10  ",
      "text/html": "<div>\n<style scoped>\n    .dataframe tbody tr th:only-of-type {\n        vertical-align: middle;\n    }\n\n    .dataframe tbody tr th {\n        vertical-align: top;\n    }\n\n    .dataframe thead th {\n        text-align: right;\n    }\n</style>\n<table border=\"1\" class=\"dataframe\">\n  <thead>\n    <tr style=\"text-align: right;\">\n      <th></th>\n      <th>score_opt</th>\n      <th>model_score</th>\n      <th>score_std</th>\n      <th>model_name</th>\n      <th>model_param</th>\n      <th>wrapper_params</th>\n      <th>cat_encoders</th>\n      <th>columns</th>\n      <th>cv_folds</th>\n    </tr>\n  </thead>\n  <tbody>\n    <tr>\n      <th>0</th>\n      <td>0.7979</td>\n      <td>0.8270</td>\n      <td>0.029059</td>\n      <td>CatBoost</td>\n      <td>{'verbose': 0, 'early_stopping_rounds': 50, 't...</td>\n      <td>{'early_stopping': True}</td>\n      <td>[OneHotEncoder, HelmertEncoder, HashingEncoder...</td>\n      <td>[age, OneHotEncoder_residence_since, OneHotEnc...</td>\n      <td>10</td>\n    </tr>\n    <tr>\n      <th>1</th>\n      <td>0.7830</td>\n      <td>0.8157</td>\n      <td>0.032703</td>\n      <td>CatBoost</td>\n      <td>{'verbose': 0, 'early_stopping_rounds': 50, 't...</td>\n      <td>{'early_stopping': True}</td>\n      <td>[OneHotEncoder, HelmertEncoder, HashingEncoder...</td>\n      <td>[age, OneHotEncoder_residence_since, OneHotEnc...</td>\n      <td>10</td>\n    </tr>\n    <tr>\n      <th>2</th>\n      <td>0.7810</td>\n      <td>0.8206</td>\n      <td>0.039552</td>\n      <td>CatBoost</td>\n      <td>{'verbose': 0, 'early_stopping_rounds': 50, 't...</td>\n      <td>{'early_stopping': True}</td>\n      <td>[OneHotEncoder, HelmertEncoder, HashingEncoder...</td>\n      <td>[age, OneHotEncoder_property_magnitude_2, OneH...</td>\n      <td>10</td>\n    </tr>\n    <tr>\n      <th>3</th>\n      <td>0.7759</td>\n      <td>0.8064</td>\n      <td>0.030494</td>\n      <td>CatBoost</td>\n      <td>{'verbose': 0, 'early_stopping_rounds': 50, 't...</td>\n      <td>{'early_stopping': True}</td>\n      <td>[OneHotEncoder, HelmertEncoder, HashingEncoder...</td>\n      <td>[age, OneHotEncoder_residence_since, OneHotEnc...</td>\n      <td>10</td>\n    </tr>\n    <tr>\n      <th>4</th>\n      <td>0.7727</td>\n      <td>0.8124</td>\n      <td>0.039652</td>\n      <td>CatBoost</td>\n      <td>{'verbose': 0, 'early_stopping_rounds': 50, 't...</td>\n      <td>{'early_stopping': True}</td>\n      <td>[OneHotEncoder, HelmertEncoder, HashingEncoder...</td>\n      <td>[age, OneHotEncoder_residence_since, OneHotEnc...</td>\n      <td>10</td>\n    </tr>\n    <tr>\n      <th>5</th>\n      <td>0.7657</td>\n      <td>0.8142</td>\n      <td>0.048497</td>\n      <td>CatBoost</td>\n      <td>{'verbose': 0, 'early_stopping_rounds': 50, 't...</td>\n      <td>{'early_stopping': True}</td>\n      <td>[OneHotEncoder, HelmertEncoder, HashingEncoder...</td>\n      <td>[age, OneHotEncoder_residence_since, OneHotEnc...</td>\n      <td>10</td>\n    </tr>\n    <tr>\n      <th>6</th>\n      <td>0.7628</td>\n      <td>0.8025</td>\n      <td>0.039686</td>\n      <td>KNeighbors</td>\n      <td>{'n_jobs': -1, 'n_neighbors': 59, 'weights': '...</td>\n      <td>{}</td>\n      <td>[OneHotEncoder, HelmertEncoder, HashingEncoder...</td>\n      <td>[duration, age, num_dependents, OneHotEncoder_...</td>\n      <td>10</td>\n    </tr>\n    <tr>\n      <th>7</th>\n      <td>0.7625</td>\n      <td>0.8215</td>\n      <td>0.059007</td>\n      <td>CatBoost</td>\n      <td>{'verbose': 0, 'early_stopping_rounds': 50, 't...</td>\n      <td>{'early_stopping': True}</td>\n      <td>[OneHotEncoder, HelmertEncoder, HashingEncoder...</td>\n      <td>[OneHotEncoder_residence_since, OneHotEncoder_...</td>\n      <td>10</td>\n    </tr>\n    <tr>\n      <th>8</th>\n      <td>0.7613</td>\n      <td>0.8043</td>\n      <td>0.043044</td>\n      <td>CatBoost</td>\n      <td>{'verbose': 0, 'early_stopping_rounds': 50, 't...</td>\n      <td>{'early_stopping': True}</td>\n      <td>[OneHotEncoder, HelmertEncoder, HashingEncoder...</td>\n      <td>[age, OneHotEncoder_residence_since, OneHotEnc...</td>\n      <td>10</td>\n    </tr>\n    <tr>\n      <th>9</th>\n      <td>0.7611</td>\n      <td>0.8154</td>\n      <td>0.054328</td>\n      <td>CatBoost</td>\n      <td>{'verbose': 0, 'early_stopping_rounds': 50, 't...</td>\n      <td>{'early_stopping': True}</td>\n      <td>[OneHotEncoder, HelmertEncoder, HashingEncoder...</td>\n      <td>[age, OneHotEncoder_residence_since, OneHotEnc...</td>\n      <td>10</td>\n    </tr>\n    <tr>\n      <th>10</th>\n      <td>0.7423</td>\n      <td>0.7938</td>\n      <td>0.051454</td>\n      <td>LinearModel</td>\n      <td>{'verbose': 0, 'fit_intercept': False, 'C': 20...</td>\n      <td>{}</td>\n      <td>[OneHotEncoder, HelmertEncoder, HashingEncoder...</td>\n      <td>[duration, num_dependents, OneHotEncoder_resid...</td>\n      <td>10</td>\n    </tr>\n    <tr>\n      <th>11</th>\n      <td>0.7423</td>\n      <td>0.7936</td>\n      <td>0.051316</td>\n      <td>LinearModel</td>\n      <td>{'verbose': 0, 'fit_intercept': False, 'C': 20...</td>\n      <td>{}</td>\n      <td>[OneHotEncoder, HelmertEncoder, HashingEncoder...</td>\n      <td>[duration, num_dependents, OneHotEncoder_resid...</td>\n      <td>10</td>\n    </tr>\n    <tr>\n      <th>12</th>\n      <td>0.7422</td>\n      <td>0.7921</td>\n      <td>0.049947</td>\n      <td>LinearModel</td>\n      <td>{'verbose': 0, 'fit_intercept': False, 'C': 20...</td>\n      <td>{}</td>\n      <td>[OneHotEncoder, HelmertEncoder, HashingEncoder...</td>\n      <td>[duration, num_dependents, OneHotEncoder_resid...</td>\n      <td>10</td>\n    </tr>\n    <tr>\n      <th>13</th>\n      <td>0.7422</td>\n      <td>0.7920</td>\n      <td>0.049800</td>\n      <td>LinearModel</td>\n      <td>{'verbose': 0, 'fit_intercept': False, 'C': 21...</td>\n      <td>{}</td>\n      <td>[OneHotEncoder, HelmertEncoder, HashingEncoder...</td>\n      <td>[duration, num_dependents, OneHotEncoder_resid...</td>\n      <td>10</td>\n    </tr>\n    <tr>\n      <th>14</th>\n      <td>0.7419</td>\n      <td>0.7935</td>\n      <td>0.051595</td>\n      <td>LinearModel</td>\n      <td>{'verbose': 0, 'fit_intercept': False, 'C': 25...</td>\n      <td>{}</td>\n      <td>[OneHotEncoder, HelmertEncoder, HashingEncoder...</td>\n      <td>[duration, num_dependents, OneHotEncoder_resid...</td>\n      <td>10</td>\n    </tr>\n  </tbody>\n</table>\n</div>"
     },
     "metadata": {},
     "execution_count": 9
    }
   ],
   "source": [
    "model.stack_models_cfgs"
   ]
  },
  {
   "cell_type": "code",
   "execution_count": null,
   "metadata": {},
   "outputs": [],
   "source": []
  },
  {
   "cell_type": "code",
   "execution_count": null,
   "metadata": {},
   "outputs": [],
   "source": []
  }
 ],
 "metadata": {
  "kernelspec": {
   "display_name": "Python 3.8.3 64-bit ('ds': conda)",
   "language": "python",
   "name": "python38364bitdscondadc8f49c0681c4f8d9aaeec09a1cf65fe"
  },
  "language_info": {
   "codemirror_mode": {
    "name": "ipython",
    "version": 3
   },
   "file_extension": ".py",
   "mimetype": "text/x-python",
   "name": "python",
   "nbconvert_exporter": "python",
   "pygments_lexer": "ipython3",
   "version": "3.8.3-final"
  },
  "toc": {
   "base_numbering": 1,
   "nav_menu": {},
   "number_sections": false,
   "sideBar": true,
   "skip_h1_title": false,
   "title_cell": "Table of Contents",
   "title_sidebar": "Contents",
   "toc_cell": false,
   "toc_position": {
    "height": "calc(100% - 180px)",
    "left": "10px",
    "top": "150px",
    "width": "165px"
   },
   "toc_section_display": true,
   "toc_window_display": true
  }
 },
 "nbformat": 4,
 "nbformat_minor": 4
}