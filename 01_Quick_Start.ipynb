{
 "cells": [
  {
   "cell_type": "code",
   "execution_count": 1,
   "metadata": {
    "ExecuteTime": {
     "end_time": "2020-05-07T01:04:07.223678Z",
     "start_time": "2020-05-07T01:04:07.203114Z"
    }
   },
   "outputs": [],
   "source": [
    "# If you run this notebook on Google Colaboratory, uncomment the below to install automl_alex.\n",
    "#!pip install --quiet -U automl_alex"
   ]
  },
  {
   "cell_type": "code",
   "execution_count": 2,
   "metadata": {
    "ExecuteTime": {
     "end_time": "2020-05-07T01:05:50.878720Z",
     "start_time": "2020-05-07T01:05:50.874642Z"
    },
    "tags": []
   },
   "outputs": [
    {
     "output_type": "stream",
     "name": "stdout",
     "text": "0.07.24\n"
    }
   ],
   "source": [
    "import automl_alex\n",
    "import sklearn\n",
    "import time\n",
    "from automl_alex import AutoML, AutoMLClassifier\n",
    "print(automl_alex.__version__)"
   ]
  },
  {
   "cell_type": "code",
   "execution_count": 3,
   "metadata": {
    "ExecuteTime": {
     "end_time": "2020-05-07T01:05:52.553896Z",
     "start_time": "2020-05-07T01:05:52.549132Z"
    }
   },
   "outputs": [],
   "source": [
    "RANDOM_SEED = 42"
   ]
  },
  {
   "cell_type": "markdown",
   "metadata": {},
   "source": [
    "# Classifier"
   ]
  },
  {
   "cell_type": "markdown",
   "metadata": {},
   "source": [
    "## Data"
   ]
  },
  {
   "cell_type": "code",
   "execution_count": 4,
   "metadata": {
    "ExecuteTime": {
     "end_time": "2020-05-07T01:05:55.127924Z",
     "start_time": "2020-05-07T01:05:55.037616Z"
    }
   },
   "outputs": [
    {
     "output_type": "execute_result",
     "data": {
      "text/plain": "  checking_status  duration                  credit_history  \\\n0              <0       6.0  critical/other existing credit   \n1        0<=X<200      48.0                   existing paid   \n2     no checking      12.0  critical/other existing credit   \n3              <0      42.0                   existing paid   \n4              <0      24.0              delayed previously   \n\n               purpose  credit_amount    savings_status employment  \\\n0             radio/tv         1169.0  no known savings        >=7   \n1             radio/tv         5951.0              <100     1<=X<4   \n2            education         2096.0              <100     4<=X<7   \n3  furniture/equipment         7882.0              <100     4<=X<7   \n4              new car         4870.0              <100     1<=X<4   \n\n   installment_commitment     personal_status other_parties  residence_since  \\\n0                     4.0         male single          none              4.0   \n1                     2.0  female div/dep/mar          none              2.0   \n2                     2.0         male single          none              3.0   \n3                     2.0         male single     guarantor              4.0   \n4                     3.0         male single          none              4.0   \n\n  property_magnitude   age other_payment_plans   housing  existing_credits  \\\n0        real estate  67.0                none       own               2.0   \n1        real estate  22.0                none       own               1.0   \n2        real estate  49.0                none       own               1.0   \n3     life insurance  45.0                none  for free               1.0   \n4  no known property  53.0                none  for free               2.0   \n\n                  job  num_dependents own_telephone foreign_worker  \n0             skilled             1.0           yes            yes  \n1             skilled             1.0          none            yes  \n2  unskilled resident             2.0          none            yes  \n3             skilled             2.0          none            yes  \n4             skilled             2.0          none            yes  ",
      "text/html": "<div>\n<style scoped>\n    .dataframe tbody tr th:only-of-type {\n        vertical-align: middle;\n    }\n\n    .dataframe tbody tr th {\n        vertical-align: top;\n    }\n\n    .dataframe thead th {\n        text-align: right;\n    }\n</style>\n<table border=\"1\" class=\"dataframe\">\n  <thead>\n    <tr style=\"text-align: right;\">\n      <th></th>\n      <th>checking_status</th>\n      <th>duration</th>\n      <th>credit_history</th>\n      <th>purpose</th>\n      <th>credit_amount</th>\n      <th>savings_status</th>\n      <th>employment</th>\n      <th>installment_commitment</th>\n      <th>personal_status</th>\n      <th>other_parties</th>\n      <th>residence_since</th>\n      <th>property_magnitude</th>\n      <th>age</th>\n      <th>other_payment_plans</th>\n      <th>housing</th>\n      <th>existing_credits</th>\n      <th>job</th>\n      <th>num_dependents</th>\n      <th>own_telephone</th>\n      <th>foreign_worker</th>\n    </tr>\n  </thead>\n  <tbody>\n    <tr>\n      <th>0</th>\n      <td>&lt;0</td>\n      <td>6.0</td>\n      <td>critical/other existing credit</td>\n      <td>radio/tv</td>\n      <td>1169.0</td>\n      <td>no known savings</td>\n      <td>&gt;=7</td>\n      <td>4.0</td>\n      <td>male single</td>\n      <td>none</td>\n      <td>4.0</td>\n      <td>real estate</td>\n      <td>67.0</td>\n      <td>none</td>\n      <td>own</td>\n      <td>2.0</td>\n      <td>skilled</td>\n      <td>1.0</td>\n      <td>yes</td>\n      <td>yes</td>\n    </tr>\n    <tr>\n      <th>1</th>\n      <td>0&lt;=X&lt;200</td>\n      <td>48.0</td>\n      <td>existing paid</td>\n      <td>radio/tv</td>\n      <td>5951.0</td>\n      <td>&lt;100</td>\n      <td>1&lt;=X&lt;4</td>\n      <td>2.0</td>\n      <td>female div/dep/mar</td>\n      <td>none</td>\n      <td>2.0</td>\n      <td>real estate</td>\n      <td>22.0</td>\n      <td>none</td>\n      <td>own</td>\n      <td>1.0</td>\n      <td>skilled</td>\n      <td>1.0</td>\n      <td>none</td>\n      <td>yes</td>\n    </tr>\n    <tr>\n      <th>2</th>\n      <td>no checking</td>\n      <td>12.0</td>\n      <td>critical/other existing credit</td>\n      <td>education</td>\n      <td>2096.0</td>\n      <td>&lt;100</td>\n      <td>4&lt;=X&lt;7</td>\n      <td>2.0</td>\n      <td>male single</td>\n      <td>none</td>\n      <td>3.0</td>\n      <td>real estate</td>\n      <td>49.0</td>\n      <td>none</td>\n      <td>own</td>\n      <td>1.0</td>\n      <td>unskilled resident</td>\n      <td>2.0</td>\n      <td>none</td>\n      <td>yes</td>\n    </tr>\n    <tr>\n      <th>3</th>\n      <td>&lt;0</td>\n      <td>42.0</td>\n      <td>existing paid</td>\n      <td>furniture/equipment</td>\n      <td>7882.0</td>\n      <td>&lt;100</td>\n      <td>4&lt;=X&lt;7</td>\n      <td>2.0</td>\n      <td>male single</td>\n      <td>guarantor</td>\n      <td>4.0</td>\n      <td>life insurance</td>\n      <td>45.0</td>\n      <td>none</td>\n      <td>for free</td>\n      <td>1.0</td>\n      <td>skilled</td>\n      <td>2.0</td>\n      <td>none</td>\n      <td>yes</td>\n    </tr>\n    <tr>\n      <th>4</th>\n      <td>&lt;0</td>\n      <td>24.0</td>\n      <td>delayed previously</td>\n      <td>new car</td>\n      <td>4870.0</td>\n      <td>&lt;100</td>\n      <td>1&lt;=X&lt;4</td>\n      <td>3.0</td>\n      <td>male single</td>\n      <td>none</td>\n      <td>4.0</td>\n      <td>no known property</td>\n      <td>53.0</td>\n      <td>none</td>\n      <td>for free</td>\n      <td>2.0</td>\n      <td>skilled</td>\n      <td>2.0</td>\n      <td>none</td>\n      <td>yes</td>\n    </tr>\n  </tbody>\n</table>\n</div>"
     },
     "metadata": {},
     "execution_count": 4
    }
   ],
   "source": [
    "from sklearn.datasets import fetch_openml\n",
    "from sklearn.model_selection import train_test_split\n",
    "dataset = fetch_openml(name='credit-g', version=1, as_frame=True)\n",
    "dataset.target = dataset.target.astype('category').cat.codes\n",
    "dataset.data.head(5)"
   ]
  },
  {
   "cell_type": "code",
   "execution_count": 5,
   "metadata": {
    "ExecuteTime": {
     "end_time": "2020-05-07T01:05:56.756465Z",
     "start_time": "2020-05-07T01:05:56.734220Z"
    }
   },
   "outputs": [
    {
     "output_type": "execute_result",
     "data": {
      "text/plain": "((750, 20), (250, 20))"
     },
     "metadata": {},
     "execution_count": 5
    }
   ],
   "source": [
    "X_train, X_test, y_train, y_test = train_test_split(dataset.data, \n",
    "                                                    dataset.target,\n",
    "                                                    test_size=0.25, \n",
    "                                                    random_state=RANDOM_SEED,)\n",
    "X_train.shape, X_test.shape"
   ]
  },
  {
   "cell_type": "markdown",
   "metadata": {},
   "source": [
    "## Model"
   ]
  },
  {
   "cell_type": "code",
   "execution_count": 6,
   "metadata": {
    "ExecuteTime": {
     "end_time": "2020-05-07T01:05:59.848085Z",
     "start_time": "2020-05-07T01:05:59.337884Z"
    },
    "tags": []
   },
   "outputs": [
    {
     "output_type": "stream",
     "name": "stdout",
     "text": "Source X_train shape:  (750, 20) | X_test shape:  (250, 20)\n##################################################\nAuto detect cat features:  13\n> Start preprocessing Data\n> Generate cat encodet features\n +  55  Features from  OneHotEncoder\n +  44  Features from  HelmertEncoder\n +  54  Features from  HashingEncoder\n +  16  Features from  FrequencyEncoder\n> Generate Frequency Encode num features\n +  4  Frequency Encode Num Features \n> Clean Nans in num features\n> Generate interaction Num Features\n +  24  Interaction Features\n> Normalization Features\n##################################################\n> Total Features:  201\n##################################################\nNew X_train shape:  (750, 201) | X_test shape:  (250, 201)\n"
    }
   ],
   "source": [
    "model = AutoML(X_train, y_train, X_test, type_of_estimator='classifier', random_state=RANDOM_SEED)\n",
    "\n",
    "# or Simply\n",
    "model = AutoMLClassifier(X_train, y_train, X_test, random_state=RANDOM_SEED, verbose=1)"
   ]
  },
  {
   "cell_type": "code",
   "execution_count": 6,
   "metadata": {
    "ExecuteTime": {
     "end_time": "2020-05-06T17:01:04.947762Z",
     "start_time": "2020-05-06T16:47:23.396089Z"
    },
    "tags": []
   },
   "outputs": [
    {
     "output_type": "stream",
     "name": "stdout",
     "text": "\n Opt BestModels\nOne iteration takes ~ 0.5 sec\n> Start Auto calibration parameters\n> Start optimization with the parameters:\nCV_Folds =  10\nScore_CV_Folds =  5\nFeature_Selection =  True\nOpt_lvl =  3\nCold_start =  90.0\nEarly_stoping =  180.0\nMetric =  roc_auc_score\nDirection =  maximize\n##################################################\nDefault model OptScore = 0.7254\nOptimize: : 174it [10:22,  3.58s/it,  | Model: CatBoost | OptScore: 0.7853 | Best roc_auc_score: 0.8274 +- 0.042062]\n\n Predict from Models_1\n 17%|█▋        | 1/6 [00:11<00:55, 11.09s/it]\n Mean Score roc_auc_score on 20 Folds: 0.805 std: 0.044751\n 33%|███▎      | 2/6 [00:24<00:46, 11.74s/it]\n Mean Score roc_auc_score on 20 Folds: 0.8027 std: 0.040799\n 50%|█████     | 3/6 [01:08<01:03, 21.32s/it]\n Mean Score roc_auc_score on 20 Folds: 0.8056 std: 0.049165\n 67%|██████▋   | 4/6 [01:20<00:37, 18.76s/it]\n Mean Score roc_auc_score on 20 Folds: 0.8062 std: 0.044257\n 83%|████████▎ | 5/6 [01:33<00:16, 16.97s/it]\n Mean Score roc_auc_score on 20 Folds: 0.804 std: 0.04197\n100%|██████████| 6/6 [01:44<00:00, 17.48s/it]\n Mean Score roc_auc_score on 20 Folds: 0.8006 std: 0.047154\n\n Models_1 Mean roc_auc_score Score Train:  0.803\n\nOne iteration takes ~ 0.2 sec\n> Start optimization with the parameters:\nCV_Folds =  10\nScore_CV_Folds =  5\nFeature_Selection =  True\nOpt_lvl =  2\nCold_start =  25\nEarly_stoping =  100\nMetric =  roc_auc_score\nDirection =  maximize\n##################################################\nDefault model OptScore = 0.7004\nOptimize: : 50it [00:16,  3.01it/s,  | Model: LinearModel | OptScore: 0.7252 | Best roc_auc_score: 0.7763 +- 0.051122]\n\n Predict from Models_2\n 33%|███▎      | 1/3 [00:01<00:02,  1.07s/it]\n Mean Score roc_auc_score on 20 Folds: 0.7703 std: 0.041466\n 67%|██████▋   | 2/3 [00:02<00:01,  1.06s/it]\n Mean Score roc_auc_score on 20 Folds: 0.7703 std: 0.041678\n100%|██████████| 3/3 [00:03<00:00,  1.04s/it]\n Mean Score roc_auc_score on 20 Folds: 0.7699 std: 0.04133\n\n Models_2 Mean roc_auc_score Score Train:  0.7719\n\n Mean_Models roc_auc_score Score Train:  0.801\n\n\n Final Stack Model roc_auc_score Score Train:  0.8064\nCPU times: user 49min 52s, sys: 3min 31s, total: 53min 23s\nWall time: 12min 30s\n"
    }
   ],
   "source": [
    "%%time\n",
    "predict_test, predict_train = model.fit_predict(timeout=1000, verbose=2)"
   ]
  },
  {
   "cell_type": "code",
   "execution_count": 7,
   "metadata": {
    "ExecuteTime": {
     "end_time": "2020-05-07T01:11:28.827682Z",
     "start_time": "2020-05-07T01:11:28.808642Z"
    }
   },
   "outputs": [
    {
     "output_type": "execute_result",
     "data": {
      "text/plain": "array([0.38209832, 0.41377497, 0.6122313 , 0.24182635, 0.07519208])"
     },
     "metadata": {},
     "execution_count": 7
    }
   ],
   "source": [
    "predict_test[:5]"
   ]
  },
  {
   "cell_type": "code",
   "execution_count": 8,
   "metadata": {
    "tags": []
   },
   "outputs": [
    {
     "output_type": "stream",
     "name": "stdout",
     "text": "Test AUC:  0.8182\n"
    }
   ],
   "source": [
    "print('Test AUC: ', round(sklearn.metrics.roc_auc_score(y_test, predict_test),4))"
   ]
  },
  {
   "cell_type": "code",
   "execution_count": 8,
   "metadata": {
    "tags": []
   },
   "outputs": [
    {
     "output_type": "stream",
     "name": "stdout",
     "text": "Test AUC:  0.8191\n"
    }
   ],
   "source": [
    "print('Test AUC: ', round(sklearn.metrics.roc_auc_score(y_test, predict_test),4))"
   ]
  },
  {
   "cell_type": "code",
   "execution_count": 9,
   "metadata": {},
   "outputs": [
    {
     "output_type": "execute_result",
     "data": {
      "text/plain": "   score_opt  model_score  score_std   model_name  \\\n0     0.7853       0.8274   0.042062     CatBoost   \n1     0.7824       0.8246   0.042239     CatBoost   \n2     0.7822       0.8147   0.032549     CatBoost   \n3     0.7816       0.8155   0.033926     CatBoost   \n4     0.7792       0.8183   0.039136     CatBoost   \n5     0.7771       0.8215   0.044384     CatBoost   \n6     0.7252       0.7763   0.051122  LinearModel   \n7     0.7248       0.7763   0.051536  LinearModel   \n8     0.7247       0.7754   0.050709  LinearModel   \n\n                                         model_param  \\\n0  {'verbose': 0, 'early_stopping_rounds': 50, 't...   \n1  {'verbose': 0, 'early_stopping_rounds': 50, 't...   \n2  {'verbose': 0, 'early_stopping_rounds': 50, 't...   \n3  {'verbose': 0, 'early_stopping_rounds': 50, 't...   \n4  {'verbose': 0, 'early_stopping_rounds': 50, 't...   \n5  {'verbose': 0, 'early_stopping_rounds': 50, 't...   \n6  {'verbose': 0, 'fit_intercept': False, 'C': 93...   \n7  {'verbose': 0, 'fit_intercept': False, 'C': 87...   \n8  {'verbose': 0, 'fit_intercept': False, 'C': 93...   \n\n             wrapper_params  \\\n0  {'early_stopping': True}   \n1  {'early_stopping': True}   \n2  {'early_stopping': True}   \n3  {'early_stopping': True}   \n4  {'early_stopping': True}   \n5  {'early_stopping': True}   \n6                        {}   \n7                        {}   \n8                        {}   \n\n                                        cat_encoders  \\\n0  [OneHotEncoder, HelmertEncoder, HashingEncoder...   \n1  [OneHotEncoder, HelmertEncoder, HashingEncoder...   \n2  [OneHotEncoder, HelmertEncoder, HashingEncoder...   \n3  [OneHotEncoder, HelmertEncoder, HashingEncoder...   \n4  [OneHotEncoder, HelmertEncoder, HashingEncoder...   \n5  [OneHotEncoder, HelmertEncoder, HashingEncoder...   \n6  [OneHotEncoder, HelmertEncoder, HashingEncoder...   \n7  [OneHotEncoder, HelmertEncoder, HashingEncoder...   \n8  [OneHotEncoder, HelmertEncoder, HashingEncoder...   \n\n                                             columns  cv_folds  \n0  [OneHotEncoder_personal_status_1, OneHotEncode...        10  \n1  [OneHotEncoder_personal_status_1, OneHotEncode...        10  \n2  [OneHotEncoder_personal_status_1, OneHotEncode...        10  \n3  [OneHotEncoder_personal_status_1, OneHotEncode...        10  \n4  [OneHotEncoder_personal_status_1, OneHotEncode...        10  \n5  [OneHotEncoder_personal_status_1, OneHotEncode...        10  \n6  [duration, credit_amount, age, OneHotEncoder_p...        10  \n7  [duration, credit_amount, age, OneHotEncoder_p...        10  \n8  [duration, credit_amount, age, OneHotEncoder_p...        10  ",
      "text/html": "<div>\n<style scoped>\n    .dataframe tbody tr th:only-of-type {\n        vertical-align: middle;\n    }\n\n    .dataframe tbody tr th {\n        vertical-align: top;\n    }\n\n    .dataframe thead th {\n        text-align: right;\n    }\n</style>\n<table border=\"1\" class=\"dataframe\">\n  <thead>\n    <tr style=\"text-align: right;\">\n      <th></th>\n      <th>score_opt</th>\n      <th>model_score</th>\n      <th>score_std</th>\n      <th>model_name</th>\n      <th>model_param</th>\n      <th>wrapper_params</th>\n      <th>cat_encoders</th>\n      <th>columns</th>\n      <th>cv_folds</th>\n    </tr>\n  </thead>\n  <tbody>\n    <tr>\n      <th>0</th>\n      <td>0.7853</td>\n      <td>0.8274</td>\n      <td>0.042062</td>\n      <td>CatBoost</td>\n      <td>{'verbose': 0, 'early_stopping_rounds': 50, 't...</td>\n      <td>{'early_stopping': True}</td>\n      <td>[OneHotEncoder, HelmertEncoder, HashingEncoder...</td>\n      <td>[OneHotEncoder_personal_status_1, OneHotEncode...</td>\n      <td>10</td>\n    </tr>\n    <tr>\n      <th>1</th>\n      <td>0.7824</td>\n      <td>0.8246</td>\n      <td>0.042239</td>\n      <td>CatBoost</td>\n      <td>{'verbose': 0, 'early_stopping_rounds': 50, 't...</td>\n      <td>{'early_stopping': True}</td>\n      <td>[OneHotEncoder, HelmertEncoder, HashingEncoder...</td>\n      <td>[OneHotEncoder_personal_status_1, OneHotEncode...</td>\n      <td>10</td>\n    </tr>\n    <tr>\n      <th>2</th>\n      <td>0.7822</td>\n      <td>0.8147</td>\n      <td>0.032549</td>\n      <td>CatBoost</td>\n      <td>{'verbose': 0, 'early_stopping_rounds': 50, 't...</td>\n      <td>{'early_stopping': True}</td>\n      <td>[OneHotEncoder, HelmertEncoder, HashingEncoder...</td>\n      <td>[OneHotEncoder_personal_status_1, OneHotEncode...</td>\n      <td>10</td>\n    </tr>\n    <tr>\n      <th>3</th>\n      <td>0.7816</td>\n      <td>0.8155</td>\n      <td>0.033926</td>\n      <td>CatBoost</td>\n      <td>{'verbose': 0, 'early_stopping_rounds': 50, 't...</td>\n      <td>{'early_stopping': True}</td>\n      <td>[OneHotEncoder, HelmertEncoder, HashingEncoder...</td>\n      <td>[OneHotEncoder_personal_status_1, OneHotEncode...</td>\n      <td>10</td>\n    </tr>\n    <tr>\n      <th>4</th>\n      <td>0.7792</td>\n      <td>0.8183</td>\n      <td>0.039136</td>\n      <td>CatBoost</td>\n      <td>{'verbose': 0, 'early_stopping_rounds': 50, 't...</td>\n      <td>{'early_stopping': True}</td>\n      <td>[OneHotEncoder, HelmertEncoder, HashingEncoder...</td>\n      <td>[OneHotEncoder_personal_status_1, OneHotEncode...</td>\n      <td>10</td>\n    </tr>\n    <tr>\n      <th>5</th>\n      <td>0.7771</td>\n      <td>0.8215</td>\n      <td>0.044384</td>\n      <td>CatBoost</td>\n      <td>{'verbose': 0, 'early_stopping_rounds': 50, 't...</td>\n      <td>{'early_stopping': True}</td>\n      <td>[OneHotEncoder, HelmertEncoder, HashingEncoder...</td>\n      <td>[OneHotEncoder_personal_status_1, OneHotEncode...</td>\n      <td>10</td>\n    </tr>\n    <tr>\n      <th>6</th>\n      <td>0.7252</td>\n      <td>0.7763</td>\n      <td>0.051122</td>\n      <td>LinearModel</td>\n      <td>{'verbose': 0, 'fit_intercept': False, 'C': 93...</td>\n      <td>{}</td>\n      <td>[OneHotEncoder, HelmertEncoder, HashingEncoder...</td>\n      <td>[duration, credit_amount, age, OneHotEncoder_p...</td>\n      <td>10</td>\n    </tr>\n    <tr>\n      <th>7</th>\n      <td>0.7248</td>\n      <td>0.7763</td>\n      <td>0.051536</td>\n      <td>LinearModel</td>\n      <td>{'verbose': 0, 'fit_intercept': False, 'C': 87...</td>\n      <td>{}</td>\n      <td>[OneHotEncoder, HelmertEncoder, HashingEncoder...</td>\n      <td>[duration, credit_amount, age, OneHotEncoder_p...</td>\n      <td>10</td>\n    </tr>\n    <tr>\n      <th>8</th>\n      <td>0.7247</td>\n      <td>0.7754</td>\n      <td>0.050709</td>\n      <td>LinearModel</td>\n      <td>{'verbose': 0, 'fit_intercept': False, 'C': 93...</td>\n      <td>{}</td>\n      <td>[OneHotEncoder, HelmertEncoder, HashingEncoder...</td>\n      <td>[duration, credit_amount, age, OneHotEncoder_p...</td>\n      <td>10</td>\n    </tr>\n  </tbody>\n</table>\n</div>"
     },
     "metadata": {},
     "execution_count": 9
    }
   ],
   "source": [
    "model.stack_models_cfgs"
   ]
  },
  {
   "cell_type": "code",
   "execution_count": null,
   "metadata": {},
   "outputs": [],
   "source": []
  },
  {
   "cell_type": "code",
   "execution_count": 18,
   "metadata": {},
   "outputs": [
    {
     "output_type": "execute_result",
     "data": {
      "text/plain": "            0         1         2         3         4         5         6  \\\n0    0.281334  0.281208  0.236160  0.312978  0.199849  0.323208  0.518981   \n1    0.267068  0.258889  0.168407  0.265681  0.194058  0.183128  0.420461   \n2    0.498742  0.520057  0.503798  0.488448  0.594333  0.534053  0.892348   \n3    0.288990  0.090608  0.264710  0.217713  0.208814  0.344272  0.129078   \n4    0.380299  0.466275  0.453555  0.416142  0.364128  0.460757  0.677056   \n..        ...       ...       ...       ...       ...       ...       ...   \n745  0.241503  0.245735  0.319613  0.220868  0.248250  0.266400  0.763363   \n746  0.164344  0.191915  0.180521  0.195375  0.158664  0.230133  0.195958   \n747  0.205310  0.239537  0.088954  0.248571  0.124627  0.116283  0.199748   \n748  0.351683  0.338172  0.482734  0.461362  0.262888  0.395679  0.265005   \n749  0.284350  0.179884  0.337790  0.165929  0.313442  0.232406  0.208125   \n\n            7         8  \n0    0.542966  0.481556  \n1    0.460543  0.440335  \n2    0.866062  0.896360  \n3    0.134960  0.148145  \n4    0.647713  0.669464  \n..        ...       ...  \n745  0.798271  0.776417  \n746  0.185722  0.164875  \n747  0.194761  0.164882  \n748  0.292905  0.285318  \n749  0.229439  0.210985  \n\n[750 rows x 9 columns]",
      "text/html": "<div>\n<style scoped>\n    .dataframe tbody tr th:only-of-type {\n        vertical-align: middle;\n    }\n\n    .dataframe tbody tr th {\n        vertical-align: top;\n    }\n\n    .dataframe thead th {\n        text-align: right;\n    }\n</style>\n<table border=\"1\" class=\"dataframe\">\n  <thead>\n    <tr style=\"text-align: right;\">\n      <th></th>\n      <th>0</th>\n      <th>1</th>\n      <th>2</th>\n      <th>3</th>\n      <th>4</th>\n      <th>5</th>\n      <th>6</th>\n      <th>7</th>\n      <th>8</th>\n    </tr>\n  </thead>\n  <tbody>\n    <tr>\n      <th>0</th>\n      <td>0.281334</td>\n      <td>0.281208</td>\n      <td>0.236160</td>\n      <td>0.312978</td>\n      <td>0.199849</td>\n      <td>0.323208</td>\n      <td>0.518981</td>\n      <td>0.542966</td>\n      <td>0.481556</td>\n    </tr>\n    <tr>\n      <th>1</th>\n      <td>0.267068</td>\n      <td>0.258889</td>\n      <td>0.168407</td>\n      <td>0.265681</td>\n      <td>0.194058</td>\n      <td>0.183128</td>\n      <td>0.420461</td>\n      <td>0.460543</td>\n      <td>0.440335</td>\n    </tr>\n    <tr>\n      <th>2</th>\n      <td>0.498742</td>\n      <td>0.520057</td>\n      <td>0.503798</td>\n      <td>0.488448</td>\n      <td>0.594333</td>\n      <td>0.534053</td>\n      <td>0.892348</td>\n      <td>0.866062</td>\n      <td>0.896360</td>\n    </tr>\n    <tr>\n      <th>3</th>\n      <td>0.288990</td>\n      <td>0.090608</td>\n      <td>0.264710</td>\n      <td>0.217713</td>\n      <td>0.208814</td>\n      <td>0.344272</td>\n      <td>0.129078</td>\n      <td>0.134960</td>\n      <td>0.148145</td>\n    </tr>\n    <tr>\n      <th>4</th>\n      <td>0.380299</td>\n      <td>0.466275</td>\n      <td>0.453555</td>\n      <td>0.416142</td>\n      <td>0.364128</td>\n      <td>0.460757</td>\n      <td>0.677056</td>\n      <td>0.647713</td>\n      <td>0.669464</td>\n    </tr>\n    <tr>\n      <th>...</th>\n      <td>...</td>\n      <td>...</td>\n      <td>...</td>\n      <td>...</td>\n      <td>...</td>\n      <td>...</td>\n      <td>...</td>\n      <td>...</td>\n      <td>...</td>\n    </tr>\n    <tr>\n      <th>745</th>\n      <td>0.241503</td>\n      <td>0.245735</td>\n      <td>0.319613</td>\n      <td>0.220868</td>\n      <td>0.248250</td>\n      <td>0.266400</td>\n      <td>0.763363</td>\n      <td>0.798271</td>\n      <td>0.776417</td>\n    </tr>\n    <tr>\n      <th>746</th>\n      <td>0.164344</td>\n      <td>0.191915</td>\n      <td>0.180521</td>\n      <td>0.195375</td>\n      <td>0.158664</td>\n      <td>0.230133</td>\n      <td>0.195958</td>\n      <td>0.185722</td>\n      <td>0.164875</td>\n    </tr>\n    <tr>\n      <th>747</th>\n      <td>0.205310</td>\n      <td>0.239537</td>\n      <td>0.088954</td>\n      <td>0.248571</td>\n      <td>0.124627</td>\n      <td>0.116283</td>\n      <td>0.199748</td>\n      <td>0.194761</td>\n      <td>0.164882</td>\n    </tr>\n    <tr>\n      <th>748</th>\n      <td>0.351683</td>\n      <td>0.338172</td>\n      <td>0.482734</td>\n      <td>0.461362</td>\n      <td>0.262888</td>\n      <td>0.395679</td>\n      <td>0.265005</td>\n      <td>0.292905</td>\n      <td>0.285318</td>\n    </tr>\n    <tr>\n      <th>749</th>\n      <td>0.284350</td>\n      <td>0.179884</td>\n      <td>0.337790</td>\n      <td>0.165929</td>\n      <td>0.313442</td>\n      <td>0.232406</td>\n      <td>0.208125</td>\n      <td>0.229439</td>\n      <td>0.210985</td>\n    </tr>\n  </tbody>\n</table>\n<p>750 rows × 9 columns</p>\n</div>"
     },
     "metadata": {},
     "execution_count": 18
    }
   ],
   "source": [
    "import pandas as pd\n",
    "import numpy as np\n",
    "pd.DataFrame([*model.stack_models_predicts['predict_train']]).T"
   ]
  },
  {
   "cell_type": "code",
   "execution_count": 19,
   "metadata": {},
   "outputs": [],
   "source": [
    "X_train_predicts = pd.DataFrame([*model.stack_models_predicts['predict_train']]).T\n",
    "X_test_predicts = pd.DataFrame([*model.stack_models_predicts['predict_test']]).T"
   ]
  },
  {
   "cell_type": "code",
   "execution_count": 20,
   "metadata": {},
   "outputs": [],
   "source": [
    "model_param = {\n",
    "                'verbose':1,\n",
    "                'random_state': 42,\n",
    "                'max_iter': 1000,\n",
    "                }"
   ]
  },
  {
   "cell_type": "code",
   "execution_count": 21,
   "metadata": {},
   "outputs": [],
   "source": [
    "from sklearn import ensemble, neural_network, linear_model\n",
    "\n",
    "model_2 = neural_network.MLPClassifier()"
   ]
  },
  {
   "cell_type": "code",
   "execution_count": 25,
   "metadata": {},
   "outputs": [],
   "source": [
    "#LogisticRegression\n",
    "model_2 = linear_model.LogisticRegression()"
   ]
  },
  {
   "cell_type": "code",
   "execution_count": 26,
   "metadata": {
    "tags": []
   },
   "outputs": [
    {
     "output_type": "execute_result",
     "data": {
      "text/plain": "LogisticRegression()"
     },
     "metadata": {},
     "execution_count": 26
    }
   ],
   "source": [
    "model_2.fit(X_train_predicts, y_train,)"
   ]
  },
  {
   "cell_type": "code",
   "execution_count": 27,
   "metadata": {},
   "outputs": [],
   "source": [
    "test_stack_predict = model_2.predict_proba(X_test_predicts)[:, 1]"
   ]
  },
  {
   "cell_type": "code",
   "execution_count": 28,
   "metadata": {
    "tags": []
   },
   "outputs": [
    {
     "output_type": "stream",
     "name": "stdout",
     "text": "Test AUC:  0.8117\nTest AUC:  0.8127\n"
    }
   ],
   "source": [
    "print('Test AUC: ', round(sklearn.metrics.roc_auc_score(y_test, predict_test),4))\n",
    "print('Test AUC: ', round(sklearn.metrics.roc_auc_score(y_test, test_stack_predict),4))"
   ]
  },
  {
   "cell_type": "code",
   "execution_count": null,
   "metadata": {},
   "outputs": [],
   "source": []
  }
 ],
 "metadata": {
  "kernelspec": {
   "display_name": "Python 3.8.3 64-bit ('ds': conda)",
   "language": "python",
   "name": "python38364bitdscondadc8f49c0681c4f8d9aaeec09a1cf65fe"
  },
  "language_info": {
   "codemirror_mode": {
    "name": "ipython",
    "version": 3
   },
   "file_extension": ".py",
   "mimetype": "text/x-python",
   "name": "python",
   "nbconvert_exporter": "python",
   "pygments_lexer": "ipython3",
   "version": "3.8.3-final"
  },
  "toc": {
   "base_numbering": 1,
   "nav_menu": {},
   "number_sections": false,
   "sideBar": true,
   "skip_h1_title": false,
   "title_cell": "Table of Contents",
   "title_sidebar": "Contents",
   "toc_cell": false,
   "toc_position": {
    "height": "calc(100% - 180px)",
    "left": "10px",
    "top": "150px",
    "width": "165px"
   },
   "toc_section_display": true,
   "toc_window_display": true
  }
 },
 "nbformat": 4,
 "nbformat_minor": 4
}