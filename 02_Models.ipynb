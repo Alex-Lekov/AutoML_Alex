{
  "cells": [
    {
      "cell_type": "code",
      "metadata": {
        "ExecuteTime": {
          "end_time": "2020-05-07T08:40:27.950196Z",
          "start_time": "2020-05-07T08:40:27.947264Z"
        },
        "id": "JWu_N5HFbV4v",
        "colab_type": "code",
        "colab": {
          "base_uri": "https://localhost:8080/",
          "height": 972
        },
        "outputId": "1a501a70-5ec4-49cf-d38e-cfde0567f306"
      },
      "source": [
        "# If you run this notebook on Google Colaboratory, uncomment the below to install automl_alex.\n",
        "#!pip install automl-alex"
      ],
      "execution_count": 1,
      "outputs": []
    },
    {
      "cell_type": "code",
      "metadata": {
        "ExecuteTime": {
          "end_time": "2020-05-07T08:40:30.084237Z",
          "start_time": "2020-05-07T08:40:28.530481Z"
        },
        "id": "im_z95sdbV46",
        "colab_type": "code",
        "colab": {
          "base_uri": "https://localhost:8080/",
          "height": 34
        },
        "outputId": "d0ed0122-7cfa-4d56-85f3-863b4e92973c",
        "tags": []
      },
      "source": [
        "import sklearn\n",
        "import pandas as pd\n",
        "from sklearn.model_selection import train_test_split\n",
        "\n",
        "import automl_alex\n",
        "print(automl_alex.__version__)"
      ],
      "execution_count": 1,
      "outputs": [
        {
          "output_type": "stream",
          "name": "stdout",
          "text": "0.07.01\n"
        }
      ]
    },
    {
      "cell_type": "code",
      "metadata": {
        "ExecuteTime": {
          "end_time": "2020-05-07T08:40:30.989504Z",
          "start_time": "2020-05-07T08:40:30.985837Z"
        },
        "id": "MLtO5wRAbV5A",
        "colab_type": "code",
        "colab": {}
      },
      "source": [
        "RANDOM_SEED = 42"
      ],
      "execution_count": 2,
      "outputs": []
    },
    {
      "cell_type": "markdown",
      "metadata": {
        "id": "4ef2pWXrbV5G",
        "colab_type": "text"
      },
      "source": [
        "# Regression"
      ]
    },
    {
      "cell_type": "markdown",
      "metadata": {
        "id": "rIom-hsebV5H",
        "colab_type": "text"
      },
      "source": [
        "## Data"
      ]
    },
    {
      "cell_type": "code",
      "metadata": {
        "ExecuteTime": {
          "end_time": "2020-05-07T08:40:43.537111Z",
          "start_time": "2020-05-07T08:40:43.487884Z"
        },
        "id": "N2J9L7o5bV5H",
        "colab_type": "code",
        "colab": {
          "base_uri": "https://localhost:8080/",
          "height": 34
        },
        "outputId": "d3e84afd-71dc-475d-c393-47d4e00fc295"
      },
      "source": [
        "from sklearn.datasets import load_boston\n",
        "data = load_boston()\n",
        "X_train, X_test, y_train, y_test = train_test_split(pd.DataFrame(data.data), \n",
        "                                                    pd.DataFrame(data.target), \n",
        "                                                    test_size=0.15, \n",
        "                                                    random_state=RANDOM_SEED,)\n",
        "\n",
        "X_train.shape, X_test.shape"
      ],
      "execution_count": 3,
      "outputs": [
        {
          "output_type": "execute_result",
          "data": {
            "text/plain": "((430, 13), (76, 13))"
          },
          "metadata": {},
          "execution_count": 3
        }
      ]
    },
    {
      "cell_type": "markdown",
      "metadata": {
        "id": "dp1LnCd8bV5L",
        "colab_type": "text"
      },
      "source": [
        "## Model"
      ]
    },
    {
      "cell_type": "code",
      "metadata": {
        "ExecuteTime": {
          "end_time": "2020-05-07T08:40:44.210481Z",
          "start_time": "2020-05-07T08:40:44.203520Z"
        },
        "id": "_bPRxyuwbV5L",
        "colab_type": "code",
        "colab": {
          "base_uri": "https://localhost:8080/",
          "height": 170
        },
        "outputId": "4408921c-e14a-42cc-de56-8b9bad8eb6d3"
      },
      "source": [
        "# Libraries are currently available:\n",
        "automl_alex.models.all_models"
      ],
      "execution_count": 4,
      "outputs": [
        {
          "output_type": "execute_result",
          "data": {
            "text/plain": "{'LightGBM': automl_alex.models.model_lightgbm.LightGBM,\n 'KNeighbors': automl_alex.models.sklearn_models.KNeighbors,\n 'LinearSVM': automl_alex.models.sklearn_models.LinearSVM,\n 'LinearModel': automl_alex.models.sklearn_models.LinearModel,\n 'SGD': automl_alex.models.sklearn_models.SGD,\n 'RandomForest': automl_alex.models.sklearn_models.RandomForest,\n 'ExtraTrees': automl_alex.models.sklearn_models.ExtraTrees,\n 'XGBoost': automl_alex.models.model_xgboost.XGBoost,\n 'CatBoost': automl_alex.models.model_catboost.CatBoost,\n 'MLP': automl_alex.models.sklearn_models.MLP}"
          },
          "metadata": {},
          "execution_count": 4
        }
      ]
    },
    {
      "cell_type": "markdown",
      "metadata": {
        "id": "gZt0Owq1bV5O",
        "colab_type": "text"
      },
      "source": [
        "You can add a library if you wish."
      ]
    },
    {
      "cell_type": "code",
      "metadata": {
        "ExecuteTime": {
          "end_time": "2020-05-07T08:40:45.348064Z",
          "start_time": "2020-05-07T08:40:45.287480Z"
        },
        "id": "cH0AUcRAbV5P",
        "colab_type": "code",
        "colab": {}
      },
      "source": [
        "from automl_alex import LightGBM, CatBoostRegressor\n",
        "\n",
        "# We will use LightGBM for this dataset\n",
        "model = LightGBM(X_train, y_train, X_test, type_of_estimator='regression', random_state=RANDOM_SEED)\n",
        "\n",
        "# or Simply\n",
        "model = CatBoostRegressor(X_train, y_train, X_test, random_state=RANDOM_SEED)"
      ],
      "execution_count": 5,
      "outputs": []
    },
    {
      "cell_type": "code",
      "execution_count": 6,
      "metadata": {},
      "outputs": [
        {
          "output_type": "execute_result",
          "data": {
            "text/plain": "{'early_stopping': True}"
          },
          "metadata": {},
          "execution_count": 6
        }
      ],
      "source": [
        "model.wrapper_params"
      ]
    },
    {
      "cell_type": "code",
      "execution_count": 7,
      "metadata": {},
      "outputs": [
        {
          "output_type": "execute_result",
          "data": {
            "text/plain": "{'verbose': 0,\n 'early_stopping_rounds': 50,\n 'task_type': 'CPU',\n 'random_seed': 42,\n 'iterations': 1000}"
          },
          "metadata": {},
          "execution_count": 7
        }
      ],
      "source": [
        "model.model_param"
      ]
    },
    {
      "cell_type": "code",
      "execution_count": 8,
      "metadata": {},
      "outputs": [],
      "source": [
        "model = model._fit()"
      ]
    },
    {
      "cell_type": "code",
      "execution_count": 9,
      "metadata": {},
      "outputs": [
        {
          "output_type": "execute_result",
          "data": {
            "text/plain": "array([24.93647366, 31.07492864, 15.23635392, 24.16413717, 16.9111131 ,\n       20.70444191, 18.90445436, 14.54902039, 20.74593467, 20.59717154,\n       21.75533924, 18.08163504, 10.09960877, 20.61409984, 18.77975467,\n       24.85689132, 20.07541487, 10.10473805, 45.12725466, 14.47764092,\n       24.82137854, 25.24265561, 13.28440254, 21.59306551, 15.19666035,\n       15.27037869, 21.67092757, 12.52319701, 20.40520982, 21.05131152,\n       20.70351906, 23.12623475, 21.99801717, 23.17434889, 14.65203814,\n       16.14784089, 34.77450267, 18.66106837, 22.3353775 , 24.13460626,\n       18.04473868, 28.57194059, 47.37484051, 19.10084024, 23.25603619,\n       14.16769218, 14.8006845 , 24.18507134, 18.6660652 , 24.88869278,\n       22.39964663, 36.02505083, 18.07801411, 24.58557029, 44.53912244,\n       22.00096404, 14.35433856, 31.92487618, 22.28783749, 18.78842585,\n       24.04292565, 35.97338989, 31.34036399, 17.9489249 , 23.25239842,\n       17.40248437, 13.30722828, 23.43449366, 28.32225274, 14.74834868,\n       20.90325921, 25.56275526, 10.67157186, 20.40593193, 21.46504413,\n        6.31463473])"
          },
          "metadata": {},
          "execution_count": 9
        }
      ],
      "source": [
        "predicts = model._predict()\n",
        "predicts"
      ]
    },
    {
      "cell_type": "code",
      "execution_count": 10,
      "metadata": {},
      "outputs": [
        {
          "output_type": "execute_result",
          "data": {
            "text/plain": "4.324246579006113"
          },
          "metadata": {},
          "execution_count": 10
        }
      ],
      "source": [
        "sklearn.metrics.mean_squared_error(y_test, predicts)"
      ]
    },
    {
      "cell_type": "code",
      "execution_count": 11,
      "metadata": {
        "tags": []
      },
      "outputs": [
        {
          "output_type": "stream",
          "name": "stdout",
          "text": "\n Mean Score mean_squared_error on 5 Folds: 8.3869 std: 1.496471\n"
        },
        {
          "output_type": "execute_result",
          "data": {
            "text/plain": "(8.3869, 1.496471)"
          },
          "metadata": {},
          "execution_count": 11
        }
      ],
      "source": [
        "model.cross_val(print_metric=True)"
      ]
    },
    {
      "cell_type": "code",
      "execution_count": 12,
      "metadata": {
        "tags": []
      },
      "outputs": [
        {
          "output_type": "stream",
          "name": "stdout",
          "text": "\n Mean Score mean_squared_error on 20 Folds: 9.6198 std: 3.776433\n"
        }
      ],
      "source": [
        "stacking_y_pred_test, stacking_y_pred_train = model.cross_val(print_metric=True, predict=True)"
      ]
    },
    {
      "cell_type": "code",
      "execution_count": 13,
      "metadata": {},
      "outputs": [
        {
          "output_type": "execute_result",
          "data": {
            "text/plain": "4.414897624862233"
          },
          "metadata": {},
          "execution_count": 13
        }
      ],
      "source": [
        "sklearn.metrics.mean_squared_error(y_test, stacking_y_pred_test)"
      ]
    },
    {
      "cell_type": "code",
      "execution_count": 14,
      "metadata": {},
      "outputs": [
        {
          "output_type": "execute_result",
          "data": {
            "text/plain": "array([24.34304384, 31.27133893, 15.40453017, 23.86143058, 16.32065068,\n       20.85603207, 18.70590941, 14.75224723, 20.37698844, 20.23702196,\n       21.1318974 , 18.94690956,  9.53480363, 20.72580235, 19.45480763,\n       24.27831014, 19.63638901, 10.31085506, 45.11455569, 14.16039115,\n       24.61382832, 25.14451827, 13.76434332, 21.35399044, 15.24304502,\n       15.67902104, 21.94077858, 13.04869625, 20.38496498, 20.48867427,\n       20.69171465, 23.40734452, 23.71201168, 22.44160209, 14.94785578,\n       16.31285685, 35.09887962, 19.50803766, 22.13936235, 23.26788413,\n       18.02027559, 28.9655264 , 46.20757695, 19.44301391, 23.0949389 ,\n       14.02990711, 15.2484873 , 24.00391105, 18.53110928, 25.92757418,\n       21.35396483, 36.0160593 , 17.56954819, 24.76089465, 44.05016385,\n       22.14881171, 14.63364518, 31.60020768, 22.70091228, 18.64807672,\n       24.04668798, 35.28761933, 30.99816562, 18.86561889, 23.93683105,\n       17.68443388, 13.78997936, 23.69381253, 29.06029767, 14.18049496,\n       20.63785186, 25.24901435, 10.52645813, 21.10810522, 22.02247874,\n        7.21239794])"
          },
          "metadata": {},
          "execution_count": 14
        }
      ],
      "source": [
        "stacking_y_pred_test"
      ]
    },
    {
      "cell_type": "code",
      "execution_count": 15,
      "metadata": {
        "tags": []
      },
      "outputs": [
        {
          "output_type": "stream",
          "name": "stdout",
          "text": "\n Mean Score mean_squared_error on 5 Folds: 8.3869 std: 1.496471\n"
        },
        {
          "output_type": "execute_result",
          "data": {
            "text/plain": "(8.3869, 1.496471)"
          },
          "metadata": {},
          "execution_count": 15
        }
      ],
      "source": [
        "model.cross_val_score(print_metric=True)"
      ]
    },
    {
      "cell_type": "code",
      "execution_count": 16,
      "metadata": {
        "tags": []
      },
      "outputs": [
        {
          "output_type": "stream",
          "name": "stdout",
          "text": "\n Mean Score mean_squared_error on 14 Folds: 9.8662 std: 2.636444\n"
        }
      ],
      "source": [
        "stacking_y_pred_test, stacking_y_pred_train = model.cross_val_predict(print_metric=True, folds=7)"
      ]
    },
    {
      "cell_type": "code",
      "execution_count": 17,
      "metadata": {},
      "outputs": [
        {
          "output_type": "execute_result",
          "data": {
            "text/plain": "4.273765186382562"
          },
          "metadata": {},
          "execution_count": 17
        }
      ],
      "source": [
        "sklearn.metrics.mean_squared_error(y_test, stacking_y_pred_test)"
      ]
    },
    {
      "cell_type": "code",
      "execution_count": null,
      "metadata": {},
      "outputs": [],
      "source": []
    },
    {
      "cell_type": "code",
      "metadata": {
        "ExecuteTime": {
          "end_time": "2020-05-07T08:40:48.905014Z",
          "start_time": "2020-05-07T08:40:48.148436Z"
        },
        "id": "A5PK92UMbV5S",
        "colab_type": "code",
        "colab": {
          "base_uri": "https://localhost:8080/",
          "height": 34
        },
        "outputId": "9265396c-8c86-48fb-c7fc-00f2e8d5e6dc",
        "tags": []
      },
      "source": [
        "# fit with default model parameters\n",
        "config = model.fit()\n",
        "config"
      ],
      "execution_count": 18,
      "outputs": [
        {
          "output_type": "stream",
          "name": "stdout",
          "text": "\n Mean Score mean_squared_error on 5 Folds: 8.3869 std: 1.496471\n"
        },
        {
          "output_type": "execute_result",
          "data": {
            "text/plain": "   score_opt  model_score  score_std         model_name  \\\n0   9.883371       8.3869   1.496471  CatBoostRegressor   \n\n                                         model_param  \\\n0  {'verbose': 0, 'early_stopping_rounds': 50, 't...   \n\n             wrapper_params     cat_encoder  cv_folds  \n0  {'early_stopping': True}  HelmertEncoder        10  ",
            "text/html": "<div>\n<style scoped>\n    .dataframe tbody tr th:only-of-type {\n        vertical-align: middle;\n    }\n\n    .dataframe tbody tr th {\n        vertical-align: top;\n    }\n\n    .dataframe thead th {\n        text-align: right;\n    }\n</style>\n<table border=\"1\" class=\"dataframe\">\n  <thead>\n    <tr style=\"text-align: right;\">\n      <th></th>\n      <th>score_opt</th>\n      <th>model_score</th>\n      <th>score_std</th>\n      <th>model_name</th>\n      <th>model_param</th>\n      <th>wrapper_params</th>\n      <th>cat_encoder</th>\n      <th>cv_folds</th>\n    </tr>\n  </thead>\n  <tbody>\n    <tr>\n      <th>0</th>\n      <td>9.883371</td>\n      <td>8.3869</td>\n      <td>1.496471</td>\n      <td>CatBoostRegressor</td>\n      <td>{'verbose': 0, 'early_stopping_rounds': 50, 't...</td>\n      <td>{'early_stopping': True}</td>\n      <td>HelmertEncoder</td>\n      <td>10</td>\n    </tr>\n  </tbody>\n</table>\n</div>"
          },
          "metadata": {},
          "execution_count": 18
        }
      ]
    },
    {
      "cell_type": "code",
      "execution_count": 19,
      "metadata": {
        "tags": []
      },
      "outputs": [
        {
          "output_type": "stream",
          "name": "stderr",
          "text": "100%|██████████| 1/1 [00:37<00:00, 37.27s/it]\n Mean Score mean_squared_error on 30 Folds: 10.127 std: 5.67931\n\n"
        },
        {
          "output_type": "execute_result",
          "data": {
            "text/plain": "            model_name                                       predict_test  \\\n0  0_CatBoostRegressor  [24.323433154124313, 31.249459719216237, 15.43...   \n\n                                       predict_train  \n0  [20.061861516175018, 44.209417883521155, 11.47...  ",
            "text/html": "<div>\n<style scoped>\n    .dataframe tbody tr th:only-of-type {\n        vertical-align: middle;\n    }\n\n    .dataframe tbody tr th {\n        vertical-align: top;\n    }\n\n    .dataframe thead th {\n        text-align: right;\n    }\n</style>\n<table border=\"1\" class=\"dataframe\">\n  <thead>\n    <tr style=\"text-align: right;\">\n      <th></th>\n      <th>model_name</th>\n      <th>predict_test</th>\n      <th>predict_train</th>\n    </tr>\n  </thead>\n  <tbody>\n    <tr>\n      <th>0</th>\n      <td>0_CatBoostRegressor</td>\n      <td>[24.323433154124313, 31.249459719216237, 15.43...</td>\n      <td>[20.061861516175018, 44.209417883521155, 11.47...</td>\n    </tr>\n  </tbody>\n</table>\n</div>"
          },
          "metadata": {},
          "execution_count": 19
        }
      ],
      "source": [
        "predicts = model.predict(models_cfgs=config)\n",
        "predicts"
      ]
    },
    {
      "cell_type": "code",
      "metadata": {
        "ExecuteTime": {
          "end_time": "2020-05-07T08:40:48.918246Z",
          "start_time": "2020-05-07T08:40:48.907770Z"
        },
        "id": "8tMAyj73bV5V",
        "colab_type": "code",
        "colab": {
          "base_uri": "https://localhost:8080/",
          "height": 34
        },
        "outputId": "445f70e7-2a71-486f-dc73-4fde577d5d25",
        "tags": []
      },
      "source": [
        "print('Test MSE: ', sklearn.metrics.mean_squared_error(y_test, predicts['predict_test'][0]))"
      ],
      "execution_count": 20,
      "outputs": [
        {
          "output_type": "stream",
          "name": "stdout",
          "text": "Test MSE:  4.3894918262644635\n"
        }
      ]
    },
    {
      "cell_type": "code",
      "execution_count": 21,
      "metadata": {
        "tags": []
      },
      "outputs": [
        {
          "output_type": "stream",
          "name": "stderr",
          "text": "100%|██████████| 1/1 [00:53<00:00, 53.65s/it]\n Mean Score mean_squared_error on 45 Folds: 9.3115 std: 5.413529\nTest MSE:  4.4419140362560245\n\n"
        }
      ],
      "source": [
        "# the predicate function has some interesting parameters\n",
        "predicts = model.predict(cv_folds=15, n_repeats=3)\n",
        "print('Test MSE: ', sklearn.metrics.mean_squared_error(y_test, predicts['predict_test'][0]))"
      ]
    },
    {
      "cell_type": "markdown",
      "metadata": {
        "id": "GLUexSl2bV5Z",
        "colab_type": "text"
      },
      "source": [
        "if we can optimize the model parameters the result can be improved"
      ]
    },
    {
      "cell_type": "markdown",
      "metadata": {
        "id": "AijWHeRMbV5a",
        "colab_type": "text"
      },
      "source": [
        "### Optimizing Parameters\n",
        "In this library, I tried to simplify the process of optimizing and iterating parameters as much as possible. You just specify how much time you are willing to spend on optimization, and the library will select the rules for cross-validation, optimization depth, and other optimization parameters based on this time. The more time you give it, the better it will be able to select parameters."
      ]
    },
    {
      "cell_type": "markdown",
      "metadata": {
        "id": "SKjOE6NybV5a",
        "colab_type": "text"
      },
      "source": [
        "[RUS]\n",
        "В этой библиотеке я постарался максимально упростить процесс оптимизации и перебора параметров. Вы просто указываете сколько вы готовы потратить времени на оптимизацию, а библиотека сама подберет правила кроссвалидации, глубины оптимизации и прочии параметры оптимизации исходя из этого времени. Чем больше времени вы ей дадите, тем более качественней она сможет подобрать параметры."
      ]
    },
    {
      "cell_type": "code",
      "execution_count": 22,
      "metadata": {
        "tags": []
      },
      "outputs": [
        {
          "output_type": "stream",
          "name": "stdout",
          "text": "\n Mean Score mean_squared_error on 1 Folds: 8.4839 std: 0\n"
        },
        {
          "output_type": "execute_result",
          "data": {
            "text/plain": "(8.4839, 0)"
          },
          "metadata": {},
          "execution_count": 22
        }
      ],
      "source": [
        "model.cross_val_score(print_metric=True, score_folds=1, n_repeats=1)"
      ]
    },
    {
      "cell_type": "code",
      "execution_count": 23,
      "metadata": {},
      "outputs": [
        {
          "output_type": "execute_result",
          "data": {
            "text/plain": "True"
          },
          "metadata": {},
          "execution_count": 23
        }
      ],
      "source": [
        "model._combined_score_opt"
      ]
    },
    {
      "cell_type": "code",
      "metadata": {
        "ExecuteTime": {
          "end_time": "2020-05-07T06:07:42.156917Z",
          "start_time": "2020-05-07T05:59:20.211976Z"
        },
        "id": "A12prppBbV5b",
        "colab_type": "code",
        "colab": {
          "base_uri": "https://localhost:8080/",
          "height": 187
        },
        "outputId": "cd28bb67-93eb-4803-8011-b1b8c350de1c",
        "tags": []
      },
      "source": [
        "history = model.opt(timeout=300)"
      ],
      "execution_count": 14,
      "outputs": [
        {
          "output_type": "stream",
          "name": "stdout",
          "text": "One iteration takes ~ 2.2 sec\nStart Auto calibration parameters\nStart optimization with the parameters:\nCV_Folds =  5\nScore_CV_Folds =  1\nOpt_lvl =  1\nCold_start =  67.0\nEarly_stoping =  100\nMetric =  mean_squared_error\nDirection =  minimize\nDefault model mean_squared_error = 8.5542\n########################################\nOptimize: : 43it [05:11,  7.24s/it, CatBoostRegressor Best Score mean_squared_error = 8.5542 ]\n"
        }
      ]
    },
    {
      "cell_type": "code",
      "metadata": {
        "ExecuteTime": {
          "end_time": "2020-05-07T06:07:49.822057Z",
          "start_time": "2020-05-07T06:07:42.159986Z"
        },
        "id": "cVvSu682bV5d",
        "colab_type": "code",
        "colab": {
          "base_uri": "https://localhost:8080/",
          "height": 51
        },
        "outputId": "e85466e7-2711-4d53-8fe1-005cd27cf357",
        "tags": []
      },
      "source": [
        "predicts = model.predict() # the default prediction comes from the last best model\n",
        "print('\\n Test MSE: ', sklearn.metrics.mean_squared_error(y_test, predicts['predict_test'][0]))"
      ],
      "execution_count": 15,
      "outputs": [
        {
          "output_type": "stream",
          "name": "stderr",
          "text": "100%|██████████| 1/1 [00:20<00:00, 20.96s/it]\n Mean Score mean_squared_error on 15 Folds: 10.9107 std: 3.860191\n\n Test MSE:  4.304415541350326\n\n"
        }
      ]
    },
    {
      "cell_type": "code",
      "metadata": {
        "ExecuteTime": {
          "end_time": "2020-05-07T06:08:03.970747Z",
          "start_time": "2020-05-07T06:08:03.947425Z"
        },
        "id": "4Y9c59khbV5g",
        "colab_type": "code",
        "colab": {
          "base_uri": "https://localhost:8080/",
          "height": 529
        },
        "outputId": "92cb08a4-8dc4-4998-9307-a7922b53ea52"
      },
      "source": [
        "history.head(5)"
      ],
      "execution_count": 16,
      "outputs": [
        {
          "output_type": "execute_result",
          "data": {
            "text/plain": "    score_opt  model_score  score_std         model_name  \\\n0      8.5542       8.5542          0  CatBoostRegressor   \n36     8.5542       8.5542          0  CatBoostRegressor   \n29     8.5542       8.5542          0  CatBoostRegressor   \n20     8.5542       8.5542          0  CatBoostRegressor   \n19     8.5542       8.5542          0  CatBoostRegressor   \n\n                                          model_param  \\\n0   {'verbose': 0, 'early_stopping_rounds': 50, 't...   \n36  {'verbose': 0, 'early_stopping_rounds': 50, 't...   \n29  {'verbose': 0, 'early_stopping_rounds': 50, 't...   \n20  {'verbose': 0, 'early_stopping_rounds': 50, 't...   \n19  {'verbose': 0, 'early_stopping_rounds': 50, 't...   \n\n              wrapper_params     cat_encoder  cv_folds  \n0   {'early_stopping': True}  HelmertEncoder         5  \n36  {'early_stopping': True}  HelmertEncoder         5  \n29  {'early_stopping': True}  HelmertEncoder         5  \n20  {'early_stopping': True}  HelmertEncoder         5  \n19  {'early_stopping': True}  HelmertEncoder         5  ",
            "text/html": "<div>\n<style scoped>\n    .dataframe tbody tr th:only-of-type {\n        vertical-align: middle;\n    }\n\n    .dataframe tbody tr th {\n        vertical-align: top;\n    }\n\n    .dataframe thead th {\n        text-align: right;\n    }\n</style>\n<table border=\"1\" class=\"dataframe\">\n  <thead>\n    <tr style=\"text-align: right;\">\n      <th></th>\n      <th>score_opt</th>\n      <th>model_score</th>\n      <th>score_std</th>\n      <th>model_name</th>\n      <th>model_param</th>\n      <th>wrapper_params</th>\n      <th>cat_encoder</th>\n      <th>cv_folds</th>\n    </tr>\n  </thead>\n  <tbody>\n    <tr>\n      <th>0</th>\n      <td>8.5542</td>\n      <td>8.5542</td>\n      <td>0</td>\n      <td>CatBoostRegressor</td>\n      <td>{'verbose': 0, 'early_stopping_rounds': 50, 't...</td>\n      <td>{'early_stopping': True}</td>\n      <td>HelmertEncoder</td>\n      <td>5</td>\n    </tr>\n    <tr>\n      <th>36</th>\n      <td>8.5542</td>\n      <td>8.5542</td>\n      <td>0</td>\n      <td>CatBoostRegressor</td>\n      <td>{'verbose': 0, 'early_stopping_rounds': 50, 't...</td>\n      <td>{'early_stopping': True}</td>\n      <td>HelmertEncoder</td>\n      <td>5</td>\n    </tr>\n    <tr>\n      <th>29</th>\n      <td>8.5542</td>\n      <td>8.5542</td>\n      <td>0</td>\n      <td>CatBoostRegressor</td>\n      <td>{'verbose': 0, 'early_stopping_rounds': 50, 't...</td>\n      <td>{'early_stopping': True}</td>\n      <td>HelmertEncoder</td>\n      <td>5</td>\n    </tr>\n    <tr>\n      <th>20</th>\n      <td>8.5542</td>\n      <td>8.5542</td>\n      <td>0</td>\n      <td>CatBoostRegressor</td>\n      <td>{'verbose': 0, 'early_stopping_rounds': 50, 't...</td>\n      <td>{'early_stopping': True}</td>\n      <td>HelmertEncoder</td>\n      <td>5</td>\n    </tr>\n    <tr>\n      <th>19</th>\n      <td>8.5542</td>\n      <td>8.5542</td>\n      <td>0</td>\n      <td>CatBoostRegressor</td>\n      <td>{'verbose': 0, 'early_stopping_rounds': 50, 't...</td>\n      <td>{'early_stopping': True}</td>\n      <td>HelmertEncoder</td>\n      <td>5</td>\n    </tr>\n  </tbody>\n</table>\n</div>"
          },
          "metadata": {},
          "execution_count": 16
        }
      ]
    },
    {
      "cell_type": "code",
      "metadata": {
        "ExecuteTime": {
          "end_time": "2020-05-07T06:08:05.201547Z",
          "start_time": "2020-05-07T06:08:04.447020Z"
        },
        "id": "IB55EkhbbV5k",
        "colab_type": "code",
        "colab": {
          "base_uri": "https://localhost:8080/",
          "height": 350
        },
        "outputId": "ec6d21cc-15d0-477b-8e26-f9b2c2f1015c"
      },
      "source": [
        "model.plot_opt_history()"
      ],
      "execution_count": 17,
      "outputs": [
        {
          "output_type": "display_data",
          "data": {
            "text/plain": "<Figure size 1080x360 with 2 Axes>",
            "image/svg+xml": "<?xml version=\"1.0\" encoding=\"utf-8\" standalone=\"no\"?>\n<!DOCTYPE svg PUBLIC \"-//W3C//DTD SVG 1.1//EN\"\n  \"http://www.w3.org/Graphics/SVG/1.1/DTD/svg11.dtd\">\n<!-- Created with matplotlib (https://matplotlib.org/) -->\n<svg height=\"331.674375pt\" version=\"1.1\" viewBox=\"0 0 798.924375 331.674375\" width=\"798.924375pt\" xmlns=\"http://www.w3.org/2000/svg\" xmlns:xlink=\"http://www.w3.org/1999/xlink\">\n <defs>\n  <style type=\"text/css\">\n*{stroke-linecap:butt;stroke-linejoin:round;}\n  </style>\n </defs>\n <g id=\"figure_1\">\n  <g id=\"patch_1\">\n   <path d=\"M 0 331.674375 \nL 798.924375 331.674375 \nL 798.924375 0 \nL 0 0 \nz\n\" style=\"fill:#ffffff;\"/>\n  </g>\n  <g id=\"axes_1\">\n   <g id=\"patch_2\">\n    <path d=\"M 43.78125 294.118125 \nL 713.38125 294.118125 \nL 713.38125 22.318125 \nL 43.78125 22.318125 \nz\n\" style=\"fill:#eaeaf2;\"/>\n   </g>\n   <g id=\"matplotlib.axis_1\">\n    <g id=\"xtick_1\">\n     <g id=\"line2d_1\">\n      <path clip-path=\"url(#pa0dff6c98d)\" d=\"M 74.217614 294.118125 \nL 74.217614 22.318125 \n\" style=\"fill:none;stroke:#ffffff;stroke-linecap:round;stroke-width:0.8;\"/>\n     </g>\n     <g id=\"text_1\">\n      <!-- 0 -->\n      <defs>\n       <path d=\"M 31.78125 66.40625 \nQ 24.171875 66.40625 20.328125 58.90625 \nQ 16.5 51.421875 16.5 36.375 \nQ 16.5 21.390625 20.328125 13.890625 \nQ 24.171875 6.390625 31.78125 6.390625 \nQ 39.453125 6.390625 43.28125 13.890625 \nQ 47.125 21.390625 47.125 36.375 \nQ 47.125 51.421875 43.28125 58.90625 \nQ 39.453125 66.40625 31.78125 66.40625 \nz\nM 31.78125 74.21875 \nQ 44.046875 74.21875 50.515625 64.515625 \nQ 56.984375 54.828125 56.984375 36.375 \nQ 56.984375 17.96875 50.515625 8.265625 \nQ 44.046875 -1.421875 31.78125 -1.421875 \nQ 19.53125 -1.421875 13.0625 8.265625 \nQ 6.59375 17.96875 6.59375 36.375 \nQ 6.59375 54.828125 13.0625 64.515625 \nQ 19.53125 74.21875 31.78125 74.21875 \nz\n\" id=\"DejaVuSans-48\"/>\n      </defs>\n      <g style=\"fill:#262626;\" transform=\"translate(71.036364 308.716563)scale(0.1 -0.1)\">\n       <use xlink:href=\"#DejaVuSans-48\"/>\n      </g>\n     </g>\n    </g>\n    <g id=\"xtick_2\">\n     <g id=\"line2d_2\">\n      <path clip-path=\"url(#pa0dff6c98d)\" d=\"M 219.152679 294.118125 \nL 219.152679 22.318125 \n\" style=\"fill:none;stroke:#ffffff;stroke-linecap:round;stroke-width:0.8;\"/>\n     </g>\n     <g id=\"text_2\">\n      <!-- 10 -->\n      <defs>\n       <path d=\"M 12.40625 8.296875 \nL 28.515625 8.296875 \nL 28.515625 63.921875 \nL 10.984375 60.40625 \nL 10.984375 69.390625 \nL 28.421875 72.90625 \nL 38.28125 72.90625 \nL 38.28125 8.296875 \nL 54.390625 8.296875 \nL 54.390625 0 \nL 12.40625 0 \nz\n\" id=\"DejaVuSans-49\"/>\n      </defs>\n      <g style=\"fill:#262626;\" transform=\"translate(212.790179 308.716563)scale(0.1 -0.1)\">\n       <use xlink:href=\"#DejaVuSans-49\"/>\n       <use x=\"63.623047\" xlink:href=\"#DejaVuSans-48\"/>\n      </g>\n     </g>\n    </g>\n    <g id=\"xtick_3\">\n     <g id=\"line2d_3\">\n      <path clip-path=\"url(#pa0dff6c98d)\" d=\"M 364.087744 294.118125 \nL 364.087744 22.318125 \n\" style=\"fill:none;stroke:#ffffff;stroke-linecap:round;stroke-width:0.8;\"/>\n     </g>\n     <g id=\"text_3\">\n      <!-- 20 -->\n      <defs>\n       <path d=\"M 19.1875 8.296875 \nL 53.609375 8.296875 \nL 53.609375 0 \nL 7.328125 0 \nL 7.328125 8.296875 \nQ 12.9375 14.109375 22.625 23.890625 \nQ 32.328125 33.6875 34.8125 36.53125 \nQ 39.546875 41.84375 41.421875 45.53125 \nQ 43.3125 49.21875 43.3125 52.78125 \nQ 43.3125 58.59375 39.234375 62.25 \nQ 35.15625 65.921875 28.609375 65.921875 \nQ 23.96875 65.921875 18.8125 64.3125 \nQ 13.671875 62.703125 7.8125 59.421875 \nL 7.8125 69.390625 \nQ 13.765625 71.78125 18.9375 73 \nQ 24.125 74.21875 28.421875 74.21875 \nQ 39.75 74.21875 46.484375 68.546875 \nQ 53.21875 62.890625 53.21875 53.421875 \nQ 53.21875 48.921875 51.53125 44.890625 \nQ 49.859375 40.875 45.40625 35.40625 \nQ 44.1875 33.984375 37.640625 27.21875 \nQ 31.109375 20.453125 19.1875 8.296875 \nz\n\" id=\"DejaVuSans-50\"/>\n      </defs>\n      <g style=\"fill:#262626;\" transform=\"translate(357.725244 308.716563)scale(0.1 -0.1)\">\n       <use xlink:href=\"#DejaVuSans-50\"/>\n       <use x=\"63.623047\" xlink:href=\"#DejaVuSans-48\"/>\n      </g>\n     </g>\n    </g>\n    <g id=\"xtick_4\">\n     <g id=\"line2d_4\">\n      <path clip-path=\"url(#pa0dff6c98d)\" d=\"M 509.022808 294.118125 \nL 509.022808 22.318125 \n\" style=\"fill:none;stroke:#ffffff;stroke-linecap:round;stroke-width:0.8;\"/>\n     </g>\n     <g id=\"text_4\">\n      <!-- 30 -->\n      <defs>\n       <path d=\"M 40.578125 39.3125 \nQ 47.65625 37.796875 51.625 33 \nQ 55.609375 28.21875 55.609375 21.1875 \nQ 55.609375 10.40625 48.1875 4.484375 \nQ 40.765625 -1.421875 27.09375 -1.421875 \nQ 22.515625 -1.421875 17.65625 -0.515625 \nQ 12.796875 0.390625 7.625 2.203125 \nL 7.625 11.71875 \nQ 11.71875 9.328125 16.59375 8.109375 \nQ 21.484375 6.890625 26.8125 6.890625 \nQ 36.078125 6.890625 40.9375 10.546875 \nQ 45.796875 14.203125 45.796875 21.1875 \nQ 45.796875 27.640625 41.28125 31.265625 \nQ 36.765625 34.90625 28.71875 34.90625 \nL 20.21875 34.90625 \nL 20.21875 43.015625 \nL 29.109375 43.015625 \nQ 36.375 43.015625 40.234375 45.921875 \nQ 44.09375 48.828125 44.09375 54.296875 \nQ 44.09375 59.90625 40.109375 62.90625 \nQ 36.140625 65.921875 28.71875 65.921875 \nQ 24.65625 65.921875 20.015625 65.03125 \nQ 15.375 64.15625 9.8125 62.3125 \nL 9.8125 71.09375 \nQ 15.4375 72.65625 20.34375 73.4375 \nQ 25.25 74.21875 29.59375 74.21875 \nQ 40.828125 74.21875 47.359375 69.109375 \nQ 53.90625 64.015625 53.90625 55.328125 \nQ 53.90625 49.265625 50.4375 45.09375 \nQ 46.96875 40.921875 40.578125 39.3125 \nz\n\" id=\"DejaVuSans-51\"/>\n      </defs>\n      <g style=\"fill:#262626;\" transform=\"translate(502.660308 308.716563)scale(0.1 -0.1)\">\n       <use xlink:href=\"#DejaVuSans-51\"/>\n       <use x=\"63.623047\" xlink:href=\"#DejaVuSans-48\"/>\n      </g>\n     </g>\n    </g>\n    <g id=\"xtick_5\">\n     <g id=\"line2d_5\">\n      <path clip-path=\"url(#pa0dff6c98d)\" d=\"M 653.957873 294.118125 \nL 653.957873 22.318125 \n\" style=\"fill:none;stroke:#ffffff;stroke-linecap:round;stroke-width:0.8;\"/>\n     </g>\n     <g id=\"text_5\">\n      <!-- 40 -->\n      <defs>\n       <path d=\"M 37.796875 64.3125 \nL 12.890625 25.390625 \nL 37.796875 25.390625 \nz\nM 35.203125 72.90625 \nL 47.609375 72.90625 \nL 47.609375 25.390625 \nL 58.015625 25.390625 \nL 58.015625 17.1875 \nL 47.609375 17.1875 \nL 47.609375 0 \nL 37.796875 0 \nL 37.796875 17.1875 \nL 4.890625 17.1875 \nL 4.890625 26.703125 \nz\n\" id=\"DejaVuSans-52\"/>\n      </defs>\n      <g style=\"fill:#262626;\" transform=\"translate(647.595373 308.716563)scale(0.1 -0.1)\">\n       <use xlink:href=\"#DejaVuSans-52\"/>\n       <use x=\"63.623047\" xlink:href=\"#DejaVuSans-48\"/>\n      </g>\n     </g>\n    </g>\n    <g id=\"text_6\">\n     <!-- Iter -->\n     <defs>\n      <path d=\"M 9.8125 72.90625 \nL 19.671875 72.90625 \nL 19.671875 0 \nL 9.8125 0 \nz\n\" id=\"DejaVuSans-73\"/>\n      <path d=\"M 18.3125 70.21875 \nL 18.3125 54.6875 \nL 36.8125 54.6875 \nL 36.8125 47.703125 \nL 18.3125 47.703125 \nL 18.3125 18.015625 \nQ 18.3125 11.328125 20.140625 9.421875 \nQ 21.96875 7.515625 27.59375 7.515625 \nL 36.8125 7.515625 \nL 36.8125 0 \nL 27.59375 0 \nQ 17.1875 0 13.234375 3.875 \nQ 9.28125 7.765625 9.28125 18.015625 \nL 9.28125 47.703125 \nL 2.6875 47.703125 \nL 2.6875 54.6875 \nL 9.28125 54.6875 \nL 9.28125 70.21875 \nz\n\" id=\"DejaVuSans-116\"/>\n      <path d=\"M 56.203125 29.59375 \nL 56.203125 25.203125 \nL 14.890625 25.203125 \nQ 15.484375 15.921875 20.484375 11.0625 \nQ 25.484375 6.203125 34.421875 6.203125 \nQ 39.59375 6.203125 44.453125 7.46875 \nQ 49.3125 8.734375 54.109375 11.28125 \nL 54.109375 2.78125 \nQ 49.265625 0.734375 44.1875 -0.34375 \nQ 39.109375 -1.421875 33.890625 -1.421875 \nQ 20.796875 -1.421875 13.15625 6.1875 \nQ 5.515625 13.8125 5.515625 26.8125 \nQ 5.515625 40.234375 12.765625 48.109375 \nQ 20.015625 56 32.328125 56 \nQ 43.359375 56 49.78125 48.890625 \nQ 56.203125 41.796875 56.203125 29.59375 \nz\nM 47.21875 32.234375 \nQ 47.125 39.59375 43.09375 43.984375 \nQ 39.0625 48.390625 32.421875 48.390625 \nQ 24.90625 48.390625 20.390625 44.140625 \nQ 15.875 39.890625 15.1875 32.171875 \nz\n\" id=\"DejaVuSans-101\"/>\n      <path d=\"M 41.109375 46.296875 \nQ 39.59375 47.171875 37.8125 47.578125 \nQ 36.03125 48 33.890625 48 \nQ 26.265625 48 22.1875 43.046875 \nQ 18.109375 38.09375 18.109375 28.8125 \nL 18.109375 0 \nL 9.078125 0 \nL 9.078125 54.6875 \nL 18.109375 54.6875 \nL 18.109375 46.1875 \nQ 20.953125 51.171875 25.484375 53.578125 \nQ 30.03125 56 36.53125 56 \nQ 37.453125 56 38.578125 55.875 \nQ 39.703125 55.765625 41.0625 55.515625 \nz\n\" id=\"DejaVuSans-114\"/>\n     </defs>\n     <g style=\"fill:#262626;\" transform=\"translate(370.014063 322.394687)scale(0.1 -0.1)\">\n      <use xlink:href=\"#DejaVuSans-73\"/>\n      <use x=\"29.492188\" xlink:href=\"#DejaVuSans-116\"/>\n      <use x=\"68.701172\" xlink:href=\"#DejaVuSans-101\"/>\n      <use x=\"130.224609\" xlink:href=\"#DejaVuSans-114\"/>\n     </g>\n    </g>\n   </g>\n   <g id=\"matplotlib.axis_2\">\n    <g id=\"ytick_1\">\n     <g id=\"line2d_6\">\n      <path clip-path=\"url(#pa0dff6c98d)\" d=\"M 43.78125 271.913494 \nL 713.38125 271.913494 \n\" style=\"fill:none;stroke:#ffffff;stroke-linecap:round;stroke-width:0.8;\"/>\n     </g>\n     <g id=\"text_7\">\n      <!-- 8.6 -->\n      <defs>\n       <path d=\"M 31.78125 34.625 \nQ 24.75 34.625 20.71875 30.859375 \nQ 16.703125 27.09375 16.703125 20.515625 \nQ 16.703125 13.921875 20.71875 10.15625 \nQ 24.75 6.390625 31.78125 6.390625 \nQ 38.8125 6.390625 42.859375 10.171875 \nQ 46.921875 13.96875 46.921875 20.515625 \nQ 46.921875 27.09375 42.890625 30.859375 \nQ 38.875 34.625 31.78125 34.625 \nz\nM 21.921875 38.8125 \nQ 15.578125 40.375 12.03125 44.71875 \nQ 8.5 49.078125 8.5 55.328125 \nQ 8.5 64.0625 14.71875 69.140625 \nQ 20.953125 74.21875 31.78125 74.21875 \nQ 42.671875 74.21875 48.875 69.140625 \nQ 55.078125 64.0625 55.078125 55.328125 \nQ 55.078125 49.078125 51.53125 44.71875 \nQ 48 40.375 41.703125 38.8125 \nQ 48.828125 37.15625 52.796875 32.3125 \nQ 56.78125 27.484375 56.78125 20.515625 \nQ 56.78125 9.90625 50.3125 4.234375 \nQ 43.84375 -1.421875 31.78125 -1.421875 \nQ 19.734375 -1.421875 13.25 4.234375 \nQ 6.78125 9.90625 6.78125 20.515625 \nQ 6.78125 27.484375 10.78125 32.3125 \nQ 14.796875 37.15625 21.921875 38.8125 \nz\nM 18.3125 54.390625 \nQ 18.3125 48.734375 21.84375 45.5625 \nQ 25.390625 42.390625 31.78125 42.390625 \nQ 38.140625 42.390625 41.71875 45.5625 \nQ 45.3125 48.734375 45.3125 54.390625 \nQ 45.3125 60.0625 41.71875 63.234375 \nQ 38.140625 66.40625 31.78125 66.40625 \nQ 25.390625 66.40625 21.84375 63.234375 \nQ 18.3125 60.0625 18.3125 54.390625 \nz\n\" id=\"DejaVuSans-56\"/>\n       <path d=\"M 10.6875 12.40625 \nL 21 12.40625 \nL 21 0 \nL 10.6875 0 \nz\n\" id=\"DejaVuSans-46\"/>\n       <path d=\"M 33.015625 40.375 \nQ 26.375 40.375 22.484375 35.828125 \nQ 18.609375 31.296875 18.609375 23.390625 \nQ 18.609375 15.53125 22.484375 10.953125 \nQ 26.375 6.390625 33.015625 6.390625 \nQ 39.65625 6.390625 43.53125 10.953125 \nQ 47.40625 15.53125 47.40625 23.390625 \nQ 47.40625 31.296875 43.53125 35.828125 \nQ 39.65625 40.375 33.015625 40.375 \nz\nM 52.59375 71.296875 \nL 52.59375 62.3125 \nQ 48.875 64.0625 45.09375 64.984375 \nQ 41.3125 65.921875 37.59375 65.921875 \nQ 27.828125 65.921875 22.671875 59.328125 \nQ 17.53125 52.734375 16.796875 39.40625 \nQ 19.671875 43.65625 24.015625 45.921875 \nQ 28.375 48.1875 33.59375 48.1875 \nQ 44.578125 48.1875 50.953125 41.515625 \nQ 57.328125 34.859375 57.328125 23.390625 \nQ 57.328125 12.15625 50.6875 5.359375 \nQ 44.046875 -1.421875 33.015625 -1.421875 \nQ 20.359375 -1.421875 13.671875 8.265625 \nQ 6.984375 17.96875 6.984375 36.375 \nQ 6.984375 53.65625 15.1875 63.9375 \nQ 23.390625 74.21875 37.203125 74.21875 \nQ 40.921875 74.21875 44.703125 73.484375 \nQ 48.484375 72.75 52.59375 71.296875 \nz\n\" id=\"DejaVuSans-54\"/>\n      </defs>\n      <g style=\"fill:#262626;\" transform=\"translate(20.878125 275.712712)scale(0.1 -0.1)\">\n       <use xlink:href=\"#DejaVuSans-56\"/>\n       <use x=\"63.623047\" xlink:href=\"#DejaVuSans-46\"/>\n       <use x=\"95.410156\" xlink:href=\"#DejaVuSans-54\"/>\n      </g>\n     </g>\n    </g>\n    <g id=\"ytick_2\">\n     <g id=\"line2d_7\">\n      <path clip-path=\"url(#pa0dff6c98d)\" d=\"M 43.78125 228.900018 \nL 713.38125 228.900018 \n\" style=\"fill:none;stroke:#ffffff;stroke-linecap:round;stroke-width:0.8;\"/>\n     </g>\n     <g id=\"text_8\">\n      <!-- 8.8 -->\n      <g style=\"fill:#262626;\" transform=\"translate(20.878125 232.699237)scale(0.1 -0.1)\">\n       <use xlink:href=\"#DejaVuSans-56\"/>\n       <use x=\"63.623047\" xlink:href=\"#DejaVuSans-46\"/>\n       <use x=\"95.410156\" xlink:href=\"#DejaVuSans-56\"/>\n      </g>\n     </g>\n    </g>\n    <g id=\"ytick_3\">\n     <g id=\"line2d_8\">\n      <path clip-path=\"url(#pa0dff6c98d)\" d=\"M 43.78125 185.886543 \nL 713.38125 185.886543 \n\" style=\"fill:none;stroke:#ffffff;stroke-linecap:round;stroke-width:0.8;\"/>\n     </g>\n     <g id=\"text_9\">\n      <!-- 9.0 -->\n      <defs>\n       <path d=\"M 10.984375 1.515625 \nL 10.984375 10.5 \nQ 14.703125 8.734375 18.5 7.8125 \nQ 22.3125 6.890625 25.984375 6.890625 \nQ 35.75 6.890625 40.890625 13.453125 \nQ 46.046875 20.015625 46.78125 33.40625 \nQ 43.953125 29.203125 39.59375 26.953125 \nQ 35.25 24.703125 29.984375 24.703125 \nQ 19.046875 24.703125 12.671875 31.3125 \nQ 6.296875 37.9375 6.296875 49.421875 \nQ 6.296875 60.640625 12.9375 67.421875 \nQ 19.578125 74.21875 30.609375 74.21875 \nQ 43.265625 74.21875 49.921875 64.515625 \nQ 56.59375 54.828125 56.59375 36.375 \nQ 56.59375 19.140625 48.40625 8.859375 \nQ 40.234375 -1.421875 26.421875 -1.421875 \nQ 22.703125 -1.421875 18.890625 -0.6875 \nQ 15.09375 0.046875 10.984375 1.515625 \nz\nM 30.609375 32.421875 \nQ 37.25 32.421875 41.125 36.953125 \nQ 45.015625 41.5 45.015625 49.421875 \nQ 45.015625 57.28125 41.125 61.84375 \nQ 37.25 66.40625 30.609375 66.40625 \nQ 23.96875 66.40625 20.09375 61.84375 \nQ 16.21875 57.28125 16.21875 49.421875 \nQ 16.21875 41.5 20.09375 36.953125 \nQ 23.96875 32.421875 30.609375 32.421875 \nz\n\" id=\"DejaVuSans-57\"/>\n      </defs>\n      <g style=\"fill:#262626;\" transform=\"translate(20.878125 189.685762)scale(0.1 -0.1)\">\n       <use xlink:href=\"#DejaVuSans-57\"/>\n       <use x=\"63.623047\" xlink:href=\"#DejaVuSans-46\"/>\n       <use x=\"95.410156\" xlink:href=\"#DejaVuSans-48\"/>\n      </g>\n     </g>\n    </g>\n    <g id=\"ytick_4\">\n     <g id=\"line2d_9\">\n      <path clip-path=\"url(#pa0dff6c98d)\" d=\"M 43.78125 142.873068 \nL 713.38125 142.873068 \n\" style=\"fill:none;stroke:#ffffff;stroke-linecap:round;stroke-width:0.8;\"/>\n     </g>\n     <g id=\"text_10\">\n      <!-- 9.2 -->\n      <g style=\"fill:#262626;\" transform=\"translate(20.878125 146.672286)scale(0.1 -0.1)\">\n       <use xlink:href=\"#DejaVuSans-57\"/>\n       <use x=\"63.623047\" xlink:href=\"#DejaVuSans-46\"/>\n       <use x=\"95.410156\" xlink:href=\"#DejaVuSans-50\"/>\n      </g>\n     </g>\n    </g>\n    <g id=\"ytick_5\">\n     <g id=\"line2d_10\">\n      <path clip-path=\"url(#pa0dff6c98d)\" d=\"M 43.78125 99.859592 \nL 713.38125 99.859592 \n\" style=\"fill:none;stroke:#ffffff;stroke-linecap:round;stroke-width:0.8;\"/>\n     </g>\n     <g id=\"text_11\">\n      <!-- 9.4 -->\n      <g style=\"fill:#262626;\" transform=\"translate(20.878125 103.658811)scale(0.1 -0.1)\">\n       <use xlink:href=\"#DejaVuSans-57\"/>\n       <use x=\"63.623047\" xlink:href=\"#DejaVuSans-46\"/>\n       <use x=\"95.410156\" xlink:href=\"#DejaVuSans-52\"/>\n      </g>\n     </g>\n    </g>\n    <g id=\"ytick_6\">\n     <g id=\"line2d_11\">\n      <path clip-path=\"url(#pa0dff6c98d)\" d=\"M 43.78125 56.846117 \nL 713.38125 56.846117 \n\" style=\"fill:none;stroke:#ffffff;stroke-linecap:round;stroke-width:0.8;\"/>\n     </g>\n     <g id=\"text_12\">\n      <!-- 9.6 -->\n      <g style=\"fill:#262626;\" transform=\"translate(20.878125 60.645336)scale(0.1 -0.1)\">\n       <use xlink:href=\"#DejaVuSans-57\"/>\n       <use x=\"63.623047\" xlink:href=\"#DejaVuSans-46\"/>\n       <use x=\"95.410156\" xlink:href=\"#DejaVuSans-54\"/>\n      </g>\n     </g>\n    </g>\n    <g id=\"text_13\">\n     <!-- Score -->\n     <defs>\n      <path d=\"M 53.515625 70.515625 \nL 53.515625 60.890625 \nQ 47.90625 63.578125 42.921875 64.890625 \nQ 37.9375 66.21875 33.296875 66.21875 \nQ 25.25 66.21875 20.875 63.09375 \nQ 16.5 59.96875 16.5 54.203125 \nQ 16.5 49.359375 19.40625 46.890625 \nQ 22.3125 44.4375 30.421875 42.921875 \nL 36.375 41.703125 \nQ 47.40625 39.59375 52.65625 34.296875 \nQ 57.90625 29 57.90625 20.125 \nQ 57.90625 9.515625 50.796875 4.046875 \nQ 43.703125 -1.421875 29.984375 -1.421875 \nQ 24.8125 -1.421875 18.96875 -0.25 \nQ 13.140625 0.921875 6.890625 3.21875 \nL 6.890625 13.375 \nQ 12.890625 10.015625 18.65625 8.296875 \nQ 24.421875 6.59375 29.984375 6.59375 \nQ 38.421875 6.59375 43.015625 9.90625 \nQ 47.609375 13.234375 47.609375 19.390625 \nQ 47.609375 24.75 44.3125 27.78125 \nQ 41.015625 30.8125 33.5 32.328125 \nL 27.484375 33.5 \nQ 16.453125 35.6875 11.515625 40.375 \nQ 6.59375 45.0625 6.59375 53.421875 \nQ 6.59375 63.09375 13.40625 68.65625 \nQ 20.21875 74.21875 32.171875 74.21875 \nQ 37.3125 74.21875 42.625 73.28125 \nQ 47.953125 72.359375 53.515625 70.515625 \nz\n\" id=\"DejaVuSans-83\"/>\n      <path d=\"M 48.78125 52.59375 \nL 48.78125 44.1875 \nQ 44.96875 46.296875 41.140625 47.34375 \nQ 37.3125 48.390625 33.40625 48.390625 \nQ 24.65625 48.390625 19.8125 42.84375 \nQ 14.984375 37.3125 14.984375 27.296875 \nQ 14.984375 17.28125 19.8125 11.734375 \nQ 24.65625 6.203125 33.40625 6.203125 \nQ 37.3125 6.203125 41.140625 7.25 \nQ 44.96875 8.296875 48.78125 10.40625 \nL 48.78125 2.09375 \nQ 45.015625 0.34375 40.984375 -0.53125 \nQ 36.96875 -1.421875 32.421875 -1.421875 \nQ 20.0625 -1.421875 12.78125 6.34375 \nQ 5.515625 14.109375 5.515625 27.296875 \nQ 5.515625 40.671875 12.859375 48.328125 \nQ 20.21875 56 33.015625 56 \nQ 37.15625 56 41.109375 55.140625 \nQ 45.0625 54.296875 48.78125 52.59375 \nz\n\" id=\"DejaVuSans-99\"/>\n      <path d=\"M 30.609375 48.390625 \nQ 23.390625 48.390625 19.1875 42.75 \nQ 14.984375 37.109375 14.984375 27.296875 \nQ 14.984375 17.484375 19.15625 11.84375 \nQ 23.34375 6.203125 30.609375 6.203125 \nQ 37.796875 6.203125 41.984375 11.859375 \nQ 46.1875 17.53125 46.1875 27.296875 \nQ 46.1875 37.015625 41.984375 42.703125 \nQ 37.796875 48.390625 30.609375 48.390625 \nz\nM 30.609375 56 \nQ 42.328125 56 49.015625 48.375 \nQ 55.71875 40.765625 55.71875 27.296875 \nQ 55.71875 13.875 49.015625 6.21875 \nQ 42.328125 -1.421875 30.609375 -1.421875 \nQ 18.84375 -1.421875 12.171875 6.21875 \nQ 5.515625 13.875 5.515625 27.296875 \nQ 5.515625 40.765625 12.171875 48.375 \nQ 18.84375 56 30.609375 56 \nz\n\" id=\"DejaVuSans-111\"/>\n     </defs>\n     <g style=\"fill:#262626;\" transform=\"translate(14.798438 172.220469)rotate(-90)scale(0.1 -0.1)\">\n      <use xlink:href=\"#DejaVuSans-83\"/>\n      <use x=\"63.476562\" xlink:href=\"#DejaVuSans-99\"/>\n      <use x=\"118.457031\" xlink:href=\"#DejaVuSans-111\"/>\n      <use x=\"179.638672\" xlink:href=\"#DejaVuSans-114\"/>\n      <use x=\"218.501953\" xlink:href=\"#DejaVuSans-101\"/>\n     </g>\n    </g>\n   </g>\n   <g id=\"PathCollection_1\">\n    <defs>\n     <path d=\"M 0 2.5 \nC 0.663008 2.5 1.29895 2.236584 1.767767 1.767767 \nC 2.236584 1.29895 2.5 0.663008 2.5 0 \nC 2.5 -0.663008 2.236584 -1.29895 1.767767 -1.767767 \nC 1.29895 -2.236584 0.663008 -2.5 0 -2.5 \nC -0.663008 -2.5 -1.29895 -2.236584 -1.767767 -1.767767 \nC -2.236584 -1.29895 -2.5 -0.663008 -2.5 0 \nC -2.5 0.663008 -2.236584 1.29895 -1.767767 1.767767 \nC -1.29895 2.236584 -0.663008 2.5 0 2.5 \nz\n\" id=\"C0_0_0e3cf84bfd\"/>\n    </defs>\n    <g clip-path=\"url(#pa0dff6c98d)\">\n     <use style=\"fill:#3b4cc0;stroke:#3b4cc0;\" x=\"74.217614\" xlink:href=\"#C0_0_0e3cf84bfd\" y=\"281.76358\"/>\n    </g>\n    <g clip-path=\"url(#pa0dff6c98d)\">\n     <use style=\"fill:#3b4cc0;stroke:#3b4cc0;\" x=\"88.71112\" xlink:href=\"#C0_0_0e3cf84bfd\" y=\"281.76358\"/>\n    </g>\n    <g clip-path=\"url(#pa0dff6c98d)\">\n     <use style=\"fill:#3b4cc0;stroke:#3b4cc0;\" x=\"103.204627\" xlink:href=\"#C0_0_0e3cf84bfd\" y=\"281.76358\"/>\n    </g>\n    <g clip-path=\"url(#pa0dff6c98d)\">\n     <use style=\"fill:#3b4cc0;stroke:#3b4cc0;\" x=\"117.698133\" xlink:href=\"#C0_0_0e3cf84bfd\" y=\"281.76358\"/>\n    </g>\n    <g clip-path=\"url(#pa0dff6c98d)\">\n     <use style=\"fill:#3b4cc0;stroke:#3b4cc0;\" x=\"132.19164\" xlink:href=\"#C0_0_0e3cf84bfd\" y=\"281.76358\"/>\n    </g>\n    <g clip-path=\"url(#pa0dff6c98d)\">\n     <use style=\"fill:#3b4cc0;stroke:#3b4cc0;\" x=\"146.685146\" xlink:href=\"#C0_0_0e3cf84bfd\" y=\"281.76358\"/>\n    </g>\n    <g clip-path=\"url(#pa0dff6c98d)\">\n     <use style=\"fill:#3b4cc0;stroke:#3b4cc0;\" x=\"161.178653\" xlink:href=\"#C0_0_0e3cf84bfd\" y=\"281.76358\"/>\n    </g>\n    <g clip-path=\"url(#pa0dff6c98d)\">\n     <use style=\"fill:#b40426;stroke:#b40426;\" x=\"175.672159\" xlink:href=\"#C0_0_0e3cf84bfd\" y=\"34.67267\"/>\n    </g>\n    <g clip-path=\"url(#pa0dff6c98d)\">\n     <use style=\"fill:#3b4cc0;stroke:#3b4cc0;\" x=\"190.165666\" xlink:href=\"#C0_0_0e3cf84bfd\" y=\"281.76358\"/>\n    </g>\n    <g clip-path=\"url(#pa0dff6c98d)\">\n     <use style=\"fill:#3b4cc0;stroke:#3b4cc0;\" x=\"204.659172\" xlink:href=\"#C0_0_0e3cf84bfd\" y=\"281.76358\"/>\n    </g>\n    <g clip-path=\"url(#pa0dff6c98d)\">\n     <use style=\"fill:#b40426;stroke:#b40426;\" x=\"219.152679\" xlink:href=\"#C0_0_0e3cf84bfd\" y=\"34.67267\"/>\n    </g>\n    <g clip-path=\"url(#pa0dff6c98d)\">\n     <use style=\"fill:#b40426;stroke:#b40426;\" x=\"233.646185\" xlink:href=\"#C0_0_0e3cf84bfd\" y=\"34.67267\"/>\n    </g>\n    <g clip-path=\"url(#pa0dff6c98d)\">\n     <use style=\"fill:#3b4cc0;stroke:#3b4cc0;\" x=\"248.139692\" xlink:href=\"#C0_0_0e3cf84bfd\" y=\"281.76358\"/>\n    </g>\n    <g clip-path=\"url(#pa0dff6c98d)\">\n     <use style=\"fill:#b40426;stroke:#b40426;\" x=\"262.633198\" xlink:href=\"#C0_0_0e3cf84bfd\" y=\"34.67267\"/>\n    </g>\n    <g clip-path=\"url(#pa0dff6c98d)\">\n     <use style=\"fill:#3b4cc0;stroke:#3b4cc0;\" x=\"277.126705\" xlink:href=\"#C0_0_0e3cf84bfd\" y=\"281.76358\"/>\n    </g>\n    <g clip-path=\"url(#pa0dff6c98d)\">\n     <use style=\"fill:#b40426;stroke:#b40426;\" x=\"291.620211\" xlink:href=\"#C0_0_0e3cf84bfd\" y=\"34.67267\"/>\n    </g>\n    <g clip-path=\"url(#pa0dff6c98d)\">\n     <use style=\"fill:#b40426;stroke:#b40426;\" x=\"306.113718\" xlink:href=\"#C0_0_0e3cf84bfd\" y=\"34.67267\"/>\n    </g>\n    <g clip-path=\"url(#pa0dff6c98d)\">\n     <use style=\"fill:#b40426;stroke:#b40426;\" x=\"320.607224\" xlink:href=\"#C0_0_0e3cf84bfd\" y=\"34.67267\"/>\n    </g>\n    <g clip-path=\"url(#pa0dff6c98d)\">\n     <use style=\"fill:#3b4cc0;stroke:#3b4cc0;\" x=\"335.100731\" xlink:href=\"#C0_0_0e3cf84bfd\" y=\"281.76358\"/>\n    </g>\n    <g clip-path=\"url(#pa0dff6c98d)\">\n     <use style=\"fill:#3b4cc0;stroke:#3b4cc0;\" x=\"349.594237\" xlink:href=\"#C0_0_0e3cf84bfd\" y=\"281.76358\"/>\n    </g>\n    <g clip-path=\"url(#pa0dff6c98d)\">\n     <use style=\"fill:#3b4cc0;stroke:#3b4cc0;\" x=\"364.087744\" xlink:href=\"#C0_0_0e3cf84bfd\" y=\"281.76358\"/>\n    </g>\n    <g clip-path=\"url(#pa0dff6c98d)\">\n     <use style=\"fill:#3b4cc0;stroke:#3b4cc0;\" x=\"378.58125\" xlink:href=\"#C0_0_0e3cf84bfd\" y=\"281.76358\"/>\n    </g>\n    <g clip-path=\"url(#pa0dff6c98d)\">\n     <use style=\"fill:#b40426;stroke:#b40426;\" x=\"393.074756\" xlink:href=\"#C0_0_0e3cf84bfd\" y=\"34.67267\"/>\n    </g>\n    <g clip-path=\"url(#pa0dff6c98d)\">\n     <use style=\"fill:#b40426;stroke:#b40426;\" x=\"407.568263\" xlink:href=\"#C0_0_0e3cf84bfd\" y=\"34.67267\"/>\n    </g>\n    <g clip-path=\"url(#pa0dff6c98d)\">\n     <use style=\"fill:#b40426;stroke:#b40426;\" x=\"422.061769\" xlink:href=\"#C0_0_0e3cf84bfd\" y=\"34.67267\"/>\n    </g>\n    <g clip-path=\"url(#pa0dff6c98d)\">\n     <use style=\"fill:#b40426;stroke:#b40426;\" x=\"436.555276\" xlink:href=\"#C0_0_0e3cf84bfd\" y=\"34.67267\"/>\n    </g>\n    <g clip-path=\"url(#pa0dff6c98d)\">\n     <use style=\"fill:#b40426;stroke:#b40426;\" x=\"451.048782\" xlink:href=\"#C0_0_0e3cf84bfd\" y=\"34.67267\"/>\n    </g>\n    <g clip-path=\"url(#pa0dff6c98d)\">\n     <use style=\"fill:#b40426;stroke:#b40426;\" x=\"465.542289\" xlink:href=\"#C0_0_0e3cf84bfd\" y=\"34.67267\"/>\n    </g>\n    <g clip-path=\"url(#pa0dff6c98d)\">\n     <use style=\"fill:#b40426;stroke:#b40426;\" x=\"480.035795\" xlink:href=\"#C0_0_0e3cf84bfd\" y=\"34.67267\"/>\n    </g>\n    <g clip-path=\"url(#pa0dff6c98d)\">\n     <use style=\"fill:#3b4cc0;stroke:#3b4cc0;\" x=\"494.529302\" xlink:href=\"#C0_0_0e3cf84bfd\" y=\"281.76358\"/>\n    </g>\n    <g clip-path=\"url(#pa0dff6c98d)\">\n     <use style=\"fill:#b40426;stroke:#b40426;\" x=\"509.022808\" xlink:href=\"#C0_0_0e3cf84bfd\" y=\"34.67267\"/>\n    </g>\n    <g clip-path=\"url(#pa0dff6c98d)\">\n     <use style=\"fill:#b40426;stroke:#b40426;\" x=\"523.516315\" xlink:href=\"#C0_0_0e3cf84bfd\" y=\"34.67267\"/>\n    </g>\n    <g clip-path=\"url(#pa0dff6c98d)\">\n     <use style=\"fill:#b40426;stroke:#b40426;\" x=\"538.009821\" xlink:href=\"#C0_0_0e3cf84bfd\" y=\"34.67267\"/>\n    </g>\n    <g clip-path=\"url(#pa0dff6c98d)\">\n     <use style=\"fill:#b40426;stroke:#b40426;\" x=\"552.503328\" xlink:href=\"#C0_0_0e3cf84bfd\" y=\"34.67267\"/>\n    </g>\n    <g clip-path=\"url(#pa0dff6c98d)\">\n     <use style=\"fill:#b40426;stroke:#b40426;\" x=\"566.996834\" xlink:href=\"#C0_0_0e3cf84bfd\" y=\"34.67267\"/>\n    </g>\n    <g clip-path=\"url(#pa0dff6c98d)\">\n     <use style=\"fill:#b40426;stroke:#b40426;\" x=\"581.490341\" xlink:href=\"#C0_0_0e3cf84bfd\" y=\"34.67267\"/>\n    </g>\n    <g clip-path=\"url(#pa0dff6c98d)\">\n     <use style=\"fill:#3b4cc0;stroke:#3b4cc0;\" x=\"595.983847\" xlink:href=\"#C0_0_0e3cf84bfd\" y=\"281.76358\"/>\n    </g>\n    <g clip-path=\"url(#pa0dff6c98d)\">\n     <use style=\"fill:#b40426;stroke:#b40426;\" x=\"610.477354\" xlink:href=\"#C0_0_0e3cf84bfd\" y=\"34.67267\"/>\n    </g>\n    <g clip-path=\"url(#pa0dff6c98d)\">\n     <use style=\"fill:#b40426;stroke:#b40426;\" x=\"624.97086\" xlink:href=\"#C0_0_0e3cf84bfd\" y=\"34.67267\"/>\n    </g>\n    <g clip-path=\"url(#pa0dff6c98d)\">\n     <use style=\"fill:#b40426;stroke:#b40426;\" x=\"639.464367\" xlink:href=\"#C0_0_0e3cf84bfd\" y=\"34.67267\"/>\n    </g>\n    <g clip-path=\"url(#pa0dff6c98d)\">\n     <use style=\"fill:#b40426;stroke:#b40426;\" x=\"653.957873\" xlink:href=\"#C0_0_0e3cf84bfd\" y=\"34.67267\"/>\n    </g>\n    <g clip-path=\"url(#pa0dff6c98d)\">\n     <use style=\"fill:#b40426;stroke:#b40426;\" x=\"668.45138\" xlink:href=\"#C0_0_0e3cf84bfd\" y=\"34.67267\"/>\n    </g>\n    <g clip-path=\"url(#pa0dff6c98d)\">\n     <use style=\"fill:#b40426;stroke:#b40426;\" x=\"682.944886\" xlink:href=\"#C0_0_0e3cf84bfd\" y=\"34.67267\"/>\n    </g>\n   </g>\n   <g id=\"line2d_12\">\n    <path clip-path=\"url(#pa0dff6c98d)\" d=\"M 74.217614 281.76358 \nL 88.71112 281.76358 \nL 103.204627 281.76358 \nL 117.698133 281.76358 \nL 132.19164 281.76358 \nL 146.685146 281.76358 \nL 161.178653 281.76358 \nL 175.672159 281.76358 \nL 190.165666 281.76358 \nL 204.659172 281.76358 \nL 219.152679 281.76358 \nL 233.646185 281.76358 \nL 248.139692 281.76358 \nL 262.633198 281.76358 \nL 277.126705 281.76358 \nL 291.620211 281.76358 \nL 306.113718 281.76358 \nL 320.607224 281.76358 \nL 335.100731 281.76358 \nL 349.594237 281.76358 \nL 364.087744 281.76358 \nL 378.58125 281.76358 \nL 393.074756 281.76358 \nL 407.568263 281.76358 \nL 422.061769 281.76358 \nL 436.555276 281.76358 \nL 451.048782 281.76358 \nL 465.542289 281.76358 \nL 480.035795 281.76358 \nL 494.529302 281.76358 \nL 509.022808 281.76358 \nL 523.516315 281.76358 \nL 538.009821 281.76358 \nL 552.503328 281.76358 \nL 566.996834 281.76358 \nL 581.490341 281.76358 \nL 595.983847 281.76358 \nL 610.477354 281.76358 \nL 624.97086 281.76358 \nL 639.464367 281.76358 \nL 653.957873 281.76358 \nL 668.45138 281.76358 \nL 682.944886 281.76358 \n\" style=\"fill:none;stroke:#ff0000;stroke-linecap:round;stroke-width:1.5;\"/>\n   </g>\n   <g id=\"patch_3\">\n    <path d=\"M 43.78125 294.118125 \nL 43.78125 22.318125 \n\" style=\"fill:none;stroke:#ffffff;stroke-linecap:square;stroke-linejoin:miter;stroke-width:0.8;\"/>\n   </g>\n   <g id=\"patch_4\">\n    <path d=\"M 713.38125 294.118125 \nL 713.38125 22.318125 \n\" style=\"fill:none;stroke:#ffffff;stroke-linecap:square;stroke-linejoin:miter;stroke-width:0.8;\"/>\n   </g>\n   <g id=\"patch_5\">\n    <path d=\"M 43.78125 294.118125 \nL 713.38125 294.118125 \n\" style=\"fill:none;stroke:#ffffff;stroke-linecap:square;stroke-linejoin:miter;stroke-width:0.8;\"/>\n   </g>\n   <g id=\"patch_6\">\n    <path d=\"M 43.78125 22.318125 \nL 713.38125 22.318125 \n\" style=\"fill:none;stroke:#ffffff;stroke-linecap:square;stroke-linejoin:miter;stroke-width:0.8;\"/>\n   </g>\n   <g id=\"text_14\">\n    <!-- Plot optimization history -->\n    <defs>\n     <path d=\"M 19.671875 64.796875 \nL 19.671875 37.40625 \nL 32.078125 37.40625 \nQ 38.96875 37.40625 42.71875 40.96875 \nQ 46.484375 44.53125 46.484375 51.125 \nQ 46.484375 57.671875 42.71875 61.234375 \nQ 38.96875 64.796875 32.078125 64.796875 \nz\nM 9.8125 72.90625 \nL 32.078125 72.90625 \nQ 44.34375 72.90625 50.609375 67.359375 \nQ 56.890625 61.8125 56.890625 51.125 \nQ 56.890625 40.328125 50.609375 34.8125 \nQ 44.34375 29.296875 32.078125 29.296875 \nL 19.671875 29.296875 \nL 19.671875 0 \nL 9.8125 0 \nz\n\" id=\"DejaVuSans-80\"/>\n     <path d=\"M 9.421875 75.984375 \nL 18.40625 75.984375 \nL 18.40625 0 \nL 9.421875 0 \nz\n\" id=\"DejaVuSans-108\"/>\n     <path id=\"DejaVuSans-32\"/>\n     <path d=\"M 18.109375 8.203125 \nL 18.109375 -20.796875 \nL 9.078125 -20.796875 \nL 9.078125 54.6875 \nL 18.109375 54.6875 \nL 18.109375 46.390625 \nQ 20.953125 51.265625 25.265625 53.625 \nQ 29.59375 56 35.59375 56 \nQ 45.5625 56 51.78125 48.09375 \nQ 58.015625 40.1875 58.015625 27.296875 \nQ 58.015625 14.40625 51.78125 6.484375 \nQ 45.5625 -1.421875 35.59375 -1.421875 \nQ 29.59375 -1.421875 25.265625 0.953125 \nQ 20.953125 3.328125 18.109375 8.203125 \nz\nM 48.6875 27.296875 \nQ 48.6875 37.203125 44.609375 42.84375 \nQ 40.53125 48.484375 33.40625 48.484375 \nQ 26.265625 48.484375 22.1875 42.84375 \nQ 18.109375 37.203125 18.109375 27.296875 \nQ 18.109375 17.390625 22.1875 11.75 \nQ 26.265625 6.109375 33.40625 6.109375 \nQ 40.53125 6.109375 44.609375 11.75 \nQ 48.6875 17.390625 48.6875 27.296875 \nz\n\" id=\"DejaVuSans-112\"/>\n     <path d=\"M 9.421875 54.6875 \nL 18.40625 54.6875 \nL 18.40625 0 \nL 9.421875 0 \nz\nM 9.421875 75.984375 \nL 18.40625 75.984375 \nL 18.40625 64.59375 \nL 9.421875 64.59375 \nz\n\" id=\"DejaVuSans-105\"/>\n     <path d=\"M 52 44.1875 \nQ 55.375 50.25 60.0625 53.125 \nQ 64.75 56 71.09375 56 \nQ 79.640625 56 84.28125 50.015625 \nQ 88.921875 44.046875 88.921875 33.015625 \nL 88.921875 0 \nL 79.890625 0 \nL 79.890625 32.71875 \nQ 79.890625 40.578125 77.09375 44.375 \nQ 74.3125 48.1875 68.609375 48.1875 \nQ 61.625 48.1875 57.5625 43.546875 \nQ 53.515625 38.921875 53.515625 30.90625 \nL 53.515625 0 \nL 44.484375 0 \nL 44.484375 32.71875 \nQ 44.484375 40.625 41.703125 44.40625 \nQ 38.921875 48.1875 33.109375 48.1875 \nQ 26.21875 48.1875 22.15625 43.53125 \nQ 18.109375 38.875 18.109375 30.90625 \nL 18.109375 0 \nL 9.078125 0 \nL 9.078125 54.6875 \nL 18.109375 54.6875 \nL 18.109375 46.1875 \nQ 21.1875 51.21875 25.484375 53.609375 \nQ 29.78125 56 35.6875 56 \nQ 41.65625 56 45.828125 52.96875 \nQ 50 49.953125 52 44.1875 \nz\n\" id=\"DejaVuSans-109\"/>\n     <path d=\"M 5.515625 54.6875 \nL 48.1875 54.6875 \nL 48.1875 46.484375 \nL 14.40625 7.171875 \nL 48.1875 7.171875 \nL 48.1875 0 \nL 4.296875 0 \nL 4.296875 8.203125 \nL 38.09375 47.515625 \nL 5.515625 47.515625 \nz\n\" id=\"DejaVuSans-122\"/>\n     <path d=\"M 34.28125 27.484375 \nQ 23.390625 27.484375 19.1875 25 \nQ 14.984375 22.515625 14.984375 16.5 \nQ 14.984375 11.71875 18.140625 8.90625 \nQ 21.296875 6.109375 26.703125 6.109375 \nQ 34.1875 6.109375 38.703125 11.40625 \nQ 43.21875 16.703125 43.21875 25.484375 \nL 43.21875 27.484375 \nz\nM 52.203125 31.203125 \nL 52.203125 0 \nL 43.21875 0 \nL 43.21875 8.296875 \nQ 40.140625 3.328125 35.546875 0.953125 \nQ 30.953125 -1.421875 24.3125 -1.421875 \nQ 15.921875 -1.421875 10.953125 3.296875 \nQ 6 8.015625 6 15.921875 \nQ 6 25.140625 12.171875 29.828125 \nQ 18.359375 34.515625 30.609375 34.515625 \nL 43.21875 34.515625 \nL 43.21875 35.40625 \nQ 43.21875 41.609375 39.140625 45 \nQ 35.0625 48.390625 27.6875 48.390625 \nQ 23 48.390625 18.546875 47.265625 \nQ 14.109375 46.140625 10.015625 43.890625 \nL 10.015625 52.203125 \nQ 14.9375 54.109375 19.578125 55.046875 \nQ 24.21875 56 28.609375 56 \nQ 40.484375 56 46.34375 49.84375 \nQ 52.203125 43.703125 52.203125 31.203125 \nz\n\" id=\"DejaVuSans-97\"/>\n     <path d=\"M 54.890625 33.015625 \nL 54.890625 0 \nL 45.90625 0 \nL 45.90625 32.71875 \nQ 45.90625 40.484375 42.875 44.328125 \nQ 39.84375 48.1875 33.796875 48.1875 \nQ 26.515625 48.1875 22.3125 43.546875 \nQ 18.109375 38.921875 18.109375 30.90625 \nL 18.109375 0 \nL 9.078125 0 \nL 9.078125 54.6875 \nL 18.109375 54.6875 \nL 18.109375 46.1875 \nQ 21.34375 51.125 25.703125 53.5625 \nQ 30.078125 56 35.796875 56 \nQ 45.21875 56 50.046875 50.171875 \nQ 54.890625 44.34375 54.890625 33.015625 \nz\n\" id=\"DejaVuSans-110\"/>\n     <path d=\"M 54.890625 33.015625 \nL 54.890625 0 \nL 45.90625 0 \nL 45.90625 32.71875 \nQ 45.90625 40.484375 42.875 44.328125 \nQ 39.84375 48.1875 33.796875 48.1875 \nQ 26.515625 48.1875 22.3125 43.546875 \nQ 18.109375 38.921875 18.109375 30.90625 \nL 18.109375 0 \nL 9.078125 0 \nL 9.078125 75.984375 \nL 18.109375 75.984375 \nL 18.109375 46.1875 \nQ 21.34375 51.125 25.703125 53.5625 \nQ 30.078125 56 35.796875 56 \nQ 45.21875 56 50.046875 50.171875 \nQ 54.890625 44.34375 54.890625 33.015625 \nz\n\" id=\"DejaVuSans-104\"/>\n     <path d=\"M 44.28125 53.078125 \nL 44.28125 44.578125 \nQ 40.484375 46.53125 36.375 47.5 \nQ 32.28125 48.484375 27.875 48.484375 \nQ 21.1875 48.484375 17.84375 46.4375 \nQ 14.5 44.390625 14.5 40.28125 \nQ 14.5 37.15625 16.890625 35.375 \nQ 19.28125 33.59375 26.515625 31.984375 \nL 29.59375 31.296875 \nQ 39.15625 29.25 43.1875 25.515625 \nQ 47.21875 21.78125 47.21875 15.09375 \nQ 47.21875 7.46875 41.1875 3.015625 \nQ 35.15625 -1.421875 24.609375 -1.421875 \nQ 20.21875 -1.421875 15.453125 -0.5625 \nQ 10.6875 0.296875 5.421875 2 \nL 5.421875 11.28125 \nQ 10.40625 8.6875 15.234375 7.390625 \nQ 20.0625 6.109375 24.8125 6.109375 \nQ 31.15625 6.109375 34.5625 8.28125 \nQ 37.984375 10.453125 37.984375 14.40625 \nQ 37.984375 18.0625 35.515625 20.015625 \nQ 33.0625 21.96875 24.703125 23.78125 \nL 21.578125 24.515625 \nQ 13.234375 26.265625 9.515625 29.90625 \nQ 5.8125 33.546875 5.8125 39.890625 \nQ 5.8125 47.609375 11.28125 51.796875 \nQ 16.75 56 26.8125 56 \nQ 31.78125 56 36.171875 55.265625 \nQ 40.578125 54.546875 44.28125 53.078125 \nz\n\" id=\"DejaVuSans-115\"/>\n     <path d=\"M 32.171875 -5.078125 \nQ 28.375 -14.84375 24.75 -17.8125 \nQ 21.140625 -20.796875 15.09375 -20.796875 \nL 7.90625 -20.796875 \nL 7.90625 -13.28125 \nL 13.1875 -13.28125 \nQ 16.890625 -13.28125 18.9375 -11.515625 \nQ 21 -9.765625 23.484375 -3.21875 \nL 25.09375 0.875 \nL 2.984375 54.6875 \nL 12.5 54.6875 \nL 29.59375 11.921875 \nL 46.6875 54.6875 \nL 56.203125 54.6875 \nz\n\" id=\"DejaVuSans-121\"/>\n    </defs>\n    <g style=\"fill:#262626;\" transform=\"translate(305.49375 16.318125)scale(0.12 -0.12)\">\n     <use xlink:href=\"#DejaVuSans-80\"/>\n     <use x=\"60.302734\" xlink:href=\"#DejaVuSans-108\"/>\n     <use x=\"88.085938\" xlink:href=\"#DejaVuSans-111\"/>\n     <use x=\"149.267578\" xlink:href=\"#DejaVuSans-116\"/>\n     <use x=\"188.476562\" xlink:href=\"#DejaVuSans-32\"/>\n     <use x=\"220.263672\" xlink:href=\"#DejaVuSans-111\"/>\n     <use x=\"281.445312\" xlink:href=\"#DejaVuSans-112\"/>\n     <use x=\"344.921875\" xlink:href=\"#DejaVuSans-116\"/>\n     <use x=\"384.130859\" xlink:href=\"#DejaVuSans-105\"/>\n     <use x=\"411.914062\" xlink:href=\"#DejaVuSans-109\"/>\n     <use x=\"509.326172\" xlink:href=\"#DejaVuSans-105\"/>\n     <use x=\"537.109375\" xlink:href=\"#DejaVuSans-122\"/>\n     <use x=\"589.599609\" xlink:href=\"#DejaVuSans-97\"/>\n     <use x=\"650.878906\" xlink:href=\"#DejaVuSans-116\"/>\n     <use x=\"690.087891\" xlink:href=\"#DejaVuSans-105\"/>\n     <use x=\"717.871094\" xlink:href=\"#DejaVuSans-111\"/>\n     <use x=\"779.052734\" xlink:href=\"#DejaVuSans-110\"/>\n     <use x=\"842.431641\" xlink:href=\"#DejaVuSans-32\"/>\n     <use x=\"874.21875\" xlink:href=\"#DejaVuSans-104\"/>\n     <use x=\"937.597656\" xlink:href=\"#DejaVuSans-105\"/>\n     <use x=\"965.380859\" xlink:href=\"#DejaVuSans-115\"/>\n     <use x=\"1017.480469\" xlink:href=\"#DejaVuSans-116\"/>\n     <use x=\"1056.689453\" xlink:href=\"#DejaVuSans-111\"/>\n     <use x=\"1117.871094\" xlink:href=\"#DejaVuSans-114\"/>\n     <use x=\"1158.984375\" xlink:href=\"#DejaVuSans-121\"/>\n    </g>\n   </g>\n   <g id=\"legend_1\">\n    <g id=\"patch_7\">\n     <path d=\"M 50.78125 59.674375 \nL 136.107813 59.674375 \nQ 138.107813 59.674375 138.107813 57.674375 \nL 138.107813 29.318125 \nQ 138.107813 27.318125 136.107813 27.318125 \nL 50.78125 27.318125 \nQ 48.78125 27.318125 48.78125 29.318125 \nL 48.78125 57.674375 \nQ 48.78125 59.674375 50.78125 59.674375 \nz\n\" style=\"fill:#eaeaf2;opacity:0.8;stroke:#cccccc;stroke-linejoin:miter;\"/>\n    </g>\n    <g id=\"line2d_13\">\n     <path d=\"M 52.78125 35.416562 \nL 72.78125 35.416562 \n\" style=\"fill:none;stroke:#ff0000;stroke-linecap:round;stroke-width:1.5;\"/>\n    </g>\n    <g id=\"line2d_14\"/>\n    <g id=\"text_15\">\n     <!-- Best Score -->\n     <defs>\n      <path d=\"M 19.671875 34.8125 \nL 19.671875 8.109375 \nL 35.5 8.109375 \nQ 43.453125 8.109375 47.28125 11.40625 \nQ 51.125 14.703125 51.125 21.484375 \nQ 51.125 28.328125 47.28125 31.5625 \nQ 43.453125 34.8125 35.5 34.8125 \nz\nM 19.671875 64.796875 \nL 19.671875 42.828125 \nL 34.28125 42.828125 \nQ 41.5 42.828125 45.03125 45.53125 \nQ 48.578125 48.25 48.578125 53.8125 \nQ 48.578125 59.328125 45.03125 62.0625 \nQ 41.5 64.796875 34.28125 64.796875 \nz\nM 9.8125 72.90625 \nL 35.015625 72.90625 \nQ 46.296875 72.90625 52.390625 68.21875 \nQ 58.5 63.53125 58.5 54.890625 \nQ 58.5 48.1875 55.375 44.234375 \nQ 52.25 40.28125 46.1875 39.3125 \nQ 53.46875 37.75 57.5 32.78125 \nQ 61.53125 27.828125 61.53125 20.40625 \nQ 61.53125 10.640625 54.890625 5.3125 \nQ 48.25 0 35.984375 0 \nL 9.8125 0 \nz\n\" id=\"DejaVuSans-66\"/>\n     </defs>\n     <g style=\"fill:#262626;\" transform=\"translate(80.78125 38.916562)scale(0.1 -0.1)\">\n      <use xlink:href=\"#DejaVuSans-66\"/>\n      <use x=\"68.603516\" xlink:href=\"#DejaVuSans-101\"/>\n      <use x=\"130.126953\" xlink:href=\"#DejaVuSans-115\"/>\n      <use x=\"182.226562\" xlink:href=\"#DejaVuSans-116\"/>\n      <use x=\"221.435547\" xlink:href=\"#DejaVuSans-32\"/>\n      <use x=\"253.222656\" xlink:href=\"#DejaVuSans-83\"/>\n      <use x=\"316.699219\" xlink:href=\"#DejaVuSans-99\"/>\n      <use x=\"371.679688\" xlink:href=\"#DejaVuSans-111\"/>\n      <use x=\"432.861328\" xlink:href=\"#DejaVuSans-114\"/>\n      <use x=\"471.724609\" xlink:href=\"#DejaVuSans-101\"/>\n     </g>\n    </g>\n    <g id=\"PathCollection_2\">\n     <defs>\n      <path d=\"M 0 2.5 \nC 0.663008 2.5 1.29895 2.236584 1.767767 1.767767 \nC 2.236584 1.29895 2.5 0.663008 2.5 0 \nC 2.5 -0.663008 2.236584 -1.29895 1.767767 -1.767767 \nC 1.29895 -2.236584 0.663008 -2.5 0 -2.5 \nC -0.663008 -2.5 -1.29895 -2.236584 -1.767767 -1.767767 \nC -2.236584 -1.29895 -2.5 -0.663008 -2.5 0 \nC -2.5 0.663008 -2.236584 1.29895 -1.767767 1.767767 \nC -1.29895 2.236584 -0.663008 2.5 0 2.5 \nz\n\" id=\"ma5c56ac4a9\" style=\"stroke:#1f77b4;\"/>\n     </defs>\n     <g>\n      <use style=\"fill:#1f77b4;stroke:#1f77b4;\" x=\"62.78125\" xlink:href=\"#ma5c56ac4a9\" y=\"50.969688\"/>\n     </g>\n    </g>\n    <g id=\"text_16\">\n     <!-- Iter Score -->\n     <g style=\"fill:#262626;\" transform=\"translate(80.78125 53.594688)scale(0.1 -0.1)\">\n      <use xlink:href=\"#DejaVuSans-73\"/>\n      <use x=\"29.492188\" xlink:href=\"#DejaVuSans-116\"/>\n      <use x=\"68.701172\" xlink:href=\"#DejaVuSans-101\"/>\n      <use x=\"130.224609\" xlink:href=\"#DejaVuSans-114\"/>\n      <use x=\"171.337891\" xlink:href=\"#DejaVuSans-32\"/>\n      <use x=\"203.125\" xlink:href=\"#DejaVuSans-83\"/>\n      <use x=\"266.601562\" xlink:href=\"#DejaVuSans-99\"/>\n      <use x=\"321.582031\" xlink:href=\"#DejaVuSans-111\"/>\n      <use x=\"382.763672\" xlink:href=\"#DejaVuSans-114\"/>\n      <use x=\"421.626953\" xlink:href=\"#DejaVuSans-101\"/>\n     </g>\n    </g>\n   </g>\n  </g>\n  <g id=\"axes_2\">\n   <g id=\"patch_8\">\n    <path clip-path=\"url(#p0442966132)\" d=\"M 755.23125 294.118125 \nL 755.23125 293.056406 \nL 755.23125 23.379844 \nL 755.23125 22.318125 \nL 768.82125 22.318125 \nL 768.82125 23.379844 \nL 768.82125 293.056406 \nL 768.82125 294.118125 \nz\n\" style=\"fill:#eaeaf2;stroke:#eaeaf2;stroke-linejoin:miter;stroke-width:0.01;\"/>\n   </g>\n   <g id=\"matplotlib.axis_3\"/>\n   <g id=\"matplotlib.axis_4\">\n    <g id=\"ytick_7\">\n     <g id=\"line2d_15\">\n      <defs>\n       <path d=\"M 0 0 \nL 3.5 0 \n\" id=\"m8913dcc1f0\" style=\"stroke:#262626;stroke-width:0.8;\"/>\n      </defs>\n      <g>\n       <use style=\"fill:#262626;stroke:#262626;stroke-width:0.8;\" x=\"768.82125\" xlink:href=\"#m8913dcc1f0\" y=\"283.283031\"/>\n      </g>\n     </g>\n     <g id=\"text_17\">\n      <!-- 8.6 -->\n      <g style=\"fill:#262626;\" transform=\"translate(775.82125 287.082249)scale(0.1 -0.1)\">\n       <use xlink:href=\"#DejaVuSans-56\"/>\n       <use x=\"63.623047\" xlink:href=\"#DejaVuSans-46\"/>\n       <use x=\"95.410156\" xlink:href=\"#DejaVuSans-54\"/>\n      </g>\n     </g>\n    </g>\n    <g id=\"ytick_8\">\n     <g id=\"line2d_16\">\n      <g>\n       <use style=\"fill:#262626;stroke:#262626;stroke-width:0.8;\" x=\"768.82125\" xlink:href=\"#m8913dcc1f0\" y=\"235.968208\"/>\n      </g>\n     </g>\n     <g id=\"text_18\">\n      <!-- 8.8 -->\n      <g style=\"fill:#262626;\" transform=\"translate(775.82125 239.767426)scale(0.1 -0.1)\">\n       <use xlink:href=\"#DejaVuSans-56\"/>\n       <use x=\"63.623047\" xlink:href=\"#DejaVuSans-46\"/>\n       <use x=\"95.410156\" xlink:href=\"#DejaVuSans-56\"/>\n      </g>\n     </g>\n    </g>\n    <g id=\"ytick_9\">\n     <g id=\"line2d_17\">\n      <g>\n       <use style=\"fill:#262626;stroke:#262626;stroke-width:0.8;\" x=\"768.82125\" xlink:href=\"#m8913dcc1f0\" y=\"188.653385\"/>\n      </g>\n     </g>\n     <g id=\"text_19\">\n      <!-- 9.0 -->\n      <g style=\"fill:#262626;\" transform=\"translate(775.82125 192.452604)scale(0.1 -0.1)\">\n       <use xlink:href=\"#DejaVuSans-57\"/>\n       <use x=\"63.623047\" xlink:href=\"#DejaVuSans-46\"/>\n       <use x=\"95.410156\" xlink:href=\"#DejaVuSans-48\"/>\n      </g>\n     </g>\n    </g>\n    <g id=\"ytick_10\">\n     <g id=\"line2d_18\">\n      <g>\n       <use style=\"fill:#262626;stroke:#262626;stroke-width:0.8;\" x=\"768.82125\" xlink:href=\"#m8913dcc1f0\" y=\"141.338562\"/>\n      </g>\n     </g>\n     <g id=\"text_20\">\n      <!-- 9.2 -->\n      <g style=\"fill:#262626;\" transform=\"translate(775.82125 145.137781)scale(0.1 -0.1)\">\n       <use xlink:href=\"#DejaVuSans-57\"/>\n       <use x=\"63.623047\" xlink:href=\"#DejaVuSans-46\"/>\n       <use x=\"95.410156\" xlink:href=\"#DejaVuSans-50\"/>\n      </g>\n     </g>\n    </g>\n    <g id=\"ytick_11\">\n     <g id=\"line2d_19\">\n      <g>\n       <use style=\"fill:#262626;stroke:#262626;stroke-width:0.8;\" x=\"768.82125\" xlink:href=\"#m8913dcc1f0\" y=\"94.023739\"/>\n      </g>\n     </g>\n     <g id=\"text_21\">\n      <!-- 9.4 -->\n      <g style=\"fill:#262626;\" transform=\"translate(775.82125 97.822958)scale(0.1 -0.1)\">\n       <use xlink:href=\"#DejaVuSans-57\"/>\n       <use x=\"63.623047\" xlink:href=\"#DejaVuSans-46\"/>\n       <use x=\"95.410156\" xlink:href=\"#DejaVuSans-52\"/>\n      </g>\n     </g>\n    </g>\n    <g id=\"ytick_12\">\n     <g id=\"line2d_20\">\n      <g>\n       <use style=\"fill:#262626;stroke:#262626;stroke-width:0.8;\" x=\"768.82125\" xlink:href=\"#m8913dcc1f0\" y=\"46.708916\"/>\n      </g>\n     </g>\n     <g id=\"text_22\">\n      <!-- 9.6 -->\n      <g style=\"fill:#262626;\" transform=\"translate(775.82125 50.508135)scale(0.1 -0.1)\">\n       <use xlink:href=\"#DejaVuSans-57\"/>\n       <use x=\"63.623047\" xlink:href=\"#DejaVuSans-46\"/>\n       <use x=\"95.410156\" xlink:href=\"#DejaVuSans-54\"/>\n      </g>\n     </g>\n    </g>\n   </g>\n   <image height=\"271\" id=\"imagec045ee240f\" transform=\"scale(1 -1)translate(0 -271)\" width=\"14\" x=\"755\" xlink:href=\"data:image/png;base64,\niVBORw0KGgoAAAANSUhEUgAAAA4AAAEPCAYAAAByY/XAAAAABHNCSVQICAgIfAhkiAAAAXtJREFUaIHtmNGNAjEQQ5Noy6IGiqYtjg0VwMcb6Y187P5bHnvsCWLe7o89wHfMNQluHHMuCMSMCzIuWyNDjRZzMONqCEBMVhdex9TN+YkAMCAvMr85Ockp3FU/qzG1wuZErQPhOGPDi9wQOeqqn5yCOQjXUyuEa6kVN0dmrBQZAnlW+Tog0M+qfsk7RuXrsBkLBxkzMmChyDnr8CMXNSr6yyrMVagxKQCDaey4AHpW+ajQ1ag+BmnMGRW7SvdYKDJ31TankBz2JWkMYiwUWTfHBlZe5BSNLcATArGrW9e4qcaL8RujXuQgV3nIIePAjDmuNmikjIMz2uugo1aKbLvqJ6eDUQ/5aZvToPFax8ePXwC/yAVzgkbVQ376jP/fnG0zNhR5+3vUGbnGmORUAmDvcevJ4Rr13+R41KCQN0ROdzUo5A3mxDBWXuQUjS2MMaOer5hRr3V8/pJe5I6s6hrpqL5GzvjKCQBexx9lfMqMhQtgj3rsJ0yOvo43OE5YBpW3M0kAAAAASUVORK5CYII=\" y=\"-22\"/>\n   <g id=\"patch_9\">\n    <path d=\"M 755.23125 294.118125 \nL 755.23125 293.056406 \nL 755.23125 23.379844 \nL 755.23125 22.318125 \nL 768.82125 22.318125 \nL 768.82125 23.379844 \nL 768.82125 293.056406 \nL 768.82125 294.118125 \nz\n\" style=\"fill:none;stroke:#ffffff;stroke-linejoin:miter;stroke-width:0.8;\"/>\n   </g>\n  </g>\n </g>\n <defs>\n  <clipPath id=\"pa0dff6c98d\">\n   <rect height=\"271.8\" width=\"669.6\" x=\"43.78125\" y=\"22.318125\"/>\n  </clipPath>\n  <clipPath id=\"p0442966132\">\n   <rect height=\"271.8\" width=\"13.59\" x=\"755.23125\" y=\"22.318125\"/>\n  </clipPath>\n </defs>\n</svg>\n",
            "image/png": "[encoded data removed]"
          },
          "metadata": {}
        }
      ]
    },
    {
      "cell_type": "markdown",
      "metadata": {
        "id": "gb3_R42zbV5q",
        "colab_type": "text"
      },
      "source": [
        "# Classifier"
      ]
    },
    {
      "cell_type": "markdown",
      "metadata": {
        "id": "jq0E1D6kbV5q",
        "colab_type": "text"
      },
      "source": [
        "## Data"
      ]
    },
    {
      "cell_type": "code",
      "metadata": {
        "ExecuteTime": {
          "end_time": "2020-05-07T08:40:58.411925Z",
          "start_time": "2020-05-07T08:40:57.415324Z"
        },
        "id": "d0fjvkRdbV5q",
        "colab_type": "code",
        "colab": {
          "base_uri": "https://localhost:8080/",
          "height": 306
        },
        "outputId": "f20ea86c-70b1-4b02-c869-8aebef8a7e07"
      },
      "source": [
        "from sklearn.datasets import fetch_openml\n",
        "dataset = fetch_openml(name='credit-g', version=1, as_frame=True)\n",
        "dataset.target = dataset.target.astype('category').cat.codes\n",
        "dataset.data.head(5)"
      ],
      "execution_count": null,
      "outputs": []
    },
    {
      "cell_type": "code",
      "metadata": {
        "ExecuteTime": {
          "end_time": "2020-05-07T08:41:00.468954Z",
          "start_time": "2020-05-07T08:41:00.448904Z"
        },
        "id": "-oOpKUzBbV5u",
        "colab_type": "code",
        "colab": {
          "base_uri": "https://localhost:8080/",
          "height": 34
        },
        "outputId": "b9f59b2c-d080-4931-bcca-21d9b4ab44d3"
      },
      "source": [
        "X_train, X_test, y_train, y_test = train_test_split(dataset.data, \n",
        "                                                    dataset.target,\n",
        "                                                    test_size=0.25, \n",
        "                                                    random_state=RANDOM_SEED,)\n",
        "X_train.shape, X_test.shape"
      ],
      "execution_count": null,
      "outputs": []
    },
    {
      "cell_type": "markdown",
      "metadata": {
        "id": "w9iD1uIcbV5w",
        "colab_type": "text"
      },
      "source": [
        "## Model"
      ]
    },
    {
      "cell_type": "code",
      "metadata": {
        "ExecuteTime": {
          "end_time": "2020-05-07T08:41:18.151442Z",
          "start_time": "2020-05-07T08:41:16.348597Z"
        },
        "id": "t3HLXhTwbV5w",
        "colab_type": "code",
        "colab": {}
      },
      "source": [
        "from automl_alex import CatBoostClassifier\n",
        "model = CatBoostClassifier(X_train, y_train, X_test, random_state=RANDOM_SEED)"
      ],
      "execution_count": null,
      "outputs": []
    },
    {
      "cell_type": "code",
      "execution_count": null,
      "metadata": {},
      "outputs": [],
      "source": [
        "model = model._fit()"
      ]
    },
    {
      "cell_type": "code",
      "execution_count": null,
      "metadata": {},
      "outputs": [],
      "source": [
        "predicts = model._predict_proba()\n",
        "predicts"
      ]
    },
    {
      "cell_type": "code",
      "execution_count": null,
      "metadata": {
        "tags": []
      },
      "outputs": [],
      "source": [
        "print('Test AUC: ', round(sklearn.metrics.roc_auc_score(y_test, predicts),4))"
      ]
    },
    {
      "cell_type": "code",
      "execution_count": null,
      "metadata": {
        "tags": []
      },
      "outputs": [],
      "source": [
        "model.cross_val(print_metric=True)"
      ]
    },
    {
      "cell_type": "code",
      "execution_count": null,
      "metadata": {
        "tags": []
      },
      "outputs": [],
      "source": [
        "stacking_y_pred_test, stacking_y_pred_train = model.cross_val(print_metric=True, predict=True)\n",
        "print('Test AUC: ', round(sklearn.metrics.roc_auc_score(y_test, stacking_y_pred_test),4))"
      ]
    },
    {
      "cell_type": "code",
      "metadata": {
        "ExecuteTime": {
          "end_time": "2020-05-07T08:41:32.880152Z",
          "start_time": "2020-05-07T08:41:18.804741Z"
        },
        "id": "bMT5yiFCbV52",
        "colab_type": "code",
        "colab": {
          "base_uri": "https://localhost:8080/",
          "height": 34
        },
        "outputId": "6d6d2866-5168-4018-9f02-7a8989814125",
        "tags": []
      },
      "source": [
        "# fit with default model parameters\n",
        "model.fit()\n",
        "predicts = model.predict()\n",
        "print('Test AUC: ', round(sklearn.metrics.roc_auc_score(y_test, predicts['predict_test'][0]),4))"
      ],
      "execution_count": null,
      "outputs": []
    },
    {
      "cell_type": "markdown",
      "metadata": {
        "id": "JCAaEnV_bV55",
        "colab_type": "text"
      },
      "source": [
        "### Optimize"
      ]
    },
    {
      "cell_type": "code",
      "metadata": {
        "ExecuteTime": {
          "end_time": "2020-05-07T06:17:16.137351Z",
          "start_time": "2020-05-07T06:08:51.881924Z"
        },
        "id": "CzU8b06dbV56",
        "colab_type": "code",
        "colab": {
          "base_uri": "https://localhost:8080/",
          "height": 187
        },
        "outputId": "a5bfc2ef-fe70-413f-b83c-28fafd394d20",
        "tags": []
      },
      "source": [
        "history = model.opt(timeout=800, verbose=1)"
      ],
      "execution_count": null,
      "outputs": []
    },
    {
      "cell_type": "code",
      "metadata": {
        "ExecuteTime": {
          "end_time": "2020-05-07T06:17:30.429843Z",
          "start_time": "2020-05-07T06:17:16.141226Z"
        },
        "id": "Dt8R7DwJbV57",
        "colab_type": "code",
        "colab": {
          "base_uri": "https://localhost:8080/",
          "height": 51
        },
        "outputId": "cff09b5c-56a9-4316-c89d-206be7ca1962",
        "tags": []
      },
      "source": [
        "predicts = model.predict()\n",
        "print('Test AUC: ', round(sklearn.metrics.roc_auc_score(y_test, predicts['predict_test'][0]),4))"
      ],
      "execution_count": null,
      "outputs": []
    },
    {
      "cell_type": "code",
      "metadata": {
        "ExecuteTime": {
          "end_time": "2020-05-07T06:17:30.836607Z",
          "start_time": "2020-05-07T06:17:30.434634Z"
        },
        "id": "_8DQlxECbV58",
        "colab_type": "code",
        "colab": {
          "base_uri": "https://localhost:8080/",
          "height": 350
        },
        "outputId": "5f39df30-709d-4295-a7f0-1a907d4bf4ef"
      },
      "source": [
        "model.plot_opt_history()"
      ],
      "execution_count": null,
      "outputs": []
    },
    {
      "cell_type": "markdown",
      "metadata": {
        "id": "ECaRp0ADbV5_",
        "colab_type": "text"
      },
      "source": [
        "# How it works\n",
        "first let's look at all the parameters available to us     \n",
        "для начала посмотрим все доступные нам параметры"
      ]
    },
    {
      "cell_type": "markdown",
      "metadata": {
        "id": "RiYgobwBbV6A",
        "colab_type": "text"
      },
      "source": [
        "```python\n",
        "model = LightGBMClassifier(\n",
        "    X_train, \n",
        "    y_train, \n",
        "    X_test, # be sure to specify X_test, because the encoder needs all dataset to work.\n",
        "    cat_features=None, # see in 03. Data Cleaning and Encoding (DataBunch).ipynb\n",
        "    clean_and_encod_data=True, # see in 03. Data Cleaning and Encoding (DataBunch).ipynb\n",
        "    cat_encoder_name='OneHotEncoder', # see in 03. Data Cleaning and Encoding (DataBunch).ipynb\n",
        "    target_encoder_name='JamesSteinEncoder', # see in 03. Data Cleaning and Encoding (DataBunch).ipynb\n",
        "    clean_nan=True, # see in 03. Data Cleaning and Encoding (DataBunch).ipynb\n",
        "    databunch=None, # see in 03. Data Cleaning and Encoding (DataBunch).ipynb\n",
        "    model_param=None, # default model parameters\n",
        "    wrapper_params=None, # default wrapper_params parameters\n",
        "    auto_parameters=True, # automatic selection of optimization parameters\n",
        "    cv=10, # Cross-validation folds\n",
        "    score_cv_folds=5, # how many folds are actually used for score\n",
        "    opt_lvl=3, # depth of selection of parameters\n",
        "    metric=sklearn.metrics.roc_auc_score, # any metric from sklearn\n",
        "    direction='maximize', # optimization direction\n",
        "    combined_score_opt=True, # score_opt = score - std\n",
        "    metric_round=4, \n",
        "    cold_start=150, # how many iterations the selection of parameters will be random\n",
        "    gpu=False, \n",
        "    random_state=RANDOM_SEED,\n",
        "    )\n",
        "```\n",
        "**Let's look at the important parameters and what they give.**"
      ]
    },
    {
      "cell_type": "markdown",
      "metadata": {
        "id": "vpZzOYVtbV6A",
        "colab_type": "text"
      },
      "source": [
        "### *model_param*\n",
        "parameters of the model itself. As you already understood, to work with the library itself, I use some kind of wrapper, but *model_param* pass the settings directly to the model itself"
      ]
    },
    {
      "cell_type": "code",
      "execution_count": 15,
      "metadata": {},
      "outputs": [
        {
          "output_type": "execute_result",
          "data": {
            "text/plain": "{'random_seed': 42,\n 'early_stopping_rounds': 50,\n 'num_iterations': 200,\n 'verbose': -1,\n 'device_type': 'cpu',\n 'objective': 'binary',\n 'min_child_samples': 3,\n 'learning_rate': 0.01,\n 'num_leaves': 31,\n 'bagging_fraction': 0.5,\n 'feature_fraction': 0.3,\n 'bagging_freq': 5}"
          },
          "metadata": {},
          "execution_count": 15
        }
      ],
      "source": [
        "model.model_param"
      ]
    },
    {
      "cell_type": "markdown",
      "metadata": {
        "id": "CZ54eTqTbV6E",
        "colab_type": "text"
      },
      "source": [
        "### *wrapper_params*\n",
        "Here we specify the settings of the wrapper. For example, for some algorithms (such as networks), we need to normalize the data. But this is not a reason to do it for the all dataset if we are opt various algorithms. For this reason, specifying *'need_norm_data': False* of the wrapper will automatically normalize the data (you can even choose normalization options)for this algorithm.\n",
        "\n",
        "Здесь мы указываем настройки обертки. Например для некоторых алгоритмов (например сети) нам нужно проводить нормализацию данных. Но это не повод делать для всего датасета целиком если у нас происходит перебор различных алгоритмов. По этому указав *'need_norm_data': False* оберкта автоматически произведет нормализацию данных (можно даже выбрать варианты нормализации) именно для этого алгоритма."
      ]
    },
    {
      "cell_type": "code",
      "metadata": {
        "ExecuteTime": {
          "end_time": "2020-05-07T08:11:10.910951Z",
          "start_time": "2020-05-07T08:11:10.903054Z"
        },
        "id": "8VpoM57vbV6D",
        "colab_type": "code",
        "colab": {
          "base_uri": "https://localhost:8080/",
          "height": 34
        },
        "outputId": "6bd084b3-6435-44fa-bffd-a07e2acf7782"
      },
      "source": [
        "model.wrapper_params"
      ],
      "execution_count": 16,
      "outputs": [
        {
          "output_type": "execute_result",
          "data": {
            "text/plain": "{'early_stopping': False}"
          },
          "metadata": {},
          "execution_count": 16
        }
      ]
    },
    {
      "cell_type": "markdown",
      "metadata": {
        "id": "SvXrBLljbV6F",
        "colab_type": "text"
      },
      "source": [
        "### *metric* and *direction*\n",
        "you can use standard metrics from sklearn.metrics or add custom metrics. Be sure to indicate the direction of improvement of the metric     \n",
        "\n",
        "вы можете использовать стандартные метрики из sklearn.metrics или добавить кастомную. Обязательно указывайте направление улучшения метрики"
      ]
    },
    {
      "cell_type": "markdown",
      "metadata": {
        "ExecuteTime": {
          "end_time": "2020-05-07T06:54:12.453492Z",
          "start_time": "2020-05-07T06:54:12.439012Z"
        },
        "id": "kjruMAqEbV6F",
        "colab_type": "text"
      },
      "source": [
        "## Optimization\n",
        "\n",
        "```python\n",
        "history = model.opt(\n",
        "            timeout=100, # optimization time in seconds\n",
        "            auto_parameters=None, # automatic selection of optimization parameters\n",
        "            cv=10, # Cross-validation folds\n",
        "            score_cv_folds=5, # how many folds are actually used for score\n",
        "            cold_start=None, # how many iterations the selection of parameters will be random\n",
        "            opt_lvl=None, # depth of selection of parameters\n",
        "            direction=None, # optimization direction\n",
        "            early_stoping=100, # stop otimization if no better parameters are found through iterations\n",
        "            opt_encoders=False, # select encoders for data\n",
        "            cat_encoder_names=None,\n",
        "            target_cat_encoder_names=None,\n",
        "            save_to_sqlite=False, # experimentally\n",
        "            verbose=1,)\n",
        "```\n",
        "\n",
        "To optimize hyperparameters used Optuna (https://optuna.org), but with some modifications. Inside Optuna uses the TPE algorithm.\n",
        "\n",
        "good visualization from: https://medium.com/criteo-labs/hyper-parameter-optimization-algorithms-2fe447525903\n",
        "<img src=\"https://miro.medium.com/max/2000/1*m1JYCHHhbmn6TCHcJIklZA.gif\" width=\"800\">\n"
      ]
    },
    {
      "cell_type": "markdown",
      "metadata": {
        "id": "IbtbRVMebV6F",
        "colab_type": "text"
      },
      "source": [
        "### *cv* and *score_cv_folds*\n",
        "In training, I use cross validation. But if we don’t have much time, then we go to the trick, and learn only part of the folds (score_cv_folds)    \n",
        "\n",
        "В обучении я использую кросс валидацию. Но если у нас мало времени то мы идем на хитрость, и обучаемся только на части фолдов (score_cv_folds)\n"
      ]
    },
    {
      "cell_type": "markdown",
      "metadata": {
        "ExecuteTime": {
          "end_time": "2020-05-07T08:00:39.460470Z",
          "start_time": "2020-05-07T08:00:39.424490Z"
        },
        "id": "D9xT9cTgbV6F",
        "colab_type": "text"
      },
      "source": [
        "### *cold_start*\n",
        "In the *cold_start* parameter, we specify how many iterations we give for this warm-up.\n",
        "before the algorithm starts searching for optimal parameters, it must collect statistics on the represented space.this is why it starts in the randomsample solution at the beginning. The longer it works in this mode , the less likely it is to get stuck in the local minimum. But if you take too long to warm up, you may not have time to search with a more \"smart\" algorithm. Therefore, it is important to maintain a balance. \n",
        "\n",
        "перед тем как алгоритм начинает поиск оптимальных параметров, он должен собрать статистику по представляемому пространству, по этому в начале он запускаеться в решиме randomsample. Чем дольше он проработает в этом режиме - тем меньше вероятность что он застрянет в локальном минимуме. Но если слишком долго делать прогрев - то может не остаться времени на поиск с более \"умным\" алгоритмом. Поэтому важно соблюдать баланс. В параметре cold_start указываем сколько итераций мы даем на этот прогрев. "
      ]
    },
    {
      "cell_type": "markdown",
      "metadata": {
        "id": "apIHobyxbV6F",
        "colab_type": "text"
      },
      "source": [
        "### *opt_lvl*\n",
        "by limiting the optimization time, we will have to choose how deep we should optimize the parameters. Perhaps some parameters are not so important and can only give a fraction of a percent. By setting the opt_lvl parameter, you control the depth of optimization.\n",
        "\n",
        "in the code *automl_alex.models.model_lightgbm.LightGBM* you can find how parameters are substituted for iteration:\n",
        "\n",
        "```python\n",
        "....\n",
        "def get_model_opt_params(self, trial):\n",
        "    \"\"\"\n",
        "    Return:\n",
        "        dict of DistributionWrappers\n",
        "    \"\"\"\n",
        "    self._init_model_param()\n",
        "    ################################# LVL 1 ########################################\n",
        "    if self._opt_lvl == 1:\n",
        "        self.model_param['num_leaves'] = trial.suggest_int('lgbm_num_leaves', 2, 50,)\n",
        "\n",
        "    if self._opt_lvl >= 1:\n",
        "        self.model_param['min_child_samples'] = trial.suggest_int('lgbm_min_child_samples', 2, \\\n",
        "                                                                    (len(self.X_train)//100))\n",
        "\n",
        "    ################################# LVL 2 ########################################\n",
        "    if self._opt_lvl == 2:\n",
        "        self.model_param['learning_rate'] = trial.suggest_int('lgbm_learning_rate', 1, 11)/100\n",
        "        self.model_param['num_leaves'] = trial.suggest_int('lgbm_num_leaves', 2, 50,)\n",
        "        \n",
        "        if not self.wrapper_params['early_stopping']:\n",
        "            self.model_param['num_iterations'] = trial.suggest_int('lgbm_num_iterations', 1, 3,)*100\n",
        "\n",
        "    if self._opt_lvl >= 2:\n",
        "        self.model_param['bagging_fraction'] = trial.suggest_discrete_uniform('lgbm_bagging_fraction', 0.4, 1., 0.1)\n",
        "        if self.model_param['bagging_fraction'] < 1.:\n",
        "            self.model_param['feature_fraction'] = trial.suggest_discrete_uniform('lgbm_feature_fraction', 0.3, 1., 0.1)\n",
        "            self.model_param['bagging_freq'] = trial.suggest_int('lgbm_bagging_freq', 2, 11,)\n",
        "    \n",
        "    ################################# LVL 3 ########################################\n",
        "    if self._opt_lvl == 3:\n",
        "        self.model_param['learning_rate'] = trial.suggest_int('lgbm_learning_rate', 1, 100)/1000\n",
        "...\n",
        "```\n",
        "\n",
        "ограничивая время оптимизации, нам придется выбирать насколько глубоко мы должны оптимизировать параметры. Возможно некоторые параметры не так важны и могут дать лишь доли процента. Устанавливая параметр opt_lvl вы регулируете глубину оптимизации."
      ]
    },
    {
      "cell_type": "markdown",
      "metadata": {
        "id": "tl8zhvjVbV6G",
        "colab_type": "text"
      },
      "source": [
        "### *auto_parameters*\n",
        "If we don't want to select anything, we just set *auto_parameters=True*. Then the algorithm itself will select, depending on the time allotted to it, the optimal values for:\n",
        "* cv \n",
        "* score_cv_folds\n",
        "* cold_start\n",
        "* opt_lvl\n",
        "\n",
        "Если мы не хотим ни чего подбирать, то просто устанавливаем auto_parameters=True. Тогда алгоритм сам подберет, в зависимости от выделенного ему времени, оптимальные значения этих параметров."
      ]
    },
    {
      "cell_type": "markdown",
      "metadata": {
        "id": "UyDu6ufSbV6G",
        "colab_type": "text"
      },
      "source": [
        "# Advanced Use"
      ]
    },
    {
      "cell_type": "code",
      "metadata": {
        "ExecuteTime": {
          "end_time": "2020-05-07T08:41:34.627100Z",
          "start_time": "2020-05-07T08:41:32.908965Z"
        },
        "id": "YrskBROvbV6G",
        "colab_type": "code",
        "colab": {}
      },
      "source": [
        "model = LightGBMClassifier(\n",
        "    X_train, \n",
        "    y_train, \n",
        "    X_test,\n",
        "    cv=10, # .fit_predict use cv to\n",
        "    metric=sklearn.metrics.log_loss, # log_loss\n",
        "    direction='minimize', # changed optimization direction for log_loss\n",
        "    combined_score_opt=True, # in 'minimize' score_opt = score + std\n",
        "    metric_round=4, \n",
        "    gpu=False, \n",
        "    random_state=RANDOM_SEED,\n",
        "    )"
      ],
      "execution_count": 17,
      "outputs": []
    },
    {
      "cell_type": "code",
      "metadata": {
        "ExecuteTime": {
          "end_time": "2020-05-07T08:41:47.459524Z",
          "start_time": "2020-05-07T08:41:34.629425Z"
        },
        "id": "uGj15m_PbV6H",
        "colab_type": "code",
        "colab": {
          "base_uri": "https://localhost:8080/",
          "height": 51
        },
        "outputId": "f944ec25-e352-459d-a90c-5acdafcd7b2c",
        "tags": []
      },
      "source": [
        "predicts = model.predict()\n",
        "print('Test metric: ', round(sklearn.metrics.log_loss(y_test, predicts['predict_test'][0]),4))"
      ],
      "execution_count": 18,
      "outputs": [
        {
          "output_type": "stream",
          "name": "stderr",
          "text": "100%|██████████| 1/1 [00:09<00:00,  9.69s/it]\n Mean Score log_loss on 30 Folds: 0.8171 std: 0.142218\nTest metric:  0.5959\n\n"
        }
      ]
    },
    {
      "cell_type": "markdown",
      "metadata": {},
      "source": [
        "## Advanced opt"
      ]
    },
    {
      "cell_type": "code",
      "metadata": {
        "ExecuteTime": {
          "end_time": "2020-05-07T08:52:14.362888Z",
          "start_time": "2020-05-07T08:42:07.420500Z"
        },
        "id": "7GMuIW6UbV6J",
        "colab_type": "code",
        "colab": {
          "base_uri": "https://localhost:8080/",
          "height": 187
        },
        "outputId": "ca594d1b-bd4b-42cf-ff1a-6444add1ae92",
        "tags": []
      },
      "source": [
        "history = model.opt(\n",
        "            timeout=600, # sec\n",
        "            auto_parameters=False, # try to set the rules ourselves\n",
        "            cv_folds=10,\n",
        "            score_cv_folds=3, # put 3 folds\n",
        "            cold_start=50, # I plan > 200 iterations. 50 iterations are enough to evaluate the space\n",
        "            opt_lvl=3,\n",
        "            early_stoping=100, # stop otimization if no better parameters are found through iterations\n",
        "            verbose=1,)"
      ],
      "execution_count": 27,
      "outputs": [
        {
          "output_type": "stream",
          "name": "stdout",
          "text": "One iteration takes ~ 0.6 sec\nStart optimization with the parameters:\nCV_Folds =  10\nScore_CV_Folds =  3\nOpt_lvl =  3\nCold_start =  50\nEarly_stoping =  100\nMetric =  log_loss\nDirection =  minimize\nDefault model log_loss = 0.5119\n########################################\nOptimize: : 127it [10:08,  4.79s/it, LightGBM Best Score log_loss = 0.5087 +- 0.033104]\n"
        }
      ]
    },
    {
      "cell_type": "code",
      "metadata": {
        "ExecuteTime": {
          "end_time": "2020-05-07T08:52:50.083150Z",
          "start_time": "2020-05-07T08:52:14.366249Z"
        },
        "id": "H0SxAZPbbV6L",
        "colab_type": "code",
        "colab": {
          "base_uri": "https://localhost:8080/",
          "height": 51
        },
        "outputId": "23308887-3710-4f7b-feb8-7b7b65e29716",
        "tags": []
      },
      "source": [
        "predicts = model.predict()\n",
        "print('Test metric: ', round(sklearn.metrics.log_loss(y_test, predicts['predict_test'][0]),4))"
      ],
      "execution_count": 28,
      "outputs": [
        {
          "output_type": "stream",
          "name": "stderr",
          "text": "100%|██████████| 1/1 [01:43<00:00, 103.26s/it]\n Mean Score log_loss on 30 Folds: 0.5202 std: 0.039194\nTest metric:  0.4899\n\n"
        }
      ]
    },
    {
      "cell_type": "code",
      "metadata": {
        "id": "m52jjJJlbV6M",
        "colab_type": "code",
        "colab": {
          "base_uri": "https://localhost:8080/",
          "height": 350
        },
        "outputId": "6c08ebd5-ef2a-4b24-aecb-1f3dce418918"
      },
      "source": [
        "model.plot_opt_history()"
      ],
      "execution_count": 29,
      "outputs": [
        {
          "output_type": "display_data",
          "data": {
            "text/plain": "<Figure size 1080x360 with 2 Axes>",
            "image/svg+xml": "<?xml version=\"1.0\" encoding=\"utf-8\" standalone=\"no\"?>\n<!DOCTYPE svg PUBLIC \"-//W3C//DTD SVG 1.1//EN\"\n  \"http://www.w3.org/Graphics/SVG/1.1/DTD/svg11.dtd\">\n<!-- Created with matplotlib (https://matplotlib.org/) -->\n<svg height=\"331.674375pt\" version=\"1.1\" viewBox=\"0 0 802.10875 331.674375\" width=\"802.10875pt\" xmlns=\"http://www.w3.org/2000/svg\" xmlns:xlink=\"http://www.w3.org/1999/xlink\">\n <defs>\n  <style type=\"text/css\">\n*{stroke-linecap:butt;stroke-linejoin:round;}\n  </style>\n </defs>\n <g id=\"figure_1\">\n  <g id=\"patch_1\">\n   <path d=\"M 0 331.674375 \nL 802.10875 331.674375 \nL 802.10875 0 \nL 0 0 \nz\n\" style=\"fill:#ffffff;\"/>\n  </g>\n  <g id=\"axes_1\">\n   <g id=\"patch_2\">\n    <path d=\"M 50.14375 294.118125 \nL 719.74375 294.118125 \nL 719.74375 22.318125 \nL 50.14375 22.318125 \nz\n\" style=\"fill:#eaeaf2;\"/>\n   </g>\n   <g id=\"matplotlib.axis_1\">\n    <g id=\"xtick_1\">\n     <g id=\"line2d_1\">\n      <path clip-path=\"url(#p2ddafe30c5)\" d=\"M 80.580114 294.118125 \nL 80.580114 22.318125 \n\" style=\"fill:none;stroke:#ffffff;stroke-linecap:round;stroke-width:0.8;\"/>\n     </g>\n     <g id=\"text_1\">\n      <!-- 0 -->\n      <defs>\n       <path d=\"M 31.78125 66.40625 \nQ 24.171875 66.40625 20.328125 58.90625 \nQ 16.5 51.421875 16.5 36.375 \nQ 16.5 21.390625 20.328125 13.890625 \nQ 24.171875 6.390625 31.78125 6.390625 \nQ 39.453125 6.390625 43.28125 13.890625 \nQ 47.125 21.390625 47.125 36.375 \nQ 47.125 51.421875 43.28125 58.90625 \nQ 39.453125 66.40625 31.78125 66.40625 \nz\nM 31.78125 74.21875 \nQ 44.046875 74.21875 50.515625 64.515625 \nQ 56.984375 54.828125 56.984375 36.375 \nQ 56.984375 17.96875 50.515625 8.265625 \nQ 44.046875 -1.421875 31.78125 -1.421875 \nQ 19.53125 -1.421875 13.0625 8.265625 \nQ 6.59375 17.96875 6.59375 36.375 \nQ 6.59375 54.828125 13.0625 64.515625 \nQ 19.53125 74.21875 31.78125 74.21875 \nz\n\" id=\"DejaVuSans-48\"/>\n      </defs>\n      <g style=\"fill:#262626;\" transform=\"translate(77.398864 308.716563)scale(0.1 -0.1)\">\n       <use xlink:href=\"#DejaVuSans-48\"/>\n      </g>\n     </g>\n    </g>\n    <g id=\"xtick_2\">\n     <g id=\"line2d_2\">\n      <path clip-path=\"url(#p2ddafe30c5)\" d=\"M 177.20349 294.118125 \nL 177.20349 22.318125 \n\" style=\"fill:none;stroke:#ffffff;stroke-linecap:round;stroke-width:0.8;\"/>\n     </g>\n     <g id=\"text_2\">\n      <!-- 20 -->\n      <defs>\n       <path d=\"M 19.1875 8.296875 \nL 53.609375 8.296875 \nL 53.609375 0 \nL 7.328125 0 \nL 7.328125 8.296875 \nQ 12.9375 14.109375 22.625 23.890625 \nQ 32.328125 33.6875 34.8125 36.53125 \nQ 39.546875 41.84375 41.421875 45.53125 \nQ 43.3125 49.21875 43.3125 52.78125 \nQ 43.3125 58.59375 39.234375 62.25 \nQ 35.15625 65.921875 28.609375 65.921875 \nQ 23.96875 65.921875 18.8125 64.3125 \nQ 13.671875 62.703125 7.8125 59.421875 \nL 7.8125 69.390625 \nQ 13.765625 71.78125 18.9375 73 \nQ 24.125 74.21875 28.421875 74.21875 \nQ 39.75 74.21875 46.484375 68.546875 \nQ 53.21875 62.890625 53.21875 53.421875 \nQ 53.21875 48.921875 51.53125 44.890625 \nQ 49.859375 40.875 45.40625 35.40625 \nQ 44.1875 33.984375 37.640625 27.21875 \nQ 31.109375 20.453125 19.1875 8.296875 \nz\n\" id=\"DejaVuSans-50\"/>\n      </defs>\n      <g style=\"fill:#262626;\" transform=\"translate(170.84099 308.716563)scale(0.1 -0.1)\">\n       <use xlink:href=\"#DejaVuSans-50\"/>\n       <use x=\"63.623047\" xlink:href=\"#DejaVuSans-48\"/>\n      </g>\n     </g>\n    </g>\n    <g id=\"xtick_3\">\n     <g id=\"line2d_3\">\n      <path clip-path=\"url(#p2ddafe30c5)\" d=\"M 273.826867 294.118125 \nL 273.826867 22.318125 \n\" style=\"fill:none;stroke:#ffffff;stroke-linecap:round;stroke-width:0.8;\"/>\n     </g>\n     <g id=\"text_3\">\n      <!-- 40 -->\n      <defs>\n       <path d=\"M 37.796875 64.3125 \nL 12.890625 25.390625 \nL 37.796875 25.390625 \nz\nM 35.203125 72.90625 \nL 47.609375 72.90625 \nL 47.609375 25.390625 \nL 58.015625 25.390625 \nL 58.015625 17.1875 \nL 47.609375 17.1875 \nL 47.609375 0 \nL 37.796875 0 \nL 37.796875 17.1875 \nL 4.890625 17.1875 \nL 4.890625 26.703125 \nz\n\" id=\"DejaVuSans-52\"/>\n      </defs>\n      <g style=\"fill:#262626;\" transform=\"translate(267.464367 308.716563)scale(0.1 -0.1)\">\n       <use xlink:href=\"#DejaVuSans-52\"/>\n       <use x=\"63.623047\" xlink:href=\"#DejaVuSans-48\"/>\n      </g>\n     </g>\n    </g>\n    <g id=\"xtick_4\">\n     <g id=\"line2d_4\">\n      <path clip-path=\"url(#p2ddafe30c5)\" d=\"M 370.450244 294.118125 \nL 370.450244 22.318125 \n\" style=\"fill:none;stroke:#ffffff;stroke-linecap:round;stroke-width:0.8;\"/>\n     </g>\n     <g id=\"text_4\">\n      <!-- 60 -->\n      <defs>\n       <path d=\"M 33.015625 40.375 \nQ 26.375 40.375 22.484375 35.828125 \nQ 18.609375 31.296875 18.609375 23.390625 \nQ 18.609375 15.53125 22.484375 10.953125 \nQ 26.375 6.390625 33.015625 6.390625 \nQ 39.65625 6.390625 43.53125 10.953125 \nQ 47.40625 15.53125 47.40625 23.390625 \nQ 47.40625 31.296875 43.53125 35.828125 \nQ 39.65625 40.375 33.015625 40.375 \nz\nM 52.59375 71.296875 \nL 52.59375 62.3125 \nQ 48.875 64.0625 45.09375 64.984375 \nQ 41.3125 65.921875 37.59375 65.921875 \nQ 27.828125 65.921875 22.671875 59.328125 \nQ 17.53125 52.734375 16.796875 39.40625 \nQ 19.671875 43.65625 24.015625 45.921875 \nQ 28.375 48.1875 33.59375 48.1875 \nQ 44.578125 48.1875 50.953125 41.515625 \nQ 57.328125 34.859375 57.328125 23.390625 \nQ 57.328125 12.15625 50.6875 5.359375 \nQ 44.046875 -1.421875 33.015625 -1.421875 \nQ 20.359375 -1.421875 13.671875 8.265625 \nQ 6.984375 17.96875 6.984375 36.375 \nQ 6.984375 53.65625 15.1875 63.9375 \nQ 23.390625 74.21875 37.203125 74.21875 \nQ 40.921875 74.21875 44.703125 73.484375 \nQ 48.484375 72.75 52.59375 71.296875 \nz\n\" id=\"DejaVuSans-54\"/>\n      </defs>\n      <g style=\"fill:#262626;\" transform=\"translate(364.087744 308.716563)scale(0.1 -0.1)\">\n       <use xlink:href=\"#DejaVuSans-54\"/>\n       <use x=\"63.623047\" xlink:href=\"#DejaVuSans-48\"/>\n      </g>\n     </g>\n    </g>\n    <g id=\"xtick_5\">\n     <g id=\"line2d_5\">\n      <path clip-path=\"url(#p2ddafe30c5)\" d=\"M 467.07362 294.118125 \nL 467.07362 22.318125 \n\" style=\"fill:none;stroke:#ffffff;stroke-linecap:round;stroke-width:0.8;\"/>\n     </g>\n     <g id=\"text_5\">\n      <!-- 80 -->\n      <defs>\n       <path d=\"M 31.78125 34.625 \nQ 24.75 34.625 20.71875 30.859375 \nQ 16.703125 27.09375 16.703125 20.515625 \nQ 16.703125 13.921875 20.71875 10.15625 \nQ 24.75 6.390625 31.78125 6.390625 \nQ 38.8125 6.390625 42.859375 10.171875 \nQ 46.921875 13.96875 46.921875 20.515625 \nQ 46.921875 27.09375 42.890625 30.859375 \nQ 38.875 34.625 31.78125 34.625 \nz\nM 21.921875 38.8125 \nQ 15.578125 40.375 12.03125 44.71875 \nQ 8.5 49.078125 8.5 55.328125 \nQ 8.5 64.0625 14.71875 69.140625 \nQ 20.953125 74.21875 31.78125 74.21875 \nQ 42.671875 74.21875 48.875 69.140625 \nQ 55.078125 64.0625 55.078125 55.328125 \nQ 55.078125 49.078125 51.53125 44.71875 \nQ 48 40.375 41.703125 38.8125 \nQ 48.828125 37.15625 52.796875 32.3125 \nQ 56.78125 27.484375 56.78125 20.515625 \nQ 56.78125 9.90625 50.3125 4.234375 \nQ 43.84375 -1.421875 31.78125 -1.421875 \nQ 19.734375 -1.421875 13.25 4.234375 \nQ 6.78125 9.90625 6.78125 20.515625 \nQ 6.78125 27.484375 10.78125 32.3125 \nQ 14.796875 37.15625 21.921875 38.8125 \nz\nM 18.3125 54.390625 \nQ 18.3125 48.734375 21.84375 45.5625 \nQ 25.390625 42.390625 31.78125 42.390625 \nQ 38.140625 42.390625 41.71875 45.5625 \nQ 45.3125 48.734375 45.3125 54.390625 \nQ 45.3125 60.0625 41.71875 63.234375 \nQ 38.140625 66.40625 31.78125 66.40625 \nQ 25.390625 66.40625 21.84375 63.234375 \nQ 18.3125 60.0625 18.3125 54.390625 \nz\n\" id=\"DejaVuSans-56\"/>\n      </defs>\n      <g style=\"fill:#262626;\" transform=\"translate(460.71112 308.716563)scale(0.1 -0.1)\">\n       <use xlink:href=\"#DejaVuSans-56\"/>\n       <use x=\"63.623047\" xlink:href=\"#DejaVuSans-48\"/>\n      </g>\n     </g>\n    </g>\n    <g id=\"xtick_6\">\n     <g id=\"line2d_6\">\n      <path clip-path=\"url(#p2ddafe30c5)\" d=\"M 563.696997 294.118125 \nL 563.696997 22.318125 \n\" style=\"fill:none;stroke:#ffffff;stroke-linecap:round;stroke-width:0.8;\"/>\n     </g>\n     <g id=\"text_6\">\n      <!-- 100 -->\n      <defs>\n       <path d=\"M 12.40625 8.296875 \nL 28.515625 8.296875 \nL 28.515625 63.921875 \nL 10.984375 60.40625 \nL 10.984375 69.390625 \nL 28.421875 72.90625 \nL 38.28125 72.90625 \nL 38.28125 8.296875 \nL 54.390625 8.296875 \nL 54.390625 0 \nL 12.40625 0 \nz\n\" id=\"DejaVuSans-49\"/>\n      </defs>\n      <g style=\"fill:#262626;\" transform=\"translate(554.153247 308.716563)scale(0.1 -0.1)\">\n       <use xlink:href=\"#DejaVuSans-49\"/>\n       <use x=\"63.623047\" xlink:href=\"#DejaVuSans-48\"/>\n       <use x=\"127.246094\" xlink:href=\"#DejaVuSans-48\"/>\n      </g>\n     </g>\n    </g>\n    <g id=\"xtick_7\">\n     <g id=\"line2d_7\">\n      <path clip-path=\"url(#p2ddafe30c5)\" d=\"M 660.320373 294.118125 \nL 660.320373 22.318125 \n\" style=\"fill:none;stroke:#ffffff;stroke-linecap:round;stroke-width:0.8;\"/>\n     </g>\n     <g id=\"text_7\">\n      <!-- 120 -->\n      <g style=\"fill:#262626;\" transform=\"translate(650.776623 308.716563)scale(0.1 -0.1)\">\n       <use xlink:href=\"#DejaVuSans-49\"/>\n       <use x=\"63.623047\" xlink:href=\"#DejaVuSans-50\"/>\n       <use x=\"127.246094\" xlink:href=\"#DejaVuSans-48\"/>\n      </g>\n     </g>\n    </g>\n    <g id=\"text_8\">\n     <!-- Iter -->\n     <defs>\n      <path d=\"M 9.8125 72.90625 \nL 19.671875 72.90625 \nL 19.671875 0 \nL 9.8125 0 \nz\n\" id=\"DejaVuSans-73\"/>\n      <path d=\"M 18.3125 70.21875 \nL 18.3125 54.6875 \nL 36.8125 54.6875 \nL 36.8125 47.703125 \nL 18.3125 47.703125 \nL 18.3125 18.015625 \nQ 18.3125 11.328125 20.140625 9.421875 \nQ 21.96875 7.515625 27.59375 7.515625 \nL 36.8125 7.515625 \nL 36.8125 0 \nL 27.59375 0 \nQ 17.1875 0 13.234375 3.875 \nQ 9.28125 7.765625 9.28125 18.015625 \nL 9.28125 47.703125 \nL 2.6875 47.703125 \nL 2.6875 54.6875 \nL 9.28125 54.6875 \nL 9.28125 70.21875 \nz\n\" id=\"DejaVuSans-116\"/>\n      <path d=\"M 56.203125 29.59375 \nL 56.203125 25.203125 \nL 14.890625 25.203125 \nQ 15.484375 15.921875 20.484375 11.0625 \nQ 25.484375 6.203125 34.421875 6.203125 \nQ 39.59375 6.203125 44.453125 7.46875 \nQ 49.3125 8.734375 54.109375 11.28125 \nL 54.109375 2.78125 \nQ 49.265625 0.734375 44.1875 -0.34375 \nQ 39.109375 -1.421875 33.890625 -1.421875 \nQ 20.796875 -1.421875 13.15625 6.1875 \nQ 5.515625 13.8125 5.515625 26.8125 \nQ 5.515625 40.234375 12.765625 48.109375 \nQ 20.015625 56 32.328125 56 \nQ 43.359375 56 49.78125 48.890625 \nQ 56.203125 41.796875 56.203125 29.59375 \nz\nM 47.21875 32.234375 \nQ 47.125 39.59375 43.09375 43.984375 \nQ 39.0625 48.390625 32.421875 48.390625 \nQ 24.90625 48.390625 20.390625 44.140625 \nQ 15.875 39.890625 15.1875 32.171875 \nz\n\" id=\"DejaVuSans-101\"/>\n      <path d=\"M 41.109375 46.296875 \nQ 39.59375 47.171875 37.8125 47.578125 \nQ 36.03125 48 33.890625 48 \nQ 26.265625 48 22.1875 43.046875 \nQ 18.109375 38.09375 18.109375 28.8125 \nL 18.109375 0 \nL 9.078125 0 \nL 9.078125 54.6875 \nL 18.109375 54.6875 \nL 18.109375 46.1875 \nQ 20.953125 51.171875 25.484375 53.578125 \nQ 30.03125 56 36.53125 56 \nQ 37.453125 56 38.578125 55.875 \nQ 39.703125 55.765625 41.0625 55.515625 \nz\n\" id=\"DejaVuSans-114\"/>\n     </defs>\n     <g style=\"fill:#262626;\" transform=\"translate(376.376563 322.394687)scale(0.1 -0.1)\">\n      <use xlink:href=\"#DejaVuSans-73\"/>\n      <use x=\"29.492188\" xlink:href=\"#DejaVuSans-116\"/>\n      <use x=\"68.701172\" xlink:href=\"#DejaVuSans-101\"/>\n      <use x=\"130.224609\" xlink:href=\"#DejaVuSans-114\"/>\n     </g>\n    </g>\n   </g>\n   <g id=\"matplotlib.axis_2\">\n    <g id=\"ytick_1\">\n     <g id=\"line2d_8\">\n      <path clip-path=\"url(#p2ddafe30c5)\" d=\"M 50.14375 289.533346 \nL 719.74375 289.533346 \n\" style=\"fill:none;stroke:#ffffff;stroke-linecap:round;stroke-width:0.8;\"/>\n     </g>\n     <g id=\"text_9\">\n      <!-- 0.0 -->\n      <defs>\n       <path d=\"M 10.6875 12.40625 \nL 21 12.40625 \nL 21 0 \nL 10.6875 0 \nz\n\" id=\"DejaVuSans-46\"/>\n      </defs>\n      <g style=\"fill:#262626;\" transform=\"translate(27.240625 293.332565)scale(0.1 -0.1)\">\n       <use xlink:href=\"#DejaVuSans-48\"/>\n       <use x=\"63.623047\" xlink:href=\"#DejaVuSans-46\"/>\n       <use x=\"95.410156\" xlink:href=\"#DejaVuSans-48\"/>\n      </g>\n     </g>\n    </g>\n    <g id=\"ytick_2\">\n     <g id=\"line2d_9\">\n      <path clip-path=\"url(#p2ddafe30c5)\" d=\"M 50.14375 253.68171 \nL 719.74375 253.68171 \n\" style=\"fill:none;stroke:#ffffff;stroke-linecap:round;stroke-width:0.8;\"/>\n     </g>\n     <g id=\"text_10\">\n      <!-- 2.5 -->\n      <defs>\n       <path d=\"M 10.796875 72.90625 \nL 49.515625 72.90625 \nL 49.515625 64.59375 \nL 19.828125 64.59375 \nL 19.828125 46.734375 \nQ 21.96875 47.46875 24.109375 47.828125 \nQ 26.265625 48.1875 28.421875 48.1875 \nQ 40.625 48.1875 47.75 41.5 \nQ 54.890625 34.8125 54.890625 23.390625 \nQ 54.890625 11.625 47.5625 5.09375 \nQ 40.234375 -1.421875 26.90625 -1.421875 \nQ 22.3125 -1.421875 17.546875 -0.640625 \nQ 12.796875 0.140625 7.71875 1.703125 \nL 7.71875 11.625 \nQ 12.109375 9.234375 16.796875 8.0625 \nQ 21.484375 6.890625 26.703125 6.890625 \nQ 35.15625 6.890625 40.078125 11.328125 \nQ 45.015625 15.765625 45.015625 23.390625 \nQ 45.015625 31 40.078125 35.4375 \nQ 35.15625 39.890625 26.703125 39.890625 \nQ 22.75 39.890625 18.8125 39.015625 \nQ 14.890625 38.140625 10.796875 36.28125 \nz\n\" id=\"DejaVuSans-53\"/>\n      </defs>\n      <g style=\"fill:#262626;\" transform=\"translate(27.240625 257.480929)scale(0.1 -0.1)\">\n       <use xlink:href=\"#DejaVuSans-50\"/>\n       <use x=\"63.623047\" xlink:href=\"#DejaVuSans-46\"/>\n       <use x=\"95.410156\" xlink:href=\"#DejaVuSans-53\"/>\n      </g>\n     </g>\n    </g>\n    <g id=\"ytick_3\">\n     <g id=\"line2d_10\">\n      <path clip-path=\"url(#p2ddafe30c5)\" d=\"M 50.14375 217.830074 \nL 719.74375 217.830074 \n\" style=\"fill:none;stroke:#ffffff;stroke-linecap:round;stroke-width:0.8;\"/>\n     </g>\n     <g id=\"text_11\">\n      <!-- 5.0 -->\n      <g style=\"fill:#262626;\" transform=\"translate(27.240625 221.629293)scale(0.1 -0.1)\">\n       <use xlink:href=\"#DejaVuSans-53\"/>\n       <use x=\"63.623047\" xlink:href=\"#DejaVuSans-46\"/>\n       <use x=\"95.410156\" xlink:href=\"#DejaVuSans-48\"/>\n      </g>\n     </g>\n    </g>\n    <g id=\"ytick_4\">\n     <g id=\"line2d_11\">\n      <path clip-path=\"url(#p2ddafe30c5)\" d=\"M 50.14375 181.978438 \nL 719.74375 181.978438 \n\" style=\"fill:none;stroke:#ffffff;stroke-linecap:round;stroke-width:0.8;\"/>\n     </g>\n     <g id=\"text_12\">\n      <!-- 7.5 -->\n      <defs>\n       <path d=\"M 8.203125 72.90625 \nL 55.078125 72.90625 \nL 55.078125 68.703125 \nL 28.609375 0 \nL 18.3125 0 \nL 43.21875 64.59375 \nL 8.203125 64.59375 \nz\n\" id=\"DejaVuSans-55\"/>\n      </defs>\n      <g style=\"fill:#262626;\" transform=\"translate(27.240625 185.777657)scale(0.1 -0.1)\">\n       <use xlink:href=\"#DejaVuSans-55\"/>\n       <use x=\"63.623047\" xlink:href=\"#DejaVuSans-46\"/>\n       <use x=\"95.410156\" xlink:href=\"#DejaVuSans-53\"/>\n      </g>\n     </g>\n    </g>\n    <g id=\"ytick_5\">\n     <g id=\"line2d_12\">\n      <path clip-path=\"url(#p2ddafe30c5)\" d=\"M 50.14375 146.126802 \nL 719.74375 146.126802 \n\" style=\"fill:none;stroke:#ffffff;stroke-linecap:round;stroke-width:0.8;\"/>\n     </g>\n     <g id=\"text_13\">\n      <!-- 10.0 -->\n      <g style=\"fill:#262626;\" transform=\"translate(20.878125 149.926021)scale(0.1 -0.1)\">\n       <use xlink:href=\"#DejaVuSans-49\"/>\n       <use x=\"63.623047\" xlink:href=\"#DejaVuSans-48\"/>\n       <use x=\"127.246094\" xlink:href=\"#DejaVuSans-46\"/>\n       <use x=\"159.033203\" xlink:href=\"#DejaVuSans-48\"/>\n      </g>\n     </g>\n    </g>\n    <g id=\"ytick_6\">\n     <g id=\"line2d_13\">\n      <path clip-path=\"url(#p2ddafe30c5)\" d=\"M 50.14375 110.275166 \nL 719.74375 110.275166 \n\" style=\"fill:none;stroke:#ffffff;stroke-linecap:round;stroke-width:0.8;\"/>\n     </g>\n     <g id=\"text_14\">\n      <!-- 12.5 -->\n      <g style=\"fill:#262626;\" transform=\"translate(20.878125 114.074385)scale(0.1 -0.1)\">\n       <use xlink:href=\"#DejaVuSans-49\"/>\n       <use x=\"63.623047\" xlink:href=\"#DejaVuSans-50\"/>\n       <use x=\"127.246094\" xlink:href=\"#DejaVuSans-46\"/>\n       <use x=\"159.033203\" xlink:href=\"#DejaVuSans-53\"/>\n      </g>\n     </g>\n    </g>\n    <g id=\"ytick_7\">\n     <g id=\"line2d_14\">\n      <path clip-path=\"url(#p2ddafe30c5)\" d=\"M 50.14375 74.42353 \nL 719.74375 74.42353 \n\" style=\"fill:none;stroke:#ffffff;stroke-linecap:round;stroke-width:0.8;\"/>\n     </g>\n     <g id=\"text_15\">\n      <!-- 15.0 -->\n      <g style=\"fill:#262626;\" transform=\"translate(20.878125 78.222749)scale(0.1 -0.1)\">\n       <use xlink:href=\"#DejaVuSans-49\"/>\n       <use x=\"63.623047\" xlink:href=\"#DejaVuSans-53\"/>\n       <use x=\"127.246094\" xlink:href=\"#DejaVuSans-46\"/>\n       <use x=\"159.033203\" xlink:href=\"#DejaVuSans-48\"/>\n      </g>\n     </g>\n    </g>\n    <g id=\"ytick_8\">\n     <g id=\"line2d_15\">\n      <path clip-path=\"url(#p2ddafe30c5)\" d=\"M 50.14375 38.571894 \nL 719.74375 38.571894 \n\" style=\"fill:none;stroke:#ffffff;stroke-linecap:round;stroke-width:0.8;\"/>\n     </g>\n     <g id=\"text_16\">\n      <!-- 17.5 -->\n      <g style=\"fill:#262626;\" transform=\"translate(20.878125 42.371113)scale(0.1 -0.1)\">\n       <use xlink:href=\"#DejaVuSans-49\"/>\n       <use x=\"63.623047\" xlink:href=\"#DejaVuSans-55\"/>\n       <use x=\"127.246094\" xlink:href=\"#DejaVuSans-46\"/>\n       <use x=\"159.033203\" xlink:href=\"#DejaVuSans-53\"/>\n      </g>\n     </g>\n    </g>\n    <g id=\"text_17\">\n     <!-- Score -->\n     <defs>\n      <path d=\"M 53.515625 70.515625 \nL 53.515625 60.890625 \nQ 47.90625 63.578125 42.921875 64.890625 \nQ 37.9375 66.21875 33.296875 66.21875 \nQ 25.25 66.21875 20.875 63.09375 \nQ 16.5 59.96875 16.5 54.203125 \nQ 16.5 49.359375 19.40625 46.890625 \nQ 22.3125 44.4375 30.421875 42.921875 \nL 36.375 41.703125 \nQ 47.40625 39.59375 52.65625 34.296875 \nQ 57.90625 29 57.90625 20.125 \nQ 57.90625 9.515625 50.796875 4.046875 \nQ 43.703125 -1.421875 29.984375 -1.421875 \nQ 24.8125 -1.421875 18.96875 -0.25 \nQ 13.140625 0.921875 6.890625 3.21875 \nL 6.890625 13.375 \nQ 12.890625 10.015625 18.65625 8.296875 \nQ 24.421875 6.59375 29.984375 6.59375 \nQ 38.421875 6.59375 43.015625 9.90625 \nQ 47.609375 13.234375 47.609375 19.390625 \nQ 47.609375 24.75 44.3125 27.78125 \nQ 41.015625 30.8125 33.5 32.328125 \nL 27.484375 33.5 \nQ 16.453125 35.6875 11.515625 40.375 \nQ 6.59375 45.0625 6.59375 53.421875 \nQ 6.59375 63.09375 13.40625 68.65625 \nQ 20.21875 74.21875 32.171875 74.21875 \nQ 37.3125 74.21875 42.625 73.28125 \nQ 47.953125 72.359375 53.515625 70.515625 \nz\n\" id=\"DejaVuSans-83\"/>\n      <path d=\"M 48.78125 52.59375 \nL 48.78125 44.1875 \nQ 44.96875 46.296875 41.140625 47.34375 \nQ 37.3125 48.390625 33.40625 48.390625 \nQ 24.65625 48.390625 19.8125 42.84375 \nQ 14.984375 37.3125 14.984375 27.296875 \nQ 14.984375 17.28125 19.8125 11.734375 \nQ 24.65625 6.203125 33.40625 6.203125 \nQ 37.3125 6.203125 41.140625 7.25 \nQ 44.96875 8.296875 48.78125 10.40625 \nL 48.78125 2.09375 \nQ 45.015625 0.34375 40.984375 -0.53125 \nQ 36.96875 -1.421875 32.421875 -1.421875 \nQ 20.0625 -1.421875 12.78125 6.34375 \nQ 5.515625 14.109375 5.515625 27.296875 \nQ 5.515625 40.671875 12.859375 48.328125 \nQ 20.21875 56 33.015625 56 \nQ 37.15625 56 41.109375 55.140625 \nQ 45.0625 54.296875 48.78125 52.59375 \nz\n\" id=\"DejaVuSans-99\"/>\n      <path d=\"M 30.609375 48.390625 \nQ 23.390625 48.390625 19.1875 42.75 \nQ 14.984375 37.109375 14.984375 27.296875 \nQ 14.984375 17.484375 19.15625 11.84375 \nQ 23.34375 6.203125 30.609375 6.203125 \nQ 37.796875 6.203125 41.984375 11.859375 \nQ 46.1875 17.53125 46.1875 27.296875 \nQ 46.1875 37.015625 41.984375 42.703125 \nQ 37.796875 48.390625 30.609375 48.390625 \nz\nM 30.609375 56 \nQ 42.328125 56 49.015625 48.375 \nQ 55.71875 40.765625 55.71875 27.296875 \nQ 55.71875 13.875 49.015625 6.21875 \nQ 42.328125 -1.421875 30.609375 -1.421875 \nQ 18.84375 -1.421875 12.171875 6.21875 \nQ 5.515625 13.875 5.515625 27.296875 \nQ 5.515625 40.765625 12.171875 48.375 \nQ 18.84375 56 30.609375 56 \nz\n\" id=\"DejaVuSans-111\"/>\n     </defs>\n     <g style=\"fill:#262626;\" transform=\"translate(14.798437 172.220469)rotate(-90)scale(0.1 -0.1)\">\n      <use xlink:href=\"#DejaVuSans-83\"/>\n      <use x=\"63.476562\" xlink:href=\"#DejaVuSans-99\"/>\n      <use x=\"118.457031\" xlink:href=\"#DejaVuSans-111\"/>\n      <use x=\"179.638672\" xlink:href=\"#DejaVuSans-114\"/>\n      <use x=\"218.501953\" xlink:href=\"#DejaVuSans-101\"/>\n     </g>\n    </g>\n   </g>\n   <g id=\"PathCollection_1\">\n    <defs>\n     <path d=\"M 0 2.5 \nC 0.663008 2.5 1.29895 2.236584 1.767767 1.767767 \nC 2.236584 1.29895 2.5 0.663008 2.5 0 \nC 2.5 -0.663008 2.236584 -1.29895 1.767767 -1.767767 \nC 1.29895 -2.236584 0.663008 -2.5 0 -2.5 \nC -0.663008 -2.5 -1.29895 -2.236584 -1.767767 -1.767767 \nC -2.236584 -1.29895 -2.5 -0.663008 -2.5 0 \nC -2.5 0.663008 -2.236584 1.29895 -1.767767 1.767767 \nC -1.29895 2.236584 -0.663008 2.5 0 2.5 \nz\n\" id=\"C0_0_530a3637cf\"/>\n    </defs>\n    <g clip-path=\"url(#p2ddafe30c5)\">\n     <use style=\"fill:#4c66d6;stroke:#4c66d6;\" x=\"80.580114\" xlink:href=\"#C0_0_530a3637cf\" y=\"266.903793\"/>\n    </g>\n    <g clip-path=\"url(#p2ddafe30c5)\">\n     <use style=\"fill:#3b4cc0;stroke:#3b4cc0;\" x=\"85.411282\" xlink:href=\"#C0_0_530a3637cf\" y=\"281.095305\"/>\n    </g>\n    <g clip-path=\"url(#p2ddafe30c5)\">\n     <use style=\"fill:#3b4cc0;stroke:#3b4cc0;\" x=\"90.242451\" xlink:href=\"#C0_0_530a3637cf\" y=\"281.119684\"/>\n    </g>\n    <g clip-path=\"url(#p2ddafe30c5)\">\n     <use style=\"fill:#3d50c3;stroke:#3d50c3;\" x=\"95.07362\" xlink:href=\"#C0_0_530a3637cf\" y=\"279.166487\"/>\n    </g>\n    <g clip-path=\"url(#p2ddafe30c5)\">\n     <use style=\"fill:#4257c9;stroke:#4257c9;\" x=\"99.904789\" xlink:href=\"#C0_0_530a3637cf\" y=\"275.377686\"/>\n    </g>\n    <g clip-path=\"url(#p2ddafe30c5)\">\n     <use style=\"fill:#cfdaea;stroke:#cfdaea;\" x=\"104.735958\" xlink:href=\"#C0_0_530a3637cf\" y=\"170.458591\"/>\n    </g>\n    <g clip-path=\"url(#p2ddafe30c5)\">\n     <use style=\"fill:#3b4cc0;stroke:#3b4cc0;\" x=\"109.567127\" xlink:href=\"#C0_0_530a3637cf\" y=\"281.658893\"/>\n    </g>\n    <g clip-path=\"url(#p2ddafe30c5)\">\n     <use style=\"fill:#485fd1;stroke:#485fd1;\" x=\"114.398295\" xlink:href=\"#C0_0_530a3637cf\" y=\"270.728446\"/>\n    </g>\n    <g clip-path=\"url(#p2ddafe30c5)\">\n     <use style=\"fill:#3b4cc0;stroke:#3b4cc0;\" x=\"119.229464\" xlink:href=\"#C0_0_530a3637cf\" y=\"281.250184\"/>\n    </g>\n    <g clip-path=\"url(#p2ddafe30c5)\">\n     <use style=\"fill:#3e51c5;stroke:#3e51c5;\" x=\"124.060633\" xlink:href=\"#C0_0_530a3637cf\" y=\"278.199927\"/>\n    </g>\n    <g clip-path=\"url(#p2ddafe30c5)\">\n     <use style=\"fill:#3f53c6;stroke:#3f53c6;\" x=\"128.891802\" xlink:href=\"#C0_0_530a3637cf\" y=\"277.160229\"/>\n    </g>\n    <g clip-path=\"url(#p2ddafe30c5)\">\n     <use style=\"fill:#3e51c5;stroke:#3e51c5;\" x=\"133.722971\" xlink:href=\"#C0_0_530a3637cf\" y=\"278.661696\"/>\n    </g>\n    <g clip-path=\"url(#p2ddafe30c5)\">\n     <use style=\"fill:#4f69d9;stroke:#4f69d9;\" x=\"138.55414\" xlink:href=\"#C0_0_530a3637cf\" y=\"265.151366\"/>\n    </g>\n    <g clip-path=\"url(#p2ddafe30c5)\">\n     <use style=\"fill:#3b4cc0;stroke:#3b4cc0;\" x=\"143.385308\" xlink:href=\"#C0_0_530a3637cf\" y=\"281.547036\"/>\n    </g>\n    <g clip-path=\"url(#p2ddafe30c5)\">\n     <use style=\"fill:#3d50c3;stroke:#3d50c3;\" x=\"148.216477\" xlink:href=\"#C0_0_530a3637cf\" y=\"279.421751\"/>\n    </g>\n    <g clip-path=\"url(#p2ddafe30c5)\">\n     <use style=\"fill:#4358cb;stroke:#4358cb;\" x=\"153.047646\" xlink:href=\"#C0_0_530a3637cf\" y=\"274.478527\"/>\n    </g>\n    <g clip-path=\"url(#p2ddafe30c5)\">\n     <use style=\"fill:#3f53c6;stroke:#3f53c6;\" x=\"157.878815\" xlink:href=\"#C0_0_530a3637cf\" y=\"277.753933\"/>\n    </g>\n    <g clip-path=\"url(#p2ddafe30c5)\">\n     <use style=\"fill:#4961d2;stroke:#4961d2;\" x=\"162.709984\" xlink:href=\"#C0_0_530a3637cf\" y=\"270.147649\"/>\n    </g>\n    <g clip-path=\"url(#p2ddafe30c5)\">\n     <use style=\"fill:#3d50c3;stroke:#3d50c3;\" x=\"167.541153\" xlink:href=\"#C0_0_530a3637cf\" y=\"279.496322\"/>\n    </g>\n    <g clip-path=\"url(#p2ddafe30c5)\">\n     <use style=\"fill:#485fd1;stroke:#485fd1;\" x=\"172.372321\" xlink:href=\"#C0_0_530a3637cf\" y=\"271.006655\"/>\n    </g>\n    <g clip-path=\"url(#p2ddafe30c5)\">\n     <use style=\"fill:#4055c8;stroke:#4055c8;\" x=\"177.20349\" xlink:href=\"#C0_0_530a3637cf\" y=\"276.355719\"/>\n    </g>\n    <g clip-path=\"url(#p2ddafe30c5)\">\n     <use style=\"fill:#506bda;stroke:#506bda;\" x=\"182.034659\" xlink:href=\"#C0_0_530a3637cf\" y=\"264.288058\"/>\n    </g>\n    <g clip-path=\"url(#p2ddafe30c5)\">\n     <use style=\"fill:#3f53c6;stroke:#3f53c6;\" x=\"186.865828\" xlink:href=\"#C0_0_530a3637cf\" y=\"277.151625\"/>\n    </g>\n    <g clip-path=\"url(#p2ddafe30c5)\">\n     <use style=\"fill:#4b64d5;stroke:#4b64d5;\" x=\"191.696997\" xlink:href=\"#C0_0_530a3637cf\" y=\"268.088332\"/>\n    </g>\n    <g clip-path=\"url(#p2ddafe30c5)\">\n     <use style=\"fill:#3e51c5;stroke:#3e51c5;\" x=\"196.528166\" xlink:href=\"#C0_0_530a3637cf\" y=\"278.04935\"/>\n    </g>\n    <g clip-path=\"url(#p2ddafe30c5)\">\n     <use style=\"fill:#455cce;stroke:#455cce;\" x=\"201.359334\" xlink:href=\"#C0_0_530a3637cf\" y=\"272.512423\"/>\n    </g>\n    <g clip-path=\"url(#p2ddafe30c5)\">\n     <use style=\"fill:#3c4ec2;stroke:#3c4ec2;\" x=\"206.190503\" xlink:href=\"#C0_0_530a3637cf\" y=\"280.14452\"/>\n    </g>\n    <g clip-path=\"url(#p2ddafe30c5)\">\n     <use style=\"fill:#3b4cc0;stroke:#3b4cc0;\" x=\"211.021672\" xlink:href=\"#C0_0_530a3637cf\" y=\"281.296074\"/>\n    </g>\n    <g clip-path=\"url(#p2ddafe30c5)\">\n     <use style=\"fill:#4a63d3;stroke:#4a63d3;\" x=\"215.852841\" xlink:href=\"#C0_0_530a3637cf\" y=\"269.056326\"/>\n    </g>\n    <g clip-path=\"url(#p2ddafe30c5)\">\n     <use style=\"fill:#4b64d5;stroke:#4b64d5;\" x=\"220.68401\" xlink:href=\"#C0_0_530a3637cf\" y=\"268.204491\"/>\n    </g>\n    <g clip-path=\"url(#p2ddafe30c5)\">\n     <use style=\"fill:#3d50c3;stroke:#3d50c3;\" x=\"225.515179\" xlink:href=\"#C0_0_530a3637cf\" y=\"279.790306\"/>\n    </g>\n    <g clip-path=\"url(#p2ddafe30c5)\">\n     <use style=\"fill:#4c66d6;stroke:#4c66d6;\" x=\"230.346347\" xlink:href=\"#C0_0_530a3637cf\" y=\"266.79337\"/>\n    </g>\n    <g clip-path=\"url(#p2ddafe30c5)\">\n     <use style=\"fill:#4257c9;stroke:#4257c9;\" x=\"235.177516\" xlink:href=\"#C0_0_530a3637cf\" y=\"275.588494\"/>\n    </g>\n    <g clip-path=\"url(#p2ddafe30c5)\">\n     <use style=\"fill:#b40426;stroke:#b40426;\" x=\"240.008685\" xlink:href=\"#C0_0_530a3637cf\" y=\"34.67267\"/>\n    </g>\n    <g clip-path=\"url(#p2ddafe30c5)\">\n     <use style=\"fill:#4055c8;stroke:#4055c8;\" x=\"244.839854\" xlink:href=\"#C0_0_530a3637cf\" y=\"276.932213\"/>\n    </g>\n    <g clip-path=\"url(#p2ddafe30c5)\">\n     <use style=\"fill:#3b4cc0;stroke:#3b4cc0;\" x=\"249.671023\" xlink:href=\"#C0_0_530a3637cf\" y=\"281.308981\"/>\n    </g>\n    <g clip-path=\"url(#p2ddafe30c5)\">\n     <use style=\"fill:#4055c8;stroke:#4055c8;\" x=\"254.502192\" xlink:href=\"#C0_0_530a3637cf\" y=\"276.721405\"/>\n    </g>\n    <g clip-path=\"url(#p2ddafe30c5)\">\n     <use style=\"fill:#4358cb;stroke:#4358cb;\" x=\"259.33336\" xlink:href=\"#C0_0_530a3637cf\" y=\"274.337989\"/>\n    </g>\n    <g clip-path=\"url(#p2ddafe30c5)\">\n     <use style=\"fill:#445acc;stroke:#445acc;\" x=\"264.164529\" xlink:href=\"#C0_0_530a3637cf\" y=\"273.913505\"/>\n    </g>\n    <g clip-path=\"url(#p2ddafe30c5)\">\n     <use style=\"fill:#3b4cc0;stroke:#3b4cc0;\" x=\"268.995698\" xlink:href=\"#C0_0_530a3637cf\" y=\"281.134025\"/>\n    </g>\n    <g clip-path=\"url(#p2ddafe30c5)\">\n     <use style=\"fill:#4257c9;stroke:#4257c9;\" x=\"273.826867\" xlink:href=\"#C0_0_530a3637cf\" y=\"275.696049\"/>\n    </g>\n    <g clip-path=\"url(#p2ddafe30c5)\">\n     <use style=\"fill:#3c4ec2;stroke:#3c4ec2;\" x=\"278.658036\" xlink:href=\"#C0_0_530a3637cf\" y=\"280.310871\"/>\n    </g>\n    <g clip-path=\"url(#p2ddafe30c5)\">\n     <use style=\"fill:#4c66d6;stroke:#4c66d6;\" x=\"283.489205\" xlink:href=\"#C0_0_530a3637cf\" y=\"267.035727\"/>\n    </g>\n    <g clip-path=\"url(#p2ddafe30c5)\">\n     <use style=\"fill:#4e68d8;stroke:#4e68d8;\" x=\"288.320373\" xlink:href=\"#C0_0_530a3637cf\" y=\"265.882739\"/>\n    </g>\n    <g clip-path=\"url(#p2ddafe30c5)\">\n     <use style=\"fill:#3c4ec2;stroke:#3c4ec2;\" x=\"293.151542\" xlink:href=\"#C0_0_530a3637cf\" y=\"280.665085\"/>\n    </g>\n    <g clip-path=\"url(#p2ddafe30c5)\">\n     <use style=\"fill:#3b4cc0;stroke:#3b4cc0;\" x=\"297.982711\" xlink:href=\"#C0_0_530a3637cf\" y=\"281.585755\"/>\n    </g>\n    <g clip-path=\"url(#p2ddafe30c5)\">\n     <use style=\"fill:#3d50c3;stroke:#3d50c3;\" x=\"302.81388\" xlink:href=\"#C0_0_530a3637cf\" y=\"279.4533\"/>\n    </g>\n    <g clip-path=\"url(#p2ddafe30c5)\">\n     <use style=\"fill:#4257c9;stroke:#4257c9;\" x=\"307.645049\" xlink:href=\"#C0_0_530a3637cf\" y=\"275.832285\"/>\n    </g>\n    <g clip-path=\"url(#p2ddafe30c5)\">\n     <use style=\"fill:#4055c8;stroke:#4055c8;\" x=\"312.476218\" xlink:href=\"#C0_0_530a3637cf\" y=\"276.688422\"/>\n    </g>\n    <g clip-path=\"url(#p2ddafe30c5)\">\n     <use style=\"fill:#3e51c5;stroke:#3e51c5;\" x=\"317.307386\" xlink:href=\"#C0_0_530a3637cf\" y=\"278.818009\"/>\n    </g>\n    <g clip-path=\"url(#p2ddafe30c5)\">\n     <use style=\"fill:#3b4cc0;stroke:#3b4cc0;\" x=\"322.138555\" xlink:href=\"#C0_0_530a3637cf\" y=\"281.403629\"/>\n    </g>\n    <g clip-path=\"url(#p2ddafe30c5)\">\n     <use style=\"fill:#3b4cc0;stroke:#3b4cc0;\" x=\"326.969724\" xlink:href=\"#C0_0_530a3637cf\" y=\"281.403629\"/>\n    </g>\n    <g clip-path=\"url(#p2ddafe30c5)\">\n     <use style=\"fill:#3b4cc0;stroke:#3b4cc0;\" x=\"331.800893\" xlink:href=\"#C0_0_530a3637cf\" y=\"281.403629\"/>\n    </g>\n    <g clip-path=\"url(#p2ddafe30c5)\">\n     <use style=\"fill:#3b4cc0;stroke:#3b4cc0;\" x=\"336.632062\" xlink:href=\"#C0_0_530a3637cf\" y=\"281.403629\"/>\n    </g>\n    <g clip-path=\"url(#p2ddafe30c5)\">\n     <use style=\"fill:#3b4cc0;stroke:#3b4cc0;\" x=\"341.463231\" xlink:href=\"#C0_0_530a3637cf\" y=\"280.983448\"/>\n    </g>\n    <g clip-path=\"url(#p2ddafe30c5)\">\n     <use style=\"fill:#3b4cc0;stroke:#3b4cc0;\" x=\"346.294399\" xlink:href=\"#C0_0_530a3637cf\" y=\"281.577151\"/>\n    </g>\n    <g clip-path=\"url(#p2ddafe30c5)\">\n     <use style=\"fill:#3d50c3;stroke:#3d50c3;\" x=\"351.125568\" xlink:href=\"#C0_0_530a3637cf\" y=\"279.740113\"/>\n    </g>\n    <g clip-path=\"url(#p2ddafe30c5)\">\n     <use style=\"fill:#3b4cc0;stroke:#3b4cc0;\" x=\"355.956737\" xlink:href=\"#C0_0_530a3637cf\" y=\"281.716255\"/>\n    </g>\n    <g clip-path=\"url(#p2ddafe30c5)\">\n     <use style=\"fill:#3b4cc0;stroke:#3b4cc0;\" x=\"360.787906\" xlink:href=\"#C0_0_530a3637cf\" y=\"281.023602\"/>\n    </g>\n    <g clip-path=\"url(#p2ddafe30c5)\">\n     <use style=\"fill:#3b4cc0;stroke:#3b4cc0;\" x=\"365.619075\" xlink:href=\"#C0_0_530a3637cf\" y=\"280.840041\"/>\n    </g>\n    <g clip-path=\"url(#p2ddafe30c5)\">\n     <use style=\"fill:#3c4ec2;stroke:#3c4ec2;\" x=\"370.450244\" xlink:href=\"#C0_0_530a3637cf\" y=\"280.474355\"/>\n    </g>\n    <g clip-path=\"url(#p2ddafe30c5)\">\n     <use style=\"fill:#3b4cc0;stroke:#3b4cc0;\" x=\"375.281412\" xlink:href=\"#C0_0_530a3637cf\" y=\"281.756409\"/>\n    </g>\n    <g clip-path=\"url(#p2ddafe30c5)\">\n     <use style=\"fill:#3b4cc0;stroke:#3b4cc0;\" x=\"380.112581\" xlink:href=\"#C0_0_530a3637cf\" y=\"281.72486\"/>\n    </g>\n    <g clip-path=\"url(#p2ddafe30c5)\">\n     <use style=\"fill:#3b4cc0;stroke:#3b4cc0;\" x=\"384.94375\" xlink:href=\"#C0_0_530a3637cf\" y=\"281.72486\"/>\n    </g>\n    <g clip-path=\"url(#p2ddafe30c5)\">\n     <use style=\"fill:#3b4cc0;stroke:#3b4cc0;\" x=\"389.774919\" xlink:href=\"#C0_0_530a3637cf\" y=\"281.750673\"/>\n    </g>\n    <g clip-path=\"url(#p2ddafe30c5)\">\n     <use style=\"fill:#3f53c6;stroke:#3f53c6;\" x=\"394.606088\" xlink:href=\"#C0_0_530a3637cf\" y=\"277.429834\"/>\n    </g>\n    <g clip-path=\"url(#p2ddafe30c5)\">\n     <use style=\"fill:#3b4cc0;stroke:#3b4cc0;\" x=\"399.437256\" xlink:href=\"#C0_0_530a3637cf\" y=\"281.308981\"/>\n    </g>\n    <g clip-path=\"url(#p2ddafe30c5)\">\n     <use style=\"fill:#3b4cc0;stroke:#3b4cc0;\" x=\"404.268425\" xlink:href=\"#C0_0_530a3637cf\" y=\"281.561376\"/>\n    </g>\n    <g clip-path=\"url(#p2ddafe30c5)\">\n     <use style=\"fill:#3c4ec2;stroke:#3c4ec2;\" x=\"409.099594\" xlink:href=\"#C0_0_530a3637cf\" y=\"280.269283\"/>\n    </g>\n    <g clip-path=\"url(#p2ddafe30c5)\">\n     <use style=\"fill:#3b4cc0;stroke:#3b4cc0;\" x=\"413.930763\" xlink:href=\"#C0_0_530a3637cf\" y=\"281.15697\"/>\n    </g>\n    <g clip-path=\"url(#p2ddafe30c5)\">\n     <use style=\"fill:#3b4cc0;stroke:#3b4cc0;\" x=\"418.761932\" xlink:href=\"#C0_0_530a3637cf\" y=\"281.217201\"/>\n    </g>\n    <g clip-path=\"url(#p2ddafe30c5)\">\n     <use style=\"fill:#3b4cc0;stroke:#3b4cc0;\" x=\"423.593101\" xlink:href=\"#C0_0_530a3637cf\" y=\"281.311849\"/>\n    </g>\n    <g clip-path=\"url(#p2ddafe30c5)\">\n     <use style=\"fill:#3b4cc0;stroke:#3b4cc0;\" x=\"428.424269\" xlink:href=\"#C0_0_530a3637cf\" y=\"281.733464\"/>\n    </g>\n    <g clip-path=\"url(#p2ddafe30c5)\">\n     <use style=\"fill:#3b4cc0;stroke:#3b4cc0;\" x=\"433.255438\" xlink:href=\"#C0_0_530a3637cf\" y=\"281.699047\"/>\n    </g>\n    <g clip-path=\"url(#p2ddafe30c5)\">\n     <use style=\"fill:#3b4cc0;stroke:#3b4cc0;\" x=\"438.086607\" xlink:href=\"#C0_0_530a3637cf\" y=\"281.762145\"/>\n    </g>\n    <g clip-path=\"url(#p2ddafe30c5)\">\n     <use style=\"fill:#3b4cc0;stroke:#3b4cc0;\" x=\"442.917776\" xlink:href=\"#C0_0_530a3637cf\" y=\"281.757843\"/>\n    </g>\n    <g clip-path=\"url(#p2ddafe30c5)\">\n     <use style=\"fill:#3c4ec2;stroke:#3c4ec2;\" x=\"447.748945\" xlink:href=\"#C0_0_530a3637cf\" y=\"280.27502\"/>\n    </g>\n    <g clip-path=\"url(#p2ddafe30c5)\">\n     <use style=\"fill:#3b4cc0;stroke:#3b4cc0;\" x=\"452.580114\" xlink:href=\"#C0_0_530a3637cf\" y=\"281.67897\"/>\n    </g>\n    <g clip-path=\"url(#p2ddafe30c5)\">\n     <use style=\"fill:#3e51c5;stroke:#3e51c5;\" x=\"457.411282\" xlink:href=\"#C0_0_530a3637cf\" y=\"278.522592\"/>\n    </g>\n    <g clip-path=\"url(#p2ddafe30c5)\">\n     <use style=\"fill:#3c4ec2;stroke:#3c4ec2;\" x=\"462.242451\" xlink:href=\"#C0_0_530a3637cf\" y=\"280.388311\"/>\n    </g>\n    <g clip-path=\"url(#p2ddafe30c5)\">\n     <use style=\"fill:#3b4cc0;stroke:#3b4cc0;\" x=\"467.07362\" xlink:href=\"#C0_0_530a3637cf\" y=\"281.245882\"/>\n    </g>\n    <g clip-path=\"url(#p2ddafe30c5)\">\n     <use style=\"fill:#3b4cc0;stroke:#3b4cc0;\" x=\"471.904789\" xlink:href=\"#C0_0_530a3637cf\" y=\"281.522657\"/>\n    </g>\n    <g clip-path=\"url(#p2ddafe30c5)\">\n     <use style=\"fill:#3b4cc0;stroke:#3b4cc0;\" x=\"476.735958\" xlink:href=\"#C0_0_530a3637cf\" y=\"281.327624\"/>\n    </g>\n    <g clip-path=\"url(#p2ddafe30c5)\">\n     <use style=\"fill:#3d50c3;stroke:#3d50c3;\" x=\"481.567127\" xlink:href=\"#C0_0_530a3637cf\" y=\"279.282646\"/>\n    </g>\n    <g clip-path=\"url(#p2ddafe30c5)\">\n     <use style=\"fill:#3b4cc0;stroke:#3b4cc0;\" x=\"486.398295\" xlink:href=\"#C0_0_530a3637cf\" y=\"281.710519\"/>\n    </g>\n    <g clip-path=\"url(#p2ddafe30c5)\">\n     <use style=\"fill:#3b4cc0;stroke:#3b4cc0;\" x=\"491.229464\" xlink:href=\"#C0_0_530a3637cf\" y=\"281.300376\"/>\n    </g>\n    <g clip-path=\"url(#p2ddafe30c5)\">\n     <use style=\"fill:#3c4ec2;stroke:#3c4ec2;\" x=\"496.060633\" xlink:href=\"#C0_0_530a3637cf\" y=\"280.566135\"/>\n    </g>\n    <g clip-path=\"url(#p2ddafe30c5)\">\n     <use style=\"fill:#3b4cc0;stroke:#3b4cc0;\" x=\"500.891802\" xlink:href=\"#C0_0_530a3637cf\" y=\"281.400761\"/>\n    </g>\n    <g clip-path=\"url(#p2ddafe30c5)\">\n     <use style=\"fill:#3b4cc0;stroke:#3b4cc0;\" x=\"505.722971\" xlink:href=\"#C0_0_530a3637cf\" y=\"280.852948\"/>\n    </g>\n    <g clip-path=\"url(#p2ddafe30c5)\">\n     <use style=\"fill:#3e51c5;stroke:#3e51c5;\" x=\"510.55414\" xlink:href=\"#C0_0_530a3637cf\" y=\"278.273064\"/>\n    </g>\n    <g clip-path=\"url(#p2ddafe30c5)\">\n     <use style=\"fill:#3b4cc0;stroke:#3b4cc0;\" x=\"515.385308\" xlink:href=\"#C0_0_530a3637cf\" y=\"281.254486\"/>\n    </g>\n    <g clip-path=\"url(#p2ddafe30c5)\">\n     <use style=\"fill:#3b4cc0;stroke:#3b4cc0;\" x=\"520.216477\" xlink:href=\"#C0_0_530a3637cf\" y=\"281.694744\"/>\n    </g>\n    <g clip-path=\"url(#p2ddafe30c5)\">\n     <use style=\"fill:#3b4cc0;stroke:#3b4cc0;\" x=\"525.047646\" xlink:href=\"#C0_0_530a3637cf\" y=\"281.525525\"/>\n    </g>\n    <g clip-path=\"url(#p2ddafe30c5)\">\n     <use style=\"fill:#3b4cc0;stroke:#3b4cc0;\" x=\"529.878815\" xlink:href=\"#C0_0_530a3637cf\" y=\"281.376382\"/>\n    </g>\n    <g clip-path=\"url(#p2ddafe30c5)\">\n     <use style=\"fill:#3b4cc0;stroke:#3b4cc0;\" x=\"534.709984\" xlink:href=\"#C0_0_530a3637cf\" y=\"280.927519\"/>\n    </g>\n    <g clip-path=\"url(#p2ddafe30c5)\">\n     <use style=\"fill:#3b4cc0;stroke:#3b4cc0;\" x=\"539.541153\" xlink:href=\"#C0_0_530a3637cf\" y=\"281.658893\"/>\n    </g>\n    <g clip-path=\"url(#p2ddafe30c5)\">\n     <use style=\"fill:#3b4cc0;stroke:#3b4cc0;\" x=\"544.372321\" xlink:href=\"#C0_0_530a3637cf\" y=\"281.690442\"/>\n    </g>\n    <g clip-path=\"url(#p2ddafe30c5)\">\n     <use style=\"fill:#3b4cc0;stroke:#3b4cc0;\" x=\"549.20349\" xlink:href=\"#C0_0_530a3637cf\" y=\"281.191387\"/>\n    </g>\n    <g clip-path=\"url(#p2ddafe30c5)\">\n     <use style=\"fill:#3e51c5;stroke:#3e51c5;\" x=\"554.034659\" xlink:href=\"#C0_0_530a3637cf\" y=\"278.284537\"/>\n    </g>\n    <g clip-path=\"url(#p2ddafe30c5)\">\n     <use style=\"fill:#3b4cc0;stroke:#3b4cc0;\" x=\"558.865828\" xlink:href=\"#C0_0_530a3637cf\" y=\"281.407931\"/>\n    </g>\n    <g clip-path=\"url(#p2ddafe30c5)\">\n     <use style=\"fill:#3b4cc0;stroke:#3b4cc0;\" x=\"563.696997\" xlink:href=\"#C0_0_530a3637cf\" y=\"281.585755\"/>\n    </g>\n    <g clip-path=\"url(#p2ddafe30c5)\">\n     <use style=\"fill:#3b4cc0;stroke:#3b4cc0;\" x=\"568.528166\" xlink:href=\"#C0_0_530a3637cf\" y=\"281.701915\"/>\n    </g>\n    <g clip-path=\"url(#p2ddafe30c5)\">\n     <use style=\"fill:#3b4cc0;stroke:#3b4cc0;\" x=\"573.359334\" xlink:href=\"#C0_0_530a3637cf\" y=\"281.76358\"/>\n    </g>\n    <g clip-path=\"url(#p2ddafe30c5)\">\n     <use style=\"fill:#3b4cc0;stroke:#3b4cc0;\" x=\"578.190503\" xlink:href=\"#C0_0_530a3637cf\" y=\"281.547036\"/>\n    </g>\n    <g clip-path=\"url(#p2ddafe30c5)\">\n     <use style=\"fill:#3b4cc0;stroke:#3b4cc0;\" x=\"583.021672\" xlink:href=\"#C0_0_530a3637cf\" y=\"281.105344\"/>\n    </g>\n    <g clip-path=\"url(#p2ddafe30c5)\">\n     <use style=\"fill:#3b4cc0;stroke:#3b4cc0;\" x=\"587.852841\" xlink:href=\"#C0_0_530a3637cf\" y=\"281.288904\"/>\n    </g>\n    <g clip-path=\"url(#p2ddafe30c5)\">\n     <use style=\"fill:#3b4cc0;stroke:#3b4cc0;\" x=\"592.68401\" xlink:href=\"#C0_0_530a3637cf\" y=\"281.620173\"/>\n    </g>\n    <g clip-path=\"url(#p2ddafe30c5)\">\n     <use style=\"fill:#3b4cc0;stroke:#3b4cc0;\" x=\"597.515179\" xlink:href=\"#C0_0_530a3637cf\" y=\"281.529827\"/>\n    </g>\n    <g clip-path=\"url(#p2ddafe30c5)\">\n     <use style=\"fill:#4e68d8;stroke:#4e68d8;\" x=\"602.346347\" xlink:href=\"#C0_0_530a3637cf\" y=\"266.170986\"/>\n    </g>\n    <g clip-path=\"url(#p2ddafe30c5)\">\n     <use style=\"fill:#3b4cc0;stroke:#3b4cc0;\" x=\"607.177516\" xlink:href=\"#C0_0_530a3637cf\" y=\"281.359173\"/>\n    </g>\n    <g clip-path=\"url(#p2ddafe30c5)\">\n     <use style=\"fill:#4358cb;stroke:#4358cb;\" x=\"612.008685\" xlink:href=\"#C0_0_530a3637cf\" y=\"274.533022\"/>\n    </g>\n    <g clip-path=\"url(#p2ddafe30c5)\">\n     <use style=\"fill:#3b4cc0;stroke:#3b4cc0;\" x=\"616.839854\" xlink:href=\"#C0_0_530a3637cf\" y=\"281.699047\"/>\n    </g>\n    <g clip-path=\"url(#p2ddafe30c5)\">\n     <use style=\"fill:#3c4ec2;stroke:#3c4ec2;\" x=\"621.671023\" xlink:href=\"#C0_0_530a3637cf\" y=\"280.416992\"/>\n    </g>\n    <g clip-path=\"url(#p2ddafe30c5)\">\n     <use style=\"fill:#445acc;stroke:#445acc;\" x=\"626.502192\" xlink:href=\"#C0_0_530a3637cf\" y=\"273.134808\"/>\n    </g>\n    <g clip-path=\"url(#p2ddafe30c5)\">\n     <use style=\"fill:#3b4cc0;stroke:#3b4cc0;\" x=\"631.33336\" xlink:href=\"#C0_0_530a3637cf\" y=\"281.750673\"/>\n    </g>\n    <g clip-path=\"url(#p2ddafe30c5)\">\n     <use style=\"fill:#3b4cc0;stroke:#3b4cc0;\" x=\"636.164529\" xlink:href=\"#C0_0_530a3637cf\" y=\"281.364909\"/>\n    </g>\n    <g clip-path=\"url(#p2ddafe30c5)\">\n     <use style=\"fill:#3b4cc0;stroke:#3b4cc0;\" x=\"640.995698\" xlink:href=\"#C0_0_530a3637cf\" y=\"281.557074\"/>\n    </g>\n    <g clip-path=\"url(#p2ddafe30c5)\">\n     <use style=\"fill:#3b4cc0;stroke:#3b4cc0;\" x=\"645.826867\" xlink:href=\"#C0_0_530a3637cf\" y=\"281.683272\"/>\n    </g>\n    <g clip-path=\"url(#p2ddafe30c5)\">\n     <use style=\"fill:#3d50c3;stroke:#3d50c3;\" x=\"650.658036\" xlink:href=\"#C0_0_530a3637cf\" y=\"279.089048\"/>\n    </g>\n    <g clip-path=\"url(#p2ddafe30c5)\">\n     <use style=\"fill:#3b4cc0;stroke:#3b4cc0;\" x=\"655.489205\" xlink:href=\"#C0_0_530a3637cf\" y=\"281.254486\"/>\n    </g>\n    <g clip-path=\"url(#p2ddafe30c5)\">\n     <use style=\"fill:#3b4cc0;stroke:#3b4cc0;\" x=\"660.320373\" xlink:href=\"#C0_0_530a3637cf\" y=\"281.485371\"/>\n    </g>\n    <g clip-path=\"url(#p2ddafe30c5)\">\n     <use style=\"fill:#3b4cc0;stroke:#3b4cc0;\" x=\"665.151542\" xlink:href=\"#C0_0_530a3637cf\" y=\"281.694744\"/>\n    </g>\n    <g clip-path=\"url(#p2ddafe30c5)\">\n     <use style=\"fill:#3b4cc0;stroke:#3b4cc0;\" x=\"669.982711\" xlink:href=\"#C0_0_530a3637cf\" y=\"281.283168\"/>\n    </g>\n    <g clip-path=\"url(#p2ddafe30c5)\">\n     <use style=\"fill:#3b4cc0;stroke:#3b4cc0;\" x=\"674.81388\" xlink:href=\"#C0_0_530a3637cf\" y=\"281.524091\"/>\n    </g>\n    <g clip-path=\"url(#p2ddafe30c5)\">\n     <use style=\"fill:#3b4cc0;stroke:#3b4cc0;\" x=\"679.645049\" xlink:href=\"#C0_0_530a3637cf\" y=\"281.713387\"/>\n    </g>\n    <g clip-path=\"url(#p2ddafe30c5)\">\n     <use style=\"fill:#3b4cc0;stroke:#3b4cc0;\" x=\"684.476218\" xlink:href=\"#C0_0_530a3637cf\" y=\"281.564244\"/>\n    </g>\n    <g clip-path=\"url(#p2ddafe30c5)\">\n     <use style=\"fill:#3b4cc0;stroke:#3b4cc0;\" x=\"689.307386\" xlink:href=\"#C0_0_530a3637cf\" y=\"281.06519\"/>\n    </g>\n   </g>\n   <g id=\"line2d_16\">\n    <path clip-path=\"url(#p2ddafe30c5)\" d=\"M 80.580114 266.903793 \nL 85.411282 281.095305 \nL 90.242451 281.119684 \nL 95.07362 281.119684 \nL 99.904789 281.119684 \nL 104.735958 281.119684 \nL 109.567127 281.658893 \nL 114.398295 281.658893 \nL 119.229464 281.658893 \nL 124.060633 281.658893 \nL 128.891802 281.658893 \nL 133.722971 281.658893 \nL 138.55414 281.658893 \nL 143.385308 281.658893 \nL 148.216477 281.658893 \nL 153.047646 281.658893 \nL 157.878815 281.658893 \nL 162.709984 281.658893 \nL 167.541153 281.658893 \nL 172.372321 281.658893 \nL 177.20349 281.658893 \nL 182.034659 281.658893 \nL 186.865828 281.658893 \nL 191.696997 281.658893 \nL 196.528166 281.658893 \nL 201.359334 281.658893 \nL 206.190503 281.658893 \nL 211.021672 281.658893 \nL 215.852841 281.658893 \nL 220.68401 281.658893 \nL 225.515179 281.658893 \nL 230.346347 281.658893 \nL 235.177516 281.658893 \nL 240.008685 281.658893 \nL 244.839854 281.658893 \nL 249.671023 281.658893 \nL 254.502192 281.658893 \nL 259.33336 281.658893 \nL 264.164529 281.658893 \nL 268.995698 281.658893 \nL 273.826867 281.658893 \nL 278.658036 281.658893 \nL 283.489205 281.658893 \nL 288.320373 281.658893 \nL 293.151542 281.658893 \nL 297.982711 281.658893 \nL 302.81388 281.658893 \nL 307.645049 281.658893 \nL 312.476218 281.658893 \nL 317.307386 281.658893 \nL 322.138555 281.658893 \nL 326.969724 281.658893 \nL 331.800893 281.658893 \nL 336.632062 281.658893 \nL 341.463231 281.658893 \nL 346.294399 281.658893 \nL 351.125568 281.658893 \nL 355.956737 281.716255 \nL 360.787906 281.716255 \nL 365.619075 281.716255 \nL 370.450244 281.716255 \nL 375.281412 281.756409 \nL 380.112581 281.756409 \nL 384.94375 281.756409 \nL 389.774919 281.756409 \nL 394.606088 281.756409 \nL 399.437256 281.756409 \nL 404.268425 281.756409 \nL 409.099594 281.756409 \nL 413.930763 281.756409 \nL 418.761932 281.756409 \nL 423.593101 281.756409 \nL 428.424269 281.756409 \nL 433.255438 281.756409 \nL 438.086607 281.762145 \nL 442.917776 281.762145 \nL 447.748945 281.762145 \nL 452.580114 281.762145 \nL 457.411282 281.762145 \nL 462.242451 281.762145 \nL 467.07362 281.762145 \nL 471.904789 281.762145 \nL 476.735958 281.762145 \nL 481.567127 281.762145 \nL 486.398295 281.762145 \nL 491.229464 281.762145 \nL 496.060633 281.762145 \nL 500.891802 281.762145 \nL 505.722971 281.762145 \nL 510.55414 281.762145 \nL 515.385308 281.762145 \nL 520.216477 281.762145 \nL 525.047646 281.762145 \nL 529.878815 281.762145 \nL 534.709984 281.762145 \nL 539.541153 281.762145 \nL 544.372321 281.762145 \nL 549.20349 281.762145 \nL 554.034659 281.762145 \nL 558.865828 281.762145 \nL 563.696997 281.762145 \nL 568.528166 281.762145 \nL 573.359334 281.76358 \nL 578.190503 281.76358 \nL 583.021672 281.76358 \nL 587.852841 281.76358 \nL 592.68401 281.76358 \nL 597.515179 281.76358 \nL 602.346347 281.76358 \nL 607.177516 281.76358 \nL 612.008685 281.76358 \nL 616.839854 281.76358 \nL 621.671023 281.76358 \nL 626.502192 281.76358 \nL 631.33336 281.76358 \nL 636.164529 281.76358 \nL 640.995698 281.76358 \nL 645.826867 281.76358 \nL 650.658036 281.76358 \nL 655.489205 281.76358 \nL 660.320373 281.76358 \nL 665.151542 281.76358 \nL 669.982711 281.76358 \nL 674.81388 281.76358 \nL 679.645049 281.76358 \nL 684.476218 281.76358 \nL 689.307386 281.76358 \n\" style=\"fill:none;stroke:#ff0000;stroke-linecap:round;stroke-width:1.5;\"/>\n   </g>\n   <g id=\"patch_3\">\n    <path d=\"M 50.14375 294.118125 \nL 50.14375 22.318125 \n\" style=\"fill:none;stroke:#ffffff;stroke-linecap:square;stroke-linejoin:miter;stroke-width:0.8;\"/>\n   </g>\n   <g id=\"patch_4\">\n    <path d=\"M 719.74375 294.118125 \nL 719.74375 22.318125 \n\" style=\"fill:none;stroke:#ffffff;stroke-linecap:square;stroke-linejoin:miter;stroke-width:0.8;\"/>\n   </g>\n   <g id=\"patch_5\">\n    <path d=\"M 50.14375 294.118125 \nL 719.74375 294.118125 \n\" style=\"fill:none;stroke:#ffffff;stroke-linecap:square;stroke-linejoin:miter;stroke-width:0.8;\"/>\n   </g>\n   <g id=\"patch_6\">\n    <path d=\"M 50.14375 22.318125 \nL 719.74375 22.318125 \n\" style=\"fill:none;stroke:#ffffff;stroke-linecap:square;stroke-linejoin:miter;stroke-width:0.8;\"/>\n   </g>\n   <g id=\"text_18\">\n    <!-- Plot optimization history -->\n    <defs>\n     <path d=\"M 19.671875 64.796875 \nL 19.671875 37.40625 \nL 32.078125 37.40625 \nQ 38.96875 37.40625 42.71875 40.96875 \nQ 46.484375 44.53125 46.484375 51.125 \nQ 46.484375 57.671875 42.71875 61.234375 \nQ 38.96875 64.796875 32.078125 64.796875 \nz\nM 9.8125 72.90625 \nL 32.078125 72.90625 \nQ 44.34375 72.90625 50.609375 67.359375 \nQ 56.890625 61.8125 56.890625 51.125 \nQ 56.890625 40.328125 50.609375 34.8125 \nQ 44.34375 29.296875 32.078125 29.296875 \nL 19.671875 29.296875 \nL 19.671875 0 \nL 9.8125 0 \nz\n\" id=\"DejaVuSans-80\"/>\n     <path d=\"M 9.421875 75.984375 \nL 18.40625 75.984375 \nL 18.40625 0 \nL 9.421875 0 \nz\n\" id=\"DejaVuSans-108\"/>\n     <path id=\"DejaVuSans-32\"/>\n     <path d=\"M 18.109375 8.203125 \nL 18.109375 -20.796875 \nL 9.078125 -20.796875 \nL 9.078125 54.6875 \nL 18.109375 54.6875 \nL 18.109375 46.390625 \nQ 20.953125 51.265625 25.265625 53.625 \nQ 29.59375 56 35.59375 56 \nQ 45.5625 56 51.78125 48.09375 \nQ 58.015625 40.1875 58.015625 27.296875 \nQ 58.015625 14.40625 51.78125 6.484375 \nQ 45.5625 -1.421875 35.59375 -1.421875 \nQ 29.59375 -1.421875 25.265625 0.953125 \nQ 20.953125 3.328125 18.109375 8.203125 \nz\nM 48.6875 27.296875 \nQ 48.6875 37.203125 44.609375 42.84375 \nQ 40.53125 48.484375 33.40625 48.484375 \nQ 26.265625 48.484375 22.1875 42.84375 \nQ 18.109375 37.203125 18.109375 27.296875 \nQ 18.109375 17.390625 22.1875 11.75 \nQ 26.265625 6.109375 33.40625 6.109375 \nQ 40.53125 6.109375 44.609375 11.75 \nQ 48.6875 17.390625 48.6875 27.296875 \nz\n\" id=\"DejaVuSans-112\"/>\n     <path d=\"M 9.421875 54.6875 \nL 18.40625 54.6875 \nL 18.40625 0 \nL 9.421875 0 \nz\nM 9.421875 75.984375 \nL 18.40625 75.984375 \nL 18.40625 64.59375 \nL 9.421875 64.59375 \nz\n\" id=\"DejaVuSans-105\"/>\n     <path d=\"M 52 44.1875 \nQ 55.375 50.25 60.0625 53.125 \nQ 64.75 56 71.09375 56 \nQ 79.640625 56 84.28125 50.015625 \nQ 88.921875 44.046875 88.921875 33.015625 \nL 88.921875 0 \nL 79.890625 0 \nL 79.890625 32.71875 \nQ 79.890625 40.578125 77.09375 44.375 \nQ 74.3125 48.1875 68.609375 48.1875 \nQ 61.625 48.1875 57.5625 43.546875 \nQ 53.515625 38.921875 53.515625 30.90625 \nL 53.515625 0 \nL 44.484375 0 \nL 44.484375 32.71875 \nQ 44.484375 40.625 41.703125 44.40625 \nQ 38.921875 48.1875 33.109375 48.1875 \nQ 26.21875 48.1875 22.15625 43.53125 \nQ 18.109375 38.875 18.109375 30.90625 \nL 18.109375 0 \nL 9.078125 0 \nL 9.078125 54.6875 \nL 18.109375 54.6875 \nL 18.109375 46.1875 \nQ 21.1875 51.21875 25.484375 53.609375 \nQ 29.78125 56 35.6875 56 \nQ 41.65625 56 45.828125 52.96875 \nQ 50 49.953125 52 44.1875 \nz\n\" id=\"DejaVuSans-109\"/>\n     <path d=\"M 5.515625 54.6875 \nL 48.1875 54.6875 \nL 48.1875 46.484375 \nL 14.40625 7.171875 \nL 48.1875 7.171875 \nL 48.1875 0 \nL 4.296875 0 \nL 4.296875 8.203125 \nL 38.09375 47.515625 \nL 5.515625 47.515625 \nz\n\" id=\"DejaVuSans-122\"/>\n     <path d=\"M 34.28125 27.484375 \nQ 23.390625 27.484375 19.1875 25 \nQ 14.984375 22.515625 14.984375 16.5 \nQ 14.984375 11.71875 18.140625 8.90625 \nQ 21.296875 6.109375 26.703125 6.109375 \nQ 34.1875 6.109375 38.703125 11.40625 \nQ 43.21875 16.703125 43.21875 25.484375 \nL 43.21875 27.484375 \nz\nM 52.203125 31.203125 \nL 52.203125 0 \nL 43.21875 0 \nL 43.21875 8.296875 \nQ 40.140625 3.328125 35.546875 0.953125 \nQ 30.953125 -1.421875 24.3125 -1.421875 \nQ 15.921875 -1.421875 10.953125 3.296875 \nQ 6 8.015625 6 15.921875 \nQ 6 25.140625 12.171875 29.828125 \nQ 18.359375 34.515625 30.609375 34.515625 \nL 43.21875 34.515625 \nL 43.21875 35.40625 \nQ 43.21875 41.609375 39.140625 45 \nQ 35.0625 48.390625 27.6875 48.390625 \nQ 23 48.390625 18.546875 47.265625 \nQ 14.109375 46.140625 10.015625 43.890625 \nL 10.015625 52.203125 \nQ 14.9375 54.109375 19.578125 55.046875 \nQ 24.21875 56 28.609375 56 \nQ 40.484375 56 46.34375 49.84375 \nQ 52.203125 43.703125 52.203125 31.203125 \nz\n\" id=\"DejaVuSans-97\"/>\n     <path d=\"M 54.890625 33.015625 \nL 54.890625 0 \nL 45.90625 0 \nL 45.90625 32.71875 \nQ 45.90625 40.484375 42.875 44.328125 \nQ 39.84375 48.1875 33.796875 48.1875 \nQ 26.515625 48.1875 22.3125 43.546875 \nQ 18.109375 38.921875 18.109375 30.90625 \nL 18.109375 0 \nL 9.078125 0 \nL 9.078125 54.6875 \nL 18.109375 54.6875 \nL 18.109375 46.1875 \nQ 21.34375 51.125 25.703125 53.5625 \nQ 30.078125 56 35.796875 56 \nQ 45.21875 56 50.046875 50.171875 \nQ 54.890625 44.34375 54.890625 33.015625 \nz\n\" id=\"DejaVuSans-110\"/>\n     <path d=\"M 54.890625 33.015625 \nL 54.890625 0 \nL 45.90625 0 \nL 45.90625 32.71875 \nQ 45.90625 40.484375 42.875 44.328125 \nQ 39.84375 48.1875 33.796875 48.1875 \nQ 26.515625 48.1875 22.3125 43.546875 \nQ 18.109375 38.921875 18.109375 30.90625 \nL 18.109375 0 \nL 9.078125 0 \nL 9.078125 75.984375 \nL 18.109375 75.984375 \nL 18.109375 46.1875 \nQ 21.34375 51.125 25.703125 53.5625 \nQ 30.078125 56 35.796875 56 \nQ 45.21875 56 50.046875 50.171875 \nQ 54.890625 44.34375 54.890625 33.015625 \nz\n\" id=\"DejaVuSans-104\"/>\n     <path d=\"M 44.28125 53.078125 \nL 44.28125 44.578125 \nQ 40.484375 46.53125 36.375 47.5 \nQ 32.28125 48.484375 27.875 48.484375 \nQ 21.1875 48.484375 17.84375 46.4375 \nQ 14.5 44.390625 14.5 40.28125 \nQ 14.5 37.15625 16.890625 35.375 \nQ 19.28125 33.59375 26.515625 31.984375 \nL 29.59375 31.296875 \nQ 39.15625 29.25 43.1875 25.515625 \nQ 47.21875 21.78125 47.21875 15.09375 \nQ 47.21875 7.46875 41.1875 3.015625 \nQ 35.15625 -1.421875 24.609375 -1.421875 \nQ 20.21875 -1.421875 15.453125 -0.5625 \nQ 10.6875 0.296875 5.421875 2 \nL 5.421875 11.28125 \nQ 10.40625 8.6875 15.234375 7.390625 \nQ 20.0625 6.109375 24.8125 6.109375 \nQ 31.15625 6.109375 34.5625 8.28125 \nQ 37.984375 10.453125 37.984375 14.40625 \nQ 37.984375 18.0625 35.515625 20.015625 \nQ 33.0625 21.96875 24.703125 23.78125 \nL 21.578125 24.515625 \nQ 13.234375 26.265625 9.515625 29.90625 \nQ 5.8125 33.546875 5.8125 39.890625 \nQ 5.8125 47.609375 11.28125 51.796875 \nQ 16.75 56 26.8125 56 \nQ 31.78125 56 36.171875 55.265625 \nQ 40.578125 54.546875 44.28125 53.078125 \nz\n\" id=\"DejaVuSans-115\"/>\n     <path d=\"M 32.171875 -5.078125 \nQ 28.375 -14.84375 24.75 -17.8125 \nQ 21.140625 -20.796875 15.09375 -20.796875 \nL 7.90625 -20.796875 \nL 7.90625 -13.28125 \nL 13.1875 -13.28125 \nQ 16.890625 -13.28125 18.9375 -11.515625 \nQ 21 -9.765625 23.484375 -3.21875 \nL 25.09375 0.875 \nL 2.984375 54.6875 \nL 12.5 54.6875 \nL 29.59375 11.921875 \nL 46.6875 54.6875 \nL 56.203125 54.6875 \nz\n\" id=\"DejaVuSans-121\"/>\n    </defs>\n    <g style=\"fill:#262626;\" transform=\"translate(311.85625 16.318125)scale(0.12 -0.12)\">\n     <use xlink:href=\"#DejaVuSans-80\"/>\n     <use x=\"60.302734\" xlink:href=\"#DejaVuSans-108\"/>\n     <use x=\"88.085938\" xlink:href=\"#DejaVuSans-111\"/>\n     <use x=\"149.267578\" xlink:href=\"#DejaVuSans-116\"/>\n     <use x=\"188.476562\" xlink:href=\"#DejaVuSans-32\"/>\n     <use x=\"220.263672\" xlink:href=\"#DejaVuSans-111\"/>\n     <use x=\"281.445312\" xlink:href=\"#DejaVuSans-112\"/>\n     <use x=\"344.921875\" xlink:href=\"#DejaVuSans-116\"/>\n     <use x=\"384.130859\" xlink:href=\"#DejaVuSans-105\"/>\n     <use x=\"411.914062\" xlink:href=\"#DejaVuSans-109\"/>\n     <use x=\"509.326172\" xlink:href=\"#DejaVuSans-105\"/>\n     <use x=\"537.109375\" xlink:href=\"#DejaVuSans-122\"/>\n     <use x=\"589.599609\" xlink:href=\"#DejaVuSans-97\"/>\n     <use x=\"650.878906\" xlink:href=\"#DejaVuSans-116\"/>\n     <use x=\"690.087891\" xlink:href=\"#DejaVuSans-105\"/>\n     <use x=\"717.871094\" xlink:href=\"#DejaVuSans-111\"/>\n     <use x=\"779.052734\" xlink:href=\"#DejaVuSans-110\"/>\n     <use x=\"842.431641\" xlink:href=\"#DejaVuSans-32\"/>\n     <use x=\"874.21875\" xlink:href=\"#DejaVuSans-104\"/>\n     <use x=\"937.597656\" xlink:href=\"#DejaVuSans-105\"/>\n     <use x=\"965.380859\" xlink:href=\"#DejaVuSans-115\"/>\n     <use x=\"1017.480469\" xlink:href=\"#DejaVuSans-116\"/>\n     <use x=\"1056.689453\" xlink:href=\"#DejaVuSans-111\"/>\n     <use x=\"1117.871094\" xlink:href=\"#DejaVuSans-114\"/>\n     <use x=\"1158.984375\" xlink:href=\"#DejaVuSans-121\"/>\n    </g>\n   </g>\n   <g id=\"legend_1\">\n    <g id=\"patch_7\">\n     <path d=\"M 627.417188 59.674375 \nL 712.74375 59.674375 \nQ 714.74375 59.674375 714.74375 57.674375 \nL 714.74375 29.318125 \nQ 714.74375 27.318125 712.74375 27.318125 \nL 627.417188 27.318125 \nQ 625.417188 27.318125 625.417188 29.318125 \nL 625.417188 57.674375 \nQ 625.417188 59.674375 627.417188 59.674375 \nz\n\" style=\"fill:#eaeaf2;opacity:0.8;stroke:#cccccc;stroke-linejoin:miter;\"/>\n    </g>\n    <g id=\"line2d_17\">\n     <path d=\"M 629.417188 35.416562 \nL 649.417188 35.416562 \n\" style=\"fill:none;stroke:#ff0000;stroke-linecap:round;stroke-width:1.5;\"/>\n    </g>\n    <g id=\"line2d_18\"/>\n    <g id=\"text_19\">\n     <!-- Best Score -->\n     <defs>\n      <path d=\"M 19.671875 34.8125 \nL 19.671875 8.109375 \nL 35.5 8.109375 \nQ 43.453125 8.109375 47.28125 11.40625 \nQ 51.125 14.703125 51.125 21.484375 \nQ 51.125 28.328125 47.28125 31.5625 \nQ 43.453125 34.8125 35.5 34.8125 \nz\nM 19.671875 64.796875 \nL 19.671875 42.828125 \nL 34.28125 42.828125 \nQ 41.5 42.828125 45.03125 45.53125 \nQ 48.578125 48.25 48.578125 53.8125 \nQ 48.578125 59.328125 45.03125 62.0625 \nQ 41.5 64.796875 34.28125 64.796875 \nz\nM 9.8125 72.90625 \nL 35.015625 72.90625 \nQ 46.296875 72.90625 52.390625 68.21875 \nQ 58.5 63.53125 58.5 54.890625 \nQ 58.5 48.1875 55.375 44.234375 \nQ 52.25 40.28125 46.1875 39.3125 \nQ 53.46875 37.75 57.5 32.78125 \nQ 61.53125 27.828125 61.53125 20.40625 \nQ 61.53125 10.640625 54.890625 5.3125 \nQ 48.25 0 35.984375 0 \nL 9.8125 0 \nz\n\" id=\"DejaVuSans-66\"/>\n     </defs>\n     <g style=\"fill:#262626;\" transform=\"translate(657.417188 38.916562)scale(0.1 -0.1)\">\n      <use xlink:href=\"#DejaVuSans-66\"/>\n      <use x=\"68.603516\" xlink:href=\"#DejaVuSans-101\"/>\n      <use x=\"130.126953\" xlink:href=\"#DejaVuSans-115\"/>\n      <use x=\"182.226562\" xlink:href=\"#DejaVuSans-116\"/>\n      <use x=\"221.435547\" xlink:href=\"#DejaVuSans-32\"/>\n      <use x=\"253.222656\" xlink:href=\"#DejaVuSans-83\"/>\n      <use x=\"316.699219\" xlink:href=\"#DejaVuSans-99\"/>\n      <use x=\"371.679688\" xlink:href=\"#DejaVuSans-111\"/>\n      <use x=\"432.861328\" xlink:href=\"#DejaVuSans-114\"/>\n      <use x=\"471.724609\" xlink:href=\"#DejaVuSans-101\"/>\n     </g>\n    </g>\n    <g id=\"PathCollection_2\">\n     <defs>\n      <path d=\"M 0 2.5 \nC 0.663008 2.5 1.29895 2.236584 1.767767 1.767767 \nC 2.236584 1.29895 2.5 0.663008 2.5 0 \nC 2.5 -0.663008 2.236584 -1.29895 1.767767 -1.767767 \nC 1.29895 -2.236584 0.663008 -2.5 0 -2.5 \nC -0.663008 -2.5 -1.29895 -2.236584 -1.767767 -1.767767 \nC -2.236584 -1.29895 -2.5 -0.663008 -2.5 0 \nC -2.5 0.663008 -2.236584 1.29895 -1.767767 1.767767 \nC -1.29895 2.236584 -0.663008 2.5 0 2.5 \nz\n\" id=\"mde9aead702\" style=\"stroke:#1f77b4;\"/>\n     </defs>\n     <g>\n      <use style=\"fill:#1f77b4;stroke:#1f77b4;\" x=\"639.417188\" xlink:href=\"#mde9aead702\" y=\"50.969688\"/>\n     </g>\n    </g>\n    <g id=\"text_20\">\n     <!-- Iter Score -->\n     <g style=\"fill:#262626;\" transform=\"translate(657.417188 53.594688)scale(0.1 -0.1)\">\n      <use xlink:href=\"#DejaVuSans-73\"/>\n      <use x=\"29.492188\" xlink:href=\"#DejaVuSans-116\"/>\n      <use x=\"68.701172\" xlink:href=\"#DejaVuSans-101\"/>\n      <use x=\"130.224609\" xlink:href=\"#DejaVuSans-114\"/>\n      <use x=\"171.337891\" xlink:href=\"#DejaVuSans-32\"/>\n      <use x=\"203.125\" xlink:href=\"#DejaVuSans-83\"/>\n      <use x=\"266.601562\" xlink:href=\"#DejaVuSans-99\"/>\n      <use x=\"321.582031\" xlink:href=\"#DejaVuSans-111\"/>\n      <use x=\"382.763672\" xlink:href=\"#DejaVuSans-114\"/>\n      <use x=\"421.626953\" xlink:href=\"#DejaVuSans-101\"/>\n     </g>\n    </g>\n   </g>\n  </g>\n  <g id=\"axes_2\">\n   <g id=\"patch_8\">\n    <path clip-path=\"url(#p736ab96df3)\" d=\"M 761.59375 294.118125 \nL 761.59375 293.056406 \nL 761.59375 23.379844 \nL 761.59375 22.318125 \nL 775.18375 22.318125 \nL 775.18375 23.379844 \nL 775.18375 293.056406 \nL 775.18375 294.118125 \nz\n\" style=\"fill:#eaeaf2;stroke:#eaeaf2;stroke-linejoin:miter;stroke-width:0.01;\"/>\n   </g>\n   <g id=\"matplotlib.axis_3\"/>\n   <g id=\"matplotlib.axis_4\">\n    <g id=\"ytick_9\">\n     <g id=\"line2d_19\">\n      <defs>\n       <path d=\"M 0 0 \nL 3.5 0 \n\" id=\"md1947c91c1\" style=\"stroke:#262626;stroke-width:0.8;\"/>\n      </defs>\n      <g>\n       <use style=\"fill:#262626;stroke:#262626;stroke-width:0.8;\" x=\"775.18375\" xlink:href=\"#md1947c91c1\" y=\"271.115429\"/>\n      </g>\n     </g>\n     <g id=\"text_21\">\n      <!-- 2 -->\n      <g style=\"fill:#262626;\" transform=\"translate(782.18375 274.914647)scale(0.1 -0.1)\">\n       <use xlink:href=\"#DejaVuSans-50\"/>\n      </g>\n     </g>\n    </g>\n    <g id=\"ytick_10\">\n     <g id=\"line2d_20\">\n      <g>\n       <use style=\"fill:#262626;stroke:#262626;stroke-width:0.8;\" x=\"775.18375\" xlink:href=\"#md1947c91c1\" y=\"239.565989\"/>\n      </g>\n     </g>\n     <g id=\"text_22\">\n      <!-- 4 -->\n      <g style=\"fill:#262626;\" transform=\"translate(782.18375 243.365208)scale(0.1 -0.1)\">\n       <use xlink:href=\"#DejaVuSans-52\"/>\n      </g>\n     </g>\n    </g>\n    <g id=\"ytick_11\">\n     <g id=\"line2d_21\">\n      <g>\n       <use style=\"fill:#262626;stroke:#262626;stroke-width:0.8;\" x=\"775.18375\" xlink:href=\"#md1947c91c1\" y=\"208.016549\"/>\n      </g>\n     </g>\n     <g id=\"text_23\">\n      <!-- 6 -->\n      <g style=\"fill:#262626;\" transform=\"translate(782.18375 211.815768)scale(0.1 -0.1)\">\n       <use xlink:href=\"#DejaVuSans-54\"/>\n      </g>\n     </g>\n    </g>\n    <g id=\"ytick_12\">\n     <g id=\"line2d_22\">\n      <g>\n       <use style=\"fill:#262626;stroke:#262626;stroke-width:0.8;\" x=\"775.18375\" xlink:href=\"#md1947c91c1\" y=\"176.46711\"/>\n      </g>\n     </g>\n     <g id=\"text_24\">\n      <!-- 8 -->\n      <g style=\"fill:#262626;\" transform=\"translate(782.18375 180.266328)scale(0.1 -0.1)\">\n       <use xlink:href=\"#DejaVuSans-56\"/>\n      </g>\n     </g>\n    </g>\n    <g id=\"ytick_13\">\n     <g id=\"line2d_23\">\n      <g>\n       <use style=\"fill:#262626;stroke:#262626;stroke-width:0.8;\" x=\"775.18375\" xlink:href=\"#md1947c91c1\" y=\"144.91767\"/>\n      </g>\n     </g>\n     <g id=\"text_25\">\n      <!-- 10 -->\n      <g style=\"fill:#262626;\" transform=\"translate(782.18375 148.716889)scale(0.1 -0.1)\">\n       <use xlink:href=\"#DejaVuSans-49\"/>\n       <use x=\"63.623047\" xlink:href=\"#DejaVuSans-48\"/>\n      </g>\n     </g>\n    </g>\n    <g id=\"ytick_14\">\n     <g id=\"line2d_24\">\n      <g>\n       <use style=\"fill:#262626;stroke:#262626;stroke-width:0.8;\" x=\"775.18375\" xlink:href=\"#md1947c91c1\" y=\"113.36823\"/>\n      </g>\n     </g>\n     <g id=\"text_26\">\n      <!-- 12 -->\n      <g style=\"fill:#262626;\" transform=\"translate(782.18375 117.167449)scale(0.1 -0.1)\">\n       <use xlink:href=\"#DejaVuSans-49\"/>\n       <use x=\"63.623047\" xlink:href=\"#DejaVuSans-50\"/>\n      </g>\n     </g>\n    </g>\n    <g id=\"ytick_15\">\n     <g id=\"line2d_25\">\n      <g>\n       <use style=\"fill:#262626;stroke:#262626;stroke-width:0.8;\" x=\"775.18375\" xlink:href=\"#md1947c91c1\" y=\"81.818791\"/>\n      </g>\n     </g>\n     <g id=\"text_27\">\n      <!-- 14 -->\n      <g style=\"fill:#262626;\" transform=\"translate(782.18375 85.618009)scale(0.1 -0.1)\">\n       <use xlink:href=\"#DejaVuSans-49\"/>\n       <use x=\"63.623047\" xlink:href=\"#DejaVuSans-52\"/>\n      </g>\n     </g>\n    </g>\n    <g id=\"ytick_16\">\n     <g id=\"line2d_26\">\n      <g>\n       <use style=\"fill:#262626;stroke:#262626;stroke-width:0.8;\" x=\"775.18375\" xlink:href=\"#md1947c91c1\" y=\"50.269351\"/>\n      </g>\n     </g>\n     <g id=\"text_28\">\n      <!-- 16 -->\n      <g style=\"fill:#262626;\" transform=\"translate(782.18375 54.06857)scale(0.1 -0.1)\">\n       <use xlink:href=\"#DejaVuSans-49\"/>\n       <use x=\"63.623047\" xlink:href=\"#DejaVuSans-54\"/>\n      </g>\n     </g>\n    </g>\n   </g>\n   <image height=\"271\" id=\"imagef305c9e389\" transform=\"scale(1 -1)translate(0 -271)\" width=\"13\" x=\"762\" xlink:href=\"data:image/png;base64,\niVBORw0KGgoAAAANSUhEUgAAAA0AAAEPCAYAAACZVE7DAAAABHNCSVQICAgIfAhkiAAAAXFJREFUaIHtmMENwjAQBM9WyqIGiqatkJgHooCbx2iJkv9pb8e7NmI8nq9VzW8bc3RnahtjgiGkNIHStDz1J0oFgZSmeLjR2ZsI+dBAXPJw+0OshOyOyE4EvPe87EVXA4GIR96eYUriSyjGiNDzEgFBtGfcarRn1GowEJISLSEYYtljyMGQlz3thjXXY8gtJXhZIqX+ECxhNnIvRvHrtf9i+QN6wFP64Vbfk9lcLXtsPUAvvk/hnrLXQ/TIOcESMnoWCJiI/pfuKVwJllADYQ3RlzDZkzp0giFEb2meFvF0K/2UtBKG02OBBUqFlLLpiZ6IUjElCzlZj5bQouclwlTSAntaIERPN/Kqos31SghBhK+nBfb0lK4HYllKYgmXd06aEvMUnQh6uNY5LS0RzJP2GxatFx5YMUYavfDAiiCilehLmOxJVYpe7zyi17uRf7/0l9DMnuaJrOd5YkpH9uEi5G+itEtKsLnWetvaQSI05B8qKFgGsp4WGwAAAABJRU5ErkJggg==\" y=\"-22\"/>\n   <g id=\"patch_9\">\n    <path d=\"M 761.59375 294.118125 \nL 761.59375 293.056406 \nL 761.59375 23.379844 \nL 761.59375 22.318125 \nL 775.18375 22.318125 \nL 775.18375 23.379844 \nL 775.18375 293.056406 \nL 775.18375 294.118125 \nz\n\" style=\"fill:none;stroke:#ffffff;stroke-linejoin:miter;stroke-width:0.8;\"/>\n   </g>\n  </g>\n </g>\n <defs>\n  <clipPath id=\"p2ddafe30c5\">\n   <rect height=\"271.8\" width=\"669.6\" x=\"50.14375\" y=\"22.318125\"/>\n  </clipPath>\n  <clipPath id=\"p736ab96df3\">\n   <rect height=\"271.8\" width=\"13.59\" x=\"761.59375\" y=\"22.318125\"/>\n  </clipPath>\n </defs>\n</svg>\n",
            "image/png": "[encoded data removed]"
          },
          "metadata": {}
        }
      ]
    },
    {
      "cell_type": "code",
      "metadata": {
        "id": "mZ2YyUhibV6N",
        "colab_type": "code",
        "colab": {
          "base_uri": "https://localhost:8080/",
          "height": 542
        },
        "outputId": "2462b282-ec55-4cff-cebc-8769772d5261"
      },
      "source": [
        "model.plot_opt_params_parallel_coordinate()"
      ],
      "execution_count": 37,
      "outputs": [
        {
          "output_type": "error",
          "ename": "ValueError",
          "evalue": "Mime type rendering requires nbformat>=4.2.0 but it is not installed",
          "traceback": [
            "\u001b[0;31m---------------------------------------------------------------------------\u001b[0m",
            "\u001b[0;31mValueError\u001b[0m                                Traceback (most recent call last)",
            "\u001b[0;32m~/anaconda3/envs/ds/lib/python3.8/site-packages/IPython/core/formatters.py\u001b[0m in \u001b[0;36m__call__\u001b[0;34m(self, obj)\u001b[0m\n\u001b[1;32m    916\u001b[0m             \u001b[0mmethod\u001b[0m \u001b[0;34m=\u001b[0m \u001b[0mget_real_method\u001b[0m\u001b[0;34m(\u001b[0m\u001b[0mobj\u001b[0m\u001b[0;34m,\u001b[0m \u001b[0mself\u001b[0m\u001b[0;34m.\u001b[0m\u001b[0mprint_method\u001b[0m\u001b[0;34m)\u001b[0m\u001b[0;34m\u001b[0m\u001b[0;34m\u001b[0m\u001b[0m\n\u001b[1;32m    917\u001b[0m             \u001b[0;32mif\u001b[0m \u001b[0mmethod\u001b[0m \u001b[0;32mis\u001b[0m \u001b[0;32mnot\u001b[0m \u001b[0;32mNone\u001b[0m\u001b[0;34m:\u001b[0m\u001b[0;34m\u001b[0m\u001b[0;34m\u001b[0m\u001b[0m\n\u001b[0;32m--> 918\u001b[0;31m                 \u001b[0mmethod\u001b[0m\u001b[0;34m(\u001b[0m\u001b[0;34m)\u001b[0m\u001b[0;34m\u001b[0m\u001b[0;34m\u001b[0m\u001b[0m\n\u001b[0m\u001b[1;32m    919\u001b[0m                 \u001b[0;32mreturn\u001b[0m \u001b[0;32mTrue\u001b[0m\u001b[0;34m\u001b[0m\u001b[0;34m\u001b[0m\u001b[0m\n\u001b[1;32m    920\u001b[0m \u001b[0;34m\u001b[0m\u001b[0m\n",
            "\u001b[0;32m~/anaconda3/envs/ds/lib/python3.8/site-packages/plotly/basedatatypes.py\u001b[0m in \u001b[0;36m_ipython_display_\u001b[0;34m(self)\u001b[0m\n\u001b[1;32m    458\u001b[0m \u001b[0;34m\u001b[0m\u001b[0m\n\u001b[1;32m    459\u001b[0m         \u001b[0;32mif\u001b[0m \u001b[0mpio\u001b[0m\u001b[0;34m.\u001b[0m\u001b[0mrenderers\u001b[0m\u001b[0;34m.\u001b[0m\u001b[0mrender_on_display\u001b[0m \u001b[0;32mand\u001b[0m \u001b[0mpio\u001b[0m\u001b[0;34m.\u001b[0m\u001b[0mrenderers\u001b[0m\u001b[0;34m.\u001b[0m\u001b[0mdefault\u001b[0m\u001b[0;34m:\u001b[0m\u001b[0;34m\u001b[0m\u001b[0;34m\u001b[0m\u001b[0m\n\u001b[0;32m--> 460\u001b[0;31m             \u001b[0mpio\u001b[0m\u001b[0;34m.\u001b[0m\u001b[0mshow\u001b[0m\u001b[0;34m(\u001b[0m\u001b[0mself\u001b[0m\u001b[0;34m)\u001b[0m\u001b[0;34m\u001b[0m\u001b[0;34m\u001b[0m\u001b[0m\n\u001b[0m\u001b[1;32m    461\u001b[0m         \u001b[0;32melse\u001b[0m\u001b[0;34m:\u001b[0m\u001b[0;34m\u001b[0m\u001b[0;34m\u001b[0m\u001b[0m\n\u001b[1;32m    462\u001b[0m             \u001b[0mprint\u001b[0m\u001b[0;34m(\u001b[0m\u001b[0mrepr\u001b[0m\u001b[0;34m(\u001b[0m\u001b[0mself\u001b[0m\u001b[0;34m)\u001b[0m\u001b[0;34m)\u001b[0m\u001b[0;34m\u001b[0m\u001b[0;34m\u001b[0m\u001b[0m\n",
            "\u001b[0;32m~/anaconda3/envs/ds/lib/python3.8/site-packages/plotly/io/_renderers.py\u001b[0m in \u001b[0;36mshow\u001b[0;34m(fig, renderer, validate, **kwargs)\u001b[0m\n\u001b[1;32m    383\u001b[0m \u001b[0;34m\u001b[0m\u001b[0m\n\u001b[1;32m    384\u001b[0m         \u001b[0;32mif\u001b[0m \u001b[0;32mnot\u001b[0m \u001b[0mnbformat\u001b[0m \u001b[0;32mor\u001b[0m \u001b[0mLooseVersion\u001b[0m\u001b[0;34m(\u001b[0m\u001b[0mnbformat\u001b[0m\u001b[0;34m.\u001b[0m\u001b[0m__version__\u001b[0m\u001b[0;34m)\u001b[0m \u001b[0;34m<\u001b[0m \u001b[0mLooseVersion\u001b[0m\u001b[0;34m(\u001b[0m\u001b[0;34m\"4.2.0\"\u001b[0m\u001b[0;34m)\u001b[0m\u001b[0;34m:\u001b[0m\u001b[0;34m\u001b[0m\u001b[0;34m\u001b[0m\u001b[0m\n\u001b[0;32m--> 385\u001b[0;31m             raise ValueError(\n\u001b[0m\u001b[1;32m    386\u001b[0m                 \u001b[0;34m\"Mime type rendering requires nbformat>=4.2.0 but it is not installed\"\u001b[0m\u001b[0;34m\u001b[0m\u001b[0;34m\u001b[0m\u001b[0m\n\u001b[1;32m    387\u001b[0m             )\n",
            "\u001b[0;31mValueError\u001b[0m: Mime type rendering requires nbformat>=4.2.0 but it is not installed"
          ]
        }
      ]
    },
    {
      "cell_type": "code",
      "metadata": {
        "id": "STj1slnHbV6O",
        "colab_type": "code",
        "colab": {
          "base_uri": "https://localhost:8080/",
          "height": 562
        },
        "outputId": "688ce8d6-8389-452b-8b91-fbc4ff591bec"
      },
      "source": [
        "model.plot_opt_params_slice()"
      ],
      "execution_count": 38,
      "outputs": [
        {
          "output_type": "error",
          "ename": "ValueError",
          "evalue": "Mime type rendering requires nbformat>=4.2.0 but it is not installed",
          "traceback": [
            "\u001b[0;31m---------------------------------------------------------------------------\u001b[0m",
            "\u001b[0;31mValueError\u001b[0m                                Traceback (most recent call last)",
            "\u001b[0;32m~/anaconda3/envs/ds/lib/python3.8/site-packages/IPython/core/formatters.py\u001b[0m in \u001b[0;36m__call__\u001b[0;34m(self, obj)\u001b[0m\n\u001b[1;32m    916\u001b[0m             \u001b[0mmethod\u001b[0m \u001b[0;34m=\u001b[0m \u001b[0mget_real_method\u001b[0m\u001b[0;34m(\u001b[0m\u001b[0mobj\u001b[0m\u001b[0;34m,\u001b[0m \u001b[0mself\u001b[0m\u001b[0;34m.\u001b[0m\u001b[0mprint_method\u001b[0m\u001b[0;34m)\u001b[0m\u001b[0;34m\u001b[0m\u001b[0;34m\u001b[0m\u001b[0m\n\u001b[1;32m    917\u001b[0m             \u001b[0;32mif\u001b[0m \u001b[0mmethod\u001b[0m \u001b[0;32mis\u001b[0m \u001b[0;32mnot\u001b[0m \u001b[0;32mNone\u001b[0m\u001b[0;34m:\u001b[0m\u001b[0;34m\u001b[0m\u001b[0;34m\u001b[0m\u001b[0m\n\u001b[0;32m--> 918\u001b[0;31m                 \u001b[0mmethod\u001b[0m\u001b[0;34m(\u001b[0m\u001b[0;34m)\u001b[0m\u001b[0;34m\u001b[0m\u001b[0;34m\u001b[0m\u001b[0m\n\u001b[0m\u001b[1;32m    919\u001b[0m                 \u001b[0;32mreturn\u001b[0m \u001b[0;32mTrue\u001b[0m\u001b[0;34m\u001b[0m\u001b[0;34m\u001b[0m\u001b[0m\n\u001b[1;32m    920\u001b[0m \u001b[0;34m\u001b[0m\u001b[0m\n",
            "\u001b[0;32m~/anaconda3/envs/ds/lib/python3.8/site-packages/plotly/basedatatypes.py\u001b[0m in \u001b[0;36m_ipython_display_\u001b[0;34m(self)\u001b[0m\n\u001b[1;32m    458\u001b[0m \u001b[0;34m\u001b[0m\u001b[0m\n\u001b[1;32m    459\u001b[0m         \u001b[0;32mif\u001b[0m \u001b[0mpio\u001b[0m\u001b[0;34m.\u001b[0m\u001b[0mrenderers\u001b[0m\u001b[0;34m.\u001b[0m\u001b[0mrender_on_display\u001b[0m \u001b[0;32mand\u001b[0m \u001b[0mpio\u001b[0m\u001b[0;34m.\u001b[0m\u001b[0mrenderers\u001b[0m\u001b[0;34m.\u001b[0m\u001b[0mdefault\u001b[0m\u001b[0;34m:\u001b[0m\u001b[0;34m\u001b[0m\u001b[0;34m\u001b[0m\u001b[0m\n\u001b[0;32m--> 460\u001b[0;31m             \u001b[0mpio\u001b[0m\u001b[0;34m.\u001b[0m\u001b[0mshow\u001b[0m\u001b[0;34m(\u001b[0m\u001b[0mself\u001b[0m\u001b[0;34m)\u001b[0m\u001b[0;34m\u001b[0m\u001b[0;34m\u001b[0m\u001b[0m\n\u001b[0m\u001b[1;32m    461\u001b[0m         \u001b[0;32melse\u001b[0m\u001b[0;34m:\u001b[0m\u001b[0;34m\u001b[0m\u001b[0;34m\u001b[0m\u001b[0m\n\u001b[1;32m    462\u001b[0m             \u001b[0mprint\u001b[0m\u001b[0;34m(\u001b[0m\u001b[0mrepr\u001b[0m\u001b[0;34m(\u001b[0m\u001b[0mself\u001b[0m\u001b[0;34m)\u001b[0m\u001b[0;34m)\u001b[0m\u001b[0;34m\u001b[0m\u001b[0;34m\u001b[0m\u001b[0m\n",
            "\u001b[0;32m~/anaconda3/envs/ds/lib/python3.8/site-packages/plotly/io/_renderers.py\u001b[0m in \u001b[0;36mshow\u001b[0;34m(fig, renderer, validate, **kwargs)\u001b[0m\n\u001b[1;32m    383\u001b[0m \u001b[0;34m\u001b[0m\u001b[0m\n\u001b[1;32m    384\u001b[0m         \u001b[0;32mif\u001b[0m \u001b[0;32mnot\u001b[0m \u001b[0mnbformat\u001b[0m \u001b[0;32mor\u001b[0m \u001b[0mLooseVersion\u001b[0m\u001b[0;34m(\u001b[0m\u001b[0mnbformat\u001b[0m\u001b[0;34m.\u001b[0m\u001b[0m__version__\u001b[0m\u001b[0;34m)\u001b[0m \u001b[0;34m<\u001b[0m \u001b[0mLooseVersion\u001b[0m\u001b[0;34m(\u001b[0m\u001b[0;34m\"4.2.0\"\u001b[0m\u001b[0;34m)\u001b[0m\u001b[0;34m:\u001b[0m\u001b[0;34m\u001b[0m\u001b[0;34m\u001b[0m\u001b[0m\n\u001b[0;32m--> 385\u001b[0;31m             raise ValueError(\n\u001b[0m\u001b[1;32m    386\u001b[0m                 \u001b[0;34m\"Mime type rendering requires nbformat>=4.2.0 but it is not installed\"\u001b[0m\u001b[0;34m\u001b[0m\u001b[0;34m\u001b[0m\u001b[0m\n\u001b[1;32m    387\u001b[0m             )\n",
            "\u001b[0;31mValueError\u001b[0m: Mime type rendering requires nbformat>=4.2.0 but it is not installed"
          ]
        }
      ]
    },
    {
      "cell_type": "markdown",
      "metadata": {
        "colab": {},
        "colab_type": "code",
        "id": "NsnNnlEisGAs"
      },
      "source": [
        "## Predict from configs"
      ]
    },
    {
      "cell_type": "code",
      "execution_count": 39,
      "metadata": {},
      "outputs": [
        {
          "output_type": "execute_result",
          "data": {
            "text/plain": "    score_opt  model_score  score_std model_name  \\\n95     0.5491       0.5040   0.045104   LightGBM   \n64     0.5427       0.5057   0.036989   LightGBM   \n61     0.5423       0.5069   0.035360   LightGBM   \n63     0.5445       0.5072   0.037347   LightGBM   \n72     0.5439       0.5073   0.036585   LightGBM   \n\n                                          model_param  \\\n95  {'random_seed': 42, 'early_stopping_rounds': 5...   \n64  {'random_seed': 42, 'early_stopping_rounds': 5...   \n61  {'random_seed': 42, 'early_stopping_rounds': 5...   \n63  {'random_seed': 42, 'early_stopping_rounds': 5...   \n72  {'random_seed': 42, 'early_stopping_rounds': 5...   \n\n               wrapper_params     cat_encoder  cv_folds  \n95  {'early_stopping': False}  HelmertEncoder        10  \n64  {'early_stopping': False}  HelmertEncoder        10  \n61  {'early_stopping': False}  HelmertEncoder        10  \n63  {'early_stopping': False}  HelmertEncoder        10  \n72  {'early_stopping': False}  HelmertEncoder        10  ",
            "text/html": "<div>\n<style scoped>\n    .dataframe tbody tr th:only-of-type {\n        vertical-align: middle;\n    }\n\n    .dataframe tbody tr th {\n        vertical-align: top;\n    }\n\n    .dataframe thead th {\n        text-align: right;\n    }\n</style>\n<table border=\"1\" class=\"dataframe\">\n  <thead>\n    <tr style=\"text-align: right;\">\n      <th></th>\n      <th>score_opt</th>\n      <th>model_score</th>\n      <th>score_std</th>\n      <th>model_name</th>\n      <th>model_param</th>\n      <th>wrapper_params</th>\n      <th>cat_encoder</th>\n      <th>cv_folds</th>\n    </tr>\n  </thead>\n  <tbody>\n    <tr>\n      <th>95</th>\n      <td>0.5491</td>\n      <td>0.5040</td>\n      <td>0.045104</td>\n      <td>LightGBM</td>\n      <td>{'random_seed': 42, 'early_stopping_rounds': 5...</td>\n      <td>{'early_stopping': False}</td>\n      <td>HelmertEncoder</td>\n      <td>10</td>\n    </tr>\n    <tr>\n      <th>64</th>\n      <td>0.5427</td>\n      <td>0.5057</td>\n      <td>0.036989</td>\n      <td>LightGBM</td>\n      <td>{'random_seed': 42, 'early_stopping_rounds': 5...</td>\n      <td>{'early_stopping': False}</td>\n      <td>HelmertEncoder</td>\n      <td>10</td>\n    </tr>\n    <tr>\n      <th>61</th>\n      <td>0.5423</td>\n      <td>0.5069</td>\n      <td>0.035360</td>\n      <td>LightGBM</td>\n      <td>{'random_seed': 42, 'early_stopping_rounds': 5...</td>\n      <td>{'early_stopping': False}</td>\n      <td>HelmertEncoder</td>\n      <td>10</td>\n    </tr>\n    <tr>\n      <th>63</th>\n      <td>0.5445</td>\n      <td>0.5072</td>\n      <td>0.037347</td>\n      <td>LightGBM</td>\n      <td>{'random_seed': 42, 'early_stopping_rounds': 5...</td>\n      <td>{'early_stopping': False}</td>\n      <td>HelmertEncoder</td>\n      <td>10</td>\n    </tr>\n    <tr>\n      <th>72</th>\n      <td>0.5439</td>\n      <td>0.5073</td>\n      <td>0.036585</td>\n      <td>LightGBM</td>\n      <td>{'random_seed': 42, 'early_stopping_rounds': 5...</td>\n      <td>{'early_stopping': False}</td>\n      <td>HelmertEncoder</td>\n      <td>10</td>\n    </tr>\n  </tbody>\n</table>\n</div>"
          },
          "metadata": {},
          "execution_count": 39
        }
      ],
      "source": [
        "top5_models = history.drop_duplicates(subset=['model_score', 'score_std'], keep='last').head(5)\n",
        "top5_models"
      ]
    },
    {
      "cell_type": "code",
      "execution_count": 40,
      "metadata": {
        "tags": []
      },
      "outputs": [
        {
          "output_type": "stream",
          "name": "stderr",
          "text": "20%|██        | 1/5 [01:06<04:27, 66.92s/it]\n Mean Score log_loss on 30 Folds: 0.5202 std: 0.039194\n 40%|████      | 2/5 [03:09<04:10, 83.62s/it]\n Mean Score log_loss on 30 Folds: 0.5165 std: 0.035452\n 60%|██████    | 3/5 [05:13<03:11, 95.76s/it]\n Mean Score log_loss on 30 Folds: 0.515 std: 0.03492\n 80%|████████  | 4/5 [07:32<01:48, 108.65s/it]\n Mean Score log_loss on 30 Folds: 0.5165 std: 0.035391\n100%|██████████| 5/5 [09:53<00:00, 118.76s/it]\n Mean Score log_loss on 30 Folds: 0.5169 std: 0.035409\n\n"
        },
        {
          "output_type": "execute_result",
          "data": {
            "text/plain": "    model_name                                       predict_test  \\\n0  95_LightGBM  [0.27826247233847146, 0.47976300729147486, 0.6...   \n1  64_LightGBM  [0.29513339637007996, 0.4629449690199839, 0.60...   \n2  61_LightGBM  [0.29319277434194063, 0.4675029464165053, 0.60...   \n3  63_LightGBM  [0.2945734996872709, 0.46274574850027594, 0.60...   \n4  72_LightGBM  [0.2943662652541284, 0.4617172686778405, 0.606...   \n\n                                       predict_train  \n0  [0.2183101555826162, 0.1873353397020997, 0.416...  \n1  [0.24071482335910258, 0.21203365981785852, 0.4...  \n2  [0.2285726705357364, 0.20167532757232523, 0.40...  \n3  [0.23836694397853905, 0.21012967264312174, 0.4...  \n4  [0.2360554425690539, 0.21020157197635478, 0.40...  ",
            "text/html": "<div>\n<style scoped>\n    .dataframe tbody tr th:only-of-type {\n        vertical-align: middle;\n    }\n\n    .dataframe tbody tr th {\n        vertical-align: top;\n    }\n\n    .dataframe thead th {\n        text-align: right;\n    }\n</style>\n<table border=\"1\" class=\"dataframe\">\n  <thead>\n    <tr style=\"text-align: right;\">\n      <th></th>\n      <th>model_name</th>\n      <th>predict_test</th>\n      <th>predict_train</th>\n    </tr>\n  </thead>\n  <tbody>\n    <tr>\n      <th>0</th>\n      <td>95_LightGBM</td>\n      <td>[0.27826247233847146, 0.47976300729147486, 0.6...</td>\n      <td>[0.2183101555826162, 0.1873353397020997, 0.416...</td>\n    </tr>\n    <tr>\n      <th>1</th>\n      <td>64_LightGBM</td>\n      <td>[0.29513339637007996, 0.4629449690199839, 0.60...</td>\n      <td>[0.24071482335910258, 0.21203365981785852, 0.4...</td>\n    </tr>\n    <tr>\n      <th>2</th>\n      <td>61_LightGBM</td>\n      <td>[0.29319277434194063, 0.4675029464165053, 0.60...</td>\n      <td>[0.2285726705357364, 0.20167532757232523, 0.40...</td>\n    </tr>\n    <tr>\n      <th>3</th>\n      <td>63_LightGBM</td>\n      <td>[0.2945734996872709, 0.46274574850027594, 0.60...</td>\n      <td>[0.23836694397853905, 0.21012967264312174, 0.4...</td>\n    </tr>\n    <tr>\n      <th>4</th>\n      <td>72_LightGBM</td>\n      <td>[0.2943662652541284, 0.4617172686778405, 0.606...</td>\n      <td>[0.2360554425690539, 0.21020157197635478, 0.40...</td>\n    </tr>\n  </tbody>\n</table>\n</div>"
          },
          "metadata": {},
          "execution_count": 40
        }
      ],
      "source": [
        "predicts = model.predict(models_cfgs=top5_models)\n",
        "predicts"
      ]
    },
    {
      "cell_type": "code",
      "execution_count": 41,
      "metadata": {
        "tags": []
      },
      "outputs": [
        {
          "output_type": "stream",
          "name": "stdout",
          "text": "Test metric:  0.4879\n"
        }
      ],
      "source": [
        "print('Test metric: ', round(sklearn.metrics.log_loss(y_test, predicts['predict_test'].mean()),4))"
      ]
    },
    {
      "cell_type": "code",
      "execution_count": null,
      "metadata": {},
      "outputs": [],
      "source": []
    },
    {
      "cell_type": "code",
      "execution_count": null,
      "metadata": {},
      "outputs": [],
      "source": []
    }
  ],
  "metadata": {
    "kernelspec": {
      "display_name": "Python 3.8.3 64-bit ('ds': conda)",
      "language": "python",
      "name": "python38364bitdscondadc8f49c0681c4f8d9aaeec09a1cf65fe"
    },
    "language_info": {
      "codemirror_mode": {
        "name": "ipython",
        "version": 3
      },
      "file_extension": ".py",
      "mimetype": "text/x-python",
      "name": "python",
      "nbconvert_exporter": "python",
      "pygments_lexer": "ipython3",
      "version": "3.8.3-final"
    },
    "toc": {
      "base_numbering": 1,
      "nav_menu": {},
      "number_sections": false,
      "sideBar": true,
      "skip_h1_title": false,
      "title_cell": "Table of Contents",
      "title_sidebar": "Contents",
      "toc_cell": false,
      "toc_position": {
        "height": "calc(100% - 180px)",
        "left": "10px",
        "top": "150px",
        "width": "165px"
      },
      "toc_section_display": true,
      "toc_window_display": true
    },
    "colab": {
      "name": "02. Models v1.ipynb",
      "provenance": [],
      "collapsed_sections": [
        "SvXrBLljbV6F",
        "IbtbRVMebV6F",
        "D9xT9cTgbV6F",
        "apIHobyxbV6F",
        "tl8zhvjVbV6G"
      ]
    }
  },
  "nbformat": 4,
  "nbformat_minor": 0
}